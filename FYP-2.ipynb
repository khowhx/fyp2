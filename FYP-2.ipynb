{
 "cells": [
  {
   "cell_type": "code",
   "execution_count": 2,
   "id": "aff8f08e",
   "metadata": {},
   "outputs": [
    {
     "name": "stdout",
     "output_type": "stream",
     "text": [
      "sys.version_info(major=3, minor=10, micro=10, releaselevel='final', serial=0)\n",
      "1.1.1\n"
     ]
    }
   ],
   "source": [
    "# To show the python version\n",
    "import sys\n",
    "assert sys.version_info >= (3,8)\n",
    "print(sys.version_info)\n",
    "\n",
    "# to show all the output from a code chunk\n",
    "from IPython.core.interactiveshell import InteractiveShell\n",
    "InteractiveShell.ast_node_interactivity = \"all\"\n",
    "\n",
    "# matplotlib for plotting\n",
    "from matplotlib import pyplot as plt\n",
    "%matplotlib inline\n",
    "\n",
    "# Other external libraries like pandas and numpy\n",
    "import pandas as pd\n",
    "import numpy as np\n",
    "np.random.seed(999)\n",
    "\n",
    "# machine learning models\n",
    "import sklearn\n",
    "print(sklearn.__version__)\n",
    "\n",
    "#import others\n",
    "from sklearn.metrics import confusion_matrix\n",
    "from sklearn import model_selection, datasets\n",
    "from sklearn.tree import DecisionTreeClassifier\n",
    "import joblib\n",
    "import pickle\n",
    "import seaborn as sns\n",
    "\n",
    "from sklearn.model_selection import RandomizedSearchCV\n",
    "from sklearn.model_selection import GridSearchCV"
   ]
  },
  {
   "cell_type": "code",
   "execution_count": 3,
   "id": "06ebe2e9",
   "metadata": {},
   "outputs": [
    {
     "data": {
      "text/html": [
       "<div>\n",
       "<style scoped>\n",
       "    .dataframe tbody tr th:only-of-type {\n",
       "        vertical-align: middle;\n",
       "    }\n",
       "\n",
       "    .dataframe tbody tr th {\n",
       "        vertical-align: top;\n",
       "    }\n",
       "\n",
       "    .dataframe thead th {\n",
       "        text-align: right;\n",
       "    }\n",
       "</style>\n",
       "<table border=\"1\" class=\"dataframe\">\n",
       "  <thead>\n",
       "    <tr style=\"text-align: right;\">\n",
       "      <th></th>\n",
       "      <th>(duration,)</th>\n",
       "      <th>(src_bytes,)</th>\n",
       "      <th>(dst_bytes,)</th>\n",
       "      <th>(land,)</th>\n",
       "      <th>(wrong_fragment,)</th>\n",
       "      <th>(urgent,)</th>\n",
       "      <th>(hot,)</th>\n",
       "      <th>(num_failed_logins,)</th>\n",
       "      <th>(logged_in,)</th>\n",
       "      <th>(num_compromised,)</th>\n",
       "      <th>...</th>\n",
       "      <th>service_time</th>\n",
       "      <th>service_urh_i</th>\n",
       "      <th>service_urp_i</th>\n",
       "      <th>service_uucp</th>\n",
       "      <th>service_uucp_path</th>\n",
       "      <th>service_vmnet</th>\n",
       "      <th>service_whois</th>\n",
       "      <th>protocol_type_icmp</th>\n",
       "      <th>protocol_type_tcp</th>\n",
       "      <th>protocol_type_udp</th>\n",
       "    </tr>\n",
       "  </thead>\n",
       "  <tbody>\n",
       "    <tr>\n",
       "      <th>0</th>\n",
       "      <td>-0.110249</td>\n",
       "      <td>-0.007679</td>\n",
       "      <td>-0.004919</td>\n",
       "      <td>-0.014089</td>\n",
       "      <td>-0.089486</td>\n",
       "      <td>-0.007736</td>\n",
       "      <td>-0.095076</td>\n",
       "      <td>-0.027023</td>\n",
       "      <td>-0.809262</td>\n",
       "      <td>-0.011664</td>\n",
       "      <td>...</td>\n",
       "      <td>0</td>\n",
       "      <td>0</td>\n",
       "      <td>0</td>\n",
       "      <td>0</td>\n",
       "      <td>0</td>\n",
       "      <td>0</td>\n",
       "      <td>0</td>\n",
       "      <td>0</td>\n",
       "      <td>1</td>\n",
       "      <td>0</td>\n",
       "    </tr>\n",
       "    <tr>\n",
       "      <th>1</th>\n",
       "      <td>-0.110249</td>\n",
       "      <td>-0.007737</td>\n",
       "      <td>-0.004919</td>\n",
       "      <td>-0.014089</td>\n",
       "      <td>-0.089486</td>\n",
       "      <td>-0.007736</td>\n",
       "      <td>-0.095076</td>\n",
       "      <td>-0.027023</td>\n",
       "      <td>-0.809262</td>\n",
       "      <td>-0.011664</td>\n",
       "      <td>...</td>\n",
       "      <td>0</td>\n",
       "      <td>0</td>\n",
       "      <td>0</td>\n",
       "      <td>0</td>\n",
       "      <td>0</td>\n",
       "      <td>0</td>\n",
       "      <td>0</td>\n",
       "      <td>0</td>\n",
       "      <td>0</td>\n",
       "      <td>1</td>\n",
       "    </tr>\n",
       "    <tr>\n",
       "      <th>2</th>\n",
       "      <td>-0.110249</td>\n",
       "      <td>-0.007762</td>\n",
       "      <td>-0.004919</td>\n",
       "      <td>-0.014089</td>\n",
       "      <td>-0.089486</td>\n",
       "      <td>-0.007736</td>\n",
       "      <td>-0.095076</td>\n",
       "      <td>-0.027023</td>\n",
       "      <td>-0.809262</td>\n",
       "      <td>-0.011664</td>\n",
       "      <td>...</td>\n",
       "      <td>0</td>\n",
       "      <td>0</td>\n",
       "      <td>0</td>\n",
       "      <td>0</td>\n",
       "      <td>0</td>\n",
       "      <td>0</td>\n",
       "      <td>0</td>\n",
       "      <td>0</td>\n",
       "      <td>1</td>\n",
       "      <td>0</td>\n",
       "    </tr>\n",
       "    <tr>\n",
       "      <th>3</th>\n",
       "      <td>-0.110249</td>\n",
       "      <td>-0.007723</td>\n",
       "      <td>-0.002891</td>\n",
       "      <td>-0.014089</td>\n",
       "      <td>-0.089486</td>\n",
       "      <td>-0.007736</td>\n",
       "      <td>-0.095076</td>\n",
       "      <td>-0.027023</td>\n",
       "      <td>1.235694</td>\n",
       "      <td>-0.011664</td>\n",
       "      <td>...</td>\n",
       "      <td>0</td>\n",
       "      <td>0</td>\n",
       "      <td>0</td>\n",
       "      <td>0</td>\n",
       "      <td>0</td>\n",
       "      <td>0</td>\n",
       "      <td>0</td>\n",
       "      <td>0</td>\n",
       "      <td>1</td>\n",
       "      <td>0</td>\n",
       "    </tr>\n",
       "    <tr>\n",
       "      <th>4</th>\n",
       "      <td>-0.110249</td>\n",
       "      <td>-0.007728</td>\n",
       "      <td>-0.004814</td>\n",
       "      <td>-0.014089</td>\n",
       "      <td>-0.089486</td>\n",
       "      <td>-0.007736</td>\n",
       "      <td>-0.095076</td>\n",
       "      <td>-0.027023</td>\n",
       "      <td>1.235694</td>\n",
       "      <td>-0.011664</td>\n",
       "      <td>...</td>\n",
       "      <td>0</td>\n",
       "      <td>0</td>\n",
       "      <td>0</td>\n",
       "      <td>0</td>\n",
       "      <td>0</td>\n",
       "      <td>0</td>\n",
       "      <td>0</td>\n",
       "      <td>0</td>\n",
       "      <td>1</td>\n",
       "      <td>0</td>\n",
       "    </tr>\n",
       "  </tbody>\n",
       "</table>\n",
       "<p>5 rows × 122 columns</p>\n",
       "</div>"
      ],
      "text/plain": [
       "   (duration,)  (src_bytes,)  (dst_bytes,)   (land,)  (wrong_fragment,)  \\\n",
       "0    -0.110249     -0.007679     -0.004919 -0.014089          -0.089486   \n",
       "1    -0.110249     -0.007737     -0.004919 -0.014089          -0.089486   \n",
       "2    -0.110249     -0.007762     -0.004919 -0.014089          -0.089486   \n",
       "3    -0.110249     -0.007723     -0.002891 -0.014089          -0.089486   \n",
       "4    -0.110249     -0.007728     -0.004814 -0.014089          -0.089486   \n",
       "\n",
       "   (urgent,)    (hot,)  (num_failed_logins,)  (logged_in,)  \\\n",
       "0  -0.007736 -0.095076             -0.027023     -0.809262   \n",
       "1  -0.007736 -0.095076             -0.027023     -0.809262   \n",
       "2  -0.007736 -0.095076             -0.027023     -0.809262   \n",
       "3  -0.007736 -0.095076             -0.027023      1.235694   \n",
       "4  -0.007736 -0.095076             -0.027023      1.235694   \n",
       "\n",
       "   (num_compromised,)  ...  service_time  service_urh_i  service_urp_i  \\\n",
       "0           -0.011664  ...             0              0              0   \n",
       "1           -0.011664  ...             0              0              0   \n",
       "2           -0.011664  ...             0              0              0   \n",
       "3           -0.011664  ...             0              0              0   \n",
       "4           -0.011664  ...             0              0              0   \n",
       "\n",
       "   service_uucp  service_uucp_path  service_vmnet  service_whois  \\\n",
       "0             0                  0              0              0   \n",
       "1             0                  0              0              0   \n",
       "2             0                  0              0              0   \n",
       "3             0                  0              0              0   \n",
       "4             0                  0              0              0   \n",
       "\n",
       "   protocol_type_icmp  protocol_type_tcp  protocol_type_udp  \n",
       "0                   0                  1                  0  \n",
       "1                   0                  0                  1  \n",
       "2                   0                  1                  0  \n",
       "3                   0                  1                  0  \n",
       "4                   0                  1                  0  \n",
       "\n",
       "[5 rows x 122 columns]"
      ]
     },
     "execution_count": 3,
     "metadata": {},
     "output_type": "execute_result"
    },
    {
     "data": {
      "text/html": [
       "<div>\n",
       "<style scoped>\n",
       "    .dataframe tbody tr th:only-of-type {\n",
       "        vertical-align: middle;\n",
       "    }\n",
       "\n",
       "    .dataframe tbody tr th {\n",
       "        vertical-align: top;\n",
       "    }\n",
       "\n",
       "    .dataframe thead th {\n",
       "        text-align: right;\n",
       "    }\n",
       "</style>\n",
       "<table border=\"1\" class=\"dataframe\">\n",
       "  <thead>\n",
       "    <tr style=\"text-align: right;\">\n",
       "      <th></th>\n",
       "      <th>(duration,)</th>\n",
       "      <th>(src_bytes,)</th>\n",
       "      <th>(dst_bytes,)</th>\n",
       "      <th>(land,)</th>\n",
       "      <th>(wrong_fragment,)</th>\n",
       "      <th>(urgent,)</th>\n",
       "      <th>(hot,)</th>\n",
       "      <th>(num_failed_logins,)</th>\n",
       "      <th>(logged_in,)</th>\n",
       "      <th>(num_compromised,)</th>\n",
       "      <th>...</th>\n",
       "      <th>service_time</th>\n",
       "      <th>service_urh_i</th>\n",
       "      <th>service_urp_i</th>\n",
       "      <th>service_uucp</th>\n",
       "      <th>service_uucp_path</th>\n",
       "      <th>service_vmnet</th>\n",
       "      <th>service_whois</th>\n",
       "      <th>protocol_type_icmp</th>\n",
       "      <th>protocol_type_tcp</th>\n",
       "      <th>protocol_type_udp</th>\n",
       "    </tr>\n",
       "  </thead>\n",
       "  <tbody>\n",
       "    <tr>\n",
       "      <th>0</th>\n",
       "      <td>-0.110249</td>\n",
       "      <td>-0.007679</td>\n",
       "      <td>-0.004919</td>\n",
       "      <td>-0.014089</td>\n",
       "      <td>-0.089486</td>\n",
       "      <td>-0.007736</td>\n",
       "      <td>-0.095076</td>\n",
       "      <td>-0.027023</td>\n",
       "      <td>-0.809262</td>\n",
       "      <td>-0.011664</td>\n",
       "      <td>...</td>\n",
       "      <td>0</td>\n",
       "      <td>0</td>\n",
       "      <td>0</td>\n",
       "      <td>0</td>\n",
       "      <td>0</td>\n",
       "      <td>0</td>\n",
       "      <td>0</td>\n",
       "      <td>0</td>\n",
       "      <td>1</td>\n",
       "      <td>0</td>\n",
       "    </tr>\n",
       "    <tr>\n",
       "      <th>1</th>\n",
       "      <td>-0.110249</td>\n",
       "      <td>-0.007737</td>\n",
       "      <td>-0.004919</td>\n",
       "      <td>-0.014089</td>\n",
       "      <td>-0.089486</td>\n",
       "      <td>-0.007736</td>\n",
       "      <td>-0.095076</td>\n",
       "      <td>-0.027023</td>\n",
       "      <td>-0.809262</td>\n",
       "      <td>-0.011664</td>\n",
       "      <td>...</td>\n",
       "      <td>0</td>\n",
       "      <td>0</td>\n",
       "      <td>0</td>\n",
       "      <td>0</td>\n",
       "      <td>0</td>\n",
       "      <td>0</td>\n",
       "      <td>0</td>\n",
       "      <td>0</td>\n",
       "      <td>0</td>\n",
       "      <td>1</td>\n",
       "    </tr>\n",
       "    <tr>\n",
       "      <th>2</th>\n",
       "      <td>-0.110249</td>\n",
       "      <td>-0.007762</td>\n",
       "      <td>-0.004919</td>\n",
       "      <td>-0.014089</td>\n",
       "      <td>-0.089486</td>\n",
       "      <td>-0.007736</td>\n",
       "      <td>-0.095076</td>\n",
       "      <td>-0.027023</td>\n",
       "      <td>-0.809262</td>\n",
       "      <td>-0.011664</td>\n",
       "      <td>...</td>\n",
       "      <td>0</td>\n",
       "      <td>0</td>\n",
       "      <td>0</td>\n",
       "      <td>0</td>\n",
       "      <td>0</td>\n",
       "      <td>0</td>\n",
       "      <td>0</td>\n",
       "      <td>0</td>\n",
       "      <td>1</td>\n",
       "      <td>0</td>\n",
       "    </tr>\n",
       "    <tr>\n",
       "      <th>3</th>\n",
       "      <td>-0.110249</td>\n",
       "      <td>-0.007723</td>\n",
       "      <td>-0.002891</td>\n",
       "      <td>-0.014089</td>\n",
       "      <td>-0.089486</td>\n",
       "      <td>-0.007736</td>\n",
       "      <td>-0.095076</td>\n",
       "      <td>-0.027023</td>\n",
       "      <td>1.235694</td>\n",
       "      <td>-0.011664</td>\n",
       "      <td>...</td>\n",
       "      <td>0</td>\n",
       "      <td>0</td>\n",
       "      <td>0</td>\n",
       "      <td>0</td>\n",
       "      <td>0</td>\n",
       "      <td>0</td>\n",
       "      <td>0</td>\n",
       "      <td>0</td>\n",
       "      <td>1</td>\n",
       "      <td>0</td>\n",
       "    </tr>\n",
       "    <tr>\n",
       "      <th>4</th>\n",
       "      <td>-0.110249</td>\n",
       "      <td>-0.007728</td>\n",
       "      <td>-0.004814</td>\n",
       "      <td>-0.014089</td>\n",
       "      <td>-0.089486</td>\n",
       "      <td>-0.007736</td>\n",
       "      <td>-0.095076</td>\n",
       "      <td>-0.027023</td>\n",
       "      <td>1.235694</td>\n",
       "      <td>-0.011664</td>\n",
       "      <td>...</td>\n",
       "      <td>0</td>\n",
       "      <td>0</td>\n",
       "      <td>0</td>\n",
       "      <td>0</td>\n",
       "      <td>0</td>\n",
       "      <td>0</td>\n",
       "      <td>0</td>\n",
       "      <td>0</td>\n",
       "      <td>1</td>\n",
       "      <td>0</td>\n",
       "    </tr>\n",
       "  </tbody>\n",
       "</table>\n",
       "<p>5 rows × 122 columns</p>\n",
       "</div>"
      ],
      "text/plain": [
       "   (duration,)  (src_bytes,)  (dst_bytes,)   (land,)  (wrong_fragment,)  \\\n",
       "0    -0.110249     -0.007679     -0.004919 -0.014089          -0.089486   \n",
       "1    -0.110249     -0.007737     -0.004919 -0.014089          -0.089486   \n",
       "2    -0.110249     -0.007762     -0.004919 -0.014089          -0.089486   \n",
       "3    -0.110249     -0.007723     -0.002891 -0.014089          -0.089486   \n",
       "4    -0.110249     -0.007728     -0.004814 -0.014089          -0.089486   \n",
       "\n",
       "   (urgent,)    (hot,)  (num_failed_logins,)  (logged_in,)  \\\n",
       "0  -0.007736 -0.095076             -0.027023     -0.809262   \n",
       "1  -0.007736 -0.095076             -0.027023     -0.809262   \n",
       "2  -0.007736 -0.095076             -0.027023     -0.809262   \n",
       "3  -0.007736 -0.095076             -0.027023      1.235694   \n",
       "4  -0.007736 -0.095076             -0.027023      1.235694   \n",
       "\n",
       "   (num_compromised,)  ...  service_time  service_urh_i  service_urp_i  \\\n",
       "0           -0.011664  ...             0              0              0   \n",
       "1           -0.011664  ...             0              0              0   \n",
       "2           -0.011664  ...             0              0              0   \n",
       "3           -0.011664  ...             0              0              0   \n",
       "4           -0.011664  ...             0              0              0   \n",
       "\n",
       "   service_uucp  service_uucp_path  service_vmnet  service_whois  \\\n",
       "0             0                  0              0              0   \n",
       "1             0                  0              0              0   \n",
       "2             0                  0              0              0   \n",
       "3             0                  0              0              0   \n",
       "4             0                  0              0              0   \n",
       "\n",
       "   protocol_type_icmp  protocol_type_tcp  protocol_type_udp  \n",
       "0                   0                  1                  0  \n",
       "1                   0                  0                  1  \n",
       "2                   0                  1                  0  \n",
       "3                   0                  1                  0  \n",
       "4                   0                  1                  0  \n",
       "\n",
       "[5 rows x 122 columns]"
      ]
     },
     "execution_count": 3,
     "metadata": {},
     "output_type": "execute_result"
    },
    {
     "data": {
      "text/plain": [
       "(125973, 122)"
      ]
     },
     "execution_count": 3,
     "metadata": {},
     "output_type": "execute_result"
    }
   ],
   "source": [
    "from scipy.io import arff\n",
    "# Load the arff file\n",
    "header_info = arff.loadarff(\"Dataset/KDDTrain+.arff\")\n",
    "df = pd.DataFrame(header_info[0])\n",
    "header_names = df.columns.values.tolist()\n",
    "header_names.append('Difficulty')\n",
    "kdd_train = pd.read_csv('Dataset/KDDTrain+.txt', delimiter = ',', header = None)\n",
    "\n",
    "#Rename the headers\n",
    "kdd_train.columns = header_names\n",
    "#Drop the target variables\n",
    "kdd_train_x = kdd_train.drop(['class', 'Difficulty'], axis = 1)\n",
    "y = ['class']\n",
    "kdd_train_y = kdd_train[y]\n",
    "\n",
    "#Identify categorical features\n",
    "num_cols = kdd_train_x._get_numeric_data().columns\n",
    "cate_cols = list(set(kdd_train_x.columns) - set(num_cols))\n",
    "\n",
    "from sklearn.preprocessing import StandardScaler\n",
    "std = StandardScaler()\n",
    "\n",
    "#One-Hot Encoding the categorical features\n",
    "cate_features = pd.get_dummies(kdd_train_x[cate_cols], prefix = cate_cols)\n",
    "one_hot_data = kdd_train_x.drop(cate_cols, axis = 1)\n",
    "#Standard Scaler on numeric data\n",
    "std_fit = std.fit(one_hot_data)\n",
    "array_ss = std_fit.transform(one_hot_data)\n",
    "one_hot_data_ss = pd.DataFrame(array_ss,columns=[num_cols])\n",
    "one_hot_data_maha = pd.concat([one_hot_data_ss, cate_features], axis = 1)\n",
    "one_hot_data_if = one_hot_data_maha\n",
    "one_hot_data_if.head()\n",
    "one_hot_data_maha.head()\n",
    "data_array = np.array(one_hot_data_maha)\n",
    "data_array.shape    # Make sure that the Numpy array dimension is consistent with the Pandas Dataframe\n",
    "# function to calculate mahalanobis distance"
   ]
  },
  {
   "cell_type": "code",
   "execution_count": 4,
   "id": "287a957b",
   "metadata": {},
   "outputs": [
    {
     "name": "stderr",
     "output_type": "stream",
     "text": [
      "C:\\Users\\khxia\\AppData\\Local\\Temp\\ipykernel_4716\\3533821117.py:24: SettingWithCopyWarning: \n",
      "A value is trying to be set on a copy of a slice from a DataFrame.\n",
      "Try using .loc[row_indexer,col_indexer] = value instead\n",
      "\n",
      "See the caveats in the documentation: https://pandas.pydata.org/pandas-docs/stable/user_guide/indexing.html#returning-a-view-versus-a-copy\n",
      "  kdd_train_y[\"class_binary\"] = kdd_train_y[\"class\"].map(label_map)\n"
     ]
    }
   ],
   "source": [
    "label_map = {\"normal\": 0,\n",
    "            \"neptune\": 1,\n",
    "            \"satan\": 1,\n",
    "            \"ipsweep\": 1,\n",
    "            \"portsweep\": 1,\n",
    "            \"smurf\": 1,\n",
    "            \"nmap\": 1,\n",
    "            \"back\": 1,\n",
    "            \"teardrop\": 1,\n",
    "            \"warezclient\": 1,\n",
    "            \"pod\": 1,\n",
    "            \"guess_passwd\": 1,\n",
    "            \"buffer_overflow\": 1,\n",
    "            \"warezmaster\": 1,\n",
    "            \"land\": 1,\n",
    "            \"imap\": 1,\n",
    "            \"rootkit\": 1,\n",
    "            \"loadmodule\": 1,\n",
    "            \"ftp_write\": 1,\n",
    "            \"multihop\": 1,\n",
    "            \"phf\": 1,\n",
    "            \"perl\": 1, \n",
    "            \"spy\": 1}\n",
    "kdd_train_y[\"class_binary\"] = kdd_train_y[\"class\"].map(label_map)"
   ]
  },
  {
   "cell_type": "markdown",
   "id": "e3687c42",
   "metadata": {},
   "source": [
    "# PCA"
   ]
  },
  {
   "cell_type": "code",
   "execution_count": 5,
   "id": "58d75b54",
   "metadata": {},
   "outputs": [],
   "source": [
    "from sklearn.decomposition import PCA\n",
    "one_hot_data_pca = one_hot_data_maha\n",
    "#Keep 85% of variance\n",
    "model_pca = PCA(n_components=0.85,whiten = True)"
   ]
  },
  {
   "cell_type": "code",
   "execution_count": 6,
   "id": "38bda7c9",
   "metadata": {},
   "outputs": [
    {
     "name": "stderr",
     "output_type": "stream",
     "text": [
      "C:\\WINDOWS\\system32\\myenv\\lib\\site-packages\\sklearn\\utils\\validation.py:1858: FutureWarning: Feature names only support names that are all strings. Got feature names with dtypes: ['str', 'tuple']. An error will be raised in 1.2.\n",
      "  warnings.warn(\n"
     ]
    }
   ],
   "source": [
    "data_pca = model_pca.fit_transform(one_hot_data_maha)"
   ]
  },
  {
   "cell_type": "code",
   "execution_count": 7,
   "id": "32aa62b8",
   "metadata": {},
   "outputs": [
    {
     "name": "stdout",
     "output_type": "stream",
     "text": [
      "(125973, 18)\n"
     ]
    }
   ],
   "source": [
    "print(data_pca.shape)"
   ]
  },
  {
   "cell_type": "code",
   "execution_count": 8,
   "id": "90f7430a",
   "metadata": {},
   "outputs": [],
   "source": [
    "model_pca = PCA(n_components=18,whiten=True)"
   ]
  },
  {
   "cell_type": "code",
   "execution_count": 9,
   "id": "08e1f8ad",
   "metadata": {},
   "outputs": [
    {
     "name": "stderr",
     "output_type": "stream",
     "text": [
      "C:\\WINDOWS\\system32\\myenv\\lib\\site-packages\\sklearn\\utils\\validation.py:1858: FutureWarning: Feature names only support names that are all strings. Got feature names with dtypes: ['str', 'tuple']. An error will be raised in 1.2.\n",
      "  warnings.warn(\n"
     ]
    },
    {
     "name": "stdout",
     "output_type": "stream",
     "text": [
      "(125973, 18)\n"
     ]
    }
   ],
   "source": [
    "data_pca = model_pca.fit_transform(one_hot_data_maha)\n",
    "print(data_pca.shape)"
   ]
  },
  {
   "cell_type": "code",
   "execution_count": 10,
   "id": "090b43d0",
   "metadata": {},
   "outputs": [
    {
     "name": "stdout",
     "output_type": "stream",
     "text": [
      "['Variable 0', 'Variable 1', 'Variable 2', 'Variable 3', 'Variable 4', 'Variable 5', 'Variable 6', 'Variable 7', 'Variable 8', 'Variable 9', 'Variable 10', 'Variable 11', 'Variable 12', 'Variable 13', 'Variable 14', 'Variable 15', 'Variable 16', 'Variable 17']\n"
     ]
    }
   ],
   "source": [
    "new_header =['Variable '+str(i) for i in range(model_pca.n_components)]\n",
    "\n",
    "    \n",
    "print(new_header)"
   ]
  },
  {
   "cell_type": "code",
   "execution_count": 11,
   "id": "7c25506b",
   "metadata": {},
   "outputs": [],
   "source": [
    "data_pca = pd.DataFrame(data_pca,columns=new_header)"
   ]
  },
  {
   "cell_type": "code",
   "execution_count": 12,
   "id": "fdda3f78",
   "metadata": {},
   "outputs": [
    {
     "data": {
      "text/html": [
       "<div>\n",
       "<style scoped>\n",
       "    .dataframe tbody tr th:only-of-type {\n",
       "        vertical-align: middle;\n",
       "    }\n",
       "\n",
       "    .dataframe tbody tr th {\n",
       "        vertical-align: top;\n",
       "    }\n",
       "\n",
       "    .dataframe thead th {\n",
       "        text-align: right;\n",
       "    }\n",
       "</style>\n",
       "<table border=\"1\" class=\"dataframe\">\n",
       "  <thead>\n",
       "    <tr style=\"text-align: right;\">\n",
       "      <th></th>\n",
       "      <th>Variable 0</th>\n",
       "      <th>Variable 1</th>\n",
       "      <th>Variable 2</th>\n",
       "      <th>Variable 3</th>\n",
       "      <th>Variable 4</th>\n",
       "      <th>Variable 5</th>\n",
       "      <th>Variable 6</th>\n",
       "      <th>Variable 7</th>\n",
       "      <th>Variable 8</th>\n",
       "      <th>Variable 9</th>\n",
       "      <th>Variable 10</th>\n",
       "      <th>Variable 11</th>\n",
       "      <th>Variable 12</th>\n",
       "      <th>Variable 13</th>\n",
       "      <th>Variable 14</th>\n",
       "      <th>Variable 15</th>\n",
       "      <th>Variable 16</th>\n",
       "      <th>Variable 17</th>\n",
       "    </tr>\n",
       "  </thead>\n",
       "  <tbody>\n",
       "    <tr>\n",
       "      <th>0</th>\n",
       "      <td>-0.271817</td>\n",
       "      <td>-0.031828</td>\n",
       "      <td>-0.007912</td>\n",
       "      <td>-0.057513</td>\n",
       "      <td>-0.242414</td>\n",
       "      <td>0.177061</td>\n",
       "      <td>-0.356098</td>\n",
       "      <td>0.408227</td>\n",
       "      <td>0.040140</td>\n",
       "      <td>0.127188</td>\n",
       "      <td>-0.285534</td>\n",
       "      <td>0.055629</td>\n",
       "      <td>-0.009528</td>\n",
       "      <td>-0.000921</td>\n",
       "      <td>-0.079052</td>\n",
       "      <td>0.017701</td>\n",
       "      <td>-0.207684</td>\n",
       "      <td>-0.037550</td>\n",
       "    </tr>\n",
       "    <tr>\n",
       "      <th>1</th>\n",
       "      <td>0.172646</td>\n",
       "      <td>0.493701</td>\n",
       "      <td>0.004511</td>\n",
       "      <td>-0.797855</td>\n",
       "      <td>-0.794042</td>\n",
       "      <td>1.396152</td>\n",
       "      <td>-1.419616</td>\n",
       "      <td>1.811977</td>\n",
       "      <td>-0.912516</td>\n",
       "      <td>0.028659</td>\n",
       "      <td>0.569644</td>\n",
       "      <td>-0.127919</td>\n",
       "      <td>-0.004297</td>\n",
       "      <td>-0.064668</td>\n",
       "      <td>0.004130</td>\n",
       "      <td>0.001129</td>\n",
       "      <td>-0.341776</td>\n",
       "      <td>-0.085989</td>\n",
       "    </tr>\n",
       "    <tr>\n",
       "      <th>2</th>\n",
       "      <td>1.415630</td>\n",
       "      <td>-0.666276</td>\n",
       "      <td>0.012028</td>\n",
       "      <td>-0.028397</td>\n",
       "      <td>-0.176457</td>\n",
       "      <td>-0.336949</td>\n",
       "      <td>0.050862</td>\n",
       "      <td>-0.047344</td>\n",
       "      <td>0.161204</td>\n",
       "      <td>0.009213</td>\n",
       "      <td>-0.124781</td>\n",
       "      <td>-0.009631</td>\n",
       "      <td>0.008085</td>\n",
       "      <td>-0.003133</td>\n",
       "      <td>-0.059858</td>\n",
       "      <td>-0.013193</td>\n",
       "      <td>-0.080470</td>\n",
       "      <td>0.029880</td>\n",
       "    </tr>\n",
       "    <tr>\n",
       "      <th>3</th>\n",
       "      <td>-0.904705</td>\n",
       "      <td>-0.465462</td>\n",
       "      <td>-0.041510</td>\n",
       "      <td>0.310598</td>\n",
       "      <td>0.131189</td>\n",
       "      <td>-0.845985</td>\n",
       "      <td>0.027314</td>\n",
       "      <td>0.064318</td>\n",
       "      <td>0.051117</td>\n",
       "      <td>0.009948</td>\n",
       "      <td>0.092111</td>\n",
       "      <td>-0.021523</td>\n",
       "      <td>0.007263</td>\n",
       "      <td>-0.009806</td>\n",
       "      <td>0.033161</td>\n",
       "      <td>0.013664</td>\n",
       "      <td>-0.103778</td>\n",
       "      <td>0.018513</td>\n",
       "    </tr>\n",
       "    <tr>\n",
       "      <th>4</th>\n",
       "      <td>-0.829569</td>\n",
       "      <td>-0.395406</td>\n",
       "      <td>-0.070325</td>\n",
       "      <td>0.588581</td>\n",
       "      <td>0.832244</td>\n",
       "      <td>-0.290599</td>\n",
       "      <td>-0.145859</td>\n",
       "      <td>0.193485</td>\n",
       "      <td>0.064853</td>\n",
       "      <td>-0.023984</td>\n",
       "      <td>0.119906</td>\n",
       "      <td>-0.047381</td>\n",
       "      <td>0.016348</td>\n",
       "      <td>-0.003166</td>\n",
       "      <td>0.159157</td>\n",
       "      <td>-0.028782</td>\n",
       "      <td>-0.083734</td>\n",
       "      <td>0.048326</td>\n",
       "    </tr>\n",
       "    <tr>\n",
       "      <th>...</th>\n",
       "      <td>...</td>\n",
       "      <td>...</td>\n",
       "      <td>...</td>\n",
       "      <td>...</td>\n",
       "      <td>...</td>\n",
       "      <td>...</td>\n",
       "      <td>...</td>\n",
       "      <td>...</td>\n",
       "      <td>...</td>\n",
       "      <td>...</td>\n",
       "      <td>...</td>\n",
       "      <td>...</td>\n",
       "      <td>...</td>\n",
       "      <td>...</td>\n",
       "      <td>...</td>\n",
       "      <td>...</td>\n",
       "      <td>...</td>\n",
       "      <td>...</td>\n",
       "    </tr>\n",
       "    <tr>\n",
       "      <th>125968</th>\n",
       "      <td>1.432927</td>\n",
       "      <td>-0.660116</td>\n",
       "      <td>0.000861</td>\n",
       "      <td>-0.084748</td>\n",
       "      <td>-0.018008</td>\n",
       "      <td>-0.098311</td>\n",
       "      <td>0.132670</td>\n",
       "      <td>-0.176171</td>\n",
       "      <td>0.182332</td>\n",
       "      <td>-0.003734</td>\n",
       "      <td>-0.055354</td>\n",
       "      <td>-0.001648</td>\n",
       "      <td>0.009074</td>\n",
       "      <td>0.000511</td>\n",
       "      <td>-0.054493</td>\n",
       "      <td>-0.018848</td>\n",
       "      <td>-0.062677</td>\n",
       "      <td>0.028316</td>\n",
       "    </tr>\n",
       "    <tr>\n",
       "      <th>125969</th>\n",
       "      <td>-0.579312</td>\n",
       "      <td>-0.249285</td>\n",
       "      <td>-0.087692</td>\n",
       "      <td>0.143873</td>\n",
       "      <td>0.675707</td>\n",
       "      <td>0.262857</td>\n",
       "      <td>-0.190347</td>\n",
       "      <td>0.254548</td>\n",
       "      <td>0.112605</td>\n",
       "      <td>0.077046</td>\n",
       "      <td>-0.290206</td>\n",
       "      <td>-0.045165</td>\n",
       "      <td>0.000928</td>\n",
       "      <td>0.001936</td>\n",
       "      <td>0.079307</td>\n",
       "      <td>-0.009461</td>\n",
       "      <td>-0.129304</td>\n",
       "      <td>0.007653</td>\n",
       "    </tr>\n",
       "    <tr>\n",
       "      <th>125970</th>\n",
       "      <td>-0.158302</td>\n",
       "      <td>-0.281355</td>\n",
       "      <td>0.027747</td>\n",
       "      <td>0.556133</td>\n",
       "      <td>0.016130</td>\n",
       "      <td>-0.276330</td>\n",
       "      <td>-0.602401</td>\n",
       "      <td>0.657009</td>\n",
       "      <td>0.010411</td>\n",
       "      <td>0.078127</td>\n",
       "      <td>-0.140609</td>\n",
       "      <td>0.028435</td>\n",
       "      <td>0.007675</td>\n",
       "      <td>0.005715</td>\n",
       "      <td>0.077233</td>\n",
       "      <td>-0.026985</td>\n",
       "      <td>-0.180274</td>\n",
       "      <td>0.006412</td>\n",
       "    </tr>\n",
       "    <tr>\n",
       "      <th>125971</th>\n",
       "      <td>1.437126</td>\n",
       "      <td>-0.668559</td>\n",
       "      <td>0.014501</td>\n",
       "      <td>-0.037322</td>\n",
       "      <td>-0.168116</td>\n",
       "      <td>-0.276398</td>\n",
       "      <td>0.092508</td>\n",
       "      <td>-0.121098</td>\n",
       "      <td>0.193052</td>\n",
       "      <td>0.007075</td>\n",
       "      <td>-0.083911</td>\n",
       "      <td>0.005162</td>\n",
       "      <td>0.009751</td>\n",
       "      <td>-0.000684</td>\n",
       "      <td>-0.072523</td>\n",
       "      <td>-0.020053</td>\n",
       "      <td>-0.087085</td>\n",
       "      <td>0.026570</td>\n",
       "    </tr>\n",
       "    <tr>\n",
       "      <th>125972</th>\n",
       "      <td>-0.476780</td>\n",
       "      <td>-0.179868</td>\n",
       "      <td>0.002340</td>\n",
       "      <td>0.331980</td>\n",
       "      <td>0.022216</td>\n",
       "      <td>0.004449</td>\n",
       "      <td>-0.614960</td>\n",
       "      <td>0.670339</td>\n",
       "      <td>0.043591</td>\n",
       "      <td>0.062158</td>\n",
       "      <td>-0.050715</td>\n",
       "      <td>0.030010</td>\n",
       "      <td>0.012279</td>\n",
       "      <td>-0.009343</td>\n",
       "      <td>0.047965</td>\n",
       "      <td>-0.021187</td>\n",
       "      <td>-0.323173</td>\n",
       "      <td>0.020262</td>\n",
       "    </tr>\n",
       "  </tbody>\n",
       "</table>\n",
       "<p>125973 rows × 18 columns</p>\n",
       "</div>"
      ],
      "text/plain": [
       "        Variable 0  Variable 1  Variable 2  Variable 3  Variable 4  \\\n",
       "0        -0.271817   -0.031828   -0.007912   -0.057513   -0.242414   \n",
       "1         0.172646    0.493701    0.004511   -0.797855   -0.794042   \n",
       "2         1.415630   -0.666276    0.012028   -0.028397   -0.176457   \n",
       "3        -0.904705   -0.465462   -0.041510    0.310598    0.131189   \n",
       "4        -0.829569   -0.395406   -0.070325    0.588581    0.832244   \n",
       "...            ...         ...         ...         ...         ...   \n",
       "125968    1.432927   -0.660116    0.000861   -0.084748   -0.018008   \n",
       "125969   -0.579312   -0.249285   -0.087692    0.143873    0.675707   \n",
       "125970   -0.158302   -0.281355    0.027747    0.556133    0.016130   \n",
       "125971    1.437126   -0.668559    0.014501   -0.037322   -0.168116   \n",
       "125972   -0.476780   -0.179868    0.002340    0.331980    0.022216   \n",
       "\n",
       "        Variable 5  Variable 6  Variable 7  Variable 8  Variable 9  \\\n",
       "0         0.177061   -0.356098    0.408227    0.040140    0.127188   \n",
       "1         1.396152   -1.419616    1.811977   -0.912516    0.028659   \n",
       "2        -0.336949    0.050862   -0.047344    0.161204    0.009213   \n",
       "3        -0.845985    0.027314    0.064318    0.051117    0.009948   \n",
       "4        -0.290599   -0.145859    0.193485    0.064853   -0.023984   \n",
       "...            ...         ...         ...         ...         ...   \n",
       "125968   -0.098311    0.132670   -0.176171    0.182332   -0.003734   \n",
       "125969    0.262857   -0.190347    0.254548    0.112605    0.077046   \n",
       "125970   -0.276330   -0.602401    0.657009    0.010411    0.078127   \n",
       "125971   -0.276398    0.092508   -0.121098    0.193052    0.007075   \n",
       "125972    0.004449   -0.614960    0.670339    0.043591    0.062158   \n",
       "\n",
       "        Variable 10  Variable 11  Variable 12  Variable 13  Variable 14  \\\n",
       "0         -0.285534     0.055629    -0.009528    -0.000921    -0.079052   \n",
       "1          0.569644    -0.127919    -0.004297    -0.064668     0.004130   \n",
       "2         -0.124781    -0.009631     0.008085    -0.003133    -0.059858   \n",
       "3          0.092111    -0.021523     0.007263    -0.009806     0.033161   \n",
       "4          0.119906    -0.047381     0.016348    -0.003166     0.159157   \n",
       "...             ...          ...          ...          ...          ...   \n",
       "125968    -0.055354    -0.001648     0.009074     0.000511    -0.054493   \n",
       "125969    -0.290206    -0.045165     0.000928     0.001936     0.079307   \n",
       "125970    -0.140609     0.028435     0.007675     0.005715     0.077233   \n",
       "125971    -0.083911     0.005162     0.009751    -0.000684    -0.072523   \n",
       "125972    -0.050715     0.030010     0.012279    -0.009343     0.047965   \n",
       "\n",
       "        Variable 15  Variable 16  Variable 17  \n",
       "0          0.017701    -0.207684    -0.037550  \n",
       "1          0.001129    -0.341776    -0.085989  \n",
       "2         -0.013193    -0.080470     0.029880  \n",
       "3          0.013664    -0.103778     0.018513  \n",
       "4         -0.028782    -0.083734     0.048326  \n",
       "...             ...          ...          ...  \n",
       "125968    -0.018848    -0.062677     0.028316  \n",
       "125969    -0.009461    -0.129304     0.007653  \n",
       "125970    -0.026985    -0.180274     0.006412  \n",
       "125971    -0.020053    -0.087085     0.026570  \n",
       "125972    -0.021187    -0.323173     0.020262  \n",
       "\n",
       "[125973 rows x 18 columns]"
      ]
     },
     "execution_count": 12,
     "metadata": {},
     "output_type": "execute_result"
    }
   ],
   "source": [
    "data_pca"
   ]
  },
  {
   "cell_type": "code",
   "execution_count": 13,
   "id": "b9c3425f",
   "metadata": {},
   "outputs": [],
   "source": [
    "data_array = np.array(data_pca)"
   ]
  },
  {
   "cell_type": "markdown",
   "id": "30b4e7b8",
   "metadata": {},
   "source": [
    "# Mahalanobis With PCA"
   ]
  },
  {
   "cell_type": "code",
   "execution_count": 14,
   "id": "3ff85c1f",
   "metadata": {},
   "outputs": [
    {
     "name": "stderr",
     "output_type": "stream",
     "text": [
      "C:\\WINDOWS\\system32\\myenv\\lib\\site-packages\\numpy\\core\\fromnumeric.py:3430: FutureWarning: In a future version, DataFrame.mean(axis=None) will return a scalar mean over the entire DataFrame. To retain the old behavior, use 'frame.mean(axis=0)' or just 'frame.mean()'\n",
      "  return mean(axis=axis, dtype=dtype, out=out, **kwargs)\n"
     ]
    },
    {
     "data": {
      "text/plain": [
       "(duration,)           2.549477e-17\n",
       "(src_bytes,)         -4.512349e-19\n",
       "(dst_bytes,)          7.614590e-19\n",
       "(land,)              -4.794371e-18\n",
       "(wrong_fragment,)     4.230328e-19\n",
       "                          ...     \n",
       "service_vmnet         4.897875e-03\n",
       "service_whois         5.501179e-03\n",
       "protocol_type_icmp    6.581569e-02\n",
       "protocol_type_tcp     8.151667e-01\n",
       "protocol_type_udp     1.190176e-01\n",
       "Length: 122, dtype: float64"
      ]
     },
     "execution_count": 14,
     "metadata": {},
     "output_type": "execute_result"
    },
    {
     "name": "stdout",
     "output_type": "stream",
     "text": [
      "3086\n"
     ]
    }
   ],
   "source": [
    "#Use new PCA data for Mahalanobis Distance\n",
    "import scipy as sp\n",
    "mu_vec = np.mean(data_array,axis = 0)\n",
    "inv_cormat = sp.linalg.pinv(np.cov(data_array, rowvar=False))\n",
    "\n",
    "# For loop to get the distance for all the variables\n",
    "mahal_dist = []\n",
    "\n",
    "for i in range(data_array.shape[0]):\n",
    "    x_minus_mu = data_array[i,:] - mu_vec\n",
    "    left_term = np.dot(x_minus_mu, inv_cormat)\n",
    "    mahal = np.dot(left_term, x_minus_mu.T)\n",
    "    mahal = np.sqrt(mahal)\n",
    "    mahal_dist.append(mahal)\n",
    "\n",
    "np.mean(one_hot_data_maha)\n",
    "\n",
    "from scipy.stats import chi2\n",
    "one_hot_data_maha['p-value'] = 1 - chi2.cdf(mahal_dist, df = 1) #pdf(x, degreeOfFreedom = Number of Variables)\n",
    "\n",
    "#Calculate number of p-value less than 0.01\n",
    "print(np.count_nonzero(one_hot_data_maha['p-value'] < 0.01))"
   ]
  },
  {
   "cell_type": "code",
   "execution_count": 15,
   "id": "03f59836",
   "metadata": {},
   "outputs": [
    {
     "name": "stdout",
     "output_type": "stream",
     "text": [
      "Training accuracy: 0.5419\n",
      "[[66262  1081]\n",
      " [56625  2005]]\n"
     ]
    }
   ],
   "source": [
    "pvalue = one_hot_data_maha['p-value']\n",
    "bi_pvalue = pvalue\n",
    "\n",
    "bi_pvalue = np.where(pvalue < 0.01, 1, bi_pvalue)\n",
    "bi_pvalue = np.where(pvalue >= 0.01, 0, bi_pvalue)\n",
    "\n",
    "from sklearn.metrics import accuracy_score\n",
    "\n",
    "train_acc_maha = accuracy_score(kdd_train_y['class_binary'], bi_pvalue)\n",
    "print(\"Training accuracy: {:.4f}\".format(train_acc_maha))\n",
    "cm_maha = confusion_matrix (kdd_train_y[\"class_binary\"], bi_pvalue)\n",
    "print(cm_maha)"
   ]
  },
  {
   "cell_type": "code",
   "execution_count": 16,
   "id": "f975945d",
   "metadata": {},
   "outputs": [
    {
     "data": {
      "text/plain": [
       "Text(0.5, 1.0, 'Seaborn Confusion Matrix with labels\\n\\n')"
      ]
     },
     "execution_count": 16,
     "metadata": {},
     "output_type": "execute_result"
    },
    {
     "data": {
      "text/plain": [
       "Text(0.5, 15.0, '\\nPredicted Values')"
      ]
     },
     "execution_count": 16,
     "metadata": {},
     "output_type": "execute_result"
    },
    {
     "data": {
      "text/plain": [
       "Text(33.0, 0.5, 'Actual Values ')"
      ]
     },
     "execution_count": 16,
     "metadata": {},
     "output_type": "execute_result"
    },
    {
     "data": {
      "text/plain": [
       "[Text(0.5, 0, 'True'), Text(1.5, 0, 'False')]"
      ]
     },
     "execution_count": 16,
     "metadata": {},
     "output_type": "execute_result"
    },
    {
     "data": {
      "text/plain": [
       "[Text(0, 0.5, 'True'), Text(0, 1.5, 'False')]"
      ]
     },
     "execution_count": 16,
     "metadata": {},
     "output_type": "execute_result"
    },
    {
     "data": {
      "image/png": "[encoded data removed]",
      "text/plain": [
       "<Figure size 432x288 with 2 Axes>"
      ]
     },
     "metadata": {
      "needs_background": "light"
     },
     "output_type": "display_data"
    }
   ],
   "source": [
    "ax = sns.heatmap(cm_maha, annot=True, cmap='Blues')\n",
    "\n",
    "ax.set_title('Seaborn Confusion Matrix with labels\\n\\n');\n",
    "ax.set_xlabel('\\nPredicted Values')\n",
    "ax.set_ylabel('Actual Values ');\n",
    "\n",
    "## Ticket labels - List must be in alphabetical order\n",
    "ax.xaxis.set_ticklabels(['True','False'])\n",
    "ax.yaxis.set_ticklabels(['True','False'])\n",
    "\n",
    "## Display the visualization of the Confusion Matrix.\n",
    "plt.show()"
   ]
  },
  {
   "cell_type": "markdown",
   "id": "16002b73",
   "metadata": {},
   "source": [
    "# MCD"
   ]
  },
  {
   "cell_type": "code",
   "execution_count": 17,
   "id": "54e2dff5",
   "metadata": {},
   "outputs": [],
   "source": [
    "from sklearn.covariance import MinCovDet\n",
    "from sklearn.datasets import make_gaussian_quantiles\n",
    "\n",
    "rng = np.random.RandomState(42)"
   ]
  },
  {
   "cell_type": "code",
   "execution_count": 18,
   "id": "d8e08f30",
   "metadata": {},
   "outputs": [],
   "source": [
    "mcd_model = MinCovDet(random_state=42).fit(data_pca)"
   ]
  },
  {
   "cell_type": "code",
   "execution_count": 19,
   "id": "ae4a3489",
   "metadata": {},
   "outputs": [
    {
     "data": {
      "text/plain": [
       "array([ 1.85616638e-16,  7.85633517e-17, -6.34004505e-18,  1.22264398e-16,\n",
       "        8.88677246e-18,  5.51092701e-17, -3.83072904e-16, -4.03003916e-16,\n",
       "        1.26287230e-16, -6.61629287e-17,  4.49885970e-17,  1.57331610e-16,\n",
       "        3.49043665e-16, -1.21498629e-16, -3.21398089e-16,  4.47130198e-17,\n",
       "        2.12859506e-16, -3.49486169e-16])"
      ]
     },
     "execution_count": 19,
     "metadata": {},
     "output_type": "execute_result"
    }
   ],
   "source": [
    "np.mean(data_array,axis = 0)"
   ]
  },
  {
   "cell_type": "code",
   "execution_count": 20,
   "id": "0e90c138",
   "metadata": {},
   "outputs": [
    {
     "data": {
      "text/plain": [
       "array([[ 1.00000000e+00,  4.17931477e-16, -4.37401714e-17,\n",
       "        -8.36994575e-18, -9.65227397e-18, -5.90135377e-18,\n",
       "        -5.06056950e-18,  3.87188209e-18,  6.50770553e-18,\n",
       "        -2.13633237e-18, -4.36608521e-18,  4.92660806e-18,\n",
       "        -3.40108916e-18,  2.16695842e-19, -1.96667726e-18,\n",
       "        -6.34554169e-19, -2.62987450e-18,  2.32405464e-18],\n",
       "       [-4.17931477e-16,  1.00000000e+00,  2.14377349e-16,\n",
       "         5.19688383e-18,  2.12362436e-16, -4.40795208e-17,\n",
       "         6.42036245e-18,  2.11925624e-17, -7.26090896e-17,\n",
       "        -6.70373949e-17,  7.67576917e-17, -3.59412707e-17,\n",
       "         3.04749436e-17, -6.36279933e-17,  8.44540914e-18,\n",
       "         2.94317109e-17,  1.11969075e-16,  1.04418061e-16],\n",
       "       [ 4.37401714e-17,  2.06793557e-16,  1.00000000e+00,\n",
       "        -7.16788143e-16,  3.98169601e-16,  7.56885477e-16,\n",
       "        -5.76369419e-16,  5.43869334e-16, -4.25206249e-17,\n",
       "        -1.89541629e-16, -3.31787121e-16, -3.48934891e-17,\n",
       "        -3.10162635e-16, -2.16475174e-16, -5.07101733e-16,\n",
       "        -4.48794788e-16,  7.07432015e-16,  7.50835637e-17],\n",
       "       [ 8.36994575e-18,  3.25672540e-17,  5.88969481e-16,\n",
       "         1.00000000e+00, -7.50114232e-16, -1.09333596e-15,\n",
       "         2.87021402e-16, -6.71230905e-16, -3.66633947e-16,\n",
       "        -7.75088634e-16, -2.24969905e-16,  5.13963039e-16,\n",
       "         2.91882427e-16,  2.88858453e-16,  7.18964514e-16,\n",
       "         1.08943692e-15,  3.37787231e-16,  1.16932015e-15],\n",
       "       [ 9.65227397e-18, -1.65082022e-16, -8.74961992e-16,\n",
       "         1.01342636e-15,  1.00000000e+00, -1.54662380e-15,\n",
       "        -8.47358620e-16, -1.24934898e-16, -1.51130092e-16,\n",
       "        -2.73351173e-16,  8.65826622e-16,  6.32997519e-16,\n",
       "        -1.79743200e-16, -4.35332031e-16,  3.72028839e-16,\n",
       "         3.59843375e-16, -4.60867294e-16,  2.41247551e-17],\n",
       "       [ 5.90135377e-18,  2.35074725e-17,  3.99106236e-17,\n",
       "        -6.43688692e-16, -2.83092374e-16,  1.00000000e+00,\n",
       "         3.03893533e-16,  1.86162677e-16,  1.91677555e-16,\n",
       "        -5.37561140e-17,  2.63213233e-16,  7.36417237e-16,\n",
       "        -1.59020452e-16, -6.41478309e-16,  3.13098003e-16,\n",
       "        -1.05413625e-16, -1.38450110e-16,  1.05863644e-15],\n",
       "       [ 5.06056950e-18,  3.39712305e-19,  1.39453356e-16,\n",
       "        -1.28498202e-15,  5.20537890e-16, -7.88546454e-16,\n",
       "         1.00000000e+00, -4.50769611e-16, -2.75690310e-16,\n",
       "        -2.12176658e-16,  2.54615667e-16, -8.08189112e-16,\n",
       "         4.14685020e-16,  4.70564140e-16,  6.68113720e-17,\n",
       "         4.56230156e-16, -1.48569399e-17,  3.51907632e-16],\n",
       "       [-3.87188209e-18, -7.74571097e-17, -8.51596144e-16,\n",
       "         4.52725210e-16, -3.96779529e-16, -1.95742829e-16,\n",
       "        -6.18085296e-17,  1.00000000e+00,  1.34849817e-16,\n",
       "         4.07117325e-16, -3.31063320e-16, -4.53914999e-16,\n",
       "        -5.82997909e-16,  1.56138445e-16,  9.07482502e-16,\n",
       "        -1.19781545e-15,  7.08297330e-16, -3.32271461e-16],\n",
       "       [-6.50770553e-18, -1.74691230e-17, -6.72058545e-17,\n",
       "         4.13180212e-16, -2.21869916e-16,  1.61430063e-17,\n",
       "         3.31116639e-16, -3.15965221e-16,  1.00000000e+00,\n",
       "         4.67185048e-16,  3.16413810e-16,  3.31543336e-16,\n",
       "        -2.53887504e-16,  5.95772871e-16, -7.12055253e-16,\n",
       "         3.11160842e-17, -5.61120280e-16, -5.79464625e-16],\n",
       "       [ 2.13633237e-18,  1.81999491e-17, -2.18401819e-16,\n",
       "         7.25286433e-16, -1.38640763e-16, -1.10791150e-16,\n",
       "        -1.77289473e-17, -4.89912133e-16, -2.23188402e-16,\n",
       "         1.00000000e+00, -2.10764170e-16,  8.00977345e-16,\n",
       "         5.56629043e-16,  1.77729515e-16,  1.77541590e-16,\n",
       "        -3.16252676e-16,  3.14739083e-16, -6.60223962e-16],\n",
       "       [ 4.36608521e-18, -5.83813061e-17, -1.51197695e-16,\n",
       "         5.39292518e-16,  1.68316223e-16, -8.93080897e-16,\n",
       "        -6.18005298e-17,  2.18120819e-17, -1.09498853e-16,\n",
       "        -9.74441846e-17,  1.00000000e+00,  6.70626808e-17,\n",
       "         2.95653816e-16,  5.23203202e-16,  3.84735450e-16,\n",
       "        -1.51538721e-15,  6.66975495e-16,  1.87577695e-16],\n",
       "       [-4.92660806e-18, -6.76954786e-17, -5.09817141e-16,\n",
       "        -8.00782096e-16, -2.66707770e-17,  2.84697969e-16,\n",
       "         5.13013411e-16, -2.83279986e-16,  1.27212300e-16,\n",
       "        -4.46875540e-16, -6.78734283e-16,  1.00000000e+00,\n",
       "        -1.53098089e-16,  5.70177334e-16,  4.76490642e-16,\n",
       "        -1.33250966e-15, -1.69181820e-16, -6.24243677e-16],\n",
       "       [ 3.40108916e-18,  4.81056903e-17,  6.72559146e-16,\n",
       "        -2.99498693e-17,  1.67242563e-16, -3.73573047e-17,\n",
       "        -1.19833190e-16,  8.22103486e-16,  2.81329766e-17,\n",
       "        -2.17113723e-16,  2.74938220e-17, -2.64099658e-16,\n",
       "         1.00000000e+00,  3.91050643e-17,  1.95270066e-16,\n",
       "         2.10370399e-16,  4.20901556e-16,  5.50629362e-16],\n",
       "       [-2.16695842e-19, -6.47100500e-18, -2.01667056e-16,\n",
       "         4.44200301e-16,  1.25448209e-16,  1.93162519e-16,\n",
       "        -1.17366208e-15, -1.81150090e-16, -5.35671138e-16,\n",
       "         8.22392192e-18, -4.41110498e-16, -1.09594308e-16,\n",
       "         7.73843057e-17,  1.00000000e+00,  1.17445186e-16,\n",
       "        -1.03458960e-16,  9.39709309e-17, -1.39652896e-16],\n",
       "       [ 1.96667726e-18, -2.78265928e-18,  8.16049411e-17,\n",
       "        -2.56987063e-16, -6.23129777e-17,  4.68169391e-16,\n",
       "        -1.70393889e-16, -9.47624924e-17,  6.51666924e-16,\n",
       "         1.16447945e-16,  3.70329615e-16, -3.05842270e-16,\n",
       "         4.07208609e-17,  1.33580692e-16,  1.00000000e+00,\n",
       "         2.83092179e-16, -2.61236001e-16,  2.55677576e-16],\n",
       "       [ 6.34554169e-19, -9.00477743e-17, -6.52854722e-16,\n",
       "        -1.48071798e-15,  6.43800454e-16,  5.28537940e-16,\n",
       "        -4.80876415e-16,  1.68009694e-17, -9.79037305e-17,\n",
       "         2.13256240e-16,  7.26373036e-17,  1.94031025e-16,\n",
       "        -1.57884938e-16, -3.57754834e-16,  1.80859900e-16,\n",
       "         1.00000000e+00,  1.22104622e-15,  4.54394164e-16],\n",
       "       [ 2.62987450e-18, -2.50505041e-17, -1.70065635e-16,\n",
       "        -4.44095694e-16,  2.54383634e-16, -3.11264656e-16,\n",
       "         7.66898660e-17, -5.09626132e-17, -2.16173496e-17,\n",
       "         4.29207195e-17, -1.12594103e-16,  3.60168477e-16,\n",
       "        -2.03037803e-16, -4.26571848e-16,  2.72702577e-16,\n",
       "         1.81215712e-16,  1.00000000e+00,  6.34251193e-16],\n",
       "       [-2.32405464e-18, -6.75286089e-17, -1.07758584e-16,\n",
       "        -4.95757522e-16,  7.10322647e-16,  1.25997416e-16,\n",
       "         1.07144281e-16,  6.34870234e-16,  5.49684269e-16,\n",
       "         1.16465286e-15,  4.55336160e-16,  4.28395999e-17,\n",
       "        -5.51409078e-16,  1.23449222e-16, -9.89678682e-16,\n",
       "        -6.33711445e-16, -7.36995903e-16,  1.00000000e+00]])"
      ]
     },
     "execution_count": 20,
     "metadata": {},
     "output_type": "execute_result"
    }
   ],
   "source": [
    "sp.linalg.pinv(np.cov(data_array, rowvar=False))"
   ]
  },
  {
   "cell_type": "code",
   "execution_count": 21,
   "id": "edc736d6",
   "metadata": {},
   "outputs": [],
   "source": [
    "inv_cormat = sp.linalg.pinv(mcd_model.covariance_)"
   ]
  },
  {
   "cell_type": "code",
   "execution_count": 22,
   "id": "ff97f86d",
   "metadata": {},
   "outputs": [],
   "source": [
    "import scipy as sp\n",
    "inv_cormat = sp.linalg.pinv(mcd_model.covariance_)\n",
    "mu_vect = mcd_model.location_"
   ]
  },
  {
   "cell_type": "code",
   "execution_count": 23,
   "id": "217999d9",
   "metadata": {},
   "outputs": [],
   "source": [
    "mahal_dist = []\n",
    "for i in range(data_array.shape[0]):\n",
    "    x_minus_mu = data_array[i,:] - mu_vect\n",
    "    left_term = np.dot(x_minus_mu, inv_cormat)\n",
    "    mahal = np.dot(left_term, x_minus_mu.T)\n",
    "    mahal = np.sqrt(mahal)\n",
    "    mahal_dist.append(mahal)"
   ]
  },
  {
   "cell_type": "code",
   "execution_count": 24,
   "id": "46dd1b16",
   "metadata": {},
   "outputs": [
    {
     "name": "stderr",
     "output_type": "stream",
     "text": [
      "C:\\WINDOWS\\system32\\myenv\\lib\\site-packages\\numpy\\core\\fromnumeric.py:3430: FutureWarning: In a future version, DataFrame.mean(axis=None) will return a scalar mean over the entire DataFrame. To retain the old behavior, use 'frame.mean(axis=0)' or just 'frame.mean()'\n",
      "  return mean(axis=axis, dtype=dtype, out=out, **kwargs)\n"
     ]
    },
    {
     "data": {
      "text/plain": [
       "(duration,)           2.549477e-17\n",
       "(src_bytes,)         -4.512349e-19\n",
       "(dst_bytes,)          7.614590e-19\n",
       "(land,)              -4.794371e-18\n",
       "(wrong_fragment,)     4.230328e-19\n",
       "                          ...     \n",
       "service_whois         5.501179e-03\n",
       "protocol_type_icmp    6.581569e-02\n",
       "protocol_type_tcp     8.151667e-01\n",
       "protocol_type_udp     1.190176e-01\n",
       "p-value               1.778976e-01\n",
       "Length: 123, dtype: float64"
      ]
     },
     "execution_count": 24,
     "metadata": {},
     "output_type": "execute_result"
    },
    {
     "name": "stdout",
     "output_type": "stream",
     "text": [
      "52808\n"
     ]
    }
   ],
   "source": [
    "np.mean(one_hot_data_maha)\n",
    "\n",
    "from scipy.stats import chi2\n",
    "one_hot_data_maha['p-value_mcd'] = 1 - chi2.cdf(mahal_dist, df = 121) #pdf(x, degreeOfFreedom = Number of Variables)\n",
    "\n",
    "#Calculate number of p-value less than 0.01\n",
    "print(np.count_nonzero(one_hot_data_maha['p-value_mcd'] < 0.01))"
   ]
  },
  {
   "cell_type": "code",
   "execution_count": 25,
   "id": "63fa0565",
   "metadata": {},
   "outputs": [],
   "source": [
    "pvalue_mcd = one_hot_data_maha['p-value_mcd']\n",
    "bi_pvalue_mcd = pvalue_mcd\n",
    "\n",
    "bi_pvalue_mcd = np.where(pvalue_mcd < 0.01, 1, bi_pvalue_mcd)\n",
    "bi_pvalue_mcd = np.where(pvalue_mcd >= 0.01, 0, bi_pvalue_mcd)\n",
    "\n"
   ]
  },
  {
   "cell_type": "code",
   "execution_count": 26,
   "id": "7fb4e477",
   "metadata": {},
   "outputs": [
    {
     "name": "stdout",
     "output_type": "stream",
     "text": [
      "Training accuracy: 0.5419\n",
      "[[43583 23760]\n",
      " [29582 29048]]\n"
     ]
    }
   ],
   "source": [
    "from sklearn.metrics import accuracy_score\n",
    "\n",
    "train_acc_maha_mcd = accuracy_score(kdd_train_y['class_binary'], bi_pvalue_mcd)\n",
    "print(\"Training accuracy: {:.4f}\".format(train_acc_maha))\n",
    "cm_maha_mcd = confusion_matrix (kdd_train_y[\"class_binary\"], bi_pvalue_mcd)\n",
    "print(cm_maha_mcd)"
   ]
  },
  {
   "cell_type": "code",
   "execution_count": 27,
   "id": "f5aebe3a",
   "metadata": {},
   "outputs": [
    {
     "data": {
      "text/plain": [
       "Text(0.5, 1.0, 'Seaborn Confusion Matrix with labels\\n\\n')"
      ]
     },
     "execution_count": 27,
     "metadata": {},
     "output_type": "execute_result"
    },
    {
     "data": {
      "text/plain": [
       "Text(0.5, 15.0, '\\nPredicted Values')"
      ]
     },
     "execution_count": 27,
     "metadata": {},
     "output_type": "execute_result"
    },
    {
     "data": {
      "text/plain": [
       "Text(33.0, 0.5, 'Actual Values ')"
      ]
     },
     "execution_count": 27,
     "metadata": {},
     "output_type": "execute_result"
    },
    {
     "data": {
      "text/plain": [
       "[Text(0.5, 0, 'True'), Text(1.5, 0, 'False')]"
      ]
     },
     "execution_count": 27,
     "metadata": {},
     "output_type": "execute_result"
    },
    {
     "data": {
      "text/plain": [
       "[Text(0, 0.5, 'True'), Text(0, 1.5, 'False')]"
      ]
     },
     "execution_count": 27,
     "metadata": {},
     "output_type": "execute_result"
    },
    {
     "data": {
      "image/png": "[encoded data removed]",
      "text/plain": [
       "<Figure size 432x288 with 2 Axes>"
      ]
     },
     "metadata": {
      "needs_background": "light"
     },
     "output_type": "display_data"
    }
   ],
   "source": [
    "ax = sns.heatmap(cm_maha_mcd, annot=True, cmap='Blues')\n",
    "\n",
    "ax.set_title('Seaborn Confusion Matrix with labels\\n\\n');\n",
    "ax.set_xlabel('\\nPredicted Values')\n",
    "ax.set_ylabel('Actual Values ');\n",
    "\n",
    "## Ticket labels - List must be in alphabetical order\n",
    "ax.xaxis.set_ticklabels(['True','False'])\n",
    "ax.yaxis.set_ticklabels(['True','False'])\n",
    "\n",
    "## Display the visualization of the Confusion Matrix.\n",
    "plt.show()"
   ]
  },
  {
   "cell_type": "markdown",
   "id": "97b70aa1",
   "metadata": {},
   "source": [
    "### After Apply MCD, the  accuracy slightly increase. The True Positive Rate Decrease but The False Negative Increase\n",
    "### False Positive is reduced and true negative is increased"
   ]
  },
  {
   "cell_type": "markdown",
   "id": "ee0f75a8",
   "metadata": {},
   "source": [
    "# Isolation Forest"
   ]
  },
  {
   "cell_type": "code",
   "execution_count": 28,
   "id": "c59de06e",
   "metadata": {},
   "outputs": [
    {
     "data": {
      "text/plain": [
       "array([0.        , 0.03333333, 0.06666667, 0.1       , 0.13333333,\n",
       "       0.16666667, 0.2       , 0.23333333, 0.26666667, 0.3       ])"
      ]
     },
     "execution_count": 28,
     "metadata": {},
     "output_type": "execute_result"
    }
   ],
   "source": [
    "#Isolation Forest\n",
    "#from scipy.stats import uniform as sp_randFloat\n",
    "# from scipy.stats import randint as sp_randInt\n",
    "\n",
    "from sklearn.ensemble import IsolationForest\n",
    "model_if = IsolationForest(random_state = 99)\n",
    "#parameters = {'n_estimators' : sp_randInt(100, 1000),\n",
    "#            'contamination' : sp_randFloat(0, 1),\n",
    "#             }\n",
    "parameters = {'n_estimators' : [100,150,200,250,300],\n",
    "            'contamination' : np.linspace(0, 0.2, num = 10),\n",
    "              #'bootstrap': [True, False]\n",
    "             }\n",
    "np.linspace(0, 0.3, num = 10)"
   ]
  },
  {
   "cell_type": "code",
   "execution_count": 29,
   "id": "b059ff9e",
   "metadata": {},
   "outputs": [
    {
     "data": {
      "text/plain": [
       "(125973, 18)"
      ]
     },
     "execution_count": 29,
     "metadata": {},
     "output_type": "execute_result"
    }
   ],
   "source": [
    "# def scorer_f(estimator, X):   #Scorer function for isolation forest\n",
    "#       return np.mean(estimator.score_samples(one_hot_data_if))\n",
    "from sklearn.metrics import make_scorer, f1_score\n",
    "#Set normal to 0 and abnormal to 1 (binary)\n",
    "\n",
    "one_hot_data_if = data_pca\n",
    "one_hot_data_if.shape"
   ]
  },
  {
   "cell_type": "code",
   "execution_count": 30,
   "id": "500a6aac",
   "metadata": {},
   "outputs": [],
   "source": [
    "# randomly sample\n",
    "idx_rand = np.random.permutation(len(kdd_train_x))\n",
    "num_sample = int(0.01*len(kdd_train_x))\n",
    "one_hot_data_if_sample = one_hot_data_if.iloc[idx_rand[:num_sample]]\n",
    "kdd_train_y_sample = kdd_train_y.iloc[idx_rand[:num_sample]]"
   ]
  },
  {
   "cell_type": "code",
   "execution_count": 31,
   "id": "c054bfe8",
   "metadata": {},
   "outputs": [
    {
     "name": "stderr",
     "output_type": "stream",
     "text": [
      "C:\\WINDOWS\\system32\\myenv\\lib\\site-packages\\sklearn\\model_selection\\_validation.py:378: FitFailedWarning: \n",
      "6 fits failed out of a total of 30.\n",
      "The score on these train-test partitions for these parameters will be set to nan.\n",
      "If these failures are not expected, you can try to debug them by setting error_score='raise'.\n",
      "\n",
      "Below are more details about the failures:\n",
      "--------------------------------------------------------------------------------\n",
      "6 fits failed with the following error:\n",
      "Traceback (most recent call last):\n",
      "  File \"C:\\WINDOWS\\system32\\myenv\\lib\\site-packages\\sklearn\\model_selection\\_validation.py\", line 686, in _fit_and_score\n",
      "    estimator.fit(X_train, y_train, **fit_params)\n",
      "  File \"C:\\WINDOWS\\system32\\myenv\\lib\\site-packages\\sklearn\\ensemble\\_iforest.py\", line 271, in fit\n",
      "    raise ValueError(\n",
      "ValueError: contamination must be in (0, 0.5], got: 0.000000\n",
      "\n",
      "  warnings.warn(some_fits_failed_message, FitFailedWarning)\n",
      "C:\\WINDOWS\\system32\\myenv\\lib\\site-packages\\sklearn\\model_selection\\_search.py:953: UserWarning: One or more of the test scores are non-finite: [0.39078683 0.43051673 0.42574914 0.34708868        nan 0.39078683\n",
      " 0.36457173 0.37728151 0.40350229        nan]\n",
      "  warnings.warn(\n",
      "C:\\WINDOWS\\system32\\myenv\\lib\\site-packages\\sklearn\\model_selection\\_search.py:953: UserWarning: One or more of the train scores are non-finite: [0.39198025 0.430504   0.42891528 0.35266379        nan 0.39197978\n",
      " 0.36894546 0.38245029 0.40389589        nan]\n",
      "  warnings.warn(\n",
      "C:\\WINDOWS\\system32\\myenv\\lib\\site-packages\\sklearn\\base.py:450: UserWarning: X does not have valid feature names, but IsolationForest was fitted with feature names\n",
      "  warnings.warn(\n"
     ]
    }
   ],
   "source": [
    "def scorer_f(estimator, X):   #your own scorer\n",
    "      return np.mean(estimator.score_samples(X))\n",
    "    \n",
    "f1sc = make_scorer(f1_score, average = 'micro')\n",
    "randm_src = RandomizedSearchCV(estimator=model_if, param_distributions = parameters, cv = 3, scoring = f1sc, random_state = 0, return_train_score = True, n_jobs = -1)\n",
    "model = randm_src.fit(one_hot_data_if_sample, kdd_train_y_sample[\"class_binary\"])\n"
   ]
  },
  {
   "cell_type": "code",
   "execution_count": 32,
   "id": "fac5800b",
   "metadata": {},
   "outputs": [
    {
     "name": "stdout",
     "output_type": "stream",
     "text": [
      " Results from Random Search \n",
      "\n",
      " The best estimator across ALL searched params:\n",
      " IsolationForest(contamination=0.044444444444444446, n_estimators=150,\n",
      "                random_state=99)\n",
      "\n",
      " The best score across ALL searched params:\n",
      " 0.4305167253854605\n",
      "\n",
      " The best parameters across ALL searched params:\n",
      " {'n_estimators': 150, 'contamination': 0.044444444444444446}\n"
     ]
    }
   ],
   "source": [
    "print(\" Results from Random Search \" )\n",
    "print(\"\\n The best estimator across ALL searched params:\\n\", randm_src.best_estimator_)\n",
    "print(\"\\n The best score across ALL searched params:\\n\", randm_src.best_score_)\n",
    "print(\"\\n The best parameters across ALL searched params:\\n\", randm_src.best_params_)"
   ]
  },
  {
   "cell_type": "code",
   "execution_count": 33,
   "id": "80f9d67a",
   "metadata": {},
   "outputs": [
    {
     "name": "stdout",
     "output_type": "stream",
     "text": [
      "[1 1 0 1 0 0 0 1 1 0 0 0 1 1 0 1 0 1 1 0]\n"
     ]
    },
    {
     "name": "stderr",
     "output_type": "stream",
     "text": [
      "C:\\WINDOWS\\system32\\myenv\\lib\\site-packages\\sklearn\\base.py:450: UserWarning: X does not have valid feature names, but IsolationForest was fitted with feature names\n",
      "  warnings.warn(\n"
     ]
    },
    {
     "data": {
      "text/html": [
       "<style>#sk-container-id-1 {color: black;background-color: white;}#sk-container-id-1 pre{padding: 0;}#sk-container-id-1 div.sk-toggleable {background-color: white;}#sk-container-id-1 label.sk-toggleable__label {cursor: pointer;display: block;width: 100%;margin-bottom: 0;padding: 0.3em;box-sizing: border-box;text-align: center;}#sk-container-id-1 label.sk-toggleable__label-arrow:before {content: \"▸\";float: left;margin-right: 0.25em;color: #696969;}#sk-container-id-1 label.sk-toggleable__label-arrow:hover:before {color: black;}#sk-container-id-1 div.sk-estimator:hover label.sk-toggleable__label-arrow:before {color: black;}#sk-container-id-1 div.sk-toggleable__content {max-height: 0;max-width: 0;overflow: hidden;text-align: left;background-color: #f0f8ff;}#sk-container-id-1 div.sk-toggleable__content pre {margin: 0.2em;color: black;border-radius: 0.25em;background-color: #f0f8ff;}#sk-container-id-1 input.sk-toggleable__control:checked~div.sk-toggleable__content {max-height: 200px;max-width: 100%;overflow: auto;}#sk-container-id-1 input.sk-toggleable__control:checked~label.sk-toggleable__label-arrow:before {content: \"▾\";}#sk-container-id-1 div.sk-estimator input.sk-toggleable__control:checked~label.sk-toggleable__label {background-color: #d4ebff;}#sk-container-id-1 div.sk-label input.sk-toggleable__control:checked~label.sk-toggleable__label {background-color: #d4ebff;}#sk-container-id-1 input.sk-hidden--visually {border: 0;clip: rect(1px 1px 1px 1px);clip: rect(1px, 1px, 1px, 1px);height: 1px;margin: -1px;overflow: hidden;padding: 0;position: absolute;width: 1px;}#sk-container-id-1 div.sk-estimator {font-family: monospace;background-color: #f0f8ff;border: 1px dotted black;border-radius: 0.25em;box-sizing: border-box;margin-bottom: 0.5em;}#sk-container-id-1 div.sk-estimator:hover {background-color: #d4ebff;}#sk-container-id-1 div.sk-parallel-item::after {content: \"\";width: 100%;border-bottom: 1px solid gray;flex-grow: 1;}#sk-container-id-1 div.sk-label:hover label.sk-toggleable__label {background-color: #d4ebff;}#sk-container-id-1 div.sk-serial::before {content: \"\";position: absolute;border-left: 1px solid gray;box-sizing: border-box;top: 0;bottom: 0;left: 50%;z-index: 0;}#sk-container-id-1 div.sk-serial {display: flex;flex-direction: column;align-items: center;background-color: white;padding-right: 0.2em;padding-left: 0.2em;position: relative;}#sk-container-id-1 div.sk-item {position: relative;z-index: 1;}#sk-container-id-1 div.sk-parallel {display: flex;align-items: stretch;justify-content: center;background-color: white;position: relative;}#sk-container-id-1 div.sk-item::before, #sk-container-id-1 div.sk-parallel-item::before {content: \"\";position: absolute;border-left: 1px solid gray;box-sizing: border-box;top: 0;bottom: 0;left: 50%;z-index: -1;}#sk-container-id-1 div.sk-parallel-item {display: flex;flex-direction: column;z-index: 1;position: relative;background-color: white;}#sk-container-id-1 div.sk-parallel-item:first-child::after {align-self: flex-end;width: 50%;}#sk-container-id-1 div.sk-parallel-item:last-child::after {align-self: flex-start;width: 50%;}#sk-container-id-1 div.sk-parallel-item:only-child::after {width: 0;}#sk-container-id-1 div.sk-dashed-wrapped {border: 1px dashed gray;margin: 0 0.4em 0.5em 0.4em;box-sizing: border-box;padding-bottom: 0.4em;background-color: white;}#sk-container-id-1 div.sk-label label {font-family: monospace;font-weight: bold;display: inline-block;line-height: 1.2em;}#sk-container-id-1 div.sk-label-container {text-align: center;}#sk-container-id-1 div.sk-container {/* jupyter's `normalize.less` sets `[hidden] { display: none; }` but bootstrap.min.css set `[hidden] { display: none !important; }` so we also need the `!important` here to be able to override the default hidden behavior on the sphinx rendered scikit-learn.org. See: https://github.com/scikit-learn/scikit-learn/issues/21755 */display: inline-block !important;position: relative;}#sk-container-id-1 div.sk-text-repr-fallback {display: none;}</style><div id=\"sk-container-id-1\" class=\"sk-top-container\"><div class=\"sk-text-repr-fallback\"><pre>IsolationForest(contamination=0.044444444444444446, n_estimators=150)</pre><b>In a Jupyter environment, please rerun this cell to show the HTML representation or trust the notebook. <br />On GitHub, the HTML representation is unable to render, please try loading this page with nbviewer.org.</b></div><div class=\"sk-container\" hidden><div class=\"sk-item\"><div class=\"sk-estimator sk-toggleable\"><input class=\"sk-toggleable__control sk-hidden--visually\" id=\"sk-estimator-id-1\" type=\"checkbox\" checked><label for=\"sk-estimator-id-1\" class=\"sk-toggleable__label sk-toggleable__label-arrow\">IsolationForest</label><div class=\"sk-toggleable__content\"><pre>IsolationForest(contamination=0.044444444444444446, n_estimators=150)</pre></div></div></div></div></div>"
      ],
      "text/plain": [
       "IsolationForest(contamination=0.044444444444444446, n_estimators=150)"
      ]
     },
     "execution_count": 33,
     "metadata": {},
     "output_type": "execute_result"
    },
    {
     "data": {
      "text/plain": [
       "array([1, 1, 1, ..., 1, 1, 1])"
      ]
     },
     "execution_count": 33,
     "metadata": {},
     "output_type": "execute_result"
    }
   ],
   "source": [
    "from sklearn.datasets import make_classification\n",
    "XX_train, yy_train = make_classification(n_samples = 500, n_classes=2)\n",
    "print(yy_train[:20])\n",
    "\n",
    "rng = np.random.RandomState(42)\n",
    "#Load the saved isolation Forest model\n",
    "##model_if = joblib.load('IF.sav')\n",
    "model_if = IsolationForest(n_estimators = 150, contamination = 0.044444444444444446, max_features=1.0)\n",
    "model_if.fit(one_hot_data_if)\n",
    "y_pred_if = model_if.predict(one_hot_data_if)\n",
    "y_pred_if"
   ]
  },
  {
   "cell_type": "code",
   "execution_count": 34,
   "id": "9fcef59f",
   "metadata": {},
   "outputs": [
    {
     "name": "stdout",
     "output_type": "stream",
     "text": [
      "Training accuracy: 0.4453\n"
     ]
    }
   ],
   "source": [
    "#Evaluation on training result\n",
    "y_pred_if = np.where(y_pred_if == -1, 0, y_pred_if)\n",
    "\n",
    "from sklearn.metrics import accuracy_score\n",
    "train_acc_if = accuracy_score(kdd_train_y['class_binary'], y_pred_if)\n",
    "print(\"Training accuracy: {:.4f}\".format(train_acc_if))"
   ]
  },
  {
   "cell_type": "code",
   "execution_count": 35,
   "id": "de9547a7",
   "metadata": {},
   "outputs": [
    {
     "name": "stdout",
     "output_type": "stream",
     "text": [
      "[[ 1531 65812]\n",
      " [ 4068 54562]]\n"
     ]
    },
    {
     "data": {
      "text/plain": [
       "Text(0.5, 1.0, 'Seaborn Confusion Matrix with labels\\n\\n')"
      ]
     },
     "execution_count": 35,
     "metadata": {},
     "output_type": "execute_result"
    },
    {
     "data": {
      "text/plain": [
       "Text(0.5, 15.0, '\\nPredicted Values')"
      ]
     },
     "execution_count": 35,
     "metadata": {},
     "output_type": "execute_result"
    },
    {
     "data": {
      "text/plain": [
       "Text(33.0, 0.5, 'Actual Values ')"
      ]
     },
     "execution_count": 35,
     "metadata": {},
     "output_type": "execute_result"
    },
    {
     "data": {
      "text/plain": [
       "[Text(0.5, 0, 'True'), Text(1.5, 0, 'False')]"
      ]
     },
     "execution_count": 35,
     "metadata": {},
     "output_type": "execute_result"
    },
    {
     "data": {
      "text/plain": [
       "[Text(0, 0.5, 'True'), Text(0, 1.5, 'False')]"
      ]
     },
     "execution_count": 35,
     "metadata": {},
     "output_type": "execute_result"
    },
    {
     "data": {
      "image/png": "[encoded data removed]",
      "text/plain": [
       "<Figure size 432x288 with 2 Axes>"
      ]
     },
     "metadata": {
      "needs_background": "light"
     },
     "output_type": "display_data"
    }
   ],
   "source": [
    "cm_if = confusion_matrix (kdd_train_y[\"class_binary\"], y_pred_if)\n",
    "print(cm_if)\n",
    "ax = sns.heatmap(cm_if, annot=True, cmap='Blues')\n",
    "\n",
    "ax.set_title('Seaborn Confusion Matrix with labels\\n\\n');\n",
    "ax.set_xlabel('\\nPredicted Values')\n",
    "ax.set_ylabel('Actual Values ');\n",
    "\n",
    "## Ticket labels - List must be in alphabetical order\n",
    "ax.xaxis.set_ticklabels(['True','False'])\n",
    "ax.yaxis.set_ticklabels(['True','False'])\n",
    "\n",
    "## Display the visualization of the Confusion Matrix.\n",
    "plt.show()"
   ]
  },
  {
   "cell_type": "markdown",
   "id": "dafb2f6e",
   "metadata": {},
   "source": [
    "### The result slightly improve from before without pca.\n",
    "### Accuracy = 0.4259 --> 0.4485"
   ]
  },
  {
   "cell_type": "markdown",
   "id": "e49dde98",
   "metadata": {},
   "source": [
    "# OCSVM"
   ]
  },
  {
   "cell_type": "code",
   "execution_count": 36,
   "id": "12635cc0",
   "metadata": {},
   "outputs": [],
   "source": [
    "one_hot_data_svm = data_pca\n",
    "\n",
    "#10% of data, 12597 out of 125973 is used for training.\n",
    "one_hot_data_svm_ten_percent = one_hot_data_svm[0:12597]\n",
    "kdd_train_y_ten_percent = kdd_train_y[0:12597]\n",
    "\n",
    "from scipy.stats import uniform as sp_randFloat\n",
    "    #Hyperparameter Tuning\n",
    "from sklearn.svm import OneClassSVM\n",
    "parameters_svm = {\n",
    "             \"nu\" : sp_randFloat()\n",
    "             }\n",
    "model_svm = OneClassSVM()"
   ]
  },
  {
   "cell_type": "code",
   "execution_count": 37,
   "id": "d978f4c4",
   "metadata": {},
   "outputs": [],
   "source": [
    "def scorer_svm(estimator, X):   #Scorer function for OCSVM\n",
    "      return np.mean(estimator.score_samples(one_hot_data_svm_ten_percent))\n",
    "    \n",
    "#Load the saved random_src result\n",
    "randm_src_svm = joblib.load('OCSVMSearch.sav')"
   ]
  },
  {
   "cell_type": "code",
   "execution_count": 38,
   "id": "fc3ddf5e",
   "metadata": {},
   "outputs": [
    {
     "name": "stdout",
     "output_type": "stream",
     "text": [
      " Results from Random Search \n",
      "\n",
      " The best estimator across ALL searched params:\n",
      " OneClassSVM(nu=0.5488135039273248)\n",
      "\n",
      " The best score across ALL searched params:\n",
      " nan\n",
      "\n",
      " The best parameters across ALL searched params:\n",
      " {'nu': 0.5488135039273248}\n"
     ]
    }
   ],
   "source": [
    "print(\" Results from Random Search \" )\n",
    "print(\"\\n The best estimator across ALL searched params:\\n\", randm_src_svm.best_estimator_)\n",
    "print(\"\\n The best score across ALL searched params:\\n\", randm_src_svm.best_score_)\n",
    "print(\"\\n The best parameters across ALL searched params:\\n\", randm_src_svm.best_params_)"
   ]
  },
  {
   "cell_type": "code",
   "execution_count": 40,
   "id": "9e009f29",
   "metadata": {},
   "outputs": [
    {
     "data": {
      "text/html": [
       "<style>#sk-container-id-2 {color: black;background-color: white;}#sk-container-id-2 pre{padding: 0;}#sk-container-id-2 div.sk-toggleable {background-color: white;}#sk-container-id-2 label.sk-toggleable__label {cursor: pointer;display: block;width: 100%;margin-bottom: 0;padding: 0.3em;box-sizing: border-box;text-align: center;}#sk-container-id-2 label.sk-toggleable__label-arrow:before {content: \"▸\";float: left;margin-right: 0.25em;color: #696969;}#sk-container-id-2 label.sk-toggleable__label-arrow:hover:before {color: black;}#sk-container-id-2 div.sk-estimator:hover label.sk-toggleable__label-arrow:before {color: black;}#sk-container-id-2 div.sk-toggleable__content {max-height: 0;max-width: 0;overflow: hidden;text-align: left;background-color: #f0f8ff;}#sk-container-id-2 div.sk-toggleable__content pre {margin: 0.2em;color: black;border-radius: 0.25em;background-color: #f0f8ff;}#sk-container-id-2 input.sk-toggleable__control:checked~div.sk-toggleable__content {max-height: 200px;max-width: 100%;overflow: auto;}#sk-container-id-2 input.sk-toggleable__control:checked~label.sk-toggleable__label-arrow:before {content: \"▾\";}#sk-container-id-2 div.sk-estimator input.sk-toggleable__control:checked~label.sk-toggleable__label {background-color: #d4ebff;}#sk-container-id-2 div.sk-label input.sk-toggleable__control:checked~label.sk-toggleable__label {background-color: #d4ebff;}#sk-container-id-2 input.sk-hidden--visually {border: 0;clip: rect(1px 1px 1px 1px);clip: rect(1px, 1px, 1px, 1px);height: 1px;margin: -1px;overflow: hidden;padding: 0;position: absolute;width: 1px;}#sk-container-id-2 div.sk-estimator {font-family: monospace;background-color: #f0f8ff;border: 1px dotted black;border-radius: 0.25em;box-sizing: border-box;margin-bottom: 0.5em;}#sk-container-id-2 div.sk-estimator:hover {background-color: #d4ebff;}#sk-container-id-2 div.sk-parallel-item::after {content: \"\";width: 100%;border-bottom: 1px solid gray;flex-grow: 1;}#sk-container-id-2 div.sk-label:hover label.sk-toggleable__label {background-color: #d4ebff;}#sk-container-id-2 div.sk-serial::before {content: \"\";position: absolute;border-left: 1px solid gray;box-sizing: border-box;top: 0;bottom: 0;left: 50%;z-index: 0;}#sk-container-id-2 div.sk-serial {display: flex;flex-direction: column;align-items: center;background-color: white;padding-right: 0.2em;padding-left: 0.2em;position: relative;}#sk-container-id-2 div.sk-item {position: relative;z-index: 1;}#sk-container-id-2 div.sk-parallel {display: flex;align-items: stretch;justify-content: center;background-color: white;position: relative;}#sk-container-id-2 div.sk-item::before, #sk-container-id-2 div.sk-parallel-item::before {content: \"\";position: absolute;border-left: 1px solid gray;box-sizing: border-box;top: 0;bottom: 0;left: 50%;z-index: -1;}#sk-container-id-2 div.sk-parallel-item {display: flex;flex-direction: column;z-index: 1;position: relative;background-color: white;}#sk-container-id-2 div.sk-parallel-item:first-child::after {align-self: flex-end;width: 50%;}#sk-container-id-2 div.sk-parallel-item:last-child::after {align-self: flex-start;width: 50%;}#sk-container-id-2 div.sk-parallel-item:only-child::after {width: 0;}#sk-container-id-2 div.sk-dashed-wrapped {border: 1px dashed gray;margin: 0 0.4em 0.5em 0.4em;box-sizing: border-box;padding-bottom: 0.4em;background-color: white;}#sk-container-id-2 div.sk-label label {font-family: monospace;font-weight: bold;display: inline-block;line-height: 1.2em;}#sk-container-id-2 div.sk-label-container {text-align: center;}#sk-container-id-2 div.sk-container {/* jupyter's `normalize.less` sets `[hidden] { display: none; }` but bootstrap.min.css set `[hidden] { display: none !important; }` so we also need the `!important` here to be able to override the default hidden behavior on the sphinx rendered scikit-learn.org. See: https://github.com/scikit-learn/scikit-learn/issues/21755 */display: inline-block !important;position: relative;}#sk-container-id-2 div.sk-text-repr-fallback {display: none;}</style><div id=\"sk-container-id-2\" class=\"sk-top-container\"><div class=\"sk-text-repr-fallback\"><pre>OneClassSVM(nu=0.5488135039273248)</pre><b>In a Jupyter environment, please rerun this cell to show the HTML representation or trust the notebook. <br />On GitHub, the HTML representation is unable to render, please try loading this page with nbviewer.org.</b></div><div class=\"sk-container\" hidden><div class=\"sk-item\"><div class=\"sk-estimator sk-toggleable\"><input class=\"sk-toggleable__control sk-hidden--visually\" id=\"sk-estimator-id-2\" type=\"checkbox\" checked><label for=\"sk-estimator-id-2\" class=\"sk-toggleable__label sk-toggleable__label-arrow\">OneClassSVM</label><div class=\"sk-toggleable__content\"><pre>OneClassSVM(nu=0.5488135039273248)</pre></div></div></div></div></div>"
      ],
      "text/plain": [
       "OneClassSVM(nu=0.5488135039273248)"
      ]
     },
     "execution_count": 40,
     "metadata": {},
     "output_type": "execute_result"
    }
   ],
   "source": [
    "#Train model with ten percent of data\n",
    "#Load the saved SVM model\n",
    "svm = OneClassSVM(kernel = 'rbf', gamma = 'scale', nu=0.5488135039273248)\n",
    "svm.fit(one_hot_data_svm_ten_percent)\n",
    "y_pred_svm = svm.predict(one_hot_data_svm)\n"
   ]
  },
  {
   "cell_type": "code",
   "execution_count": 39,
   "id": "ff655782",
   "metadata": {},
   "outputs": [
    {
     "data": {
      "text/html": [
       "<div>\n",
       "<style scoped>\n",
       "    .dataframe tbody tr th:only-of-type {\n",
       "        vertical-align: middle;\n",
       "    }\n",
       "\n",
       "    .dataframe tbody tr th {\n",
       "        vertical-align: top;\n",
       "    }\n",
       "\n",
       "    .dataframe thead th {\n",
       "        text-align: right;\n",
       "    }\n",
       "</style>\n",
       "<table border=\"1\" class=\"dataframe\">\n",
       "  <thead>\n",
       "    <tr style=\"text-align: right;\">\n",
       "      <th></th>\n",
       "      <th>Variable 0</th>\n",
       "      <th>Variable 1</th>\n",
       "      <th>Variable 2</th>\n",
       "      <th>Variable 3</th>\n",
       "      <th>Variable 4</th>\n",
       "      <th>Variable 5</th>\n",
       "      <th>Variable 6</th>\n",
       "      <th>Variable 7</th>\n",
       "      <th>Variable 8</th>\n",
       "      <th>Variable 9</th>\n",
       "      <th>Variable 10</th>\n",
       "      <th>Variable 11</th>\n",
       "      <th>Variable 12</th>\n",
       "      <th>Variable 13</th>\n",
       "      <th>Variable 14</th>\n",
       "      <th>Variable 15</th>\n",
       "      <th>Variable 16</th>\n",
       "      <th>Variable 17</th>\n",
       "    </tr>\n",
       "  </thead>\n",
       "  <tbody>\n",
       "    <tr>\n",
       "      <th>0</th>\n",
       "      <td>-0.271817</td>\n",
       "      <td>-0.031828</td>\n",
       "      <td>-0.007912</td>\n",
       "      <td>-0.057513</td>\n",
       "      <td>-0.242414</td>\n",
       "      <td>0.177061</td>\n",
       "      <td>-0.356098</td>\n",
       "      <td>0.408227</td>\n",
       "      <td>0.040140</td>\n",
       "      <td>0.127188</td>\n",
       "      <td>-0.285534</td>\n",
       "      <td>0.055629</td>\n",
       "      <td>-0.009528</td>\n",
       "      <td>-0.000921</td>\n",
       "      <td>-0.079052</td>\n",
       "      <td>0.017701</td>\n",
       "      <td>-0.207684</td>\n",
       "      <td>-0.037550</td>\n",
       "    </tr>\n",
       "    <tr>\n",
       "      <th>1</th>\n",
       "      <td>0.172646</td>\n",
       "      <td>0.493701</td>\n",
       "      <td>0.004511</td>\n",
       "      <td>-0.797855</td>\n",
       "      <td>-0.794042</td>\n",
       "      <td>1.396152</td>\n",
       "      <td>-1.419616</td>\n",
       "      <td>1.811977</td>\n",
       "      <td>-0.912516</td>\n",
       "      <td>0.028659</td>\n",
       "      <td>0.569644</td>\n",
       "      <td>-0.127919</td>\n",
       "      <td>-0.004297</td>\n",
       "      <td>-0.064668</td>\n",
       "      <td>0.004130</td>\n",
       "      <td>0.001129</td>\n",
       "      <td>-0.341776</td>\n",
       "      <td>-0.085989</td>\n",
       "    </tr>\n",
       "    <tr>\n",
       "      <th>2</th>\n",
       "      <td>1.415630</td>\n",
       "      <td>-0.666276</td>\n",
       "      <td>0.012028</td>\n",
       "      <td>-0.028397</td>\n",
       "      <td>-0.176457</td>\n",
       "      <td>-0.336949</td>\n",
       "      <td>0.050862</td>\n",
       "      <td>-0.047344</td>\n",
       "      <td>0.161204</td>\n",
       "      <td>0.009213</td>\n",
       "      <td>-0.124781</td>\n",
       "      <td>-0.009631</td>\n",
       "      <td>0.008085</td>\n",
       "      <td>-0.003133</td>\n",
       "      <td>-0.059858</td>\n",
       "      <td>-0.013193</td>\n",
       "      <td>-0.080470</td>\n",
       "      <td>0.029880</td>\n",
       "    </tr>\n",
       "    <tr>\n",
       "      <th>3</th>\n",
       "      <td>-0.904705</td>\n",
       "      <td>-0.465462</td>\n",
       "      <td>-0.041510</td>\n",
       "      <td>0.310598</td>\n",
       "      <td>0.131189</td>\n",
       "      <td>-0.845985</td>\n",
       "      <td>0.027314</td>\n",
       "      <td>0.064318</td>\n",
       "      <td>0.051117</td>\n",
       "      <td>0.009948</td>\n",
       "      <td>0.092111</td>\n",
       "      <td>-0.021523</td>\n",
       "      <td>0.007263</td>\n",
       "      <td>-0.009806</td>\n",
       "      <td>0.033161</td>\n",
       "      <td>0.013664</td>\n",
       "      <td>-0.103778</td>\n",
       "      <td>0.018513</td>\n",
       "    </tr>\n",
       "    <tr>\n",
       "      <th>4</th>\n",
       "      <td>-0.829569</td>\n",
       "      <td>-0.395406</td>\n",
       "      <td>-0.070325</td>\n",
       "      <td>0.588581</td>\n",
       "      <td>0.832244</td>\n",
       "      <td>-0.290599</td>\n",
       "      <td>-0.145859</td>\n",
       "      <td>0.193485</td>\n",
       "      <td>0.064853</td>\n",
       "      <td>-0.023984</td>\n",
       "      <td>0.119906</td>\n",
       "      <td>-0.047381</td>\n",
       "      <td>0.016348</td>\n",
       "      <td>-0.003166</td>\n",
       "      <td>0.159157</td>\n",
       "      <td>-0.028782</td>\n",
       "      <td>-0.083734</td>\n",
       "      <td>0.048326</td>\n",
       "    </tr>\n",
       "    <tr>\n",
       "      <th>...</th>\n",
       "      <td>...</td>\n",
       "      <td>...</td>\n",
       "      <td>...</td>\n",
       "      <td>...</td>\n",
       "      <td>...</td>\n",
       "      <td>...</td>\n",
       "      <td>...</td>\n",
       "      <td>...</td>\n",
       "      <td>...</td>\n",
       "      <td>...</td>\n",
       "      <td>...</td>\n",
       "      <td>...</td>\n",
       "      <td>...</td>\n",
       "      <td>...</td>\n",
       "      <td>...</td>\n",
       "      <td>...</td>\n",
       "      <td>...</td>\n",
       "      <td>...</td>\n",
       "    </tr>\n",
       "    <tr>\n",
       "      <th>12592</th>\n",
       "      <td>1.335048</td>\n",
       "      <td>-0.583419</td>\n",
       "      <td>0.029226</td>\n",
       "      <td>0.015844</td>\n",
       "      <td>-0.391472</td>\n",
       "      <td>-0.480954</td>\n",
       "      <td>-0.134951</td>\n",
       "      <td>0.211026</td>\n",
       "      <td>0.010097</td>\n",
       "      <td>0.020582</td>\n",
       "      <td>-0.040657</td>\n",
       "      <td>-0.027750</td>\n",
       "      <td>0.000969</td>\n",
       "      <td>-0.011194</td>\n",
       "      <td>-0.025894</td>\n",
       "      <td>0.000200</td>\n",
       "      <td>-0.078180</td>\n",
       "      <td>-0.007199</td>\n",
       "    </tr>\n",
       "    <tr>\n",
       "      <th>12593</th>\n",
       "      <td>1.405131</td>\n",
       "      <td>-0.670460</td>\n",
       "      <td>0.009712</td>\n",
       "      <td>-0.052637</td>\n",
       "      <td>-0.116800</td>\n",
       "      <td>-0.214473</td>\n",
       "      <td>0.093448</td>\n",
       "      <td>-0.124880</td>\n",
       "      <td>0.182260</td>\n",
       "      <td>0.002395</td>\n",
       "      <td>-0.040741</td>\n",
       "      <td>-0.000841</td>\n",
       "      <td>0.010156</td>\n",
       "      <td>-0.001210</td>\n",
       "      <td>-0.060212</td>\n",
       "      <td>-0.022054</td>\n",
       "      <td>-0.086270</td>\n",
       "      <td>0.022520</td>\n",
       "    </tr>\n",
       "    <tr>\n",
       "      <th>12594</th>\n",
       "      <td>-1.004226</td>\n",
       "      <td>-0.392154</td>\n",
       "      <td>-0.046524</td>\n",
       "      <td>0.346140</td>\n",
       "      <td>0.210341</td>\n",
       "      <td>-0.746812</td>\n",
       "      <td>-0.012719</td>\n",
       "      <td>0.112154</td>\n",
       "      <td>-0.006549</td>\n",
       "      <td>0.009871</td>\n",
       "      <td>0.091728</td>\n",
       "      <td>-0.019178</td>\n",
       "      <td>0.002943</td>\n",
       "      <td>-0.007896</td>\n",
       "      <td>0.048900</td>\n",
       "      <td>0.015443</td>\n",
       "      <td>-0.066093</td>\n",
       "      <td>0.013044</td>\n",
       "    </tr>\n",
       "    <tr>\n",
       "      <th>12595</th>\n",
       "      <td>-0.928914</td>\n",
       "      <td>-0.411203</td>\n",
       "      <td>-0.072747</td>\n",
       "      <td>0.307538</td>\n",
       "      <td>0.355114</td>\n",
       "      <td>-0.583620</td>\n",
       "      <td>0.043379</td>\n",
       "      <td>0.108800</td>\n",
       "      <td>-0.105393</td>\n",
       "      <td>-0.096392</td>\n",
       "      <td>0.105553</td>\n",
       "      <td>-0.090240</td>\n",
       "      <td>0.006840</td>\n",
       "      <td>-0.005634</td>\n",
       "      <td>0.057926</td>\n",
       "      <td>-0.034731</td>\n",
       "      <td>0.225363</td>\n",
       "      <td>0.065007</td>\n",
       "    </tr>\n",
       "    <tr>\n",
       "      <th>12596</th>\n",
       "      <td>-0.485892</td>\n",
       "      <td>-0.145472</td>\n",
       "      <td>0.040113</td>\n",
       "      <td>0.107849</td>\n",
       "      <td>-0.567034</td>\n",
       "      <td>-0.367530</td>\n",
       "      <td>-0.308341</td>\n",
       "      <td>0.373891</td>\n",
       "      <td>-0.157038</td>\n",
       "      <td>0.087832</td>\n",
       "      <td>-0.138165</td>\n",
       "      <td>0.060996</td>\n",
       "      <td>0.045164</td>\n",
       "      <td>-0.011028</td>\n",
       "      <td>-0.040670</td>\n",
       "      <td>0.049629</td>\n",
       "      <td>0.039751</td>\n",
       "      <td>-0.044389</td>\n",
       "    </tr>\n",
       "  </tbody>\n",
       "</table>\n",
       "<p>12597 rows × 18 columns</p>\n",
       "</div>"
      ],
      "text/plain": [
       "       Variable 0  Variable 1  Variable 2  Variable 3  Variable 4  Variable 5  \\\n",
       "0       -0.271817   -0.031828   -0.007912   -0.057513   -0.242414    0.177061   \n",
       "1        0.172646    0.493701    0.004511   -0.797855   -0.794042    1.396152   \n",
       "2        1.415630   -0.666276    0.012028   -0.028397   -0.176457   -0.336949   \n",
       "3       -0.904705   -0.465462   -0.041510    0.310598    0.131189   -0.845985   \n",
       "4       -0.829569   -0.395406   -0.070325    0.588581    0.832244   -0.290599   \n",
       "...           ...         ...         ...         ...         ...         ...   \n",
       "12592    1.335048   -0.583419    0.029226    0.015844   -0.391472   -0.480954   \n",
       "12593    1.405131   -0.670460    0.009712   -0.052637   -0.116800   -0.214473   \n",
       "12594   -1.004226   -0.392154   -0.046524    0.346140    0.210341   -0.746812   \n",
       "12595   -0.928914   -0.411203   -0.072747    0.307538    0.355114   -0.583620   \n",
       "12596   -0.485892   -0.145472    0.040113    0.107849   -0.567034   -0.367530   \n",
       "\n",
       "       Variable 6  Variable 7  Variable 8  Variable 9  Variable 10  \\\n",
       "0       -0.356098    0.408227    0.040140    0.127188    -0.285534   \n",
       "1       -1.419616    1.811977   -0.912516    0.028659     0.569644   \n",
       "2        0.050862   -0.047344    0.161204    0.009213    -0.124781   \n",
       "3        0.027314    0.064318    0.051117    0.009948     0.092111   \n",
       "4       -0.145859    0.193485    0.064853   -0.023984     0.119906   \n",
       "...           ...         ...         ...         ...          ...   \n",
       "12592   -0.134951    0.211026    0.010097    0.020582    -0.040657   \n",
       "12593    0.093448   -0.124880    0.182260    0.002395    -0.040741   \n",
       "12594   -0.012719    0.112154   -0.006549    0.009871     0.091728   \n",
       "12595    0.043379    0.108800   -0.105393   -0.096392     0.105553   \n",
       "12596   -0.308341    0.373891   -0.157038    0.087832    -0.138165   \n",
       "\n",
       "       Variable 11  Variable 12  Variable 13  Variable 14  Variable 15  \\\n",
       "0         0.055629    -0.009528    -0.000921    -0.079052     0.017701   \n",
       "1        -0.127919    -0.004297    -0.064668     0.004130     0.001129   \n",
       "2        -0.009631     0.008085    -0.003133    -0.059858    -0.013193   \n",
       "3        -0.021523     0.007263    -0.009806     0.033161     0.013664   \n",
       "4        -0.047381     0.016348    -0.003166     0.159157    -0.028782   \n",
       "...            ...          ...          ...          ...          ...   \n",
       "12592    -0.027750     0.000969    -0.011194    -0.025894     0.000200   \n",
       "12593    -0.000841     0.010156    -0.001210    -0.060212    -0.022054   \n",
       "12594    -0.019178     0.002943    -0.007896     0.048900     0.015443   \n",
       "12595    -0.090240     0.006840    -0.005634     0.057926    -0.034731   \n",
       "12596     0.060996     0.045164    -0.011028    -0.040670     0.049629   \n",
       "\n",
       "       Variable 16  Variable 17  \n",
       "0        -0.207684    -0.037550  \n",
       "1        -0.341776    -0.085989  \n",
       "2        -0.080470     0.029880  \n",
       "3        -0.103778     0.018513  \n",
       "4        -0.083734     0.048326  \n",
       "...            ...          ...  \n",
       "12592    -0.078180    -0.007199  \n",
       "12593    -0.086270     0.022520  \n",
       "12594    -0.066093     0.013044  \n",
       "12595     0.225363     0.065007  \n",
       "12596     0.039751    -0.044389  \n",
       "\n",
       "[12597 rows x 18 columns]"
      ]
     },
     "execution_count": 39,
     "metadata": {},
     "output_type": "execute_result"
    }
   ],
   "source": [
    "one_hot_data_svm_ten_percent"
   ]
  },
  {
   "cell_type": "code",
   "execution_count": 47,
   "id": "caad1e14",
   "metadata": {},
   "outputs": [
    {
     "name": "stdout",
     "output_type": "stream",
     "text": [
      "Training accuracy: 0.4153\n",
      "[[31541 35802]\n",
      " [37854 20776]]\n"
     ]
    }
   ],
   "source": [
    "#Evaluation on training result\n",
    "y_pred_svm = np.where(y_pred_svm == -1, 0, y_pred_svm)\n",
    "\n",
    "train_acc = accuracy_score(kdd_train_y['class_binary'], y_pred_svm)\n",
    "print(\"Training accuracy: {:.4f}\".format(train_acc))\n",
    "cm_svm = confusion_matrix (kdd_train_y[\"class_binary\"], y_pred_svm)\n",
    "print(cm_svm)"
   ]
  },
  {
   "cell_type": "code",
   "execution_count": 49,
   "id": "72817ce2",
   "metadata": {},
   "outputs": [
    {
     "data": {
      "text/plain": [
       "Text(0.5, 1.0, 'Seaborn Confusion Matrix with labels\\n\\n')"
      ]
     },
     "execution_count": 49,
     "metadata": {},
     "output_type": "execute_result"
    },
    {
     "data": {
      "text/plain": [
       "Text(0.5, 15.0, '\\nPredicted Values')"
      ]
     },
     "execution_count": 49,
     "metadata": {},
     "output_type": "execute_result"
    },
    {
     "data": {
      "text/plain": [
       "Text(33.0, 0.5, 'Actual Values ')"
      ]
     },
     "execution_count": 49,
     "metadata": {},
     "output_type": "execute_result"
    },
    {
     "data": {
      "text/plain": [
       "[Text(0.5, 0, 'True'), Text(1.5, 0, 'False')]"
      ]
     },
     "execution_count": 49,
     "metadata": {},
     "output_type": "execute_result"
    },
    {
     "data": {
      "text/plain": [
       "[Text(0, 0.5, 'True'), Text(0, 1.5, 'False')]"
      ]
     },
     "execution_count": 49,
     "metadata": {},
     "output_type": "execute_result"
    },
    {
     "data": {
      "image/png": "[encoded data removed]",
      "text/plain": [
       "<Figure size 432x288 with 2 Axes>"
      ]
     },
     "metadata": {
      "needs_background": "light"
     },
     "output_type": "display_data"
    }
   ],
   "source": [
    "ax = sns.heatmap(cm_svm, annot=True, cmap='Blues')\n",
    "\n",
    "ax.set_title('Seaborn Confusion Matrix with labels\\n\\n');\n",
    "ax.set_xlabel('\\nPredicted Values')\n",
    "ax.set_ylabel('Actual Values ');\n",
    "\n",
    "## Ticket labels - List must be in alphabetical order\n",
    "ax.xaxis.set_ticklabels(['True','False'])\n",
    "ax.yaxis.set_ticklabels(['True','False'])\n",
    "\n",
    "## Display the visualization of the Confusion Matrix.\n",
    "plt.show()"
   ]
  },
  {
   "cell_type": "markdown",
   "id": "6cfce412",
   "metadata": {},
   "source": [
    "### Accuracy Increase from 0.1468 --> 0.4153"
   ]
  },
  {
   "cell_type": "markdown",
   "id": "89474c17",
   "metadata": {},
   "source": [
    "# Testing"
   ]
  }
 ],
 "metadata": {
  "kernelspec": {
   "display_name": "Python 3 (ipykernel)",
   "language": "python",
   "name": "python3"
  },
  "language_info": {
   "codemirror_mode": {
    "name": "ipython",
    "version": 3
   },
   "file_extension": ".py",
   "mimetype": "text/x-python",
   "name": "python",
   "nbconvert_exporter": "python",
   "pygments_lexer": "ipython3",
   "version": "3.10.10"
  }
 },
 "nbformat": 4,
 "nbformat_minor": 5
}
