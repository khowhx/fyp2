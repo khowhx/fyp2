{
 "cells": [
  {
   "cell_type": "code",
   "execution_count": 1,
   "id": "aff8f08e",
   "metadata": {},
   "outputs": [
    {
     "name": "stdout",
     "output_type": "stream",
     "text": [
      "sys.version_info(major=3, minor=10, micro=10, releaselevel='final', serial=0)\n",
      "1.1.1\n"
     ]
    }
   ],
   "source": [
    "# To show the python version\n",
    "import sys\n",
    "assert sys.version_info >= (3,8)\n",
    "print(sys.version_info)\n",
    "\n",
    "# to show all the output from a code chunk\n",
    "from IPython.core.interactiveshell import InteractiveShell\n",
    "InteractiveShell.ast_node_interactivity = \"all\"\n",
    "\n",
    "# matplotlib for plotting\n",
    "from matplotlib import pyplot as plt\n",
    "%matplotlib inline\n",
    "\n",
    "# Other external libraries like pandas and numpy\n",
    "import pandas as pd\n",
    "import numpy as np\n",
    "np.random.seed(999)\n",
    "\n",
    "# machine learning models\n",
    "import sklearn\n",
    "print(sklearn.__version__)\n",
    "\n",
    "#import others\n",
    "from sklearn.metrics import confusion_matrix\n",
    "from sklearn import model_selection, datasets\n",
    "from sklearn.tree import DecisionTreeClassifier\n",
    "import joblib\n",
    "import pickle\n",
    "import seaborn as sns\n",
    "\n",
    "from sklearn.model_selection import RandomizedSearchCV\n",
    "from sklearn.model_selection import GridSearchCV"
   ]
  },
  {
   "cell_type": "code",
   "execution_count": 2,
   "id": "06ebe2e9",
   "metadata": {},
   "outputs": [],
   "source": [
    "from scipy.io import arff\n",
    "# Load the arff file\n",
    "header_info = arff.loadarff(\"Dataset/KDDTrain+.arff\")\n",
    "df = pd.DataFrame(header_info[0])\n",
    "header_names = df.columns.values.tolist()\n",
    "header_names.append('Difficulty')\n",
    "kdd_train = pd.read_csv('Dataset/KDDTrain+.txt', delimiter = ',', header = None)\n",
    "\n"
   ]
  },
  {
   "cell_type": "code",
   "execution_count": 3,
   "id": "9d9fbe1e",
   "metadata": {},
   "outputs": [],
   "source": [
    "#Rename the headers\n",
    "kdd_train.columns = header_names\n",
    "#Drop the target variables\n",
    "kdd_train_x = kdd_train.drop(['class', 'Difficulty'], axis = 1)"
   ]
  },
  {
   "cell_type": "code",
   "execution_count": 4,
   "id": "44589e59",
   "metadata": {},
   "outputs": [
    {
     "name": "stderr",
     "output_type": "stream",
     "text": [
      "C:\\WINDOWS\\system32\\myenv\\lib\\site-packages\\numpy\\core\\fromnumeric.py:3571: FutureWarning: Dropping of nuisance columns in DataFrame reductions (with 'numeric_only=None') is deprecated; in a future version this will raise TypeError.  Select only valid columns before calling the reduction.\n",
      "  return std(axis=axis, dtype=dtype, out=out, ddof=ddof, **kwargs)\n"
     ]
    },
    {
     "data": {
      "text/plain": [
       "duration                       2.604505e+03\n",
       "src_bytes                      5.870308e+06\n",
       "dst_bytes                      4.021253e+06\n",
       "land                           1.408602e-02\n",
       "wrong_fragment                 2.535290e-01\n",
       "urgent                         1.436597e-02\n",
       "hot                            2.149960e+00\n",
       "num_failed_logins              4.523896e-02\n",
       "logged_in                      4.890081e-01\n",
       "num_compromised                2.394195e+01\n",
       "root_shell                     3.660270e-02\n",
       "su_attempted                   4.515420e-02\n",
       "num_root                       2.439952e+01\n",
       "num_file_creations             4.839331e-01\n",
       "num_shells                     2.218104e-02\n",
       "num_access_files               9.936916e-02\n",
       "num_outbound_cmds              0.000000e+00\n",
       "is_host_login                  2.817472e-03\n",
       "is_guest_login                 9.661194e-02\n",
       "count                          1.145082e+02\n",
       "srv_count                      7.263555e+01\n",
       "serror_rate                    4.464539e-01\n",
       "srv_serror_rate                4.470207e-01\n",
       "rerror_rate                    3.204342e-01\n",
       "srv_rerror_rate                3.236459e-01\n",
       "same_srv_rate                  4.396211e-01\n",
       "diff_srv_rate                  1.803137e-01\n",
       "srv_diff_host_rate             2.598295e-01\n",
       "dst_host_count                 9.920582e+01\n",
       "dst_host_srv_count             1.107023e+02\n",
       "dst_host_same_srv_rate         4.489476e-01\n",
       "dst_host_diff_srv_rate         1.889211e-01\n",
       "dst_host_same_src_port_rate    3.089959e-01\n",
       "dst_host_srv_diff_host_rate    1.125634e-01\n",
       "dst_host_serror_rate           4.447823e-01\n",
       "dst_host_srv_serror_rate       4.456674e-01\n",
       "dst_host_rerror_rate           3.065562e-01\n",
       "dst_host_srv_rerror_rate       3.194581e-01\n",
       "dtype: float64"
      ]
     },
     "execution_count": 4,
     "metadata": {},
     "output_type": "execute_result"
    }
   ],
   "source": [
    "np.std(kdd_train_x)\n"
   ]
  },
  {
   "cell_type": "markdown",
   "id": "408c699b",
   "metadata": {},
   "source": [
    "# Since num_outbound_cmds is a zero-variance descriptor, we drop it."
   ]
  },
  {
   "cell_type": "code",
   "execution_count": 5,
   "id": "c0c02099",
   "metadata": {},
   "outputs": [
    {
     "data": {
      "text/html": [
       "<div>\n",
       "<style scoped>\n",
       "    .dataframe tbody tr th:only-of-type {\n",
       "        vertical-align: middle;\n",
       "    }\n",
       "\n",
       "    .dataframe tbody tr th {\n",
       "        vertical-align: top;\n",
       "    }\n",
       "\n",
       "    .dataframe thead th {\n",
       "        text-align: right;\n",
       "    }\n",
       "</style>\n",
       "<table border=\"1\" class=\"dataframe\">\n",
       "  <thead>\n",
       "    <tr style=\"text-align: right;\">\n",
       "      <th></th>\n",
       "      <th>(duration,)</th>\n",
       "      <th>(src_bytes,)</th>\n",
       "      <th>(dst_bytes,)</th>\n",
       "      <th>(land,)</th>\n",
       "      <th>(wrong_fragment,)</th>\n",
       "      <th>(urgent,)</th>\n",
       "      <th>(hot,)</th>\n",
       "      <th>(num_failed_logins,)</th>\n",
       "      <th>(logged_in,)</th>\n",
       "      <th>(num_compromised,)</th>\n",
       "      <th>...</th>\n",
       "      <th>flag_RSTR</th>\n",
       "      <th>flag_S0</th>\n",
       "      <th>flag_S1</th>\n",
       "      <th>flag_S2</th>\n",
       "      <th>flag_S3</th>\n",
       "      <th>flag_SF</th>\n",
       "      <th>flag_SH</th>\n",
       "      <th>protocol_type_icmp</th>\n",
       "      <th>protocol_type_tcp</th>\n",
       "      <th>protocol_type_udp</th>\n",
       "    </tr>\n",
       "  </thead>\n",
       "  <tbody>\n",
       "    <tr>\n",
       "      <th>0</th>\n",
       "      <td>-0.110249</td>\n",
       "      <td>-0.007679</td>\n",
       "      <td>-0.004919</td>\n",
       "      <td>-0.014089</td>\n",
       "      <td>-0.089486</td>\n",
       "      <td>-0.007736</td>\n",
       "      <td>-0.095076</td>\n",
       "      <td>-0.027023</td>\n",
       "      <td>-0.809262</td>\n",
       "      <td>-0.011664</td>\n",
       "      <td>...</td>\n",
       "      <td>0</td>\n",
       "      <td>0</td>\n",
       "      <td>0</td>\n",
       "      <td>0</td>\n",
       "      <td>0</td>\n",
       "      <td>1</td>\n",
       "      <td>0</td>\n",
       "      <td>0</td>\n",
       "      <td>1</td>\n",
       "      <td>0</td>\n",
       "    </tr>\n",
       "    <tr>\n",
       "      <th>1</th>\n",
       "      <td>-0.110249</td>\n",
       "      <td>-0.007737</td>\n",
       "      <td>-0.004919</td>\n",
       "      <td>-0.014089</td>\n",
       "      <td>-0.089486</td>\n",
       "      <td>-0.007736</td>\n",
       "      <td>-0.095076</td>\n",
       "      <td>-0.027023</td>\n",
       "      <td>-0.809262</td>\n",
       "      <td>-0.011664</td>\n",
       "      <td>...</td>\n",
       "      <td>0</td>\n",
       "      <td>0</td>\n",
       "      <td>0</td>\n",
       "      <td>0</td>\n",
       "      <td>0</td>\n",
       "      <td>1</td>\n",
       "      <td>0</td>\n",
       "      <td>0</td>\n",
       "      <td>0</td>\n",
       "      <td>1</td>\n",
       "    </tr>\n",
       "    <tr>\n",
       "      <th>2</th>\n",
       "      <td>-0.110249</td>\n",
       "      <td>-0.007762</td>\n",
       "      <td>-0.004919</td>\n",
       "      <td>-0.014089</td>\n",
       "      <td>-0.089486</td>\n",
       "      <td>-0.007736</td>\n",
       "      <td>-0.095076</td>\n",
       "      <td>-0.027023</td>\n",
       "      <td>-0.809262</td>\n",
       "      <td>-0.011664</td>\n",
       "      <td>...</td>\n",
       "      <td>0</td>\n",
       "      <td>1</td>\n",
       "      <td>0</td>\n",
       "      <td>0</td>\n",
       "      <td>0</td>\n",
       "      <td>0</td>\n",
       "      <td>0</td>\n",
       "      <td>0</td>\n",
       "      <td>1</td>\n",
       "      <td>0</td>\n",
       "    </tr>\n",
       "    <tr>\n",
       "      <th>3</th>\n",
       "      <td>-0.110249</td>\n",
       "      <td>-0.007723</td>\n",
       "      <td>-0.002891</td>\n",
       "      <td>-0.014089</td>\n",
       "      <td>-0.089486</td>\n",
       "      <td>-0.007736</td>\n",
       "      <td>-0.095076</td>\n",
       "      <td>-0.027023</td>\n",
       "      <td>1.235694</td>\n",
       "      <td>-0.011664</td>\n",
       "      <td>...</td>\n",
       "      <td>0</td>\n",
       "      <td>0</td>\n",
       "      <td>0</td>\n",
       "      <td>0</td>\n",
       "      <td>0</td>\n",
       "      <td>1</td>\n",
       "      <td>0</td>\n",
       "      <td>0</td>\n",
       "      <td>1</td>\n",
       "      <td>0</td>\n",
       "    </tr>\n",
       "    <tr>\n",
       "      <th>4</th>\n",
       "      <td>-0.110249</td>\n",
       "      <td>-0.007728</td>\n",
       "      <td>-0.004814</td>\n",
       "      <td>-0.014089</td>\n",
       "      <td>-0.089486</td>\n",
       "      <td>-0.007736</td>\n",
       "      <td>-0.095076</td>\n",
       "      <td>-0.027023</td>\n",
       "      <td>1.235694</td>\n",
       "      <td>-0.011664</td>\n",
       "      <td>...</td>\n",
       "      <td>0</td>\n",
       "      <td>0</td>\n",
       "      <td>0</td>\n",
       "      <td>0</td>\n",
       "      <td>0</td>\n",
       "      <td>1</td>\n",
       "      <td>0</td>\n",
       "      <td>0</td>\n",
       "      <td>1</td>\n",
       "      <td>0</td>\n",
       "    </tr>\n",
       "  </tbody>\n",
       "</table>\n",
       "<p>5 rows × 121 columns</p>\n",
       "</div>"
      ],
      "text/plain": [
       "   (duration,)  (src_bytes,)  (dst_bytes,)   (land,)  (wrong_fragment,)  \\\n",
       "0    -0.110249     -0.007679     -0.004919 -0.014089          -0.089486   \n",
       "1    -0.110249     -0.007737     -0.004919 -0.014089          -0.089486   \n",
       "2    -0.110249     -0.007762     -0.004919 -0.014089          -0.089486   \n",
       "3    -0.110249     -0.007723     -0.002891 -0.014089          -0.089486   \n",
       "4    -0.110249     -0.007728     -0.004814 -0.014089          -0.089486   \n",
       "\n",
       "   (urgent,)    (hot,)  (num_failed_logins,)  (logged_in,)  \\\n",
       "0  -0.007736 -0.095076             -0.027023     -0.809262   \n",
       "1  -0.007736 -0.095076             -0.027023     -0.809262   \n",
       "2  -0.007736 -0.095076             -0.027023     -0.809262   \n",
       "3  -0.007736 -0.095076             -0.027023      1.235694   \n",
       "4  -0.007736 -0.095076             -0.027023      1.235694   \n",
       "\n",
       "   (num_compromised,)  ...  flag_RSTR  flag_S0  flag_S1  flag_S2  flag_S3  \\\n",
       "0           -0.011664  ...          0        0        0        0        0   \n",
       "1           -0.011664  ...          0        0        0        0        0   \n",
       "2           -0.011664  ...          0        1        0        0        0   \n",
       "3           -0.011664  ...          0        0        0        0        0   \n",
       "4           -0.011664  ...          0        0        0        0        0   \n",
       "\n",
       "   flag_SF  flag_SH  protocol_type_icmp  protocol_type_tcp  protocol_type_udp  \n",
       "0        1        0                   0                  1                  0  \n",
       "1        1        0                   0                  0                  1  \n",
       "2        0        0                   0                  1                  0  \n",
       "3        1        0                   0                  1                  0  \n",
       "4        1        0                   0                  1                  0  \n",
       "\n",
       "[5 rows x 121 columns]"
      ]
     },
     "execution_count": 5,
     "metadata": {},
     "output_type": "execute_result"
    },
    {
     "data": {
      "text/html": [
       "<div>\n",
       "<style scoped>\n",
       "    .dataframe tbody tr th:only-of-type {\n",
       "        vertical-align: middle;\n",
       "    }\n",
       "\n",
       "    .dataframe tbody tr th {\n",
       "        vertical-align: top;\n",
       "    }\n",
       "\n",
       "    .dataframe thead th {\n",
       "        text-align: right;\n",
       "    }\n",
       "</style>\n",
       "<table border=\"1\" class=\"dataframe\">\n",
       "  <thead>\n",
       "    <tr style=\"text-align: right;\">\n",
       "      <th></th>\n",
       "      <th>(duration,)</th>\n",
       "      <th>(src_bytes,)</th>\n",
       "      <th>(dst_bytes,)</th>\n",
       "      <th>(land,)</th>\n",
       "      <th>(wrong_fragment,)</th>\n",
       "      <th>(urgent,)</th>\n",
       "      <th>(hot,)</th>\n",
       "      <th>(num_failed_logins,)</th>\n",
       "      <th>(logged_in,)</th>\n",
       "      <th>(num_compromised,)</th>\n",
       "      <th>...</th>\n",
       "      <th>flag_RSTR</th>\n",
       "      <th>flag_S0</th>\n",
       "      <th>flag_S1</th>\n",
       "      <th>flag_S2</th>\n",
       "      <th>flag_S3</th>\n",
       "      <th>flag_SF</th>\n",
       "      <th>flag_SH</th>\n",
       "      <th>protocol_type_icmp</th>\n",
       "      <th>protocol_type_tcp</th>\n",
       "      <th>protocol_type_udp</th>\n",
       "    </tr>\n",
       "  </thead>\n",
       "  <tbody>\n",
       "    <tr>\n",
       "      <th>0</th>\n",
       "      <td>-0.110249</td>\n",
       "      <td>-0.007679</td>\n",
       "      <td>-0.004919</td>\n",
       "      <td>-0.014089</td>\n",
       "      <td>-0.089486</td>\n",
       "      <td>-0.007736</td>\n",
       "      <td>-0.095076</td>\n",
       "      <td>-0.027023</td>\n",
       "      <td>-0.809262</td>\n",
       "      <td>-0.011664</td>\n",
       "      <td>...</td>\n",
       "      <td>0</td>\n",
       "      <td>0</td>\n",
       "      <td>0</td>\n",
       "      <td>0</td>\n",
       "      <td>0</td>\n",
       "      <td>1</td>\n",
       "      <td>0</td>\n",
       "      <td>0</td>\n",
       "      <td>1</td>\n",
       "      <td>0</td>\n",
       "    </tr>\n",
       "    <tr>\n",
       "      <th>1</th>\n",
       "      <td>-0.110249</td>\n",
       "      <td>-0.007737</td>\n",
       "      <td>-0.004919</td>\n",
       "      <td>-0.014089</td>\n",
       "      <td>-0.089486</td>\n",
       "      <td>-0.007736</td>\n",
       "      <td>-0.095076</td>\n",
       "      <td>-0.027023</td>\n",
       "      <td>-0.809262</td>\n",
       "      <td>-0.011664</td>\n",
       "      <td>...</td>\n",
       "      <td>0</td>\n",
       "      <td>0</td>\n",
       "      <td>0</td>\n",
       "      <td>0</td>\n",
       "      <td>0</td>\n",
       "      <td>1</td>\n",
       "      <td>0</td>\n",
       "      <td>0</td>\n",
       "      <td>0</td>\n",
       "      <td>1</td>\n",
       "    </tr>\n",
       "    <tr>\n",
       "      <th>2</th>\n",
       "      <td>-0.110249</td>\n",
       "      <td>-0.007762</td>\n",
       "      <td>-0.004919</td>\n",
       "      <td>-0.014089</td>\n",
       "      <td>-0.089486</td>\n",
       "      <td>-0.007736</td>\n",
       "      <td>-0.095076</td>\n",
       "      <td>-0.027023</td>\n",
       "      <td>-0.809262</td>\n",
       "      <td>-0.011664</td>\n",
       "      <td>...</td>\n",
       "      <td>0</td>\n",
       "      <td>1</td>\n",
       "      <td>0</td>\n",
       "      <td>0</td>\n",
       "      <td>0</td>\n",
       "      <td>0</td>\n",
       "      <td>0</td>\n",
       "      <td>0</td>\n",
       "      <td>1</td>\n",
       "      <td>0</td>\n",
       "    </tr>\n",
       "    <tr>\n",
       "      <th>3</th>\n",
       "      <td>-0.110249</td>\n",
       "      <td>-0.007723</td>\n",
       "      <td>-0.002891</td>\n",
       "      <td>-0.014089</td>\n",
       "      <td>-0.089486</td>\n",
       "      <td>-0.007736</td>\n",
       "      <td>-0.095076</td>\n",
       "      <td>-0.027023</td>\n",
       "      <td>1.235694</td>\n",
       "      <td>-0.011664</td>\n",
       "      <td>...</td>\n",
       "      <td>0</td>\n",
       "      <td>0</td>\n",
       "      <td>0</td>\n",
       "      <td>0</td>\n",
       "      <td>0</td>\n",
       "      <td>1</td>\n",
       "      <td>0</td>\n",
       "      <td>0</td>\n",
       "      <td>1</td>\n",
       "      <td>0</td>\n",
       "    </tr>\n",
       "    <tr>\n",
       "      <th>4</th>\n",
       "      <td>-0.110249</td>\n",
       "      <td>-0.007728</td>\n",
       "      <td>-0.004814</td>\n",
       "      <td>-0.014089</td>\n",
       "      <td>-0.089486</td>\n",
       "      <td>-0.007736</td>\n",
       "      <td>-0.095076</td>\n",
       "      <td>-0.027023</td>\n",
       "      <td>1.235694</td>\n",
       "      <td>-0.011664</td>\n",
       "      <td>...</td>\n",
       "      <td>0</td>\n",
       "      <td>0</td>\n",
       "      <td>0</td>\n",
       "      <td>0</td>\n",
       "      <td>0</td>\n",
       "      <td>1</td>\n",
       "      <td>0</td>\n",
       "      <td>0</td>\n",
       "      <td>1</td>\n",
       "      <td>0</td>\n",
       "    </tr>\n",
       "  </tbody>\n",
       "</table>\n",
       "<p>5 rows × 121 columns</p>\n",
       "</div>"
      ],
      "text/plain": [
       "   (duration,)  (src_bytes,)  (dst_bytes,)   (land,)  (wrong_fragment,)  \\\n",
       "0    -0.110249     -0.007679     -0.004919 -0.014089          -0.089486   \n",
       "1    -0.110249     -0.007737     -0.004919 -0.014089          -0.089486   \n",
       "2    -0.110249     -0.007762     -0.004919 -0.014089          -0.089486   \n",
       "3    -0.110249     -0.007723     -0.002891 -0.014089          -0.089486   \n",
       "4    -0.110249     -0.007728     -0.004814 -0.014089          -0.089486   \n",
       "\n",
       "   (urgent,)    (hot,)  (num_failed_logins,)  (logged_in,)  \\\n",
       "0  -0.007736 -0.095076             -0.027023     -0.809262   \n",
       "1  -0.007736 -0.095076             -0.027023     -0.809262   \n",
       "2  -0.007736 -0.095076             -0.027023     -0.809262   \n",
       "3  -0.007736 -0.095076             -0.027023      1.235694   \n",
       "4  -0.007736 -0.095076             -0.027023      1.235694   \n",
       "\n",
       "   (num_compromised,)  ...  flag_RSTR  flag_S0  flag_S1  flag_S2  flag_S3  \\\n",
       "0           -0.011664  ...          0        0        0        0        0   \n",
       "1           -0.011664  ...          0        0        0        0        0   \n",
       "2           -0.011664  ...          0        1        0        0        0   \n",
       "3           -0.011664  ...          0        0        0        0        0   \n",
       "4           -0.011664  ...          0        0        0        0        0   \n",
       "\n",
       "   flag_SF  flag_SH  protocol_type_icmp  protocol_type_tcp  protocol_type_udp  \n",
       "0        1        0                   0                  1                  0  \n",
       "1        1        0                   0                  0                  1  \n",
       "2        0        0                   0                  1                  0  \n",
       "3        1        0                   0                  1                  0  \n",
       "4        1        0                   0                  1                  0  \n",
       "\n",
       "[5 rows x 121 columns]"
      ]
     },
     "execution_count": 5,
     "metadata": {},
     "output_type": "execute_result"
    },
    {
     "data": {
      "text/plain": [
       "(125973, 121)"
      ]
     },
     "execution_count": 5,
     "metadata": {},
     "output_type": "execute_result"
    }
   ],
   "source": [
    "kdd_train_x = kdd_train_x.drop(['num_outbound_cmds'],axis =1)\n",
    "y = ['class']\n",
    "kdd_train_y = kdd_train[y]\n",
    "\n",
    "#Identify categorical features\n",
    "num_cols = kdd_train_x._get_numeric_data().columns\n",
    "cate_cols = list(set(kdd_train_x.columns) - set(num_cols))\n",
    "\n",
    "from sklearn.preprocessing import StandardScaler\n",
    "std = StandardScaler()\n",
    "\n",
    "#One-Hot Encoding the categorical features\n",
    "cate_features = pd.get_dummies(kdd_train_x[cate_cols], prefix = cate_cols)\n",
    "one_hot_data = kdd_train_x.drop(cate_cols, axis = 1)\n",
    "#Standard Scaler on numeric data\n",
    "std_fit = std.fit(one_hot_data)\n",
    "array_ss = std_fit.transform(one_hot_data)\n",
    "one_hot_data_ss = pd.DataFrame(array_ss,columns=[num_cols])\n",
    "one_hot_data_maha = pd.concat([one_hot_data_ss, cate_features], axis = 1)\n",
    "one_hot_data_if = one_hot_data_maha\n",
    "one_hot_data_if.head()\n",
    "one_hot_data_maha.head()\n",
    "data_array = np.array(one_hot_data_maha)\n",
    "data_array.shape    # Make sure that the Numpy array dimension is consistent with the Pandas Dataframe\n",
    "# function to calculate mahalanobis distance"
   ]
  },
  {
   "cell_type": "code",
   "execution_count": 6,
   "id": "a7285557",
   "metadata": {},
   "outputs": [
    {
     "data": {
      "text/html": [
       "<div>\n",
       "<style scoped>\n",
       "    .dataframe tbody tr th:only-of-type {\n",
       "        vertical-align: middle;\n",
       "    }\n",
       "\n",
       "    .dataframe tbody tr th {\n",
       "        vertical-align: top;\n",
       "    }\n",
       "\n",
       "    .dataframe thead th {\n",
       "        text-align: right;\n",
       "    }\n",
       "</style>\n",
       "<table border=\"1\" class=\"dataframe\">\n",
       "  <thead>\n",
       "    <tr style=\"text-align: right;\">\n",
       "      <th></th>\n",
       "      <th>duration</th>\n",
       "      <th>src_bytes</th>\n",
       "      <th>dst_bytes</th>\n",
       "      <th>land</th>\n",
       "      <th>wrong_fragment</th>\n",
       "      <th>urgent</th>\n",
       "      <th>hot</th>\n",
       "      <th>num_failed_logins</th>\n",
       "      <th>logged_in</th>\n",
       "      <th>num_compromised</th>\n",
       "      <th>...</th>\n",
       "      <th>dst_host_srv_count</th>\n",
       "      <th>dst_host_same_srv_rate</th>\n",
       "      <th>dst_host_diff_srv_rate</th>\n",
       "      <th>dst_host_same_src_port_rate</th>\n",
       "      <th>dst_host_srv_diff_host_rate</th>\n",
       "      <th>dst_host_serror_rate</th>\n",
       "      <th>dst_host_srv_serror_rate</th>\n",
       "      <th>dst_host_rerror_rate</th>\n",
       "      <th>dst_host_srv_rerror_rate</th>\n",
       "      <th>Difficulty</th>\n",
       "    </tr>\n",
       "  </thead>\n",
       "  <tbody>\n",
       "    <tr>\n",
       "      <th>count</th>\n",
       "      <td>125973.00000</td>\n",
       "      <td>1.259730e+05</td>\n",
       "      <td>1.259730e+05</td>\n",
       "      <td>125973.000000</td>\n",
       "      <td>125973.000000</td>\n",
       "      <td>125973.000000</td>\n",
       "      <td>125973.000000</td>\n",
       "      <td>125973.000000</td>\n",
       "      <td>125973.000000</td>\n",
       "      <td>125973.000000</td>\n",
       "      <td>...</td>\n",
       "      <td>125973.000000</td>\n",
       "      <td>125973.000000</td>\n",
       "      <td>125973.000000</td>\n",
       "      <td>125973.000000</td>\n",
       "      <td>125973.000000</td>\n",
       "      <td>125973.000000</td>\n",
       "      <td>125973.000000</td>\n",
       "      <td>125973.000000</td>\n",
       "      <td>125973.000000</td>\n",
       "      <td>125973.000000</td>\n",
       "    </tr>\n",
       "    <tr>\n",
       "      <th>mean</th>\n",
       "      <td>287.14465</td>\n",
       "      <td>4.556674e+04</td>\n",
       "      <td>1.977911e+04</td>\n",
       "      <td>0.000198</td>\n",
       "      <td>0.022687</td>\n",
       "      <td>0.000111</td>\n",
       "      <td>0.204409</td>\n",
       "      <td>0.001222</td>\n",
       "      <td>0.395736</td>\n",
       "      <td>0.279250</td>\n",
       "      <td>...</td>\n",
       "      <td>115.653005</td>\n",
       "      <td>0.521242</td>\n",
       "      <td>0.082951</td>\n",
       "      <td>0.148379</td>\n",
       "      <td>0.032542</td>\n",
       "      <td>0.284452</td>\n",
       "      <td>0.278485</td>\n",
       "      <td>0.118832</td>\n",
       "      <td>0.120240</td>\n",
       "      <td>19.504060</td>\n",
       "    </tr>\n",
       "    <tr>\n",
       "      <th>std</th>\n",
       "      <td>2604.51531</td>\n",
       "      <td>5.870331e+06</td>\n",
       "      <td>4.021269e+06</td>\n",
       "      <td>0.014086</td>\n",
       "      <td>0.253530</td>\n",
       "      <td>0.014366</td>\n",
       "      <td>2.149968</td>\n",
       "      <td>0.045239</td>\n",
       "      <td>0.489010</td>\n",
       "      <td>23.942042</td>\n",
       "      <td>...</td>\n",
       "      <td>110.702741</td>\n",
       "      <td>0.448949</td>\n",
       "      <td>0.188922</td>\n",
       "      <td>0.308997</td>\n",
       "      <td>0.112564</td>\n",
       "      <td>0.444784</td>\n",
       "      <td>0.445669</td>\n",
       "      <td>0.306557</td>\n",
       "      <td>0.319459</td>\n",
       "      <td>2.291503</td>\n",
       "    </tr>\n",
       "    <tr>\n",
       "      <th>min</th>\n",
       "      <td>0.00000</td>\n",
       "      <td>0.000000e+00</td>\n",
       "      <td>0.000000e+00</td>\n",
       "      <td>0.000000</td>\n",
       "      <td>0.000000</td>\n",
       "      <td>0.000000</td>\n",
       "      <td>0.000000</td>\n",
       "      <td>0.000000</td>\n",
       "      <td>0.000000</td>\n",
       "      <td>0.000000</td>\n",
       "      <td>...</td>\n",
       "      <td>0.000000</td>\n",
       "      <td>0.000000</td>\n",
       "      <td>0.000000</td>\n",
       "      <td>0.000000</td>\n",
       "      <td>0.000000</td>\n",
       "      <td>0.000000</td>\n",
       "      <td>0.000000</td>\n",
       "      <td>0.000000</td>\n",
       "      <td>0.000000</td>\n",
       "      <td>0.000000</td>\n",
       "    </tr>\n",
       "    <tr>\n",
       "      <th>25%</th>\n",
       "      <td>0.00000</td>\n",
       "      <td>0.000000e+00</td>\n",
       "      <td>0.000000e+00</td>\n",
       "      <td>0.000000</td>\n",
       "      <td>0.000000</td>\n",
       "      <td>0.000000</td>\n",
       "      <td>0.000000</td>\n",
       "      <td>0.000000</td>\n",
       "      <td>0.000000</td>\n",
       "      <td>0.000000</td>\n",
       "      <td>...</td>\n",
       "      <td>10.000000</td>\n",
       "      <td>0.050000</td>\n",
       "      <td>0.000000</td>\n",
       "      <td>0.000000</td>\n",
       "      <td>0.000000</td>\n",
       "      <td>0.000000</td>\n",
       "      <td>0.000000</td>\n",
       "      <td>0.000000</td>\n",
       "      <td>0.000000</td>\n",
       "      <td>18.000000</td>\n",
       "    </tr>\n",
       "    <tr>\n",
       "      <th>50%</th>\n",
       "      <td>0.00000</td>\n",
       "      <td>4.400000e+01</td>\n",
       "      <td>0.000000e+00</td>\n",
       "      <td>0.000000</td>\n",
       "      <td>0.000000</td>\n",
       "      <td>0.000000</td>\n",
       "      <td>0.000000</td>\n",
       "      <td>0.000000</td>\n",
       "      <td>0.000000</td>\n",
       "      <td>0.000000</td>\n",
       "      <td>...</td>\n",
       "      <td>63.000000</td>\n",
       "      <td>0.510000</td>\n",
       "      <td>0.020000</td>\n",
       "      <td>0.000000</td>\n",
       "      <td>0.000000</td>\n",
       "      <td>0.000000</td>\n",
       "      <td>0.000000</td>\n",
       "      <td>0.000000</td>\n",
       "      <td>0.000000</td>\n",
       "      <td>20.000000</td>\n",
       "    </tr>\n",
       "    <tr>\n",
       "      <th>75%</th>\n",
       "      <td>0.00000</td>\n",
       "      <td>2.760000e+02</td>\n",
       "      <td>5.160000e+02</td>\n",
       "      <td>0.000000</td>\n",
       "      <td>0.000000</td>\n",
       "      <td>0.000000</td>\n",
       "      <td>0.000000</td>\n",
       "      <td>0.000000</td>\n",
       "      <td>1.000000</td>\n",
       "      <td>0.000000</td>\n",
       "      <td>...</td>\n",
       "      <td>255.000000</td>\n",
       "      <td>1.000000</td>\n",
       "      <td>0.070000</td>\n",
       "      <td>0.060000</td>\n",
       "      <td>0.020000</td>\n",
       "      <td>1.000000</td>\n",
       "      <td>1.000000</td>\n",
       "      <td>0.000000</td>\n",
       "      <td>0.000000</td>\n",
       "      <td>21.000000</td>\n",
       "    </tr>\n",
       "    <tr>\n",
       "      <th>max</th>\n",
       "      <td>42908.00000</td>\n",
       "      <td>1.379964e+09</td>\n",
       "      <td>1.309937e+09</td>\n",
       "      <td>1.000000</td>\n",
       "      <td>3.000000</td>\n",
       "      <td>3.000000</td>\n",
       "      <td>77.000000</td>\n",
       "      <td>5.000000</td>\n",
       "      <td>1.000000</td>\n",
       "      <td>7479.000000</td>\n",
       "      <td>...</td>\n",
       "      <td>255.000000</td>\n",
       "      <td>1.000000</td>\n",
       "      <td>1.000000</td>\n",
       "      <td>1.000000</td>\n",
       "      <td>1.000000</td>\n",
       "      <td>1.000000</td>\n",
       "      <td>1.000000</td>\n",
       "      <td>1.000000</td>\n",
       "      <td>1.000000</td>\n",
       "      <td>21.000000</td>\n",
       "    </tr>\n",
       "  </tbody>\n",
       "</table>\n",
       "<p>8 rows × 39 columns</p>\n",
       "</div>"
      ],
      "text/plain": [
       "           duration     src_bytes     dst_bytes           land  \\\n",
       "count  125973.00000  1.259730e+05  1.259730e+05  125973.000000   \n",
       "mean      287.14465  4.556674e+04  1.977911e+04       0.000198   \n",
       "std      2604.51531  5.870331e+06  4.021269e+06       0.014086   \n",
       "min         0.00000  0.000000e+00  0.000000e+00       0.000000   \n",
       "25%         0.00000  0.000000e+00  0.000000e+00       0.000000   \n",
       "50%         0.00000  4.400000e+01  0.000000e+00       0.000000   \n",
       "75%         0.00000  2.760000e+02  5.160000e+02       0.000000   \n",
       "max     42908.00000  1.379964e+09  1.309937e+09       1.000000   \n",
       "\n",
       "       wrong_fragment         urgent            hot  num_failed_logins  \\\n",
       "count   125973.000000  125973.000000  125973.000000      125973.000000   \n",
       "mean         0.022687       0.000111       0.204409           0.001222   \n",
       "std          0.253530       0.014366       2.149968           0.045239   \n",
       "min          0.000000       0.000000       0.000000           0.000000   \n",
       "25%          0.000000       0.000000       0.000000           0.000000   \n",
       "50%          0.000000       0.000000       0.000000           0.000000   \n",
       "75%          0.000000       0.000000       0.000000           0.000000   \n",
       "max          3.000000       3.000000      77.000000           5.000000   \n",
       "\n",
       "           logged_in  num_compromised  ...  dst_host_srv_count  \\\n",
       "count  125973.000000    125973.000000  ...       125973.000000   \n",
       "mean        0.395736         0.279250  ...          115.653005   \n",
       "std         0.489010        23.942042  ...          110.702741   \n",
       "min         0.000000         0.000000  ...            0.000000   \n",
       "25%         0.000000         0.000000  ...           10.000000   \n",
       "50%         0.000000         0.000000  ...           63.000000   \n",
       "75%         1.000000         0.000000  ...          255.000000   \n",
       "max         1.000000      7479.000000  ...          255.000000   \n",
       "\n",
       "       dst_host_same_srv_rate  dst_host_diff_srv_rate  \\\n",
       "count           125973.000000           125973.000000   \n",
       "mean                 0.521242                0.082951   \n",
       "std                  0.448949                0.188922   \n",
       "min                  0.000000                0.000000   \n",
       "25%                  0.050000                0.000000   \n",
       "50%                  0.510000                0.020000   \n",
       "75%                  1.000000                0.070000   \n",
       "max                  1.000000                1.000000   \n",
       "\n",
       "       dst_host_same_src_port_rate  dst_host_srv_diff_host_rate  \\\n",
       "count                125973.000000                125973.000000   \n",
       "mean                      0.148379                     0.032542   \n",
       "std                       0.308997                     0.112564   \n",
       "min                       0.000000                     0.000000   \n",
       "25%                       0.000000                     0.000000   \n",
       "50%                       0.000000                     0.000000   \n",
       "75%                       0.060000                     0.020000   \n",
       "max                       1.000000                     1.000000   \n",
       "\n",
       "       dst_host_serror_rate  dst_host_srv_serror_rate  dst_host_rerror_rate  \\\n",
       "count         125973.000000             125973.000000         125973.000000   \n",
       "mean               0.284452                  0.278485              0.118832   \n",
       "std                0.444784                  0.445669              0.306557   \n",
       "min                0.000000                  0.000000              0.000000   \n",
       "25%                0.000000                  0.000000              0.000000   \n",
       "50%                0.000000                  0.000000              0.000000   \n",
       "75%                1.000000                  1.000000              0.000000   \n",
       "max                1.000000                  1.000000              1.000000   \n",
       "\n",
       "       dst_host_srv_rerror_rate     Difficulty  \n",
       "count             125973.000000  125973.000000  \n",
       "mean                   0.120240      19.504060  \n",
       "std                    0.319459       2.291503  \n",
       "min                    0.000000       0.000000  \n",
       "25%                    0.000000      18.000000  \n",
       "50%                    0.000000      20.000000  \n",
       "75%                    0.000000      21.000000  \n",
       "max                    1.000000      21.000000  \n",
       "\n",
       "[8 rows x 39 columns]"
      ]
     },
     "execution_count": 6,
     "metadata": {},
     "output_type": "execute_result"
    }
   ],
   "source": [
    "kdd_train.describe()"
   ]
  },
  {
   "cell_type": "code",
   "execution_count": 7,
   "id": "aa835eba",
   "metadata": {},
   "outputs": [
    {
     "data": {
      "text/plain": [
       "0"
      ]
     },
     "execution_count": 7,
     "metadata": {},
     "output_type": "execute_result"
    }
   ],
   "source": [
    "kdd_train.duplicated().any().sum()"
   ]
  },
  {
   "cell_type": "code",
   "execution_count": null,
   "id": "88322f6f",
   "metadata": {},
   "outputs": [],
   "source": []
  },
  {
   "cell_type": "code",
   "execution_count": 8,
   "id": "287a957b",
   "metadata": {},
   "outputs": [
    {
     "name": "stderr",
     "output_type": "stream",
     "text": [
      "C:\\Users\\khxia\\AppData\\Local\\Temp\\ipykernel_15104\\3533821117.py:24: SettingWithCopyWarning: \n",
      "A value is trying to be set on a copy of a slice from a DataFrame.\n",
      "Try using .loc[row_indexer,col_indexer] = value instead\n",
      "\n",
      "See the caveats in the documentation: https://pandas.pydata.org/pandas-docs/stable/user_guide/indexing.html#returning-a-view-versus-a-copy\n",
      "  kdd_train_y[\"class_binary\"] = kdd_train_y[\"class\"].map(label_map)\n"
     ]
    }
   ],
   "source": [
    "label_map = {\"normal\": 0,\n",
    "            \"neptune\": 1,\n",
    "            \"satan\": 1,\n",
    "            \"ipsweep\": 1,\n",
    "            \"portsweep\": 1,\n",
    "            \"smurf\": 1,\n",
    "            \"nmap\": 1,\n",
    "            \"back\": 1,\n",
    "            \"teardrop\": 1,\n",
    "            \"warezclient\": 1,\n",
    "            \"pod\": 1,\n",
    "            \"guess_passwd\": 1,\n",
    "            \"buffer_overflow\": 1,\n",
    "            \"warezmaster\": 1,\n",
    "            \"land\": 1,\n",
    "            \"imap\": 1,\n",
    "            \"rootkit\": 1,\n",
    "            \"loadmodule\": 1,\n",
    "            \"ftp_write\": 1,\n",
    "            \"multihop\": 1,\n",
    "            \"phf\": 1,\n",
    "            \"perl\": 1, \n",
    "            \"spy\": 1}\n",
    "kdd_train_y[\"class_binary\"] = kdd_train_y[\"class\"].map(label_map)"
   ]
  },
  {
   "cell_type": "code",
   "execution_count": 9,
   "id": "55d6a501",
   "metadata": {},
   "outputs": [
    {
     "data": {
      "text/plain": [
       "58630"
      ]
     },
     "execution_count": 9,
     "metadata": {},
     "output_type": "execute_result"
    }
   ],
   "source": [
    "count = 0\n",
    "\n",
    "for i in range(len(kdd_train_y)):\n",
    "    if (kdd_train_y.loc[i,'class_binary']==1):\n",
    "        count +=1\n",
    "count"
   ]
  },
  {
   "cell_type": "code",
   "execution_count": 10,
   "id": "27d1ae67",
   "metadata": {
    "scrolled": true
   },
   "outputs": [
    {
     "data": {
      "text/plain": [
       "58630"
      ]
     },
     "execution_count": 10,
     "metadata": {},
     "output_type": "execute_result"
    }
   ],
   "source": [
    "np.count_nonzero(kdd_train_y['class_binary']==1)"
   ]
  },
  {
   "cell_type": "markdown",
   "id": "e3687c42",
   "metadata": {},
   "source": [
    "# PCA"
   ]
  },
  {
   "cell_type": "markdown",
   "id": "b845924c",
   "metadata": {},
   "source": [
    "## Hyperparameter Tunning for PCA"
   ]
  },
  {
   "cell_type": "code",
   "execution_count": 11,
   "id": "8f25ae22",
   "metadata": {},
   "outputs": [],
   "source": [
    "from sklearn.metrics import make_scorer, f1_score\n",
    "\n",
    "def scorer_f(estimator, X):   #your own scorer\n",
    "      return np.mean(estimator.score_samples(X))\n",
    "    "
   ]
  },
  {
   "cell_type": "code",
   "execution_count": 12,
   "id": "61f0df2b",
   "metadata": {},
   "outputs": [],
   "source": [
    "parameters_pca = {'n_components' : np.linspace(0.1, 1, num = 22)}"
   ]
  },
  {
   "cell_type": "code",
   "execution_count": 13,
   "id": "f228d9cf",
   "metadata": {},
   "outputs": [],
   "source": [
    "from sklearn.decomposition import PCA\n",
    "model_pca = PCA()"
   ]
  },
  {
   "cell_type": "code",
   "execution_count": 14,
   "id": "58d75b54",
   "metadata": {},
   "outputs": [],
   "source": [
    "idx_rand = np.random.permutation(len(kdd_train_x))\n",
    "num_sample = int(0.01*len(kdd_train_x))\n",
    "one_hot_data_pca = one_hot_data_maha\n",
    "one_hot_data_pca_sample = one_hot_data_pca.iloc[idx_rand[:num_sample]]\n",
    "kdd_train_y_sample = kdd_train_y.iloc[idx_rand[:num_sample]]\n",
    "\n"
   ]
  },
  {
   "cell_type": "code",
   "execution_count": 15,
   "id": "af6bb1ed",
   "metadata": {},
   "outputs": [
    {
     "name": "stdout",
     "output_type": "stream",
     "text": [
      " Results from Random Search \n",
      "\n",
      " The best estimator across ALL searched params:\n",
      " PCA(n_components=0.9571428571428572)\n",
      "\n",
      " The best score across ALL searched params:\n",
      " nan\n",
      "\n",
      " The best parameters across ALL searched params:\n",
      " {'n_components': 0.9571428571428572}\n"
     ]
    },
    {
     "name": "stderr",
     "output_type": "stream",
     "text": [
      "C:\\WINDOWS\\system32\\myenv\\lib\\site-packages\\sklearn\\model_selection\\_validation.py:378: FitFailedWarning: \n",
      "3 fits failed out of a total of 30.\n",
      "The score on these train-test partitions for these parameters will be set to nan.\n",
      "If these failures are not expected, you can try to debug them by setting error_score='raise'.\n",
      "\n",
      "Below are more details about the failures:\n",
      "--------------------------------------------------------------------------------\n",
      "3 fits failed with the following error:\n",
      "Traceback (most recent call last):\n",
      "  File \"C:\\WINDOWS\\system32\\myenv\\lib\\site-packages\\sklearn\\model_selection\\_validation.py\", line 686, in _fit_and_score\n",
      "    estimator.fit(X_train, y_train, **fit_params)\n",
      "  File \"C:\\WINDOWS\\system32\\myenv\\lib\\site-packages\\sklearn\\decomposition\\_pca.py\", line 408, in fit\n",
      "    self._fit(X)\n",
      "  File \"C:\\WINDOWS\\system32\\myenv\\lib\\site-packages\\sklearn\\decomposition\\_pca.py\", line 485, in _fit\n",
      "    return self._fit_truncated(X, n_components, self._fit_svd_solver)\n",
      "  File \"C:\\WINDOWS\\system32\\myenv\\lib\\site-packages\\sklearn\\decomposition\\_pca.py\", line 576, in _fit_truncated\n",
      "    raise ValueError(\n",
      "ValueError: n_components=1.0 must be of type int when greater than or equal to 1, was of type=<class 'numpy.float64'>\n",
      "\n",
      "  warnings.warn(some_fits_failed_message, FitFailedWarning)\n",
      "C:\\WINDOWS\\system32\\myenv\\lib\\site-packages\\sklearn\\model_selection\\_search.py:953: UserWarning: One or more of the test scores are non-finite: [nan nan nan nan nan nan nan nan nan nan]\n",
      "  warnings.warn(\n",
      "C:\\WINDOWS\\system32\\myenv\\lib\\site-packages\\sklearn\\model_selection\\_search.py:953: UserWarning: One or more of the train scores are non-finite: [nan nan nan nan nan nan nan nan nan nan]\n",
      "  warnings.warn(\n",
      "C:\\WINDOWS\\system32\\myenv\\lib\\site-packages\\sklearn\\utils\\validation.py:1858: FutureWarning: Feature names only support names that are all strings. Got feature names with dtypes: ['str', 'tuple']. An error will be raised in 1.2.\n",
      "  warnings.warn(\n"
     ]
    }
   ],
   "source": [
    "f1sc = make_scorer(f1_score, average = 'micro')\n",
    "randm_src = RandomizedSearchCV(estimator=model_pca, param_distributions = parameters_pca, cv = 3, scoring = f1sc, random_state = 0, return_train_score = True, n_jobs = -1)\n",
    "model_src = randm_src.fit(one_hot_data_pca_sample, kdd_train_y_sample[\"class_binary\"])\n",
    "\n",
    "print(\" Results from Random Search \" )\n",
    "print(\"\\n The best estimator across ALL searched params:\\n\", randm_src.best_estimator_)\n",
    "print(\"\\n The best score across ALL searched params:\\n\", randm_src.best_score_)\n",
    "print(\"\\n The best parameters across ALL searched params:\\n\", randm_src.best_params_)"
   ]
  },
  {
   "cell_type": "code",
   "execution_count": 16,
   "id": "95b8069d",
   "metadata": {},
   "outputs": [],
   "source": [
    "#Keep best % of variance\n",
    "model_pca = PCA(n_components=0.9571428571428572,whiten = True)"
   ]
  },
  {
   "cell_type": "code",
   "execution_count": 17,
   "id": "38bda7c9",
   "metadata": {},
   "outputs": [
    {
     "name": "stderr",
     "output_type": "stream",
     "text": [
      "C:\\WINDOWS\\system32\\myenv\\lib\\site-packages\\sklearn\\utils\\validation.py:1858: FutureWarning: Feature names only support names that are all strings. Got feature names with dtypes: ['str', 'tuple']. An error will be raised in 1.2.\n",
      "  warnings.warn(\n"
     ]
    }
   ],
   "source": [
    "data_pca = model_pca.fit_transform(one_hot_data_maha)"
   ]
  },
  {
   "cell_type": "code",
   "execution_count": 18,
   "id": "32aa62b8",
   "metadata": {},
   "outputs": [
    {
     "name": "stdout",
     "output_type": "stream",
     "text": [
      "(125973, 25)\n"
     ]
    }
   ],
   "source": [
    "print(data_pca.shape)"
   ]
  },
  {
   "cell_type": "code",
   "execution_count": 19,
   "id": "90f7430a",
   "metadata": {},
   "outputs": [],
   "source": [
    "model_pca = PCA(n_components=25,whiten=True)"
   ]
  },
  {
   "cell_type": "code",
   "execution_count": 20,
   "id": "08e1f8ad",
   "metadata": {},
   "outputs": [
    {
     "name": "stderr",
     "output_type": "stream",
     "text": [
      "C:\\WINDOWS\\system32\\myenv\\lib\\site-packages\\sklearn\\utils\\validation.py:1858: FutureWarning: Feature names only support names that are all strings. Got feature names with dtypes: ['str', 'tuple']. An error will be raised in 1.2.\n",
      "  warnings.warn(\n"
     ]
    },
    {
     "name": "stdout",
     "output_type": "stream",
     "text": [
      "(125973, 25)\n"
     ]
    }
   ],
   "source": [
    "data_pca = model_pca.fit_transform(one_hot_data_maha)\n",
    "print(data_pca.shape)"
   ]
  },
  {
   "cell_type": "code",
   "execution_count": 21,
   "id": "090b43d0",
   "metadata": {},
   "outputs": [
    {
     "name": "stdout",
     "output_type": "stream",
     "text": [
      "['Variable 0', 'Variable 1', 'Variable 2', 'Variable 3', 'Variable 4', 'Variable 5', 'Variable 6', 'Variable 7', 'Variable 8', 'Variable 9', 'Variable 10', 'Variable 11', 'Variable 12', 'Variable 13', 'Variable 14', 'Variable 15', 'Variable 16', 'Variable 17', 'Variable 18', 'Variable 19', 'Variable 20', 'Variable 21', 'Variable 22', 'Variable 23', 'Variable 24']\n"
     ]
    }
   ],
   "source": [
    "new_header =['Variable '+str(i) for i in range(model_pca.n_components)]\n",
    "\n",
    "    \n",
    "print(new_header)"
   ]
  },
  {
   "cell_type": "code",
   "execution_count": 22,
   "id": "7c25506b",
   "metadata": {},
   "outputs": [],
   "source": [
    "data_pca = pd.DataFrame(data_pca,columns=new_header)"
   ]
  },
  {
   "cell_type": "code",
   "execution_count": 23,
   "id": "fdda3f78",
   "metadata": {},
   "outputs": [
    {
     "data": {
      "text/html": [
       "<div>\n",
       "<style scoped>\n",
       "    .dataframe tbody tr th:only-of-type {\n",
       "        vertical-align: middle;\n",
       "    }\n",
       "\n",
       "    .dataframe tbody tr th {\n",
       "        vertical-align: top;\n",
       "    }\n",
       "\n",
       "    .dataframe thead th {\n",
       "        text-align: right;\n",
       "    }\n",
       "</style>\n",
       "<table border=\"1\" class=\"dataframe\">\n",
       "  <thead>\n",
       "    <tr style=\"text-align: right;\">\n",
       "      <th></th>\n",
       "      <th>Variable 0</th>\n",
       "      <th>Variable 1</th>\n",
       "      <th>Variable 2</th>\n",
       "      <th>Variable 3</th>\n",
       "      <th>Variable 4</th>\n",
       "      <th>Variable 5</th>\n",
       "      <th>Variable 6</th>\n",
       "      <th>Variable 7</th>\n",
       "      <th>Variable 8</th>\n",
       "      <th>Variable 9</th>\n",
       "      <th>...</th>\n",
       "      <th>Variable 15</th>\n",
       "      <th>Variable 16</th>\n",
       "      <th>Variable 17</th>\n",
       "      <th>Variable 18</th>\n",
       "      <th>Variable 19</th>\n",
       "      <th>Variable 20</th>\n",
       "      <th>Variable 21</th>\n",
       "      <th>Variable 22</th>\n",
       "      <th>Variable 23</th>\n",
       "      <th>Variable 24</th>\n",
       "    </tr>\n",
       "  </thead>\n",
       "  <tbody>\n",
       "    <tr>\n",
       "      <th>0</th>\n",
       "      <td>-0.271817</td>\n",
       "      <td>-0.031828</td>\n",
       "      <td>-0.007913</td>\n",
       "      <td>-0.057511</td>\n",
       "      <td>-0.242415</td>\n",
       "      <td>0.177059</td>\n",
       "      <td>-0.356125</td>\n",
       "      <td>0.408246</td>\n",
       "      <td>0.040125</td>\n",
       "      <td>0.127202</td>\n",
       "      <td>...</td>\n",
       "      <td>0.017675</td>\n",
       "      <td>-0.207697</td>\n",
       "      <td>-0.037674</td>\n",
       "      <td>-0.320512</td>\n",
       "      <td>0.282794</td>\n",
       "      <td>2.121925</td>\n",
       "      <td>-0.554447</td>\n",
       "      <td>-0.128803</td>\n",
       "      <td>-1.473016</td>\n",
       "      <td>-1.178721</td>\n",
       "    </tr>\n",
       "    <tr>\n",
       "      <th>1</th>\n",
       "      <td>0.172646</td>\n",
       "      <td>0.493701</td>\n",
       "      <td>0.004511</td>\n",
       "      <td>-0.797855</td>\n",
       "      <td>-0.794043</td>\n",
       "      <td>1.396155</td>\n",
       "      <td>-1.419618</td>\n",
       "      <td>1.811961</td>\n",
       "      <td>-0.912519</td>\n",
       "      <td>0.028643</td>\n",
       "      <td>...</td>\n",
       "      <td>0.001159</td>\n",
       "      <td>-0.341808</td>\n",
       "      <td>-0.086006</td>\n",
       "      <td>-0.390951</td>\n",
       "      <td>0.353705</td>\n",
       "      <td>2.470521</td>\n",
       "      <td>-0.970947</td>\n",
       "      <td>0.370646</td>\n",
       "      <td>1.229127</td>\n",
       "      <td>0.620287</td>\n",
       "    </tr>\n",
       "    <tr>\n",
       "      <th>2</th>\n",
       "      <td>1.415630</td>\n",
       "      <td>-0.666276</td>\n",
       "      <td>0.012028</td>\n",
       "      <td>-0.028398</td>\n",
       "      <td>-0.176458</td>\n",
       "      <td>-0.336946</td>\n",
       "      <td>0.050874</td>\n",
       "      <td>-0.047367</td>\n",
       "      <td>0.161117</td>\n",
       "      <td>0.009215</td>\n",
       "      <td>...</td>\n",
       "      <td>-0.013285</td>\n",
       "      <td>-0.080540</td>\n",
       "      <td>0.029774</td>\n",
       "      <td>0.017559</td>\n",
       "      <td>-0.007433</td>\n",
       "      <td>0.089607</td>\n",
       "      <td>0.323902</td>\n",
       "      <td>-0.208934</td>\n",
       "      <td>0.327618</td>\n",
       "      <td>-0.075660</td>\n",
       "    </tr>\n",
       "    <tr>\n",
       "      <th>3</th>\n",
       "      <td>-0.904705</td>\n",
       "      <td>-0.465462</td>\n",
       "      <td>-0.041510</td>\n",
       "      <td>0.310599</td>\n",
       "      <td>0.131188</td>\n",
       "      <td>-0.845985</td>\n",
       "      <td>0.027311</td>\n",
       "      <td>0.064317</td>\n",
       "      <td>0.051110</td>\n",
       "      <td>0.009946</td>\n",
       "      <td>...</td>\n",
       "      <td>0.013663</td>\n",
       "      <td>-0.103790</td>\n",
       "      <td>0.018488</td>\n",
       "      <td>-1.077260</td>\n",
       "      <td>0.095568</td>\n",
       "      <td>-1.068194</td>\n",
       "      <td>-0.187443</td>\n",
       "      <td>-0.311425</td>\n",
       "      <td>0.040937</td>\n",
       "      <td>-0.580676</td>\n",
       "    </tr>\n",
       "    <tr>\n",
       "      <th>4</th>\n",
       "      <td>-0.829569</td>\n",
       "      <td>-0.395406</td>\n",
       "      <td>-0.070325</td>\n",
       "      <td>0.588581</td>\n",
       "      <td>0.832244</td>\n",
       "      <td>-0.290600</td>\n",
       "      <td>-0.145860</td>\n",
       "      <td>0.193486</td>\n",
       "      <td>0.064853</td>\n",
       "      <td>-0.023983</td>\n",
       "      <td>...</td>\n",
       "      <td>-0.028782</td>\n",
       "      <td>-0.083732</td>\n",
       "      <td>0.048325</td>\n",
       "      <td>0.359112</td>\n",
       "      <td>-0.102097</td>\n",
       "      <td>-0.014894</td>\n",
       "      <td>0.542317</td>\n",
       "      <td>0.586908</td>\n",
       "      <td>0.417899</td>\n",
       "      <td>1.189591</td>\n",
       "    </tr>\n",
       "    <tr>\n",
       "      <th>...</th>\n",
       "      <td>...</td>\n",
       "      <td>...</td>\n",
       "      <td>...</td>\n",
       "      <td>...</td>\n",
       "      <td>...</td>\n",
       "      <td>...</td>\n",
       "      <td>...</td>\n",
       "      <td>...</td>\n",
       "      <td>...</td>\n",
       "      <td>...</td>\n",
       "      <td>...</td>\n",
       "      <td>...</td>\n",
       "      <td>...</td>\n",
       "      <td>...</td>\n",
       "      <td>...</td>\n",
       "      <td>...</td>\n",
       "      <td>...</td>\n",
       "      <td>...</td>\n",
       "      <td>...</td>\n",
       "      <td>...</td>\n",
       "      <td>...</td>\n",
       "    </tr>\n",
       "    <tr>\n",
       "      <th>125968</th>\n",
       "      <td>1.432927</td>\n",
       "      <td>-0.660116</td>\n",
       "      <td>0.000861</td>\n",
       "      <td>-0.084749</td>\n",
       "      <td>-0.018009</td>\n",
       "      <td>-0.098309</td>\n",
       "      <td>0.132684</td>\n",
       "      <td>-0.176189</td>\n",
       "      <td>0.182252</td>\n",
       "      <td>-0.003731</td>\n",
       "      <td>...</td>\n",
       "      <td>-0.018946</td>\n",
       "      <td>-0.062724</td>\n",
       "      <td>0.028226</td>\n",
       "      <td>-0.014552</td>\n",
       "      <td>-0.014394</td>\n",
       "      <td>-0.228306</td>\n",
       "      <td>0.052993</td>\n",
       "      <td>0.020973</td>\n",
       "      <td>0.233704</td>\n",
       "      <td>-0.010743</td>\n",
       "    </tr>\n",
       "    <tr>\n",
       "      <th>125969</th>\n",
       "      <td>-0.579312</td>\n",
       "      <td>-0.249285</td>\n",
       "      <td>-0.087692</td>\n",
       "      <td>0.143871</td>\n",
       "      <td>0.675707</td>\n",
       "      <td>0.262858</td>\n",
       "      <td>-0.190330</td>\n",
       "      <td>0.254527</td>\n",
       "      <td>0.112493</td>\n",
       "      <td>0.077054</td>\n",
       "      <td>...</td>\n",
       "      <td>-0.009618</td>\n",
       "      <td>-0.129347</td>\n",
       "      <td>0.007511</td>\n",
       "      <td>0.295710</td>\n",
       "      <td>0.013123</td>\n",
       "      <td>1.560204</td>\n",
       "      <td>1.871805</td>\n",
       "      <td>-0.068701</td>\n",
       "      <td>1.161917</td>\n",
       "      <td>-1.218121</td>\n",
       "    </tr>\n",
       "    <tr>\n",
       "      <th>125970</th>\n",
       "      <td>-0.158302</td>\n",
       "      <td>-0.281355</td>\n",
       "      <td>0.027748</td>\n",
       "      <td>0.556132</td>\n",
       "      <td>0.016131</td>\n",
       "      <td>-0.276331</td>\n",
       "      <td>-0.602392</td>\n",
       "      <td>0.657012</td>\n",
       "      <td>0.010436</td>\n",
       "      <td>0.078128</td>\n",
       "      <td>...</td>\n",
       "      <td>-0.026978</td>\n",
       "      <td>-0.180231</td>\n",
       "      <td>0.006480</td>\n",
       "      <td>0.230491</td>\n",
       "      <td>0.154846</td>\n",
       "      <td>1.554280</td>\n",
       "      <td>-0.749166</td>\n",
       "      <td>1.389912</td>\n",
       "      <td>-1.716389</td>\n",
       "      <td>0.591806</td>\n",
       "    </tr>\n",
       "    <tr>\n",
       "      <th>125971</th>\n",
       "      <td>1.437126</td>\n",
       "      <td>-0.668559</td>\n",
       "      <td>0.014501</td>\n",
       "      <td>-0.037322</td>\n",
       "      <td>-0.168116</td>\n",
       "      <td>-0.276399</td>\n",
       "      <td>0.092500</td>\n",
       "      <td>-0.121089</td>\n",
       "      <td>0.193096</td>\n",
       "      <td>0.007072</td>\n",
       "      <td>...</td>\n",
       "      <td>-0.019991</td>\n",
       "      <td>-0.087068</td>\n",
       "      <td>0.026620</td>\n",
       "      <td>0.024639</td>\n",
       "      <td>0.010871</td>\n",
       "      <td>0.134870</td>\n",
       "      <td>0.074781</td>\n",
       "      <td>-0.037026</td>\n",
       "      <td>0.033694</td>\n",
       "      <td>0.038037</td>\n",
       "    </tr>\n",
       "    <tr>\n",
       "      <th>125972</th>\n",
       "      <td>-0.476780</td>\n",
       "      <td>-0.179868</td>\n",
       "      <td>0.002340</td>\n",
       "      <td>0.331980</td>\n",
       "      <td>0.022217</td>\n",
       "      <td>0.004447</td>\n",
       "      <td>-0.614954</td>\n",
       "      <td>0.670347</td>\n",
       "      <td>0.043615</td>\n",
       "      <td>0.062161</td>\n",
       "      <td>...</td>\n",
       "      <td>-0.021178</td>\n",
       "      <td>-0.323145</td>\n",
       "      <td>0.020324</td>\n",
       "      <td>-0.056475</td>\n",
       "      <td>0.220094</td>\n",
       "      <td>1.837306</td>\n",
       "      <td>-0.714724</td>\n",
       "      <td>0.464146</td>\n",
       "      <td>-1.223494</td>\n",
       "      <td>1.542742</td>\n",
       "    </tr>\n",
       "  </tbody>\n",
       "</table>\n",
       "<p>125973 rows × 25 columns</p>\n",
       "</div>"
      ],
      "text/plain": [
       "        Variable 0  Variable 1  Variable 2  Variable 3  Variable 4  \\\n",
       "0        -0.271817   -0.031828   -0.007913   -0.057511   -0.242415   \n",
       "1         0.172646    0.493701    0.004511   -0.797855   -0.794043   \n",
       "2         1.415630   -0.666276    0.012028   -0.028398   -0.176458   \n",
       "3        -0.904705   -0.465462   -0.041510    0.310599    0.131188   \n",
       "4        -0.829569   -0.395406   -0.070325    0.588581    0.832244   \n",
       "...            ...         ...         ...         ...         ...   \n",
       "125968    1.432927   -0.660116    0.000861   -0.084749   -0.018009   \n",
       "125969   -0.579312   -0.249285   -0.087692    0.143871    0.675707   \n",
       "125970   -0.158302   -0.281355    0.027748    0.556132    0.016131   \n",
       "125971    1.437126   -0.668559    0.014501   -0.037322   -0.168116   \n",
       "125972   -0.476780   -0.179868    0.002340    0.331980    0.022217   \n",
       "\n",
       "        Variable 5  Variable 6  Variable 7  Variable 8  Variable 9  ...  \\\n",
       "0         0.177059   -0.356125    0.408246    0.040125    0.127202  ...   \n",
       "1         1.396155   -1.419618    1.811961   -0.912519    0.028643  ...   \n",
       "2        -0.336946    0.050874   -0.047367    0.161117    0.009215  ...   \n",
       "3        -0.845985    0.027311    0.064317    0.051110    0.009946  ...   \n",
       "4        -0.290600   -0.145860    0.193486    0.064853   -0.023983  ...   \n",
       "...            ...         ...         ...         ...         ...  ...   \n",
       "125968   -0.098309    0.132684   -0.176189    0.182252   -0.003731  ...   \n",
       "125969    0.262858   -0.190330    0.254527    0.112493    0.077054  ...   \n",
       "125970   -0.276331   -0.602392    0.657012    0.010436    0.078128  ...   \n",
       "125971   -0.276399    0.092500   -0.121089    0.193096    0.007072  ...   \n",
       "125972    0.004447   -0.614954    0.670347    0.043615    0.062161  ...   \n",
       "\n",
       "        Variable 15  Variable 16  Variable 17  Variable 18  Variable 19  \\\n",
       "0          0.017675    -0.207697    -0.037674    -0.320512     0.282794   \n",
       "1          0.001159    -0.341808    -0.086006    -0.390951     0.353705   \n",
       "2         -0.013285    -0.080540     0.029774     0.017559    -0.007433   \n",
       "3          0.013663    -0.103790     0.018488    -1.077260     0.095568   \n",
       "4         -0.028782    -0.083732     0.048325     0.359112    -0.102097   \n",
       "...             ...          ...          ...          ...          ...   \n",
       "125968    -0.018946    -0.062724     0.028226    -0.014552    -0.014394   \n",
       "125969    -0.009618    -0.129347     0.007511     0.295710     0.013123   \n",
       "125970    -0.026978    -0.180231     0.006480     0.230491     0.154846   \n",
       "125971    -0.019991    -0.087068     0.026620     0.024639     0.010871   \n",
       "125972    -0.021178    -0.323145     0.020324    -0.056475     0.220094   \n",
       "\n",
       "        Variable 20  Variable 21  Variable 22  Variable 23  Variable 24  \n",
       "0          2.121925    -0.554447    -0.128803    -1.473016    -1.178721  \n",
       "1          2.470521    -0.970947     0.370646     1.229127     0.620287  \n",
       "2          0.089607     0.323902    -0.208934     0.327618    -0.075660  \n",
       "3         -1.068194    -0.187443    -0.311425     0.040937    -0.580676  \n",
       "4         -0.014894     0.542317     0.586908     0.417899     1.189591  \n",
       "...             ...          ...          ...          ...          ...  \n",
       "125968    -0.228306     0.052993     0.020973     0.233704    -0.010743  \n",
       "125969     1.560204     1.871805    -0.068701     1.161917    -1.218121  \n",
       "125970     1.554280    -0.749166     1.389912    -1.716389     0.591806  \n",
       "125971     0.134870     0.074781    -0.037026     0.033694     0.038037  \n",
       "125972     1.837306    -0.714724     0.464146    -1.223494     1.542742  \n",
       "\n",
       "[125973 rows x 25 columns]"
      ]
     },
     "execution_count": 23,
     "metadata": {},
     "output_type": "execute_result"
    }
   ],
   "source": [
    "data_pca"
   ]
  },
  {
   "cell_type": "code",
   "execution_count": 24,
   "id": "b9c3425f",
   "metadata": {},
   "outputs": [],
   "source": [
    "data_array = np.array(data_pca)"
   ]
  },
  {
   "cell_type": "code",
   "execution_count": null,
   "id": "a52e6f5d",
   "metadata": {},
   "outputs": [],
   "source": []
  },
  {
   "cell_type": "markdown",
   "id": "200295b7",
   "metadata": {},
   "source": [
    "# Visualize Data"
   ]
  },
  {
   "cell_type": "code",
   "execution_count": 25,
   "id": "01f1617e",
   "metadata": {},
   "outputs": [],
   "source": [
    "##Using PCA Plotting method\n"
   ]
  },
  {
   "cell_type": "code",
   "execution_count": 26,
   "id": "a0c0254a",
   "metadata": {
    "scrolled": true
   },
   "outputs": [],
   "source": [
    "X_norm = (one_hot_data - one_hot_data.min())/(one_hot_data.max() - one_hot_data.min())\n",
    "pca_plot = PCA(n_components=2)\n",
    "transformed = pd.DataFrame(pca_plot.fit_transform(X_norm))\n",
    "c_binary = kdd_train_y['class_binary']"
   ]
  },
  {
   "cell_type": "code",
   "execution_count": 27,
   "id": "b09fd6ac",
   "metadata": {
    "scrolled": true
   },
   "outputs": [
    {
     "data": {
      "text/plain": [
       "<matplotlib.collections.PathCollection at 0x202952f56c0>"
      ]
     },
     "execution_count": 27,
     "metadata": {},
     "output_type": "execute_result"
    },
    {
     "data": {
      "text/plain": [
       "<matplotlib.legend.Legend at 0x202929fad70>"
      ]
     },
     "execution_count": 27,
     "metadata": {},
     "output_type": "execute_result"
    },
    {
     "data": {
      "image/png": "[encoded data removed]",
      "text/plain": [
       "<Figure size 432x288 with 1 Axes>"
      ]
     },
     "metadata": {
      "needs_background": "light"
     },
     "output_type": "display_data"
    },
    {
     "data": {
      "text/plain": [
       "<matplotlib.collections.PathCollection at 0x202940ed1b0>"
      ]
     },
     "execution_count": 27,
     "metadata": {},
     "output_type": "execute_result"
    },
    {
     "data": {
      "text/plain": [
       "<matplotlib.legend.Legend at 0x202929eec20>"
      ]
     },
     "execution_count": 27,
     "metadata": {},
     "output_type": "execute_result"
    },
    {
     "data": {
      "image/png": "[encoded data removed]",
      "text/plain": [
       "<Figure size 432x288 with 1 Axes>"
      ]
     },
     "metadata": {
      "needs_background": "light"
     },
     "output_type": "display_data"
    },
    {
     "data": {
      "text/plain": [
       "<matplotlib.collections.PathCollection at 0x2029479d600>"
      ]
     },
     "execution_count": 27,
     "metadata": {},
     "output_type": "execute_result"
    },
    {
     "data": {
      "text/plain": [
       "<matplotlib.collections.PathCollection at 0x2029479d9f0>"
      ]
     },
     "execution_count": 27,
     "metadata": {},
     "output_type": "execute_result"
    },
    {
     "data": {
      "text/plain": [
       "<matplotlib.legend.Legend at 0x202952c5540>"
      ]
     },
     "execution_count": 27,
     "metadata": {},
     "output_type": "execute_result"
    },
    {
     "data": {
      "image/png": "[encoded data removed]",
      "text/plain": [
       "<Figure size 432x288 with 1 Axes>"
      ]
     },
     "metadata": {
      "needs_background": "light"
     },
     "output_type": "display_data"
    }
   ],
   "source": [
    "plt.scatter(transformed[c_binary==0][0], transformed[c_binary==0][1], label='Normal', c='blue')\n",
    "\n",
    "plt.legend()\n",
    "plt.show()\n",
    "\n",
    "plt.scatter(transformed[c_binary==1][0], transformed[c_binary==1][1], label='Anomaly', c='red')\n",
    "\n",
    "plt.legend()\n",
    "plt.show()\n",
    "\n",
    "\n",
    "plt.scatter(transformed[c_binary==0][0], transformed[c_binary==0][1], label='Normal', c='blue')\n",
    "plt.scatter(transformed[c_binary==1][0], transformed[c_binary==1][1], label='Anomaly', c='red')\n",
    "plt.legend()\n",
    "plt.show()\n",
    "\n"
   ]
  },
  {
   "cell_type": "markdown",
   "id": "30b4e7b8",
   "metadata": {},
   "source": [
    "# Mahalanobis With PCA"
   ]
  },
  {
   "cell_type": "code",
   "execution_count": 28,
   "id": "3ff85c1f",
   "metadata": {},
   "outputs": [
    {
     "name": "stderr",
     "output_type": "stream",
     "text": [
      "C:\\WINDOWS\\system32\\myenv\\lib\\site-packages\\numpy\\core\\fromnumeric.py:3430: FutureWarning: In a future version, DataFrame.mean(axis=None) will return a scalar mean over the entire DataFrame. To retain the old behavior, use 'frame.mean(axis=0)' or just 'frame.mean()'\n",
      "  return mean(axis=axis, dtype=dtype, out=out, **kwargs)\n"
     ]
    },
    {
     "data": {
      "text/plain": [
       "(duration,)           2.549477e-17\n",
       "(src_bytes,)         -4.512349e-19\n",
       "(dst_bytes,)          7.614590e-19\n",
       "(land,)              -4.794371e-18\n",
       "(wrong_fragment,)     4.230328e-19\n",
       "                          ...     \n",
       "flag_SF               5.949291e-01\n",
       "flag_SH               2.151255e-03\n",
       "protocol_type_icmp    6.581569e-02\n",
       "protocol_type_tcp     8.151667e-01\n",
       "protocol_type_udp     1.190176e-01\n",
       "Length: 121, dtype: float64"
      ]
     },
     "execution_count": 28,
     "metadata": {},
     "output_type": "execute_result"
    },
    {
     "name": "stdout",
     "output_type": "stream",
     "text": [
      "8003\n"
     ]
    }
   ],
   "source": [
    "#Use new PCA data for Mahalanobis Distance\n",
    "import scipy as sp\n",
    "mu_vec = np.mean(data_array,axis = 0)\n",
    "inv_cormat = sp.linalg.pinv(np.cov(data_array, rowvar=False))\n",
    "\n",
    "# For loop to get the distance for all the variables\n",
    "mahal_dist = []\n",
    "\n",
    "for i in range(data_array.shape[0]):\n",
    "    x_minus_mu = data_array[i,:] - mu_vec\n",
    "    left_term = np.dot(x_minus_mu, inv_cormat)\n",
    "    mahal = np.dot(left_term, x_minus_mu.T)\n",
    "    mahal = np.sqrt(mahal)\n",
    "    mahal_dist.append(mahal)\n",
    "\n",
    "np.mean(one_hot_data_maha)\n",
    "\n",
    "from scipy.stats import chi2\n",
    "one_hot_data_maha['p-value'] = 1 - chi2.cdf(mahal_dist, df = 1) #pdf(x, degreeOfFreedom = Number of Variables)\n",
    "\n",
    "#Calculate number of p-value less than 0.01\n",
    "print(np.count_nonzero(one_hot_data_maha['p-value'] < 0.01))"
   ]
  },
  {
   "cell_type": "code",
   "execution_count": 29,
   "id": "03f59836",
   "metadata": {},
   "outputs": [
    {
     "name": "stdout",
     "output_type": "stream",
     "text": [
      "Training accuracy: 0.5601\n",
      "[[64950  2393]\n",
      " [53020  5610]]\n"
     ]
    }
   ],
   "source": [
    "pvalue = one_hot_data_maha['p-value']\n",
    "bi_pvalue = pvalue\n",
    "\n",
    "bi_pvalue = np.where(pvalue < 0.01, 1, bi_pvalue)\n",
    "bi_pvalue = np.where(pvalue >= 0.01, 0, bi_pvalue)\n",
    "\n",
    "from sklearn.metrics import accuracy_score\n",
    "\n",
    "train_acc_maha = accuracy_score(kdd_train_y['class_binary'], bi_pvalue)\n",
    "print(\"Training accuracy: {:.4f}\".format(train_acc_maha))\n",
    "cm_maha = confusion_matrix (kdd_train_y[\"class_binary\"], bi_pvalue)\n",
    "print(cm_maha)"
   ]
  },
  {
   "cell_type": "code",
   "execution_count": 30,
   "id": "a71b3221",
   "metadata": {},
   "outputs": [
    {
     "data": {
      "text/plain": [
       "5610"
      ]
     },
     "execution_count": 30,
     "metadata": {},
     "output_type": "execute_result"
    }
   ],
   "source": [
    "count = 0\n",
    "for i in range(len(kdd_train_y)):\n",
    "    if (bi_pvalue[i] == kdd_train_y.loc[i,'class_binary']==1):\n",
    "        count+=1\n",
    "    \n",
    "count"
   ]
  },
  {
   "cell_type": "code",
   "execution_count": 31,
   "id": "0b3dfe0b",
   "metadata": {},
   "outputs": [
    {
     "data": {
      "text/plain": [
       "58630"
      ]
     },
     "execution_count": 31,
     "metadata": {},
     "output_type": "execute_result"
    }
   ],
   "source": [
    "53020+5610"
   ]
  },
  {
   "cell_type": "code",
   "execution_count": 32,
   "id": "27362451",
   "metadata": {},
   "outputs": [
    {
     "data": {
      "text/plain": [
       "1"
      ]
     },
     "execution_count": 32,
     "metadata": {},
     "output_type": "execute_result"
    }
   ],
   "source": [
    "kdd_train_y.at[5,'class_binary']"
   ]
  },
  {
   "cell_type": "code",
   "execution_count": 33,
   "id": "f975945d",
   "metadata": {},
   "outputs": [
    {
     "data": {
      "text/plain": [
       "Text(0.5, 1.0, 'Seaborn Confusion Matrix with labels\\n\\n')"
      ]
     },
     "execution_count": 33,
     "metadata": {},
     "output_type": "execute_result"
    },
    {
     "data": {
      "text/plain": [
       "Text(0.5, 15.0, 'Predicted Values')"
      ]
     },
     "execution_count": 33,
     "metadata": {},
     "output_type": "execute_result"
    },
    {
     "data": {
      "text/plain": [
       "Text(33.0, 0.5, 'Actual Values ')"
      ]
     },
     "execution_count": 33,
     "metadata": {},
     "output_type": "execute_result"
    },
    {
     "data": {
      "text/plain": [
       "[Text(0.5, 0, 'False'), Text(1.5, 0, 'True')]"
      ]
     },
     "execution_count": 33,
     "metadata": {},
     "output_type": "execute_result"
    },
    {
     "data": {
      "text/plain": [
       "[Text(0, 0.5, 'False'), Text(0, 1.5, 'True')]"
      ]
     },
     "execution_count": 33,
     "metadata": {},
     "output_type": "execute_result"
    },
    {
     "data": {
      "image/png": "[encoded data removed]",
      "text/plain": [
       "<Figure size 432x288 with 2 Axes>"
      ]
     },
     "metadata": {
      "needs_background": "light"
     },
     "output_type": "display_data"
    },
    {
     "name": "stdout",
     "output_type": "stream",
     "text": [
      "Precision =  0.7009871298263152\n",
      "Recall =  0.09568480300187618\n"
     ]
    }
   ],
   "source": [
    "ax = sns.heatmap(cm_maha, annot=True, cmap='Blues')\n",
    "\n",
    "ax.set_title('Seaborn Confusion Matrix with labels\\n\\n');\n",
    "ax.set_xlabel('Predicted Values')\n",
    "ax.set_ylabel('Actual Values ');\n",
    "\n",
    "## Ticket labels - List must be in alphabetical order\n",
    "ax.xaxis.set_ticklabels(['False','True'])\n",
    "ax.yaxis.set_ticklabels(['False','True'])\n",
    "\n",
    "## Display the visualization of the Confusion Matrix.\n",
    "plt.show()\n",
    "\n",
    "\n",
    "## FP,FN,TP,TN\n",
    "TN_maha = cm_maha[0][0]\n",
    "FN_maha = cm_maha[1][0]\n",
    "FP_maha = cm_maha[0][1]\n",
    "TP_maha = cm_maha[1][1]\n",
    "\n",
    "##Precision and Recall\n",
    "Precision_maha = TP_maha/(TP_maha+FP_maha)\n",
    "Recall_maha = TP_maha/(TP_maha+FN_maha)\n",
    "\n",
    "print (\"Precision = \",Precision_maha)\n",
    "print (\"Recall = \",Recall_maha)\n"
   ]
  },
  {
   "cell_type": "markdown",
   "id": "16002b73",
   "metadata": {},
   "source": [
    "# MCD"
   ]
  },
  {
   "cell_type": "code",
   "execution_count": 34,
   "id": "54e2dff5",
   "metadata": {},
   "outputs": [],
   "source": [
    "from sklearn.covariance import MinCovDet\n",
    "from sklearn.datasets import make_gaussian_quantiles\n",
    "\n",
    "rng = np.random.RandomState(42)"
   ]
  },
  {
   "cell_type": "code",
   "execution_count": 35,
   "id": "d8e08f30",
   "metadata": {},
   "outputs": [
    {
     "name": "stderr",
     "output_type": "stream",
     "text": [
      "C:\\WINDOWS\\system32\\myenv\\lib\\site-packages\\sklearn\\covariance\\_robust_covariance.py:183: RuntimeWarning: Determinant has increased; this should not happen: log(det) > log(previous_det) (-321.058538048209641 > -321.186385499139078). You may want to try with a higher value of support_fraction (current value: 0.501).\n",
      "  warnings.warn(\n",
      "C:\\WINDOWS\\system32\\myenv\\lib\\site-packages\\sklearn\\covariance\\_robust_covariance.py:183: RuntimeWarning: Determinant has increased; this should not happen: log(det) > log(previous_det) (-332.776033398500033 > -332.780042312221781). You may want to try with a higher value of support_fraction (current value: 0.500).\n",
      "  warnings.warn(\n",
      "C:\\WINDOWS\\system32\\myenv\\lib\\site-packages\\sklearn\\covariance\\_robust_covariance.py:183: RuntimeWarning: Determinant has increased; this should not happen: log(det) > log(previous_det) (-332.775102449938970 > -332.778521164511289). You may want to try with a higher value of support_fraction (current value: 0.500).\n",
      "  warnings.warn(\n"
     ]
    }
   ],
   "source": [
    "mcd_model = MinCovDet(random_state=42).fit(data_pca)"
   ]
  },
  {
   "cell_type": "code",
   "execution_count": 36,
   "id": "ae4a3489",
   "metadata": {},
   "outputs": [
    {
     "data": {
      "text/plain": [
       "array([-6.45741873e-17, -5.84675333e-17,  2.07492609e-16, -8.72932495e-17,\n",
       "       -1.42269110e-16,  8.85777984e-17,  2.12724665e-16,  3.43937087e-16,\n",
       "       -3.09314004e-16,  3.17201527e-16,  1.15442389e-16,  4.99661089e-16,\n",
       "        8.19848908e-17,  2.74239328e-16,  2.32948660e-16,  2.47807107e-16,\n",
       "        2.60467436e-16,  2.55174184e-16, -1.31488126e-15, -4.59229376e-16,\n",
       "       -1.57290629e-16,  1.89494173e-15,  9.41640506e-16, -1.72480325e-15,\n",
       "       -2.28774351e-16])"
      ]
     },
     "execution_count": 36,
     "metadata": {},
     "output_type": "execute_result"
    }
   ],
   "source": [
    "np.mean(data_array,axis = 0)"
   ]
  },
  {
   "cell_type": "code",
   "execution_count": 37,
   "id": "0e90c138",
   "metadata": {},
   "outputs": [
    {
     "data": {
      "text/plain": [
       "array([[ 1.00000000e+00,  1.19583855e-15, -2.03349246e-17,\n",
       "         4.11784311e-17, -2.64294160e-17,  4.26664193e-18,\n",
       "        -3.66223615e-18,  3.03725566e-18, -2.69637678e-18,\n",
       "         2.52283095e-18, -1.84277162e-18, -1.24235685e-19,\n",
       "         9.88407331e-19,  1.26231109e-18,  3.65244852e-18,\n",
       "        -1.88481064e-18,  3.38588121e-18, -4.62466345e-19,\n",
       "        -7.51927739e-18, -1.62608295e-18,  1.07206856e-17,\n",
       "        -1.93793493e-17,  1.12999084e-18, -1.31633182e-17,\n",
       "        -1.21430643e-17],\n",
       "       [ 1.36151875e-15,  1.00000000e+00, -6.06528139e-17,\n",
       "        -9.27982707e-18, -9.08411846e-17, -5.64058188e-18,\n",
       "         1.61725791e-17,  2.47597281e-19, -1.59123570e-17,\n",
       "         2.82378062e-17, -3.20090348e-17,  3.88098721e-17,\n",
       "         9.94687370e-18, -1.31412701e-17, -5.08552129e-19,\n",
       "        -1.42918236e-17, -3.60520937e-17, -1.71097272e-17,\n",
       "        -2.68480080e-17,  4.90159565e-18,  4.08685587e-17,\n",
       "        -5.98391056e-19, -1.35821228e-17,  5.47286217e-17,\n",
       "        -3.64291930e-17],\n",
       "       [-2.01780451e-17,  3.47172106e-17,  1.00000000e+00,\n",
       "         5.78572061e-16, -1.41236066e-16,  4.15956510e-16,\n",
       "        -5.61756639e-16,  9.75643384e-16, -4.15793258e-16,\n",
       "        -4.88598348e-16,  1.03813290e-17,  3.71692086e-16,\n",
       "         1.00573823e-15, -5.05986492e-17,  4.58534000e-16,\n",
       "        -2.65249634e-16, -5.03570450e-16,  1.01490760e-15,\n",
       "         6.18033731e-16,  1.05945062e-15, -7.28678456e-16,\n",
       "         7.69033026e-16, -6.00160055e-16,  7.39213371e-16,\n",
       "        -1.11022302e-16],\n",
       "       [ 4.17499390e-17, -7.47391526e-18, -4.29701143e-16,\n",
       "         1.00000000e+00, -2.58804374e-16,  7.60898487e-17,\n",
       "        -8.74185173e-17,  3.71843491e-16,  9.50631367e-17,\n",
       "        -2.22592070e-16,  2.00850896e-16,  5.88621076e-17,\n",
       "         2.18150617e-16,  1.88502944e-16,  3.64597530e-16,\n",
       "         7.93391263e-16,  2.99747043e-17,  5.86718423e-17,\n",
       "        -1.66083105e-16,  4.50081067e-17,  1.45530986e-16,\n",
       "        -4.93032256e-16, -9.46472386e-17, -8.48457570e-17,\n",
       "        -6.66133815e-16],\n",
       "       [-2.78543841e-17,  1.68531934e-17, -1.67053043e-16,\n",
       "        -7.62675017e-16,  1.00000000e+00, -3.10849654e-16,\n",
       "         4.10897970e-19, -5.27206818e-16,  8.43476729e-16,\n",
       "         1.02750728e-15, -1.89521870e-16,  5.76595744e-16,\n",
       "        -4.50682097e-16,  2.71763977e-16,  1.63218855e-16,\n",
       "         2.06463281e-16, -2.57867680e-18, -3.81258729e-16,\n",
       "        -1.00244267e-15, -4.11981981e-16,  9.24392640e-16,\n",
       "        -7.07132670e-16, -4.06952553e-16, -4.86320129e-18,\n",
       "        -6.10622664e-16],\n",
       "       [ 4.58192070e-18,  9.78313705e-18, -8.42289265e-16,\n",
       "        -4.58895727e-16,  3.66698396e-16,  1.00000000e+00,\n",
       "        -8.56378227e-16, -3.41105711e-16,  6.49577010e-17,\n",
       "        -4.32794462e-17,  7.93717837e-16,  2.18586624e-16,\n",
       "         4.91760849e-17,  1.84771395e-16, -4.36663406e-16,\n",
       "         2.39133486e-16, -9.89933962e-16, -2.23543439e-16,\n",
       "         7.41670466e-16,  1.12788003e-15, -4.65777848e-16,\n",
       "         5.32666038e-16, -2.97670089e-17, -6.45507147e-17,\n",
       "         6.93889390e-17],\n",
       "       [-3.76538848e-18, -1.52897405e-17, -4.00309423e-16,\n",
       "        -2.03789663e-16, -1.34722682e-16,  9.92760831e-16,\n",
       "         1.00000000e+00, -1.02182105e-15,  1.77817851e-16,\n",
       "        -1.32525973e-17,  3.30915041e-16, -3.65468755e-17,\n",
       "         1.31983066e-16,  2.16795234e-16, -2.42418723e-17,\n",
       "        -9.28928703e-18, -1.98492964e-16,  1.84881051e-16,\n",
       "         1.75200295e-16, -6.46787424e-17,  2.14100790e-16,\n",
       "         2.45098792e-16,  1.08302497e-16, -5.01018434e-18,\n",
       "         1.09287579e-16],\n",
       "       [ 3.37962906e-18,  2.79058228e-17, -3.77964052e-16,\n",
       "        -1.15797292e-16,  1.41474673e-15, -5.53905443e-16,\n",
       "         7.77270310e-16,  1.00000000e+00, -2.04267659e-16,\n",
       "        -4.27849285e-16, -6.44244493e-16, -8.46183704e-16,\n",
       "         3.31645404e-17, -4.29921010e-16,  1.96230940e-16,\n",
       "         3.63981352e-16,  2.20831304e-16, -6.75865379e-16,\n",
       "        -3.45540127e-16,  2.96454156e-16, -7.04175439e-16,\n",
       "         1.02029645e-16,  1.48390193e-16,  3.23421698e-17,\n",
       "        -4.44089210e-16],\n",
       "       [-2.96668276e-18, -9.82980857e-18,  3.54702096e-16,\n",
       "        -1.57270216e-16, -1.52495252e-15, -4.45150563e-17,\n",
       "        -1.57095487e-16, -1.66970571e-16,  1.00000000e+00,\n",
       "        -4.69873658e-16, -8.76555171e-16,  2.12005503e-16,\n",
       "         6.42160748e-16, -1.94826979e-19,  2.18488400e-16,\n",
       "        -3.47689619e-17,  3.87913365e-16, -2.75263624e-16,\n",
       "        -6.23729272e-16, -2.70812053e-16, -8.20382116e-16,\n",
       "         2.87509705e-16, -4.47467788e-16, -1.82447802e-16,\n",
       "         2.42861287e-16],\n",
       "       [ 2.71736980e-18, -8.46434526e-18,  1.17777256e-15,\n",
       "        -6.40385806e-17, -1.17343366e-15,  3.04361234e-16,\n",
       "        -2.37655146e-16, -5.79278572e-16, -9.99692644e-18,\n",
       "         1.00000000e+00,  4.89908588e-16,  2.45125786e-16,\n",
       "         6.69878281e-16,  7.05811068e-16,  3.72349784e-16,\n",
       "         2.39354839e-16,  8.00175044e-16,  7.22505475e-17,\n",
       "         6.34370008e-16, -6.85885037e-16, -9.48165656e-17,\n",
       "         9.15330654e-17, -8.75652646e-17, -3.02405922e-16,\n",
       "        -4.71844785e-16],\n",
       "       [-1.93951510e-18, -3.43285431e-18, -1.87119720e-16,\n",
       "        -1.21330957e-16, -1.92256346e-16, -4.38164333e-16,\n",
       "        -4.41371001e-16, -3.25701086e-16, -6.00728294e-16,\n",
       "        -9.59635973e-16,  1.00000000e+00,  1.53256521e-16,\n",
       "         2.37705490e-16,  7.61814531e-16,  8.61235012e-16,\n",
       "         5.42089664e-16, -6.03101341e-16,  1.53199983e-15,\n",
       "        -4.60905623e-17, -1.62161980e-16,  1.39012677e-15,\n",
       "         3.93673192e-16,  5.40104819e-16,  2.35246953e-16,\n",
       "         1.11022302e-16],\n",
       "       [-1.30171143e-19, -9.41751809e-18,  1.09645449e-16,\n",
       "         5.47262377e-17, -3.85137495e-17, -5.48505216e-16,\n",
       "         9.48268966e-17,  2.87399115e-16, -8.54023389e-18,\n",
       "        -6.73775767e-16, -3.01657269e-16,  1.00000000e+00,\n",
       "         8.88218905e-17,  1.53964237e-16,  8.48332994e-16,\n",
       "         2.21061652e-16,  5.55245211e-17,  4.51723657e-16,\n",
       "        -1.66279946e-16,  5.50890500e-16, -2.26670395e-16,\n",
       "        -4.52271409e-16,  1.55683536e-17, -2.71997992e-16,\n",
       "         4.92661467e-16],\n",
       "       [ 1.04007934e-18,  1.30310764e-18, -7.78336033e-16,\n",
       "        -3.38834760e-16,  2.77444263e-16,  3.27849366e-16,\n",
       "        -1.73621655e-16,  3.93990726e-16, -4.89902150e-16,\n",
       "        -5.47637760e-16,  2.76252537e-16,  2.45017022e-17,\n",
       "         1.00000000e+00, -2.90845368e-16,  3.77636103e-16,\n",
       "         9.31226671e-17,  4.29606528e-16, -2.43668410e-16,\n",
       "        -2.92351188e-16, -1.44381938e-16, -1.30064573e-16,\n",
       "        -1.53700988e-16,  2.47397491e-16,  5.74167094e-17,\n",
       "        -1.45716772e-16],\n",
       "       [ 1.26984795e-18,  7.78574770e-18, -1.35751954e-16,\n",
       "        -5.98343950e-16, -5.61473374e-16,  2.51234538e-16,\n",
       "        -1.30929747e-16,  1.43607751e-15,  9.58880043e-16,\n",
       "        -6.70232650e-16, -4.06141640e-16, -7.28540344e-17,\n",
       "        -1.51707818e-17,  1.00000000e+00,  6.57754356e-17,\n",
       "        -4.52358881e-16,  4.14770830e-16,  3.45742969e-16,\n",
       "         4.55399464e-16,  4.53149789e-16,  4.01002023e-16,\n",
       "         1.31293990e-16,  3.92087389e-16, -1.03670610e-16,\n",
       "         2.77555756e-16],\n",
       "       [ 3.80232944e-18,  1.46158608e-17,  6.82639503e-19,\n",
       "        -2.65491373e-16, -4.02559226e-16,  5.39915119e-17,\n",
       "         3.96338551e-17, -2.17178929e-16, -1.15592122e-16,\n",
       "        -2.24029532e-16,  6.22756584e-17, -2.70177285e-16,\n",
       "        -1.17554621e-17,  1.36095970e-16,  1.00000000e+00,\n",
       "        -2.09581082e-16,  6.18147083e-16,  3.12999328e-16,\n",
       "         4.23679356e-16,  1.19187325e-16, -9.99072610e-16,\n",
       "        -7.00342297e-16, -4.63959302e-16,  2.41568280e-16,\n",
       "         2.35922393e-16],\n",
       "       [-1.89873459e-18,  9.90007232e-18,  3.31965125e-16,\n",
       "        -5.91435126e-16, -4.53740729e-16, -3.68400567e-16,\n",
       "         4.21631995e-16,  3.21312640e-16,  5.89986111e-16,\n",
       "         2.70088977e-16,  8.02628796e-16, -1.40659651e-16,\n",
       "         5.71328003e-16, -3.08416349e-17,  4.69401942e-18,\n",
       "         1.00000000e+00,  7.63069011e-16, -7.39317726e-17,\n",
       "        -1.07502984e-15, -5.47183011e-16, -6.27349694e-17,\n",
       "        -7.57559041e-17, -1.05124140e-16,  2.80756645e-16,\n",
       "         2.32452946e-16],\n",
       "       [ 3.49440024e-18,  2.01355355e-17,  5.52645987e-16,\n",
       "        -5.77220599e-17, -1.53252471e-17,  5.78560729e-16,\n",
       "        -2.88499498e-16,  7.08843881e-17, -8.43436916e-16,\n",
       "        -6.60772334e-16,  4.14766721e-17, -4.08674730e-16,\n",
       "        -1.96464650e-17, -1.05334553e-15, -6.61258286e-17,\n",
       "        -4.05769183e-16,  1.00000000e+00,  3.40356883e-16,\n",
       "         1.63883089e-16, -4.04261860e-16,  6.53506666e-16,\n",
       "        -3.43138908e-17, -2.09099494e-17,  2.71445009e-17,\n",
       "        -8.32667268e-17],\n",
       "       [-4.56364208e-19,  1.83098816e-17, -4.06742161e-16,\n",
       "        -7.03753941e-17,  1.68981505e-16,  3.81524442e-16,\n",
       "        -5.33278253e-16,  5.01736950e-17,  8.77694120e-16,\n",
       "        -9.85854554e-16, -8.20142602e-16, -1.92447739e-16,\n",
       "         2.03651298e-17,  1.12888645e-16, -1.00024503e-15,\n",
       "        -4.99966004e-16,  6.17330642e-16,  1.00000000e+00,\n",
       "         6.50451360e-16,  8.69035028e-16,  2.02953849e-16,\n",
       "         8.60330783e-16,  7.51289863e-17,  2.89853580e-16,\n",
       "        -4.16333634e-16],\n",
       "       [-7.48904981e-18,  1.94262034e-17, -9.38498035e-16,\n",
       "        -4.71085220e-16, -1.01608095e-16, -6.41018396e-16,\n",
       "         4.21774082e-17,  7.35990945e-16,  3.64285078e-16,\n",
       "        -4.24672902e-16, -5.70425533e-16, -3.19848327e-17,\n",
       "         2.98846515e-16, -4.31435944e-16, -1.05901395e-16,\n",
       "         8.46998362e-16, -5.01283191e-16, -3.26331151e-16,\n",
       "         1.00000000e+00, -9.66635529e-16,  4.82262158e-16,\n",
       "         2.99510464e-16,  3.10312242e-16,  6.10414437e-16,\n",
       "         0.00000000e+00],\n",
       "       [-1.88319649e-18,  4.45244999e-18, -9.71163971e-16,\n",
       "         9.75878497e-17,  4.50921926e-16, -9.54098049e-16,\n",
       "         3.02928624e-16, -2.89947621e-16,  2.80047671e-16,\n",
       "         4.71767828e-16,  2.70297112e-16, -1.66782736e-16,\n",
       "         4.03814985e-16, -5.04605357e-16, -4.07259328e-16,\n",
       "         9.80624478e-16,  2.68883046e-16, -8.09110850e-16,\n",
       "         6.12410061e-16,  1.00000000e+00,  1.36394387e-17,\n",
       "         1.32897551e-16, -7.22339812e-16,  6.41056355e-16,\n",
       "         1.42247325e-16],\n",
       "       [ 1.18925878e-17, -1.21660665e-18,  1.06943018e-15,\n",
       "         1.52571738e-18, -1.45108570e-16,  4.77607053e-16,\n",
       "         2.28841979e-16, -1.21577417e-16,  9.85988092e-16,\n",
       "         6.31419941e-17, -1.80115547e-17,  1.85955297e-16,\n",
       "         4.11097607e-16, -1.89493549e-17, -1.79146968e-16,\n",
       "         1.95481668e-16,  3.57823171e-16, -1.35312282e-16,\n",
       "         1.55225964e-16,  1.63773398e-16,  1.00000000e+00,\n",
       "         9.74778857e-16, -3.98226785e-16, -4.24655421e-16,\n",
       "         1.14058069e-16],\n",
       "       [-2.08547448e-17, -2.18940927e-17, -1.28847636e-15,\n",
       "         3.41317706e-16, -2.45993433e-16, -8.09466281e-16,\n",
       "         1.93661312e-16,  3.84250145e-16, -3.11657344e-16,\n",
       "         1.70568046e-16, -1.10934527e-16,  6.99853582e-16,\n",
       "         8.65781087e-16, -5.07271612e-16,  4.97513711e-16,\n",
       "         3.33643053e-16,  8.90579059e-17, -5.43556991e-16,\n",
       "        -2.91296487e-16,  3.09078346e-16, -6.22419297e-16,\n",
       "         1.00000000e+00, -1.18908871e-16,  4.04871188e-16,\n",
       "        -4.44089210e-16],\n",
       "       [ 1.21881507e-18,  8.98795938e-18,  4.42847042e-16,\n",
       "        -2.56314379e-16, -3.51320527e-16, -1.02543988e-16,\n",
       "        -3.66771870e-17,  1.31389950e-16,  3.13859256e-16,\n",
       "        -1.21838861e-16, -3.66651710e-16,  1.39045725e-16,\n",
       "        -7.35156273e-16, -7.42619211e-16, -6.18572933e-17,\n",
       "        -3.60593515e-16, -3.09503589e-18, -4.56505271e-16,\n",
       "        -2.68575748e-16,  7.61230653e-16,  7.75136132e-16,\n",
       "        -5.19725588e-16,  1.00000000e+00,  3.34730921e-18,\n",
       "        -1.52655666e-16],\n",
       "       [-1.44718167e-17, -2.39792681e-17, -1.37289879e-17,\n",
       "         4.59277524e-16,  5.29161272e-16,  1.31125045e-16,\n",
       "         2.25671085e-16, -6.27887487e-16,  3.54023203e-16,\n",
       "         2.86832634e-16, -3.31843817e-16,  2.33415687e-16,\n",
       "         5.39898041e-16,  2.13182598e-16,  8.25719348e-17,\n",
       "         3.45272183e-19,  3.70572630e-17, -3.92487945e-16,\n",
       "        -8.83317201e-17, -4.66027277e-16,  1.69443523e-16,\n",
       "        -2.87628137e-16,  1.11964966e-15,  1.00000000e+00,\n",
       "         4.44089210e-16],\n",
       "       [-1.35187802e-17, -5.26237506e-18, -9.07909636e-17,\n",
       "        -7.48194913e-17, -8.70124336e-16, -1.04920433e-16,\n",
       "        -2.35777111e-16,  6.67192491e-16, -1.00791295e-15,\n",
       "         1.81939078e-16, -5.04347395e-16,  3.02564902e-17,\n",
       "        -1.28718317e-16, -3.60135173e-16, -7.57900685e-16,\n",
       "        -1.66378297e-16,  1.25450096e-16, -9.36382410e-16,\n",
       "        -9.66502092e-17,  3.56912303e-16, -3.70731602e-20,\n",
       "        -1.12953388e-16, -1.35560484e-16,  3.32698660e-16,\n",
       "         1.00000000e+00]])"
      ]
     },
     "execution_count": 37,
     "metadata": {},
     "output_type": "execute_result"
    }
   ],
   "source": [
    "sp.linalg.pinv(np.cov(data_array, rowvar=False))"
   ]
  },
  {
   "cell_type": "code",
   "execution_count": 38,
   "id": "edc736d6",
   "metadata": {},
   "outputs": [],
   "source": [
    "inv_cormat = sp.linalg.pinv(mcd_model.covariance_)"
   ]
  },
  {
   "cell_type": "code",
   "execution_count": 39,
   "id": "ff97f86d",
   "metadata": {},
   "outputs": [],
   "source": [
    "import scipy as sp\n",
    "inv_cormat = sp.linalg.pinv(mcd_model.covariance_)\n",
    "mu_vect = mcd_model.location_"
   ]
  },
  {
   "cell_type": "code",
   "execution_count": 40,
   "id": "217999d9",
   "metadata": {},
   "outputs": [],
   "source": [
    "mahal_dist = []\n",
    "for i in range(data_array.shape[0]):\n",
    "    x_minus_mu = data_array[i,:] - mu_vect\n",
    "    left_term = np.dot(x_minus_mu, inv_cormat)\n",
    "    mahal = np.dot(left_term, x_minus_mu.T)\n",
    "    mahal = np.sqrt(mahal)\n",
    "    mahal_dist.append(mahal)"
   ]
  },
  {
   "cell_type": "code",
   "execution_count": 41,
   "id": "46dd1b16",
   "metadata": {},
   "outputs": [
    {
     "name": "stderr",
     "output_type": "stream",
     "text": [
      "C:\\WINDOWS\\system32\\myenv\\lib\\site-packages\\numpy\\core\\fromnumeric.py:3430: FutureWarning: In a future version, DataFrame.mean(axis=None) will return a scalar mean over the entire DataFrame. To retain the old behavior, use 'frame.mean(axis=0)' or just 'frame.mean()'\n",
      "  return mean(axis=axis, dtype=dtype, out=out, **kwargs)\n"
     ]
    },
    {
     "data": {
      "text/plain": [
       "(duration,)           2.549477e-17\n",
       "(src_bytes,)         -4.512349e-19\n",
       "(dst_bytes,)          7.614590e-19\n",
       "(land,)              -4.794371e-18\n",
       "(wrong_fragment,)     4.230328e-19\n",
       "                          ...     \n",
       "flag_SH               2.151255e-03\n",
       "protocol_type_icmp    6.581569e-02\n",
       "protocol_type_tcp     8.151667e-01\n",
       "protocol_type_udp     1.190176e-01\n",
       "p-value               1.119805e-01\n",
       "Length: 122, dtype: float64"
      ]
     },
     "execution_count": 41,
     "metadata": {},
     "output_type": "execute_result"
    },
    {
     "name": "stdout",
     "output_type": "stream",
     "text": [
      "56864\n"
     ]
    }
   ],
   "source": [
    "np.mean(one_hot_data_maha)\n",
    "\n",
    "from scipy.stats import chi2\n",
    "one_hot_data_maha['p-value_mcd'] = 1 - chi2.cdf(mahal_dist, df = 121) #pdf(x, degreeOfFreedom = Number of Variables)\n",
    "\n",
    "#Calculate number of p-value less than 0.01\n",
    "print(np.count_nonzero(one_hot_data_maha['p-value_mcd'] < 0.01))"
   ]
  },
  {
   "cell_type": "code",
   "execution_count": 42,
   "id": "63fa0565",
   "metadata": {},
   "outputs": [],
   "source": [
    "pvalue_mcd = one_hot_data_maha['p-value_mcd']\n",
    "bi_pvalue_mcd = pvalue_mcd\n",
    "\n",
    "bi_pvalue_mcd = np.where(pvalue_mcd < 0.01, 1, bi_pvalue_mcd)\n",
    "bi_pvalue_mcd = np.where(pvalue_mcd >= 0.01, 0, bi_pvalue_mcd)\n",
    "\n"
   ]
  },
  {
   "cell_type": "code",
   "execution_count": 43,
   "id": "7fb4e477",
   "metadata": {},
   "outputs": [
    {
     "name": "stdout",
     "output_type": "stream",
     "text": [
      "Training accuracy: 0.5601\n",
      "[[35629 31714]\n",
      " [33480 25150]]\n"
     ]
    }
   ],
   "source": [
    "from sklearn.metrics import accuracy_score\n",
    "\n",
    "train_acc_maha_mcd = accuracy_score(kdd_train_y['class_binary'], bi_pvalue_mcd)\n",
    "print(\"Training accuracy: {:.4f}\".format(train_acc_maha))\n",
    "cm_maha_mcd = confusion_matrix (kdd_train_y[\"class_binary\"], bi_pvalue_mcd)\n",
    "print(cm_maha_mcd)"
   ]
  },
  {
   "cell_type": "code",
   "execution_count": 44,
   "id": "f5aebe3a",
   "metadata": {},
   "outputs": [
    {
     "data": {
      "text/plain": [
       "Text(0.5, 1.0, 'Seaborn Confusion Matrix with labels\\n\\n')"
      ]
     },
     "execution_count": 44,
     "metadata": {},
     "output_type": "execute_result"
    },
    {
     "data": {
      "text/plain": [
       "Text(0.5, 15.0, '\\nPredicted Values')"
      ]
     },
     "execution_count": 44,
     "metadata": {},
     "output_type": "execute_result"
    },
    {
     "data": {
      "text/plain": [
       "Text(33.0, 0.5, 'Actual Values ')"
      ]
     },
     "execution_count": 44,
     "metadata": {},
     "output_type": "execute_result"
    },
    {
     "data": {
      "text/plain": [
       "[Text(0.5, 0, 'False'), Text(1.5, 0, 'True')]"
      ]
     },
     "execution_count": 44,
     "metadata": {},
     "output_type": "execute_result"
    },
    {
     "data": {
      "text/plain": [
       "[Text(0, 0.5, 'False'), Text(0, 1.5, 'True')]"
      ]
     },
     "execution_count": 44,
     "metadata": {},
     "output_type": "execute_result"
    },
    {
     "data": {
      "image/png": "[encoded data removed]",
      "text/plain": [
       "<Figure size 432x288 with 2 Axes>"
      ]
     },
     "metadata": {
      "needs_background": "light"
     },
     "output_type": "display_data"
    },
    {
     "name": "stdout",
     "output_type": "stream",
     "text": [
      "0.4422833427124367\n",
      "0.4289612826198192\n"
     ]
    }
   ],
   "source": [
    "ax = sns.heatmap(cm_maha_mcd, annot=True, cmap='Blues')\n",
    "\n",
    "ax.set_title('Seaborn Confusion Matrix with labels\\n\\n');\n",
    "ax.set_xlabel('\\nPredicted Values')\n",
    "ax.set_ylabel('Actual Values ');\n",
    "\n",
    "## Ticket labels - List must be in alphabetical order\n",
    "ax.xaxis.set_ticklabels(['False','True'])\n",
    "ax.yaxis.set_ticklabels(['False','True'])\n",
    "\n",
    "## Display the visualization of the Confusion Matrix.\n",
    "plt.show()\n",
    "\n",
    "## FP,FN,TP,TN\n",
    "TN_maha_mcd = cm_maha_mcd[0][0]\n",
    "FN_maha_mcd = cm_maha_mcd[1][0]\n",
    "FP_maha_mcd = cm_maha_mcd[0][1]\n",
    "TP_maha_mcd = cm_maha_mcd[1][1]\n",
    "\n",
    "##Precision and Recall\n",
    "Precision_maha_mcd = TP_maha_mcd/(TP_maha_mcd+FP_maha_mcd)\n",
    "Recall_maha_mcd = TP_maha_mcd/(TP_maha_mcd+FN_maha_mcd)\n",
    "\n",
    "print (Precision_maha_mcd)\n",
    "print (Recall_maha_mcd)"
   ]
  },
  {
   "cell_type": "markdown",
   "id": "97b70aa1",
   "metadata": {},
   "source": [
    "### After Apply MCD, the  accuracy slightly increase. Precision is 69.15% and Recall is 61.42%"
   ]
  },
  {
   "cell_type": "markdown",
   "id": "ee0f75a8",
   "metadata": {},
   "source": [
    "# Isolation Forest"
   ]
  },
  {
   "cell_type": "code",
   "execution_count": 45,
   "id": "c59de06e",
   "metadata": {},
   "outputs": [
    {
     "data": {
      "text/plain": [
       "array([0.        , 0.03333333, 0.06666667, 0.1       , 0.13333333,\n",
       "       0.16666667, 0.2       , 0.23333333, 0.26666667, 0.3       ])"
      ]
     },
     "execution_count": 45,
     "metadata": {},
     "output_type": "execute_result"
    }
   ],
   "source": [
    "#Isolation Forest\n",
    "#from scipy.stats import uniform as sp_randFloat\n",
    "# from scipy.stats import randint as sp_randInt\n",
    "\n",
    "from sklearn.ensemble import IsolationForest\n",
    "model_if = IsolationForest(random_state = 99)\n",
    "#parameters = {'n_estimators' : sp_randInt(100, 1000),\n",
    "#            'contamination' : sp_randFloat(0, 1),\n",
    "#             }\n",
    "parameters = {'n_estimators' : [1000,2000,3000,4000,5000,6000],\n",
    "            'contamination' : np.linspace(0, 0.2, num = 10),\n",
    "              #'bootstrap': [True, False]\n",
    "             }\n",
    "np.linspace(0, 0.3, num = 10)"
   ]
  },
  {
   "cell_type": "code",
   "execution_count": 46,
   "id": "b059ff9e",
   "metadata": {},
   "outputs": [
    {
     "data": {
      "text/plain": [
       "(125973, 25)"
      ]
     },
     "execution_count": 46,
     "metadata": {},
     "output_type": "execute_result"
    }
   ],
   "source": [
    "# def scorer_f(estimator, X):   #Scorer function for isolation forest\n",
    "#       return np.mean(estimator.score_samples(one_hot_data_if))\n",
    "from sklearn.metrics import make_scorer, f1_score\n",
    "#Set normal to 0 and abnormal to 1 (binary)\n",
    "\n",
    "one_hot_data_if = data_pca\n",
    "one_hot_data_if.shape"
   ]
  },
  {
   "cell_type": "code",
   "execution_count": 47,
   "id": "500a6aac",
   "metadata": {},
   "outputs": [],
   "source": [
    "# randomly sample\n",
    "idx_rand = np.random.permutation(len(kdd_train_x))\n",
    "num_sample = int(0.01*len(kdd_train_x))\n",
    "one_hot_data_if_sample = one_hot_data_if.iloc[idx_rand[:num_sample]]\n",
    "kdd_train_y_sample = kdd_train_y.iloc[idx_rand[:num_sample]]"
   ]
  },
  {
   "cell_type": "code",
   "execution_count": 48,
   "id": "c054bfe8",
   "metadata": {},
   "outputs": [
    {
     "name": "stderr",
     "output_type": "stream",
     "text": [
      "C:\\WINDOWS\\system32\\myenv\\lib\\site-packages\\sklearn\\model_selection\\_validation.py:378: FitFailedWarning: \n",
      "3 fits failed out of a total of 30.\n",
      "The score on these train-test partitions for these parameters will be set to nan.\n",
      "If these failures are not expected, you can try to debug them by setting error_score='raise'.\n",
      "\n",
      "Below are more details about the failures:\n",
      "--------------------------------------------------------------------------------\n",
      "3 fits failed with the following error:\n",
      "Traceback (most recent call last):\n",
      "  File \"C:\\WINDOWS\\system32\\myenv\\lib\\site-packages\\sklearn\\model_selection\\_validation.py\", line 686, in _fit_and_score\n",
      "    estimator.fit(X_train, y_train, **fit_params)\n",
      "  File \"C:\\WINDOWS\\system32\\myenv\\lib\\site-packages\\sklearn\\ensemble\\_iforest.py\", line 271, in fit\n",
      "    raise ValueError(\n",
      "ValueError: contamination must be in (0, 0.5], got: 0.000000\n",
      "\n",
      "  warnings.warn(some_fits_failed_message, FitFailedWarning)\n",
      "C:\\WINDOWS\\system32\\myenv\\lib\\site-packages\\sklearn\\model_selection\\_search.py:953: UserWarning: One or more of the test scores are non-finite: [0.40032011 0.39317536 0.34631208 0.39952646 0.44400879        nan\n",
      " 0.39317536 0.34631208 0.38919953 0.41541652]\n",
      "  warnings.warn(\n",
      "C:\\WINDOWS\\system32\\myenv\\lib\\site-packages\\sklearn\\model_selection\\_search.py:953: UserWarning: One or more of the train scores are non-finite: [0.40111385 0.39515674 0.34750033 0.40111385 0.4428141         nan\n",
      " 0.39515674 0.34750033 0.38800868 0.41421902]\n",
      "  warnings.warn(\n",
      "C:\\WINDOWS\\system32\\myenv\\lib\\site-packages\\sklearn\\base.py:450: UserWarning: X does not have valid feature names, but IsolationForest was fitted with feature names\n",
      "  warnings.warn(\n"
     ]
    }
   ],
   "source": [
    "\n",
    "f1sc = make_scorer(f1_score, average = 'micro')\n",
    "randm_src = RandomizedSearchCV(estimator=model_if, param_distributions = parameters, cv = 3, scoring = f1sc, random_state = 0, return_train_score = True, n_jobs = -1)\n",
    "model = randm_src.fit(one_hot_data_if_sample, kdd_train_y_sample[\"class_binary\"])\n"
   ]
  },
  {
   "cell_type": "code",
   "execution_count": 49,
   "id": "fac5800b",
   "metadata": {},
   "outputs": [
    {
     "name": "stdout",
     "output_type": "stream",
     "text": [
      " Results from Random Search \n",
      "\n",
      " The best estimator across ALL searched params:\n",
      " IsolationForest(contamination=0.022222222222222223, n_estimators=6000,\n",
      "                random_state=99)\n",
      "\n",
      " The best score across ALL searched params:\n",
      " 0.44400878887752393\n",
      "\n",
      " The best parameters across ALL searched params:\n",
      " {'n_estimators': 6000, 'contamination': 0.022222222222222223}\n"
     ]
    }
   ],
   "source": [
    "print(\" Results from Random Search \" )\n",
    "print(\"\\n The best estimator across ALL searched params:\\n\", randm_src.best_estimator_)\n",
    "print(\"\\n The best score across ALL searched params:\\n\", randm_src.best_score_)\n",
    "print(\"\\n The best parameters across ALL searched params:\\n\", randm_src.best_params_)"
   ]
  },
  {
   "cell_type": "code",
   "execution_count": 50,
   "id": "80f9d67a",
   "metadata": {},
   "outputs": [
    {
     "name": "stdout",
     "output_type": "stream",
     "text": [
      "[0 1 1 1 1 0 0 1 1 0 0 0 1 1 1 1 0 1 0 0]\n"
     ]
    },
    {
     "name": "stderr",
     "output_type": "stream",
     "text": [
      "C:\\WINDOWS\\system32\\myenv\\lib\\site-packages\\sklearn\\base.py:450: UserWarning: X does not have valid feature names, but IsolationForest was fitted with feature names\n",
      "  warnings.warn(\n"
     ]
    },
    {
     "data": {
      "text/html": [
       "<style>#sk-container-id-1 {color: black;background-color: white;}#sk-container-id-1 pre{padding: 0;}#sk-container-id-1 div.sk-toggleable {background-color: white;}#sk-container-id-1 label.sk-toggleable__label {cursor: pointer;display: block;width: 100%;margin-bottom: 0;padding: 0.3em;box-sizing: border-box;text-align: center;}#sk-container-id-1 label.sk-toggleable__label-arrow:before {content: \"▸\";float: left;margin-right: 0.25em;color: #696969;}#sk-container-id-1 label.sk-toggleable__label-arrow:hover:before {color: black;}#sk-container-id-1 div.sk-estimator:hover label.sk-toggleable__label-arrow:before {color: black;}#sk-container-id-1 div.sk-toggleable__content {max-height: 0;max-width: 0;overflow: hidden;text-align: left;background-color: #f0f8ff;}#sk-container-id-1 div.sk-toggleable__content pre {margin: 0.2em;color: black;border-radius: 0.25em;background-color: #f0f8ff;}#sk-container-id-1 input.sk-toggleable__control:checked~div.sk-toggleable__content {max-height: 200px;max-width: 100%;overflow: auto;}#sk-container-id-1 input.sk-toggleable__control:checked~label.sk-toggleable__label-arrow:before {content: \"▾\";}#sk-container-id-1 div.sk-estimator input.sk-toggleable__control:checked~label.sk-toggleable__label {background-color: #d4ebff;}#sk-container-id-1 div.sk-label input.sk-toggleable__control:checked~label.sk-toggleable__label {background-color: #d4ebff;}#sk-container-id-1 input.sk-hidden--visually {border: 0;clip: rect(1px 1px 1px 1px);clip: rect(1px, 1px, 1px, 1px);height: 1px;margin: -1px;overflow: hidden;padding: 0;position: absolute;width: 1px;}#sk-container-id-1 div.sk-estimator {font-family: monospace;background-color: #f0f8ff;border: 1px dotted black;border-radius: 0.25em;box-sizing: border-box;margin-bottom: 0.5em;}#sk-container-id-1 div.sk-estimator:hover {background-color: #d4ebff;}#sk-container-id-1 div.sk-parallel-item::after {content: \"\";width: 100%;border-bottom: 1px solid gray;flex-grow: 1;}#sk-container-id-1 div.sk-label:hover label.sk-toggleable__label {background-color: #d4ebff;}#sk-container-id-1 div.sk-serial::before {content: \"\";position: absolute;border-left: 1px solid gray;box-sizing: border-box;top: 0;bottom: 0;left: 50%;z-index: 0;}#sk-container-id-1 div.sk-serial {display: flex;flex-direction: column;align-items: center;background-color: white;padding-right: 0.2em;padding-left: 0.2em;position: relative;}#sk-container-id-1 div.sk-item {position: relative;z-index: 1;}#sk-container-id-1 div.sk-parallel {display: flex;align-items: stretch;justify-content: center;background-color: white;position: relative;}#sk-container-id-1 div.sk-item::before, #sk-container-id-1 div.sk-parallel-item::before {content: \"\";position: absolute;border-left: 1px solid gray;box-sizing: border-box;top: 0;bottom: 0;left: 50%;z-index: -1;}#sk-container-id-1 div.sk-parallel-item {display: flex;flex-direction: column;z-index: 1;position: relative;background-color: white;}#sk-container-id-1 div.sk-parallel-item:first-child::after {align-self: flex-end;width: 50%;}#sk-container-id-1 div.sk-parallel-item:last-child::after {align-self: flex-start;width: 50%;}#sk-container-id-1 div.sk-parallel-item:only-child::after {width: 0;}#sk-container-id-1 div.sk-dashed-wrapped {border: 1px dashed gray;margin: 0 0.4em 0.5em 0.4em;box-sizing: border-box;padding-bottom: 0.4em;background-color: white;}#sk-container-id-1 div.sk-label label {font-family: monospace;font-weight: bold;display: inline-block;line-height: 1.2em;}#sk-container-id-1 div.sk-label-container {text-align: center;}#sk-container-id-1 div.sk-container {/* jupyter's `normalize.less` sets `[hidden] { display: none; }` but bootstrap.min.css set `[hidden] { display: none !important; }` so we also need the `!important` here to be able to override the default hidden behavior on the sphinx rendered scikit-learn.org. See: https://github.com/scikit-learn/scikit-learn/issues/21755 */display: inline-block !important;position: relative;}#sk-container-id-1 div.sk-text-repr-fallback {display: none;}</style><div id=\"sk-container-id-1\" class=\"sk-top-container\"><div class=\"sk-text-repr-fallback\"><pre>IsolationForest(contamination=0.022222222222222223, n_estimators=6000)</pre><b>In a Jupyter environment, please rerun this cell to show the HTML representation or trust the notebook. <br />On GitHub, the HTML representation is unable to render, please try loading this page with nbviewer.org.</b></div><div class=\"sk-container\" hidden><div class=\"sk-item\"><div class=\"sk-estimator sk-toggleable\"><input class=\"sk-toggleable__control sk-hidden--visually\" id=\"sk-estimator-id-1\" type=\"checkbox\" checked><label for=\"sk-estimator-id-1\" class=\"sk-toggleable__label sk-toggleable__label-arrow\">IsolationForest</label><div class=\"sk-toggleable__content\"><pre>IsolationForest(contamination=0.022222222222222223, n_estimators=6000)</pre></div></div></div></div></div>"
      ],
      "text/plain": [
       "IsolationForest(contamination=0.022222222222222223, n_estimators=6000)"
      ]
     },
     "execution_count": 50,
     "metadata": {},
     "output_type": "execute_result"
    },
    {
     "data": {
      "text/plain": [
       "array([1, 1, 1, ..., 1, 1, 1])"
      ]
     },
     "execution_count": 50,
     "metadata": {},
     "output_type": "execute_result"
    }
   ],
   "source": [
    "from sklearn.datasets import make_classification\n",
    "XX_train, yy_train = make_classification(n_samples = 500, n_classes=2)\n",
    "print(yy_train[:20])\n",
    "\n",
    "rng = np.random.RandomState(42)\n",
    "#Load the saved isolation Forest model\n",
    "##model_if = joblib.load('IF.sav')\n",
    "model_if = IsolationForest(n_estimators = 6000, contamination = 0.022222222222222223, max_features=1.0)\n",
    "model_if.fit(one_hot_data_if)\n",
    "y_pred_if = model_if.predict(one_hot_data_if)\n",
    "y_pred_if"
   ]
  },
  {
   "cell_type": "code",
   "execution_count": 51,
   "id": "9fcef59f",
   "metadata": {},
   "outputs": [
    {
     "name": "stdout",
     "output_type": "stream",
     "text": [
      "Training accuracy: 0.4572\n"
     ]
    }
   ],
   "source": [
    "#Evaluation on training result\n",
    "y_pred_if = np.where(y_pred_if == -1, 0, y_pred_if)\n",
    "\n",
    "from sklearn.metrics import accuracy_score\n",
    "train_acc_if = accuracy_score(kdd_train_y['class_binary'], y_pred_if)\n",
    "print(\"Training accuracy: {:.4f}\".format(train_acc_if))"
   ]
  },
  {
   "cell_type": "code",
   "execution_count": 52,
   "id": "de9547a7",
   "metadata": {},
   "outputs": [
    {
     "name": "stdout",
     "output_type": "stream",
     "text": [
      "[[  883 66460]\n",
      " [ 1917 56713]]\n"
     ]
    },
    {
     "data": {
      "text/plain": [
       "Text(0.5, 1.0, 'Seaborn Confusion Matrix with labels\\n\\n')"
      ]
     },
     "execution_count": 52,
     "metadata": {},
     "output_type": "execute_result"
    },
    {
     "data": {
      "text/plain": [
       "Text(0.5, 15.0, '\\nPredicted Values')"
      ]
     },
     "execution_count": 52,
     "metadata": {},
     "output_type": "execute_result"
    },
    {
     "data": {
      "text/plain": [
       "Text(33.0, 0.5, 'Actual Values ')"
      ]
     },
     "execution_count": 52,
     "metadata": {},
     "output_type": "execute_result"
    },
    {
     "data": {
      "text/plain": [
       "[Text(0.5, 0, 'False'), Text(1.5, 0, 'True')]"
      ]
     },
     "execution_count": 52,
     "metadata": {},
     "output_type": "execute_result"
    },
    {
     "data": {
      "text/plain": [
       "[Text(0, 0.5, 'False'), Text(0, 1.5, 'True')]"
      ]
     },
     "execution_count": 52,
     "metadata": {},
     "output_type": "execute_result"
    },
    {
     "data": {
      "image/png": "[encoded data removed]",
      "text/plain": [
       "<Figure size 432x288 with 2 Axes>"
      ]
     },
     "metadata": {
      "needs_background": "light"
     },
     "output_type": "display_data"
    },
    {
     "name": "stdout",
     "output_type": "stream",
     "text": [
      "0.460433698943762\n",
      "0.967303428279038\n"
     ]
    }
   ],
   "source": [
    "cm_if = confusion_matrix (kdd_train_y[\"class_binary\"], y_pred_if)\n",
    "print(cm_if)\n",
    "ax = sns.heatmap(cm_if, annot=True, cmap='Blues')\n",
    "\n",
    "ax.set_title('Seaborn Confusion Matrix with labels\\n\\n');\n",
    "ax.set_xlabel('\\nPredicted Values')\n",
    "ax.set_ylabel('Actual Values ');\n",
    "\n",
    "## Ticket labels - List must be in alphabetical order\n",
    "ax.xaxis.set_ticklabels(['False','True'])\n",
    "ax.yaxis.set_ticklabels(['False','True'])\n",
    "\n",
    "## Display the visualization of the Confusion Matrix.\n",
    "plt.show()\n",
    "\n",
    "## FP,FN,TP,TN\n",
    "TN_if = cm_if[0][0]\n",
    "FN_if = cm_if[1][0]\n",
    "FP_if = cm_if[0][1]\n",
    "TP_if = cm_if[1][1]\n",
    "\n",
    "##Precision and Recall\n",
    "Precision_if = TP_if/(TP_if+FP_if)\n",
    "Recall_if = TP_if/(TP_if+FN_if)\n",
    "\n",
    "print (Precision_if)\n",
    "print (Recall_if)"
   ]
  },
  {
   "cell_type": "markdown",
   "id": "dafb2f6e",
   "metadata": {},
   "source": [
    "### The result slightly improve from before without pca.\n",
    "### Accuracy = 0.4259 --> 0.4485"
   ]
  },
  {
   "cell_type": "markdown",
   "id": "e49dde98",
   "metadata": {},
   "source": [
    "# OCSVM"
   ]
  },
  {
   "cell_type": "code",
   "execution_count": 53,
   "id": "12635cc0",
   "metadata": {},
   "outputs": [],
   "source": [
    "one_hot_data_svm = data_pca\n",
    "\n",
    "#10% of data, 12597 out of 125973 is used for training.\n",
    "one_hot_data_svm_ten_percent = one_hot_data_svm[0:12597]\n",
    "kdd_train_y_ten_percent = kdd_train_y[0:12597]\n",
    "\n",
    "from scipy.stats import uniform as sp_randFloat\n",
    "    #Hyperparameter Tuning\n",
    "from sklearn.svm import OneClassSVM\n",
    "parameters_svm = {\n",
    "             \"nu\" : sp_randFloat()\n",
    "             }\n",
    "model_svm = OneClassSVM()"
   ]
  },
  {
   "cell_type": "code",
   "execution_count": 54,
   "id": "d978f4c4",
   "metadata": {},
   "outputs": [],
   "source": [
    "def scorer_svm(estimator, X):   #Scorer function for OCSVM\n",
    "      return np.mean(estimator.score_samples(one_hot_data_svm_ten_percent))\n",
    "    \n",
    "#Load the saved random_src result\n",
    "randm_src_svm = joblib.load('OCSVMSearch.sav')"
   ]
  },
  {
   "cell_type": "code",
   "execution_count": 55,
   "id": "fc3ddf5e",
   "metadata": {},
   "outputs": [
    {
     "name": "stdout",
     "output_type": "stream",
     "text": [
      " Results from Random Search \n",
      "\n",
      " The best estimator across ALL searched params:\n",
      " OneClassSVM(nu=0.5488135039273248)\n",
      "\n",
      " The best score across ALL searched params:\n",
      " nan\n",
      "\n",
      " The best parameters across ALL searched params:\n",
      " {'nu': 0.5488135039273248}\n"
     ]
    }
   ],
   "source": [
    "print(\" Results from Random Search \" )\n",
    "print(\"\\n The best estimator across ALL searched params:\\n\", randm_src_svm.best_estimator_)\n",
    "print(\"\\n The best score across ALL searched params:\\n\", randm_src_svm.best_score_)\n",
    "print(\"\\n The best parameters across ALL searched params:\\n\", randm_src_svm.best_params_)"
   ]
  },
  {
   "cell_type": "code",
   "execution_count": 56,
   "id": "9e009f29",
   "metadata": {},
   "outputs": [
    {
     "data": {
      "text/html": [
       "<style>#sk-container-id-2 {color: black;background-color: white;}#sk-container-id-2 pre{padding: 0;}#sk-container-id-2 div.sk-toggleable {background-color: white;}#sk-container-id-2 label.sk-toggleable__label {cursor: pointer;display: block;width: 100%;margin-bottom: 0;padding: 0.3em;box-sizing: border-box;text-align: center;}#sk-container-id-2 label.sk-toggleable__label-arrow:before {content: \"▸\";float: left;margin-right: 0.25em;color: #696969;}#sk-container-id-2 label.sk-toggleable__label-arrow:hover:before {color: black;}#sk-container-id-2 div.sk-estimator:hover label.sk-toggleable__label-arrow:before {color: black;}#sk-container-id-2 div.sk-toggleable__content {max-height: 0;max-width: 0;overflow: hidden;text-align: left;background-color: #f0f8ff;}#sk-container-id-2 div.sk-toggleable__content pre {margin: 0.2em;color: black;border-radius: 0.25em;background-color: #f0f8ff;}#sk-container-id-2 input.sk-toggleable__control:checked~div.sk-toggleable__content {max-height: 200px;max-width: 100%;overflow: auto;}#sk-container-id-2 input.sk-toggleable__control:checked~label.sk-toggleable__label-arrow:before {content: \"▾\";}#sk-container-id-2 div.sk-estimator input.sk-toggleable__control:checked~label.sk-toggleable__label {background-color: #d4ebff;}#sk-container-id-2 div.sk-label input.sk-toggleable__control:checked~label.sk-toggleable__label {background-color: #d4ebff;}#sk-container-id-2 input.sk-hidden--visually {border: 0;clip: rect(1px 1px 1px 1px);clip: rect(1px, 1px, 1px, 1px);height: 1px;margin: -1px;overflow: hidden;padding: 0;position: absolute;width: 1px;}#sk-container-id-2 div.sk-estimator {font-family: monospace;background-color: #f0f8ff;border: 1px dotted black;border-radius: 0.25em;box-sizing: border-box;margin-bottom: 0.5em;}#sk-container-id-2 div.sk-estimator:hover {background-color: #d4ebff;}#sk-container-id-2 div.sk-parallel-item::after {content: \"\";width: 100%;border-bottom: 1px solid gray;flex-grow: 1;}#sk-container-id-2 div.sk-label:hover label.sk-toggleable__label {background-color: #d4ebff;}#sk-container-id-2 div.sk-serial::before {content: \"\";position: absolute;border-left: 1px solid gray;box-sizing: border-box;top: 0;bottom: 0;left: 50%;z-index: 0;}#sk-container-id-2 div.sk-serial {display: flex;flex-direction: column;align-items: center;background-color: white;padding-right: 0.2em;padding-left: 0.2em;position: relative;}#sk-container-id-2 div.sk-item {position: relative;z-index: 1;}#sk-container-id-2 div.sk-parallel {display: flex;align-items: stretch;justify-content: center;background-color: white;position: relative;}#sk-container-id-2 div.sk-item::before, #sk-container-id-2 div.sk-parallel-item::before {content: \"\";position: absolute;border-left: 1px solid gray;box-sizing: border-box;top: 0;bottom: 0;left: 50%;z-index: -1;}#sk-container-id-2 div.sk-parallel-item {display: flex;flex-direction: column;z-index: 1;position: relative;background-color: white;}#sk-container-id-2 div.sk-parallel-item:first-child::after {align-self: flex-end;width: 50%;}#sk-container-id-2 div.sk-parallel-item:last-child::after {align-self: flex-start;width: 50%;}#sk-container-id-2 div.sk-parallel-item:only-child::after {width: 0;}#sk-container-id-2 div.sk-dashed-wrapped {border: 1px dashed gray;margin: 0 0.4em 0.5em 0.4em;box-sizing: border-box;padding-bottom: 0.4em;background-color: white;}#sk-container-id-2 div.sk-label label {font-family: monospace;font-weight: bold;display: inline-block;line-height: 1.2em;}#sk-container-id-2 div.sk-label-container {text-align: center;}#sk-container-id-2 div.sk-container {/* jupyter's `normalize.less` sets `[hidden] { display: none; }` but bootstrap.min.css set `[hidden] { display: none !important; }` so we also need the `!important` here to be able to override the default hidden behavior on the sphinx rendered scikit-learn.org. See: https://github.com/scikit-learn/scikit-learn/issues/21755 */display: inline-block !important;position: relative;}#sk-container-id-2 div.sk-text-repr-fallback {display: none;}</style><div id=\"sk-container-id-2\" class=\"sk-top-container\"><div class=\"sk-text-repr-fallback\"><pre>OneClassSVM(kernel=&#x27;linear&#x27;, nu=0.5488135039273248)</pre><b>In a Jupyter environment, please rerun this cell to show the HTML representation or trust the notebook. <br />On GitHub, the HTML representation is unable to render, please try loading this page with nbviewer.org.</b></div><div class=\"sk-container\" hidden><div class=\"sk-item\"><div class=\"sk-estimator sk-toggleable\"><input class=\"sk-toggleable__control sk-hidden--visually\" id=\"sk-estimator-id-2\" type=\"checkbox\" checked><label for=\"sk-estimator-id-2\" class=\"sk-toggleable__label sk-toggleable__label-arrow\">OneClassSVM</label><div class=\"sk-toggleable__content\"><pre>OneClassSVM(kernel=&#x27;linear&#x27;, nu=0.5488135039273248)</pre></div></div></div></div></div>"
      ],
      "text/plain": [
       "OneClassSVM(kernel='linear', nu=0.5488135039273248)"
      ]
     },
     "execution_count": 56,
     "metadata": {},
     "output_type": "execute_result"
    }
   ],
   "source": [
    "#Train model with ten percent of data\n",
    "#Load the saved SVM model\n",
    "svm = OneClassSVM(kernel = 'linear', nu=0.5488135039273248)\n",
    "svm.fit(one_hot_data_svm_ten_percent)\n",
    "y_pred_svm = svm.predict(one_hot_data_svm)\n"
   ]
  },
  {
   "cell_type": "code",
   "execution_count": 57,
   "id": "ff655782",
   "metadata": {},
   "outputs": [
    {
     "data": {
      "text/html": [
       "<div>\n",
       "<style scoped>\n",
       "    .dataframe tbody tr th:only-of-type {\n",
       "        vertical-align: middle;\n",
       "    }\n",
       "\n",
       "    .dataframe tbody tr th {\n",
       "        vertical-align: top;\n",
       "    }\n",
       "\n",
       "    .dataframe thead th {\n",
       "        text-align: right;\n",
       "    }\n",
       "</style>\n",
       "<table border=\"1\" class=\"dataframe\">\n",
       "  <thead>\n",
       "    <tr style=\"text-align: right;\">\n",
       "      <th></th>\n",
       "      <th>Variable 0</th>\n",
       "      <th>Variable 1</th>\n",
       "      <th>Variable 2</th>\n",
       "      <th>Variable 3</th>\n",
       "      <th>Variable 4</th>\n",
       "      <th>Variable 5</th>\n",
       "      <th>Variable 6</th>\n",
       "      <th>Variable 7</th>\n",
       "      <th>Variable 8</th>\n",
       "      <th>Variable 9</th>\n",
       "      <th>...</th>\n",
       "      <th>Variable 15</th>\n",
       "      <th>Variable 16</th>\n",
       "      <th>Variable 17</th>\n",
       "      <th>Variable 18</th>\n",
       "      <th>Variable 19</th>\n",
       "      <th>Variable 20</th>\n",
       "      <th>Variable 21</th>\n",
       "      <th>Variable 22</th>\n",
       "      <th>Variable 23</th>\n",
       "      <th>Variable 24</th>\n",
       "    </tr>\n",
       "  </thead>\n",
       "  <tbody>\n",
       "    <tr>\n",
       "      <th>0</th>\n",
       "      <td>-0.271817</td>\n",
       "      <td>-0.031828</td>\n",
       "      <td>-0.007913</td>\n",
       "      <td>-0.057511</td>\n",
       "      <td>-0.242415</td>\n",
       "      <td>0.177059</td>\n",
       "      <td>-0.356125</td>\n",
       "      <td>0.408246</td>\n",
       "      <td>0.040125</td>\n",
       "      <td>0.127202</td>\n",
       "      <td>...</td>\n",
       "      <td>0.017675</td>\n",
       "      <td>-0.207697</td>\n",
       "      <td>-0.037674</td>\n",
       "      <td>-0.320512</td>\n",
       "      <td>0.282794</td>\n",
       "      <td>2.121925</td>\n",
       "      <td>-0.554447</td>\n",
       "      <td>-0.128803</td>\n",
       "      <td>-1.473016</td>\n",
       "      <td>-1.178721</td>\n",
       "    </tr>\n",
       "    <tr>\n",
       "      <th>1</th>\n",
       "      <td>0.172646</td>\n",
       "      <td>0.493701</td>\n",
       "      <td>0.004511</td>\n",
       "      <td>-0.797855</td>\n",
       "      <td>-0.794043</td>\n",
       "      <td>1.396155</td>\n",
       "      <td>-1.419618</td>\n",
       "      <td>1.811961</td>\n",
       "      <td>-0.912519</td>\n",
       "      <td>0.028643</td>\n",
       "      <td>...</td>\n",
       "      <td>0.001159</td>\n",
       "      <td>-0.341808</td>\n",
       "      <td>-0.086006</td>\n",
       "      <td>-0.390951</td>\n",
       "      <td>0.353705</td>\n",
       "      <td>2.470521</td>\n",
       "      <td>-0.970947</td>\n",
       "      <td>0.370646</td>\n",
       "      <td>1.229127</td>\n",
       "      <td>0.620287</td>\n",
       "    </tr>\n",
       "    <tr>\n",
       "      <th>2</th>\n",
       "      <td>1.415630</td>\n",
       "      <td>-0.666276</td>\n",
       "      <td>0.012028</td>\n",
       "      <td>-0.028398</td>\n",
       "      <td>-0.176458</td>\n",
       "      <td>-0.336946</td>\n",
       "      <td>0.050874</td>\n",
       "      <td>-0.047367</td>\n",
       "      <td>0.161117</td>\n",
       "      <td>0.009215</td>\n",
       "      <td>...</td>\n",
       "      <td>-0.013285</td>\n",
       "      <td>-0.080540</td>\n",
       "      <td>0.029774</td>\n",
       "      <td>0.017559</td>\n",
       "      <td>-0.007433</td>\n",
       "      <td>0.089607</td>\n",
       "      <td>0.323902</td>\n",
       "      <td>-0.208934</td>\n",
       "      <td>0.327618</td>\n",
       "      <td>-0.075660</td>\n",
       "    </tr>\n",
       "    <tr>\n",
       "      <th>3</th>\n",
       "      <td>-0.904705</td>\n",
       "      <td>-0.465462</td>\n",
       "      <td>-0.041510</td>\n",
       "      <td>0.310599</td>\n",
       "      <td>0.131188</td>\n",
       "      <td>-0.845985</td>\n",
       "      <td>0.027311</td>\n",
       "      <td>0.064317</td>\n",
       "      <td>0.051110</td>\n",
       "      <td>0.009946</td>\n",
       "      <td>...</td>\n",
       "      <td>0.013663</td>\n",
       "      <td>-0.103790</td>\n",
       "      <td>0.018488</td>\n",
       "      <td>-1.077260</td>\n",
       "      <td>0.095568</td>\n",
       "      <td>-1.068194</td>\n",
       "      <td>-0.187443</td>\n",
       "      <td>-0.311425</td>\n",
       "      <td>0.040937</td>\n",
       "      <td>-0.580676</td>\n",
       "    </tr>\n",
       "    <tr>\n",
       "      <th>4</th>\n",
       "      <td>-0.829569</td>\n",
       "      <td>-0.395406</td>\n",
       "      <td>-0.070325</td>\n",
       "      <td>0.588581</td>\n",
       "      <td>0.832244</td>\n",
       "      <td>-0.290600</td>\n",
       "      <td>-0.145860</td>\n",
       "      <td>0.193486</td>\n",
       "      <td>0.064853</td>\n",
       "      <td>-0.023983</td>\n",
       "      <td>...</td>\n",
       "      <td>-0.028782</td>\n",
       "      <td>-0.083732</td>\n",
       "      <td>0.048325</td>\n",
       "      <td>0.359112</td>\n",
       "      <td>-0.102097</td>\n",
       "      <td>-0.014894</td>\n",
       "      <td>0.542317</td>\n",
       "      <td>0.586908</td>\n",
       "      <td>0.417899</td>\n",
       "      <td>1.189591</td>\n",
       "    </tr>\n",
       "    <tr>\n",
       "      <th>...</th>\n",
       "      <td>...</td>\n",
       "      <td>...</td>\n",
       "      <td>...</td>\n",
       "      <td>...</td>\n",
       "      <td>...</td>\n",
       "      <td>...</td>\n",
       "      <td>...</td>\n",
       "      <td>...</td>\n",
       "      <td>...</td>\n",
       "      <td>...</td>\n",
       "      <td>...</td>\n",
       "      <td>...</td>\n",
       "      <td>...</td>\n",
       "      <td>...</td>\n",
       "      <td>...</td>\n",
       "      <td>...</td>\n",
       "      <td>...</td>\n",
       "      <td>...</td>\n",
       "      <td>...</td>\n",
       "      <td>...</td>\n",
       "      <td>...</td>\n",
       "    </tr>\n",
       "    <tr>\n",
       "      <th>12592</th>\n",
       "      <td>1.335048</td>\n",
       "      <td>-0.583419</td>\n",
       "      <td>0.029225</td>\n",
       "      <td>0.015845</td>\n",
       "      <td>-0.391473</td>\n",
       "      <td>-0.480954</td>\n",
       "      <td>-0.134967</td>\n",
       "      <td>0.211035</td>\n",
       "      <td>0.010140</td>\n",
       "      <td>0.020580</td>\n",
       "      <td>...</td>\n",
       "      <td>0.000280</td>\n",
       "      <td>-0.078192</td>\n",
       "      <td>-0.007175</td>\n",
       "      <td>0.057167</td>\n",
       "      <td>0.001756</td>\n",
       "      <td>0.527031</td>\n",
       "      <td>0.650956</td>\n",
       "      <td>-0.452785</td>\n",
       "      <td>0.214392</td>\n",
       "      <td>-0.426824</td>\n",
       "    </tr>\n",
       "    <tr>\n",
       "      <th>12593</th>\n",
       "      <td>1.405131</td>\n",
       "      <td>-0.670460</td>\n",
       "      <td>0.009711</td>\n",
       "      <td>-0.052636</td>\n",
       "      <td>-0.116800</td>\n",
       "      <td>-0.214474</td>\n",
       "      <td>0.093440</td>\n",
       "      <td>-0.124871</td>\n",
       "      <td>0.182308</td>\n",
       "      <td>0.002392</td>\n",
       "      <td>...</td>\n",
       "      <td>-0.021989</td>\n",
       "      <td>-0.086250</td>\n",
       "      <td>0.022577</td>\n",
       "      <td>0.009013</td>\n",
       "      <td>0.001259</td>\n",
       "      <td>0.009859</td>\n",
       "      <td>0.106788</td>\n",
       "      <td>-0.004883</td>\n",
       "      <td>0.162273</td>\n",
       "      <td>-0.032198</td>\n",
       "    </tr>\n",
       "    <tr>\n",
       "      <th>12594</th>\n",
       "      <td>-1.004226</td>\n",
       "      <td>-0.392154</td>\n",
       "      <td>-0.046524</td>\n",
       "      <td>0.346141</td>\n",
       "      <td>0.210340</td>\n",
       "      <td>-0.746812</td>\n",
       "      <td>-0.012722</td>\n",
       "      <td>0.112151</td>\n",
       "      <td>-0.006566</td>\n",
       "      <td>0.009871</td>\n",
       "      <td>...</td>\n",
       "      <td>0.015427</td>\n",
       "      <td>-0.066107</td>\n",
       "      <td>0.012999</td>\n",
       "      <td>-0.956241</td>\n",
       "      <td>0.101074</td>\n",
       "      <td>-0.795297</td>\n",
       "      <td>0.002576</td>\n",
       "      <td>-0.090640</td>\n",
       "      <td>-0.194514</td>\n",
       "      <td>-0.333883</td>\n",
       "    </tr>\n",
       "    <tr>\n",
       "      <th>12595</th>\n",
       "      <td>-0.928914</td>\n",
       "      <td>-0.411203</td>\n",
       "      <td>-0.072747</td>\n",
       "      <td>0.307538</td>\n",
       "      <td>0.355113</td>\n",
       "      <td>-0.583620</td>\n",
       "      <td>0.043376</td>\n",
       "      <td>0.108800</td>\n",
       "      <td>-0.105397</td>\n",
       "      <td>-0.096391</td>\n",
       "      <td>...</td>\n",
       "      <td>-0.034731</td>\n",
       "      <td>0.225357</td>\n",
       "      <td>0.064994</td>\n",
       "      <td>2.105253</td>\n",
       "      <td>-0.504560</td>\n",
       "      <td>-0.094137</td>\n",
       "      <td>0.153922</td>\n",
       "      <td>0.678437</td>\n",
       "      <td>0.815609</td>\n",
       "      <td>1.126335</td>\n",
       "    </tr>\n",
       "    <tr>\n",
       "      <th>12596</th>\n",
       "      <td>-0.485892</td>\n",
       "      <td>-0.145472</td>\n",
       "      <td>0.040113</td>\n",
       "      <td>0.107849</td>\n",
       "      <td>-0.567034</td>\n",
       "      <td>-0.367530</td>\n",
       "      <td>-0.308338</td>\n",
       "      <td>0.373889</td>\n",
       "      <td>-0.157040</td>\n",
       "      <td>0.087830</td>\n",
       "      <td>...</td>\n",
       "      <td>0.049620</td>\n",
       "      <td>0.039764</td>\n",
       "      <td>-0.044383</td>\n",
       "      <td>-0.793521</td>\n",
       "      <td>0.318078</td>\n",
       "      <td>0.978888</td>\n",
       "      <td>-0.477808</td>\n",
       "      <td>1.475350</td>\n",
       "      <td>-2.915881</td>\n",
       "      <td>-0.118433</td>\n",
       "    </tr>\n",
       "  </tbody>\n",
       "</table>\n",
       "<p>12597 rows × 25 columns</p>\n",
       "</div>"
      ],
      "text/plain": [
       "       Variable 0  Variable 1  Variable 2  Variable 3  Variable 4  Variable 5  \\\n",
       "0       -0.271817   -0.031828   -0.007913   -0.057511   -0.242415    0.177059   \n",
       "1        0.172646    0.493701    0.004511   -0.797855   -0.794043    1.396155   \n",
       "2        1.415630   -0.666276    0.012028   -0.028398   -0.176458   -0.336946   \n",
       "3       -0.904705   -0.465462   -0.041510    0.310599    0.131188   -0.845985   \n",
       "4       -0.829569   -0.395406   -0.070325    0.588581    0.832244   -0.290600   \n",
       "...           ...         ...         ...         ...         ...         ...   \n",
       "12592    1.335048   -0.583419    0.029225    0.015845   -0.391473   -0.480954   \n",
       "12593    1.405131   -0.670460    0.009711   -0.052636   -0.116800   -0.214474   \n",
       "12594   -1.004226   -0.392154   -0.046524    0.346141    0.210340   -0.746812   \n",
       "12595   -0.928914   -0.411203   -0.072747    0.307538    0.355113   -0.583620   \n",
       "12596   -0.485892   -0.145472    0.040113    0.107849   -0.567034   -0.367530   \n",
       "\n",
       "       Variable 6  Variable 7  Variable 8  Variable 9  ...  Variable 15  \\\n",
       "0       -0.356125    0.408246    0.040125    0.127202  ...     0.017675   \n",
       "1       -1.419618    1.811961   -0.912519    0.028643  ...     0.001159   \n",
       "2        0.050874   -0.047367    0.161117    0.009215  ...    -0.013285   \n",
       "3        0.027311    0.064317    0.051110    0.009946  ...     0.013663   \n",
       "4       -0.145860    0.193486    0.064853   -0.023983  ...    -0.028782   \n",
       "...           ...         ...         ...         ...  ...          ...   \n",
       "12592   -0.134967    0.211035    0.010140    0.020580  ...     0.000280   \n",
       "12593    0.093440   -0.124871    0.182308    0.002392  ...    -0.021989   \n",
       "12594   -0.012722    0.112151   -0.006566    0.009871  ...     0.015427   \n",
       "12595    0.043376    0.108800   -0.105397   -0.096391  ...    -0.034731   \n",
       "12596   -0.308338    0.373889   -0.157040    0.087830  ...     0.049620   \n",
       "\n",
       "       Variable 16  Variable 17  Variable 18  Variable 19  Variable 20  \\\n",
       "0        -0.207697    -0.037674    -0.320512     0.282794     2.121925   \n",
       "1        -0.341808    -0.086006    -0.390951     0.353705     2.470521   \n",
       "2        -0.080540     0.029774     0.017559    -0.007433     0.089607   \n",
       "3        -0.103790     0.018488    -1.077260     0.095568    -1.068194   \n",
       "4        -0.083732     0.048325     0.359112    -0.102097    -0.014894   \n",
       "...            ...          ...          ...          ...          ...   \n",
       "12592    -0.078192    -0.007175     0.057167     0.001756     0.527031   \n",
       "12593    -0.086250     0.022577     0.009013     0.001259     0.009859   \n",
       "12594    -0.066107     0.012999    -0.956241     0.101074    -0.795297   \n",
       "12595     0.225357     0.064994     2.105253    -0.504560    -0.094137   \n",
       "12596     0.039764    -0.044383    -0.793521     0.318078     0.978888   \n",
       "\n",
       "       Variable 21  Variable 22  Variable 23  Variable 24  \n",
       "0        -0.554447    -0.128803    -1.473016    -1.178721  \n",
       "1        -0.970947     0.370646     1.229127     0.620287  \n",
       "2         0.323902    -0.208934     0.327618    -0.075660  \n",
       "3        -0.187443    -0.311425     0.040937    -0.580676  \n",
       "4         0.542317     0.586908     0.417899     1.189591  \n",
       "...            ...          ...          ...          ...  \n",
       "12592     0.650956    -0.452785     0.214392    -0.426824  \n",
       "12593     0.106788    -0.004883     0.162273    -0.032198  \n",
       "12594     0.002576    -0.090640    -0.194514    -0.333883  \n",
       "12595     0.153922     0.678437     0.815609     1.126335  \n",
       "12596    -0.477808     1.475350    -2.915881    -0.118433  \n",
       "\n",
       "[12597 rows x 25 columns]"
      ]
     },
     "execution_count": 57,
     "metadata": {},
     "output_type": "execute_result"
    }
   ],
   "source": [
    "one_hot_data_svm_ten_percent"
   ]
  },
  {
   "cell_type": "code",
   "execution_count": 58,
   "id": "caad1e14",
   "metadata": {},
   "outputs": [
    {
     "name": "stdout",
     "output_type": "stream",
     "text": [
      "Training accuracy: 0.5115\n",
      "[[37680 29663]\n",
      " [31876 26754]]\n"
     ]
    }
   ],
   "source": [
    "#Evaluation on training result\n",
    "y_pred_svm = np.where(y_pred_svm == -1, 0, y_pred_svm)\n",
    "\n",
    "train_acc = accuracy_score(kdd_train_y['class_binary'], y_pred_svm)\n",
    "print(\"Training accuracy: {:.4f}\".format(train_acc))\n",
    "cm_svm = confusion_matrix (kdd_train_y[\"class_binary\"], y_pred_svm)\n",
    "print(cm_svm)"
   ]
  },
  {
   "cell_type": "code",
   "execution_count": 59,
   "id": "72817ce2",
   "metadata": {},
   "outputs": [
    {
     "data": {
      "text/plain": [
       "Text(0.5, 1.0, 'Seaborn Confusion Matrix with labels\\n\\n')"
      ]
     },
     "execution_count": 59,
     "metadata": {},
     "output_type": "execute_result"
    },
    {
     "data": {
      "text/plain": [
       "Text(0.5, 15.0, '\\nPredicted Values')"
      ]
     },
     "execution_count": 59,
     "metadata": {},
     "output_type": "execute_result"
    },
    {
     "data": {
      "text/plain": [
       "Text(33.0, 0.5, 'Actual Values ')"
      ]
     },
     "execution_count": 59,
     "metadata": {},
     "output_type": "execute_result"
    },
    {
     "data": {
      "text/plain": [
       "[Text(0.5, 0, 'False'), Text(1.5, 0, 'True')]"
      ]
     },
     "execution_count": 59,
     "metadata": {},
     "output_type": "execute_result"
    },
    {
     "data": {
      "text/plain": [
       "[Text(0, 0.5, 'False'), Text(0, 1.5, 'True')]"
      ]
     },
     "execution_count": 59,
     "metadata": {},
     "output_type": "execute_result"
    },
    {
     "data": {
      "image/png": "[encoded data removed]",
      "text/plain": [
       "<Figure size 432x288 with 2 Axes>"
      ]
     },
     "metadata": {
      "needs_background": "light"
     },
     "output_type": "display_data"
    },
    {
     "name": "stdout",
     "output_type": "stream",
     "text": [
      "Precision:  0.4742187638477764\n",
      "Recall 0.4563192904656319\n"
     ]
    }
   ],
   "source": [
    "ax = sns.heatmap(cm_svm, annot=True, cmap='Blues')\n",
    "\n",
    "ax.set_title('Seaborn Confusion Matrix with labels\\n\\n');\n",
    "ax.set_xlabel('\\nPredicted Values')\n",
    "ax.set_ylabel('Actual Values ');\n",
    "\n",
    "## Ticket labels - List must be in alphabetical order\n",
    "ax.xaxis.set_ticklabels(['False','True'])\n",
    "ax.yaxis.set_ticklabels(['False','True'])\n",
    "\n",
    "## Display the visualization of the Confusion Matrix.\n",
    "plt.show()\n",
    "\n",
    "\n",
    "## FP,FN,TP,TN\n",
    "TN_svm = cm_svm[0][0]\n",
    "FN_svm = cm_svm[1][0]\n",
    "FP_svm = cm_svm[0][1]\n",
    "TP_svm = cm_svm[1][1]\n",
    "\n",
    "\n",
    "##Precision and Recall\n",
    "Precision_svm = TP_svm/(TP_svm+FP_svm)\n",
    "Recall_svm = TP_svm/(TP_svm+FN_svm)\n",
    "\n",
    "print (\"Precision: \",Precision_svm)\n",
    "print (\"Recall\",Recall_svm)"
   ]
  },
  {
   "cell_type": "code",
   "execution_count": 60,
   "id": "190d2121",
   "metadata": {},
   "outputs": [],
   "source": [
    "column_A = kdd_train_x['same_srv_rate']\n",
    "column_B = kdd_train_x['diff_srv_rate']"
   ]
  },
  {
   "cell_type": "code",
   "execution_count": 61,
   "id": "7294d741",
   "metadata": {},
   "outputs": [],
   "source": [
    "from sklearn.cluster import KMeans\n",
    "%matplotlib inline"
   ]
  },
  {
   "cell_type": "markdown",
   "id": "d851ad41",
   "metadata": {},
   "source": [
    "# K-Means Clustering"
   ]
  },
  {
   "cell_type": "code",
   "execution_count": 62,
   "id": "c9e7ee4b",
   "metadata": {},
   "outputs": [
    {
     "name": "stderr",
     "output_type": "stream",
     "text": [
      "C:\\WINDOWS\\system32\\myenv\\lib\\site-packages\\sklearn\\utils\\validation.py:1858: FutureWarning: Feature names only support names that are all strings. Got feature names with dtypes: ['str', 'tuple']. An error will be raised in 1.2.\n",
      "  warnings.warn(\n"
     ]
    },
    {
     "data": {
      "text/html": [
       "<style>#sk-container-id-3 {color: black;background-color: white;}#sk-container-id-3 pre{padding: 0;}#sk-container-id-3 div.sk-toggleable {background-color: white;}#sk-container-id-3 label.sk-toggleable__label {cursor: pointer;display: block;width: 100%;margin-bottom: 0;padding: 0.3em;box-sizing: border-box;text-align: center;}#sk-container-id-3 label.sk-toggleable__label-arrow:before {content: \"▸\";float: left;margin-right: 0.25em;color: #696969;}#sk-container-id-3 label.sk-toggleable__label-arrow:hover:before {color: black;}#sk-container-id-3 div.sk-estimator:hover label.sk-toggleable__label-arrow:before {color: black;}#sk-container-id-3 div.sk-toggleable__content {max-height: 0;max-width: 0;overflow: hidden;text-align: left;background-color: #f0f8ff;}#sk-container-id-3 div.sk-toggleable__content pre {margin: 0.2em;color: black;border-radius: 0.25em;background-color: #f0f8ff;}#sk-container-id-3 input.sk-toggleable__control:checked~div.sk-toggleable__content {max-height: 200px;max-width: 100%;overflow: auto;}#sk-container-id-3 input.sk-toggleable__control:checked~label.sk-toggleable__label-arrow:before {content: \"▾\";}#sk-container-id-3 div.sk-estimator input.sk-toggleable__control:checked~label.sk-toggleable__label {background-color: #d4ebff;}#sk-container-id-3 div.sk-label input.sk-toggleable__control:checked~label.sk-toggleable__label {background-color: #d4ebff;}#sk-container-id-3 input.sk-hidden--visually {border: 0;clip: rect(1px 1px 1px 1px);clip: rect(1px, 1px, 1px, 1px);height: 1px;margin: -1px;overflow: hidden;padding: 0;position: absolute;width: 1px;}#sk-container-id-3 div.sk-estimator {font-family: monospace;background-color: #f0f8ff;border: 1px dotted black;border-radius: 0.25em;box-sizing: border-box;margin-bottom: 0.5em;}#sk-container-id-3 div.sk-estimator:hover {background-color: #d4ebff;}#sk-container-id-3 div.sk-parallel-item::after {content: \"\";width: 100%;border-bottom: 1px solid gray;flex-grow: 1;}#sk-container-id-3 div.sk-label:hover label.sk-toggleable__label {background-color: #d4ebff;}#sk-container-id-3 div.sk-serial::before {content: \"\";position: absolute;border-left: 1px solid gray;box-sizing: border-box;top: 0;bottom: 0;left: 50%;z-index: 0;}#sk-container-id-3 div.sk-serial {display: flex;flex-direction: column;align-items: center;background-color: white;padding-right: 0.2em;padding-left: 0.2em;position: relative;}#sk-container-id-3 div.sk-item {position: relative;z-index: 1;}#sk-container-id-3 div.sk-parallel {display: flex;align-items: stretch;justify-content: center;background-color: white;position: relative;}#sk-container-id-3 div.sk-item::before, #sk-container-id-3 div.sk-parallel-item::before {content: \"\";position: absolute;border-left: 1px solid gray;box-sizing: border-box;top: 0;bottom: 0;left: 50%;z-index: -1;}#sk-container-id-3 div.sk-parallel-item {display: flex;flex-direction: column;z-index: 1;position: relative;background-color: white;}#sk-container-id-3 div.sk-parallel-item:first-child::after {align-self: flex-end;width: 50%;}#sk-container-id-3 div.sk-parallel-item:last-child::after {align-self: flex-start;width: 50%;}#sk-container-id-3 div.sk-parallel-item:only-child::after {width: 0;}#sk-container-id-3 div.sk-dashed-wrapped {border: 1px dashed gray;margin: 0 0.4em 0.5em 0.4em;box-sizing: border-box;padding-bottom: 0.4em;background-color: white;}#sk-container-id-3 div.sk-label label {font-family: monospace;font-weight: bold;display: inline-block;line-height: 1.2em;}#sk-container-id-3 div.sk-label-container {text-align: center;}#sk-container-id-3 div.sk-container {/* jupyter's `normalize.less` sets `[hidden] { display: none; }` but bootstrap.min.css set `[hidden] { display: none !important; }` so we also need the `!important` here to be able to override the default hidden behavior on the sphinx rendered scikit-learn.org. See: https://github.com/scikit-learn/scikit-learn/issues/21755 */display: inline-block !important;position: relative;}#sk-container-id-3 div.sk-text-repr-fallback {display: none;}</style><div id=\"sk-container-id-3\" class=\"sk-top-container\"><div class=\"sk-text-repr-fallback\"><pre>KMeans(n_clusters=2)</pre><b>In a Jupyter environment, please rerun this cell to show the HTML representation or trust the notebook. <br />On GitHub, the HTML representation is unable to render, please try loading this page with nbviewer.org.</b></div><div class=\"sk-container\" hidden><div class=\"sk-item\"><div class=\"sk-estimator sk-toggleable\"><input class=\"sk-toggleable__control sk-hidden--visually\" id=\"sk-estimator-id-3\" type=\"checkbox\" checked><label for=\"sk-estimator-id-3\" class=\"sk-toggleable__label sk-toggleable__label-arrow\">KMeans</label><div class=\"sk-toggleable__content\"><pre>KMeans(n_clusters=2)</pre></div></div></div></div></div>"
      ],
      "text/plain": [
       "KMeans(n_clusters=2)"
      ]
     },
     "execution_count": 62,
     "metadata": {},
     "output_type": "execute_result"
    }
   ],
   "source": [
    "kmean = KMeans(n_clusters=2)\n",
    "kmean.fit(one_hot_data_pca)"
   ]
  },
  {
   "cell_type": "code",
   "execution_count": 63,
   "id": "e7e5c768",
   "metadata": {
    "scrolled": true
   },
   "outputs": [
    {
     "data": {
      "text/plain": [
       "array([[-5.37818449e-02, -4.60070612e-03, -3.72190095e-03,\n",
       "         5.81830430e-03,  4.37405333e-02,  4.68531152e-03,\n",
       "         5.73693049e-02,  1.60846643e-02,  4.86247010e-01,\n",
       "         7.00660745e-03,  2.18500367e-02,  1.42354549e-02,\n",
       "         7.45668292e-03,  1.42493339e-02,  1.12711130e-02,\n",
       "         2.45808758e-02,  1.70641963e-03,  5.90697699e-02,\n",
       "        -4.45108677e-01,  1.49740294e-01, -6.13178937e-01,\n",
       "        -6.10204245e-01, -2.50244845e-01, -2.49659067e-01,\n",
       "         6.98397535e-01, -2.03252321e-01,  2.23386432e-01,\n",
       "        -3.86311819e-01,  5.63483877e-01,  6.28632521e-01,\n",
       "        -2.12832568e-01,  1.86058074e-01,  1.43243209e-01,\n",
       "        -6.11195862e-01, -6.14039483e-01, -2.30762048e-01,\n",
       "        -2.53371824e-01,  1.82267768e-03,  7.01029877e-04,\n",
       "         9.97465999e-16,  6.43745040e-20,  2.90608749e-03,\n",
       "         6.86083135e-16, -3.13117587e-16,  7.49400542e-16,\n",
       "         3.32199546e-16, -2.02962647e-16,  1.19695920e-16,\n",
       "         5.86315897e-04,  1.15160090e-01, -5.80698684e-16,\n",
       "         5.84276537e-02,  3.92066891e-02,  7.72385628e-16,\n",
       "         3.30898503e-16,  7.50739268e-03,  1.58432752e-02,\n",
       "         7.12118895e-02,  1.52951973e-04,  6.43745040e-20,\n",
       "        -7.63278329e-17,  4.97132151e-01,  3.21872520e-20,\n",
       "         7.57206797e-16,  6.43745040e-20,  1.78443969e-04,\n",
       "        -6.76542156e-16, -8.91214186e-16, -8.58688121e-17,\n",
       "         7.44196371e-16, -1.96457434e-16,  2.54919955e-05,\n",
       "         4.61002764e-16, -2.97505076e-16, -5.21284405e-16,\n",
       "         2.64111649e-16,  2.40259201e-16, -4.47992338e-16,\n",
       "        -6.81746326e-16,  5.09839910e-05,  2.14132762e-03,\n",
       "         3.55103498e-02,  2.54919955e-05,  1.27459978e-05,\n",
       "         2.34526359e-03, -3.80554963e-17,  3.78301213e-02,\n",
       "         1.01967982e-04,  1.03432887e-16, -7.15573434e-17,\n",
       "         3.82379933e-05,  8.97573162e-02,  1.27459978e-05,\n",
       "         1.91189966e-04,  1.27459978e-05,  4.03323208e-16,\n",
       "         1.55257751e-16,  1.20194759e-02,  3.82379933e-05,\n",
       "         1.01967982e-04,  1.10890180e-03,  1.27459978e-04,\n",
       "         7.67309065e-03,  2.54919955e-05,  1.27459978e-05,\n",
       "        -1.65666092e-16,  1.56125113e-16,  5.86315897e-04,\n",
       "         3.42357500e-02,  3.41592740e-03,  2.54919955e-05,\n",
       "         2.90608749e-03,  4.65228918e-03,  3.70908535e-03,\n",
       "         1.56775772e-03,  5.48077904e-04,  9.48276741e-01,\n",
       "         7.64759865e-05,  1.05638829e-01,  7.08575507e-01,\n",
       "         1.85785663e-01,  9.50266729e-02,  4.49704907e-01],\n",
       "       [ 8.87999752e-02,  7.59629184e-03,  6.14528403e-03,\n",
       "        -9.60668566e-03, -7.22206217e-02, -7.73598503e-03,\n",
       "        -9.47232819e-02, -2.65576198e-02, -8.02849410e-01,\n",
       "        -1.15687100e-02, -3.60769088e-02, -2.35043637e-02,\n",
       "        -1.23118361e-02, -2.35272795e-02, -1.86098963e-02,\n",
       "        -4.05858365e-02, -2.81749392e-03, -9.75309440e-02,\n",
       "         7.34925319e-01, -2.47238346e-01,  1.01242853e+00,\n",
       "         1.00751698e+00,  4.13182851e-01,  4.12215666e-01,\n",
       "        -1.15313418e+00,  3.35592822e-01, -3.68836540e-01,\n",
       "         6.37844984e-01, -9.30376308e-01, -1.03794417e+00,\n",
       "         3.51410905e-01, -3.07203154e-01, -2.36510917e-01,\n",
       "         1.00915425e+00,  1.01384939e+00,  3.81014526e-01,\n",
       "         4.18345852e-01,  9.25984385e-04,  3.78811794e-04,\n",
       "         1.81408759e-02,  4.20901993e-05,  1.52997874e-02,\n",
       "         1.49420208e-02,  1.54471031e-02,  1.14695793e-02,\n",
       "         1.18483911e-02,  1.09644969e-02,  1.13222636e-02,\n",
       "         1.10065871e-02,  1.68360797e-04,  9.13357325e-03,\n",
       "         4.20901993e-05,  2.10450996e-05,  1.02068733e-02,\n",
       "         9.97537723e-03,  2.47911274e-02,  1.07540459e-02,\n",
       "         2.67904119e-02,  1.06488204e-02,  4.20901993e-05,\n",
       "         9.68074584e-03,  2.80952080e-02,  2.10450996e-05,\n",
       "         1.11539028e-02,  4.20901993e-05,  1.33215481e-02,\n",
       "         1.44579835e-02,  9.11252815e-03,  6.29248479e-03,\n",
       "         8.62849086e-03,  9.99642233e-03,  8.98625755e-03,\n",
       "         9.23879875e-03,  9.49133994e-03,  8.52326536e-03,\n",
       "         7.30264958e-03,  7.61832607e-03,  7.57623587e-03,\n",
       "         1.32584128e-02,  6.14516910e-03,  5.65953534e-17,\n",
       "         3.31039417e-02,  6.31352989e-05,  1.62047267e-03,\n",
       "         1.68360797e-03,  1.45211188e-03,  3.97436707e-01,\n",
       "         2.57498016e-19,  1.64151777e-03,  1.80987857e-03,\n",
       "         1.30479618e-03,  5.70322200e-03,  5.13500431e-03,\n",
       "         6.22934950e-03,  7.99713787e-03,  1.14485342e-02,\n",
       "         1.00385125e-02,  2.96735905e-02,  9.48676901e-20,\n",
       "         2.57498016e-19,  1.19325715e-02,  3.38813179e-19,\n",
       "        -1.32706346e-16,  1.63730875e-02,  1.44790286e-02,\n",
       "         1.29848265e-02,  1.45842541e-02, -4.10912623e-17,\n",
       "         1.79872467e-01,  2.72323589e-02,  2.12555506e-03,\n",
       "         4.61519035e-02,  7.25761306e-01,  1.55733737e-03,\n",
       "         8.41803986e-05,  1.26270598e-04,  1.15116695e-02,\n",
       "         5.57695141e-03,  6.31352989e-05,  9.91161058e-01,\n",
       "         8.77580655e-03,  1.39973142e-01,  6.90242936e-01]])"
      ]
     },
     "execution_count": 63,
     "metadata": {},
     "output_type": "execute_result"
    }
   ],
   "source": [
    "kmean.cluster_centers_"
   ]
  },
  {
   "cell_type": "code",
   "execution_count": 64,
   "id": "1a733359",
   "metadata": {},
   "outputs": [],
   "source": [
    "kmean_result = kmean.labels_"
   ]
  },
  {
   "cell_type": "code",
   "execution_count": 65,
   "id": "d9b51607",
   "metadata": {},
   "outputs": [
    {
     "data": {
      "text/plain": [
       "47511"
      ]
     },
     "execution_count": 65,
     "metadata": {},
     "output_type": "execute_result"
    }
   ],
   "source": [
    "np.count_nonzero(kmean_result==1)"
   ]
  },
  {
   "cell_type": "code",
   "execution_count": 66,
   "id": "77cba497",
   "metadata": {},
   "outputs": [
    {
     "data": {
      "text/plain": [
       "78462"
      ]
     },
     "execution_count": 66,
     "metadata": {},
     "output_type": "execute_result"
    }
   ],
   "source": [
    "kmean_result.shape[0] - np.count_nonzero(kmean_result==1)"
   ]
  },
  {
   "cell_type": "code",
   "execution_count": 69,
   "id": "2f2bfdb9",
   "metadata": {},
   "outputs": [
    {
     "name": "stdout",
     "output_type": "stream",
     "text": [
      "Training accuracy: 0.9073\n",
      "[[67061   282]\n",
      " [11401 47229]]\n"
     ]
    }
   ],
   "source": [
    "train_acc_kmean = accuracy_score(kdd_train_y['class_binary'], kmean_result)\n",
    "print(\"Training accuracy: {:.4f}\".format(train_acc_kmean))\n",
    "cm_kmean = confusion_matrix (kdd_train_y[\"class_binary\"], kmean_result)\n",
    "print(cm_kmean)"
   ]
  },
  {
   "cell_type": "code",
   "execution_count": 70,
   "id": "bd1e7722",
   "metadata": {},
   "outputs": [
    {
     "data": {
      "text/plain": [
       "Text(0.5, 1.0, 'Seaborn Confusion Matrix with labels\\n\\n')"
      ]
     },
     "execution_count": 70,
     "metadata": {},
     "output_type": "execute_result"
    },
    {
     "data": {
      "text/plain": [
       "Text(0.5, 15.0, '\\nPredicted Values')"
      ]
     },
     "execution_count": 70,
     "metadata": {},
     "output_type": "execute_result"
    },
    {
     "data": {
      "text/plain": [
       "Text(33.0, 0.5, 'Actual Values ')"
      ]
     },
     "execution_count": 70,
     "metadata": {},
     "output_type": "execute_result"
    },
    {
     "data": {
      "text/plain": [
       "[Text(0.5, 0, 'False'), Text(1.5, 0, 'True')]"
      ]
     },
     "execution_count": 70,
     "metadata": {},
     "output_type": "execute_result"
    },
    {
     "data": {
      "text/plain": [
       "[Text(0, 0.5, 'False'), Text(0, 1.5, 'True')]"
      ]
     },
     "execution_count": 70,
     "metadata": {},
     "output_type": "execute_result"
    },
    {
     "data": {
      "image/png": "[encoded data removed]",
      "text/plain": [
       "<Figure size 432x288 with 2 Axes>"
      ]
     },
     "metadata": {
      "needs_background": "light"
     },
     "output_type": "display_data"
    },
    {
     "name": "stdout",
     "output_type": "stream",
     "text": [
      "Precision:  0.9940645324240702\n",
      "Recall 0.8055432372505543\n"
     ]
    }
   ],
   "source": [
    "ax = sns.heatmap(cm_kmean, annot=True, cmap='Blues')\n",
    "\n",
    "ax.set_title('Seaborn Confusion Matrix with labels\\n\\n');\n",
    "ax.set_xlabel('\\nPredicted Values')\n",
    "ax.set_ylabel('Actual Values ');\n",
    "\n",
    "## Ticket labels - List must be in alphabetical order\n",
    "ax.xaxis.set_ticklabels(['False','True'])\n",
    "ax.yaxis.set_ticklabels(['False','True'])\n",
    "\n",
    "## Display the visualization of the Confusion Matrix.\n",
    "plt.show()\n",
    "\n",
    "\n",
    "## FP,FN,TP,TN\n",
    "TN_kmean = cm_kmean[0][0]\n",
    "FN_kmean = cm_kmean[1][0]\n",
    "FP_kmean = cm_kmean[0][1]\n",
    "TP_kmean = cm_kmean[1][1]\n",
    "\n",
    "\n",
    "##Precision and Recall\n",
    "Precision_kmean = TP_kmean/(TP_kmean+FP_kmean)\n",
    "Recall_kmean = TP_kmean/(TP_kmean+FN_kmean)\n",
    "\n",
    "print (\"Precision: \",Precision_kmean)\n",
    "print (\"Recall\",Recall_kmean)"
   ]
  },
  {
   "cell_type": "markdown",
   "id": "711b5ef8",
   "metadata": {},
   "source": [
    "# Comparison of Train Result"
   ]
  },
  {
   "cell_type": "code",
   "execution_count": 71,
   "id": "e665e00c",
   "metadata": {},
   "outputs": [
    {
     "data": {
      "text/html": [
       "<div>\n",
       "<style scoped>\n",
       "    .dataframe tbody tr th:only-of-type {\n",
       "        vertical-align: middle;\n",
       "    }\n",
       "\n",
       "    .dataframe tbody tr th {\n",
       "        vertical-align: top;\n",
       "    }\n",
       "\n",
       "    .dataframe thead th {\n",
       "        text-align: right;\n",
       "    }\n",
       "</style>\n",
       "<table border=\"1\" class=\"dataframe\">\n",
       "  <thead>\n",
       "    <tr style=\"text-align: right;\">\n",
       "      <th></th>\n",
       "      <th>Algorithm</th>\n",
       "      <th>accuracy</th>\n",
       "      <th>recall</th>\n",
       "      <th>precision</th>\n",
       "    </tr>\n",
       "  </thead>\n",
       "  <tbody>\n",
       "    <tr>\n",
       "      <th>0</th>\n",
       "      <td>Mahalanobis</td>\n",
       "      <td>0.560120</td>\n",
       "      <td>0.095685</td>\n",
       "      <td>0.700987</td>\n",
       "    </tr>\n",
       "    <tr>\n",
       "      <th>1</th>\n",
       "      <td>Maha + MCD</td>\n",
       "      <td>0.482476</td>\n",
       "      <td>0.428961</td>\n",
       "      <td>0.442283</td>\n",
       "    </tr>\n",
       "    <tr>\n",
       "      <th>2</th>\n",
       "      <td>IF</td>\n",
       "      <td>0.457209</td>\n",
       "      <td>0.967303</td>\n",
       "      <td>0.460434</td>\n",
       "    </tr>\n",
       "    <tr>\n",
       "      <th>3</th>\n",
       "      <td>OCSVM</td>\n",
       "      <td>0.511491</td>\n",
       "      <td>0.456319</td>\n",
       "      <td>0.474219</td>\n",
       "    </tr>\n",
       "    <tr>\n",
       "      <th>4</th>\n",
       "      <td>Kmean</td>\n",
       "      <td>0.907258</td>\n",
       "      <td>0.805543</td>\n",
       "      <td>0.994065</td>\n",
       "    </tr>\n",
       "  </tbody>\n",
       "</table>\n",
       "</div>"
      ],
      "text/plain": [
       "     Algorithm  accuracy    recall  precision\n",
       "0  Mahalanobis  0.560120  0.095685   0.700987\n",
       "1   Maha + MCD  0.482476  0.428961   0.442283\n",
       "2           IF  0.457209  0.967303   0.460434\n",
       "3        OCSVM  0.511491  0.456319   0.474219\n",
       "4        Kmean  0.907258  0.805543   0.994065"
      ]
     },
     "execution_count": 71,
     "metadata": {},
     "output_type": "execute_result"
    }
   ],
   "source": [
    "header_cmp = ['Algorithm','accuracy', 'recall', 'precision']\n",
    "table_cmp = [['Mahalanobis', train_acc_maha, Recall_maha, Precision_maha],\n",
    "             ['Maha + MCD', train_acc_maha_mcd, Recall_maha_mcd, Precision_maha_mcd],\n",
    "             ['IF', train_acc_if, Recall_if, Precision_if],\n",
    "             ['OCSVM', train_acc, Recall_svm, Precision_svm],\n",
    "             ['Kmean', train_acc_kmean, Recall_kmean, Precision_kmean]]\n",
    "comparison = pd.DataFrame(table_cmp,columns=header_cmp)\n",
    "comparison"
   ]
  },
  {
   "cell_type": "markdown",
   "id": "89474c17",
   "metadata": {},
   "source": [
    "# Testing"
   ]
  },
  {
   "cell_type": "code",
   "execution_count": null,
   "id": "c2531134",
   "metadata": {},
   "outputs": [],
   "source": []
  }
 ],
 "metadata": {
  "kernelspec": {
   "display_name": "Python 3 (ipykernel)",
   "language": "python",
   "name": "python3"
  },
  "language_info": {
   "codemirror_mode": {
    "name": "ipython",
    "version": 3
   },
   "file_extension": ".py",
   "mimetype": "text/x-python",
   "name": "python",
   "nbconvert_exporter": "python",
   "pygments_lexer": "ipython3",
   "version": "3.10.10"
  }
 },
 "nbformat": 4,
 "nbformat_minor": 5
}
