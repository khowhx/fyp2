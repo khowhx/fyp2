{
 "cells": [
  {
   "cell_type": "code",
   "execution_count": 1,
   "id": "aff8f08e",
   "metadata": {},
   "outputs": [
    {
     "name": "stdout",
     "output_type": "stream",
     "text": [
      "sys.version_info(major=3, minor=10, micro=10, releaselevel='final', serial=0)\n",
      "1.1.1\n"
     ]
    }
   ],
   "source": [
    "# To show the python version\n",
    "import sys\n",
    "assert sys.version_info >= (3,8)\n",
    "print(sys.version_info)\n",
    "\n",
    "# to show all the output from a code chunk\n",
    "from IPython.core.interactiveshell import InteractiveShell\n",
    "InteractiveShell.ast_node_interactivity = \"all\"\n",
    "\n",
    "# matplotlib for plotting\n",
    "from matplotlib import pyplot as plt\n",
    "%matplotlib inline\n",
    "\n",
    "# Other external libraries like pandas and numpy\n",
    "import pandas as pd\n",
    "import numpy as np\n",
    "np.random.seed(999)\n",
    "\n",
    "# machine learning models\n",
    "import sklearn\n",
    "print(sklearn.__version__)\n",
    "\n",
    "#import others\n",
    "from sklearn.metrics import confusion_matrix\n",
    "from sklearn import model_selection, datasets\n",
    "from sklearn.tree import DecisionTreeClassifier\n",
    "import joblib\n",
    "import pickle\n",
    "import seaborn as sns\n",
    "\n",
    "from sklearn.model_selection import RandomizedSearchCV\n",
    "from sklearn.model_selection import GridSearchCV"
   ]
  },
  {
   "cell_type": "code",
   "execution_count": 2,
   "id": "06ebe2e9",
   "metadata": {},
   "outputs": [
    {
     "data": {
      "text/html": [
       "<div>\n",
       "<style scoped>\n",
       "    .dataframe tbody tr th:only-of-type {\n",
       "        vertical-align: middle;\n",
       "    }\n",
       "\n",
       "    .dataframe tbody tr th {\n",
       "        vertical-align: top;\n",
       "    }\n",
       "\n",
       "    .dataframe thead th {\n",
       "        text-align: right;\n",
       "    }\n",
       "</style>\n",
       "<table border=\"1\" class=\"dataframe\">\n",
       "  <thead>\n",
       "    <tr style=\"text-align: right;\">\n",
       "      <th></th>\n",
       "      <th>(duration,)</th>\n",
       "      <th>(src_bytes,)</th>\n",
       "      <th>(dst_bytes,)</th>\n",
       "      <th>(land,)</th>\n",
       "      <th>(wrong_fragment,)</th>\n",
       "      <th>(urgent,)</th>\n",
       "      <th>(hot,)</th>\n",
       "      <th>(num_failed_logins,)</th>\n",
       "      <th>(logged_in,)</th>\n",
       "      <th>(num_compromised,)</th>\n",
       "      <th>...</th>\n",
       "      <th>service_time</th>\n",
       "      <th>service_urh_i</th>\n",
       "      <th>service_urp_i</th>\n",
       "      <th>service_uucp</th>\n",
       "      <th>service_uucp_path</th>\n",
       "      <th>service_vmnet</th>\n",
       "      <th>service_whois</th>\n",
       "      <th>protocol_type_icmp</th>\n",
       "      <th>protocol_type_tcp</th>\n",
       "      <th>protocol_type_udp</th>\n",
       "    </tr>\n",
       "  </thead>\n",
       "  <tbody>\n",
       "    <tr>\n",
       "      <th>0</th>\n",
       "      <td>-0.110249</td>\n",
       "      <td>-0.007679</td>\n",
       "      <td>-0.004919</td>\n",
       "      <td>-0.014089</td>\n",
       "      <td>-0.089486</td>\n",
       "      <td>-0.007736</td>\n",
       "      <td>-0.095076</td>\n",
       "      <td>-0.027023</td>\n",
       "      <td>-0.809262</td>\n",
       "      <td>-0.011664</td>\n",
       "      <td>...</td>\n",
       "      <td>0</td>\n",
       "      <td>0</td>\n",
       "      <td>0</td>\n",
       "      <td>0</td>\n",
       "      <td>0</td>\n",
       "      <td>0</td>\n",
       "      <td>0</td>\n",
       "      <td>0</td>\n",
       "      <td>1</td>\n",
       "      <td>0</td>\n",
       "    </tr>\n",
       "    <tr>\n",
       "      <th>1</th>\n",
       "      <td>-0.110249</td>\n",
       "      <td>-0.007737</td>\n",
       "      <td>-0.004919</td>\n",
       "      <td>-0.014089</td>\n",
       "      <td>-0.089486</td>\n",
       "      <td>-0.007736</td>\n",
       "      <td>-0.095076</td>\n",
       "      <td>-0.027023</td>\n",
       "      <td>-0.809262</td>\n",
       "      <td>-0.011664</td>\n",
       "      <td>...</td>\n",
       "      <td>0</td>\n",
       "      <td>0</td>\n",
       "      <td>0</td>\n",
       "      <td>0</td>\n",
       "      <td>0</td>\n",
       "      <td>0</td>\n",
       "      <td>0</td>\n",
       "      <td>0</td>\n",
       "      <td>0</td>\n",
       "      <td>1</td>\n",
       "    </tr>\n",
       "    <tr>\n",
       "      <th>2</th>\n",
       "      <td>-0.110249</td>\n",
       "      <td>-0.007762</td>\n",
       "      <td>-0.004919</td>\n",
       "      <td>-0.014089</td>\n",
       "      <td>-0.089486</td>\n",
       "      <td>-0.007736</td>\n",
       "      <td>-0.095076</td>\n",
       "      <td>-0.027023</td>\n",
       "      <td>-0.809262</td>\n",
       "      <td>-0.011664</td>\n",
       "      <td>...</td>\n",
       "      <td>0</td>\n",
       "      <td>0</td>\n",
       "      <td>0</td>\n",
       "      <td>0</td>\n",
       "      <td>0</td>\n",
       "      <td>0</td>\n",
       "      <td>0</td>\n",
       "      <td>0</td>\n",
       "      <td>1</td>\n",
       "      <td>0</td>\n",
       "    </tr>\n",
       "    <tr>\n",
       "      <th>3</th>\n",
       "      <td>-0.110249</td>\n",
       "      <td>-0.007723</td>\n",
       "      <td>-0.002891</td>\n",
       "      <td>-0.014089</td>\n",
       "      <td>-0.089486</td>\n",
       "      <td>-0.007736</td>\n",
       "      <td>-0.095076</td>\n",
       "      <td>-0.027023</td>\n",
       "      <td>1.235694</td>\n",
       "      <td>-0.011664</td>\n",
       "      <td>...</td>\n",
       "      <td>0</td>\n",
       "      <td>0</td>\n",
       "      <td>0</td>\n",
       "      <td>0</td>\n",
       "      <td>0</td>\n",
       "      <td>0</td>\n",
       "      <td>0</td>\n",
       "      <td>0</td>\n",
       "      <td>1</td>\n",
       "      <td>0</td>\n",
       "    </tr>\n",
       "    <tr>\n",
       "      <th>4</th>\n",
       "      <td>-0.110249</td>\n",
       "      <td>-0.007728</td>\n",
       "      <td>-0.004814</td>\n",
       "      <td>-0.014089</td>\n",
       "      <td>-0.089486</td>\n",
       "      <td>-0.007736</td>\n",
       "      <td>-0.095076</td>\n",
       "      <td>-0.027023</td>\n",
       "      <td>1.235694</td>\n",
       "      <td>-0.011664</td>\n",
       "      <td>...</td>\n",
       "      <td>0</td>\n",
       "      <td>0</td>\n",
       "      <td>0</td>\n",
       "      <td>0</td>\n",
       "      <td>0</td>\n",
       "      <td>0</td>\n",
       "      <td>0</td>\n",
       "      <td>0</td>\n",
       "      <td>1</td>\n",
       "      <td>0</td>\n",
       "    </tr>\n",
       "  </tbody>\n",
       "</table>\n",
       "<p>5 rows × 122 columns</p>\n",
       "</div>"
      ],
      "text/plain": [
       "   (duration,)  (src_bytes,)  (dst_bytes,)   (land,)  (wrong_fragment,)  \\\n",
       "0    -0.110249     -0.007679     -0.004919 -0.014089          -0.089486   \n",
       "1    -0.110249     -0.007737     -0.004919 -0.014089          -0.089486   \n",
       "2    -0.110249     -0.007762     -0.004919 -0.014089          -0.089486   \n",
       "3    -0.110249     -0.007723     -0.002891 -0.014089          -0.089486   \n",
       "4    -0.110249     -0.007728     -0.004814 -0.014089          -0.089486   \n",
       "\n",
       "   (urgent,)    (hot,)  (num_failed_logins,)  (logged_in,)  \\\n",
       "0  -0.007736 -0.095076             -0.027023     -0.809262   \n",
       "1  -0.007736 -0.095076             -0.027023     -0.809262   \n",
       "2  -0.007736 -0.095076             -0.027023     -0.809262   \n",
       "3  -0.007736 -0.095076             -0.027023      1.235694   \n",
       "4  -0.007736 -0.095076             -0.027023      1.235694   \n",
       "\n",
       "   (num_compromised,)  ...  service_time  service_urh_i  service_urp_i  \\\n",
       "0           -0.011664  ...             0              0              0   \n",
       "1           -0.011664  ...             0              0              0   \n",
       "2           -0.011664  ...             0              0              0   \n",
       "3           -0.011664  ...             0              0              0   \n",
       "4           -0.011664  ...             0              0              0   \n",
       "\n",
       "   service_uucp  service_uucp_path  service_vmnet  service_whois  \\\n",
       "0             0                  0              0              0   \n",
       "1             0                  0              0              0   \n",
       "2             0                  0              0              0   \n",
       "3             0                  0              0              0   \n",
       "4             0                  0              0              0   \n",
       "\n",
       "   protocol_type_icmp  protocol_type_tcp  protocol_type_udp  \n",
       "0                   0                  1                  0  \n",
       "1                   0                  0                  1  \n",
       "2                   0                  1                  0  \n",
       "3                   0                  1                  0  \n",
       "4                   0                  1                  0  \n",
       "\n",
       "[5 rows x 122 columns]"
      ]
     },
     "execution_count": 2,
     "metadata": {},
     "output_type": "execute_result"
    },
    {
     "data": {
      "text/html": [
       "<div>\n",
       "<style scoped>\n",
       "    .dataframe tbody tr th:only-of-type {\n",
       "        vertical-align: middle;\n",
       "    }\n",
       "\n",
       "    .dataframe tbody tr th {\n",
       "        vertical-align: top;\n",
       "    }\n",
       "\n",
       "    .dataframe thead th {\n",
       "        text-align: right;\n",
       "    }\n",
       "</style>\n",
       "<table border=\"1\" class=\"dataframe\">\n",
       "  <thead>\n",
       "    <tr style=\"text-align: right;\">\n",
       "      <th></th>\n",
       "      <th>(duration,)</th>\n",
       "      <th>(src_bytes,)</th>\n",
       "      <th>(dst_bytes,)</th>\n",
       "      <th>(land,)</th>\n",
       "      <th>(wrong_fragment,)</th>\n",
       "      <th>(urgent,)</th>\n",
       "      <th>(hot,)</th>\n",
       "      <th>(num_failed_logins,)</th>\n",
       "      <th>(logged_in,)</th>\n",
       "      <th>(num_compromised,)</th>\n",
       "      <th>...</th>\n",
       "      <th>service_time</th>\n",
       "      <th>service_urh_i</th>\n",
       "      <th>service_urp_i</th>\n",
       "      <th>service_uucp</th>\n",
       "      <th>service_uucp_path</th>\n",
       "      <th>service_vmnet</th>\n",
       "      <th>service_whois</th>\n",
       "      <th>protocol_type_icmp</th>\n",
       "      <th>protocol_type_tcp</th>\n",
       "      <th>protocol_type_udp</th>\n",
       "    </tr>\n",
       "  </thead>\n",
       "  <tbody>\n",
       "    <tr>\n",
       "      <th>0</th>\n",
       "      <td>-0.110249</td>\n",
       "      <td>-0.007679</td>\n",
       "      <td>-0.004919</td>\n",
       "      <td>-0.014089</td>\n",
       "      <td>-0.089486</td>\n",
       "      <td>-0.007736</td>\n",
       "      <td>-0.095076</td>\n",
       "      <td>-0.027023</td>\n",
       "      <td>-0.809262</td>\n",
       "      <td>-0.011664</td>\n",
       "      <td>...</td>\n",
       "      <td>0</td>\n",
       "      <td>0</td>\n",
       "      <td>0</td>\n",
       "      <td>0</td>\n",
       "      <td>0</td>\n",
       "      <td>0</td>\n",
       "      <td>0</td>\n",
       "      <td>0</td>\n",
       "      <td>1</td>\n",
       "      <td>0</td>\n",
       "    </tr>\n",
       "    <tr>\n",
       "      <th>1</th>\n",
       "      <td>-0.110249</td>\n",
       "      <td>-0.007737</td>\n",
       "      <td>-0.004919</td>\n",
       "      <td>-0.014089</td>\n",
       "      <td>-0.089486</td>\n",
       "      <td>-0.007736</td>\n",
       "      <td>-0.095076</td>\n",
       "      <td>-0.027023</td>\n",
       "      <td>-0.809262</td>\n",
       "      <td>-0.011664</td>\n",
       "      <td>...</td>\n",
       "      <td>0</td>\n",
       "      <td>0</td>\n",
       "      <td>0</td>\n",
       "      <td>0</td>\n",
       "      <td>0</td>\n",
       "      <td>0</td>\n",
       "      <td>0</td>\n",
       "      <td>0</td>\n",
       "      <td>0</td>\n",
       "      <td>1</td>\n",
       "    </tr>\n",
       "    <tr>\n",
       "      <th>2</th>\n",
       "      <td>-0.110249</td>\n",
       "      <td>-0.007762</td>\n",
       "      <td>-0.004919</td>\n",
       "      <td>-0.014089</td>\n",
       "      <td>-0.089486</td>\n",
       "      <td>-0.007736</td>\n",
       "      <td>-0.095076</td>\n",
       "      <td>-0.027023</td>\n",
       "      <td>-0.809262</td>\n",
       "      <td>-0.011664</td>\n",
       "      <td>...</td>\n",
       "      <td>0</td>\n",
       "      <td>0</td>\n",
       "      <td>0</td>\n",
       "      <td>0</td>\n",
       "      <td>0</td>\n",
       "      <td>0</td>\n",
       "      <td>0</td>\n",
       "      <td>0</td>\n",
       "      <td>1</td>\n",
       "      <td>0</td>\n",
       "    </tr>\n",
       "    <tr>\n",
       "      <th>3</th>\n",
       "      <td>-0.110249</td>\n",
       "      <td>-0.007723</td>\n",
       "      <td>-0.002891</td>\n",
       "      <td>-0.014089</td>\n",
       "      <td>-0.089486</td>\n",
       "      <td>-0.007736</td>\n",
       "      <td>-0.095076</td>\n",
       "      <td>-0.027023</td>\n",
       "      <td>1.235694</td>\n",
       "      <td>-0.011664</td>\n",
       "      <td>...</td>\n",
       "      <td>0</td>\n",
       "      <td>0</td>\n",
       "      <td>0</td>\n",
       "      <td>0</td>\n",
       "      <td>0</td>\n",
       "      <td>0</td>\n",
       "      <td>0</td>\n",
       "      <td>0</td>\n",
       "      <td>1</td>\n",
       "      <td>0</td>\n",
       "    </tr>\n",
       "    <tr>\n",
       "      <th>4</th>\n",
       "      <td>-0.110249</td>\n",
       "      <td>-0.007728</td>\n",
       "      <td>-0.004814</td>\n",
       "      <td>-0.014089</td>\n",
       "      <td>-0.089486</td>\n",
       "      <td>-0.007736</td>\n",
       "      <td>-0.095076</td>\n",
       "      <td>-0.027023</td>\n",
       "      <td>1.235694</td>\n",
       "      <td>-0.011664</td>\n",
       "      <td>...</td>\n",
       "      <td>0</td>\n",
       "      <td>0</td>\n",
       "      <td>0</td>\n",
       "      <td>0</td>\n",
       "      <td>0</td>\n",
       "      <td>0</td>\n",
       "      <td>0</td>\n",
       "      <td>0</td>\n",
       "      <td>1</td>\n",
       "      <td>0</td>\n",
       "    </tr>\n",
       "  </tbody>\n",
       "</table>\n",
       "<p>5 rows × 122 columns</p>\n",
       "</div>"
      ],
      "text/plain": [
       "   (duration,)  (src_bytes,)  (dst_bytes,)   (land,)  (wrong_fragment,)  \\\n",
       "0    -0.110249     -0.007679     -0.004919 -0.014089          -0.089486   \n",
       "1    -0.110249     -0.007737     -0.004919 -0.014089          -0.089486   \n",
       "2    -0.110249     -0.007762     -0.004919 -0.014089          -0.089486   \n",
       "3    -0.110249     -0.007723     -0.002891 -0.014089          -0.089486   \n",
       "4    -0.110249     -0.007728     -0.004814 -0.014089          -0.089486   \n",
       "\n",
       "   (urgent,)    (hot,)  (num_failed_logins,)  (logged_in,)  \\\n",
       "0  -0.007736 -0.095076             -0.027023     -0.809262   \n",
       "1  -0.007736 -0.095076             -0.027023     -0.809262   \n",
       "2  -0.007736 -0.095076             -0.027023     -0.809262   \n",
       "3  -0.007736 -0.095076             -0.027023      1.235694   \n",
       "4  -0.007736 -0.095076             -0.027023      1.235694   \n",
       "\n",
       "   (num_compromised,)  ...  service_time  service_urh_i  service_urp_i  \\\n",
       "0           -0.011664  ...             0              0              0   \n",
       "1           -0.011664  ...             0              0              0   \n",
       "2           -0.011664  ...             0              0              0   \n",
       "3           -0.011664  ...             0              0              0   \n",
       "4           -0.011664  ...             0              0              0   \n",
       "\n",
       "   service_uucp  service_uucp_path  service_vmnet  service_whois  \\\n",
       "0             0                  0              0              0   \n",
       "1             0                  0              0              0   \n",
       "2             0                  0              0              0   \n",
       "3             0                  0              0              0   \n",
       "4             0                  0              0              0   \n",
       "\n",
       "   protocol_type_icmp  protocol_type_tcp  protocol_type_udp  \n",
       "0                   0                  1                  0  \n",
       "1                   0                  0                  1  \n",
       "2                   0                  1                  0  \n",
       "3                   0                  1                  0  \n",
       "4                   0                  1                  0  \n",
       "\n",
       "[5 rows x 122 columns]"
      ]
     },
     "execution_count": 2,
     "metadata": {},
     "output_type": "execute_result"
    },
    {
     "data": {
      "text/plain": [
       "(125973, 122)"
      ]
     },
     "execution_count": 2,
     "metadata": {},
     "output_type": "execute_result"
    }
   ],
   "source": [
    "from scipy.io import arff\n",
    "# Load the arff file\n",
    "header_info = arff.loadarff(\"Dataset/KDDTrain+.arff\")\n",
    "df = pd.DataFrame(header_info[0])\n",
    "header_names = df.columns.values.tolist()\n",
    "header_names.append('Difficulty')\n",
    "kdd_train = pd.read_csv('Dataset/KDDTrain+.txt', delimiter = ',', header = None)\n",
    "\n",
    "#Rename the headers\n",
    "kdd_train.columns = header_names\n",
    "#Drop the target variables\n",
    "kdd_train_x = kdd_train.drop(['class', 'Difficulty'], axis = 1)\n",
    "y = ['class']\n",
    "kdd_train_y = kdd_train[y]\n",
    "\n",
    "#Identify categorical features\n",
    "num_cols = kdd_train_x._get_numeric_data().columns\n",
    "cate_cols = list(set(kdd_train_x.columns) - set(num_cols))\n",
    "\n",
    "from sklearn.preprocessing import StandardScaler\n",
    "std = StandardScaler()\n",
    "\n",
    "#One-Hot Encoding the categorical features\n",
    "cate_features = pd.get_dummies(kdd_train_x[cate_cols], prefix = cate_cols)\n",
    "one_hot_data = kdd_train_x.drop(cate_cols, axis = 1)\n",
    "#Standard Scaler on numeric data\n",
    "std_fit = std.fit(one_hot_data)\n",
    "array_ss = std_fit.transform(one_hot_data)\n",
    "one_hot_data_ss = pd.DataFrame(array_ss,columns=[num_cols])\n",
    "one_hot_data_maha = pd.concat([one_hot_data_ss, cate_features], axis = 1)\n",
    "one_hot_data_if = one_hot_data_maha\n",
    "one_hot_data_if.head()\n",
    "one_hot_data_maha.head()\n",
    "data_array = np.array(one_hot_data_maha)\n",
    "data_array.shape    # Make sure that the Numpy array dimension is consistent with the Pandas Dataframe\n",
    "# function to calculate mahalanobis distance"
   ]
  },
  {
   "cell_type": "code",
   "execution_count": 3,
   "id": "287a957b",
   "metadata": {},
   "outputs": [
    {
     "name": "stderr",
     "output_type": "stream",
     "text": [
      "C:\\Users\\khxia\\AppData\\Local\\Temp\\ipykernel_2984\\3533821117.py:24: SettingWithCopyWarning: \n",
      "A value is trying to be set on a copy of a slice from a DataFrame.\n",
      "Try using .loc[row_indexer,col_indexer] = value instead\n",
      "\n",
      "See the caveats in the documentation: https://pandas.pydata.org/pandas-docs/stable/user_guide/indexing.html#returning-a-view-versus-a-copy\n",
      "  kdd_train_y[\"class_binary\"] = kdd_train_y[\"class\"].map(label_map)\n"
     ]
    }
   ],
   "source": [
    "label_map = {\"normal\": 0,\n",
    "            \"neptune\": 1,\n",
    "            \"satan\": 1,\n",
    "            \"ipsweep\": 1,\n",
    "            \"portsweep\": 1,\n",
    "            \"smurf\": 1,\n",
    "            \"nmap\": 1,\n",
    "            \"back\": 1,\n",
    "            \"teardrop\": 1,\n",
    "            \"warezclient\": 1,\n",
    "            \"pod\": 1,\n",
    "            \"guess_passwd\": 1,\n",
    "            \"buffer_overflow\": 1,\n",
    "            \"warezmaster\": 1,\n",
    "            \"land\": 1,\n",
    "            \"imap\": 1,\n",
    "            \"rootkit\": 1,\n",
    "            \"loadmodule\": 1,\n",
    "            \"ftp_write\": 1,\n",
    "            \"multihop\": 1,\n",
    "            \"phf\": 1,\n",
    "            \"perl\": 1, \n",
    "            \"spy\": 1}\n",
    "kdd_train_y[\"class_binary\"] = kdd_train_y[\"class\"].map(label_map)"
   ]
  },
  {
   "cell_type": "markdown",
   "id": "e3687c42",
   "metadata": {},
   "source": [
    "# PCA"
   ]
  },
  {
   "cell_type": "markdown",
   "id": "b845924c",
   "metadata": {},
   "source": [
    "## Hyperparameter Tunning for PCA"
   ]
  },
  {
   "cell_type": "code",
   "execution_count": 52,
   "id": "8f25ae22",
   "metadata": {},
   "outputs": [],
   "source": [
    "from sklearn.metrics import make_scorer, f1_score\n",
    "\n",
    "def scorer_f(estimator, X):   #your own scorer\n",
    "      return np.mean(estimator.score_samples(X))\n",
    "    "
   ]
  },
  {
   "cell_type": "code",
   "execution_count": 53,
   "id": "61f0df2b",
   "metadata": {},
   "outputs": [],
   "source": [
    "parameters_pca = {'n_components' : np.linspace(0.1, 1, num = 22)}"
   ]
  },
  {
   "cell_type": "code",
   "execution_count": 54,
   "id": "f228d9cf",
   "metadata": {},
   "outputs": [],
   "source": [
    "from sklearn.decomposition import PCA\n",
    "model_pca = PCA()"
   ]
  },
  {
   "cell_type": "code",
   "execution_count": 7,
   "id": "58d75b54",
   "metadata": {},
   "outputs": [],
   "source": [
    "idx_rand = np.random.permutation(len(kdd_train_x))\n",
    "num_sample = int(0.01*len(kdd_train_x))\n",
    "one_hot_data_pca = one_hot_data_maha\n",
    "one_hot_data_pca_sample = one_hot_data_pca.iloc[idx_rand[:num_sample]]\n",
    "kdd_train_y_sample = kdd_train_y.iloc[idx_rand[:num_sample]]\n",
    "\n"
   ]
  },
  {
   "cell_type": "code",
   "execution_count": 8,
   "id": "af6bb1ed",
   "metadata": {},
   "outputs": [
    {
     "name": "stdout",
     "output_type": "stream",
     "text": [
      " Results from Random Search \n",
      "\n",
      " The best estimator across ALL searched params:\n",
      " PCA(n_components=0.9571428571428572)\n",
      "\n",
      " The best score across ALL searched params:\n",
      " nan\n",
      "\n",
      " The best parameters across ALL searched params:\n",
      " {'n_components': 0.9571428571428572}\n"
     ]
    },
    {
     "name": "stderr",
     "output_type": "stream",
     "text": [
      "C:\\WINDOWS\\system32\\myenv\\lib\\site-packages\\sklearn\\model_selection\\_validation.py:378: FitFailedWarning: \n",
      "3 fits failed out of a total of 30.\n",
      "The score on these train-test partitions for these parameters will be set to nan.\n",
      "If these failures are not expected, you can try to debug them by setting error_score='raise'.\n",
      "\n",
      "Below are more details about the failures:\n",
      "--------------------------------------------------------------------------------\n",
      "3 fits failed with the following error:\n",
      "Traceback (most recent call last):\n",
      "  File \"C:\\WINDOWS\\system32\\myenv\\lib\\site-packages\\sklearn\\model_selection\\_validation.py\", line 686, in _fit_and_score\n",
      "    estimator.fit(X_train, y_train, **fit_params)\n",
      "  File \"C:\\WINDOWS\\system32\\myenv\\lib\\site-packages\\sklearn\\decomposition\\_pca.py\", line 408, in fit\n",
      "    self._fit(X)\n",
      "  File \"C:\\WINDOWS\\system32\\myenv\\lib\\site-packages\\sklearn\\decomposition\\_pca.py\", line 485, in _fit\n",
      "    return self._fit_truncated(X, n_components, self._fit_svd_solver)\n",
      "  File \"C:\\WINDOWS\\system32\\myenv\\lib\\site-packages\\sklearn\\decomposition\\_pca.py\", line 576, in _fit_truncated\n",
      "    raise ValueError(\n",
      "ValueError: n_components=1.0 must be of type int when greater than or equal to 1, was of type=<class 'numpy.float64'>\n",
      "\n",
      "  warnings.warn(some_fits_failed_message, FitFailedWarning)\n",
      "C:\\WINDOWS\\system32\\myenv\\lib\\site-packages\\sklearn\\model_selection\\_search.py:953: UserWarning: One or more of the test scores are non-finite: [nan nan nan nan nan nan nan nan nan nan]\n",
      "  warnings.warn(\n",
      "C:\\WINDOWS\\system32\\myenv\\lib\\site-packages\\sklearn\\model_selection\\_search.py:953: UserWarning: One or more of the train scores are non-finite: [nan nan nan nan nan nan nan nan nan nan]\n",
      "  warnings.warn(\n",
      "C:\\WINDOWS\\system32\\myenv\\lib\\site-packages\\sklearn\\utils\\validation.py:1858: FutureWarning: Feature names only support names that are all strings. Got feature names with dtypes: ['str', 'tuple']. An error will be raised in 1.2.\n",
      "  warnings.warn(\n"
     ]
    }
   ],
   "source": [
    "f1sc = make_scorer(f1_score, average = 'micro')\n",
    "randm_src = RandomizedSearchCV(estimator=model_pca, param_distributions = parameters_pca, cv = 3, scoring = f1sc, random_state = 0, return_train_score = True, n_jobs = -1)\n",
    "model_src = randm_src.fit(one_hot_data_pca_sample, kdd_train_y_sample[\"class_binary\"])\n",
    "\n",
    "print(\" Results from Random Search \" )\n",
    "print(\"\\n The best estimator across ALL searched params:\\n\", randm_src.best_estimator_)\n",
    "print(\"\\n The best score across ALL searched params:\\n\", randm_src.best_score_)\n",
    "print(\"\\n The best parameters across ALL searched params:\\n\", randm_src.best_params_)"
   ]
  },
  {
   "cell_type": "code",
   "execution_count": 9,
   "id": "95b8069d",
   "metadata": {},
   "outputs": [],
   "source": [
    "#Keep best % of variance\n",
    "model_pca = PCA(n_components=0.9571428571428572,whiten = True)"
   ]
  },
  {
   "cell_type": "code",
   "execution_count": 10,
   "id": "38bda7c9",
   "metadata": {},
   "outputs": [
    {
     "name": "stderr",
     "output_type": "stream",
     "text": [
      "C:\\WINDOWS\\system32\\myenv\\lib\\site-packages\\sklearn\\utils\\validation.py:1858: FutureWarning: Feature names only support names that are all strings. Got feature names with dtypes: ['str', 'tuple']. An error will be raised in 1.2.\n",
      "  warnings.warn(\n"
     ]
    }
   ],
   "source": [
    "data_pca = model_pca.fit_transform(one_hot_data_maha)"
   ]
  },
  {
   "cell_type": "code",
   "execution_count": 11,
   "id": "32aa62b8",
   "metadata": {},
   "outputs": [
    {
     "name": "stdout",
     "output_type": "stream",
     "text": [
      "(125973, 25)\n"
     ]
    }
   ],
   "source": [
    "print(data_pca.shape)"
   ]
  },
  {
   "cell_type": "code",
   "execution_count": 12,
   "id": "90f7430a",
   "metadata": {},
   "outputs": [],
   "source": [
    "model_pca = PCA(n_components=25,whiten=True)"
   ]
  },
  {
   "cell_type": "code",
   "execution_count": 13,
   "id": "08e1f8ad",
   "metadata": {},
   "outputs": [
    {
     "name": "stderr",
     "output_type": "stream",
     "text": [
      "C:\\WINDOWS\\system32\\myenv\\lib\\site-packages\\sklearn\\utils\\validation.py:1858: FutureWarning: Feature names only support names that are all strings. Got feature names with dtypes: ['str', 'tuple']. An error will be raised in 1.2.\n",
      "  warnings.warn(\n"
     ]
    },
    {
     "name": "stdout",
     "output_type": "stream",
     "text": [
      "(125973, 25)\n"
     ]
    }
   ],
   "source": [
    "data_pca = model_pca.fit_transform(one_hot_data_maha)\n",
    "print(data_pca.shape)"
   ]
  },
  {
   "cell_type": "code",
   "execution_count": 14,
   "id": "090b43d0",
   "metadata": {},
   "outputs": [
    {
     "name": "stdout",
     "output_type": "stream",
     "text": [
      "['Variable 0', 'Variable 1', 'Variable 2', 'Variable 3', 'Variable 4', 'Variable 5', 'Variable 6', 'Variable 7', 'Variable 8', 'Variable 9', 'Variable 10', 'Variable 11', 'Variable 12', 'Variable 13', 'Variable 14', 'Variable 15', 'Variable 16', 'Variable 17', 'Variable 18', 'Variable 19', 'Variable 20', 'Variable 21', 'Variable 22', 'Variable 23', 'Variable 24']\n"
     ]
    }
   ],
   "source": [
    "new_header =['Variable '+str(i) for i in range(model_pca.n_components)]\n",
    "\n",
    "    \n",
    "print(new_header)"
   ]
  },
  {
   "cell_type": "code",
   "execution_count": 15,
   "id": "7c25506b",
   "metadata": {},
   "outputs": [],
   "source": [
    "data_pca = pd.DataFrame(data_pca,columns=new_header)"
   ]
  },
  {
   "cell_type": "code",
   "execution_count": 16,
   "id": "fdda3f78",
   "metadata": {},
   "outputs": [
    {
     "data": {
      "text/html": [
       "<div>\n",
       "<style scoped>\n",
       "    .dataframe tbody tr th:only-of-type {\n",
       "        vertical-align: middle;\n",
       "    }\n",
       "\n",
       "    .dataframe tbody tr th {\n",
       "        vertical-align: top;\n",
       "    }\n",
       "\n",
       "    .dataframe thead th {\n",
       "        text-align: right;\n",
       "    }\n",
       "</style>\n",
       "<table border=\"1\" class=\"dataframe\">\n",
       "  <thead>\n",
       "    <tr style=\"text-align: right;\">\n",
       "      <th></th>\n",
       "      <th>Variable 0</th>\n",
       "      <th>Variable 1</th>\n",
       "      <th>Variable 2</th>\n",
       "      <th>Variable 3</th>\n",
       "      <th>Variable 4</th>\n",
       "      <th>Variable 5</th>\n",
       "      <th>Variable 6</th>\n",
       "      <th>Variable 7</th>\n",
       "      <th>Variable 8</th>\n",
       "      <th>Variable 9</th>\n",
       "      <th>...</th>\n",
       "      <th>Variable 15</th>\n",
       "      <th>Variable 16</th>\n",
       "      <th>Variable 17</th>\n",
       "      <th>Variable 18</th>\n",
       "      <th>Variable 19</th>\n",
       "      <th>Variable 20</th>\n",
       "      <th>Variable 21</th>\n",
       "      <th>Variable 22</th>\n",
       "      <th>Variable 23</th>\n",
       "      <th>Variable 24</th>\n",
       "    </tr>\n",
       "  </thead>\n",
       "  <tbody>\n",
       "    <tr>\n",
       "      <th>0</th>\n",
       "      <td>-0.271817</td>\n",
       "      <td>-0.031828</td>\n",
       "      <td>-0.007913</td>\n",
       "      <td>-0.057511</td>\n",
       "      <td>-0.242414</td>\n",
       "      <td>0.177059</td>\n",
       "      <td>-0.356125</td>\n",
       "      <td>0.408246</td>\n",
       "      <td>0.040124</td>\n",
       "      <td>0.127203</td>\n",
       "      <td>...</td>\n",
       "      <td>0.017673</td>\n",
       "      <td>-0.207699</td>\n",
       "      <td>-0.037677</td>\n",
       "      <td>-0.320516</td>\n",
       "      <td>0.282797</td>\n",
       "      <td>2.121937</td>\n",
       "      <td>-0.554458</td>\n",
       "      <td>-0.128769</td>\n",
       "      <td>-1.473139</td>\n",
       "      <td>-1.178282</td>\n",
       "    </tr>\n",
       "    <tr>\n",
       "      <th>1</th>\n",
       "      <td>0.172646</td>\n",
       "      <td>0.493701</td>\n",
       "      <td>0.004511</td>\n",
       "      <td>-0.797855</td>\n",
       "      <td>-0.794043</td>\n",
       "      <td>1.396155</td>\n",
       "      <td>-1.419620</td>\n",
       "      <td>1.811961</td>\n",
       "      <td>-0.912517</td>\n",
       "      <td>0.028640</td>\n",
       "      <td>...</td>\n",
       "      <td>0.001162</td>\n",
       "      <td>-0.341803</td>\n",
       "      <td>-0.086000</td>\n",
       "      <td>-0.390947</td>\n",
       "      <td>0.353699</td>\n",
       "      <td>2.470492</td>\n",
       "      <td>-0.970910</td>\n",
       "      <td>0.370601</td>\n",
       "      <td>1.229342</td>\n",
       "      <td>0.619450</td>\n",
       "    </tr>\n",
       "    <tr>\n",
       "      <th>2</th>\n",
       "      <td>1.415630</td>\n",
       "      <td>-0.666276</td>\n",
       "      <td>0.012028</td>\n",
       "      <td>-0.028398</td>\n",
       "      <td>-0.176458</td>\n",
       "      <td>-0.336946</td>\n",
       "      <td>0.050874</td>\n",
       "      <td>-0.047367</td>\n",
       "      <td>0.161117</td>\n",
       "      <td>0.009214</td>\n",
       "      <td>...</td>\n",
       "      <td>-0.013284</td>\n",
       "      <td>-0.080539</td>\n",
       "      <td>0.029774</td>\n",
       "      <td>0.017559</td>\n",
       "      <td>-0.007434</td>\n",
       "      <td>0.089605</td>\n",
       "      <td>0.323907</td>\n",
       "      <td>-0.208936</td>\n",
       "      <td>0.327632</td>\n",
       "      <td>-0.075673</td>\n",
       "    </tr>\n",
       "    <tr>\n",
       "      <th>3</th>\n",
       "      <td>-0.904705</td>\n",
       "      <td>-0.465462</td>\n",
       "      <td>-0.041510</td>\n",
       "      <td>0.310599</td>\n",
       "      <td>0.131188</td>\n",
       "      <td>-0.845985</td>\n",
       "      <td>0.027311</td>\n",
       "      <td>0.064317</td>\n",
       "      <td>0.051110</td>\n",
       "      <td>0.009947</td>\n",
       "      <td>...</td>\n",
       "      <td>0.013662</td>\n",
       "      <td>-0.103791</td>\n",
       "      <td>0.018487</td>\n",
       "      <td>-1.077262</td>\n",
       "      <td>0.095572</td>\n",
       "      <td>-1.068193</td>\n",
       "      <td>-0.187456</td>\n",
       "      <td>-0.311416</td>\n",
       "      <td>0.040898</td>\n",
       "      <td>-0.580725</td>\n",
       "    </tr>\n",
       "    <tr>\n",
       "      <th>4</th>\n",
       "      <td>-0.829569</td>\n",
       "      <td>-0.395406</td>\n",
       "      <td>-0.070325</td>\n",
       "      <td>0.588581</td>\n",
       "      <td>0.832244</td>\n",
       "      <td>-0.290600</td>\n",
       "      <td>-0.145860</td>\n",
       "      <td>0.193486</td>\n",
       "      <td>0.064853</td>\n",
       "      <td>-0.023984</td>\n",
       "      <td>...</td>\n",
       "      <td>-0.028782</td>\n",
       "      <td>-0.083731</td>\n",
       "      <td>0.048325</td>\n",
       "      <td>0.359113</td>\n",
       "      <td>-0.102098</td>\n",
       "      <td>-0.014897</td>\n",
       "      <td>0.542322</td>\n",
       "      <td>0.586904</td>\n",
       "      <td>0.417919</td>\n",
       "      <td>1.189537</td>\n",
       "    </tr>\n",
       "    <tr>\n",
       "      <th>...</th>\n",
       "      <td>...</td>\n",
       "      <td>...</td>\n",
       "      <td>...</td>\n",
       "      <td>...</td>\n",
       "      <td>...</td>\n",
       "      <td>...</td>\n",
       "      <td>...</td>\n",
       "      <td>...</td>\n",
       "      <td>...</td>\n",
       "      <td>...</td>\n",
       "      <td>...</td>\n",
       "      <td>...</td>\n",
       "      <td>...</td>\n",
       "      <td>...</td>\n",
       "      <td>...</td>\n",
       "      <td>...</td>\n",
       "      <td>...</td>\n",
       "      <td>...</td>\n",
       "      <td>...</td>\n",
       "      <td>...</td>\n",
       "      <td>...</td>\n",
       "    </tr>\n",
       "    <tr>\n",
       "      <th>125968</th>\n",
       "      <td>1.432927</td>\n",
       "      <td>-0.660116</td>\n",
       "      <td>0.000861</td>\n",
       "      <td>-0.084749</td>\n",
       "      <td>-0.018009</td>\n",
       "      <td>-0.098309</td>\n",
       "      <td>0.132684</td>\n",
       "      <td>-0.176189</td>\n",
       "      <td>0.182252</td>\n",
       "      <td>-0.003731</td>\n",
       "      <td>...</td>\n",
       "      <td>-0.018946</td>\n",
       "      <td>-0.062725</td>\n",
       "      <td>0.028225</td>\n",
       "      <td>-0.014553</td>\n",
       "      <td>-0.014393</td>\n",
       "      <td>-0.228299</td>\n",
       "      <td>0.052986</td>\n",
       "      <td>0.020982</td>\n",
       "      <td>0.233659</td>\n",
       "      <td>-0.010600</td>\n",
       "    </tr>\n",
       "    <tr>\n",
       "      <th>125969</th>\n",
       "      <td>-0.579312</td>\n",
       "      <td>-0.249285</td>\n",
       "      <td>-0.087692</td>\n",
       "      <td>0.143871</td>\n",
       "      <td>0.675707</td>\n",
       "      <td>0.262858</td>\n",
       "      <td>-0.190329</td>\n",
       "      <td>0.254527</td>\n",
       "      <td>0.112493</td>\n",
       "      <td>0.077055</td>\n",
       "      <td>...</td>\n",
       "      <td>-0.009618</td>\n",
       "      <td>-0.129349</td>\n",
       "      <td>0.007509</td>\n",
       "      <td>0.295708</td>\n",
       "      <td>0.013126</td>\n",
       "      <td>1.560214</td>\n",
       "      <td>1.871793</td>\n",
       "      <td>-0.068686</td>\n",
       "      <td>1.161842</td>\n",
       "      <td>-1.217924</td>\n",
       "    </tr>\n",
       "    <tr>\n",
       "      <th>125970</th>\n",
       "      <td>-0.158302</td>\n",
       "      <td>-0.281355</td>\n",
       "      <td>0.027748</td>\n",
       "      <td>0.556132</td>\n",
       "      <td>0.016131</td>\n",
       "      <td>-0.276331</td>\n",
       "      <td>-0.602391</td>\n",
       "      <td>0.657012</td>\n",
       "      <td>0.010436</td>\n",
       "      <td>0.078128</td>\n",
       "      <td>...</td>\n",
       "      <td>-0.026978</td>\n",
       "      <td>-0.180232</td>\n",
       "      <td>0.006479</td>\n",
       "      <td>0.230495</td>\n",
       "      <td>0.154844</td>\n",
       "      <td>1.554302</td>\n",
       "      <td>-0.749169</td>\n",
       "      <td>1.389903</td>\n",
       "      <td>-1.716422</td>\n",
       "      <td>0.592112</td>\n",
       "    </tr>\n",
       "    <tr>\n",
       "      <th>125971</th>\n",
       "      <td>1.437126</td>\n",
       "      <td>-0.668559</td>\n",
       "      <td>0.014501</td>\n",
       "      <td>-0.037322</td>\n",
       "      <td>-0.168116</td>\n",
       "      <td>-0.276399</td>\n",
       "      <td>0.092499</td>\n",
       "      <td>-0.121089</td>\n",
       "      <td>0.193097</td>\n",
       "      <td>0.007072</td>\n",
       "      <td>...</td>\n",
       "      <td>-0.019991</td>\n",
       "      <td>-0.087067</td>\n",
       "      <td>0.026621</td>\n",
       "      <td>0.024640</td>\n",
       "      <td>0.010868</td>\n",
       "      <td>0.134863</td>\n",
       "      <td>0.074791</td>\n",
       "      <td>-0.037038</td>\n",
       "      <td>0.033753</td>\n",
       "      <td>0.037857</td>\n",
       "    </tr>\n",
       "    <tr>\n",
       "      <th>125972</th>\n",
       "      <td>-0.476780</td>\n",
       "      <td>-0.179868</td>\n",
       "      <td>0.002340</td>\n",
       "      <td>0.331980</td>\n",
       "      <td>0.022217</td>\n",
       "      <td>0.004447</td>\n",
       "      <td>-0.614953</td>\n",
       "      <td>0.670347</td>\n",
       "      <td>0.043614</td>\n",
       "      <td>0.062162</td>\n",
       "      <td>...</td>\n",
       "      <td>-0.021179</td>\n",
       "      <td>-0.323146</td>\n",
       "      <td>0.020322</td>\n",
       "      <td>-0.056477</td>\n",
       "      <td>0.220094</td>\n",
       "      <td>1.837312</td>\n",
       "      <td>-0.714727</td>\n",
       "      <td>0.464170</td>\n",
       "      <td>-1.223565</td>\n",
       "      <td>1.543063</td>\n",
       "    </tr>\n",
       "  </tbody>\n",
       "</table>\n",
       "<p>125973 rows × 25 columns</p>\n",
       "</div>"
      ],
      "text/plain": [
       "        Variable 0  Variable 1  Variable 2  Variable 3  Variable 4  \\\n",
       "0        -0.271817   -0.031828   -0.007913   -0.057511   -0.242414   \n",
       "1         0.172646    0.493701    0.004511   -0.797855   -0.794043   \n",
       "2         1.415630   -0.666276    0.012028   -0.028398   -0.176458   \n",
       "3        -0.904705   -0.465462   -0.041510    0.310599    0.131188   \n",
       "4        -0.829569   -0.395406   -0.070325    0.588581    0.832244   \n",
       "...            ...         ...         ...         ...         ...   \n",
       "125968    1.432927   -0.660116    0.000861   -0.084749   -0.018009   \n",
       "125969   -0.579312   -0.249285   -0.087692    0.143871    0.675707   \n",
       "125970   -0.158302   -0.281355    0.027748    0.556132    0.016131   \n",
       "125971    1.437126   -0.668559    0.014501   -0.037322   -0.168116   \n",
       "125972   -0.476780   -0.179868    0.002340    0.331980    0.022217   \n",
       "\n",
       "        Variable 5  Variable 6  Variable 7  Variable 8  Variable 9  ...  \\\n",
       "0         0.177059   -0.356125    0.408246    0.040124    0.127203  ...   \n",
       "1         1.396155   -1.419620    1.811961   -0.912517    0.028640  ...   \n",
       "2        -0.336946    0.050874   -0.047367    0.161117    0.009214  ...   \n",
       "3        -0.845985    0.027311    0.064317    0.051110    0.009947  ...   \n",
       "4        -0.290600   -0.145860    0.193486    0.064853   -0.023984  ...   \n",
       "...            ...         ...         ...         ...         ...  ...   \n",
       "125968   -0.098309    0.132684   -0.176189    0.182252   -0.003731  ...   \n",
       "125969    0.262858   -0.190329    0.254527    0.112493    0.077055  ...   \n",
       "125970   -0.276331   -0.602391    0.657012    0.010436    0.078128  ...   \n",
       "125971   -0.276399    0.092499   -0.121089    0.193097    0.007072  ...   \n",
       "125972    0.004447   -0.614953    0.670347    0.043614    0.062162  ...   \n",
       "\n",
       "        Variable 15  Variable 16  Variable 17  Variable 18  Variable 19  \\\n",
       "0          0.017673    -0.207699    -0.037677    -0.320516     0.282797   \n",
       "1          0.001162    -0.341803    -0.086000    -0.390947     0.353699   \n",
       "2         -0.013284    -0.080539     0.029774     0.017559    -0.007434   \n",
       "3          0.013662    -0.103791     0.018487    -1.077262     0.095572   \n",
       "4         -0.028782    -0.083731     0.048325     0.359113    -0.102098   \n",
       "...             ...          ...          ...          ...          ...   \n",
       "125968    -0.018946    -0.062725     0.028225    -0.014553    -0.014393   \n",
       "125969    -0.009618    -0.129349     0.007509     0.295708     0.013126   \n",
       "125970    -0.026978    -0.180232     0.006479     0.230495     0.154844   \n",
       "125971    -0.019991    -0.087067     0.026621     0.024640     0.010868   \n",
       "125972    -0.021179    -0.323146     0.020322    -0.056477     0.220094   \n",
       "\n",
       "        Variable 20  Variable 21  Variable 22  Variable 23  Variable 24  \n",
       "0          2.121937    -0.554458    -0.128769    -1.473139    -1.178282  \n",
       "1          2.470492    -0.970910     0.370601     1.229342     0.619450  \n",
       "2          0.089605     0.323907    -0.208936     0.327632    -0.075673  \n",
       "3         -1.068193    -0.187456    -0.311416     0.040898    -0.580725  \n",
       "4         -0.014897     0.542322     0.586904     0.417919     1.189537  \n",
       "...             ...          ...          ...          ...          ...  \n",
       "125968    -0.228299     0.052986     0.020982     0.233659    -0.010600  \n",
       "125969     1.560214     1.871793    -0.068686     1.161842    -1.217924  \n",
       "125970     1.554302    -0.749169     1.389903    -1.716422     0.592112  \n",
       "125971     0.134863     0.074791    -0.037038     0.033753     0.037857  \n",
       "125972     1.837312    -0.714727     0.464170    -1.223565     1.543063  \n",
       "\n",
       "[125973 rows x 25 columns]"
      ]
     },
     "execution_count": 16,
     "metadata": {},
     "output_type": "execute_result"
    }
   ],
   "source": [
    "data_pca"
   ]
  },
  {
   "cell_type": "code",
   "execution_count": 17,
   "id": "b9c3425f",
   "metadata": {},
   "outputs": [],
   "source": [
    "data_array = np.array(data_pca)"
   ]
  },
  {
   "cell_type": "markdown",
   "id": "30b4e7b8",
   "metadata": {},
   "source": [
    "# Mahalanobis With PCA"
   ]
  },
  {
   "cell_type": "code",
   "execution_count": 18,
   "id": "3ff85c1f",
   "metadata": {},
   "outputs": [
    {
     "name": "stderr",
     "output_type": "stream",
     "text": [
      "C:\\WINDOWS\\system32\\myenv\\lib\\site-packages\\numpy\\core\\fromnumeric.py:3430: FutureWarning: In a future version, DataFrame.mean(axis=None) will return a scalar mean over the entire DataFrame. To retain the old behavior, use 'frame.mean(axis=0)' or just 'frame.mean()'\n",
      "  return mean(axis=axis, dtype=dtype, out=out, **kwargs)\n"
     ]
    },
    {
     "data": {
      "text/plain": [
       "(duration,)           2.549477e-17\n",
       "(src_bytes,)         -4.512349e-19\n",
       "(dst_bytes,)          7.614590e-19\n",
       "(land,)              -4.794371e-18\n",
       "(wrong_fragment,)     4.230328e-19\n",
       "                          ...     \n",
       "service_vmnet         4.897875e-03\n",
       "service_whois         5.501179e-03\n",
       "protocol_type_icmp    6.581569e-02\n",
       "protocol_type_tcp     8.151667e-01\n",
       "protocol_type_udp     1.190176e-01\n",
       "Length: 122, dtype: float64"
      ]
     },
     "execution_count": 18,
     "metadata": {},
     "output_type": "execute_result"
    },
    {
     "name": "stdout",
     "output_type": "stream",
     "text": [
      "8003\n"
     ]
    }
   ],
   "source": [
    "#Use new PCA data for Mahalanobis Distance\n",
    "import scipy as sp\n",
    "mu_vec = np.mean(data_array,axis = 0)\n",
    "inv_cormat = sp.linalg.pinv(np.cov(data_array, rowvar=False))\n",
    "\n",
    "# For loop to get the distance for all the variables\n",
    "mahal_dist = []\n",
    "\n",
    "for i in range(data_array.shape[0]):\n",
    "    x_minus_mu = data_array[i,:] - mu_vec\n",
    "    left_term = np.dot(x_minus_mu, inv_cormat)\n",
    "    mahal = np.dot(left_term, x_minus_mu.T)\n",
    "    mahal = np.sqrt(mahal)\n",
    "    mahal_dist.append(mahal)\n",
    "\n",
    "np.mean(one_hot_data_maha)\n",
    "\n",
    "from scipy.stats import chi2\n",
    "one_hot_data_maha['p-value'] = 1 - chi2.cdf(mahal_dist, df = 1) #pdf(x, degreeOfFreedom = Number of Variables)\n",
    "\n",
    "#Calculate number of p-value less than 0.01\n",
    "print(np.count_nonzero(one_hot_data_maha['p-value'] < 0.01))"
   ]
  },
  {
   "cell_type": "code",
   "execution_count": 19,
   "id": "03f59836",
   "metadata": {},
   "outputs": [
    {
     "name": "stdout",
     "output_type": "stream",
     "text": [
      "Training accuracy: 0.5601\n",
      "[[64950  2393]\n",
      " [53020  5610]]\n"
     ]
    }
   ],
   "source": [
    "pvalue = one_hot_data_maha['p-value']\n",
    "bi_pvalue = pvalue\n",
    "\n",
    "bi_pvalue = np.where(pvalue < 0.01, 1, bi_pvalue)\n",
    "bi_pvalue = np.where(pvalue >= 0.01, 0, bi_pvalue)\n",
    "\n",
    "from sklearn.metrics import accuracy_score\n",
    "\n",
    "train_acc_maha = accuracy_score(kdd_train_y['class_binary'], bi_pvalue)\n",
    "print(\"Training accuracy: {:.4f}\".format(train_acc_maha))\n",
    "cm_maha = confusion_matrix (kdd_train_y[\"class_binary\"], bi_pvalue)\n",
    "print(cm_maha)"
   ]
  },
  {
   "cell_type": "code",
   "execution_count": 20,
   "id": "27362451",
   "metadata": {},
   "outputs": [
    {
     "data": {
      "text/plain": [
       "1"
      ]
     },
     "execution_count": 20,
     "metadata": {},
     "output_type": "execute_result"
    }
   ],
   "source": [
    "kdd_train_y.at[5,'class_binary']"
   ]
  },
  {
   "cell_type": "code",
   "execution_count": 21,
   "id": "f975945d",
   "metadata": {},
   "outputs": [
    {
     "data": {
      "text/plain": [
       "Text(0.5, 1.0, 'Seaborn Confusion Matrix with labels\\n\\n')"
      ]
     },
     "execution_count": 21,
     "metadata": {},
     "output_type": "execute_result"
    },
    {
     "data": {
      "text/plain": [
       "Text(0.5, 15.0, 'Actual Values')"
      ]
     },
     "execution_count": 21,
     "metadata": {},
     "output_type": "execute_result"
    },
    {
     "data": {
      "text/plain": [
       "Text(33.0, 0.5, 'Predicted Values ')"
      ]
     },
     "execution_count": 21,
     "metadata": {},
     "output_type": "execute_result"
    },
    {
     "data": {
      "text/plain": [
       "[Text(0.5, 0, 'True'), Text(1.5, 0, 'False')]"
      ]
     },
     "execution_count": 21,
     "metadata": {},
     "output_type": "execute_result"
    },
    {
     "data": {
      "text/plain": [
       "[Text(0, 0.5, 'True'), Text(0, 1.5, 'False')]"
      ]
     },
     "execution_count": 21,
     "metadata": {},
     "output_type": "execute_result"
    },
    {
     "data": {
      "image/png": "[encoded data removed]",
      "text/plain": [
       "<Figure size 432x288 with 2 Axes>"
      ]
     },
     "metadata": {
      "needs_background": "light"
     },
     "output_type": "display_data"
    },
    {
     "name": "stdout",
     "output_type": "stream",
     "text": [
      "Precision =  0.9644654975275827\n",
      "Recall =  0.5505637026362634\n"
     ]
    }
   ],
   "source": [
    "ax = sns.heatmap(cm_maha, annot=True, cmap='Blues')\n",
    "\n",
    "ax.set_title('Seaborn Confusion Matrix with labels\\n\\n');\n",
    "ax.set_xlabel('Actual Values')\n",
    "ax.set_ylabel('Predicted Values ');\n",
    "\n",
    "## Ticket labels - List must be in alphabetical order\n",
    "ax.xaxis.set_ticklabels(['True','False'])\n",
    "ax.yaxis.set_ticklabels(['True','False'])\n",
    "\n",
    "## Display the visualization of the Confusion Matrix.\n",
    "plt.show()\n",
    "\n",
    "\n",
    "## FP,FN,TP,TN\n",
    "TP_maha = cm_maha[0][0]\n",
    "FN_maha = cm_maha[1][0]\n",
    "FP_maha = cm_maha[0][1]\n",
    "TN_maha = cm_maha[1][1]\n",
    "\n",
    "##Precision and Recall\n",
    "Precision_maha = TP_maha/(TP_maha+FP_maha)\n",
    "Recall_maha = TP_maha/(TP_maha+FN_maha)\n",
    "\n",
    "print (\"Precision = \",Precision_maha)\n",
    "print (\"Recall = \",Recall_maha)\n"
   ]
  },
  {
   "cell_type": "markdown",
   "id": "16002b73",
   "metadata": {},
   "source": [
    "# MCD"
   ]
  },
  {
   "cell_type": "code",
   "execution_count": 22,
   "id": "54e2dff5",
   "metadata": {},
   "outputs": [],
   "source": [
    "from sklearn.covariance import MinCovDet\n",
    "from sklearn.datasets import make_gaussian_quantiles\n",
    "\n",
    "rng = np.random.RandomState(42)"
   ]
  },
  {
   "cell_type": "code",
   "execution_count": 23,
   "id": "d8e08f30",
   "metadata": {},
   "outputs": [
    {
     "name": "stderr",
     "output_type": "stream",
     "text": [
      "C:\\WINDOWS\\system32\\myenv\\lib\\site-packages\\sklearn\\covariance\\_robust_covariance.py:183: RuntimeWarning: Determinant has increased; this should not happen: log(det) > log(previous_det) (-332.759692084672906 > -332.763933188341127). You may want to try with a higher value of support_fraction (current value: 0.500).\n",
      "  warnings.warn(\n"
     ]
    }
   ],
   "source": [
    "mcd_model = MinCovDet(random_state=42).fit(data_pca)"
   ]
  },
  {
   "cell_type": "code",
   "execution_count": 24,
   "id": "ae4a3489",
   "metadata": {},
   "outputs": [
    {
     "data": {
      "text/plain": [
       "array([-5.67498440e-17,  2.95843110e-17,  4.03752644e-17,  3.35103193e-16,\n",
       "       -1.64534459e-16,  2.33059045e-16, -2.27692092e-16,  4.59230257e-16,\n",
       "       -7.73590854e-17,  1.92287721e-16,  2.23520978e-16, -6.81321627e-16,\n",
       "       -1.33083666e-15,  3.34444477e-16, -8.82611683e-16,  7.50206920e-16,\n",
       "       -4.92388093e-17,  1.80799077e-16,  1.33453284e-16,  2.24509211e-17,\n",
       "       -7.84107074e-16,  8.91884363e-16,  3.62221796e-18, -2.42578791e-15,\n",
       "       -6.21133706e-16])"
      ]
     },
     "execution_count": 24,
     "metadata": {},
     "output_type": "execute_result"
    }
   ],
   "source": [
    "np.mean(data_array,axis = 0)"
   ]
  },
  {
   "cell_type": "code",
   "execution_count": 25,
   "id": "0e90c138",
   "metadata": {},
   "outputs": [
    {
     "data": {
      "text/plain": [
       "array([[ 1.00000000e+00, -2.33080447e-15, -3.89567548e-17,\n",
       "         1.34918990e-16, -2.08932050e-17, -9.08365180e-17,\n",
       "         6.59144514e-18, -2.27614170e-17,  7.31749185e-18,\n",
       "         1.03928504e-17,  8.28685546e-18,  2.52503779e-18,\n",
       "        -2.10319060e-18,  8.13749451e-18,  7.38074883e-18,\n",
       "        -8.39523380e-18,  5.02163473e-18, -4.83475955e-18,\n",
       "         5.64467110e-18, -2.95217035e-18, -3.32002302e-17,\n",
       "         1.17597215e-17, -3.06320181e-18,  5.01140004e-18,\n",
       "         1.17093835e-17],\n",
       "       [-2.33744831e-15,  1.00000000e+00, -2.16647543e-17,\n",
       "         3.92026951e-17, -2.30558038e-17,  1.95903508e-16,\n",
       "        -3.02788529e-17,  3.08856862e-17,  1.91123452e-18,\n",
       "         2.48281049e-17,  2.01095989e-17, -2.26204979e-17,\n",
       "         3.90030980e-17,  3.74651038e-17,  6.65011184e-17,\n",
       "        -3.32988266e-18,  4.91041039e-18, -1.37709255e-17,\n",
       "         2.17143078e-17, -6.33124707e-17,  2.76919225e-17,\n",
       "        -5.35465532e-18, -3.25435255e-17,  3.38072639e-17,\n",
       "         8.45677695e-18],\n",
       "       [-3.68495604e-17,  7.11550591e-17,  1.00000000e+00,\n",
       "         1.48817997e-15,  1.60929384e-17, -4.96111783e-17,\n",
       "         3.19051852e-16, -1.19570405e-15,  7.49702622e-16,\n",
       "         1.55494894e-15, -5.97242920e-16, -2.88131334e-16,\n",
       "         2.40027707e-16,  7.96297924e-16,  5.28922258e-16,\n",
       "        -6.62340999e-16,  5.67562686e-16, -2.84733751e-16,\n",
       "         1.10639137e-15,  3.61327570e-16, -5.60591499e-17,\n",
       "        -5.97127372e-17, -4.44125377e-17,  1.32635532e-16,\n",
       "        -4.02455846e-16],\n",
       "       [ 1.39865273e-16,  2.67422449e-16, -8.72342649e-16,\n",
       "         1.00000000e+00, -3.28564652e-16,  7.42821254e-16,\n",
       "        -3.97447548e-17,  8.38347898e-17,  3.69064723e-16,\n",
       "         3.68958528e-16, -5.17531768e-16, -1.80811285e-16,\n",
       "         1.80477299e-16,  4.26385625e-16,  1.04104357e-15,\n",
       "        -6.19568351e-16,  5.13098460e-16, -2.96791081e-16,\n",
       "         4.80612985e-16, -1.15539506e-15, -7.81586082e-16,\n",
       "         2.32077546e-16, -9.54772611e-16,  2.96676356e-16,\n",
       "        -3.67761377e-16],\n",
       "       [-2.02335510e-17, -2.96637164e-17,  4.92619648e-17,\n",
       "        -4.26621119e-16,  1.00000000e+00,  1.54741686e-16,\n",
       "        -1.21013782e-17,  1.83031550e-16, -3.70530707e-16,\n",
       "        -7.18590198e-16, -7.86239688e-16,  3.04699499e-16,\n",
       "        -2.56091316e-16, -7.32646468e-16,  5.94698221e-16,\n",
       "         9.51668674e-18,  1.70179187e-16,  3.32876888e-16,\n",
       "        -3.16770511e-16,  6.54745624e-16, -6.46589417e-17,\n",
       "        -2.40354444e-16, -1.58389308e-16, -1.20288980e-17,\n",
       "         2.77555756e-17],\n",
       "       [-8.89208703e-17, -3.00662147e-17, -1.25304349e-15,\n",
       "         5.91478000e-16, -1.11055656e-17,  1.00000000e+00,\n",
       "         1.48438366e-16, -9.44355489e-17, -1.52154339e-16,\n",
       "        -4.65999855e-16, -4.08417693e-16,  2.39727711e-16,\n",
       "         1.27083765e-16, -8.76816943e-17,  2.16927007e-16,\n",
       "        -2.19600034e-16,  2.30923815e-16,  4.44088176e-16,\n",
       "         7.16099085e-16, -2.37508444e-16, -9.39794518e-16,\n",
       "         7.93591433e-16, -9.68313426e-16, -5.03233411e-17,\n",
       "         7.97972799e-17],\n",
       "       [ 6.61098351e-18,  2.65629942e-17, -1.50920805e-16,\n",
       "         3.95227931e-16,  3.37512129e-16,  2.81337220e-16,\n",
       "         1.00000000e+00,  1.83191704e-16, -3.39261073e-16,\n",
       "         8.42494088e-16,  1.18690104e-16,  8.70973140e-17,\n",
       "         2.80324771e-16, -1.12923749e-15, -5.12328582e-16,\n",
       "        -4.34211354e-16, -5.10592077e-17,  3.20791435e-16,\n",
       "         3.13820506e-16, -6.54086242e-18,  7.81634809e-16,\n",
       "         1.08268160e-15, -1.89441413e-16, -4.72522608e-18,\n",
       "         0.00000000e+00],\n",
       "       [-2.23511197e-17, -3.80287180e-17,  8.98223894e-16,\n",
       "        -4.50844721e-16, -5.02640888e-16, -4.15803547e-16,\n",
       "        -2.81579621e-16,  1.00000000e+00,  4.29803002e-16,\n",
       "        -3.19137730e-16, -9.29998618e-17, -4.15478633e-16,\n",
       "        -6.16255284e-16,  4.45030106e-16,  4.91129866e-16,\n",
       "        -1.03067682e-16,  3.28397482e-16, -1.52529806e-18,\n",
       "        -4.85437511e-16, -5.29408838e-17, -8.12214443e-16,\n",
       "         6.74965306e-17,  5.38438269e-17, -5.93792507e-16,\n",
       "        -6.17561557e-16],\n",
       "       [ 6.97885907e-18, -2.83678734e-17, -3.38114289e-16,\n",
       "        -4.92497128e-16,  4.48501609e-16,  5.70215019e-16,\n",
       "         2.79420889e-16, -5.14077541e-17,  1.00000000e+00,\n",
       "        -4.76909190e-16, -4.64161517e-16, -3.53587915e-17,\n",
       "        -1.32664022e-16,  4.76737676e-16,  2.32542766e-16,\n",
       "        -7.90633651e-16, -1.07136909e-16, -1.07759816e-16,\n",
       "        -3.98112443e-16,  7.68411017e-16, -3.85847493e-16,\n",
       "        -3.13480872e-16, -2.71172916e-16, -7.64460490e-16,\n",
       "        -1.24900090e-16],\n",
       "       [ 1.03676465e-17,  6.46434516e-17, -1.50252980e-15,\n",
       "         7.14462700e-16,  3.38607765e-16,  4.22161110e-16,\n",
       "        -6.31157987e-16, -8.07709187e-16, -3.41018664e-16,\n",
       "         1.00000000e+00,  9.26546995e-16,  5.04787473e-17,\n",
       "        -8.85606866e-17, -5.24288981e-16, -1.58843412e-16,\n",
       "        -2.84389437e-16, -2.71824298e-16,  4.64505274e-17,\n",
       "         2.35633069e-17,  7.34727176e-16,  2.21314355e-16,\n",
       "        -4.60831464e-16,  4.06348432e-16, -3.50747157e-16,\n",
       "         2.16840434e-16],\n",
       "       [ 7.94013164e-18, -6.52017466e-18,  3.62741123e-16,\n",
       "         2.65044991e-16,  6.57967002e-17, -1.97518072e-16,\n",
       "        -1.37228456e-16,  5.25276157e-16,  4.53023411e-16,\n",
       "        -5.29791255e-16,  1.00000000e+00,  1.32761530e-16,\n",
       "         2.75431201e-16, -6.24525124e-16,  1.94290266e-16,\n",
       "         8.00763710e-18, -4.79080809e-16,  2.94856693e-16,\n",
       "        -2.10340291e-16,  9.53022622e-18,  7.71941185e-16,\n",
       "        -3.87265708e-16, -3.39913342e-16, -2.59793456e-16,\n",
       "        -8.32667268e-16],\n",
       "       [ 2.53763515e-18, -1.64252087e-17,  1.97340837e-16,\n",
       "        -4.22681532e-16, -3.08330151e-16, -1.01197980e-16,\n",
       "        -7.11991750e-16,  2.90347281e-16,  1.05347356e-16,\n",
       "         1.78984462e-16, -1.71557988e-16,  1.00000000e+00,\n",
       "         3.66024224e-16, -2.05004687e-16,  2.68027403e-16,\n",
       "        -5.38111050e-16,  1.04317906e-15,  7.11063717e-16,\n",
       "        -2.67199491e-17,  5.76982957e-16,  1.98459070e-16,\n",
       "         1.15905163e-16, -1.75885741e-16,  2.41834251e-17,\n",
       "         2.22044605e-16],\n",
       "       [-2.06379409e-18, -3.19262735e-17, -4.98684981e-16,\n",
       "        -4.62089911e-16,  1.14657253e-16, -1.74655363e-16,\n",
       "         8.29408898e-17, -6.22699630e-17, -2.36224965e-16,\n",
       "        -3.36186848e-16, -2.05964032e-17,  3.99170108e-16,\n",
       "         1.00000000e+00,  6.03695122e-16, -4.66353877e-16,\n",
       "        -1.30702616e-16, -5.07210958e-16, -6.50459022e-17,\n",
       "         7.13840918e-16, -2.19833573e-16, -2.72979536e-16,\n",
       "        -1.76231827e-16, -4.03858153e-16,  8.91182404e-16,\n",
       "         4.16333634e-17],\n",
       "       [ 7.70658298e-18, -3.35599464e-17, -1.15767664e-15,\n",
       "        -9.51336786e-16,  7.04668213e-17,  1.86116612e-16,\n",
       "         8.57860560e-16, -9.86241873e-16, -1.97642513e-16,\n",
       "         8.81308886e-18,  1.46137160e-16, -3.91042432e-16,\n",
       "         9.95652770e-16,  1.00000000e+00, -4.50279128e-16,\n",
       "         8.73475140e-17, -1.57611245e-16, -3.44299672e-16,\n",
       "         1.87551054e-16,  6.76907097e-16, -7.68129567e-16,\n",
       "        -9.39201303e-17, -4.89785217e-16,  4.33912220e-16,\n",
       "         5.27355937e-16],\n",
       "       [ 7.48181530e-18, -2.98893310e-17, -5.97997722e-16,\n",
       "        -7.85007178e-16,  9.60146258e-16, -2.86786607e-16,\n",
       "         1.02896609e-16, -4.57300398e-16, -3.01408881e-16,\n",
       "         5.75386363e-16,  1.42375908e-16, -1.67134443e-16,\n",
       "         5.13818538e-16,  7.95658210e-16,  1.00000000e+00,\n",
       "        -4.23436802e-16,  5.81694056e-16,  2.73883900e-16,\n",
       "        -5.10078423e-16, -4.24878432e-16, -4.37732579e-16,\n",
       "         6.30056914e-16,  3.36653839e-16, -3.29548296e-16,\n",
       "         1.63064007e-16],\n",
       "       [-8.30660442e-18, -2.82855955e-18,  6.82114268e-16,\n",
       "         3.06447937e-16,  3.31247414e-17, -5.23502020e-16,\n",
       "         1.94143883e-16, -3.99061445e-16, -8.55105239e-17,\n",
       "        -3.53099080e-16,  4.68229063e-16,  6.16348604e-16,\n",
       "         3.36653670e-16, -4.23076680e-16,  7.02229552e-16,\n",
       "         1.00000000e+00,  7.84023089e-17, -4.11708538e-16,\n",
       "         3.63178028e-16, -3.07047007e-16,  1.07555049e-15,\n",
       "        -4.30994808e-17, -1.94194573e-16, -6.94488495e-17,\n",
       "         1.66533454e-16],\n",
       "       [ 4.93924960e-18, -3.81935938e-18, -3.69449670e-16,\n",
       "        -4.33167552e-16,  5.00914885e-16, -1.35457034e-16,\n",
       "        -1.61313678e-16, -3.50716873e-16, -2.46850162e-16,\n",
       "         1.02117320e-15,  8.68341423e-17, -2.19208469e-16,\n",
       "         6.83546724e-16,  7.19756717e-16,  4.52575664e-16,\n",
       "        -1.28743139e-16,  1.00000000e+00,  3.77073233e-16,\n",
       "        -2.79336689e-16,  4.49854794e-16, -1.05170120e-16,\n",
       "         9.11570261e-17, -6.61176557e-17, -3.20650878e-16,\n",
       "        -3.60822483e-16],\n",
       "       [-4.83035675e-18, -2.44397311e-17,  5.00345777e-16,\n",
       "        -3.51240603e-16, -1.74170833e-16, -2.78942981e-16,\n",
       "        -5.02336642e-16, -4.57616403e-16, -8.40122254e-18,\n",
       "        -1.50337387e-16, -5.61717859e-16, -3.19488635e-16,\n",
       "         3.63981636e-17,  8.29543452e-16, -2.80008769e-16,\n",
       "        -2.63076932e-17,  2.46481531e-16,  1.00000000e+00,\n",
       "        -1.23513879e-16, -1.08045530e-16, -1.26336489e-16,\n",
       "         1.18176675e-17, -6.69750675e-16,  2.53112535e-17,\n",
       "        -9.71445147e-17],\n",
       "       [ 5.75437700e-18, -5.75568022e-17, -1.31420360e-15,\n",
       "        -1.18479961e-15,  2.11444667e-16, -2.08225220e-16,\n",
       "        -6.72909802e-16,  2.64491791e-16,  5.66533742e-16,\n",
       "        -3.42861588e-16,  2.66221016e-16,  6.99292950e-16,\n",
       "         3.23730679e-16,  5.90346515e-16,  6.13306508e-16,\n",
       "        -6.14508459e-17, -8.03014848e-17,  1.88327367e-16,\n",
       "         1.00000000e+00, -2.73408388e-16, -7.18276773e-17,\n",
       "         3.04628367e-16, -5.07749513e-16,  1.06489676e-15,\n",
       "         5.96744876e-16],\n",
       "       [-2.99477812e-18, -6.97252547e-18,  5.53809621e-16,\n",
       "         2.75537070e-16,  8.79054578e-16,  1.59298422e-16,\n",
       "        -3.11626011e-16,  3.35285081e-16, -3.41352435e-16,\n",
       "        -2.23887038e-16,  4.74030598e-16, -3.45080597e-16,\n",
       "         1.33957721e-16, -6.11374721e-17, -1.05102499e-16,\n",
       "         4.36045636e-16,  4.03507265e-16, -1.30047842e-16,\n",
       "        -1.88486182e-16,  1.00000000e+00, -3.16244535e-16,\n",
       "         1.99031180e-16, -2.34610924e-16,  1.10507766e-16,\n",
       "         8.32667268e-17],\n",
       "       [-3.36293876e-17, -2.17963418e-17, -4.37417903e-17,\n",
       "         4.82988487e-16,  2.45276962e-16, -3.45713206e-16,\n",
       "        -4.99620096e-16,  6.40596252e-16,  6.32580867e-16,\n",
       "         4.44530118e-16, -9.32096361e-17,  2.99429985e-16,\n",
       "         2.78882214e-16, -5.80547172e-16, -7.00006209e-16,\n",
       "        -5.70598345e-16,  2.10911525e-16, -5.81322247e-16,\n",
       "        -1.63597465e-17,  2.04743278e-16,  1.00000000e+00,\n",
       "        -6.22853788e-16,  7.50799745e-16,  1.05795659e-16,\n",
       "        -1.52655666e-16],\n",
       "       [ 1.14869542e-17, -3.09770104e-17, -1.47025879e-16,\n",
       "        -6.80512950e-16, -3.13177120e-16, -1.05025825e-16,\n",
       "        -4.24037730e-16, -1.30508115e-16,  6.42044351e-17,\n",
       "         1.72432396e-16,  2.63966840e-16, -1.73871907e-16,\n",
       "         7.37655023e-16, -8.08683291e-16, -2.60411874e-16,\n",
       "        -8.89915633e-17,  7.23780502e-16,  1.35424372e-16,\n",
       "         5.75861757e-16,  3.40078105e-16,  7.73886841e-16,\n",
       "         1.00000000e+00, -7.09072104e-16, -6.38690392e-16,\n",
       "        -3.74700271e-16],\n",
       "       [-2.93226587e-18,  4.59974724e-17,  3.77169099e-16,\n",
       "         1.23421448e-15,  4.10723556e-16,  3.62289817e-16,\n",
       "         2.93227337e-16,  1.71420738e-16, -1.74410497e-16,\n",
       "        -7.52073712e-16,  2.64890348e-16,  4.01218959e-16,\n",
       "         3.96321834e-16,  7.05686448e-17, -8.11674593e-16,\n",
       "         1.90027656e-16, -1.73132895e-16,  7.24487374e-16,\n",
       "         2.66865250e-16, -9.00211902e-18, -5.27565261e-16,\n",
       "         5.35500350e-16,  1.00000000e+00, -3.41038150e-16,\n",
       "        -4.99600361e-16],\n",
       "       [ 4.96915613e-18, -7.06360414e-17, -4.78332826e-16,\n",
       "        -1.02746668e-15,  6.08939079e-17, -7.34748993e-17,\n",
       "        -8.17872823e-17,  7.79865346e-16,  9.24473740e-16,\n",
       "         4.39212506e-16,  3.48819718e-16,  7.12682590e-17,\n",
       "        -6.80118758e-16,  1.78051837e-17,  3.23453592e-16,\n",
       "        -4.53470745e-16, -1.12656234e-16, -7.47137960e-16,\n",
       "        -3.46199328e-16, -1.96195402e-16,  6.67105866e-16,\n",
       "         4.42520407e-16, -2.98478018e-16,  1.00000000e+00,\n",
       "        -1.52655666e-16],\n",
       "       [ 1.11871576e-17, -4.88015503e-17,  1.03045059e-16,\n",
       "        -4.37453885e-16,  3.90354095e-16, -1.66890948e-16,\n",
       "        -4.08711232e-16,  3.68467767e-16,  5.97024357e-16,\n",
       "        -9.16033491e-17,  3.87968861e-16, -7.14221657e-18,\n",
       "        -1.64666746e-16, -9.26007891e-16, -1.83637587e-16,\n",
       "         1.77871701e-16,  2.86875850e-16,  4.90491261e-16,\n",
       "        -1.38251543e-16, -3.42378634e-16,  7.70236442e-16,\n",
       "         1.22518409e-16,  9.38306363e-17,  9.15226672e-17,\n",
       "         1.00000000e+00]])"
      ]
     },
     "execution_count": 25,
     "metadata": {},
     "output_type": "execute_result"
    }
   ],
   "source": [
    "sp.linalg.pinv(np.cov(data_array, rowvar=False))"
   ]
  },
  {
   "cell_type": "code",
   "execution_count": 26,
   "id": "edc736d6",
   "metadata": {},
   "outputs": [],
   "source": [
    "inv_cormat = sp.linalg.pinv(mcd_model.covariance_)"
   ]
  },
  {
   "cell_type": "code",
   "execution_count": 27,
   "id": "ff97f86d",
   "metadata": {},
   "outputs": [],
   "source": [
    "import scipy as sp\n",
    "inv_cormat = sp.linalg.pinv(mcd_model.covariance_)\n",
    "mu_vect = mcd_model.location_"
   ]
  },
  {
   "cell_type": "code",
   "execution_count": 28,
   "id": "217999d9",
   "metadata": {},
   "outputs": [],
   "source": [
    "mahal_dist = []\n",
    "for i in range(data_array.shape[0]):\n",
    "    x_minus_mu = data_array[i,:] - mu_vect\n",
    "    left_term = np.dot(x_minus_mu, inv_cormat)\n",
    "    mahal = np.dot(left_term, x_minus_mu.T)\n",
    "    mahal = np.sqrt(mahal)\n",
    "    mahal_dist.append(mahal)"
   ]
  },
  {
   "cell_type": "code",
   "execution_count": 29,
   "id": "46dd1b16",
   "metadata": {},
   "outputs": [
    {
     "name": "stderr",
     "output_type": "stream",
     "text": [
      "C:\\WINDOWS\\system32\\myenv\\lib\\site-packages\\numpy\\core\\fromnumeric.py:3430: FutureWarning: In a future version, DataFrame.mean(axis=None) will return a scalar mean over the entire DataFrame. To retain the old behavior, use 'frame.mean(axis=0)' or just 'frame.mean()'\n",
      "  return mean(axis=axis, dtype=dtype, out=out, **kwargs)\n"
     ]
    },
    {
     "data": {
      "text/plain": [
       "(duration,)           2.549477e-17\n",
       "(src_bytes,)         -4.512349e-19\n",
       "(dst_bytes,)          7.614590e-19\n",
       "(land,)              -4.794371e-18\n",
       "(wrong_fragment,)     4.230328e-19\n",
       "                          ...     \n",
       "service_whois         5.501179e-03\n",
       "protocol_type_icmp    6.581569e-02\n",
       "protocol_type_tcp     8.151667e-01\n",
       "protocol_type_udp     1.190176e-01\n",
       "p-value               1.119805e-01\n",
       "Length: 123, dtype: float64"
      ]
     },
     "execution_count": 29,
     "metadata": {},
     "output_type": "execute_result"
    },
    {
     "name": "stdout",
     "output_type": "stream",
     "text": [
      "56864\n"
     ]
    }
   ],
   "source": [
    "np.mean(one_hot_data_maha)\n",
    "\n",
    "from scipy.stats import chi2\n",
    "one_hot_data_maha['p-value_mcd'] = 1 - chi2.cdf(mahal_dist, df = 121) #pdf(x, degreeOfFreedom = Number of Variables)\n",
    "\n",
    "#Calculate number of p-value less than 0.01\n",
    "print(np.count_nonzero(one_hot_data_maha['p-value_mcd'] < 0.01))"
   ]
  },
  {
   "cell_type": "code",
   "execution_count": 30,
   "id": "63fa0565",
   "metadata": {},
   "outputs": [],
   "source": [
    "pvalue_mcd = one_hot_data_maha['p-value_mcd']\n",
    "bi_pvalue_mcd = pvalue_mcd\n",
    "\n",
    "bi_pvalue_mcd = np.where(pvalue_mcd < 0.01, 1, bi_pvalue_mcd)\n",
    "bi_pvalue_mcd = np.where(pvalue_mcd >= 0.01, 0, bi_pvalue_mcd)\n",
    "\n"
   ]
  },
  {
   "cell_type": "code",
   "execution_count": 31,
   "id": "7fb4e477",
   "metadata": {},
   "outputs": [
    {
     "name": "stdout",
     "output_type": "stream",
     "text": [
      "Training accuracy: 0.5601\n",
      "[[35629 31714]\n",
      " [33480 25150]]\n"
     ]
    }
   ],
   "source": [
    "from sklearn.metrics import accuracy_score\n",
    "\n",
    "train_acc_maha_mcd = accuracy_score(kdd_train_y['class_binary'], bi_pvalue_mcd)\n",
    "print(\"Training accuracy: {:.4f}\".format(train_acc_maha))\n",
    "cm_maha_mcd = confusion_matrix (kdd_train_y[\"class_binary\"], bi_pvalue_mcd)\n",
    "print(cm_maha_mcd)"
   ]
  },
  {
   "cell_type": "code",
   "execution_count": 32,
   "id": "f5aebe3a",
   "metadata": {},
   "outputs": [
    {
     "data": {
      "text/plain": [
       "Text(0.5, 1.0, 'Seaborn Confusion Matrix with labels\\n\\n')"
      ]
     },
     "execution_count": 32,
     "metadata": {},
     "output_type": "execute_result"
    },
    {
     "data": {
      "text/plain": [
       "Text(0.5, 15.0, '\\nPredicted Values')"
      ]
     },
     "execution_count": 32,
     "metadata": {},
     "output_type": "execute_result"
    },
    {
     "data": {
      "text/plain": [
       "Text(33.0, 0.5, 'Actual Values ')"
      ]
     },
     "execution_count": 32,
     "metadata": {},
     "output_type": "execute_result"
    },
    {
     "data": {
      "text/plain": [
       "[Text(0.5, 0, 'True'), Text(1.5, 0, 'False')]"
      ]
     },
     "execution_count": 32,
     "metadata": {},
     "output_type": "execute_result"
    },
    {
     "data": {
      "text/plain": [
       "[Text(0, 0.5, 'True'), Text(0, 1.5, 'False')]"
      ]
     },
     "execution_count": 32,
     "metadata": {},
     "output_type": "execute_result"
    },
    {
     "data": {
      "image/png": "[encoded data removed]",
      "text/plain": [
       "<Figure size 432x288 with 2 Axes>"
      ]
     },
     "metadata": {
      "needs_background": "light"
     },
     "output_type": "display_data"
    },
    {
     "name": "stdout",
     "output_type": "stream",
     "text": [
      "0.5290676091056234\n",
      "0.5155479025886642\n"
     ]
    }
   ],
   "source": [
    "ax = sns.heatmap(cm_maha_mcd, annot=True, cmap='Blues')\n",
    "\n",
    "ax.set_title('Seaborn Confusion Matrix with labels\\n\\n');\n",
    "ax.set_xlabel('\\nPredicted Values')\n",
    "ax.set_ylabel('Actual Values ');\n",
    "\n",
    "## Ticket labels - List must be in alphabetical order\n",
    "ax.xaxis.set_ticklabels(['True','False'])\n",
    "ax.yaxis.set_ticklabels(['True','False'])\n",
    "\n",
    "## Display the visualization of the Confusion Matrix.\n",
    "plt.show()\n",
    "\n",
    "## FP,FN,TP,TN\n",
    "TP_maha_mcd = cm_maha_mcd[0][0]\n",
    "FN_maha_mcd = cm_maha_mcd[1][0]\n",
    "FP_maha_mcd = cm_maha_mcd[0][1]\n",
    "TN_maha_mcd = cm_maha_mcd[1][1]\n",
    "\n",
    "##Precision and Recall\n",
    "Precision_maha_mcd = TP_maha_mcd/(TP_maha_mcd+FP_maha_mcd)\n",
    "Recall_maha_mcd = TP_maha_mcd/(TP_maha_mcd+FN_maha_mcd)\n",
    "\n",
    "print (Precision_maha_mcd)\n",
    "print (Recall_maha_mcd)"
   ]
  },
  {
   "cell_type": "markdown",
   "id": "97b70aa1",
   "metadata": {},
   "source": [
    "### After Apply MCD, the  accuracy slightly increase. Precision is 69.15% and Recall is 61.42%"
   ]
  },
  {
   "cell_type": "markdown",
   "id": "ee0f75a8",
   "metadata": {},
   "source": [
    "# Isolation Forest"
   ]
  },
  {
   "cell_type": "code",
   "execution_count": 33,
   "id": "c59de06e",
   "metadata": {},
   "outputs": [
    {
     "data": {
      "text/plain": [
       "array([0.        , 0.03333333, 0.06666667, 0.1       , 0.13333333,\n",
       "       0.16666667, 0.2       , 0.23333333, 0.26666667, 0.3       ])"
      ]
     },
     "execution_count": 33,
     "metadata": {},
     "output_type": "execute_result"
    }
   ],
   "source": [
    "#Isolation Forest\n",
    "#from scipy.stats import uniform as sp_randFloat\n",
    "# from scipy.stats import randint as sp_randInt\n",
    "\n",
    "from sklearn.ensemble import IsolationForest\n",
    "model_if = IsolationForest(random_state = 99)\n",
    "#parameters = {'n_estimators' : sp_randInt(100, 1000),\n",
    "#            'contamination' : sp_randFloat(0, 1),\n",
    "#             }\n",
    "parameters = {'n_estimators' : [100,150,200,250,300],\n",
    "            'contamination' : np.linspace(0, 0.2, num = 10),\n",
    "              #'bootstrap': [True, False]\n",
    "             }\n",
    "np.linspace(0, 0.3, num = 10)"
   ]
  },
  {
   "cell_type": "code",
   "execution_count": 34,
   "id": "b059ff9e",
   "metadata": {},
   "outputs": [
    {
     "data": {
      "text/plain": [
       "(125973, 25)"
      ]
     },
     "execution_count": 34,
     "metadata": {},
     "output_type": "execute_result"
    }
   ],
   "source": [
    "# def scorer_f(estimator, X):   #Scorer function for isolation forest\n",
    "#       return np.mean(estimator.score_samples(one_hot_data_if))\n",
    "from sklearn.metrics import make_scorer, f1_score\n",
    "#Set normal to 0 and abnormal to 1 (binary)\n",
    "\n",
    "one_hot_data_if = data_pca\n",
    "one_hot_data_if.shape"
   ]
  },
  {
   "cell_type": "code",
   "execution_count": 35,
   "id": "500a6aac",
   "metadata": {},
   "outputs": [],
   "source": [
    "# randomly sample\n",
    "idx_rand = np.random.permutation(len(kdd_train_x))\n",
    "num_sample = int(0.01*len(kdd_train_x))\n",
    "one_hot_data_if_sample = one_hot_data_if.iloc[idx_rand[:num_sample]]\n",
    "kdd_train_y_sample = kdd_train_y.iloc[idx_rand[:num_sample]]"
   ]
  },
  {
   "cell_type": "code",
   "execution_count": 36,
   "id": "c054bfe8",
   "metadata": {},
   "outputs": [
    {
     "name": "stderr",
     "output_type": "stream",
     "text": [
      "C:\\WINDOWS\\system32\\myenv\\lib\\site-packages\\sklearn\\model_selection\\_validation.py:378: FitFailedWarning: \n",
      "6 fits failed out of a total of 30.\n",
      "The score on these train-test partitions for these parameters will be set to nan.\n",
      "If these failures are not expected, you can try to debug them by setting error_score='raise'.\n",
      "\n",
      "Below are more details about the failures:\n",
      "--------------------------------------------------------------------------------\n",
      "6 fits failed with the following error:\n",
      "Traceback (most recent call last):\n",
      "  File \"C:\\WINDOWS\\system32\\myenv\\lib\\site-packages\\sklearn\\model_selection\\_validation.py\", line 686, in _fit_and_score\n",
      "    estimator.fit(X_train, y_train, **fit_params)\n",
      "  File \"C:\\WINDOWS\\system32\\myenv\\lib\\site-packages\\sklearn\\ensemble\\_iforest.py\", line 271, in fit\n",
      "    raise ValueError(\n",
      "ValueError: contamination must be in (0, 0.5], got: 0.000000\n",
      "\n",
      "  warnings.warn(some_fits_failed_message, FitFailedWarning)\n",
      "C:\\WINDOWS\\system32\\myenv\\lib\\site-packages\\sklearn\\model_selection\\_search.py:953: UserWarning: One or more of the test scores are non-finite: [0.40825851 0.44559041 0.44320756 0.37966814        nan 0.40825851\n",
      " 0.39158048 0.40110808 0.42572641        nan]\n",
      "  warnings.warn(\n",
      "C:\\WINDOWS\\system32\\myenv\\lib\\site-packages\\sklearn\\model_selection\\_search.py:953: UserWarning: One or more of the train scores are non-finite: [0.41024604 0.44995838 0.44916425 0.37807812        nan 0.41064239\n",
      " 0.39118329 0.40071466 0.42374993        nan]\n",
      "  warnings.warn(\n",
      "C:\\WINDOWS\\system32\\myenv\\lib\\site-packages\\sklearn\\base.py:450: UserWarning: X does not have valid feature names, but IsolationForest was fitted with feature names\n",
      "  warnings.warn(\n"
     ]
    }
   ],
   "source": [
    "\n",
    "f1sc = make_scorer(f1_score, average = 'micro')\n",
    "randm_src = RandomizedSearchCV(estimator=model_if, param_distributions = parameters, cv = 3, scoring = f1sc, random_state = 0, return_train_score = True, n_jobs = -1)\n",
    "model = randm_src.fit(one_hot_data_if_sample, kdd_train_y_sample[\"class_binary\"])\n"
   ]
  },
  {
   "cell_type": "code",
   "execution_count": 37,
   "id": "fac5800b",
   "metadata": {},
   "outputs": [
    {
     "name": "stdout",
     "output_type": "stream",
     "text": [
      " Results from Random Search \n",
      "\n",
      " The best estimator across ALL searched params:\n",
      " IsolationForest(contamination=0.044444444444444446, n_estimators=150,\n",
      "                random_state=99)\n",
      "\n",
      " The best score across ALL searched params:\n",
      " 0.4455904080009092\n",
      "\n",
      " The best parameters across ALL searched params:\n",
      " {'n_estimators': 150, 'contamination': 0.044444444444444446}\n"
     ]
    }
   ],
   "source": [
    "print(\" Results from Random Search \" )\n",
    "print(\"\\n The best estimator across ALL searched params:\\n\", randm_src.best_estimator_)\n",
    "print(\"\\n The best score across ALL searched params:\\n\", randm_src.best_score_)\n",
    "print(\"\\n The best parameters across ALL searched params:\\n\", randm_src.best_params_)"
   ]
  },
  {
   "cell_type": "code",
   "execution_count": 38,
   "id": "80f9d67a",
   "metadata": {},
   "outputs": [
    {
     "name": "stdout",
     "output_type": "stream",
     "text": [
      "[1 1 0 0 0 1 1 0 1 1 0 0 1 1 0 1 1 0 1 0]\n"
     ]
    },
    {
     "name": "stderr",
     "output_type": "stream",
     "text": [
      "C:\\WINDOWS\\system32\\myenv\\lib\\site-packages\\sklearn\\base.py:450: UserWarning: X does not have valid feature names, but IsolationForest was fitted with feature names\n",
      "  warnings.warn(\n"
     ]
    },
    {
     "data": {
      "text/html": [
       "<style>#sk-container-id-1 {color: black;background-color: white;}#sk-container-id-1 pre{padding: 0;}#sk-container-id-1 div.sk-toggleable {background-color: white;}#sk-container-id-1 label.sk-toggleable__label {cursor: pointer;display: block;width: 100%;margin-bottom: 0;padding: 0.3em;box-sizing: border-box;text-align: center;}#sk-container-id-1 label.sk-toggleable__label-arrow:before {content: \"▸\";float: left;margin-right: 0.25em;color: #696969;}#sk-container-id-1 label.sk-toggleable__label-arrow:hover:before {color: black;}#sk-container-id-1 div.sk-estimator:hover label.sk-toggleable__label-arrow:before {color: black;}#sk-container-id-1 div.sk-toggleable__content {max-height: 0;max-width: 0;overflow: hidden;text-align: left;background-color: #f0f8ff;}#sk-container-id-1 div.sk-toggleable__content pre {margin: 0.2em;color: black;border-radius: 0.25em;background-color: #f0f8ff;}#sk-container-id-1 input.sk-toggleable__control:checked~div.sk-toggleable__content {max-height: 200px;max-width: 100%;overflow: auto;}#sk-container-id-1 input.sk-toggleable__control:checked~label.sk-toggleable__label-arrow:before {content: \"▾\";}#sk-container-id-1 div.sk-estimator input.sk-toggleable__control:checked~label.sk-toggleable__label {background-color: #d4ebff;}#sk-container-id-1 div.sk-label input.sk-toggleable__control:checked~label.sk-toggleable__label {background-color: #d4ebff;}#sk-container-id-1 input.sk-hidden--visually {border: 0;clip: rect(1px 1px 1px 1px);clip: rect(1px, 1px, 1px, 1px);height: 1px;margin: -1px;overflow: hidden;padding: 0;position: absolute;width: 1px;}#sk-container-id-1 div.sk-estimator {font-family: monospace;background-color: #f0f8ff;border: 1px dotted black;border-radius: 0.25em;box-sizing: border-box;margin-bottom: 0.5em;}#sk-container-id-1 div.sk-estimator:hover {background-color: #d4ebff;}#sk-container-id-1 div.sk-parallel-item::after {content: \"\";width: 100%;border-bottom: 1px solid gray;flex-grow: 1;}#sk-container-id-1 div.sk-label:hover label.sk-toggleable__label {background-color: #d4ebff;}#sk-container-id-1 div.sk-serial::before {content: \"\";position: absolute;border-left: 1px solid gray;box-sizing: border-box;top: 0;bottom: 0;left: 50%;z-index: 0;}#sk-container-id-1 div.sk-serial {display: flex;flex-direction: column;align-items: center;background-color: white;padding-right: 0.2em;padding-left: 0.2em;position: relative;}#sk-container-id-1 div.sk-item {position: relative;z-index: 1;}#sk-container-id-1 div.sk-parallel {display: flex;align-items: stretch;justify-content: center;background-color: white;position: relative;}#sk-container-id-1 div.sk-item::before, #sk-container-id-1 div.sk-parallel-item::before {content: \"\";position: absolute;border-left: 1px solid gray;box-sizing: border-box;top: 0;bottom: 0;left: 50%;z-index: -1;}#sk-container-id-1 div.sk-parallel-item {display: flex;flex-direction: column;z-index: 1;position: relative;background-color: white;}#sk-container-id-1 div.sk-parallel-item:first-child::after {align-self: flex-end;width: 50%;}#sk-container-id-1 div.sk-parallel-item:last-child::after {align-self: flex-start;width: 50%;}#sk-container-id-1 div.sk-parallel-item:only-child::after {width: 0;}#sk-container-id-1 div.sk-dashed-wrapped {border: 1px dashed gray;margin: 0 0.4em 0.5em 0.4em;box-sizing: border-box;padding-bottom: 0.4em;background-color: white;}#sk-container-id-1 div.sk-label label {font-family: monospace;font-weight: bold;display: inline-block;line-height: 1.2em;}#sk-container-id-1 div.sk-label-container {text-align: center;}#sk-container-id-1 div.sk-container {/* jupyter's `normalize.less` sets `[hidden] { display: none; }` but bootstrap.min.css set `[hidden] { display: none !important; }` so we also need the `!important` here to be able to override the default hidden behavior on the sphinx rendered scikit-learn.org. See: https://github.com/scikit-learn/scikit-learn/issues/21755 */display: inline-block !important;position: relative;}#sk-container-id-1 div.sk-text-repr-fallback {display: none;}</style><div id=\"sk-container-id-1\" class=\"sk-top-container\"><div class=\"sk-text-repr-fallback\"><pre>IsolationForest(contamination=0.044444444444444446, n_estimators=150)</pre><b>In a Jupyter environment, please rerun this cell to show the HTML representation or trust the notebook. <br />On GitHub, the HTML representation is unable to render, please try loading this page with nbviewer.org.</b></div><div class=\"sk-container\" hidden><div class=\"sk-item\"><div class=\"sk-estimator sk-toggleable\"><input class=\"sk-toggleable__control sk-hidden--visually\" id=\"sk-estimator-id-1\" type=\"checkbox\" checked><label for=\"sk-estimator-id-1\" class=\"sk-toggleable__label sk-toggleable__label-arrow\">IsolationForest</label><div class=\"sk-toggleable__content\"><pre>IsolationForest(contamination=0.044444444444444446, n_estimators=150)</pre></div></div></div></div></div>"
      ],
      "text/plain": [
       "IsolationForest(contamination=0.044444444444444446, n_estimators=150)"
      ]
     },
     "execution_count": 38,
     "metadata": {},
     "output_type": "execute_result"
    },
    {
     "data": {
      "text/plain": [
       "array([1, 1, 1, ..., 1, 1, 1])"
      ]
     },
     "execution_count": 38,
     "metadata": {},
     "output_type": "execute_result"
    }
   ],
   "source": [
    "from sklearn.datasets import make_classification\n",
    "XX_train, yy_train = make_classification(n_samples = 500, n_classes=2)\n",
    "print(yy_train[:20])\n",
    "\n",
    "rng = np.random.RandomState(42)\n",
    "#Load the saved isolation Forest model\n",
    "##model_if = joblib.load('IF.sav')\n",
    "model_if = IsolationForest(n_estimators = 150, contamination = 0.044444444444444446, max_features=1.0)\n",
    "model_if.fit(one_hot_data_if)\n",
    "y_pred_if = model_if.predict(one_hot_data_if)\n",
    "y_pred_if"
   ]
  },
  {
   "cell_type": "code",
   "execution_count": 39,
   "id": "9fcef59f",
   "metadata": {},
   "outputs": [
    {
     "name": "stdout",
     "output_type": "stream",
     "text": [
      "Training accuracy: 0.4517\n"
     ]
    }
   ],
   "source": [
    "#Evaluation on training result\n",
    "y_pred_if = np.where(y_pred_if == -1, 0, y_pred_if)\n",
    "\n",
    "from sklearn.metrics import accuracy_score\n",
    "train_acc_if = accuracy_score(kdd_train_y['class_binary'], y_pred_if)\n",
    "print(\"Training accuracy: {:.4f}\".format(train_acc_if))"
   ]
  },
  {
   "cell_type": "code",
   "execution_count": 40,
   "id": "de9547a7",
   "metadata": {},
   "outputs": [
    {
     "name": "stdout",
     "output_type": "stream",
     "text": [
      "[[ 1932 65411]\n",
      " [ 3664 54966]]\n"
     ]
    },
    {
     "data": {
      "text/plain": [
       "Text(0.5, 1.0, 'Seaborn Confusion Matrix with labels\\n\\n')"
      ]
     },
     "execution_count": 40,
     "metadata": {},
     "output_type": "execute_result"
    },
    {
     "data": {
      "text/plain": [
       "Text(0.5, 15.0, '\\nPredicted Values')"
      ]
     },
     "execution_count": 40,
     "metadata": {},
     "output_type": "execute_result"
    },
    {
     "data": {
      "text/plain": [
       "Text(33.0, 0.5, 'Actual Values ')"
      ]
     },
     "execution_count": 40,
     "metadata": {},
     "output_type": "execute_result"
    },
    {
     "data": {
      "text/plain": [
       "[Text(0.5, 0, 'True'), Text(1.5, 0, 'False')]"
      ]
     },
     "execution_count": 40,
     "metadata": {},
     "output_type": "execute_result"
    },
    {
     "data": {
      "text/plain": [
       "[Text(0, 0.5, 'True'), Text(0, 1.5, 'False')]"
      ]
     },
     "execution_count": 40,
     "metadata": {},
     "output_type": "execute_result"
    },
    {
     "data": {
      "image/png": "[encoded data removed]",
      "text/plain": [
       "<Figure size 432x288 with 2 Axes>"
      ]
     },
     "metadata": {
      "needs_background": "light"
     },
     "output_type": "display_data"
    },
    {
     "name": "stdout",
     "output_type": "stream",
     "text": [
      "0.028688950596201534\n",
      "0.34524660471765545\n"
     ]
    }
   ],
   "source": [
    "cm_if = confusion_matrix (kdd_train_y[\"class_binary\"], y_pred_if)\n",
    "print(cm_if)\n",
    "ax = sns.heatmap(cm_if, annot=True, cmap='Blues')\n",
    "\n",
    "ax.set_title('Seaborn Confusion Matrix with labels\\n\\n');\n",
    "ax.set_xlabel('\\nPredicted Values')\n",
    "ax.set_ylabel('Actual Values ');\n",
    "\n",
    "## Ticket labels - List must be in alphabetical order\n",
    "ax.xaxis.set_ticklabels(['True','False'])\n",
    "ax.yaxis.set_ticklabels(['True','False'])\n",
    "\n",
    "## Display the visualization of the Confusion Matrix.\n",
    "plt.show()\n",
    "\n",
    "## FP,FN,TP,TN\n",
    "TP_if = cm_if[0][0]\n",
    "FN_if = cm_if[1][0]\n",
    "FP_if = cm_if[0][1]\n",
    "TN_if = cm_if[1][1]\n",
    "\n",
    "##Precision and Recall\n",
    "Precision_if = TP_if/(TP_if+FP_if)\n",
    "Recall_if = TP_if/(TP_if+FN_if)\n",
    "\n",
    "print (Precision_if)\n",
    "print (Recall_if)"
   ]
  },
  {
   "cell_type": "markdown",
   "id": "dafb2f6e",
   "metadata": {},
   "source": [
    "### The result slightly improve from before without pca.\n",
    "### Accuracy = 0.4259 --> 0.4485"
   ]
  },
  {
   "cell_type": "markdown",
   "id": "e49dde98",
   "metadata": {},
   "source": [
    "# OCSVM"
   ]
  },
  {
   "cell_type": "code",
   "execution_count": 41,
   "id": "12635cc0",
   "metadata": {},
   "outputs": [],
   "source": [
    "one_hot_data_svm = data_pca\n",
    "\n",
    "#10% of data, 12597 out of 125973 is used for training.\n",
    "one_hot_data_svm_ten_percent = one_hot_data_svm[0:12597]\n",
    "kdd_train_y_ten_percent = kdd_train_y[0:12597]\n",
    "\n",
    "from scipy.stats import uniform as sp_randFloat\n",
    "    #Hyperparameter Tuning\n",
    "from sklearn.svm import OneClassSVM\n",
    "parameters_svm = {\n",
    "             \"nu\" : sp_randFloat()\n",
    "             }\n",
    "model_svm = OneClassSVM()"
   ]
  },
  {
   "cell_type": "code",
   "execution_count": 42,
   "id": "d978f4c4",
   "metadata": {},
   "outputs": [],
   "source": [
    "def scorer_svm(estimator, X):   #Scorer function for OCSVM\n",
    "      return np.mean(estimator.score_samples(one_hot_data_svm_ten_percent))\n",
    "    \n",
    "#Load the saved random_src result\n",
    "randm_src_svm = joblib.load('OCSVMSearch.sav')"
   ]
  },
  {
   "cell_type": "code",
   "execution_count": 43,
   "id": "fc3ddf5e",
   "metadata": {},
   "outputs": [
    {
     "name": "stdout",
     "output_type": "stream",
     "text": [
      " Results from Random Search \n",
      "\n",
      " The best estimator across ALL searched params:\n",
      " OneClassSVM(nu=0.5488135039273248)\n",
      "\n",
      " The best score across ALL searched params:\n",
      " nan\n",
      "\n",
      " The best parameters across ALL searched params:\n",
      " {'nu': 0.5488135039273248}\n"
     ]
    }
   ],
   "source": [
    "print(\" Results from Random Search \" )\n",
    "print(\"\\n The best estimator across ALL searched params:\\n\", randm_src_svm.best_estimator_)\n",
    "print(\"\\n The best score across ALL searched params:\\n\", randm_src_svm.best_score_)\n",
    "print(\"\\n The best parameters across ALL searched params:\\n\", randm_src_svm.best_params_)"
   ]
  },
  {
   "cell_type": "code",
   "execution_count": 44,
   "id": "9e009f29",
   "metadata": {},
   "outputs": [
    {
     "data": {
      "text/html": [
       "<style>#sk-container-id-2 {color: black;background-color: white;}#sk-container-id-2 pre{padding: 0;}#sk-container-id-2 div.sk-toggleable {background-color: white;}#sk-container-id-2 label.sk-toggleable__label {cursor: pointer;display: block;width: 100%;margin-bottom: 0;padding: 0.3em;box-sizing: border-box;text-align: center;}#sk-container-id-2 label.sk-toggleable__label-arrow:before {content: \"▸\";float: left;margin-right: 0.25em;color: #696969;}#sk-container-id-2 label.sk-toggleable__label-arrow:hover:before {color: black;}#sk-container-id-2 div.sk-estimator:hover label.sk-toggleable__label-arrow:before {color: black;}#sk-container-id-2 div.sk-toggleable__content {max-height: 0;max-width: 0;overflow: hidden;text-align: left;background-color: #f0f8ff;}#sk-container-id-2 div.sk-toggleable__content pre {margin: 0.2em;color: black;border-radius: 0.25em;background-color: #f0f8ff;}#sk-container-id-2 input.sk-toggleable__control:checked~div.sk-toggleable__content {max-height: 200px;max-width: 100%;overflow: auto;}#sk-container-id-2 input.sk-toggleable__control:checked~label.sk-toggleable__label-arrow:before {content: \"▾\";}#sk-container-id-2 div.sk-estimator input.sk-toggleable__control:checked~label.sk-toggleable__label {background-color: #d4ebff;}#sk-container-id-2 div.sk-label input.sk-toggleable__control:checked~label.sk-toggleable__label {background-color: #d4ebff;}#sk-container-id-2 input.sk-hidden--visually {border: 0;clip: rect(1px 1px 1px 1px);clip: rect(1px, 1px, 1px, 1px);height: 1px;margin: -1px;overflow: hidden;padding: 0;position: absolute;width: 1px;}#sk-container-id-2 div.sk-estimator {font-family: monospace;background-color: #f0f8ff;border: 1px dotted black;border-radius: 0.25em;box-sizing: border-box;margin-bottom: 0.5em;}#sk-container-id-2 div.sk-estimator:hover {background-color: #d4ebff;}#sk-container-id-2 div.sk-parallel-item::after {content: \"\";width: 100%;border-bottom: 1px solid gray;flex-grow: 1;}#sk-container-id-2 div.sk-label:hover label.sk-toggleable__label {background-color: #d4ebff;}#sk-container-id-2 div.sk-serial::before {content: \"\";position: absolute;border-left: 1px solid gray;box-sizing: border-box;top: 0;bottom: 0;left: 50%;z-index: 0;}#sk-container-id-2 div.sk-serial {display: flex;flex-direction: column;align-items: center;background-color: white;padding-right: 0.2em;padding-left: 0.2em;position: relative;}#sk-container-id-2 div.sk-item {position: relative;z-index: 1;}#sk-container-id-2 div.sk-parallel {display: flex;align-items: stretch;justify-content: center;background-color: white;position: relative;}#sk-container-id-2 div.sk-item::before, #sk-container-id-2 div.sk-parallel-item::before {content: \"\";position: absolute;border-left: 1px solid gray;box-sizing: border-box;top: 0;bottom: 0;left: 50%;z-index: -1;}#sk-container-id-2 div.sk-parallel-item {display: flex;flex-direction: column;z-index: 1;position: relative;background-color: white;}#sk-container-id-2 div.sk-parallel-item:first-child::after {align-self: flex-end;width: 50%;}#sk-container-id-2 div.sk-parallel-item:last-child::after {align-self: flex-start;width: 50%;}#sk-container-id-2 div.sk-parallel-item:only-child::after {width: 0;}#sk-container-id-2 div.sk-dashed-wrapped {border: 1px dashed gray;margin: 0 0.4em 0.5em 0.4em;box-sizing: border-box;padding-bottom: 0.4em;background-color: white;}#sk-container-id-2 div.sk-label label {font-family: monospace;font-weight: bold;display: inline-block;line-height: 1.2em;}#sk-container-id-2 div.sk-label-container {text-align: center;}#sk-container-id-2 div.sk-container {/* jupyter's `normalize.less` sets `[hidden] { display: none; }` but bootstrap.min.css set `[hidden] { display: none !important; }` so we also need the `!important` here to be able to override the default hidden behavior on the sphinx rendered scikit-learn.org. See: https://github.com/scikit-learn/scikit-learn/issues/21755 */display: inline-block !important;position: relative;}#sk-container-id-2 div.sk-text-repr-fallback {display: none;}</style><div id=\"sk-container-id-2\" class=\"sk-top-container\"><div class=\"sk-text-repr-fallback\"><pre>OneClassSVM(nu=0.5488135039273248)</pre><b>In a Jupyter environment, please rerun this cell to show the HTML representation or trust the notebook. <br />On GitHub, the HTML representation is unable to render, please try loading this page with nbviewer.org.</b></div><div class=\"sk-container\" hidden><div class=\"sk-item\"><div class=\"sk-estimator sk-toggleable\"><input class=\"sk-toggleable__control sk-hidden--visually\" id=\"sk-estimator-id-2\" type=\"checkbox\" checked><label for=\"sk-estimator-id-2\" class=\"sk-toggleable__label sk-toggleable__label-arrow\">OneClassSVM</label><div class=\"sk-toggleable__content\"><pre>OneClassSVM(nu=0.5488135039273248)</pre></div></div></div></div></div>"
      ],
      "text/plain": [
       "OneClassSVM(nu=0.5488135039273248)"
      ]
     },
     "execution_count": 44,
     "metadata": {},
     "output_type": "execute_result"
    }
   ],
   "source": [
    "#Train model with ten percent of data\n",
    "#Load the saved SVM model\n",
    "svm = OneClassSVM(kernel = 'rbf', gamma = 'scale', nu=0.5488135039273248)\n",
    "svm.fit(one_hot_data_svm_ten_percent)\n",
    "y_pred_svm = svm.predict(one_hot_data_svm)\n"
   ]
  },
  {
   "cell_type": "code",
   "execution_count": 45,
   "id": "ff655782",
   "metadata": {},
   "outputs": [
    {
     "data": {
      "text/html": [
       "<div>\n",
       "<style scoped>\n",
       "    .dataframe tbody tr th:only-of-type {\n",
       "        vertical-align: middle;\n",
       "    }\n",
       "\n",
       "    .dataframe tbody tr th {\n",
       "        vertical-align: top;\n",
       "    }\n",
       "\n",
       "    .dataframe thead th {\n",
       "        text-align: right;\n",
       "    }\n",
       "</style>\n",
       "<table border=\"1\" class=\"dataframe\">\n",
       "  <thead>\n",
       "    <tr style=\"text-align: right;\">\n",
       "      <th></th>\n",
       "      <th>Variable 0</th>\n",
       "      <th>Variable 1</th>\n",
       "      <th>Variable 2</th>\n",
       "      <th>Variable 3</th>\n",
       "      <th>Variable 4</th>\n",
       "      <th>Variable 5</th>\n",
       "      <th>Variable 6</th>\n",
       "      <th>Variable 7</th>\n",
       "      <th>Variable 8</th>\n",
       "      <th>Variable 9</th>\n",
       "      <th>...</th>\n",
       "      <th>Variable 15</th>\n",
       "      <th>Variable 16</th>\n",
       "      <th>Variable 17</th>\n",
       "      <th>Variable 18</th>\n",
       "      <th>Variable 19</th>\n",
       "      <th>Variable 20</th>\n",
       "      <th>Variable 21</th>\n",
       "      <th>Variable 22</th>\n",
       "      <th>Variable 23</th>\n",
       "      <th>Variable 24</th>\n",
       "    </tr>\n",
       "  </thead>\n",
       "  <tbody>\n",
       "    <tr>\n",
       "      <th>0</th>\n",
       "      <td>-0.271817</td>\n",
       "      <td>-0.031828</td>\n",
       "      <td>-0.007913</td>\n",
       "      <td>-0.057511</td>\n",
       "      <td>-0.242414</td>\n",
       "      <td>0.177059</td>\n",
       "      <td>-0.356125</td>\n",
       "      <td>0.408246</td>\n",
       "      <td>0.040124</td>\n",
       "      <td>0.127203</td>\n",
       "      <td>...</td>\n",
       "      <td>0.017673</td>\n",
       "      <td>-0.207699</td>\n",
       "      <td>-0.037677</td>\n",
       "      <td>-0.320516</td>\n",
       "      <td>0.282797</td>\n",
       "      <td>2.121937</td>\n",
       "      <td>-0.554458</td>\n",
       "      <td>-0.128769</td>\n",
       "      <td>-1.473139</td>\n",
       "      <td>-1.178282</td>\n",
       "    </tr>\n",
       "    <tr>\n",
       "      <th>1</th>\n",
       "      <td>0.172646</td>\n",
       "      <td>0.493701</td>\n",
       "      <td>0.004511</td>\n",
       "      <td>-0.797855</td>\n",
       "      <td>-0.794043</td>\n",
       "      <td>1.396155</td>\n",
       "      <td>-1.419620</td>\n",
       "      <td>1.811961</td>\n",
       "      <td>-0.912517</td>\n",
       "      <td>0.028640</td>\n",
       "      <td>...</td>\n",
       "      <td>0.001162</td>\n",
       "      <td>-0.341803</td>\n",
       "      <td>-0.086000</td>\n",
       "      <td>-0.390947</td>\n",
       "      <td>0.353699</td>\n",
       "      <td>2.470492</td>\n",
       "      <td>-0.970910</td>\n",
       "      <td>0.370601</td>\n",
       "      <td>1.229342</td>\n",
       "      <td>0.619450</td>\n",
       "    </tr>\n",
       "    <tr>\n",
       "      <th>2</th>\n",
       "      <td>1.415630</td>\n",
       "      <td>-0.666276</td>\n",
       "      <td>0.012028</td>\n",
       "      <td>-0.028398</td>\n",
       "      <td>-0.176458</td>\n",
       "      <td>-0.336946</td>\n",
       "      <td>0.050874</td>\n",
       "      <td>-0.047367</td>\n",
       "      <td>0.161117</td>\n",
       "      <td>0.009214</td>\n",
       "      <td>...</td>\n",
       "      <td>-0.013284</td>\n",
       "      <td>-0.080539</td>\n",
       "      <td>0.029774</td>\n",
       "      <td>0.017559</td>\n",
       "      <td>-0.007434</td>\n",
       "      <td>0.089605</td>\n",
       "      <td>0.323907</td>\n",
       "      <td>-0.208936</td>\n",
       "      <td>0.327632</td>\n",
       "      <td>-0.075673</td>\n",
       "    </tr>\n",
       "    <tr>\n",
       "      <th>3</th>\n",
       "      <td>-0.904705</td>\n",
       "      <td>-0.465462</td>\n",
       "      <td>-0.041510</td>\n",
       "      <td>0.310599</td>\n",
       "      <td>0.131188</td>\n",
       "      <td>-0.845985</td>\n",
       "      <td>0.027311</td>\n",
       "      <td>0.064317</td>\n",
       "      <td>0.051110</td>\n",
       "      <td>0.009947</td>\n",
       "      <td>...</td>\n",
       "      <td>0.013662</td>\n",
       "      <td>-0.103791</td>\n",
       "      <td>0.018487</td>\n",
       "      <td>-1.077262</td>\n",
       "      <td>0.095572</td>\n",
       "      <td>-1.068193</td>\n",
       "      <td>-0.187456</td>\n",
       "      <td>-0.311416</td>\n",
       "      <td>0.040898</td>\n",
       "      <td>-0.580725</td>\n",
       "    </tr>\n",
       "    <tr>\n",
       "      <th>4</th>\n",
       "      <td>-0.829569</td>\n",
       "      <td>-0.395406</td>\n",
       "      <td>-0.070325</td>\n",
       "      <td>0.588581</td>\n",
       "      <td>0.832244</td>\n",
       "      <td>-0.290600</td>\n",
       "      <td>-0.145860</td>\n",
       "      <td>0.193486</td>\n",
       "      <td>0.064853</td>\n",
       "      <td>-0.023984</td>\n",
       "      <td>...</td>\n",
       "      <td>-0.028782</td>\n",
       "      <td>-0.083731</td>\n",
       "      <td>0.048325</td>\n",
       "      <td>0.359113</td>\n",
       "      <td>-0.102098</td>\n",
       "      <td>-0.014897</td>\n",
       "      <td>0.542322</td>\n",
       "      <td>0.586904</td>\n",
       "      <td>0.417919</td>\n",
       "      <td>1.189537</td>\n",
       "    </tr>\n",
       "    <tr>\n",
       "      <th>...</th>\n",
       "      <td>...</td>\n",
       "      <td>...</td>\n",
       "      <td>...</td>\n",
       "      <td>...</td>\n",
       "      <td>...</td>\n",
       "      <td>...</td>\n",
       "      <td>...</td>\n",
       "      <td>...</td>\n",
       "      <td>...</td>\n",
       "      <td>...</td>\n",
       "      <td>...</td>\n",
       "      <td>...</td>\n",
       "      <td>...</td>\n",
       "      <td>...</td>\n",
       "      <td>...</td>\n",
       "      <td>...</td>\n",
       "      <td>...</td>\n",
       "      <td>...</td>\n",
       "      <td>...</td>\n",
       "      <td>...</td>\n",
       "      <td>...</td>\n",
       "    </tr>\n",
       "    <tr>\n",
       "      <th>12592</th>\n",
       "      <td>1.335048</td>\n",
       "      <td>-0.583419</td>\n",
       "      <td>0.029225</td>\n",
       "      <td>0.015845</td>\n",
       "      <td>-0.391473</td>\n",
       "      <td>-0.480954</td>\n",
       "      <td>-0.134968</td>\n",
       "      <td>0.211035</td>\n",
       "      <td>0.010141</td>\n",
       "      <td>0.020579</td>\n",
       "      <td>...</td>\n",
       "      <td>0.000281</td>\n",
       "      <td>-0.078191</td>\n",
       "      <td>-0.007173</td>\n",
       "      <td>0.057170</td>\n",
       "      <td>0.001752</td>\n",
       "      <td>0.527023</td>\n",
       "      <td>0.650973</td>\n",
       "      <td>-0.452801</td>\n",
       "      <td>0.214475</td>\n",
       "      <td>-0.426980</td>\n",
       "    </tr>\n",
       "    <tr>\n",
       "      <th>12593</th>\n",
       "      <td>1.405131</td>\n",
       "      <td>-0.670460</td>\n",
       "      <td>0.009711</td>\n",
       "      <td>-0.052636</td>\n",
       "      <td>-0.116800</td>\n",
       "      <td>-0.214474</td>\n",
       "      <td>0.093440</td>\n",
       "      <td>-0.124871</td>\n",
       "      <td>0.182308</td>\n",
       "      <td>0.002392</td>\n",
       "      <td>...</td>\n",
       "      <td>-0.021989</td>\n",
       "      <td>-0.086249</td>\n",
       "      <td>0.022578</td>\n",
       "      <td>0.009014</td>\n",
       "      <td>0.001257</td>\n",
       "      <td>0.009852</td>\n",
       "      <td>0.106797</td>\n",
       "      <td>-0.004894</td>\n",
       "      <td>0.162327</td>\n",
       "      <td>-0.032350</td>\n",
       "    </tr>\n",
       "    <tr>\n",
       "      <th>12594</th>\n",
       "      <td>-1.004226</td>\n",
       "      <td>-0.392154</td>\n",
       "      <td>-0.046524</td>\n",
       "      <td>0.346141</td>\n",
       "      <td>0.210340</td>\n",
       "      <td>-0.746812</td>\n",
       "      <td>-0.012722</td>\n",
       "      <td>0.112151</td>\n",
       "      <td>-0.006566</td>\n",
       "      <td>0.009871</td>\n",
       "      <td>...</td>\n",
       "      <td>0.015427</td>\n",
       "      <td>-0.066108</td>\n",
       "      <td>0.012999</td>\n",
       "      <td>-0.956241</td>\n",
       "      <td>0.101074</td>\n",
       "      <td>-0.795295</td>\n",
       "      <td>0.002573</td>\n",
       "      <td>-0.090638</td>\n",
       "      <td>-0.194525</td>\n",
       "      <td>-0.333834</td>\n",
       "    </tr>\n",
       "    <tr>\n",
       "      <th>12595</th>\n",
       "      <td>-0.928914</td>\n",
       "      <td>-0.411203</td>\n",
       "      <td>-0.072747</td>\n",
       "      <td>0.307538</td>\n",
       "      <td>0.355113</td>\n",
       "      <td>-0.583620</td>\n",
       "      <td>0.043376</td>\n",
       "      <td>0.108800</td>\n",
       "      <td>-0.105397</td>\n",
       "      <td>-0.096391</td>\n",
       "      <td>...</td>\n",
       "      <td>-0.034731</td>\n",
       "      <td>0.225357</td>\n",
       "      <td>0.064994</td>\n",
       "      <td>2.105253</td>\n",
       "      <td>-0.504560</td>\n",
       "      <td>-0.094137</td>\n",
       "      <td>0.153924</td>\n",
       "      <td>0.678438</td>\n",
       "      <td>0.815610</td>\n",
       "      <td>1.126338</td>\n",
       "    </tr>\n",
       "    <tr>\n",
       "      <th>12596</th>\n",
       "      <td>-0.485892</td>\n",
       "      <td>-0.145472</td>\n",
       "      <td>0.040113</td>\n",
       "      <td>0.107849</td>\n",
       "      <td>-0.567034</td>\n",
       "      <td>-0.367530</td>\n",
       "      <td>-0.308337</td>\n",
       "      <td>0.373889</td>\n",
       "      <td>-0.157040</td>\n",
       "      <td>0.087832</td>\n",
       "      <td>...</td>\n",
       "      <td>0.049618</td>\n",
       "      <td>0.039762</td>\n",
       "      <td>-0.044386</td>\n",
       "      <td>-0.793522</td>\n",
       "      <td>0.318085</td>\n",
       "      <td>0.978905</td>\n",
       "      <td>-0.477841</td>\n",
       "      <td>1.475365</td>\n",
       "      <td>-2.916007</td>\n",
       "      <td>-0.118146</td>\n",
       "    </tr>\n",
       "  </tbody>\n",
       "</table>\n",
       "<p>12597 rows × 25 columns</p>\n",
       "</div>"
      ],
      "text/plain": [
       "       Variable 0  Variable 1  Variable 2  Variable 3  Variable 4  Variable 5  \\\n",
       "0       -0.271817   -0.031828   -0.007913   -0.057511   -0.242414    0.177059   \n",
       "1        0.172646    0.493701    0.004511   -0.797855   -0.794043    1.396155   \n",
       "2        1.415630   -0.666276    0.012028   -0.028398   -0.176458   -0.336946   \n",
       "3       -0.904705   -0.465462   -0.041510    0.310599    0.131188   -0.845985   \n",
       "4       -0.829569   -0.395406   -0.070325    0.588581    0.832244   -0.290600   \n",
       "...           ...         ...         ...         ...         ...         ...   \n",
       "12592    1.335048   -0.583419    0.029225    0.015845   -0.391473   -0.480954   \n",
       "12593    1.405131   -0.670460    0.009711   -0.052636   -0.116800   -0.214474   \n",
       "12594   -1.004226   -0.392154   -0.046524    0.346141    0.210340   -0.746812   \n",
       "12595   -0.928914   -0.411203   -0.072747    0.307538    0.355113   -0.583620   \n",
       "12596   -0.485892   -0.145472    0.040113    0.107849   -0.567034   -0.367530   \n",
       "\n",
       "       Variable 6  Variable 7  Variable 8  Variable 9  ...  Variable 15  \\\n",
       "0       -0.356125    0.408246    0.040124    0.127203  ...     0.017673   \n",
       "1       -1.419620    1.811961   -0.912517    0.028640  ...     0.001162   \n",
       "2        0.050874   -0.047367    0.161117    0.009214  ...    -0.013284   \n",
       "3        0.027311    0.064317    0.051110    0.009947  ...     0.013662   \n",
       "4       -0.145860    0.193486    0.064853   -0.023984  ...    -0.028782   \n",
       "...           ...         ...         ...         ...  ...          ...   \n",
       "12592   -0.134968    0.211035    0.010141    0.020579  ...     0.000281   \n",
       "12593    0.093440   -0.124871    0.182308    0.002392  ...    -0.021989   \n",
       "12594   -0.012722    0.112151   -0.006566    0.009871  ...     0.015427   \n",
       "12595    0.043376    0.108800   -0.105397   -0.096391  ...    -0.034731   \n",
       "12596   -0.308337    0.373889   -0.157040    0.087832  ...     0.049618   \n",
       "\n",
       "       Variable 16  Variable 17  Variable 18  Variable 19  Variable 20  \\\n",
       "0        -0.207699    -0.037677    -0.320516     0.282797     2.121937   \n",
       "1        -0.341803    -0.086000    -0.390947     0.353699     2.470492   \n",
       "2        -0.080539     0.029774     0.017559    -0.007434     0.089605   \n",
       "3        -0.103791     0.018487    -1.077262     0.095572    -1.068193   \n",
       "4        -0.083731     0.048325     0.359113    -0.102098    -0.014897   \n",
       "...            ...          ...          ...          ...          ...   \n",
       "12592    -0.078191    -0.007173     0.057170     0.001752     0.527023   \n",
       "12593    -0.086249     0.022578     0.009014     0.001257     0.009852   \n",
       "12594    -0.066108     0.012999    -0.956241     0.101074    -0.795295   \n",
       "12595     0.225357     0.064994     2.105253    -0.504560    -0.094137   \n",
       "12596     0.039762    -0.044386    -0.793522     0.318085     0.978905   \n",
       "\n",
       "       Variable 21  Variable 22  Variable 23  Variable 24  \n",
       "0        -0.554458    -0.128769    -1.473139    -1.178282  \n",
       "1        -0.970910     0.370601     1.229342     0.619450  \n",
       "2         0.323907    -0.208936     0.327632    -0.075673  \n",
       "3        -0.187456    -0.311416     0.040898    -0.580725  \n",
       "4         0.542322     0.586904     0.417919     1.189537  \n",
       "...            ...          ...          ...          ...  \n",
       "12592     0.650973    -0.452801     0.214475    -0.426980  \n",
       "12593     0.106797    -0.004894     0.162327    -0.032350  \n",
       "12594     0.002573    -0.090638    -0.194525    -0.333834  \n",
       "12595     0.153924     0.678438     0.815610     1.126338  \n",
       "12596    -0.477841     1.475365    -2.916007    -0.118146  \n",
       "\n",
       "[12597 rows x 25 columns]"
      ]
     },
     "execution_count": 45,
     "metadata": {},
     "output_type": "execute_result"
    }
   ],
   "source": [
    "one_hot_data_svm_ten_percent"
   ]
  },
  {
   "cell_type": "code",
   "execution_count": 46,
   "id": "caad1e14",
   "metadata": {},
   "outputs": [
    {
     "name": "stdout",
     "output_type": "stream",
     "text": [
      "Training accuracy: 0.5473\n",
      "[[39592 27751]\n",
      " [29274 29356]]\n"
     ]
    }
   ],
   "source": [
    "#Evaluation on training result\n",
    "y_pred_svm = np.where(y_pred_svm == -1, 0, y_pred_svm)\n",
    "\n",
    "train_acc = accuracy_score(kdd_train_y['class_binary'], y_pred_svm)\n",
    "print(\"Training accuracy: {:.4f}\".format(train_acc))\n",
    "cm_svm = confusion_matrix (kdd_train_y[\"class_binary\"], y_pred_svm)\n",
    "print(cm_svm)"
   ]
  },
  {
   "cell_type": "code",
   "execution_count": 47,
   "id": "72817ce2",
   "metadata": {},
   "outputs": [
    {
     "data": {
      "text/plain": [
       "Text(0.5, 1.0, 'Seaborn Confusion Matrix with labels\\n\\n')"
      ]
     },
     "execution_count": 47,
     "metadata": {},
     "output_type": "execute_result"
    },
    {
     "data": {
      "text/plain": [
       "Text(0.5, 15.0, '\\nPredicted Values')"
      ]
     },
     "execution_count": 47,
     "metadata": {},
     "output_type": "execute_result"
    },
    {
     "data": {
      "text/plain": [
       "Text(33.0, 0.5, 'Actual Values ')"
      ]
     },
     "execution_count": 47,
     "metadata": {},
     "output_type": "execute_result"
    },
    {
     "data": {
      "text/plain": [
       "[Text(0.5, 0, 'True'), Text(1.5, 0, 'False')]"
      ]
     },
     "execution_count": 47,
     "metadata": {},
     "output_type": "execute_result"
    },
    {
     "data": {
      "text/plain": [
       "[Text(0, 0.5, 'True'), Text(0, 1.5, 'False')]"
      ]
     },
     "execution_count": 47,
     "metadata": {},
     "output_type": "execute_result"
    },
    {
     "data": {
      "image/png": "[encoded data removed]",
      "text/plain": [
       "<Figure size 432x288 with 2 Axes>"
      ]
     },
     "metadata": {
      "needs_background": "light"
     },
     "output_type": "display_data"
    },
    {
     "name": "stdout",
     "output_type": "stream",
     "text": [
      "Precision:  0.5879155962757822\n",
      "Recall 0.5749136003252694\n"
     ]
    }
   ],
   "source": [
    "ax = sns.heatmap(cm_svm, annot=True, cmap='Blues')\n",
    "\n",
    "ax.set_title('Seaborn Confusion Matrix with labels\\n\\n');\n",
    "ax.set_xlabel('\\nPredicted Values')\n",
    "ax.set_ylabel('Actual Values ');\n",
    "\n",
    "## Ticket labels - List must be in alphabetical order\n",
    "ax.xaxis.set_ticklabels(['True','False'])\n",
    "ax.yaxis.set_ticklabels(['True','False'])\n",
    "\n",
    "## Display the visualization of the Confusion Matrix.\n",
    "plt.show()\n",
    "\n",
    "\n",
    "## FP,FN,TP,TN\n",
    "TP_svm = cm_svm[0][0]\n",
    "FN_svm = cm_svm[1][0]\n",
    "FP_svm = cm_svm[0][1]\n",
    "TN_svm = cm_svm[1][1]\n",
    "\n",
    "\n",
    "##Precision and Recall\n",
    "Precision_svm = TP_svm/(TP_svm+FP_svm)\n",
    "Recall_svm = TP_svm/(TP_svm+FN_svm)\n",
    "\n",
    "print (\"Precision: \",Precision_svm)\n",
    "print (\"Recall\",Recall_svm)"
   ]
  },
  {
   "cell_type": "markdown",
   "id": "efc637b5",
   "metadata": {},
   "source": [
    "# Comparison of Train Result"
   ]
  },
  {
   "cell_type": "code",
   "execution_count": 58,
   "id": "d4e4b5c0",
   "metadata": {},
   "outputs": [],
   "source": [
    "header_cmp = ['Algorithm','accuracy', 'recall', 'precision']\n",
    "table_cmp = [['Mahalanobis', train_acc_maha, Recall_maha, Precision_maha],\n",
    "             ['Maha + MCD', train_acc_maha_mcd, Recall_maha_mcd, Precision_maha_mcd],\n",
    "             ['IF', train_acc_if, Recall_if, Precision_if],\n",
    "             ['OCSVM', train_acc, Recall_svm, Precision_svm]]\n",
    "comparison = pd.DataFrame(table_cmp,columns=header_cmp)"
   ]
  },
  {
   "cell_type": "code",
   "execution_count": 59,
   "id": "b2f9d7ff",
   "metadata": {},
   "outputs": [
    {
     "data": {
      "text/html": [
       "<div>\n",
       "<style scoped>\n",
       "    .dataframe tbody tr th:only-of-type {\n",
       "        vertical-align: middle;\n",
       "    }\n",
       "\n",
       "    .dataframe tbody tr th {\n",
       "        vertical-align: top;\n",
       "    }\n",
       "\n",
       "    .dataframe thead th {\n",
       "        text-align: right;\n",
       "    }\n",
       "</style>\n",
       "<table border=\"1\" class=\"dataframe\">\n",
       "  <thead>\n",
       "    <tr style=\"text-align: right;\">\n",
       "      <th></th>\n",
       "      <th>Algorithm</th>\n",
       "      <th>accuracy</th>\n",
       "      <th>recall</th>\n",
       "      <th>precision</th>\n",
       "    </tr>\n",
       "  </thead>\n",
       "  <tbody>\n",
       "    <tr>\n",
       "      <th>0</th>\n",
       "      <td>Mahalanobis</td>\n",
       "      <td>0.560120</td>\n",
       "      <td>0.550564</td>\n",
       "      <td>0.964465</td>\n",
       "    </tr>\n",
       "    <tr>\n",
       "      <th>1</th>\n",
       "      <td>Maha + MCD</td>\n",
       "      <td>0.482476</td>\n",
       "      <td>0.515548</td>\n",
       "      <td>0.529068</td>\n",
       "    </tr>\n",
       "    <tr>\n",
       "      <th>2</th>\n",
       "      <td>IF</td>\n",
       "      <td>0.451668</td>\n",
       "      <td>0.345247</td>\n",
       "      <td>0.028689</td>\n",
       "    </tr>\n",
       "    <tr>\n",
       "      <th>3</th>\n",
       "      <td>OCSVM</td>\n",
       "      <td>0.547324</td>\n",
       "      <td>0.574914</td>\n",
       "      <td>0.587916</td>\n",
       "    </tr>\n",
       "  </tbody>\n",
       "</table>\n",
       "</div>"
      ],
      "text/plain": [
       "     Algorithm  accuracy    recall  precision\n",
       "0  Mahalanobis  0.560120  0.550564   0.964465\n",
       "1   Maha + MCD  0.482476  0.515548   0.529068\n",
       "2           IF  0.451668  0.345247   0.028689\n",
       "3        OCSVM  0.547324  0.574914   0.587916"
      ]
     },
     "execution_count": 59,
     "metadata": {},
     "output_type": "execute_result"
    }
   ],
   "source": [
    "comparison"
   ]
  },
  {
   "cell_type": "markdown",
   "id": "6cfce412",
   "metadata": {},
   "source": [
    "### Accuracy Increase from 0.1468 --> 0.4153"
   ]
  },
  {
   "cell_type": "markdown",
   "id": "89474c17",
   "metadata": {},
   "source": [
    "# Testing"
   ]
  }
 ],
 "metadata": {
  "kernelspec": {
   "display_name": "Python 3 (ipykernel)",
   "language": "python",
   "name": "python3"
  },
  "language_info": {
   "codemirror_mode": {
    "name": "ipython",
    "version": 3
   },
   "file_extension": ".py",
   "mimetype": "text/x-python",
   "name": "python",
   "nbconvert_exporter": "python",
   "pygments_lexer": "ipython3",
   "version": "3.10.10"
  }
 },
 "nbformat": 4,
 "nbformat_minor": 5
}
