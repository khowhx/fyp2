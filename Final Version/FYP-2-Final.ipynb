{
 "cells": [
  {
   "cell_type": "markdown",
   "id": "51687942",
   "metadata": {},
   "source": [
    "# Import Dataset"
   ]
  },
  {
   "cell_type": "code",
   "execution_count": 1,
   "id": "9212e32b",
   "metadata": {},
   "outputs": [
    {
     "name": "stdout",
     "output_type": "stream",
     "text": [
      "sys.version_info(major=3, minor=10, micro=11, releaselevel='final', serial=0)\n",
      "1.1.1\n"
     ]
    }
   ],
   "source": [
    "# To show the python version\n",
    "import sys\n",
    "assert sys.version_info >= (3,8)\n",
    "print(sys.version_info)\n",
    "\n",
    "# to show all the output from a code chunk\n",
    "from IPython.core.interactiveshell import InteractiveShell\n",
    "InteractiveShell.ast_node_interactivity = \"all\"\n",
    "\n",
    "# matplotlib for plotting\n",
    "from matplotlib import pyplot as plt\n",
    "%matplotlib inline\n",
    "\n",
    "# Other external libraries like pandas and numpy\n",
    "import pandas as pd\n",
    "import numpy as np\n",
    "np.random.seed(999)\n",
    "\n",
    "# machine learning models\n",
    "import sklearn\n",
    "print(sklearn.__version__)\n",
    "\n",
    "#import others\n",
    "from sklearn.metrics import confusion_matrix\n",
    "from sklearn import model_selection, datasets\n",
    "from sklearn.tree import DecisionTreeClassifier\n",
    "import joblib\n",
    "import pickle\n",
    "import seaborn as sns\n",
    "\n",
    "from sklearn.model_selection import RandomizedSearchCV\n",
    "from sklearn.model_selection import GridSearchCV"
   ]
  },
  {
   "cell_type": "code",
   "execution_count": 2,
   "id": "78673a3b",
   "metadata": {},
   "outputs": [],
   "source": [
    "from scipy.io import arff\n",
    "# Load the arff file\n",
    "header_info = arff.loadarff(\"Dataset/KDDTrain+.arff\")\n",
    "df = pd.DataFrame(header_info[0])\n",
    "header_names = df.columns.values.tolist()\n",
    "header_names.append('Difficulty')\n",
    "kdd_train = pd.read_csv('Dataset/KDDTrain+.txt', delimiter = ',', header = None)"
   ]
  },
  {
   "cell_type": "code",
   "execution_count": 3,
   "id": "91efb542",
   "metadata": {},
   "outputs": [],
   "source": [
    "#Rename the headers\n",
    "kdd_train.columns = header_names\n",
    "#Drop the target variables\n",
    "kdd_train_x = kdd_train.drop(['class', 'Difficulty'], axis = 1)"
   ]
  },
  {
   "cell_type": "code",
   "execution_count": 4,
   "id": "9926aad3",
   "metadata": {},
   "outputs": [
    {
     "name": "stderr",
     "output_type": "stream",
     "text": [
      "C:\\WINDOWS\\system32\\myenv\\lib\\site-packages\\numpy\\core\\fromnumeric.py:3571: FutureWarning: Dropping of nuisance columns in DataFrame reductions (with 'numeric_only=None') is deprecated; in a future version this will raise TypeError.  Select only valid columns before calling the reduction.\n",
      "  return std(axis=axis, dtype=dtype, out=out, ddof=ddof, **kwargs)\n"
     ]
    },
    {
     "data": {
      "text/plain": [
       "duration                       2.604505e+03\n",
       "src_bytes                      5.870308e+06\n",
       "dst_bytes                      4.021253e+06\n",
       "land                           1.408602e-02\n",
       "wrong_fragment                 2.535290e-01\n",
       "urgent                         1.436597e-02\n",
       "hot                            2.149960e+00\n",
       "num_failed_logins              4.523896e-02\n",
       "logged_in                      4.890081e-01\n",
       "num_compromised                2.394195e+01\n",
       "root_shell                     3.660270e-02\n",
       "su_attempted                   4.515420e-02\n",
       "num_root                       2.439952e+01\n",
       "num_file_creations             4.839331e-01\n",
       "num_shells                     2.218104e-02\n",
       "num_access_files               9.936916e-02\n",
       "num_outbound_cmds              0.000000e+00\n",
       "is_host_login                  2.817472e-03\n",
       "is_guest_login                 9.661194e-02\n",
       "count                          1.145082e+02\n",
       "srv_count                      7.263555e+01\n",
       "serror_rate                    4.464539e-01\n",
       "srv_serror_rate                4.470207e-01\n",
       "rerror_rate                    3.204342e-01\n",
       "srv_rerror_rate                3.236459e-01\n",
       "same_srv_rate                  4.396211e-01\n",
       "diff_srv_rate                  1.803137e-01\n",
       "srv_diff_host_rate             2.598295e-01\n",
       "dst_host_count                 9.920582e+01\n",
       "dst_host_srv_count             1.107023e+02\n",
       "dst_host_same_srv_rate         4.489476e-01\n",
       "dst_host_diff_srv_rate         1.889211e-01\n",
       "dst_host_same_src_port_rate    3.089959e-01\n",
       "dst_host_srv_diff_host_rate    1.125634e-01\n",
       "dst_host_serror_rate           4.447823e-01\n",
       "dst_host_srv_serror_rate       4.456674e-01\n",
       "dst_host_rerror_rate           3.065562e-01\n",
       "dst_host_srv_rerror_rate       3.194581e-01\n",
       "dtype: float64"
      ]
     },
     "execution_count": 4,
     "metadata": {},
     "output_type": "execute_result"
    }
   ],
   "source": [
    "np.std(kdd_train_x)"
   ]
  },
  {
   "cell_type": "code",
   "execution_count": 5,
   "id": "316e9ca6",
   "metadata": {},
   "outputs": [
    {
     "data": {
      "text/plain": [
       "(125973, 121)"
      ]
     },
     "execution_count": 5,
     "metadata": {},
     "output_type": "execute_result"
    }
   ],
   "source": [
    "#num_outbound_cmds is zero variance descriptor, hence remove it\n",
    "kdd_train_x = kdd_train_x.drop(['num_outbound_cmds'],axis =1)\n",
    "y = ['class']\n",
    "kdd_train_y = kdd_train[y]\n",
    "\n",
    "#Identify categorical features\n",
    "num_cols = kdd_train_x._get_numeric_data().columns\n",
    "cate_cols = list(set(kdd_train_x.columns) - set(num_cols))\n",
    "\n",
    "from sklearn.preprocessing import StandardScaler\n",
    "std = StandardScaler()\n",
    "\n",
    "#One-Hot Encoding the categorical features\n",
    "cate_features = pd.get_dummies(kdd_train_x[cate_cols], prefix = cate_cols)\n",
    "one_hot_data = kdd_train_x.drop(cate_cols, axis = 1)\n",
    "#Standard Scaler on numeric data\n",
    "std_fit = std.fit(one_hot_data)\n",
    "array_ss = std_fit.transform(one_hot_data)\n",
    "one_hot_data_c = pd.DataFrame(array_ss,columns=[num_cols])\n",
    "one_hot_data_ss = pd.concat([one_hot_data_c, cate_features], axis = 1)\n",
    "data_array_ss = np.array(one_hot_data_ss)\n",
    "data_array_ss.shape    # Make sure that the Numpy array dimension is consistent with the Pandas Dataframe\n",
    "# function to calculate mahalanobis distance"
   ]
  },
  {
   "cell_type": "code",
   "execution_count": 6,
   "id": "3d3ccbc6",
   "metadata": {},
   "outputs": [
    {
     "name": "stdout",
     "output_type": "stream",
     "text": [
      "<class 'pandas.core.frame.DataFrame'>\n",
      "RangeIndex: 125973 entries, 0 to 125972\n",
      "Data columns (total 43 columns):\n",
      " #   Column                       Non-Null Count   Dtype  \n",
      "---  ------                       --------------   -----  \n",
      " 0   duration                     125973 non-null  int64  \n",
      " 1   protocol_type                125973 non-null  object \n",
      " 2   service                      125973 non-null  object \n",
      " 3   flag                         125973 non-null  object \n",
      " 4   src_bytes                    125973 non-null  int64  \n",
      " 5   dst_bytes                    125973 non-null  int64  \n",
      " 6   land                         125973 non-null  int64  \n",
      " 7   wrong_fragment               125973 non-null  int64  \n",
      " 8   urgent                       125973 non-null  int64  \n",
      " 9   hot                          125973 non-null  int64  \n",
      " 10  num_failed_logins            125973 non-null  int64  \n",
      " 11  logged_in                    125973 non-null  int64  \n",
      " 12  num_compromised              125973 non-null  int64  \n",
      " 13  root_shell                   125973 non-null  int64  \n",
      " 14  su_attempted                 125973 non-null  int64  \n",
      " 15  num_root                     125973 non-null  int64  \n",
      " 16  num_file_creations           125973 non-null  int64  \n",
      " 17  num_shells                   125973 non-null  int64  \n",
      " 18  num_access_files             125973 non-null  int64  \n",
      " 19  num_outbound_cmds            125973 non-null  int64  \n",
      " 20  is_host_login                125973 non-null  int64  \n",
      " 21  is_guest_login               125973 non-null  int64  \n",
      " 22  count                        125973 non-null  int64  \n",
      " 23  srv_count                    125973 non-null  int64  \n",
      " 24  serror_rate                  125973 non-null  float64\n",
      " 25  srv_serror_rate              125973 non-null  float64\n",
      " 26  rerror_rate                  125973 non-null  float64\n",
      " 27  srv_rerror_rate              125973 non-null  float64\n",
      " 28  same_srv_rate                125973 non-null  float64\n",
      " 29  diff_srv_rate                125973 non-null  float64\n",
      " 30  srv_diff_host_rate           125973 non-null  float64\n",
      " 31  dst_host_count               125973 non-null  int64  \n",
      " 32  dst_host_srv_count           125973 non-null  int64  \n",
      " 33  dst_host_same_srv_rate       125973 non-null  float64\n",
      " 34  dst_host_diff_srv_rate       125973 non-null  float64\n",
      " 35  dst_host_same_src_port_rate  125973 non-null  float64\n",
      " 36  dst_host_srv_diff_host_rate  125973 non-null  float64\n",
      " 37  dst_host_serror_rate         125973 non-null  float64\n",
      " 38  dst_host_srv_serror_rate     125973 non-null  float64\n",
      " 39  dst_host_rerror_rate         125973 non-null  float64\n",
      " 40  dst_host_srv_rerror_rate     125973 non-null  float64\n",
      " 41  class                        125973 non-null  object \n",
      " 42  Difficulty                   125973 non-null  int64  \n",
      "dtypes: float64(15), int64(24), object(4)\n",
      "memory usage: 41.3+ MB\n"
     ]
    }
   ],
   "source": [
    "kdd_train.info()"
   ]
  },
  {
   "cell_type": "code",
   "execution_count": 7,
   "id": "e22a9270",
   "metadata": {},
   "outputs": [
    {
     "data": {
      "text/html": [
       "<div>\n",
       "<style scoped>\n",
       "    .dataframe tbody tr th:only-of-type {\n",
       "        vertical-align: middle;\n",
       "    }\n",
       "\n",
       "    .dataframe tbody tr th {\n",
       "        vertical-align: top;\n",
       "    }\n",
       "\n",
       "    .dataframe thead tr th {\n",
       "        text-align: left;\n",
       "    }\n",
       "</style>\n",
       "<table border=\"1\" class=\"dataframe\">\n",
       "  <thead>\n",
       "    <tr>\n",
       "      <th></th>\n",
       "      <th>duration</th>\n",
       "      <th>src_bytes</th>\n",
       "      <th>dst_bytes</th>\n",
       "      <th>land</th>\n",
       "      <th>wrong_fragment</th>\n",
       "      <th>urgent</th>\n",
       "      <th>hot</th>\n",
       "      <th>num_failed_logins</th>\n",
       "      <th>logged_in</th>\n",
       "      <th>num_compromised</th>\n",
       "      <th>...</th>\n",
       "      <th>dst_host_count</th>\n",
       "      <th>dst_host_srv_count</th>\n",
       "      <th>dst_host_same_srv_rate</th>\n",
       "      <th>dst_host_diff_srv_rate</th>\n",
       "      <th>dst_host_same_src_port_rate</th>\n",
       "      <th>dst_host_srv_diff_host_rate</th>\n",
       "      <th>dst_host_serror_rate</th>\n",
       "      <th>dst_host_srv_serror_rate</th>\n",
       "      <th>dst_host_rerror_rate</th>\n",
       "      <th>dst_host_srv_rerror_rate</th>\n",
       "    </tr>\n",
       "  </thead>\n",
       "  <tbody>\n",
       "    <tr>\n",
       "      <th>0</th>\n",
       "      <td>-0.110249</td>\n",
       "      <td>-0.007679</td>\n",
       "      <td>-0.004919</td>\n",
       "      <td>-0.014089</td>\n",
       "      <td>-0.089486</td>\n",
       "      <td>-0.007736</td>\n",
       "      <td>-0.095076</td>\n",
       "      <td>-0.027023</td>\n",
       "      <td>-0.809262</td>\n",
       "      <td>-0.011664</td>\n",
       "      <td>...</td>\n",
       "      <td>-0.324063</td>\n",
       "      <td>-0.818890</td>\n",
       "      <td>-0.782367</td>\n",
       "      <td>-0.280282</td>\n",
       "      <td>0.069972</td>\n",
       "      <td>-0.289103</td>\n",
       "      <td>-0.639532</td>\n",
       "      <td>-0.624871</td>\n",
       "      <td>-0.224532</td>\n",
       "      <td>-0.376387</td>\n",
       "    </tr>\n",
       "    <tr>\n",
       "      <th>1</th>\n",
       "      <td>-0.110249</td>\n",
       "      <td>-0.007737</td>\n",
       "      <td>-0.004919</td>\n",
       "      <td>-0.014089</td>\n",
       "      <td>-0.089486</td>\n",
       "      <td>-0.007736</td>\n",
       "      <td>-0.095076</td>\n",
       "      <td>-0.027023</td>\n",
       "      <td>-0.809262</td>\n",
       "      <td>-0.011664</td>\n",
       "      <td>...</td>\n",
       "      <td>0.734343</td>\n",
       "      <td>-1.035688</td>\n",
       "      <td>-1.161030</td>\n",
       "      <td>2.736852</td>\n",
       "      <td>2.367737</td>\n",
       "      <td>-0.289103</td>\n",
       "      <td>-0.639532</td>\n",
       "      <td>-0.624871</td>\n",
       "      <td>-0.387635</td>\n",
       "      <td>-0.376387</td>\n",
       "    </tr>\n",
       "    <tr>\n",
       "      <th>2</th>\n",
       "      <td>-0.110249</td>\n",
       "      <td>-0.007762</td>\n",
       "      <td>-0.004919</td>\n",
       "      <td>-0.014089</td>\n",
       "      <td>-0.089486</td>\n",
       "      <td>-0.007736</td>\n",
       "      <td>-0.095076</td>\n",
       "      <td>-0.027023</td>\n",
       "      <td>-0.809262</td>\n",
       "      <td>-0.011664</td>\n",
       "      <td>...</td>\n",
       "      <td>0.734343</td>\n",
       "      <td>-0.809857</td>\n",
       "      <td>-0.938287</td>\n",
       "      <td>-0.174417</td>\n",
       "      <td>-0.480197</td>\n",
       "      <td>-0.289103</td>\n",
       "      <td>1.608759</td>\n",
       "      <td>1.618955</td>\n",
       "      <td>-0.387635</td>\n",
       "      <td>-0.376387</td>\n",
       "    </tr>\n",
       "    <tr>\n",
       "      <th>3</th>\n",
       "      <td>-0.110249</td>\n",
       "      <td>-0.007723</td>\n",
       "      <td>-0.002891</td>\n",
       "      <td>-0.014089</td>\n",
       "      <td>-0.089486</td>\n",
       "      <td>-0.007736</td>\n",
       "      <td>-0.095076</td>\n",
       "      <td>-0.027023</td>\n",
       "      <td>1.235694</td>\n",
       "      <td>-0.011664</td>\n",
       "      <td>...</td>\n",
       "      <td>-1.533670</td>\n",
       "      <td>1.258754</td>\n",
       "      <td>1.066401</td>\n",
       "      <td>-0.439078</td>\n",
       "      <td>-0.383108</td>\n",
       "      <td>0.066252</td>\n",
       "      <td>-0.572083</td>\n",
       "      <td>-0.602433</td>\n",
       "      <td>-0.387635</td>\n",
       "      <td>-0.345084</td>\n",
       "    </tr>\n",
       "    <tr>\n",
       "      <th>4</th>\n",
       "      <td>-0.110249</td>\n",
       "      <td>-0.007728</td>\n",
       "      <td>-0.004814</td>\n",
       "      <td>-0.014089</td>\n",
       "      <td>-0.089486</td>\n",
       "      <td>-0.007736</td>\n",
       "      <td>-0.095076</td>\n",
       "      <td>-0.027023</td>\n",
       "      <td>1.235694</td>\n",
       "      <td>-0.011664</td>\n",
       "      <td>...</td>\n",
       "      <td>0.734343</td>\n",
       "      <td>1.258754</td>\n",
       "      <td>1.066401</td>\n",
       "      <td>-0.439078</td>\n",
       "      <td>-0.480197</td>\n",
       "      <td>-0.289103</td>\n",
       "      <td>-0.639532</td>\n",
       "      <td>-0.624871</td>\n",
       "      <td>-0.387635</td>\n",
       "      <td>-0.376387</td>\n",
       "    </tr>\n",
       "    <tr>\n",
       "      <th>...</th>\n",
       "      <td>...</td>\n",
       "      <td>...</td>\n",
       "      <td>...</td>\n",
       "      <td>...</td>\n",
       "      <td>...</td>\n",
       "      <td>...</td>\n",
       "      <td>...</td>\n",
       "      <td>...</td>\n",
       "      <td>...</td>\n",
       "      <td>...</td>\n",
       "      <td>...</td>\n",
       "      <td>...</td>\n",
       "      <td>...</td>\n",
       "      <td>...</td>\n",
       "      <td>...</td>\n",
       "      <td>...</td>\n",
       "      <td>...</td>\n",
       "      <td>...</td>\n",
       "      <td>...</td>\n",
       "      <td>...</td>\n",
       "      <td>...</td>\n",
       "    </tr>\n",
       "    <tr>\n",
       "      <th>125968</th>\n",
       "      <td>-0.110249</td>\n",
       "      <td>-0.007762</td>\n",
       "      <td>-0.004919</td>\n",
       "      <td>-0.014089</td>\n",
       "      <td>-0.089486</td>\n",
       "      <td>-0.007736</td>\n",
       "      <td>-0.095076</td>\n",
       "      <td>-0.027023</td>\n",
       "      <td>-0.809262</td>\n",
       "      <td>-0.011664</td>\n",
       "      <td>...</td>\n",
       "      <td>0.734343</td>\n",
       "      <td>-0.818890</td>\n",
       "      <td>-0.938287</td>\n",
       "      <td>-0.121485</td>\n",
       "      <td>-0.480197</td>\n",
       "      <td>-0.289103</td>\n",
       "      <td>1.608759</td>\n",
       "      <td>1.618955</td>\n",
       "      <td>-0.387635</td>\n",
       "      <td>-0.376387</td>\n",
       "    </tr>\n",
       "    <tr>\n",
       "      <th>125969</th>\n",
       "      <td>-0.107178</td>\n",
       "      <td>-0.007744</td>\n",
       "      <td>-0.004883</td>\n",
       "      <td>-0.014089</td>\n",
       "      <td>-0.089486</td>\n",
       "      <td>-0.007736</td>\n",
       "      <td>-0.095076</td>\n",
       "      <td>-0.027023</td>\n",
       "      <td>-0.809262</td>\n",
       "      <td>-0.011664</td>\n",
       "      <td>...</td>\n",
       "      <td>0.734343</td>\n",
       "      <td>1.159389</td>\n",
       "      <td>0.977304</td>\n",
       "      <td>-0.386146</td>\n",
       "      <td>-0.447834</td>\n",
       "      <td>-0.289103</td>\n",
       "      <td>-0.639532</td>\n",
       "      <td>-0.624871</td>\n",
       "      <td>-0.387635</td>\n",
       "      <td>-0.376387</td>\n",
       "    </tr>\n",
       "    <tr>\n",
       "      <th>125970</th>\n",
       "      <td>-0.110249</td>\n",
       "      <td>-0.007382</td>\n",
       "      <td>-0.004823</td>\n",
       "      <td>-0.014089</td>\n",
       "      <td>-0.089486</td>\n",
       "      <td>-0.007736</td>\n",
       "      <td>-0.095076</td>\n",
       "      <td>-0.027023</td>\n",
       "      <td>1.235694</td>\n",
       "      <td>-0.011664</td>\n",
       "      <td>...</td>\n",
       "      <td>0.734343</td>\n",
       "      <td>-0.773724</td>\n",
       "      <td>-0.893738</td>\n",
       "      <td>-0.121485</td>\n",
       "      <td>-0.480197</td>\n",
       "      <td>-0.289103</td>\n",
       "      <td>0.979238</td>\n",
       "      <td>-0.624871</td>\n",
       "      <td>-0.355014</td>\n",
       "      <td>-0.376387</td>\n",
       "    </tr>\n",
       "    <tr>\n",
       "      <th>125971</th>\n",
       "      <td>-0.110249</td>\n",
       "      <td>-0.007762</td>\n",
       "      <td>-0.004919</td>\n",
       "      <td>-0.014089</td>\n",
       "      <td>-0.089486</td>\n",
       "      <td>-0.007736</td>\n",
       "      <td>-0.095076</td>\n",
       "      <td>-0.027023</td>\n",
       "      <td>-0.809262</td>\n",
       "      <td>-0.011664</td>\n",
       "      <td>...</td>\n",
       "      <td>0.734343</td>\n",
       "      <td>-0.972455</td>\n",
       "      <td>-1.094207</td>\n",
       "      <td>-0.174417</td>\n",
       "      <td>-0.480197</td>\n",
       "      <td>-0.289103</td>\n",
       "      <td>1.608759</td>\n",
       "      <td>1.618955</td>\n",
       "      <td>-0.387635</td>\n",
       "      <td>-0.376387</td>\n",
       "    </tr>\n",
       "    <tr>\n",
       "      <th>125972</th>\n",
       "      <td>-0.110249</td>\n",
       "      <td>-0.007737</td>\n",
       "      <td>-0.004919</td>\n",
       "      <td>-0.014089</td>\n",
       "      <td>-0.089486</td>\n",
       "      <td>-0.007736</td>\n",
       "      <td>-0.095076</td>\n",
       "      <td>-0.027023</td>\n",
       "      <td>1.235694</td>\n",
       "      <td>-0.011664</td>\n",
       "      <td>...</td>\n",
       "      <td>0.734343</td>\n",
       "      <td>-0.349162</td>\n",
       "      <td>-0.492801</td>\n",
       "      <td>-0.280282</td>\n",
       "      <td>0.490690</td>\n",
       "      <td>-0.289103</td>\n",
       "      <td>-0.639532</td>\n",
       "      <td>-0.624871</td>\n",
       "      <td>-0.387635</td>\n",
       "      <td>-0.376387</td>\n",
       "    </tr>\n",
       "  </tbody>\n",
       "</table>\n",
       "<p>125973 rows × 37 columns</p>\n",
       "</div>"
      ],
      "text/plain": [
       "        duration src_bytes dst_bytes      land wrong_fragment    urgent  \\\n",
       "0      -0.110249 -0.007679 -0.004919 -0.014089      -0.089486 -0.007736   \n",
       "1      -0.110249 -0.007737 -0.004919 -0.014089      -0.089486 -0.007736   \n",
       "2      -0.110249 -0.007762 -0.004919 -0.014089      -0.089486 -0.007736   \n",
       "3      -0.110249 -0.007723 -0.002891 -0.014089      -0.089486 -0.007736   \n",
       "4      -0.110249 -0.007728 -0.004814 -0.014089      -0.089486 -0.007736   \n",
       "...          ...       ...       ...       ...            ...       ...   \n",
       "125968 -0.110249 -0.007762 -0.004919 -0.014089      -0.089486 -0.007736   \n",
       "125969 -0.107178 -0.007744 -0.004883 -0.014089      -0.089486 -0.007736   \n",
       "125970 -0.110249 -0.007382 -0.004823 -0.014089      -0.089486 -0.007736   \n",
       "125971 -0.110249 -0.007762 -0.004919 -0.014089      -0.089486 -0.007736   \n",
       "125972 -0.110249 -0.007737 -0.004919 -0.014089      -0.089486 -0.007736   \n",
       "\n",
       "             hot num_failed_logins logged_in num_compromised  ...  \\\n",
       "0      -0.095076         -0.027023 -0.809262       -0.011664  ...   \n",
       "1      -0.095076         -0.027023 -0.809262       -0.011664  ...   \n",
       "2      -0.095076         -0.027023 -0.809262       -0.011664  ...   \n",
       "3      -0.095076         -0.027023  1.235694       -0.011664  ...   \n",
       "4      -0.095076         -0.027023  1.235694       -0.011664  ...   \n",
       "...          ...               ...       ...             ...  ...   \n",
       "125968 -0.095076         -0.027023 -0.809262       -0.011664  ...   \n",
       "125969 -0.095076         -0.027023 -0.809262       -0.011664  ...   \n",
       "125970 -0.095076         -0.027023  1.235694       -0.011664  ...   \n",
       "125971 -0.095076         -0.027023 -0.809262       -0.011664  ...   \n",
       "125972 -0.095076         -0.027023  1.235694       -0.011664  ...   \n",
       "\n",
       "       dst_host_count dst_host_srv_count dst_host_same_srv_rate  \\\n",
       "0           -0.324063          -0.818890              -0.782367   \n",
       "1            0.734343          -1.035688              -1.161030   \n",
       "2            0.734343          -0.809857              -0.938287   \n",
       "3           -1.533670           1.258754               1.066401   \n",
       "4            0.734343           1.258754               1.066401   \n",
       "...               ...                ...                    ...   \n",
       "125968       0.734343          -0.818890              -0.938287   \n",
       "125969       0.734343           1.159389               0.977304   \n",
       "125970       0.734343          -0.773724              -0.893738   \n",
       "125971       0.734343          -0.972455              -1.094207   \n",
       "125972       0.734343          -0.349162              -0.492801   \n",
       "\n",
       "       dst_host_diff_srv_rate dst_host_same_src_port_rate  \\\n",
       "0                   -0.280282                    0.069972   \n",
       "1                    2.736852                    2.367737   \n",
       "2                   -0.174417                   -0.480197   \n",
       "3                   -0.439078                   -0.383108   \n",
       "4                   -0.439078                   -0.480197   \n",
       "...                       ...                         ...   \n",
       "125968              -0.121485                   -0.480197   \n",
       "125969              -0.386146                   -0.447834   \n",
       "125970              -0.121485                   -0.480197   \n",
       "125971              -0.174417                   -0.480197   \n",
       "125972              -0.280282                    0.490690   \n",
       "\n",
       "       dst_host_srv_diff_host_rate dst_host_serror_rate  \\\n",
       "0                        -0.289103            -0.639532   \n",
       "1                        -0.289103            -0.639532   \n",
       "2                        -0.289103             1.608759   \n",
       "3                         0.066252            -0.572083   \n",
       "4                        -0.289103            -0.639532   \n",
       "...                            ...                  ...   \n",
       "125968                   -0.289103             1.608759   \n",
       "125969                   -0.289103            -0.639532   \n",
       "125970                   -0.289103             0.979238   \n",
       "125971                   -0.289103             1.608759   \n",
       "125972                   -0.289103            -0.639532   \n",
       "\n",
       "       dst_host_srv_serror_rate dst_host_rerror_rate dst_host_srv_rerror_rate  \n",
       "0                     -0.624871            -0.224532                -0.376387  \n",
       "1                     -0.624871            -0.387635                -0.376387  \n",
       "2                      1.618955            -0.387635                -0.376387  \n",
       "3                     -0.602433            -0.387635                -0.345084  \n",
       "4                     -0.624871            -0.387635                -0.376387  \n",
       "...                         ...                  ...                      ...  \n",
       "125968                 1.618955            -0.387635                -0.376387  \n",
       "125969                -0.624871            -0.387635                -0.376387  \n",
       "125970                -0.624871            -0.355014                -0.376387  \n",
       "125971                 1.618955            -0.387635                -0.376387  \n",
       "125972                -0.624871            -0.387635                -0.376387  \n",
       "\n",
       "[125973 rows x 37 columns]"
      ]
     },
     "execution_count": 7,
     "metadata": {},
     "output_type": "execute_result"
    }
   ],
   "source": [
    "one_hot_data_c"
   ]
  },
  {
   "cell_type": "code",
   "execution_count": 8,
   "id": "68af4cf1",
   "metadata": {},
   "outputs": [
    {
     "data": {
      "text/html": [
       "<div>\n",
       "<style scoped>\n",
       "    .dataframe tbody tr th:only-of-type {\n",
       "        vertical-align: middle;\n",
       "    }\n",
       "\n",
       "    .dataframe tbody tr th {\n",
       "        vertical-align: top;\n",
       "    }\n",
       "\n",
       "    .dataframe thead th {\n",
       "        text-align: right;\n",
       "    }\n",
       "</style>\n",
       "<table border=\"1\" class=\"dataframe\">\n",
       "  <thead>\n",
       "    <tr style=\"text-align: right;\">\n",
       "      <th></th>\n",
       "      <th>(duration,)</th>\n",
       "      <th>(src_bytes,)</th>\n",
       "      <th>(dst_bytes,)</th>\n",
       "      <th>(land,)</th>\n",
       "      <th>(wrong_fragment,)</th>\n",
       "      <th>(urgent,)</th>\n",
       "      <th>(hot,)</th>\n",
       "      <th>(num_failed_logins,)</th>\n",
       "      <th>(logged_in,)</th>\n",
       "      <th>(num_compromised,)</th>\n",
       "      <th>...</th>\n",
       "      <th>service_telnet</th>\n",
       "      <th>service_tftp_u</th>\n",
       "      <th>service_tim_i</th>\n",
       "      <th>service_time</th>\n",
       "      <th>service_urh_i</th>\n",
       "      <th>service_urp_i</th>\n",
       "      <th>service_uucp</th>\n",
       "      <th>service_uucp_path</th>\n",
       "      <th>service_vmnet</th>\n",
       "      <th>service_whois</th>\n",
       "    </tr>\n",
       "  </thead>\n",
       "  <tbody>\n",
       "    <tr>\n",
       "      <th>0</th>\n",
       "      <td>-0.110249</td>\n",
       "      <td>-0.007679</td>\n",
       "      <td>-0.004919</td>\n",
       "      <td>-0.014089</td>\n",
       "      <td>-0.089486</td>\n",
       "      <td>-0.007736</td>\n",
       "      <td>-0.095076</td>\n",
       "      <td>-0.027023</td>\n",
       "      <td>-0.809262</td>\n",
       "      <td>-0.011664</td>\n",
       "      <td>...</td>\n",
       "      <td>0</td>\n",
       "      <td>0</td>\n",
       "      <td>0</td>\n",
       "      <td>0</td>\n",
       "      <td>0</td>\n",
       "      <td>0</td>\n",
       "      <td>0</td>\n",
       "      <td>0</td>\n",
       "      <td>0</td>\n",
       "      <td>0</td>\n",
       "    </tr>\n",
       "    <tr>\n",
       "      <th>1</th>\n",
       "      <td>-0.110249</td>\n",
       "      <td>-0.007737</td>\n",
       "      <td>-0.004919</td>\n",
       "      <td>-0.014089</td>\n",
       "      <td>-0.089486</td>\n",
       "      <td>-0.007736</td>\n",
       "      <td>-0.095076</td>\n",
       "      <td>-0.027023</td>\n",
       "      <td>-0.809262</td>\n",
       "      <td>-0.011664</td>\n",
       "      <td>...</td>\n",
       "      <td>0</td>\n",
       "      <td>0</td>\n",
       "      <td>0</td>\n",
       "      <td>0</td>\n",
       "      <td>0</td>\n",
       "      <td>0</td>\n",
       "      <td>0</td>\n",
       "      <td>0</td>\n",
       "      <td>0</td>\n",
       "      <td>0</td>\n",
       "    </tr>\n",
       "    <tr>\n",
       "      <th>2</th>\n",
       "      <td>-0.110249</td>\n",
       "      <td>-0.007762</td>\n",
       "      <td>-0.004919</td>\n",
       "      <td>-0.014089</td>\n",
       "      <td>-0.089486</td>\n",
       "      <td>-0.007736</td>\n",
       "      <td>-0.095076</td>\n",
       "      <td>-0.027023</td>\n",
       "      <td>-0.809262</td>\n",
       "      <td>-0.011664</td>\n",
       "      <td>...</td>\n",
       "      <td>0</td>\n",
       "      <td>0</td>\n",
       "      <td>0</td>\n",
       "      <td>0</td>\n",
       "      <td>0</td>\n",
       "      <td>0</td>\n",
       "      <td>0</td>\n",
       "      <td>0</td>\n",
       "      <td>0</td>\n",
       "      <td>0</td>\n",
       "    </tr>\n",
       "    <tr>\n",
       "      <th>3</th>\n",
       "      <td>-0.110249</td>\n",
       "      <td>-0.007723</td>\n",
       "      <td>-0.002891</td>\n",
       "      <td>-0.014089</td>\n",
       "      <td>-0.089486</td>\n",
       "      <td>-0.007736</td>\n",
       "      <td>-0.095076</td>\n",
       "      <td>-0.027023</td>\n",
       "      <td>1.235694</td>\n",
       "      <td>-0.011664</td>\n",
       "      <td>...</td>\n",
       "      <td>0</td>\n",
       "      <td>0</td>\n",
       "      <td>0</td>\n",
       "      <td>0</td>\n",
       "      <td>0</td>\n",
       "      <td>0</td>\n",
       "      <td>0</td>\n",
       "      <td>0</td>\n",
       "      <td>0</td>\n",
       "      <td>0</td>\n",
       "    </tr>\n",
       "    <tr>\n",
       "      <th>4</th>\n",
       "      <td>-0.110249</td>\n",
       "      <td>-0.007728</td>\n",
       "      <td>-0.004814</td>\n",
       "      <td>-0.014089</td>\n",
       "      <td>-0.089486</td>\n",
       "      <td>-0.007736</td>\n",
       "      <td>-0.095076</td>\n",
       "      <td>-0.027023</td>\n",
       "      <td>1.235694</td>\n",
       "      <td>-0.011664</td>\n",
       "      <td>...</td>\n",
       "      <td>0</td>\n",
       "      <td>0</td>\n",
       "      <td>0</td>\n",
       "      <td>0</td>\n",
       "      <td>0</td>\n",
       "      <td>0</td>\n",
       "      <td>0</td>\n",
       "      <td>0</td>\n",
       "      <td>0</td>\n",
       "      <td>0</td>\n",
       "    </tr>\n",
       "    <tr>\n",
       "      <th>...</th>\n",
       "      <td>...</td>\n",
       "      <td>...</td>\n",
       "      <td>...</td>\n",
       "      <td>...</td>\n",
       "      <td>...</td>\n",
       "      <td>...</td>\n",
       "      <td>...</td>\n",
       "      <td>...</td>\n",
       "      <td>...</td>\n",
       "      <td>...</td>\n",
       "      <td>...</td>\n",
       "      <td>...</td>\n",
       "      <td>...</td>\n",
       "      <td>...</td>\n",
       "      <td>...</td>\n",
       "      <td>...</td>\n",
       "      <td>...</td>\n",
       "      <td>...</td>\n",
       "      <td>...</td>\n",
       "      <td>...</td>\n",
       "      <td>...</td>\n",
       "    </tr>\n",
       "    <tr>\n",
       "      <th>125968</th>\n",
       "      <td>-0.110249</td>\n",
       "      <td>-0.007762</td>\n",
       "      <td>-0.004919</td>\n",
       "      <td>-0.014089</td>\n",
       "      <td>-0.089486</td>\n",
       "      <td>-0.007736</td>\n",
       "      <td>-0.095076</td>\n",
       "      <td>-0.027023</td>\n",
       "      <td>-0.809262</td>\n",
       "      <td>-0.011664</td>\n",
       "      <td>...</td>\n",
       "      <td>0</td>\n",
       "      <td>0</td>\n",
       "      <td>0</td>\n",
       "      <td>0</td>\n",
       "      <td>0</td>\n",
       "      <td>0</td>\n",
       "      <td>0</td>\n",
       "      <td>0</td>\n",
       "      <td>0</td>\n",
       "      <td>0</td>\n",
       "    </tr>\n",
       "    <tr>\n",
       "      <th>125969</th>\n",
       "      <td>-0.107178</td>\n",
       "      <td>-0.007744</td>\n",
       "      <td>-0.004883</td>\n",
       "      <td>-0.014089</td>\n",
       "      <td>-0.089486</td>\n",
       "      <td>-0.007736</td>\n",
       "      <td>-0.095076</td>\n",
       "      <td>-0.027023</td>\n",
       "      <td>-0.809262</td>\n",
       "      <td>-0.011664</td>\n",
       "      <td>...</td>\n",
       "      <td>0</td>\n",
       "      <td>0</td>\n",
       "      <td>0</td>\n",
       "      <td>0</td>\n",
       "      <td>0</td>\n",
       "      <td>0</td>\n",
       "      <td>0</td>\n",
       "      <td>0</td>\n",
       "      <td>0</td>\n",
       "      <td>0</td>\n",
       "    </tr>\n",
       "    <tr>\n",
       "      <th>125970</th>\n",
       "      <td>-0.110249</td>\n",
       "      <td>-0.007382</td>\n",
       "      <td>-0.004823</td>\n",
       "      <td>-0.014089</td>\n",
       "      <td>-0.089486</td>\n",
       "      <td>-0.007736</td>\n",
       "      <td>-0.095076</td>\n",
       "      <td>-0.027023</td>\n",
       "      <td>1.235694</td>\n",
       "      <td>-0.011664</td>\n",
       "      <td>...</td>\n",
       "      <td>0</td>\n",
       "      <td>0</td>\n",
       "      <td>0</td>\n",
       "      <td>0</td>\n",
       "      <td>0</td>\n",
       "      <td>0</td>\n",
       "      <td>0</td>\n",
       "      <td>0</td>\n",
       "      <td>0</td>\n",
       "      <td>0</td>\n",
       "    </tr>\n",
       "    <tr>\n",
       "      <th>125971</th>\n",
       "      <td>-0.110249</td>\n",
       "      <td>-0.007762</td>\n",
       "      <td>-0.004919</td>\n",
       "      <td>-0.014089</td>\n",
       "      <td>-0.089486</td>\n",
       "      <td>-0.007736</td>\n",
       "      <td>-0.095076</td>\n",
       "      <td>-0.027023</td>\n",
       "      <td>-0.809262</td>\n",
       "      <td>-0.011664</td>\n",
       "      <td>...</td>\n",
       "      <td>0</td>\n",
       "      <td>0</td>\n",
       "      <td>0</td>\n",
       "      <td>0</td>\n",
       "      <td>0</td>\n",
       "      <td>0</td>\n",
       "      <td>0</td>\n",
       "      <td>0</td>\n",
       "      <td>0</td>\n",
       "      <td>0</td>\n",
       "    </tr>\n",
       "    <tr>\n",
       "      <th>125972</th>\n",
       "      <td>-0.110249</td>\n",
       "      <td>-0.007737</td>\n",
       "      <td>-0.004919</td>\n",
       "      <td>-0.014089</td>\n",
       "      <td>-0.089486</td>\n",
       "      <td>-0.007736</td>\n",
       "      <td>-0.095076</td>\n",
       "      <td>-0.027023</td>\n",
       "      <td>1.235694</td>\n",
       "      <td>-0.011664</td>\n",
       "      <td>...</td>\n",
       "      <td>0</td>\n",
       "      <td>0</td>\n",
       "      <td>0</td>\n",
       "      <td>0</td>\n",
       "      <td>0</td>\n",
       "      <td>0</td>\n",
       "      <td>0</td>\n",
       "      <td>0</td>\n",
       "      <td>0</td>\n",
       "      <td>0</td>\n",
       "    </tr>\n",
       "  </tbody>\n",
       "</table>\n",
       "<p>125973 rows × 121 columns</p>\n",
       "</div>"
      ],
      "text/plain": [
       "        (duration,)  (src_bytes,)  (dst_bytes,)   (land,)  (wrong_fragment,)  \\\n",
       "0         -0.110249     -0.007679     -0.004919 -0.014089          -0.089486   \n",
       "1         -0.110249     -0.007737     -0.004919 -0.014089          -0.089486   \n",
       "2         -0.110249     -0.007762     -0.004919 -0.014089          -0.089486   \n",
       "3         -0.110249     -0.007723     -0.002891 -0.014089          -0.089486   \n",
       "4         -0.110249     -0.007728     -0.004814 -0.014089          -0.089486   \n",
       "...             ...           ...           ...       ...                ...   \n",
       "125968    -0.110249     -0.007762     -0.004919 -0.014089          -0.089486   \n",
       "125969    -0.107178     -0.007744     -0.004883 -0.014089          -0.089486   \n",
       "125970    -0.110249     -0.007382     -0.004823 -0.014089          -0.089486   \n",
       "125971    -0.110249     -0.007762     -0.004919 -0.014089          -0.089486   \n",
       "125972    -0.110249     -0.007737     -0.004919 -0.014089          -0.089486   \n",
       "\n",
       "        (urgent,)    (hot,)  (num_failed_logins,)  (logged_in,)  \\\n",
       "0       -0.007736 -0.095076             -0.027023     -0.809262   \n",
       "1       -0.007736 -0.095076             -0.027023     -0.809262   \n",
       "2       -0.007736 -0.095076             -0.027023     -0.809262   \n",
       "3       -0.007736 -0.095076             -0.027023      1.235694   \n",
       "4       -0.007736 -0.095076             -0.027023      1.235694   \n",
       "...           ...       ...                   ...           ...   \n",
       "125968  -0.007736 -0.095076             -0.027023     -0.809262   \n",
       "125969  -0.007736 -0.095076             -0.027023     -0.809262   \n",
       "125970  -0.007736 -0.095076             -0.027023      1.235694   \n",
       "125971  -0.007736 -0.095076             -0.027023     -0.809262   \n",
       "125972  -0.007736 -0.095076             -0.027023      1.235694   \n",
       "\n",
       "        (num_compromised,)  ...  service_telnet  service_tftp_u  \\\n",
       "0                -0.011664  ...               0               0   \n",
       "1                -0.011664  ...               0               0   \n",
       "2                -0.011664  ...               0               0   \n",
       "3                -0.011664  ...               0               0   \n",
       "4                -0.011664  ...               0               0   \n",
       "...                    ...  ...             ...             ...   \n",
       "125968           -0.011664  ...               0               0   \n",
       "125969           -0.011664  ...               0               0   \n",
       "125970           -0.011664  ...               0               0   \n",
       "125971           -0.011664  ...               0               0   \n",
       "125972           -0.011664  ...               0               0   \n",
       "\n",
       "        service_tim_i  service_time  service_urh_i  service_urp_i  \\\n",
       "0                   0             0              0              0   \n",
       "1                   0             0              0              0   \n",
       "2                   0             0              0              0   \n",
       "3                   0             0              0              0   \n",
       "4                   0             0              0              0   \n",
       "...               ...           ...            ...            ...   \n",
       "125968              0             0              0              0   \n",
       "125969              0             0              0              0   \n",
       "125970              0             0              0              0   \n",
       "125971              0             0              0              0   \n",
       "125972              0             0              0              0   \n",
       "\n",
       "        service_uucp  service_uucp_path  service_vmnet  service_whois  \n",
       "0                  0                  0              0              0  \n",
       "1                  0                  0              0              0  \n",
       "2                  0                  0              0              0  \n",
       "3                  0                  0              0              0  \n",
       "4                  0                  0              0              0  \n",
       "...              ...                ...            ...            ...  \n",
       "125968             0                  0              0              0  \n",
       "125969             0                  0              0              0  \n",
       "125970             0                  0              0              0  \n",
       "125971             0                  0              0              0  \n",
       "125972             0                  0              0              0  \n",
       "\n",
       "[125973 rows x 121 columns]"
      ]
     },
     "execution_count": 8,
     "metadata": {},
     "output_type": "execute_result"
    }
   ],
   "source": [
    "one_hot_data_ss"
   ]
  },
  {
   "cell_type": "code",
   "execution_count": 9,
   "id": "c27500fa",
   "metadata": {},
   "outputs": [
    {
     "name": "stderr",
     "output_type": "stream",
     "text": [
      "C:\\Users\\khxia\\AppData\\Local\\Temp\\ipykernel_248\\3533821117.py:24: SettingWithCopyWarning: \n",
      "A value is trying to be set on a copy of a slice from a DataFrame.\n",
      "Try using .loc[row_indexer,col_indexer] = value instead\n",
      "\n",
      "See the caveats in the documentation: https://pandas.pydata.org/pandas-docs/stable/user_guide/indexing.html#returning-a-view-versus-a-copy\n",
      "  kdd_train_y[\"class_binary\"] = kdd_train_y[\"class\"].map(label_map)\n"
     ]
    }
   ],
   "source": [
    "label_map = {\"normal\": 0,\n",
    "            \"neptune\": 1,\n",
    "            \"satan\": 1,\n",
    "            \"ipsweep\": 1,\n",
    "            \"portsweep\": 1,\n",
    "            \"smurf\": 1,\n",
    "            \"nmap\": 1,\n",
    "            \"back\": 1,\n",
    "            \"teardrop\": 1,\n",
    "            \"warezclient\": 1,\n",
    "            \"pod\": 1,\n",
    "            \"guess_passwd\": 1,\n",
    "            \"buffer_overflow\": 1,\n",
    "            \"warezmaster\": 1,\n",
    "            \"land\": 1,\n",
    "            \"imap\": 1,\n",
    "            \"rootkit\": 1,\n",
    "            \"loadmodule\": 1,\n",
    "            \"ftp_write\": 1,\n",
    "            \"multihop\": 1,\n",
    "            \"phf\": 1,\n",
    "            \"perl\": 1, \n",
    "            \"spy\": 1}\n",
    "kdd_train_y[\"class_binary\"] = kdd_train_y[\"class\"].map(label_map)"
   ]
  },
  {
   "cell_type": "code",
   "execution_count": 10,
   "id": "e2f51b2d",
   "metadata": {},
   "outputs": [
    {
     "data": {
      "text/html": [
       "<div>\n",
       "<style scoped>\n",
       "    .dataframe tbody tr th:only-of-type {\n",
       "        vertical-align: middle;\n",
       "    }\n",
       "\n",
       "    .dataframe tbody tr th {\n",
       "        vertical-align: top;\n",
       "    }\n",
       "\n",
       "    .dataframe thead th {\n",
       "        text-align: right;\n",
       "    }\n",
       "</style>\n",
       "<table border=\"1\" class=\"dataframe\">\n",
       "  <thead>\n",
       "    <tr style=\"text-align: right;\">\n",
       "      <th></th>\n",
       "      <th>(duration,)</th>\n",
       "      <th>(src_bytes,)</th>\n",
       "      <th>(dst_bytes,)</th>\n",
       "      <th>(land,)</th>\n",
       "      <th>(wrong_fragment,)</th>\n",
       "      <th>(urgent,)</th>\n",
       "      <th>(hot,)</th>\n",
       "      <th>(num_failed_logins,)</th>\n",
       "      <th>(logged_in,)</th>\n",
       "      <th>(num_compromised,)</th>\n",
       "      <th>...</th>\n",
       "      <th>service_telnet</th>\n",
       "      <th>service_tftp_u</th>\n",
       "      <th>service_tim_i</th>\n",
       "      <th>service_time</th>\n",
       "      <th>service_urh_i</th>\n",
       "      <th>service_urp_i</th>\n",
       "      <th>service_uucp</th>\n",
       "      <th>service_uucp_path</th>\n",
       "      <th>service_vmnet</th>\n",
       "      <th>service_whois</th>\n",
       "    </tr>\n",
       "  </thead>\n",
       "  <tbody>\n",
       "    <tr>\n",
       "      <th>count</th>\n",
       "      <td>1.259730e+05</td>\n",
       "      <td>1.259730e+05</td>\n",
       "      <td>1.259730e+05</td>\n",
       "      <td>1.259730e+05</td>\n",
       "      <td>1.259730e+05</td>\n",
       "      <td>1.259730e+05</td>\n",
       "      <td>1.259730e+05</td>\n",
       "      <td>1.259730e+05</td>\n",
       "      <td>1.259730e+05</td>\n",
       "      <td>1.259730e+05</td>\n",
       "      <td>...</td>\n",
       "      <td>125973.000000</td>\n",
       "      <td>125973.000000</td>\n",
       "      <td>125973.000000</td>\n",
       "      <td>125973.000000</td>\n",
       "      <td>125973.000000</td>\n",
       "      <td>125973.000000</td>\n",
       "      <td>125973.000000</td>\n",
       "      <td>125973.000000</td>\n",
       "      <td>125973.000000</td>\n",
       "      <td>125973.000000</td>\n",
       "    </tr>\n",
       "    <tr>\n",
       "      <th>mean</th>\n",
       "      <td>2.549477e-17</td>\n",
       "      <td>-4.512349e-19</td>\n",
       "      <td>7.614590e-19</td>\n",
       "      <td>-4.794371e-18</td>\n",
       "      <td>4.230328e-19</td>\n",
       "      <td>4.455945e-18</td>\n",
       "      <td>-2.244894e-17</td>\n",
       "      <td>2.989431e-18</td>\n",
       "      <td>1.558171e-17</td>\n",
       "      <td>-6.549957e-18</td>\n",
       "      <td>...</td>\n",
       "      <td>0.018679</td>\n",
       "      <td>0.000024</td>\n",
       "      <td>0.000064</td>\n",
       "      <td>0.005192</td>\n",
       "      <td>0.000079</td>\n",
       "      <td>0.004779</td>\n",
       "      <td>0.006192</td>\n",
       "      <td>0.005469</td>\n",
       "      <td>0.004898</td>\n",
       "      <td>0.005501</td>\n",
       "    </tr>\n",
       "    <tr>\n",
       "      <th>std</th>\n",
       "      <td>1.000004e+00</td>\n",
       "      <td>1.000004e+00</td>\n",
       "      <td>1.000004e+00</td>\n",
       "      <td>1.000004e+00</td>\n",
       "      <td>1.000004e+00</td>\n",
       "      <td>1.000004e+00</td>\n",
       "      <td>1.000004e+00</td>\n",
       "      <td>1.000004e+00</td>\n",
       "      <td>1.000004e+00</td>\n",
       "      <td>1.000004e+00</td>\n",
       "      <td>...</td>\n",
       "      <td>0.135388</td>\n",
       "      <td>0.004880</td>\n",
       "      <td>0.007969</td>\n",
       "      <td>0.071866</td>\n",
       "      <td>0.008909</td>\n",
       "      <td>0.068964</td>\n",
       "      <td>0.078444</td>\n",
       "      <td>0.073753</td>\n",
       "      <td>0.069813</td>\n",
       "      <td>0.073966</td>\n",
       "    </tr>\n",
       "    <tr>\n",
       "      <th>min</th>\n",
       "      <td>-1.102492e-01</td>\n",
       "      <td>-7.762241e-03</td>\n",
       "      <td>-4.918644e-03</td>\n",
       "      <td>-1.408881e-02</td>\n",
       "      <td>-8.948642e-02</td>\n",
       "      <td>-7.735985e-03</td>\n",
       "      <td>-9.507567e-02</td>\n",
       "      <td>-2.702282e-02</td>\n",
       "      <td>-8.092618e-01</td>\n",
       "      <td>-1.166364e-02</td>\n",
       "      <td>...</td>\n",
       "      <td>0.000000</td>\n",
       "      <td>0.000000</td>\n",
       "      <td>0.000000</td>\n",
       "      <td>0.000000</td>\n",
       "      <td>0.000000</td>\n",
       "      <td>0.000000</td>\n",
       "      <td>0.000000</td>\n",
       "      <td>0.000000</td>\n",
       "      <td>0.000000</td>\n",
       "      <td>0.000000</td>\n",
       "    </tr>\n",
       "    <tr>\n",
       "      <th>25%</th>\n",
       "      <td>-1.102492e-01</td>\n",
       "      <td>-7.762241e-03</td>\n",
       "      <td>-4.918644e-03</td>\n",
       "      <td>-1.408881e-02</td>\n",
       "      <td>-8.948642e-02</td>\n",
       "      <td>-7.735985e-03</td>\n",
       "      <td>-9.507567e-02</td>\n",
       "      <td>-2.702282e-02</td>\n",
       "      <td>-8.092618e-01</td>\n",
       "      <td>-1.166364e-02</td>\n",
       "      <td>...</td>\n",
       "      <td>0.000000</td>\n",
       "      <td>0.000000</td>\n",
       "      <td>0.000000</td>\n",
       "      <td>0.000000</td>\n",
       "      <td>0.000000</td>\n",
       "      <td>0.000000</td>\n",
       "      <td>0.000000</td>\n",
       "      <td>0.000000</td>\n",
       "      <td>0.000000</td>\n",
       "      <td>0.000000</td>\n",
       "    </tr>\n",
       "    <tr>\n",
       "      <th>50%</th>\n",
       "      <td>-1.102492e-01</td>\n",
       "      <td>-7.754745e-03</td>\n",
       "      <td>-4.918644e-03</td>\n",
       "      <td>-1.408881e-02</td>\n",
       "      <td>-8.948642e-02</td>\n",
       "      <td>-7.735985e-03</td>\n",
       "      <td>-9.507567e-02</td>\n",
       "      <td>-2.702282e-02</td>\n",
       "      <td>-8.092618e-01</td>\n",
       "      <td>-1.166364e-02</td>\n",
       "      <td>...</td>\n",
       "      <td>0.000000</td>\n",
       "      <td>0.000000</td>\n",
       "      <td>0.000000</td>\n",
       "      <td>0.000000</td>\n",
       "      <td>0.000000</td>\n",
       "      <td>0.000000</td>\n",
       "      <td>0.000000</td>\n",
       "      <td>0.000000</td>\n",
       "      <td>0.000000</td>\n",
       "      <td>0.000000</td>\n",
       "    </tr>\n",
       "    <tr>\n",
       "      <th>75%</th>\n",
       "      <td>-1.102492e-01</td>\n",
       "      <td>-7.715224e-03</td>\n",
       "      <td>-4.790326e-03</td>\n",
       "      <td>-1.408881e-02</td>\n",
       "      <td>-8.948642e-02</td>\n",
       "      <td>-7.735985e-03</td>\n",
       "      <td>-9.507567e-02</td>\n",
       "      <td>-2.702282e-02</td>\n",
       "      <td>1.235694e+00</td>\n",
       "      <td>-1.166364e-02</td>\n",
       "      <td>...</td>\n",
       "      <td>0.000000</td>\n",
       "      <td>0.000000</td>\n",
       "      <td>0.000000</td>\n",
       "      <td>0.000000</td>\n",
       "      <td>0.000000</td>\n",
       "      <td>0.000000</td>\n",
       "      <td>0.000000</td>\n",
       "      <td>0.000000</td>\n",
       "      <td>0.000000</td>\n",
       "      <td>0.000000</td>\n",
       "    </tr>\n",
       "    <tr>\n",
       "      <th>max</th>\n",
       "      <td>1.636428e+01</td>\n",
       "      <td>2.350675e+02</td>\n",
       "      <td>3.257486e+02</td>\n",
       "      <td>7.097831e+01</td>\n",
       "      <td>1.174348e+01</td>\n",
       "      <td>2.088191e+02</td>\n",
       "      <td>3.571955e+01</td>\n",
       "      <td>1.104972e+02</td>\n",
       "      <td>1.235694e+00</td>\n",
       "      <td>3.123689e+02</td>\n",
       "      <td>...</td>\n",
       "      <td>1.000000</td>\n",
       "      <td>1.000000</td>\n",
       "      <td>1.000000</td>\n",
       "      <td>1.000000</td>\n",
       "      <td>1.000000</td>\n",
       "      <td>1.000000</td>\n",
       "      <td>1.000000</td>\n",
       "      <td>1.000000</td>\n",
       "      <td>1.000000</td>\n",
       "      <td>1.000000</td>\n",
       "    </tr>\n",
       "  </tbody>\n",
       "</table>\n",
       "<p>8 rows × 121 columns</p>\n",
       "</div>"
      ],
      "text/plain": [
       "        (duration,)  (src_bytes,)  (dst_bytes,)       (land,)  \\\n",
       "count  1.259730e+05  1.259730e+05  1.259730e+05  1.259730e+05   \n",
       "mean   2.549477e-17 -4.512349e-19  7.614590e-19 -4.794371e-18   \n",
       "std    1.000004e+00  1.000004e+00  1.000004e+00  1.000004e+00   \n",
       "min   -1.102492e-01 -7.762241e-03 -4.918644e-03 -1.408881e-02   \n",
       "25%   -1.102492e-01 -7.762241e-03 -4.918644e-03 -1.408881e-02   \n",
       "50%   -1.102492e-01 -7.754745e-03 -4.918644e-03 -1.408881e-02   \n",
       "75%   -1.102492e-01 -7.715224e-03 -4.790326e-03 -1.408881e-02   \n",
       "max    1.636428e+01  2.350675e+02  3.257486e+02  7.097831e+01   \n",
       "\n",
       "       (wrong_fragment,)     (urgent,)        (hot,)  (num_failed_logins,)  \\\n",
       "count       1.259730e+05  1.259730e+05  1.259730e+05          1.259730e+05   \n",
       "mean        4.230328e-19  4.455945e-18 -2.244894e-17          2.989431e-18   \n",
       "std         1.000004e+00  1.000004e+00  1.000004e+00          1.000004e+00   \n",
       "min        -8.948642e-02 -7.735985e-03 -9.507567e-02         -2.702282e-02   \n",
       "25%        -8.948642e-02 -7.735985e-03 -9.507567e-02         -2.702282e-02   \n",
       "50%        -8.948642e-02 -7.735985e-03 -9.507567e-02         -2.702282e-02   \n",
       "75%        -8.948642e-02 -7.735985e-03 -9.507567e-02         -2.702282e-02   \n",
       "max         1.174348e+01  2.088191e+02  3.571955e+01          1.104972e+02   \n",
       "\n",
       "       (logged_in,)  (num_compromised,)  ...  service_telnet  service_tftp_u  \\\n",
       "count  1.259730e+05        1.259730e+05  ...   125973.000000   125973.000000   \n",
       "mean   1.558171e-17       -6.549957e-18  ...        0.018679        0.000024   \n",
       "std    1.000004e+00        1.000004e+00  ...        0.135388        0.004880   \n",
       "min   -8.092618e-01       -1.166364e-02  ...        0.000000        0.000000   \n",
       "25%   -8.092618e-01       -1.166364e-02  ...        0.000000        0.000000   \n",
       "50%   -8.092618e-01       -1.166364e-02  ...        0.000000        0.000000   \n",
       "75%    1.235694e+00       -1.166364e-02  ...        0.000000        0.000000   \n",
       "max    1.235694e+00        3.123689e+02  ...        1.000000        1.000000   \n",
       "\n",
       "       service_tim_i   service_time  service_urh_i  service_urp_i  \\\n",
       "count  125973.000000  125973.000000  125973.000000  125973.000000   \n",
       "mean        0.000064       0.005192       0.000079       0.004779   \n",
       "std         0.007969       0.071866       0.008909       0.068964   \n",
       "min         0.000000       0.000000       0.000000       0.000000   \n",
       "25%         0.000000       0.000000       0.000000       0.000000   \n",
       "50%         0.000000       0.000000       0.000000       0.000000   \n",
       "75%         0.000000       0.000000       0.000000       0.000000   \n",
       "max         1.000000       1.000000       1.000000       1.000000   \n",
       "\n",
       "        service_uucp  service_uucp_path  service_vmnet  service_whois  \n",
       "count  125973.000000      125973.000000  125973.000000  125973.000000  \n",
       "mean        0.006192           0.005469       0.004898       0.005501  \n",
       "std         0.078444           0.073753       0.069813       0.073966  \n",
       "min         0.000000           0.000000       0.000000       0.000000  \n",
       "25%         0.000000           0.000000       0.000000       0.000000  \n",
       "50%         0.000000           0.000000       0.000000       0.000000  \n",
       "75%         0.000000           0.000000       0.000000       0.000000  \n",
       "max         1.000000           1.000000       1.000000       1.000000  \n",
       "\n",
       "[8 rows x 121 columns]"
      ]
     },
     "execution_count": 10,
     "metadata": {},
     "output_type": "execute_result"
    }
   ],
   "source": [
    "one_hot_data_ss.describe()"
   ]
  },
  {
   "cell_type": "code",
   "execution_count": 11,
   "id": "1c31909f",
   "metadata": {},
   "outputs": [
    {
     "data": {
      "text/plain": [
       "58630"
      ]
     },
     "execution_count": 11,
     "metadata": {},
     "output_type": "execute_result"
    },
    {
     "data": {
      "text/plain": [
       "67343"
      ]
     },
     "execution_count": 11,
     "metadata": {},
     "output_type": "execute_result"
    }
   ],
   "source": [
    "np.count_nonzero(kdd_train_y[\"class_binary\"])\n",
    "125973 - np.count_nonzero(kdd_train_y[\"class_binary\"])"
   ]
  },
  {
   "cell_type": "markdown",
   "id": "dea6cea6",
   "metadata": {},
   "source": [
    "# PCA"
   ]
  },
  {
   "cell_type": "markdown",
   "id": "ced96994",
   "metadata": {},
   "source": [
    "## HyperParameter Tunning for PCA"
   ]
  },
  {
   "cell_type": "code",
   "execution_count": 12,
   "id": "972c7fc2",
   "metadata": {},
   "outputs": [],
   "source": [
    "from sklearn.metrics import make_scorer, f1_score\n",
    "\n",
    "def scorer_f(estimator, X):   #your own scorer\n",
    "      return np.mean(estimator.score_samples(X))\n",
    "parameters_pca = {'n_components' : np.linspace(0.1, 1, num = 22)}    "
   ]
  },
  {
   "cell_type": "code",
   "execution_count": 13,
   "id": "8eed4eee",
   "metadata": {},
   "outputs": [],
   "source": [
    "from sklearn.decomposition import PCA\n",
    "model_pca = PCA()\n",
    "idx_rand = np.random.permutation(len(kdd_train_x))\n",
    "#num_sample = int(0.01*len(kdd_train_x))\n",
    "num_sample = len(kdd_train_x)\n",
    "one_hot_data_pca = one_hot_data_ss\n",
    "one_hot_data_pca_sample = one_hot_data_pca.iloc[idx_rand[:num_sample]]\n",
    "kdd_train_y_sample = kdd_train_y.iloc[idx_rand[:num_sample]]\n"
   ]
  },
  {
   "cell_type": "code",
   "execution_count": 14,
   "id": "485f9450",
   "metadata": {},
   "outputs": [
    {
     "name": "stderr",
     "output_type": "stream",
     "text": [
      "C:\\WINDOWS\\system32\\myenv\\lib\\site-packages\\sklearn\\model_selection\\_validation.py:378: FitFailedWarning: \n",
      "3 fits failed out of a total of 30.\n",
      "The score on these train-test partitions for these parameters will be set to nan.\n",
      "If these failures are not expected, you can try to debug them by setting error_score='raise'.\n",
      "\n",
      "Below are more details about the failures:\n",
      "--------------------------------------------------------------------------------\n",
      "3 fits failed with the following error:\n",
      "Traceback (most recent call last):\n",
      "  File \"C:\\WINDOWS\\system32\\myenv\\lib\\site-packages\\sklearn\\model_selection\\_validation.py\", line 686, in _fit_and_score\n",
      "    estimator.fit(X_train, y_train, **fit_params)\n",
      "  File \"C:\\WINDOWS\\system32\\myenv\\lib\\site-packages\\sklearn\\decomposition\\_pca.py\", line 408, in fit\n",
      "    self._fit(X)\n",
      "  File \"C:\\WINDOWS\\system32\\myenv\\lib\\site-packages\\sklearn\\decomposition\\_pca.py\", line 485, in _fit\n",
      "    return self._fit_truncated(X, n_components, self._fit_svd_solver)\n",
      "  File \"C:\\WINDOWS\\system32\\myenv\\lib\\site-packages\\sklearn\\decomposition\\_pca.py\", line 576, in _fit_truncated\n",
      "    raise ValueError(\n",
      "ValueError: n_components=1.0 must be of type int when greater than or equal to 1, was of type=<class 'numpy.float64'>\n",
      "\n",
      "  warnings.warn(some_fits_failed_message, FitFailedWarning)\n",
      "C:\\WINDOWS\\system32\\myenv\\lib\\site-packages\\sklearn\\model_selection\\_search.py:953: UserWarning: One or more of the test scores are non-finite: [nan nan nan nan nan nan nan nan nan nan]\n",
      "  warnings.warn(\n",
      "C:\\WINDOWS\\system32\\myenv\\lib\\site-packages\\sklearn\\model_selection\\_search.py:953: UserWarning: One or more of the train scores are non-finite: [nan nan nan nan nan nan nan nan nan nan]\n",
      "  warnings.warn(\n",
      "C:\\WINDOWS\\system32\\myenv\\lib\\site-packages\\sklearn\\utils\\validation.py:1858: FutureWarning: Feature names only support names that are all strings. Got feature names with dtypes: ['str', 'tuple']. An error will be raised in 1.2.\n",
      "  warnings.warn(\n"
     ]
    },
    {
     "name": "stdout",
     "output_type": "stream",
     "text": [
      " Results from Random Search \n",
      "\n",
      " The best estimator across ALL searched params:\n",
      " PCA(n_components=0.9571428571428572)\n",
      "\n",
      " The best score across ALL searched params:\n",
      " nan\n",
      "\n",
      " The best parameters across ALL searched params:\n",
      " {'n_components': 0.9571428571428572}\n"
     ]
    }
   ],
   "source": [
    "f1sc = make_scorer(f1_score, average = 'micro')\n",
    "randm_src = RandomizedSearchCV(estimator=model_pca, param_distributions = parameters_pca, cv = 3, scoring = f1sc, random_state = 0, return_train_score = True, n_jobs = -1)\n",
    "model_src = randm_src.fit(one_hot_data_pca, kdd_train_y_sample[\"class_binary\"])\n",
    "\n",
    "print(\" Results from Random Search \" )\n",
    "print(\"\\n The best estimator across ALL searched params:\\n\", randm_src.best_estimator_)\n",
    "print(\"\\n The best score across ALL searched params:\\n\", randm_src.best_score_)\n",
    "print(\"\\n The best parameters across ALL searched params:\\n\", randm_src.best_params_)"
   ]
  },
  {
   "cell_type": "code",
   "execution_count": 15,
   "id": "949969a3",
   "metadata": {},
   "outputs": [
    {
     "name": "stderr",
     "output_type": "stream",
     "text": [
      "C:\\WINDOWS\\system32\\myenv\\lib\\site-packages\\sklearn\\utils\\validation.py:1858: FutureWarning: Feature names only support names that are all strings. Got feature names with dtypes: ['str', 'tuple']. An error will be raised in 1.2.\n",
      "  warnings.warn(\n"
     ]
    },
    {
     "name": "stdout",
     "output_type": "stream",
     "text": [
      "(125973, 25)\n"
     ]
    }
   ],
   "source": [
    "#Keep best % of variance\n",
    "model_pca = PCA(n_components=0.9571428571428572,whiten = True)\n",
    "one_hot_data_pca = model_pca.fit_transform(one_hot_data_ss)\n",
    "\n",
    "print(one_hot_data_pca.shape)"
   ]
  },
  {
   "cell_type": "code",
   "execution_count": 16,
   "id": "a87842e4",
   "metadata": {},
   "outputs": [
    {
     "name": "stdout",
     "output_type": "stream",
     "text": [
      "['Variable 0', 'Variable 1', 'Variable 2', 'Variable 3', 'Variable 4', 'Variable 5', 'Variable 6', 'Variable 7', 'Variable 8', 'Variable 9', 'Variable 10', 'Variable 11', 'Variable 12', 'Variable 13', 'Variable 14', 'Variable 15', 'Variable 16', 'Variable 17', 'Variable 18', 'Variable 19', 'Variable 20', 'Variable 21', 'Variable 22', 'Variable 23', 'Variable 24']\n"
     ]
    }
   ],
   "source": [
    "model_pca = PCA(n_components=25,whiten=True)\n",
    "new_header =['Variable '+str(i) for i in range(model_pca.n_components)]\n",
    "\n",
    "    \n",
    "print(new_header)"
   ]
  },
  {
   "cell_type": "code",
   "execution_count": 17,
   "id": "a000f763",
   "metadata": {},
   "outputs": [],
   "source": [
    "one_hot_data_pca = pd.DataFrame(one_hot_data_pca,columns=new_header)"
   ]
  },
  {
   "cell_type": "code",
   "execution_count": 18,
   "id": "61b3674f",
   "metadata": {},
   "outputs": [],
   "source": [
    "data_array_pca = np.array(one_hot_data_pca)"
   ]
  },
  {
   "cell_type": "markdown",
   "id": "e2e4d3d4",
   "metadata": {},
   "source": [
    "# Visualize Data"
   ]
  },
  {
   "cell_type": "code",
   "execution_count": 19,
   "id": "154d938a",
   "metadata": {},
   "outputs": [],
   "source": [
    "X_norm = (one_hot_data - one_hot_data.min())/(one_hot_data.max() - one_hot_data.min())\n",
    "pca_plot = PCA(n_components=2)\n",
    "transformed = pd.DataFrame(pca_plot.fit_transform(X_norm))\n",
    "c_binary = kdd_train_y['class_binary']"
   ]
  },
  {
   "cell_type": "code",
   "execution_count": 20,
   "id": "4d8a1785",
   "metadata": {},
   "outputs": [
    {
     "data": {
      "text/plain": [
       "<matplotlib.collections.PathCollection at 0x28094026e60>"
      ]
     },
     "execution_count": 20,
     "metadata": {},
     "output_type": "execute_result"
    },
    {
     "data": {
      "text/plain": [
       "<matplotlib.legend.Legend at 0x2809404bd00>"
      ]
     },
     "execution_count": 20,
     "metadata": {},
     "output_type": "execute_result"
    },
    {
     "data": {
      "image/png": "[encoded data removed]",
      "text/plain": [
       "<Figure size 432x288 with 1 Axes>"
      ]
     },
     "metadata": {
      "needs_background": "light"
     },
     "output_type": "display_data"
    },
    {
     "data": {
      "text/plain": [
       "<matplotlib.collections.PathCollection at 0x28094068b20>"
      ]
     },
     "execution_count": 20,
     "metadata": {},
     "output_type": "execute_result"
    },
    {
     "data": {
      "text/plain": [
       "<matplotlib.legend.Legend at 0x2809ec49ed0>"
      ]
     },
     "execution_count": 20,
     "metadata": {},
     "output_type": "execute_result"
    },
    {
     "data": {
      "image/png": "[encoded data removed]",
      "text/plain": [
       "<Figure size 432x288 with 1 Axes>"
      ]
     },
     "metadata": {
      "needs_background": "light"
     },
     "output_type": "display_data"
    },
    {
     "data": {
      "text/plain": [
       "<matplotlib.collections.PathCollection at 0x2809a3a6170>"
      ]
     },
     "execution_count": 20,
     "metadata": {},
     "output_type": "execute_result"
    },
    {
     "data": {
      "text/plain": [
       "<matplotlib.collections.PathCollection at 0x2809a3a5000>"
      ]
     },
     "execution_count": 20,
     "metadata": {},
     "output_type": "execute_result"
    },
    {
     "data": {
      "text/plain": [
       "<matplotlib.legend.Legend at 0x2809406b6d0>"
      ]
     },
     "execution_count": 20,
     "metadata": {},
     "output_type": "execute_result"
    },
    {
     "data": {
      "image/png": "[encoded data removed]",
      "text/plain": [
       "<Figure size 432x288 with 1 Axes>"
      ]
     },
     "metadata": {
      "needs_background": "light"
     },
     "output_type": "display_data"
    }
   ],
   "source": [
    "plt.scatter(transformed[c_binary==0][0], transformed[c_binary==0][1], label='Normal', c='blue')\n",
    "\n",
    "plt.legend()\n",
    "plt.show()\n",
    "\n",
    "plt.scatter(transformed[c_binary==1][0], transformed[c_binary==1][1], label='Anomaly', c='red')\n",
    "\n",
    "plt.legend()\n",
    "plt.show()\n",
    "\n",
    "\n",
    "plt.scatter(transformed[c_binary==0][0], transformed[c_binary==0][1], label='Normal', c='blue')\n",
    "plt.scatter(transformed[c_binary==1][0], transformed[c_binary==1][1], label='Anomaly', c='red')\n",
    "plt.legend()\n",
    "plt.show()\n",
    "\n"
   ]
  },
  {
   "cell_type": "code",
   "execution_count": 21,
   "id": "ce05c3cb",
   "metadata": {},
   "outputs": [],
   "source": [
    "one_hot_data_maha = one_hot_data_pca\n",
    "one_hot_data_if = one_hot_data_pca\n",
    "one_hot_data_svm = one_hot_data_pca\n",
    "\n",
    "one_hot_data_maha_ss = one_hot_data_ss\n",
    "one_hot_data_if_ss = one_hot_data_ss\n",
    "one_hot_data_svm_ss = one_hot_data_ss"
   ]
  },
  {
   "cell_type": "markdown",
   "id": "459cbb6b",
   "metadata": {},
   "source": [
    "# Mahalanobis"
   ]
  },
  {
   "cell_type": "markdown",
   "id": "4b56a422",
   "metadata": {},
   "source": [
    "## Standard Scaler Data Before PCA "
   ]
  },
  {
   "cell_type": "code",
   "execution_count": 24,
   "id": "0a7dc19d",
   "metadata": {},
   "outputs": [
    {
     "name": "stderr",
     "output_type": "stream",
     "text": [
      "C:\\WINDOWS\\system32\\myenv\\lib\\site-packages\\numpy\\core\\fromnumeric.py:3430: FutureWarning: In a future version, DataFrame.mean(axis=None) will return a scalar mean over the entire DataFrame. To retain the old behavior, use 'frame.mean(axis=0)' or just 'frame.mean()'\n",
      "  return mean(axis=axis, dtype=dtype, out=out, **kwargs)\n"
     ]
    },
    {
     "data": {
      "text/plain": [
       "(duration,)          2.549477e-17\n",
       "(src_bytes,)        -4.512349e-19\n",
       "(dst_bytes,)         7.614590e-19\n",
       "(land,)             -4.794371e-18\n",
       "(wrong_fragment,)    4.230328e-19\n",
       "                         ...     \n",
       "service_urp_i        4.778802e-03\n",
       "service_uucp         6.191803e-03\n",
       "service_uucp_path    5.469426e-03\n",
       "service_vmnet        4.897875e-03\n",
       "service_whois        5.501179e-03\n",
       "Length: 121, dtype: float64"
      ]
     },
     "execution_count": 24,
     "metadata": {},
     "output_type": "execute_result"
    },
    {
     "name": "stdout",
     "output_type": "stream",
     "text": [
      "363\n"
     ]
    }
   ],
   "source": [
    "#Mahalanobis Distance Training\n",
    "import scipy as sp\n",
    "mu_vec = np.mean(data_array_ss,axis = 0)\n",
    "inv_cormat = sp.linalg.pinv(np.cov(data_array_ss, rowvar=False))\n",
    "\n",
    "# For loop to get the distance for all the variables\n",
    "mahal_dist = []\n",
    "\n",
    "for i in range(data_array_ss.shape[0]):\n",
    "    x_minus_mu = data_array_ss[i,:] - mu_vec\n",
    "    left_term = np.dot(x_minus_mu, inv_cormat)\n",
    "    mahal = np.dot(left_term, x_minus_mu.T)\n",
    "    mahal = np.sqrt(mahal)\n",
    "    mahal_dist.append(mahal)\n",
    "\n",
    "np.mean(one_hot_data_maha_ss)\n",
    "\n",
    "from scipy.stats import chi2\n",
    "one_hot_data_maha_ss['p-value'] = 1 - chi2.cdf(mahal_dist, df = 25) #pdf(x, degreeOfFreedom = Number of Variables)\n",
    "\n",
    "#Calculate number of p-value less than 0.01\n",
    "print(np.count_nonzero(one_hot_data_maha_ss['p-value'] < 0.01))"
   ]
  },
  {
   "cell_type": "code",
   "execution_count": 26,
   "id": "ed5c49c0",
   "metadata": {},
   "outputs": [
    {
     "name": "stdout",
     "output_type": "stream",
     "text": [
      "Training accuracy: 0.5336\n",
      "[[67101   242]\n",
      " [58509   121]]\n"
     ]
    }
   ],
   "source": [
    "pvalue_ss = one_hot_data_maha_ss['p-value']\n",
    "bi_pvalue_ss = pvalue_ss\n",
    "\n",
    "bi_pvalue_ss = np.where(pvalue_ss < 0.01, 1, bi_pvalue_ss)\n",
    "bi_pvalue_ss = np.where(pvalue_ss >= 0.01, 0, bi_pvalue_ss)\n",
    "\n",
    "from sklearn.metrics import accuracy_score\n",
    "\n",
    "train_acc_maha_ss = accuracy_score(kdd_train_y['class_binary'], bi_pvalue_ss)\n",
    "print(\"Training accuracy: {:.4f}\".format(train_acc_maha_ss))\n",
    "cm_maha_ss = confusion_matrix (kdd_train_y[\"class_binary\"], bi_pvalue_ss)\n",
    "print(cm_maha_ss)"
   ]
  },
  {
   "cell_type": "code",
   "execution_count": 27,
   "id": "12a6c49c",
   "metadata": {},
   "outputs": [
    {
     "data": {
      "text/plain": [
       "Text(0.5, 1.0, 'Seaborn Confusion Matrix with labels\\n\\n')"
      ]
     },
     "execution_count": 27,
     "metadata": {},
     "output_type": "execute_result"
    },
    {
     "data": {
      "text/plain": [
       "Text(0.5, 15.0, 'Predicted Values')"
      ]
     },
     "execution_count": 27,
     "metadata": {},
     "output_type": "execute_result"
    },
    {
     "data": {
      "text/plain": [
       "Text(33.0, 0.5, 'Actual Values ')"
      ]
     },
     "execution_count": 27,
     "metadata": {},
     "output_type": "execute_result"
    },
    {
     "data": {
      "text/plain": [
       "[Text(0.5, 0, 'False'), Text(1.5, 0, 'True')]"
      ]
     },
     "execution_count": 27,
     "metadata": {},
     "output_type": "execute_result"
    },
    {
     "data": {
      "text/plain": [
       "[Text(0, 0.5, 'False'), Text(0, 1.5, 'True')]"
      ]
     },
     "execution_count": 27,
     "metadata": {},
     "output_type": "execute_result"
    },
    {
     "data": {
      "image/png": "[encoded data removed]",
      "text/plain": [
       "<Figure size 432x288 with 2 Axes>"
      ]
     },
     "metadata": {
      "needs_background": "light"
     },
     "output_type": "display_data"
    },
    {
     "name": "stdout",
     "output_type": "stream",
     "text": [
      "Precision =  0.3333333333333333\n",
      "Recall =  0.0020637898686679174\n"
     ]
    }
   ],
   "source": [
    "ax = sns.heatmap(cm_maha_ss, annot=True, cmap='Blues')\n",
    "\n",
    "ax.set_title('Seaborn Confusion Matrix with labels\\n\\n');\n",
    "ax.set_xlabel('Predicted Values')\n",
    "ax.set_ylabel('Actual Values ');\n",
    "\n",
    "## Ticket labels - List must be in alphabetical order\n",
    "ax.xaxis.set_ticklabels(['False','True'])\n",
    "ax.yaxis.set_ticklabels(['False','True'])\n",
    "\n",
    "## Display the visualization of the Confusion Matrix.\n",
    "plt.show()\n",
    "\n",
    "\n",
    "## FP,FN,TP,TN\n",
    "TN_maha = cm_maha_ss[0][0]\n",
    "FN_maha = cm_maha_ss[1][0]\n",
    "FP_maha = cm_maha_ss[0][1]\n",
    "TP_maha = cm_maha_ss[1][1]\n",
    "\n",
    "##Precision and Recall\n",
    "Precision_maha_ss = TP_maha/(TP_maha+FP_maha)\n",
    "Recall_maha_ss = TP_maha/(TP_maha+FN_maha)\n",
    "\n",
    "print (\"Precision = \",Precision_maha_ss)\n",
    "print (\"Recall = \",Recall_maha_ss)\n"
   ]
  },
  {
   "cell_type": "markdown",
   "id": "cf5ef0fd",
   "metadata": {},
   "source": [
    "## After PCA"
   ]
  },
  {
   "cell_type": "code",
   "execution_count": 28,
   "id": "54464ede",
   "metadata": {},
   "outputs": [
    {
     "name": "stderr",
     "output_type": "stream",
     "text": [
      "C:\\WINDOWS\\system32\\myenv\\lib\\site-packages\\numpy\\core\\fromnumeric.py:3430: FutureWarning: In a future version, DataFrame.mean(axis=None) will return a scalar mean over the entire DataFrame. To retain the old behavior, use 'frame.mean(axis=0)' or just 'frame.mean()'\n",
      "  return mean(axis=axis, dtype=dtype, out=out, **kwargs)\n"
     ]
    },
    {
     "data": {
      "text/plain": [
       "Variable 0    -3.016506e-16\n",
       "Variable 1    -3.385672e-16\n",
       "Variable 2    -4.874324e-16\n",
       "Variable 3     1.780122e-16\n",
       "Variable 4     4.957944e-17\n",
       "Variable 5    -1.505574e-16\n",
       "Variable 6    -5.629156e-17\n",
       "Variable 7    -2.795400e-16\n",
       "Variable 8    -1.132600e-16\n",
       "Variable 9    -4.829624e-17\n",
       "Variable 10   -4.622338e-17\n",
       "Variable 11   -1.443952e-17\n",
       "Variable 12    3.948306e-18\n",
       "Variable 13    1.156290e-18\n",
       "Variable 14    1.844423e-17\n",
       "Variable 15    6.317289e-18\n",
       "Variable 16   -2.120804e-17\n",
       "Variable 17    3.299655e-18\n",
       "Variable 18    7.795084e-17\n",
       "Variable 19    6.021166e-17\n",
       "Variable 20   -3.726355e-16\n",
       "Variable 21    3.559962e-16\n",
       "Variable 22   -2.779607e-16\n",
       "Variable 23   -2.345294e-16\n",
       "Variable 24   -1.969076e-16\n",
       "dtype: float64"
      ]
     },
     "execution_count": 28,
     "metadata": {},
     "output_type": "execute_result"
    },
    {
     "name": "stdout",
     "output_type": "stream",
     "text": [
      "160\n"
     ]
    }
   ],
   "source": [
    "#Use new PCA data for Mahalanobis Distance\n",
    "mu_vec_pca = np.mean(data_array_pca,axis = 0)\n",
    "inv_cormat_pca = sp.linalg.pinv(np.cov(data_array_pca, rowvar=False))\n",
    "\n",
    "# For loop to get the distance for all the variables\n",
    "mahal_dist = []\n",
    "\n",
    "for i in range(data_array_pca.shape[0]):\n",
    "    x_minus_mu_pca = data_array_pca[i,:] - mu_vec_pca\n",
    "    left_term_pca = np.dot(x_minus_mu_pca, inv_cormat_pca)\n",
    "    mahal = np.dot(left_term_pca, x_minus_mu_pca.T)\n",
    "    mahal = np.sqrt(mahal)\n",
    "    mahal_dist.append(mahal)\n",
    "\n",
    "np.mean(one_hot_data_maha)\n",
    "\n",
    "from scipy.stats import chi2\n",
    "one_hot_data_maha['p-value'] = 1 - chi2.cdf(mahal_dist, df = 24) #pdf(x, degreeOfFreedom = Number of Variables)\n",
    "\n",
    "#Calculate number of p-value less than 0.01\n",
    "print(np.count_nonzero(one_hot_data_maha['p-value'] < 0.01))"
   ]
  },
  {
   "cell_type": "code",
   "execution_count": 29,
   "id": "34ce3f41",
   "metadata": {},
   "outputs": [
    {
     "name": "stdout",
     "output_type": "stream",
     "text": [
      "Training accuracy: 0.5339\n",
      "[[67223   120]\n",
      " [58590    40]]\n"
     ]
    }
   ],
   "source": [
    "pvalue = one_hot_data_maha['p-value']\n",
    "bi_pvalue = pvalue\n",
    "\n",
    "bi_pvalue = np.where(pvalue < 0.01, 1, bi_pvalue)\n",
    "bi_pvalue = np.where(pvalue >= 0.01, 0, bi_pvalue)\n",
    "\n",
    "from sklearn.metrics import accuracy_score\n",
    "\n",
    "train_acc_maha = accuracy_score(kdd_train_y['class_binary'], bi_pvalue)\n",
    "print(\"Training accuracy: {:.4f}\".format(train_acc_maha))\n",
    "cm_maha = confusion_matrix (kdd_train_y[\"class_binary\"], bi_pvalue)\n",
    "print(cm_maha)"
   ]
  },
  {
   "cell_type": "code",
   "execution_count": 30,
   "id": "d6a4f3b9",
   "metadata": {},
   "outputs": [
    {
     "data": {
      "text/plain": [
       "Text(0.5, 1.0, 'Seaborn Confusion Matrix with labels\\n\\n')"
      ]
     },
     "execution_count": 30,
     "metadata": {},
     "output_type": "execute_result"
    },
    {
     "data": {
      "text/plain": [
       "Text(0.5, 15.0, 'Predicted Values')"
      ]
     },
     "execution_count": 30,
     "metadata": {},
     "output_type": "execute_result"
    },
    {
     "data": {
      "text/plain": [
       "Text(33.0, 0.5, 'Actual Values ')"
      ]
     },
     "execution_count": 30,
     "metadata": {},
     "output_type": "execute_result"
    },
    {
     "data": {
      "text/plain": [
       "[Text(0.5, 0, 'False'), Text(1.5, 0, 'True')]"
      ]
     },
     "execution_count": 30,
     "metadata": {},
     "output_type": "execute_result"
    },
    {
     "data": {
      "text/plain": [
       "[Text(0, 0.5, 'False'), Text(0, 1.5, 'True')]"
      ]
     },
     "execution_count": 30,
     "metadata": {},
     "output_type": "execute_result"
    },
    {
     "data": {
      "image/png": "[encoded data removed]",
      "text/plain": [
       "<Figure size 432x288 with 2 Axes>"
      ]
     },
     "metadata": {
      "needs_background": "light"
     },
     "output_type": "display_data"
    },
    {
     "name": "stdout",
     "output_type": "stream",
     "text": [
      "Precision =  0.25\n",
      "Recall =  0.0006822445846836091\n"
     ]
    }
   ],
   "source": [
    "ax = sns.heatmap(cm_maha, annot=True, cmap='Blues')\n",
    "\n",
    "ax.set_title('Seaborn Confusion Matrix with labels\\n\\n');\n",
    "ax.set_xlabel('Predicted Values')\n",
    "ax.set_ylabel('Actual Values ');\n",
    "\n",
    "## Ticket labels - List must be in alphabetical order\n",
    "ax.xaxis.set_ticklabels(['False','True'])\n",
    "ax.yaxis.set_ticklabels(['False','True'])\n",
    "\n",
    "## Display the visualization of the Confusion Matrix.\n",
    "plt.show()\n",
    "\n",
    "\n",
    "## FP,FN,TP,TN\n",
    "TN_maha = cm_maha[0][0]\n",
    "FN_maha = cm_maha[1][0]\n",
    "FP_maha = cm_maha[0][1]\n",
    "TP_maha = cm_maha[1][1]\n",
    "\n",
    "##Precision and Recall\n",
    "Precision_maha = TP_maha/(TP_maha+FP_maha)\n",
    "Recall_maha = TP_maha/(TP_maha+FN_maha)\n",
    "\n",
    "print (\"Precision = \",Precision_maha)\n",
    "print (\"Recall = \",Recall_maha)"
   ]
  },
  {
   "cell_type": "code",
   "execution_count": 31,
   "id": "420c30b2",
   "metadata": {},
   "outputs": [],
   "source": [
    "one_hot_data_pca = one_hot_data_pca.drop(['p-value'], axis =1)"
   ]
  },
  {
   "cell_type": "markdown",
   "id": "adb01324",
   "metadata": {},
   "source": [
    "# Minimum Covariance Determinant (MCD)"
   ]
  },
  {
   "cell_type": "markdown",
   "id": "d28409a6",
   "metadata": {},
   "source": [
    "## Before PCA"
   ]
  },
  {
   "cell_type": "code",
   "execution_count": 32,
   "id": "54056458",
   "metadata": {},
   "outputs": [],
   "source": [
    "from sklearn.covariance import MinCovDet\n",
    "from sklearn.datasets import make_gaussian_quantiles\n",
    "\n",
    "rng = np.random.RandomState(42)"
   ]
  },
  {
   "cell_type": "code",
   "execution_count": 33,
   "id": "4b37d262",
   "metadata": {},
   "outputs": [],
   "source": [
    "one_hot_data_ss = one_hot_data_ss.drop(['p-value'],axis = 1)"
   ]
  },
  {
   "cell_type": "code",
   "execution_count": 34,
   "id": "7b5601c8",
   "metadata": {},
   "outputs": [],
   "source": [
    "# mcd_model_ss = MinCovDet(random_state=42).fit(one_hot_data_ss)\n",
    "mcd_model_ss = joblib.load('model_mcd_ss.sav')"
   ]
  },
  {
   "cell_type": "code",
   "execution_count": 35,
   "id": "7c498d8d",
   "metadata": {},
   "outputs": [],
   "source": [
    "pickle.dump(mcd_model_ss,open('model_mcd_ss.sav','wb'))"
   ]
  },
  {
   "cell_type": "code",
   "execution_count": 36,
   "id": "89a6ae23",
   "metadata": {},
   "outputs": [
    {
     "data": {
      "text/plain": [
       "(121,)"
      ]
     },
     "execution_count": 36,
     "metadata": {},
     "output_type": "execute_result"
    }
   ],
   "source": [
    "mcd_model_ss.raw_location_.shape"
   ]
  },
  {
   "cell_type": "code",
   "execution_count": 37,
   "id": "a2860fee",
   "metadata": {},
   "outputs": [
    {
     "data": {
      "text/plain": [
       "array([ 2.54947740e-17, -4.51234938e-19,  7.61458958e-19, -4.79437122e-18,\n",
       "        4.23032754e-19,  4.45594501e-18, -2.24489382e-17,  2.98943147e-18,\n",
       "        1.55817065e-17, -6.54995715e-18,  1.75417582e-17, -3.66628387e-19,\n",
       "        3.58167732e-18, -4.65336030e-18,  3.97650789e-18, -5.30201052e-18,\n",
       "       -7.33256774e-19,  8.31964417e-18, -3.94830571e-17,  4.16264230e-17,\n",
       "        4.48414720e-18, -1.23243542e-16,  3.82985654e-17, -1.84724303e-17,\n",
       "       -1.61880534e-16, -1.71469276e-17, -2.72997138e-17, -1.75699604e-17,\n",
       "       -5.81529027e-17, -1.21551411e-16, -2.37462386e-17,  2.89918448e-17,\n",
       "        3.06839758e-17,  1.71187255e-17, -2.63126373e-17,  4.90717995e-17,\n",
       "        7.74996006e-17,  6.58156907e-02,  8.15166742e-01,  1.19017567e-01,\n",
       "        3.65157613e-04,  8.91699015e-02,  1.23994824e-02,  8.17635525e-04,\n",
       "        1.92184039e-02,  2.76654521e-01,  2.89744628e-03,  1.00815254e-03,\n",
       "        3.88972240e-04,  5.94929072e-01,  2.15125463e-03,  1.48444508e-03,\n",
       "        5.79489256e-04,  6.84273614e-03,  1.58764180e-05,  7.58098958e-03,\n",
       "        5.63612838e-03,  5.82664539e-03,  4.32632389e-03,  4.46921166e-03,\n",
       "        4.13580688e-03,  4.27075643e-03,  4.51684091e-03,  7.17852238e-02,\n",
       "        3.44518270e-03,  3.64046264e-02,  2.44258690e-02,  3.85003136e-03,\n",
       "        3.76271106e-03,  1.40268153e-02,  1.39236186e-02,  5.44561136e-02,\n",
       "        4.11199225e-03,  1.58764180e-05,  3.65157613e-03,  3.20211474e-01,\n",
       "        7.93820898e-06,  4.20725076e-03,  1.58764180e-05,  5.13602121e-03,\n",
       "        5.45354957e-03,  3.43724449e-03,  2.37352449e-03,  3.25466568e-03,\n",
       "        3.77064927e-03,  3.40549165e-03,  3.48487374e-03,  3.58013225e-03,\n",
       "        3.21497464e-03,  2.75455852e-03,  2.87363165e-03,  2.85775523e-03,\n",
       "        5.00107166e-03,  2.34970986e-03,  1.33361911e-03,  3.46026529e-02,\n",
       "        3.96910449e-05,  6.19180301e-04,  2.09568717e-03,  5.47736420e-04,\n",
       "        1.73473681e-01,  6.35056719e-05,  6.19180301e-04,  6.82685972e-04,\n",
       "        5.15983584e-04,  5.80521223e-02,  1.94486120e-03,  2.46878299e-03,\n",
       "        3.02445762e-03,  4.31838569e-03,  3.78652568e-03,  1.86786057e-02,\n",
       "        2.38146269e-05,  6.35056719e-05,  5.19158867e-03,  7.93820898e-05,\n",
       "        4.77880181e-03,  6.19180301e-03,  5.46942599e-03,  4.89787494e-03,\n",
       "        5.50117882e-03])"
      ]
     },
     "execution_count": 37,
     "metadata": {},
     "output_type": "execute_result"
    },
    {
     "data": {
      "text/plain": [
       "array([[ 1.56177027e+00, -1.00906473e-01, -2.58064545e-02, ...,\n",
       "        -2.39108621e-02, -2.17247544e-02, -1.50055933e-02],\n",
       "       [-1.00906473e-01,  1.04742432e+00,  1.30112677e-03, ...,\n",
       "        -5.30398147e-03, -5.38390405e-03,  6.57585493e-03],\n",
       "       [-2.58064545e-02,  1.30112677e-03,  1.00165155e+00, ...,\n",
       "         3.89815222e-03,  3.86331390e-03,  3.41541620e-03],\n",
       "       ...,\n",
       "       [-2.39108621e-02, -5.30398147e-03,  3.89815222e-03, ...,\n",
       "         2.76165669e+02,  9.30136349e+01,  9.32642642e+01],\n",
       "       [-2.17247544e-02, -5.38390405e-03,  3.86331390e-03, ...,\n",
       "         9.30136349e+01,  2.96871966e+02,  9.29503950e+01],\n",
       "       [-1.50055933e-02,  6.57585493e-03,  3.41541620e-03, ...,\n",
       "         9.32642642e+01,  9.29503950e+01,  2.75007339e+02]])"
      ]
     },
     "execution_count": 37,
     "metadata": {},
     "output_type": "execute_result"
    },
    {
     "name": "stderr",
     "output_type": "stream",
     "text": [
      "C:\\WINDOWS\\system32\\myenv\\lib\\site-packages\\numpy\\core\\fromnumeric.py:3430: FutureWarning: In a future version, DataFrame.mean(axis=None) will return a scalar mean over the entire DataFrame. To retain the old behavior, use 'frame.mean(axis=0)' or just 'frame.mean()'\n",
      "  return mean(axis=axis, dtype=dtype, out=out, **kwargs)\n"
     ]
    },
    {
     "data": {
      "text/plain": [
       "(duration,)          2.549477e-17\n",
       "(src_bytes,)        -4.512349e-19\n",
       "(dst_bytes,)         7.614590e-19\n",
       "(land,)             -4.794371e-18\n",
       "(wrong_fragment,)    4.230328e-19\n",
       "                         ...     \n",
       "service_uucp         6.191803e-03\n",
       "service_uucp_path    5.469426e-03\n",
       "service_vmnet        4.897875e-03\n",
       "service_whois        5.501179e-03\n",
       "p-value              9.649991e-01\n",
       "Length: 122, dtype: float64"
      ]
     },
     "execution_count": 37,
     "metadata": {},
     "output_type": "execute_result"
    },
    {
     "name": "stdout",
     "output_type": "stream",
     "text": [
      "82663\n"
     ]
    }
   ],
   "source": [
    "np.mean(data_array_ss,axis = 0)\n",
    "sp.linalg.pinv(np.cov(data_array_ss, rowvar=False))\n",
    "inv_cormat_mcd_ss = sp.linalg.pinv(mcd_model_ss.covariance_)\n",
    "mu_vect_mcd_ss = mcd_model_ss.location_\n",
    "mahal_dist = []\n",
    "for i in range(data_array_ss.shape[0]):\n",
    "    x_minus_mu_mcd_ss = data_array_ss[i,:] - mu_vect_mcd_ss\n",
    "    left_term_mcd_ss = np.dot(x_minus_mu_mcd_ss, inv_cormat_mcd_ss)\n",
    "    mahal = np.dot(left_term_mcd_ss, x_minus_mu_mcd_ss.T)\n",
    "    mahal = np.sqrt(mahal)\n",
    "    mahal_dist.append(mahal)\n",
    "    \n",
    "np.mean(one_hot_data_maha_ss)\n",
    "\n",
    "from scipy.stats import chi2\n",
    "one_hot_data_maha_ss['p-value_mcd'] = 1 - chi2.cdf(mahal_dist, df = 121) #pdf(x, degreeOfFreedom = Number of Variables)\n",
    "\n",
    "#Calculate number of p-value less than 0.01\n",
    "print(np.count_nonzero(one_hot_data_maha_ss['p-value_mcd'] < 0.01))"
   ]
  },
  {
   "cell_type": "code",
   "execution_count": 38,
   "id": "34b45a4f",
   "metadata": {},
   "outputs": [],
   "source": [
    "pvalue_mcd_ss = one_hot_data_maha_ss['p-value_mcd']\n",
    "bi_pvalue_mcd_ss = pvalue_mcd_ss\n",
    "\n",
    "bi_pvalue_mcd_ss = np.where(pvalue_mcd_ss < 0.01, 1, bi_pvalue_mcd_ss)\n",
    "bi_pvalue_mcd_ss = np.where(pvalue_mcd_ss >= 0.01, 0, bi_pvalue_mcd_ss)\n"
   ]
  },
  {
   "cell_type": "code",
   "execution_count": 39,
   "id": "5725bc0a",
   "metadata": {},
   "outputs": [
    {
     "name": "stdout",
     "output_type": "stream",
     "text": [
      "Training accuracy: 0.7877\n",
      "[[41954 25389]\n",
      " [ 1356 57274]]\n"
     ]
    }
   ],
   "source": [
    "from sklearn.metrics import accuracy_score\n",
    "\n",
    "train_acc_maha_mcd_ss = accuracy_score(kdd_train_y['class_binary'], bi_pvalue_mcd_ss)\n",
    "print(\"Training accuracy: {:.4f}\".format(train_acc_maha_mcd_ss))\n",
    "cm_maha_mcd_ss = confusion_matrix (kdd_train_y[\"class_binary\"], bi_pvalue_mcd_ss)\n",
    "print(cm_maha_mcd_ss)"
   ]
  },
  {
   "cell_type": "code",
   "execution_count": 40,
   "id": "10dbb212",
   "metadata": {},
   "outputs": [
    {
     "data": {
      "text/plain": [
       "Text(0.5, 1.0, 'Seaborn Confusion Matrix with labels\\n\\n')"
      ]
     },
     "execution_count": 40,
     "metadata": {},
     "output_type": "execute_result"
    },
    {
     "data": {
      "text/plain": [
       "Text(0.5, 15.0, '\\nPredicted Values')"
      ]
     },
     "execution_count": 40,
     "metadata": {},
     "output_type": "execute_result"
    },
    {
     "data": {
      "text/plain": [
       "Text(33.0, 0.5, 'Actual Values ')"
      ]
     },
     "execution_count": 40,
     "metadata": {},
     "output_type": "execute_result"
    },
    {
     "data": {
      "text/plain": [
       "[Text(0.5, 0, 'False'), Text(1.5, 0, 'True')]"
      ]
     },
     "execution_count": 40,
     "metadata": {},
     "output_type": "execute_result"
    },
    {
     "data": {
      "text/plain": [
       "[Text(0, 0.5, 'False'), Text(0, 1.5, 'True')]"
      ]
     },
     "execution_count": 40,
     "metadata": {},
     "output_type": "execute_result"
    },
    {
     "data": {
      "image/png": "[encoded data removed]",
      "text/plain": [
       "<Figure size 432x288 with 2 Axes>"
      ]
     },
     "metadata": {
      "needs_background": "light"
     },
     "output_type": "display_data"
    },
    {
     "name": "stdout",
     "output_type": "stream",
     "text": [
      "0.6928613769159115\n",
      "0.9768719085792257\n"
     ]
    }
   ],
   "source": [
    "ax = sns.heatmap(cm_maha_mcd_ss, annot=True, cmap='Blues')\n",
    "\n",
    "ax.set_title('Seaborn Confusion Matrix with labels\\n\\n');\n",
    "ax.set_xlabel('\\nPredicted Values')\n",
    "ax.set_ylabel('Actual Values ');\n",
    "\n",
    "## Ticket labels - List must be in alphabetical order\n",
    "ax.xaxis.set_ticklabels(['False','True'])\n",
    "ax.yaxis.set_ticklabels(['False','True'])\n",
    "\n",
    "## Display the visualization of the Confusion Matrix.\n",
    "plt.show()\n",
    "\n",
    "## FP,FN,TP,TN\n",
    "TN_maha_mcd = cm_maha_mcd_ss[0][0]\n",
    "FN_maha_mcd = cm_maha_mcd_ss[1][0]\n",
    "FP_maha_mcd = cm_maha_mcd_ss[0][1]\n",
    "TP_maha_mcd = cm_maha_mcd_ss[1][1]\n",
    "\n",
    "##Precision and Recall\n",
    "Precision_maha_mcd_ss = TP_maha_mcd/(TP_maha_mcd+FP_maha_mcd)\n",
    "Recall_maha_mcd_ss = TP_maha_mcd/(TP_maha_mcd+FN_maha_mcd)\n",
    "\n",
    "print (Precision_maha_mcd_ss)\n",
    "print (Recall_maha_mcd_ss)"
   ]
  },
  {
   "cell_type": "markdown",
   "id": "812f0bc4",
   "metadata": {},
   "source": [
    "## MCD with PCA"
   ]
  },
  {
   "cell_type": "code",
   "execution_count": 41,
   "id": "d3fd663a",
   "metadata": {},
   "outputs": [],
   "source": [
    "#mcd_model = MinCovDet(random_state=42).fit(one_hot_data_pca)\n",
    "mcd_model = joblib.load('model_mcd.sav')"
   ]
  },
  {
   "cell_type": "code",
   "execution_count": 42,
   "id": "cc31ef20",
   "metadata": {},
   "outputs": [],
   "source": [
    "pickle.dump(mcd_model,open('model_mcd.sav','wb'))"
   ]
  },
  {
   "cell_type": "code",
   "execution_count": 43,
   "id": "cb0ca94f",
   "metadata": {},
   "outputs": [
    {
     "data": {
      "text/plain": [
       "array([-3.01650556e-16, -3.38567215e-16, -4.87432441e-16,  1.78012183e-16,\n",
       "        4.95794388e-17, -1.50557357e-16, -5.62915585e-17, -2.79540044e-16,\n",
       "       -1.13259969e-16, -4.82962395e-17, -4.62233790e-17, -1.44395180e-17,\n",
       "        3.94830571e-18,  1.15628953e-18,  1.84442281e-17,  6.31728913e-18,\n",
       "       -2.12080421e-17,  3.29965549e-18,  7.79508356e-17,  6.02116621e-17,\n",
       "       -3.72635452e-16,  3.55996164e-16, -2.77960722e-16, -2.34529359e-16,\n",
       "       -1.96907646e-16])"
      ]
     },
     "execution_count": 43,
     "metadata": {},
     "output_type": "execute_result"
    },
    {
     "data": {
      "text/plain": [
       "array([[ 1.00000000e+00,  1.35857233e-14, -2.55947187e-15,\n",
       "        -2.94270313e-14, -6.80225047e-15,  2.70582186e-14,\n",
       "         1.49397754e-14, -1.19473000e-14,  9.78197590e-16,\n",
       "         1.54490700e-15, -7.75237777e-15, -1.82680710e-15,\n",
       "         6.31380039e-16, -5.19091811e-16, -4.19148844e-15,\n",
       "         1.85426541e-15, -3.33481152e-16,  9.38133207e-16,\n",
       "         2.17821862e-16,  2.14391292e-15,  1.92669281e-14,\n",
       "         1.79867663e-14, -1.08904075e-14,  1.54049593e-14,\n",
       "        -2.24334440e-14],\n",
       "       [ 1.45879475e-14,  1.00000000e+00, -2.20072608e-14,\n",
       "         4.69954581e-16,  1.90552677e-14, -3.31429550e-15,\n",
       "         5.60899128e-14, -2.86062397e-14, -8.39246277e-14,\n",
       "         4.57039981e-16, -5.03193550e-15,  5.57550772e-15,\n",
       "        -2.34109749e-15,  1.02648718e-15, -4.04367751e-15,\n",
       "         1.27560339e-14,  4.75131090e-14, -7.81750164e-15,\n",
       "        -2.31986014e-14,  1.04495719e-14,  4.15502173e-14,\n",
       "        -1.64554788e-14,  5.92056375e-15,  2.52431917e-14,\n",
       "        -4.37150316e-15],\n",
       "       [-2.50252135e-15, -2.20789039e-14,  1.00000000e+00,\n",
       "         3.40582555e-16,  2.62908865e-14,  1.93312592e-15,\n",
       "         1.98579823e-13,  1.42912781e-13, -1.85104763e-15,\n",
       "         3.56022457e-14,  5.58112094e-15,  4.42112317e-14,\n",
       "        -2.46345279e-15, -1.58777192e-15,  2.64538873e-15,\n",
       "         4.77563396e-15,  3.20333036e-14, -5.18292028e-15,\n",
       "        -4.38426091e-15,  4.40891745e-14,  1.23995828e-14,\n",
       "        -9.98627656e-15,  3.38020284e-15,  5.16170150e-15,\n",
       "        -1.30728761e-14],\n",
       "       [-2.52853674e-14, -2.05027323e-15,  2.65493393e-16,\n",
       "         1.00000000e+00, -4.32635163e-14,  2.58582876e-14,\n",
       "        -1.79579937e-14,  2.54407760e-15,  1.86774201e-14,\n",
       "         3.12397701e-16, -1.18180155e-14, -3.59512767e-15,\n",
       "         1.17611213e-15, -7.44803042e-16, -8.34984529e-15,\n",
       "        -2.29686222e-15, -9.95352890e-15,  2.11111269e-15,\n",
       "         3.90645992e-15, -4.17290943e-15, -2.14881485e-14,\n",
       "         8.83262741e-17, -3.17637284e-16, -8.58253498e-15,\n",
       "         8.25728375e-15],\n",
       "       [-5.67338138e-16,  1.76903932e-14,  2.65833357e-14,\n",
       "        -4.36704787e-14,  1.00000000e+00, -2.49826297e-14,\n",
       "        -2.85215617e-14,  2.87359024e-14,  4.92763205e-14,\n",
       "         1.18451408e-15,  9.23480949e-15,  3.78212572e-15,\n",
       "         9.76810444e-16, -1.66071945e-15, -1.14890227e-14,\n",
       "        -9.34814118e-15, -2.31467509e-14,  4.65949651e-15,\n",
       "         1.21750007e-14, -5.97460136e-15, -1.27108578e-14,\n",
       "         8.17724962e-15, -4.37040733e-15, -1.04674070e-14,\n",
       "         1.38777878e-15],\n",
       "       [ 1.83864126e-14, -3.46712135e-15,  1.92453024e-15,\n",
       "         2.67547724e-14, -2.42234082e-14,  1.00000000e+00,\n",
       "         4.59217940e-14, -3.02730604e-14, -2.63648973e-14,\n",
       "        -7.07645695e-15,  4.06047173e-14,  2.25144448e-16,\n",
       "         1.23414103e-16, -1.67279337e-15, -7.73831352e-15,\n",
       "         1.65274897e-15,  7.37715925e-15, -1.95259641e-15,\n",
       "        -7.84455678e-15,  5.62893946e-15,  3.72181427e-14,\n",
       "         1.49025787e-15, -3.13500309e-16,  1.59127548e-14,\n",
       "        -1.24830701e-14],\n",
       "       [ 1.29772912e-14,  5.58181238e-14,  1.98122975e-13,\n",
       "        -1.63060354e-14, -2.87985368e-14,  4.43371869e-14,\n",
       "         1.00000000e+00,  4.44482753e-14,  1.19218258e-13,\n",
       "        -9.74720036e-15, -2.13650119e-14,  3.25880941e-14,\n",
       "         6.22240056e-15, -6.99224395e-16,  1.34251169e-14,\n",
       "        -6.32626612e-15, -3.32058425e-14,  1.46257324e-14,\n",
       "         2.12405092e-14, -6.78905918e-14, -4.20270185e-14,\n",
       "         3.17953750e-14, -1.12470927e-14, -1.70819301e-14,\n",
       "         8.54871729e-15],\n",
       "       [-9.47448416e-15, -2.78667138e-14,  1.42867010e-13,\n",
       "         1.02622850e-15,  3.04237181e-14, -2.81710333e-14,\n",
       "         4.45836605e-14,  1.00000000e+00, -6.57125498e-14,\n",
       "        -2.58366137e-14,  4.34968510e-14,  2.53158543e-14,\n",
       "        -5.16089263e-15, -4.16529563e-15, -1.51384966e-14,\n",
       "         1.38991962e-14,  2.05550430e-14,  1.64280722e-15,\n",
       "        -3.50669802e-14, -5.31351470e-14,  3.96963841e-14,\n",
       "        -2.04022632e-14,  9.39199593e-15,  2.18742425e-14,\n",
       "         1.73333570e-14],\n",
       "       [-4.29564074e-16, -8.40811255e-14, -1.96600391e-15,\n",
       "         1.79254649e-14,  4.63494994e-14, -2.83354013e-14,\n",
       "         1.19133065e-13, -6.49403025e-14,  1.00000000e+00,\n",
       "        -5.90128173e-15, -5.51954775e-14,  1.67667319e-14,\n",
       "        -3.93087155e-14,  1.53963403e-14, -8.50949930e-15,\n",
       "         2.17804559e-14,  5.19534634e-14, -8.46064137e-15,\n",
       "        -5.66698569e-14, -2.13909137e-15,  7.95652630e-14,\n",
       "        -4.85513678e-14,  1.42991977e-14,  4.78580100e-14,\n",
       "         1.22263311e-14],\n",
       "       [ 1.42998732e-15,  6.25842113e-16,  3.57597613e-14,\n",
       "         3.17580101e-16,  1.67262053e-15, -6.76014224e-15,\n",
       "        -9.83360359e-15, -2.61598758e-14, -6.05906403e-15,\n",
       "         1.00000000e+00,  2.09040072e-14,  1.12818406e-14,\n",
       "        -3.19182072e-15, -1.33436428e-15, -7.64720283e-15,\n",
       "         8.82209394e-15, -1.27751029e-14, -4.34137855e-14,\n",
       "        -3.46729730e-15, -1.82042345e-14,  8.86994886e-15,\n",
       "        -6.16195092e-16,  2.65261364e-15,  4.87644756e-15,\n",
       "         5.64825964e-15],\n",
       "       [-7.28209430e-15, -4.50281360e-15,  5.74641223e-15,\n",
       "        -1.22733655e-14,  1.01021322e-14,  4.11399092e-14,\n",
       "        -2.10984811e-14,  4.23881814e-14, -5.42054308e-14,\n",
       "         2.10237912e-14,  1.00000000e+00,  4.41023620e-15,\n",
       "        -2.03171773e-14,  6.35744358e-15,  9.54438645e-15,\n",
       "         1.60159347e-14,  3.92299015e-14, -1.35000652e-15,\n",
       "        -5.62341744e-15, -1.28325760e-14, -3.79458288e-14,\n",
       "        -2.62059689e-15, -1.16442531e-14,  5.29975883e-15,\n",
       "         1.35143632e-14],\n",
       "       [-1.61291733e-15,  5.46251299e-15,  4.45058844e-14,\n",
       "        -3.76763087e-15,  3.45169658e-15, -2.64286434e-16,\n",
       "         3.14644612e-14,  2.52011217e-14,  1.78403760e-14,\n",
       "         1.26660747e-14,  6.41464272e-15,  1.00000000e+00,\n",
       "         3.07253740e-14, -1.19539199e-14, -4.31567664e-15,\n",
       "         3.13461678e-14, -1.56229305e-14, -3.25129863e-15,\n",
       "        -4.14689824e-15, -2.82417444e-14,  1.77721454e-15,\n",
       "        -1.08551662e-15,  1.46464206e-15, -4.21320600e-16,\n",
       "         1.49602553e-14],\n",
       "       [ 6.38099750e-16, -2.42164472e-15, -1.84940982e-15,\n",
       "         1.34090957e-15,  7.96839221e-16, -5.26536144e-16,\n",
       "         6.01888578e-15, -6.42294041e-15, -3.93024503e-14,\n",
       "        -2.90805060e-15, -1.64867147e-14,  3.25585926e-14,\n",
       "         1.00000000e+00,  4.00009709e-14,  1.72118782e-15,\n",
       "        -8.35684989e-14, -5.57907276e-14,  5.70011800e-15,\n",
       "         4.43157304e-15, -8.23652873e-16, -4.44601483e-15,\n",
       "         1.54519273e-15, -5.30008341e-16,  1.11683243e-16,\n",
       "         4.64905892e-16],\n",
       "       [-3.72234716e-16,  9.24824588e-16, -8.64463712e-16,\n",
       "        -6.32596792e-16, -1.67284251e-15, -2.26148682e-15,\n",
       "        -1.10479813e-15, -5.10885326e-15,  1.62057122e-14,\n",
       "        -2.05673209e-15,  7.43393881e-15, -1.36522376e-14,\n",
       "         3.83261640e-14,  1.00000000e+00,  1.67432582e-14,\n",
       "         2.89666699e-14,  1.60186718e-14, -2.33133861e-15,\n",
       "        -1.57584023e-15,  7.33041202e-16,  2.92841404e-15,\n",
       "        -2.08741172e-15,  2.34626866e-15,  3.09710355e-16,\n",
       "        -8.84275292e-16],\n",
       "       [-2.64929354e-15, -4.43885011e-15,  2.29459173e-15,\n",
       "        -8.73990515e-15, -1.15364804e-14, -7.95375778e-15,\n",
       "         1.34132652e-14, -1.47388444e-14, -8.23179240e-15,\n",
       "        -6.99564758e-15,  9.42526130e-15, -4.10595001e-15,\n",
       "         2.13827613e-15,  1.71798645e-14,  1.00000000e+00,\n",
       "         1.61276903e-14, -2.20143469e-14, -1.50830585e-15,\n",
       "         4.28902788e-16, -2.25712990e-15,  6.81494679e-15,\n",
       "        -5.30385398e-15,  4.65622773e-16, -1.02970068e-15,\n",
       "         7.97972799e-16],\n",
       "       [ 2.31340634e-15,  1.27294882e-14,  4.19669507e-15,\n",
       "        -1.76899732e-15, -8.38497612e-15,  2.12176951e-15,\n",
       "        -5.30098088e-15,  1.51477671e-14,  2.38367085e-14,\n",
       "         6.33274794e-15,  1.59222867e-14,  2.77515046e-14,\n",
       "        -8.56349424e-14,  2.56470831e-14,  1.63588951e-14,\n",
       "         1.00000000e+00, -2.00589518e-14,  4.23975354e-15,\n",
       "         1.00855347e-14, -1.63265912e-15, -1.18511779e-14,\n",
       "         9.32093778e-15, -3.53452079e-15, -8.20746562e-15,\n",
       "        -2.42861287e-16],\n",
       "       [ 6.30189275e-16,  4.66787538e-14,  3.22015235e-14,\n",
       "        -8.55673494e-15, -2.18748887e-14,  6.58828898e-15,\n",
       "        -3.18584647e-14,  1.92101463e-14,  5.21867018e-14,\n",
       "        -1.26920437e-14,  4.29051638e-14, -1.70280118e-14,\n",
       "        -5.48496700e-14,  1.57931285e-14, -2.15341476e-14,\n",
       "        -2.25117646e-14,  1.00000000e+00,  1.42477887e-14,\n",
       "         4.03771167e-14, -1.90805453e-14, -4.30264983e-14,\n",
       "         3.16240328e-14, -4.79676315e-15, -3.29487989e-14,\n",
       "        -3.33674061e-15],\n",
       "       [ 8.44137506e-16, -7.63677237e-15, -5.22717491e-15,\n",
       "         2.20280565e-15,  4.27609668e-15, -2.20145195e-15,\n",
       "         1.41752014e-14,  2.08909721e-15, -8.20908761e-15,\n",
       "        -4.34767833e-14, -1.56050991e-15, -4.18874048e-15,\n",
       "         4.40624952e-15, -1.49443446e-15, -1.88237257e-15,\n",
       "         7.19515434e-15,  1.43920037e-14,  1.00000000e+00,\n",
       "        -7.76433865e-15, -2.76935726e-15,  9.30029111e-15,\n",
       "        -4.47072434e-15,  1.61359018e-15,  4.71232255e-15,\n",
       "         1.38777878e-15],\n",
       "       [ 1.23632093e-15, -2.43697363e-14, -4.39051661e-15,\n",
       "         4.80593121e-15,  1.22679348e-14, -9.08521925e-15,\n",
       "         2.09662192e-14, -3.47744173e-14, -5.67305044e-14,\n",
       "        -4.05512481e-15, -5.47355559e-15, -3.66191715e-15,\n",
       "         3.94767372e-15, -1.19297359e-15,  8.74850882e-16,\n",
       "         1.09057495e-14,  4.19569327e-14, -8.42001960e-15,\n",
       "         1.00000000e+00, -1.61489137e-14,  2.88093884e-14,\n",
       "        -1.57262231e-14,  3.21239305e-15,  1.38417749e-14,\n",
       "         1.05471187e-15],\n",
       "       [ 1.25381183e-15,  1.07217230e-14,  4.44587538e-14,\n",
       "        -4.39370336e-15, -6.46658746e-15,  5.24473944e-15,\n",
       "        -6.84547721e-14, -5.32409898e-14, -7.31461644e-17,\n",
       "        -1.95639345e-14, -1.08238838e-14, -2.72540667e-14,\n",
       "        -1.74373328e-15,  1.95394274e-15, -1.62904515e-15,\n",
       "        -2.19815941e-15, -1.63474353e-14, -3.83333415e-15,\n",
       "        -1.58630779e-14,  1.00000000e+00,  2.23503288e-15,\n",
       "         2.76391475e-15,  1.43978128e-15, -6.05346154e-15,\n",
       "        -4.32986980e-15],\n",
       "       [ 1.38755566e-14,  4.46241346e-14,  1.20003136e-14,\n",
       "        -2.09148468e-14, -1.37035877e-14,  3.70434107e-14,\n",
       "        -4.21785747e-14,  4.14828229e-14,  7.70565831e-14,\n",
       "         9.41459636e-15, -3.71395367e-14,  9.23152151e-16,\n",
       "        -5.29595290e-15,  2.11019471e-15,  6.16940273e-15,\n",
       "        -1.15695645e-14, -4.37360211e-14,  9.15166704e-15,\n",
       "         2.98736345e-14,  7.02992740e-16,  1.00000000e+00,\n",
       "         2.30846766e-14, -1.20825703e-14, -2.35899449e-14,\n",
       "        -7.04991621e-15],\n",
       "       [ 1.41061154e-14, -1.42644566e-14, -1.03767132e-14,\n",
       "         3.00689077e-15,  1.09558218e-14,  2.86304948e-15,\n",
       "         3.06496318e-14, -1.86992374e-14, -4.95571658e-14,\n",
       "        -2.15183052e-16, -2.54336255e-15, -8.49465625e-16,\n",
       "         1.60269751e-15, -1.97414184e-15, -5.03425015e-15,\n",
       "         9.75482917e-15,  3.13992167e-14, -5.05960199e-15,\n",
       "        -1.84827171e-14,  2.71492183e-15,  2.38389384e-14,\n",
       "         1.00000000e+00, -2.21888221e-15,  1.57932947e-14,\n",
       "        -4.89885910e-15],\n",
       "       [-9.33801908e-15,  2.30698138e-15,  3.38019750e-15,\n",
       "        -1.78611655e-15, -4.46948318e-15,  1.36145016e-16,\n",
       "        -1.09443382e-14,  8.85344927e-15,  1.44498117e-14,\n",
       "         2.62773649e-15, -1.15757304e-14,  1.28301290e-15,\n",
       "        -7.90298523e-16,  2.04926877e-15,  5.30674036e-16,\n",
       "        -3.50318491e-15, -4.66547841e-15,  1.84266387e-15,\n",
       "         5.95341082e-15,  8.95416371e-16, -1.08275457e-14,\n",
       "         2.05238984e-15,  1.00000000e+00, -7.64124220e-15,\n",
       "         6.11836970e-15],\n",
       "       [ 1.09399438e-14,  2.60353256e-14,  4.80914931e-15,\n",
       "        -1.02226079e-14, -1.36520655e-14,  1.49627209e-14,\n",
       "        -1.63491343e-14,  2.23520835e-14,  4.64971048e-14,\n",
       "         5.04843472e-15,  5.75992518e-15, -6.22283198e-16,\n",
       "        -1.94386719e-16,  2.02426115e-16, -2.20623045e-15,\n",
       "        -7.91855283e-15, -3.16726474e-14,  4.03322225e-15,\n",
       "         1.52593114e-14, -7.49781548e-15, -2.42110108e-14,\n",
       "         1.72869548e-14, -5.57087794e-15,  1.00000000e+00,\n",
       "        -7.84095011e-15],\n",
       "       [-1.90044232e-14, -5.61866761e-15, -1.35506176e-14,\n",
       "         7.29944375e-15, -4.18283022e-16, -1.42334581e-14,\n",
       "         7.89359455e-15,  1.87110521e-14,  1.38864831e-14,\n",
       "         5.87886643e-15,  1.28576977e-14,  1.64462567e-14,\n",
       "         5.84545898e-16, -8.43666220e-16,  2.52743759e-16,\n",
       "        -4.49701763e-16, -3.69813781e-15,  8.03643992e-16,\n",
       "        -7.68936456e-18, -5.00307335e-15, -3.15156960e-15,\n",
       "        -3.59141578e-15,  4.24826273e-15, -5.29542581e-15,\n",
       "         1.00000000e+00]])"
      ]
     },
     "execution_count": 43,
     "metadata": {},
     "output_type": "execute_result"
    },
    {
     "name": "stderr",
     "output_type": "stream",
     "text": [
      "C:\\WINDOWS\\system32\\myenv\\lib\\site-packages\\numpy\\core\\fromnumeric.py:3430: FutureWarning: In a future version, DataFrame.mean(axis=None) will return a scalar mean over the entire DataFrame. To retain the old behavior, use 'frame.mean(axis=0)' or just 'frame.mean()'\n",
      "  return mean(axis=axis, dtype=dtype, out=out, **kwargs)\n"
     ]
    },
    {
     "data": {
      "text/plain": [
       "Variable 0    -3.016506e-16\n",
       "Variable 1    -3.385672e-16\n",
       "Variable 2    -4.874324e-16\n",
       "Variable 3     1.780122e-16\n",
       "Variable 4     4.957944e-17\n",
       "Variable 5    -1.505574e-16\n",
       "Variable 6    -5.629156e-17\n",
       "Variable 7    -2.795400e-16\n",
       "Variable 8    -1.132600e-16\n",
       "Variable 9    -4.829624e-17\n",
       "Variable 10   -4.622338e-17\n",
       "Variable 11   -1.443952e-17\n",
       "Variable 12    3.948306e-18\n",
       "Variable 13    1.156290e-18\n",
       "Variable 14    1.844423e-17\n",
       "Variable 15    6.317289e-18\n",
       "Variable 16   -2.120804e-17\n",
       "Variable 17    3.299655e-18\n",
       "Variable 18    7.795084e-17\n",
       "Variable 19    6.021166e-17\n",
       "Variable 20   -3.726355e-16\n",
       "Variable 21    3.559962e-16\n",
       "Variable 22   -2.779607e-16\n",
       "Variable 23   -2.345294e-16\n",
       "Variable 24   -1.969076e-16\n",
       "p-value        9.966979e-01\n",
       "dtype: float64"
      ]
     },
     "execution_count": 43,
     "metadata": {},
     "output_type": "execute_result"
    },
    {
     "name": "stdout",
     "output_type": "stream",
     "text": [
      "60281\n"
     ]
    }
   ],
   "source": [
    "np.mean(data_array_pca,axis = 0)\n",
    "sp.linalg.pinv(np.cov(data_array_pca, rowvar=False))\n",
    "inv_cormat_mcd_pca = sp.linalg.pinv(mcd_model.covariance_)\n",
    "mu_vect_mcd_pca = mcd_model.location_\n",
    "mahal_dist = []\n",
    "for i in range(data_array_pca.shape[0]):\n",
    "    x_minus_mu_mcd_pca = data_array_pca[i,:] - mu_vect_mcd_pca\n",
    "    left_term_mcd_pca = np.dot(x_minus_mu_mcd_pca, inv_cormat_mcd_pca)\n",
    "    mahal = np.dot(left_term_mcd_pca, x_minus_mu_mcd_pca.T)\n",
    "    mahal = np.sqrt(mahal)\n",
    "    mahal_dist.append(mahal)\n",
    "    \n",
    "np.mean(one_hot_data_maha)\n",
    "\n",
    "from scipy.stats import chi2\n",
    "one_hot_data_maha['p-value_mcd'] = 1 - chi2.cdf(mahal_dist, df = 24) #pdf(x, degreeOfFreedom = Number of Variables)\n",
    "\n",
    "#Calculate number of p-value less than 0.01\n",
    "print(np.count_nonzero(one_hot_data_maha['p-value_mcd'] < 0.01))"
   ]
  },
  {
   "cell_type": "code",
   "execution_count": 44,
   "id": "e5b6e043",
   "metadata": {},
   "outputs": [],
   "source": [
    "pvalue_mcd = one_hot_data_maha['p-value_mcd']\n",
    "bi_pvalue_mcd = pvalue_mcd\n",
    "\n",
    "bi_pvalue_mcd = np.where(pvalue_mcd < 0.01, 1, bi_pvalue_mcd)\n",
    "bi_pvalue_mcd = np.where(pvalue_mcd >= 0.01, 0, bi_pvalue_mcd)"
   ]
  },
  {
   "cell_type": "code",
   "execution_count": 45,
   "id": "78e6aa7c",
   "metadata": {},
   "outputs": [
    {
     "name": "stdout",
     "output_type": "stream",
     "text": [
      "Training accuracy: 0.4860\n",
      "[[34145 33198]\n",
      " [31547 27083]]\n"
     ]
    }
   ],
   "source": [
    "from sklearn.metrics import accuracy_score\n",
    "\n",
    "train_acc_maha_mcd = accuracy_score(kdd_train_y['class_binary'], bi_pvalue_mcd)\n",
    "print(\"Training accuracy: {:.4f}\".format(train_acc_maha_mcd))\n",
    "cm_maha_mcd = confusion_matrix (kdd_train_y[\"class_binary\"], bi_pvalue_mcd)\n",
    "print(cm_maha_mcd)"
   ]
  },
  {
   "cell_type": "code",
   "execution_count": 46,
   "id": "ab17fb20",
   "metadata": {},
   "outputs": [
    {
     "data": {
      "text/plain": [
       "Text(0.5, 1.0, 'Seaborn Confusion Matrix with labels\\n\\n')"
      ]
     },
     "execution_count": 46,
     "metadata": {},
     "output_type": "execute_result"
    },
    {
     "data": {
      "text/plain": [
       "Text(0.5, 15.0, '\\nPredicted Values')"
      ]
     },
     "execution_count": 46,
     "metadata": {},
     "output_type": "execute_result"
    },
    {
     "data": {
      "text/plain": [
       "Text(33.0, 0.5, 'Actual Values ')"
      ]
     },
     "execution_count": 46,
     "metadata": {},
     "output_type": "execute_result"
    },
    {
     "data": {
      "text/plain": [
       "[Text(0.5, 0, 'False'), Text(1.5, 0, 'True')]"
      ]
     },
     "execution_count": 46,
     "metadata": {},
     "output_type": "execute_result"
    },
    {
     "data": {
      "text/plain": [
       "[Text(0, 0.5, 'False'), Text(0, 1.5, 'True')]"
      ]
     },
     "execution_count": 46,
     "metadata": {},
     "output_type": "execute_result"
    },
    {
     "data": {
      "image/png": "[encoded data removed]",
      "text/plain": [
       "<Figure size 432x288 with 2 Axes>"
      ]
     },
     "metadata": {
      "needs_background": "light"
     },
     "output_type": "display_data"
    },
    {
     "name": "stdout",
     "output_type": "stream",
     "text": [
      "0.44927920903767354\n",
      "0.4619307521746546\n"
     ]
    }
   ],
   "source": [
    "ax = sns.heatmap(cm_maha_mcd_ss, annot=True, cmap='Blues')\n",
    "\n",
    "ax.set_title('Seaborn Confusion Matrix with labels\\n\\n');\n",
    "ax.set_xlabel('\\nPredicted Values')\n",
    "ax.set_ylabel('Actual Values ');\n",
    "\n",
    "## Ticket labels - List must be in alphabetical order\n",
    "ax.xaxis.set_ticklabels(['False','True'])\n",
    "ax.yaxis.set_ticklabels(['False','True'])\n",
    "\n",
    "## Display the visualization of the Confusion Matrix.\n",
    "plt.show()\n",
    "\n",
    "## FP,FN,TP,TN\n",
    "TN_maha_mcd = cm_maha_mcd[0][0]\n",
    "FN_maha_mcd = cm_maha_mcd[1][0]\n",
    "FP_maha_mcd = cm_maha_mcd[0][1]\n",
    "TP_maha_mcd = cm_maha_mcd[1][1]\n",
    "\n",
    "##Precision and Recall\n",
    "Precision_maha_mcd = TP_maha_mcd/(TP_maha_mcd+FP_maha_mcd)\n",
    "Recall_maha_mcd = TP_maha_mcd/(TP_maha_mcd+FN_maha_mcd)\n",
    "\n",
    "print (Precision_maha_mcd)\n",
    "print (Recall_maha_mcd)"
   ]
  },
  {
   "cell_type": "markdown",
   "id": "e096f043",
   "metadata": {},
   "source": [
    "# Isolation Forest\n",
    "## Before PCA"
   ]
  },
  {
   "cell_type": "code",
   "execution_count": 47,
   "id": "de640eca",
   "metadata": {},
   "outputs": [
    {
     "data": {
      "text/plain": [
       "array([0.        , 0.03333333, 0.06666667, 0.1       , 0.13333333,\n",
       "       0.16666667, 0.2       , 0.23333333, 0.26666667, 0.3       ])"
      ]
     },
     "execution_count": 47,
     "metadata": {},
     "output_type": "execute_result"
    }
   ],
   "source": [
    "from sklearn.ensemble import IsolationForest\n",
    "from scipy.stats import uniform as sp_randFloat\n",
    "from scipy.stats import randint as sp_randInt\n",
    "model_if_ss = IsolationForest(random_state = 99)\n",
    "# parameters = {'n_estimators' : sp_randInt(100, 1000),\n",
    "#             'contamination' : sp_randFloat(0, 1)\n",
    "#              }\n",
    "parameters = {'n_estimators' : [1000,2000,3000,4000,5000,6000],\n",
    "            'contamination' : np.linspace(0, 0.2, num = 10)\n",
    "             # 'bootstrap': [True, False]\n",
    "             }\n",
    "np.linspace(0, 0.3, num = 10)\n",
    "\n",
    "\n"
   ]
  },
  {
   "cell_type": "code",
   "execution_count": 48,
   "id": "857ee018",
   "metadata": {},
   "outputs": [],
   "source": [
    "one_hot_data_if_ss = one_hot_data_if_ss.drop(['p-value','p-value_mcd'],axis = 1)"
   ]
  },
  {
   "cell_type": "code",
   "execution_count": 49,
   "id": "ed03361a",
   "metadata": {},
   "outputs": [],
   "source": [
    "def scorer_f(estimator, X):   #Scorer function for isolation forest\n",
    "       return np.mean(estimator.score_samples(one_hot_data_if_ss))\n",
    "from sklearn.metrics import make_scorer, f1_score\n",
    "#Set normal to 0 and abnormal to 1 (binary)\n"
   ]
  },
  {
   "cell_type": "code",
   "execution_count": 50,
   "id": "b905a68a",
   "metadata": {},
   "outputs": [],
   "source": [
    "# randomly sample\n",
    "idx_rand = np.random.permutation(len(one_hot_data_if_ss))\n",
    "num_sample = int(0.01*len(one_hot_data_if_ss))\n",
    "one_hot_data_if_sample = one_hot_data_if_ss.iloc[idx_rand[:num_sample]]\n",
    "kdd_train_y_sample = kdd_train_y.iloc[idx_rand[:num_sample]]"
   ]
  },
  {
   "cell_type": "code",
   "execution_count": 51,
   "id": "c733739c",
   "metadata": {},
   "outputs": [],
   "source": [
    "one_hot_data_if_ss = pd.DataFrame(one_hot_data_if_ss)"
   ]
  },
  {
   "cell_type": "code",
   "execution_count": 52,
   "id": "9ab210ea",
   "metadata": {},
   "outputs": [
    {
     "name": "stdout",
     "output_type": "stream",
     "text": [
      "<class 'pandas.core.frame.DataFrame'>\n",
      "RangeIndex: 125973 entries, 0 to 125972\n",
      "Columns: 121 entries, ('duration',) to service_whois\n",
      "dtypes: float64(37), uint8(84)\n",
      "memory usage: 45.7 MB\n"
     ]
    }
   ],
   "source": [
    "one_hot_data_if_ss.info()"
   ]
  },
  {
   "cell_type": "code",
   "execution_count": 53,
   "id": "818ebcd6",
   "metadata": {},
   "outputs": [
    {
     "name": "stderr",
     "output_type": "stream",
     "text": [
      "C:\\WINDOWS\\system32\\myenv\\lib\\site-packages\\sklearn\\model_selection\\_validation.py:378: FitFailedWarning: \n",
      "3 fits failed out of a total of 30.\n",
      "The score on these train-test partitions for these parameters will be set to nan.\n",
      "If these failures are not expected, you can try to debug them by setting error_score='raise'.\n",
      "\n",
      "Below are more details about the failures:\n",
      "--------------------------------------------------------------------------------\n",
      "3 fits failed with the following error:\n",
      "Traceback (most recent call last):\n",
      "  File \"C:\\WINDOWS\\system32\\myenv\\lib\\site-packages\\sklearn\\model_selection\\_validation.py\", line 686, in _fit_and_score\n",
      "    estimator.fit(X_train, y_train, **fit_params)\n",
      "  File \"C:\\WINDOWS\\system32\\myenv\\lib\\site-packages\\sklearn\\ensemble\\_iforest.py\", line 271, in fit\n",
      "    raise ValueError(\n",
      "ValueError: contamination must be in (0, 0.5], got: 0.000000\n",
      "\n",
      "  warnings.warn(some_fits_failed_message, FitFailedWarning)\n",
      "C:\\WINDOWS\\system32\\myenv\\lib\\site-packages\\sklearn\\model_selection\\_search.py:953: UserWarning: One or more of the test scores are non-finite: [0.40742698 0.39153502 0.32959238 0.40980983 0.45349661        nan\n",
      " 0.39153502 0.33038603 0.37406713 0.4209323 ]\n",
      "  warnings.warn(\n",
      "C:\\WINDOWS\\system32\\myenv\\lib\\site-packages\\sklearn\\model_selection\\_search.py:953: UserWarning: One or more of the train scores are non-finite: [0.40547089 0.38958653 0.32366196 0.40507359 0.45193588        nan\n",
      " 0.38958653 0.32405925 0.37290709 0.42214986]\n",
      "  warnings.warn(\n",
      "C:\\WINDOWS\\system32\\myenv\\lib\\site-packages\\sklearn\\utils\\validation.py:1858: FutureWarning: Feature names only support names that are all strings. Got feature names with dtypes: ['str', 'tuple']. An error will be raised in 1.2.\n",
      "  warnings.warn(\n"
     ]
    }
   ],
   "source": [
    "f1sc = make_scorer(f1_score, average = 'micro')\n",
    "randm_src = RandomizedSearchCV(estimator=model_if_ss, param_distributions = parameters, cv = 3, scoring = f1sc, random_state = 0, return_train_score = True, n_jobs = -1)\n",
    "model = randm_src.fit(one_hot_data_if_sample, kdd_train_y_sample[\"class_binary\"])\n",
    "pickle.dump(model,open('model_rds_if.sav','wb'))"
   ]
  },
  {
   "cell_type": "code",
   "execution_count": 54,
   "id": "f6b56625",
   "metadata": {},
   "outputs": [
    {
     "name": "stdout",
     "output_type": "stream",
     "text": [
      " Results from Random Search \n",
      "\n",
      " The best estimator across ALL searched params:\n",
      " IsolationForest(contamination=0.022222222222222223, n_estimators=6000,\n",
      "                random_state=99)\n",
      "\n",
      " The best score across ALL searched params:\n",
      " 0.45349660946319653\n",
      "\n",
      " The best parameters across ALL searched params:\n",
      " {'n_estimators': 6000, 'contamination': 0.022222222222222223}\n"
     ]
    }
   ],
   "source": [
    "print(\" Results from Random Search \" )\n",
    "print(\"\\n The best estimator across ALL searched params:\\n\", randm_src.best_estimator_)\n",
    "print(\"\\n The best score across ALL searched params:\\n\", randm_src.best_score_)\n",
    "print(\"\\n The best parameters across ALL searched params:\\n\", randm_src.best_params_)"
   ]
  },
  {
   "cell_type": "code",
   "execution_count": 55,
   "id": "4130e871",
   "metadata": {},
   "outputs": [],
   "source": [
    "#model_if_ss = IsolationForest(n_estimators=6000,contamination = 0.022222222222222223, max_features = 1.0)\n",
    "#model_if_ss = model_if_ss.fit(one_hot_data_if_ss)\n",
    "model_if_ss = joblib.load('model_if_ss.sav')\n",
    "pickle.dump(model_if_ss,open('model_if_ss.sav','wb'))"
   ]
  },
  {
   "cell_type": "code",
   "execution_count": 56,
   "id": "d6d47a31",
   "metadata": {},
   "outputs": [
    {
     "name": "stderr",
     "output_type": "stream",
     "text": [
      "C:\\WINDOWS\\system32\\myenv\\lib\\site-packages\\sklearn\\utils\\validation.py:1858: FutureWarning: Feature names only support names that are all strings. Got feature names with dtypes: ['str', 'tuple']. An error will be raised in 1.2.\n",
      "  warnings.warn(\n"
     ]
    }
   ],
   "source": [
    "y_pred_if_ss = model_if_ss.predict(one_hot_data_if_ss)\n",
    "\n",
    "pickle.dump(y_pred_if_ss,open('y_pred_if_ss.sav','wb'))"
   ]
  },
  {
   "cell_type": "code",
   "execution_count": 57,
   "id": "b246ab96",
   "metadata": {},
   "outputs": [],
   "source": [
    "\n",
    "##y_pred_if_ss = joblib.load('y_pred_if_ss.sav')\n"
   ]
  },
  {
   "cell_type": "code",
   "execution_count": 58,
   "id": "699844f6",
   "metadata": {},
   "outputs": [
    {
     "name": "stdout",
     "output_type": "stream",
     "text": [
      "Training accuracy: 0.4477\n"
     ]
    }
   ],
   "source": [
    "y_pred_if_ss = np.where(y_pred_if_ss == -1, 0, y_pred_if_ss)\n",
    "from sklearn.metrics import accuracy_score\n",
    "train_acc_if_ss = accuracy_score(kdd_train_y['class_binary'], y_pred_if_ss)\n",
    "print(\"Training accuracy: {:.4f}\".format(train_acc_if_ss))"
   ]
  },
  {
   "cell_type": "code",
   "execution_count": 59,
   "id": "1147085b",
   "metadata": {},
   "outputs": [
    {
     "name": "stdout",
     "output_type": "stream",
     "text": [
      "[[ 1218 66125]\n",
      " [ 3448 55182]]\n"
     ]
    },
    {
     "data": {
      "text/plain": [
       "Text(0.5, 1.0, 'Seaborn Confusion Matrix with labels\\n\\n')"
      ]
     },
     "execution_count": 59,
     "metadata": {},
     "output_type": "execute_result"
    },
    {
     "data": {
      "text/plain": [
       "Text(0.5, 15.0, '\\nPredicted Values')"
      ]
     },
     "execution_count": 59,
     "metadata": {},
     "output_type": "execute_result"
    },
    {
     "data": {
      "text/plain": [
       "Text(33.0, 0.5, 'Actual Values ')"
      ]
     },
     "execution_count": 59,
     "metadata": {},
     "output_type": "execute_result"
    },
    {
     "data": {
      "text/plain": [
       "[Text(0.5, 0, 'False'), Text(1.5, 0, 'True')]"
      ]
     },
     "execution_count": 59,
     "metadata": {},
     "output_type": "execute_result"
    },
    {
     "data": {
      "text/plain": [
       "[Text(0, 0.5, 'False'), Text(0, 1.5, 'True')]"
      ]
     },
     "execution_count": 59,
     "metadata": {},
     "output_type": "execute_result"
    },
    {
     "data": {
      "image/png": "[encoded data removed]",
      "text/plain": [
       "<Figure size 432x288 with 2 Axes>"
      ]
     },
     "metadata": {
      "needs_background": "light"
     },
     "output_type": "display_data"
    },
    {
     "name": "stdout",
     "output_type": "stream",
     "text": [
      "0.4548954306016965\n",
      "0.9411905168002729\n"
     ]
    }
   ],
   "source": [
    "cm_if_ss = confusion_matrix (kdd_train_y[\"class_binary\"], y_pred_if_ss)\n",
    "print(cm_if_ss)\n",
    "ax = sns.heatmap(cm_if_ss, annot=True, cmap='Blues')\n",
    "\n",
    "ax.set_title('Seaborn Confusion Matrix with labels\\n\\n');\n",
    "ax.set_xlabel('\\nPredicted Values')\n",
    "ax.set_ylabel('Actual Values ');\n",
    "\n",
    "## Ticket labels - List must be in alphabetical order\n",
    "ax.xaxis.set_ticklabels(['False','True'])\n",
    "ax.yaxis.set_ticklabels(['False','True'])\n",
    "\n",
    "## Display the visualization of the Confusion Matrix.\n",
    "plt.show()\n",
    "\n",
    "## FP,FN,TP,TN\n",
    "TN_if = cm_if_ss[0][0]\n",
    "FN_if = cm_if_ss[1][0]\n",
    "FP_if = cm_if_ss[0][1]\n",
    "TP_if = cm_if_ss[1][1]\n",
    "\n",
    "##Precision and Recall\n",
    "Precision_if_ss = TP_if/(TP_if+FP_if)\n",
    "Recall_if_ss = TP_if/(TP_if+FN_if)\n",
    "\n",
    "print (Precision_if_ss)\n",
    "print (Recall_if_ss)"
   ]
  },
  {
   "cell_type": "markdown",
   "id": "2554125d",
   "metadata": {},
   "source": [
    "# With PCA"
   ]
  },
  {
   "cell_type": "code",
   "execution_count": 60,
   "id": "f82885d2",
   "metadata": {},
   "outputs": [],
   "source": [
    "one_hot_data_if = one_hot_data_if.drop(['p-value','p-value_mcd'],axis = 1)"
   ]
  },
  {
   "cell_type": "code",
   "execution_count": 61,
   "id": "f82e52ab",
   "metadata": {},
   "outputs": [],
   "source": [
    "#model_if = IsolationForest(n_estimators=6000,contamination = 0.022222222222222223, max_features = 1.0)\n",
    "#model_if = model_if.fit(one_hot_data_if)\n",
    "model_if = joblib.load('model_if.sav')\n",
    "pickle.dump(model_if,open('model_if.sav','wb'))"
   ]
  },
  {
   "cell_type": "code",
   "execution_count": 62,
   "id": "9adf40cf",
   "metadata": {},
   "outputs": [],
   "source": [
    "y_pred_if = model_if.predict(one_hot_data_if)\n",
    "##y_pred_if = joblib.load('y_pred_if.sav')"
   ]
  },
  {
   "cell_type": "code",
   "execution_count": null,
   "id": "fe127b49",
   "metadata": {},
   "outputs": [],
   "source": []
  },
  {
   "cell_type": "code",
   "execution_count": 63,
   "id": "43d3889b",
   "metadata": {},
   "outputs": [
    {
     "name": "stdout",
     "output_type": "stream",
     "text": [
      "Training accuracy: 0.4576\n"
     ]
    }
   ],
   "source": [
    "y_pred_if = np.where(y_pred_if == -1, 0, y_pred_if)\n",
    "from sklearn.metrics import accuracy_score\n",
    "train_acc_if = accuracy_score(kdd_train_y['class_binary'], y_pred_if)\n",
    "print(\"Training accuracy: {:.4f}\".format(train_acc_if))"
   ]
  },
  {
   "cell_type": "code",
   "execution_count": 64,
   "id": "897b8c39",
   "metadata": {},
   "outputs": [
    {
     "name": "stdout",
     "output_type": "stream",
     "text": [
      "[[  910 66433]\n",
      " [ 1890 56740]]\n"
     ]
    },
    {
     "data": {
      "text/plain": [
       "Text(0.5, 1.0, 'Seaborn Confusion Matrix with labels\\n\\n')"
      ]
     },
     "execution_count": 64,
     "metadata": {},
     "output_type": "execute_result"
    },
    {
     "data": {
      "text/plain": [
       "Text(0.5, 15.0, '\\nPredicted Values')"
      ]
     },
     "execution_count": 64,
     "metadata": {},
     "output_type": "execute_result"
    },
    {
     "data": {
      "text/plain": [
       "Text(33.0, 0.5, 'Actual Values ')"
      ]
     },
     "execution_count": 64,
     "metadata": {},
     "output_type": "execute_result"
    },
    {
     "data": {
      "text/plain": [
       "[Text(0.5, 0, 'False'), Text(1.5, 0, 'True')]"
      ]
     },
     "execution_count": 64,
     "metadata": {},
     "output_type": "execute_result"
    },
    {
     "data": {
      "text/plain": [
       "[Text(0, 0.5, 'False'), Text(0, 1.5, 'True')]"
      ]
     },
     "execution_count": 64,
     "metadata": {},
     "output_type": "execute_result"
    },
    {
     "data": {
      "image/png": "[encoded data removed]",
      "text/plain": [
       "<Figure size 432x288 with 2 Axes>"
      ]
     },
     "metadata": {
      "needs_background": "light"
     },
     "output_type": "display_data"
    },
    {
     "name": "stdout",
     "output_type": "stream",
     "text": [
      "0.4606529028277301\n",
      "0.9677639433736994\n"
     ]
    }
   ],
   "source": [
    "cm_if = confusion_matrix (kdd_train_y[\"class_binary\"], y_pred_if)\n",
    "print(cm_if)\n",
    "ax = sns.heatmap(cm_if, annot=True, cmap='Blues')\n",
    "\n",
    "ax.set_title('Seaborn Confusion Matrix with labels\\n\\n');\n",
    "ax.set_xlabel('\\nPredicted Values')\n",
    "ax.set_ylabel('Actual Values ');\n",
    "\n",
    "## Ticket labels - List must be in alphabetical order\n",
    "ax.xaxis.set_ticklabels(['False','True'])\n",
    "ax.yaxis.set_ticklabels(['False','True'])\n",
    "\n",
    "## Display the visualization of the Confusion Matrix.\n",
    "plt.show()\n",
    "\n",
    "## FP,FN,TP,TN\n",
    "TN_if = cm_if[0][0]\n",
    "FN_if = cm_if[1][0]\n",
    "FP_if = cm_if[0][1]\n",
    "TP_if = cm_if[1][1]\n",
    "\n",
    "##Precision and Recall\n",
    "Precision_if = TP_if/(TP_if+FP_if)\n",
    "Recall_if = TP_if/(TP_if+FN_if)\n",
    "\n",
    "print (Precision_if)\n",
    "print (Recall_if)"
   ]
  },
  {
   "cell_type": "markdown",
   "id": "407d6e1f",
   "metadata": {},
   "source": [
    "# OCSVM\n",
    "## Without PCA"
   ]
  },
  {
   "cell_type": "code",
   "execution_count": 65,
   "id": "2140aa96",
   "metadata": {},
   "outputs": [],
   "source": [
    "one_hot_data_svm_ss = one_hot_data_svm_ss.drop(['p-value','p-value_mcd'],axis = 1)"
   ]
  },
  {
   "cell_type": "code",
   "execution_count": 66,
   "id": "2e00052c",
   "metadata": {},
   "outputs": [],
   "source": [
    "\n",
    "#10% of data, 12597 out of 125973 is used for training.\n",
    "one_hot_data_svm_ten_percent_ss = one_hot_data_svm_ss[0:12597]\n",
    "kdd_train_y_ten_percent = kdd_train_y[0:12597]\n",
    "\n",
    "from scipy.stats import uniform as sp_randFloat\n",
    "    #Hyperparameter Tuning\n",
    "from sklearn.svm import OneClassSVM\n",
    "parameters_svm = {\n",
    "             \"nu\" : sp_randFloat()\n",
    "             }\n",
    "model_svm_ss = OneClassSVM()\n",
    "\n",
    "one_hot_data_svm_sample_ss = one_hot_data_svm_ss.iloc[idx_rand[:num_sample]]"
   ]
  },
  {
   "cell_type": "code",
   "execution_count": 67,
   "id": "f43b0fc7",
   "metadata": {},
   "outputs": [
    {
     "data": {
      "text/html": [
       "<div>\n",
       "<style scoped>\n",
       "    .dataframe tbody tr th:only-of-type {\n",
       "        vertical-align: middle;\n",
       "    }\n",
       "\n",
       "    .dataframe tbody tr th {\n",
       "        vertical-align: top;\n",
       "    }\n",
       "\n",
       "    .dataframe thead th {\n",
       "        text-align: right;\n",
       "    }\n",
       "</style>\n",
       "<table border=\"1\" class=\"dataframe\">\n",
       "  <thead>\n",
       "    <tr style=\"text-align: right;\">\n",
       "      <th></th>\n",
       "      <th>(duration,)</th>\n",
       "      <th>(src_bytes,)</th>\n",
       "      <th>(dst_bytes,)</th>\n",
       "      <th>(land,)</th>\n",
       "      <th>(wrong_fragment,)</th>\n",
       "      <th>(urgent,)</th>\n",
       "      <th>(hot,)</th>\n",
       "      <th>(num_failed_logins,)</th>\n",
       "      <th>(logged_in,)</th>\n",
       "      <th>(num_compromised,)</th>\n",
       "      <th>...</th>\n",
       "      <th>service_telnet</th>\n",
       "      <th>service_tftp_u</th>\n",
       "      <th>service_tim_i</th>\n",
       "      <th>service_time</th>\n",
       "      <th>service_urh_i</th>\n",
       "      <th>service_urp_i</th>\n",
       "      <th>service_uucp</th>\n",
       "      <th>service_uucp_path</th>\n",
       "      <th>service_vmnet</th>\n",
       "      <th>service_whois</th>\n",
       "    </tr>\n",
       "  </thead>\n",
       "  <tbody>\n",
       "    <tr>\n",
       "      <th>9450</th>\n",
       "      <td>-0.110249</td>\n",
       "      <td>-0.007762</td>\n",
       "      <td>-0.004919</td>\n",
       "      <td>-0.014089</td>\n",
       "      <td>-0.089486</td>\n",
       "      <td>-0.007736</td>\n",
       "      <td>-0.095076</td>\n",
       "      <td>-0.027023</td>\n",
       "      <td>-0.809262</td>\n",
       "      <td>-0.011664</td>\n",
       "      <td>...</td>\n",
       "      <td>0</td>\n",
       "      <td>0</td>\n",
       "      <td>0</td>\n",
       "      <td>0</td>\n",
       "      <td>0</td>\n",
       "      <td>0</td>\n",
       "      <td>0</td>\n",
       "      <td>0</td>\n",
       "      <td>0</td>\n",
       "      <td>0</td>\n",
       "    </tr>\n",
       "    <tr>\n",
       "      <th>65765</th>\n",
       "      <td>-0.110249</td>\n",
       "      <td>-0.007735</td>\n",
       "      <td>0.004837</td>\n",
       "      <td>-0.014089</td>\n",
       "      <td>-0.089486</td>\n",
       "      <td>-0.007736</td>\n",
       "      <td>-0.095076</td>\n",
       "      <td>-0.027023</td>\n",
       "      <td>1.235694</td>\n",
       "      <td>-0.011664</td>\n",
       "      <td>...</td>\n",
       "      <td>0</td>\n",
       "      <td>0</td>\n",
       "      <td>0</td>\n",
       "      <td>0</td>\n",
       "      <td>0</td>\n",
       "      <td>0</td>\n",
       "      <td>0</td>\n",
       "      <td>0</td>\n",
       "      <td>0</td>\n",
       "      <td>0</td>\n",
       "    </tr>\n",
       "    <tr>\n",
       "      <th>123883</th>\n",
       "      <td>-0.110249</td>\n",
       "      <td>-0.007725</td>\n",
       "      <td>-0.004247</td>\n",
       "      <td>-0.014089</td>\n",
       "      <td>-0.089486</td>\n",
       "      <td>-0.007736</td>\n",
       "      <td>-0.095076</td>\n",
       "      <td>-0.027023</td>\n",
       "      <td>1.235694</td>\n",
       "      <td>-0.011664</td>\n",
       "      <td>...</td>\n",
       "      <td>0</td>\n",
       "      <td>0</td>\n",
       "      <td>0</td>\n",
       "      <td>0</td>\n",
       "      <td>0</td>\n",
       "      <td>0</td>\n",
       "      <td>0</td>\n",
       "      <td>0</td>\n",
       "      <td>0</td>\n",
       "      <td>0</td>\n",
       "    </tr>\n",
       "    <tr>\n",
       "      <th>36945</th>\n",
       "      <td>-0.110249</td>\n",
       "      <td>-0.007721</td>\n",
       "      <td>-0.004214</td>\n",
       "      <td>-0.014089</td>\n",
       "      <td>-0.089486</td>\n",
       "      <td>-0.007736</td>\n",
       "      <td>-0.095076</td>\n",
       "      <td>-0.027023</td>\n",
       "      <td>1.235694</td>\n",
       "      <td>-0.011664</td>\n",
       "      <td>...</td>\n",
       "      <td>0</td>\n",
       "      <td>0</td>\n",
       "      <td>0</td>\n",
       "      <td>0</td>\n",
       "      <td>0</td>\n",
       "      <td>0</td>\n",
       "      <td>0</td>\n",
       "      <td>0</td>\n",
       "      <td>0</td>\n",
       "      <td>0</td>\n",
       "    </tr>\n",
       "    <tr>\n",
       "      <th>3122</th>\n",
       "      <td>-0.110249</td>\n",
       "      <td>-0.007762</td>\n",
       "      <td>-0.004919</td>\n",
       "      <td>-0.014089</td>\n",
       "      <td>-0.089486</td>\n",
       "      <td>-0.007736</td>\n",
       "      <td>-0.095076</td>\n",
       "      <td>-0.027023</td>\n",
       "      <td>-0.809262</td>\n",
       "      <td>-0.011664</td>\n",
       "      <td>...</td>\n",
       "      <td>0</td>\n",
       "      <td>0</td>\n",
       "      <td>0</td>\n",
       "      <td>0</td>\n",
       "      <td>0</td>\n",
       "      <td>0</td>\n",
       "      <td>0</td>\n",
       "      <td>0</td>\n",
       "      <td>0</td>\n",
       "      <td>0</td>\n",
       "    </tr>\n",
       "    <tr>\n",
       "      <th>...</th>\n",
       "      <td>...</td>\n",
       "      <td>...</td>\n",
       "      <td>...</td>\n",
       "      <td>...</td>\n",
       "      <td>...</td>\n",
       "      <td>...</td>\n",
       "      <td>...</td>\n",
       "      <td>...</td>\n",
       "      <td>...</td>\n",
       "      <td>...</td>\n",
       "      <td>...</td>\n",
       "      <td>...</td>\n",
       "      <td>...</td>\n",
       "      <td>...</td>\n",
       "      <td>...</td>\n",
       "      <td>...</td>\n",
       "      <td>...</td>\n",
       "      <td>...</td>\n",
       "      <td>...</td>\n",
       "      <td>...</td>\n",
       "      <td>...</td>\n",
       "    </tr>\n",
       "    <tr>\n",
       "      <th>105166</th>\n",
       "      <td>-0.110249</td>\n",
       "      <td>-0.007762</td>\n",
       "      <td>-0.004919</td>\n",
       "      <td>-0.014089</td>\n",
       "      <td>-0.089486</td>\n",
       "      <td>-0.007736</td>\n",
       "      <td>-0.095076</td>\n",
       "      <td>-0.027023</td>\n",
       "      <td>-0.809262</td>\n",
       "      <td>-0.011664</td>\n",
       "      <td>...</td>\n",
       "      <td>0</td>\n",
       "      <td>0</td>\n",
       "      <td>0</td>\n",
       "      <td>0</td>\n",
       "      <td>0</td>\n",
       "      <td>0</td>\n",
       "      <td>0</td>\n",
       "      <td>0</td>\n",
       "      <td>0</td>\n",
       "      <td>0</td>\n",
       "    </tr>\n",
       "    <tr>\n",
       "      <th>40357</th>\n",
       "      <td>-0.110249</td>\n",
       "      <td>-0.007710</td>\n",
       "      <td>-0.002227</td>\n",
       "      <td>-0.014089</td>\n",
       "      <td>-0.089486</td>\n",
       "      <td>-0.007736</td>\n",
       "      <td>-0.095076</td>\n",
       "      <td>-0.027023</td>\n",
       "      <td>1.235694</td>\n",
       "      <td>-0.011664</td>\n",
       "      <td>...</td>\n",
       "      <td>0</td>\n",
       "      <td>0</td>\n",
       "      <td>0</td>\n",
       "      <td>0</td>\n",
       "      <td>0</td>\n",
       "      <td>0</td>\n",
       "      <td>0</td>\n",
       "      <td>0</td>\n",
       "      <td>0</td>\n",
       "      <td>0</td>\n",
       "    </tr>\n",
       "    <tr>\n",
       "      <th>113320</th>\n",
       "      <td>-0.110249</td>\n",
       "      <td>-0.007724</td>\n",
       "      <td>-0.004553</td>\n",
       "      <td>-0.014089</td>\n",
       "      <td>-0.089486</td>\n",
       "      <td>-0.007736</td>\n",
       "      <td>-0.095076</td>\n",
       "      <td>-0.027023</td>\n",
       "      <td>1.235694</td>\n",
       "      <td>-0.011664</td>\n",
       "      <td>...</td>\n",
       "      <td>0</td>\n",
       "      <td>0</td>\n",
       "      <td>0</td>\n",
       "      <td>0</td>\n",
       "      <td>0</td>\n",
       "      <td>0</td>\n",
       "      <td>0</td>\n",
       "      <td>0</td>\n",
       "      <td>0</td>\n",
       "      <td>0</td>\n",
       "    </tr>\n",
       "    <tr>\n",
       "      <th>72103</th>\n",
       "      <td>-0.110249</td>\n",
       "      <td>-0.007674</td>\n",
       "      <td>-0.004919</td>\n",
       "      <td>-0.014089</td>\n",
       "      <td>-0.089486</td>\n",
       "      <td>-0.007736</td>\n",
       "      <td>-0.095076</td>\n",
       "      <td>-0.027023</td>\n",
       "      <td>-0.809262</td>\n",
       "      <td>-0.011664</td>\n",
       "      <td>...</td>\n",
       "      <td>0</td>\n",
       "      <td>0</td>\n",
       "      <td>0</td>\n",
       "      <td>0</td>\n",
       "      <td>0</td>\n",
       "      <td>0</td>\n",
       "      <td>0</td>\n",
       "      <td>0</td>\n",
       "      <td>0</td>\n",
       "      <td>0</td>\n",
       "    </tr>\n",
       "    <tr>\n",
       "      <th>549</th>\n",
       "      <td>-0.110249</td>\n",
       "      <td>-0.007762</td>\n",
       "      <td>-0.004919</td>\n",
       "      <td>-0.014089</td>\n",
       "      <td>-0.089486</td>\n",
       "      <td>-0.007736</td>\n",
       "      <td>-0.095076</td>\n",
       "      <td>-0.027023</td>\n",
       "      <td>-0.809262</td>\n",
       "      <td>-0.011664</td>\n",
       "      <td>...</td>\n",
       "      <td>0</td>\n",
       "      <td>0</td>\n",
       "      <td>0</td>\n",
       "      <td>0</td>\n",
       "      <td>0</td>\n",
       "      <td>0</td>\n",
       "      <td>0</td>\n",
       "      <td>0</td>\n",
       "      <td>0</td>\n",
       "      <td>0</td>\n",
       "    </tr>\n",
       "  </tbody>\n",
       "</table>\n",
       "<p>1259 rows × 121 columns</p>\n",
       "</div>"
      ],
      "text/plain": [
       "        (duration,)  (src_bytes,)  (dst_bytes,)   (land,)  (wrong_fragment,)  \\\n",
       "9450      -0.110249     -0.007762     -0.004919 -0.014089          -0.089486   \n",
       "65765     -0.110249     -0.007735      0.004837 -0.014089          -0.089486   \n",
       "123883    -0.110249     -0.007725     -0.004247 -0.014089          -0.089486   \n",
       "36945     -0.110249     -0.007721     -0.004214 -0.014089          -0.089486   \n",
       "3122      -0.110249     -0.007762     -0.004919 -0.014089          -0.089486   \n",
       "...             ...           ...           ...       ...                ...   \n",
       "105166    -0.110249     -0.007762     -0.004919 -0.014089          -0.089486   \n",
       "40357     -0.110249     -0.007710     -0.002227 -0.014089          -0.089486   \n",
       "113320    -0.110249     -0.007724     -0.004553 -0.014089          -0.089486   \n",
       "72103     -0.110249     -0.007674     -0.004919 -0.014089          -0.089486   \n",
       "549       -0.110249     -0.007762     -0.004919 -0.014089          -0.089486   \n",
       "\n",
       "        (urgent,)    (hot,)  (num_failed_logins,)  (logged_in,)  \\\n",
       "9450    -0.007736 -0.095076             -0.027023     -0.809262   \n",
       "65765   -0.007736 -0.095076             -0.027023      1.235694   \n",
       "123883  -0.007736 -0.095076             -0.027023      1.235694   \n",
       "36945   -0.007736 -0.095076             -0.027023      1.235694   \n",
       "3122    -0.007736 -0.095076             -0.027023     -0.809262   \n",
       "...           ...       ...                   ...           ...   \n",
       "105166  -0.007736 -0.095076             -0.027023     -0.809262   \n",
       "40357   -0.007736 -0.095076             -0.027023      1.235694   \n",
       "113320  -0.007736 -0.095076             -0.027023      1.235694   \n",
       "72103   -0.007736 -0.095076             -0.027023     -0.809262   \n",
       "549     -0.007736 -0.095076             -0.027023     -0.809262   \n",
       "\n",
       "        (num_compromised,)  ...  service_telnet  service_tftp_u  \\\n",
       "9450             -0.011664  ...               0               0   \n",
       "65765            -0.011664  ...               0               0   \n",
       "123883           -0.011664  ...               0               0   \n",
       "36945            -0.011664  ...               0               0   \n",
       "3122             -0.011664  ...               0               0   \n",
       "...                    ...  ...             ...             ...   \n",
       "105166           -0.011664  ...               0               0   \n",
       "40357            -0.011664  ...               0               0   \n",
       "113320           -0.011664  ...               0               0   \n",
       "72103            -0.011664  ...               0               0   \n",
       "549              -0.011664  ...               0               0   \n",
       "\n",
       "        service_tim_i  service_time  service_urh_i  service_urp_i  \\\n",
       "9450                0             0              0              0   \n",
       "65765               0             0              0              0   \n",
       "123883              0             0              0              0   \n",
       "36945               0             0              0              0   \n",
       "3122                0             0              0              0   \n",
       "...               ...           ...            ...            ...   \n",
       "105166              0             0              0              0   \n",
       "40357               0             0              0              0   \n",
       "113320              0             0              0              0   \n",
       "72103               0             0              0              0   \n",
       "549                 0             0              0              0   \n",
       "\n",
       "        service_uucp  service_uucp_path  service_vmnet  service_whois  \n",
       "9450               0                  0              0              0  \n",
       "65765              0                  0              0              0  \n",
       "123883             0                  0              0              0  \n",
       "36945              0                  0              0              0  \n",
       "3122               0                  0              0              0  \n",
       "...              ...                ...            ...            ...  \n",
       "105166             0                  0              0              0  \n",
       "40357              0                  0              0              0  \n",
       "113320             0                  0              0              0  \n",
       "72103              0                  0              0              0  \n",
       "549                0                  0              0              0  \n",
       "\n",
       "[1259 rows x 121 columns]"
      ]
     },
     "execution_count": 67,
     "metadata": {},
     "output_type": "execute_result"
    }
   ],
   "source": [
    "one_hot_data_svm_sample_ss"
   ]
  },
  {
   "cell_type": "code",
   "execution_count": 68,
   "id": "1d48b919",
   "metadata": {},
   "outputs": [
    {
     "name": "stdout",
     "output_type": "stream",
     "text": [
      " Results from Random Search \n",
      "\n",
      " The best estimator across ALL searched params:\n",
      " OneClassSVM(nu=0.3834415188257777)\n",
      "\n",
      " The best score across ALL searched params:\n",
      " 0.21840360647043225\n",
      "\n",
      " The best parameters across ALL searched params:\n",
      " {'nu': 0.3834415188257777}\n"
     ]
    },
    {
     "name": "stderr",
     "output_type": "stream",
     "text": [
      "C:\\WINDOWS\\system32\\myenv\\lib\\site-packages\\sklearn\\utils\\validation.py:1858: FutureWarning: Feature names only support names that are all strings. Got feature names with dtypes: ['str', 'tuple']. An error will be raised in 1.2.\n",
      "  warnings.warn(\n"
     ]
    }
   ],
   "source": [
    "def scorer_svm(estimator, X):   #Scorer function for OCSVM\n",
    "      return np.mean(estimator.score_samples(one_hot_data_svm_ten_percent_ss))\n",
    "    \n",
    "#Load the saved random_src result\n",
    "#randm_src_svm = joblib.load('OCSVMSearch.sav')\n",
    "randm_src_svm = RandomizedSearchCV(estimator=model_svm_ss, param_distributions = parameters_svm, cv = 3, scoring = f1sc, random_state = 0, return_train_score = True, n_jobs = -1)\n",
    "model = randm_src_svm.fit(one_hot_data_svm_sample_ss, kdd_train_y_sample[\"class_binary\"])\n",
    "\n",
    "print(\" Results from Random Search \" )\n",
    "print(\"\\n The best estimator across ALL searched params:\\n\", randm_src_svm.best_estimator_)\n",
    "print(\"\\n The best score across ALL searched params:\\n\", randm_src_svm.best_score_)\n",
    "print(\"\\n The best parameters across ALL searched params:\\n\", randm_src_svm.best_params_)"
   ]
  },
  {
   "cell_type": "code",
   "execution_count": 69,
   "id": "8ac0f3e1",
   "metadata": {},
   "outputs": [
    {
     "name": "stderr",
     "output_type": "stream",
     "text": [
      "C:\\WINDOWS\\system32\\myenv\\lib\\site-packages\\sklearn\\utils\\validation.py:1858: FutureWarning: Feature names only support names that are all strings. Got feature names with dtypes: ['str', 'tuple']. An error will be raised in 1.2.\n",
      "  warnings.warn(\n"
     ]
    }
   ],
   "source": [
    "model_svm_ss = OneClassSVM(kernel = 'linear', nu=0.3834415188257777)\n",
    "#0.5488135039273248\n",
    "import time\n",
    "start_time = time.time()\n",
    "model_svm_ss = model_svm_ss.fit(one_hot_data_svm_ten_percent_ss)\n"
   ]
  },
  {
   "cell_type": "code",
   "execution_count": 70,
   "id": "058c0793",
   "metadata": {},
   "outputs": [],
   "source": [
    "pickle.dump(model_svm_ss,open('model_svm_ss.sav','wb'))"
   ]
  },
  {
   "cell_type": "code",
   "execution_count": 71,
   "id": "ac6ad926",
   "metadata": {},
   "outputs": [
    {
     "name": "stderr",
     "output_type": "stream",
     "text": [
      "C:\\WINDOWS\\system32\\myenv\\lib\\site-packages\\sklearn\\utils\\validation.py:1858: FutureWarning: Feature names only support names that are all strings. Got feature names with dtypes: ['str', 'tuple']. An error will be raised in 1.2.\n",
      "  warnings.warn(\n"
     ]
    },
    {
     "name": "stdout",
     "output_type": "stream",
     "text": [
      "--- 36.74105477333069 seconds ---\n"
     ]
    }
   ],
   "source": [
    "\n",
    "y_pred_svm_ss =model_svm_ss.predict(one_hot_data_svm_ss)\n",
    "print(\"--- %s seconds ---\" % (time.time() - start_time))"
   ]
  },
  {
   "cell_type": "code",
   "execution_count": 72,
   "id": "74cd6061",
   "metadata": {},
   "outputs": [
    {
     "data": {
      "text/plain": [
       "array([ 1,  1,  1, ...,  1, -1, -1], dtype=int64)"
      ]
     },
     "execution_count": 72,
     "metadata": {},
     "output_type": "execute_result"
    }
   ],
   "source": [
    "y_pred_svm_ss"
   ]
  },
  {
   "cell_type": "code",
   "execution_count": 73,
   "id": "4098207a",
   "metadata": {},
   "outputs": [
    {
     "name": "stdout",
     "output_type": "stream",
     "text": [
      "Training accuracy: 0.4623\n",
      "[[24426 42917]\n",
      " [24823 33807]]\n"
     ]
    }
   ],
   "source": [
    "y_pred_svm_ss = np.where(y_pred_svm_ss == -1, 0, y_pred_svm_ss)\n",
    "\n",
    "train_acc_ss = accuracy_score(kdd_train_y['class_binary'], y_pred_svm_ss)\n",
    "print(\"Training accuracy: {:.4f}\".format(train_acc_ss))\n",
    "cm_svm_ss = confusion_matrix (kdd_train_y[\"class_binary\"], y_pred_svm_ss)\n",
    "print(cm_svm_ss)"
   ]
  },
  {
   "cell_type": "code",
   "execution_count": 74,
   "id": "8d55f7b2",
   "metadata": {},
   "outputs": [
    {
     "data": {
      "text/plain": [
       "Text(0.5, 1.0, 'Seaborn Confusion Matrix with labels\\n\\n')"
      ]
     },
     "execution_count": 74,
     "metadata": {},
     "output_type": "execute_result"
    },
    {
     "data": {
      "text/plain": [
       "Text(0.5, 15.0, '\\nPredicted Values')"
      ]
     },
     "execution_count": 74,
     "metadata": {},
     "output_type": "execute_result"
    },
    {
     "data": {
      "text/plain": [
       "Text(33.0, 0.5, 'Actual Values ')"
      ]
     },
     "execution_count": 74,
     "metadata": {},
     "output_type": "execute_result"
    },
    {
     "data": {
      "text/plain": [
       "[Text(0.5, 0, 'False'), Text(1.5, 0, 'True')]"
      ]
     },
     "execution_count": 74,
     "metadata": {},
     "output_type": "execute_result"
    },
    {
     "data": {
      "text/plain": [
       "[Text(0, 0.5, 'False'), Text(0, 1.5, 'True')]"
      ]
     },
     "execution_count": 74,
     "metadata": {},
     "output_type": "execute_result"
    },
    {
     "data": {
      "image/png": "[encoded data removed]",
      "text/plain": [
       "<Figure size 432x288 with 2 Axes>"
      ]
     },
     "metadata": {
      "needs_background": "light"
     },
     "output_type": "display_data"
    },
    {
     "name": "stdout",
     "output_type": "stream",
     "text": [
      "Precision:  0.4406313539440071\n",
      "Recall 0.5766160668599692\n"
     ]
    }
   ],
   "source": [
    "ax = sns.heatmap(cm_svm_ss, annot=True, cmap='Blues')\n",
    "\n",
    "ax.set_title('Seaborn Confusion Matrix with labels\\n\\n');\n",
    "ax.set_xlabel('\\nPredicted Values')\n",
    "ax.set_ylabel('Actual Values ');\n",
    "\n",
    "## Ticket labels - List must be in alphabetical order\n",
    "ax.xaxis.set_ticklabels(['False','True'])\n",
    "ax.yaxis.set_ticklabels(['False','True'])\n",
    "\n",
    "## Display the visualization of the Confusion Matrix.\n",
    "plt.show()\n",
    "\n",
    "\n",
    "## FP,FN,TP,TN\n",
    "TN_svm = cm_svm_ss[0][0]\n",
    "FN_svm = cm_svm_ss[1][0]\n",
    "FP_svm = cm_svm_ss[0][1]\n",
    "TP_svm = cm_svm_ss[1][1]\n",
    "\n",
    "\n",
    "##Precision and Recall\n",
    "Precision_svm_ss = TP_svm/(TP_svm+FP_svm)\n",
    "Recall_svm_ss = TP_svm/(TP_svm+FN_svm)\n",
    "\n",
    "print (\"Precision: \",Precision_svm_ss)\n",
    "print (\"Recall\",Recall_svm_ss)"
   ]
  },
  {
   "cell_type": "markdown",
   "id": "ec958df7",
   "metadata": {},
   "source": [
    "## OCSVM (PCA) "
   ]
  },
  {
   "cell_type": "code",
   "execution_count": 75,
   "id": "8a07211f",
   "metadata": {},
   "outputs": [],
   "source": [
    "one_hot_data_svm = one_hot_data_svm.drop(['p-value','p-value_mcd'],axis = 1)"
   ]
  },
  {
   "cell_type": "code",
   "execution_count": 76,
   "id": "dbb417fb",
   "metadata": {},
   "outputs": [],
   "source": [
    "one_hot_data_svm_ten_percent = one_hot_data_svm[0:12597]\n",
    "one_hot_data_svm_sample = one_hot_data_svm.iloc[idx_rand[:num_sample]]"
   ]
  },
  {
   "cell_type": "code",
   "execution_count": 77,
   "id": "1b68d358",
   "metadata": {},
   "outputs": [
    {
     "name": "stdout",
     "output_type": "stream",
     "text": [
      " Results from Random Search \n",
      "\n",
      " The best estimator across ALL searched params:\n",
      " OneClassSVM(nu=0.3834415188257777)\n",
      "\n",
      " The best score across ALL searched params:\n",
      " 0.2843163995908626\n",
      "\n",
      " The best parameters across ALL searched params:\n",
      " {'nu': 0.3834415188257777}\n"
     ]
    }
   ],
   "source": [
    "def scorer_svm(estimator, X):   #Scorer function for OCSVM\n",
    "      return np.mean(estimator.score_samples(one_hot_data_svm_ten_percent))\n",
    "    \n",
    "#Load the saved random_src result\n",
    "#randm_src_svm = joblib.load('OCSVMSearch.sav')\n",
    "model_svm = OneClassSVM()\n",
    "randm_src_svm = RandomizedSearchCV(estimator=model_svm, param_distributions = parameters_svm, cv = 3, scoring = f1sc, random_state = 0, return_train_score = True, n_jobs = -1)\n",
    "model = randm_src_svm.fit(one_hot_data_svm_sample, kdd_train_y_sample[\"class_binary\"])\n",
    "\n",
    "print(\" Results from Random Search \" )\n",
    "print(\"\\n The best estimator across ALL searched params:\\n\", randm_src_svm.best_estimator_)\n",
    "print(\"\\n The best score across ALL searched params:\\n\", randm_src_svm.best_score_)\n",
    "print(\"\\n The best parameters across ALL searched params:\\n\", randm_src_svm.best_params_)"
   ]
  },
  {
   "cell_type": "code",
   "execution_count": 78,
   "id": "b1684af4",
   "metadata": {},
   "outputs": [],
   "source": [
    "model_svm = OneClassSVM(kernel = 'linear', nu=0.3834415188257777)\n",
    "model_svm = model_svm.fit(one_hot_data_svm_ten_percent)\n"
   ]
  },
  {
   "cell_type": "code",
   "execution_count": 79,
   "id": "eedbbfc1",
   "metadata": {},
   "outputs": [],
   "source": [
    "pickle.dump(model_svm,open('model_svm_pca.sav','wb'))"
   ]
  },
  {
   "cell_type": "code",
   "execution_count": 80,
   "id": "c20c0ef6",
   "metadata": {},
   "outputs": [],
   "source": [
    "y_pred_svm = model_svm.predict(one_hot_data_svm)"
   ]
  },
  {
   "cell_type": "code",
   "execution_count": 81,
   "id": "47f30484",
   "metadata": {},
   "outputs": [
    {
     "name": "stdout",
     "output_type": "stream",
     "text": [
      "Training accuracy: 0.5031\n",
      "[[26826 40517]\n",
      " [22083 36547]]\n"
     ]
    }
   ],
   "source": [
    "#Evaluation on training result\n",
    "y_pred_svm = np.where(y_pred_svm == -1, 0, y_pred_svm)\n",
    "\n",
    "train_acc = accuracy_score(kdd_train_y['class_binary'], y_pred_svm)\n",
    "print(\"Training accuracy: {:.4f}\".format(train_acc))\n",
    "cm_svm = confusion_matrix (kdd_train_y[\"class_binary\"], y_pred_svm)\n",
    "print(cm_svm)"
   ]
  },
  {
   "cell_type": "code",
   "execution_count": 82,
   "id": "485bc0c1",
   "metadata": {},
   "outputs": [
    {
     "data": {
      "text/plain": [
       "Text(0.5, 1.0, 'Seaborn Confusion Matrix with labels\\n\\n')"
      ]
     },
     "execution_count": 82,
     "metadata": {},
     "output_type": "execute_result"
    },
    {
     "data": {
      "text/plain": [
       "Text(0.5, 15.0, '\\nPredicted Values')"
      ]
     },
     "execution_count": 82,
     "metadata": {},
     "output_type": "execute_result"
    },
    {
     "data": {
      "text/plain": [
       "Text(33.0, 0.5, 'Actual Values ')"
      ]
     },
     "execution_count": 82,
     "metadata": {},
     "output_type": "execute_result"
    },
    {
     "data": {
      "text/plain": [
       "[Text(0.5, 0, 'False'), Text(1.5, 0, 'True')]"
      ]
     },
     "execution_count": 82,
     "metadata": {},
     "output_type": "execute_result"
    },
    {
     "data": {
      "text/plain": [
       "[Text(0, 0.5, 'False'), Text(0, 1.5, 'True')]"
      ]
     },
     "execution_count": 82,
     "metadata": {},
     "output_type": "execute_result"
    },
    {
     "data": {
      "image/png": "[encoded data removed]",
      "text/plain": [
       "<Figure size 432x288 with 2 Axes>"
      ]
     },
     "metadata": {
      "needs_background": "light"
     },
     "output_type": "display_data"
    },
    {
     "name": "stdout",
     "output_type": "stream",
     "text": [
      "Precision:  0.4742421883110142\n",
      "Recall 0.6233498209107965\n"
     ]
    }
   ],
   "source": [
    "ax = sns.heatmap(cm_svm, annot=True, cmap='Blues')\n",
    "\n",
    "ax.set_title('Seaborn Confusion Matrix with labels\\n\\n');\n",
    "ax.set_xlabel('\\nPredicted Values')\n",
    "ax.set_ylabel('Actual Values ');\n",
    "\n",
    "## Ticket labels - List must be in alphabetical order\n",
    "ax.xaxis.set_ticklabels(['False','True'])\n",
    "ax.yaxis.set_ticklabels(['False','True'])\n",
    "\n",
    "## Display the visualization of the Confusion Matrix.\n",
    "plt.show()\n",
    "\n",
    "\n",
    "## FP,FN,TP,TN\n",
    "TN_svm = cm_svm[0][0]\n",
    "FN_svm = cm_svm[1][0]\n",
    "FP_svm = cm_svm[0][1]\n",
    "TP_svm = cm_svm[1][1]\n",
    "\n",
    "\n",
    "##Precision and Recall\n",
    "Precision_svm = TP_svm/(TP_svm+FP_svm)\n",
    "Recall_svm = TP_svm/(TP_svm+FN_svm)\n",
    "\n",
    "print (\"Precision: \",Precision_svm)\n",
    "print (\"Recall\",Recall_svm)"
   ]
  },
  {
   "cell_type": "markdown",
   "id": "b6b23ca9",
   "metadata": {},
   "source": [
    "# K-Means Clustering"
   ]
  },
  {
   "cell_type": "code",
   "execution_count": 84,
   "id": "40f3862f",
   "metadata": {},
   "outputs": [],
   "source": [
    "one_hot_data_kmean_ss = one_hot_data_ss"
   ]
  },
  {
   "cell_type": "code",
   "execution_count": 85,
   "id": "10b07312",
   "metadata": {},
   "outputs": [],
   "source": [
    "one_hot_data_kmean = one_hot_data_pca"
   ]
  },
  {
   "cell_type": "code",
   "execution_count": 86,
   "id": "9748dcef",
   "metadata": {},
   "outputs": [],
   "source": [
    "from sklearn.cluster import KMeans"
   ]
  },
  {
   "cell_type": "code",
   "execution_count": 87,
   "id": "156c34a3",
   "metadata": {},
   "outputs": [],
   "source": [
    "kmean_ss = KMeans(n_clusters=2)\n",
    "kmean = KMeans(n_clusters=2)\n"
   ]
  },
  {
   "cell_type": "code",
   "execution_count": 88,
   "id": "af83065c",
   "metadata": {},
   "outputs": [
    {
     "name": "stderr",
     "output_type": "stream",
     "text": [
      "C:\\WINDOWS\\system32\\myenv\\lib\\site-packages\\sklearn\\utils\\validation.py:1858: FutureWarning: Feature names only support names that are all strings. Got feature names with dtypes: ['str', 'tuple']. An error will be raised in 1.2.\n",
      "  warnings.warn(\n"
     ]
    }
   ],
   "source": [
    "kmean_ss = kmean_ss.fit(one_hot_data_kmean_ss)\n",
    "kmean_result_ss = kmean_ss.labels_"
   ]
  },
  {
   "cell_type": "code",
   "execution_count": 89,
   "id": "0617321f",
   "metadata": {},
   "outputs": [],
   "source": [
    "pickle.dump(kmean_ss,open('kmean_ss.sav','wb'))"
   ]
  },
  {
   "cell_type": "code",
   "execution_count": 90,
   "id": "ccf50f48",
   "metadata": {},
   "outputs": [],
   "source": [
    "kmean_result_ss_c = kmean_result_ss"
   ]
  },
  {
   "cell_type": "code",
   "execution_count": 91,
   "id": "7b128e13",
   "metadata": {},
   "outputs": [],
   "source": [
    "count_1 = np.count_nonzero(kmean_result_ss==1)"
   ]
  },
  {
   "cell_type": "code",
   "execution_count": 92,
   "id": "1cc36d2b",
   "metadata": {},
   "outputs": [],
   "source": [
    "count_0 = kmean_result_ss.shape[0] - np.count_nonzero(kmean_result_ss==1)"
   ]
  },
  {
   "cell_type": "code",
   "execution_count": 93,
   "id": "04cefc78",
   "metadata": {},
   "outputs": [
    {
     "name": "stdout",
     "output_type": "stream",
     "text": [
      "91038\n",
      "34935\n"
     ]
    },
    {
     "data": {
      "text/plain": [
       "array([0, 0, 1, ..., 0, 1, 0])"
      ]
     },
     "execution_count": 93,
     "metadata": {},
     "output_type": "execute_result"
    }
   ],
   "source": [
    "print(count_0)\n",
    "print(count_1)\n",
    "# 1 > 0\n",
    "kmean_result_ss"
   ]
  },
  {
   "cell_type": "code",
   "execution_count": 94,
   "id": "94be7835",
   "metadata": {},
   "outputs": [],
   "source": [
    "if(count_1 > count_0):\n",
    "    kmean_result_ss = np.where(kmean_result_ss_c ==1, 0, kmean_result_ss)\n",
    "    kmean_result_ss = np.where(kmean_result_ss_c ==0, 1, kmean_result_ss)"
   ]
  },
  {
   "cell_type": "code",
   "execution_count": 95,
   "id": "523f510b",
   "metadata": {},
   "outputs": [
    {
     "data": {
      "text/plain": [
       "array([0, 0, 1, ..., 0, 1, 0])"
      ]
     },
     "execution_count": 95,
     "metadata": {},
     "output_type": "execute_result"
    }
   ],
   "source": [
    "kmean_result_ss"
   ]
  },
  {
   "cell_type": "code",
   "execution_count": 96,
   "id": "8d1a01b8",
   "metadata": {},
   "outputs": [
    {
     "name": "stdout",
     "output_type": "stream",
     "text": [
      "Training accuracy: 0.8104\n",
      "[[67248    95]\n",
      " [23790 34840]]\n"
     ]
    }
   ],
   "source": [
    "train_acc_kmean_ss = accuracy_score(kdd_train_y['class_binary'], kmean_result_ss)\n",
    "print(\"Training accuracy: {:.4f}\".format(train_acc_kmean_ss))\n",
    "cm_kmean_ss = confusion_matrix (kdd_train_y[\"class_binary\"], kmean_result_ss)\n",
    "print(cm_kmean_ss)"
   ]
  },
  {
   "cell_type": "code",
   "execution_count": 97,
   "id": "171046e6",
   "metadata": {},
   "outputs": [
    {
     "data": {
      "text/plain": [
       "Text(0.5, 1.0, 'Seaborn Confusion Matrix with labels\\n\\n')"
      ]
     },
     "execution_count": 97,
     "metadata": {},
     "output_type": "execute_result"
    },
    {
     "data": {
      "text/plain": [
       "Text(0.5, 15.0, '\\nPredicted Values')"
      ]
     },
     "execution_count": 97,
     "metadata": {},
     "output_type": "execute_result"
    },
    {
     "data": {
      "text/plain": [
       "Text(33.0, 0.5, 'Actual Values ')"
      ]
     },
     "execution_count": 97,
     "metadata": {},
     "output_type": "execute_result"
    },
    {
     "data": {
      "text/plain": [
       "[Text(0.5, 0, 'False'), Text(1.5, 0, 'True')]"
      ]
     },
     "execution_count": 97,
     "metadata": {},
     "output_type": "execute_result"
    },
    {
     "data": {
      "text/plain": [
       "[Text(0, 0.5, 'False'), Text(0, 1.5, 'True')]"
      ]
     },
     "execution_count": 97,
     "metadata": {},
     "output_type": "execute_result"
    },
    {
     "data": {
      "image/png": "[encoded data removed]",
      "text/plain": [
       "<Figure size 432x288 with 2 Axes>"
      ]
     },
     "metadata": {
      "needs_background": "light"
     },
     "output_type": "display_data"
    },
    {
     "name": "stdout",
     "output_type": "stream",
     "text": [
      "Precision:  0.9972806640904537\n",
      "Recall 0.5942350332594235\n"
     ]
    }
   ],
   "source": [
    "ax = sns.heatmap(cm_kmean_ss, annot=True, cmap='Blues')\n",
    "\n",
    "ax.set_title('Seaborn Confusion Matrix with labels\\n\\n');\n",
    "ax.set_xlabel('\\nPredicted Values')\n",
    "ax.set_ylabel('Actual Values ');\n",
    "\n",
    "## Ticket labels - List must be in alphabetical order\n",
    "ax.xaxis.set_ticklabels(['False','True'])\n",
    "ax.yaxis.set_ticklabels(['False','True'])\n",
    "\n",
    "## Display the visualization of the Confusion Matrix.\n",
    "plt.show()\n",
    "\n",
    "\n",
    "## FP,FN,TP,TN\n",
    "TN_kmean = cm_kmean_ss[0][0]\n",
    "FN_kmean = cm_kmean_ss[1][0]\n",
    "FP_kmean = cm_kmean_ss[0][1]\n",
    "TP_kmean = cm_kmean_ss[1][1]\n",
    "\n",
    "\n",
    "##Precision and Recall\n",
    "Precision_kmean_ss = TP_kmean/(TP_kmean+FP_kmean)\n",
    "Recall_kmean_ss = TP_kmean/(TP_kmean+FN_kmean)\n",
    "\n",
    "print (\"Precision: \",Precision_kmean_ss)\n",
    "print (\"Recall\",Recall_kmean_ss)"
   ]
  },
  {
   "cell_type": "markdown",
   "id": "a914e3e1",
   "metadata": {},
   "source": [
    "## K-Means (PCA)"
   ]
  },
  {
   "cell_type": "code",
   "execution_count": 98,
   "id": "dceaec70",
   "metadata": {},
   "outputs": [
    {
     "data": {
      "text/html": [
       "<style>#sk-container-id-1 {color: black;background-color: white;}#sk-container-id-1 pre{padding: 0;}#sk-container-id-1 div.sk-toggleable {background-color: white;}#sk-container-id-1 label.sk-toggleable__label {cursor: pointer;display: block;width: 100%;margin-bottom: 0;padding: 0.3em;box-sizing: border-box;text-align: center;}#sk-container-id-1 label.sk-toggleable__label-arrow:before {content: \"▸\";float: left;margin-right: 0.25em;color: #696969;}#sk-container-id-1 label.sk-toggleable__label-arrow:hover:before {color: black;}#sk-container-id-1 div.sk-estimator:hover label.sk-toggleable__label-arrow:before {color: black;}#sk-container-id-1 div.sk-toggleable__content {max-height: 0;max-width: 0;overflow: hidden;text-align: left;background-color: #f0f8ff;}#sk-container-id-1 div.sk-toggleable__content pre {margin: 0.2em;color: black;border-radius: 0.25em;background-color: #f0f8ff;}#sk-container-id-1 input.sk-toggleable__control:checked~div.sk-toggleable__content {max-height: 200px;max-width: 100%;overflow: auto;}#sk-container-id-1 input.sk-toggleable__control:checked~label.sk-toggleable__label-arrow:before {content: \"▾\";}#sk-container-id-1 div.sk-estimator input.sk-toggleable__control:checked~label.sk-toggleable__label {background-color: #d4ebff;}#sk-container-id-1 div.sk-label input.sk-toggleable__control:checked~label.sk-toggleable__label {background-color: #d4ebff;}#sk-container-id-1 input.sk-hidden--visually {border: 0;clip: rect(1px 1px 1px 1px);clip: rect(1px, 1px, 1px, 1px);height: 1px;margin: -1px;overflow: hidden;padding: 0;position: absolute;width: 1px;}#sk-container-id-1 div.sk-estimator {font-family: monospace;background-color: #f0f8ff;border: 1px dotted black;border-radius: 0.25em;box-sizing: border-box;margin-bottom: 0.5em;}#sk-container-id-1 div.sk-estimator:hover {background-color: #d4ebff;}#sk-container-id-1 div.sk-parallel-item::after {content: \"\";width: 100%;border-bottom: 1px solid gray;flex-grow: 1;}#sk-container-id-1 div.sk-label:hover label.sk-toggleable__label {background-color: #d4ebff;}#sk-container-id-1 div.sk-serial::before {content: \"\";position: absolute;border-left: 1px solid gray;box-sizing: border-box;top: 0;bottom: 0;left: 50%;z-index: 0;}#sk-container-id-1 div.sk-serial {display: flex;flex-direction: column;align-items: center;background-color: white;padding-right: 0.2em;padding-left: 0.2em;position: relative;}#sk-container-id-1 div.sk-item {position: relative;z-index: 1;}#sk-container-id-1 div.sk-parallel {display: flex;align-items: stretch;justify-content: center;background-color: white;position: relative;}#sk-container-id-1 div.sk-item::before, #sk-container-id-1 div.sk-parallel-item::before {content: \"\";position: absolute;border-left: 1px solid gray;box-sizing: border-box;top: 0;bottom: 0;left: 50%;z-index: -1;}#sk-container-id-1 div.sk-parallel-item {display: flex;flex-direction: column;z-index: 1;position: relative;background-color: white;}#sk-container-id-1 div.sk-parallel-item:first-child::after {align-self: flex-end;width: 50%;}#sk-container-id-1 div.sk-parallel-item:last-child::after {align-self: flex-start;width: 50%;}#sk-container-id-1 div.sk-parallel-item:only-child::after {width: 0;}#sk-container-id-1 div.sk-dashed-wrapped {border: 1px dashed gray;margin: 0 0.4em 0.5em 0.4em;box-sizing: border-box;padding-bottom: 0.4em;background-color: white;}#sk-container-id-1 div.sk-label label {font-family: monospace;font-weight: bold;display: inline-block;line-height: 1.2em;}#sk-container-id-1 div.sk-label-container {text-align: center;}#sk-container-id-1 div.sk-container {/* jupyter's `normalize.less` sets `[hidden] { display: none; }` but bootstrap.min.css set `[hidden] { display: none !important; }` so we also need the `!important` here to be able to override the default hidden behavior on the sphinx rendered scikit-learn.org. See: https://github.com/scikit-learn/scikit-learn/issues/21755 */display: inline-block !important;position: relative;}#sk-container-id-1 div.sk-text-repr-fallback {display: none;}</style><div id=\"sk-container-id-1\" class=\"sk-top-container\"><div class=\"sk-text-repr-fallback\"><pre>KMeans(n_clusters=2)</pre><b>In a Jupyter environment, please rerun this cell to show the HTML representation or trust the notebook. <br />On GitHub, the HTML representation is unable to render, please try loading this page with nbviewer.org.</b></div><div class=\"sk-container\" hidden><div class=\"sk-item\"><div class=\"sk-estimator sk-toggleable\"><input class=\"sk-toggleable__control sk-hidden--visually\" id=\"sk-estimator-id-1\" type=\"checkbox\" checked><label for=\"sk-estimator-id-1\" class=\"sk-toggleable__label sk-toggleable__label-arrow\">KMeans</label><div class=\"sk-toggleable__content\"><pre>KMeans(n_clusters=2)</pre></div></div></div></div></div>"
      ],
      "text/plain": [
       "KMeans(n_clusters=2)"
      ]
     },
     "execution_count": 98,
     "metadata": {},
     "output_type": "execute_result"
    }
   ],
   "source": [
    "kmean.fit(one_hot_data_kmean)\n",
    "kmean_result = kmean.labels_"
   ]
  },
  {
   "cell_type": "code",
   "execution_count": 99,
   "id": "89f78a6f",
   "metadata": {},
   "outputs": [],
   "source": [
    "pickle.dump(kmean,open('kmean.sav','wb'))"
   ]
  },
  {
   "cell_type": "code",
   "execution_count": 100,
   "id": "e98a3dde",
   "metadata": {},
   "outputs": [],
   "source": [
    "kmean_result_c = kmean_result\n",
    "count_1 = np.count_nonzero(kmean_result==1)\n",
    "count_0 = kmean_result_ss.shape[0] - np.count_nonzero(kmean_result_ss==0)"
   ]
  },
  {
   "cell_type": "code",
   "execution_count": 101,
   "id": "96781594",
   "metadata": {
    "scrolled": true
   },
   "outputs": [
    {
     "data": {
      "text/plain": [
       "52494"
      ]
     },
     "execution_count": 101,
     "metadata": {},
     "output_type": "execute_result"
    },
    {
     "data": {
      "text/plain": [
       "34935"
      ]
     },
     "execution_count": 101,
     "metadata": {},
     "output_type": "execute_result"
    },
    {
     "data": {
      "text/plain": [
       "array([0, 0, 0, ..., 1, 0, 1])"
      ]
     },
     "execution_count": 101,
     "metadata": {},
     "output_type": "execute_result"
    }
   ],
   "source": [
    "count_1\n",
    "count_0\n",
    "kmean_result_c"
   ]
  },
  {
   "cell_type": "code",
   "execution_count": 102,
   "id": "62c1c1e8",
   "metadata": {},
   "outputs": [],
   "source": [
    "if(count_1 > count_0):\n",
    "    kmean_result = np.where(kmean_result_c ==1, 0, kmean_result)\n",
    "    kmean_result = np.where(kmean_result_c ==0, 1, kmean_result)"
   ]
  },
  {
   "cell_type": "code",
   "execution_count": 103,
   "id": "3ceda64f",
   "metadata": {},
   "outputs": [
    {
     "data": {
      "text/plain": [
       "array([1, 1, 1, ..., 0, 1, 0])"
      ]
     },
     "execution_count": 103,
     "metadata": {},
     "output_type": "execute_result"
    }
   ],
   "source": [
    "kmean_result"
   ]
  },
  {
   "cell_type": "code",
   "execution_count": 104,
   "id": "61cc03dd",
   "metadata": {},
   "outputs": [
    {
     "name": "stdout",
     "output_type": "stream",
     "text": [
      "Training accuracy: 0.7929\n",
      "[[46877 20466]\n",
      " [ 5617 53013]]\n"
     ]
    }
   ],
   "source": [
    "train_acc_kmean = accuracy_score(kdd_train_y['class_binary'], kmean_result)\n",
    "print(\"Training accuracy: {:.4f}\".format(train_acc_kmean))\n",
    "cm_kmean = confusion_matrix (kdd_train_y[\"class_binary\"], kmean_result)\n",
    "print(cm_kmean)"
   ]
  },
  {
   "cell_type": "code",
   "execution_count": 105,
   "id": "442e0cd5",
   "metadata": {},
   "outputs": [
    {
     "data": {
      "text/plain": [
       "Text(0.5, 1.0, 'Seaborn Confusion Matrix with labels\\n\\n')"
      ]
     },
     "execution_count": 105,
     "metadata": {},
     "output_type": "execute_result"
    },
    {
     "data": {
      "text/plain": [
       "Text(0.5, 15.0, '\\nPredicted Values')"
      ]
     },
     "execution_count": 105,
     "metadata": {},
     "output_type": "execute_result"
    },
    {
     "data": {
      "text/plain": [
       "Text(33.0, 0.5, 'Actual Values ')"
      ]
     },
     "execution_count": 105,
     "metadata": {},
     "output_type": "execute_result"
    },
    {
     "data": {
      "text/plain": [
       "[Text(0.5, 0, 'False'), Text(1.5, 0, 'True')]"
      ]
     },
     "execution_count": 105,
     "metadata": {},
     "output_type": "execute_result"
    },
    {
     "data": {
      "text/plain": [
       "[Text(0, 0.5, 'False'), Text(0, 1.5, 'True')]"
      ]
     },
     "execution_count": 105,
     "metadata": {},
     "output_type": "execute_result"
    },
    {
     "data": {
      "image/png": "[encoded data removed]",
      "text/plain": [
       "<Figure size 432x288 with 2 Axes>"
      ]
     },
     "metadata": {
      "needs_background": "light"
     },
     "output_type": "display_data"
    },
    {
     "name": "stdout",
     "output_type": "stream",
     "text": [
      "Precision:  0.7214714408198261\n",
      "Recall 0.9041958041958041\n"
     ]
    }
   ],
   "source": [
    "    ax = sns.heatmap(cm_kmean, annot=True, cmap='Blues')\n",
    "\n",
    "    ax.set_title('Seaborn Confusion Matrix with labels\\n\\n');\n",
    "    ax.set_xlabel('\\nPredicted Values')\n",
    "    ax.set_ylabel('Actual Values ');\n",
    "\n",
    "    ## Ticket labels - List must be in alphabetical order\n",
    "    ax.xaxis.set_ticklabels(['False','True'])\n",
    "    ax.yaxis.set_ticklabels(['False','True'])\n",
    "\n",
    "    ## Display the visualization of the Confusion Matrix.\n",
    "    plt.show()\n",
    "\n",
    "\n",
    "    ## FP,FN,TP,TN\n",
    "    TN_kmean = cm_kmean[0][0]\n",
    "    FN_kmean = cm_kmean[1][0]\n",
    "    FP_kmean = cm_kmean[0][1]\n",
    "    TP_kmean = cm_kmean[1][1]\n",
    "\n",
    "\n",
    "    ##Precision and Recall\n",
    "    Precision_kmean = TP_kmean/(TP_kmean+FP_kmean)\n",
    "    Recall_kmean = TP_kmean/(TP_kmean+FN_kmean)\n",
    "\n",
    "    print (\"Precision: \",Precision_kmean)\n",
    "    print (\"Recall\",Recall_kmean)"
   ]
  },
  {
   "cell_type": "markdown",
   "id": "61b55859",
   "metadata": {},
   "source": [
    "# Comparison of Train Result"
   ]
  },
  {
   "cell_type": "markdown",
   "id": "9b1236d6",
   "metadata": {},
   "source": [
    "# Before PCA"
   ]
  },
  {
   "cell_type": "code",
   "execution_count": 106,
   "id": "4dfa4efd",
   "metadata": {},
   "outputs": [
    {
     "data": {
      "text/html": [
       "<div>\n",
       "<style scoped>\n",
       "    .dataframe tbody tr th:only-of-type {\n",
       "        vertical-align: middle;\n",
       "    }\n",
       "\n",
       "    .dataframe tbody tr th {\n",
       "        vertical-align: top;\n",
       "    }\n",
       "\n",
       "    .dataframe thead th {\n",
       "        text-align: right;\n",
       "    }\n",
       "</style>\n",
       "<table border=\"1\" class=\"dataframe\">\n",
       "  <thead>\n",
       "    <tr style=\"text-align: right;\">\n",
       "      <th></th>\n",
       "      <th>Algorithm</th>\n",
       "      <th>accuracy</th>\n",
       "      <th>recall</th>\n",
       "      <th>precision</th>\n",
       "    </tr>\n",
       "  </thead>\n",
       "  <tbody>\n",
       "    <tr>\n",
       "      <th>0</th>\n",
       "      <td>Mahalanobis</td>\n",
       "      <td>0.533622</td>\n",
       "      <td>0.002064</td>\n",
       "      <td>0.333333</td>\n",
       "    </tr>\n",
       "    <tr>\n",
       "      <th>1</th>\n",
       "      <td>Maha + MCD</td>\n",
       "      <td>0.787693</td>\n",
       "      <td>0.976872</td>\n",
       "      <td>0.692861</td>\n",
       "    </tr>\n",
       "    <tr>\n",
       "      <th>2</th>\n",
       "      <td>IF</td>\n",
       "      <td>0.447715</td>\n",
       "      <td>0.941191</td>\n",
       "      <td>0.454895</td>\n",
       "    </tr>\n",
       "    <tr>\n",
       "      <th>3</th>\n",
       "      <td>OCSVM</td>\n",
       "      <td>0.462266</td>\n",
       "      <td>0.576616</td>\n",
       "      <td>0.440631</td>\n",
       "    </tr>\n",
       "    <tr>\n",
       "      <th>4</th>\n",
       "      <td>Kmean</td>\n",
       "      <td>0.810396</td>\n",
       "      <td>0.594235</td>\n",
       "      <td>0.997281</td>\n",
       "    </tr>\n",
       "  </tbody>\n",
       "</table>\n",
       "</div>"
      ],
      "text/plain": [
       "     Algorithm  accuracy    recall  precision\n",
       "0  Mahalanobis  0.533622  0.002064   0.333333\n",
       "1   Maha + MCD  0.787693  0.976872   0.692861\n",
       "2           IF  0.447715  0.941191   0.454895\n",
       "3        OCSVM  0.462266  0.576616   0.440631\n",
       "4        Kmean  0.810396  0.594235   0.997281"
      ]
     },
     "execution_count": 106,
     "metadata": {},
     "output_type": "execute_result"
    }
   ],
   "source": [
    "header_cmp = ['Algorithm','accuracy', 'recall', 'precision']\n",
    "table_cmp = [['Mahalanobis', train_acc_maha_ss, Recall_maha_ss, Precision_maha_ss],\n",
    "             ['Maha + MCD', train_acc_maha_mcd_ss, Recall_maha_mcd_ss, Precision_maha_mcd_ss],\n",
    "             ['IF', train_acc_if_ss, Recall_if_ss, Precision_if_ss],\n",
    "             ['OCSVM', train_acc_ss, Recall_svm_ss, Precision_svm_ss],\n",
    "             ['Kmean', train_acc_kmean_ss, Recall_kmean_ss, Precision_kmean_ss]]\n",
    "comparison_ss = pd.DataFrame(table_cmp,columns=header_cmp)\n",
    "comparison_ss"
   ]
  },
  {
   "cell_type": "markdown",
   "id": "bf2a32c7",
   "metadata": {},
   "source": [
    "# After PCA "
   ]
  },
  {
   "cell_type": "code",
   "execution_count": 107,
   "id": "6d5a07a4",
   "metadata": {},
   "outputs": [
    {
     "data": {
      "text/html": [
       "<div>\n",
       "<style scoped>\n",
       "    .dataframe tbody tr th:only-of-type {\n",
       "        vertical-align: middle;\n",
       "    }\n",
       "\n",
       "    .dataframe tbody tr th {\n",
       "        vertical-align: top;\n",
       "    }\n",
       "\n",
       "    .dataframe thead th {\n",
       "        text-align: right;\n",
       "    }\n",
       "</style>\n",
       "<table border=\"1\" class=\"dataframe\">\n",
       "  <thead>\n",
       "    <tr style=\"text-align: right;\">\n",
       "      <th></th>\n",
       "      <th>Algorithm</th>\n",
       "      <th>accuracy</th>\n",
       "      <th>recall</th>\n",
       "      <th>precision</th>\n",
       "    </tr>\n",
       "  </thead>\n",
       "  <tbody>\n",
       "    <tr>\n",
       "      <th>0</th>\n",
       "      <td>Mahalanobis</td>\n",
       "      <td>0.533948</td>\n",
       "      <td>0.000682</td>\n",
       "      <td>0.250000</td>\n",
       "    </tr>\n",
       "    <tr>\n",
       "      <th>1</th>\n",
       "      <td>Maha + MCD</td>\n",
       "      <td>0.486041</td>\n",
       "      <td>0.461931</td>\n",
       "      <td>0.449279</td>\n",
       "    </tr>\n",
       "    <tr>\n",
       "      <th>2</th>\n",
       "      <td>IF</td>\n",
       "      <td>0.457638</td>\n",
       "      <td>0.967764</td>\n",
       "      <td>0.460653</td>\n",
       "    </tr>\n",
       "    <tr>\n",
       "      <th>3</th>\n",
       "      <td>OCSVM</td>\n",
       "      <td>0.503068</td>\n",
       "      <td>0.623350</td>\n",
       "      <td>0.474242</td>\n",
       "    </tr>\n",
       "    <tr>\n",
       "      <th>4</th>\n",
       "      <td>Kmean</td>\n",
       "      <td>0.792948</td>\n",
       "      <td>0.904196</td>\n",
       "      <td>0.721471</td>\n",
       "    </tr>\n",
       "  </tbody>\n",
       "</table>\n",
       "</div>"
      ],
      "text/plain": [
       "     Algorithm  accuracy    recall  precision\n",
       "0  Mahalanobis  0.533948  0.000682   0.250000\n",
       "1   Maha + MCD  0.486041  0.461931   0.449279\n",
       "2           IF  0.457638  0.967764   0.460653\n",
       "3        OCSVM  0.503068  0.623350   0.474242\n",
       "4        Kmean  0.792948  0.904196   0.721471"
      ]
     },
     "execution_count": 107,
     "metadata": {},
     "output_type": "execute_result"
    }
   ],
   "source": [
    "header_cmp = ['Algorithm','accuracy', 'recall', 'precision']\n",
    "table_cmp = [['Mahalanobis', train_acc_maha, Recall_maha, Precision_maha],\n",
    "             ['Maha + MCD', train_acc_maha_mcd, Recall_maha_mcd, Precision_maha_mcd],\n",
    "             ['IF', train_acc_if, Recall_if, Precision_if],\n",
    "             ['OCSVM', train_acc, Recall_svm, Precision_svm],\n",
    "             ['Kmean', train_acc_kmean, Recall_kmean, Precision_kmean]]\n",
    "comparison = pd.DataFrame(table_cmp,columns=header_cmp)\n",
    "comparison"
   ]
  },
  {
   "cell_type": "markdown",
   "id": "10d48769",
   "metadata": {},
   "source": [
    "# Testing"
   ]
  },
  {
   "cell_type": "code",
   "execution_count": 108,
   "id": "44f86c7f",
   "metadata": {},
   "outputs": [],
   "source": [
    "kdd_test = pd.read_csv('Dataset/KDDTest+.txt', delimiter = ',', header = None)\n",
    "kdd_test.columns = header_names\n",
    "kdd_test_x = kdd_test.drop(['class','Difficulty'],axis = 1)"
   ]
  },
  {
   "cell_type": "code",
   "execution_count": 109,
   "id": "6866aa5d",
   "metadata": {},
   "outputs": [],
   "source": [
    "kdd_test_x = kdd_test_x.drop(['num_outbound_cmds'],axis =1)"
   ]
  },
  {
   "cell_type": "code",
   "execution_count": 110,
   "id": "8347090d",
   "metadata": {},
   "outputs": [],
   "source": [
    "num_cols = kdd_test_x._get_numeric_data().columns\n",
    "cate_cols = list(set(kdd_test_x.columns) - set(num_cols))\n",
    "cate_features = pd.get_dummies(kdd_test_x[cate_cols], prefix = cate_cols)\n",
    "ss_test_x = kdd_test_x.drop(cate_cols, axis = 1)"
   ]
  },
  {
   "cell_type": "code",
   "execution_count": 111,
   "id": "8c52ff84",
   "metadata": {},
   "outputs": [
    {
     "data": {
      "text/plain": [
       "Index(['duration', 'protocol_type', 'service', 'flag', 'src_bytes',\n",
       "       'dst_bytes', 'land', 'wrong_fragment', 'urgent', 'hot',\n",
       "       'num_failed_logins', 'logged_in', 'num_compromised', 'root_shell',\n",
       "       'su_attempted', 'num_root', 'num_file_creations', 'num_shells',\n",
       "       'num_access_files', 'is_host_login', 'is_guest_login', 'count',\n",
       "       'srv_count', 'serror_rate', 'srv_serror_rate', 'rerror_rate',\n",
       "       'srv_rerror_rate', 'same_srv_rate', 'diff_srv_rate',\n",
       "       'srv_diff_host_rate', 'dst_host_count', 'dst_host_srv_count',\n",
       "       'dst_host_same_srv_rate', 'dst_host_diff_srv_rate',\n",
       "       'dst_host_same_src_port_rate', 'dst_host_srv_diff_host_rate',\n",
       "       'dst_host_serror_rate', 'dst_host_srv_serror_rate',\n",
       "       'dst_host_rerror_rate', 'dst_host_srv_rerror_rate'],\n",
       "      dtype='object')"
      ]
     },
     "execution_count": 111,
     "metadata": {},
     "output_type": "execute_result"
    },
    {
     "data": {
      "text/html": [
       "<div>\n",
       "<style scoped>\n",
       "    .dataframe tbody tr th:only-of-type {\n",
       "        vertical-align: middle;\n",
       "    }\n",
       "\n",
       "    .dataframe tbody tr th {\n",
       "        vertical-align: top;\n",
       "    }\n",
       "\n",
       "    .dataframe thead th {\n",
       "        text-align: right;\n",
       "    }\n",
       "</style>\n",
       "<table border=\"1\" class=\"dataframe\">\n",
       "  <thead>\n",
       "    <tr style=\"text-align: right;\">\n",
       "      <th></th>\n",
       "      <th>duration</th>\n",
       "      <th>src_bytes</th>\n",
       "      <th>dst_bytes</th>\n",
       "      <th>land</th>\n",
       "      <th>wrong_fragment</th>\n",
       "      <th>urgent</th>\n",
       "      <th>hot</th>\n",
       "      <th>num_failed_logins</th>\n",
       "      <th>logged_in</th>\n",
       "      <th>num_compromised</th>\n",
       "      <th>...</th>\n",
       "      <th>dst_host_count</th>\n",
       "      <th>dst_host_srv_count</th>\n",
       "      <th>dst_host_same_srv_rate</th>\n",
       "      <th>dst_host_diff_srv_rate</th>\n",
       "      <th>dst_host_same_src_port_rate</th>\n",
       "      <th>dst_host_srv_diff_host_rate</th>\n",
       "      <th>dst_host_serror_rate</th>\n",
       "      <th>dst_host_srv_serror_rate</th>\n",
       "      <th>dst_host_rerror_rate</th>\n",
       "      <th>dst_host_srv_rerror_rate</th>\n",
       "    </tr>\n",
       "  </thead>\n",
       "  <tbody>\n",
       "    <tr>\n",
       "      <th>0</th>\n",
       "      <td>0</td>\n",
       "      <td>0</td>\n",
       "      <td>0</td>\n",
       "      <td>0</td>\n",
       "      <td>0</td>\n",
       "      <td>0</td>\n",
       "      <td>0</td>\n",
       "      <td>0</td>\n",
       "      <td>0</td>\n",
       "      <td>0</td>\n",
       "      <td>...</td>\n",
       "      <td>255</td>\n",
       "      <td>10</td>\n",
       "      <td>0.04</td>\n",
       "      <td>0.06</td>\n",
       "      <td>0.00</td>\n",
       "      <td>0.00</td>\n",
       "      <td>0.00</td>\n",
       "      <td>0.0</td>\n",
       "      <td>1.00</td>\n",
       "      <td>1.00</td>\n",
       "    </tr>\n",
       "    <tr>\n",
       "      <th>1</th>\n",
       "      <td>0</td>\n",
       "      <td>0</td>\n",
       "      <td>0</td>\n",
       "      <td>0</td>\n",
       "      <td>0</td>\n",
       "      <td>0</td>\n",
       "      <td>0</td>\n",
       "      <td>0</td>\n",
       "      <td>0</td>\n",
       "      <td>0</td>\n",
       "      <td>...</td>\n",
       "      <td>255</td>\n",
       "      <td>1</td>\n",
       "      <td>0.00</td>\n",
       "      <td>0.06</td>\n",
       "      <td>0.00</td>\n",
       "      <td>0.00</td>\n",
       "      <td>0.00</td>\n",
       "      <td>0.0</td>\n",
       "      <td>1.00</td>\n",
       "      <td>1.00</td>\n",
       "    </tr>\n",
       "    <tr>\n",
       "      <th>2</th>\n",
       "      <td>2</td>\n",
       "      <td>12983</td>\n",
       "      <td>0</td>\n",
       "      <td>0</td>\n",
       "      <td>0</td>\n",
       "      <td>0</td>\n",
       "      <td>0</td>\n",
       "      <td>0</td>\n",
       "      <td>0</td>\n",
       "      <td>0</td>\n",
       "      <td>...</td>\n",
       "      <td>134</td>\n",
       "      <td>86</td>\n",
       "      <td>0.61</td>\n",
       "      <td>0.04</td>\n",
       "      <td>0.61</td>\n",
       "      <td>0.02</td>\n",
       "      <td>0.00</td>\n",
       "      <td>0.0</td>\n",
       "      <td>0.00</td>\n",
       "      <td>0.00</td>\n",
       "    </tr>\n",
       "    <tr>\n",
       "      <th>3</th>\n",
       "      <td>0</td>\n",
       "      <td>20</td>\n",
       "      <td>0</td>\n",
       "      <td>0</td>\n",
       "      <td>0</td>\n",
       "      <td>0</td>\n",
       "      <td>0</td>\n",
       "      <td>0</td>\n",
       "      <td>0</td>\n",
       "      <td>0</td>\n",
       "      <td>...</td>\n",
       "      <td>3</td>\n",
       "      <td>57</td>\n",
       "      <td>1.00</td>\n",
       "      <td>0.00</td>\n",
       "      <td>1.00</td>\n",
       "      <td>0.28</td>\n",
       "      <td>0.00</td>\n",
       "      <td>0.0</td>\n",
       "      <td>0.00</td>\n",
       "      <td>0.00</td>\n",
       "    </tr>\n",
       "    <tr>\n",
       "      <th>4</th>\n",
       "      <td>1</td>\n",
       "      <td>0</td>\n",
       "      <td>15</td>\n",
       "      <td>0</td>\n",
       "      <td>0</td>\n",
       "      <td>0</td>\n",
       "      <td>0</td>\n",
       "      <td>0</td>\n",
       "      <td>0</td>\n",
       "      <td>0</td>\n",
       "      <td>...</td>\n",
       "      <td>29</td>\n",
       "      <td>86</td>\n",
       "      <td>0.31</td>\n",
       "      <td>0.17</td>\n",
       "      <td>0.03</td>\n",
       "      <td>0.02</td>\n",
       "      <td>0.00</td>\n",
       "      <td>0.0</td>\n",
       "      <td>0.83</td>\n",
       "      <td>0.71</td>\n",
       "    </tr>\n",
       "    <tr>\n",
       "      <th>...</th>\n",
       "      <td>...</td>\n",
       "      <td>...</td>\n",
       "      <td>...</td>\n",
       "      <td>...</td>\n",
       "      <td>...</td>\n",
       "      <td>...</td>\n",
       "      <td>...</td>\n",
       "      <td>...</td>\n",
       "      <td>...</td>\n",
       "      <td>...</td>\n",
       "      <td>...</td>\n",
       "      <td>...</td>\n",
       "      <td>...</td>\n",
       "      <td>...</td>\n",
       "      <td>...</td>\n",
       "      <td>...</td>\n",
       "      <td>...</td>\n",
       "      <td>...</td>\n",
       "      <td>...</td>\n",
       "      <td>...</td>\n",
       "      <td>...</td>\n",
       "    </tr>\n",
       "    <tr>\n",
       "      <th>22539</th>\n",
       "      <td>0</td>\n",
       "      <td>794</td>\n",
       "      <td>333</td>\n",
       "      <td>0</td>\n",
       "      <td>0</td>\n",
       "      <td>0</td>\n",
       "      <td>0</td>\n",
       "      <td>0</td>\n",
       "      <td>1</td>\n",
       "      <td>0</td>\n",
       "      <td>...</td>\n",
       "      <td>100</td>\n",
       "      <td>141</td>\n",
       "      <td>0.72</td>\n",
       "      <td>0.06</td>\n",
       "      <td>0.01</td>\n",
       "      <td>0.01</td>\n",
       "      <td>0.01</td>\n",
       "      <td>0.0</td>\n",
       "      <td>0.00</td>\n",
       "      <td>0.00</td>\n",
       "    </tr>\n",
       "    <tr>\n",
       "      <th>22540</th>\n",
       "      <td>0</td>\n",
       "      <td>317</td>\n",
       "      <td>938</td>\n",
       "      <td>0</td>\n",
       "      <td>0</td>\n",
       "      <td>0</td>\n",
       "      <td>0</td>\n",
       "      <td>0</td>\n",
       "      <td>1</td>\n",
       "      <td>0</td>\n",
       "      <td>...</td>\n",
       "      <td>197</td>\n",
       "      <td>255</td>\n",
       "      <td>1.00</td>\n",
       "      <td>0.00</td>\n",
       "      <td>0.01</td>\n",
       "      <td>0.01</td>\n",
       "      <td>0.01</td>\n",
       "      <td>0.0</td>\n",
       "      <td>0.00</td>\n",
       "      <td>0.00</td>\n",
       "    </tr>\n",
       "    <tr>\n",
       "      <th>22541</th>\n",
       "      <td>0</td>\n",
       "      <td>54540</td>\n",
       "      <td>8314</td>\n",
       "      <td>0</td>\n",
       "      <td>0</td>\n",
       "      <td>0</td>\n",
       "      <td>2</td>\n",
       "      <td>0</td>\n",
       "      <td>1</td>\n",
       "      <td>1</td>\n",
       "      <td>...</td>\n",
       "      <td>255</td>\n",
       "      <td>255</td>\n",
       "      <td>1.00</td>\n",
       "      <td>0.00</td>\n",
       "      <td>0.00</td>\n",
       "      <td>0.00</td>\n",
       "      <td>0.00</td>\n",
       "      <td>0.0</td>\n",
       "      <td>0.07</td>\n",
       "      <td>0.07</td>\n",
       "    </tr>\n",
       "    <tr>\n",
       "      <th>22542</th>\n",
       "      <td>0</td>\n",
       "      <td>42</td>\n",
       "      <td>42</td>\n",
       "      <td>0</td>\n",
       "      <td>0</td>\n",
       "      <td>0</td>\n",
       "      <td>0</td>\n",
       "      <td>0</td>\n",
       "      <td>0</td>\n",
       "      <td>0</td>\n",
       "      <td>...</td>\n",
       "      <td>255</td>\n",
       "      <td>252</td>\n",
       "      <td>0.99</td>\n",
       "      <td>0.01</td>\n",
       "      <td>0.00</td>\n",
       "      <td>0.00</td>\n",
       "      <td>0.00</td>\n",
       "      <td>0.0</td>\n",
       "      <td>0.00</td>\n",
       "      <td>0.00</td>\n",
       "    </tr>\n",
       "    <tr>\n",
       "      <th>22543</th>\n",
       "      <td>0</td>\n",
       "      <td>0</td>\n",
       "      <td>0</td>\n",
       "      <td>0</td>\n",
       "      <td>0</td>\n",
       "      <td>0</td>\n",
       "      <td>0</td>\n",
       "      <td>0</td>\n",
       "      <td>0</td>\n",
       "      <td>0</td>\n",
       "      <td>...</td>\n",
       "      <td>255</td>\n",
       "      <td>21</td>\n",
       "      <td>0.08</td>\n",
       "      <td>0.03</td>\n",
       "      <td>0.00</td>\n",
       "      <td>0.00</td>\n",
       "      <td>0.00</td>\n",
       "      <td>0.0</td>\n",
       "      <td>0.44</td>\n",
       "      <td>1.00</td>\n",
       "    </tr>\n",
       "  </tbody>\n",
       "</table>\n",
       "<p>22544 rows × 37 columns</p>\n",
       "</div>"
      ],
      "text/plain": [
       "       duration  src_bytes  dst_bytes  land  wrong_fragment  urgent  hot  \\\n",
       "0             0          0          0     0               0       0    0   \n",
       "1             0          0          0     0               0       0    0   \n",
       "2             2      12983          0     0               0       0    0   \n",
       "3             0         20          0     0               0       0    0   \n",
       "4             1          0         15     0               0       0    0   \n",
       "...         ...        ...        ...   ...             ...     ...  ...   \n",
       "22539         0        794        333     0               0       0    0   \n",
       "22540         0        317        938     0               0       0    0   \n",
       "22541         0      54540       8314     0               0       0    2   \n",
       "22542         0         42         42     0               0       0    0   \n",
       "22543         0          0          0     0               0       0    0   \n",
       "\n",
       "       num_failed_logins  logged_in  num_compromised  ...  dst_host_count  \\\n",
       "0                      0          0                0  ...             255   \n",
       "1                      0          0                0  ...             255   \n",
       "2                      0          0                0  ...             134   \n",
       "3                      0          0                0  ...               3   \n",
       "4                      0          0                0  ...              29   \n",
       "...                  ...        ...              ...  ...             ...   \n",
       "22539                  0          1                0  ...             100   \n",
       "22540                  0          1                0  ...             197   \n",
       "22541                  0          1                1  ...             255   \n",
       "22542                  0          0                0  ...             255   \n",
       "22543                  0          0                0  ...             255   \n",
       "\n",
       "       dst_host_srv_count  dst_host_same_srv_rate  dst_host_diff_srv_rate  \\\n",
       "0                      10                    0.04                    0.06   \n",
       "1                       1                    0.00                    0.06   \n",
       "2                      86                    0.61                    0.04   \n",
       "3                      57                    1.00                    0.00   \n",
       "4                      86                    0.31                    0.17   \n",
       "...                   ...                     ...                     ...   \n",
       "22539                 141                    0.72                    0.06   \n",
       "22540                 255                    1.00                    0.00   \n",
       "22541                 255                    1.00                    0.00   \n",
       "22542                 252                    0.99                    0.01   \n",
       "22543                  21                    0.08                    0.03   \n",
       "\n",
       "       dst_host_same_src_port_rate  dst_host_srv_diff_host_rate  \\\n",
       "0                             0.00                         0.00   \n",
       "1                             0.00                         0.00   \n",
       "2                             0.61                         0.02   \n",
       "3                             1.00                         0.28   \n",
       "4                             0.03                         0.02   \n",
       "...                            ...                          ...   \n",
       "22539                         0.01                         0.01   \n",
       "22540                         0.01                         0.01   \n",
       "22541                         0.00                         0.00   \n",
       "22542                         0.00                         0.00   \n",
       "22543                         0.00                         0.00   \n",
       "\n",
       "       dst_host_serror_rate  dst_host_srv_serror_rate  dst_host_rerror_rate  \\\n",
       "0                      0.00                       0.0                  1.00   \n",
       "1                      0.00                       0.0                  1.00   \n",
       "2                      0.00                       0.0                  0.00   \n",
       "3                      0.00                       0.0                  0.00   \n",
       "4                      0.00                       0.0                  0.83   \n",
       "...                     ...                       ...                   ...   \n",
       "22539                  0.01                       0.0                  0.00   \n",
       "22540                  0.01                       0.0                  0.00   \n",
       "22541                  0.00                       0.0                  0.07   \n",
       "22542                  0.00                       0.0                  0.00   \n",
       "22543                  0.00                       0.0                  0.44   \n",
       "\n",
       "       dst_host_srv_rerror_rate  \n",
       "0                          1.00  \n",
       "1                          1.00  \n",
       "2                          0.00  \n",
       "3                          0.00  \n",
       "4                          0.71  \n",
       "...                         ...  \n",
       "22539                      0.00  \n",
       "22540                      0.00  \n",
       "22541                      0.07  \n",
       "22542                      0.00  \n",
       "22543                      1.00  \n",
       "\n",
       "[22544 rows x 37 columns]"
      ]
     },
     "execution_count": 111,
     "metadata": {},
     "output_type": "execute_result"
    }
   ],
   "source": [
    "kdd_test_x.columns\n",
    "ss_test_x"
   ]
  },
  {
   "cell_type": "code",
   "execution_count": 112,
   "id": "fd2bf4b3",
   "metadata": {},
   "outputs": [],
   "source": [
    "std_fit_test = std.fit(ss_test_x)\n",
    "test_ss = std_fit.transform(ss_test_x)"
   ]
  },
  {
   "cell_type": "code",
   "execution_count": 113,
   "id": "48f174ff",
   "metadata": {},
   "outputs": [],
   "source": [
    "kdd_test_x = pd.DataFrame(ss_test_x)\n",
    "columns = kdd_test_x.columns"
   ]
  },
  {
   "cell_type": "code",
   "execution_count": 114,
   "id": "0305793c",
   "metadata": {},
   "outputs": [],
   "source": [
    "kdd_test_x_ss = pd.DataFrame(test_ss)"
   ]
  },
  {
   "cell_type": "code",
   "execution_count": 115,
   "id": "1ce0523a",
   "metadata": {},
   "outputs": [],
   "source": [
    "kdd_test_x_ss.columns = columns"
   ]
  },
  {
   "cell_type": "code",
   "execution_count": 116,
   "id": "076725ca",
   "metadata": {},
   "outputs": [],
   "source": [
    "pdCat = pd.DataFrame(cate_cols)"
   ]
  },
  {
   "cell_type": "code",
   "execution_count": 117,
   "id": "a175e359",
   "metadata": {},
   "outputs": [],
   "source": [
    "cate_pd = kdd_test[['flag','service','protocol_type']]"
   ]
  },
  {
   "cell_type": "code",
   "execution_count": 118,
   "id": "261ebe69",
   "metadata": {},
   "outputs": [
    {
     "data": {
      "text/plain": [
       "Index(['flag', 'service', 'protocol_type'], dtype='object')"
      ]
     },
     "execution_count": 118,
     "metadata": {},
     "output_type": "execute_result"
    }
   ],
   "source": [
    "cate_pd.columns"
   ]
  },
  {
   "cell_type": "code",
   "execution_count": 119,
   "id": "caa50292",
   "metadata": {},
   "outputs": [],
   "source": [
    "kdd_test_x_t = pd.concat([kdd_test_x_ss,cate_pd],axis = 1)"
   ]
  },
  {
   "cell_type": "code",
   "execution_count": 120,
   "id": "63553f18",
   "metadata": {},
   "outputs": [],
   "source": [
    "kdd_test_y = kdd_test['class']"
   ]
  },
  {
   "cell_type": "code",
   "execution_count": 121,
   "id": "55db0f52",
   "metadata": {},
   "outputs": [
    {
     "data": {
      "text/html": [
       "<div>\n",
       "<style scoped>\n",
       "    .dataframe tbody tr th:only-of-type {\n",
       "        vertical-align: middle;\n",
       "    }\n",
       "\n",
       "    .dataframe tbody tr th {\n",
       "        vertical-align: top;\n",
       "    }\n",
       "\n",
       "    .dataframe thead th {\n",
       "        text-align: right;\n",
       "    }\n",
       "</style>\n",
       "<table border=\"1\" class=\"dataframe\">\n",
       "  <thead>\n",
       "    <tr style=\"text-align: right;\">\n",
       "      <th></th>\n",
       "      <th>duration</th>\n",
       "      <th>protocol_type</th>\n",
       "      <th>service</th>\n",
       "      <th>flag</th>\n",
       "      <th>src_bytes</th>\n",
       "      <th>dst_bytes</th>\n",
       "      <th>land</th>\n",
       "      <th>wrong_fragment</th>\n",
       "      <th>urgent</th>\n",
       "      <th>hot</th>\n",
       "      <th>...</th>\n",
       "      <th>dst_host_count</th>\n",
       "      <th>dst_host_srv_count</th>\n",
       "      <th>dst_host_same_srv_rate</th>\n",
       "      <th>dst_host_diff_srv_rate</th>\n",
       "      <th>dst_host_same_src_port_rate</th>\n",
       "      <th>dst_host_srv_diff_host_rate</th>\n",
       "      <th>dst_host_serror_rate</th>\n",
       "      <th>dst_host_srv_serror_rate</th>\n",
       "      <th>dst_host_rerror_rate</th>\n",
       "      <th>dst_host_srv_rerror_rate</th>\n",
       "    </tr>\n",
       "  </thead>\n",
       "  <tbody>\n",
       "    <tr>\n",
       "      <th>0</th>\n",
       "      <td>0.000000</td>\n",
       "      <td>tcp</td>\n",
       "      <td>ftp_data</td>\n",
       "      <td>SF</td>\n",
       "      <td>491.000000</td>\n",
       "      <td>0.000000</td>\n",
       "      <td>0.000000</td>\n",
       "      <td>0.000000</td>\n",
       "      <td>0.000000</td>\n",
       "      <td>0.000000</td>\n",
       "      <td>...</td>\n",
       "      <td>150.000000</td>\n",
       "      <td>25.000000</td>\n",
       "      <td>0.170000</td>\n",
       "      <td>0.030000</td>\n",
       "      <td>0.170000</td>\n",
       "      <td>0.000000</td>\n",
       "      <td>0.000000</td>\n",
       "      <td>0.00000</td>\n",
       "      <td>0.050000</td>\n",
       "      <td>0.000000</td>\n",
       "    </tr>\n",
       "    <tr>\n",
       "      <th>1</th>\n",
       "      <td>0.000000</td>\n",
       "      <td>udp</td>\n",
       "      <td>other</td>\n",
       "      <td>SF</td>\n",
       "      <td>146.000000</td>\n",
       "      <td>0.000000</td>\n",
       "      <td>0.000000</td>\n",
       "      <td>0.000000</td>\n",
       "      <td>0.000000</td>\n",
       "      <td>0.000000</td>\n",
       "      <td>...</td>\n",
       "      <td>255.000000</td>\n",
       "      <td>1.000000</td>\n",
       "      <td>0.000000</td>\n",
       "      <td>0.600000</td>\n",
       "      <td>0.880000</td>\n",
       "      <td>0.000000</td>\n",
       "      <td>0.000000</td>\n",
       "      <td>0.00000</td>\n",
       "      <td>0.000000</td>\n",
       "      <td>0.000000</td>\n",
       "    </tr>\n",
       "    <tr>\n",
       "      <th>2</th>\n",
       "      <td>0.000000</td>\n",
       "      <td>tcp</td>\n",
       "      <td>private</td>\n",
       "      <td>S0</td>\n",
       "      <td>0.000000</td>\n",
       "      <td>0.000000</td>\n",
       "      <td>0.000000</td>\n",
       "      <td>0.000000</td>\n",
       "      <td>0.000000</td>\n",
       "      <td>0.000000</td>\n",
       "      <td>...</td>\n",
       "      <td>255.000000</td>\n",
       "      <td>26.000000</td>\n",
       "      <td>0.100000</td>\n",
       "      <td>0.050000</td>\n",
       "      <td>0.000000</td>\n",
       "      <td>0.000000</td>\n",
       "      <td>1.000000</td>\n",
       "      <td>1.00000</td>\n",
       "      <td>0.000000</td>\n",
       "      <td>0.000000</td>\n",
       "    </tr>\n",
       "    <tr>\n",
       "      <th>3</th>\n",
       "      <td>0.000000</td>\n",
       "      <td>tcp</td>\n",
       "      <td>http</td>\n",
       "      <td>SF</td>\n",
       "      <td>232.000000</td>\n",
       "      <td>8153.000000</td>\n",
       "      <td>0.000000</td>\n",
       "      <td>0.000000</td>\n",
       "      <td>0.000000</td>\n",
       "      <td>0.000000</td>\n",
       "      <td>...</td>\n",
       "      <td>30.000000</td>\n",
       "      <td>255.000000</td>\n",
       "      <td>1.000000</td>\n",
       "      <td>0.000000</td>\n",
       "      <td>0.030000</td>\n",
       "      <td>0.040000</td>\n",
       "      <td>0.030000</td>\n",
       "      <td>0.01000</td>\n",
       "      <td>0.000000</td>\n",
       "      <td>0.010000</td>\n",
       "    </tr>\n",
       "    <tr>\n",
       "      <th>4</th>\n",
       "      <td>0.000000</td>\n",
       "      <td>tcp</td>\n",
       "      <td>http</td>\n",
       "      <td>SF</td>\n",
       "      <td>199.000000</td>\n",
       "      <td>420.000000</td>\n",
       "      <td>0.000000</td>\n",
       "      <td>0.000000</td>\n",
       "      <td>0.000000</td>\n",
       "      <td>0.000000</td>\n",
       "      <td>...</td>\n",
       "      <td>255.000000</td>\n",
       "      <td>255.000000</td>\n",
       "      <td>1.000000</td>\n",
       "      <td>0.000000</td>\n",
       "      <td>0.000000</td>\n",
       "      <td>0.000000</td>\n",
       "      <td>0.000000</td>\n",
       "      <td>0.00000</td>\n",
       "      <td>0.000000</td>\n",
       "      <td>0.000000</td>\n",
       "    </tr>\n",
       "    <tr>\n",
       "      <th>...</th>\n",
       "      <td>...</td>\n",
       "      <td>...</td>\n",
       "      <td>...</td>\n",
       "      <td>...</td>\n",
       "      <td>...</td>\n",
       "      <td>...</td>\n",
       "      <td>...</td>\n",
       "      <td>...</td>\n",
       "      <td>...</td>\n",
       "      <td>...</td>\n",
       "      <td>...</td>\n",
       "      <td>...</td>\n",
       "      <td>...</td>\n",
       "      <td>...</td>\n",
       "      <td>...</td>\n",
       "      <td>...</td>\n",
       "      <td>...</td>\n",
       "      <td>...</td>\n",
       "      <td>...</td>\n",
       "      <td>...</td>\n",
       "      <td>...</td>\n",
       "    </tr>\n",
       "    <tr>\n",
       "      <th>22539</th>\n",
       "      <td>-0.155534</td>\n",
       "      <td>tcp</td>\n",
       "      <td>smtp</td>\n",
       "      <td>SF</td>\n",
       "      <td>-0.020309</td>\n",
       "      <td>-0.081202</td>\n",
       "      <td>-0.017624</td>\n",
       "      <td>-0.059104</td>\n",
       "      <td>-0.019459</td>\n",
       "      <td>-0.113521</td>\n",
       "      <td>...</td>\n",
       "      <td>-0.998254</td>\n",
       "      <td>0.002232</td>\n",
       "      <td>0.255414</td>\n",
       "      <td>-0.138370</td>\n",
       "      <td>-0.399204</td>\n",
       "      <td>-0.112873</td>\n",
       "      <td>-0.321505</td>\n",
       "      <td>-0.35275</td>\n",
       "      <td>-0.602719</td>\n",
       "      <td>-0.565483</td>\n",
       "    </tr>\n",
       "    <tr>\n",
       "      <th>22540</th>\n",
       "      <td>-0.155534</td>\n",
       "      <td>tcp</td>\n",
       "      <td>http</td>\n",
       "      <td>SF</td>\n",
       "      <td>-0.021318</td>\n",
       "      <td>-0.052690</td>\n",
       "      <td>-0.017624</td>\n",
       "      <td>-0.059104</td>\n",
       "      <td>-0.019459</td>\n",
       "      <td>-0.113521</td>\n",
       "      <td>...</td>\n",
       "      <td>0.033292</td>\n",
       "      <td>1.022079</td>\n",
       "      <td>0.898090</td>\n",
       "      <td>-0.410217</td>\n",
       "      <td>-0.399204</td>\n",
       "      <td>-0.112873</td>\n",
       "      <td>-0.321505</td>\n",
       "      <td>-0.35275</td>\n",
       "      <td>-0.602719</td>\n",
       "      <td>-0.565483</td>\n",
       "    </tr>\n",
       "    <tr>\n",
       "      <th>22541</th>\n",
       "      <td>-0.155534</td>\n",
       "      <td>tcp</td>\n",
       "      <td>http</td>\n",
       "      <td>SF</td>\n",
       "      <td>0.093373</td>\n",
       "      <td>0.294926</td>\n",
       "      <td>-0.017624</td>\n",
       "      <td>-0.059104</td>\n",
       "      <td>-0.019459</td>\n",
       "      <td>2.040705</td>\n",
       "      <td>...</td>\n",
       "      <td>0.650093</td>\n",
       "      <td>1.022079</td>\n",
       "      <td>0.898090</td>\n",
       "      <td>-0.410217</td>\n",
       "      <td>-0.431856</td>\n",
       "      <td>-0.229980</td>\n",
       "      <td>-0.358118</td>\n",
       "      <td>-0.35275</td>\n",
       "      <td>-0.421943</td>\n",
       "      <td>-0.390861</td>\n",
       "    </tr>\n",
       "    <tr>\n",
       "      <th>22542</th>\n",
       "      <td>-0.155534</td>\n",
       "      <td>udp</td>\n",
       "      <td>domain_u</td>\n",
       "      <td>SF</td>\n",
       "      <td>-0.021899</td>\n",
       "      <td>-0.094917</td>\n",
       "      <td>-0.017624</td>\n",
       "      <td>-0.059104</td>\n",
       "      <td>-0.019459</td>\n",
       "      <td>-0.113521</td>\n",
       "      <td>...</td>\n",
       "      <td>0.650093</td>\n",
       "      <td>0.995240</td>\n",
       "      <td>0.875137</td>\n",
       "      <td>-0.364909</td>\n",
       "      <td>-0.431856</td>\n",
       "      <td>-0.229980</td>\n",
       "      <td>-0.358118</td>\n",
       "      <td>-0.35275</td>\n",
       "      <td>-0.602719</td>\n",
       "      <td>-0.565483</td>\n",
       "    </tr>\n",
       "    <tr>\n",
       "      <th>22543</th>\n",
       "      <td>-0.155534</td>\n",
       "      <td>tcp</td>\n",
       "      <td>sunrpc</td>\n",
       "      <td>REJ</td>\n",
       "      <td>-0.021988</td>\n",
       "      <td>-0.096896</td>\n",
       "      <td>-0.017624</td>\n",
       "      <td>-0.059104</td>\n",
       "      <td>-0.019459</td>\n",
       "      <td>-0.113521</td>\n",
       "      <td>...</td>\n",
       "      <td>0.650093</td>\n",
       "      <td>-1.071291</td>\n",
       "      <td>-1.213559</td>\n",
       "      <td>-0.274293</td>\n",
       "      <td>-0.431856</td>\n",
       "      <td>-0.229980</td>\n",
       "      <td>-0.358118</td>\n",
       "      <td>-0.35275</td>\n",
       "      <td>0.533585</td>\n",
       "      <td>1.929116</td>\n",
       "    </tr>\n",
       "  </tbody>\n",
       "</table>\n",
       "<p>148517 rows × 40 columns</p>\n",
       "</div>"
      ],
      "text/plain": [
       "       duration protocol_type   service flag   src_bytes    dst_bytes  \\\n",
       "0      0.000000           tcp  ftp_data   SF  491.000000     0.000000   \n",
       "1      0.000000           udp     other   SF  146.000000     0.000000   \n",
       "2      0.000000           tcp   private   S0    0.000000     0.000000   \n",
       "3      0.000000           tcp      http   SF  232.000000  8153.000000   \n",
       "4      0.000000           tcp      http   SF  199.000000   420.000000   \n",
       "...         ...           ...       ...  ...         ...          ...   \n",
       "22539 -0.155534           tcp      smtp   SF   -0.020309    -0.081202   \n",
       "22540 -0.155534           tcp      http   SF   -0.021318    -0.052690   \n",
       "22541 -0.155534           tcp      http   SF    0.093373     0.294926   \n",
       "22542 -0.155534           udp  domain_u   SF   -0.021899    -0.094917   \n",
       "22543 -0.155534           tcp    sunrpc  REJ   -0.021988    -0.096896   \n",
       "\n",
       "           land  wrong_fragment    urgent       hot  ...  dst_host_count  \\\n",
       "0      0.000000        0.000000  0.000000  0.000000  ...      150.000000   \n",
       "1      0.000000        0.000000  0.000000  0.000000  ...      255.000000   \n",
       "2      0.000000        0.000000  0.000000  0.000000  ...      255.000000   \n",
       "3      0.000000        0.000000  0.000000  0.000000  ...       30.000000   \n",
       "4      0.000000        0.000000  0.000000  0.000000  ...      255.000000   \n",
       "...         ...             ...       ...       ...  ...             ...   \n",
       "22539 -0.017624       -0.059104 -0.019459 -0.113521  ...       -0.998254   \n",
       "22540 -0.017624       -0.059104 -0.019459 -0.113521  ...        0.033292   \n",
       "22541 -0.017624       -0.059104 -0.019459  2.040705  ...        0.650093   \n",
       "22542 -0.017624       -0.059104 -0.019459 -0.113521  ...        0.650093   \n",
       "22543 -0.017624       -0.059104 -0.019459 -0.113521  ...        0.650093   \n",
       "\n",
       "       dst_host_srv_count  dst_host_same_srv_rate  dst_host_diff_srv_rate  \\\n",
       "0               25.000000                0.170000                0.030000   \n",
       "1                1.000000                0.000000                0.600000   \n",
       "2               26.000000                0.100000                0.050000   \n",
       "3              255.000000                1.000000                0.000000   \n",
       "4              255.000000                1.000000                0.000000   \n",
       "...                   ...                     ...                     ...   \n",
       "22539            0.002232                0.255414               -0.138370   \n",
       "22540            1.022079                0.898090               -0.410217   \n",
       "22541            1.022079                0.898090               -0.410217   \n",
       "22542            0.995240                0.875137               -0.364909   \n",
       "22543           -1.071291               -1.213559               -0.274293   \n",
       "\n",
       "       dst_host_same_src_port_rate  dst_host_srv_diff_host_rate  \\\n",
       "0                         0.170000                     0.000000   \n",
       "1                         0.880000                     0.000000   \n",
       "2                         0.000000                     0.000000   \n",
       "3                         0.030000                     0.040000   \n",
       "4                         0.000000                     0.000000   \n",
       "...                            ...                          ...   \n",
       "22539                    -0.399204                    -0.112873   \n",
       "22540                    -0.399204                    -0.112873   \n",
       "22541                    -0.431856                    -0.229980   \n",
       "22542                    -0.431856                    -0.229980   \n",
       "22543                    -0.431856                    -0.229980   \n",
       "\n",
       "       dst_host_serror_rate  dst_host_srv_serror_rate  dst_host_rerror_rate  \\\n",
       "0                  0.000000                   0.00000              0.050000   \n",
       "1                  0.000000                   0.00000              0.000000   \n",
       "2                  1.000000                   1.00000              0.000000   \n",
       "3                  0.030000                   0.01000              0.000000   \n",
       "4                  0.000000                   0.00000              0.000000   \n",
       "...                     ...                       ...                   ...   \n",
       "22539             -0.321505                  -0.35275             -0.602719   \n",
       "22540             -0.321505                  -0.35275             -0.602719   \n",
       "22541             -0.358118                  -0.35275             -0.421943   \n",
       "22542             -0.358118                  -0.35275             -0.602719   \n",
       "22543             -0.358118                  -0.35275              0.533585   \n",
       "\n",
       "       dst_host_srv_rerror_rate  \n",
       "0                      0.000000  \n",
       "1                      0.000000  \n",
       "2                      0.000000  \n",
       "3                      0.010000  \n",
       "4                      0.000000  \n",
       "...                         ...  \n",
       "22539                 -0.565483  \n",
       "22540                 -0.565483  \n",
       "22541                 -0.390861  \n",
       "22542                 -0.565483  \n",
       "22543                  1.929116  \n",
       "\n",
       "[148517 rows x 40 columns]"
      ]
     },
     "execution_count": 121,
     "metadata": {},
     "output_type": "execute_result"
    }
   ],
   "source": [
    "combine_data = pd.concat([kdd_train_x, kdd_test_x_t])\n",
    "combine_data"
   ]
  },
  {
   "cell_type": "code",
   "execution_count": 123,
   "id": "13209590",
   "metadata": {},
   "outputs": [],
   "source": [
    "\n",
    "num_cols_test = combine_data._get_numeric_data().columns\n",
    "cate_cols_test = list(set(combine_data.columns) - set(num_cols))\n",
    "cate_features_test = pd.get_dummies(combine_data[cate_cols],prefix = cate_cols_test)\n",
    "combine_one_hot_data = combine_data.drop(cate_cols_test, axis = 1)"
   ]
  },
  {
   "cell_type": "code",
   "execution_count": 124,
   "id": "895129e8",
   "metadata": {},
   "outputs": [],
   "source": [
    "pickle.dump(model_pca,open('model_pca.sav','wb'))\n",
    "model_pca_test = joblib.load('model_pca.sav')\n"
   ]
  },
  {
   "cell_type": "code",
   "execution_count": 125,
   "id": "3651e679",
   "metadata": {},
   "outputs": [
    {
     "data": {
      "text/plain": [
       "(148517, 121)"
      ]
     },
     "execution_count": 125,
     "metadata": {},
     "output_type": "execute_result"
    }
   ],
   "source": [
    "combine_one_hot_data = pd.concat([combine_one_hot_data, cate_features_test], axis = 1)\n",
    "\n",
    "data_array_test = np.array(combine_one_hot_data)\n",
    "data_array_test_mcd = np.array(combine_one_hot_data)\n",
    "data_array_test.shape"
   ]
  },
  {
   "cell_type": "code",
   "execution_count": 126,
   "id": "63183466",
   "metadata": {},
   "outputs": [],
   "source": [
    "#Drop the training data\n",
    "test_one_hot_data = combine_one_hot_data.iloc[125973:,:]\n",
    "test_one_hot_data_x = test_one_hot_data\n",
    "test_one_hot_data_ss = test_one_hot_data"
   ]
  },
  {
   "cell_type": "code",
   "execution_count": 127,
   "id": "c8468bfe",
   "metadata": {},
   "outputs": [
    {
     "data": {
      "text/html": [
       "<div>\n",
       "<style scoped>\n",
       "    .dataframe tbody tr th:only-of-type {\n",
       "        vertical-align: middle;\n",
       "    }\n",
       "\n",
       "    .dataframe tbody tr th {\n",
       "        vertical-align: top;\n",
       "    }\n",
       "\n",
       "    .dataframe thead th {\n",
       "        text-align: right;\n",
       "    }\n",
       "</style>\n",
       "<table border=\"1\" class=\"dataframe\">\n",
       "  <thead>\n",
       "    <tr style=\"text-align: right;\">\n",
       "      <th></th>\n",
       "      <th>duration</th>\n",
       "      <th>src_bytes</th>\n",
       "      <th>dst_bytes</th>\n",
       "      <th>land</th>\n",
       "      <th>wrong_fragment</th>\n",
       "      <th>urgent</th>\n",
       "      <th>hot</th>\n",
       "      <th>num_failed_logins</th>\n",
       "      <th>logged_in</th>\n",
       "      <th>num_compromised</th>\n",
       "      <th>...</th>\n",
       "      <th>service_telnet</th>\n",
       "      <th>service_tftp_u</th>\n",
       "      <th>service_tim_i</th>\n",
       "      <th>service_time</th>\n",
       "      <th>service_urh_i</th>\n",
       "      <th>service_urp_i</th>\n",
       "      <th>service_uucp</th>\n",
       "      <th>service_uucp_path</th>\n",
       "      <th>service_vmnet</th>\n",
       "      <th>service_whois</th>\n",
       "    </tr>\n",
       "  </thead>\n",
       "  <tbody>\n",
       "    <tr>\n",
       "      <th>0</th>\n",
       "      <td>-0.155534</td>\n",
       "      <td>-0.021988</td>\n",
       "      <td>-0.096896</td>\n",
       "      <td>-0.017624</td>\n",
       "      <td>-0.059104</td>\n",
       "      <td>-0.019459</td>\n",
       "      <td>-0.113521</td>\n",
       "      <td>-0.143999</td>\n",
       "      <td>-0.890373</td>\n",
       "      <td>-0.016494</td>\n",
       "      <td>...</td>\n",
       "      <td>0</td>\n",
       "      <td>0</td>\n",
       "      <td>0</td>\n",
       "      <td>0</td>\n",
       "      <td>0</td>\n",
       "      <td>0</td>\n",
       "      <td>0</td>\n",
       "      <td>0</td>\n",
       "      <td>0</td>\n",
       "      <td>0</td>\n",
       "    </tr>\n",
       "    <tr>\n",
       "      <th>1</th>\n",
       "      <td>-0.155534</td>\n",
       "      <td>-0.021988</td>\n",
       "      <td>-0.096896</td>\n",
       "      <td>-0.017624</td>\n",
       "      <td>-0.059104</td>\n",
       "      <td>-0.019459</td>\n",
       "      <td>-0.113521</td>\n",
       "      <td>-0.143999</td>\n",
       "      <td>-0.890373</td>\n",
       "      <td>-0.016494</td>\n",
       "      <td>...</td>\n",
       "      <td>0</td>\n",
       "      <td>0</td>\n",
       "      <td>0</td>\n",
       "      <td>0</td>\n",
       "      <td>0</td>\n",
       "      <td>0</td>\n",
       "      <td>0</td>\n",
       "      <td>0</td>\n",
       "      <td>0</td>\n",
       "      <td>0</td>\n",
       "    </tr>\n",
       "    <tr>\n",
       "      <th>2</th>\n",
       "      <td>-0.154113</td>\n",
       "      <td>0.005473</td>\n",
       "      <td>-0.096896</td>\n",
       "      <td>-0.017624</td>\n",
       "      <td>-0.059104</td>\n",
       "      <td>-0.019459</td>\n",
       "      <td>-0.113521</td>\n",
       "      <td>-0.143999</td>\n",
       "      <td>-0.890373</td>\n",
       "      <td>-0.016494</td>\n",
       "      <td>...</td>\n",
       "      <td>0</td>\n",
       "      <td>0</td>\n",
       "      <td>0</td>\n",
       "      <td>0</td>\n",
       "      <td>0</td>\n",
       "      <td>0</td>\n",
       "      <td>0</td>\n",
       "      <td>0</td>\n",
       "      <td>0</td>\n",
       "      <td>0</td>\n",
       "    </tr>\n",
       "    <tr>\n",
       "      <th>3</th>\n",
       "      <td>-0.155534</td>\n",
       "      <td>-0.021946</td>\n",
       "      <td>-0.096896</td>\n",
       "      <td>-0.017624</td>\n",
       "      <td>-0.059104</td>\n",
       "      <td>-0.019459</td>\n",
       "      <td>-0.113521</td>\n",
       "      <td>-0.143999</td>\n",
       "      <td>-0.890373</td>\n",
       "      <td>-0.016494</td>\n",
       "      <td>...</td>\n",
       "      <td>0</td>\n",
       "      <td>0</td>\n",
       "      <td>0</td>\n",
       "      <td>0</td>\n",
       "      <td>0</td>\n",
       "      <td>0</td>\n",
       "      <td>0</td>\n",
       "      <td>0</td>\n",
       "      <td>0</td>\n",
       "      <td>0</td>\n",
       "    </tr>\n",
       "    <tr>\n",
       "      <th>4</th>\n",
       "      <td>-0.154823</td>\n",
       "      <td>-0.021988</td>\n",
       "      <td>-0.096189</td>\n",
       "      <td>-0.017624</td>\n",
       "      <td>-0.059104</td>\n",
       "      <td>-0.019459</td>\n",
       "      <td>-0.113521</td>\n",
       "      <td>-0.143999</td>\n",
       "      <td>-0.890373</td>\n",
       "      <td>-0.016494</td>\n",
       "      <td>...</td>\n",
       "      <td>1</td>\n",
       "      <td>0</td>\n",
       "      <td>0</td>\n",
       "      <td>0</td>\n",
       "      <td>0</td>\n",
       "      <td>0</td>\n",
       "      <td>0</td>\n",
       "      <td>0</td>\n",
       "      <td>0</td>\n",
       "      <td>0</td>\n",
       "    </tr>\n",
       "    <tr>\n",
       "      <th>...</th>\n",
       "      <td>...</td>\n",
       "      <td>...</td>\n",
       "      <td>...</td>\n",
       "      <td>...</td>\n",
       "      <td>...</td>\n",
       "      <td>...</td>\n",
       "      <td>...</td>\n",
       "      <td>...</td>\n",
       "      <td>...</td>\n",
       "      <td>...</td>\n",
       "      <td>...</td>\n",
       "      <td>...</td>\n",
       "      <td>...</td>\n",
       "      <td>...</td>\n",
       "      <td>...</td>\n",
       "      <td>...</td>\n",
       "      <td>...</td>\n",
       "      <td>...</td>\n",
       "      <td>...</td>\n",
       "      <td>...</td>\n",
       "      <td>...</td>\n",
       "    </tr>\n",
       "    <tr>\n",
       "      <th>22539</th>\n",
       "      <td>-0.155534</td>\n",
       "      <td>-0.020309</td>\n",
       "      <td>-0.081202</td>\n",
       "      <td>-0.017624</td>\n",
       "      <td>-0.059104</td>\n",
       "      <td>-0.019459</td>\n",
       "      <td>-0.113521</td>\n",
       "      <td>-0.143999</td>\n",
       "      <td>1.123125</td>\n",
       "      <td>-0.016494</td>\n",
       "      <td>...</td>\n",
       "      <td>0</td>\n",
       "      <td>0</td>\n",
       "      <td>0</td>\n",
       "      <td>0</td>\n",
       "      <td>0</td>\n",
       "      <td>0</td>\n",
       "      <td>0</td>\n",
       "      <td>0</td>\n",
       "      <td>0</td>\n",
       "      <td>0</td>\n",
       "    </tr>\n",
       "    <tr>\n",
       "      <th>22540</th>\n",
       "      <td>-0.155534</td>\n",
       "      <td>-0.021318</td>\n",
       "      <td>-0.052690</td>\n",
       "      <td>-0.017624</td>\n",
       "      <td>-0.059104</td>\n",
       "      <td>-0.019459</td>\n",
       "      <td>-0.113521</td>\n",
       "      <td>-0.143999</td>\n",
       "      <td>1.123125</td>\n",
       "      <td>-0.016494</td>\n",
       "      <td>...</td>\n",
       "      <td>0</td>\n",
       "      <td>0</td>\n",
       "      <td>0</td>\n",
       "      <td>0</td>\n",
       "      <td>0</td>\n",
       "      <td>0</td>\n",
       "      <td>0</td>\n",
       "      <td>0</td>\n",
       "      <td>0</td>\n",
       "      <td>0</td>\n",
       "    </tr>\n",
       "    <tr>\n",
       "      <th>22541</th>\n",
       "      <td>-0.155534</td>\n",
       "      <td>0.093373</td>\n",
       "      <td>0.294926</td>\n",
       "      <td>-0.017624</td>\n",
       "      <td>-0.059104</td>\n",
       "      <td>-0.019459</td>\n",
       "      <td>2.040705</td>\n",
       "      <td>-0.143999</td>\n",
       "      <td>1.123125</td>\n",
       "      <td>0.121069</td>\n",
       "      <td>...</td>\n",
       "      <td>0</td>\n",
       "      <td>0</td>\n",
       "      <td>0</td>\n",
       "      <td>0</td>\n",
       "      <td>0</td>\n",
       "      <td>0</td>\n",
       "      <td>0</td>\n",
       "      <td>0</td>\n",
       "      <td>0</td>\n",
       "      <td>0</td>\n",
       "    </tr>\n",
       "    <tr>\n",
       "      <th>22542</th>\n",
       "      <td>-0.155534</td>\n",
       "      <td>-0.021899</td>\n",
       "      <td>-0.094917</td>\n",
       "      <td>-0.017624</td>\n",
       "      <td>-0.059104</td>\n",
       "      <td>-0.019459</td>\n",
       "      <td>-0.113521</td>\n",
       "      <td>-0.143999</td>\n",
       "      <td>-0.890373</td>\n",
       "      <td>-0.016494</td>\n",
       "      <td>...</td>\n",
       "      <td>0</td>\n",
       "      <td>0</td>\n",
       "      <td>0</td>\n",
       "      <td>0</td>\n",
       "      <td>0</td>\n",
       "      <td>0</td>\n",
       "      <td>0</td>\n",
       "      <td>0</td>\n",
       "      <td>0</td>\n",
       "      <td>0</td>\n",
       "    </tr>\n",
       "    <tr>\n",
       "      <th>22543</th>\n",
       "      <td>-0.155534</td>\n",
       "      <td>-0.021988</td>\n",
       "      <td>-0.096896</td>\n",
       "      <td>-0.017624</td>\n",
       "      <td>-0.059104</td>\n",
       "      <td>-0.019459</td>\n",
       "      <td>-0.113521</td>\n",
       "      <td>-0.143999</td>\n",
       "      <td>-0.890373</td>\n",
       "      <td>-0.016494</td>\n",
       "      <td>...</td>\n",
       "      <td>0</td>\n",
       "      <td>0</td>\n",
       "      <td>0</td>\n",
       "      <td>0</td>\n",
       "      <td>0</td>\n",
       "      <td>0</td>\n",
       "      <td>0</td>\n",
       "      <td>0</td>\n",
       "      <td>0</td>\n",
       "      <td>0</td>\n",
       "    </tr>\n",
       "  </tbody>\n",
       "</table>\n",
       "<p>22544 rows × 121 columns</p>\n",
       "</div>"
      ],
      "text/plain": [
       "       duration  src_bytes  dst_bytes      land  wrong_fragment    urgent  \\\n",
       "0     -0.155534  -0.021988  -0.096896 -0.017624       -0.059104 -0.019459   \n",
       "1     -0.155534  -0.021988  -0.096896 -0.017624       -0.059104 -0.019459   \n",
       "2     -0.154113   0.005473  -0.096896 -0.017624       -0.059104 -0.019459   \n",
       "3     -0.155534  -0.021946  -0.096896 -0.017624       -0.059104 -0.019459   \n",
       "4     -0.154823  -0.021988  -0.096189 -0.017624       -0.059104 -0.019459   \n",
       "...         ...        ...        ...       ...             ...       ...   \n",
       "22539 -0.155534  -0.020309  -0.081202 -0.017624       -0.059104 -0.019459   \n",
       "22540 -0.155534  -0.021318  -0.052690 -0.017624       -0.059104 -0.019459   \n",
       "22541 -0.155534   0.093373   0.294926 -0.017624       -0.059104 -0.019459   \n",
       "22542 -0.155534  -0.021899  -0.094917 -0.017624       -0.059104 -0.019459   \n",
       "22543 -0.155534  -0.021988  -0.096896 -0.017624       -0.059104 -0.019459   \n",
       "\n",
       "            hot  num_failed_logins  logged_in  num_compromised  ...  \\\n",
       "0     -0.113521          -0.143999  -0.890373        -0.016494  ...   \n",
       "1     -0.113521          -0.143999  -0.890373        -0.016494  ...   \n",
       "2     -0.113521          -0.143999  -0.890373        -0.016494  ...   \n",
       "3     -0.113521          -0.143999  -0.890373        -0.016494  ...   \n",
       "4     -0.113521          -0.143999  -0.890373        -0.016494  ...   \n",
       "...         ...                ...        ...              ...  ...   \n",
       "22539 -0.113521          -0.143999   1.123125        -0.016494  ...   \n",
       "22540 -0.113521          -0.143999   1.123125        -0.016494  ...   \n",
       "22541  2.040705          -0.143999   1.123125         0.121069  ...   \n",
       "22542 -0.113521          -0.143999  -0.890373        -0.016494  ...   \n",
       "22543 -0.113521          -0.143999  -0.890373        -0.016494  ...   \n",
       "\n",
       "       service_telnet  service_tftp_u  service_tim_i  service_time  \\\n",
       "0                   0               0              0             0   \n",
       "1                   0               0              0             0   \n",
       "2                   0               0              0             0   \n",
       "3                   0               0              0             0   \n",
       "4                   1               0              0             0   \n",
       "...               ...             ...            ...           ...   \n",
       "22539               0               0              0             0   \n",
       "22540               0               0              0             0   \n",
       "22541               0               0              0             0   \n",
       "22542               0               0              0             0   \n",
       "22543               0               0              0             0   \n",
       "\n",
       "       service_urh_i  service_urp_i  service_uucp  service_uucp_path  \\\n",
       "0                  0              0             0                  0   \n",
       "1                  0              0             0                  0   \n",
       "2                  0              0             0                  0   \n",
       "3                  0              0             0                  0   \n",
       "4                  0              0             0                  0   \n",
       "...              ...            ...           ...                ...   \n",
       "22539              0              0             0                  0   \n",
       "22540              0              0             0                  0   \n",
       "22541              0              0             0                  0   \n",
       "22542              0              0             0                  0   \n",
       "22543              0              0             0                  0   \n",
       "\n",
       "       service_vmnet  service_whois  \n",
       "0                  0              0  \n",
       "1                  0              0  \n",
       "2                  0              0  \n",
       "3                  0              0  \n",
       "4                  0              0  \n",
       "...              ...            ...  \n",
       "22539              0              0  \n",
       "22540              0              0  \n",
       "22541              0              0  \n",
       "22542              0              0  \n",
       "22543              0              0  \n",
       "\n",
       "[22544 rows x 121 columns]"
      ]
     },
     "execution_count": 127,
     "metadata": {},
     "output_type": "execute_result"
    }
   ],
   "source": [
    "test_one_hot_data_x"
   ]
  },
  {
   "cell_type": "code",
   "execution_count": 128,
   "id": "2f23ac38",
   "metadata": {},
   "outputs": [
    {
     "data": {
      "text/html": [
       "<div>\n",
       "<style scoped>\n",
       "    .dataframe tbody tr th:only-of-type {\n",
       "        vertical-align: middle;\n",
       "    }\n",
       "\n",
       "    .dataframe tbody tr th {\n",
       "        vertical-align: top;\n",
       "    }\n",
       "\n",
       "    .dataframe thead th {\n",
       "        text-align: right;\n",
       "    }\n",
       "</style>\n",
       "<table border=\"1\" class=\"dataframe\">\n",
       "  <thead>\n",
       "    <tr style=\"text-align: right;\">\n",
       "      <th></th>\n",
       "      <th>Variable 0</th>\n",
       "      <th>Variable 1</th>\n",
       "      <th>Variable 2</th>\n",
       "      <th>Variable 3</th>\n",
       "      <th>Variable 4</th>\n",
       "      <th>Variable 5</th>\n",
       "      <th>Variable 6</th>\n",
       "      <th>Variable 7</th>\n",
       "      <th>Variable 8</th>\n",
       "      <th>Variable 9</th>\n",
       "      <th>...</th>\n",
       "      <th>Variable 15</th>\n",
       "      <th>Variable 16</th>\n",
       "      <th>Variable 17</th>\n",
       "      <th>Variable 18</th>\n",
       "      <th>Variable 19</th>\n",
       "      <th>Variable 20</th>\n",
       "      <th>Variable 21</th>\n",
       "      <th>Variable 22</th>\n",
       "      <th>Variable 23</th>\n",
       "      <th>Variable 24</th>\n",
       "    </tr>\n",
       "  </thead>\n",
       "  <tbody>\n",
       "    <tr>\n",
       "      <th>0</th>\n",
       "      <td>1.678471</td>\n",
       "      <td>-0.872735</td>\n",
       "      <td>0.004462</td>\n",
       "      <td>0.120732</td>\n",
       "      <td>-0.347212</td>\n",
       "      <td>0.492001</td>\n",
       "      <td>0.395315</td>\n",
       "      <td>0.513245</td>\n",
       "      <td>-0.766786</td>\n",
       "      <td>-0.062394</td>\n",
       "      <td>...</td>\n",
       "      <td>0.087559</td>\n",
       "      <td>-0.038879</td>\n",
       "      <td>0.089036</td>\n",
       "      <td>0.014807</td>\n",
       "      <td>-0.188965</td>\n",
       "      <td>-0.241500</td>\n",
       "      <td>0.056344</td>\n",
       "      <td>0.496597</td>\n",
       "      <td>0.262535</td>\n",
       "      <td>0.138204</td>\n",
       "    </tr>\n",
       "    <tr>\n",
       "      <th>1</th>\n",
       "      <td>1.650825</td>\n",
       "      <td>-0.871036</td>\n",
       "      <td>0.022690</td>\n",
       "      <td>0.353080</td>\n",
       "      <td>-0.343112</td>\n",
       "      <td>0.335960</td>\n",
       "      <td>0.348479</td>\n",
       "      <td>0.469322</td>\n",
       "      <td>-0.854539</td>\n",
       "      <td>-0.026489</td>\n",
       "      <td>...</td>\n",
       "      <td>0.114283</td>\n",
       "      <td>-0.010820</td>\n",
       "      <td>0.145412</td>\n",
       "      <td>-0.009779</td>\n",
       "      <td>-0.598954</td>\n",
       "      <td>-0.375644</td>\n",
       "      <td>0.079031</td>\n",
       "      <td>0.296606</td>\n",
       "      <td>-0.032011</td>\n",
       "      <td>0.186756</td>\n",
       "    </tr>\n",
       "    <tr>\n",
       "      <th>2</th>\n",
       "      <td>-0.427776</td>\n",
       "      <td>-0.027269</td>\n",
       "      <td>-0.060373</td>\n",
       "      <td>-0.582328</td>\n",
       "      <td>0.404469</td>\n",
       "      <td>-0.682267</td>\n",
       "      <td>-0.200591</td>\n",
       "      <td>-0.123556</td>\n",
       "      <td>-0.589345</td>\n",
       "      <td>0.143091</td>\n",
       "      <td>...</td>\n",
       "      <td>0.237438</td>\n",
       "      <td>0.104160</td>\n",
       "      <td>0.405106</td>\n",
       "      <td>-0.178831</td>\n",
       "      <td>-1.405561</td>\n",
       "      <td>-1.652676</td>\n",
       "      <td>0.167201</td>\n",
       "      <td>-0.245086</td>\n",
       "      <td>-0.561353</td>\n",
       "      <td>0.150038</td>\n",
       "    </tr>\n",
       "    <tr>\n",
       "      <th>3</th>\n",
       "      <td>-0.761174</td>\n",
       "      <td>-0.208430</td>\n",
       "      <td>-0.118920</td>\n",
       "      <td>-1.318459</td>\n",
       "      <td>0.976188</td>\n",
       "      <td>-3.314351</td>\n",
       "      <td>0.566546</td>\n",
       "      <td>1.467813</td>\n",
       "      <td>-0.909150</td>\n",
       "      <td>-0.158967</td>\n",
       "      <td>...</td>\n",
       "      <td>-0.645065</td>\n",
       "      <td>0.286518</td>\n",
       "      <td>-1.667154</td>\n",
       "      <td>0.537779</td>\n",
       "      <td>-0.640795</td>\n",
       "      <td>0.353723</td>\n",
       "      <td>-0.069583</td>\n",
       "      <td>-0.619479</td>\n",
       "      <td>0.387528</td>\n",
       "      <td>0.831724</td>\n",
       "    </tr>\n",
       "    <tr>\n",
       "      <th>4</th>\n",
       "      <td>0.598909</td>\n",
       "      <td>-0.747321</td>\n",
       "      <td>0.025752</td>\n",
       "      <td>0.710066</td>\n",
       "      <td>-0.131553</td>\n",
       "      <td>-1.442168</td>\n",
       "      <td>0.498369</td>\n",
       "      <td>0.965455</td>\n",
       "      <td>-0.426953</td>\n",
       "      <td>-0.115364</td>\n",
       "      <td>...</td>\n",
       "      <td>-0.743817</td>\n",
       "      <td>0.298524</td>\n",
       "      <td>-1.560845</td>\n",
       "      <td>0.244328</td>\n",
       "      <td>0.749042</td>\n",
       "      <td>-1.549601</td>\n",
       "      <td>-0.039347</td>\n",
       "      <td>-1.910045</td>\n",
       "      <td>1.245585</td>\n",
       "      <td>-1.708141</td>\n",
       "    </tr>\n",
       "    <tr>\n",
       "      <th>...</th>\n",
       "      <td>...</td>\n",
       "      <td>...</td>\n",
       "      <td>...</td>\n",
       "      <td>...</td>\n",
       "      <td>...</td>\n",
       "      <td>...</td>\n",
       "      <td>...</td>\n",
       "      <td>...</td>\n",
       "      <td>...</td>\n",
       "      <td>...</td>\n",
       "      <td>...</td>\n",
       "      <td>...</td>\n",
       "      <td>...</td>\n",
       "      <td>...</td>\n",
       "      <td>...</td>\n",
       "      <td>...</td>\n",
       "      <td>...</td>\n",
       "      <td>...</td>\n",
       "      <td>...</td>\n",
       "      <td>...</td>\n",
       "      <td>...</td>\n",
       "    </tr>\n",
       "    <tr>\n",
       "      <th>22539</th>\n",
       "      <td>-0.677682</td>\n",
       "      <td>-0.135917</td>\n",
       "      <td>-0.011245</td>\n",
       "      <td>0.455168</td>\n",
       "      <td>-0.042929</td>\n",
       "      <td>-0.256884</td>\n",
       "      <td>-0.100001</td>\n",
       "      <td>-0.189835</td>\n",
       "      <td>0.184557</td>\n",
       "      <td>-0.148046</td>\n",
       "      <td>...</td>\n",
       "      <td>0.292904</td>\n",
       "      <td>0.011649</td>\n",
       "      <td>0.372109</td>\n",
       "      <td>-0.168500</td>\n",
       "      <td>0.037980</td>\n",
       "      <td>-0.879584</td>\n",
       "      <td>0.102358</td>\n",
       "      <td>0.689768</td>\n",
       "      <td>0.934646</td>\n",
       "      <td>0.090175</td>\n",
       "    </tr>\n",
       "    <tr>\n",
       "      <th>22540</th>\n",
       "      <td>-0.872991</td>\n",
       "      <td>-0.194655</td>\n",
       "      <td>-0.066623</td>\n",
       "      <td>0.452831</td>\n",
       "      <td>-0.413141</td>\n",
       "      <td>0.185445</td>\n",
       "      <td>0.112065</td>\n",
       "      <td>0.035403</td>\n",
       "      <td>0.523128</td>\n",
       "      <td>-0.197381</td>\n",
       "      <td>...</td>\n",
       "      <td>0.052441</td>\n",
       "      <td>0.030962</td>\n",
       "      <td>0.042610</td>\n",
       "      <td>-0.075227</td>\n",
       "      <td>0.008424</td>\n",
       "      <td>0.335099</td>\n",
       "      <td>-0.003818</td>\n",
       "      <td>-0.023344</td>\n",
       "      <td>0.180433</td>\n",
       "      <td>0.502189</td>\n",
       "    </tr>\n",
       "    <tr>\n",
       "      <th>22541</th>\n",
       "      <td>-0.814737</td>\n",
       "      <td>-0.235138</td>\n",
       "      <td>0.074933</td>\n",
       "      <td>0.712311</td>\n",
       "      <td>0.369909</td>\n",
       "      <td>0.794684</td>\n",
       "      <td>-0.066708</td>\n",
       "      <td>0.487747</td>\n",
       "      <td>0.673540</td>\n",
       "      <td>0.041892</td>\n",
       "      <td>...</td>\n",
       "      <td>-0.258330</td>\n",
       "      <td>-0.006817</td>\n",
       "      <td>-0.122758</td>\n",
       "      <td>-0.063017</td>\n",
       "      <td>-0.370471</td>\n",
       "      <td>0.833983</td>\n",
       "      <td>-0.274270</td>\n",
       "      <td>-0.387862</td>\n",
       "      <td>-0.042794</td>\n",
       "      <td>0.810304</td>\n",
       "    </tr>\n",
       "    <tr>\n",
       "      <th>22542</th>\n",
       "      <td>-0.618400</td>\n",
       "      <td>-0.099512</td>\n",
       "      <td>-0.112588</td>\n",
       "      <td>-0.139796</td>\n",
       "      <td>-0.299245</td>\n",
       "      <td>0.215218</td>\n",
       "      <td>-0.019459</td>\n",
       "      <td>-0.011095</td>\n",
       "      <td>0.042120</td>\n",
       "      <td>-0.007059</td>\n",
       "      <td>...</td>\n",
       "      <td>-0.290904</td>\n",
       "      <td>0.188055</td>\n",
       "      <td>-0.449203</td>\n",
       "      <td>0.018747</td>\n",
       "      <td>-1.882968</td>\n",
       "      <td>0.507418</td>\n",
       "      <td>0.082627</td>\n",
       "      <td>-0.368312</td>\n",
       "      <td>0.264881</td>\n",
       "      <td>-2.206890</td>\n",
       "    </tr>\n",
       "    <tr>\n",
       "      <th>22543</th>\n",
       "      <td>1.463070</td>\n",
       "      <td>-0.999785</td>\n",
       "      <td>0.020018</td>\n",
       "      <td>0.694845</td>\n",
       "      <td>-0.080750</td>\n",
       "      <td>-1.468044</td>\n",
       "      <td>0.126210</td>\n",
       "      <td>0.357274</td>\n",
       "      <td>1.220113</td>\n",
       "      <td>-0.285096</td>\n",
       "      <td>...</td>\n",
       "      <td>-1.250816</td>\n",
       "      <td>0.134694</td>\n",
       "      <td>-2.210273</td>\n",
       "      <td>0.421475</td>\n",
       "      <td>-0.685139</td>\n",
       "      <td>0.938779</td>\n",
       "      <td>-0.024256</td>\n",
       "      <td>1.005392</td>\n",
       "      <td>-2.329813</td>\n",
       "      <td>0.180108</td>\n",
       "    </tr>\n",
       "  </tbody>\n",
       "</table>\n",
       "<p>22544 rows × 25 columns</p>\n",
       "</div>"
      ],
      "text/plain": [
       "       Variable 0  Variable 1  Variable 2  Variable 3  Variable 4  Variable 5  \\\n",
       "0        1.678471   -0.872735    0.004462    0.120732   -0.347212    0.492001   \n",
       "1        1.650825   -0.871036    0.022690    0.353080   -0.343112    0.335960   \n",
       "2       -0.427776   -0.027269   -0.060373   -0.582328    0.404469   -0.682267   \n",
       "3       -0.761174   -0.208430   -0.118920   -1.318459    0.976188   -3.314351   \n",
       "4        0.598909   -0.747321    0.025752    0.710066   -0.131553   -1.442168   \n",
       "...           ...         ...         ...         ...         ...         ...   \n",
       "22539   -0.677682   -0.135917   -0.011245    0.455168   -0.042929   -0.256884   \n",
       "22540   -0.872991   -0.194655   -0.066623    0.452831   -0.413141    0.185445   \n",
       "22541   -0.814737   -0.235138    0.074933    0.712311    0.369909    0.794684   \n",
       "22542   -0.618400   -0.099512   -0.112588   -0.139796   -0.299245    0.215218   \n",
       "22543    1.463070   -0.999785    0.020018    0.694845   -0.080750   -1.468044   \n",
       "\n",
       "       Variable 6  Variable 7  Variable 8  Variable 9  ...  Variable 15  \\\n",
       "0        0.395315    0.513245   -0.766786   -0.062394  ...     0.087559   \n",
       "1        0.348479    0.469322   -0.854539   -0.026489  ...     0.114283   \n",
       "2       -0.200591   -0.123556   -0.589345    0.143091  ...     0.237438   \n",
       "3        0.566546    1.467813   -0.909150   -0.158967  ...    -0.645065   \n",
       "4        0.498369    0.965455   -0.426953   -0.115364  ...    -0.743817   \n",
       "...           ...         ...         ...         ...  ...          ...   \n",
       "22539   -0.100001   -0.189835    0.184557   -0.148046  ...     0.292904   \n",
       "22540    0.112065    0.035403    0.523128   -0.197381  ...     0.052441   \n",
       "22541   -0.066708    0.487747    0.673540    0.041892  ...    -0.258330   \n",
       "22542   -0.019459   -0.011095    0.042120   -0.007059  ...    -0.290904   \n",
       "22543    0.126210    0.357274    1.220113   -0.285096  ...    -1.250816   \n",
       "\n",
       "       Variable 16  Variable 17  Variable 18  Variable 19  Variable 20  \\\n",
       "0        -0.038879     0.089036     0.014807    -0.188965    -0.241500   \n",
       "1        -0.010820     0.145412    -0.009779    -0.598954    -0.375644   \n",
       "2         0.104160     0.405106    -0.178831    -1.405561    -1.652676   \n",
       "3         0.286518    -1.667154     0.537779    -0.640795     0.353723   \n",
       "4         0.298524    -1.560845     0.244328     0.749042    -1.549601   \n",
       "...            ...          ...          ...          ...          ...   \n",
       "22539     0.011649     0.372109    -0.168500     0.037980    -0.879584   \n",
       "22540     0.030962     0.042610    -0.075227     0.008424     0.335099   \n",
       "22541    -0.006817    -0.122758    -0.063017    -0.370471     0.833983   \n",
       "22542     0.188055    -0.449203     0.018747    -1.882968     0.507418   \n",
       "22543     0.134694    -2.210273     0.421475    -0.685139     0.938779   \n",
       "\n",
       "       Variable 21  Variable 22  Variable 23  Variable 24  \n",
       "0         0.056344     0.496597     0.262535     0.138204  \n",
       "1         0.079031     0.296606    -0.032011     0.186756  \n",
       "2         0.167201    -0.245086    -0.561353     0.150038  \n",
       "3        -0.069583    -0.619479     0.387528     0.831724  \n",
       "4        -0.039347    -1.910045     1.245585    -1.708141  \n",
       "...            ...          ...          ...          ...  \n",
       "22539     0.102358     0.689768     0.934646     0.090175  \n",
       "22540    -0.003818    -0.023344     0.180433     0.502189  \n",
       "22541    -0.274270    -0.387862    -0.042794     0.810304  \n",
       "22542     0.082627    -0.368312     0.264881    -2.206890  \n",
       "22543    -0.024256     1.005392    -2.329813     0.180108  \n",
       "\n",
       "[22544 rows x 25 columns]"
      ]
     },
     "execution_count": 128,
     "metadata": {},
     "output_type": "execute_result"
    }
   ],
   "source": [
    "test_one_hot_data_pca = model_pca_test.fit_transform(test_one_hot_data_x)\n",
    "new_header =['Variable '+str(i) for i in range(model_pca.n_components)]\n",
    "test_one_hot_data_pca = pd.DataFrame(test_one_hot_data_pca,columns=new_header)\n",
    "test_one_hot_data_pca"
   ]
  },
  {
   "cell_type": "code",
   "execution_count": 129,
   "id": "bc5e8e7b",
   "metadata": {},
   "outputs": [
    {
     "data": {
      "text/plain": [
       "array([[-0.15553409, -0.02198811, -0.09689597, ..., -0.3527496 ,\n",
       "         1.97979091,  1.9291162 ],\n",
       "       [-0.15553409, -0.02198811, -0.09689597, ..., -0.3527496 ,\n",
       "         1.97979091,  1.9291162 ],\n",
       "       [-0.15411277,  0.0054731 , -0.09689597, ..., -0.3527496 ,\n",
       "        -0.60271888, -0.56548308],\n",
       "       ...,\n",
       "       [-0.15553409,  0.09337309,  0.29492588, ..., -0.3527496 ,\n",
       "        -0.4219432 , -0.39086113],\n",
       "       [-0.15553409, -0.02189927, -0.0949166 , ..., -0.3527496 ,\n",
       "        -0.60271888, -0.56548308],\n",
       "       [-0.15553409, -0.02198811, -0.09689597, ..., -0.3527496 ,\n",
       "         0.53358543,  1.9291162 ]])"
      ]
     },
     "execution_count": 129,
     "metadata": {},
     "output_type": "execute_result"
    }
   ],
   "source": [
    "test_ss"
   ]
  },
  {
   "cell_type": "code",
   "execution_count": 130,
   "id": "00558785",
   "metadata": {},
   "outputs": [],
   "source": [
    "data_array_test = np.array(test_one_hot_data_pca)\n",
    "data_array_test_mcd = np.array(test_one_hot_data_pca)\n",
    "data_array_test_ss = np.array(test_one_hot_data_ss)\n",
    "data_array_test_ss_mcd = np.array(test_one_hot_data_ss)"
   ]
  },
  {
   "cell_type": "code",
   "execution_count": 131,
   "id": "4c14e915",
   "metadata": {},
   "outputs": [],
   "source": [
    "test_one_hot_data_maha_ss = test_one_hot_data_ss"
   ]
  },
  {
   "cell_type": "code",
   "execution_count": 132,
   "id": "192d6a39",
   "metadata": {},
   "outputs": [],
   "source": [
    "test_one_hot_data_maha = test_one_hot_data_pca"
   ]
  },
  {
   "cell_type": "code",
   "execution_count": 133,
   "id": "33655fa4",
   "metadata": {},
   "outputs": [
    {
     "data": {
      "text/plain": [
       "array(['neptune', 'normal', 'saint', 'mscan', 'guess_passwd', 'smurf',\n",
       "       'apache2', 'satan', 'buffer_overflow', 'back', 'warezmaster',\n",
       "       'snmpgetattack', 'processtable', 'pod', 'httptunnel', 'nmap', 'ps',\n",
       "       'snmpguess', 'ipsweep', 'mailbomb', 'portsweep', 'multihop',\n",
       "       'named', 'sendmail', 'loadmodule', 'xterm', 'worm', 'teardrop',\n",
       "       'rootkit', 'xlock', 'perl', 'land', 'xsnoop', 'sqlattack',\n",
       "       'ftp_write', 'imap', 'udpstorm', 'phf'], dtype=object)"
      ]
     },
     "execution_count": 133,
     "metadata": {},
     "output_type": "execute_result"
    }
   ],
   "source": [
    "kdd_test['class'].unique()"
   ]
  },
  {
   "cell_type": "code",
   "execution_count": 134,
   "id": "32f758a0",
   "metadata": {},
   "outputs": [
    {
     "name": "stderr",
     "output_type": "stream",
     "text": [
      "C:\\Users\\khxia\\AppData\\Local\\Temp\\ipykernel_248\\3750606382.py:40: SettingWithCopyWarning: \n",
      "A value is trying to be set on a copy of a slice from a DataFrame\n",
      "\n",
      "See the caveats in the documentation: https://pandas.pydata.org/pandas-docs/stable/user_guide/indexing.html#returning-a-view-versus-a-copy\n",
      "  kdd_test_y[\"class_binary\"] = kdd_test[\"class\"].map(label_map_test)\n"
     ]
    }
   ],
   "source": [
    "label_map_test = {\"normal\": 0,\n",
    "                    \"neptune\": 1,\n",
    "                    \"saint\": 1,\n",
    "                    \"mscan\": 1,\n",
    "                    \"guess_passwd\": 1,\n",
    "                    \"smurf\": 1,\n",
    "                    \"apache2\": 1,\n",
    "                  \"satan\": 1,\n",
    "                  \"buffer_overflow\":1,\n",
    "                  \"back\":1,\n",
    "                  \"warezmaster\":1,\n",
    "                  \"snmpgetattack\":1,\n",
    "                  \"processtable\":1,\n",
    "                  \"pod\":1,\n",
    "                  \"httptunnel\":1,\n",
    "                  \"nmap\":1,\n",
    "                  \"ps\":1,\n",
    "                  \"snmpguess\":1,\n",
    "                  \"ipsweep\":1,\n",
    "                  \"mailbomb\":1,\n",
    "                  \"portsweep\":1,\n",
    "                  \"multihop\":1,\n",
    "                  \"named\":1,\n",
    "                  \"sendmail\":1,\n",
    "                  \"loadmodule\":1,\n",
    "                  \"xterm\":1,\n",
    "                  \"worm\":1,\n",
    "                  \"teardrop\":1,\n",
    "                  \"rootkit\":1,\n",
    "                  \"xlock\":1,\n",
    "                  \"perl\":1,\n",
    "                  \"land\":1,\n",
    "                  \"xsnoop\":1,\n",
    "                  \"sqlattack\":1,\n",
    "                  \"ftp_write\":1,\n",
    "                  \"imap\":1,\n",
    "                  \"udpstorm\":1,\n",
    "                  \"phf\":1\n",
    "                 }\n",
    "kdd_test_y[\"class_binary\"] = kdd_test[\"class\"].map(label_map_test)"
   ]
  },
  {
   "cell_type": "code",
   "execution_count": 135,
   "id": "80c95528",
   "metadata": {},
   "outputs": [],
   "source": [
    "kdd_test_y[\"class_binary\"] = kdd_test[\"class\"].map(label_map_test)"
   ]
  },
  {
   "cell_type": "code",
   "execution_count": 136,
   "id": "ce0853b7",
   "metadata": {},
   "outputs": [
    {
     "data": {
      "text/plain": [
       "0        1\n",
       "1        1\n",
       "2        0\n",
       "3        1\n",
       "4        1\n",
       "        ..\n",
       "22539    0\n",
       "22540    0\n",
       "22541    1\n",
       "22542    0\n",
       "22543    1\n",
       "Name: class, Length: 22544, dtype: int64"
      ]
     },
     "execution_count": 136,
     "metadata": {},
     "output_type": "execute_result"
    },
    {
     "data": {
      "text/plain": [
       "12833"
      ]
     },
     "execution_count": 136,
     "metadata": {},
     "output_type": "execute_result"
    }
   ],
   "source": [
    "kdd_test_y['class_binary']\n",
    "np.count_nonzero(kdd_test_y['class_binary'])"
   ]
  },
  {
   "cell_type": "markdown",
   "id": "b4ccdff9",
   "metadata": {},
   "source": [
    "# Mahalanobis Testing (Without PCA)"
   ]
  },
  {
   "cell_type": "code",
   "execution_count": 137,
   "id": "c686fc3a",
   "metadata": {},
   "outputs": [
    {
     "data": {
      "text/plain": [
       "121"
      ]
     },
     "execution_count": 137,
     "metadata": {},
     "output_type": "execute_result"
    }
   ],
   "source": [
    "len(x_minus_mu)"
   ]
  },
  {
   "cell_type": "code",
   "execution_count": 138,
   "id": "d63d44d2",
   "metadata": {},
   "outputs": [],
   "source": [
    "#mu_vec_test = np.mean(data_array_test_ss,axis = 0)\n",
    "#inv_cormat_test = sp.linalg.pinv(np.cov(data_array_test_ss, rowvar=False))\n",
    "\n",
    "\n"
   ]
  },
  {
   "cell_type": "code",
   "execution_count": 139,
   "id": "4cdfbfa0",
   "metadata": {},
   "outputs": [
    {
     "name": "stderr",
     "output_type": "stream",
     "text": [
      "C:\\WINDOWS\\system32\\myenv\\lib\\site-packages\\numpy\\core\\fromnumeric.py:3430: FutureWarning: In a future version, DataFrame.mean(axis=None) will return a scalar mean over the entire DataFrame. To retain the old behavior, use 'frame.mean(axis=0)' or just 'frame.mean()'\n",
      "  return mean(axis=axis, dtype=dtype, out=out, **kwargs)\n"
     ]
    },
    {
     "data": {
      "text/plain": [
       "duration             2.710552e-17\n",
       "src_bytes            3.782165e-18\n",
       "dst_bytes            1.891083e-18\n",
       "land                 2.521443e-18\n",
       "wrong_fragment       6.303608e-19\n",
       "                         ...     \n",
       "service_urp_i        1.020227e-03\n",
       "service_uucp         2.217885e-03\n",
       "service_uucp_path    2.040454e-03\n",
       "service_vmnet        1.907381e-03\n",
       "service_whois        1.774308e-03\n",
       "Length: 121, dtype: float64"
      ]
     },
     "execution_count": 139,
     "metadata": {},
     "output_type": "execute_result"
    }
   ],
   "source": [
    "\n",
    "\n",
    "# For loop to get the distance for all the variables\n",
    "mahal_dist = []\n",
    "\n",
    "for i in range(data_array_test_ss.shape[0]):\n",
    "    x_minus_mu_test = data_array_test_ss[i,:] - mu_vec\n",
    "    left_term_test = np.dot(x_minus_mu_test, inv_cormat)\n",
    "    mahal = np.dot(left_term_test, x_minus_mu_test.T)\n",
    "    mahal = np.sqrt(mahal)\n",
    "    mahal_dist.append(mahal)\n",
    "\n",
    "np.mean(test_one_hot_data_maha_ss)"
   ]
  },
  {
   "cell_type": "code",
   "execution_count": 140,
   "id": "7e89b77e",
   "metadata": {},
   "outputs": [
    {
     "name": "stdout",
     "output_type": "stream",
     "text": [
      "14871\n"
     ]
    },
    {
     "name": "stderr",
     "output_type": "stream",
     "text": [
      "C:\\Users\\khxia\\AppData\\Local\\Temp\\ipykernel_248\\3140115265.py:2: SettingWithCopyWarning: \n",
      "A value is trying to be set on a copy of a slice from a DataFrame.\n",
      "Try using .loc[row_indexer,col_indexer] = value instead\n",
      "\n",
      "See the caveats in the documentation: https://pandas.pydata.org/pandas-docs/stable/user_guide/indexing.html#returning-a-view-versus-a-copy\n",
      "  test_one_hot_data_maha_ss['p-value'] = 1 - chi2.cdf(mahal_dist, df = 1) #pdf(x, degreeOfFreedom = Number of Variables)\n"
     ]
    }
   ],
   "source": [
    "\n",
    "from scipy.stats import chi2\n",
    "test_one_hot_data_maha_ss['p-value'] = 1 - chi2.cdf(mahal_dist, df = 1) #pdf(x, degreeOfFreedom = Number of Variables)\n",
    "\n",
    "#Calculate number of p-value less than 0.01\n",
    "print(np.count_nonzero(test_one_hot_data_maha_ss['p-value'] < 0.01))"
   ]
  },
  {
   "cell_type": "code",
   "execution_count": 141,
   "id": "fe410bb2",
   "metadata": {},
   "outputs": [],
   "source": [
    "# def unique(list1):\n",
    " \n",
    "#     # initialize a null list\n",
    "#     unique_list = []\n",
    " \n",
    "#     # traverse for all elements\n",
    "#     for x in list1:\n",
    "#         # check if exists in unique_list or not\n",
    "#         if x not in unique_list:\n",
    "#             unique_list.append(x)\n",
    "#     # print list\n",
    "#     for x in unique_list:\n",
    "#         print (x)"
   ]
  },
  {
   "cell_type": "code",
   "execution_count": 142,
   "id": "1699c876",
   "metadata": {},
   "outputs": [
    {
     "name": "stdout",
     "output_type": "stream",
     "text": [
      "Training accuracy: 0.8932\n",
      "[[ 7488  2223]\n",
      " [  185 12648]]\n"
     ]
    }
   ],
   "source": [
    "pvalue_test_ss = test_one_hot_data_maha_ss['p-value']\n",
    "bi_pvalue_test_ss = pvalue_test_ss\n",
    "\n",
    "bi_pvalue_test_ss = np.where(pvalue_test_ss < 0.01, 1, bi_pvalue_test_ss)\n",
    "bi_pvalue_test_ss = np.where(pvalue_test_ss >= 0.01, 0, bi_pvalue_test_ss)\n",
    "\n",
    "from sklearn.metrics import accuracy_score\n",
    "\n",
    "test_acc_maha_ss = accuracy_score(kdd_test_y['class_binary'], bi_pvalue_test_ss)\n",
    "print(\"Training accuracy: {:.4f}\".format(test_acc_maha_ss))\n",
    "cm_maha_test_ss = confusion_matrix (kdd_test_y[\"class_binary\"], bi_pvalue_test_ss)\n",
    "print(cm_maha_test_ss)"
   ]
  },
  {
   "cell_type": "code",
   "execution_count": 143,
   "id": "0bfbf310",
   "metadata": {},
   "outputs": [
    {
     "data": {
      "text/plain": [
       "Text(0.5, 1.0, 'Seaborn Confusion Matrix with labels\\n\\n')"
      ]
     },
     "execution_count": 143,
     "metadata": {},
     "output_type": "execute_result"
    },
    {
     "data": {
      "text/plain": [
       "Text(0.5, 15.0, '\\nPredicted Values')"
      ]
     },
     "execution_count": 143,
     "metadata": {},
     "output_type": "execute_result"
    },
    {
     "data": {
      "text/plain": [
       "Text(33.0, 0.5, 'Actual Values ')"
      ]
     },
     "execution_count": 143,
     "metadata": {},
     "output_type": "execute_result"
    },
    {
     "data": {
      "text/plain": [
       "[Text(0.5, 0, 'True'), Text(1.5, 0, 'False')]"
      ]
     },
     "execution_count": 143,
     "metadata": {},
     "output_type": "execute_result"
    },
    {
     "data": {
      "text/plain": [
       "[Text(0, 0.5, 'True'), Text(0, 1.5, 'False')]"
      ]
     },
     "execution_count": 143,
     "metadata": {},
     "output_type": "execute_result"
    },
    {
     "data": {
      "image/png": "[encoded data removed]",
      "text/plain": [
       "<Figure size 432x288 with 2 Axes>"
      ]
     },
     "metadata": {
      "needs_background": "light"
     },
     "output_type": "display_data"
    },
    {
     "name": "stdout",
     "output_type": "stream",
     "text": [
      "Precision =  0.8505144240468026\n",
      "Recall =  0.9855840411439258\n"
     ]
    }
   ],
   "source": [
    "ax = sns.heatmap(cm_maha_test_ss, annot=True, cmap='Blues')\n",
    "\n",
    "ax.set_title('Seaborn Confusion Matrix with labels\\n\\n');\n",
    "ax.set_xlabel('\\nPredicted Values')\n",
    "ax.set_ylabel('Actual Values ');\n",
    "\n",
    "## Ticket labels - List must be in alphabetical order\n",
    "ax.xaxis.set_ticklabels(['True','False'])\n",
    "ax.yaxis.set_ticklabels(['True','False'])\n",
    "\n",
    "## Display the visualization of the Confusion Matrix.\n",
    "plt.show()\n",
    "\n",
    "\n",
    "## FP,FN,TP,TN\n",
    "TN_maha_test = cm_maha_test_ss[0][0]\n",
    "FN_maha_test = cm_maha_test_ss[1][0]\n",
    "FP_maha_test = cm_maha_test_ss[0][1]\n",
    "TP_maha_test = cm_maha_test_ss[1][1]\n",
    "\n",
    "##Precision and Recall\n",
    "Precision_maha_test_ss = TP_maha_test/(TP_maha_test+FP_maha_test)\n",
    "Recall_maha_test_ss = TP_maha_test/(TP_maha_test+FN_maha_test)\n",
    "\n",
    "print (\"Precision = \",Precision_maha_test_ss)\n",
    "print (\"Recall = \",Recall_maha_test_ss)"
   ]
  },
  {
   "cell_type": "markdown",
   "id": "7a8d8d0c",
   "metadata": {},
   "source": [
    "# Mahalanobis Testing (PCA)"
   ]
  },
  {
   "cell_type": "code",
   "execution_count": 144,
   "id": "829b7282",
   "metadata": {},
   "outputs": [
    {
     "name": "stderr",
     "output_type": "stream",
     "text": [
      "C:\\WINDOWS\\system32\\myenv\\lib\\site-packages\\numpy\\core\\fromnumeric.py:3430: FutureWarning: In a future version, DataFrame.mean(axis=None) will return a scalar mean over the entire DataFrame. To retain the old behavior, use 'frame.mean(axis=0)' or just 'frame.mean()'\n",
      "  return mean(axis=axis, dtype=dtype, out=out, **kwargs)\n"
     ]
    },
    {
     "data": {
      "text/plain": [
       "Variable 0    -1.790520e-16\n",
       "Variable 1    -1.237231e-16\n",
       "Variable 2     8.123698e-17\n",
       "Variable 3    -1.476768e-16\n",
       "Variable 4     3.201870e-16\n",
       "Variable 5     2.171692e-16\n",
       "Variable 6    -2.578878e-16\n",
       "Variable 7     1.878943e-16\n",
       "Variable 8     2.041778e-17\n",
       "Variable 9    -2.154554e-18\n",
       "Variable 10   -2.631363e-16\n",
       "Variable 11   -5.933370e-16\n",
       "Variable 12    4.236099e-17\n",
       "Variable 13    2.736455e-16\n",
       "Variable 14    5.012526e-16\n",
       "Variable 15    4.764641e-16\n",
       "Variable 16   -4.978779e-16\n",
       "Variable 17   -8.257727e-17\n",
       "Variable 18    1.463570e-16\n",
       "Variable 19    1.010789e-15\n",
       "Variable 20   -4.624731e-16\n",
       "Variable 21   -1.201918e-15\n",
       "Variable 22   -6.370584e-17\n",
       "Variable 23   -8.907787e-17\n",
       "Variable 24   -2.888918e-15\n",
       "dtype: float64"
      ]
     },
     "execution_count": 144,
     "metadata": {},
     "output_type": "execute_result"
    },
    {
     "name": "stdout",
     "output_type": "stream",
     "text": [
      "1159\n"
     ]
    }
   ],
   "source": [
    "#mu_vec_pca_test = np.mean(data_array_test,axis = 0)\n",
    "#inv_cormat_pca_test = sp.linalg.pinv(np.cov(data_array_test, rowvar=False))\n",
    "\n",
    "# For loop to get the distance for all the variables\n",
    "mahal_dist = []\n",
    "\n",
    "for i in range(data_array_test_ss.shape[0]):\n",
    "    x_minus_mu_pca_test = data_array_test[i,:] - mu_vec_pca\n",
    "    left_term_pca_test = np.dot(x_minus_mu_pca_test, inv_cormat_pca)\n",
    "    mahal = np.dot(left_term_pca_test, x_minus_mu_pca_test.T)\n",
    "    mahal = np.sqrt(mahal)\n",
    "    mahal_dist.append(mahal)\n",
    "\n",
    "np.mean(test_one_hot_data_maha)\n",
    "\n",
    "from scipy.stats import chi2\n",
    "test_one_hot_data_maha['p-value'] = 1 - chi2.cdf(mahal_dist, df = 1) #pdf(x, degreeOfFreedom = Number of Variables)\n",
    "\n",
    "#Calculate number of p-value less than 0.01\n",
    "print(np.count_nonzero(test_one_hot_data_maha['p-value'] < 0.01))"
   ]
  },
  {
   "cell_type": "code",
   "execution_count": 145,
   "id": "2a380671",
   "metadata": {},
   "outputs": [
    {
     "name": "stdout",
     "output_type": "stream",
     "text": [
      "Training accuracy: 0.4628\n",
      "[[ 9493   218]\n",
      " [11892   941]]\n"
     ]
    }
   ],
   "source": [
    "pvalue_test = test_one_hot_data_maha['p-value']\n",
    "bi_pvalue_test = pvalue_test\n",
    "\n",
    "bi_pvalue_test = np.where(pvalue_test < 0.01, 1, bi_pvalue_test)\n",
    "bi_pvalue_test = np.where(pvalue_test >= 0.01, 0, bi_pvalue_test)\n",
    "\n",
    "from sklearn.metrics import accuracy_score\n",
    "\n",
    "test_acc_maha = accuracy_score(kdd_test_y['class_binary'], bi_pvalue_test)\n",
    "print(\"Training accuracy: {:.4f}\".format(test_acc_maha))\n",
    "cm_maha_test = confusion_matrix (kdd_test_y[\"class_binary\"], bi_pvalue_test)\n",
    "print(cm_maha_test)"
   ]
  },
  {
   "cell_type": "code",
   "execution_count": 146,
   "id": "8fda6cf8",
   "metadata": {},
   "outputs": [
    {
     "data": {
      "text/plain": [
       "Text(0.5, 1.0, 'Seaborn Confusion Matrix with labels\\n\\n')"
      ]
     },
     "execution_count": 146,
     "metadata": {},
     "output_type": "execute_result"
    },
    {
     "data": {
      "text/plain": [
       "Text(0.5, 15.0, '\\nPredicted Values')"
      ]
     },
     "execution_count": 146,
     "metadata": {},
     "output_type": "execute_result"
    },
    {
     "data": {
      "text/plain": [
       "Text(33.0, 0.5, 'Actual Values ')"
      ]
     },
     "execution_count": 146,
     "metadata": {},
     "output_type": "execute_result"
    },
    {
     "data": {
      "text/plain": [
       "[Text(0.5, 0, 'True'), Text(1.5, 0, 'False')]"
      ]
     },
     "execution_count": 146,
     "metadata": {},
     "output_type": "execute_result"
    },
    {
     "data": {
      "text/plain": [
       "[Text(0, 0.5, 'True'), Text(0, 1.5, 'False')]"
      ]
     },
     "execution_count": 146,
     "metadata": {},
     "output_type": "execute_result"
    },
    {
     "data": {
      "image/png": "[encoded data removed]",
      "text/plain": [
       "<Figure size 432x288 with 2 Axes>"
      ]
     },
     "metadata": {
      "needs_background": "light"
     },
     "output_type": "display_data"
    },
    {
     "name": "stdout",
     "output_type": "stream",
     "text": [
      "Precision =  0.8119068162208801\n",
      "Recall =  0.07332657991116652\n"
     ]
    }
   ],
   "source": [
    "ax = sns.heatmap(cm_maha_test, annot=True, cmap='Blues')\n",
    "\n",
    "ax.set_title('Seaborn Confusion Matrix with labels\\n\\n');\n",
    "ax.set_xlabel('\\nPredicted Values')\n",
    "ax.set_ylabel('Actual Values ');\n",
    "\n",
    "## Ticket labels - List must be in alphabetical order\n",
    "ax.xaxis.set_ticklabels(['True','False'])\n",
    "ax.yaxis.set_ticklabels(['True','False'])\n",
    "\n",
    "## Display the visualization of the Confusion Matrix.\n",
    "plt.show()\n",
    "\n",
    "\n",
    "## FP,FN,TP,TN\n",
    "TN_maha_test = cm_maha_test[0][0]\n",
    "FN_maha_test = cm_maha_test[1][0]\n",
    "FP_maha_test = cm_maha_test[0][1]\n",
    "TP_maha_test = cm_maha_test[1][1]\n",
    "\n",
    "##Precision and Recall\n",
    "Precision_maha_test = TP_maha_test/(TP_maha_test+FP_maha_test)\n",
    "Recall_maha_test = TP_maha_test/(TP_maha_test+FN_maha_test)\n",
    "\n",
    "print (\"Precision = \",Precision_maha_test)\n",
    "print (\"Recall = \",Recall_maha_test)"
   ]
  },
  {
   "cell_type": "code",
   "execution_count": 147,
   "id": "f1b1c37c",
   "metadata": {},
   "outputs": [
    {
     "data": {
      "text/plain": [
       "218"
      ]
     },
     "execution_count": 147,
     "metadata": {},
     "output_type": "execute_result"
    }
   ],
   "source": [
    "FP_maha_test"
   ]
  },
  {
   "cell_type": "markdown",
   "id": "0fb9e199",
   "metadata": {},
   "source": [
    "# Isolation Forest Testing (Without PCA)"
   ]
  },
  {
   "cell_type": "code",
   "execution_count": 148,
   "id": "34307cd3",
   "metadata": {},
   "outputs": [],
   "source": [
    "model_if_ss = joblib.load('model_if_ss.sav')"
   ]
  },
  {
   "cell_type": "code",
   "execution_count": 149,
   "id": "9593a97e",
   "metadata": {},
   "outputs": [],
   "source": [
    "test_one_hot_data_if_ss = test_one_hot_data_ss.drop(['p-value'],axis=1)"
   ]
  },
  {
   "cell_type": "code",
   "execution_count": 150,
   "id": "8326348f",
   "metadata": {},
   "outputs": [
    {
     "data": {
      "text/html": [
       "<div>\n",
       "<style scoped>\n",
       "    .dataframe tbody tr th:only-of-type {\n",
       "        vertical-align: middle;\n",
       "    }\n",
       "\n",
       "    .dataframe tbody tr th {\n",
       "        vertical-align: top;\n",
       "    }\n",
       "\n",
       "    .dataframe thead th {\n",
       "        text-align: right;\n",
       "    }\n",
       "</style>\n",
       "<table border=\"1\" class=\"dataframe\">\n",
       "  <thead>\n",
       "    <tr style=\"text-align: right;\">\n",
       "      <th></th>\n",
       "      <th>duration</th>\n",
       "      <th>src_bytes</th>\n",
       "      <th>dst_bytes</th>\n",
       "      <th>land</th>\n",
       "      <th>wrong_fragment</th>\n",
       "      <th>urgent</th>\n",
       "      <th>hot</th>\n",
       "      <th>num_failed_logins</th>\n",
       "      <th>logged_in</th>\n",
       "      <th>num_compromised</th>\n",
       "      <th>...</th>\n",
       "      <th>service_telnet</th>\n",
       "      <th>service_tftp_u</th>\n",
       "      <th>service_tim_i</th>\n",
       "      <th>service_time</th>\n",
       "      <th>service_urh_i</th>\n",
       "      <th>service_urp_i</th>\n",
       "      <th>service_uucp</th>\n",
       "      <th>service_uucp_path</th>\n",
       "      <th>service_vmnet</th>\n",
       "      <th>service_whois</th>\n",
       "    </tr>\n",
       "  </thead>\n",
       "  <tbody>\n",
       "    <tr>\n",
       "      <th>0</th>\n",
       "      <td>-0.155534</td>\n",
       "      <td>-0.021988</td>\n",
       "      <td>-0.096896</td>\n",
       "      <td>-0.017624</td>\n",
       "      <td>-0.059104</td>\n",
       "      <td>-0.019459</td>\n",
       "      <td>-0.113521</td>\n",
       "      <td>-0.143999</td>\n",
       "      <td>-0.890373</td>\n",
       "      <td>-0.016494</td>\n",
       "      <td>...</td>\n",
       "      <td>0</td>\n",
       "      <td>0</td>\n",
       "      <td>0</td>\n",
       "      <td>0</td>\n",
       "      <td>0</td>\n",
       "      <td>0</td>\n",
       "      <td>0</td>\n",
       "      <td>0</td>\n",
       "      <td>0</td>\n",
       "      <td>0</td>\n",
       "    </tr>\n",
       "    <tr>\n",
       "      <th>1</th>\n",
       "      <td>-0.155534</td>\n",
       "      <td>-0.021988</td>\n",
       "      <td>-0.096896</td>\n",
       "      <td>-0.017624</td>\n",
       "      <td>-0.059104</td>\n",
       "      <td>-0.019459</td>\n",
       "      <td>-0.113521</td>\n",
       "      <td>-0.143999</td>\n",
       "      <td>-0.890373</td>\n",
       "      <td>-0.016494</td>\n",
       "      <td>...</td>\n",
       "      <td>0</td>\n",
       "      <td>0</td>\n",
       "      <td>0</td>\n",
       "      <td>0</td>\n",
       "      <td>0</td>\n",
       "      <td>0</td>\n",
       "      <td>0</td>\n",
       "      <td>0</td>\n",
       "      <td>0</td>\n",
       "      <td>0</td>\n",
       "    </tr>\n",
       "    <tr>\n",
       "      <th>2</th>\n",
       "      <td>-0.154113</td>\n",
       "      <td>0.005473</td>\n",
       "      <td>-0.096896</td>\n",
       "      <td>-0.017624</td>\n",
       "      <td>-0.059104</td>\n",
       "      <td>-0.019459</td>\n",
       "      <td>-0.113521</td>\n",
       "      <td>-0.143999</td>\n",
       "      <td>-0.890373</td>\n",
       "      <td>-0.016494</td>\n",
       "      <td>...</td>\n",
       "      <td>0</td>\n",
       "      <td>0</td>\n",
       "      <td>0</td>\n",
       "      <td>0</td>\n",
       "      <td>0</td>\n",
       "      <td>0</td>\n",
       "      <td>0</td>\n",
       "      <td>0</td>\n",
       "      <td>0</td>\n",
       "      <td>0</td>\n",
       "    </tr>\n",
       "    <tr>\n",
       "      <th>3</th>\n",
       "      <td>-0.155534</td>\n",
       "      <td>-0.021946</td>\n",
       "      <td>-0.096896</td>\n",
       "      <td>-0.017624</td>\n",
       "      <td>-0.059104</td>\n",
       "      <td>-0.019459</td>\n",
       "      <td>-0.113521</td>\n",
       "      <td>-0.143999</td>\n",
       "      <td>-0.890373</td>\n",
       "      <td>-0.016494</td>\n",
       "      <td>...</td>\n",
       "      <td>0</td>\n",
       "      <td>0</td>\n",
       "      <td>0</td>\n",
       "      <td>0</td>\n",
       "      <td>0</td>\n",
       "      <td>0</td>\n",
       "      <td>0</td>\n",
       "      <td>0</td>\n",
       "      <td>0</td>\n",
       "      <td>0</td>\n",
       "    </tr>\n",
       "    <tr>\n",
       "      <th>4</th>\n",
       "      <td>-0.154823</td>\n",
       "      <td>-0.021988</td>\n",
       "      <td>-0.096189</td>\n",
       "      <td>-0.017624</td>\n",
       "      <td>-0.059104</td>\n",
       "      <td>-0.019459</td>\n",
       "      <td>-0.113521</td>\n",
       "      <td>-0.143999</td>\n",
       "      <td>-0.890373</td>\n",
       "      <td>-0.016494</td>\n",
       "      <td>...</td>\n",
       "      <td>1</td>\n",
       "      <td>0</td>\n",
       "      <td>0</td>\n",
       "      <td>0</td>\n",
       "      <td>0</td>\n",
       "      <td>0</td>\n",
       "      <td>0</td>\n",
       "      <td>0</td>\n",
       "      <td>0</td>\n",
       "      <td>0</td>\n",
       "    </tr>\n",
       "    <tr>\n",
       "      <th>...</th>\n",
       "      <td>...</td>\n",
       "      <td>...</td>\n",
       "      <td>...</td>\n",
       "      <td>...</td>\n",
       "      <td>...</td>\n",
       "      <td>...</td>\n",
       "      <td>...</td>\n",
       "      <td>...</td>\n",
       "      <td>...</td>\n",
       "      <td>...</td>\n",
       "      <td>...</td>\n",
       "      <td>...</td>\n",
       "      <td>...</td>\n",
       "      <td>...</td>\n",
       "      <td>...</td>\n",
       "      <td>...</td>\n",
       "      <td>...</td>\n",
       "      <td>...</td>\n",
       "      <td>...</td>\n",
       "      <td>...</td>\n",
       "      <td>...</td>\n",
       "    </tr>\n",
       "    <tr>\n",
       "      <th>22539</th>\n",
       "      <td>-0.155534</td>\n",
       "      <td>-0.020309</td>\n",
       "      <td>-0.081202</td>\n",
       "      <td>-0.017624</td>\n",
       "      <td>-0.059104</td>\n",
       "      <td>-0.019459</td>\n",
       "      <td>-0.113521</td>\n",
       "      <td>-0.143999</td>\n",
       "      <td>1.123125</td>\n",
       "      <td>-0.016494</td>\n",
       "      <td>...</td>\n",
       "      <td>0</td>\n",
       "      <td>0</td>\n",
       "      <td>0</td>\n",
       "      <td>0</td>\n",
       "      <td>0</td>\n",
       "      <td>0</td>\n",
       "      <td>0</td>\n",
       "      <td>0</td>\n",
       "      <td>0</td>\n",
       "      <td>0</td>\n",
       "    </tr>\n",
       "    <tr>\n",
       "      <th>22540</th>\n",
       "      <td>-0.155534</td>\n",
       "      <td>-0.021318</td>\n",
       "      <td>-0.052690</td>\n",
       "      <td>-0.017624</td>\n",
       "      <td>-0.059104</td>\n",
       "      <td>-0.019459</td>\n",
       "      <td>-0.113521</td>\n",
       "      <td>-0.143999</td>\n",
       "      <td>1.123125</td>\n",
       "      <td>-0.016494</td>\n",
       "      <td>...</td>\n",
       "      <td>0</td>\n",
       "      <td>0</td>\n",
       "      <td>0</td>\n",
       "      <td>0</td>\n",
       "      <td>0</td>\n",
       "      <td>0</td>\n",
       "      <td>0</td>\n",
       "      <td>0</td>\n",
       "      <td>0</td>\n",
       "      <td>0</td>\n",
       "    </tr>\n",
       "    <tr>\n",
       "      <th>22541</th>\n",
       "      <td>-0.155534</td>\n",
       "      <td>0.093373</td>\n",
       "      <td>0.294926</td>\n",
       "      <td>-0.017624</td>\n",
       "      <td>-0.059104</td>\n",
       "      <td>-0.019459</td>\n",
       "      <td>2.040705</td>\n",
       "      <td>-0.143999</td>\n",
       "      <td>1.123125</td>\n",
       "      <td>0.121069</td>\n",
       "      <td>...</td>\n",
       "      <td>0</td>\n",
       "      <td>0</td>\n",
       "      <td>0</td>\n",
       "      <td>0</td>\n",
       "      <td>0</td>\n",
       "      <td>0</td>\n",
       "      <td>0</td>\n",
       "      <td>0</td>\n",
       "      <td>0</td>\n",
       "      <td>0</td>\n",
       "    </tr>\n",
       "    <tr>\n",
       "      <th>22542</th>\n",
       "      <td>-0.155534</td>\n",
       "      <td>-0.021899</td>\n",
       "      <td>-0.094917</td>\n",
       "      <td>-0.017624</td>\n",
       "      <td>-0.059104</td>\n",
       "      <td>-0.019459</td>\n",
       "      <td>-0.113521</td>\n",
       "      <td>-0.143999</td>\n",
       "      <td>-0.890373</td>\n",
       "      <td>-0.016494</td>\n",
       "      <td>...</td>\n",
       "      <td>0</td>\n",
       "      <td>0</td>\n",
       "      <td>0</td>\n",
       "      <td>0</td>\n",
       "      <td>0</td>\n",
       "      <td>0</td>\n",
       "      <td>0</td>\n",
       "      <td>0</td>\n",
       "      <td>0</td>\n",
       "      <td>0</td>\n",
       "    </tr>\n",
       "    <tr>\n",
       "      <th>22543</th>\n",
       "      <td>-0.155534</td>\n",
       "      <td>-0.021988</td>\n",
       "      <td>-0.096896</td>\n",
       "      <td>-0.017624</td>\n",
       "      <td>-0.059104</td>\n",
       "      <td>-0.019459</td>\n",
       "      <td>-0.113521</td>\n",
       "      <td>-0.143999</td>\n",
       "      <td>-0.890373</td>\n",
       "      <td>-0.016494</td>\n",
       "      <td>...</td>\n",
       "      <td>0</td>\n",
       "      <td>0</td>\n",
       "      <td>0</td>\n",
       "      <td>0</td>\n",
       "      <td>0</td>\n",
       "      <td>0</td>\n",
       "      <td>0</td>\n",
       "      <td>0</td>\n",
       "      <td>0</td>\n",
       "      <td>0</td>\n",
       "    </tr>\n",
       "  </tbody>\n",
       "</table>\n",
       "<p>22544 rows × 121 columns</p>\n",
       "</div>"
      ],
      "text/plain": [
       "       duration  src_bytes  dst_bytes      land  wrong_fragment    urgent  \\\n",
       "0     -0.155534  -0.021988  -0.096896 -0.017624       -0.059104 -0.019459   \n",
       "1     -0.155534  -0.021988  -0.096896 -0.017624       -0.059104 -0.019459   \n",
       "2     -0.154113   0.005473  -0.096896 -0.017624       -0.059104 -0.019459   \n",
       "3     -0.155534  -0.021946  -0.096896 -0.017624       -0.059104 -0.019459   \n",
       "4     -0.154823  -0.021988  -0.096189 -0.017624       -0.059104 -0.019459   \n",
       "...         ...        ...        ...       ...             ...       ...   \n",
       "22539 -0.155534  -0.020309  -0.081202 -0.017624       -0.059104 -0.019459   \n",
       "22540 -0.155534  -0.021318  -0.052690 -0.017624       -0.059104 -0.019459   \n",
       "22541 -0.155534   0.093373   0.294926 -0.017624       -0.059104 -0.019459   \n",
       "22542 -0.155534  -0.021899  -0.094917 -0.017624       -0.059104 -0.019459   \n",
       "22543 -0.155534  -0.021988  -0.096896 -0.017624       -0.059104 -0.019459   \n",
       "\n",
       "            hot  num_failed_logins  logged_in  num_compromised  ...  \\\n",
       "0     -0.113521          -0.143999  -0.890373        -0.016494  ...   \n",
       "1     -0.113521          -0.143999  -0.890373        -0.016494  ...   \n",
       "2     -0.113521          -0.143999  -0.890373        -0.016494  ...   \n",
       "3     -0.113521          -0.143999  -0.890373        -0.016494  ...   \n",
       "4     -0.113521          -0.143999  -0.890373        -0.016494  ...   \n",
       "...         ...                ...        ...              ...  ...   \n",
       "22539 -0.113521          -0.143999   1.123125        -0.016494  ...   \n",
       "22540 -0.113521          -0.143999   1.123125        -0.016494  ...   \n",
       "22541  2.040705          -0.143999   1.123125         0.121069  ...   \n",
       "22542 -0.113521          -0.143999  -0.890373        -0.016494  ...   \n",
       "22543 -0.113521          -0.143999  -0.890373        -0.016494  ...   \n",
       "\n",
       "       service_telnet  service_tftp_u  service_tim_i  service_time  \\\n",
       "0                   0               0              0             0   \n",
       "1                   0               0              0             0   \n",
       "2                   0               0              0             0   \n",
       "3                   0               0              0             0   \n",
       "4                   1               0              0             0   \n",
       "...               ...             ...            ...           ...   \n",
       "22539               0               0              0             0   \n",
       "22540               0               0              0             0   \n",
       "22541               0               0              0             0   \n",
       "22542               0               0              0             0   \n",
       "22543               0               0              0             0   \n",
       "\n",
       "       service_urh_i  service_urp_i  service_uucp  service_uucp_path  \\\n",
       "0                  0              0             0                  0   \n",
       "1                  0              0             0                  0   \n",
       "2                  0              0             0                  0   \n",
       "3                  0              0             0                  0   \n",
       "4                  0              0             0                  0   \n",
       "...              ...            ...           ...                ...   \n",
       "22539              0              0             0                  0   \n",
       "22540              0              0             0                  0   \n",
       "22541              0              0             0                  0   \n",
       "22542              0              0             0                  0   \n",
       "22543              0              0             0                  0   \n",
       "\n",
       "       service_vmnet  service_whois  \n",
       "0                  0              0  \n",
       "1                  0              0  \n",
       "2                  0              0  \n",
       "3                  0              0  \n",
       "4                  0              0  \n",
       "...              ...            ...  \n",
       "22539              0              0  \n",
       "22540              0              0  \n",
       "22541              0              0  \n",
       "22542              0              0  \n",
       "22543              0              0  \n",
       "\n",
       "[22544 rows x 121 columns]"
      ]
     },
     "execution_count": 150,
     "metadata": {},
     "output_type": "execute_result"
    }
   ],
   "source": [
    "test_one_hot_data_if_ss"
   ]
  },
  {
   "cell_type": "code",
   "execution_count": 151,
   "id": "aa39aa73",
   "metadata": {},
   "outputs": [
    {
     "name": "stderr",
     "output_type": "stream",
     "text": [
      "C:\\WINDOWS\\system32\\myenv\\lib\\site-packages\\sklearn\\base.py:443: UserWarning: X has feature names, but IsolationForest was fitted without feature names\n",
      "  warnings.warn(\n"
     ]
    }
   ],
   "source": [
    "y_pred_if_test_ss = model_if_ss.predict(test_one_hot_data_if_ss)\n"
   ]
  },
  {
   "cell_type": "code",
   "execution_count": 152,
   "id": "306db864",
   "metadata": {},
   "outputs": [
    {
     "name": "stdout",
     "output_type": "stream",
     "text": [
      "Training accuracy: 0.4557\n"
     ]
    }
   ],
   "source": [
    "#Evaluation on training result\n",
    "y_pred_if_test_ss = np.where(y_pred_if_test_ss == -1, 0, y_pred_if_test_ss)\n",
    "\n",
    "from sklearn.metrics import accuracy_score\n",
    "test_acc_if_ss = accuracy_score(kdd_test_y['class_binary'], y_pred_if_test_ss)\n",
    "print(\"Training accuracy: {:.4f}\".format(test_acc_if_ss))"
   ]
  },
  {
   "cell_type": "code",
   "execution_count": 153,
   "id": "8a881cc5",
   "metadata": {},
   "outputs": [
    {
     "name": "stdout",
     "output_type": "stream",
     "text": [
      "[[  100  9611]\n",
      " [ 2660 10173]]\n"
     ]
    },
    {
     "data": {
      "text/plain": [
       "Text(0.5, 1.0, 'Seaborn Confusion Matrix with labels\\n\\n')"
      ]
     },
     "execution_count": 153,
     "metadata": {},
     "output_type": "execute_result"
    },
    {
     "data": {
      "text/plain": [
       "Text(0.5, 15.0, '\\nPredicted Values')"
      ]
     },
     "execution_count": 153,
     "metadata": {},
     "output_type": "execute_result"
    },
    {
     "data": {
      "text/plain": [
       "Text(33.0, 0.5, 'Actual Values ')"
      ]
     },
     "execution_count": 153,
     "metadata": {},
     "output_type": "execute_result"
    },
    {
     "data": {
      "text/plain": [
       "[Text(0.5, 0, 'False'), Text(1.5, 0, 'True')]"
      ]
     },
     "execution_count": 153,
     "metadata": {},
     "output_type": "execute_result"
    },
    {
     "data": {
      "text/plain": [
       "[Text(0, 0.5, 'False'), Text(0, 1.5, 'True')]"
      ]
     },
     "execution_count": 153,
     "metadata": {},
     "output_type": "execute_result"
    },
    {
     "data": {
      "image/png": "[encoded data removed]",
      "text/plain": [
       "<Figure size 432x288 with 2 Axes>"
      ]
     },
     "metadata": {
      "needs_background": "light"
     },
     "output_type": "display_data"
    },
    {
     "name": "stdout",
     "output_type": "stream",
     "text": [
      "0.5142033966841892\n",
      "0.7927218888802307\n"
     ]
    }
   ],
   "source": [
    "cm_if_test_ss = confusion_matrix (kdd_test_y[\"class_binary\"], y_pred_if_test_ss)\n",
    "print(cm_if_test_ss)\n",
    "ax = sns.heatmap(cm_if_test_ss, annot=True, cmap='Blues')\n",
    "\n",
    "ax.set_title('Seaborn Confusion Matrix with labels\\n\\n');\n",
    "ax.set_xlabel('\\nPredicted Values')\n",
    "ax.set_ylabel('Actual Values ');\n",
    "\n",
    "## Ticket labels - List must be in alphabetical order\n",
    "ax.xaxis.set_ticklabels(['False','True'])\n",
    "ax.yaxis.set_ticklabels(['False','True'])\n",
    "\n",
    "## Display the visualization of the Confusion Matrix.\n",
    "plt.show()\n",
    "\n",
    "## FP,FN,TP,TN\n",
    "TN_if = cm_if_test_ss[0][0]\n",
    "FN_if = cm_if_test_ss[1][0]\n",
    "FP_if = cm_if_test_ss[0][1]\n",
    "TP_if = cm_if_test_ss[1][1]\n",
    "\n",
    "##Precision and Recall\n",
    "Precision_if_test_ss = TP_if/(TP_if+FP_if)\n",
    "Recall_if_test_ss = TP_if/(TP_if+FN_if)\n",
    "\n",
    "print (Precision_if_test_ss)\n",
    "print (Recall_if_test_ss)"
   ]
  },
  {
   "cell_type": "markdown",
   "id": "b6f7d309",
   "metadata": {},
   "source": [
    "# Isolation Forest Test With PCA"
   ]
  },
  {
   "cell_type": "code",
   "execution_count": 154,
   "id": "45bfc006",
   "metadata": {},
   "outputs": [],
   "source": [
    "model_if = joblib.load('model_if_pca.sav')"
   ]
  },
  {
   "cell_type": "code",
   "execution_count": 155,
   "id": "33de098b",
   "metadata": {},
   "outputs": [],
   "source": [
    "test_one_hot_data_if = test_one_hot_data_pca.drop(['p-value'],axis=1)"
   ]
  },
  {
   "cell_type": "code",
   "execution_count": 156,
   "id": "161edc76",
   "metadata": {},
   "outputs": [
    {
     "data": {
      "text/html": [
       "<div>\n",
       "<style scoped>\n",
       "    .dataframe tbody tr th:only-of-type {\n",
       "        vertical-align: middle;\n",
       "    }\n",
       "\n",
       "    .dataframe tbody tr th {\n",
       "        vertical-align: top;\n",
       "    }\n",
       "\n",
       "    .dataframe thead th {\n",
       "        text-align: right;\n",
       "    }\n",
       "</style>\n",
       "<table border=\"1\" class=\"dataframe\">\n",
       "  <thead>\n",
       "    <tr style=\"text-align: right;\">\n",
       "      <th></th>\n",
       "      <th>Variable 0</th>\n",
       "      <th>Variable 1</th>\n",
       "      <th>Variable 2</th>\n",
       "      <th>Variable 3</th>\n",
       "      <th>Variable 4</th>\n",
       "      <th>Variable 5</th>\n",
       "      <th>Variable 6</th>\n",
       "      <th>Variable 7</th>\n",
       "      <th>Variable 8</th>\n",
       "      <th>Variable 9</th>\n",
       "      <th>...</th>\n",
       "      <th>Variable 15</th>\n",
       "      <th>Variable 16</th>\n",
       "      <th>Variable 17</th>\n",
       "      <th>Variable 18</th>\n",
       "      <th>Variable 19</th>\n",
       "      <th>Variable 20</th>\n",
       "      <th>Variable 21</th>\n",
       "      <th>Variable 22</th>\n",
       "      <th>Variable 23</th>\n",
       "      <th>Variable 24</th>\n",
       "    </tr>\n",
       "  </thead>\n",
       "  <tbody>\n",
       "    <tr>\n",
       "      <th>0</th>\n",
       "      <td>1.678471</td>\n",
       "      <td>-0.872735</td>\n",
       "      <td>0.004462</td>\n",
       "      <td>0.120732</td>\n",
       "      <td>-0.347212</td>\n",
       "      <td>0.492001</td>\n",
       "      <td>0.395315</td>\n",
       "      <td>0.513245</td>\n",
       "      <td>-0.766786</td>\n",
       "      <td>-0.062394</td>\n",
       "      <td>...</td>\n",
       "      <td>0.087559</td>\n",
       "      <td>-0.038879</td>\n",
       "      <td>0.089036</td>\n",
       "      <td>0.014807</td>\n",
       "      <td>-0.188965</td>\n",
       "      <td>-0.241500</td>\n",
       "      <td>0.056344</td>\n",
       "      <td>0.496597</td>\n",
       "      <td>0.262535</td>\n",
       "      <td>0.138204</td>\n",
       "    </tr>\n",
       "    <tr>\n",
       "      <th>1</th>\n",
       "      <td>1.650825</td>\n",
       "      <td>-0.871036</td>\n",
       "      <td>0.022690</td>\n",
       "      <td>0.353080</td>\n",
       "      <td>-0.343112</td>\n",
       "      <td>0.335960</td>\n",
       "      <td>0.348479</td>\n",
       "      <td>0.469322</td>\n",
       "      <td>-0.854539</td>\n",
       "      <td>-0.026489</td>\n",
       "      <td>...</td>\n",
       "      <td>0.114283</td>\n",
       "      <td>-0.010820</td>\n",
       "      <td>0.145412</td>\n",
       "      <td>-0.009779</td>\n",
       "      <td>-0.598954</td>\n",
       "      <td>-0.375644</td>\n",
       "      <td>0.079031</td>\n",
       "      <td>0.296606</td>\n",
       "      <td>-0.032011</td>\n",
       "      <td>0.186756</td>\n",
       "    </tr>\n",
       "    <tr>\n",
       "      <th>2</th>\n",
       "      <td>-0.427776</td>\n",
       "      <td>-0.027269</td>\n",
       "      <td>-0.060373</td>\n",
       "      <td>-0.582328</td>\n",
       "      <td>0.404469</td>\n",
       "      <td>-0.682267</td>\n",
       "      <td>-0.200591</td>\n",
       "      <td>-0.123556</td>\n",
       "      <td>-0.589345</td>\n",
       "      <td>0.143091</td>\n",
       "      <td>...</td>\n",
       "      <td>0.237438</td>\n",
       "      <td>0.104160</td>\n",
       "      <td>0.405106</td>\n",
       "      <td>-0.178831</td>\n",
       "      <td>-1.405561</td>\n",
       "      <td>-1.652676</td>\n",
       "      <td>0.167201</td>\n",
       "      <td>-0.245086</td>\n",
       "      <td>-0.561353</td>\n",
       "      <td>0.150038</td>\n",
       "    </tr>\n",
       "    <tr>\n",
       "      <th>3</th>\n",
       "      <td>-0.761174</td>\n",
       "      <td>-0.208430</td>\n",
       "      <td>-0.118920</td>\n",
       "      <td>-1.318459</td>\n",
       "      <td>0.976188</td>\n",
       "      <td>-3.314351</td>\n",
       "      <td>0.566546</td>\n",
       "      <td>1.467813</td>\n",
       "      <td>-0.909150</td>\n",
       "      <td>-0.158967</td>\n",
       "      <td>...</td>\n",
       "      <td>-0.645065</td>\n",
       "      <td>0.286518</td>\n",
       "      <td>-1.667154</td>\n",
       "      <td>0.537779</td>\n",
       "      <td>-0.640795</td>\n",
       "      <td>0.353723</td>\n",
       "      <td>-0.069583</td>\n",
       "      <td>-0.619479</td>\n",
       "      <td>0.387528</td>\n",
       "      <td>0.831724</td>\n",
       "    </tr>\n",
       "    <tr>\n",
       "      <th>4</th>\n",
       "      <td>0.598909</td>\n",
       "      <td>-0.747321</td>\n",
       "      <td>0.025752</td>\n",
       "      <td>0.710066</td>\n",
       "      <td>-0.131553</td>\n",
       "      <td>-1.442168</td>\n",
       "      <td>0.498369</td>\n",
       "      <td>0.965455</td>\n",
       "      <td>-0.426953</td>\n",
       "      <td>-0.115364</td>\n",
       "      <td>...</td>\n",
       "      <td>-0.743817</td>\n",
       "      <td>0.298524</td>\n",
       "      <td>-1.560845</td>\n",
       "      <td>0.244328</td>\n",
       "      <td>0.749042</td>\n",
       "      <td>-1.549601</td>\n",
       "      <td>-0.039347</td>\n",
       "      <td>-1.910045</td>\n",
       "      <td>1.245585</td>\n",
       "      <td>-1.708141</td>\n",
       "    </tr>\n",
       "    <tr>\n",
       "      <th>...</th>\n",
       "      <td>...</td>\n",
       "      <td>...</td>\n",
       "      <td>...</td>\n",
       "      <td>...</td>\n",
       "      <td>...</td>\n",
       "      <td>...</td>\n",
       "      <td>...</td>\n",
       "      <td>...</td>\n",
       "      <td>...</td>\n",
       "      <td>...</td>\n",
       "      <td>...</td>\n",
       "      <td>...</td>\n",
       "      <td>...</td>\n",
       "      <td>...</td>\n",
       "      <td>...</td>\n",
       "      <td>...</td>\n",
       "      <td>...</td>\n",
       "      <td>...</td>\n",
       "      <td>...</td>\n",
       "      <td>...</td>\n",
       "      <td>...</td>\n",
       "    </tr>\n",
       "    <tr>\n",
       "      <th>22539</th>\n",
       "      <td>-0.677682</td>\n",
       "      <td>-0.135917</td>\n",
       "      <td>-0.011245</td>\n",
       "      <td>0.455168</td>\n",
       "      <td>-0.042929</td>\n",
       "      <td>-0.256884</td>\n",
       "      <td>-0.100001</td>\n",
       "      <td>-0.189835</td>\n",
       "      <td>0.184557</td>\n",
       "      <td>-0.148046</td>\n",
       "      <td>...</td>\n",
       "      <td>0.292904</td>\n",
       "      <td>0.011649</td>\n",
       "      <td>0.372109</td>\n",
       "      <td>-0.168500</td>\n",
       "      <td>0.037980</td>\n",
       "      <td>-0.879584</td>\n",
       "      <td>0.102358</td>\n",
       "      <td>0.689768</td>\n",
       "      <td>0.934646</td>\n",
       "      <td>0.090175</td>\n",
       "    </tr>\n",
       "    <tr>\n",
       "      <th>22540</th>\n",
       "      <td>-0.872991</td>\n",
       "      <td>-0.194655</td>\n",
       "      <td>-0.066623</td>\n",
       "      <td>0.452831</td>\n",
       "      <td>-0.413141</td>\n",
       "      <td>0.185445</td>\n",
       "      <td>0.112065</td>\n",
       "      <td>0.035403</td>\n",
       "      <td>0.523128</td>\n",
       "      <td>-0.197381</td>\n",
       "      <td>...</td>\n",
       "      <td>0.052441</td>\n",
       "      <td>0.030962</td>\n",
       "      <td>0.042610</td>\n",
       "      <td>-0.075227</td>\n",
       "      <td>0.008424</td>\n",
       "      <td>0.335099</td>\n",
       "      <td>-0.003818</td>\n",
       "      <td>-0.023344</td>\n",
       "      <td>0.180433</td>\n",
       "      <td>0.502189</td>\n",
       "    </tr>\n",
       "    <tr>\n",
       "      <th>22541</th>\n",
       "      <td>-0.814737</td>\n",
       "      <td>-0.235138</td>\n",
       "      <td>0.074933</td>\n",
       "      <td>0.712311</td>\n",
       "      <td>0.369909</td>\n",
       "      <td>0.794684</td>\n",
       "      <td>-0.066708</td>\n",
       "      <td>0.487747</td>\n",
       "      <td>0.673540</td>\n",
       "      <td>0.041892</td>\n",
       "      <td>...</td>\n",
       "      <td>-0.258330</td>\n",
       "      <td>-0.006817</td>\n",
       "      <td>-0.122758</td>\n",
       "      <td>-0.063017</td>\n",
       "      <td>-0.370471</td>\n",
       "      <td>0.833983</td>\n",
       "      <td>-0.274270</td>\n",
       "      <td>-0.387862</td>\n",
       "      <td>-0.042794</td>\n",
       "      <td>0.810304</td>\n",
       "    </tr>\n",
       "    <tr>\n",
       "      <th>22542</th>\n",
       "      <td>-0.618400</td>\n",
       "      <td>-0.099512</td>\n",
       "      <td>-0.112588</td>\n",
       "      <td>-0.139796</td>\n",
       "      <td>-0.299245</td>\n",
       "      <td>0.215218</td>\n",
       "      <td>-0.019459</td>\n",
       "      <td>-0.011095</td>\n",
       "      <td>0.042120</td>\n",
       "      <td>-0.007059</td>\n",
       "      <td>...</td>\n",
       "      <td>-0.290904</td>\n",
       "      <td>0.188055</td>\n",
       "      <td>-0.449203</td>\n",
       "      <td>0.018747</td>\n",
       "      <td>-1.882968</td>\n",
       "      <td>0.507418</td>\n",
       "      <td>0.082627</td>\n",
       "      <td>-0.368312</td>\n",
       "      <td>0.264881</td>\n",
       "      <td>-2.206890</td>\n",
       "    </tr>\n",
       "    <tr>\n",
       "      <th>22543</th>\n",
       "      <td>1.463070</td>\n",
       "      <td>-0.999785</td>\n",
       "      <td>0.020018</td>\n",
       "      <td>0.694845</td>\n",
       "      <td>-0.080750</td>\n",
       "      <td>-1.468044</td>\n",
       "      <td>0.126210</td>\n",
       "      <td>0.357274</td>\n",
       "      <td>1.220113</td>\n",
       "      <td>-0.285096</td>\n",
       "      <td>...</td>\n",
       "      <td>-1.250816</td>\n",
       "      <td>0.134694</td>\n",
       "      <td>-2.210273</td>\n",
       "      <td>0.421475</td>\n",
       "      <td>-0.685139</td>\n",
       "      <td>0.938779</td>\n",
       "      <td>-0.024256</td>\n",
       "      <td>1.005392</td>\n",
       "      <td>-2.329813</td>\n",
       "      <td>0.180108</td>\n",
       "    </tr>\n",
       "  </tbody>\n",
       "</table>\n",
       "<p>22544 rows × 25 columns</p>\n",
       "</div>"
      ],
      "text/plain": [
       "       Variable 0  Variable 1  Variable 2  Variable 3  Variable 4  Variable 5  \\\n",
       "0        1.678471   -0.872735    0.004462    0.120732   -0.347212    0.492001   \n",
       "1        1.650825   -0.871036    0.022690    0.353080   -0.343112    0.335960   \n",
       "2       -0.427776   -0.027269   -0.060373   -0.582328    0.404469   -0.682267   \n",
       "3       -0.761174   -0.208430   -0.118920   -1.318459    0.976188   -3.314351   \n",
       "4        0.598909   -0.747321    0.025752    0.710066   -0.131553   -1.442168   \n",
       "...           ...         ...         ...         ...         ...         ...   \n",
       "22539   -0.677682   -0.135917   -0.011245    0.455168   -0.042929   -0.256884   \n",
       "22540   -0.872991   -0.194655   -0.066623    0.452831   -0.413141    0.185445   \n",
       "22541   -0.814737   -0.235138    0.074933    0.712311    0.369909    0.794684   \n",
       "22542   -0.618400   -0.099512   -0.112588   -0.139796   -0.299245    0.215218   \n",
       "22543    1.463070   -0.999785    0.020018    0.694845   -0.080750   -1.468044   \n",
       "\n",
       "       Variable 6  Variable 7  Variable 8  Variable 9  ...  Variable 15  \\\n",
       "0        0.395315    0.513245   -0.766786   -0.062394  ...     0.087559   \n",
       "1        0.348479    0.469322   -0.854539   -0.026489  ...     0.114283   \n",
       "2       -0.200591   -0.123556   -0.589345    0.143091  ...     0.237438   \n",
       "3        0.566546    1.467813   -0.909150   -0.158967  ...    -0.645065   \n",
       "4        0.498369    0.965455   -0.426953   -0.115364  ...    -0.743817   \n",
       "...           ...         ...         ...         ...  ...          ...   \n",
       "22539   -0.100001   -0.189835    0.184557   -0.148046  ...     0.292904   \n",
       "22540    0.112065    0.035403    0.523128   -0.197381  ...     0.052441   \n",
       "22541   -0.066708    0.487747    0.673540    0.041892  ...    -0.258330   \n",
       "22542   -0.019459   -0.011095    0.042120   -0.007059  ...    -0.290904   \n",
       "22543    0.126210    0.357274    1.220113   -0.285096  ...    -1.250816   \n",
       "\n",
       "       Variable 16  Variable 17  Variable 18  Variable 19  Variable 20  \\\n",
       "0        -0.038879     0.089036     0.014807    -0.188965    -0.241500   \n",
       "1        -0.010820     0.145412    -0.009779    -0.598954    -0.375644   \n",
       "2         0.104160     0.405106    -0.178831    -1.405561    -1.652676   \n",
       "3         0.286518    -1.667154     0.537779    -0.640795     0.353723   \n",
       "4         0.298524    -1.560845     0.244328     0.749042    -1.549601   \n",
       "...            ...          ...          ...          ...          ...   \n",
       "22539     0.011649     0.372109    -0.168500     0.037980    -0.879584   \n",
       "22540     0.030962     0.042610    -0.075227     0.008424     0.335099   \n",
       "22541    -0.006817    -0.122758    -0.063017    -0.370471     0.833983   \n",
       "22542     0.188055    -0.449203     0.018747    -1.882968     0.507418   \n",
       "22543     0.134694    -2.210273     0.421475    -0.685139     0.938779   \n",
       "\n",
       "       Variable 21  Variable 22  Variable 23  Variable 24  \n",
       "0         0.056344     0.496597     0.262535     0.138204  \n",
       "1         0.079031     0.296606    -0.032011     0.186756  \n",
       "2         0.167201    -0.245086    -0.561353     0.150038  \n",
       "3        -0.069583    -0.619479     0.387528     0.831724  \n",
       "4        -0.039347    -1.910045     1.245585    -1.708141  \n",
       "...            ...          ...          ...          ...  \n",
       "22539     0.102358     0.689768     0.934646     0.090175  \n",
       "22540    -0.003818    -0.023344     0.180433     0.502189  \n",
       "22541    -0.274270    -0.387862    -0.042794     0.810304  \n",
       "22542     0.082627    -0.368312     0.264881    -2.206890  \n",
       "22543    -0.024256     1.005392    -2.329813     0.180108  \n",
       "\n",
       "[22544 rows x 25 columns]"
      ]
     },
     "execution_count": 156,
     "metadata": {},
     "output_type": "execute_result"
    }
   ],
   "source": [
    "test_one_hot_data_if"
   ]
  },
  {
   "cell_type": "code",
   "execution_count": 157,
   "id": "703c9b49",
   "metadata": {},
   "outputs": [],
   "source": [
    "#one_hot_data_if = one_hot_data_if.drop(['p-value','p-value_mcd'],axis=1)"
   ]
  },
  {
   "cell_type": "code",
   "execution_count": 158,
   "id": "c26c595f",
   "metadata": {},
   "outputs": [
    {
     "data": {
      "text/html": [
       "<div>\n",
       "<style scoped>\n",
       "    .dataframe tbody tr th:only-of-type {\n",
       "        vertical-align: middle;\n",
       "    }\n",
       "\n",
       "    .dataframe tbody tr th {\n",
       "        vertical-align: top;\n",
       "    }\n",
       "\n",
       "    .dataframe thead th {\n",
       "        text-align: right;\n",
       "    }\n",
       "</style>\n",
       "<table border=\"1\" class=\"dataframe\">\n",
       "  <thead>\n",
       "    <tr style=\"text-align: right;\">\n",
       "      <th></th>\n",
       "      <th>Variable 0</th>\n",
       "      <th>Variable 1</th>\n",
       "      <th>Variable 2</th>\n",
       "      <th>Variable 3</th>\n",
       "      <th>Variable 4</th>\n",
       "      <th>Variable 5</th>\n",
       "      <th>Variable 6</th>\n",
       "      <th>Variable 7</th>\n",
       "      <th>Variable 8</th>\n",
       "      <th>Variable 9</th>\n",
       "      <th>...</th>\n",
       "      <th>Variable 15</th>\n",
       "      <th>Variable 16</th>\n",
       "      <th>Variable 17</th>\n",
       "      <th>Variable 18</th>\n",
       "      <th>Variable 19</th>\n",
       "      <th>Variable 20</th>\n",
       "      <th>Variable 21</th>\n",
       "      <th>Variable 22</th>\n",
       "      <th>Variable 23</th>\n",
       "      <th>Variable 24</th>\n",
       "    </tr>\n",
       "  </thead>\n",
       "  <tbody>\n",
       "    <tr>\n",
       "      <th>0</th>\n",
       "      <td>-0.271817</td>\n",
       "      <td>-0.031828</td>\n",
       "      <td>-0.007913</td>\n",
       "      <td>-0.057511</td>\n",
       "      <td>-0.242415</td>\n",
       "      <td>0.177059</td>\n",
       "      <td>-0.356125</td>\n",
       "      <td>0.408246</td>\n",
       "      <td>0.040125</td>\n",
       "      <td>0.127202</td>\n",
       "      <td>...</td>\n",
       "      <td>0.017675</td>\n",
       "      <td>-0.207697</td>\n",
       "      <td>-0.037673</td>\n",
       "      <td>-0.320513</td>\n",
       "      <td>0.282792</td>\n",
       "      <td>2.121919</td>\n",
       "      <td>-0.554442</td>\n",
       "      <td>-0.128795</td>\n",
       "      <td>-1.473003</td>\n",
       "      <td>-1.178695</td>\n",
       "    </tr>\n",
       "    <tr>\n",
       "      <th>1</th>\n",
       "      <td>0.172646</td>\n",
       "      <td>0.493701</td>\n",
       "      <td>0.004511</td>\n",
       "      <td>-0.797854</td>\n",
       "      <td>-0.794043</td>\n",
       "      <td>1.396155</td>\n",
       "      <td>-1.419618</td>\n",
       "      <td>1.811961</td>\n",
       "      <td>-0.912519</td>\n",
       "      <td>0.028642</td>\n",
       "      <td>...</td>\n",
       "      <td>0.001159</td>\n",
       "      <td>-0.341808</td>\n",
       "      <td>-0.086006</td>\n",
       "      <td>-0.390951</td>\n",
       "      <td>0.353703</td>\n",
       "      <td>2.470519</td>\n",
       "      <td>-0.970944</td>\n",
       "      <td>0.370660</td>\n",
       "      <td>1.229125</td>\n",
       "      <td>0.620290</td>\n",
       "    </tr>\n",
       "    <tr>\n",
       "      <th>2</th>\n",
       "      <td>1.415630</td>\n",
       "      <td>-0.666276</td>\n",
       "      <td>0.012028</td>\n",
       "      <td>-0.028398</td>\n",
       "      <td>-0.176458</td>\n",
       "      <td>-0.336946</td>\n",
       "      <td>0.050874</td>\n",
       "      <td>-0.047367</td>\n",
       "      <td>0.161117</td>\n",
       "      <td>0.009214</td>\n",
       "      <td>...</td>\n",
       "      <td>-0.013284</td>\n",
       "      <td>-0.080540</td>\n",
       "      <td>0.029774</td>\n",
       "      <td>0.017559</td>\n",
       "      <td>-0.007434</td>\n",
       "      <td>0.089606</td>\n",
       "      <td>0.323906</td>\n",
       "      <td>-0.208934</td>\n",
       "      <td>0.327626</td>\n",
       "      <td>-0.075651</td>\n",
       "    </tr>\n",
       "    <tr>\n",
       "      <th>3</th>\n",
       "      <td>-0.904705</td>\n",
       "      <td>-0.465462</td>\n",
       "      <td>-0.041510</td>\n",
       "      <td>0.310599</td>\n",
       "      <td>0.131188</td>\n",
       "      <td>-0.845985</td>\n",
       "      <td>0.027311</td>\n",
       "      <td>0.064317</td>\n",
       "      <td>0.051110</td>\n",
       "      <td>0.009947</td>\n",
       "      <td>...</td>\n",
       "      <td>0.013662</td>\n",
       "      <td>-0.103791</td>\n",
       "      <td>0.018487</td>\n",
       "      <td>-1.077262</td>\n",
       "      <td>0.095570</td>\n",
       "      <td>-1.068195</td>\n",
       "      <td>-0.187457</td>\n",
       "      <td>-0.311417</td>\n",
       "      <td>0.040910</td>\n",
       "      <td>-0.580711</td>\n",
       "    </tr>\n",
       "    <tr>\n",
       "      <th>4</th>\n",
       "      <td>-0.829569</td>\n",
       "      <td>-0.395406</td>\n",
       "      <td>-0.070325</td>\n",
       "      <td>0.588581</td>\n",
       "      <td>0.832244</td>\n",
       "      <td>-0.290600</td>\n",
       "      <td>-0.145860</td>\n",
       "      <td>0.193486</td>\n",
       "      <td>0.064853</td>\n",
       "      <td>-0.023983</td>\n",
       "      <td>...</td>\n",
       "      <td>-0.028782</td>\n",
       "      <td>-0.083732</td>\n",
       "      <td>0.048325</td>\n",
       "      <td>0.359112</td>\n",
       "      <td>-0.102098</td>\n",
       "      <td>-0.014895</td>\n",
       "      <td>0.542320</td>\n",
       "      <td>0.586909</td>\n",
       "      <td>0.417905</td>\n",
       "      <td>1.189597</td>\n",
       "    </tr>\n",
       "    <tr>\n",
       "      <th>...</th>\n",
       "      <td>...</td>\n",
       "      <td>...</td>\n",
       "      <td>...</td>\n",
       "      <td>...</td>\n",
       "      <td>...</td>\n",
       "      <td>...</td>\n",
       "      <td>...</td>\n",
       "      <td>...</td>\n",
       "      <td>...</td>\n",
       "      <td>...</td>\n",
       "      <td>...</td>\n",
       "      <td>...</td>\n",
       "      <td>...</td>\n",
       "      <td>...</td>\n",
       "      <td>...</td>\n",
       "      <td>...</td>\n",
       "      <td>...</td>\n",
       "      <td>...</td>\n",
       "      <td>...</td>\n",
       "      <td>...</td>\n",
       "      <td>...</td>\n",
       "    </tr>\n",
       "    <tr>\n",
       "      <th>125968</th>\n",
       "      <td>1.432927</td>\n",
       "      <td>-0.660116</td>\n",
       "      <td>0.000861</td>\n",
       "      <td>-0.084749</td>\n",
       "      <td>-0.018009</td>\n",
       "      <td>-0.098309</td>\n",
       "      <td>0.132684</td>\n",
       "      <td>-0.176189</td>\n",
       "      <td>0.182252</td>\n",
       "      <td>-0.003731</td>\n",
       "      <td>...</td>\n",
       "      <td>-0.018946</td>\n",
       "      <td>-0.062724</td>\n",
       "      <td>0.028226</td>\n",
       "      <td>-0.014552</td>\n",
       "      <td>-0.014394</td>\n",
       "      <td>-0.228305</td>\n",
       "      <td>0.052992</td>\n",
       "      <td>0.020973</td>\n",
       "      <td>0.233702</td>\n",
       "      <td>-0.010744</td>\n",
       "    </tr>\n",
       "    <tr>\n",
       "      <th>125969</th>\n",
       "      <td>-0.579312</td>\n",
       "      <td>-0.249285</td>\n",
       "      <td>-0.087692</td>\n",
       "      <td>0.143871</td>\n",
       "      <td>0.675707</td>\n",
       "      <td>0.262858</td>\n",
       "      <td>-0.190329</td>\n",
       "      <td>0.254527</td>\n",
       "      <td>0.112493</td>\n",
       "      <td>0.077054</td>\n",
       "      <td>...</td>\n",
       "      <td>-0.009618</td>\n",
       "      <td>-0.129347</td>\n",
       "      <td>0.007511</td>\n",
       "      <td>0.295710</td>\n",
       "      <td>0.013124</td>\n",
       "      <td>1.560205</td>\n",
       "      <td>1.871801</td>\n",
       "      <td>-0.068697</td>\n",
       "      <td>1.161909</td>\n",
       "      <td>-1.218126</td>\n",
       "    </tr>\n",
       "    <tr>\n",
       "      <th>125970</th>\n",
       "      <td>-0.158302</td>\n",
       "      <td>-0.281355</td>\n",
       "      <td>0.027748</td>\n",
       "      <td>0.556132</td>\n",
       "      <td>0.016131</td>\n",
       "      <td>-0.276331</td>\n",
       "      <td>-0.602392</td>\n",
       "      <td>0.657011</td>\n",
       "      <td>0.010436</td>\n",
       "      <td>0.078126</td>\n",
       "      <td>...</td>\n",
       "      <td>-0.026978</td>\n",
       "      <td>-0.180230</td>\n",
       "      <td>0.006480</td>\n",
       "      <td>0.230496</td>\n",
       "      <td>0.154851</td>\n",
       "      <td>1.554297</td>\n",
       "      <td>-0.749160</td>\n",
       "      <td>1.389888</td>\n",
       "      <td>-1.716392</td>\n",
       "      <td>0.591811</td>\n",
       "    </tr>\n",
       "    <tr>\n",
       "      <th>125971</th>\n",
       "      <td>1.437126</td>\n",
       "      <td>-0.668559</td>\n",
       "      <td>0.014501</td>\n",
       "      <td>-0.037322</td>\n",
       "      <td>-0.168116</td>\n",
       "      <td>-0.276399</td>\n",
       "      <td>0.092500</td>\n",
       "      <td>-0.121089</td>\n",
       "      <td>0.193096</td>\n",
       "      <td>0.007072</td>\n",
       "      <td>...</td>\n",
       "      <td>-0.019991</td>\n",
       "      <td>-0.087068</td>\n",
       "      <td>0.026620</td>\n",
       "      <td>0.024639</td>\n",
       "      <td>0.010870</td>\n",
       "      <td>0.134870</td>\n",
       "      <td>0.074783</td>\n",
       "      <td>-0.037025</td>\n",
       "      <td>0.033698</td>\n",
       "      <td>0.038042</td>\n",
       "    </tr>\n",
       "    <tr>\n",
       "      <th>125972</th>\n",
       "      <td>-0.476780</td>\n",
       "      <td>-0.179868</td>\n",
       "      <td>0.002340</td>\n",
       "      <td>0.331980</td>\n",
       "      <td>0.022217</td>\n",
       "      <td>0.004447</td>\n",
       "      <td>-0.614954</td>\n",
       "      <td>0.670347</td>\n",
       "      <td>0.043615</td>\n",
       "      <td>0.062161</td>\n",
       "      <td>...</td>\n",
       "      <td>-0.021178</td>\n",
       "      <td>-0.323144</td>\n",
       "      <td>0.020325</td>\n",
       "      <td>-0.056475</td>\n",
       "      <td>0.220091</td>\n",
       "      <td>1.837301</td>\n",
       "      <td>-0.714715</td>\n",
       "      <td>0.464149</td>\n",
       "      <td>-1.223477</td>\n",
       "      <td>1.542753</td>\n",
       "    </tr>\n",
       "  </tbody>\n",
       "</table>\n",
       "<p>125973 rows × 25 columns</p>\n",
       "</div>"
      ],
      "text/plain": [
       "        Variable 0  Variable 1  Variable 2  Variable 3  Variable 4  \\\n",
       "0        -0.271817   -0.031828   -0.007913   -0.057511   -0.242415   \n",
       "1         0.172646    0.493701    0.004511   -0.797854   -0.794043   \n",
       "2         1.415630   -0.666276    0.012028   -0.028398   -0.176458   \n",
       "3        -0.904705   -0.465462   -0.041510    0.310599    0.131188   \n",
       "4        -0.829569   -0.395406   -0.070325    0.588581    0.832244   \n",
       "...            ...         ...         ...         ...         ...   \n",
       "125968    1.432927   -0.660116    0.000861   -0.084749   -0.018009   \n",
       "125969   -0.579312   -0.249285   -0.087692    0.143871    0.675707   \n",
       "125970   -0.158302   -0.281355    0.027748    0.556132    0.016131   \n",
       "125971    1.437126   -0.668559    0.014501   -0.037322   -0.168116   \n",
       "125972   -0.476780   -0.179868    0.002340    0.331980    0.022217   \n",
       "\n",
       "        Variable 5  Variable 6  Variable 7  Variable 8  Variable 9  ...  \\\n",
       "0         0.177059   -0.356125    0.408246    0.040125    0.127202  ...   \n",
       "1         1.396155   -1.419618    1.811961   -0.912519    0.028642  ...   \n",
       "2        -0.336946    0.050874   -0.047367    0.161117    0.009214  ...   \n",
       "3        -0.845985    0.027311    0.064317    0.051110    0.009947  ...   \n",
       "4        -0.290600   -0.145860    0.193486    0.064853   -0.023983  ...   \n",
       "...            ...         ...         ...         ...         ...  ...   \n",
       "125968   -0.098309    0.132684   -0.176189    0.182252   -0.003731  ...   \n",
       "125969    0.262858   -0.190329    0.254527    0.112493    0.077054  ...   \n",
       "125970   -0.276331   -0.602392    0.657011    0.010436    0.078126  ...   \n",
       "125971   -0.276399    0.092500   -0.121089    0.193096    0.007072  ...   \n",
       "125972    0.004447   -0.614954    0.670347    0.043615    0.062161  ...   \n",
       "\n",
       "        Variable 15  Variable 16  Variable 17  Variable 18  Variable 19  \\\n",
       "0          0.017675    -0.207697    -0.037673    -0.320513     0.282792   \n",
       "1          0.001159    -0.341808    -0.086006    -0.390951     0.353703   \n",
       "2         -0.013284    -0.080540     0.029774     0.017559    -0.007434   \n",
       "3          0.013662    -0.103791     0.018487    -1.077262     0.095570   \n",
       "4         -0.028782    -0.083732     0.048325     0.359112    -0.102098   \n",
       "...             ...          ...          ...          ...          ...   \n",
       "125968    -0.018946    -0.062724     0.028226    -0.014552    -0.014394   \n",
       "125969    -0.009618    -0.129347     0.007511     0.295710     0.013124   \n",
       "125970    -0.026978    -0.180230     0.006480     0.230496     0.154851   \n",
       "125971    -0.019991    -0.087068     0.026620     0.024639     0.010870   \n",
       "125972    -0.021178    -0.323144     0.020325    -0.056475     0.220091   \n",
       "\n",
       "        Variable 20  Variable 21  Variable 22  Variable 23  Variable 24  \n",
       "0          2.121919    -0.554442    -0.128795    -1.473003    -1.178695  \n",
       "1          2.470519    -0.970944     0.370660     1.229125     0.620290  \n",
       "2          0.089606     0.323906    -0.208934     0.327626    -0.075651  \n",
       "3         -1.068195    -0.187457    -0.311417     0.040910    -0.580711  \n",
       "4         -0.014895     0.542320     0.586909     0.417905     1.189597  \n",
       "...             ...          ...          ...          ...          ...  \n",
       "125968    -0.228305     0.052992     0.020973     0.233702    -0.010744  \n",
       "125969     1.560205     1.871801    -0.068697     1.161909    -1.218126  \n",
       "125970     1.554297    -0.749160     1.389888    -1.716392     0.591811  \n",
       "125971     0.134870     0.074783    -0.037025     0.033698     0.038042  \n",
       "125972     1.837301    -0.714715     0.464149    -1.223477     1.542753  \n",
       "\n",
       "[125973 rows x 25 columns]"
      ]
     },
     "execution_count": 158,
     "metadata": {},
     "output_type": "execute_result"
    }
   ],
   "source": [
    "one_hot_data_if"
   ]
  },
  {
   "cell_type": "code",
   "execution_count": 159,
   "id": "521a4ac2",
   "metadata": {},
   "outputs": [],
   "source": [
    "#model_if.fit(one_hot_data_if)"
   ]
  },
  {
   "cell_type": "code",
   "execution_count": 160,
   "id": "e4e0b51a",
   "metadata": {},
   "outputs": [],
   "source": [
    "y_pred_if_test = model_if.predict(test_one_hot_data_if)"
   ]
  },
  {
   "cell_type": "code",
   "execution_count": 161,
   "id": "990e8b34",
   "metadata": {},
   "outputs": [
    {
     "name": "stdout",
     "output_type": "stream",
     "text": [
      "Training accuracy: 0.5299\n"
     ]
    }
   ],
   "source": [
    "#Evaluation on training result\n",
    "y_pred_if_test = np.where(y_pred_if_test == -1, 0, y_pred_if_test)\n",
    "\n",
    "from sklearn.metrics import accuracy_score\n",
    "test_acc_if = accuracy_score(kdd_test_y['class_binary'], y_pred_if_test)\n",
    "print(\"Training accuracy: {:.4f}\".format(test_acc_if))"
   ]
  },
  {
   "cell_type": "code",
   "execution_count": 162,
   "id": "6a7447d8",
   "metadata": {},
   "outputs": [
    {
     "name": "stdout",
     "output_type": "stream",
     "text": [
      "[[  201  9510]\n",
      " [ 1087 11746]]\n"
     ]
    },
    {
     "data": {
      "text/plain": [
       "Text(0.5, 1.0, 'Seaborn Confusion Matrix with labels\\n\\n')"
      ]
     },
     "execution_count": 162,
     "metadata": {},
     "output_type": "execute_result"
    },
    {
     "data": {
      "text/plain": [
       "Text(0.5, 15.0, '\\nPredicted Values')"
      ]
     },
     "execution_count": 162,
     "metadata": {},
     "output_type": "execute_result"
    },
    {
     "data": {
      "text/plain": [
       "Text(33.0, 0.5, 'Actual Values ')"
      ]
     },
     "execution_count": 162,
     "metadata": {},
     "output_type": "execute_result"
    },
    {
     "data": {
      "text/plain": [
       "[Text(0.5, 0, 'False'), Text(1.5, 0, 'True')]"
      ]
     },
     "execution_count": 162,
     "metadata": {},
     "output_type": "execute_result"
    },
    {
     "data": {
      "text/plain": [
       "[Text(0, 0.5, 'False'), Text(0, 1.5, 'True')]"
      ]
     },
     "execution_count": 162,
     "metadata": {},
     "output_type": "execute_result"
    },
    {
     "data": {
      "image/png": "[encoded data removed]",
      "text/plain": [
       "<Figure size 432x288 with 2 Axes>"
      ]
     },
     "metadata": {
      "needs_background": "light"
     },
     "output_type": "display_data"
    },
    {
     "name": "stdout",
     "output_type": "stream",
     "text": [
      "0.5525969138125706\n",
      "0.9152965012078236\n"
     ]
    }
   ],
   "source": [
    "cm_if_test = confusion_matrix (kdd_test_y[\"class_binary\"], y_pred_if_test)\n",
    "print(cm_if_test)\n",
    "ax = sns.heatmap(cm_if_test, annot=True, cmap='Blues')\n",
    "\n",
    "ax.set_title('Seaborn Confusion Matrix with labels\\n\\n');\n",
    "ax.set_xlabel('\\nPredicted Values')\n",
    "ax.set_ylabel('Actual Values ');\n",
    "\n",
    "## Ticket labels - List must be in alphabetical order\n",
    "ax.xaxis.set_ticklabels(['False','True'])\n",
    "ax.yaxis.set_ticklabels(['False','True'])\n",
    "\n",
    "## Display the visualization of the Confusion Matrix.\n",
    "plt.show()\n",
    "\n",
    "## FP,FN,TP,TN\n",
    "TN_if = cm_if_test[0][0]\n",
    "FN_if = cm_if_test[1][0]\n",
    "FP_if = cm_if_test[0][1]\n",
    "TP_if = cm_if_test[1][1]\n",
    "\n",
    "##Precision and Recall\n",
    "Precision_if_test = TP_if/(TP_if+FP_if)\n",
    "Recall_if_test = TP_if/(TP_if+FN_if)\n",
    "\n",
    "print (Precision_if_test)\n",
    "print (Recall_if_test)"
   ]
  },
  {
   "cell_type": "markdown",
   "id": "1f589f36",
   "metadata": {},
   "source": [
    "# OCSVM without PCA"
   ]
  },
  {
   "cell_type": "code",
   "execution_count": 163,
   "id": "11f7d47d",
   "metadata": {},
   "outputs": [],
   "source": [
    "test_one_hot_data_svm_ss = test_one_hot_data_ss.drop(['p-value'],axis=1)\n",
    "test_one_hot_data_svm = test_one_hot_data_pca.drop(['p-value'],axis=1)"
   ]
  },
  {
   "cell_type": "code",
   "execution_count": 164,
   "id": "4343fbc1",
   "metadata": {
    "scrolled": true
   },
   "outputs": [
    {
     "data": {
      "text/html": [
       "<div>\n",
       "<style scoped>\n",
       "    .dataframe tbody tr th:only-of-type {\n",
       "        vertical-align: middle;\n",
       "    }\n",
       "\n",
       "    .dataframe tbody tr th {\n",
       "        vertical-align: top;\n",
       "    }\n",
       "\n",
       "    .dataframe thead th {\n",
       "        text-align: right;\n",
       "    }\n",
       "</style>\n",
       "<table border=\"1\" class=\"dataframe\">\n",
       "  <thead>\n",
       "    <tr style=\"text-align: right;\">\n",
       "      <th></th>\n",
       "      <th>duration</th>\n",
       "      <th>src_bytes</th>\n",
       "      <th>dst_bytes</th>\n",
       "      <th>land</th>\n",
       "      <th>wrong_fragment</th>\n",
       "      <th>urgent</th>\n",
       "      <th>hot</th>\n",
       "      <th>num_failed_logins</th>\n",
       "      <th>logged_in</th>\n",
       "      <th>num_compromised</th>\n",
       "      <th>...</th>\n",
       "      <th>service_telnet</th>\n",
       "      <th>service_tftp_u</th>\n",
       "      <th>service_tim_i</th>\n",
       "      <th>service_time</th>\n",
       "      <th>service_urh_i</th>\n",
       "      <th>service_urp_i</th>\n",
       "      <th>service_uucp</th>\n",
       "      <th>service_uucp_path</th>\n",
       "      <th>service_vmnet</th>\n",
       "      <th>service_whois</th>\n",
       "    </tr>\n",
       "  </thead>\n",
       "  <tbody>\n",
       "    <tr>\n",
       "      <th>0</th>\n",
       "      <td>-0.155534</td>\n",
       "      <td>-0.021988</td>\n",
       "      <td>-0.096896</td>\n",
       "      <td>-0.017624</td>\n",
       "      <td>-0.059104</td>\n",
       "      <td>-0.019459</td>\n",
       "      <td>-0.113521</td>\n",
       "      <td>-0.143999</td>\n",
       "      <td>-0.890373</td>\n",
       "      <td>-0.016494</td>\n",
       "      <td>...</td>\n",
       "      <td>0</td>\n",
       "      <td>0</td>\n",
       "      <td>0</td>\n",
       "      <td>0</td>\n",
       "      <td>0</td>\n",
       "      <td>0</td>\n",
       "      <td>0</td>\n",
       "      <td>0</td>\n",
       "      <td>0</td>\n",
       "      <td>0</td>\n",
       "    </tr>\n",
       "    <tr>\n",
       "      <th>1</th>\n",
       "      <td>-0.155534</td>\n",
       "      <td>-0.021988</td>\n",
       "      <td>-0.096896</td>\n",
       "      <td>-0.017624</td>\n",
       "      <td>-0.059104</td>\n",
       "      <td>-0.019459</td>\n",
       "      <td>-0.113521</td>\n",
       "      <td>-0.143999</td>\n",
       "      <td>-0.890373</td>\n",
       "      <td>-0.016494</td>\n",
       "      <td>...</td>\n",
       "      <td>0</td>\n",
       "      <td>0</td>\n",
       "      <td>0</td>\n",
       "      <td>0</td>\n",
       "      <td>0</td>\n",
       "      <td>0</td>\n",
       "      <td>0</td>\n",
       "      <td>0</td>\n",
       "      <td>0</td>\n",
       "      <td>0</td>\n",
       "    </tr>\n",
       "    <tr>\n",
       "      <th>2</th>\n",
       "      <td>-0.154113</td>\n",
       "      <td>0.005473</td>\n",
       "      <td>-0.096896</td>\n",
       "      <td>-0.017624</td>\n",
       "      <td>-0.059104</td>\n",
       "      <td>-0.019459</td>\n",
       "      <td>-0.113521</td>\n",
       "      <td>-0.143999</td>\n",
       "      <td>-0.890373</td>\n",
       "      <td>-0.016494</td>\n",
       "      <td>...</td>\n",
       "      <td>0</td>\n",
       "      <td>0</td>\n",
       "      <td>0</td>\n",
       "      <td>0</td>\n",
       "      <td>0</td>\n",
       "      <td>0</td>\n",
       "      <td>0</td>\n",
       "      <td>0</td>\n",
       "      <td>0</td>\n",
       "      <td>0</td>\n",
       "    </tr>\n",
       "    <tr>\n",
       "      <th>3</th>\n",
       "      <td>-0.155534</td>\n",
       "      <td>-0.021946</td>\n",
       "      <td>-0.096896</td>\n",
       "      <td>-0.017624</td>\n",
       "      <td>-0.059104</td>\n",
       "      <td>-0.019459</td>\n",
       "      <td>-0.113521</td>\n",
       "      <td>-0.143999</td>\n",
       "      <td>-0.890373</td>\n",
       "      <td>-0.016494</td>\n",
       "      <td>...</td>\n",
       "      <td>0</td>\n",
       "      <td>0</td>\n",
       "      <td>0</td>\n",
       "      <td>0</td>\n",
       "      <td>0</td>\n",
       "      <td>0</td>\n",
       "      <td>0</td>\n",
       "      <td>0</td>\n",
       "      <td>0</td>\n",
       "      <td>0</td>\n",
       "    </tr>\n",
       "    <tr>\n",
       "      <th>4</th>\n",
       "      <td>-0.154823</td>\n",
       "      <td>-0.021988</td>\n",
       "      <td>-0.096189</td>\n",
       "      <td>-0.017624</td>\n",
       "      <td>-0.059104</td>\n",
       "      <td>-0.019459</td>\n",
       "      <td>-0.113521</td>\n",
       "      <td>-0.143999</td>\n",
       "      <td>-0.890373</td>\n",
       "      <td>-0.016494</td>\n",
       "      <td>...</td>\n",
       "      <td>1</td>\n",
       "      <td>0</td>\n",
       "      <td>0</td>\n",
       "      <td>0</td>\n",
       "      <td>0</td>\n",
       "      <td>0</td>\n",
       "      <td>0</td>\n",
       "      <td>0</td>\n",
       "      <td>0</td>\n",
       "      <td>0</td>\n",
       "    </tr>\n",
       "    <tr>\n",
       "      <th>...</th>\n",
       "      <td>...</td>\n",
       "      <td>...</td>\n",
       "      <td>...</td>\n",
       "      <td>...</td>\n",
       "      <td>...</td>\n",
       "      <td>...</td>\n",
       "      <td>...</td>\n",
       "      <td>...</td>\n",
       "      <td>...</td>\n",
       "      <td>...</td>\n",
       "      <td>...</td>\n",
       "      <td>...</td>\n",
       "      <td>...</td>\n",
       "      <td>...</td>\n",
       "      <td>...</td>\n",
       "      <td>...</td>\n",
       "      <td>...</td>\n",
       "      <td>...</td>\n",
       "      <td>...</td>\n",
       "      <td>...</td>\n",
       "      <td>...</td>\n",
       "    </tr>\n",
       "    <tr>\n",
       "      <th>22539</th>\n",
       "      <td>-0.155534</td>\n",
       "      <td>-0.020309</td>\n",
       "      <td>-0.081202</td>\n",
       "      <td>-0.017624</td>\n",
       "      <td>-0.059104</td>\n",
       "      <td>-0.019459</td>\n",
       "      <td>-0.113521</td>\n",
       "      <td>-0.143999</td>\n",
       "      <td>1.123125</td>\n",
       "      <td>-0.016494</td>\n",
       "      <td>...</td>\n",
       "      <td>0</td>\n",
       "      <td>0</td>\n",
       "      <td>0</td>\n",
       "      <td>0</td>\n",
       "      <td>0</td>\n",
       "      <td>0</td>\n",
       "      <td>0</td>\n",
       "      <td>0</td>\n",
       "      <td>0</td>\n",
       "      <td>0</td>\n",
       "    </tr>\n",
       "    <tr>\n",
       "      <th>22540</th>\n",
       "      <td>-0.155534</td>\n",
       "      <td>-0.021318</td>\n",
       "      <td>-0.052690</td>\n",
       "      <td>-0.017624</td>\n",
       "      <td>-0.059104</td>\n",
       "      <td>-0.019459</td>\n",
       "      <td>-0.113521</td>\n",
       "      <td>-0.143999</td>\n",
       "      <td>1.123125</td>\n",
       "      <td>-0.016494</td>\n",
       "      <td>...</td>\n",
       "      <td>0</td>\n",
       "      <td>0</td>\n",
       "      <td>0</td>\n",
       "      <td>0</td>\n",
       "      <td>0</td>\n",
       "      <td>0</td>\n",
       "      <td>0</td>\n",
       "      <td>0</td>\n",
       "      <td>0</td>\n",
       "      <td>0</td>\n",
       "    </tr>\n",
       "    <tr>\n",
       "      <th>22541</th>\n",
       "      <td>-0.155534</td>\n",
       "      <td>0.093373</td>\n",
       "      <td>0.294926</td>\n",
       "      <td>-0.017624</td>\n",
       "      <td>-0.059104</td>\n",
       "      <td>-0.019459</td>\n",
       "      <td>2.040705</td>\n",
       "      <td>-0.143999</td>\n",
       "      <td>1.123125</td>\n",
       "      <td>0.121069</td>\n",
       "      <td>...</td>\n",
       "      <td>0</td>\n",
       "      <td>0</td>\n",
       "      <td>0</td>\n",
       "      <td>0</td>\n",
       "      <td>0</td>\n",
       "      <td>0</td>\n",
       "      <td>0</td>\n",
       "      <td>0</td>\n",
       "      <td>0</td>\n",
       "      <td>0</td>\n",
       "    </tr>\n",
       "    <tr>\n",
       "      <th>22542</th>\n",
       "      <td>-0.155534</td>\n",
       "      <td>-0.021899</td>\n",
       "      <td>-0.094917</td>\n",
       "      <td>-0.017624</td>\n",
       "      <td>-0.059104</td>\n",
       "      <td>-0.019459</td>\n",
       "      <td>-0.113521</td>\n",
       "      <td>-0.143999</td>\n",
       "      <td>-0.890373</td>\n",
       "      <td>-0.016494</td>\n",
       "      <td>...</td>\n",
       "      <td>0</td>\n",
       "      <td>0</td>\n",
       "      <td>0</td>\n",
       "      <td>0</td>\n",
       "      <td>0</td>\n",
       "      <td>0</td>\n",
       "      <td>0</td>\n",
       "      <td>0</td>\n",
       "      <td>0</td>\n",
       "      <td>0</td>\n",
       "    </tr>\n",
       "    <tr>\n",
       "      <th>22543</th>\n",
       "      <td>-0.155534</td>\n",
       "      <td>-0.021988</td>\n",
       "      <td>-0.096896</td>\n",
       "      <td>-0.017624</td>\n",
       "      <td>-0.059104</td>\n",
       "      <td>-0.019459</td>\n",
       "      <td>-0.113521</td>\n",
       "      <td>-0.143999</td>\n",
       "      <td>-0.890373</td>\n",
       "      <td>-0.016494</td>\n",
       "      <td>...</td>\n",
       "      <td>0</td>\n",
       "      <td>0</td>\n",
       "      <td>0</td>\n",
       "      <td>0</td>\n",
       "      <td>0</td>\n",
       "      <td>0</td>\n",
       "      <td>0</td>\n",
       "      <td>0</td>\n",
       "      <td>0</td>\n",
       "      <td>0</td>\n",
       "    </tr>\n",
       "  </tbody>\n",
       "</table>\n",
       "<p>22544 rows × 121 columns</p>\n",
       "</div>"
      ],
      "text/plain": [
       "       duration  src_bytes  dst_bytes      land  wrong_fragment    urgent  \\\n",
       "0     -0.155534  -0.021988  -0.096896 -0.017624       -0.059104 -0.019459   \n",
       "1     -0.155534  -0.021988  -0.096896 -0.017624       -0.059104 -0.019459   \n",
       "2     -0.154113   0.005473  -0.096896 -0.017624       -0.059104 -0.019459   \n",
       "3     -0.155534  -0.021946  -0.096896 -0.017624       -0.059104 -0.019459   \n",
       "4     -0.154823  -0.021988  -0.096189 -0.017624       -0.059104 -0.019459   \n",
       "...         ...        ...        ...       ...             ...       ...   \n",
       "22539 -0.155534  -0.020309  -0.081202 -0.017624       -0.059104 -0.019459   \n",
       "22540 -0.155534  -0.021318  -0.052690 -0.017624       -0.059104 -0.019459   \n",
       "22541 -0.155534   0.093373   0.294926 -0.017624       -0.059104 -0.019459   \n",
       "22542 -0.155534  -0.021899  -0.094917 -0.017624       -0.059104 -0.019459   \n",
       "22543 -0.155534  -0.021988  -0.096896 -0.017624       -0.059104 -0.019459   \n",
       "\n",
       "            hot  num_failed_logins  logged_in  num_compromised  ...  \\\n",
       "0     -0.113521          -0.143999  -0.890373        -0.016494  ...   \n",
       "1     -0.113521          -0.143999  -0.890373        -0.016494  ...   \n",
       "2     -0.113521          -0.143999  -0.890373        -0.016494  ...   \n",
       "3     -0.113521          -0.143999  -0.890373        -0.016494  ...   \n",
       "4     -0.113521          -0.143999  -0.890373        -0.016494  ...   \n",
       "...         ...                ...        ...              ...  ...   \n",
       "22539 -0.113521          -0.143999   1.123125        -0.016494  ...   \n",
       "22540 -0.113521          -0.143999   1.123125        -0.016494  ...   \n",
       "22541  2.040705          -0.143999   1.123125         0.121069  ...   \n",
       "22542 -0.113521          -0.143999  -0.890373        -0.016494  ...   \n",
       "22543 -0.113521          -0.143999  -0.890373        -0.016494  ...   \n",
       "\n",
       "       service_telnet  service_tftp_u  service_tim_i  service_time  \\\n",
       "0                   0               0              0             0   \n",
       "1                   0               0              0             0   \n",
       "2                   0               0              0             0   \n",
       "3                   0               0              0             0   \n",
       "4                   1               0              0             0   \n",
       "...               ...             ...            ...           ...   \n",
       "22539               0               0              0             0   \n",
       "22540               0               0              0             0   \n",
       "22541               0               0              0             0   \n",
       "22542               0               0              0             0   \n",
       "22543               0               0              0             0   \n",
       "\n",
       "       service_urh_i  service_urp_i  service_uucp  service_uucp_path  \\\n",
       "0                  0              0             0                  0   \n",
       "1                  0              0             0                  0   \n",
       "2                  0              0             0                  0   \n",
       "3                  0              0             0                  0   \n",
       "4                  0              0             0                  0   \n",
       "...              ...            ...           ...                ...   \n",
       "22539              0              0             0                  0   \n",
       "22540              0              0             0                  0   \n",
       "22541              0              0             0                  0   \n",
       "22542              0              0             0                  0   \n",
       "22543              0              0             0                  0   \n",
       "\n",
       "       service_vmnet  service_whois  \n",
       "0                  0              0  \n",
       "1                  0              0  \n",
       "2                  0              0  \n",
       "3                  0              0  \n",
       "4                  0              0  \n",
       "...              ...            ...  \n",
       "22539              0              0  \n",
       "22540              0              0  \n",
       "22541              0              0  \n",
       "22542              0              0  \n",
       "22543              0              0  \n",
       "\n",
       "[22544 rows x 121 columns]"
      ]
     },
     "execution_count": 164,
     "metadata": {},
     "output_type": "execute_result"
    }
   ],
   "source": [
    "test_one_hot_data_svm_ss"
   ]
  },
  {
   "cell_type": "code",
   "execution_count": 165,
   "id": "03dedce4",
   "metadata": {},
   "outputs": [
    {
     "name": "stderr",
     "output_type": "stream",
     "text": [
      "C:\\WINDOWS\\system32\\myenv\\lib\\site-packages\\sklearn\\base.py:443: UserWarning: X has feature names, but OneClassSVM was fitted without feature names\n",
      "  warnings.warn(\n"
     ]
    }
   ],
   "source": [
    "model_svm_ss_test = joblib.load('model_svm_ss.sav')\n",
    "y_pred_svm_test_ss = model_svm_ss_test.predict(test_one_hot_data_svm_ss)"
   ]
  },
  {
   "cell_type": "code",
   "execution_count": 166,
   "id": "888040da",
   "metadata": {},
   "outputs": [
    {
     "name": "stdout",
     "output_type": "stream",
     "text": [
      "Training accuracy: 0.3598\n",
      "[[1427 8284]\n",
      " [6149 6684]]\n"
     ]
    }
   ],
   "source": [
    "y_pred_svm_test_ss = np.where(y_pred_svm_test_ss == -1, 0, y_pred_svm_test_ss)\n",
    "test_acc_svm_ss = accuracy_score(kdd_test_y['class_binary'], y_pred_svm_test_ss)\n",
    "print(\"Training accuracy: {:.4f}\".format(test_acc_svm_ss))\n",
    "cm_svm_test_ss = confusion_matrix (kdd_test_y[\"class_binary\"], y_pred_svm_test_ss)\n",
    "print(cm_svm_test_ss)"
   ]
  },
  {
   "cell_type": "code",
   "execution_count": 167,
   "id": "cf165be9",
   "metadata": {},
   "outputs": [
    {
     "data": {
      "text/plain": [
       "Text(0.5, 1.0, 'Seaborn Confusion Matrix with labels\\n\\n')"
      ]
     },
     "execution_count": 167,
     "metadata": {},
     "output_type": "execute_result"
    },
    {
     "data": {
      "text/plain": [
       "Text(0.5, 15.0, '\\nPredicted Values')"
      ]
     },
     "execution_count": 167,
     "metadata": {},
     "output_type": "execute_result"
    },
    {
     "data": {
      "text/plain": [
       "Text(33.0, 0.5, 'Actual Values ')"
      ]
     },
     "execution_count": 167,
     "metadata": {},
     "output_type": "execute_result"
    },
    {
     "data": {
      "text/plain": [
       "[Text(0.5, 0, 'False'), Text(1.5, 0, 'True')]"
      ]
     },
     "execution_count": 167,
     "metadata": {},
     "output_type": "execute_result"
    },
    {
     "data": {
      "text/plain": [
       "[Text(0, 0.5, 'False'), Text(0, 1.5, 'True')]"
      ]
     },
     "execution_count": 167,
     "metadata": {},
     "output_type": "execute_result"
    },
    {
     "data": {
      "image/png": "[encoded data removed]",
      "text/plain": [
       "<Figure size 432x288 with 2 Axes>"
      ]
     },
     "metadata": {
      "needs_background": "light"
     },
     "output_type": "display_data"
    },
    {
     "name": "stdout",
     "output_type": "stream",
     "text": [
      "Precision:  0.4465526456440406\n",
      "Recall 0.520844697264864\n"
     ]
    }
   ],
   "source": [
    "ax = sns.heatmap(cm_svm_test_ss, annot=True, cmap='Blues')\n",
    "\n",
    "ax.set_title('Seaborn Confusion Matrix with labels\\n\\n');\n",
    "ax.set_xlabel('\\nPredicted Values')\n",
    "ax.set_ylabel('Actual Values ');\n",
    "\n",
    "## Ticket labels - List must be in alphabetical order\n",
    "ax.xaxis.set_ticklabels(['False','True'])\n",
    "ax.yaxis.set_ticklabels(['False','True'])\n",
    "\n",
    "## Display the visualization of the Confusion Matrix.\n",
    "plt.show()\n",
    "\n",
    "\n",
    "## FP,FN,TP,TN\n",
    "TN_svm = cm_svm_test_ss[0][0]\n",
    "FN_svm = cm_svm_test_ss[1][0]\n",
    "FP_svm = cm_svm_test_ss[0][1]\n",
    "TP_svm = cm_svm_test_ss[1][1]\n",
    "\n",
    "\n",
    "##Precision and Recall\n",
    "Precision_svm_test_ss = TP_svm/(TP_svm+FP_svm)\n",
    "Recall_svm_test_ss = TP_svm/(TP_svm+FN_svm)\n",
    "\n",
    "print (\"Precision: \",Precision_svm_test_ss)\n",
    "print (\"Recall\",Recall_svm_test_ss)"
   ]
  },
  {
   "cell_type": "markdown",
   "id": "d88e8de2",
   "metadata": {},
   "source": [
    "# OCSVM Testing with PCA"
   ]
  },
  {
   "cell_type": "code",
   "execution_count": 168,
   "id": "c85a6f45",
   "metadata": {},
   "outputs": [
    {
     "name": "stdout",
     "output_type": "stream",
     "text": [
      "Training accuracy: 0.5952\n",
      "[[5659 4052]\n",
      " [5074 7759]]\n"
     ]
    }
   ],
   "source": [
    "model_svm = joblib.load('model_svm_pca.sav')\n",
    "y_pred_svm_test = model_svm.predict(test_one_hot_data_svm)\n",
    "\n",
    "y_pred_svm_test = np.where(y_pred_svm_test == -1, 0, y_pred_svm_test)\n",
    "test_acc_svm = accuracy_score(kdd_test_y['class_binary'], y_pred_svm_test)\n",
    "print(\"Training accuracy: {:.4f}\".format(test_acc_svm))\n",
    "cm_svm_test = confusion_matrix (kdd_test_y[\"class_binary\"], y_pred_svm_test)\n",
    "print(cm_svm_test)"
   ]
  },
  {
   "cell_type": "code",
   "execution_count": 169,
   "id": "8c66e8fa",
   "metadata": {},
   "outputs": [
    {
     "data": {
      "text/plain": [
       "Text(0.5, 1.0, 'Seaborn Confusion Matrix with labels\\n\\n')"
      ]
     },
     "execution_count": 169,
     "metadata": {},
     "output_type": "execute_result"
    },
    {
     "data": {
      "text/plain": [
       "Text(0.5, 15.0, '\\nPredicted Values')"
      ]
     },
     "execution_count": 169,
     "metadata": {},
     "output_type": "execute_result"
    },
    {
     "data": {
      "text/plain": [
       "Text(33.0, 0.5, 'Actual Values ')"
      ]
     },
     "execution_count": 169,
     "metadata": {},
     "output_type": "execute_result"
    },
    {
     "data": {
      "text/plain": [
       "[Text(0.5, 0, 'False'), Text(1.5, 0, 'True')]"
      ]
     },
     "execution_count": 169,
     "metadata": {},
     "output_type": "execute_result"
    },
    {
     "data": {
      "text/plain": [
       "[Text(0, 0.5, 'False'), Text(0, 1.5, 'True')]"
      ]
     },
     "execution_count": 169,
     "metadata": {},
     "output_type": "execute_result"
    },
    {
     "data": {
      "image/png": "[encoded data removed]",
      "text/plain": [
       "<Figure size 432x288 with 2 Axes>"
      ]
     },
     "metadata": {
      "needs_background": "light"
     },
     "output_type": "display_data"
    },
    {
     "name": "stdout",
     "output_type": "stream",
     "text": [
      "Precision:  0.6569299805266278\n",
      "Recall 0.6046131068339438\n"
     ]
    }
   ],
   "source": [
    "ax = sns.heatmap(cm_svm_test, annot=True, cmap='Blues')\n",
    "\n",
    "ax.set_title('Seaborn Confusion Matrix with labels\\n\\n');\n",
    "ax.set_xlabel('\\nPredicted Values')\n",
    "ax.set_ylabel('Actual Values ');\n",
    "\n",
    "## Ticket labels - List must be in alphabetical order\n",
    "ax.xaxis.set_ticklabels(['False','True'])\n",
    "ax.yaxis.set_ticklabels(['False','True'])\n",
    "\n",
    "## Display the visualization of the Confusion Matrix.\n",
    "plt.show()\n",
    "\n",
    "\n",
    "## FP,FN,TP,TN\n",
    "TN_svm = cm_svm_test[0][0]\n",
    "FN_svm = cm_svm_test[1][0]\n",
    "FP_svm = cm_svm_test[0][1]\n",
    "TP_svm = cm_svm_test[1][1]\n",
    "\n",
    "\n",
    "##Precision and Recall\n",
    "Precision_svm_test = TP_svm/(TP_svm+FP_svm)\n",
    "Recall_svm_test = TP_svm/(TP_svm+FN_svm)\n",
    "\n",
    "print (\"Precision: \",Precision_svm_test)\n",
    "print (\"Recall\",Recall_svm_test)"
   ]
  },
  {
   "cell_type": "markdown",
   "id": "4db845d9",
   "metadata": {},
   "source": [
    "# Kmean Cluster Testing (Without PCA)"
   ]
  },
  {
   "cell_type": "code",
   "execution_count": 170,
   "id": "b4b85e62",
   "metadata": {},
   "outputs": [],
   "source": [
    "#test_one_hot_data_kmean_ss = test_one_hot_data_ss\n",
    "test_one_hot_data_kmean_ss = test_one_hot_data_ss.drop(['p-value'],axis=1)"
   ]
  },
  {
   "cell_type": "code",
   "execution_count": 171,
   "id": "92559cb6",
   "metadata": {},
   "outputs": [],
   "source": [
    "kmean_ss = joblib.load('kmean_ss.sav')"
   ]
  },
  {
   "cell_type": "code",
   "execution_count": 172,
   "id": "41470c45",
   "metadata": {},
   "outputs": [
    {
     "name": "stderr",
     "output_type": "stream",
     "text": [
      "C:\\WINDOWS\\system32\\myenv\\lib\\site-packages\\sklearn\\base.py:443: UserWarning: X has feature names, but KMeans was fitted without feature names\n",
      "  warnings.warn(\n"
     ]
    }
   ],
   "source": [
    "kmean_test_result_ss = kmean_ss.predict(test_one_hot_data_kmean_ss)"
   ]
  },
  {
   "cell_type": "code",
   "execution_count": 173,
   "id": "03adb5ad",
   "metadata": {},
   "outputs": [],
   "source": [
    "kmean_test_result_ss_c = kmean_test_result_ss"
   ]
  },
  {
   "cell_type": "code",
   "execution_count": 174,
   "id": "60e74a0b",
   "metadata": {},
   "outputs": [],
   "source": [
    "count_1 = np.count_nonzero(kmean_test_result_ss==1)\n",
    "count_0 = kmean_test_result_ss.shape[0] - np.count_nonzero(kmean_test_result_ss==1)"
   ]
  },
  {
   "cell_type": "code",
   "execution_count": 175,
   "id": "0bbb917e",
   "metadata": {},
   "outputs": [
    {
     "data": {
      "text/plain": [
       "2574"
      ]
     },
     "execution_count": 175,
     "metadata": {},
     "output_type": "execute_result"
    },
    {
     "data": {
      "text/plain": [
       "19970"
      ]
     },
     "execution_count": 175,
     "metadata": {},
     "output_type": "execute_result"
    },
    {
     "data": {
      "text/plain": [
       "array([0, 0, 0, ..., 0, 0, 0])"
      ]
     },
     "execution_count": 175,
     "metadata": {},
     "output_type": "execute_result"
    }
   ],
   "source": [
    "count_1\n",
    "count_0 \n",
    "kmean_test_result_ss_c"
   ]
  },
  {
   "cell_type": "code",
   "execution_count": 176,
   "id": "7f2ca3f0",
   "metadata": {},
   "outputs": [],
   "source": [
    "#if 1 > 0, then change 1 to 0 and 0 to 1\n",
    "# if(count_1 > count_0):\n",
    "kmean_test_result_ss = np.where(kmean_test_result_ss_c ==1, 0, kmean_test_result_ss)\n",
    "kmean_test_result_ss = np.where(kmean_test_result_ss_c ==0, 1, kmean_test_result_ss)"
   ]
  },
  {
   "cell_type": "code",
   "execution_count": 177,
   "id": "9361d926",
   "metadata": {},
   "outputs": [
    {
     "name": "stdout",
     "output_type": "stream",
     "text": [
      "Training accuracy: 0.4569\n",
      "[[   21  9690]\n",
      " [ 2553 10280]]\n"
     ]
    }
   ],
   "source": [
    "test_acc_kmean_ss = accuracy_score(kdd_test_y['class_binary'], kmean_test_result_ss)\n",
    "print(\"Training accuracy: {:.4f}\".format(test_acc_kmean_ss))\n",
    "cm_kmean_test_ss = confusion_matrix (kdd_test_y[\"class_binary\"], kmean_test_result_ss)\n",
    "print(cm_kmean_test_ss)"
   ]
  },
  {
   "cell_type": "code",
   "execution_count": 178,
   "id": "72509b41",
   "metadata": {},
   "outputs": [
    {
     "data": {
      "text/plain": [
       "Text(0.5, 1.0, 'Seaborn Confusion Matrix with labels\\n\\n')"
      ]
     },
     "execution_count": 178,
     "metadata": {},
     "output_type": "execute_result"
    },
    {
     "data": {
      "text/plain": [
       "Text(0.5, 15.0, '\\nPredicted Values')"
      ]
     },
     "execution_count": 178,
     "metadata": {},
     "output_type": "execute_result"
    },
    {
     "data": {
      "text/plain": [
       "Text(33.0, 0.5, 'Actual Values ')"
      ]
     },
     "execution_count": 178,
     "metadata": {},
     "output_type": "execute_result"
    },
    {
     "data": {
      "text/plain": [
       "[Text(0.5, 0, 'False'), Text(1.5, 0, 'True')]"
      ]
     },
     "execution_count": 178,
     "metadata": {},
     "output_type": "execute_result"
    },
    {
     "data": {
      "text/plain": [
       "[Text(0, 0.5, 'False'), Text(0, 1.5, 'True')]"
      ]
     },
     "execution_count": 178,
     "metadata": {},
     "output_type": "execute_result"
    },
    {
     "data": {
      "image/png": "[encoded data removed]",
      "text/plain": [
       "<Figure size 432x288 with 2 Axes>"
      ]
     },
     "metadata": {
      "needs_background": "light"
     },
     "output_type": "display_data"
    },
    {
     "name": "stdout",
     "output_type": "stream",
     "text": [
      "Precision:  0.514772158237356\n",
      "Recall 0.8010597677861763\n"
     ]
    }
   ],
   "source": [
    "    ax = sns.heatmap(cm_kmean_test_ss, annot=True, cmap='Blues')\n",
    "\n",
    "    ax.set_title('Seaborn Confusion Matrix with labels\\n\\n');\n",
    "    ax.set_xlabel('\\nPredicted Values')\n",
    "    ax.set_ylabel('Actual Values ');\n",
    "\n",
    "    ## Ticket labels - List must be in alphabetical order\n",
    "    ax.xaxis.set_ticklabels(['False','True'])\n",
    "    ax.yaxis.set_ticklabels(['False','True'])\n",
    "\n",
    "    ## Display the visualization of the Confusion Matrix.\n",
    "    plt.show()\n",
    "\n",
    "\n",
    "    ## FP,FN,TP,TN\n",
    "    TN_kmean = cm_kmean_test_ss[0][0]\n",
    "    FN_kmean = cm_kmean_test_ss[1][0]\n",
    "    FP_kmean = cm_kmean_test_ss[0][1]\n",
    "    TP_kmean = cm_kmean_test_ss[1][1]\n",
    "\n",
    "\n",
    "    ##Precision and Recall\n",
    "    Precision_kmean_test_ss = TP_kmean/(TP_kmean+FP_kmean)\n",
    "    Recall_kmean_test_ss = TP_kmean/(TP_kmean+FN_kmean)\n",
    "\n",
    "    print (\"Precision: \",Precision_kmean_test_ss)\n",
    "    print (\"Recall\",Recall_kmean_test_ss)"
   ]
  },
  {
   "cell_type": "markdown",
   "id": "8bcdfc41",
   "metadata": {},
   "source": [
    "# Kmean Clustering Testing (With PCA)"
   ]
  },
  {
   "cell_type": "code",
   "execution_count": 179,
   "id": "51e003f1",
   "metadata": {},
   "outputs": [],
   "source": [
    "kmean_pca = KMeans(n_clusters = 2)"
   ]
  },
  {
   "cell_type": "code",
   "execution_count": 180,
   "id": "1f7284a3",
   "metadata": {},
   "outputs": [],
   "source": [
    "#test_one_hot_data_kmean = test_one_hot_data_pca\n",
    "test_one_hot_data_kmean = test_one_hot_data_pca.drop(['p-value'],axis=1)"
   ]
  },
  {
   "cell_type": "code",
   "execution_count": 181,
   "id": "5f99d034",
   "metadata": {},
   "outputs": [],
   "source": [
    "kmean_pca = joblib.load('kmean.sav')"
   ]
  },
  {
   "cell_type": "code",
   "execution_count": 182,
   "id": "647b49ef",
   "metadata": {},
   "outputs": [],
   "source": [
    "#kmean_pca.fit(test_one_hot_data_kmean)\n",
    "\n",
    "kmean_test_result = kmean_pca.predict(test_one_hot_data_kmean)\n",
    "kmean_test_result_c = kmean_test_result"
   ]
  },
  {
   "cell_type": "code",
   "execution_count": 183,
   "id": "ab88c89e",
   "metadata": {},
   "outputs": [
    {
     "data": {
      "text/plain": [
       "11731"
      ]
     },
     "execution_count": 183,
     "metadata": {},
     "output_type": "execute_result"
    },
    {
     "data": {
      "text/plain": [
       "10813"
      ]
     },
     "execution_count": 183,
     "metadata": {},
     "output_type": "execute_result"
    }
   ],
   "source": [
    "count_1 = np.count_nonzero(kmean_test_result==1)\n",
    "count_0 = kmean_test_result.shape[0] - np.count_nonzero(kmean_test_result==1)\n",
    "count_1 \n",
    "count_0"
   ]
  },
  {
   "cell_type": "code",
   "execution_count": 184,
   "id": "a7fb6ae8",
   "metadata": {},
   "outputs": [
    {
     "data": {
      "text/plain": [
       "array([0, 0, 1, ..., 1, 0, 0])"
      ]
     },
     "execution_count": 184,
     "metadata": {},
     "output_type": "execute_result"
    }
   ],
   "source": [
    "kmean_test_result"
   ]
  },
  {
   "cell_type": "code",
   "execution_count": 185,
   "id": "616890f1",
   "metadata": {},
   "outputs": [],
   "source": [
    "\n",
    "kmean_test_result = np.where(kmean_test_result_c ==1, 0, kmean_test_result)\n",
    "kmean_test_result = np.where(kmean_test_result_c ==0, 1, kmean_test_result)"
   ]
  },
  {
   "cell_type": "code",
   "execution_count": 186,
   "id": "752abea6",
   "metadata": {},
   "outputs": [
    {
     "data": {
      "text/plain": [
       "array([1, 1, 0, ..., 0, 1, 1])"
      ]
     },
     "execution_count": 186,
     "metadata": {},
     "output_type": "execute_result"
    },
    {
     "data": {
      "text/plain": [
       "array([0, 0, 1, ..., 1, 0, 0])"
      ]
     },
     "execution_count": 186,
     "metadata": {},
     "output_type": "execute_result"
    }
   ],
   "source": [
    "kmean_test_result\n",
    "kmean_test_result_c"
   ]
  },
  {
   "cell_type": "code",
   "execution_count": 187,
   "id": "d5cfce89",
   "metadata": {},
   "outputs": [
    {
     "name": "stdout",
     "output_type": "stream",
     "text": [
      "Training accuracy: 0.7488\n",
      "[[7889 1822]\n",
      " [3842 8991]]\n"
     ]
    }
   ],
   "source": [
    "test_acc_kmean = accuracy_score(kdd_test_y['class_binary'], kmean_test_result)\n",
    "print(\"Training accuracy: {:.4f}\".format(test_acc_kmean))\n",
    "cm_kmean_test = confusion_matrix (kdd_test_y[\"class_binary\"], kmean_test_result)\n",
    "print(cm_kmean_test)"
   ]
  },
  {
   "cell_type": "code",
   "execution_count": 188,
   "id": "973d5c53",
   "metadata": {},
   "outputs": [
    {
     "data": {
      "text/plain": [
       "Text(0.5, 1.0, 'Seaborn Confusion Matrix with labels\\n\\n')"
      ]
     },
     "execution_count": 188,
     "metadata": {},
     "output_type": "execute_result"
    },
    {
     "data": {
      "text/plain": [
       "Text(0.5, 15.0, '\\nPredicted Values')"
      ]
     },
     "execution_count": 188,
     "metadata": {},
     "output_type": "execute_result"
    },
    {
     "data": {
      "text/plain": [
       "Text(33.0, 0.5, 'Actual Values ')"
      ]
     },
     "execution_count": 188,
     "metadata": {},
     "output_type": "execute_result"
    },
    {
     "data": {
      "text/plain": [
       "[Text(0.5, 0, 'False'), Text(1.5, 0, 'True')]"
      ]
     },
     "execution_count": 188,
     "metadata": {},
     "output_type": "execute_result"
    },
    {
     "data": {
      "text/plain": [
       "[Text(0, 0.5, 'False'), Text(0, 1.5, 'True')]"
      ]
     },
     "execution_count": 188,
     "metadata": {},
     "output_type": "execute_result"
    },
    {
     "data": {
      "image/png": "[encoded data removed]",
      "text/plain": [
       "<Figure size 432x288 with 2 Axes>"
      ]
     },
     "metadata": {
      "needs_background": "light"
     },
     "output_type": "display_data"
    },
    {
     "name": "stdout",
     "output_type": "stream",
     "text": [
      "Precision:  0.8314991214279108\n",
      "Recall 0.7006156004052053\n"
     ]
    }
   ],
   "source": [
    "    ax = sns.heatmap(cm_kmean_test, annot=True, cmap='Blues')\n",
    "\n",
    "    ax.set_title('Seaborn Confusion Matrix with labels\\n\\n');\n",
    "    ax.set_xlabel('\\nPredicted Values')\n",
    "    ax.set_ylabel('Actual Values ');\n",
    "\n",
    "    ## Ticket labels - List must be in alphabetical order\n",
    "    ax.xaxis.set_ticklabels(['False','True'])\n",
    "    ax.yaxis.set_ticklabels(['False','True'])\n",
    "\n",
    "    ## Display the visualization of the Confusion Matrix.\n",
    "    plt.show()\n",
    "\n",
    "\n",
    "    ## FP,FN,TP,TN\n",
    "    TN_kmean = cm_kmean_test[0][0]\n",
    "    FN_kmean = cm_kmean_test[1][0]\n",
    "    FP_kmean = cm_kmean_test[0][1]\n",
    "    TP_kmean = cm_kmean_test[1][1]\n",
    "\n",
    "\n",
    "    ##Precision and Recall\n",
    "    Precision_kmean_test = TP_kmean/(TP_kmean+FP_kmean)\n",
    "    Recall_kmean_test = TP_kmean/(TP_kmean+FN_kmean)\n",
    "\n",
    "    print (\"Precision: \",Precision_kmean_test)\n",
    "    print (\"Recall\",Recall_kmean_test)"
   ]
  },
  {
   "cell_type": "markdown",
   "id": "b408a4b9",
   "metadata": {},
   "source": [
    "# MCD Testing Without PCA"
   ]
  },
  {
   "cell_type": "code",
   "execution_count": 189,
   "id": "3ccee90a",
   "metadata": {},
   "outputs": [],
   "source": [
    "test_one_hot_data_mcd_ss = test_one_hot_data_ss.drop(['p-value'],axis=1)\n",
    "model_mcd_ss = joblib.load('model_mcd_ss.sav')"
   ]
  },
  {
   "cell_type": "code",
   "execution_count": 190,
   "id": "b446bca2",
   "metadata": {},
   "outputs": [],
   "source": [
    "# correct_cov = model_mcd_ss.correct_covariance(test_one_hot_data_mcd_ss)\n",
    "# correct_cov\n",
    "#model_mcd_ss = MinCovDet(random_state=42).fit(test_one_hot_data_mcd_ss)\n",
    "\n",
    "\n",
    "#model_mcd_ss.covariance_"
   ]
  },
  {
   "cell_type": "code",
   "execution_count": 191,
   "id": "6888c3cb",
   "metadata": {},
   "outputs": [],
   "source": [
    "#np.mean(data_array_test_ss,axis = 0)\n",
    "#sp.linalg.pinv(np.cov(data_array_test_ss, rowvar=False))\n",
    "#inv_cormat_mcd_ss_test = sp.linalg.pinv(model_mcd_ss.covariance_)\n",
    "#mu_vect_mcd_ss_test = model_mcd_ss.location_"
   ]
  },
  {
   "cell_type": "code",
   "execution_count": 192,
   "id": "3527861f",
   "metadata": {},
   "outputs": [
    {
     "data": {
      "text/plain": [
       "22544"
      ]
     },
     "execution_count": 192,
     "metadata": {},
     "output_type": "execute_result"
    }
   ],
   "source": [
    "data_array_test_ss_mcd.shape[0]"
   ]
  },
  {
   "cell_type": "code",
   "execution_count": 193,
   "id": "8fb97689",
   "metadata": {},
   "outputs": [
    {
     "data": {
      "text/plain": [
       "array([[-0.11024922, -0.0076786 , -0.00491864, ...,  0.        ,\n",
       "         0.        ,  0.        ],\n",
       "       [-0.11024922, -0.00773737, -0.00491864, ...,  0.        ,\n",
       "         0.        ,  0.        ],\n",
       "       [-0.11024922, -0.00776224, -0.00491864, ...,  0.        ,\n",
       "         0.        ,  0.        ],\n",
       "       ...,\n",
       "       [-0.11024922, -0.00738219, -0.00482315, ...,  0.        ,\n",
       "         0.        ,  0.        ],\n",
       "       [-0.11024922, -0.00776224, -0.00491864, ...,  0.        ,\n",
       "         0.        ,  0.        ],\n",
       "       [-0.11024922, -0.00773652, -0.00491864, ...,  0.        ,\n",
       "         0.        ,  0.        ]])"
      ]
     },
     "execution_count": 193,
     "metadata": {},
     "output_type": "execute_result"
    }
   ],
   "source": [
    "data_array_ss"
   ]
  },
  {
   "cell_type": "code",
   "execution_count": 194,
   "id": "b79f01b5",
   "metadata": {},
   "outputs": [],
   "source": [
    "mahal_dist_test_ss = []\n",
    "for i in range(data_array_test_ss_mcd.shape[0]):\n",
    "    x_minus_mu_mcd_ss_test = data_array_test_ss_mcd[i,:] - mu_vect_mcd_ss\n",
    "    left_term_mcd_ss_test = np.dot(x_minus_mu_mcd_ss_test, inv_cormat_mcd_ss)\n",
    "    mahal = np.dot(left_term_mcd_ss_test, x_minus_mu_mcd_ss_test.T)\n",
    "    mahal = np.sqrt(mahal)\n",
    "    mahal_dist_test_ss.append(mahal)"
   ]
  },
  {
   "cell_type": "code",
   "execution_count": 195,
   "id": "03e60336",
   "metadata": {},
   "outputs": [
    {
     "data": {
      "text/plain": [
       "[1564.9815283202263,\n",
       " 1564.9690320615437,\n",
       " 1553.8987290180685,\n",
       " 1561.2168596278225,\n",
       " 5274.8306765447,\n",
       " 645.4163473518018,\n",
       " 518.1475422473976,\n",
       " 1558.8280989893565,\n",
       " 399.2491784556383,\n",
       " 1560.7457877388947,\n",
       " 1579.0403418140052,\n",
       " 423.44803496516533,\n",
       " 1564.9627858427673,\n",
       " 2026.5875074146732,\n",
       " 14923.832581418632,\n",
       " 396.8321821090431,\n",
       " 403.5981655159003,\n",
       " 397.3314342312022,\n",
       " 1560.8223859992613,\n",
       " 1564.9724660582137,\n",
       " 1564.9629122956806,\n",
       " 2027.4917089625244,\n",
       " 400.0559070400743,\n",
       " 396.0235656491397,\n",
       " 1564.9651327752574,\n",
       " 1418.329323214711,\n",
       " 432.93632644826863,\n",
       " 400.78587565534457,\n",
       " 1554.8776862357895,\n",
       " 1560.6826577675974,\n",
       " 5148.8070781938095,\n",
       " 381.6867594427349,\n",
       " 827.050505596033,\n",
       " 1561.999990156944,\n",
       " 2493.363758486806,\n",
       " 1565.5904924464332,\n",
       " 596.2446861367769,\n",
       " 399.9606231952009,\n",
       " 1560.7065314316842,\n",
       " 4756.250777623743,\n",
       " 2027.0752396346797,\n",
       " 412.55686910482456,\n",
       " 470.54708189265244,\n",
       " 395.5162364669687,\n",
       " 1418.450715027415,\n",
       " 400.5401149136358,\n",
       " 2027.1038000780748,\n",
       " 2699.5022972909637,\n",
       " 10089.987670996423,\n",
       " 1560.717861925416,\n",
       " 399.75569430254393,\n",
       " 413.15924677799785,\n",
       " 1564.9802590942836,\n",
       " 1564.9769391150653,\n",
       " 590.5334977887294,\n",
       " 403.80566457590413,\n",
       " 1564.9938271859273,\n",
       " 1559.7312012363923,\n",
       " 12432.46311970209,\n",
       " 401.9873305854793,\n",
       " 415.2725044196115,\n",
       " 15363.581314699542,\n",
       " 398.0285266771416,\n",
       " 480.4205644095136,\n",
       " 3633.078385574179,\n",
       " 403.63302763073744,\n",
       " 1570.1377226972454,\n",
       " 1564.9552837027375,\n",
       " 2027.0620665366616,\n",
       " 404.1441118842898,\n",
       " 1564.9726319228962,\n",
       " 418.47491009921373,\n",
       " 400.14287759698755,\n",
       " 394.13778857466633,\n",
       " 1564.989491407856,\n",
       " 405.04629081567356,\n",
       " 396.96845325734057,\n",
       " 13520.368790881452,\n",
       " 397.5311957073195,\n",
       " 400.1474796930401,\n",
       " 1686.7348424684815,\n",
       " 1564.982625226285,\n",
       " 1543.90168712371,\n",
       " 400.13869080359734,\n",
       " 399.43765214749254,\n",
       " 395.8474253741981,\n",
       " 1564.9530493530426,\n",
       " 3183.6448929755584,\n",
       " 526.2725611805428,\n",
       " 1541.6605599919294,\n",
       " 396.5543947445125,\n",
       " 395.4556967006608,\n",
       " 1564.9619931447753,\n",
       " 1635.5251793255761,\n",
       " 415.6625441449665,\n",
       " 418.2890297083361,\n",
       " 407.6455172282813,\n",
       " 1560.604366717161,\n",
       " 2028.2532838868588,\n",
       " 1564.9659880552294,\n",
       " 10508.447472481683,\n",
       " 1560.7570320374457,\n",
       " 1564.9796656274439,\n",
       " 1564.9650848460033,\n",
       " 367.5077295885202,\n",
       " 1564.9815841424938,\n",
       " 498.81292332270743,\n",
       " 399.9773947533927,\n",
       " 1564.9665666687363,\n",
       " 401.6842207991045,\n",
       " 634.9623737708525,\n",
       " 1564.9739098795385,\n",
       " 13500.437595500656,\n",
       " 13573.55760854631,\n",
       " 405.7705965761402,\n",
       " 2027.109121050672,\n",
       " 400.2601013915615,\n",
       " 1548.7646050066946,\n",
       " 1934.5431460761806,\n",
       " 1560.803576113655,\n",
       " 401.82139561877324,\n",
       " 1558.3427656200038,\n",
       " 2028.255413570447,\n",
       " 1564.9604685155525,\n",
       " 1560.3646992665879,\n",
       " 1560.6996467005558,\n",
       " 1559.1033221871376,\n",
       " 1931.7667147626382,\n",
       " 401.6556398236121,\n",
       " 1560.7963861727,\n",
       " 1560.7896046133721,\n",
       " 427.45786640938155,\n",
       " 2045.7937709141877,\n",
       " 404.1938443513333,\n",
       " 12660.944072998618,\n",
       " 399.54351444351636,\n",
       " 1564.9717811269097,\n",
       " 1560.869224436405,\n",
       " 5031.140401062533,\n",
       " 405.94452480074943,\n",
       " 395.224129385942,\n",
       " 1560.7982793590438,\n",
       " 1564.9708565147769,\n",
       " 1564.9905411663667,\n",
       " 5845.575541556719,\n",
       " 1561.3841826822072,\n",
       " 6458.3414594464175,\n",
       " 1564.962409664275,\n",
       " 481.65582835142203,\n",
       " 12510.190119659663,\n",
       " 1620.5121051873346,\n",
       " 2027.083424444043,\n",
       " 1696.8294665586423,\n",
       " 310.8317189712879,\n",
       " 403.0138804262166,\n",
       " 1564.9847192928717,\n",
       " 13660.733777797657,\n",
       " 1418.452061854363,\n",
       " 2027.0890765051342,\n",
       " 2027.0895354713791,\n",
       " 1564.9944237528637,\n",
       " 2027.0998395676381,\n",
       " 2551.066611425427,\n",
       " 1564.9783830915117,\n",
       " 577.8726040756891,\n",
       " 2027.0710954426238,\n",
       " 2027.0864631459292,\n",
       " 552.0976809169476,\n",
       " 474.4634934609368,\n",
       " 2027.0661968111592,\n",
       " 12596.045368815901,\n",
       " 1087.3040002773228,\n",
       " 1564.9916162283037,\n",
       " 1564.989416196161,\n",
       " 5748.279690526133,\n",
       " 398.9837743457286,\n",
       " 1999.3308428110392,\n",
       " 2179.869330102845,\n",
       " 1559.1737306869363,\n",
       " 239.25334589775167,\n",
       " 1554.9845800066182,\n",
       " 1560.787225094388,\n",
       " 553.2526729679728,\n",
       " 405.75011699063435,\n",
       " 1560.7604534831023,\n",
       " 415.41743234612403,\n",
       " 1564.9709558449204,\n",
       " 1564.9750084825748,\n",
       " 1560.751791333227,\n",
       " 1564.963056745256,\n",
       " 392.71376268188425,\n",
       " 12569.02990538198,\n",
       " 1564.9698381788048,\n",
       " 893.4498073772569,\n",
       " 397.13405008413275,\n",
       " 1560.6733531279597,\n",
       " 384.8259926916903,\n",
       " 1560.7525821764877,\n",
       " 1564.9743281469093,\n",
       " 1559.7123529202033,\n",
       " 4528.263350522428,\n",
       " 403.36577374005765,\n",
       " 2036.9011865315267,\n",
       " 435.93049298320324,\n",
       " 402.7736408485798,\n",
       " 2675.1461691229842,\n",
       " 1934.5344507897873,\n",
       " 2049.018254333779,\n",
       " 393.9118646466059,\n",
       " 404.13804468701824,\n",
       " 5829.8760247009395,\n",
       " 1561.2873407610568,\n",
       " 400.2961408492277,\n",
       " 397.8072502183238,\n",
       " 1560.063125322256,\n",
       " 1549.028085173076,\n",
       " 397.7707251204205,\n",
       " 1561.0314755167133,\n",
       " 398.6932609986907,\n",
       " 1560.8717689664654,\n",
       " 637.2363123252283,\n",
       " 405.0590622078154,\n",
       " 1560.6544800830939,\n",
       " 1564.9767288944572,\n",
       " 396.7746997470446,\n",
       " 2699.519953723341,\n",
       " 396.0149532715849,\n",
       " 2027.0896970076808,\n",
       " 1560.6983717602811,\n",
       " 401.87386456521597,\n",
       " 1560.6896704160902,\n",
       " 577.7471473214604,\n",
       " 1561.2813486143252,\n",
       " 2224.291878097268,\n",
       " 1418.452910265789,\n",
       " 1543.9176706894434,\n",
       " 1686.8740682060375,\n",
       " 1560.6970391631937,\n",
       " 4393.67360158401,\n",
       " 753.4997029850316,\n",
       " 349.491880673548,\n",
       " 1560.779363816493,\n",
       " 1871.2130504197114,\n",
       " 1564.9650431816392,\n",
       " 2027.074062743071,\n",
       " 406.97232913778345,\n",
       " 681.0266883055016,\n",
       " 2027.0862142122135,\n",
       " 2027.0891966510223,\n",
       " 397.23481053784104,\n",
       " 343.7589804371611,\n",
       " 334.2756074789411,\n",
       " 417.0038193585424,\n",
       " 412.2276177720175,\n",
       " 2027.0883855196314,\n",
       " 3297.9966321450584,\n",
       " 5341.363295747806,\n",
       " 408.7766349821737,\n",
       " 652.2510520721153,\n",
       " 593.2268606772827,\n",
       " 405.2830209044991,\n",
       " 1561.3153222681833,\n",
       " 400.49428895461756,\n",
       " 1564.9792372390925,\n",
       " 1564.9820160292195,\n",
       " 2027.1161174096885,\n",
       " 1560.7551024804,\n",
       " 1560.9481367030287,\n",
       " 393.455342376332,\n",
       " 1561.4300757946994,\n",
       " 1934.4864882573772,\n",
       " 397.91331990425374,\n",
       " 2027.0990539667125,\n",
       " 1574.046305860017,\n",
       " 1564.9698585447366,\n",
       " 1560.698257283526,\n",
       " 830.75371309464,\n",
       " 701.2044847824899,\n",
       " 1564.9680752828372,\n",
       " 1564.9783478897784,\n",
       " 1560.7069567041942,\n",
       " 15363.443915150396,\n",
       " 1561.2681781637905,\n",
       " 2027.5030879263254,\n",
       " 2027.114044969735,\n",
       " 404.01611240846717,\n",
       " 671.9255918515929,\n",
       " 1564.981484235335,\n",
       " 401.68242106554965,\n",
       " 2100.1774176107756,\n",
       " 912.5043590098197,\n",
       " 6845.647910126589,\n",
       " 3183.3351891582743,\n",
       " 400.0256736603478,\n",
       " 396.15347763871716,\n",
       " 1560.6833645186382,\n",
       " 538.1517209908404,\n",
       " 393.51524836416746,\n",
       " 852.9927334691013,\n",
       " 576.9049366494297,\n",
       " 1564.9793195605448,\n",
       " 2761.880172497133,\n",
       " 1559.7170230564643,\n",
       " 414.92116955981504,\n",
       " 1560.6406317425906,\n",
       " 399.74149321074265,\n",
       " 2427.2936106554216,\n",
       " 618.4874569336158,\n",
       " 1564.9765540987735,\n",
       " 2027.0777370126175,\n",
       " 3173.4162573641356,\n",
       " 397.60365666585204,\n",
       " 1560.7034663068564,\n",
       " 397.2575694769827,\n",
       " 1515.9372107785998,\n",
       " 1564.981002050713,\n",
       " 419.5819835618605,\n",
       " 405.51953269978776,\n",
       " 1564.9592546722417,\n",
       " 398.6055198454777,\n",
       " 400.38938915028274,\n",
       " 364.9850423755173,\n",
       " 398.52547485642543,\n",
       " 1564.9681611126514,\n",
       " 398.5274675108065,\n",
       " 15363.494909391224,\n",
       " 1548.77106670561,\n",
       " 1559.0690393535883,\n",
       " 437.6008550834925,\n",
       " 1564.9815225579405,\n",
       " 1564.985723613531,\n",
       " 34322.346243513006,\n",
       " 1564.9775432607591,\n",
       " 1561.6135406078872,\n",
       " 1564.9663784600693,\n",
       " 479.58575916845155,\n",
       " 407.03762987999335,\n",
       " 1560.8178111991388,\n",
       " 1564.9764109834027,\n",
       " 1810.5496742291828,\n",
       " 763.8525394306295,\n",
       " 2113.3334774598648,\n",
       " 426.78705627204175,\n",
       " 1560.703135536543,\n",
       " 2699.4884324695013,\n",
       " 1576.0400514619837,\n",
       " 5148.00423353721,\n",
       " 3572.9863359220544,\n",
       " 12717.368998986003,\n",
       " 1560.583746829751,\n",
       " 1878.5375128382336,\n",
       " 1564.9690457362694,\n",
       " 420.54426988127193,\n",
       " 400.707731616698,\n",
       " 667.0971991756052,\n",
       " 414.4493305684934,\n",
       " 422.2809089138621,\n",
       " 1560.7487988363575,\n",
       " 1560.7052072710876,\n",
       " 1564.9757155373834,\n",
       " 2440.314022393998,\n",
       " 405.7649121636285,\n",
       " 1564.968873220513,\n",
       " 411.7056400652265,\n",
       " 399.19096627957714,\n",
       " 385.94503188047844,\n",
       " 1560.673480822836,\n",
       " 3615.306145060122,\n",
       " 392.72179587260416,\n",
       " 1560.7927206314769,\n",
       " 1560.7896977144856,\n",
       " 1564.979934884735,\n",
       " 2699.4565929103137,\n",
       " 1560.0560104745348,\n",
       " 395.550988482308,\n",
       " 1564.9630242533456,\n",
       " 1558.9062713086485,\n",
       " 421.70292015419307,\n",
       " 1564.9850135559313,\n",
       " 3952.16373113512,\n",
       " 415.53389901240513,\n",
       " 13734.678157685741,\n",
       " 2027.061716740561,\n",
       " 2038.8273892736531,\n",
       " 220520.24405487682,\n",
       " 1560.6675923748144,\n",
       " 1564.997040011714,\n",
       " 362.5423414170859,\n",
       " 1520.8267944769084,\n",
       " 394.7034044436274,\n",
       " 13336.971211305909,\n",
       " 479.53274374528377,\n",
       " 1564.992833695432,\n",
       " 2056.5518994969107,\n",
       " 399.4169205154794,\n",
       " 394.6464159904407,\n",
       " 1548.752986709219,\n",
       " 399.0503032693476,\n",
       " 398.052104663235,\n",
       " 1560.6481316514287,\n",
       " 2027.0620426051385,\n",
       " 397.8791258914103,\n",
       " 415.89801001770167,\n",
       " 1564.983869601817,\n",
       " 397.5847481773922,\n",
       " 1418.5103126591878,\n",
       " 402.6004076069465,\n",
       " 1560.0564541621948,\n",
       " 12797.946396541107,\n",
       " 2027.0733567085138,\n",
       " 397.6425752032049,\n",
       " 2024.164422958862,\n",
       " 1560.6761220782296,\n",
       " 2552.605848290264,\n",
       " 398.9439554577237,\n",
       " 605.996208983365,\n",
       " 2699.429592307891,\n",
       " 1564.9818685496432,\n",
       " 295.0737624687473,\n",
       " 359.05741084845056,\n",
       " 2027.0622352547277,\n",
       " 402.17742985616644,\n",
       " 418.5032591282394,\n",
       " 1564.967648607548,\n",
       " 403.7747823012499,\n",
       " 1550.6317313684467,\n",
       " 3188.5147921654147,\n",
       " 1611.846928324952,\n",
       " 1564.9794750004698,\n",
       " 1561.2190981181539,\n",
       " 1564.9708083445644,\n",
       " 405.6267414431648,\n",
       " 322.26246521512826,\n",
       " 1561.1102655067914,\n",
       " 2162.371779612567,\n",
       " 2228.174642979514,\n",
       " 397.7308436170709,\n",
       " 9986.265366596224,\n",
       " 2380.6953207879073,\n",
       " 415.2517984591541,\n",
       " 398.9998797288096,\n",
       " 404.3159200822512,\n",
       " 425.9020207158012,\n",
       " 402.45661022237243,\n",
       " 1548.7623808675332,\n",
       " 403.22777581935384,\n",
       " 418.3043501198467,\n",
       " 1292.2603734606446,\n",
       " 1559.7089870375933,\n",
       " 2027.0747950026248,\n",
       " 1559.2969073810928,\n",
       " 3487.3184282469747,\n",
       " 1564.9750528848076,\n",
       " 1561.7358221484185,\n",
       " 1560.7707969969736,\n",
       " 499.0800329348315,\n",
       " 1999.3150061084625,\n",
       " 2027.928874380623,\n",
       " 2781.2315883838205,\n",
       " 12704.541612109642,\n",
       " 400.1816881137508,\n",
       " 2027.0714742376279,\n",
       " 549.9537149063281,\n",
       " 429.93665989580995,\n",
       " 1564.962647465555,\n",
       " 1567.1942449001417,\n",
       " 431.6328082726515,\n",
       " 394.1128748771666,\n",
       " 400.9782077152115,\n",
       " 1560.6371813571157,\n",
       " 1564.9849909025725,\n",
       " 6834.502129744735,\n",
       " 414.09074487230697,\n",
       " 2699.3879341765833,\n",
       " 563.3354348721077,\n",
       " 394.26514482998584,\n",
       " 1565.0938347196359,\n",
       " 1560.682107433035,\n",
       " 12212.799150654286,\n",
       " 399.59435358132293,\n",
       " 400.0006186715727,\n",
       " 15363.462984813339,\n",
       " 1662.8634046859315,\n",
       " 404.0303905219643,\n",
       " 2027.1162049291204,\n",
       " 1563.8364111991823,\n",
       " 13433.587530705112,\n",
       " 446.74641359591476,\n",
       " 2717.8456839758533,\n",
       " 1560.5841215066057,\n",
       " 398.06661337837966,\n",
       " 400.4972164380091,\n",
       " 407.95862626273436,\n",
       " 2027.4969035844608,\n",
       " 1418.3204371795175,\n",
       " 1561.9232144469843,\n",
       " 1561.2113343571014,\n",
       " 1560.687367749402,\n",
       " 2027.0458304584317,\n",
       " 1560.5035385847068,\n",
       " 527.8516295881466,\n",
       " 2027.0879545035632,\n",
       " 12681.327846664899,\n",
       " 1564.9720255127118,\n",
       " 2699.490221283971,\n",
       " 1548.8203805697656,\n",
       " 397.27353605764534,\n",
       " 1559.142518897188,\n",
       " 1564.9642164753295,\n",
       " 1559.7088910424418,\n",
       " 404.52767738712777,\n",
       " 928.6237418549276,\n",
       " 921.5548750473258,\n",
       " 1560.819047119021,\n",
       " 1548.7647400896053,\n",
       " 1549.0441402827835,\n",
       " 1561.394322728422,\n",
       " 5820.870115328448,\n",
       " 400.1248784957382,\n",
       " 1564.9802721931499,\n",
       " 1564.9753161394792,\n",
       " 1551.8292457378298,\n",
       " 396.69112368195425,\n",
       " 1708.4702351600583,\n",
       " 15363.465449255633,\n",
       " 1563.203247459627,\n",
       " 2027.043789820766,\n",
       " 399.63083598688854,\n",
       " 416.73290598251907,\n",
       " 348.17140430949405,\n",
       " 1567.5341804781544,\n",
       " 3403.518675459657,\n",
       " 2139.4877963618906,\n",
       " 1558.2137689771728,\n",
       " 619.1448300327736,\n",
       " 1564.9697782963813,\n",
       " 405.70202408165176,\n",
       " 675.6400207947239,\n",
       " 1560.5717620561077,\n",
       " 596.1677216231066,\n",
       " 394.4065679363788,\n",
       " 1564.9652800503495,\n",
       " 402.18586845165277,\n",
       " 409.169436466998,\n",
       " 396.5452493831825,\n",
       " 424.7629049016625,\n",
       " 224.82943495279304,\n",
       " 1564.9754907179718,\n",
       " 1563.274620790793,\n",
       " 403.3977854648413,\n",
       " 406.85069190438713,\n",
       " 1564.9840591501495,\n",
       " 4537.831615903183,\n",
       " 581.9408541158787,\n",
       " 449.45355876890517,\n",
       " 1560.6829985348866,\n",
       " 1287.9239375373286,\n",
       " 1564.9700720742696,\n",
       " 401.0149534089398,\n",
       " 1552.8480145864662,\n",
       " 444.05818079268886,\n",
       " 407.37498355596955,\n",
       " 2027.0483249632655,\n",
       " 1549.0571031459158,\n",
       " 3196.3618181683437,\n",
       " 2027.0903190946879,\n",
       " 401.54238612711777,\n",
       " 1560.8032409808861,\n",
       " 1586.09069511306,\n",
       " 1562.865361790398,\n",
       " 568.435109414849,\n",
       " 400.59800576147194,\n",
       " 2085.4489175037506,\n",
       " 404.4443767734624,\n",
       " 1559.7136160341959,\n",
       " 534.7102012536582,\n",
       " 1549.03598036102,\n",
       " 402.942461232488,\n",
       " 398.318427644097,\n",
       " 400.7581969588843,\n",
       " 1549.0253666346732,\n",
       " 400.33987584276827,\n",
       " 4389.123350755902,\n",
       " 1934.504071940265,\n",
       " 1561.268968697143,\n",
       " 397.41708217704456,\n",
       " 1559.17669256706,\n",
       " 1560.7499601308405,\n",
       " 1564.9772882200132,\n",
       " 1560.8329568874465,\n",
       " 1554.8853267223396,\n",
       " 6845.311772151966,\n",
       " 393.68958492509233,\n",
       " 5329.085745652109,\n",
       " 1562.970037557114,\n",
       " 1560.618807920392,\n",
       " 410.3277853082308,\n",
       " 2027.0919949765146,\n",
       " 90952.67108636514,\n",
       " 1567.3717392251544,\n",
       " 310.83169111568066,\n",
       " 2027.0950512005343,\n",
       " 400.87417231607776,\n",
       " 2030.0176837304446,\n",
       " 1564.9722359385864,\n",
       " 396.7034544607212,\n",
       " 2043.693198518602,\n",
       " 402.3092259460607,\n",
       " 1559.71376125911,\n",
       " 1554.8027152654681,\n",
       " 1564.984101817328,\n",
       " 1564.9625114715102,\n",
       " 418.53110332406766,\n",
       " 2027.0848903670353,\n",
       " 339.5816210949986,\n",
       " 2027.9262137030976,\n",
       " 2699.5126245003858,\n",
       " 400.9350556793459,\n",
       " 2873.6987207982934,\n",
       " 401.5316987397936,\n",
       " 1564.98937176662,\n",
       " 397.9634862304674,\n",
       " 1561.2496037902615,\n",
       " 1809.040984506952,\n",
       " 2069.656210691105,\n",
       " 1559.2686701838252,\n",
       " 1560.780466598836,\n",
       " 1564.9660270404668,\n",
       " 1565.532201379621,\n",
       " 12385.684723013277,\n",
       " 1564.972683308123,\n",
       " 1559.1887183455212,\n",
       " 2968.01723341626,\n",
       " 4399.343805756885,\n",
       " 399.83708721893765,\n",
       " 2027.0589975965677,\n",
       " 1559.4879316842064,\n",
       " 1564.968161364587,\n",
       " 393.80936468985465,\n",
       " 1564.981961810251,\n",
       " 1560.6486674560977,\n",
       " 1561.2099121170538,\n",
       " 416.18299313551165,\n",
       " 2034.6855926114058,\n",
       " 2676.546002989132,\n",
       " 1591.844512381787,\n",
       " 2027.098761017255,\n",
       " 1561.4385056191975,\n",
       " 419.0670730657943,\n",
       " 664.310684062453,\n",
       " 1564.9819879670613,\n",
       " 413.4784722171005,\n",
       " 396.4650849879891,\n",
       " 371.9552538701219,\n",
       " 394.7661876349465,\n",
       " 892.4532444034976,\n",
       " 6824.157547292374,\n",
       " 610.3602283773379,\n",
       " 394.8988799901302,\n",
       " 410.52932222331066,\n",
       " 500.0277921881265,\n",
       " 415.15237729465775,\n",
       " 1560.7572117136342,\n",
       " 405.18038770449454,\n",
       " 399.7453418556413,\n",
       " 396.05947972533596,\n",
       " 1564.983505662529,\n",
       " 2027.1132457575163,\n",
       " 415.73753123937394,\n",
       " 399.06064423621365,\n",
       " 429.78472346794143,\n",
       " 1563.2846986503546,\n",
       " 3384.3003057726,\n",
       " 1563.106697689641,\n",
       " 338.1823571855186,\n",
       " 399.2771624619796,\n",
       " 1560.6874838411527,\n",
       " 12145.78863991885,\n",
       " 413.8372170782531,\n",
       " 13687.723181873173,\n",
       " 1561.074294129532,\n",
       " 400.1597858653793,\n",
       " 2027.084490016458,\n",
       " 1554.960446868813,\n",
       " 1543.93598248367,\n",
       " 1560.7178486633752,\n",
       " 4490.35402958784,\n",
       " 1564.9742620078766,\n",
       " 401.61744635705065,\n",
       " 3050.8477054919645,\n",
       " 394.9901573610876,\n",
       " 1548.8395388606584,\n",
       " 399.9915539626961,\n",
       " 393.3508386419647,\n",
       " 404.282975393138,\n",
       " 417.0805533734351,\n",
       " 2027.0711853606017,\n",
       " 1609.987232240089,\n",
       " 1564.962403560839,\n",
       " 1560.6991259768931,\n",
       " 2027.4903073166015,\n",
       " 15363.481609533721,\n",
       " 1564.9648383833528,\n",
       " 1559.9891237765153,\n",
       " 395.6099009777132,\n",
       " 572.5792106770134,\n",
       " 2027.0934679031816,\n",
       " 407.64615669123725,\n",
       " 1934.4925730758298,\n",
       " 3672.1586705133186,\n",
       " 399.9915571043638,\n",
       " 775.8581092979537,\n",
       " 2552.588575997244,\n",
       " 1564.969434820399,\n",
       " 2027.077469875947,\n",
       " 1563.816783703162,\n",
       " 1560.9736722156804,\n",
       " 2027.0689234064578,\n",
       " 1584.3521496825347,\n",
       " 399.12375359556296,\n",
       " 1563.5590960403051,\n",
       " 1560.6450871187108,\n",
       " 1560.7008612128036,\n",
       " 407.0219953231633,\n",
       " 1545.0095599563222,\n",
       " 1548.7718111361016,\n",
       " 1561.3957399631638,\n",
       " 2027.4905070595114,\n",
       " 1558.8895637791743,\n",
       " 393.50081467187204,\n",
       " 394.6232594395473,\n",
       " 1548.7523864491052,\n",
       " 1559.710812819938,\n",
       " 410.0519090088818,\n",
       " 1531.017779665914,\n",
       " 2180.0669163643724,\n",
       " 1560.572236292498,\n",
       " 1561.0481581439208,\n",
       " 7492.23638825789,\n",
       " 1934.5022337076593,\n",
       " 366.3637039742996,\n",
       " 302.25677046980894,\n",
       " 2699.1027784687362,\n",
       " 396.07809038488824,\n",
       " 405.64032983750946,\n",
       " 378.8490430706736,\n",
       " 399.9161571321824,\n",
       " 404.40064350401985,\n",
       " 1559.3634169580369,\n",
       " 409.4107254932921,\n",
       " 1564.9642456701868,\n",
       " 1549.0478802974762,\n",
       " 2031.6139091232717,\n",
       " 1560.6237982714322,\n",
       " 6902.658300039783,\n",
       " 399.581570538385,\n",
       " 1560.5876609906816,\n",
       " 541.8391923619828,\n",
       " 2693.60694243075,\n",
       " 399.23930022235635,\n",
       " 400.8730072585941,\n",
       " 15363.483742054874,\n",
       " 1560.7929669347002,\n",
       " 1319.2526845185243,\n",
       " 336.92807592481654,\n",
       " 12460.547203315777,\n",
       " 1686.7188342706836,\n",
       " 1560.785090620101,\n",
       " 394.3809409541427,\n",
       " 1596.0964523574487,\n",
       " 2027.1042601508093,\n",
       " 1560.626157673497,\n",
       " 15363.396587989486,\n",
       " 1802.5954137387628,\n",
       " 1676.9981901485903,\n",
       " 414.69869112529904,\n",
       " 401.10981398951213,\n",
       " 1564.9658218087955,\n",
       " 1564.9859018645898,\n",
       " 1560.7771490143632,\n",
       " 348.11580095117876,\n",
       " 1564.96509881146,\n",
       " 2027.1084946369326,\n",
       " 393.8602889985098,\n",
       " 1346.9568700341345,\n",
       " 398.4308568035357,\n",
       " 1200.068295545183,\n",
       " 4584.221014666476,\n",
       " 398.10256601411834,\n",
       " 1549.0977869097176,\n",
       " 3429.2191331313256,\n",
       " 418.2140211342174,\n",
       " 1561.2666805869399,\n",
       " 336.5013662788141,\n",
       " 1912.323927431146,\n",
       " 425.4143733079775,\n",
       " 415.9850098369169,\n",
       " 404.9071386546792,\n",
       " 4415.727662826786,\n",
       " 4027.286940565531,\n",
       " 402.76643244588035,\n",
       " 1564.966930949013,\n",
       " 403.0504654617876,\n",
       " 1564.983464762136,\n",
       " 455.5841353326103,\n",
       " 12731.589528721477,\n",
       " 1516.6030194611556,\n",
       " 399.7040081620051,\n",
       " 12138.299640874506,\n",
       " 1564.9998594396877,\n",
       " 2087.961382908042,\n",
       " 2380.672073791404,\n",
       " 13447.859740264203,\n",
       " 401.66953603226443,\n",
       " 1561.2976062448777,\n",
       " 416.221604225936,\n",
       " 401.9344604111784,\n",
       " 1922.5561934530267,\n",
       " 402.80580334759424,\n",
       " 398.9295312490055,\n",
       " 1564.9731736514107,\n",
       " 1564.9242357962041,\n",
       " 404.9736521230003,\n",
       " 1558.937272959235,\n",
       " 405.8993085193666,\n",
       " 1564.9866399872335,\n",
       " 399.18648899999073,\n",
       " 400.62833828884294,\n",
       " 2027.0948606735012,\n",
       " 1564.9667914607026,\n",
       " 406.4519274082167,\n",
       " 367.9849850787532,\n",
       " 1559.7103713644276,\n",
       " 455.01410567239895,\n",
       " 598.0011937047383,\n",
       " 2054.0603972881304,\n",
       " 1561.296183117356,\n",
       " 1560.693166178233,\n",
       " 1560.7568205534926,\n",
       " 617.3936907050769,\n",
       " 1564.9879981880435,\n",
       " 394.3527327519401,\n",
       " 406.33266065852564,\n",
       " 1564.9259427431507,\n",
       " 2081.8326482496495,\n",
       " 3508.375450230977,\n",
       " 462.3941598966683,\n",
       " 492.3106548492398,\n",
       " 575.3164752397777,\n",
       " 586.2666721362481,\n",
       " 1560.7585463897935,\n",
       " 4470.075507489135,\n",
       " 1560.7952119583229,\n",
       " 1559.0465992850277,\n",
       " 814.8284334737681,\n",
       " 1564.985468948199,\n",
       " 367.5676273566363,\n",
       " 1564.9601037446523,\n",
       " 2025.4629594258752,\n",
       " 10238.76059079723,\n",
       " 550.7428805636275,\n",
       " 1564.9860997093213,\n",
       " 2916.6206817338402,\n",
       " 1564.9875431196142,\n",
       " 1559.7082482662042,\n",
       " 4525.6997920179765,\n",
       " 207.3971012985632,\n",
       " 406.6124764196847,\n",
       " 6392.518786109467,\n",
       " 1560.6243337501674,\n",
       " 13547.09242490147,\n",
       " 553.6416882045937,\n",
       " 1564.9687638521877,\n",
       " 399.22190130448826,\n",
       " 1564.9872354209992,\n",
       " 1560.583930051526,\n",
       " 412.0749687498787,\n",
       " 5088.128587099389,\n",
       " 1564.9913226808458,\n",
       " 2027.0817451545677,\n",
       " 399.5365707580631,\n",
       " 1566.026971330651,\n",
       " 2027.0759329113766,\n",
       " 1559.002540158446,\n",
       " 474.1272630376512,\n",
       " 402.7200423472875,\n",
       " 2027.116855279405,\n",
       " 1418.4575184758153,\n",
       " 1564.9787428178688,\n",
       " 15363.554643757578,\n",
       " 1560.6157882975783,\n",
       " 2027.827661090325,\n",
       " 401.3043240563206,\n",
       " 3298.6108650777555,\n",
       " 12581.271892202541,\n",
       " 13806.158942920385,\n",
       " 1564.9779746596323,\n",
       " 1564.9898953816667,\n",
       " 399.3733606346857,\n",
       " 482.6099603324359,\n",
       " 1561.2149852877756,\n",
       " 1564.9682621682757,\n",
       " 408.9995954917314,\n",
       " 1561.4298257211087,\n",
       " 279.49861301022514,\n",
       " 219.8366905411523,\n",
       " 1552.1505253739585,\n",
       " 1564.976188979446,\n",
       " 544.0966763221616,\n",
       " 1564.9730266799606,\n",
       " 524.0238795870036,\n",
       " 1578.4888170323163,\n",
       " 395.16046471278,\n",
       " 409.87813643249575,\n",
       " 1564.960821864452,\n",
       " 403.74890453102415,\n",
       " 1559.7094407839052,\n",
       " 1811.1911878320411,\n",
       " 397.93904746233494,\n",
       " 1564.9851845999065,\n",
       " 1563.0645433436641,\n",
       " 1528.541886312242,\n",
       " 1564.9935760710384,\n",
       " 1560.8693668076367,\n",
       " 433.7962035508054,\n",
       " 634.7770676770464,\n",
       " 1562.8130522341519,\n",
       " 415.66916786953124,\n",
       " 1560.7463494842357,\n",
       " 395.0006716217003,\n",
       " 2433.9982639711225,\n",
       " 403.5037852163491,\n",
       " 1561.3924093491019,\n",
       " 1560.7424340870168,\n",
       " 610.980382758874,\n",
       " 402.3436009179453,\n",
       " 4433.543882855279,\n",
       " 1549.0488578048864,\n",
       " 406.9722887917093,\n",
       " 1560.7358992095399,\n",
       " 1561.2204551712684,\n",
       " 4505.324705742958,\n",
       " 1560.742435554649,\n",
       " 1564.9773974944464,\n",
       " 2027.0801835758095,\n",
       " 1560.0560815086903,\n",
       " 468.2218220782921,\n",
       " 402.06119280842654,\n",
       " 1564.9885138938482,\n",
       " 13746.117781170422,\n",
       " 2027.0573012889026,\n",
       " 1548.8447751375159,\n",
       " 1560.776013626473,\n",
       " 1559.7122234767694,\n",
       " 1560.5454540849503,\n",
       " 2027.0620099746966,\n",
       " 400.43522159835203,\n",
       " 1559.7081494935637,\n",
       " 4480.297415996773,\n",
       " 1548.7529181241835,\n",
       " 2027.0761081054945,\n",
       " 402.1382110077862,\n",
       " 400.79398507608255,\n",
       " 1559.1849500760281,\n",
       " 398.306441186978,\n",
       " 1564.9925463122877,\n",
       " 1549.0259370083695,\n",
       " 4247.488255574195,\n",
       " 2028.2643494659308,\n",
       " 407.4130245049079,\n",
       " 1552.0190345890105,\n",
       " 1564.9862074780692,\n",
       " 1563.4913390002926,\n",
       " 1548.7589614886112,\n",
       " 1564.9795503410398,\n",
       " 1564.9812479776776,\n",
       " 394.33572292612536,\n",
       " 400.5906244582772,\n",
       " 5442.230618966259,\n",
       " 1554.9525024119466,\n",
       " 1564.9776687442888,\n",
       " 1564.9644283457503,\n",
       " 2064.330247876421,\n",
       " 2304.6120865145863,\n",
       " 417.7116093477002,\n",
       " 15363.417800697922,\n",
       " 1554.070485633899,\n",
       " 1395.5450883515177,\n",
       " 398.5693106835626,\n",
       " 1564.9675161905193,\n",
       " 1559.0149563345751,\n",
       " 613.335289922614,\n",
       " 1548.8490802935944,\n",
       " 466.45936201852413,\n",
       " 2699.4361793098697,\n",
       " 12861.348086153486,\n",
       " 1564.9784045020144,\n",
       " 8269.12210359004,\n",
       " 1549.091169752998,\n",
       " 2179.4354747662837,\n",
       " ...]"
      ]
     },
     "execution_count": 195,
     "metadata": {},
     "output_type": "execute_result"
    }
   ],
   "source": [
    "mahal_dist_test_ss"
   ]
  },
  {
   "cell_type": "code",
   "execution_count": 196,
   "id": "c0c64731",
   "metadata": {},
   "outputs": [
    {
     "name": "stdout",
     "output_type": "stream",
     "text": [
      "22544\n"
     ]
    }
   ],
   "source": [
    "#np.mean(test_one_hot_data_mcd_ss)\n",
    "\n",
    "from scipy.stats import chi2\n",
    "test_one_hot_data_mcd_ss['p-value_mcd'] =  1 - chi2.cdf(mahal_dist_test_ss, df = 121)#pdf(x, degreeOfFreedom = Number of Variables)\n",
    "\n",
    "#Calculate number of p-value less than 0.01\n",
    "print(np.count_nonzero(test_one_hot_data_mcd_ss['p-value_mcd'] < 0.01))"
   ]
  },
  {
   "cell_type": "code",
   "execution_count": 197,
   "id": "3396c378",
   "metadata": {},
   "outputs": [],
   "source": [
    "pvalue_mcd = test_one_hot_data_mcd_ss['p-value_mcd']\n",
    "bi_pvalue_mcd = pvalue_mcd\n",
    "\n",
    "bi_pvalue_mcd = np.where(pvalue_mcd < 0.01, 1, bi_pvalue_mcd)\n",
    "bi_pvalue_mcd = np.where(pvalue_mcd >= 0.01, 0, bi_pvalue_mcd)"
   ]
  },
  {
   "cell_type": "code",
   "execution_count": 198,
   "id": "369c6823",
   "metadata": {},
   "outputs": [
    {
     "name": "stdout",
     "output_type": "stream",
     "text": [
      "Training accuracy: 0.5692\n",
      "[[    0  9711]\n",
      " [    0 12833]]\n"
     ]
    }
   ],
   "source": [
    "from sklearn.metrics import accuracy_score\n",
    "\n",
    "test_acc_maha_mcd_ss = accuracy_score(kdd_test_y['class_binary'], bi_pvalue_mcd)\n",
    "print(\"Training accuracy: {:.4f}\".format(test_acc_maha_mcd_ss))\n",
    "cm_maha_mcd_test_ss = confusion_matrix (kdd_test_y[\"class_binary\"], bi_pvalue_mcd)\n",
    "print(cm_maha_mcd_test_ss)"
   ]
  },
  {
   "cell_type": "code",
   "execution_count": 199,
   "id": "c242b32b",
   "metadata": {},
   "outputs": [
    {
     "data": {
      "text/plain": [
       "Text(0.5, 1.0, 'Seaborn Confusion Matrix with labels\\n\\n')"
      ]
     },
     "execution_count": 199,
     "metadata": {},
     "output_type": "execute_result"
    },
    {
     "data": {
      "text/plain": [
       "Text(0.5, 15.0, '\\nPredicted Values')"
      ]
     },
     "execution_count": 199,
     "metadata": {},
     "output_type": "execute_result"
    },
    {
     "data": {
      "text/plain": [
       "Text(33.0, 0.5, 'Actual Values ')"
      ]
     },
     "execution_count": 199,
     "metadata": {},
     "output_type": "execute_result"
    },
    {
     "data": {
      "text/plain": [
       "[Text(0.5, 0, 'False'), Text(1.5, 0, 'True')]"
      ]
     },
     "execution_count": 199,
     "metadata": {},
     "output_type": "execute_result"
    },
    {
     "data": {
      "text/plain": [
       "[Text(0, 0.5, 'False'), Text(0, 1.5, 'True')]"
      ]
     },
     "execution_count": 199,
     "metadata": {},
     "output_type": "execute_result"
    },
    {
     "data": {
      "image/png": "[encoded data removed]",
      "text/plain": [
       "<Figure size 432x288 with 2 Axes>"
      ]
     },
     "metadata": {
      "needs_background": "light"
     },
     "output_type": "display_data"
    },
    {
     "name": "stdout",
     "output_type": "stream",
     "text": [
      "0.5692423704755145\n",
      "1.0\n"
     ]
    }
   ],
   "source": [
    "ax = sns.heatmap(cm_maha_mcd_test_ss, annot=True, cmap='Blues')\n",
    "\n",
    "ax.set_title('Seaborn Confusion Matrix with labels\\n\\n');\n",
    "ax.set_xlabel('\\nPredicted Values')\n",
    "ax.set_ylabel('Actual Values ');\n",
    "\n",
    "## Ticket labels - List must be in alphabetical order\n",
    "ax.xaxis.set_ticklabels(['False','True'])\n",
    "ax.yaxis.set_ticklabels(['False','True'])\n",
    "\n",
    "## Display the visualization of the Confusion Matrix.\n",
    "plt.show()\n",
    "\n",
    "## FP,FN,TP,TN\n",
    "TN_maha_mcd = cm_maha_mcd_test_ss[0][0]\n",
    "FN_maha_mcd = cm_maha_mcd_test_ss[1][0]\n",
    "FP_maha_mcd = cm_maha_mcd_test_ss[0][1]\n",
    "TP_maha_mcd = cm_maha_mcd_test_ss[1][1]\n",
    "\n",
    "##Precision and Recall\n",
    "Precision_maha_mcd_test_ss = TP_maha_mcd/(TP_maha_mcd+FP_maha_mcd)\n",
    "Recall_maha_mcd_test_ss = TP_maha_mcd/(TP_maha_mcd+FN_maha_mcd)\n",
    "\n",
    "print (Precision_maha_mcd_test_ss)\n",
    "print (Recall_maha_mcd_test_ss)"
   ]
  },
  {
   "cell_type": "markdown",
   "id": "43e2c825",
   "metadata": {},
   "source": [
    "## MCD after PCA "
   ]
  },
  {
   "cell_type": "code",
   "execution_count": 200,
   "id": "88dd7425",
   "metadata": {},
   "outputs": [
    {
     "data": {
      "text/html": [
       "<div>\n",
       "<style scoped>\n",
       "    .dataframe tbody tr th:only-of-type {\n",
       "        vertical-align: middle;\n",
       "    }\n",
       "\n",
       "    .dataframe tbody tr th {\n",
       "        vertical-align: top;\n",
       "    }\n",
       "\n",
       "    .dataframe thead th {\n",
       "        text-align: right;\n",
       "    }\n",
       "</style>\n",
       "<table border=\"1\" class=\"dataframe\">\n",
       "  <thead>\n",
       "    <tr style=\"text-align: right;\">\n",
       "      <th></th>\n",
       "      <th>Variable 0</th>\n",
       "      <th>Variable 1</th>\n",
       "      <th>Variable 2</th>\n",
       "      <th>Variable 3</th>\n",
       "      <th>Variable 4</th>\n",
       "      <th>Variable 5</th>\n",
       "      <th>Variable 6</th>\n",
       "      <th>Variable 7</th>\n",
       "      <th>Variable 8</th>\n",
       "      <th>Variable 9</th>\n",
       "      <th>...</th>\n",
       "      <th>Variable 16</th>\n",
       "      <th>Variable 17</th>\n",
       "      <th>Variable 18</th>\n",
       "      <th>Variable 19</th>\n",
       "      <th>Variable 20</th>\n",
       "      <th>Variable 21</th>\n",
       "      <th>Variable 22</th>\n",
       "      <th>Variable 23</th>\n",
       "      <th>Variable 24</th>\n",
       "      <th>p-value</th>\n",
       "    </tr>\n",
       "  </thead>\n",
       "  <tbody>\n",
       "    <tr>\n",
       "      <th>0</th>\n",
       "      <td>1.678471</td>\n",
       "      <td>-0.872735</td>\n",
       "      <td>0.004462</td>\n",
       "      <td>0.120732</td>\n",
       "      <td>-0.347212</td>\n",
       "      <td>0.492001</td>\n",
       "      <td>0.395315</td>\n",
       "      <td>0.513245</td>\n",
       "      <td>-0.766786</td>\n",
       "      <td>-0.062394</td>\n",
       "      <td>...</td>\n",
       "      <td>-0.038879</td>\n",
       "      <td>0.089036</td>\n",
       "      <td>0.014807</td>\n",
       "      <td>-0.188965</td>\n",
       "      <td>-0.241500</td>\n",
       "      <td>0.056344</td>\n",
       "      <td>0.496597</td>\n",
       "      <td>0.262535</td>\n",
       "      <td>0.138204</td>\n",
       "      <td>0.121942</td>\n",
       "    </tr>\n",
       "    <tr>\n",
       "      <th>1</th>\n",
       "      <td>1.650825</td>\n",
       "      <td>-0.871036</td>\n",
       "      <td>0.022690</td>\n",
       "      <td>0.353080</td>\n",
       "      <td>-0.343112</td>\n",
       "      <td>0.335960</td>\n",
       "      <td>0.348479</td>\n",
       "      <td>0.469322</td>\n",
       "      <td>-0.854539</td>\n",
       "      <td>-0.026489</td>\n",
       "      <td>...</td>\n",
       "      <td>-0.010820</td>\n",
       "      <td>0.145412</td>\n",
       "      <td>-0.009779</td>\n",
       "      <td>-0.598954</td>\n",
       "      <td>-0.375644</td>\n",
       "      <td>0.079031</td>\n",
       "      <td>0.296606</td>\n",
       "      <td>-0.032011</td>\n",
       "      <td>0.186756</td>\n",
       "      <td>0.120080</td>\n",
       "    </tr>\n",
       "    <tr>\n",
       "      <th>2</th>\n",
       "      <td>-0.427776</td>\n",
       "      <td>-0.027269</td>\n",
       "      <td>-0.060373</td>\n",
       "      <td>-0.582328</td>\n",
       "      <td>0.404469</td>\n",
       "      <td>-0.682267</td>\n",
       "      <td>-0.200591</td>\n",
       "      <td>-0.123556</td>\n",
       "      <td>-0.589345</td>\n",
       "      <td>0.143091</td>\n",
       "      <td>...</td>\n",
       "      <td>0.104160</td>\n",
       "      <td>0.405106</td>\n",
       "      <td>-0.178831</td>\n",
       "      <td>-1.405561</td>\n",
       "      <td>-1.652676</td>\n",
       "      <td>0.167201</td>\n",
       "      <td>-0.245086</td>\n",
       "      <td>-0.561353</td>\n",
       "      <td>0.150038</td>\n",
       "      <td>0.101557</td>\n",
       "    </tr>\n",
       "    <tr>\n",
       "      <th>3</th>\n",
       "      <td>-0.761174</td>\n",
       "      <td>-0.208430</td>\n",
       "      <td>-0.118920</td>\n",
       "      <td>-1.318459</td>\n",
       "      <td>0.976188</td>\n",
       "      <td>-3.314351</td>\n",
       "      <td>0.566546</td>\n",
       "      <td>1.467813</td>\n",
       "      <td>-0.909150</td>\n",
       "      <td>-0.158967</td>\n",
       "      <td>...</td>\n",
       "      <td>0.286518</td>\n",
       "      <td>-1.667154</td>\n",
       "      <td>0.537779</td>\n",
       "      <td>-0.640795</td>\n",
       "      <td>0.353723</td>\n",
       "      <td>-0.069583</td>\n",
       "      <td>-0.619479</td>\n",
       "      <td>0.387528</td>\n",
       "      <td>0.831724</td>\n",
       "      <td>0.024577</td>\n",
       "    </tr>\n",
       "    <tr>\n",
       "      <th>4</th>\n",
       "      <td>0.598909</td>\n",
       "      <td>-0.747321</td>\n",
       "      <td>0.025752</td>\n",
       "      <td>0.710066</td>\n",
       "      <td>-0.131553</td>\n",
       "      <td>-1.442168</td>\n",
       "      <td>0.498369</td>\n",
       "      <td>0.965455</td>\n",
       "      <td>-0.426953</td>\n",
       "      <td>-0.115364</td>\n",
       "      <td>...</td>\n",
       "      <td>0.298524</td>\n",
       "      <td>-1.560845</td>\n",
       "      <td>0.244328</td>\n",
       "      <td>0.749042</td>\n",
       "      <td>-1.549601</td>\n",
       "      <td>-0.039347</td>\n",
       "      <td>-1.910045</td>\n",
       "      <td>1.245585</td>\n",
       "      <td>-1.708141</td>\n",
       "      <td>0.033670</td>\n",
       "    </tr>\n",
       "    <tr>\n",
       "      <th>...</th>\n",
       "      <td>...</td>\n",
       "      <td>...</td>\n",
       "      <td>...</td>\n",
       "      <td>...</td>\n",
       "      <td>...</td>\n",
       "      <td>...</td>\n",
       "      <td>...</td>\n",
       "      <td>...</td>\n",
       "      <td>...</td>\n",
       "      <td>...</td>\n",
       "      <td>...</td>\n",
       "      <td>...</td>\n",
       "      <td>...</td>\n",
       "      <td>...</td>\n",
       "      <td>...</td>\n",
       "      <td>...</td>\n",
       "      <td>...</td>\n",
       "      <td>...</td>\n",
       "      <td>...</td>\n",
       "      <td>...</td>\n",
       "      <td>...</td>\n",
       "    </tr>\n",
       "    <tr>\n",
       "      <th>22539</th>\n",
       "      <td>-0.677682</td>\n",
       "      <td>-0.135917</td>\n",
       "      <td>-0.011245</td>\n",
       "      <td>0.455168</td>\n",
       "      <td>-0.042929</td>\n",
       "      <td>-0.256884</td>\n",
       "      <td>-0.100001</td>\n",
       "      <td>-0.189835</td>\n",
       "      <td>0.184557</td>\n",
       "      <td>-0.148046</td>\n",
       "      <td>...</td>\n",
       "      <td>0.011649</td>\n",
       "      <td>0.372109</td>\n",
       "      <td>-0.168500</td>\n",
       "      <td>0.037980</td>\n",
       "      <td>-0.879584</td>\n",
       "      <td>0.102358</td>\n",
       "      <td>0.689768</td>\n",
       "      <td>0.934646</td>\n",
       "      <td>0.090175</td>\n",
       "      <td>0.171562</td>\n",
       "    </tr>\n",
       "    <tr>\n",
       "      <th>22540</th>\n",
       "      <td>-0.872991</td>\n",
       "      <td>-0.194655</td>\n",
       "      <td>-0.066623</td>\n",
       "      <td>0.452831</td>\n",
       "      <td>-0.413141</td>\n",
       "      <td>0.185445</td>\n",
       "      <td>0.112065</td>\n",
       "      <td>0.035403</td>\n",
       "      <td>0.523128</td>\n",
       "      <td>-0.197381</td>\n",
       "      <td>...</td>\n",
       "      <td>0.030962</td>\n",
       "      <td>0.042610</td>\n",
       "      <td>-0.075227</td>\n",
       "      <td>0.008424</td>\n",
       "      <td>0.335099</td>\n",
       "      <td>-0.003818</td>\n",
       "      <td>-0.023344</td>\n",
       "      <td>0.180433</td>\n",
       "      <td>0.502189</td>\n",
       "      <td>0.234596</td>\n",
       "    </tr>\n",
       "    <tr>\n",
       "      <th>22541</th>\n",
       "      <td>-0.814737</td>\n",
       "      <td>-0.235138</td>\n",
       "      <td>0.074933</td>\n",
       "      <td>0.712311</td>\n",
       "      <td>0.369909</td>\n",
       "      <td>0.794684</td>\n",
       "      <td>-0.066708</td>\n",
       "      <td>0.487747</td>\n",
       "      <td>0.673540</td>\n",
       "      <td>0.041892</td>\n",
       "      <td>...</td>\n",
       "      <td>-0.006817</td>\n",
       "      <td>-0.122758</td>\n",
       "      <td>-0.063017</td>\n",
       "      <td>-0.370471</td>\n",
       "      <td>0.833983</td>\n",
       "      <td>-0.274270</td>\n",
       "      <td>-0.387862</td>\n",
       "      <td>-0.042794</td>\n",
       "      <td>0.810304</td>\n",
       "      <td>0.141849</td>\n",
       "    </tr>\n",
       "    <tr>\n",
       "      <th>22542</th>\n",
       "      <td>-0.618400</td>\n",
       "      <td>-0.099512</td>\n",
       "      <td>-0.112588</td>\n",
       "      <td>-0.139796</td>\n",
       "      <td>-0.299245</td>\n",
       "      <td>0.215218</td>\n",
       "      <td>-0.019459</td>\n",
       "      <td>-0.011095</td>\n",
       "      <td>0.042120</td>\n",
       "      <td>-0.007059</td>\n",
       "      <td>...</td>\n",
       "      <td>0.188055</td>\n",
       "      <td>-0.449203</td>\n",
       "      <td>0.018747</td>\n",
       "      <td>-1.882968</td>\n",
       "      <td>0.507418</td>\n",
       "      <td>0.082627</td>\n",
       "      <td>-0.368312</td>\n",
       "      <td>0.264881</td>\n",
       "      <td>-2.206890</td>\n",
       "      <td>0.067002</td>\n",
       "    </tr>\n",
       "    <tr>\n",
       "      <th>22543</th>\n",
       "      <td>1.463070</td>\n",
       "      <td>-0.999785</td>\n",
       "      <td>0.020018</td>\n",
       "      <td>0.694845</td>\n",
       "      <td>-0.080750</td>\n",
       "      <td>-1.468044</td>\n",
       "      <td>0.126210</td>\n",
       "      <td>0.357274</td>\n",
       "      <td>1.220113</td>\n",
       "      <td>-0.285096</td>\n",
       "      <td>...</td>\n",
       "      <td>0.134694</td>\n",
       "      <td>-2.210273</td>\n",
       "      <td>0.421475</td>\n",
       "      <td>-0.685139</td>\n",
       "      <td>0.938779</td>\n",
       "      <td>-0.024256</td>\n",
       "      <td>1.005392</td>\n",
       "      <td>-2.329813</td>\n",
       "      <td>0.180108</td>\n",
       "      <td>0.020460</td>\n",
       "    </tr>\n",
       "  </tbody>\n",
       "</table>\n",
       "<p>22544 rows × 26 columns</p>\n",
       "</div>"
      ],
      "text/plain": [
       "       Variable 0  Variable 1  Variable 2  Variable 3  Variable 4  Variable 5  \\\n",
       "0        1.678471   -0.872735    0.004462    0.120732   -0.347212    0.492001   \n",
       "1        1.650825   -0.871036    0.022690    0.353080   -0.343112    0.335960   \n",
       "2       -0.427776   -0.027269   -0.060373   -0.582328    0.404469   -0.682267   \n",
       "3       -0.761174   -0.208430   -0.118920   -1.318459    0.976188   -3.314351   \n",
       "4        0.598909   -0.747321    0.025752    0.710066   -0.131553   -1.442168   \n",
       "...           ...         ...         ...         ...         ...         ...   \n",
       "22539   -0.677682   -0.135917   -0.011245    0.455168   -0.042929   -0.256884   \n",
       "22540   -0.872991   -0.194655   -0.066623    0.452831   -0.413141    0.185445   \n",
       "22541   -0.814737   -0.235138    0.074933    0.712311    0.369909    0.794684   \n",
       "22542   -0.618400   -0.099512   -0.112588   -0.139796   -0.299245    0.215218   \n",
       "22543    1.463070   -0.999785    0.020018    0.694845   -0.080750   -1.468044   \n",
       "\n",
       "       Variable 6  Variable 7  Variable 8  Variable 9  ...  Variable 16  \\\n",
       "0        0.395315    0.513245   -0.766786   -0.062394  ...    -0.038879   \n",
       "1        0.348479    0.469322   -0.854539   -0.026489  ...    -0.010820   \n",
       "2       -0.200591   -0.123556   -0.589345    0.143091  ...     0.104160   \n",
       "3        0.566546    1.467813   -0.909150   -0.158967  ...     0.286518   \n",
       "4        0.498369    0.965455   -0.426953   -0.115364  ...     0.298524   \n",
       "...           ...         ...         ...         ...  ...          ...   \n",
       "22539   -0.100001   -0.189835    0.184557   -0.148046  ...     0.011649   \n",
       "22540    0.112065    0.035403    0.523128   -0.197381  ...     0.030962   \n",
       "22541   -0.066708    0.487747    0.673540    0.041892  ...    -0.006817   \n",
       "22542   -0.019459   -0.011095    0.042120   -0.007059  ...     0.188055   \n",
       "22543    0.126210    0.357274    1.220113   -0.285096  ...     0.134694   \n",
       "\n",
       "       Variable 17  Variable 18  Variable 19  Variable 20  Variable 21  \\\n",
       "0         0.089036     0.014807    -0.188965    -0.241500     0.056344   \n",
       "1         0.145412    -0.009779    -0.598954    -0.375644     0.079031   \n",
       "2         0.405106    -0.178831    -1.405561    -1.652676     0.167201   \n",
       "3        -1.667154     0.537779    -0.640795     0.353723    -0.069583   \n",
       "4        -1.560845     0.244328     0.749042    -1.549601    -0.039347   \n",
       "...            ...          ...          ...          ...          ...   \n",
       "22539     0.372109    -0.168500     0.037980    -0.879584     0.102358   \n",
       "22540     0.042610    -0.075227     0.008424     0.335099    -0.003818   \n",
       "22541    -0.122758    -0.063017    -0.370471     0.833983    -0.274270   \n",
       "22542    -0.449203     0.018747    -1.882968     0.507418     0.082627   \n",
       "22543    -2.210273     0.421475    -0.685139     0.938779    -0.024256   \n",
       "\n",
       "       Variable 22  Variable 23  Variable 24   p-value  \n",
       "0         0.496597     0.262535     0.138204  0.121942  \n",
       "1         0.296606    -0.032011     0.186756  0.120080  \n",
       "2        -0.245086    -0.561353     0.150038  0.101557  \n",
       "3        -0.619479     0.387528     0.831724  0.024577  \n",
       "4        -1.910045     1.245585    -1.708141  0.033670  \n",
       "...            ...          ...          ...       ...  \n",
       "22539     0.689768     0.934646     0.090175  0.171562  \n",
       "22540    -0.023344     0.180433     0.502189  0.234596  \n",
       "22541    -0.387862    -0.042794     0.810304  0.141849  \n",
       "22542    -0.368312     0.264881    -2.206890  0.067002  \n",
       "22543     1.005392    -2.329813     0.180108  0.020460  \n",
       "\n",
       "[22544 rows x 26 columns]"
      ]
     },
     "execution_count": 200,
     "metadata": {},
     "output_type": "execute_result"
    }
   ],
   "source": [
    "test_one_hot_data_pca"
   ]
  },
  {
   "cell_type": "code",
   "execution_count": 201,
   "id": "5e467f56",
   "metadata": {},
   "outputs": [],
   "source": [
    "test_one_hot_data_mcd = test_one_hot_data_pca.drop(['p-value'],axis=1)\n"
   ]
  },
  {
   "cell_type": "code",
   "execution_count": 202,
   "id": "e341c68f",
   "metadata": {},
   "outputs": [
    {
     "data": {
      "text/html": [
       "<div>\n",
       "<style scoped>\n",
       "    .dataframe tbody tr th:only-of-type {\n",
       "        vertical-align: middle;\n",
       "    }\n",
       "\n",
       "    .dataframe tbody tr th {\n",
       "        vertical-align: top;\n",
       "    }\n",
       "\n",
       "    .dataframe thead th {\n",
       "        text-align: right;\n",
       "    }\n",
       "</style>\n",
       "<table border=\"1\" class=\"dataframe\">\n",
       "  <thead>\n",
       "    <tr style=\"text-align: right;\">\n",
       "      <th></th>\n",
       "      <th>Variable 0</th>\n",
       "      <th>Variable 1</th>\n",
       "      <th>Variable 2</th>\n",
       "      <th>Variable 3</th>\n",
       "      <th>Variable 4</th>\n",
       "      <th>Variable 5</th>\n",
       "      <th>Variable 6</th>\n",
       "      <th>Variable 7</th>\n",
       "      <th>Variable 8</th>\n",
       "      <th>Variable 9</th>\n",
       "      <th>...</th>\n",
       "      <th>Variable 15</th>\n",
       "      <th>Variable 16</th>\n",
       "      <th>Variable 17</th>\n",
       "      <th>Variable 18</th>\n",
       "      <th>Variable 19</th>\n",
       "      <th>Variable 20</th>\n",
       "      <th>Variable 21</th>\n",
       "      <th>Variable 22</th>\n",
       "      <th>Variable 23</th>\n",
       "      <th>Variable 24</th>\n",
       "    </tr>\n",
       "  </thead>\n",
       "  <tbody>\n",
       "    <tr>\n",
       "      <th>0</th>\n",
       "      <td>1.678471</td>\n",
       "      <td>-0.872735</td>\n",
       "      <td>0.004462</td>\n",
       "      <td>0.120732</td>\n",
       "      <td>-0.347212</td>\n",
       "      <td>0.492001</td>\n",
       "      <td>0.395315</td>\n",
       "      <td>0.513245</td>\n",
       "      <td>-0.766786</td>\n",
       "      <td>-0.062394</td>\n",
       "      <td>...</td>\n",
       "      <td>0.087559</td>\n",
       "      <td>-0.038879</td>\n",
       "      <td>0.089036</td>\n",
       "      <td>0.014807</td>\n",
       "      <td>-0.188965</td>\n",
       "      <td>-0.241500</td>\n",
       "      <td>0.056344</td>\n",
       "      <td>0.496597</td>\n",
       "      <td>0.262535</td>\n",
       "      <td>0.138204</td>\n",
       "    </tr>\n",
       "    <tr>\n",
       "      <th>1</th>\n",
       "      <td>1.650825</td>\n",
       "      <td>-0.871036</td>\n",
       "      <td>0.022690</td>\n",
       "      <td>0.353080</td>\n",
       "      <td>-0.343112</td>\n",
       "      <td>0.335960</td>\n",
       "      <td>0.348479</td>\n",
       "      <td>0.469322</td>\n",
       "      <td>-0.854539</td>\n",
       "      <td>-0.026489</td>\n",
       "      <td>...</td>\n",
       "      <td>0.114283</td>\n",
       "      <td>-0.010820</td>\n",
       "      <td>0.145412</td>\n",
       "      <td>-0.009779</td>\n",
       "      <td>-0.598954</td>\n",
       "      <td>-0.375644</td>\n",
       "      <td>0.079031</td>\n",
       "      <td>0.296606</td>\n",
       "      <td>-0.032011</td>\n",
       "      <td>0.186756</td>\n",
       "    </tr>\n",
       "    <tr>\n",
       "      <th>2</th>\n",
       "      <td>-0.427776</td>\n",
       "      <td>-0.027269</td>\n",
       "      <td>-0.060373</td>\n",
       "      <td>-0.582328</td>\n",
       "      <td>0.404469</td>\n",
       "      <td>-0.682267</td>\n",
       "      <td>-0.200591</td>\n",
       "      <td>-0.123556</td>\n",
       "      <td>-0.589345</td>\n",
       "      <td>0.143091</td>\n",
       "      <td>...</td>\n",
       "      <td>0.237438</td>\n",
       "      <td>0.104160</td>\n",
       "      <td>0.405106</td>\n",
       "      <td>-0.178831</td>\n",
       "      <td>-1.405561</td>\n",
       "      <td>-1.652676</td>\n",
       "      <td>0.167201</td>\n",
       "      <td>-0.245086</td>\n",
       "      <td>-0.561353</td>\n",
       "      <td>0.150038</td>\n",
       "    </tr>\n",
       "    <tr>\n",
       "      <th>3</th>\n",
       "      <td>-0.761174</td>\n",
       "      <td>-0.208430</td>\n",
       "      <td>-0.118920</td>\n",
       "      <td>-1.318459</td>\n",
       "      <td>0.976188</td>\n",
       "      <td>-3.314351</td>\n",
       "      <td>0.566546</td>\n",
       "      <td>1.467813</td>\n",
       "      <td>-0.909150</td>\n",
       "      <td>-0.158967</td>\n",
       "      <td>...</td>\n",
       "      <td>-0.645065</td>\n",
       "      <td>0.286518</td>\n",
       "      <td>-1.667154</td>\n",
       "      <td>0.537779</td>\n",
       "      <td>-0.640795</td>\n",
       "      <td>0.353723</td>\n",
       "      <td>-0.069583</td>\n",
       "      <td>-0.619479</td>\n",
       "      <td>0.387528</td>\n",
       "      <td>0.831724</td>\n",
       "    </tr>\n",
       "    <tr>\n",
       "      <th>4</th>\n",
       "      <td>0.598909</td>\n",
       "      <td>-0.747321</td>\n",
       "      <td>0.025752</td>\n",
       "      <td>0.710066</td>\n",
       "      <td>-0.131553</td>\n",
       "      <td>-1.442168</td>\n",
       "      <td>0.498369</td>\n",
       "      <td>0.965455</td>\n",
       "      <td>-0.426953</td>\n",
       "      <td>-0.115364</td>\n",
       "      <td>...</td>\n",
       "      <td>-0.743817</td>\n",
       "      <td>0.298524</td>\n",
       "      <td>-1.560845</td>\n",
       "      <td>0.244328</td>\n",
       "      <td>0.749042</td>\n",
       "      <td>-1.549601</td>\n",
       "      <td>-0.039347</td>\n",
       "      <td>-1.910045</td>\n",
       "      <td>1.245585</td>\n",
       "      <td>-1.708141</td>\n",
       "    </tr>\n",
       "    <tr>\n",
       "      <th>...</th>\n",
       "      <td>...</td>\n",
       "      <td>...</td>\n",
       "      <td>...</td>\n",
       "      <td>...</td>\n",
       "      <td>...</td>\n",
       "      <td>...</td>\n",
       "      <td>...</td>\n",
       "      <td>...</td>\n",
       "      <td>...</td>\n",
       "      <td>...</td>\n",
       "      <td>...</td>\n",
       "      <td>...</td>\n",
       "      <td>...</td>\n",
       "      <td>...</td>\n",
       "      <td>...</td>\n",
       "      <td>...</td>\n",
       "      <td>...</td>\n",
       "      <td>...</td>\n",
       "      <td>...</td>\n",
       "      <td>...</td>\n",
       "      <td>...</td>\n",
       "    </tr>\n",
       "    <tr>\n",
       "      <th>22539</th>\n",
       "      <td>-0.677682</td>\n",
       "      <td>-0.135917</td>\n",
       "      <td>-0.011245</td>\n",
       "      <td>0.455168</td>\n",
       "      <td>-0.042929</td>\n",
       "      <td>-0.256884</td>\n",
       "      <td>-0.100001</td>\n",
       "      <td>-0.189835</td>\n",
       "      <td>0.184557</td>\n",
       "      <td>-0.148046</td>\n",
       "      <td>...</td>\n",
       "      <td>0.292904</td>\n",
       "      <td>0.011649</td>\n",
       "      <td>0.372109</td>\n",
       "      <td>-0.168500</td>\n",
       "      <td>0.037980</td>\n",
       "      <td>-0.879584</td>\n",
       "      <td>0.102358</td>\n",
       "      <td>0.689768</td>\n",
       "      <td>0.934646</td>\n",
       "      <td>0.090175</td>\n",
       "    </tr>\n",
       "    <tr>\n",
       "      <th>22540</th>\n",
       "      <td>-0.872991</td>\n",
       "      <td>-0.194655</td>\n",
       "      <td>-0.066623</td>\n",
       "      <td>0.452831</td>\n",
       "      <td>-0.413141</td>\n",
       "      <td>0.185445</td>\n",
       "      <td>0.112065</td>\n",
       "      <td>0.035403</td>\n",
       "      <td>0.523128</td>\n",
       "      <td>-0.197381</td>\n",
       "      <td>...</td>\n",
       "      <td>0.052441</td>\n",
       "      <td>0.030962</td>\n",
       "      <td>0.042610</td>\n",
       "      <td>-0.075227</td>\n",
       "      <td>0.008424</td>\n",
       "      <td>0.335099</td>\n",
       "      <td>-0.003818</td>\n",
       "      <td>-0.023344</td>\n",
       "      <td>0.180433</td>\n",
       "      <td>0.502189</td>\n",
       "    </tr>\n",
       "    <tr>\n",
       "      <th>22541</th>\n",
       "      <td>-0.814737</td>\n",
       "      <td>-0.235138</td>\n",
       "      <td>0.074933</td>\n",
       "      <td>0.712311</td>\n",
       "      <td>0.369909</td>\n",
       "      <td>0.794684</td>\n",
       "      <td>-0.066708</td>\n",
       "      <td>0.487747</td>\n",
       "      <td>0.673540</td>\n",
       "      <td>0.041892</td>\n",
       "      <td>...</td>\n",
       "      <td>-0.258330</td>\n",
       "      <td>-0.006817</td>\n",
       "      <td>-0.122758</td>\n",
       "      <td>-0.063017</td>\n",
       "      <td>-0.370471</td>\n",
       "      <td>0.833983</td>\n",
       "      <td>-0.274270</td>\n",
       "      <td>-0.387862</td>\n",
       "      <td>-0.042794</td>\n",
       "      <td>0.810304</td>\n",
       "    </tr>\n",
       "    <tr>\n",
       "      <th>22542</th>\n",
       "      <td>-0.618400</td>\n",
       "      <td>-0.099512</td>\n",
       "      <td>-0.112588</td>\n",
       "      <td>-0.139796</td>\n",
       "      <td>-0.299245</td>\n",
       "      <td>0.215218</td>\n",
       "      <td>-0.019459</td>\n",
       "      <td>-0.011095</td>\n",
       "      <td>0.042120</td>\n",
       "      <td>-0.007059</td>\n",
       "      <td>...</td>\n",
       "      <td>-0.290904</td>\n",
       "      <td>0.188055</td>\n",
       "      <td>-0.449203</td>\n",
       "      <td>0.018747</td>\n",
       "      <td>-1.882968</td>\n",
       "      <td>0.507418</td>\n",
       "      <td>0.082627</td>\n",
       "      <td>-0.368312</td>\n",
       "      <td>0.264881</td>\n",
       "      <td>-2.206890</td>\n",
       "    </tr>\n",
       "    <tr>\n",
       "      <th>22543</th>\n",
       "      <td>1.463070</td>\n",
       "      <td>-0.999785</td>\n",
       "      <td>0.020018</td>\n",
       "      <td>0.694845</td>\n",
       "      <td>-0.080750</td>\n",
       "      <td>-1.468044</td>\n",
       "      <td>0.126210</td>\n",
       "      <td>0.357274</td>\n",
       "      <td>1.220113</td>\n",
       "      <td>-0.285096</td>\n",
       "      <td>...</td>\n",
       "      <td>-1.250816</td>\n",
       "      <td>0.134694</td>\n",
       "      <td>-2.210273</td>\n",
       "      <td>0.421475</td>\n",
       "      <td>-0.685139</td>\n",
       "      <td>0.938779</td>\n",
       "      <td>-0.024256</td>\n",
       "      <td>1.005392</td>\n",
       "      <td>-2.329813</td>\n",
       "      <td>0.180108</td>\n",
       "    </tr>\n",
       "  </tbody>\n",
       "</table>\n",
       "<p>22544 rows × 25 columns</p>\n",
       "</div>"
      ],
      "text/plain": [
       "       Variable 0  Variable 1  Variable 2  Variable 3  Variable 4  Variable 5  \\\n",
       "0        1.678471   -0.872735    0.004462    0.120732   -0.347212    0.492001   \n",
       "1        1.650825   -0.871036    0.022690    0.353080   -0.343112    0.335960   \n",
       "2       -0.427776   -0.027269   -0.060373   -0.582328    0.404469   -0.682267   \n",
       "3       -0.761174   -0.208430   -0.118920   -1.318459    0.976188   -3.314351   \n",
       "4        0.598909   -0.747321    0.025752    0.710066   -0.131553   -1.442168   \n",
       "...           ...         ...         ...         ...         ...         ...   \n",
       "22539   -0.677682   -0.135917   -0.011245    0.455168   -0.042929   -0.256884   \n",
       "22540   -0.872991   -0.194655   -0.066623    0.452831   -0.413141    0.185445   \n",
       "22541   -0.814737   -0.235138    0.074933    0.712311    0.369909    0.794684   \n",
       "22542   -0.618400   -0.099512   -0.112588   -0.139796   -0.299245    0.215218   \n",
       "22543    1.463070   -0.999785    0.020018    0.694845   -0.080750   -1.468044   \n",
       "\n",
       "       Variable 6  Variable 7  Variable 8  Variable 9  ...  Variable 15  \\\n",
       "0        0.395315    0.513245   -0.766786   -0.062394  ...     0.087559   \n",
       "1        0.348479    0.469322   -0.854539   -0.026489  ...     0.114283   \n",
       "2       -0.200591   -0.123556   -0.589345    0.143091  ...     0.237438   \n",
       "3        0.566546    1.467813   -0.909150   -0.158967  ...    -0.645065   \n",
       "4        0.498369    0.965455   -0.426953   -0.115364  ...    -0.743817   \n",
       "...           ...         ...         ...         ...  ...          ...   \n",
       "22539   -0.100001   -0.189835    0.184557   -0.148046  ...     0.292904   \n",
       "22540    0.112065    0.035403    0.523128   -0.197381  ...     0.052441   \n",
       "22541   -0.066708    0.487747    0.673540    0.041892  ...    -0.258330   \n",
       "22542   -0.019459   -0.011095    0.042120   -0.007059  ...    -0.290904   \n",
       "22543    0.126210    0.357274    1.220113   -0.285096  ...    -1.250816   \n",
       "\n",
       "       Variable 16  Variable 17  Variable 18  Variable 19  Variable 20  \\\n",
       "0        -0.038879     0.089036     0.014807    -0.188965    -0.241500   \n",
       "1        -0.010820     0.145412    -0.009779    -0.598954    -0.375644   \n",
       "2         0.104160     0.405106    -0.178831    -1.405561    -1.652676   \n",
       "3         0.286518    -1.667154     0.537779    -0.640795     0.353723   \n",
       "4         0.298524    -1.560845     0.244328     0.749042    -1.549601   \n",
       "...            ...          ...          ...          ...          ...   \n",
       "22539     0.011649     0.372109    -0.168500     0.037980    -0.879584   \n",
       "22540     0.030962     0.042610    -0.075227     0.008424     0.335099   \n",
       "22541    -0.006817    -0.122758    -0.063017    -0.370471     0.833983   \n",
       "22542     0.188055    -0.449203     0.018747    -1.882968     0.507418   \n",
       "22543     0.134694    -2.210273     0.421475    -0.685139     0.938779   \n",
       "\n",
       "       Variable 21  Variable 22  Variable 23  Variable 24  \n",
       "0         0.056344     0.496597     0.262535     0.138204  \n",
       "1         0.079031     0.296606    -0.032011     0.186756  \n",
       "2         0.167201    -0.245086    -0.561353     0.150038  \n",
       "3        -0.069583    -0.619479     0.387528     0.831724  \n",
       "4        -0.039347    -1.910045     1.245585    -1.708141  \n",
       "...            ...          ...          ...          ...  \n",
       "22539     0.102358     0.689768     0.934646     0.090175  \n",
       "22540    -0.003818    -0.023344     0.180433     0.502189  \n",
       "22541    -0.274270    -0.387862    -0.042794     0.810304  \n",
       "22542     0.082627    -0.368312     0.264881    -2.206890  \n",
       "22543    -0.024256     1.005392    -2.329813     0.180108  \n",
       "\n",
       "[22544 rows x 25 columns]"
      ]
     },
     "execution_count": 202,
     "metadata": {},
     "output_type": "execute_result"
    }
   ],
   "source": [
    "test_one_hot_data_mcd"
   ]
  },
  {
   "cell_type": "code",
   "execution_count": 203,
   "id": "fc6cd42f",
   "metadata": {},
   "outputs": [
    {
     "name": "stderr",
     "output_type": "stream",
     "text": [
      "C:\\WINDOWS\\system32\\myenv\\lib\\site-packages\\sklearn\\covariance\\_robust_covariance.py:183: RuntimeWarning: Determinant has increased; this should not happen: log(det) > log(previous_det) (-291.443903870860254 > -291.566629413627538). You may want to try with a higher value of support_fraction (current value: 0.501).\n",
      "  warnings.warn(\n",
      "C:\\WINDOWS\\system32\\myenv\\lib\\site-packages\\sklearn\\covariance\\_robust_covariance.py:183: RuntimeWarning: Determinant has increased; this should not happen: log(det) > log(previous_det) (-255.702549906992772 > -256.643533473852926). You may want to try with a higher value of support_fraction (current value: 0.501).\n",
      "  warnings.warn(\n",
      "C:\\WINDOWS\\system32\\myenv\\lib\\site-packages\\sklearn\\covariance\\_robust_covariance.py:183: RuntimeWarning: Determinant has increased; this should not happen: log(det) > log(previous_det) (-259.155754523529708 > -261.055149168852552). You may want to try with a higher value of support_fraction (current value: 0.501).\n",
      "  warnings.warn(\n",
      "C:\\WINDOWS\\system32\\myenv\\lib\\site-packages\\sklearn\\covariance\\_robust_covariance.py:183: RuntimeWarning: Determinant has increased; this should not happen: log(det) > log(previous_det) (-256.608403798691711 > -261.391203895121407). You may want to try with a higher value of support_fraction (current value: 0.501).\n",
      "  warnings.warn(\n",
      "C:\\WINDOWS\\system32\\myenv\\lib\\site-packages\\sklearn\\covariance\\_robust_covariance.py:183: RuntimeWarning: Determinant has increased; this should not happen: log(det) > log(previous_det) (-300.930812432224684 > -301.390411847615496). You may want to try with a higher value of support_fraction (current value: 0.501).\n",
      "  warnings.warn(\n",
      "C:\\WINDOWS\\system32\\myenv\\lib\\site-packages\\sklearn\\covariance\\_robust_covariance.py:183: RuntimeWarning: Determinant has increased; this should not happen: log(det) > log(previous_det) (-272.034362712742961 > -275.025095560994941). You may want to try with a higher value of support_fraction (current value: 0.501).\n",
      "  warnings.warn(\n",
      "C:\\WINDOWS\\system32\\myenv\\lib\\site-packages\\sklearn\\covariance\\_robust_covariance.py:183: RuntimeWarning: Determinant has increased; this should not happen: log(det) > log(previous_det) (-256.178261396176026 > -256.996697612872026). You may want to try with a higher value of support_fraction (current value: 0.501).\n",
      "  warnings.warn(\n",
      "C:\\WINDOWS\\system32\\myenv\\lib\\site-packages\\sklearn\\covariance\\_robust_covariance.py:183: RuntimeWarning: Determinant has increased; this should not happen: log(det) > log(previous_det) (-267.312359905986625 > -268.531811203877453). You may want to try with a higher value of support_fraction (current value: 0.501).\n",
      "  warnings.warn(\n",
      "C:\\WINDOWS\\system32\\myenv\\lib\\site-packages\\sklearn\\covariance\\_robust_covariance.py:183: RuntimeWarning: Determinant has increased; this should not happen: log(det) > log(previous_det) (-256.178261396176026 > -257.048679096374144). You may want to try with a higher value of support_fraction (current value: 0.501).\n",
      "  warnings.warn(\n",
      "C:\\WINDOWS\\system32\\myenv\\lib\\site-packages\\sklearn\\covariance\\_robust_covariance.py:183: RuntimeWarning: Determinant has increased; this should not happen: log(det) > log(previous_det) (-255.323607632131740 > -256.796848337916458). You may want to try with a higher value of support_fraction (current value: 0.501).\n",
      "  warnings.warn(\n",
      "C:\\WINDOWS\\system32\\myenv\\lib\\site-packages\\sklearn\\covariance\\_robust_covariance.py:183: RuntimeWarning: Determinant has increased; this should not happen: log(det) > log(previous_det) (-253.757390845525805 > -254.927919821594770). You may want to try with a higher value of support_fraction (current value: 0.501).\n",
      "  warnings.warn(\n",
      "C:\\WINDOWS\\system32\\myenv\\lib\\site-packages\\sklearn\\covariance\\_robust_covariance.py:183: RuntimeWarning: Determinant has increased; this should not happen: log(det) > log(previous_det) (-300.608053106700083 > -301.114976209889562). You may want to try with a higher value of support_fraction (current value: 0.501).\n",
      "  warnings.warn(\n",
      "C:\\WINDOWS\\system32\\myenv\\lib\\site-packages\\sklearn\\covariance\\_robust_covariance.py:183: RuntimeWarning: Determinant has increased; this should not happen: log(det) > log(previous_det) (-223.167390728245323 > -232.092122683253223). You may want to try with a higher value of support_fraction (current value: 0.501).\n",
      "  warnings.warn(\n",
      "C:\\WINDOWS\\system32\\myenv\\lib\\site-packages\\sklearn\\covariance\\_robust_covariance.py:183: RuntimeWarning: Determinant has increased; this should not happen: log(det) > log(previous_det) (-259.155754523529708 > -261.076829952252467). You may want to try with a higher value of support_fraction (current value: 0.501).\n",
      "  warnings.warn(\n",
      "C:\\WINDOWS\\system32\\myenv\\lib\\site-packages\\sklearn\\covariance\\_robust_covariance.py:183: RuntimeWarning: Determinant has increased; this should not happen: log(det) > log(previous_det) (-254.301333864606704 > -255.582975797535823). You may want to try with a higher value of support_fraction (current value: 0.501).\n",
      "  warnings.warn(\n",
      "C:\\WINDOWS\\system32\\myenv\\lib\\site-packages\\sklearn\\covariance\\_robust_covariance.py:183: RuntimeWarning: Determinant has increased; this should not happen: log(det) > log(previous_det) (-257.343093399846339 > -261.672601346246040). You may want to try with a higher value of support_fraction (current value: 0.501).\n",
      "  warnings.warn(\n",
      "C:\\WINDOWS\\system32\\myenv\\lib\\site-packages\\sklearn\\covariance\\_robust_covariance.py:183: RuntimeWarning: Determinant has increased; this should not happen: log(det) > log(previous_det) (-283.028219533617062 > -283.744519255647674). You may want to try with a higher value of support_fraction (current value: 0.501).\n",
      "  warnings.warn(\n",
      "C:\\WINDOWS\\system32\\myenv\\lib\\site-packages\\sklearn\\covariance\\_robust_covariance.py:183: RuntimeWarning: Determinant has increased; this should not happen: log(det) > log(previous_det) (-272.034362712742961 > -275.054683344282296). You may want to try with a higher value of support_fraction (current value: 0.501).\n",
      "  warnings.warn(\n",
      "C:\\WINDOWS\\system32\\myenv\\lib\\site-packages\\sklearn\\covariance\\_robust_covariance.py:183: RuntimeWarning: Determinant has increased; this should not happen: log(det) > log(previous_det) (-299.939398518927419 > -300.086965972309656). You may want to try with a higher value of support_fraction (current value: 0.501).\n",
      "  warnings.warn(\n",
      "C:\\WINDOWS\\system32\\myenv\\lib\\site-packages\\sklearn\\covariance\\_robust_covariance.py:183: RuntimeWarning: Determinant has increased; this should not happen: log(det) > log(previous_det) (-301.118834059775281 > -301.537626794005007). You may want to try with a higher value of support_fraction (current value: 0.501).\n",
      "  warnings.warn(\n",
      "C:\\WINDOWS\\system32\\myenv\\lib\\site-packages\\sklearn\\covariance\\_robust_covariance.py:183: RuntimeWarning: Determinant has increased; this should not happen: log(det) > log(previous_det) (-276.433286312885343 > -278.479590276830777). You may want to try with a higher value of support_fraction (current value: 0.501).\n",
      "  warnings.warn(\n",
      "C:\\WINDOWS\\system32\\myenv\\lib\\site-packages\\sklearn\\covariance\\_robust_covariance.py:183: RuntimeWarning: Determinant has increased; this should not happen: log(det) > log(previous_det) (-267.449220685145690 > -268.706349913992312). You may want to try with a higher value of support_fraction (current value: 0.501).\n",
      "  warnings.warn(\n",
      "C:\\WINDOWS\\system32\\myenv\\lib\\site-packages\\sklearn\\covariance\\_robust_covariance.py:183: RuntimeWarning: Determinant has increased; this should not happen: log(det) > log(previous_det) (-259.121742192523755 > -260.996304368568644). You may want to try with a higher value of support_fraction (current value: 0.501).\n",
      "  warnings.warn(\n",
      "C:\\WINDOWS\\system32\\myenv\\lib\\site-packages\\sklearn\\covariance\\_robust_covariance.py:183: RuntimeWarning: Determinant has increased; this should not happen: log(det) > log(previous_det) (-272.074759411643527 > -274.962009024047234). You may want to try with a higher value of support_fraction (current value: 0.501).\n",
      "  warnings.warn(\n",
      "C:\\WINDOWS\\system32\\myenv\\lib\\site-packages\\sklearn\\covariance\\_robust_covariance.py:183: RuntimeWarning: Determinant has increased; this should not happen: log(det) > log(previous_det) (-254.750773955509374 > -256.232011219785306). You may want to try with a higher value of support_fraction (current value: 0.501).\n",
      "  warnings.warn(\n",
      "C:\\WINDOWS\\system32\\myenv\\lib\\site-packages\\sklearn\\covariance\\_robust_covariance.py:183: RuntimeWarning: Determinant has increased; this should not happen: log(det) > log(previous_det) (-279.295432392663997 > -281.383746426446010). You may want to try with a higher value of support_fraction (current value: 0.501).\n",
      "  warnings.warn(\n",
      "C:\\WINDOWS\\system32\\myenv\\lib\\site-packages\\sklearn\\covariance\\_robust_covariance.py:183: RuntimeWarning: Determinant has increased; this should not happen: log(det) > log(previous_det) (-255.055276512356727 > -256.279343083826120). You may want to try with a higher value of support_fraction (current value: 0.501).\n",
      "  warnings.warn(\n",
      "C:\\WINDOWS\\system32\\myenv\\lib\\site-packages\\sklearn\\covariance\\_robust_covariance.py:183: RuntimeWarning: Determinant has increased; this should not happen: log(det) > log(previous_det) (-261.963565771595256 > -262.197030966593047). You may want to try with a higher value of support_fraction (current value: 0.501).\n",
      "  warnings.warn(\n",
      "C:\\WINDOWS\\system32\\myenv\\lib\\site-packages\\sklearn\\covariance\\_robust_covariance.py:183: RuntimeWarning: Determinant has increased; this should not happen: log(det) > log(previous_det) (-297.930795558985494 > -298.089448549194799). You may want to try with a higher value of support_fraction (current value: 0.501).\n",
      "  warnings.warn(\n",
      "C:\\WINDOWS\\system32\\myenv\\lib\\site-packages\\sklearn\\covariance\\_robust_covariance.py:183: RuntimeWarning: Determinant has increased; this should not happen: log(det) > log(previous_det) (-301.917681969805528 > -302.772553605304324). You may want to try with a higher value of support_fraction (current value: 0.501).\n",
      "  warnings.warn(\n"
     ]
    },
    {
     "name": "stderr",
     "output_type": "stream",
     "text": [
      "C:\\WINDOWS\\system32\\myenv\\lib\\site-packages\\sklearn\\covariance\\_robust_covariance.py:183: RuntimeWarning: Determinant has increased; this should not happen: log(det) > log(previous_det) (-256.230996498976879 > -257.666977120110346). You may want to try with a higher value of support_fraction (current value: 0.501).\n",
      "  warnings.warn(\n",
      "C:\\WINDOWS\\system32\\myenv\\lib\\site-packages\\sklearn\\covariance\\_robust_covariance.py:183: RuntimeWarning: Determinant has increased; this should not happen: log(det) > log(previous_det) (-264.320253142370461 > -265.179776833615165). You may want to try with a higher value of support_fraction (current value: 0.501).\n",
      "  warnings.warn(\n",
      "C:\\WINDOWS\\system32\\myenv\\lib\\site-packages\\sklearn\\covariance\\_robust_covariance.py:183: RuntimeWarning: Determinant has increased; this should not happen: log(det) > log(previous_det) (-293.906291933718876 > -294.947289214843408). You may want to try with a higher value of support_fraction (current value: 0.501).\n",
      "  warnings.warn(\n",
      "C:\\WINDOWS\\system32\\myenv\\lib\\site-packages\\sklearn\\covariance\\_robust_covariance.py:183: RuntimeWarning: Determinant has increased; this should not happen: log(det) > log(previous_det) (-299.757943595287884 > -300.444815000880396). You may want to try with a higher value of support_fraction (current value: 0.501).\n",
      "  warnings.warn(\n",
      "C:\\WINDOWS\\system32\\myenv\\lib\\site-packages\\sklearn\\covariance\\_robust_covariance.py:183: RuntimeWarning: Determinant has increased; this should not happen: log(det) > log(previous_det) (-282.716136924446289 > -283.688096564566308). You may want to try with a higher value of support_fraction (current value: 0.501).\n",
      "  warnings.warn(\n",
      "C:\\WINDOWS\\system32\\myenv\\lib\\site-packages\\sklearn\\covariance\\_robust_covariance.py:183: RuntimeWarning: Determinant has increased; this should not happen: log(det) > log(previous_det) (-267.145526120008810 > -268.340932905016416). You may want to try with a higher value of support_fraction (current value: 0.501).\n",
      "  warnings.warn(\n",
      "C:\\WINDOWS\\system32\\myenv\\lib\\site-packages\\sklearn\\covariance\\_robust_covariance.py:183: RuntimeWarning: Determinant has increased; this should not happen: log(det) > log(previous_det) (-294.611882928737657 > -294.824871368295419). You may want to try with a higher value of support_fraction (current value: 0.501).\n",
      "  warnings.warn(\n",
      "C:\\WINDOWS\\system32\\myenv\\lib\\site-packages\\sklearn\\covariance\\_robust_covariance.py:183: RuntimeWarning: Determinant has increased; this should not happen: log(det) > log(previous_det) (-253.985570111929775 > -255.307223010923110). You may want to try with a higher value of support_fraction (current value: 0.501).\n",
      "  warnings.warn(\n",
      "C:\\WINDOWS\\system32\\myenv\\lib\\site-packages\\sklearn\\covariance\\_robust_covariance.py:183: RuntimeWarning: Determinant has increased; this should not happen: log(det) > log(previous_det) (-254.200827751253968 > -255.298243840018614). You may want to try with a higher value of support_fraction (current value: 0.501).\n",
      "  warnings.warn(\n",
      "C:\\WINDOWS\\system32\\myenv\\lib\\site-packages\\sklearn\\covariance\\_robust_covariance.py:183: RuntimeWarning: Determinant has increased; this should not happen: log(det) > log(previous_det) (-255.925024256037375 > -257.493037875365928). You may want to try with a higher value of support_fraction (current value: 0.501).\n",
      "  warnings.warn(\n",
      "C:\\WINDOWS\\system32\\myenv\\lib\\site-packages\\sklearn\\covariance\\_robust_covariance.py:183: RuntimeWarning: Determinant has increased; this should not happen: log(det) > log(previous_det) (-256.169890098029896 > -257.013113724614755). You may want to try with a higher value of support_fraction (current value: 0.501).\n",
      "  warnings.warn(\n",
      "C:\\WINDOWS\\system32\\myenv\\lib\\site-packages\\sklearn\\covariance\\_robust_covariance.py:183: RuntimeWarning: Determinant has increased; this should not happen: log(det) > log(previous_det) (-266.931160963744276 > -268.021375782898247). You may want to try with a higher value of support_fraction (current value: 0.501).\n",
      "  warnings.warn(\n",
      "C:\\WINDOWS\\system32\\myenv\\lib\\site-packages\\sklearn\\covariance\\_robust_covariance.py:183: RuntimeWarning: Determinant has increased; this should not happen: log(det) > log(previous_det) (-267.015746120571634 > -268.221087401846489). You may want to try with a higher value of support_fraction (current value: 0.501).\n",
      "  warnings.warn(\n",
      "C:\\WINDOWS\\system32\\myenv\\lib\\site-packages\\sklearn\\covariance\\_robust_covariance.py:183: RuntimeWarning: Determinant has increased; this should not happen: log(det) > log(previous_det) (-271.154384860679897 > -272.372224071237554). You may want to try with a higher value of support_fraction (current value: 0.501).\n",
      "  warnings.warn(\n",
      "C:\\WINDOWS\\system32\\myenv\\lib\\site-packages\\sklearn\\covariance\\_robust_covariance.py:183: RuntimeWarning: Determinant has increased; this should not happen: log(det) > log(previous_det) (-255.527129852577588 > -256.703307635193255). You may want to try with a higher value of support_fraction (current value: 0.501).\n",
      "  warnings.warn(\n",
      "C:\\WINDOWS\\system32\\myenv\\lib\\site-packages\\sklearn\\covariance\\_robust_covariance.py:183: RuntimeWarning: Determinant has increased; this should not happen: log(det) > log(previous_det) (-300.792030639561290 > -301.118834059775281). You may want to try with a higher value of support_fraction (current value: 0.501).\n",
      "  warnings.warn(\n",
      "C:\\WINDOWS\\system32\\myenv\\lib\\site-packages\\sklearn\\covariance\\_robust_covariance.py:183: RuntimeWarning: Determinant has increased; this should not happen: log(det) > log(previous_det) (-255.689792733464685 > -257.165091964557575). You may want to try with a higher value of support_fraction (current value: 0.501).\n",
      "  warnings.warn(\n",
      "C:\\WINDOWS\\system32\\myenv\\lib\\site-packages\\sklearn\\covariance\\_robust_covariance.py:183: RuntimeWarning: Determinant has increased; this should not happen: log(det) > log(previous_det) (-255.302168460007778 > -256.568530434672596). You may want to try with a higher value of support_fraction (current value: 0.501).\n",
      "  warnings.warn(\n",
      "C:\\WINDOWS\\system32\\myenv\\lib\\site-packages\\sklearn\\covariance\\_robust_covariance.py:183: RuntimeWarning: Determinant has increased; this should not happen: log(det) > log(previous_det) (-256.143034038861515 > -256.968752023527600). You may want to try with a higher value of support_fraction (current value: 0.501).\n",
      "  warnings.warn(\n",
      "C:\\WINDOWS\\system32\\myenv\\lib\\site-packages\\sklearn\\covariance\\_robust_covariance.py:183: RuntimeWarning: Determinant has increased; this should not happen: log(det) > log(previous_det) (-258.529288429462213 > -260.193221632153893). You may want to try with a higher value of support_fraction (current value: 0.501).\n",
      "  warnings.warn(\n",
      "C:\\WINDOWS\\system32\\myenv\\lib\\site-packages\\sklearn\\covariance\\_robust_covariance.py:183: RuntimeWarning: Determinant has increased; this should not happen: log(det) > log(previous_det) (-279.352347754189111 > -281.200798379742537). You may want to try with a higher value of support_fraction (current value: 0.501).\n",
      "  warnings.warn(\n",
      "C:\\WINDOWS\\system32\\myenv\\lib\\site-packages\\sklearn\\covariance\\_robust_covariance.py:183: RuntimeWarning: Determinant has increased; this should not happen: log(det) > log(previous_det) (-264.679789717424853 > -265.164931611369639). You may want to try with a higher value of support_fraction (current value: 0.501).\n",
      "  warnings.warn(\n",
      "C:\\WINDOWS\\system32\\myenv\\lib\\site-packages\\sklearn\\covariance\\_robust_covariance.py:183: RuntimeWarning: Determinant has increased; this should not happen: log(det) > log(previous_det) (-255.434985447872890 > -256.867305724071286). You may want to try with a higher value of support_fraction (current value: 0.501).\n",
      "  warnings.warn(\n",
      "C:\\WINDOWS\\system32\\myenv\\lib\\site-packages\\sklearn\\covariance\\_robust_covariance.py:183: RuntimeWarning: Determinant has increased; this should not happen: log(det) > log(previous_det) (-272.034362712742961 > -274.949319316787637). You may want to try with a higher value of support_fraction (current value: 0.501).\n",
      "  warnings.warn(\n",
      "C:\\WINDOWS\\system32\\myenv\\lib\\site-packages\\sklearn\\covariance\\_robust_covariance.py:183: RuntimeWarning: Determinant has increased; this should not happen: log(det) > log(previous_det) (-268.327513143215469 > -270.137313730133371). You may want to try with a higher value of support_fraction (current value: 0.501).\n",
      "  warnings.warn(\n",
      "C:\\WINDOWS\\system32\\myenv\\lib\\site-packages\\sklearn\\covariance\\_robust_covariance.py:183: RuntimeWarning: Determinant has increased; this should not happen: log(det) > log(previous_det) (-253.939901456626814 > -254.376754546369142). You may want to try with a higher value of support_fraction (current value: 0.501).\n",
      "  warnings.warn(\n",
      "C:\\WINDOWS\\system32\\myenv\\lib\\site-packages\\sklearn\\covariance\\_robust_covariance.py:183: RuntimeWarning: Determinant has increased; this should not happen: log(det) > log(previous_det) (-259.362018786291117 > -261.330233150402819). You may want to try with a higher value of support_fraction (current value: 0.501).\n",
      "  warnings.warn(\n",
      "C:\\WINDOWS\\system32\\myenv\\lib\\site-packages\\sklearn\\covariance\\_robust_covariance.py:183: RuntimeWarning: Determinant has increased; this should not happen: log(det) > log(previous_det) (-267.002410678235776 > -268.054280571189281). You may want to try with a higher value of support_fraction (current value: 0.501).\n",
      "  warnings.warn(\n",
      "C:\\WINDOWS\\system32\\myenv\\lib\\site-packages\\sklearn\\covariance\\_robust_covariance.py:183: RuntimeWarning: Determinant has increased; this should not happen: log(det) > log(previous_det) (-267.025948425170270 > -268.221819369051786). You may want to try with a higher value of support_fraction (current value: 0.501).\n",
      "  warnings.warn(\n",
      "C:\\WINDOWS\\system32\\myenv\\lib\\site-packages\\sklearn\\covariance\\_robust_covariance.py:183: RuntimeWarning: Determinant has increased; this should not happen: log(det) > log(previous_det) (-256.230996498976879 > -257.774084350015983). You may want to try with a higher value of support_fraction (current value: 0.501).\n",
      "  warnings.warn(\n",
      "C:\\WINDOWS\\system32\\myenv\\lib\\site-packages\\sklearn\\covariance\\_robust_covariance.py:183: RuntimeWarning: Determinant has increased; this should not happen: log(det) > log(previous_det) (-267.414133584653541 > -268.465192125115436). You may want to try with a higher value of support_fraction (current value: 0.501).\n",
      "  warnings.warn(\n",
      "C:\\WINDOWS\\system32\\myenv\\lib\\site-packages\\sklearn\\covariance\\_robust_covariance.py:183: RuntimeWarning: Determinant has increased; this should not happen: log(det) > log(previous_det) (-254.925136780343962 > -256.173098564057739). You may want to try with a higher value of support_fraction (current value: 0.501).\n",
      "  warnings.warn(\n",
      "C:\\WINDOWS\\system32\\myenv\\lib\\site-packages\\sklearn\\covariance\\_robust_covariance.py:183: RuntimeWarning: Determinant has increased; this should not happen: log(det) > log(previous_det) (-259.137995195433064 > -261.010917668206559). You may want to try with a higher value of support_fraction (current value: 0.501).\n",
      "  warnings.warn(\n",
      "C:\\WINDOWS\\system32\\myenv\\lib\\site-packages\\sklearn\\covariance\\_robust_covariance.py:183: RuntimeWarning: Determinant has increased; this should not happen: log(det) > log(previous_det) (-254.344391233826798 > -255.438794761087905). You may want to try with a higher value of support_fraction (current value: 0.501).\n",
      "  warnings.warn(\n",
      "C:\\WINDOWS\\system32\\myenv\\lib\\site-packages\\sklearn\\covariance\\_robust_covariance.py:183: RuntimeWarning: Determinant has increased; this should not happen: log(det) > log(previous_det) (-263.938921911194370 > -265.388915346748604). You may want to try with a higher value of support_fraction (current value: 0.501).\n",
      "  warnings.warn(\n"
     ]
    },
    {
     "name": "stderr",
     "output_type": "stream",
     "text": [
      "C:\\WINDOWS\\system32\\myenv\\lib\\site-packages\\sklearn\\covariance\\_robust_covariance.py:183: RuntimeWarning: Determinant has increased; this should not happen: log(det) > log(previous_det) (-272.940466898042530 > -273.081618261848064). You may want to try with a higher value of support_fraction (current value: 0.501).\n",
      "  warnings.warn(\n",
      "C:\\WINDOWS\\system32\\myenv\\lib\\site-packages\\sklearn\\covariance\\_robust_covariance.py:183: RuntimeWarning: Determinant has increased; this should not happen: log(det) > log(previous_det) (-267.332543982469019 > -268.431035732898749). You may want to try with a higher value of support_fraction (current value: 0.501).\n",
      "  warnings.warn(\n",
      "C:\\WINDOWS\\system32\\myenv\\lib\\site-packages\\sklearn\\covariance\\_robust_covariance.py:183: RuntimeWarning: Determinant has increased; this should not happen: log(det) > log(previous_det) (-267.176987355008521 > -268.112375376544719). You may want to try with a higher value of support_fraction (current value: 0.501).\n",
      "  warnings.warn(\n",
      "C:\\WINDOWS\\system32\\myenv\\lib\\site-packages\\sklearn\\covariance\\_robust_covariance.py:183: RuntimeWarning: Determinant has increased; this should not happen: log(det) > log(previous_det) (-300.930812432224684 > -301.454507891211449). You may want to try with a higher value of support_fraction (current value: 0.501).\n",
      "  warnings.warn(\n",
      "C:\\WINDOWS\\system32\\myenv\\lib\\site-packages\\sklearn\\covariance\\_robust_covariance.py:183: RuntimeWarning: Determinant has increased; this should not happen: log(det) > log(previous_det) (-300.930812432224684 > -301.388047918306484). You may want to try with a higher value of support_fraction (current value: 0.501).\n",
      "  warnings.warn(\n",
      "C:\\WINDOWS\\system32\\myenv\\lib\\site-packages\\sklearn\\covariance\\_robust_covariance.py:183: RuntimeWarning: Determinant has increased; this should not happen: log(det) > log(previous_det) (-289.075515588983080 > -289.873897196063808). You may want to try with a higher value of support_fraction (current value: 0.501).\n",
      "  warnings.warn(\n",
      "C:\\WINDOWS\\system32\\myenv\\lib\\site-packages\\sklearn\\covariance\\_robust_covariance.py:183: RuntimeWarning: Determinant has increased; this should not happen: log(det) > log(previous_det) (-301.058895764055592 > -301.558161076323586). You may want to try with a higher value of support_fraction (current value: 0.501).\n",
      "  warnings.warn(\n",
      "C:\\WINDOWS\\system32\\myenv\\lib\\site-packages\\sklearn\\covariance\\_robust_covariance.py:183: RuntimeWarning: Determinant has increased; this should not happen: log(det) > log(previous_det) (-260.122329386594629 > -265.074141181056291). You may want to try with a higher value of support_fraction (current value: 0.501).\n",
      "  warnings.warn(\n",
      "C:\\WINDOWS\\system32\\myenv\\lib\\site-packages\\sklearn\\covariance\\_robust_covariance.py:183: RuntimeWarning: Determinant has increased; this should not happen: log(det) > log(previous_det) (-256.528593764304503 > -261.309012538068998). You may want to try with a higher value of support_fraction (current value: 0.501).\n",
      "  warnings.warn(\n",
      "C:\\WINDOWS\\system32\\myenv\\lib\\site-packages\\sklearn\\covariance\\_robust_covariance.py:183: RuntimeWarning: Determinant has increased; this should not happen: log(det) > log(previous_det) (-254.711090500235201 > -256.312933243141288). You may want to try with a higher value of support_fraction (current value: 0.501).\n",
      "  warnings.warn(\n",
      "C:\\WINDOWS\\system32\\myenv\\lib\\site-packages\\sklearn\\covariance\\_robust_covariance.py:183: RuntimeWarning: Determinant has increased; this should not happen: log(det) > log(previous_det) (-256.516225081359721 > -261.489705241894967). You may want to try with a higher value of support_fraction (current value: 0.501).\n",
      "  warnings.warn(\n",
      "C:\\WINDOWS\\system32\\myenv\\lib\\site-packages\\sklearn\\covariance\\_robust_covariance.py:183: RuntimeWarning: Determinant has increased; this should not happen: log(det) > log(previous_det) (-255.093540395733555 > -256.452663995860632). You may want to try with a higher value of support_fraction (current value: 0.501).\n",
      "  warnings.warn(\n",
      "C:\\WINDOWS\\system32\\myenv\\lib\\site-packages\\sklearn\\covariance\\_robust_covariance.py:183: RuntimeWarning: Determinant has increased; this should not happen: log(det) > log(previous_det) (-254.843144385897403 > -256.250389445009830). You may want to try with a higher value of support_fraction (current value: 0.501).\n",
      "  warnings.warn(\n",
      "C:\\WINDOWS\\system32\\myenv\\lib\\site-packages\\sklearn\\covariance\\_robust_covariance.py:183: RuntimeWarning: Determinant has increased; this should not happen: log(det) > log(previous_det) (-256.199040139149531 > -257.648801011097021). You may want to try with a higher value of support_fraction (current value: 0.501).\n",
      "  warnings.warn(\n",
      "C:\\WINDOWS\\system32\\myenv\\lib\\site-packages\\sklearn\\covariance\\_robust_covariance.py:183: RuntimeWarning: Determinant has increased; this should not happen: log(det) > log(previous_det) (-258.803027878017588 > -260.209429703134504). You may want to try with a higher value of support_fraction (current value: 0.501).\n",
      "  warnings.warn(\n",
      "C:\\WINDOWS\\system32\\myenv\\lib\\site-packages\\sklearn\\covariance\\_robust_covariance.py:183: RuntimeWarning: Determinant has increased; this should not happen: log(det) > log(previous_det) (-298.052483375655413 > -299.267086863140662). You may want to try with a higher value of support_fraction (current value: 0.501).\n",
      "  warnings.warn(\n",
      "C:\\WINDOWS\\system32\\myenv\\lib\\site-packages\\sklearn\\covariance\\_robust_covariance.py:183: RuntimeWarning: Determinant has increased; this should not happen: log(det) > log(previous_det) (-281.536232417447025 > -282.146017946692211). You may want to try with a higher value of support_fraction (current value: 0.501).\n",
      "  warnings.warn(\n",
      "C:\\WINDOWS\\system32\\myenv\\lib\\site-packages\\sklearn\\covariance\\_robust_covariance.py:183: RuntimeWarning: Determinant has increased; this should not happen: log(det) > log(previous_det) (-255.206677276621605 > -256.494846440680988). You may want to try with a higher value of support_fraction (current value: 0.501).\n",
      "  warnings.warn(\n",
      "C:\\WINDOWS\\system32\\myenv\\lib\\site-packages\\sklearn\\covariance\\_robust_covariance.py:183: RuntimeWarning: Determinant has increased; this should not happen: log(det) > log(previous_det) (-254.235495721277488 > -254.999837378501581). You may want to try with a higher value of support_fraction (current value: 0.501).\n",
      "  warnings.warn(\n",
      "C:\\WINDOWS\\system32\\myenv\\lib\\site-packages\\sklearn\\covariance\\_robust_covariance.py:183: RuntimeWarning: Determinant has increased; this should not happen: log(det) > log(previous_det) (-259.157797057298126 > -260.954857806944801). You may want to try with a higher value of support_fraction (current value: 0.501).\n",
      "  warnings.warn(\n",
      "C:\\WINDOWS\\system32\\myenv\\lib\\site-packages\\sklearn\\covariance\\_robust_covariance.py:183: RuntimeWarning: Determinant has increased; this should not happen: log(det) > log(previous_det) (-259.173213408487413 > -261.127365589426915). You may want to try with a higher value of support_fraction (current value: 0.501).\n",
      "  warnings.warn(\n",
      "C:\\WINDOWS\\system32\\myenv\\lib\\site-packages\\sklearn\\covariance\\_robust_covariance.py:183: RuntimeWarning: Determinant has increased; this should not happen: log(det) > log(previous_det) (-263.970202492443548 > -265.175346861625258). You may want to try with a higher value of support_fraction (current value: 0.501).\n",
      "  warnings.warn(\n",
      "C:\\WINDOWS\\system32\\myenv\\lib\\site-packages\\sklearn\\covariance\\_robust_covariance.py:183: RuntimeWarning: Determinant has increased; this should not happen: log(det) > log(previous_det) (-255.581004453375726 > -257.106686111495435). You may want to try with a higher value of support_fraction (current value: 0.501).\n",
      "  warnings.warn(\n",
      "C:\\WINDOWS\\system32\\myenv\\lib\\site-packages\\sklearn\\covariance\\_robust_covariance.py:183: RuntimeWarning: Determinant has increased; this should not happen: log(det) > log(previous_det) (-299.939398518927419 > -300.660183692890485). You may want to try with a higher value of support_fraction (current value: 0.501).\n",
      "  warnings.warn(\n",
      "C:\\WINDOWS\\system32\\myenv\\lib\\site-packages\\sklearn\\covariance\\_robust_covariance.py:183: RuntimeWarning: Determinant has increased; this should not happen: log(det) > log(previous_det) (-301.595024034464984 > -302.168986854152308). You may want to try with a higher value of support_fraction (current value: 0.501).\n",
      "  warnings.warn(\n",
      "C:\\WINDOWS\\system32\\myenv\\lib\\site-packages\\sklearn\\covariance\\_robust_covariance.py:183: RuntimeWarning: Determinant has increased; this should not happen: log(det) > log(previous_det) (-264.133244759745992 > -265.402352099470420). You may want to try with a higher value of support_fraction (current value: 0.501).\n",
      "  warnings.warn(\n",
      "C:\\WINDOWS\\system32\\myenv\\lib\\site-packages\\sklearn\\covariance\\_robust_covariance.py:183: RuntimeWarning: Determinant has increased; this should not happen: log(det) > log(previous_det) (-264.049810510892712 > -265.413854218399138). You may want to try with a higher value of support_fraction (current value: 0.501).\n",
      "  warnings.warn(\n",
      "C:\\WINDOWS\\system32\\myenv\\lib\\site-packages\\sklearn\\covariance\\_robust_covariance.py:183: RuntimeWarning: Determinant has increased; this should not happen: log(det) > log(previous_det) (-264.116126261569434 > -265.530681185138747). You may want to try with a higher value of support_fraction (current value: 0.501).\n",
      "  warnings.warn(\n",
      "C:\\WINDOWS\\system32\\myenv\\lib\\site-packages\\sklearn\\covariance\\_robust_covariance.py:183: RuntimeWarning: Determinant has increased; this should not happen: log(det) > log(previous_det) (-264.116126261569434 > -265.391102492318794). You may want to try with a higher value of support_fraction (current value: 0.501).\n",
      "  warnings.warn(\n",
      "C:\\WINDOWS\\system32\\myenv\\lib\\site-packages\\sklearn\\covariance\\_robust_covariance.py:183: RuntimeWarning: Determinant has increased; this should not happen: log(det) > log(previous_det) (-264.116126261569434 > -265.473866251818947). You may want to try with a higher value of support_fraction (current value: 0.501).\n",
      "  warnings.warn(\n",
      "C:\\WINDOWS\\system32\\myenv\\lib\\site-packages\\sklearn\\covariance\\_robust_covariance.py:183: RuntimeWarning: Determinant has increased; this should not happen: log(det) > log(previous_det) (-264.122688382157435 > -265.508782750458181). You may want to try with a higher value of support_fraction (current value: 0.501).\n",
      "  warnings.warn(\n"
     ]
    },
    {
     "name": "stderr",
     "output_type": "stream",
     "text": [
      "C:\\WINDOWS\\system32\\myenv\\lib\\site-packages\\sklearn\\covariance\\_robust_covariance.py:183: RuntimeWarning: Determinant has increased; this should not happen: log(det) > log(previous_det) (-311.913033908827686 > -315.594579847379464). You may want to try with a higher value of support_fraction (current value: 0.501).\n",
      "  warnings.warn(\n",
      "C:\\WINDOWS\\system32\\myenv\\lib\\site-packages\\sklearn\\covariance\\_robust_covariance.py:183: RuntimeWarning: Determinant has increased; this should not happen: log(det) > log(previous_det) (-297.737629447110066 > -298.358401811520366). You may want to try with a higher value of support_fraction (current value: 0.501).\n",
      "  warnings.warn(\n",
      "C:\\WINDOWS\\system32\\myenv\\lib\\site-packages\\sklearn\\covariance\\_robust_covariance.py:183: RuntimeWarning: Determinant has increased; this should not happen: log(det) > log(previous_det) (-297.584713884114876 > -299.050413194525163). You may want to try with a higher value of support_fraction (current value: 0.501).\n",
      "  warnings.warn(\n",
      "C:\\WINDOWS\\system32\\myenv\\lib\\site-packages\\sklearn\\covariance\\_robust_covariance.py:183: RuntimeWarning: Determinant has increased; this should not happen: log(det) > log(previous_det) (-297.713127136096887 > -298.518540226855009). You may want to try with a higher value of support_fraction (current value: 0.501).\n",
      "  warnings.warn(\n"
     ]
    },
    {
     "data": {
      "text/html": [
       "<style>#sk-container-id-2 {color: black;background-color: white;}#sk-container-id-2 pre{padding: 0;}#sk-container-id-2 div.sk-toggleable {background-color: white;}#sk-container-id-2 label.sk-toggleable__label {cursor: pointer;display: block;width: 100%;margin-bottom: 0;padding: 0.3em;box-sizing: border-box;text-align: center;}#sk-container-id-2 label.sk-toggleable__label-arrow:before {content: \"▸\";float: left;margin-right: 0.25em;color: #696969;}#sk-container-id-2 label.sk-toggleable__label-arrow:hover:before {color: black;}#sk-container-id-2 div.sk-estimator:hover label.sk-toggleable__label-arrow:before {color: black;}#sk-container-id-2 div.sk-toggleable__content {max-height: 0;max-width: 0;overflow: hidden;text-align: left;background-color: #f0f8ff;}#sk-container-id-2 div.sk-toggleable__content pre {margin: 0.2em;color: black;border-radius: 0.25em;background-color: #f0f8ff;}#sk-container-id-2 input.sk-toggleable__control:checked~div.sk-toggleable__content {max-height: 200px;max-width: 100%;overflow: auto;}#sk-container-id-2 input.sk-toggleable__control:checked~label.sk-toggleable__label-arrow:before {content: \"▾\";}#sk-container-id-2 div.sk-estimator input.sk-toggleable__control:checked~label.sk-toggleable__label {background-color: #d4ebff;}#sk-container-id-2 div.sk-label input.sk-toggleable__control:checked~label.sk-toggleable__label {background-color: #d4ebff;}#sk-container-id-2 input.sk-hidden--visually {border: 0;clip: rect(1px 1px 1px 1px);clip: rect(1px, 1px, 1px, 1px);height: 1px;margin: -1px;overflow: hidden;padding: 0;position: absolute;width: 1px;}#sk-container-id-2 div.sk-estimator {font-family: monospace;background-color: #f0f8ff;border: 1px dotted black;border-radius: 0.25em;box-sizing: border-box;margin-bottom: 0.5em;}#sk-container-id-2 div.sk-estimator:hover {background-color: #d4ebff;}#sk-container-id-2 div.sk-parallel-item::after {content: \"\";width: 100%;border-bottom: 1px solid gray;flex-grow: 1;}#sk-container-id-2 div.sk-label:hover label.sk-toggleable__label {background-color: #d4ebff;}#sk-container-id-2 div.sk-serial::before {content: \"\";position: absolute;border-left: 1px solid gray;box-sizing: border-box;top: 0;bottom: 0;left: 50%;z-index: 0;}#sk-container-id-2 div.sk-serial {display: flex;flex-direction: column;align-items: center;background-color: white;padding-right: 0.2em;padding-left: 0.2em;position: relative;}#sk-container-id-2 div.sk-item {position: relative;z-index: 1;}#sk-container-id-2 div.sk-parallel {display: flex;align-items: stretch;justify-content: center;background-color: white;position: relative;}#sk-container-id-2 div.sk-item::before, #sk-container-id-2 div.sk-parallel-item::before {content: \"\";position: absolute;border-left: 1px solid gray;box-sizing: border-box;top: 0;bottom: 0;left: 50%;z-index: -1;}#sk-container-id-2 div.sk-parallel-item {display: flex;flex-direction: column;z-index: 1;position: relative;background-color: white;}#sk-container-id-2 div.sk-parallel-item:first-child::after {align-self: flex-end;width: 50%;}#sk-container-id-2 div.sk-parallel-item:last-child::after {align-self: flex-start;width: 50%;}#sk-container-id-2 div.sk-parallel-item:only-child::after {width: 0;}#sk-container-id-2 div.sk-dashed-wrapped {border: 1px dashed gray;margin: 0 0.4em 0.5em 0.4em;box-sizing: border-box;padding-bottom: 0.4em;background-color: white;}#sk-container-id-2 div.sk-label label {font-family: monospace;font-weight: bold;display: inline-block;line-height: 1.2em;}#sk-container-id-2 div.sk-label-container {text-align: center;}#sk-container-id-2 div.sk-container {/* jupyter's `normalize.less` sets `[hidden] { display: none; }` but bootstrap.min.css set `[hidden] { display: none !important; }` so we also need the `!important` here to be able to override the default hidden behavior on the sphinx rendered scikit-learn.org. See: https://github.com/scikit-learn/scikit-learn/issues/21755 */display: inline-block !important;position: relative;}#sk-container-id-2 div.sk-text-repr-fallback {display: none;}</style><div id=\"sk-container-id-2\" class=\"sk-top-container\"><div class=\"sk-text-repr-fallback\"><pre>MinCovDet(random_state=42)</pre><b>In a Jupyter environment, please rerun this cell to show the HTML representation or trust the notebook. <br />On GitHub, the HTML representation is unable to render, please try loading this page with nbviewer.org.</b></div><div class=\"sk-container\" hidden><div class=\"sk-item\"><div class=\"sk-estimator sk-toggleable\"><input class=\"sk-toggleable__control sk-hidden--visually\" id=\"sk-estimator-id-2\" type=\"checkbox\" checked><label for=\"sk-estimator-id-2\" class=\"sk-toggleable__label sk-toggleable__label-arrow\">MinCovDet</label><div class=\"sk-toggleable__content\"><pre>MinCovDet(random_state=42)</pre></div></div></div></div></div>"
      ],
      "text/plain": [
       "MinCovDet(random_state=42)"
      ]
     },
     "execution_count": 203,
     "metadata": {},
     "output_type": "execute_result"
    }
   ],
   "source": [
    "model_mcd = joblib.load('model_mcd.sav')\n",
    "model_mcd.fit(test_one_hot_data_mcd)"
   ]
  },
  {
   "cell_type": "code",
   "execution_count": 204,
   "id": "aa9942e5",
   "metadata": {},
   "outputs": [],
   "source": [
    "#correct_cov_pca = model_mcd.correct_covariance(test_one_hot_data_mcd)"
   ]
  },
  {
   "cell_type": "code",
   "execution_count": 205,
   "id": "6841effe",
   "metadata": {},
   "outputs": [
    {
     "data": {
      "text/plain": [
       "array([-1.79052026e-16, -1.23723088e-16,  8.12369834e-17, -1.47676800e-16,\n",
       "        3.20186986e-16,  2.17169158e-16, -2.57887759e-16,  1.87894314e-16,\n",
       "        2.04177815e-17, -2.15455364e-18, -2.63136252e-16, -5.93336987e-16,\n",
       "        4.23609870e-17,  2.73645549e-16,  5.01252596e-16,  4.76464148e-16,\n",
       "       -4.97877949e-16, -8.25772697e-17,  1.46356982e-16,  1.01078853e-15,\n",
       "       -4.62473093e-16, -1.20191821e-15, -6.37058421e-17, -8.90778658e-17,\n",
       "       -2.88891786e-15])"
      ]
     },
     "execution_count": 205,
     "metadata": {},
     "output_type": "execute_result"
    },
    {
     "data": {
      "text/plain": [
       "array([[ 1.00000000e+00, -2.47979194e-16, -1.14257970e-18,\n",
       "        -7.76166210e-18, -1.98178479e-17, -2.96676729e-17,\n",
       "        -4.35362265e-18, -5.90989500e-19, -1.59764161e-17,\n",
       "        -6.01331816e-18,  1.18936637e-17, -1.31987655e-18,\n",
       "         2.23714150e-18,  2.71362679e-18, -1.29943816e-17,\n",
       "         1.49717340e-18, -3.13224435e-18,  4.26743668e-18,\n",
       "         1.14257970e-18,  3.30954120e-18,  2.20636080e-18,\n",
       "         4.51121985e-18, -1.57597200e-18, -1.00468215e-17,\n",
       "        -5.90989500e-19],\n",
       "       [ 2.47979194e-16,  1.00000000e+00,  4.42540409e-16,\n",
       "        -3.19929179e-18,  2.27276972e-16,  1.68494703e-16,\n",
       "         2.58650051e-16, -5.94108416e-17,  1.13263913e-16,\n",
       "         3.35980071e-17,  3.80301657e-17, -5.50041609e-17,\n",
       "         2.47735335e-17,  1.02204502e-16, -1.36941923e-16,\n",
       "        -7.35362627e-17,  6.26819517e-17, -1.29721072e-17,\n",
       "        -4.96234282e-17,  1.60437120e-17, -2.43885726e-17,\n",
       "        -1.48017182e-17, -1.94225066e-17,  7.57483058e-17,\n",
       "        -6.50521303e-18],\n",
       "       [ 1.14257970e-18, -4.12540693e-16,  1.00000000e+00,\n",
       "        -1.44270329e-16,  6.92521991e-16,  1.19351005e-15,\n",
       "         5.18517761e-16,  8.96993732e-17,  5.24549616e-16,\n",
       "        -2.04802832e-16, -2.03097957e-17,  1.73437902e-17,\n",
       "        -4.93294079e-16,  2.16580369e-16,  2.73939670e-16,\n",
       "        -6.08001076e-17, -6.64259824e-17, -1.57153588e-16,\n",
       "         1.29391784e-16,  2.56996490e-16, -9.89665558e-17,\n",
       "        -2.90452959e-16,  1.59797703e-16,  1.49445387e-16,\n",
       "         1.11022302e-16],\n",
       "       [ 7.76166210e-18,  4.84520241e-17,  3.22318108e-17,\n",
       "         1.00000000e+00, -1.41700890e-16, -6.73616852e-16,\n",
       "         8.45712568e-16, -6.65855507e-17,  3.96619777e-16,\n",
       "        -2.00175404e-16,  1.40564162e-16,  1.00514530e-16,\n",
       "        -3.39503207e-16,  4.32701305e-17,  1.70702417e-16,\n",
       "         6.41147131e-16, -2.20506187e-16, -1.30857265e-16,\n",
       "         1.69759963e-16, -1.13326478e-16,  5.35858533e-16,\n",
       "         3.93414083e-19, -3.93418525e-16,  1.17699137e-15,\n",
       "        -3.74700271e-16],\n",
       "       [ 1.98178479e-17, -1.06407788e-16, -2.61218391e-16,\n",
       "        -2.40932589e-16,  1.00000000e+00, -3.60808495e-16,\n",
       "         2.27619541e-16,  4.10719177e-16,  1.70947412e-16,\n",
       "         1.01454892e-16, -1.27840659e-16, -1.69635896e-16,\n",
       "         3.51059846e-16, -4.40693393e-16,  5.43501213e-16,\n",
       "         1.65945342e-16, -3.73293929e-18,  5.13742231e-16,\n",
       "        -2.90702245e-16, -4.31555716e-16, -4.77220191e-16,\n",
       "         3.64047696e-16, -5.42535753e-16, -9.30587940e-17,\n",
       "         2.08166817e-17],\n",
       "       [ 2.96676729e-17, -1.37647923e-16, -1.44945694e-15,\n",
       "         8.35034754e-16,  3.12347600e-16,  1.00000000e+00,\n",
       "        -4.71282156e-16,  6.46368051e-18, -1.95953606e-16,\n",
       "        -1.57620295e-16, -6.99213471e-16, -9.76657154e-17,\n",
       "        -3.31303242e-16,  1.13856909e-16,  4.25472715e-16,\n",
       "         1.56904448e-16, -2.90756844e-16, -2.85661601e-17,\n",
       "        -3.97750501e-17, -1.65670714e-16,  9.74738932e-17,\n",
       "        -4.92080070e-17,  3.27333828e-16,  4.23205894e-17,\n",
       "        -5.55111512e-17],\n",
       "       [ 4.35362265e-18, -1.50525356e-16, -6.37080656e-16,\n",
       "        -3.18695447e-16, -6.81891757e-16, -2.02492555e-17,\n",
       "         1.00000000e+00,  4.19212255e-17, -8.99454626e-17,\n",
       "        -7.15852449e-17, -8.51852062e-16,  4.68070958e-17,\n",
       "         1.24296795e-16,  3.26000776e-17,  5.63424955e-16,\n",
       "        -9.74407520e-17,  1.43729420e-17, -5.66274555e-16,\n",
       "        -7.07279673e-16,  1.80546681e-16,  3.91421687e-16,\n",
       "        -8.31447516e-17,  5.42526367e-16,  1.07456218e-16,\n",
       "         3.88578059e-16],\n",
       "       [ 5.90989500e-19,  3.84603599e-17,  2.69394250e-18,\n",
       "         6.24765815e-17, -3.28145945e-16,  2.95319181e-17,\n",
       "        -1.55627865e-16,  1.00000000e+00, -5.91903389e-16,\n",
       "         2.75460519e-16,  2.03220566e-16,  2.73005147e-16,\n",
       "        -1.36920787e-16, -8.64587087e-17,  2.05671493e-16,\n",
       "         3.31030566e-16,  8.02502281e-17, -6.46268371e-17,\n",
       "        -1.22830557e-16,  1.04679569e-16,  2.30306072e-16,\n",
       "        -1.63021575e-16, -1.46380052e-16,  3.05514312e-18,\n",
       "         2.49800181e-16],\n",
       "       [ 1.59764161e-17,  9.67351371e-17, -1.78379553e-16,\n",
       "        -1.11260237e-15, -3.65392871e-16, -4.01484688e-16,\n",
       "        -2.94222010e-16,  7.75652165e-16,  1.00000000e+00,\n",
       "         3.09993719e-16, -6.64585086e-16, -4.44034260e-17,\n",
       "        -2.61057323e-16, -7.70500099e-17,  6.36992468e-16,\n",
       "         2.39908281e-16, -2.99641494e-16,  2.79736968e-16,\n",
       "        -1.55356482e-16,  2.88875614e-16,  6.42866130e-17,\n",
       "         1.64417831e-16, -5.06819372e-16, -3.06431928e-16,\n",
       "        -1.11022302e-16],\n",
       "       [ 6.01331816e-18,  4.31129155e-17,  5.01328523e-17,\n",
       "         2.91491413e-16, -3.14894160e-16, -4.29389953e-16,\n",
       "         1.22094572e-17,  2.94513685e-16, -2.09999010e-16,\n",
       "         1.00000000e+00, -1.46553277e-16,  2.09994613e-16,\n",
       "         2.52332748e-16, -1.60284927e-16,  2.33031323e-16,\n",
       "        -4.01786911e-16, -2.83850997e-17,  4.20317716e-16,\n",
       "        -7.34307536e-17, -1.32583680e-16,  2.65522454e-16,\n",
       "        -1.02507162e-16,  1.32060708e-16, -3.06766783e-16,\n",
       "         6.10622664e-16],\n",
       "       [-1.18936637e-17,  5.42078501e-17,  7.56555132e-16,\n",
       "         1.75619994e-16, -5.01629259e-16, -1.22366134e-17,\n",
       "         5.18783925e-16,  3.94188253e-16, -3.02069201e-16,\n",
       "        -6.31166549e-16,  1.00000000e+00, -4.90713537e-16,\n",
       "         1.66683043e-16, -3.76225694e-16,  2.98089364e-16,\n",
       "        -7.41446675e-17,  1.39118566e-16,  1.40650657e-16,\n",
       "        -9.43335099e-16, -8.39261172e-17,  9.63886943e-17,\n",
       "         3.31625429e-16, -1.53626689e-16,  1.82378089e-16,\n",
       "         4.02455846e-16],\n",
       "       [ 1.31987655e-18,  1.82838128e-17,  1.76527832e-16,\n",
       "         1.62925534e-16,  1.59869998e-16, -2.81631669e-16,\n",
       "         6.95305236e-17, -2.51707359e-16, -3.77430574e-18,\n",
       "        -1.84537052e-16, -1.20840181e-16,  1.00000000e+00,\n",
       "         3.09599309e-18, -5.11989965e-16, -8.08751075e-17,\n",
       "        -2.11399169e-16, -1.77624249e-16, -2.21273724e-16,\n",
       "        -1.41373851e-16,  1.25024586e-16, -4.64225133e-16,\n",
       "        -1.08739398e-16,  1.84492617e-16,  1.90913636e-16,\n",
       "         6.66133815e-16],\n",
       "       [-2.23714150e-18, -6.99928936e-17,  2.77803353e-17,\n",
       "         6.96491203e-16, -3.99448134e-16,  6.94129780e-16,\n",
       "        -8.17009595e-17,  3.80183204e-16,  1.60836077e-16,\n",
       "        -2.13874280e-16, -3.98027163e-16, -1.07073875e-15,\n",
       "         1.00000000e+00, -2.42931520e-16, -2.03008551e-16,\n",
       "        -7.85288830e-17, -4.09033780e-16,  8.08402111e-17,\n",
       "         3.90714711e-16, -8.92874346e-17,  1.97291305e-16,\n",
       "        -2.28820846e-16, -7.53278646e-16,  7.03925327e-18,\n",
       "         1.56125113e-16],\n",
       "       [-2.71362679e-18, -5.40205945e-17, -3.68814751e-16,\n",
       "        -2.40926553e-16,  2.43583115e-16, -2.31562200e-16,\n",
       "         1.78532755e-16, -1.59740744e-16, -2.51088541e-16,\n",
       "         4.51266659e-16,  3.58331234e-16, -2.70041047e-16,\n",
       "        -4.62438809e-18,  1.00000000e+00,  1.77143666e-16,\n",
       "        -2.41440040e-16, -3.20612030e-16, -4.18336031e-16,\n",
       "        -4.04934327e-16,  2.80827517e-16, -5.49734964e-16,\n",
       "        -9.42413572e-17, -2.78146025e-17, -7.82041930e-17,\n",
       "        -2.77555756e-16],\n",
       "       [ 1.29943816e-17,  1.60206683e-16, -6.18407962e-16,\n",
       "        -4.81953829e-16, -4.85306338e-16, -4.79198531e-16,\n",
       "        -2.10622659e-16, -8.08169752e-17, -3.50924809e-16,\n",
       "        -1.67025325e-16, -4.24766554e-17,  2.92075213e-17,\n",
       "         4.00382761e-17, -4.14763140e-16,  1.00000000e+00,\n",
       "        -9.42698048e-17, -1.40522057e-16, -2.00490051e-16,\n",
       "        -1.72290555e-16, -1.87903640e-17, -1.66839204e-16,\n",
       "        -6.62572984e-17, -3.71525596e-16, -1.84594814e-16,\n",
       "         1.11022302e-16],\n",
       "       [-1.49717340e-18,  3.32229043e-17,  1.75936497e-17,\n",
       "        -4.92438973e-16, -1.39025283e-16,  1.99316914e-16,\n",
       "         9.23386845e-17,  1.35659847e-16, -2.98395630e-16,\n",
       "         3.63035589e-16,  4.67988012e-16,  2.22899563e-16,\n",
       "         2.57809916e-16,  8.54497568e-17, -1.86649419e-16,\n",
       "         1.00000000e+00, -9.27316629e-17,  2.86118849e-16,\n",
       "        -2.49579428e-16, -1.34133361e-16, -1.13156028e-15,\n",
       "        -2.11425663e-16, -6.52446060e-17,  3.16430266e-17,\n",
       "        -1.66533454e-16],\n",
       "       [ 3.13224435e-18, -5.60593149e-17, -2.97076817e-17,\n",
       "         5.60854587e-17, -6.77831765e-18,  1.37318761e-16,\n",
       "        -5.73452221e-17,  2.25070617e-16,  2.85301219e-16,\n",
       "         1.51211402e-16, -1.79154862e-16,  8.37035133e-17,\n",
       "        -2.07804330e-16,  2.45909933e-16,  1.67552944e-16,\n",
       "         2.76592436e-16,  1.00000000e+00,  6.02418616e-17,\n",
       "         3.64435866e-16, -1.19650064e-16,  8.69364703e-17,\n",
       "         3.86025007e-16,  2.59368478e-16, -2.08103583e-16,\n",
       "         1.11022302e-16],\n",
       "       [-4.26743668e-18, -5.29924700e-17, -2.62995119e-18,\n",
       "         3.41322423e-16, -1.89890246e-16,  1.21595030e-16,\n",
       "         3.60075203e-16, -5.22236304e-17, -1.17541567e-16,\n",
       "        -5.93378426e-16, -4.26035239e-16,  1.39505099e-16,\n",
       "         1.60260443e-16, -6.31759875e-16,  3.45890344e-18,\n",
       "        -4.25906303e-16, -4.82826924e-17,  1.00000000e+00,\n",
       "        -1.18171649e-16, -7.29025370e-17,  1.70207135e-16,\n",
       "        -1.06779853e-16, -2.21872061e-17, -5.99474084e-17,\n",
       "         1.38777878e-16],\n",
       "       [-1.14257970e-18,  3.44419486e-17,  3.07245624e-16,\n",
       "        -5.31629033e-16,  5.26836993e-16,  1.22261315e-16,\n",
       "        -1.88343783e-16,  3.02332379e-16,  8.60142859e-17,\n",
       "        -1.66053934e-16,  3.72260323e-16, -4.34085062e-16,\n",
       "         3.24168007e-16,  6.62783111e-16,  2.41884469e-16,\n",
       "         3.02344536e-16, -3.75526123e-16, -1.70813917e-16,\n",
       "         1.00000000e+00, -2.02644176e-16,  4.31234154e-17,\n",
       "         2.93303322e-17, -5.67206292e-16, -9.04384786e-17,\n",
       "         1.38777878e-17],\n",
       "       [-3.30954120e-18,  5.36938058e-17, -5.57495758e-17,\n",
       "        -3.85482370e-16,  1.19507029e-16,  1.27350588e-16,\n",
       "        -4.01677486e-16,  2.48925623e-16, -5.84508561e-16,\n",
       "         2.24779409e-16,  1.24161179e-16, -3.21839488e-16,\n",
       "         4.69536729e-17,  4.55946194e-17, -9.43692857e-17,\n",
       "         5.96593614e-17, -2.17174127e-16,  9.58757913e-17,\n",
       "         1.80532983e-16,  1.00000000e+00, -4.96877462e-16,\n",
       "         2.88845177e-16, -2.43481282e-16,  6.32565321e-17,\n",
       "        -4.99600361e-16],\n",
       "       [-2.20636080e-18,  9.14779639e-17,  1.43468948e-16,\n",
       "        -5.59203964e-16,  7.40773370e-17, -2.78290970e-16,\n",
       "         3.67989414e-17, -4.77963050e-16, -3.39532006e-16,\n",
       "        -1.70177488e-16, -7.99899950e-17,  6.54257175e-16,\n",
       "         1.30343010e-16,  1.31803491e-16, -6.94585981e-17,\n",
       "         6.73353971e-16,  1.21227810e-16,  8.49517743e-17,\n",
       "        -1.39539765e-16,  1.77158919e-16,  1.00000000e+00,\n",
       "        -1.57961758e-17, -3.32891932e-16,  2.99399863e-16,\n",
       "        -4.75314232e-16],\n",
       "       [-4.51121985e-18,  4.23419323e-17,  2.80730004e-16,\n",
       "        -1.18239657e-16, -3.63907962e-16,  2.87004960e-16,\n",
       "         2.00130566e-16,  1.42438776e-16, -4.38500678e-16,\n",
       "        -2.09120483e-17,  5.44767913e-16,  6.03588030e-17,\n",
       "        -2.38713322e-17,  3.25675547e-16,  1.33536189e-17,\n",
       "        -1.81201279e-16, -8.47799562e-16,  4.07450497e-16,\n",
       "        -3.05014955e-16, -2.53700673e-16, -5.45583505e-17,\n",
       "         1.00000000e+00,  3.19803042e-16,  1.68756522e-16,\n",
       "         1.66533454e-16],\n",
       "       [ 1.57597200e-18,  5.70225424e-17, -1.86877593e-16,\n",
       "         1.62772873e-16,  1.39785886e-16, -3.33160678e-16,\n",
       "        -2.95049081e-16,  1.05764605e-16,  2.52918596e-16,\n",
       "         6.40846780e-17,  6.61541153e-17,  1.62011057e-16,\n",
       "         2.64604558e-16,  4.74501259e-16,  8.97285602e-18,\n",
       "         1.50842898e-16, -3.12954323e-16, -2.80094151e-16,\n",
       "         3.01942182e-16,  1.49779297e-16, -2.21260860e-17,\n",
       "         4.13429401e-16,  1.00000000e+00,  4.34398803e-16,\n",
       "         4.37150316e-16],\n",
       "       [ 1.00468215e-17, -7.81364544e-17, -5.61685894e-16,\n",
       "        -5.23282914e-16, -1.56615966e-17,  2.59980216e-16,\n",
       "        -6.41282598e-17,  7.61461861e-17,  2.93968313e-16,\n",
       "         6.88354191e-17,  7.59006859e-17,  2.91092100e-16,\n",
       "         5.04724400e-16,  2.63793793e-16, -6.08893052e-17,\n",
       "         9.77970714e-17,  2.32453834e-16,  3.92078209e-16,\n",
       "        -7.51798588e-17, -2.11939358e-16, -2.81423153e-16,\n",
       "         3.51083765e-16,  2.17327783e-17,  1.00000000e+00,\n",
       "        -5.55111512e-17],\n",
       "       [ 5.90989500e-19,  3.18085263e-17, -1.95590382e-16,\n",
       "        -6.18504014e-17,  2.35665856e-16,  2.60757428e-16,\n",
       "        -6.62435908e-16,  5.16757051e-16,  1.97116404e-16,\n",
       "        -5.11194827e-16,  2.09620111e-16, -8.14003930e-16,\n",
       "        -1.50459913e-16,  4.95364114e-16, -5.54372144e-16,\n",
       "         9.96253926e-17, -5.73545543e-16, -1.01948303e-16,\n",
       "        -2.05095962e-16,  5.49043727e-16,  4.41670554e-16,\n",
       "         2.65977311e-16,  2.68781190e-16, -1.09164983e-16,\n",
       "         1.00000000e+00]])"
      ]
     },
     "execution_count": 205,
     "metadata": {},
     "output_type": "execute_result"
    }
   ],
   "source": [
    "np.mean(data_array_test,axis = 0)\n",
    "sp.linalg.pinv(np.cov(data_array_test, rowvar=False))\n",
    "inv_cormat_pca_test = sp.linalg.pinv(model_mcd.covariance_)\n",
    "mu_vect_pca_test = model_mcd.location_"
   ]
  },
  {
   "cell_type": "code",
   "execution_count": 206,
   "id": "7ebdf292",
   "metadata": {},
   "outputs": [],
   "source": [
    "mahal_dist_test = []\n",
    "for i in range(data_array_test_mcd.shape[0]):\n",
    "    x_minus_mu_pca_test = data_array_test[i,:] - mu_vect_mcd_pca\n",
    "    left_term_pca_test = np.dot(x_minus_mu_pca_test, inv_cormat_mcd_pca)\n",
    "    mahal = np.dot(left_term_pca_test, x_minus_mu_pca_test.T)\n",
    "    mahal = np.sqrt(mahal)\n",
    "    mahal_dist_test.append(mahal)"
   ]
  },
  {
   "cell_type": "code",
   "execution_count": 207,
   "id": "ac0915ab",
   "metadata": {},
   "outputs": [
    {
     "name": "stderr",
     "output_type": "stream",
     "text": [
      "C:\\WINDOWS\\system32\\myenv\\lib\\site-packages\\numpy\\core\\fromnumeric.py:3430: FutureWarning: In a future version, DataFrame.mean(axis=None) will return a scalar mean over the entire DataFrame. To retain the old behavior, use 'frame.mean(axis=0)' or just 'frame.mean()'\n",
      "  return mean(axis=axis, dtype=dtype, out=out, **kwargs)\n"
     ]
    },
    {
     "data": {
      "text/plain": [
       "Variable 0    -1.747675e-16\n",
       "Variable 1    -1.188230e-16\n",
       "Variable 2     9.959701e-17\n",
       "Variable 3    -1.418312e-16\n",
       "Variable 4     3.082464e-16\n",
       "Variable 5     2.061280e-16\n",
       "Variable 6    -2.467863e-16\n",
       "Variable 7     2.017155e-16\n",
       "Variable 8     2.143227e-17\n",
       "Variable 9     3.151804e-19\n",
       "Variable 10   -2.636484e-16\n",
       "Variable 11   -5.846597e-16\n",
       "Variable 12    4.790742e-17\n",
       "Variable 13    2.671154e-16\n",
       "Variable 14    5.421103e-16\n",
       "Variable 15    4.412526e-16\n",
       "Variable 16   -4.907359e-16\n",
       "Variable 17   -8.730498e-17\n",
       "Variable 18    1.553839e-16\n",
       "Variable 19    1.037259e-15\n",
       "Variable 20   -4.888448e-16\n",
       "Variable 21   -1.196740e-15\n",
       "Variable 22   -5.168959e-17\n",
       "Variable 23   -8.320763e-17\n",
       "Variable 24   -2.868772e-15\n",
       "dtype: float64"
      ]
     },
     "execution_count": 207,
     "metadata": {},
     "output_type": "execute_result"
    },
    {
     "name": "stdout",
     "output_type": "stream",
     "text": [
      "22544\n"
     ]
    }
   ],
   "source": [
    "np.mean(test_one_hot_data_mcd)\n",
    "\n",
    "from scipy.stats import chi2\n",
    "test_one_hot_data_mcd['p-value_mcd'] = 1 - chi2.cdf(mahal_dist_test, df = 24) #pdf(x, degreeOfFreedom = Number of Variables)\n",
    "\n",
    "#Calculate number of p-value less than 0.01\n",
    "print(np.count_nonzero(test_one_hot_data_mcd['p-value_mcd'] < 0.01))"
   ]
  },
  {
   "cell_type": "code",
   "execution_count": 208,
   "id": "8ac943a6",
   "metadata": {},
   "outputs": [],
   "source": [
    "pvalue_mcd = test_one_hot_data_mcd['p-value_mcd']\n",
    "bi_pvalue_mcd = pvalue_mcd\n",
    "\n",
    "bi_pvalue_mcd = np.where(pvalue_mcd < 0.01, 1, bi_pvalue_mcd)\n",
    "bi_pvalue_mcd = np.where(pvalue_mcd >= 0.01, 0, bi_pvalue_mcd)"
   ]
  },
  {
   "cell_type": "code",
   "execution_count": 209,
   "id": "cede2c4a",
   "metadata": {},
   "outputs": [
    {
     "name": "stdout",
     "output_type": "stream",
     "text": [
      "Training accuracy: 0.5692\n",
      "[[    0  9711]\n",
      " [    0 12833]]\n"
     ]
    }
   ],
   "source": [
    "from sklearn.metrics import accuracy_score\n",
    "\n",
    "test_acc_maha_mcd = accuracy_score(kdd_test_y['class_binary'], bi_pvalue_mcd)\n",
    "print(\"Training accuracy: {:.4f}\".format(test_acc_maha_mcd))\n",
    "cm_maha_mcd_test = confusion_matrix (kdd_test_y[\"class_binary\"], bi_pvalue_mcd)\n",
    "print(cm_maha_mcd_test)"
   ]
  },
  {
   "cell_type": "code",
   "execution_count": 210,
   "id": "61ab813a",
   "metadata": {},
   "outputs": [
    {
     "data": {
      "text/plain": [
       "Text(0.5, 1.0, 'Seaborn Confusion Matrix with labels\\n\\n')"
      ]
     },
     "execution_count": 210,
     "metadata": {},
     "output_type": "execute_result"
    },
    {
     "data": {
      "text/plain": [
       "Text(0.5, 15.0, '\\nPredicted Values')"
      ]
     },
     "execution_count": 210,
     "metadata": {},
     "output_type": "execute_result"
    },
    {
     "data": {
      "text/plain": [
       "Text(33.0, 0.5, 'Actual Values ')"
      ]
     },
     "execution_count": 210,
     "metadata": {},
     "output_type": "execute_result"
    },
    {
     "data": {
      "text/plain": [
       "[Text(0.5, 0, 'False'), Text(1.5, 0, 'True')]"
      ]
     },
     "execution_count": 210,
     "metadata": {},
     "output_type": "execute_result"
    },
    {
     "data": {
      "text/plain": [
       "[Text(0, 0.5, 'False'), Text(0, 1.5, 'True')]"
      ]
     },
     "execution_count": 210,
     "metadata": {},
     "output_type": "execute_result"
    },
    {
     "data": {
      "image/png": "[encoded data removed]",
      "text/plain": [
       "<Figure size 432x288 with 2 Axes>"
      ]
     },
     "metadata": {
      "needs_background": "light"
     },
     "output_type": "display_data"
    },
    {
     "name": "stdout",
     "output_type": "stream",
     "text": [
      "0.5692423704755145\n",
      "1.0\n"
     ]
    }
   ],
   "source": [
    "ax = sns.heatmap(cm_maha_mcd_test, annot=True, cmap='Blues')\n",
    "\n",
    "ax.set_title('Seaborn Confusion Matrix with labels\\n\\n');\n",
    "ax.set_xlabel('\\nPredicted Values')\n",
    "ax.set_ylabel('Actual Values ');\n",
    "\n",
    "## Ticket labels - List must be in alphabetical order\n",
    "ax.xaxis.set_ticklabels(['False','True'])\n",
    "ax.yaxis.set_ticklabels(['False','True'])\n",
    "\n",
    "## Display the visualization of the Confusion Matrix.\n",
    "plt.show()\n",
    "\n",
    "## FP,FN,TP,TN\n",
    "TN_maha_mcd = cm_maha_mcd_test[0][0]\n",
    "FN_maha_mcd = cm_maha_mcd_test[1][0]\n",
    "FP_maha_mcd = cm_maha_mcd_test[0][1]\n",
    "TP_maha_mcd = cm_maha_mcd_test[1][1]\n",
    "\n",
    "##Precision and Recall\n",
    "Precision_maha_mcd_test = TP_maha_mcd/(TP_maha_mcd+FP_maha_mcd)\n",
    "Recall_maha_mcd_test = TP_maha_mcd/(TP_maha_mcd+FN_maha_mcd)\n",
    "\n",
    "print (Precision_maha_mcd_test)\n",
    "print (Recall_maha_mcd_test)"
   ]
  },
  {
   "cell_type": "markdown",
   "id": "08f97fed",
   "metadata": {},
   "source": [
    "# Testing Result Comparison\n",
    "## Without PCA"
   ]
  },
  {
   "cell_type": "code",
   "execution_count": 211,
   "id": "020cb586",
   "metadata": {},
   "outputs": [
    {
     "data": {
      "text/html": [
       "<div>\n",
       "<style scoped>\n",
       "    .dataframe tbody tr th:only-of-type {\n",
       "        vertical-align: middle;\n",
       "    }\n",
       "\n",
       "    .dataframe tbody tr th {\n",
       "        vertical-align: top;\n",
       "    }\n",
       "\n",
       "    .dataframe thead th {\n",
       "        text-align: right;\n",
       "    }\n",
       "</style>\n",
       "<table border=\"1\" class=\"dataframe\">\n",
       "  <thead>\n",
       "    <tr style=\"text-align: right;\">\n",
       "      <th></th>\n",
       "      <th>Algorithm</th>\n",
       "      <th>accuracy</th>\n",
       "      <th>recall</th>\n",
       "      <th>precision</th>\n",
       "    </tr>\n",
       "  </thead>\n",
       "  <tbody>\n",
       "    <tr>\n",
       "      <th>0</th>\n",
       "      <td>Mahalanobis</td>\n",
       "      <td>0.893187</td>\n",
       "      <td>0.985584</td>\n",
       "      <td>0.850514</td>\n",
       "    </tr>\n",
       "    <tr>\n",
       "      <th>1</th>\n",
       "      <td>Maha + MCD</td>\n",
       "      <td>0.569242</td>\n",
       "      <td>1.000000</td>\n",
       "      <td>0.569242</td>\n",
       "    </tr>\n",
       "    <tr>\n",
       "      <th>2</th>\n",
       "      <td>IF</td>\n",
       "      <td>0.455687</td>\n",
       "      <td>0.792722</td>\n",
       "      <td>0.514203</td>\n",
       "    </tr>\n",
       "    <tr>\n",
       "      <th>3</th>\n",
       "      <td>OCSVM</td>\n",
       "      <td>0.359785</td>\n",
       "      <td>0.520845</td>\n",
       "      <td>0.446553</td>\n",
       "    </tr>\n",
       "    <tr>\n",
       "      <th>4</th>\n",
       "      <td>Kmean</td>\n",
       "      <td>0.456929</td>\n",
       "      <td>0.801060</td>\n",
       "      <td>0.514772</td>\n",
       "    </tr>\n",
       "  </tbody>\n",
       "</table>\n",
       "</div>"
      ],
      "text/plain": [
       "     Algorithm  accuracy    recall  precision\n",
       "0  Mahalanobis  0.893187  0.985584   0.850514\n",
       "1   Maha + MCD  0.569242  1.000000   0.569242\n",
       "2           IF  0.455687  0.792722   0.514203\n",
       "3        OCSVM  0.359785  0.520845   0.446553\n",
       "4        Kmean  0.456929  0.801060   0.514772"
      ]
     },
     "execution_count": 211,
     "metadata": {},
     "output_type": "execute_result"
    }
   ],
   "source": [
    "header_cmp = ['Algorithm','accuracy', 'recall', 'precision']\n",
    "table_cmp = [['Mahalanobis', test_acc_maha_ss, Recall_maha_test_ss, Precision_maha_test_ss],\n",
    "             ['Maha + MCD', test_acc_maha_mcd_ss, Recall_maha_mcd_test_ss, Precision_maha_mcd_test_ss],\n",
    "             ['IF', test_acc_if_ss, Recall_if_test_ss, Precision_if_test_ss],\n",
    "             ['OCSVM', test_acc_svm_ss, Recall_svm_test_ss, Precision_svm_test_ss],\n",
    "             ['Kmean', test_acc_kmean_ss, Recall_kmean_test_ss, Precision_kmean_test_ss]]\n",
    "comparison_ss_test = pd.DataFrame(table_cmp,columns=header_cmp)\n",
    "comparison_ss_test"
   ]
  },
  {
   "cell_type": "markdown",
   "id": "3b59ff16",
   "metadata": {},
   "source": [
    "## After PCA"
   ]
  },
  {
   "cell_type": "code",
   "execution_count": 212,
   "id": "f324039b",
   "metadata": {},
   "outputs": [
    {
     "data": {
      "text/html": [
       "<div>\n",
       "<style scoped>\n",
       "    .dataframe tbody tr th:only-of-type {\n",
       "        vertical-align: middle;\n",
       "    }\n",
       "\n",
       "    .dataframe tbody tr th {\n",
       "        vertical-align: top;\n",
       "    }\n",
       "\n",
       "    .dataframe thead th {\n",
       "        text-align: right;\n",
       "    }\n",
       "</style>\n",
       "<table border=\"1\" class=\"dataframe\">\n",
       "  <thead>\n",
       "    <tr style=\"text-align: right;\">\n",
       "      <th></th>\n",
       "      <th>Algorithm</th>\n",
       "      <th>accuracy</th>\n",
       "      <th>recall</th>\n",
       "      <th>precision</th>\n",
       "    </tr>\n",
       "  </thead>\n",
       "  <tbody>\n",
       "    <tr>\n",
       "      <th>0</th>\n",
       "      <td>Mahalanobis</td>\n",
       "      <td>0.462828</td>\n",
       "      <td>0.073327</td>\n",
       "      <td>0.811907</td>\n",
       "    </tr>\n",
       "    <tr>\n",
       "      <th>1</th>\n",
       "      <td>Maha + MCD</td>\n",
       "      <td>0.569242</td>\n",
       "      <td>1.000000</td>\n",
       "      <td>0.569242</td>\n",
       "    </tr>\n",
       "    <tr>\n",
       "      <th>2</th>\n",
       "      <td>IF</td>\n",
       "      <td>0.529941</td>\n",
       "      <td>0.915297</td>\n",
       "      <td>0.552597</td>\n",
       "    </tr>\n",
       "    <tr>\n",
       "      <th>3</th>\n",
       "      <td>OCSVM</td>\n",
       "      <td>0.595192</td>\n",
       "      <td>0.604613</td>\n",
       "      <td>0.656930</td>\n",
       "    </tr>\n",
       "    <tr>\n",
       "      <th>4</th>\n",
       "      <td>Kmean</td>\n",
       "      <td>0.748758</td>\n",
       "      <td>0.700616</td>\n",
       "      <td>0.831499</td>\n",
       "    </tr>\n",
       "  </tbody>\n",
       "</table>\n",
       "</div>"
      ],
      "text/plain": [
       "     Algorithm  accuracy    recall  precision\n",
       "0  Mahalanobis  0.462828  0.073327   0.811907\n",
       "1   Maha + MCD  0.569242  1.000000   0.569242\n",
       "2           IF  0.529941  0.915297   0.552597\n",
       "3        OCSVM  0.595192  0.604613   0.656930\n",
       "4        Kmean  0.748758  0.700616   0.831499"
      ]
     },
     "execution_count": 212,
     "metadata": {},
     "output_type": "execute_result"
    }
   ],
   "source": [
    "header_cmp = ['Algorithm','accuracy', 'recall', 'precision']\n",
    "table_cmp = [['Mahalanobis', test_acc_maha, Recall_maha_test, Precision_maha_test],\n",
    "             ['Maha + MCD', test_acc_maha_mcd, Recall_maha_mcd_test, Precision_maha_mcd_test],\n",
    "             ['IF', test_acc_if, Recall_if_test, Precision_if_test],\n",
    "             ['OCSVM', test_acc_svm, Recall_svm_test, Precision_svm_test],\n",
    "             ['Kmean', test_acc_kmean, Recall_kmean_test, Precision_kmean_test]]\n",
    "comparison_test = pd.DataFrame(table_cmp,columns=header_cmp)\n",
    "comparison_test"
   ]
  },
  {
   "cell_type": "code",
   "execution_count": null,
   "id": "5ba121cf",
   "metadata": {},
   "outputs": [],
   "source": []
  },
  {
   "cell_type": "code",
   "execution_count": null,
   "id": "ecbcd1c7",
   "metadata": {},
   "outputs": [],
   "source": []
  },
  {
   "cell_type": "code",
   "execution_count": null,
   "id": "27e834a8",
   "metadata": {},
   "outputs": [],
   "source": []
  },
  {
   "cell_type": "code",
   "execution_count": null,
   "id": "4a5841fd",
   "metadata": {},
   "outputs": [],
   "source": []
  }
 ],
 "metadata": {
  "kernelspec": {
   "display_name": "Python 3 (ipykernel)",
   "language": "python",
   "name": "python3"
  },
  "language_info": {
   "codemirror_mode": {
    "name": "ipython",
    "version": 3
   },
   "file_extension": ".py",
   "mimetype": "text/x-python",
   "name": "python",
   "nbconvert_exporter": "python",
   "pygments_lexer": "ipython3",
   "version": "3.10.11"
  }
 },
 "nbformat": 4,
 "nbformat_minor": 5
}
