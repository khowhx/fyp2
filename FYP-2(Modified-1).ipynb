{
 "cells": [
  {
   "cell_type": "code",
   "execution_count": 3,
   "id": "aff8f08e",
   "metadata": {},
   "outputs": [
    {
     "name": "stdout",
     "output_type": "stream",
     "text": [
      "sys.version_info(major=3, minor=10, micro=10, releaselevel='final', serial=0)\n",
      "1.1.1\n"
     ]
    }
   ],
   "source": [
    "# To show the python version\n",
    "import sys\n",
    "assert sys.version_info >= (3,8)\n",
    "print(sys.version_info)\n",
    "\n",
    "# to show all the output from a code chunk\n",
    "from IPython.core.interactiveshell import InteractiveShell\n",
    "InteractiveShell.ast_node_interactivity = \"all\"\n",
    "\n",
    "# matplotlib for plotting\n",
    "from matplotlib import pyplot as plt\n",
    "%matplotlib inline\n",
    "\n",
    "# Other external libraries like pandas and numpy\n",
    "import pandas as pd\n",
    "import numpy as np\n",
    "np.random.seed(999)\n",
    "\n",
    "# machine learning models\n",
    "import sklearn\n",
    "print(sklearn.__version__)\n",
    "\n",
    "#import others\n",
    "from sklearn.metrics import confusion_matrix\n",
    "from sklearn import model_selection, datasets\n",
    "from sklearn.tree import DecisionTreeClassifier\n",
    "import joblib\n",
    "import pickle\n",
    "import seaborn as sns\n",
    "\n",
    "from sklearn.model_selection import RandomizedSearchCV\n",
    "from sklearn.model_selection import GridSearchCV"
   ]
  },
  {
   "cell_type": "code",
   "execution_count": 4,
   "id": "06ebe2e9",
   "metadata": {},
   "outputs": [],
   "source": [
    "from scipy.io import arff\n",
    "# Load the arff file\n",
    "header_info = arff.loadarff(\"Dataset/KDDTrain+.arff\")\n",
    "df = pd.DataFrame(header_info[0])\n",
    "header_names = df.columns.values.tolist()\n",
    "header_names.append('Difficulty')\n",
    "kdd_train = pd.read_csv('Dataset/KDDTrain+.txt', delimiter = ',', header = None)\n",
    "\n"
   ]
  },
  {
   "cell_type": "code",
   "execution_count": 6,
   "id": "9d9fbe1e",
   "metadata": {},
   "outputs": [],
   "source": [
    "#Rename the headers\n",
    "kdd_train.columns = header_names\n",
    "#Drop the target variables\n",
    "kdd_train_x = kdd_train.drop(['class', 'Difficulty'], axis = 1)"
   ]
  },
  {
   "cell_type": "code",
   "execution_count": 7,
   "id": "44589e59",
   "metadata": {},
   "outputs": [
    {
     "name": "stderr",
     "output_type": "stream",
     "text": [
      "C:\\WINDOWS\\system32\\myenv\\lib\\site-packages\\numpy\\core\\fromnumeric.py:3571: FutureWarning: Dropping of nuisance columns in DataFrame reductions (with 'numeric_only=None') is deprecated; in a future version this will raise TypeError.  Select only valid columns before calling the reduction.\n",
      "  return std(axis=axis, dtype=dtype, out=out, ddof=ddof, **kwargs)\n"
     ]
    },
    {
     "data": {
      "text/plain": [
       "duration                       2.604505e+03\n",
       "src_bytes                      5.870308e+06\n",
       "dst_bytes                      4.021253e+06\n",
       "land                           1.408602e-02\n",
       "wrong_fragment                 2.535290e-01\n",
       "urgent                         1.436597e-02\n",
       "hot                            2.149960e+00\n",
       "num_failed_logins              4.523896e-02\n",
       "logged_in                      4.890081e-01\n",
       "num_compromised                2.394195e+01\n",
       "root_shell                     3.660270e-02\n",
       "su_attempted                   4.515420e-02\n",
       "num_root                       2.439952e+01\n",
       "num_file_creations             4.839331e-01\n",
       "num_shells                     2.218104e-02\n",
       "num_access_files               9.936916e-02\n",
       "num_outbound_cmds              0.000000e+00\n",
       "is_host_login                  2.817472e-03\n",
       "is_guest_login                 9.661194e-02\n",
       "count                          1.145082e+02\n",
       "srv_count                      7.263555e+01\n",
       "serror_rate                    4.464539e-01\n",
       "srv_serror_rate                4.470207e-01\n",
       "rerror_rate                    3.204342e-01\n",
       "srv_rerror_rate                3.236459e-01\n",
       "same_srv_rate                  4.396211e-01\n",
       "diff_srv_rate                  1.803137e-01\n",
       "srv_diff_host_rate             2.598295e-01\n",
       "dst_host_count                 9.920582e+01\n",
       "dst_host_srv_count             1.107023e+02\n",
       "dst_host_same_srv_rate         4.489476e-01\n",
       "dst_host_diff_srv_rate         1.889211e-01\n",
       "dst_host_same_src_port_rate    3.089959e-01\n",
       "dst_host_srv_diff_host_rate    1.125634e-01\n",
       "dst_host_serror_rate           4.447823e-01\n",
       "dst_host_srv_serror_rate       4.456674e-01\n",
       "dst_host_rerror_rate           3.065562e-01\n",
       "dst_host_srv_rerror_rate       3.194581e-01\n",
       "dtype: float64"
      ]
     },
     "execution_count": 7,
     "metadata": {},
     "output_type": "execute_result"
    }
   ],
   "source": [
    "np.std(kdd_train_x)\n"
   ]
  },
  {
   "cell_type": "markdown",
   "id": "408c699b",
   "metadata": {},
   "source": [
    "# Since num_outbound_cmds is a zero-variance descriptor, we drop it."
   ]
  },
  {
   "cell_type": "code",
   "execution_count": 9,
   "id": "c0c02099",
   "metadata": {},
   "outputs": [
    {
     "data": {
      "text/html": [
       "<div>\n",
       "<style scoped>\n",
       "    .dataframe tbody tr th:only-of-type {\n",
       "        vertical-align: middle;\n",
       "    }\n",
       "\n",
       "    .dataframe tbody tr th {\n",
       "        vertical-align: top;\n",
       "    }\n",
       "\n",
       "    .dataframe thead th {\n",
       "        text-align: right;\n",
       "    }\n",
       "</style>\n",
       "<table border=\"1\" class=\"dataframe\">\n",
       "  <thead>\n",
       "    <tr style=\"text-align: right;\">\n",
       "      <th></th>\n",
       "      <th>(duration,)</th>\n",
       "      <th>(src_bytes,)</th>\n",
       "      <th>(dst_bytes,)</th>\n",
       "      <th>(land,)</th>\n",
       "      <th>(wrong_fragment,)</th>\n",
       "      <th>(urgent,)</th>\n",
       "      <th>(hot,)</th>\n",
       "      <th>(num_failed_logins,)</th>\n",
       "      <th>(logged_in,)</th>\n",
       "      <th>(num_compromised,)</th>\n",
       "      <th>...</th>\n",
       "      <th>service_telnet</th>\n",
       "      <th>service_tftp_u</th>\n",
       "      <th>service_tim_i</th>\n",
       "      <th>service_time</th>\n",
       "      <th>service_urh_i</th>\n",
       "      <th>service_urp_i</th>\n",
       "      <th>service_uucp</th>\n",
       "      <th>service_uucp_path</th>\n",
       "      <th>service_vmnet</th>\n",
       "      <th>service_whois</th>\n",
       "    </tr>\n",
       "  </thead>\n",
       "  <tbody>\n",
       "    <tr>\n",
       "      <th>0</th>\n",
       "      <td>-0.110249</td>\n",
       "      <td>-0.007679</td>\n",
       "      <td>-0.004919</td>\n",
       "      <td>-0.014089</td>\n",
       "      <td>-0.089486</td>\n",
       "      <td>-0.007736</td>\n",
       "      <td>-0.095076</td>\n",
       "      <td>-0.027023</td>\n",
       "      <td>-0.809262</td>\n",
       "      <td>-0.011664</td>\n",
       "      <td>...</td>\n",
       "      <td>0</td>\n",
       "      <td>0</td>\n",
       "      <td>0</td>\n",
       "      <td>0</td>\n",
       "      <td>0</td>\n",
       "      <td>0</td>\n",
       "      <td>0</td>\n",
       "      <td>0</td>\n",
       "      <td>0</td>\n",
       "      <td>0</td>\n",
       "    </tr>\n",
       "    <tr>\n",
       "      <th>1</th>\n",
       "      <td>-0.110249</td>\n",
       "      <td>-0.007737</td>\n",
       "      <td>-0.004919</td>\n",
       "      <td>-0.014089</td>\n",
       "      <td>-0.089486</td>\n",
       "      <td>-0.007736</td>\n",
       "      <td>-0.095076</td>\n",
       "      <td>-0.027023</td>\n",
       "      <td>-0.809262</td>\n",
       "      <td>-0.011664</td>\n",
       "      <td>...</td>\n",
       "      <td>0</td>\n",
       "      <td>0</td>\n",
       "      <td>0</td>\n",
       "      <td>0</td>\n",
       "      <td>0</td>\n",
       "      <td>0</td>\n",
       "      <td>0</td>\n",
       "      <td>0</td>\n",
       "      <td>0</td>\n",
       "      <td>0</td>\n",
       "    </tr>\n",
       "    <tr>\n",
       "      <th>2</th>\n",
       "      <td>-0.110249</td>\n",
       "      <td>-0.007762</td>\n",
       "      <td>-0.004919</td>\n",
       "      <td>-0.014089</td>\n",
       "      <td>-0.089486</td>\n",
       "      <td>-0.007736</td>\n",
       "      <td>-0.095076</td>\n",
       "      <td>-0.027023</td>\n",
       "      <td>-0.809262</td>\n",
       "      <td>-0.011664</td>\n",
       "      <td>...</td>\n",
       "      <td>0</td>\n",
       "      <td>0</td>\n",
       "      <td>0</td>\n",
       "      <td>0</td>\n",
       "      <td>0</td>\n",
       "      <td>0</td>\n",
       "      <td>0</td>\n",
       "      <td>0</td>\n",
       "      <td>0</td>\n",
       "      <td>0</td>\n",
       "    </tr>\n",
       "    <tr>\n",
       "      <th>3</th>\n",
       "      <td>-0.110249</td>\n",
       "      <td>-0.007723</td>\n",
       "      <td>-0.002891</td>\n",
       "      <td>-0.014089</td>\n",
       "      <td>-0.089486</td>\n",
       "      <td>-0.007736</td>\n",
       "      <td>-0.095076</td>\n",
       "      <td>-0.027023</td>\n",
       "      <td>1.235694</td>\n",
       "      <td>-0.011664</td>\n",
       "      <td>...</td>\n",
       "      <td>0</td>\n",
       "      <td>0</td>\n",
       "      <td>0</td>\n",
       "      <td>0</td>\n",
       "      <td>0</td>\n",
       "      <td>0</td>\n",
       "      <td>0</td>\n",
       "      <td>0</td>\n",
       "      <td>0</td>\n",
       "      <td>0</td>\n",
       "    </tr>\n",
       "    <tr>\n",
       "      <th>4</th>\n",
       "      <td>-0.110249</td>\n",
       "      <td>-0.007728</td>\n",
       "      <td>-0.004814</td>\n",
       "      <td>-0.014089</td>\n",
       "      <td>-0.089486</td>\n",
       "      <td>-0.007736</td>\n",
       "      <td>-0.095076</td>\n",
       "      <td>-0.027023</td>\n",
       "      <td>1.235694</td>\n",
       "      <td>-0.011664</td>\n",
       "      <td>...</td>\n",
       "      <td>0</td>\n",
       "      <td>0</td>\n",
       "      <td>0</td>\n",
       "      <td>0</td>\n",
       "      <td>0</td>\n",
       "      <td>0</td>\n",
       "      <td>0</td>\n",
       "      <td>0</td>\n",
       "      <td>0</td>\n",
       "      <td>0</td>\n",
       "    </tr>\n",
       "  </tbody>\n",
       "</table>\n",
       "<p>5 rows × 121 columns</p>\n",
       "</div>"
      ],
      "text/plain": [
       "   (duration,)  (src_bytes,)  (dst_bytes,)   (land,)  (wrong_fragment,)  \\\n",
       "0    -0.110249     -0.007679     -0.004919 -0.014089          -0.089486   \n",
       "1    -0.110249     -0.007737     -0.004919 -0.014089          -0.089486   \n",
       "2    -0.110249     -0.007762     -0.004919 -0.014089          -0.089486   \n",
       "3    -0.110249     -0.007723     -0.002891 -0.014089          -0.089486   \n",
       "4    -0.110249     -0.007728     -0.004814 -0.014089          -0.089486   \n",
       "\n",
       "   (urgent,)    (hot,)  (num_failed_logins,)  (logged_in,)  \\\n",
       "0  -0.007736 -0.095076             -0.027023     -0.809262   \n",
       "1  -0.007736 -0.095076             -0.027023     -0.809262   \n",
       "2  -0.007736 -0.095076             -0.027023     -0.809262   \n",
       "3  -0.007736 -0.095076             -0.027023      1.235694   \n",
       "4  -0.007736 -0.095076             -0.027023      1.235694   \n",
       "\n",
       "   (num_compromised,)  ...  service_telnet  service_tftp_u  service_tim_i  \\\n",
       "0           -0.011664  ...               0               0              0   \n",
       "1           -0.011664  ...               0               0              0   \n",
       "2           -0.011664  ...               0               0              0   \n",
       "3           -0.011664  ...               0               0              0   \n",
       "4           -0.011664  ...               0               0              0   \n",
       "\n",
       "   service_time  service_urh_i  service_urp_i  service_uucp  \\\n",
       "0             0              0              0             0   \n",
       "1             0              0              0             0   \n",
       "2             0              0              0             0   \n",
       "3             0              0              0             0   \n",
       "4             0              0              0             0   \n",
       "\n",
       "   service_uucp_path  service_vmnet  service_whois  \n",
       "0                  0              0              0  \n",
       "1                  0              0              0  \n",
       "2                  0              0              0  \n",
       "3                  0              0              0  \n",
       "4                  0              0              0  \n",
       "\n",
       "[5 rows x 121 columns]"
      ]
     },
     "execution_count": 9,
     "metadata": {},
     "output_type": "execute_result"
    },
    {
     "data": {
      "text/html": [
       "<div>\n",
       "<style scoped>\n",
       "    .dataframe tbody tr th:only-of-type {\n",
       "        vertical-align: middle;\n",
       "    }\n",
       "\n",
       "    .dataframe tbody tr th {\n",
       "        vertical-align: top;\n",
       "    }\n",
       "\n",
       "    .dataframe thead th {\n",
       "        text-align: right;\n",
       "    }\n",
       "</style>\n",
       "<table border=\"1\" class=\"dataframe\">\n",
       "  <thead>\n",
       "    <tr style=\"text-align: right;\">\n",
       "      <th></th>\n",
       "      <th>(duration,)</th>\n",
       "      <th>(src_bytes,)</th>\n",
       "      <th>(dst_bytes,)</th>\n",
       "      <th>(land,)</th>\n",
       "      <th>(wrong_fragment,)</th>\n",
       "      <th>(urgent,)</th>\n",
       "      <th>(hot,)</th>\n",
       "      <th>(num_failed_logins,)</th>\n",
       "      <th>(logged_in,)</th>\n",
       "      <th>(num_compromised,)</th>\n",
       "      <th>...</th>\n",
       "      <th>service_telnet</th>\n",
       "      <th>service_tftp_u</th>\n",
       "      <th>service_tim_i</th>\n",
       "      <th>service_time</th>\n",
       "      <th>service_urh_i</th>\n",
       "      <th>service_urp_i</th>\n",
       "      <th>service_uucp</th>\n",
       "      <th>service_uucp_path</th>\n",
       "      <th>service_vmnet</th>\n",
       "      <th>service_whois</th>\n",
       "    </tr>\n",
       "  </thead>\n",
       "  <tbody>\n",
       "    <tr>\n",
       "      <th>0</th>\n",
       "      <td>-0.110249</td>\n",
       "      <td>-0.007679</td>\n",
       "      <td>-0.004919</td>\n",
       "      <td>-0.014089</td>\n",
       "      <td>-0.089486</td>\n",
       "      <td>-0.007736</td>\n",
       "      <td>-0.095076</td>\n",
       "      <td>-0.027023</td>\n",
       "      <td>-0.809262</td>\n",
       "      <td>-0.011664</td>\n",
       "      <td>...</td>\n",
       "      <td>0</td>\n",
       "      <td>0</td>\n",
       "      <td>0</td>\n",
       "      <td>0</td>\n",
       "      <td>0</td>\n",
       "      <td>0</td>\n",
       "      <td>0</td>\n",
       "      <td>0</td>\n",
       "      <td>0</td>\n",
       "      <td>0</td>\n",
       "    </tr>\n",
       "    <tr>\n",
       "      <th>1</th>\n",
       "      <td>-0.110249</td>\n",
       "      <td>-0.007737</td>\n",
       "      <td>-0.004919</td>\n",
       "      <td>-0.014089</td>\n",
       "      <td>-0.089486</td>\n",
       "      <td>-0.007736</td>\n",
       "      <td>-0.095076</td>\n",
       "      <td>-0.027023</td>\n",
       "      <td>-0.809262</td>\n",
       "      <td>-0.011664</td>\n",
       "      <td>...</td>\n",
       "      <td>0</td>\n",
       "      <td>0</td>\n",
       "      <td>0</td>\n",
       "      <td>0</td>\n",
       "      <td>0</td>\n",
       "      <td>0</td>\n",
       "      <td>0</td>\n",
       "      <td>0</td>\n",
       "      <td>0</td>\n",
       "      <td>0</td>\n",
       "    </tr>\n",
       "    <tr>\n",
       "      <th>2</th>\n",
       "      <td>-0.110249</td>\n",
       "      <td>-0.007762</td>\n",
       "      <td>-0.004919</td>\n",
       "      <td>-0.014089</td>\n",
       "      <td>-0.089486</td>\n",
       "      <td>-0.007736</td>\n",
       "      <td>-0.095076</td>\n",
       "      <td>-0.027023</td>\n",
       "      <td>-0.809262</td>\n",
       "      <td>-0.011664</td>\n",
       "      <td>...</td>\n",
       "      <td>0</td>\n",
       "      <td>0</td>\n",
       "      <td>0</td>\n",
       "      <td>0</td>\n",
       "      <td>0</td>\n",
       "      <td>0</td>\n",
       "      <td>0</td>\n",
       "      <td>0</td>\n",
       "      <td>0</td>\n",
       "      <td>0</td>\n",
       "    </tr>\n",
       "    <tr>\n",
       "      <th>3</th>\n",
       "      <td>-0.110249</td>\n",
       "      <td>-0.007723</td>\n",
       "      <td>-0.002891</td>\n",
       "      <td>-0.014089</td>\n",
       "      <td>-0.089486</td>\n",
       "      <td>-0.007736</td>\n",
       "      <td>-0.095076</td>\n",
       "      <td>-0.027023</td>\n",
       "      <td>1.235694</td>\n",
       "      <td>-0.011664</td>\n",
       "      <td>...</td>\n",
       "      <td>0</td>\n",
       "      <td>0</td>\n",
       "      <td>0</td>\n",
       "      <td>0</td>\n",
       "      <td>0</td>\n",
       "      <td>0</td>\n",
       "      <td>0</td>\n",
       "      <td>0</td>\n",
       "      <td>0</td>\n",
       "      <td>0</td>\n",
       "    </tr>\n",
       "    <tr>\n",
       "      <th>4</th>\n",
       "      <td>-0.110249</td>\n",
       "      <td>-0.007728</td>\n",
       "      <td>-0.004814</td>\n",
       "      <td>-0.014089</td>\n",
       "      <td>-0.089486</td>\n",
       "      <td>-0.007736</td>\n",
       "      <td>-0.095076</td>\n",
       "      <td>-0.027023</td>\n",
       "      <td>1.235694</td>\n",
       "      <td>-0.011664</td>\n",
       "      <td>...</td>\n",
       "      <td>0</td>\n",
       "      <td>0</td>\n",
       "      <td>0</td>\n",
       "      <td>0</td>\n",
       "      <td>0</td>\n",
       "      <td>0</td>\n",
       "      <td>0</td>\n",
       "      <td>0</td>\n",
       "      <td>0</td>\n",
       "      <td>0</td>\n",
       "    </tr>\n",
       "  </tbody>\n",
       "</table>\n",
       "<p>5 rows × 121 columns</p>\n",
       "</div>"
      ],
      "text/plain": [
       "   (duration,)  (src_bytes,)  (dst_bytes,)   (land,)  (wrong_fragment,)  \\\n",
       "0    -0.110249     -0.007679     -0.004919 -0.014089          -0.089486   \n",
       "1    -0.110249     -0.007737     -0.004919 -0.014089          -0.089486   \n",
       "2    -0.110249     -0.007762     -0.004919 -0.014089          -0.089486   \n",
       "3    -0.110249     -0.007723     -0.002891 -0.014089          -0.089486   \n",
       "4    -0.110249     -0.007728     -0.004814 -0.014089          -0.089486   \n",
       "\n",
       "   (urgent,)    (hot,)  (num_failed_logins,)  (logged_in,)  \\\n",
       "0  -0.007736 -0.095076             -0.027023     -0.809262   \n",
       "1  -0.007736 -0.095076             -0.027023     -0.809262   \n",
       "2  -0.007736 -0.095076             -0.027023     -0.809262   \n",
       "3  -0.007736 -0.095076             -0.027023      1.235694   \n",
       "4  -0.007736 -0.095076             -0.027023      1.235694   \n",
       "\n",
       "   (num_compromised,)  ...  service_telnet  service_tftp_u  service_tim_i  \\\n",
       "0           -0.011664  ...               0               0              0   \n",
       "1           -0.011664  ...               0               0              0   \n",
       "2           -0.011664  ...               0               0              0   \n",
       "3           -0.011664  ...               0               0              0   \n",
       "4           -0.011664  ...               0               0              0   \n",
       "\n",
       "   service_time  service_urh_i  service_urp_i  service_uucp  \\\n",
       "0             0              0              0             0   \n",
       "1             0              0              0             0   \n",
       "2             0              0              0             0   \n",
       "3             0              0              0             0   \n",
       "4             0              0              0             0   \n",
       "\n",
       "   service_uucp_path  service_vmnet  service_whois  \n",
       "0                  0              0              0  \n",
       "1                  0              0              0  \n",
       "2                  0              0              0  \n",
       "3                  0              0              0  \n",
       "4                  0              0              0  \n",
       "\n",
       "[5 rows x 121 columns]"
      ]
     },
     "execution_count": 9,
     "metadata": {},
     "output_type": "execute_result"
    },
    {
     "data": {
      "text/plain": [
       "(125973, 121)"
      ]
     },
     "execution_count": 9,
     "metadata": {},
     "output_type": "execute_result"
    }
   ],
   "source": [
    "kdd_train_x = kdd_train_x.drop(['num_outbound_cmds'],axis =1)\n",
    "y = ['class']\n",
    "kdd_train_y = kdd_train[y]\n",
    "\n",
    "#Identify categorical features\n",
    "num_cols = kdd_train_x._get_numeric_data().columns\n",
    "cate_cols = list(set(kdd_train_x.columns) - set(num_cols))\n",
    "\n",
    "from sklearn.preprocessing import StandardScaler\n",
    "std = StandardScaler()\n",
    "\n",
    "#One-Hot Encoding the categorical features\n",
    "cate_features = pd.get_dummies(kdd_train_x[cate_cols], prefix = cate_cols)\n",
    "one_hot_data = kdd_train_x.drop(cate_cols, axis = 1)\n",
    "#Standard Scaler on numeric data\n",
    "std_fit = std.fit(one_hot_data)\n",
    "array_ss = std_fit.transform(one_hot_data)\n",
    "one_hot_data_ss = pd.DataFrame(array_ss,columns=[num_cols])\n",
    "one_hot_data_maha = pd.concat([one_hot_data_ss, cate_features], axis = 1)\n",
    "one_hot_data_if = one_hot_data_maha\n",
    "one_hot_data_if.head()\n",
    "one_hot_data_maha.head()\n",
    "data_array = np.array(one_hot_data_maha)\n",
    "data_array.shape    # Make sure that the Numpy array dimension is consistent with the Pandas Dataframe\n",
    "# function to calculate mahalanobis distance"
   ]
  },
  {
   "cell_type": "code",
   "execution_count": 10,
   "id": "a7285557",
   "metadata": {},
   "outputs": [
    {
     "data": {
      "text/html": [
       "<div>\n",
       "<style scoped>\n",
       "    .dataframe tbody tr th:only-of-type {\n",
       "        vertical-align: middle;\n",
       "    }\n",
       "\n",
       "    .dataframe tbody tr th {\n",
       "        vertical-align: top;\n",
       "    }\n",
       "\n",
       "    .dataframe thead th {\n",
       "        text-align: right;\n",
       "    }\n",
       "</style>\n",
       "<table border=\"1\" class=\"dataframe\">\n",
       "  <thead>\n",
       "    <tr style=\"text-align: right;\">\n",
       "      <th></th>\n",
       "      <th>duration</th>\n",
       "      <th>src_bytes</th>\n",
       "      <th>dst_bytes</th>\n",
       "      <th>land</th>\n",
       "      <th>wrong_fragment</th>\n",
       "      <th>urgent</th>\n",
       "      <th>hot</th>\n",
       "      <th>num_failed_logins</th>\n",
       "      <th>logged_in</th>\n",
       "      <th>num_compromised</th>\n",
       "      <th>...</th>\n",
       "      <th>dst_host_srv_count</th>\n",
       "      <th>dst_host_same_srv_rate</th>\n",
       "      <th>dst_host_diff_srv_rate</th>\n",
       "      <th>dst_host_same_src_port_rate</th>\n",
       "      <th>dst_host_srv_diff_host_rate</th>\n",
       "      <th>dst_host_serror_rate</th>\n",
       "      <th>dst_host_srv_serror_rate</th>\n",
       "      <th>dst_host_rerror_rate</th>\n",
       "      <th>dst_host_srv_rerror_rate</th>\n",
       "      <th>Difficulty</th>\n",
       "    </tr>\n",
       "  </thead>\n",
       "  <tbody>\n",
       "    <tr>\n",
       "      <th>count</th>\n",
       "      <td>125973.00000</td>\n",
       "      <td>1.259730e+05</td>\n",
       "      <td>1.259730e+05</td>\n",
       "      <td>125973.000000</td>\n",
       "      <td>125973.000000</td>\n",
       "      <td>125973.000000</td>\n",
       "      <td>125973.000000</td>\n",
       "      <td>125973.000000</td>\n",
       "      <td>125973.000000</td>\n",
       "      <td>125973.000000</td>\n",
       "      <td>...</td>\n",
       "      <td>125973.000000</td>\n",
       "      <td>125973.000000</td>\n",
       "      <td>125973.000000</td>\n",
       "      <td>125973.000000</td>\n",
       "      <td>125973.000000</td>\n",
       "      <td>125973.000000</td>\n",
       "      <td>125973.000000</td>\n",
       "      <td>125973.000000</td>\n",
       "      <td>125973.000000</td>\n",
       "      <td>125973.000000</td>\n",
       "    </tr>\n",
       "    <tr>\n",
       "      <th>mean</th>\n",
       "      <td>287.14465</td>\n",
       "      <td>4.556674e+04</td>\n",
       "      <td>1.977911e+04</td>\n",
       "      <td>0.000198</td>\n",
       "      <td>0.022687</td>\n",
       "      <td>0.000111</td>\n",
       "      <td>0.204409</td>\n",
       "      <td>0.001222</td>\n",
       "      <td>0.395736</td>\n",
       "      <td>0.279250</td>\n",
       "      <td>...</td>\n",
       "      <td>115.653005</td>\n",
       "      <td>0.521242</td>\n",
       "      <td>0.082951</td>\n",
       "      <td>0.148379</td>\n",
       "      <td>0.032542</td>\n",
       "      <td>0.284452</td>\n",
       "      <td>0.278485</td>\n",
       "      <td>0.118832</td>\n",
       "      <td>0.120240</td>\n",
       "      <td>19.504060</td>\n",
       "    </tr>\n",
       "    <tr>\n",
       "      <th>std</th>\n",
       "      <td>2604.51531</td>\n",
       "      <td>5.870331e+06</td>\n",
       "      <td>4.021269e+06</td>\n",
       "      <td>0.014086</td>\n",
       "      <td>0.253530</td>\n",
       "      <td>0.014366</td>\n",
       "      <td>2.149968</td>\n",
       "      <td>0.045239</td>\n",
       "      <td>0.489010</td>\n",
       "      <td>23.942042</td>\n",
       "      <td>...</td>\n",
       "      <td>110.702741</td>\n",
       "      <td>0.448949</td>\n",
       "      <td>0.188922</td>\n",
       "      <td>0.308997</td>\n",
       "      <td>0.112564</td>\n",
       "      <td>0.444784</td>\n",
       "      <td>0.445669</td>\n",
       "      <td>0.306557</td>\n",
       "      <td>0.319459</td>\n",
       "      <td>2.291503</td>\n",
       "    </tr>\n",
       "    <tr>\n",
       "      <th>min</th>\n",
       "      <td>0.00000</td>\n",
       "      <td>0.000000e+00</td>\n",
       "      <td>0.000000e+00</td>\n",
       "      <td>0.000000</td>\n",
       "      <td>0.000000</td>\n",
       "      <td>0.000000</td>\n",
       "      <td>0.000000</td>\n",
       "      <td>0.000000</td>\n",
       "      <td>0.000000</td>\n",
       "      <td>0.000000</td>\n",
       "      <td>...</td>\n",
       "      <td>0.000000</td>\n",
       "      <td>0.000000</td>\n",
       "      <td>0.000000</td>\n",
       "      <td>0.000000</td>\n",
       "      <td>0.000000</td>\n",
       "      <td>0.000000</td>\n",
       "      <td>0.000000</td>\n",
       "      <td>0.000000</td>\n",
       "      <td>0.000000</td>\n",
       "      <td>0.000000</td>\n",
       "    </tr>\n",
       "    <tr>\n",
       "      <th>25%</th>\n",
       "      <td>0.00000</td>\n",
       "      <td>0.000000e+00</td>\n",
       "      <td>0.000000e+00</td>\n",
       "      <td>0.000000</td>\n",
       "      <td>0.000000</td>\n",
       "      <td>0.000000</td>\n",
       "      <td>0.000000</td>\n",
       "      <td>0.000000</td>\n",
       "      <td>0.000000</td>\n",
       "      <td>0.000000</td>\n",
       "      <td>...</td>\n",
       "      <td>10.000000</td>\n",
       "      <td>0.050000</td>\n",
       "      <td>0.000000</td>\n",
       "      <td>0.000000</td>\n",
       "      <td>0.000000</td>\n",
       "      <td>0.000000</td>\n",
       "      <td>0.000000</td>\n",
       "      <td>0.000000</td>\n",
       "      <td>0.000000</td>\n",
       "      <td>18.000000</td>\n",
       "    </tr>\n",
       "    <tr>\n",
       "      <th>50%</th>\n",
       "      <td>0.00000</td>\n",
       "      <td>4.400000e+01</td>\n",
       "      <td>0.000000e+00</td>\n",
       "      <td>0.000000</td>\n",
       "      <td>0.000000</td>\n",
       "      <td>0.000000</td>\n",
       "      <td>0.000000</td>\n",
       "      <td>0.000000</td>\n",
       "      <td>0.000000</td>\n",
       "      <td>0.000000</td>\n",
       "      <td>...</td>\n",
       "      <td>63.000000</td>\n",
       "      <td>0.510000</td>\n",
       "      <td>0.020000</td>\n",
       "      <td>0.000000</td>\n",
       "      <td>0.000000</td>\n",
       "      <td>0.000000</td>\n",
       "      <td>0.000000</td>\n",
       "      <td>0.000000</td>\n",
       "      <td>0.000000</td>\n",
       "      <td>20.000000</td>\n",
       "    </tr>\n",
       "    <tr>\n",
       "      <th>75%</th>\n",
       "      <td>0.00000</td>\n",
       "      <td>2.760000e+02</td>\n",
       "      <td>5.160000e+02</td>\n",
       "      <td>0.000000</td>\n",
       "      <td>0.000000</td>\n",
       "      <td>0.000000</td>\n",
       "      <td>0.000000</td>\n",
       "      <td>0.000000</td>\n",
       "      <td>1.000000</td>\n",
       "      <td>0.000000</td>\n",
       "      <td>...</td>\n",
       "      <td>255.000000</td>\n",
       "      <td>1.000000</td>\n",
       "      <td>0.070000</td>\n",
       "      <td>0.060000</td>\n",
       "      <td>0.020000</td>\n",
       "      <td>1.000000</td>\n",
       "      <td>1.000000</td>\n",
       "      <td>0.000000</td>\n",
       "      <td>0.000000</td>\n",
       "      <td>21.000000</td>\n",
       "    </tr>\n",
       "    <tr>\n",
       "      <th>max</th>\n",
       "      <td>42908.00000</td>\n",
       "      <td>1.379964e+09</td>\n",
       "      <td>1.309937e+09</td>\n",
       "      <td>1.000000</td>\n",
       "      <td>3.000000</td>\n",
       "      <td>3.000000</td>\n",
       "      <td>77.000000</td>\n",
       "      <td>5.000000</td>\n",
       "      <td>1.000000</td>\n",
       "      <td>7479.000000</td>\n",
       "      <td>...</td>\n",
       "      <td>255.000000</td>\n",
       "      <td>1.000000</td>\n",
       "      <td>1.000000</td>\n",
       "      <td>1.000000</td>\n",
       "      <td>1.000000</td>\n",
       "      <td>1.000000</td>\n",
       "      <td>1.000000</td>\n",
       "      <td>1.000000</td>\n",
       "      <td>1.000000</td>\n",
       "      <td>21.000000</td>\n",
       "    </tr>\n",
       "  </tbody>\n",
       "</table>\n",
       "<p>8 rows × 39 columns</p>\n",
       "</div>"
      ],
      "text/plain": [
       "           duration     src_bytes     dst_bytes           land  \\\n",
       "count  125973.00000  1.259730e+05  1.259730e+05  125973.000000   \n",
       "mean      287.14465  4.556674e+04  1.977911e+04       0.000198   \n",
       "std      2604.51531  5.870331e+06  4.021269e+06       0.014086   \n",
       "min         0.00000  0.000000e+00  0.000000e+00       0.000000   \n",
       "25%         0.00000  0.000000e+00  0.000000e+00       0.000000   \n",
       "50%         0.00000  4.400000e+01  0.000000e+00       0.000000   \n",
       "75%         0.00000  2.760000e+02  5.160000e+02       0.000000   \n",
       "max     42908.00000  1.379964e+09  1.309937e+09       1.000000   \n",
       "\n",
       "       wrong_fragment         urgent            hot  num_failed_logins  \\\n",
       "count   125973.000000  125973.000000  125973.000000      125973.000000   \n",
       "mean         0.022687       0.000111       0.204409           0.001222   \n",
       "std          0.253530       0.014366       2.149968           0.045239   \n",
       "min          0.000000       0.000000       0.000000           0.000000   \n",
       "25%          0.000000       0.000000       0.000000           0.000000   \n",
       "50%          0.000000       0.000000       0.000000           0.000000   \n",
       "75%          0.000000       0.000000       0.000000           0.000000   \n",
       "max          3.000000       3.000000      77.000000           5.000000   \n",
       "\n",
       "           logged_in  num_compromised  ...  dst_host_srv_count  \\\n",
       "count  125973.000000    125973.000000  ...       125973.000000   \n",
       "mean        0.395736         0.279250  ...          115.653005   \n",
       "std         0.489010        23.942042  ...          110.702741   \n",
       "min         0.000000         0.000000  ...            0.000000   \n",
       "25%         0.000000         0.000000  ...           10.000000   \n",
       "50%         0.000000         0.000000  ...           63.000000   \n",
       "75%         1.000000         0.000000  ...          255.000000   \n",
       "max         1.000000      7479.000000  ...          255.000000   \n",
       "\n",
       "       dst_host_same_srv_rate  dst_host_diff_srv_rate  \\\n",
       "count           125973.000000           125973.000000   \n",
       "mean                 0.521242                0.082951   \n",
       "std                  0.448949                0.188922   \n",
       "min                  0.000000                0.000000   \n",
       "25%                  0.050000                0.000000   \n",
       "50%                  0.510000                0.020000   \n",
       "75%                  1.000000                0.070000   \n",
       "max                  1.000000                1.000000   \n",
       "\n",
       "       dst_host_same_src_port_rate  dst_host_srv_diff_host_rate  \\\n",
       "count                125973.000000                125973.000000   \n",
       "mean                      0.148379                     0.032542   \n",
       "std                       0.308997                     0.112564   \n",
       "min                       0.000000                     0.000000   \n",
       "25%                       0.000000                     0.000000   \n",
       "50%                       0.000000                     0.000000   \n",
       "75%                       0.060000                     0.020000   \n",
       "max                       1.000000                     1.000000   \n",
       "\n",
       "       dst_host_serror_rate  dst_host_srv_serror_rate  dst_host_rerror_rate  \\\n",
       "count         125973.000000             125973.000000         125973.000000   \n",
       "mean               0.284452                  0.278485              0.118832   \n",
       "std                0.444784                  0.445669              0.306557   \n",
       "min                0.000000                  0.000000              0.000000   \n",
       "25%                0.000000                  0.000000              0.000000   \n",
       "50%                0.000000                  0.000000              0.000000   \n",
       "75%                1.000000                  1.000000              0.000000   \n",
       "max                1.000000                  1.000000              1.000000   \n",
       "\n",
       "       dst_host_srv_rerror_rate     Difficulty  \n",
       "count             125973.000000  125973.000000  \n",
       "mean                   0.120240      19.504060  \n",
       "std                    0.319459       2.291503  \n",
       "min                    0.000000       0.000000  \n",
       "25%                    0.000000      18.000000  \n",
       "50%                    0.000000      20.000000  \n",
       "75%                    0.000000      21.000000  \n",
       "max                    1.000000      21.000000  \n",
       "\n",
       "[8 rows x 39 columns]"
      ]
     },
     "execution_count": 10,
     "metadata": {},
     "output_type": "execute_result"
    }
   ],
   "source": [
    "kdd_train.describe()"
   ]
  },
  {
   "cell_type": "code",
   "execution_count": 11,
   "id": "aa835eba",
   "metadata": {},
   "outputs": [
    {
     "data": {
      "text/plain": [
       "0"
      ]
     },
     "execution_count": 11,
     "metadata": {},
     "output_type": "execute_result"
    }
   ],
   "source": [
    "kdd_train.duplicated().any().sum()"
   ]
  },
  {
   "cell_type": "code",
   "execution_count": null,
   "id": "88322f6f",
   "metadata": {},
   "outputs": [],
   "source": []
  },
  {
   "cell_type": "code",
   "execution_count": 12,
   "id": "287a957b",
   "metadata": {},
   "outputs": [
    {
     "name": "stderr",
     "output_type": "stream",
     "text": [
      "C:\\Users\\khxia\\AppData\\Local\\Temp\\ipykernel_32948\\3533821117.py:24: SettingWithCopyWarning: \n",
      "A value is trying to be set on a copy of a slice from a DataFrame.\n",
      "Try using .loc[row_indexer,col_indexer] = value instead\n",
      "\n",
      "See the caveats in the documentation: https://pandas.pydata.org/pandas-docs/stable/user_guide/indexing.html#returning-a-view-versus-a-copy\n",
      "  kdd_train_y[\"class_binary\"] = kdd_train_y[\"class\"].map(label_map)\n"
     ]
    }
   ],
   "source": [
    "label_map = {\"normal\": 0,\n",
    "            \"neptune\": 1,\n",
    "            \"satan\": 1,\n",
    "            \"ipsweep\": 1,\n",
    "            \"portsweep\": 1,\n",
    "            \"smurf\": 1,\n",
    "            \"nmap\": 1,\n",
    "            \"back\": 1,\n",
    "            \"teardrop\": 1,\n",
    "            \"warezclient\": 1,\n",
    "            \"pod\": 1,\n",
    "            \"guess_passwd\": 1,\n",
    "            \"buffer_overflow\": 1,\n",
    "            \"warezmaster\": 1,\n",
    "            \"land\": 1,\n",
    "            \"imap\": 1,\n",
    "            \"rootkit\": 1,\n",
    "            \"loadmodule\": 1,\n",
    "            \"ftp_write\": 1,\n",
    "            \"multihop\": 1,\n",
    "            \"phf\": 1,\n",
    "            \"perl\": 1, \n",
    "            \"spy\": 1}\n",
    "kdd_train_y[\"class_binary\"] = kdd_train_y[\"class\"].map(label_map)"
   ]
  },
  {
   "cell_type": "code",
   "execution_count": 13,
   "id": "55d6a501",
   "metadata": {},
   "outputs": [
    {
     "data": {
      "text/plain": [
       "58630"
      ]
     },
     "execution_count": 13,
     "metadata": {},
     "output_type": "execute_result"
    }
   ],
   "source": [
    "count = 0\n",
    "\n",
    "for i in range(len(kdd_train_y)):\n",
    "    if (kdd_train_y.loc[i,'class_binary']==1):\n",
    "        count +=1\n",
    "count"
   ]
  },
  {
   "cell_type": "code",
   "execution_count": 14,
   "id": "27d1ae67",
   "metadata": {},
   "outputs": [
    {
     "data": {
      "text/plain": [
       "58630"
      ]
     },
     "execution_count": 14,
     "metadata": {},
     "output_type": "execute_result"
    }
   ],
   "source": [
    "np.count_nonzero(kdd_train_y['class_binary']==1)"
   ]
  },
  {
   "cell_type": "markdown",
   "id": "831032f5",
   "metadata": {},
   "source": [
    "# Visualize Data"
   ]
  },
  {
   "cell_type": "code",
   "execution_count": null,
   "id": "511874b5",
   "metadata": {},
   "outputs": [],
   "source": [
    "##Using PCA Plotting method\n"
   ]
  },
  {
   "cell_type": "code",
   "execution_count": 103,
   "id": "bef9b665",
   "metadata": {},
   "outputs": [],
   "source": [
    "X_norm = (one_hot_data - one_hot_data.min())/(one_hot_data.max() - one_hot_data.min())\n",
    "pca_plot = PCA(n_components=2)\n",
    "transformed = pd.DataFrame(pca_plot.fit_transform(X_norm))\n",
    "c_binary = kdd_train_y['class_binary']"
   ]
  },
  {
   "cell_type": "code",
   "execution_count": 114,
   "id": "e1b58434",
   "metadata": {
    "scrolled": true
   },
   "outputs": [
    {
     "data": {
      "text/plain": [
       "<matplotlib.collections.PathCollection at 0x25d07721f30>"
      ]
     },
     "execution_count": 114,
     "metadata": {},
     "output_type": "execute_result"
    },
    {
     "data": {
      "text/plain": [
       "<matplotlib.legend.Legend at 0x25d081cc8e0>"
      ]
     },
     "execution_count": 114,
     "metadata": {},
     "output_type": "execute_result"
    },
    {
     "data": {
      "image/png": "[encoded data removed]",
      "text/plain": [
       "<Figure size 432x288 with 1 Axes>"
      ]
     },
     "metadata": {
      "needs_background": "light"
     },
     "output_type": "display_data"
    },
    {
     "data": {
      "text/plain": [
       "<matplotlib.collections.PathCollection at 0x25d079ad5d0>"
      ]
     },
     "execution_count": 114,
     "metadata": {},
     "output_type": "execute_result"
    },
    {
     "data": {
      "text/plain": [
       "<matplotlib.legend.Legend at 0x25d06fe19c0>"
      ]
     },
     "execution_count": 114,
     "metadata": {},
     "output_type": "execute_result"
    },
    {
     "data": {
      "image/png": "[encoded data removed]",
      "text/plain": [
       "<Figure size 432x288 with 1 Axes>"
      ]
     },
     "metadata": {
      "needs_background": "light"
     },
     "output_type": "display_data"
    },
    {
     "data": {
      "text/plain": [
       "<matplotlib.collections.PathCollection at 0x25d0763a950>"
      ]
     },
     "execution_count": 114,
     "metadata": {},
     "output_type": "execute_result"
    },
    {
     "data": {
      "text/plain": [
       "<matplotlib.collections.PathCollection at 0x25d08117160>"
      ]
     },
     "execution_count": 114,
     "metadata": {},
     "output_type": "execute_result"
    },
    {
     "data": {
      "text/plain": [
       "<matplotlib.legend.Legend at 0x25d0775bcd0>"
      ]
     },
     "execution_count": 114,
     "metadata": {},
     "output_type": "execute_result"
    },
    {
     "data": {
      "image/png": "[encoded data removed]",
      "text/plain": [
       "<Figure size 432x288 with 1 Axes>"
      ]
     },
     "metadata": {
      "needs_background": "light"
     },
     "output_type": "display_data"
    }
   ],
   "source": [
    "plt.scatter(transformed[c_binary==0][0], transformed[c_binary==0][1], label='Normal', c='blue')\n",
    "\n",
    "plt.legend()\n",
    "plt.show()\n",
    "\n",
    "plt.scatter(transformed[c_binary==1][0], transformed[c_binary==1][1], label='Anomaly', c='red')\n",
    "\n",
    "plt.legend()\n",
    "plt.show()\n",
    "\n",
    "\n",
    "plt.scatter(transformed[c_binary==0][0], transformed[c_binary==0][1], label='Normal', c='blue')\n",
    "plt.scatter(transformed[c_binary==1][0], transformed[c_binary==1][1], label='Anomaly', c='red')\n",
    "plt.legend()\n",
    "plt.show()\n",
    "\n"
   ]
  },
  {
   "cell_type": "markdown",
   "id": "e3687c42",
   "metadata": {},
   "source": [
    "# PCA"
   ]
  },
  {
   "cell_type": "markdown",
   "id": "b845924c",
   "metadata": {},
   "source": [
    "## Hyperparameter Tunning for PCA"
   ]
  },
  {
   "cell_type": "code",
   "execution_count": 15,
   "id": "8f25ae22",
   "metadata": {},
   "outputs": [],
   "source": [
    "from sklearn.metrics import make_scorer, f1_score\n",
    "\n",
    "def scorer_f(estimator, X):   #your own scorer\n",
    "      return np.mean(estimator.score_samples(X))\n",
    "    "
   ]
  },
  {
   "cell_type": "code",
   "execution_count": 16,
   "id": "61f0df2b",
   "metadata": {},
   "outputs": [],
   "source": [
    "parameters_pca = {'n_components' : np.linspace(0.1, 1, num = 22)}"
   ]
  },
  {
   "cell_type": "code",
   "execution_count": 17,
   "id": "f228d9cf",
   "metadata": {},
   "outputs": [],
   "source": [
    "from sklearn.decomposition import PCA\n",
    "model_pca = PCA()"
   ]
  },
  {
   "cell_type": "code",
   "execution_count": 18,
   "id": "58d75b54",
   "metadata": {},
   "outputs": [],
   "source": [
    "idx_rand = np.random.permutation(len(kdd_train_x))\n",
    "num_sample = int(0.01*len(kdd_train_x))\n",
    "one_hot_data_pca = one_hot_data_maha\n",
    "one_hot_data_pca_sample = one_hot_data_pca.iloc[idx_rand[:num_sample]]\n",
    "kdd_train_y_sample = kdd_train_y.iloc[idx_rand[:num_sample]]\n",
    "\n"
   ]
  },
  {
   "cell_type": "code",
   "execution_count": 19,
   "id": "af6bb1ed",
   "metadata": {},
   "outputs": [
    {
     "name": "stdout",
     "output_type": "stream",
     "text": [
      " Results from Random Search \n",
      "\n",
      " The best estimator across ALL searched params:\n",
      " PCA(n_components=0.9571428571428572)\n",
      "\n",
      " The best score across ALL searched params:\n",
      " nan\n",
      "\n",
      " The best parameters across ALL searched params:\n",
      " {'n_components': 0.9571428571428572}\n"
     ]
    },
    {
     "name": "stderr",
     "output_type": "stream",
     "text": [
      "C:\\WINDOWS\\system32\\myenv\\lib\\site-packages\\sklearn\\model_selection\\_validation.py:378: FitFailedWarning: \n",
      "3 fits failed out of a total of 30.\n",
      "The score on these train-test partitions for these parameters will be set to nan.\n",
      "If these failures are not expected, you can try to debug them by setting error_score='raise'.\n",
      "\n",
      "Below are more details about the failures:\n",
      "--------------------------------------------------------------------------------\n",
      "3 fits failed with the following error:\n",
      "Traceback (most recent call last):\n",
      "  File \"C:\\WINDOWS\\system32\\myenv\\lib\\site-packages\\sklearn\\model_selection\\_validation.py\", line 686, in _fit_and_score\n",
      "    estimator.fit(X_train, y_train, **fit_params)\n",
      "  File \"C:\\WINDOWS\\system32\\myenv\\lib\\site-packages\\sklearn\\decomposition\\_pca.py\", line 408, in fit\n",
      "    self._fit(X)\n",
      "  File \"C:\\WINDOWS\\system32\\myenv\\lib\\site-packages\\sklearn\\decomposition\\_pca.py\", line 485, in _fit\n",
      "    return self._fit_truncated(X, n_components, self._fit_svd_solver)\n",
      "  File \"C:\\WINDOWS\\system32\\myenv\\lib\\site-packages\\sklearn\\decomposition\\_pca.py\", line 576, in _fit_truncated\n",
      "    raise ValueError(\n",
      "ValueError: n_components=1.0 must be of type int when greater than or equal to 1, was of type=<class 'numpy.float64'>\n",
      "\n",
      "  warnings.warn(some_fits_failed_message, FitFailedWarning)\n",
      "C:\\WINDOWS\\system32\\myenv\\lib\\site-packages\\sklearn\\model_selection\\_search.py:953: UserWarning: One or more of the test scores are non-finite: [nan nan nan nan nan nan nan nan nan nan]\n",
      "  warnings.warn(\n",
      "C:\\WINDOWS\\system32\\myenv\\lib\\site-packages\\sklearn\\model_selection\\_search.py:953: UserWarning: One or more of the train scores are non-finite: [nan nan nan nan nan nan nan nan nan nan]\n",
      "  warnings.warn(\n",
      "C:\\WINDOWS\\system32\\myenv\\lib\\site-packages\\sklearn\\utils\\validation.py:1858: FutureWarning: Feature names only support names that are all strings. Got feature names with dtypes: ['str', 'tuple']. An error will be raised in 1.2.\n",
      "  warnings.warn(\n"
     ]
    }
   ],
   "source": [
    "f1sc = make_scorer(f1_score, average = 'micro')\n",
    "randm_src = RandomizedSearchCV(estimator=model_pca, param_distributions = parameters_pca, cv = 3, scoring = f1sc, random_state = 0, return_train_score = True, n_jobs = -1)\n",
    "model_src = randm_src.fit(one_hot_data_pca_sample, kdd_train_y_sample[\"class_binary\"])\n",
    "\n",
    "print(\" Results from Random Search \" )\n",
    "print(\"\\n The best estimator across ALL searched params:\\n\", randm_src.best_estimator_)\n",
    "print(\"\\n The best score across ALL searched params:\\n\", randm_src.best_score_)\n",
    "print(\"\\n The best parameters across ALL searched params:\\n\", randm_src.best_params_)"
   ]
  },
  {
   "cell_type": "code",
   "execution_count": 20,
   "id": "95b8069d",
   "metadata": {},
   "outputs": [],
   "source": [
    "#Keep best % of variance\n",
    "model_pca = PCA(n_components=0.9571428571428572,whiten = True)"
   ]
  },
  {
   "cell_type": "code",
   "execution_count": 21,
   "id": "38bda7c9",
   "metadata": {},
   "outputs": [
    {
     "name": "stderr",
     "output_type": "stream",
     "text": [
      "C:\\WINDOWS\\system32\\myenv\\lib\\site-packages\\sklearn\\utils\\validation.py:1858: FutureWarning: Feature names only support names that are all strings. Got feature names with dtypes: ['str', 'tuple']. An error will be raised in 1.2.\n",
      "  warnings.warn(\n"
     ]
    }
   ],
   "source": [
    "data_pca = model_pca.fit_transform(one_hot_data_maha)"
   ]
  },
  {
   "cell_type": "code",
   "execution_count": 22,
   "id": "32aa62b8",
   "metadata": {},
   "outputs": [
    {
     "name": "stdout",
     "output_type": "stream",
     "text": [
      "(125973, 25)\n"
     ]
    }
   ],
   "source": [
    "print(data_pca.shape)"
   ]
  },
  {
   "cell_type": "code",
   "execution_count": 23,
   "id": "90f7430a",
   "metadata": {},
   "outputs": [],
   "source": [
    "model_pca = PCA(n_components=25,whiten=True)"
   ]
  },
  {
   "cell_type": "code",
   "execution_count": 24,
   "id": "08e1f8ad",
   "metadata": {},
   "outputs": [
    {
     "name": "stderr",
     "output_type": "stream",
     "text": [
      "C:\\WINDOWS\\system32\\myenv\\lib\\site-packages\\sklearn\\utils\\validation.py:1858: FutureWarning: Feature names only support names that are all strings. Got feature names with dtypes: ['str', 'tuple']. An error will be raised in 1.2.\n",
      "  warnings.warn(\n"
     ]
    },
    {
     "name": "stdout",
     "output_type": "stream",
     "text": [
      "(125973, 25)\n"
     ]
    }
   ],
   "source": [
    "data_pca = model_pca.fit_transform(one_hot_data_maha)\n",
    "print(data_pca.shape)"
   ]
  },
  {
   "cell_type": "code",
   "execution_count": 25,
   "id": "090b43d0",
   "metadata": {},
   "outputs": [
    {
     "name": "stdout",
     "output_type": "stream",
     "text": [
      "['Variable 0', 'Variable 1', 'Variable 2', 'Variable 3', 'Variable 4', 'Variable 5', 'Variable 6', 'Variable 7', 'Variable 8', 'Variable 9', 'Variable 10', 'Variable 11', 'Variable 12', 'Variable 13', 'Variable 14', 'Variable 15', 'Variable 16', 'Variable 17', 'Variable 18', 'Variable 19', 'Variable 20', 'Variable 21', 'Variable 22', 'Variable 23', 'Variable 24']\n"
     ]
    }
   ],
   "source": [
    "new_header =['Variable '+str(i) for i in range(model_pca.n_components)]\n",
    "\n",
    "    \n",
    "print(new_header)"
   ]
  },
  {
   "cell_type": "code",
   "execution_count": 26,
   "id": "7c25506b",
   "metadata": {},
   "outputs": [],
   "source": [
    "data_pca = pd.DataFrame(data_pca,columns=new_header)"
   ]
  },
  {
   "cell_type": "code",
   "execution_count": 27,
   "id": "fdda3f78",
   "metadata": {},
   "outputs": [
    {
     "data": {
      "text/html": [
       "<div>\n",
       "<style scoped>\n",
       "    .dataframe tbody tr th:only-of-type {\n",
       "        vertical-align: middle;\n",
       "    }\n",
       "\n",
       "    .dataframe tbody tr th {\n",
       "        vertical-align: top;\n",
       "    }\n",
       "\n",
       "    .dataframe thead th {\n",
       "        text-align: right;\n",
       "    }\n",
       "</style>\n",
       "<table border=\"1\" class=\"dataframe\">\n",
       "  <thead>\n",
       "    <tr style=\"text-align: right;\">\n",
       "      <th></th>\n",
       "      <th>Variable 0</th>\n",
       "      <th>Variable 1</th>\n",
       "      <th>Variable 2</th>\n",
       "      <th>Variable 3</th>\n",
       "      <th>Variable 4</th>\n",
       "      <th>Variable 5</th>\n",
       "      <th>Variable 6</th>\n",
       "      <th>Variable 7</th>\n",
       "      <th>Variable 8</th>\n",
       "      <th>Variable 9</th>\n",
       "      <th>...</th>\n",
       "      <th>Variable 15</th>\n",
       "      <th>Variable 16</th>\n",
       "      <th>Variable 17</th>\n",
       "      <th>Variable 18</th>\n",
       "      <th>Variable 19</th>\n",
       "      <th>Variable 20</th>\n",
       "      <th>Variable 21</th>\n",
       "      <th>Variable 22</th>\n",
       "      <th>Variable 23</th>\n",
       "      <th>Variable 24</th>\n",
       "    </tr>\n",
       "  </thead>\n",
       "  <tbody>\n",
       "    <tr>\n",
       "      <th>0</th>\n",
       "      <td>-0.271817</td>\n",
       "      <td>-0.031828</td>\n",
       "      <td>-0.007913</td>\n",
       "      <td>-0.057511</td>\n",
       "      <td>-0.242415</td>\n",
       "      <td>0.177059</td>\n",
       "      <td>-0.356126</td>\n",
       "      <td>0.408246</td>\n",
       "      <td>0.040125</td>\n",
       "      <td>0.127199</td>\n",
       "      <td>...</td>\n",
       "      <td>0.017675</td>\n",
       "      <td>-0.207696</td>\n",
       "      <td>-0.037670</td>\n",
       "      <td>-0.320513</td>\n",
       "      <td>0.282792</td>\n",
       "      <td>2.121928</td>\n",
       "      <td>-0.554458</td>\n",
       "      <td>-0.128861</td>\n",
       "      <td>-1.473057</td>\n",
       "      <td>-1.178637</td>\n",
       "    </tr>\n",
       "    <tr>\n",
       "      <th>1</th>\n",
       "      <td>0.172646</td>\n",
       "      <td>0.493701</td>\n",
       "      <td>0.004511</td>\n",
       "      <td>-0.797854</td>\n",
       "      <td>-0.794043</td>\n",
       "      <td>1.396155</td>\n",
       "      <td>-1.419619</td>\n",
       "      <td>1.811960</td>\n",
       "      <td>-0.912519</td>\n",
       "      <td>0.028641</td>\n",
       "      <td>...</td>\n",
       "      <td>0.001159</td>\n",
       "      <td>-0.341807</td>\n",
       "      <td>-0.086003</td>\n",
       "      <td>-0.390951</td>\n",
       "      <td>0.353703</td>\n",
       "      <td>2.470526</td>\n",
       "      <td>-0.970956</td>\n",
       "      <td>0.370610</td>\n",
       "      <td>1.229085</td>\n",
       "      <td>0.620339</td>\n",
       "    </tr>\n",
       "    <tr>\n",
       "      <th>2</th>\n",
       "      <td>1.415630</td>\n",
       "      <td>-0.666276</td>\n",
       "      <td>0.012028</td>\n",
       "      <td>-0.028398</td>\n",
       "      <td>-0.176458</td>\n",
       "      <td>-0.336946</td>\n",
       "      <td>0.050874</td>\n",
       "      <td>-0.047366</td>\n",
       "      <td>0.161117</td>\n",
       "      <td>0.009215</td>\n",
       "      <td>...</td>\n",
       "      <td>-0.013285</td>\n",
       "      <td>-0.080540</td>\n",
       "      <td>0.029774</td>\n",
       "      <td>0.017559</td>\n",
       "      <td>-0.007434</td>\n",
       "      <td>0.089605</td>\n",
       "      <td>0.323908</td>\n",
       "      <td>-0.208929</td>\n",
       "      <td>0.327629</td>\n",
       "      <td>-0.075655</td>\n",
       "    </tr>\n",
       "    <tr>\n",
       "      <th>3</th>\n",
       "      <td>-0.904705</td>\n",
       "      <td>-0.465462</td>\n",
       "      <td>-0.041510</td>\n",
       "      <td>0.310599</td>\n",
       "      <td>0.131188</td>\n",
       "      <td>-0.845985</td>\n",
       "      <td>0.027310</td>\n",
       "      <td>0.064317</td>\n",
       "      <td>0.051110</td>\n",
       "      <td>0.009946</td>\n",
       "      <td>...</td>\n",
       "      <td>0.013663</td>\n",
       "      <td>-0.103790</td>\n",
       "      <td>0.018488</td>\n",
       "      <td>-1.077262</td>\n",
       "      <td>0.095570</td>\n",
       "      <td>-1.068191</td>\n",
       "      <td>-0.187460</td>\n",
       "      <td>-0.311464</td>\n",
       "      <td>0.040900</td>\n",
       "      <td>-0.580682</td>\n",
       "    </tr>\n",
       "    <tr>\n",
       "      <th>4</th>\n",
       "      <td>-0.829569</td>\n",
       "      <td>-0.395406</td>\n",
       "      <td>-0.070325</td>\n",
       "      <td>0.588581</td>\n",
       "      <td>0.832244</td>\n",
       "      <td>-0.290600</td>\n",
       "      <td>-0.145860</td>\n",
       "      <td>0.193486</td>\n",
       "      <td>0.064853</td>\n",
       "      <td>-0.023984</td>\n",
       "      <td>...</td>\n",
       "      <td>-0.028782</td>\n",
       "      <td>-0.083732</td>\n",
       "      <td>0.048325</td>\n",
       "      <td>0.359112</td>\n",
       "      <td>-0.102098</td>\n",
       "      <td>-0.014894</td>\n",
       "      <td>0.542317</td>\n",
       "      <td>0.586902</td>\n",
       "      <td>0.417898</td>\n",
       "      <td>1.189603</td>\n",
       "    </tr>\n",
       "    <tr>\n",
       "      <th>...</th>\n",
       "      <td>...</td>\n",
       "      <td>...</td>\n",
       "      <td>...</td>\n",
       "      <td>...</td>\n",
       "      <td>...</td>\n",
       "      <td>...</td>\n",
       "      <td>...</td>\n",
       "      <td>...</td>\n",
       "      <td>...</td>\n",
       "      <td>...</td>\n",
       "      <td>...</td>\n",
       "      <td>...</td>\n",
       "      <td>...</td>\n",
       "      <td>...</td>\n",
       "      <td>...</td>\n",
       "      <td>...</td>\n",
       "      <td>...</td>\n",
       "      <td>...</td>\n",
       "      <td>...</td>\n",
       "      <td>...</td>\n",
       "      <td>...</td>\n",
       "    </tr>\n",
       "    <tr>\n",
       "      <th>125968</th>\n",
       "      <td>1.432927</td>\n",
       "      <td>-0.660116</td>\n",
       "      <td>0.000861</td>\n",
       "      <td>-0.084749</td>\n",
       "      <td>-0.018009</td>\n",
       "      <td>-0.098309</td>\n",
       "      <td>0.132684</td>\n",
       "      <td>-0.176189</td>\n",
       "      <td>0.182252</td>\n",
       "      <td>-0.003731</td>\n",
       "      <td>...</td>\n",
       "      <td>-0.018946</td>\n",
       "      <td>-0.062724</td>\n",
       "      <td>0.028226</td>\n",
       "      <td>-0.014552</td>\n",
       "      <td>-0.014394</td>\n",
       "      <td>-0.228303</td>\n",
       "      <td>0.052987</td>\n",
       "      <td>0.020964</td>\n",
       "      <td>0.233692</td>\n",
       "      <td>-0.010734</td>\n",
       "    </tr>\n",
       "    <tr>\n",
       "      <th>125969</th>\n",
       "      <td>-0.579312</td>\n",
       "      <td>-0.249285</td>\n",
       "      <td>-0.087692</td>\n",
       "      <td>0.143871</td>\n",
       "      <td>0.675707</td>\n",
       "      <td>0.262858</td>\n",
       "      <td>-0.190330</td>\n",
       "      <td>0.254527</td>\n",
       "      <td>0.112493</td>\n",
       "      <td>0.077054</td>\n",
       "      <td>...</td>\n",
       "      <td>-0.009618</td>\n",
       "      <td>-0.129347</td>\n",
       "      <td>0.007511</td>\n",
       "      <td>0.295710</td>\n",
       "      <td>0.013123</td>\n",
       "      <td>1.560203</td>\n",
       "      <td>1.871807</td>\n",
       "      <td>-0.068691</td>\n",
       "      <td>1.161911</td>\n",
       "      <td>-1.218133</td>\n",
       "    </tr>\n",
       "    <tr>\n",
       "      <th>125970</th>\n",
       "      <td>-0.158302</td>\n",
       "      <td>-0.281355</td>\n",
       "      <td>0.027748</td>\n",
       "      <td>0.556132</td>\n",
       "      <td>0.016131</td>\n",
       "      <td>-0.276331</td>\n",
       "      <td>-0.602390</td>\n",
       "      <td>0.657013</td>\n",
       "      <td>0.010437</td>\n",
       "      <td>0.078132</td>\n",
       "      <td>...</td>\n",
       "      <td>-0.026979</td>\n",
       "      <td>-0.180232</td>\n",
       "      <td>0.006473</td>\n",
       "      <td>0.230494</td>\n",
       "      <td>0.154848</td>\n",
       "      <td>1.554270</td>\n",
       "      <td>-0.749116</td>\n",
       "      <td>1.390124</td>\n",
       "      <td>-1.716277</td>\n",
       "      <td>0.591655</td>\n",
       "    </tr>\n",
       "    <tr>\n",
       "      <th>125971</th>\n",
       "      <td>1.437126</td>\n",
       "      <td>-0.668559</td>\n",
       "      <td>0.014500</td>\n",
       "      <td>-0.037322</td>\n",
       "      <td>-0.168116</td>\n",
       "      <td>-0.276399</td>\n",
       "      <td>0.092500</td>\n",
       "      <td>-0.121089</td>\n",
       "      <td>0.193096</td>\n",
       "      <td>0.007073</td>\n",
       "      <td>...</td>\n",
       "      <td>-0.019991</td>\n",
       "      <td>-0.087068</td>\n",
       "      <td>0.026619</td>\n",
       "      <td>0.024639</td>\n",
       "      <td>0.010869</td>\n",
       "      <td>0.134866</td>\n",
       "      <td>0.074791</td>\n",
       "      <td>-0.037009</td>\n",
       "      <td>0.033713</td>\n",
       "      <td>0.038027</td>\n",
       "    </tr>\n",
       "    <tr>\n",
       "      <th>125972</th>\n",
       "      <td>-0.476780</td>\n",
       "      <td>-0.179868</td>\n",
       "      <td>0.002340</td>\n",
       "      <td>0.331980</td>\n",
       "      <td>0.022217</td>\n",
       "      <td>0.004447</td>\n",
       "      <td>-0.614954</td>\n",
       "      <td>0.670347</td>\n",
       "      <td>0.043615</td>\n",
       "      <td>0.062160</td>\n",
       "      <td>...</td>\n",
       "      <td>-0.021178</td>\n",
       "      <td>-0.323144</td>\n",
       "      <td>0.020326</td>\n",
       "      <td>-0.056475</td>\n",
       "      <td>0.220091</td>\n",
       "      <td>1.837306</td>\n",
       "      <td>-0.714722</td>\n",
       "      <td>0.464104</td>\n",
       "      <td>-1.223492</td>\n",
       "      <td>1.542786</td>\n",
       "    </tr>\n",
       "  </tbody>\n",
       "</table>\n",
       "<p>125973 rows × 25 columns</p>\n",
       "</div>"
      ],
      "text/plain": [
       "        Variable 0  Variable 1  Variable 2  Variable 3  Variable 4  \\\n",
       "0        -0.271817   -0.031828   -0.007913   -0.057511   -0.242415   \n",
       "1         0.172646    0.493701    0.004511   -0.797854   -0.794043   \n",
       "2         1.415630   -0.666276    0.012028   -0.028398   -0.176458   \n",
       "3        -0.904705   -0.465462   -0.041510    0.310599    0.131188   \n",
       "4        -0.829569   -0.395406   -0.070325    0.588581    0.832244   \n",
       "...            ...         ...         ...         ...         ...   \n",
       "125968    1.432927   -0.660116    0.000861   -0.084749   -0.018009   \n",
       "125969   -0.579312   -0.249285   -0.087692    0.143871    0.675707   \n",
       "125970   -0.158302   -0.281355    0.027748    0.556132    0.016131   \n",
       "125971    1.437126   -0.668559    0.014500   -0.037322   -0.168116   \n",
       "125972   -0.476780   -0.179868    0.002340    0.331980    0.022217   \n",
       "\n",
       "        Variable 5  Variable 6  Variable 7  Variable 8  Variable 9  ...  \\\n",
       "0         0.177059   -0.356126    0.408246    0.040125    0.127199  ...   \n",
       "1         1.396155   -1.419619    1.811960   -0.912519    0.028641  ...   \n",
       "2        -0.336946    0.050874   -0.047366    0.161117    0.009215  ...   \n",
       "3        -0.845985    0.027310    0.064317    0.051110    0.009946  ...   \n",
       "4        -0.290600   -0.145860    0.193486    0.064853   -0.023984  ...   \n",
       "...            ...         ...         ...         ...         ...  ...   \n",
       "125968   -0.098309    0.132684   -0.176189    0.182252   -0.003731  ...   \n",
       "125969    0.262858   -0.190330    0.254527    0.112493    0.077054  ...   \n",
       "125970   -0.276331   -0.602390    0.657013    0.010437    0.078132  ...   \n",
       "125971   -0.276399    0.092500   -0.121089    0.193096    0.007073  ...   \n",
       "125972    0.004447   -0.614954    0.670347    0.043615    0.062160  ...   \n",
       "\n",
       "        Variable 15  Variable 16  Variable 17  Variable 18  Variable 19  \\\n",
       "0          0.017675    -0.207696    -0.037670    -0.320513     0.282792   \n",
       "1          0.001159    -0.341807    -0.086003    -0.390951     0.353703   \n",
       "2         -0.013285    -0.080540     0.029774     0.017559    -0.007434   \n",
       "3          0.013663    -0.103790     0.018488    -1.077262     0.095570   \n",
       "4         -0.028782    -0.083732     0.048325     0.359112    -0.102098   \n",
       "...             ...          ...          ...          ...          ...   \n",
       "125968    -0.018946    -0.062724     0.028226    -0.014552    -0.014394   \n",
       "125969    -0.009618    -0.129347     0.007511     0.295710     0.013123   \n",
       "125970    -0.026979    -0.180232     0.006473     0.230494     0.154848   \n",
       "125971    -0.019991    -0.087068     0.026619     0.024639     0.010869   \n",
       "125972    -0.021178    -0.323144     0.020326    -0.056475     0.220091   \n",
       "\n",
       "        Variable 20  Variable 21  Variable 22  Variable 23  Variable 24  \n",
       "0          2.121928    -0.554458    -0.128861    -1.473057    -1.178637  \n",
       "1          2.470526    -0.970956     0.370610     1.229085     0.620339  \n",
       "2          0.089605     0.323908    -0.208929     0.327629    -0.075655  \n",
       "3         -1.068191    -0.187460    -0.311464     0.040900    -0.580682  \n",
       "4         -0.014894     0.542317     0.586902     0.417898     1.189603  \n",
       "...             ...          ...          ...          ...          ...  \n",
       "125968    -0.228303     0.052987     0.020964     0.233692    -0.010734  \n",
       "125969     1.560203     1.871807    -0.068691     1.161911    -1.218133  \n",
       "125970     1.554270    -0.749116     1.390124    -1.716277     0.591655  \n",
       "125971     0.134866     0.074791    -0.037009     0.033713     0.038027  \n",
       "125972     1.837306    -0.714722     0.464104    -1.223492     1.542786  \n",
       "\n",
       "[125973 rows x 25 columns]"
      ]
     },
     "execution_count": 27,
     "metadata": {},
     "output_type": "execute_result"
    }
   ],
   "source": [
    "data_pca"
   ]
  },
  {
   "cell_type": "code",
   "execution_count": 28,
   "id": "b9c3425f",
   "metadata": {},
   "outputs": [],
   "source": [
    "data_array = np.array(data_pca)"
   ]
  },
  {
   "cell_type": "markdown",
   "id": "30b4e7b8",
   "metadata": {},
   "source": [
    "# Mahalanobis With PCA"
   ]
  },
  {
   "cell_type": "code",
   "execution_count": 29,
   "id": "3ff85c1f",
   "metadata": {},
   "outputs": [
    {
     "name": "stderr",
     "output_type": "stream",
     "text": [
      "C:\\WINDOWS\\system32\\myenv\\lib\\site-packages\\numpy\\core\\fromnumeric.py:3430: FutureWarning: In a future version, DataFrame.mean(axis=None) will return a scalar mean over the entire DataFrame. To retain the old behavior, use 'frame.mean(axis=0)' or just 'frame.mean()'\n",
      "  return mean(axis=axis, dtype=dtype, out=out, **kwargs)\n"
     ]
    },
    {
     "data": {
      "text/plain": [
       "(duration,)          2.549477e-17\n",
       "(src_bytes,)        -4.512349e-19\n",
       "(dst_bytes,)         7.614590e-19\n",
       "(land,)             -4.794371e-18\n",
       "(wrong_fragment,)    4.230328e-19\n",
       "                         ...     \n",
       "service_urp_i        4.778802e-03\n",
       "service_uucp         6.191803e-03\n",
       "service_uucp_path    5.469426e-03\n",
       "service_vmnet        4.897875e-03\n",
       "service_whois        5.501179e-03\n",
       "Length: 121, dtype: float64"
      ]
     },
     "execution_count": 29,
     "metadata": {},
     "output_type": "execute_result"
    },
    {
     "name": "stdout",
     "output_type": "stream",
     "text": [
      "8003\n"
     ]
    }
   ],
   "source": [
    "#Use new PCA data for Mahalanobis Distance\n",
    "import scipy as sp\n",
    "mu_vec = np.mean(data_array,axis = 0)\n",
    "inv_cormat = sp.linalg.pinv(np.cov(data_array, rowvar=False))\n",
    "\n",
    "# For loop to get the distance for all the variables\n",
    "mahal_dist = []\n",
    "\n",
    "for i in range(data_array.shape[0]):\n",
    "    x_minus_mu = data_array[i,:] - mu_vec\n",
    "    left_term = np.dot(x_minus_mu, inv_cormat)\n",
    "    mahal = np.dot(left_term, x_minus_mu.T)\n",
    "    mahal = np.sqrt(mahal)\n",
    "    mahal_dist.append(mahal)\n",
    "\n",
    "np.mean(one_hot_data_maha)\n",
    "\n",
    "from scipy.stats import chi2\n",
    "one_hot_data_maha['p-value'] = 1 - chi2.cdf(mahal_dist, df = 1) #pdf(x, degreeOfFreedom = Number of Variables)\n",
    "\n",
    "#Calculate number of p-value less than 0.01\n",
    "print(np.count_nonzero(one_hot_data_maha['p-value'] < 0.01))"
   ]
  },
  {
   "cell_type": "code",
   "execution_count": 30,
   "id": "03f59836",
   "metadata": {},
   "outputs": [
    {
     "name": "stdout",
     "output_type": "stream",
     "text": [
      "Training accuracy: 0.5601\n",
      "[[64950  2393]\n",
      " [53020  5610]]\n"
     ]
    }
   ],
   "source": [
    "pvalue = one_hot_data_maha['p-value']\n",
    "bi_pvalue = pvalue\n",
    "\n",
    "bi_pvalue = np.where(pvalue < 0.01, 1, bi_pvalue)\n",
    "bi_pvalue = np.where(pvalue >= 0.01, 0, bi_pvalue)\n",
    "\n",
    "from sklearn.metrics import accuracy_score\n",
    "\n",
    "train_acc_maha = accuracy_score(kdd_train_y['class_binary'], bi_pvalue)\n",
    "print(\"Training accuracy: {:.4f}\".format(train_acc_maha))\n",
    "cm_maha = confusion_matrix (kdd_train_y[\"class_binary\"], bi_pvalue)\n",
    "print(cm_maha)"
   ]
  },
  {
   "cell_type": "code",
   "execution_count": 31,
   "id": "a71b3221",
   "metadata": {},
   "outputs": [
    {
     "data": {
      "text/plain": [
       "5610"
      ]
     },
     "execution_count": 31,
     "metadata": {},
     "output_type": "execute_result"
    }
   ],
   "source": [
    "count = 0\n",
    "for i in range(len(kdd_train_y)):\n",
    "    if (bi_pvalue[i] == kdd_train_y.loc[i,'class_binary']==1):\n",
    "        count+=1\n",
    "    \n",
    "count"
   ]
  },
  {
   "cell_type": "code",
   "execution_count": 32,
   "id": "0b3dfe0b",
   "metadata": {},
   "outputs": [
    {
     "data": {
      "text/plain": [
       "58630"
      ]
     },
     "execution_count": 32,
     "metadata": {},
     "output_type": "execute_result"
    }
   ],
   "source": [
    "53020+5610"
   ]
  },
  {
   "cell_type": "code",
   "execution_count": 33,
   "id": "27362451",
   "metadata": {},
   "outputs": [
    {
     "data": {
      "text/plain": [
       "1"
      ]
     },
     "execution_count": 33,
     "metadata": {},
     "output_type": "execute_result"
    }
   ],
   "source": [
    "kdd_train_y.at[5,'class_binary']"
   ]
  },
  {
   "cell_type": "code",
   "execution_count": 34,
   "id": "f975945d",
   "metadata": {},
   "outputs": [
    {
     "data": {
      "text/plain": [
       "Text(0.5, 1.0, 'Seaborn Confusion Matrix with labels\\n\\n')"
      ]
     },
     "execution_count": 34,
     "metadata": {},
     "output_type": "execute_result"
    },
    {
     "data": {
      "text/plain": [
       "Text(0.5, 15.0, 'Predicted Values')"
      ]
     },
     "execution_count": 34,
     "metadata": {},
     "output_type": "execute_result"
    },
    {
     "data": {
      "text/plain": [
       "Text(33.0, 0.5, 'Actual Values ')"
      ]
     },
     "execution_count": 34,
     "metadata": {},
     "output_type": "execute_result"
    },
    {
     "data": {
      "text/plain": [
       "[Text(0.5, 0, 'False'), Text(1.5, 0, 'True')]"
      ]
     },
     "execution_count": 34,
     "metadata": {},
     "output_type": "execute_result"
    },
    {
     "data": {
      "text/plain": [
       "[Text(0, 0.5, 'False'), Text(0, 1.5, 'True')]"
      ]
     },
     "execution_count": 34,
     "metadata": {},
     "output_type": "execute_result"
    },
    {
     "data": {
      "image/png": "[encoded data removed]",
      "text/plain": [
       "<Figure size 432x288 with 2 Axes>"
      ]
     },
     "metadata": {
      "needs_background": "light"
     },
     "output_type": "display_data"
    },
    {
     "name": "stdout",
     "output_type": "stream",
     "text": [
      "Precision =  0.7009871298263152\n",
      "Recall =  0.09568480300187618\n"
     ]
    }
   ],
   "source": [
    "ax = sns.heatmap(cm_maha, annot=True, cmap='Blues')\n",
    "\n",
    "ax.set_title('Seaborn Confusion Matrix with labels\\n\\n');\n",
    "ax.set_xlabel('Predicted Values')\n",
    "ax.set_ylabel('Actual Values ');\n",
    "\n",
    "## Ticket labels - List must be in alphabetical order\n",
    "ax.xaxis.set_ticklabels(['False','True'])\n",
    "ax.yaxis.set_ticklabels(['False','True'])\n",
    "\n",
    "## Display the visualization of the Confusion Matrix.\n",
    "plt.show()\n",
    "\n",
    "\n",
    "## FP,FN,TP,TN\n",
    "TN_maha = cm_maha[0][0]\n",
    "FN_maha = cm_maha[1][0]\n",
    "FP_maha = cm_maha[0][1]\n",
    "TP_maha = cm_maha[1][1]\n",
    "\n",
    "##Precision and Recall\n",
    "Precision_maha = TP_maha/(TP_maha+FP_maha)\n",
    "Recall_maha = TP_maha/(TP_maha+FN_maha)\n",
    "\n",
    "print (\"Precision = \",Precision_maha)\n",
    "print (\"Recall = \",Recall_maha)\n"
   ]
  },
  {
   "cell_type": "markdown",
   "id": "16002b73",
   "metadata": {},
   "source": [
    "# MCD"
   ]
  },
  {
   "cell_type": "code",
   "execution_count": 35,
   "id": "54e2dff5",
   "metadata": {},
   "outputs": [],
   "source": [
    "from sklearn.covariance import MinCovDet\n",
    "from sklearn.datasets import make_gaussian_quantiles\n",
    "\n",
    "rng = np.random.RandomState(42)"
   ]
  },
  {
   "cell_type": "code",
   "execution_count": 36,
   "id": "d8e08f30",
   "metadata": {},
   "outputs": [
    {
     "name": "stderr",
     "output_type": "stream",
     "text": [
      "C:\\WINDOWS\\system32\\myenv\\lib\\site-packages\\sklearn\\covariance\\_robust_covariance.py:183: RuntimeWarning: Determinant has increased; this should not happen: log(det) > log(previous_det) (-321.063120678918665 > -321.190356041747293). You may want to try with a higher value of support_fraction (current value: 0.501).\n",
      "  warnings.warn(\n"
     ]
    }
   ],
   "source": [
    "mcd_model = MinCovDet(random_state=42).fit(data_pca)"
   ]
  },
  {
   "cell_type": "code",
   "execution_count": 37,
   "id": "ae4a3489",
   "metadata": {},
   "outputs": [
    {
     "data": {
      "text/plain": [
       "array([ 1.42614036e-16, -7.14171828e-17, -2.97486562e-18, -4.07406982e-17,\n",
       "       -1.22242971e-17, -8.81605355e-17,  5.80400939e-17,  8.82922238e-17,\n",
       "       -3.32475102e-17, -2.15068696e-16,  3.96142083e-17,  5.11156867e-17,\n",
       "       -2.14738614e-16, -2.71060923e-16,  3.37187511e-16, -1.87648875e-16,\n",
       "       -7.68201043e-17, -2.14048267e-16, -6.04785252e-16,  4.31351958e-16,\n",
       "       -4.70720884e-16,  3.58493820e-16,  1.61989068e-15, -1.39945052e-15,\n",
       "        3.33480246e-16])"
      ]
     },
     "execution_count": 37,
     "metadata": {},
     "output_type": "execute_result"
    }
   ],
   "source": [
    "np.mean(data_array,axis = 0)"
   ]
  },
  {
   "cell_type": "code",
   "execution_count": 38,
   "id": "0e90c138",
   "metadata": {},
   "outputs": [
    {
     "data": {
      "text/plain": [
       "array([[ 1.00000000e+00,  1.30619450e-16,  2.80367184e-17,\n",
       "         7.43389022e-17,  1.20706304e-17,  2.14126779e-17,\n",
       "        -1.32357424e-17,  7.82286311e-18,  2.28439501e-18,\n",
       "         1.10694449e-18, -5.83437305e-18,  3.33317204e-18,\n",
       "         6.62150665e-19, -2.49957607e-18,  1.94993208e-18,\n",
       "         2.80261425e-18, -3.02118290e-18,  7.09907477e-19,\n",
       "         1.28320954e-18,  4.73095386e-18,  3.05039884e-17,\n",
       "         5.16456588e-18,  8.58675176e-18, -1.14149244e-17,\n",
       "         1.36499652e-17],\n",
       "       [-1.30619450e-16,  1.00000000e+00,  2.14864882e-15,\n",
       "         2.14542500e-15, -1.78140074e-16,  1.62153440e-15,\n",
       "        -3.79783696e-16,  5.92210334e-16, -7.18788397e-16,\n",
       "         2.45667149e-16,  1.60442048e-16,  1.13319724e-15,\n",
       "        -3.09305724e-16, -1.67217013e-16,  5.85954116e-16,\n",
       "        -3.40669570e-16, -1.90727342e-16, -1.86189900e-16,\n",
       "         4.05294474e-17,  6.17299844e-16, -4.11248659e-16,\n",
       "        -9.86178599e-16,  2.15171127e-17,  5.49486744e-16,\n",
       "        -2.63677968e-16],\n",
       "       [-2.80367184e-17, -8.82565995e-17,  1.00000000e+00,\n",
       "        -1.43709322e-15, -7.86301573e-16,  2.86882447e-17,\n",
       "         3.73065686e-17,  1.79660413e-16, -9.78502774e-16,\n",
       "        -5.93131977e-17,  4.99371600e-16,  4.13010708e-16,\n",
       "        -4.44816724e-16, -4.91828814e-17, -1.19945715e-16,\n",
       "        -5.02313192e-16, -8.35330434e-17, -2.70501440e-16,\n",
       "        -1.89824992e-16, -3.79269644e-17, -1.56874482e-15,\n",
       "        -1.43679113e-15,  5.13578262e-16,  1.84301130e-15,\n",
       "        -4.71844785e-16],\n",
       "       [-7.43389022e-17, -1.41732651e-15,  3.06257716e-16,\n",
       "         1.00000000e+00,  9.01049146e-16, -4.14971298e-16,\n",
       "         3.78364093e-17, -1.24239649e-15,  5.94936287e-16,\n",
       "        -6.16323189e-16, -6.20158373e-16, -1.56711434e-15,\n",
       "         4.24255298e-16,  5.40998069e-17,  1.57016731e-16,\n",
       "         7.56005358e-16, -3.97780741e-16, -1.10825197e-16,\n",
       "        -3.58486307e-18, -8.07356543e-16,  1.09183259e-15,\n",
       "         1.37657643e-15,  6.34545617e-17, -1.97465196e-15,\n",
       "        -1.52655666e-16],\n",
       "       [-1.20706304e-17,  1.30659461e-16,  4.98129212e-16,\n",
       "        -3.30278212e-16,  1.00000000e+00, -4.19303770e-16,\n",
       "        -9.72148145e-16, -5.07710339e-16, -2.35129319e-16,\n",
       "        -1.30945082e-16, -1.13641627e-15,  1.78875006e-17,\n",
       "         6.61342200e-16, -4.70183647e-16, -8.97973927e-16,\n",
       "        -4.18781437e-16,  8.67744553e-16,  2.46620985e-16,\n",
       "         5.62208463e-16,  1.17268420e-15, -4.44813283e-16,\n",
       "        -3.97497463e-16, -2.55714347e-16,  1.17131087e-15,\n",
       "        -1.02695630e-15],\n",
       "       [-2.14126779e-17, -5.28861830e-16, -9.15550859e-16,\n",
       "        -1.10301317e-16,  1.48196338e-16,  1.00000000e+00,\n",
       "         1.11579517e-15,  4.19597813e-16,  1.48084977e-15,\n",
       "         4.49912776e-16, -4.05310298e-16,  3.51303358e-16,\n",
       "        -5.52999063e-16,  2.24145400e-16,  1.57233269e-15,\n",
       "        -4.52407143e-16,  6.42106747e-16,  4.22781511e-16,\n",
       "        -4.41552644e-16,  2.67978969e-16,  4.32030718e-16,\n",
       "        -3.98232128e-16, -3.74417833e-16, -7.87903186e-16,\n",
       "         6.10622664e-16],\n",
       "       [ 1.32357424e-17, -2.11871830e-16, -7.78964351e-17,\n",
       "         4.33463235e-16,  5.65060927e-16, -4.46535800e-16,\n",
       "         1.00000000e+00, -2.49811746e-16,  1.51521241e-15,\n",
       "        -4.57597665e-16, -5.74761308e-16, -5.25914099e-17,\n",
       "        -3.41508723e-16,  8.15825713e-19,  9.79018290e-16,\n",
       "        -2.22673716e-16, -1.79177601e-16,  2.87486022e-18,\n",
       "         6.79655013e-16, -3.09507247e-16,  4.52786743e-16,\n",
       "        -8.68929821e-16,  2.66834273e-16,  3.00612784e-17,\n",
       "         8.04911693e-16],\n",
       "       [-7.82286311e-18,  9.72349275e-18, -3.77001950e-16,\n",
       "        -1.31163727e-17,  1.99740850e-17, -4.21612177e-16,\n",
       "         3.86895114e-16,  1.00000000e+00,  1.30941950e-15,\n",
       "         7.00026742e-16,  4.42757752e-16,  3.15994791e-16,\n",
       "        -7.04178377e-16,  1.30033848e-16, -6.34109144e-18,\n",
       "        -7.91338725e-16,  3.66260189e-16, -3.09148139e-16,\n",
       "        -5.89574339e-16,  3.98350250e-17, -8.69565233e-18,\n",
       "         9.45839156e-16, -3.86130189e-16, -7.48627707e-17,\n",
       "         1.66533454e-16],\n",
       "       [-2.28439501e-18,  5.53831977e-16,  1.13036414e-15,\n",
       "        -7.18460857e-16,  6.20788363e-16, -1.19481409e-15,\n",
       "        -1.07106269e-15,  1.01999457e-16,  1.00000000e+00,\n",
       "        -1.61420869e-16,  1.94642340e-16, -5.74804676e-16,\n",
       "        -8.58548717e-16, -7.40009054e-17,  4.79943453e-16,\n",
       "         1.71568942e-16,  1.45100612e-15, -9.32472630e-16,\n",
       "         6.59385672e-16,  1.31049571e-16, -2.02669080e-16,\n",
       "         3.19352758e-17,  1.80071911e-16,  8.39488383e-16,\n",
       "        -3.05311332e-16],\n",
       "       [-1.10694449e-18, -1.20765794e-16, -3.14714459e-16,\n",
       "         6.57415108e-16, -5.70406958e-16, -2.84642734e-16,\n",
       "         5.40948738e-16, -5.35514528e-16, -5.35044125e-16,\n",
       "         1.00000000e+00,  2.29653698e-16,  2.03735729e-16,\n",
       "        -1.96975186e-16,  8.17725703e-16, -5.02814339e-16,\n",
       "         1.26265361e-19, -3.61243758e-16, -4.47549324e-16,\n",
       "         1.50755601e-17, -3.65888005e-16, -2.94387514e-17,\n",
       "         1.13635369e-15,  1.77819184e-16,  1.21624467e-16,\n",
       "        -1.02695630e-15],\n",
       "       [ 5.83437305e-18, -1.93383297e-16, -4.03680324e-16,\n",
       "         2.82966345e-16,  1.07325390e-15,  9.62973627e-16,\n",
       "         3.71689800e-16, -7.62032372e-16, -6.09984389e-16,\n",
       "        -5.76382730e-16,  1.00000000e+00,  4.19383700e-16,\n",
       "        -4.84489158e-16,  7.77382171e-16,  3.10218260e-16,\n",
       "         1.05977520e-15,  8.03917256e-16,  1.01271228e-16,\n",
       "        -8.22034519e-17, -5.31539409e-16,  6.74583523e-16,\n",
       "         1.99535873e-16,  5.05684403e-16,  1.52945465e-15,\n",
       "        -5.68989300e-16],\n",
       "       [-3.33317204e-18, -7.38600615e-16, -5.02137844e-16,\n",
       "         1.13045385e-15, -4.88522311e-16, -3.77801222e-16,\n",
       "        -3.42163263e-16,  4.36579345e-16, -2.55744155e-16,\n",
       "        -2.56482638e-16, -2.13641067e-16,  1.00000000e+00,\n",
       "         4.33384262e-16,  2.08500483e-16,  1.69270106e-17,\n",
       "         1.06145075e-15, -1.44001046e-16,  4.21600631e-16,\n",
       "         6.15328737e-16, -5.95454559e-16,  1.03974505e-15,\n",
       "         9.30840755e-16, -5.70995412e-16,  3.96381865e-16,\n",
       "         1.52655666e-15],\n",
       "       [-6.62150665e-19,  5.25903950e-16,  1.13764861e-15,\n",
       "        -6.80704278e-16, -7.96958497e-17,  1.98629822e-16,\n",
       "         3.60876093e-16, -3.93831095e-17,  1.14997392e-15,\n",
       "        -5.07744235e-17,  5.42112817e-16,  2.94425083e-16,\n",
       "         1.00000000e+00,  2.13120816e-16, -6.27450368e-16,\n",
       "         1.36705389e-16, -3.51937876e-16, -5.28356315e-18,\n",
       "         5.40687886e-17,  2.10271680e-17, -2.93921400e-16,\n",
       "         4.90379733e-16,  4.17686790e-16,  6.11392238e-16,\n",
       "         2.35922393e-16],\n",
       "       [ 2.49957607e-18,  5.39133807e-18, -3.09110802e-17,\n",
       "        -1.11904870e-16,  3.08127556e-16,  3.67266038e-16,\n",
       "         2.81783059e-16, -5.39644503e-16, -2.05368744e-16,\n",
       "        -1.38558655e-16, -8.92482776e-16, -6.98388200e-16,\n",
       "        -4.61300346e-16,  1.00000000e+00,  9.26037401e-17,\n",
       "         8.69299001e-16,  2.14926812e-16,  2.40149875e-16,\n",
       "         1.08191189e-15, -5.52424334e-16,  6.83367826e-16,\n",
       "        -4.71960032e-20,  1.05313063e-15,  4.26296956e-16,\n",
       "        -5.82867088e-16],\n",
       "       [-1.94993208e-18, -9.89249230e-16, -6.38306974e-16,\n",
       "         1.26498807e-15,  9.62685165e-16, -1.05893593e-15,\n",
       "        -3.46941435e-16, -4.45171056e-16,  4.18602600e-17,\n",
       "        -1.66096862e-16, -3.85938425e-16,  5.09859976e-16,\n",
       "        -2.19554067e-17, -9.96900021e-17,  1.00000000e+00,\n",
       "         3.29221071e-16,  3.87912649e-16, -8.77779124e-17,\n",
       "        -1.04821066e-16, -2.23649046e-16,  2.56774067e-16,\n",
       "        -6.46026792e-16, -8.33049850e-16, -1.09475173e-15,\n",
       "         1.48492330e-15],\n",
       "       [-2.80261425e-18,  3.98934864e-16,  8.44794314e-16,\n",
       "        -1.04927057e-15,  8.46323928e-16,  1.93944145e-16,\n",
       "         2.40483532e-16,  4.81656406e-16,  1.86417522e-16,\n",
       "        -6.88996922e-16, -7.98147326e-16, -4.12873858e-16,\n",
       "        -9.89473294e-17, -1.99604497e-16, -4.95584923e-16,\n",
       "         1.00000000e+00,  8.01030891e-16,  3.74226131e-16,\n",
       "         9.55656301e-16, -4.54358863e-16, -5.48606056e-17,\n",
       "        -5.05733603e-16,  3.91284456e-16,  4.84330738e-17,\n",
       "         8.60422844e-16],\n",
       "       [ 3.02118290e-18,  2.15697600e-16,  2.60612512e-16,\n",
       "         3.67951382e-17, -3.67770069e-16, -1.03041748e-15,\n",
       "        -5.45970932e-17,  1.96264684e-16, -1.48704093e-15,\n",
       "         7.87141181e-16, -6.98804242e-16,  2.08047154e-17,\n",
       "         1.41525103e-16, -4.36225519e-16,  1.49551853e-16,\n",
       "        -7.50695333e-16,  1.00000000e+00,  2.13049007e-17,\n",
       "        -8.14173237e-16, -7.26078390e-16, -3.96132386e-16,\n",
       "         1.68087511e-17, -5.66203146e-16, -7.82354362e-16,\n",
       "         1.11022302e-16],\n",
       "       [-7.09907477e-19,  1.21038224e-16,  8.21044412e-17,\n",
       "        -1.93330427e-16, -8.61730368e-18, -3.01747344e-16,\n",
       "        -8.01205569e-16,  8.08566908e-16,  7.45355311e-16,\n",
       "         3.15305354e-16, -2.07858673e-18,  6.97010057e-16,\n",
       "         8.33793273e-17, -5.05006244e-16, -6.99478766e-16,\n",
       "        -4.73662328e-16, -3.96160220e-16,  1.00000000e+00,\n",
       "         6.29448317e-16,  4.83735408e-16,  4.91480539e-16,\n",
       "         6.94214340e-16, -7.69518365e-16,  3.14433828e-16,\n",
       "        -5.20417043e-16],\n",
       "       [-1.28320954e-18,  6.02532643e-16,  1.45362110e-16,\n",
       "        -1.13778245e-15, -8.60098576e-16,  3.87595124e-16,\n",
       "        -2.91028774e-16,  2.11401428e-16, -8.44000191e-16,\n",
       "         4.87612479e-16, -6.16909828e-16, -7.39628265e-17,\n",
       "         3.93357845e-16, -1.26856578e-16, -2.33554504e-16,\n",
       "         4.10247421e-17,  8.13172376e-16, -8.75797101e-16,\n",
       "         1.00000000e+00, -3.10586749e-16,  1.76024819e-16,\n",
       "         1.49704083e-15,  1.11824070e-16, -2.01337787e-16,\n",
       "        -8.60422844e-16],\n",
       "       [-4.73095386e-18, -3.34051072e-16, -2.43916597e-16,\n",
       "         6.53476393e-16, -6.23877440e-16,  1.87120120e-16,\n",
       "         9.06479331e-17, -7.40778014e-16,  3.57674493e-16,\n",
       "        -4.58978921e-16,  1.28468540e-15,  4.58532920e-16,\n",
       "         2.00042744e-16, -5.43253374e-16,  4.83739759e-16,\n",
       "         2.42568851e-16,  5.67290828e-16, -2.53361847e-16,\n",
       "        -3.40455246e-16,  1.00000000e+00, -4.65227175e-16,\n",
       "        -3.09721534e-16, -5.33368275e-16,  1.18584940e-15,\n",
       "        -6.93889390e-18],\n",
       "       [-3.05039884e-17,  1.23018787e-16,  1.25202179e-15,\n",
       "        -1.04445653e-15,  2.29388037e-16, -4.23843070e-16,\n",
       "        -3.55510010e-16,  1.46190464e-16,  2.42943329e-16,\n",
       "         8.34481993e-17, -2.85785704e-16, -1.13867959e-15,\n",
       "        -6.51897171e-16, -2.02128955e-16, -1.39868665e-15,\n",
       "         3.40503089e-16,  7.16081195e-16,  7.52475946e-16,\n",
       "        -1.10557732e-16, -1.04806668e-16,  1.00000000e+00,\n",
       "         3.74728207e-16,  5.13154761e-16, -7.05462030e-16,\n",
       "         2.35922393e-16],\n",
       "       [-5.16456588e-18,  9.13694353e-16,  1.54837956e-15,\n",
       "        -1.61610922e-15,  2.95467929e-16,  5.56057737e-16,\n",
       "         4.48248794e-16, -1.10134907e-15, -6.95961210e-17,\n",
       "        -5.73815187e-16, -1.47754895e-16, -8.47492320e-16,\n",
       "        -6.44940262e-16,  6.84370612e-16,  1.21544912e-16,\n",
       "         6.06939226e-16, -5.34538494e-17, -6.90133083e-16,\n",
       "        -7.29219155e-16, -6.49082556e-16,  2.89387859e-16,\n",
       "         1.00000000e+00, -9.57014892e-16,  9.64654317e-16,\n",
       "         9.36750677e-16],\n",
       "       [-8.58675176e-18, -1.96856008e-16, -6.17574274e-16,\n",
       "         6.18211781e-16,  8.75521297e-16,  3.75763307e-16,\n",
       "        -7.22861116e-17, -1.52579184e-17, -9.38053600e-16,\n",
       "        -2.83822602e-16, -3.61365573e-16,  2.91348576e-16,\n",
       "        -8.57288391e-16, -9.25895754e-16,  7.31440924e-16,\n",
       "        -3.23767658e-16,  8.97822196e-16,  5.07656740e-16,\n",
       "         5.54887648e-16,  6.18946777e-16, -7.08276338e-16,\n",
       "         7.37213955e-16,  1.00000000e+00, -3.08133776e-16,\n",
       "        -4.44089210e-16],\n",
       "       [ 1.14149244e-17,  2.01119105e-19, -8.71999131e-16,\n",
       "         2.79149267e-16, -1.45994099e-15,  1.34529025e-15,\n",
       "         1.34108451e-16, -4.66679630e-16, -1.00045108e-15,\n",
       "        -2.88270684e-16, -1.09218515e-15,  7.18850781e-16,\n",
       "        -9.78943062e-16, -4.29931111e-16,  6.10864091e-16,\n",
       "        -3.60451518e-16,  9.54502686e-16,  3.22980899e-16,\n",
       "         4.41349578e-16, -1.21274237e-15,  9.78100698e-16,\n",
       "        -5.17308351e-16,  3.17095532e-16,  1.00000000e+00,\n",
       "        -3.05311332e-16],\n",
       "       [-1.36499652e-17,  4.21487517e-16,  7.79573401e-16,\n",
       "        -5.09474186e-16,  6.64451113e-16, -3.07536455e-16,\n",
       "        -3.28167282e-16,  1.35098873e-15,  1.16313491e-15,\n",
       "         1.24028044e-15,  5.37462860e-16, -1.15831108e-15,\n",
       "         7.35513184e-16,  3.41619796e-16, -1.62393116e-15,\n",
       "        -9.08775422e-16, -3.33403236e-16,  4.82918039e-16,\n",
       "         9.91846721e-16, -2.90509550e-16, -3.45362480e-16,\n",
       "        -3.24661011e-16, -4.70894982e-16,  1.92872374e-16,\n",
       "         1.00000000e+00]])"
      ]
     },
     "execution_count": 38,
     "metadata": {},
     "output_type": "execute_result"
    }
   ],
   "source": [
    "sp.linalg.pinv(np.cov(data_array, rowvar=False))"
   ]
  },
  {
   "cell_type": "code",
   "execution_count": 39,
   "id": "edc736d6",
   "metadata": {},
   "outputs": [],
   "source": [
    "inv_cormat = sp.linalg.pinv(mcd_model.covariance_)"
   ]
  },
  {
   "cell_type": "code",
   "execution_count": 40,
   "id": "ff97f86d",
   "metadata": {},
   "outputs": [],
   "source": [
    "import scipy as sp\n",
    "inv_cormat = sp.linalg.pinv(mcd_model.covariance_)\n",
    "mu_vect = mcd_model.location_"
   ]
  },
  {
   "cell_type": "code",
   "execution_count": 41,
   "id": "217999d9",
   "metadata": {},
   "outputs": [],
   "source": [
    "mahal_dist = []\n",
    "for i in range(data_array.shape[0]):\n",
    "    x_minus_mu = data_array[i,:] - mu_vect\n",
    "    left_term = np.dot(x_minus_mu, inv_cormat)\n",
    "    mahal = np.dot(left_term, x_minus_mu.T)\n",
    "    mahal = np.sqrt(mahal)\n",
    "    mahal_dist.append(mahal)"
   ]
  },
  {
   "cell_type": "code",
   "execution_count": 42,
   "id": "46dd1b16",
   "metadata": {},
   "outputs": [
    {
     "name": "stderr",
     "output_type": "stream",
     "text": [
      "C:\\WINDOWS\\system32\\myenv\\lib\\site-packages\\numpy\\core\\fromnumeric.py:3430: FutureWarning: In a future version, DataFrame.mean(axis=None) will return a scalar mean over the entire DataFrame. To retain the old behavior, use 'frame.mean(axis=0)' or just 'frame.mean()'\n",
      "  return mean(axis=axis, dtype=dtype, out=out, **kwargs)\n"
     ]
    },
    {
     "data": {
      "text/plain": [
       "(duration,)          2.549477e-17\n",
       "(src_bytes,)        -4.512349e-19\n",
       "(dst_bytes,)         7.614590e-19\n",
       "(land,)             -4.794371e-18\n",
       "(wrong_fragment,)    4.230328e-19\n",
       "                         ...     \n",
       "service_uucp         6.191803e-03\n",
       "service_uucp_path    5.469426e-03\n",
       "service_vmnet        4.897875e-03\n",
       "service_whois        5.501179e-03\n",
       "p-value              1.119804e-01\n",
       "Length: 122, dtype: float64"
      ]
     },
     "execution_count": 42,
     "metadata": {},
     "output_type": "execute_result"
    },
    {
     "name": "stdout",
     "output_type": "stream",
     "text": [
      "56864\n"
     ]
    }
   ],
   "source": [
    "np.mean(one_hot_data_maha)\n",
    "\n",
    "from scipy.stats import chi2\n",
    "one_hot_data_maha['p-value_mcd'] = 1 - chi2.cdf(mahal_dist, df = 121) #pdf(x, degreeOfFreedom = Number of Variables)\n",
    "\n",
    "#Calculate number of p-value less than 0.01\n",
    "print(np.count_nonzero(one_hot_data_maha['p-value_mcd'] < 0.01))"
   ]
  },
  {
   "cell_type": "code",
   "execution_count": 43,
   "id": "63fa0565",
   "metadata": {},
   "outputs": [],
   "source": [
    "pvalue_mcd = one_hot_data_maha['p-value_mcd']\n",
    "bi_pvalue_mcd = pvalue_mcd\n",
    "\n",
    "bi_pvalue_mcd = np.where(pvalue_mcd < 0.01, 1, bi_pvalue_mcd)\n",
    "bi_pvalue_mcd = np.where(pvalue_mcd >= 0.01, 0, bi_pvalue_mcd)\n",
    "\n"
   ]
  },
  {
   "cell_type": "code",
   "execution_count": 44,
   "id": "7fb4e477",
   "metadata": {},
   "outputs": [
    {
     "name": "stdout",
     "output_type": "stream",
     "text": [
      "Training accuracy: 0.5601\n",
      "[[35629 31714]\n",
      " [33480 25150]]\n"
     ]
    }
   ],
   "source": [
    "from sklearn.metrics import accuracy_score\n",
    "\n",
    "train_acc_maha_mcd = accuracy_score(kdd_train_y['class_binary'], bi_pvalue_mcd)\n",
    "print(\"Training accuracy: {:.4f}\".format(train_acc_maha))\n",
    "cm_maha_mcd = confusion_matrix (kdd_train_y[\"class_binary\"], bi_pvalue_mcd)\n",
    "print(cm_maha_mcd)"
   ]
  },
  {
   "cell_type": "code",
   "execution_count": 45,
   "id": "f5aebe3a",
   "metadata": {},
   "outputs": [
    {
     "data": {
      "text/plain": [
       "Text(0.5, 1.0, 'Seaborn Confusion Matrix with labels\\n\\n')"
      ]
     },
     "execution_count": 45,
     "metadata": {},
     "output_type": "execute_result"
    },
    {
     "data": {
      "text/plain": [
       "Text(0.5, 15.0, '\\nPredicted Values')"
      ]
     },
     "execution_count": 45,
     "metadata": {},
     "output_type": "execute_result"
    },
    {
     "data": {
      "text/plain": [
       "Text(33.0, 0.5, 'Actual Values ')"
      ]
     },
     "execution_count": 45,
     "metadata": {},
     "output_type": "execute_result"
    },
    {
     "data": {
      "text/plain": [
       "[Text(0.5, 0, 'False'), Text(1.5, 0, 'True')]"
      ]
     },
     "execution_count": 45,
     "metadata": {},
     "output_type": "execute_result"
    },
    {
     "data": {
      "text/plain": [
       "[Text(0, 0.5, 'False'), Text(0, 1.5, 'True')]"
      ]
     },
     "execution_count": 45,
     "metadata": {},
     "output_type": "execute_result"
    },
    {
     "data": {
      "image/png": "[encoded data removed]",
      "text/plain": [
       "<Figure size 432x288 with 2 Axes>"
      ]
     },
     "metadata": {
      "needs_background": "light"
     },
     "output_type": "display_data"
    },
    {
     "name": "stdout",
     "output_type": "stream",
     "text": [
      "0.4422833427124367\n",
      "0.4289612826198192\n"
     ]
    }
   ],
   "source": [
    "ax = sns.heatmap(cm_maha_mcd, annot=True, cmap='Blues')\n",
    "\n",
    "ax.set_title('Seaborn Confusion Matrix with labels\\n\\n');\n",
    "ax.set_xlabel('\\nPredicted Values')\n",
    "ax.set_ylabel('Actual Values ');\n",
    "\n",
    "## Ticket labels - List must be in alphabetical order\n",
    "ax.xaxis.set_ticklabels(['False','True'])\n",
    "ax.yaxis.set_ticklabels(['False','True'])\n",
    "\n",
    "## Display the visualization of the Confusion Matrix.\n",
    "plt.show()\n",
    "\n",
    "## FP,FN,TP,TN\n",
    "TN_maha_mcd = cm_maha_mcd[0][0]\n",
    "FN_maha_mcd = cm_maha_mcd[1][0]\n",
    "FP_maha_mcd = cm_maha_mcd[0][1]\n",
    "TP_maha_mcd = cm_maha_mcd[1][1]\n",
    "\n",
    "##Precision and Recall\n",
    "Precision_maha_mcd = TP_maha_mcd/(TP_maha_mcd+FP_maha_mcd)\n",
    "Recall_maha_mcd = TP_maha_mcd/(TP_maha_mcd+FN_maha_mcd)\n",
    "\n",
    "print (Precision_maha_mcd)\n",
    "print (Recall_maha_mcd)"
   ]
  },
  {
   "cell_type": "markdown",
   "id": "97b70aa1",
   "metadata": {},
   "source": [
    "### After Apply MCD, the  accuracy slightly increase. Precision is 69.15% and Recall is 61.42%"
   ]
  },
  {
   "cell_type": "markdown",
   "id": "ee0f75a8",
   "metadata": {},
   "source": [
    "# Isolation Forest"
   ]
  },
  {
   "cell_type": "code",
   "execution_count": 49,
   "id": "c59de06e",
   "metadata": {},
   "outputs": [
    {
     "data": {
      "text/plain": [
       "array([0.        , 0.03333333, 0.06666667, 0.1       , 0.13333333,\n",
       "       0.16666667, 0.2       , 0.23333333, 0.26666667, 0.3       ])"
      ]
     },
     "execution_count": 49,
     "metadata": {},
     "output_type": "execute_result"
    }
   ],
   "source": [
    "#Isolation Forest\n",
    "#from scipy.stats import uniform as sp_randFloat\n",
    "# from scipy.stats import randint as sp_randInt\n",
    "\n",
    "from sklearn.ensemble import IsolationForest\n",
    "model_if = IsolationForest(random_state = 99)\n",
    "#parameters = {'n_estimators' : sp_randInt(100, 1000),\n",
    "#            'contamination' : sp_randFloat(0, 1),\n",
    "#             }\n",
    "parameters = {'n_estimators' : [1000,2000,3000,4000,5000,6000],\n",
    "            'contamination' : np.linspace(0, 0.2, num = 10),\n",
    "              #'bootstrap': [True, False]\n",
    "             }\n",
    "np.linspace(0, 0.3, num = 10)"
   ]
  },
  {
   "cell_type": "code",
   "execution_count": 50,
   "id": "b059ff9e",
   "metadata": {},
   "outputs": [
    {
     "data": {
      "text/plain": [
       "(125973, 25)"
      ]
     },
     "execution_count": 50,
     "metadata": {},
     "output_type": "execute_result"
    }
   ],
   "source": [
    "# def scorer_f(estimator, X):   #Scorer function for isolation forest\n",
    "#       return np.mean(estimator.score_samples(one_hot_data_if))\n",
    "from sklearn.metrics import make_scorer, f1_score\n",
    "#Set normal to 0 and abnormal to 1 (binary)\n",
    "\n",
    "one_hot_data_if = data_pca\n",
    "one_hot_data_if.shape"
   ]
  },
  {
   "cell_type": "code",
   "execution_count": 51,
   "id": "500a6aac",
   "metadata": {},
   "outputs": [],
   "source": [
    "# randomly sample\n",
    "idx_rand = np.random.permutation(len(kdd_train_x))\n",
    "num_sample = int(0.01*len(kdd_train_x))\n",
    "one_hot_data_if_sample = one_hot_data_if.iloc[idx_rand[:num_sample]]\n",
    "kdd_train_y_sample = kdd_train_y.iloc[idx_rand[:num_sample]]"
   ]
  },
  {
   "cell_type": "code",
   "execution_count": 52,
   "id": "c054bfe8",
   "metadata": {},
   "outputs": [
    {
     "name": "stderr",
     "output_type": "stream",
     "text": [
      "C:\\WINDOWS\\system32\\myenv\\lib\\site-packages\\sklearn\\model_selection\\_validation.py:378: FitFailedWarning: \n",
      "3 fits failed out of a total of 30.\n",
      "The score on these train-test partitions for these parameters will be set to nan.\n",
      "If these failures are not expected, you can try to debug them by setting error_score='raise'.\n",
      "\n",
      "Below are more details about the failures:\n",
      "--------------------------------------------------------------------------------\n",
      "3 fits failed with the following error:\n",
      "Traceback (most recent call last):\n",
      "  File \"C:\\WINDOWS\\system32\\myenv\\lib\\site-packages\\sklearn\\model_selection\\_validation.py\", line 686, in _fit_and_score\n",
      "    estimator.fit(X_train, y_train, **fit_params)\n",
      "  File \"C:\\WINDOWS\\system32\\myenv\\lib\\site-packages\\sklearn\\ensemble\\_iforest.py\", line 271, in fit\n",
      "    raise ValueError(\n",
      "ValueError: contamination must be in (0, 0.5], got: 0.000000\n",
      "\n",
      "  warnings.warn(some_fits_failed_message, FitFailedWarning)\n",
      "C:\\WINDOWS\\system32\\myenv\\lib\\site-packages\\sklearn\\model_selection\\_search.py:953: UserWarning: One or more of the test scores are non-finite: [0.4082623  0.39793348 0.35423912 0.40905595 0.4511346         nan\n",
      " 0.39793348 0.35344357 0.39395765 0.41858545]\n",
      "  warnings.warn(\n",
      "C:\\WINDOWS\\system32\\myenv\\lib\\site-packages\\sklearn\\model_selection\\_search.py:953: UserWarning: One or more of the train scores are non-finite: [0.40905367 0.39753675 0.35464413 0.4098478  0.45114933        nan\n",
      " 0.39793405 0.35385001 0.39157869 0.419776  ]\n",
      "  warnings.warn(\n",
      "C:\\WINDOWS\\system32\\myenv\\lib\\site-packages\\sklearn\\base.py:450: UserWarning: X does not have valid feature names, but IsolationForest was fitted with feature names\n",
      "  warnings.warn(\n"
     ]
    }
   ],
   "source": [
    "\n",
    "f1sc = make_scorer(f1_score, average = 'micro')\n",
    "randm_src = RandomizedSearchCV(estimator=model_if, param_distributions = parameters, cv = 3, scoring = f1sc, random_state = 0, return_train_score = True, n_jobs = -1)\n",
    "model = randm_src.fit(one_hot_data_if_sample, kdd_train_y_sample[\"class_binary\"])\n"
   ]
  },
  {
   "cell_type": "code",
   "execution_count": 55,
   "id": "fac5800b",
   "metadata": {},
   "outputs": [
    {
     "name": "stdout",
     "output_type": "stream",
     "text": [
      " Results from Random Search \n",
      "\n",
      " The best estimator across ALL searched params:\n",
      " IsolationForest(contamination=0.022222222222222223, n_estimators=6000,\n",
      "                random_state=99)\n",
      "\n",
      " The best score across ALL searched params:\n",
      " 0.4511345986286321\n",
      "\n",
      " The best parameters across ALL searched params:\n",
      " {'n_estimators': 6000, 'contamination': 0.022222222222222223}\n"
     ]
    }
   ],
   "source": [
    "print(\" Results from Random Search \" )\n",
    "print(\"\\n The best estimator across ALL searched params:\\n\", randm_src.best_estimator_)\n",
    "print(\"\\n The best score across ALL searched params:\\n\", randm_src.best_score_)\n",
    "print(\"\\n The best parameters across ALL searched params:\\n\", randm_src.best_params_)"
   ]
  },
  {
   "cell_type": "code",
   "execution_count": 59,
   "id": "80f9d67a",
   "metadata": {},
   "outputs": [
    {
     "name": "stdout",
     "output_type": "stream",
     "text": [
      "[1 1 0 1 1 0 1 0 0 0 0 1 1 1 0 1 1 1 0 1]\n"
     ]
    },
    {
     "name": "stderr",
     "output_type": "stream",
     "text": [
      "C:\\WINDOWS\\system32\\myenv\\lib\\site-packages\\sklearn\\base.py:450: UserWarning: X does not have valid feature names, but IsolationForest was fitted with feature names\n",
      "  warnings.warn(\n"
     ]
    },
    {
     "data": {
      "text/html": [
       "<style>#sk-container-id-3 {color: black;background-color: white;}#sk-container-id-3 pre{padding: 0;}#sk-container-id-3 div.sk-toggleable {background-color: white;}#sk-container-id-3 label.sk-toggleable__label {cursor: pointer;display: block;width: 100%;margin-bottom: 0;padding: 0.3em;box-sizing: border-box;text-align: center;}#sk-container-id-3 label.sk-toggleable__label-arrow:before {content: \"▸\";float: left;margin-right: 0.25em;color: #696969;}#sk-container-id-3 label.sk-toggleable__label-arrow:hover:before {color: black;}#sk-container-id-3 div.sk-estimator:hover label.sk-toggleable__label-arrow:before {color: black;}#sk-container-id-3 div.sk-toggleable__content {max-height: 0;max-width: 0;overflow: hidden;text-align: left;background-color: #f0f8ff;}#sk-container-id-3 div.sk-toggleable__content pre {margin: 0.2em;color: black;border-radius: 0.25em;background-color: #f0f8ff;}#sk-container-id-3 input.sk-toggleable__control:checked~div.sk-toggleable__content {max-height: 200px;max-width: 100%;overflow: auto;}#sk-container-id-3 input.sk-toggleable__control:checked~label.sk-toggleable__label-arrow:before {content: \"▾\";}#sk-container-id-3 div.sk-estimator input.sk-toggleable__control:checked~label.sk-toggleable__label {background-color: #d4ebff;}#sk-container-id-3 div.sk-label input.sk-toggleable__control:checked~label.sk-toggleable__label {background-color: #d4ebff;}#sk-container-id-3 input.sk-hidden--visually {border: 0;clip: rect(1px 1px 1px 1px);clip: rect(1px, 1px, 1px, 1px);height: 1px;margin: -1px;overflow: hidden;padding: 0;position: absolute;width: 1px;}#sk-container-id-3 div.sk-estimator {font-family: monospace;background-color: #f0f8ff;border: 1px dotted black;border-radius: 0.25em;box-sizing: border-box;margin-bottom: 0.5em;}#sk-container-id-3 div.sk-estimator:hover {background-color: #d4ebff;}#sk-container-id-3 div.sk-parallel-item::after {content: \"\";width: 100%;border-bottom: 1px solid gray;flex-grow: 1;}#sk-container-id-3 div.sk-label:hover label.sk-toggleable__label {background-color: #d4ebff;}#sk-container-id-3 div.sk-serial::before {content: \"\";position: absolute;border-left: 1px solid gray;box-sizing: border-box;top: 0;bottom: 0;left: 50%;z-index: 0;}#sk-container-id-3 div.sk-serial {display: flex;flex-direction: column;align-items: center;background-color: white;padding-right: 0.2em;padding-left: 0.2em;position: relative;}#sk-container-id-3 div.sk-item {position: relative;z-index: 1;}#sk-container-id-3 div.sk-parallel {display: flex;align-items: stretch;justify-content: center;background-color: white;position: relative;}#sk-container-id-3 div.sk-item::before, #sk-container-id-3 div.sk-parallel-item::before {content: \"\";position: absolute;border-left: 1px solid gray;box-sizing: border-box;top: 0;bottom: 0;left: 50%;z-index: -1;}#sk-container-id-3 div.sk-parallel-item {display: flex;flex-direction: column;z-index: 1;position: relative;background-color: white;}#sk-container-id-3 div.sk-parallel-item:first-child::after {align-self: flex-end;width: 50%;}#sk-container-id-3 div.sk-parallel-item:last-child::after {align-self: flex-start;width: 50%;}#sk-container-id-3 div.sk-parallel-item:only-child::after {width: 0;}#sk-container-id-3 div.sk-dashed-wrapped {border: 1px dashed gray;margin: 0 0.4em 0.5em 0.4em;box-sizing: border-box;padding-bottom: 0.4em;background-color: white;}#sk-container-id-3 div.sk-label label {font-family: monospace;font-weight: bold;display: inline-block;line-height: 1.2em;}#sk-container-id-3 div.sk-label-container {text-align: center;}#sk-container-id-3 div.sk-container {/* jupyter's `normalize.less` sets `[hidden] { display: none; }` but bootstrap.min.css set `[hidden] { display: none !important; }` so we also need the `!important` here to be able to override the default hidden behavior on the sphinx rendered scikit-learn.org. See: https://github.com/scikit-learn/scikit-learn/issues/21755 */display: inline-block !important;position: relative;}#sk-container-id-3 div.sk-text-repr-fallback {display: none;}</style><div id=\"sk-container-id-3\" class=\"sk-top-container\"><div class=\"sk-text-repr-fallback\"><pre>IsolationForest(contamination=0.022222222222222223, n_estimators=6000)</pre><b>In a Jupyter environment, please rerun this cell to show the HTML representation or trust the notebook. <br />On GitHub, the HTML representation is unable to render, please try loading this page with nbviewer.org.</b></div><div class=\"sk-container\" hidden><div class=\"sk-item\"><div class=\"sk-estimator sk-toggleable\"><input class=\"sk-toggleable__control sk-hidden--visually\" id=\"sk-estimator-id-3\" type=\"checkbox\" checked><label for=\"sk-estimator-id-3\" class=\"sk-toggleable__label sk-toggleable__label-arrow\">IsolationForest</label><div class=\"sk-toggleable__content\"><pre>IsolationForest(contamination=0.022222222222222223, n_estimators=6000)</pre></div></div></div></div></div>"
      ],
      "text/plain": [
       "IsolationForest(contamination=0.022222222222222223, n_estimators=6000)"
      ]
     },
     "execution_count": 59,
     "metadata": {},
     "output_type": "execute_result"
    },
    {
     "data": {
      "text/plain": [
       "array([1, 1, 1, ..., 1, 1, 1])"
      ]
     },
     "execution_count": 59,
     "metadata": {},
     "output_type": "execute_result"
    }
   ],
   "source": [
    "from sklearn.datasets import make_classification\n",
    "XX_train, yy_train = make_classification(n_samples = 500, n_classes=2)\n",
    "print(yy_train[:20])\n",
    "\n",
    "rng = np.random.RandomState(42)\n",
    "#Load the saved isolation Forest model\n",
    "##model_if = joblib.load('IF.sav')\n",
    "model_if = IsolationForest(n_estimators = 6000, contamination = 0.022222222222222223, max_features=1.0)\n",
    "model_if.fit(one_hot_data_if)\n",
    "y_pred_if = model_if.predict(one_hot_data_if)\n",
    "y_pred_if"
   ]
  },
  {
   "cell_type": "code",
   "execution_count": 60,
   "id": "9fcef59f",
   "metadata": {},
   "outputs": [
    {
     "name": "stdout",
     "output_type": "stream",
     "text": [
      "Training accuracy: 0.4571\n"
     ]
    }
   ],
   "source": [
    "#Evaluation on training result\n",
    "y_pred_if = np.where(y_pred_if == -1, 0, y_pred_if)\n",
    "\n",
    "from sklearn.metrics import accuracy_score\n",
    "train_acc_if = accuracy_score(kdd_train_y['class_binary'], y_pred_if)\n",
    "print(\"Training accuracy: {:.4f}\".format(train_acc_if))"
   ]
  },
  {
   "cell_type": "code",
   "execution_count": 61,
   "id": "de9547a7",
   "metadata": {},
   "outputs": [
    {
     "name": "stdout",
     "output_type": "stream",
     "text": [
      "[[  875 66468]\n",
      " [ 1925 56705]]\n"
     ]
    },
    {
     "data": {
      "text/plain": [
       "Text(0.5, 1.0, 'Seaborn Confusion Matrix with labels\\n\\n')"
      ]
     },
     "execution_count": 61,
     "metadata": {},
     "output_type": "execute_result"
    },
    {
     "data": {
      "text/plain": [
       "Text(0.5, 15.0, '\\nPredicted Values')"
      ]
     },
     "execution_count": 61,
     "metadata": {},
     "output_type": "execute_result"
    },
    {
     "data": {
      "text/plain": [
       "Text(33.0, 0.5, 'Actual Values ')"
      ]
     },
     "execution_count": 61,
     "metadata": {},
     "output_type": "execute_result"
    },
    {
     "data": {
      "text/plain": [
       "[Text(0.5, 0, 'False'), Text(1.5, 0, 'True')]"
      ]
     },
     "execution_count": 61,
     "metadata": {},
     "output_type": "execute_result"
    },
    {
     "data": {
      "text/plain": [
       "[Text(0, 0.5, 'False'), Text(0, 1.5, 'True')]"
      ]
     },
     "execution_count": 61,
     "metadata": {},
     "output_type": "execute_result"
    },
    {
     "data": {
      "image/png": "[encoded data removed]",
      "text/plain": [
       "<Figure size 432x288 with 2 Axes>"
      ]
     },
     "metadata": {
      "needs_background": "light"
     },
     "output_type": "display_data"
    },
    {
     "name": "stdout",
     "output_type": "stream",
     "text": [
      "0.4603687496448085\n",
      "0.9671669793621013\n"
     ]
    }
   ],
   "source": [
    "cm_if = confusion_matrix (kdd_train_y[\"class_binary\"], y_pred_if)\n",
    "print(cm_if)\n",
    "ax = sns.heatmap(cm_if, annot=True, cmap='Blues')\n",
    "\n",
    "ax.set_title('Seaborn Confusion Matrix with labels\\n\\n');\n",
    "ax.set_xlabel('\\nPredicted Values')\n",
    "ax.set_ylabel('Actual Values ');\n",
    "\n",
    "## Ticket labels - List must be in alphabetical order\n",
    "ax.xaxis.set_ticklabels(['False','True'])\n",
    "ax.yaxis.set_ticklabels(['False','True'])\n",
    "\n",
    "## Display the visualization of the Confusion Matrix.\n",
    "plt.show()\n",
    "\n",
    "## FP,FN,TP,TN\n",
    "TN_if = cm_if[0][0]\n",
    "FN_if = cm_if[1][0]\n",
    "FP_if = cm_if[0][1]\n",
    "TP_if = cm_if[1][1]\n",
    "\n",
    "##Precision and Recall\n",
    "Precision_if = TP_if/(TP_if+FP_if)\n",
    "Recall_if = TP_if/(TP_if+FN_if)\n",
    "\n",
    "print (Precision_if)\n",
    "print (Recall_if)"
   ]
  },
  {
   "cell_type": "markdown",
   "id": "dafb2f6e",
   "metadata": {},
   "source": [
    "### The result slightly improve from before without pca.\n",
    "### Accuracy = 0.4259 --> 0.4485"
   ]
  },
  {
   "cell_type": "markdown",
   "id": "e49dde98",
   "metadata": {},
   "source": [
    "# OCSVM"
   ]
  },
  {
   "cell_type": "code",
   "execution_count": 62,
   "id": "12635cc0",
   "metadata": {},
   "outputs": [],
   "source": [
    "one_hot_data_svm = data_pca\n",
    "\n",
    "#10% of data, 12597 out of 125973 is used for training.\n",
    "one_hot_data_svm_ten_percent = one_hot_data_svm[0:12597]\n",
    "kdd_train_y_ten_percent = kdd_train_y[0:12597]\n",
    "\n",
    "from scipy.stats import uniform as sp_randFloat\n",
    "    #Hyperparameter Tuning\n",
    "from sklearn.svm import OneClassSVM\n",
    "parameters_svm = {\n",
    "             \"nu\" : sp_randFloat()\n",
    "             }\n",
    "model_svm = OneClassSVM()"
   ]
  },
  {
   "cell_type": "code",
   "execution_count": 42,
   "id": "d978f4c4",
   "metadata": {},
   "outputs": [],
   "source": [
    "def scorer_svm(estimator, X):   #Scorer function for OCSVM\n",
    "      return np.mean(estimator.score_samples(one_hot_data_svm_ten_percent))\n",
    "    \n",
    "#Load the saved random_src result\n",
    "randm_src_svm = joblib.load('OCSVMSearch.sav')"
   ]
  },
  {
   "cell_type": "code",
   "execution_count": 43,
   "id": "fc3ddf5e",
   "metadata": {},
   "outputs": [
    {
     "name": "stdout",
     "output_type": "stream",
     "text": [
      " Results from Random Search \n",
      "\n",
      " The best estimator across ALL searched params:\n",
      " OneClassSVM(nu=0.5488135039273248)\n",
      "\n",
      " The best score across ALL searched params:\n",
      " nan\n",
      "\n",
      " The best parameters across ALL searched params:\n",
      " {'nu': 0.5488135039273248}\n"
     ]
    }
   ],
   "source": [
    "print(\" Results from Random Search \" )\n",
    "print(\"\\n The best estimator across ALL searched params:\\n\", randm_src_svm.best_estimator_)\n",
    "print(\"\\n The best score across ALL searched params:\\n\", randm_src_svm.best_score_)\n",
    "print(\"\\n The best parameters across ALL searched params:\\n\", randm_src_svm.best_params_)"
   ]
  },
  {
   "cell_type": "code",
   "execution_count": 64,
   "id": "9e009f29",
   "metadata": {},
   "outputs": [
    {
     "data": {
      "text/html": [
       "<style>#sk-container-id-5 {color: black;background-color: white;}#sk-container-id-5 pre{padding: 0;}#sk-container-id-5 div.sk-toggleable {background-color: white;}#sk-container-id-5 label.sk-toggleable__label {cursor: pointer;display: block;width: 100%;margin-bottom: 0;padding: 0.3em;box-sizing: border-box;text-align: center;}#sk-container-id-5 label.sk-toggleable__label-arrow:before {content: \"▸\";float: left;margin-right: 0.25em;color: #696969;}#sk-container-id-5 label.sk-toggleable__label-arrow:hover:before {color: black;}#sk-container-id-5 div.sk-estimator:hover label.sk-toggleable__label-arrow:before {color: black;}#sk-container-id-5 div.sk-toggleable__content {max-height: 0;max-width: 0;overflow: hidden;text-align: left;background-color: #f0f8ff;}#sk-container-id-5 div.sk-toggleable__content pre {margin: 0.2em;color: black;border-radius: 0.25em;background-color: #f0f8ff;}#sk-container-id-5 input.sk-toggleable__control:checked~div.sk-toggleable__content {max-height: 200px;max-width: 100%;overflow: auto;}#sk-container-id-5 input.sk-toggleable__control:checked~label.sk-toggleable__label-arrow:before {content: \"▾\";}#sk-container-id-5 div.sk-estimator input.sk-toggleable__control:checked~label.sk-toggleable__label {background-color: #d4ebff;}#sk-container-id-5 div.sk-label input.sk-toggleable__control:checked~label.sk-toggleable__label {background-color: #d4ebff;}#sk-container-id-5 input.sk-hidden--visually {border: 0;clip: rect(1px 1px 1px 1px);clip: rect(1px, 1px, 1px, 1px);height: 1px;margin: -1px;overflow: hidden;padding: 0;position: absolute;width: 1px;}#sk-container-id-5 div.sk-estimator {font-family: monospace;background-color: #f0f8ff;border: 1px dotted black;border-radius: 0.25em;box-sizing: border-box;margin-bottom: 0.5em;}#sk-container-id-5 div.sk-estimator:hover {background-color: #d4ebff;}#sk-container-id-5 div.sk-parallel-item::after {content: \"\";width: 100%;border-bottom: 1px solid gray;flex-grow: 1;}#sk-container-id-5 div.sk-label:hover label.sk-toggleable__label {background-color: #d4ebff;}#sk-container-id-5 div.sk-serial::before {content: \"\";position: absolute;border-left: 1px solid gray;box-sizing: border-box;top: 0;bottom: 0;left: 50%;z-index: 0;}#sk-container-id-5 div.sk-serial {display: flex;flex-direction: column;align-items: center;background-color: white;padding-right: 0.2em;padding-left: 0.2em;position: relative;}#sk-container-id-5 div.sk-item {position: relative;z-index: 1;}#sk-container-id-5 div.sk-parallel {display: flex;align-items: stretch;justify-content: center;background-color: white;position: relative;}#sk-container-id-5 div.sk-item::before, #sk-container-id-5 div.sk-parallel-item::before {content: \"\";position: absolute;border-left: 1px solid gray;box-sizing: border-box;top: 0;bottom: 0;left: 50%;z-index: -1;}#sk-container-id-5 div.sk-parallel-item {display: flex;flex-direction: column;z-index: 1;position: relative;background-color: white;}#sk-container-id-5 div.sk-parallel-item:first-child::after {align-self: flex-end;width: 50%;}#sk-container-id-5 div.sk-parallel-item:last-child::after {align-self: flex-start;width: 50%;}#sk-container-id-5 div.sk-parallel-item:only-child::after {width: 0;}#sk-container-id-5 div.sk-dashed-wrapped {border: 1px dashed gray;margin: 0 0.4em 0.5em 0.4em;box-sizing: border-box;padding-bottom: 0.4em;background-color: white;}#sk-container-id-5 div.sk-label label {font-family: monospace;font-weight: bold;display: inline-block;line-height: 1.2em;}#sk-container-id-5 div.sk-label-container {text-align: center;}#sk-container-id-5 div.sk-container {/* jupyter's `normalize.less` sets `[hidden] { display: none; }` but bootstrap.min.css set `[hidden] { display: none !important; }` so we also need the `!important` here to be able to override the default hidden behavior on the sphinx rendered scikit-learn.org. See: https://github.com/scikit-learn/scikit-learn/issues/21755 */display: inline-block !important;position: relative;}#sk-container-id-5 div.sk-text-repr-fallback {display: none;}</style><div id=\"sk-container-id-5\" class=\"sk-top-container\"><div class=\"sk-text-repr-fallback\"><pre>OneClassSVM(kernel=&#x27;linear&#x27;, nu=0.5488135039273248)</pre><b>In a Jupyter environment, please rerun this cell to show the HTML representation or trust the notebook. <br />On GitHub, the HTML representation is unable to render, please try loading this page with nbviewer.org.</b></div><div class=\"sk-container\" hidden><div class=\"sk-item\"><div class=\"sk-estimator sk-toggleable\"><input class=\"sk-toggleable__control sk-hidden--visually\" id=\"sk-estimator-id-5\" type=\"checkbox\" checked><label for=\"sk-estimator-id-5\" class=\"sk-toggleable__label sk-toggleable__label-arrow\">OneClassSVM</label><div class=\"sk-toggleable__content\"><pre>OneClassSVM(kernel=&#x27;linear&#x27;, nu=0.5488135039273248)</pre></div></div></div></div></div>"
      ],
      "text/plain": [
       "OneClassSVM(kernel='linear', nu=0.5488135039273248)"
      ]
     },
     "execution_count": 64,
     "metadata": {},
     "output_type": "execute_result"
    }
   ],
   "source": [
    "#Train model with ten percent of data\n",
    "#Load the saved SVM model\n",
    "svm = OneClassSVM(kernel = 'linear', nu=0.5488135039273248)\n",
    "svm.fit(one_hot_data_svm_ten_percent)\n",
    "y_pred_svm = svm.predict(one_hot_data_svm)\n"
   ]
  },
  {
   "cell_type": "code",
   "execution_count": 65,
   "id": "ff655782",
   "metadata": {},
   "outputs": [
    {
     "data": {
      "text/html": [
       "<div>\n",
       "<style scoped>\n",
       "    .dataframe tbody tr th:only-of-type {\n",
       "        vertical-align: middle;\n",
       "    }\n",
       "\n",
       "    .dataframe tbody tr th {\n",
       "        vertical-align: top;\n",
       "    }\n",
       "\n",
       "    .dataframe thead th {\n",
       "        text-align: right;\n",
       "    }\n",
       "</style>\n",
       "<table border=\"1\" class=\"dataframe\">\n",
       "  <thead>\n",
       "    <tr style=\"text-align: right;\">\n",
       "      <th></th>\n",
       "      <th>Variable 0</th>\n",
       "      <th>Variable 1</th>\n",
       "      <th>Variable 2</th>\n",
       "      <th>Variable 3</th>\n",
       "      <th>Variable 4</th>\n",
       "      <th>Variable 5</th>\n",
       "      <th>Variable 6</th>\n",
       "      <th>Variable 7</th>\n",
       "      <th>Variable 8</th>\n",
       "      <th>Variable 9</th>\n",
       "      <th>...</th>\n",
       "      <th>Variable 15</th>\n",
       "      <th>Variable 16</th>\n",
       "      <th>Variable 17</th>\n",
       "      <th>Variable 18</th>\n",
       "      <th>Variable 19</th>\n",
       "      <th>Variable 20</th>\n",
       "      <th>Variable 21</th>\n",
       "      <th>Variable 22</th>\n",
       "      <th>Variable 23</th>\n",
       "      <th>Variable 24</th>\n",
       "    </tr>\n",
       "  </thead>\n",
       "  <tbody>\n",
       "    <tr>\n",
       "      <th>0</th>\n",
       "      <td>-0.271817</td>\n",
       "      <td>-0.031828</td>\n",
       "      <td>-0.007913</td>\n",
       "      <td>-0.057511</td>\n",
       "      <td>-0.242415</td>\n",
       "      <td>0.177059</td>\n",
       "      <td>-0.356126</td>\n",
       "      <td>0.408246</td>\n",
       "      <td>0.040125</td>\n",
       "      <td>0.127199</td>\n",
       "      <td>...</td>\n",
       "      <td>0.017675</td>\n",
       "      <td>-0.207696</td>\n",
       "      <td>-0.037670</td>\n",
       "      <td>-0.320513</td>\n",
       "      <td>0.282792</td>\n",
       "      <td>2.121928</td>\n",
       "      <td>-0.554458</td>\n",
       "      <td>-0.128861</td>\n",
       "      <td>-1.473057</td>\n",
       "      <td>-1.178637</td>\n",
       "    </tr>\n",
       "    <tr>\n",
       "      <th>1</th>\n",
       "      <td>0.172646</td>\n",
       "      <td>0.493701</td>\n",
       "      <td>0.004511</td>\n",
       "      <td>-0.797854</td>\n",
       "      <td>-0.794043</td>\n",
       "      <td>1.396155</td>\n",
       "      <td>-1.419619</td>\n",
       "      <td>1.811960</td>\n",
       "      <td>-0.912519</td>\n",
       "      <td>0.028641</td>\n",
       "      <td>...</td>\n",
       "      <td>0.001159</td>\n",
       "      <td>-0.341807</td>\n",
       "      <td>-0.086003</td>\n",
       "      <td>-0.390951</td>\n",
       "      <td>0.353703</td>\n",
       "      <td>2.470526</td>\n",
       "      <td>-0.970956</td>\n",
       "      <td>0.370610</td>\n",
       "      <td>1.229085</td>\n",
       "      <td>0.620339</td>\n",
       "    </tr>\n",
       "    <tr>\n",
       "      <th>2</th>\n",
       "      <td>1.415630</td>\n",
       "      <td>-0.666276</td>\n",
       "      <td>0.012028</td>\n",
       "      <td>-0.028398</td>\n",
       "      <td>-0.176458</td>\n",
       "      <td>-0.336946</td>\n",
       "      <td>0.050874</td>\n",
       "      <td>-0.047366</td>\n",
       "      <td>0.161117</td>\n",
       "      <td>0.009215</td>\n",
       "      <td>...</td>\n",
       "      <td>-0.013285</td>\n",
       "      <td>-0.080540</td>\n",
       "      <td>0.029774</td>\n",
       "      <td>0.017559</td>\n",
       "      <td>-0.007434</td>\n",
       "      <td>0.089605</td>\n",
       "      <td>0.323908</td>\n",
       "      <td>-0.208929</td>\n",
       "      <td>0.327629</td>\n",
       "      <td>-0.075655</td>\n",
       "    </tr>\n",
       "    <tr>\n",
       "      <th>3</th>\n",
       "      <td>-0.904705</td>\n",
       "      <td>-0.465462</td>\n",
       "      <td>-0.041510</td>\n",
       "      <td>0.310599</td>\n",
       "      <td>0.131188</td>\n",
       "      <td>-0.845985</td>\n",
       "      <td>0.027310</td>\n",
       "      <td>0.064317</td>\n",
       "      <td>0.051110</td>\n",
       "      <td>0.009946</td>\n",
       "      <td>...</td>\n",
       "      <td>0.013663</td>\n",
       "      <td>-0.103790</td>\n",
       "      <td>0.018488</td>\n",
       "      <td>-1.077262</td>\n",
       "      <td>0.095570</td>\n",
       "      <td>-1.068191</td>\n",
       "      <td>-0.187460</td>\n",
       "      <td>-0.311464</td>\n",
       "      <td>0.040900</td>\n",
       "      <td>-0.580682</td>\n",
       "    </tr>\n",
       "    <tr>\n",
       "      <th>4</th>\n",
       "      <td>-0.829569</td>\n",
       "      <td>-0.395406</td>\n",
       "      <td>-0.070325</td>\n",
       "      <td>0.588581</td>\n",
       "      <td>0.832244</td>\n",
       "      <td>-0.290600</td>\n",
       "      <td>-0.145860</td>\n",
       "      <td>0.193486</td>\n",
       "      <td>0.064853</td>\n",
       "      <td>-0.023984</td>\n",
       "      <td>...</td>\n",
       "      <td>-0.028782</td>\n",
       "      <td>-0.083732</td>\n",
       "      <td>0.048325</td>\n",
       "      <td>0.359112</td>\n",
       "      <td>-0.102098</td>\n",
       "      <td>-0.014894</td>\n",
       "      <td>0.542317</td>\n",
       "      <td>0.586902</td>\n",
       "      <td>0.417898</td>\n",
       "      <td>1.189603</td>\n",
       "    </tr>\n",
       "    <tr>\n",
       "      <th>...</th>\n",
       "      <td>...</td>\n",
       "      <td>...</td>\n",
       "      <td>...</td>\n",
       "      <td>...</td>\n",
       "      <td>...</td>\n",
       "      <td>...</td>\n",
       "      <td>...</td>\n",
       "      <td>...</td>\n",
       "      <td>...</td>\n",
       "      <td>...</td>\n",
       "      <td>...</td>\n",
       "      <td>...</td>\n",
       "      <td>...</td>\n",
       "      <td>...</td>\n",
       "      <td>...</td>\n",
       "      <td>...</td>\n",
       "      <td>...</td>\n",
       "      <td>...</td>\n",
       "      <td>...</td>\n",
       "      <td>...</td>\n",
       "      <td>...</td>\n",
       "    </tr>\n",
       "    <tr>\n",
       "      <th>12592</th>\n",
       "      <td>1.335048</td>\n",
       "      <td>-0.583419</td>\n",
       "      <td>0.029225</td>\n",
       "      <td>0.015845</td>\n",
       "      <td>-0.391473</td>\n",
       "      <td>-0.480954</td>\n",
       "      <td>-0.134967</td>\n",
       "      <td>0.211035</td>\n",
       "      <td>0.010140</td>\n",
       "      <td>0.020580</td>\n",
       "      <td>...</td>\n",
       "      <td>0.000280</td>\n",
       "      <td>-0.078192</td>\n",
       "      <td>-0.007174</td>\n",
       "      <td>0.057168</td>\n",
       "      <td>0.001755</td>\n",
       "      <td>0.527031</td>\n",
       "      <td>0.650959</td>\n",
       "      <td>-0.452780</td>\n",
       "      <td>0.214402</td>\n",
       "      <td>-0.426800</td>\n",
       "    </tr>\n",
       "    <tr>\n",
       "      <th>12593</th>\n",
       "      <td>1.405131</td>\n",
       "      <td>-0.670460</td>\n",
       "      <td>0.009711</td>\n",
       "      <td>-0.052636</td>\n",
       "      <td>-0.116800</td>\n",
       "      <td>-0.214474</td>\n",
       "      <td>0.093440</td>\n",
       "      <td>-0.124871</td>\n",
       "      <td>0.182308</td>\n",
       "      <td>0.002393</td>\n",
       "      <td>...</td>\n",
       "      <td>-0.021989</td>\n",
       "      <td>-0.086250</td>\n",
       "      <td>0.022576</td>\n",
       "      <td>0.009013</td>\n",
       "      <td>0.001258</td>\n",
       "      <td>0.009855</td>\n",
       "      <td>0.106799</td>\n",
       "      <td>-0.004866</td>\n",
       "      <td>0.162293</td>\n",
       "      <td>-0.032207</td>\n",
       "    </tr>\n",
       "    <tr>\n",
       "      <th>12594</th>\n",
       "      <td>-1.004226</td>\n",
       "      <td>-0.392154</td>\n",
       "      <td>-0.046524</td>\n",
       "      <td>0.346141</td>\n",
       "      <td>0.210340</td>\n",
       "      <td>-0.746812</td>\n",
       "      <td>-0.012722</td>\n",
       "      <td>0.112151</td>\n",
       "      <td>-0.006566</td>\n",
       "      <td>0.009871</td>\n",
       "      <td>...</td>\n",
       "      <td>0.015427</td>\n",
       "      <td>-0.066108</td>\n",
       "      <td>0.012999</td>\n",
       "      <td>-0.956240</td>\n",
       "      <td>0.101075</td>\n",
       "      <td>-0.795296</td>\n",
       "      <td>0.002573</td>\n",
       "      <td>-0.090641</td>\n",
       "      <td>-0.194516</td>\n",
       "      <td>-0.333884</td>\n",
       "    </tr>\n",
       "    <tr>\n",
       "      <th>12595</th>\n",
       "      <td>-0.928914</td>\n",
       "      <td>-0.411203</td>\n",
       "      <td>-0.072747</td>\n",
       "      <td>0.307538</td>\n",
       "      <td>0.355113</td>\n",
       "      <td>-0.583620</td>\n",
       "      <td>0.043376</td>\n",
       "      <td>0.108800</td>\n",
       "      <td>-0.105397</td>\n",
       "      <td>-0.096392</td>\n",
       "      <td>...</td>\n",
       "      <td>-0.034731</td>\n",
       "      <td>0.225358</td>\n",
       "      <td>0.064995</td>\n",
       "      <td>2.105253</td>\n",
       "      <td>-0.504560</td>\n",
       "      <td>-0.094134</td>\n",
       "      <td>0.153914</td>\n",
       "      <td>0.678413</td>\n",
       "      <td>0.815593</td>\n",
       "      <td>1.126362</td>\n",
       "    </tr>\n",
       "    <tr>\n",
       "      <th>12596</th>\n",
       "      <td>-0.485892</td>\n",
       "      <td>-0.145472</td>\n",
       "      <td>0.040113</td>\n",
       "      <td>0.107849</td>\n",
       "      <td>-0.567034</td>\n",
       "      <td>-0.367530</td>\n",
       "      <td>-0.308338</td>\n",
       "      <td>0.373889</td>\n",
       "      <td>-0.157040</td>\n",
       "      <td>0.087830</td>\n",
       "      <td>...</td>\n",
       "      <td>0.049620</td>\n",
       "      <td>0.039763</td>\n",
       "      <td>-0.044382</td>\n",
       "      <td>-0.793520</td>\n",
       "      <td>0.318085</td>\n",
       "      <td>0.978905</td>\n",
       "      <td>-0.477854</td>\n",
       "      <td>1.475288</td>\n",
       "      <td>-2.915956</td>\n",
       "      <td>-0.118453</td>\n",
       "    </tr>\n",
       "  </tbody>\n",
       "</table>\n",
       "<p>12597 rows × 25 columns</p>\n",
       "</div>"
      ],
      "text/plain": [
       "       Variable 0  Variable 1  Variable 2  Variable 3  Variable 4  Variable 5  \\\n",
       "0       -0.271817   -0.031828   -0.007913   -0.057511   -0.242415    0.177059   \n",
       "1        0.172646    0.493701    0.004511   -0.797854   -0.794043    1.396155   \n",
       "2        1.415630   -0.666276    0.012028   -0.028398   -0.176458   -0.336946   \n",
       "3       -0.904705   -0.465462   -0.041510    0.310599    0.131188   -0.845985   \n",
       "4       -0.829569   -0.395406   -0.070325    0.588581    0.832244   -0.290600   \n",
       "...           ...         ...         ...         ...         ...         ...   \n",
       "12592    1.335048   -0.583419    0.029225    0.015845   -0.391473   -0.480954   \n",
       "12593    1.405131   -0.670460    0.009711   -0.052636   -0.116800   -0.214474   \n",
       "12594   -1.004226   -0.392154   -0.046524    0.346141    0.210340   -0.746812   \n",
       "12595   -0.928914   -0.411203   -0.072747    0.307538    0.355113   -0.583620   \n",
       "12596   -0.485892   -0.145472    0.040113    0.107849   -0.567034   -0.367530   \n",
       "\n",
       "       Variable 6  Variable 7  Variable 8  Variable 9  ...  Variable 15  \\\n",
       "0       -0.356126    0.408246    0.040125    0.127199  ...     0.017675   \n",
       "1       -1.419619    1.811960   -0.912519    0.028641  ...     0.001159   \n",
       "2        0.050874   -0.047366    0.161117    0.009215  ...    -0.013285   \n",
       "3        0.027310    0.064317    0.051110    0.009946  ...     0.013663   \n",
       "4       -0.145860    0.193486    0.064853   -0.023984  ...    -0.028782   \n",
       "...           ...         ...         ...         ...  ...          ...   \n",
       "12592   -0.134967    0.211035    0.010140    0.020580  ...     0.000280   \n",
       "12593    0.093440   -0.124871    0.182308    0.002393  ...    -0.021989   \n",
       "12594   -0.012722    0.112151   -0.006566    0.009871  ...     0.015427   \n",
       "12595    0.043376    0.108800   -0.105397   -0.096392  ...    -0.034731   \n",
       "12596   -0.308338    0.373889   -0.157040    0.087830  ...     0.049620   \n",
       "\n",
       "       Variable 16  Variable 17  Variable 18  Variable 19  Variable 20  \\\n",
       "0        -0.207696    -0.037670    -0.320513     0.282792     2.121928   \n",
       "1        -0.341807    -0.086003    -0.390951     0.353703     2.470526   \n",
       "2        -0.080540     0.029774     0.017559    -0.007434     0.089605   \n",
       "3        -0.103790     0.018488    -1.077262     0.095570    -1.068191   \n",
       "4        -0.083732     0.048325     0.359112    -0.102098    -0.014894   \n",
       "...            ...          ...          ...          ...          ...   \n",
       "12592    -0.078192    -0.007174     0.057168     0.001755     0.527031   \n",
       "12593    -0.086250     0.022576     0.009013     0.001258     0.009855   \n",
       "12594    -0.066108     0.012999    -0.956240     0.101075    -0.795296   \n",
       "12595     0.225358     0.064995     2.105253    -0.504560    -0.094134   \n",
       "12596     0.039763    -0.044382    -0.793520     0.318085     0.978905   \n",
       "\n",
       "       Variable 21  Variable 22  Variable 23  Variable 24  \n",
       "0        -0.554458    -0.128861    -1.473057    -1.178637  \n",
       "1        -0.970956     0.370610     1.229085     0.620339  \n",
       "2         0.323908    -0.208929     0.327629    -0.075655  \n",
       "3        -0.187460    -0.311464     0.040900    -0.580682  \n",
       "4         0.542317     0.586902     0.417898     1.189603  \n",
       "...            ...          ...          ...          ...  \n",
       "12592     0.650959    -0.452780     0.214402    -0.426800  \n",
       "12593     0.106799    -0.004866     0.162293    -0.032207  \n",
       "12594     0.002573    -0.090641    -0.194516    -0.333884  \n",
       "12595     0.153914     0.678413     0.815593     1.126362  \n",
       "12596    -0.477854     1.475288    -2.915956    -0.118453  \n",
       "\n",
       "[12597 rows x 25 columns]"
      ]
     },
     "execution_count": 65,
     "metadata": {},
     "output_type": "execute_result"
    }
   ],
   "source": [
    "one_hot_data_svm_ten_percent"
   ]
  },
  {
   "cell_type": "code",
   "execution_count": 87,
   "id": "caad1e14",
   "metadata": {},
   "outputs": [
    {
     "name": "stdout",
     "output_type": "stream",
     "text": [
      "Training accuracy: 0.5116\n",
      "[[37675 29668]\n",
      " [31857 26773]]\n"
     ]
    }
   ],
   "source": [
    "#Evaluation on training result\n",
    "y_pred_svm = np.where(y_pred_svm == -1, 0, y_pred_svm)\n",
    "\n",
    "train_acc = accuracy_score(kdd_train_y['class_binary'], y_pred_svm)\n",
    "print(\"Training accuracy: {:.4f}\".format(train_acc))\n",
    "cm_svm = confusion_matrix (kdd_train_y[\"class_binary\"], y_pred_svm)\n",
    "print(cm_svm)"
   ]
  },
  {
   "cell_type": "code",
   "execution_count": 88,
   "id": "72817ce2",
   "metadata": {},
   "outputs": [
    {
     "data": {
      "text/plain": [
       "Text(0.5, 1.0, 'Seaborn Confusion Matrix with labels\\n\\n')"
      ]
     },
     "execution_count": 88,
     "metadata": {},
     "output_type": "execute_result"
    },
    {
     "data": {
      "text/plain": [
       "Text(0.5, 15.0, '\\nPredicted Values')"
      ]
     },
     "execution_count": 88,
     "metadata": {},
     "output_type": "execute_result"
    },
    {
     "data": {
      "text/plain": [
       "Text(33.0, 0.5, 'Actual Values ')"
      ]
     },
     "execution_count": 88,
     "metadata": {},
     "output_type": "execute_result"
    },
    {
     "data": {
      "text/plain": [
       "[Text(0.5, 0, 'False'), Text(1.5, 0, 'True')]"
      ]
     },
     "execution_count": 88,
     "metadata": {},
     "output_type": "execute_result"
    },
    {
     "data": {
      "text/plain": [
       "[Text(0, 0.5, 'False'), Text(0, 1.5, 'True')]"
      ]
     },
     "execution_count": 88,
     "metadata": {},
     "output_type": "execute_result"
    },
    {
     "data": {
      "image/png": "[encoded data removed]",
      "text/plain": [
       "<Figure size 432x288 with 2 Axes>"
      ]
     },
     "metadata": {
      "needs_background": "light"
     },
     "output_type": "display_data"
    },
    {
     "name": "stdout",
     "output_type": "stream",
     "text": [
      "Precision:  0.47435374993355894\n",
      "Recall 0.45664335664335665\n"
     ]
    }
   ],
   "source": [
    "ax = sns.heatmap(cm_svm, annot=True, cmap='Blues')\n",
    "\n",
    "ax.set_title('Seaborn Confusion Matrix with labels\\n\\n');\n",
    "ax.set_xlabel('\\nPredicted Values')\n",
    "ax.set_ylabel('Actual Values ');\n",
    "\n",
    "## Ticket labels - List must be in alphabetical order\n",
    "ax.xaxis.set_ticklabels(['False','True'])\n",
    "ax.yaxis.set_ticklabels(['False','True'])\n",
    "\n",
    "## Display the visualization of the Confusion Matrix.\n",
    "plt.show()\n",
    "\n",
    "\n",
    "## FP,FN,TP,TN\n",
    "TN_svm = cm_svm[0][0]\n",
    "FN_svm = cm_svm[1][0]\n",
    "FP_svm = cm_svm[0][1]\n",
    "TP_svm = cm_svm[1][1]\n",
    "\n",
    "\n",
    "##Precision and Recall\n",
    "Precision_svm = TP_svm/(TP_svm+FP_svm)\n",
    "Recall_svm = TP_svm/(TP_svm+FN_svm)\n",
    "\n",
    "print (\"Precision: \",Precision_svm)\n",
    "print (\"Recall\",Recall_svm)"
   ]
  },
  {
   "cell_type": "code",
   "execution_count": 89,
   "id": "b2f9d7ff",
   "metadata": {},
   "outputs": [
    {
     "data": {
      "text/html": [
       "<div>\n",
       "<style scoped>\n",
       "    .dataframe tbody tr th:only-of-type {\n",
       "        vertical-align: middle;\n",
       "    }\n",
       "\n",
       "    .dataframe tbody tr th {\n",
       "        vertical-align: top;\n",
       "    }\n",
       "\n",
       "    .dataframe thead th {\n",
       "        text-align: right;\n",
       "    }\n",
       "</style>\n",
       "<table border=\"1\" class=\"dataframe\">\n",
       "  <thead>\n",
       "    <tr style=\"text-align: right;\">\n",
       "      <th></th>\n",
       "      <th>Algorithm</th>\n",
       "      <th>accuracy</th>\n",
       "      <th>recall</th>\n",
       "      <th>precision</th>\n",
       "    </tr>\n",
       "  </thead>\n",
       "  <tbody>\n",
       "    <tr>\n",
       "      <th>0</th>\n",
       "      <td>Mahalanobis</td>\n",
       "      <td>0.560120</td>\n",
       "      <td>0.095685</td>\n",
       "      <td>0.700987</td>\n",
       "    </tr>\n",
       "    <tr>\n",
       "      <th>1</th>\n",
       "      <td>Maha + MCD</td>\n",
       "      <td>0.482476</td>\n",
       "      <td>0.428961</td>\n",
       "      <td>0.442283</td>\n",
       "    </tr>\n",
       "    <tr>\n",
       "      <th>2</th>\n",
       "      <td>IF</td>\n",
       "      <td>0.457082</td>\n",
       "      <td>0.967167</td>\n",
       "      <td>0.460369</td>\n",
       "    </tr>\n",
       "    <tr>\n",
       "      <th>3</th>\n",
       "      <td>OCSVM</td>\n",
       "      <td>0.511602</td>\n",
       "      <td>0.456643</td>\n",
       "      <td>0.474354</td>\n",
       "    </tr>\n",
       "  </tbody>\n",
       "</table>\n",
       "</div>"
      ],
      "text/plain": [
       "     Algorithm  accuracy    recall  precision\n",
       "0  Mahalanobis  0.560120  0.095685   0.700987\n",
       "1   Maha + MCD  0.482476  0.428961   0.442283\n",
       "2           IF  0.457082  0.967167   0.460369\n",
       "3        OCSVM  0.511602  0.456643   0.474354"
      ]
     },
     "execution_count": 89,
     "metadata": {},
     "output_type": "execute_result"
    }
   ],
   "source": [
    "comparison"
   ]
  },
  {
   "cell_type": "code",
   "execution_count": 90,
   "id": "190d2121",
   "metadata": {},
   "outputs": [],
   "source": [
    "column_A = kdd_train_x['same_srv_rate']\n",
    "column_B = kdd_train_x['diff_srv_rate']"
   ]
  },
  {
   "cell_type": "code",
   "execution_count": 91,
   "id": "7294d741",
   "metadata": {},
   "outputs": [],
   "source": [
    "from sklearn.cluster import KMeans\n",
    "%matplotlib inline"
   ]
  },
  {
   "cell_type": "markdown",
   "id": "d851ad41",
   "metadata": {},
   "source": [
    "# K-Means Clustering"
   ]
  },
  {
   "cell_type": "code",
   "execution_count": 92,
   "id": "c9e7ee4b",
   "metadata": {},
   "outputs": [
    {
     "name": "stderr",
     "output_type": "stream",
     "text": [
      "C:\\WINDOWS\\system32\\myenv\\lib\\site-packages\\sklearn\\utils\\validation.py:1858: FutureWarning: Feature names only support names that are all strings. Got feature names with dtypes: ['str', 'tuple']. An error will be raised in 1.2.\n",
      "  warnings.warn(\n"
     ]
    },
    {
     "data": {
      "text/html": [
       "<style>#sk-container-id-7 {color: black;background-color: white;}#sk-container-id-7 pre{padding: 0;}#sk-container-id-7 div.sk-toggleable {background-color: white;}#sk-container-id-7 label.sk-toggleable__label {cursor: pointer;display: block;width: 100%;margin-bottom: 0;padding: 0.3em;box-sizing: border-box;text-align: center;}#sk-container-id-7 label.sk-toggleable__label-arrow:before {content: \"▸\";float: left;margin-right: 0.25em;color: #696969;}#sk-container-id-7 label.sk-toggleable__label-arrow:hover:before {color: black;}#sk-container-id-7 div.sk-estimator:hover label.sk-toggleable__label-arrow:before {color: black;}#sk-container-id-7 div.sk-toggleable__content {max-height: 0;max-width: 0;overflow: hidden;text-align: left;background-color: #f0f8ff;}#sk-container-id-7 div.sk-toggleable__content pre {margin: 0.2em;color: black;border-radius: 0.25em;background-color: #f0f8ff;}#sk-container-id-7 input.sk-toggleable__control:checked~div.sk-toggleable__content {max-height: 200px;max-width: 100%;overflow: auto;}#sk-container-id-7 input.sk-toggleable__control:checked~label.sk-toggleable__label-arrow:before {content: \"▾\";}#sk-container-id-7 div.sk-estimator input.sk-toggleable__control:checked~label.sk-toggleable__label {background-color: #d4ebff;}#sk-container-id-7 div.sk-label input.sk-toggleable__control:checked~label.sk-toggleable__label {background-color: #d4ebff;}#sk-container-id-7 input.sk-hidden--visually {border: 0;clip: rect(1px 1px 1px 1px);clip: rect(1px, 1px, 1px, 1px);height: 1px;margin: -1px;overflow: hidden;padding: 0;position: absolute;width: 1px;}#sk-container-id-7 div.sk-estimator {font-family: monospace;background-color: #f0f8ff;border: 1px dotted black;border-radius: 0.25em;box-sizing: border-box;margin-bottom: 0.5em;}#sk-container-id-7 div.sk-estimator:hover {background-color: #d4ebff;}#sk-container-id-7 div.sk-parallel-item::after {content: \"\";width: 100%;border-bottom: 1px solid gray;flex-grow: 1;}#sk-container-id-7 div.sk-label:hover label.sk-toggleable__label {background-color: #d4ebff;}#sk-container-id-7 div.sk-serial::before {content: \"\";position: absolute;border-left: 1px solid gray;box-sizing: border-box;top: 0;bottom: 0;left: 50%;z-index: 0;}#sk-container-id-7 div.sk-serial {display: flex;flex-direction: column;align-items: center;background-color: white;padding-right: 0.2em;padding-left: 0.2em;position: relative;}#sk-container-id-7 div.sk-item {position: relative;z-index: 1;}#sk-container-id-7 div.sk-parallel {display: flex;align-items: stretch;justify-content: center;background-color: white;position: relative;}#sk-container-id-7 div.sk-item::before, #sk-container-id-7 div.sk-parallel-item::before {content: \"\";position: absolute;border-left: 1px solid gray;box-sizing: border-box;top: 0;bottom: 0;left: 50%;z-index: -1;}#sk-container-id-7 div.sk-parallel-item {display: flex;flex-direction: column;z-index: 1;position: relative;background-color: white;}#sk-container-id-7 div.sk-parallel-item:first-child::after {align-self: flex-end;width: 50%;}#sk-container-id-7 div.sk-parallel-item:last-child::after {align-self: flex-start;width: 50%;}#sk-container-id-7 div.sk-parallel-item:only-child::after {width: 0;}#sk-container-id-7 div.sk-dashed-wrapped {border: 1px dashed gray;margin: 0 0.4em 0.5em 0.4em;box-sizing: border-box;padding-bottom: 0.4em;background-color: white;}#sk-container-id-7 div.sk-label label {font-family: monospace;font-weight: bold;display: inline-block;line-height: 1.2em;}#sk-container-id-7 div.sk-label-container {text-align: center;}#sk-container-id-7 div.sk-container {/* jupyter's `normalize.less` sets `[hidden] { display: none; }` but bootstrap.min.css set `[hidden] { display: none !important; }` so we also need the `!important` here to be able to override the default hidden behavior on the sphinx rendered scikit-learn.org. See: https://github.com/scikit-learn/scikit-learn/issues/21755 */display: inline-block !important;position: relative;}#sk-container-id-7 div.sk-text-repr-fallback {display: none;}</style><div id=\"sk-container-id-7\" class=\"sk-top-container\"><div class=\"sk-text-repr-fallback\"><pre>KMeans(n_clusters=2)</pre><b>In a Jupyter environment, please rerun this cell to show the HTML representation or trust the notebook. <br />On GitHub, the HTML representation is unable to render, please try loading this page with nbviewer.org.</b></div><div class=\"sk-container\" hidden><div class=\"sk-item\"><div class=\"sk-estimator sk-toggleable\"><input class=\"sk-toggleable__control sk-hidden--visually\" id=\"sk-estimator-id-7\" type=\"checkbox\" checked><label for=\"sk-estimator-id-7\" class=\"sk-toggleable__label sk-toggleable__label-arrow\">KMeans</label><div class=\"sk-toggleable__content\"><pre>KMeans(n_clusters=2)</pre></div></div></div></div></div>"
      ],
      "text/plain": [
       "KMeans(n_clusters=2)"
      ]
     },
     "execution_count": 92,
     "metadata": {},
     "output_type": "execute_result"
    }
   ],
   "source": [
    "kmean = KMeans(n_clusters=2)\n",
    "kmean.fit(one_hot_data_pca)"
   ]
  },
  {
   "cell_type": "code",
   "execution_count": 93,
   "id": "e7e5c768",
   "metadata": {
    "scrolled": true
   },
   "outputs": [
    {
     "data": {
      "text/plain": [
       "array([[-1.10242684e-01, -4.37741893e-03, -4.89381898e-03,\n",
       "         3.46850550e-02, -8.94864220e-02, -7.73598503e-03,\n",
       "        -9.47561170e-02, -2.63900402e-02, -8.05632378e-01,\n",
       "        -1.16373383e-02, -3.58697894e-02, -2.31685754e-02,\n",
       "        -1.23757645e-02, -2.32223608e-02, -1.86098963e-02,\n",
       "        -4.12211976e-02, -2.81749392e-03, -9.75309440e-02,\n",
       "         7.46407054e-01, -2.31535355e-01,  1.59160398e+00,\n",
       "         1.59757159e+00, -3.61487175e-01, -3.70171005e-01,\n",
       "        -1.24012783e+00,  8.01937373e-02, -3.66074169e-01,\n",
       "         6.52677475e-01, -9.12074297e-01, -1.01692462e+00,\n",
       "        -4.05497190e-02, -4.41970600e-01, -2.77694958e-01,\n",
       "         1.58837559e+00,  1.60398716e+00, -3.76392603e-01,\n",
       "        -3.73057167e-01,  2.86262273e-05,  9.99971374e-01,\n",
       "        -5.66213743e-15, -3.64834031e-17,  9.71445147e-15,\n",
       "         2.86262273e-05,  2.31872442e-03,  4.68375339e-16,\n",
       "         9.87518965e-01,  1.57444250e-03,  1.14504909e-04,\n",
       "         8.58786820e-05,  7.15655684e-04,  7.64320270e-03,\n",
       "         3.72140956e-04,  5.72524547e-05,  1.93513297e-02,\n",
       "         6.77626358e-20,  1.62596971e-02,  1.56585464e-02,\n",
       "         1.70898577e-02,  1.22806515e-02,  1.23092778e-02,\n",
       "         1.22806515e-02,  1.17653794e-02,  1.19085106e-02,\n",
       "        -5.56499291e-15,  9.50390748e-03,  1.82492910e-15,\n",
       "         2.86262274e-05,  1.09924713e-02,  1.05344517e-02,\n",
       "         3.18896173e-02,  1.12787336e-02,  3.28915352e-02,\n",
       "         1.10210975e-02,  2.86262273e-05,  1.00191796e-02,\n",
       "         3.20900009e-02,  3.38813179e-20,  1.15077434e-02,\n",
       "         2.86262273e-05,  1.41986088e-02,  1.58589300e-02,\n",
       "         1.03340681e-02,  6.64128475e-03,  9.18901898e-03,\n",
       "         1.02481894e-02,  9.96192712e-03,  9.79016975e-03,\n",
       "         9.53253371e-03,  9.16039275e-03,  7.55732402e-03,\n",
       "         8.10122234e-03,  8.64512066e-03,  1.42844874e-02,\n",
       "         7.12793061e-03, -1.08420217e-18,  3.43514728e-03,\n",
       "         1.62630326e-19,  1.43131137e-03,  1.54581628e-03,\n",
       "         1.51719005e-03,  3.74431054e-01,  2.71050543e-19,\n",
       "         1.43131137e-03,  1.54581628e-03,  1.37405891e-03,\n",
       "         5.92562906e-03,  5.12409470e-03,  6.87029456e-03,\n",
       "         8.55924198e-03,  1.27672974e-02,  1.08207139e-02,\n",
       "         3.63839350e-02,  9.82558219e-20,  2.71050543e-19,\n",
       "         1.25955400e-02,  3.25260652e-19, -1.28369537e-16,\n",
       "         1.72902413e-02,  1.54867890e-02,  1.39409727e-02,\n",
       "         1.57444250e-02,  1.75747894e-01,  7.82973742e-01],\n",
       "       [ 4.23012705e-02,  1.67966142e-03,  1.87780952e-03,\n",
       "        -1.33090183e-02,  3.43368759e-02,  2.96837835e-03,\n",
       "         3.63589129e-02,  1.01261344e-02,  3.09129568e-01,\n",
       "         4.46536838e-03,  1.37636133e-02,  8.89002465e-03,\n",
       "         4.74871026e-03,  8.91066266e-03,  7.14081183e-03,\n",
       "         1.58170046e-02,  1.08110188e-03,  3.74236431e-02,\n",
       "        -2.86404192e-01,  8.88425370e-02, -6.10715092e-01,\n",
       "        -6.13004925e-01,  1.38706409e-01,  1.42038485e-01,\n",
       "         4.75850017e-01, -3.07711756e-02,  1.40466487e-01,\n",
       "        -2.50439172e-01,  3.49972445e-01,  3.90204610e-01,\n",
       "         1.55593512e-02,  1.69588741e-01,  1.06554459e-01,\n",
       "        -6.09476325e-01, -6.15466645e-01,  1.44425778e-01,\n",
       "         1.43145936e-01,  9.10588752e-02,  7.44255272e-01,\n",
       "         1.64685852e-01,  5.05272408e-04,  1.23385325e-01,\n",
       "         1.71463093e-02,  2.41652021e-04,  2.65927065e-02,\n",
       "         3.88840070e-03,  3.40509666e-03,  1.35105448e-03,\n",
       "         5.05272408e-04,  8.22934974e-01,  4.39367311e-05,\n",
       "         1.91124780e-03,  7.79876977e-04,  2.04305800e-03,\n",
       "         2.19683656e-05,  4.25087873e-03,  1.79042179e-03,\n",
       "         1.50483304e-03,  1.27416520e-03,  1.46089631e-03,\n",
       "         1.01054482e-03,  1.39499121e-03,  1.68057996e-03,\n",
       "         9.93299649e-02,  1.12038664e-03,  5.03734622e-02,\n",
       "         3.37873462e-02,  1.10940246e-03,  1.16432337e-03,\n",
       "         7.17267135e-03,  1.49384886e-02,  6.27306678e-02,\n",
       "         1.46089631e-03,  1.09841828e-05,  1.20826011e-03,\n",
       "         4.30766696e-01,  1.09841828e-05,  1.40597540e-03,\n",
       "         1.09841828e-05,  1.65861160e-03,  1.46089631e-03,\n",
       "         7.90861160e-04,  7.35940246e-04,  9.77592267e-04,\n",
       "         1.28514938e-03,  8.89718805e-04,  1.06546573e-03,\n",
       "         1.29613357e-03,  9.33655536e-04,  9.11687170e-04,\n",
       "         8.67750439e-04,  6.37082601e-04,  1.43892794e-03,\n",
       "         5.16256591e-04,  1.84534271e-03,  4.65619508e-02,\n",
       "         5.49209139e-05,  3.07557118e-04,  2.30667838e-03,\n",
       "         1.75746924e-04,  9.63642355e-02,  8.78734622e-05,\n",
       "         3.07557118e-04,  3.51493849e-04,  1.86731107e-04,\n",
       "         7.80536028e-02,  7.24956063e-04,  7.79876977e-04,\n",
       "         9.00702988e-04,  1.07644991e-03,  1.08743409e-03,\n",
       "         1.18848858e-02,  3.29525483e-05,  8.78734622e-05,\n",
       "         2.35061511e-03,  1.09841828e-04,  6.61247803e-03,\n",
       "         1.93321617e-03,  1.62565905e-03,  1.42794376e-03,\n",
       "         1.57073814e-03,  8.75121693e-02,  4.47302127e-01]])"
      ]
     },
     "execution_count": 93,
     "metadata": {},
     "output_type": "execute_result"
    }
   ],
   "source": [
    "kmean.cluster_centers_"
   ]
  },
  {
   "cell_type": "code",
   "execution_count": 94,
   "id": "1a733359",
   "metadata": {},
   "outputs": [],
   "source": [
    "kmean_result = kmean.labels_"
   ]
  },
  {
   "cell_type": "code",
   "execution_count": null,
   "id": "8c6d0efe",
   "metadata": {},
   "outputs": [],
   "source": []
  },
  {
   "cell_type": "code",
   "execution_count": 95,
   "id": "2f2bfdb9",
   "metadata": {},
   "outputs": [
    {
     "name": "stdout",
     "output_type": "stream",
     "text": [
      "Training accuracy: 0.5116\n",
      "[[   95 67248]\n",
      " [34839 23791]]\n"
     ]
    }
   ],
   "source": [
    "train_acc_kmean = accuracy_score(kdd_train_y['class_binary'], kmean_result)\n",
    "print(\"Training accuracy: {:.4f}\".format(train_acc))\n",
    "cm_kmean = confusion_matrix (kdd_train_y[\"class_binary\"], kmean_result)\n",
    "print(cm_kmean)"
   ]
  },
  {
   "cell_type": "code",
   "execution_count": 96,
   "id": "bd1e7722",
   "metadata": {},
   "outputs": [
    {
     "data": {
      "text/plain": [
       "Text(0.5, 1.0, 'Seaborn Confusion Matrix with labels\\n\\n')"
      ]
     },
     "execution_count": 96,
     "metadata": {},
     "output_type": "execute_result"
    },
    {
     "data": {
      "text/plain": [
       "Text(0.5, 15.0, '\\nPredicted Values')"
      ]
     },
     "execution_count": 96,
     "metadata": {},
     "output_type": "execute_result"
    },
    {
     "data": {
      "text/plain": [
       "Text(33.0, 0.5, 'Actual Values ')"
      ]
     },
     "execution_count": 96,
     "metadata": {},
     "output_type": "execute_result"
    },
    {
     "data": {
      "text/plain": [
       "[Text(0.5, 0, 'False'), Text(1.5, 0, 'True')]"
      ]
     },
     "execution_count": 96,
     "metadata": {},
     "output_type": "execute_result"
    },
    {
     "data": {
      "text/plain": [
       "[Text(0, 0.5, 'False'), Text(0, 1.5, 'True')]"
      ]
     },
     "execution_count": 96,
     "metadata": {},
     "output_type": "execute_result"
    },
    {
     "data": {
      "image/png": "[encoded data removed]",
      "text/plain": [
       "<Figure size 432x288 with 2 Axes>"
      ]
     },
     "metadata": {
      "needs_background": "light"
     },
     "output_type": "display_data"
    },
    {
     "name": "stdout",
     "output_type": "stream",
     "text": [
      "Precision:  0.2613275629125979\n",
      "Recall 0.4057820228551936\n"
     ]
    }
   ],
   "source": [
    "ax = sns.heatmap(cm_kmean, annot=True, cmap='Blues')\n",
    "\n",
    "ax.set_title('Seaborn Confusion Matrix with labels\\n\\n');\n",
    "ax.set_xlabel('\\nPredicted Values')\n",
    "ax.set_ylabel('Actual Values ');\n",
    "\n",
    "## Ticket labels - List must be in alphabetical order\n",
    "ax.xaxis.set_ticklabels(['False','True'])\n",
    "ax.yaxis.set_ticklabels(['False','True'])\n",
    "\n",
    "## Display the visualization of the Confusion Matrix.\n",
    "plt.show()\n",
    "\n",
    "\n",
    "## FP,FN,TP,TN\n",
    "TN_kmean = cm_kmean[0][0]\n",
    "FN_kmean = cm_kmean[1][0]\n",
    "FP_kmean = cm_kmean[0][1]\n",
    "TP_kmean = cm_kmean[1][1]\n",
    "\n",
    "\n",
    "##Precision and Recall\n",
    "Precision_kmean = TP_kmean/(TP_kmean+FP_kmean)\n",
    "Recall_kmean = TP_kmean/(TP_kmean+FN_kmean)\n",
    "\n",
    "print (\"Precision: \",Precision_kmean)\n",
    "print (\"Recall\",Recall_kmean)"
   ]
  },
  {
   "cell_type": "markdown",
   "id": "711b5ef8",
   "metadata": {},
   "source": [
    "# Comparison of Train Result"
   ]
  },
  {
   "cell_type": "code",
   "execution_count": 98,
   "id": "e665e00c",
   "metadata": {},
   "outputs": [
    {
     "data": {
      "text/html": [
       "<div>\n",
       "<style scoped>\n",
       "    .dataframe tbody tr th:only-of-type {\n",
       "        vertical-align: middle;\n",
       "    }\n",
       "\n",
       "    .dataframe tbody tr th {\n",
       "        vertical-align: top;\n",
       "    }\n",
       "\n",
       "    .dataframe thead th {\n",
       "        text-align: right;\n",
       "    }\n",
       "</style>\n",
       "<table border=\"1\" class=\"dataframe\">\n",
       "  <thead>\n",
       "    <tr style=\"text-align: right;\">\n",
       "      <th></th>\n",
       "      <th>Algorithm</th>\n",
       "      <th>accuracy</th>\n",
       "      <th>recall</th>\n",
       "      <th>precision</th>\n",
       "    </tr>\n",
       "  </thead>\n",
       "  <tbody>\n",
       "    <tr>\n",
       "      <th>0</th>\n",
       "      <td>Mahalanobis</td>\n",
       "      <td>0.560120</td>\n",
       "      <td>0.095685</td>\n",
       "      <td>0.700987</td>\n",
       "    </tr>\n",
       "    <tr>\n",
       "      <th>1</th>\n",
       "      <td>Maha + MCD</td>\n",
       "      <td>0.482476</td>\n",
       "      <td>0.428961</td>\n",
       "      <td>0.442283</td>\n",
       "    </tr>\n",
       "    <tr>\n",
       "      <th>2</th>\n",
       "      <td>IF</td>\n",
       "      <td>0.457082</td>\n",
       "      <td>0.967167</td>\n",
       "      <td>0.460369</td>\n",
       "    </tr>\n",
       "    <tr>\n",
       "      <th>3</th>\n",
       "      <td>OCSVM</td>\n",
       "      <td>0.511602</td>\n",
       "      <td>0.456643</td>\n",
       "      <td>0.474354</td>\n",
       "    </tr>\n",
       "    <tr>\n",
       "      <th>4</th>\n",
       "      <td>Kmean</td>\n",
       "      <td>0.189612</td>\n",
       "      <td>0.405782</td>\n",
       "      <td>0.261328</td>\n",
       "    </tr>\n",
       "  </tbody>\n",
       "</table>\n",
       "</div>"
      ],
      "text/plain": [
       "     Algorithm  accuracy    recall  precision\n",
       "0  Mahalanobis  0.560120  0.095685   0.700987\n",
       "1   Maha + MCD  0.482476  0.428961   0.442283\n",
       "2           IF  0.457082  0.967167   0.460369\n",
       "3        OCSVM  0.511602  0.456643   0.474354\n",
       "4        Kmean  0.189612  0.405782   0.261328"
      ]
     },
     "execution_count": 98,
     "metadata": {},
     "output_type": "execute_result"
    }
   ],
   "source": [
    "header_cmp = ['Algorithm','accuracy', 'recall', 'precision']\n",
    "table_cmp = [['Mahalanobis', train_acc_maha, Recall_maha, Precision_maha],\n",
    "             ['Maha + MCD', train_acc_maha_mcd, Recall_maha_mcd, Precision_maha_mcd],\n",
    "             ['IF', train_acc_if, Recall_if, Precision_if],\n",
    "             ['OCSVM', train_acc, Recall_svm, Precision_svm],\n",
    "             ['Kmean', train_acc_kmean, Recall_kmean, Precision_kmean]]\n",
    "comparison = pd.DataFrame(table_cmp,columns=header_cmp)\n",
    "comparison"
   ]
  },
  {
   "cell_type": "markdown",
   "id": "89474c17",
   "metadata": {},
   "source": [
    "# Testing"
   ]
  },
  {
   "cell_type": "code",
   "execution_count": null,
   "id": "c2531134",
   "metadata": {},
   "outputs": [],
   "source": []
  }
 ],
 "metadata": {
  "kernelspec": {
   "display_name": "Python 3 (ipykernel)",
   "language": "python",
   "name": "python3"
  },
  "language_info": {
   "codemirror_mode": {
    "name": "ipython",
    "version": 3
   },
   "file_extension": ".py",
   "mimetype": "text/x-python",
   "name": "python",
   "nbconvert_exporter": "python",
   "pygments_lexer": "ipython3",
   "version": "3.10.10"
  }
 },
 "nbformat": 4,
 "nbformat_minor": 5
}
