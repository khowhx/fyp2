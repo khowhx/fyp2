{
 "cells": [
  {
   "cell_type": "code",
   "execution_count": 1,
   "id": "148ebd61",
   "metadata": {},
   "outputs": [
    {
     "name": "stdout",
     "output_type": "stream",
     "text": [
      "sys.version_info(major=3, minor=10, micro=10, releaselevel='final', serial=0)\n",
      "1.1.1\n"
     ]
    },
    {
     "name": "stderr",
     "output_type": "stream",
     "text": [
      "C:\\Users\\khxia\\AppData\\Local\\Temp\\ipykernel_25452\\171469821.py:87: SettingWithCopyWarning: \n",
      "A value is trying to be set on a copy of a slice from a DataFrame.\n",
      "Try using .loc[row_indexer,col_indexer] = value instead\n",
      "\n",
      "See the caveats in the documentation: https://pandas.pydata.org/pandas-docs/stable/user_guide/indexing.html#returning-a-view-versus-a-copy\n",
      "  kdd_train_y[\"class_binary\"] = kdd_train_y[\"class\"].map(label_map)\n"
     ]
    }
   ],
   "source": [
    "# To show the python version\n",
    "import sys\n",
    "assert sys.version_info >= (3,8)\n",
    "print(sys.version_info)\n",
    "\n",
    "# to show all the output from a code chunk\n",
    "from IPython.core.interactiveshell import InteractiveShell\n",
    "InteractiveShell.ast_node_interactivity = \"all\"\n",
    "\n",
    "# matplotlib for plotting\n",
    "from matplotlib import pyplot as plt\n",
    "%matplotlib inline\n",
    "\n",
    "# Other external libraries like pandas and numpy\n",
    "import pandas as pd\n",
    "import numpy as np\n",
    "np.random.seed(999)\n",
    "\n",
    "# machine learning models\n",
    "import sklearn\n",
    "print(sklearn.__version__)\n",
    "\n",
    "#import others\n",
    "from sklearn.metrics import confusion_matrix\n",
    "from sklearn import model_selection, datasets\n",
    "from sklearn.tree import DecisionTreeClassifier\n",
    "import joblib\n",
    "import pickle\n",
    "import seaborn as sns\n",
    "\n",
    "from sklearn.model_selection import RandomizedSearchCV\n",
    "from sklearn.model_selection import GridSearchCV\n",
    "\n",
    "\n",
    "from scipy.io import arff\n",
    "# Load the arff file\n",
    "header_info = arff.loadarff(\"Dataset/KDDTrain+.arff\")\n",
    "df = pd.DataFrame(header_info[0])\n",
    "header_names = df.columns.values.tolist()\n",
    "header_names.append('Difficulty')\n",
    "kdd_train = pd.read_csv('Dataset/KDDTrain+.txt', delimiter = ',', header = None)\n",
    "\n",
    "#Rename the headers\n",
    "kdd_train.columns = header_names\n",
    "#Drop the target variables\n",
    "kdd_train_x = kdd_train.drop(['class', 'Difficulty'], axis = 1)\n",
    "y = ['class']\n",
    "kdd_train_y = kdd_train[y]\n",
    "\n",
    "#Identify categorical features\n",
    "num_cols = kdd_train_x._get_numeric_data().columns\n",
    "cate_cols = list(set(kdd_train_x.columns) - set(num_cols))\n",
    "\n",
    "#One-Hot Encoding the categorical features\n",
    "cate_features = pd.get_dummies(kdd_train_x[cate_cols], prefix = cate_cols)\n",
    "one_hot_data = kdd_train_x.drop(cate_cols, axis = 1)\n",
    "one_hot_data_maha = pd.concat([one_hot_data, cate_features], axis = 1)\n",
    "one_hot_data_if = one_hot_data_maha\n",
    "one_hot_data_if.head()\n",
    "one_hot_data_maha.head()\n",
    "data_array = np.array(one_hot_data_maha)\n",
    "data_array.shape    # Make sure that the Numpy array dimension is consistent with the Pandas Dataframe\n",
    "# function to calculate mahalanobis distance\n",
    "label_map = {\"normal\": 0,\n",
    "            \"neptune\": 1,\n",
    "            \"satan\": 1,\n",
    "            \"ipsweep\": 1,\n",
    "            \"portsweep\": 1,\n",
    "            \"smurf\": 1,\n",
    "            \"nmap\": 1,\n",
    "            \"back\": 1,\n",
    "            \"teardrop\": 1,\n",
    "            \"warezclient\": 1,\n",
    "            \"pod\": 1,\n",
    "            \"guess_passwd\": 1,\n",
    "            \"buffer_overflow\": 1,\n",
    "            \"warezmaster\": 1,\n",
    "            \"land\": 1,\n",
    "            \"imap\": 1,\n",
    "            \"rootkit\": 1,\n",
    "            \"loadmodule\": 1,\n",
    "            \"ftp_write\": 1,\n",
    "            \"multihop\": 1,\n",
    "            \"phf\": 1,\n",
    "            \"perl\": 1, \n",
    "            \"spy\": 1}\n",
    "kdd_train_y[\"class_binary\"] = kdd_train_y[\"class\"].map(label_map)"
   ]
  },
  {
   "cell_type": "markdown",
   "id": "2025c3b0",
   "metadata": {},
   "source": [
    "# MinCovDet "
   ]
  },
  {
   "cell_type": "code",
   "execution_count": 2,
   "id": "4312a0ba",
   "metadata": {},
   "outputs": [
    {
     "name": "stderr",
     "output_type": "stream",
     "text": [
      "C:\\WINDOWS\\system32\\myenv\\lib\\site-packages\\sklearn\\covariance\\_robust_covariance.py:738: UserWarning: The covariance matrix associated to your dataset is not full rank\n",
      "  warnings.warn(\n"
     ]
    }
   ],
   "source": [
    "from sklearn.covariance import MinCovDet\n",
    "from sklearn.datasets import make_gaussian_quantiles\n",
    "\n",
    "rng = np.random.RandomState(42)\n",
    "\n",
    "\n",
    "model = MinCovDet(random_state=42).fit(one_hot_data_maha)\n"
   ]
  },
  {
   "cell_type": "code",
   "execution_count": 3,
   "id": "5d8cc8a9",
   "metadata": {},
   "outputs": [
    {
     "data": {
      "text/plain": [
       "array([[ 4.35858604e-03,  1.22637357e-02,  1.45957861e+00, ...,\n",
       "         0.00000000e+00, -1.22207874e-05, -1.36062235e-05],\n",
       "       [ 1.22637357e-02,  1.71066997e+04,  2.16820742e+05, ...,\n",
       "         0.00000000e+00, -1.02875368e+00, -1.14538058e+00],\n",
       "       [ 1.45957861e+00,  2.16820742e+05,  1.62195579e+07, ...,\n",
       "         0.00000000e+00, -1.40732690e+01, -1.56687157e+01],\n",
       "       ...,\n",
       "       [ 0.00000000e+00,  0.00000000e+00,  0.00000000e+00, ...,\n",
       "         0.00000000e+00,  0.00000000e+00,  0.00000000e+00],\n",
       "       [-1.22207874e-05, -1.02875368e+00, -1.40732690e+01, ...,\n",
       "         0.00000000e+00,  8.68871983e-03, -8.55455119e-05],\n",
       "       [-1.36062235e-05, -1.14538058e+00, -1.56687157e+01, ...,\n",
       "         0.00000000e+00, -8.55455119e-05,  9.66403739e-03]])"
      ]
     },
     "execution_count": 3,
     "metadata": {},
     "output_type": "execute_result"
    }
   ],
   "source": [
    "model.covariance_"
   ]
  },
  {
   "cell_type": "code",
   "execution_count": 4,
   "id": "e2789527",
   "metadata": {},
   "outputs": [
    {
     "data": {
      "text/plain": [
       "array([1.39418299e-03, 1.17363214e+02, 1.60551948e+03, 0.00000000e+00,\n",
       "       0.00000000e+00, 0.00000000e+00, 0.00000000e+00, 0.00000000e+00,\n",
       "       4.31885262e-01, 0.00000000e+00, 0.00000000e+00, 0.00000000e+00,\n",
       "       0.00000000e+00, 0.00000000e+00, 0.00000000e+00, 1.94295715e-03,\n",
       "       0.00000000e+00, 0.00000000e+00, 0.00000000e+00, 1.01791051e+02,\n",
       "       2.76586031e+01, 3.95592009e-01, 3.95659641e-01, 6.76788336e-02,\n",
       "       6.76847663e-02, 5.72063984e-01, 2.96228290e-02, 4.66121353e-02,\n",
       "       2.05530294e+02, 1.41266704e+02, 5.54835739e-01, 3.17415422e-02,\n",
       "       1.36707058e-02, 8.19319817e-03, 3.95640805e-01, 3.95667206e-01,\n",
       "       6.78673450e-02, 6.78993815e-02, 0.00000000e+00, 8.95006155e-01,\n",
       "       1.04993845e-01, 0.00000000e+00, 6.76772021e-02, 0.00000000e+00,\n",
       "       0.00000000e+00, 0.00000000e+00, 3.95443691e-01, 0.00000000e+00,\n",
       "       0.00000000e+00, 0.00000000e+00, 5.36879107e-01, 0.00000000e+00,\n",
       "       0.00000000e+00, 0.00000000e+00, 1.23844979e-02, 0.00000000e+00,\n",
       "       1.02487282e-02, 1.02338964e-02, 1.04267090e-02, 3.70793349e-04,\n",
       "       7.90531421e-03, 6.18483307e-03, 5.90303012e-03, 7.23788618e-03,\n",
       "       1.04993845e-01, 4.83514528e-03, 0.00000000e+00, 0.00000000e+00,\n",
       "       0.00000000e+00, 0.00000000e+00, 9.47747801e-03, 5.81403972e-03,\n",
       "       1.23844979e-02, 7.17855925e-03, 0.00000000e+00, 0.00000000e+00,\n",
       "       4.31885262e-01, 0.00000000e+00, 7.50485739e-03, 0.00000000e+00,\n",
       "       6.64461682e-03, 9.75928096e-03, 5.73988105e-03, 4.22704418e-03,\n",
       "       5.84370319e-03, 6.64461682e-03, 4.80548181e-03, 6.12550613e-03,\n",
       "       0.00000000e+00, 0.00000000e+00, 4.77581834e-03, 4.98346262e-03,\n",
       "       5.04278955e-03, 9.03252599e-03, 3.51512095e-03, 0.00000000e+00,\n",
       "       0.00000000e+00, 0.00000000e+00, 1.03822138e-03, 0.00000000e+00,\n",
       "       7.11923231e-04, 2.08682497e-01, 0.00000000e+00, 8.75072305e-04,\n",
       "       0.00000000e+00, 0.00000000e+00, 0.00000000e+00, 3.26298148e-03,\n",
       "       3.98973644e-03, 4.28637112e-03, 0.00000000e+00, 6.74843896e-03,\n",
       "       1.10644735e-02, 0.00000000e+00, 0.00000000e+00, 0.00000000e+00,\n",
       "       0.00000000e+00, 0.00000000e+00, 8.70622785e-03, 0.00000000e+00,\n",
       "       8.76555478e-03, 9.75928096e-03])"
      ]
     },
     "execution_count": 4,
     "metadata": {},
     "output_type": "execute_result"
    }
   ],
   "source": [
    "model.location_"
   ]
  },
  {
   "cell_type": "code",
   "execution_count": null,
   "id": "af3b916a",
   "metadata": {},
   "outputs": [],
   "source": []
  },
  {
   "cell_type": "code",
   "execution_count": 5,
   "id": "00c2c081",
   "metadata": {},
   "outputs": [],
   "source": [
    "import scipy as sp\n",
    "inv_cormat = sp.linalg.pinv(model.covariance_)\n",
    "mu_vect = model.location_"
   ]
  },
  {
   "cell_type": "code",
   "execution_count": 7,
   "id": "0204d7bc",
   "metadata": {},
   "outputs": [],
   "source": [
    "mahal_dist = []\n",
    "for i in range(data_array.shape[0]):\n",
    "    x_minus_mu = data_array[i,:] - mu_vect\n",
    "    left_term = np.dot(x_minus_mu, inv_cormat)\n",
    "    mahal = np.dot(left_term, x_minus_mu.T)\n",
    "    mahal = np.sqrt(mahal)\n",
    "    mahal_dist.append(mahal)"
   ]
  },
  {
   "cell_type": "code",
   "execution_count": 9,
   "id": "69691df1",
   "metadata": {},
   "outputs": [
    {
     "name": "stderr",
     "output_type": "stream",
     "text": [
      "C:\\WINDOWS\\system32\\myenv\\lib\\site-packages\\numpy\\core\\fromnumeric.py:3430: FutureWarning: In a future version, DataFrame.mean(axis=None) will return a scalar mean over the entire DataFrame. To retain the old behavior, use 'frame.mean(axis=0)' or just 'frame.mean()'\n",
      "  return mean(axis=axis, dtype=dtype, out=out, **kwargs)\n"
     ]
    },
    {
     "data": {
      "text/plain": [
       "duration               287.144650\n",
       "src_bytes            45566.743000\n",
       "dst_bytes            19779.114421\n",
       "land                     0.000198\n",
       "wrong_fragment           0.022687\n",
       "                         ...     \n",
       "service_urp_i            0.004779\n",
       "service_uucp             0.006192\n",
       "service_uucp_path        0.005469\n",
       "service_vmnet            0.004898\n",
       "service_whois            0.005501\n",
       "Length: 122, dtype: float64"
      ]
     },
     "execution_count": 9,
     "metadata": {},
     "output_type": "execute_result"
    },
    {
     "name": "stdout",
     "output_type": "stream",
     "text": [
      "29525\n"
     ]
    }
   ],
   "source": [
    "np.mean(one_hot_data_maha)\n",
    "\n",
    "from scipy.stats import chi2\n",
    "one_hot_data_maha['p-value'] = 1 - chi2.cdf(mahal_dist, df = 121) #pdf(x, degreeOfFreedom = Number of Variables)\n",
    "\n",
    "#Calculate number of p-value less than 0.01\n",
    "print(np.count_nonzero(one_hot_data_maha['p-value'] < 0.01))"
   ]
  },
  {
   "cell_type": "code",
   "execution_count": 10,
   "id": "26c57c4f",
   "metadata": {},
   "outputs": [
    {
     "name": "stdout",
     "output_type": "stream",
     "text": [
      "Training accuracy: 0.5346\n",
      "[[67343     0]\n",
      " [58630     0]]\n"
     ]
    }
   ],
   "source": [
    "pvalue = one_hot_data_maha['p-value']\n",
    "\n",
    "pvalue = np.where(pvalue < 0.01, 1, pvalue)\n",
    "pvalue = np.where(pvalue >= 0.01, 0, pvalue)\n",
    "\n",
    "from sklearn.metrics import accuracy_score\n",
    "\n",
    "train_acc_maha = accuracy_score(kdd_train_y['class_binary'], pvalue)\n",
    "print(\"Training accuracy: {:.4f}\".format(train_acc_maha))\n",
    "cm_maha = confusion_matrix (kdd_train_y[\"class_binary\"], pvalue)\n",
    "print(cm_maha)"
   ]
  },
  {
   "cell_type": "code",
   "execution_count": null,
   "id": "7506c4f3",
   "metadata": {},
   "outputs": [],
   "source": []
  }
 ],
 "metadata": {
  "kernelspec": {
   "display_name": "Python 3 (ipykernel)",
   "language": "python",
   "name": "python3"
  },
  "language_info": {
   "codemirror_mode": {
    "name": "ipython",
    "version": 3
   },
   "file_extension": ".py",
   "mimetype": "text/x-python",
   "name": "python",
   "nbconvert_exporter": "python",
   "pygments_lexer": "ipython3",
   "version": "3.10.10"
  }
 },
 "nbformat": 4,
 "nbformat_minor": 5
}
