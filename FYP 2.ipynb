{
 "cells": [
  {
   "cell_type": "code",
   "execution_count": 1,
   "id": "148ebd61",
   "metadata": {},
   "outputs": [
    {
     "name": "stdout",
     "output_type": "stream",
     "text": [
      "sys.version_info(major=3, minor=10, micro=10, releaselevel='final', serial=0)\n",
      "1.1.1\n"
     ]
    },
    {
     "name": "stderr",
     "output_type": "stream",
     "text": [
      "C:\\Users\\khxia\\AppData\\Local\\Temp\\ipykernel_25452\\171469821.py:87: SettingWithCopyWarning: \n",
      "A value is trying to be set on a copy of a slice from a DataFrame.\n",
      "Try using .loc[row_indexer,col_indexer] = value instead\n",
      "\n",
      "See the caveats in the documentation: https://pandas.pydata.org/pandas-docs/stable/user_guide/indexing.html#returning-a-view-versus-a-copy\n",
      "  kdd_train_y[\"class_binary\"] = kdd_train_y[\"class\"].map(label_map)\n"
     ]
    }
   ],
   "source": [
    "# To show the python version\n",
    "import sys\n",
    "assert sys.version_info >= (3,8)\n",
    "print(sys.version_info)\n",
    "\n",
    "# to show all the output from a code chunk\n",
    "from IPython.core.interactiveshell import InteractiveShell\n",
    "InteractiveShell.ast_node_interactivity = \"all\"\n",
    "\n",
    "# matplotlib for plotting\n",
    "from matplotlib import pyplot as plt\n",
    "%matplotlib inline\n",
    "\n",
    "# Other external libraries like pandas and numpy\n",
    "import pandas as pd\n",
    "import numpy as np\n",
    "np.random.seed(999)\n",
    "\n",
    "# machine learning models\n",
    "import sklearn\n",
    "print(sklearn.__version__)\n",
    "\n",
    "#import others\n",
    "from sklearn.metrics import confusion_matrix\n",
    "from sklearn import model_selection, datasets\n",
    "from sklearn.tree import DecisionTreeClassifier\n",
    "import joblib\n",
    "import pickle\n",
    "import seaborn as sns\n",
    "\n",
    "from sklearn.model_selection import RandomizedSearchCV\n",
    "from sklearn.model_selection import GridSearchCV\n",
    "\n",
    "\n",
    "from scipy.io import arff\n",
    "# Load the arff file\n",
    "header_info = arff.loadarff(\"Dataset/KDDTrain+.arff\")\n",
    "df = pd.DataFrame(header_info[0])\n",
    "header_names = df.columns.values.tolist()\n",
    "header_names.append('Difficulty')\n",
    "kdd_train = pd.read_csv('Dataset/KDDTrain+.txt', delimiter = ',', header = None)\n",
    "\n",
    "#Rename the headers\n",
    "kdd_train.columns = header_names\n",
    "#Drop the target variables\n",
    "kdd_train_x = kdd_train.drop(['class', 'Difficulty'], axis = 1)\n",
    "y = ['class']\n",
    "kdd_train_y = kdd_train[y]\n",
    "\n",
    "#Identify categorical features\n",
    "num_cols = kdd_train_x._get_numeric_data().columns\n",
    "cate_cols = list(set(kdd_train_x.columns) - set(num_cols))\n",
    "\n",
    "#One-Hot Encoding the categorical features\n",
    "cate_features = pd.get_dummies(kdd_train_x[cate_cols], prefix = cate_cols)\n",
    "one_hot_data = kdd_train_x.drop(cate_cols, axis = 1)\n",
    "one_hot_data_maha = pd.concat([one_hot_data, cate_features], axis = 1)\n",
    "one_hot_data_if = one_hot_data_maha\n",
    "one_hot_data_if.head()\n",
    "one_hot_data_maha.head()\n",
    "data_array = np.array(one_hot_data_maha)\n",
    "data_array.shape    # Make sure that the Numpy array dimension is consistent with the Pandas Dataframe\n",
    "# function to calculate mahalanobis distance\n",
    "label_map = {\"normal\": 0,\n",
    "            \"neptune\": 1,\n",
    "            \"satan\": 1,\n",
    "            \"ipsweep\": 1,\n",
    "            \"portsweep\": 1,\n",
    "            \"smurf\": 1,\n",
    "            \"nmap\": 1,\n",
    "            \"back\": 1,\n",
    "            \"teardrop\": 1,\n",
    "            \"warezclient\": 1,\n",
    "            \"pod\": 1,\n",
    "            \"guess_passwd\": 1,\n",
    "            \"buffer_overflow\": 1,\n",
    "            \"warezmaster\": 1,\n",
    "            \"land\": 1,\n",
    "            \"imap\": 1,\n",
    "            \"rootkit\": 1,\n",
    "            \"loadmodule\": 1,\n",
    "            \"ftp_write\": 1,\n",
    "            \"multihop\": 1,\n",
    "            \"phf\": 1,\n",
    "            \"perl\": 1, \n",
    "            \"spy\": 1}\n",
    "kdd_train_y[\"class_binary\"] = kdd_train_y[\"class\"].map(label_map)"
   ]
  },
  {
   "cell_type": "markdown",
   "id": "37530f65",
   "metadata": {},
   "source": [
    "# MinCovDet "
   ]
  },
  {
   "cell_type": "code",
   "execution_count": 2,
   "id": "4312a0ba",
   "metadata": {},
   "outputs": [
    {
     "name": "stderr",
     "output_type": "stream",
     "text": [
      "C:\\WINDOWS\\system32\\myenv\\lib\\site-packages\\sklearn\\covariance\\_robust_covariance.py:738: UserWarning: The covariance matrix associated to your dataset is not full rank\n",
      "  warnings.warn(\n"
     ]
    }
   ],
   "source": [
    "from sklearn.covariance import MinCovDet\n",
    "from sklearn.datasets import make_gaussian_quantiles\n",
    "\n",
    "rng = np.random.RandomState(42)\n",
    "\n",
    "\n",
    "model = MinCovDet(random_state=42).fit(one_hot_data_maha)\n"
   ]
  },
  {
   "cell_type": "code",
   "execution_count": null,
   "id": "5d8cc8a9",
   "metadata": {},
   "outputs": [],
   "source": [
    "model.covariance_"
   ]
  },
  {
   "cell_type": "code",
   "execution_count": null,
   "id": "e2789527",
   "metadata": {},
   "outputs": [],
   "source": [
    "model.location_"
   ]
  },
  {
   "cell_type": "code",
   "execution_count": 23,
   "id": "93d60e0f",
   "metadata": {},
   "outputs": [],
   "source": [
    "import scipy as sp\n",
    "inv_cormat = sp.linalg.pinv(model.covariance_)\n",
    "mu_vect = model.location_"
   ]
  },
  {
   "cell_type": "code",
   "execution_count": 24,
   "id": "af1a5b27",
   "metadata": {},
   "outputs": [
    {
     "data": {
      "text/plain": [
       "(125973, 123)"
      ]
     },
     "execution_count": 24,
     "metadata": {},
     "output_type": "execute_result"
    }
   ],
   "source": [
    "one_hot_data_maha.shape"
   ]
  },
  {
   "cell_type": "code",
   "execution_count": 25,
   "id": "f14c3a32",
   "metadata": {},
   "outputs": [],
   "source": [
    "mahal_dist = []\n",
    "for i in range(data_array.shape[0]):\n",
    "    x_minus_mu = data_array[i,:] - mu_vect\n",
    "    left_term = np.dot(x_minus_mu, inv_cormat)\n",
    "    mahal = np.dot(left_term, x_minus_mu.T)\n",
    "    mahal = np.sqrt(mahal)\n",
    "    mahal_dist.append(mahal)"
   ]
  },
  {
   "cell_type": "code",
   "execution_count": 26,
   "id": "06d7a8d4",
   "metadata": {},
   "outputs": [
    {
     "data": {
      "text/plain": [
       "0         0.0\n",
       "1         0.0\n",
       "2         0.0\n",
       "3         0.0\n",
       "4         0.0\n",
       "         ... \n",
       "125968    0.0\n",
       "125969    0.0\n",
       "125970    0.0\n",
       "125971    0.0\n",
       "125972    0.0\n",
       "Name: p-value, Length: 125973, dtype: float64"
      ]
     },
     "execution_count": 26,
     "metadata": {},
     "output_type": "execute_result"
    }
   ],
   "source": [
    "one_hot_data_maha['p-value']"
   ]
  },
  {
   "cell_type": "code",
   "execution_count": 27,
   "id": "166effd1",
   "metadata": {},
   "outputs": [
    {
     "name": "stderr",
     "output_type": "stream",
     "text": [
      "C:\\WINDOWS\\system32\\myenv\\lib\\site-packages\\numpy\\core\\fromnumeric.py:3430: FutureWarning: In a future version, DataFrame.mean(axis=None) will return a scalar mean over the entire DataFrame. To retain the old behavior, use 'frame.mean(axis=0)' or just 'frame.mean()'\n",
      "  return mean(axis=axis, dtype=dtype, out=out, **kwargs)\n"
     ]
    },
    {
     "data": {
      "text/plain": [
       "duration             2.871447e+02\n",
       "src_bytes            4.556674e+04\n",
       "dst_bytes            1.977911e+04\n",
       "land                 1.984552e-04\n",
       "wrong_fragment       2.268740e-02\n",
       "                         ...     \n",
       "service_uucp         6.191803e-03\n",
       "service_uucp_path    5.469426e-03\n",
       "service_vmnet        4.897875e-03\n",
       "service_whois        5.501179e-03\n",
       "p-value              3.945954e-09\n",
       "Length: 123, dtype: float64"
      ]
     },
     "execution_count": 27,
     "metadata": {},
     "output_type": "execute_result"
    },
    {
     "name": "stdout",
     "output_type": "stream",
     "text": [
      "125973\n"
     ]
    }
   ],
   "source": [
    "np.mean(one_hot_data_maha)\n",
    "\n",
    "from scipy.stats import chi2\n",
    "one_hot_data_maha['p-value'] = 1 - chi2.cdf(mahal_dist, df = 121) #pdf(x, degreeOfFreedom = Number of Variables)\n",
    "\n",
    "#Calculate number of p-value less than 0.01\n",
    "print(np.count_nonzero(one_hot_data_maha['p-value'] < 0.01))"
   ]
  },
  {
   "cell_type": "code",
   "execution_count": 30,
   "id": "93451880",
   "metadata": {},
   "outputs": [
    {
     "name": "stdout",
     "output_type": "stream",
     "text": [
      "Training accuracy: 0.5346\n",
      "[[67343     0]\n",
      " [58630     0]]\n"
     ]
    }
   ],
   "source": [
    "pvalue = one_hot_data_maha['p-value']\n",
    "\n",
    "pvalue = np.where(pvalue < 0.01, 1, pvalue)\n",
    "pvalue = np.where(pvalue >= 0.01, 0, pvalue)\n",
    "\n",
    "from sklearn.metrics import accuracy_score\n",
    "\n",
    "train_acc_maha = accuracy_score(kdd_train_y['class_binary'], pvalue)\n",
    "print(\"Training accuracy: {:.4f}\".format(train_acc_maha))\n",
    "cm_maha = confusion_matrix (kdd_train_y[\"class_binary\"], pvalue)\n",
    "print(cm_maha)"
   ]
  },
  {
   "cell_type": "code",
   "execution_count": null,
   "id": "7f3cc699",
   "metadata": {},
   "outputs": [],
   "source": []
  },
  {
   "cell_type": "code",
   "execution_count": 10,
   "id": "bb0b9622",
   "metadata": {},
   "outputs": [
    {
     "ename": "ModuleNotFoundError",
     "evalue": "No module named 'pyod'",
     "output_type": "error",
     "traceback": [
      "\u001b[1;31m---------------------------------------------------------------------------\u001b[0m",
      "\u001b[1;31mModuleNotFoundError\u001b[0m                       Traceback (most recent call last)",
      "Input \u001b[1;32mIn [10]\u001b[0m, in \u001b[0;36m<cell line: 1>\u001b[1;34m()\u001b[0m\n\u001b[1;32m----> 1\u001b[0m \u001b[38;5;28;01mfrom\u001b[39;00m \u001b[38;5;21;01mpyod\u001b[39;00m\u001b[38;5;21;01m.\u001b[39;00m\u001b[38;5;21;01mmodels\u001b[39;00m\u001b[38;5;21;01m.\u001b[39;00m\u001b[38;5;21;01mmcd\u001b[39;00m \u001b[38;5;28;01mimport\u001b[39;00m MCD\n",
      "\u001b[1;31mModuleNotFoundError\u001b[0m: No module named 'pyod'"
     ]
    }
   ],
   "source": [
    "from pyod.models.mcd import MCD"
   ]
  },
  {
   "cell_type": "code",
   "execution_count": 13,
   "id": "f51daf39",
   "metadata": {},
   "outputs": [
    {
     "data": {
      "text/plain": [
       "array([4.00507835e+03, 5.20527854e+03, 9.42144079e+00, ...,\n",
       "       1.21507598e+05, 8.75733059e+00, 4.97681382e+02])"
      ]
     },
     "execution_count": 13,
     "metadata": {},
     "output_type": "execute_result"
    }
   ],
   "source": [
    "model.mahalanobis(one_hot_data)"
   ]
  },
  {
   "cell_type": "code",
   "execution_count": 16,
   "id": "4634dacd",
   "metadata": {},
   "outputs": [],
   "source": [
    "from scipy.stats import chi2\n",
    "one_hot_data['p-value'] = 1 - chi2.cdf(model.dist_,df = 121)"
   ]
  },
  {
   "cell_type": "code",
   "execution_count": 17,
   "id": "5f52d78e",
   "metadata": {},
   "outputs": [
    {
     "name": "stdout",
     "output_type": "stream",
     "text": [
      "Training accuracy: 0.5346\n",
      "[[67343     0]\n",
      " [58630     0]]\n"
     ]
    }
   ],
   "source": [
    "pvalue = one_hot_data['p-value']\n",
    "\n",
    "pvalue = np.where(pvalue < 0.01, 1, pvalue)\n",
    "pvalue = np.where(pvalue >= 0.01, 0, pvalue)\n",
    "\n",
    "from sklearn.metrics import accuracy_score\n",
    "train_acc_mcd = accuracy_score(kdd_train_y['class_binary'], pvalue)\n",
    "print(\"Training accuracy: {:.4f}\".format(train_acc_mcd))\n",
    "cm_mcd = confusion_matrix (kdd_train_y[\"class_binary\"], pvalue)\n",
    "print(cm_mcd)"
   ]
  },
  {
   "cell_type": "code",
   "execution_count": null,
   "id": "ab0bd4f2",
   "metadata": {},
   "outputs": [],
   "source": []
  }
 ],
 "metadata": {
  "kernelspec": {
   "display_name": "Python 3 (ipykernel)",
   "language": "python",
   "name": "python3"
  },
  "language_info": {
   "codemirror_mode": {
    "name": "ipython",
    "version": 3
   },
   "file_extension": ".py",
   "mimetype": "text/x-python",
   "name": "python",
   "nbconvert_exporter": "python",
   "pygments_lexer": "ipython3",
   "version": "3.10.10"
  }
 },
 "nbformat": 4,
 "nbformat_minor": 5
}
