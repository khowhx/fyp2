{
 "cells": [
  {
   "cell_type": "markdown",
   "id": "51687942",
   "metadata": {},
   "source": [
    "# Import Dataset"
   ]
  },
  {
   "cell_type": "code",
   "execution_count": 222,
   "id": "9212e32b",
   "metadata": {},
   "outputs": [
    {
     "name": "stdout",
     "output_type": "stream",
     "text": [
      "sys.version_info(major=3, minor=10, micro=11, releaselevel='final', serial=0)\n",
      "1.1.1\n"
     ]
    }
   ],
   "source": [
    "# To show the python version\n",
    "import sys\n",
    "assert sys.version_info >= (3,8)\n",
    "print(sys.version_info)\n",
    "\n",
    "# to show all the output from a code chunk\n",
    "from IPython.core.interactiveshell import InteractiveShell\n",
    "InteractiveShell.ast_node_interactivity = \"all\"\n",
    "\n",
    "# matplotlib for plotting\n",
    "from matplotlib import pyplot as plt\n",
    "%matplotlib inline\n",
    "\n",
    "# Other external libraries like pandas and numpy\n",
    "import pandas as pd\n",
    "import numpy as np\n",
    "np.random.seed(999)\n",
    "\n",
    "# machine learning models\n",
    "import sklearn\n",
    "print(sklearn.__version__)\n",
    "\n",
    "#import others\n",
    "from sklearn.metrics import confusion_matrix\n",
    "from sklearn import model_selection, datasets\n",
    "from sklearn.tree import DecisionTreeClassifier\n",
    "import joblib\n",
    "import pickle\n",
    "import seaborn as sns\n",
    "\n",
    "from sklearn.model_selection import RandomizedSearchCV\n",
    "from sklearn.model_selection import GridSearchCV"
   ]
  },
  {
   "cell_type": "code",
   "execution_count": 223,
   "id": "78673a3b",
   "metadata": {},
   "outputs": [],
   "source": [
    "from scipy.io import arff\n",
    "# Load the arff file\n",
    "header_info = arff.loadarff(\"Dataset/KDDTrain+.arff\")\n",
    "df = pd.DataFrame(header_info[0])\n",
    "header_names = df.columns.values.tolist()\n",
    "header_names.append('Difficulty')\n",
    "kdd_train = pd.read_csv('Dataset/KDDTrain+.txt', delimiter = ',', header = None)"
   ]
  },
  {
   "cell_type": "code",
   "execution_count": 224,
   "id": "91efb542",
   "metadata": {},
   "outputs": [],
   "source": [
    "#Rename the headers\n",
    "kdd_train.columns = header_names\n",
    "#Drop the target variables\n",
    "kdd_train_x = kdd_train.drop(['class', 'Difficulty'], axis = 1)"
   ]
  },
  {
   "cell_type": "code",
   "execution_count": 225,
   "id": "316e9ca6",
   "metadata": {},
   "outputs": [
    {
     "data": {
      "text/plain": [
       "(125973, 121)"
      ]
     },
     "execution_count": 225,
     "metadata": {},
     "output_type": "execute_result"
    }
   ],
   "source": [
    "kdd_train_x = kdd_train_x.drop(['num_outbound_cmds'],axis =1)\n",
    "y = ['class']\n",
    "kdd_train_y = kdd_train[y]\n",
    "\n",
    "#Identify categorical features\n",
    "num_cols = kdd_train_x._get_numeric_data().columns\n",
    "cate_cols = list(set(kdd_train_x.columns) - set(num_cols))\n",
    "\n",
    "from sklearn.preprocessing import StandardScaler\n",
    "std = StandardScaler()\n",
    "\n",
    "#One-Hot Encoding the categorical features\n",
    "cate_features = pd.get_dummies(kdd_train_x[cate_cols], prefix = cate_cols)\n",
    "one_hot_data = kdd_train_x.drop(cate_cols, axis = 1)\n",
    "#Standard Scaler on numeric data\n",
    "std_fit = std.fit(one_hot_data)\n",
    "array_ss = std_fit.transform(one_hot_data)\n",
    "one_hot_data_c = pd.DataFrame(array_ss,columns=[num_cols])\n",
    "one_hot_data_ss = pd.concat([one_hot_data_c, cate_features], axis = 1)\n",
    "data_array_ss = np.array(one_hot_data_ss)\n",
    "data_array_ss.shape    # Make sure that the Numpy array dimension is consistent with the Pandas Dataframe\n",
    "# function to calculate mahalanobis distance"
   ]
  },
  {
   "cell_type": "code",
   "execution_count": 226,
   "id": "e22a9270",
   "metadata": {},
   "outputs": [
    {
     "data": {
      "text/html": [
       "<div>\n",
       "<style scoped>\n",
       "    .dataframe tbody tr th:only-of-type {\n",
       "        vertical-align: middle;\n",
       "    }\n",
       "\n",
       "    .dataframe tbody tr th {\n",
       "        vertical-align: top;\n",
       "    }\n",
       "\n",
       "    .dataframe thead tr th {\n",
       "        text-align: left;\n",
       "    }\n",
       "</style>\n",
       "<table border=\"1\" class=\"dataframe\">\n",
       "  <thead>\n",
       "    <tr>\n",
       "      <th></th>\n",
       "      <th>duration</th>\n",
       "      <th>src_bytes</th>\n",
       "      <th>dst_bytes</th>\n",
       "      <th>land</th>\n",
       "      <th>wrong_fragment</th>\n",
       "      <th>urgent</th>\n",
       "      <th>hot</th>\n",
       "      <th>num_failed_logins</th>\n",
       "      <th>logged_in</th>\n",
       "      <th>num_compromised</th>\n",
       "      <th>...</th>\n",
       "      <th>dst_host_count</th>\n",
       "      <th>dst_host_srv_count</th>\n",
       "      <th>dst_host_same_srv_rate</th>\n",
       "      <th>dst_host_diff_srv_rate</th>\n",
       "      <th>dst_host_same_src_port_rate</th>\n",
       "      <th>dst_host_srv_diff_host_rate</th>\n",
       "      <th>dst_host_serror_rate</th>\n",
       "      <th>dst_host_srv_serror_rate</th>\n",
       "      <th>dst_host_rerror_rate</th>\n",
       "      <th>dst_host_srv_rerror_rate</th>\n",
       "    </tr>\n",
       "  </thead>\n",
       "  <tbody>\n",
       "    <tr>\n",
       "      <th>0</th>\n",
       "      <td>-0.110249</td>\n",
       "      <td>-0.007679</td>\n",
       "      <td>-0.004919</td>\n",
       "      <td>-0.014089</td>\n",
       "      <td>-0.089486</td>\n",
       "      <td>-0.007736</td>\n",
       "      <td>-0.095076</td>\n",
       "      <td>-0.027023</td>\n",
       "      <td>-0.809262</td>\n",
       "      <td>-0.011664</td>\n",
       "      <td>...</td>\n",
       "      <td>-0.324063</td>\n",
       "      <td>-0.818890</td>\n",
       "      <td>-0.782367</td>\n",
       "      <td>-0.280282</td>\n",
       "      <td>0.069972</td>\n",
       "      <td>-0.289103</td>\n",
       "      <td>-0.639532</td>\n",
       "      <td>-0.624871</td>\n",
       "      <td>-0.224532</td>\n",
       "      <td>-0.376387</td>\n",
       "    </tr>\n",
       "    <tr>\n",
       "      <th>1</th>\n",
       "      <td>-0.110249</td>\n",
       "      <td>-0.007737</td>\n",
       "      <td>-0.004919</td>\n",
       "      <td>-0.014089</td>\n",
       "      <td>-0.089486</td>\n",
       "      <td>-0.007736</td>\n",
       "      <td>-0.095076</td>\n",
       "      <td>-0.027023</td>\n",
       "      <td>-0.809262</td>\n",
       "      <td>-0.011664</td>\n",
       "      <td>...</td>\n",
       "      <td>0.734343</td>\n",
       "      <td>-1.035688</td>\n",
       "      <td>-1.161030</td>\n",
       "      <td>2.736852</td>\n",
       "      <td>2.367737</td>\n",
       "      <td>-0.289103</td>\n",
       "      <td>-0.639532</td>\n",
       "      <td>-0.624871</td>\n",
       "      <td>-0.387635</td>\n",
       "      <td>-0.376387</td>\n",
       "    </tr>\n",
       "    <tr>\n",
       "      <th>2</th>\n",
       "      <td>-0.110249</td>\n",
       "      <td>-0.007762</td>\n",
       "      <td>-0.004919</td>\n",
       "      <td>-0.014089</td>\n",
       "      <td>-0.089486</td>\n",
       "      <td>-0.007736</td>\n",
       "      <td>-0.095076</td>\n",
       "      <td>-0.027023</td>\n",
       "      <td>-0.809262</td>\n",
       "      <td>-0.011664</td>\n",
       "      <td>...</td>\n",
       "      <td>0.734343</td>\n",
       "      <td>-0.809857</td>\n",
       "      <td>-0.938287</td>\n",
       "      <td>-0.174417</td>\n",
       "      <td>-0.480197</td>\n",
       "      <td>-0.289103</td>\n",
       "      <td>1.608759</td>\n",
       "      <td>1.618955</td>\n",
       "      <td>-0.387635</td>\n",
       "      <td>-0.376387</td>\n",
       "    </tr>\n",
       "    <tr>\n",
       "      <th>3</th>\n",
       "      <td>-0.110249</td>\n",
       "      <td>-0.007723</td>\n",
       "      <td>-0.002891</td>\n",
       "      <td>-0.014089</td>\n",
       "      <td>-0.089486</td>\n",
       "      <td>-0.007736</td>\n",
       "      <td>-0.095076</td>\n",
       "      <td>-0.027023</td>\n",
       "      <td>1.235694</td>\n",
       "      <td>-0.011664</td>\n",
       "      <td>...</td>\n",
       "      <td>-1.533670</td>\n",
       "      <td>1.258754</td>\n",
       "      <td>1.066401</td>\n",
       "      <td>-0.439078</td>\n",
       "      <td>-0.383108</td>\n",
       "      <td>0.066252</td>\n",
       "      <td>-0.572083</td>\n",
       "      <td>-0.602433</td>\n",
       "      <td>-0.387635</td>\n",
       "      <td>-0.345084</td>\n",
       "    </tr>\n",
       "    <tr>\n",
       "      <th>4</th>\n",
       "      <td>-0.110249</td>\n",
       "      <td>-0.007728</td>\n",
       "      <td>-0.004814</td>\n",
       "      <td>-0.014089</td>\n",
       "      <td>-0.089486</td>\n",
       "      <td>-0.007736</td>\n",
       "      <td>-0.095076</td>\n",
       "      <td>-0.027023</td>\n",
       "      <td>1.235694</td>\n",
       "      <td>-0.011664</td>\n",
       "      <td>...</td>\n",
       "      <td>0.734343</td>\n",
       "      <td>1.258754</td>\n",
       "      <td>1.066401</td>\n",
       "      <td>-0.439078</td>\n",
       "      <td>-0.480197</td>\n",
       "      <td>-0.289103</td>\n",
       "      <td>-0.639532</td>\n",
       "      <td>-0.624871</td>\n",
       "      <td>-0.387635</td>\n",
       "      <td>-0.376387</td>\n",
       "    </tr>\n",
       "    <tr>\n",
       "      <th>...</th>\n",
       "      <td>...</td>\n",
       "      <td>...</td>\n",
       "      <td>...</td>\n",
       "      <td>...</td>\n",
       "      <td>...</td>\n",
       "      <td>...</td>\n",
       "      <td>...</td>\n",
       "      <td>...</td>\n",
       "      <td>...</td>\n",
       "      <td>...</td>\n",
       "      <td>...</td>\n",
       "      <td>...</td>\n",
       "      <td>...</td>\n",
       "      <td>...</td>\n",
       "      <td>...</td>\n",
       "      <td>...</td>\n",
       "      <td>...</td>\n",
       "      <td>...</td>\n",
       "      <td>...</td>\n",
       "      <td>...</td>\n",
       "      <td>...</td>\n",
       "    </tr>\n",
       "    <tr>\n",
       "      <th>125968</th>\n",
       "      <td>-0.110249</td>\n",
       "      <td>-0.007762</td>\n",
       "      <td>-0.004919</td>\n",
       "      <td>-0.014089</td>\n",
       "      <td>-0.089486</td>\n",
       "      <td>-0.007736</td>\n",
       "      <td>-0.095076</td>\n",
       "      <td>-0.027023</td>\n",
       "      <td>-0.809262</td>\n",
       "      <td>-0.011664</td>\n",
       "      <td>...</td>\n",
       "      <td>0.734343</td>\n",
       "      <td>-0.818890</td>\n",
       "      <td>-0.938287</td>\n",
       "      <td>-0.121485</td>\n",
       "      <td>-0.480197</td>\n",
       "      <td>-0.289103</td>\n",
       "      <td>1.608759</td>\n",
       "      <td>1.618955</td>\n",
       "      <td>-0.387635</td>\n",
       "      <td>-0.376387</td>\n",
       "    </tr>\n",
       "    <tr>\n",
       "      <th>125969</th>\n",
       "      <td>-0.107178</td>\n",
       "      <td>-0.007744</td>\n",
       "      <td>-0.004883</td>\n",
       "      <td>-0.014089</td>\n",
       "      <td>-0.089486</td>\n",
       "      <td>-0.007736</td>\n",
       "      <td>-0.095076</td>\n",
       "      <td>-0.027023</td>\n",
       "      <td>-0.809262</td>\n",
       "      <td>-0.011664</td>\n",
       "      <td>...</td>\n",
       "      <td>0.734343</td>\n",
       "      <td>1.159389</td>\n",
       "      <td>0.977304</td>\n",
       "      <td>-0.386146</td>\n",
       "      <td>-0.447834</td>\n",
       "      <td>-0.289103</td>\n",
       "      <td>-0.639532</td>\n",
       "      <td>-0.624871</td>\n",
       "      <td>-0.387635</td>\n",
       "      <td>-0.376387</td>\n",
       "    </tr>\n",
       "    <tr>\n",
       "      <th>125970</th>\n",
       "      <td>-0.110249</td>\n",
       "      <td>-0.007382</td>\n",
       "      <td>-0.004823</td>\n",
       "      <td>-0.014089</td>\n",
       "      <td>-0.089486</td>\n",
       "      <td>-0.007736</td>\n",
       "      <td>-0.095076</td>\n",
       "      <td>-0.027023</td>\n",
       "      <td>1.235694</td>\n",
       "      <td>-0.011664</td>\n",
       "      <td>...</td>\n",
       "      <td>0.734343</td>\n",
       "      <td>-0.773724</td>\n",
       "      <td>-0.893738</td>\n",
       "      <td>-0.121485</td>\n",
       "      <td>-0.480197</td>\n",
       "      <td>-0.289103</td>\n",
       "      <td>0.979238</td>\n",
       "      <td>-0.624871</td>\n",
       "      <td>-0.355014</td>\n",
       "      <td>-0.376387</td>\n",
       "    </tr>\n",
       "    <tr>\n",
       "      <th>125971</th>\n",
       "      <td>-0.110249</td>\n",
       "      <td>-0.007762</td>\n",
       "      <td>-0.004919</td>\n",
       "      <td>-0.014089</td>\n",
       "      <td>-0.089486</td>\n",
       "      <td>-0.007736</td>\n",
       "      <td>-0.095076</td>\n",
       "      <td>-0.027023</td>\n",
       "      <td>-0.809262</td>\n",
       "      <td>-0.011664</td>\n",
       "      <td>...</td>\n",
       "      <td>0.734343</td>\n",
       "      <td>-0.972455</td>\n",
       "      <td>-1.094207</td>\n",
       "      <td>-0.174417</td>\n",
       "      <td>-0.480197</td>\n",
       "      <td>-0.289103</td>\n",
       "      <td>1.608759</td>\n",
       "      <td>1.618955</td>\n",
       "      <td>-0.387635</td>\n",
       "      <td>-0.376387</td>\n",
       "    </tr>\n",
       "    <tr>\n",
       "      <th>125972</th>\n",
       "      <td>-0.110249</td>\n",
       "      <td>-0.007737</td>\n",
       "      <td>-0.004919</td>\n",
       "      <td>-0.014089</td>\n",
       "      <td>-0.089486</td>\n",
       "      <td>-0.007736</td>\n",
       "      <td>-0.095076</td>\n",
       "      <td>-0.027023</td>\n",
       "      <td>1.235694</td>\n",
       "      <td>-0.011664</td>\n",
       "      <td>...</td>\n",
       "      <td>0.734343</td>\n",
       "      <td>-0.349162</td>\n",
       "      <td>-0.492801</td>\n",
       "      <td>-0.280282</td>\n",
       "      <td>0.490690</td>\n",
       "      <td>-0.289103</td>\n",
       "      <td>-0.639532</td>\n",
       "      <td>-0.624871</td>\n",
       "      <td>-0.387635</td>\n",
       "      <td>-0.376387</td>\n",
       "    </tr>\n",
       "  </tbody>\n",
       "</table>\n",
       "<p>125973 rows × 37 columns</p>\n",
       "</div>"
      ],
      "text/plain": [
       "        duration src_bytes dst_bytes      land wrong_fragment    urgent  \\\n",
       "0      -0.110249 -0.007679 -0.004919 -0.014089      -0.089486 -0.007736   \n",
       "1      -0.110249 -0.007737 -0.004919 -0.014089      -0.089486 -0.007736   \n",
       "2      -0.110249 -0.007762 -0.004919 -0.014089      -0.089486 -0.007736   \n",
       "3      -0.110249 -0.007723 -0.002891 -0.014089      -0.089486 -0.007736   \n",
       "4      -0.110249 -0.007728 -0.004814 -0.014089      -0.089486 -0.007736   \n",
       "...          ...       ...       ...       ...            ...       ...   \n",
       "125968 -0.110249 -0.007762 -0.004919 -0.014089      -0.089486 -0.007736   \n",
       "125969 -0.107178 -0.007744 -0.004883 -0.014089      -0.089486 -0.007736   \n",
       "125970 -0.110249 -0.007382 -0.004823 -0.014089      -0.089486 -0.007736   \n",
       "125971 -0.110249 -0.007762 -0.004919 -0.014089      -0.089486 -0.007736   \n",
       "125972 -0.110249 -0.007737 -0.004919 -0.014089      -0.089486 -0.007736   \n",
       "\n",
       "             hot num_failed_logins logged_in num_compromised  ...  \\\n",
       "0      -0.095076         -0.027023 -0.809262       -0.011664  ...   \n",
       "1      -0.095076         -0.027023 -0.809262       -0.011664  ...   \n",
       "2      -0.095076         -0.027023 -0.809262       -0.011664  ...   \n",
       "3      -0.095076         -0.027023  1.235694       -0.011664  ...   \n",
       "4      -0.095076         -0.027023  1.235694       -0.011664  ...   \n",
       "...          ...               ...       ...             ...  ...   \n",
       "125968 -0.095076         -0.027023 -0.809262       -0.011664  ...   \n",
       "125969 -0.095076         -0.027023 -0.809262       -0.011664  ...   \n",
       "125970 -0.095076         -0.027023  1.235694       -0.011664  ...   \n",
       "125971 -0.095076         -0.027023 -0.809262       -0.011664  ...   \n",
       "125972 -0.095076         -0.027023  1.235694       -0.011664  ...   \n",
       "\n",
       "       dst_host_count dst_host_srv_count dst_host_same_srv_rate  \\\n",
       "0           -0.324063          -0.818890              -0.782367   \n",
       "1            0.734343          -1.035688              -1.161030   \n",
       "2            0.734343          -0.809857              -0.938287   \n",
       "3           -1.533670           1.258754               1.066401   \n",
       "4            0.734343           1.258754               1.066401   \n",
       "...               ...                ...                    ...   \n",
       "125968       0.734343          -0.818890              -0.938287   \n",
       "125969       0.734343           1.159389               0.977304   \n",
       "125970       0.734343          -0.773724              -0.893738   \n",
       "125971       0.734343          -0.972455              -1.094207   \n",
       "125972       0.734343          -0.349162              -0.492801   \n",
       "\n",
       "       dst_host_diff_srv_rate dst_host_same_src_port_rate  \\\n",
       "0                   -0.280282                    0.069972   \n",
       "1                    2.736852                    2.367737   \n",
       "2                   -0.174417                   -0.480197   \n",
       "3                   -0.439078                   -0.383108   \n",
       "4                   -0.439078                   -0.480197   \n",
       "...                       ...                         ...   \n",
       "125968              -0.121485                   -0.480197   \n",
       "125969              -0.386146                   -0.447834   \n",
       "125970              -0.121485                   -0.480197   \n",
       "125971              -0.174417                   -0.480197   \n",
       "125972              -0.280282                    0.490690   \n",
       "\n",
       "       dst_host_srv_diff_host_rate dst_host_serror_rate  \\\n",
       "0                        -0.289103            -0.639532   \n",
       "1                        -0.289103            -0.639532   \n",
       "2                        -0.289103             1.608759   \n",
       "3                         0.066252            -0.572083   \n",
       "4                        -0.289103            -0.639532   \n",
       "...                            ...                  ...   \n",
       "125968                   -0.289103             1.608759   \n",
       "125969                   -0.289103            -0.639532   \n",
       "125970                   -0.289103             0.979238   \n",
       "125971                   -0.289103             1.608759   \n",
       "125972                   -0.289103            -0.639532   \n",
       "\n",
       "       dst_host_srv_serror_rate dst_host_rerror_rate dst_host_srv_rerror_rate  \n",
       "0                     -0.624871            -0.224532                -0.376387  \n",
       "1                     -0.624871            -0.387635                -0.376387  \n",
       "2                      1.618955            -0.387635                -0.376387  \n",
       "3                     -0.602433            -0.387635                -0.345084  \n",
       "4                     -0.624871            -0.387635                -0.376387  \n",
       "...                         ...                  ...                      ...  \n",
       "125968                 1.618955            -0.387635                -0.376387  \n",
       "125969                -0.624871            -0.387635                -0.376387  \n",
       "125970                -0.624871            -0.355014                -0.376387  \n",
       "125971                 1.618955            -0.387635                -0.376387  \n",
       "125972                -0.624871            -0.387635                -0.376387  \n",
       "\n",
       "[125973 rows x 37 columns]"
      ]
     },
     "execution_count": 226,
     "metadata": {},
     "output_type": "execute_result"
    }
   ],
   "source": [
    "one_hot_data_c"
   ]
  },
  {
   "cell_type": "code",
   "execution_count": 227,
   "id": "68af4cf1",
   "metadata": {},
   "outputs": [
    {
     "data": {
      "text/html": [
       "<div>\n",
       "<style scoped>\n",
       "    .dataframe tbody tr th:only-of-type {\n",
       "        vertical-align: middle;\n",
       "    }\n",
       "\n",
       "    .dataframe tbody tr th {\n",
       "        vertical-align: top;\n",
       "    }\n",
       "\n",
       "    .dataframe thead th {\n",
       "        text-align: right;\n",
       "    }\n",
       "</style>\n",
       "<table border=\"1\" class=\"dataframe\">\n",
       "  <thead>\n",
       "    <tr style=\"text-align: right;\">\n",
       "      <th></th>\n",
       "      <th>(duration,)</th>\n",
       "      <th>(src_bytes,)</th>\n",
       "      <th>(dst_bytes,)</th>\n",
       "      <th>(land,)</th>\n",
       "      <th>(wrong_fragment,)</th>\n",
       "      <th>(urgent,)</th>\n",
       "      <th>(hot,)</th>\n",
       "      <th>(num_failed_logins,)</th>\n",
       "      <th>(logged_in,)</th>\n",
       "      <th>(num_compromised,)</th>\n",
       "      <th>...</th>\n",
       "      <th>flag_RSTR</th>\n",
       "      <th>flag_S0</th>\n",
       "      <th>flag_S1</th>\n",
       "      <th>flag_S2</th>\n",
       "      <th>flag_S3</th>\n",
       "      <th>flag_SF</th>\n",
       "      <th>flag_SH</th>\n",
       "      <th>protocol_type_icmp</th>\n",
       "      <th>protocol_type_tcp</th>\n",
       "      <th>protocol_type_udp</th>\n",
       "    </tr>\n",
       "  </thead>\n",
       "  <tbody>\n",
       "    <tr>\n",
       "      <th>0</th>\n",
       "      <td>-0.110249</td>\n",
       "      <td>-0.007679</td>\n",
       "      <td>-0.004919</td>\n",
       "      <td>-0.014089</td>\n",
       "      <td>-0.089486</td>\n",
       "      <td>-0.007736</td>\n",
       "      <td>-0.095076</td>\n",
       "      <td>-0.027023</td>\n",
       "      <td>-0.809262</td>\n",
       "      <td>-0.011664</td>\n",
       "      <td>...</td>\n",
       "      <td>0</td>\n",
       "      <td>0</td>\n",
       "      <td>0</td>\n",
       "      <td>0</td>\n",
       "      <td>0</td>\n",
       "      <td>1</td>\n",
       "      <td>0</td>\n",
       "      <td>0</td>\n",
       "      <td>1</td>\n",
       "      <td>0</td>\n",
       "    </tr>\n",
       "    <tr>\n",
       "      <th>1</th>\n",
       "      <td>-0.110249</td>\n",
       "      <td>-0.007737</td>\n",
       "      <td>-0.004919</td>\n",
       "      <td>-0.014089</td>\n",
       "      <td>-0.089486</td>\n",
       "      <td>-0.007736</td>\n",
       "      <td>-0.095076</td>\n",
       "      <td>-0.027023</td>\n",
       "      <td>-0.809262</td>\n",
       "      <td>-0.011664</td>\n",
       "      <td>...</td>\n",
       "      <td>0</td>\n",
       "      <td>0</td>\n",
       "      <td>0</td>\n",
       "      <td>0</td>\n",
       "      <td>0</td>\n",
       "      <td>1</td>\n",
       "      <td>0</td>\n",
       "      <td>0</td>\n",
       "      <td>0</td>\n",
       "      <td>1</td>\n",
       "    </tr>\n",
       "    <tr>\n",
       "      <th>2</th>\n",
       "      <td>-0.110249</td>\n",
       "      <td>-0.007762</td>\n",
       "      <td>-0.004919</td>\n",
       "      <td>-0.014089</td>\n",
       "      <td>-0.089486</td>\n",
       "      <td>-0.007736</td>\n",
       "      <td>-0.095076</td>\n",
       "      <td>-0.027023</td>\n",
       "      <td>-0.809262</td>\n",
       "      <td>-0.011664</td>\n",
       "      <td>...</td>\n",
       "      <td>0</td>\n",
       "      <td>1</td>\n",
       "      <td>0</td>\n",
       "      <td>0</td>\n",
       "      <td>0</td>\n",
       "      <td>0</td>\n",
       "      <td>0</td>\n",
       "      <td>0</td>\n",
       "      <td>1</td>\n",
       "      <td>0</td>\n",
       "    </tr>\n",
       "    <tr>\n",
       "      <th>3</th>\n",
       "      <td>-0.110249</td>\n",
       "      <td>-0.007723</td>\n",
       "      <td>-0.002891</td>\n",
       "      <td>-0.014089</td>\n",
       "      <td>-0.089486</td>\n",
       "      <td>-0.007736</td>\n",
       "      <td>-0.095076</td>\n",
       "      <td>-0.027023</td>\n",
       "      <td>1.235694</td>\n",
       "      <td>-0.011664</td>\n",
       "      <td>...</td>\n",
       "      <td>0</td>\n",
       "      <td>0</td>\n",
       "      <td>0</td>\n",
       "      <td>0</td>\n",
       "      <td>0</td>\n",
       "      <td>1</td>\n",
       "      <td>0</td>\n",
       "      <td>0</td>\n",
       "      <td>1</td>\n",
       "      <td>0</td>\n",
       "    </tr>\n",
       "    <tr>\n",
       "      <th>4</th>\n",
       "      <td>-0.110249</td>\n",
       "      <td>-0.007728</td>\n",
       "      <td>-0.004814</td>\n",
       "      <td>-0.014089</td>\n",
       "      <td>-0.089486</td>\n",
       "      <td>-0.007736</td>\n",
       "      <td>-0.095076</td>\n",
       "      <td>-0.027023</td>\n",
       "      <td>1.235694</td>\n",
       "      <td>-0.011664</td>\n",
       "      <td>...</td>\n",
       "      <td>0</td>\n",
       "      <td>0</td>\n",
       "      <td>0</td>\n",
       "      <td>0</td>\n",
       "      <td>0</td>\n",
       "      <td>1</td>\n",
       "      <td>0</td>\n",
       "      <td>0</td>\n",
       "      <td>1</td>\n",
       "      <td>0</td>\n",
       "    </tr>\n",
       "    <tr>\n",
       "      <th>...</th>\n",
       "      <td>...</td>\n",
       "      <td>...</td>\n",
       "      <td>...</td>\n",
       "      <td>...</td>\n",
       "      <td>...</td>\n",
       "      <td>...</td>\n",
       "      <td>...</td>\n",
       "      <td>...</td>\n",
       "      <td>...</td>\n",
       "      <td>...</td>\n",
       "      <td>...</td>\n",
       "      <td>...</td>\n",
       "      <td>...</td>\n",
       "      <td>...</td>\n",
       "      <td>...</td>\n",
       "      <td>...</td>\n",
       "      <td>...</td>\n",
       "      <td>...</td>\n",
       "      <td>...</td>\n",
       "      <td>...</td>\n",
       "      <td>...</td>\n",
       "    </tr>\n",
       "    <tr>\n",
       "      <th>125968</th>\n",
       "      <td>-0.110249</td>\n",
       "      <td>-0.007762</td>\n",
       "      <td>-0.004919</td>\n",
       "      <td>-0.014089</td>\n",
       "      <td>-0.089486</td>\n",
       "      <td>-0.007736</td>\n",
       "      <td>-0.095076</td>\n",
       "      <td>-0.027023</td>\n",
       "      <td>-0.809262</td>\n",
       "      <td>-0.011664</td>\n",
       "      <td>...</td>\n",
       "      <td>0</td>\n",
       "      <td>1</td>\n",
       "      <td>0</td>\n",
       "      <td>0</td>\n",
       "      <td>0</td>\n",
       "      <td>0</td>\n",
       "      <td>0</td>\n",
       "      <td>0</td>\n",
       "      <td>1</td>\n",
       "      <td>0</td>\n",
       "    </tr>\n",
       "    <tr>\n",
       "      <th>125969</th>\n",
       "      <td>-0.107178</td>\n",
       "      <td>-0.007744</td>\n",
       "      <td>-0.004883</td>\n",
       "      <td>-0.014089</td>\n",
       "      <td>-0.089486</td>\n",
       "      <td>-0.007736</td>\n",
       "      <td>-0.095076</td>\n",
       "      <td>-0.027023</td>\n",
       "      <td>-0.809262</td>\n",
       "      <td>-0.011664</td>\n",
       "      <td>...</td>\n",
       "      <td>0</td>\n",
       "      <td>0</td>\n",
       "      <td>0</td>\n",
       "      <td>0</td>\n",
       "      <td>0</td>\n",
       "      <td>1</td>\n",
       "      <td>0</td>\n",
       "      <td>0</td>\n",
       "      <td>0</td>\n",
       "      <td>1</td>\n",
       "    </tr>\n",
       "    <tr>\n",
       "      <th>125970</th>\n",
       "      <td>-0.110249</td>\n",
       "      <td>-0.007382</td>\n",
       "      <td>-0.004823</td>\n",
       "      <td>-0.014089</td>\n",
       "      <td>-0.089486</td>\n",
       "      <td>-0.007736</td>\n",
       "      <td>-0.095076</td>\n",
       "      <td>-0.027023</td>\n",
       "      <td>1.235694</td>\n",
       "      <td>-0.011664</td>\n",
       "      <td>...</td>\n",
       "      <td>0</td>\n",
       "      <td>0</td>\n",
       "      <td>0</td>\n",
       "      <td>0</td>\n",
       "      <td>0</td>\n",
       "      <td>1</td>\n",
       "      <td>0</td>\n",
       "      <td>0</td>\n",
       "      <td>1</td>\n",
       "      <td>0</td>\n",
       "    </tr>\n",
       "    <tr>\n",
       "      <th>125971</th>\n",
       "      <td>-0.110249</td>\n",
       "      <td>-0.007762</td>\n",
       "      <td>-0.004919</td>\n",
       "      <td>-0.014089</td>\n",
       "      <td>-0.089486</td>\n",
       "      <td>-0.007736</td>\n",
       "      <td>-0.095076</td>\n",
       "      <td>-0.027023</td>\n",
       "      <td>-0.809262</td>\n",
       "      <td>-0.011664</td>\n",
       "      <td>...</td>\n",
       "      <td>0</td>\n",
       "      <td>1</td>\n",
       "      <td>0</td>\n",
       "      <td>0</td>\n",
       "      <td>0</td>\n",
       "      <td>0</td>\n",
       "      <td>0</td>\n",
       "      <td>0</td>\n",
       "      <td>1</td>\n",
       "      <td>0</td>\n",
       "    </tr>\n",
       "    <tr>\n",
       "      <th>125972</th>\n",
       "      <td>-0.110249</td>\n",
       "      <td>-0.007737</td>\n",
       "      <td>-0.004919</td>\n",
       "      <td>-0.014089</td>\n",
       "      <td>-0.089486</td>\n",
       "      <td>-0.007736</td>\n",
       "      <td>-0.095076</td>\n",
       "      <td>-0.027023</td>\n",
       "      <td>1.235694</td>\n",
       "      <td>-0.011664</td>\n",
       "      <td>...</td>\n",
       "      <td>0</td>\n",
       "      <td>0</td>\n",
       "      <td>0</td>\n",
       "      <td>0</td>\n",
       "      <td>0</td>\n",
       "      <td>1</td>\n",
       "      <td>0</td>\n",
       "      <td>0</td>\n",
       "      <td>1</td>\n",
       "      <td>0</td>\n",
       "    </tr>\n",
       "  </tbody>\n",
       "</table>\n",
       "<p>125973 rows × 121 columns</p>\n",
       "</div>"
      ],
      "text/plain": [
       "        (duration,)  (src_bytes,)  (dst_bytes,)   (land,)  (wrong_fragment,)  \\\n",
       "0         -0.110249     -0.007679     -0.004919 -0.014089          -0.089486   \n",
       "1         -0.110249     -0.007737     -0.004919 -0.014089          -0.089486   \n",
       "2         -0.110249     -0.007762     -0.004919 -0.014089          -0.089486   \n",
       "3         -0.110249     -0.007723     -0.002891 -0.014089          -0.089486   \n",
       "4         -0.110249     -0.007728     -0.004814 -0.014089          -0.089486   \n",
       "...             ...           ...           ...       ...                ...   \n",
       "125968    -0.110249     -0.007762     -0.004919 -0.014089          -0.089486   \n",
       "125969    -0.107178     -0.007744     -0.004883 -0.014089          -0.089486   \n",
       "125970    -0.110249     -0.007382     -0.004823 -0.014089          -0.089486   \n",
       "125971    -0.110249     -0.007762     -0.004919 -0.014089          -0.089486   \n",
       "125972    -0.110249     -0.007737     -0.004919 -0.014089          -0.089486   \n",
       "\n",
       "        (urgent,)    (hot,)  (num_failed_logins,)  (logged_in,)  \\\n",
       "0       -0.007736 -0.095076             -0.027023     -0.809262   \n",
       "1       -0.007736 -0.095076             -0.027023     -0.809262   \n",
       "2       -0.007736 -0.095076             -0.027023     -0.809262   \n",
       "3       -0.007736 -0.095076             -0.027023      1.235694   \n",
       "4       -0.007736 -0.095076             -0.027023      1.235694   \n",
       "...           ...       ...                   ...           ...   \n",
       "125968  -0.007736 -0.095076             -0.027023     -0.809262   \n",
       "125969  -0.007736 -0.095076             -0.027023     -0.809262   \n",
       "125970  -0.007736 -0.095076             -0.027023      1.235694   \n",
       "125971  -0.007736 -0.095076             -0.027023     -0.809262   \n",
       "125972  -0.007736 -0.095076             -0.027023      1.235694   \n",
       "\n",
       "        (num_compromised,)  ...  flag_RSTR  flag_S0  flag_S1  flag_S2  \\\n",
       "0                -0.011664  ...          0        0        0        0   \n",
       "1                -0.011664  ...          0        0        0        0   \n",
       "2                -0.011664  ...          0        1        0        0   \n",
       "3                -0.011664  ...          0        0        0        0   \n",
       "4                -0.011664  ...          0        0        0        0   \n",
       "...                    ...  ...        ...      ...      ...      ...   \n",
       "125968           -0.011664  ...          0        1        0        0   \n",
       "125969           -0.011664  ...          0        0        0        0   \n",
       "125970           -0.011664  ...          0        0        0        0   \n",
       "125971           -0.011664  ...          0        1        0        0   \n",
       "125972           -0.011664  ...          0        0        0        0   \n",
       "\n",
       "        flag_S3  flag_SF  flag_SH  protocol_type_icmp  protocol_type_tcp  \\\n",
       "0             0        1        0                   0                  1   \n",
       "1             0        1        0                   0                  0   \n",
       "2             0        0        0                   0                  1   \n",
       "3             0        1        0                   0                  1   \n",
       "4             0        1        0                   0                  1   \n",
       "...         ...      ...      ...                 ...                ...   \n",
       "125968        0        0        0                   0                  1   \n",
       "125969        0        1        0                   0                  0   \n",
       "125970        0        1        0                   0                  1   \n",
       "125971        0        0        0                   0                  1   \n",
       "125972        0        1        0                   0                  1   \n",
       "\n",
       "        protocol_type_udp  \n",
       "0                       0  \n",
       "1                       1  \n",
       "2                       0  \n",
       "3                       0  \n",
       "4                       0  \n",
       "...                   ...  \n",
       "125968                  0  \n",
       "125969                  1  \n",
       "125970                  0  \n",
       "125971                  0  \n",
       "125972                  0  \n",
       "\n",
       "[125973 rows x 121 columns]"
      ]
     },
     "execution_count": 227,
     "metadata": {},
     "output_type": "execute_result"
    }
   ],
   "source": [
    "one_hot_data_ss"
   ]
  },
  {
   "cell_type": "code",
   "execution_count": 228,
   "id": "c27500fa",
   "metadata": {},
   "outputs": [
    {
     "name": "stderr",
     "output_type": "stream",
     "text": [
      "C:\\Users\\khxia\\AppData\\Local\\Temp\\ipykernel_25856\\3533821117.py:24: SettingWithCopyWarning: \n",
      "A value is trying to be set on a copy of a slice from a DataFrame.\n",
      "Try using .loc[row_indexer,col_indexer] = value instead\n",
      "\n",
      "See the caveats in the documentation: https://pandas.pydata.org/pandas-docs/stable/user_guide/indexing.html#returning-a-view-versus-a-copy\n",
      "  kdd_train_y[\"class_binary\"] = kdd_train_y[\"class\"].map(label_map)\n"
     ]
    }
   ],
   "source": [
    "label_map = {\"normal\": 0,\n",
    "            \"neptune\": 1,\n",
    "            \"satan\": 1,\n",
    "            \"ipsweep\": 1,\n",
    "            \"portsweep\": 1,\n",
    "            \"smurf\": 1,\n",
    "            \"nmap\": 1,\n",
    "            \"back\": 1,\n",
    "            \"teardrop\": 1,\n",
    "            \"warezclient\": 1,\n",
    "            \"pod\": 1,\n",
    "            \"guess_passwd\": 1,\n",
    "            \"buffer_overflow\": 1,\n",
    "            \"warezmaster\": 1,\n",
    "            \"land\": 1,\n",
    "            \"imap\": 1,\n",
    "            \"rootkit\": 1,\n",
    "            \"loadmodule\": 1,\n",
    "            \"ftp_write\": 1,\n",
    "            \"multihop\": 1,\n",
    "            \"phf\": 1,\n",
    "            \"perl\": 1, \n",
    "            \"spy\": 1}\n",
    "kdd_train_y[\"class_binary\"] = kdd_train_y[\"class\"].map(label_map)"
   ]
  },
  {
   "cell_type": "code",
   "execution_count": 229,
   "id": "e2f51b2d",
   "metadata": {},
   "outputs": [
    {
     "data": {
      "text/html": [
       "<div>\n",
       "<style scoped>\n",
       "    .dataframe tbody tr th:only-of-type {\n",
       "        vertical-align: middle;\n",
       "    }\n",
       "\n",
       "    .dataframe tbody tr th {\n",
       "        vertical-align: top;\n",
       "    }\n",
       "\n",
       "    .dataframe thead th {\n",
       "        text-align: right;\n",
       "    }\n",
       "</style>\n",
       "<table border=\"1\" class=\"dataframe\">\n",
       "  <thead>\n",
       "    <tr style=\"text-align: right;\">\n",
       "      <th></th>\n",
       "      <th>(duration,)</th>\n",
       "      <th>(src_bytes,)</th>\n",
       "      <th>(dst_bytes,)</th>\n",
       "      <th>(land,)</th>\n",
       "      <th>(wrong_fragment,)</th>\n",
       "      <th>(urgent,)</th>\n",
       "      <th>(hot,)</th>\n",
       "      <th>(num_failed_logins,)</th>\n",
       "      <th>(logged_in,)</th>\n",
       "      <th>(num_compromised,)</th>\n",
       "      <th>...</th>\n",
       "      <th>flag_RSTR</th>\n",
       "      <th>flag_S0</th>\n",
       "      <th>flag_S1</th>\n",
       "      <th>flag_S2</th>\n",
       "      <th>flag_S3</th>\n",
       "      <th>flag_SF</th>\n",
       "      <th>flag_SH</th>\n",
       "      <th>protocol_type_icmp</th>\n",
       "      <th>protocol_type_tcp</th>\n",
       "      <th>protocol_type_udp</th>\n",
       "    </tr>\n",
       "  </thead>\n",
       "  <tbody>\n",
       "    <tr>\n",
       "      <th>count</th>\n",
       "      <td>1.259730e+05</td>\n",
       "      <td>1.259730e+05</td>\n",
       "      <td>1.259730e+05</td>\n",
       "      <td>1.259730e+05</td>\n",
       "      <td>1.259730e+05</td>\n",
       "      <td>1.259730e+05</td>\n",
       "      <td>1.259730e+05</td>\n",
       "      <td>1.259730e+05</td>\n",
       "      <td>1.259730e+05</td>\n",
       "      <td>1.259730e+05</td>\n",
       "      <td>...</td>\n",
       "      <td>125973.000000</td>\n",
       "      <td>125973.000000</td>\n",
       "      <td>125973.000000</td>\n",
       "      <td>125973.000000</td>\n",
       "      <td>125973.000000</td>\n",
       "      <td>125973.000000</td>\n",
       "      <td>125973.000000</td>\n",
       "      <td>125973.000000</td>\n",
       "      <td>125973.000000</td>\n",
       "      <td>125973.000000</td>\n",
       "    </tr>\n",
       "    <tr>\n",
       "      <th>mean</th>\n",
       "      <td>2.549477e-17</td>\n",
       "      <td>-4.512349e-19</td>\n",
       "      <td>7.614590e-19</td>\n",
       "      <td>-4.794371e-18</td>\n",
       "      <td>4.230328e-19</td>\n",
       "      <td>4.455945e-18</td>\n",
       "      <td>-2.244894e-17</td>\n",
       "      <td>2.989431e-18</td>\n",
       "      <td>1.558171e-17</td>\n",
       "      <td>-6.549957e-18</td>\n",
       "      <td>...</td>\n",
       "      <td>0.019218</td>\n",
       "      <td>0.276655</td>\n",
       "      <td>0.002897</td>\n",
       "      <td>0.001008</td>\n",
       "      <td>0.000389</td>\n",
       "      <td>0.594929</td>\n",
       "      <td>0.002151</td>\n",
       "      <td>0.065816</td>\n",
       "      <td>0.815167</td>\n",
       "      <td>0.119018</td>\n",
       "    </tr>\n",
       "    <tr>\n",
       "      <th>std</th>\n",
       "      <td>1.000004e+00</td>\n",
       "      <td>1.000004e+00</td>\n",
       "      <td>1.000004e+00</td>\n",
       "      <td>1.000004e+00</td>\n",
       "      <td>1.000004e+00</td>\n",
       "      <td>1.000004e+00</td>\n",
       "      <td>1.000004e+00</td>\n",
       "      <td>1.000004e+00</td>\n",
       "      <td>1.000004e+00</td>\n",
       "      <td>1.000004e+00</td>\n",
       "      <td>...</td>\n",
       "      <td>0.137292</td>\n",
       "      <td>0.447346</td>\n",
       "      <td>0.053750</td>\n",
       "      <td>0.031736</td>\n",
       "      <td>0.019719</td>\n",
       "      <td>0.490908</td>\n",
       "      <td>0.046332</td>\n",
       "      <td>0.247961</td>\n",
       "      <td>0.388164</td>\n",
       "      <td>0.323810</td>\n",
       "    </tr>\n",
       "    <tr>\n",
       "      <th>min</th>\n",
       "      <td>-1.102492e-01</td>\n",
       "      <td>-7.762241e-03</td>\n",
       "      <td>-4.918644e-03</td>\n",
       "      <td>-1.408881e-02</td>\n",
       "      <td>-8.948642e-02</td>\n",
       "      <td>-7.735985e-03</td>\n",
       "      <td>-9.507567e-02</td>\n",
       "      <td>-2.702282e-02</td>\n",
       "      <td>-8.092618e-01</td>\n",
       "      <td>-1.166364e-02</td>\n",
       "      <td>...</td>\n",
       "      <td>0.000000</td>\n",
       "      <td>0.000000</td>\n",
       "      <td>0.000000</td>\n",
       "      <td>0.000000</td>\n",
       "      <td>0.000000</td>\n",
       "      <td>0.000000</td>\n",
       "      <td>0.000000</td>\n",
       "      <td>0.000000</td>\n",
       "      <td>0.000000</td>\n",
       "      <td>0.000000</td>\n",
       "    </tr>\n",
       "    <tr>\n",
       "      <th>25%</th>\n",
       "      <td>-1.102492e-01</td>\n",
       "      <td>-7.762241e-03</td>\n",
       "      <td>-4.918644e-03</td>\n",
       "      <td>-1.408881e-02</td>\n",
       "      <td>-8.948642e-02</td>\n",
       "      <td>-7.735985e-03</td>\n",
       "      <td>-9.507567e-02</td>\n",
       "      <td>-2.702282e-02</td>\n",
       "      <td>-8.092618e-01</td>\n",
       "      <td>-1.166364e-02</td>\n",
       "      <td>...</td>\n",
       "      <td>0.000000</td>\n",
       "      <td>0.000000</td>\n",
       "      <td>0.000000</td>\n",
       "      <td>0.000000</td>\n",
       "      <td>0.000000</td>\n",
       "      <td>0.000000</td>\n",
       "      <td>0.000000</td>\n",
       "      <td>0.000000</td>\n",
       "      <td>1.000000</td>\n",
       "      <td>0.000000</td>\n",
       "    </tr>\n",
       "    <tr>\n",
       "      <th>50%</th>\n",
       "      <td>-1.102492e-01</td>\n",
       "      <td>-7.754745e-03</td>\n",
       "      <td>-4.918644e-03</td>\n",
       "      <td>-1.408881e-02</td>\n",
       "      <td>-8.948642e-02</td>\n",
       "      <td>-7.735985e-03</td>\n",
       "      <td>-9.507567e-02</td>\n",
       "      <td>-2.702282e-02</td>\n",
       "      <td>-8.092618e-01</td>\n",
       "      <td>-1.166364e-02</td>\n",
       "      <td>...</td>\n",
       "      <td>0.000000</td>\n",
       "      <td>0.000000</td>\n",
       "      <td>0.000000</td>\n",
       "      <td>0.000000</td>\n",
       "      <td>0.000000</td>\n",
       "      <td>1.000000</td>\n",
       "      <td>0.000000</td>\n",
       "      <td>0.000000</td>\n",
       "      <td>1.000000</td>\n",
       "      <td>0.000000</td>\n",
       "    </tr>\n",
       "    <tr>\n",
       "      <th>75%</th>\n",
       "      <td>-1.102492e-01</td>\n",
       "      <td>-7.715224e-03</td>\n",
       "      <td>-4.790326e-03</td>\n",
       "      <td>-1.408881e-02</td>\n",
       "      <td>-8.948642e-02</td>\n",
       "      <td>-7.735985e-03</td>\n",
       "      <td>-9.507567e-02</td>\n",
       "      <td>-2.702282e-02</td>\n",
       "      <td>1.235694e+00</td>\n",
       "      <td>-1.166364e-02</td>\n",
       "      <td>...</td>\n",
       "      <td>0.000000</td>\n",
       "      <td>1.000000</td>\n",
       "      <td>0.000000</td>\n",
       "      <td>0.000000</td>\n",
       "      <td>0.000000</td>\n",
       "      <td>1.000000</td>\n",
       "      <td>0.000000</td>\n",
       "      <td>0.000000</td>\n",
       "      <td>1.000000</td>\n",
       "      <td>0.000000</td>\n",
       "    </tr>\n",
       "    <tr>\n",
       "      <th>max</th>\n",
       "      <td>1.636428e+01</td>\n",
       "      <td>2.350675e+02</td>\n",
       "      <td>3.257486e+02</td>\n",
       "      <td>7.097831e+01</td>\n",
       "      <td>1.174348e+01</td>\n",
       "      <td>2.088191e+02</td>\n",
       "      <td>3.571955e+01</td>\n",
       "      <td>1.104972e+02</td>\n",
       "      <td>1.235694e+00</td>\n",
       "      <td>3.123689e+02</td>\n",
       "      <td>...</td>\n",
       "      <td>1.000000</td>\n",
       "      <td>1.000000</td>\n",
       "      <td>1.000000</td>\n",
       "      <td>1.000000</td>\n",
       "      <td>1.000000</td>\n",
       "      <td>1.000000</td>\n",
       "      <td>1.000000</td>\n",
       "      <td>1.000000</td>\n",
       "      <td>1.000000</td>\n",
       "      <td>1.000000</td>\n",
       "    </tr>\n",
       "  </tbody>\n",
       "</table>\n",
       "<p>8 rows × 121 columns</p>\n",
       "</div>"
      ],
      "text/plain": [
       "        (duration,)  (src_bytes,)  (dst_bytes,)       (land,)  \\\n",
       "count  1.259730e+05  1.259730e+05  1.259730e+05  1.259730e+05   \n",
       "mean   2.549477e-17 -4.512349e-19  7.614590e-19 -4.794371e-18   \n",
       "std    1.000004e+00  1.000004e+00  1.000004e+00  1.000004e+00   \n",
       "min   -1.102492e-01 -7.762241e-03 -4.918644e-03 -1.408881e-02   \n",
       "25%   -1.102492e-01 -7.762241e-03 -4.918644e-03 -1.408881e-02   \n",
       "50%   -1.102492e-01 -7.754745e-03 -4.918644e-03 -1.408881e-02   \n",
       "75%   -1.102492e-01 -7.715224e-03 -4.790326e-03 -1.408881e-02   \n",
       "max    1.636428e+01  2.350675e+02  3.257486e+02  7.097831e+01   \n",
       "\n",
       "       (wrong_fragment,)     (urgent,)        (hot,)  (num_failed_logins,)  \\\n",
       "count       1.259730e+05  1.259730e+05  1.259730e+05          1.259730e+05   \n",
       "mean        4.230328e-19  4.455945e-18 -2.244894e-17          2.989431e-18   \n",
       "std         1.000004e+00  1.000004e+00  1.000004e+00          1.000004e+00   \n",
       "min        -8.948642e-02 -7.735985e-03 -9.507567e-02         -2.702282e-02   \n",
       "25%        -8.948642e-02 -7.735985e-03 -9.507567e-02         -2.702282e-02   \n",
       "50%        -8.948642e-02 -7.735985e-03 -9.507567e-02         -2.702282e-02   \n",
       "75%        -8.948642e-02 -7.735985e-03 -9.507567e-02         -2.702282e-02   \n",
       "max         1.174348e+01  2.088191e+02  3.571955e+01          1.104972e+02   \n",
       "\n",
       "       (logged_in,)  (num_compromised,)  ...      flag_RSTR        flag_S0  \\\n",
       "count  1.259730e+05        1.259730e+05  ...  125973.000000  125973.000000   \n",
       "mean   1.558171e-17       -6.549957e-18  ...       0.019218       0.276655   \n",
       "std    1.000004e+00        1.000004e+00  ...       0.137292       0.447346   \n",
       "min   -8.092618e-01       -1.166364e-02  ...       0.000000       0.000000   \n",
       "25%   -8.092618e-01       -1.166364e-02  ...       0.000000       0.000000   \n",
       "50%   -8.092618e-01       -1.166364e-02  ...       0.000000       0.000000   \n",
       "75%    1.235694e+00       -1.166364e-02  ...       0.000000       1.000000   \n",
       "max    1.235694e+00        3.123689e+02  ...       1.000000       1.000000   \n",
       "\n",
       "             flag_S1        flag_S2        flag_S3        flag_SF  \\\n",
       "count  125973.000000  125973.000000  125973.000000  125973.000000   \n",
       "mean        0.002897       0.001008       0.000389       0.594929   \n",
       "std         0.053750       0.031736       0.019719       0.490908   \n",
       "min         0.000000       0.000000       0.000000       0.000000   \n",
       "25%         0.000000       0.000000       0.000000       0.000000   \n",
       "50%         0.000000       0.000000       0.000000       1.000000   \n",
       "75%         0.000000       0.000000       0.000000       1.000000   \n",
       "max         1.000000       1.000000       1.000000       1.000000   \n",
       "\n",
       "             flag_SH  protocol_type_icmp  protocol_type_tcp  protocol_type_udp  \n",
       "count  125973.000000       125973.000000      125973.000000      125973.000000  \n",
       "mean        0.002151            0.065816           0.815167           0.119018  \n",
       "std         0.046332            0.247961           0.388164           0.323810  \n",
       "min         0.000000            0.000000           0.000000           0.000000  \n",
       "25%         0.000000            0.000000           1.000000           0.000000  \n",
       "50%         0.000000            0.000000           1.000000           0.000000  \n",
       "75%         0.000000            0.000000           1.000000           0.000000  \n",
       "max         1.000000            1.000000           1.000000           1.000000  \n",
       "\n",
       "[8 rows x 121 columns]"
      ]
     },
     "execution_count": 229,
     "metadata": {},
     "output_type": "execute_result"
    }
   ],
   "source": [
    "one_hot_data_ss.describe()"
   ]
  },
  {
   "cell_type": "markdown",
   "id": "dea6cea6",
   "metadata": {},
   "source": [
    "# PCA"
   ]
  },
  {
   "cell_type": "markdown",
   "id": "ced96994",
   "metadata": {},
   "source": [
    "## HyperParameter Tunning for PCA"
   ]
  },
  {
   "cell_type": "code",
   "execution_count": 230,
   "id": "972c7fc2",
   "metadata": {},
   "outputs": [],
   "source": [
    "from sklearn.metrics import make_scorer, f1_score\n",
    "\n",
    "def scorer_f(estimator, X):   #your own scorer\n",
    "      return np.mean(estimator.score_samples(X))\n",
    "parameters_pca = {'n_components' : np.linspace(0.1, 1, num = 22)}    "
   ]
  },
  {
   "cell_type": "code",
   "execution_count": 231,
   "id": "8eed4eee",
   "metadata": {},
   "outputs": [],
   "source": [
    "from sklearn.decomposition import PCA\n",
    "model_pca = PCA()\n",
    "idx_rand = np.random.permutation(len(kdd_train_x))\n",
    "#num_sample = int(0.01*len(kdd_train_x))\n",
    "num_sample = len(kdd_train_x)\n",
    "one_hot_data_pca = one_hot_data_ss\n",
    "one_hot_data_pca_sample = one_hot_data_pca.iloc[idx_rand[:num_sample]]\n",
    "kdd_train_y_sample = kdd_train_y.iloc[idx_rand[:num_sample]]\n"
   ]
  },
  {
   "cell_type": "code",
   "execution_count": 232,
   "id": "485f9450",
   "metadata": {},
   "outputs": [
    {
     "name": "stderr",
     "output_type": "stream",
     "text": [
      "C:\\WINDOWS\\system32\\myenv\\lib\\site-packages\\sklearn\\model_selection\\_validation.py:378: FitFailedWarning: \n",
      "3 fits failed out of a total of 30.\n",
      "The score on these train-test partitions for these parameters will be set to nan.\n",
      "If these failures are not expected, you can try to debug them by setting error_score='raise'.\n",
      "\n",
      "Below are more details about the failures:\n",
      "--------------------------------------------------------------------------------\n",
      "3 fits failed with the following error:\n",
      "Traceback (most recent call last):\n",
      "  File \"C:\\WINDOWS\\system32\\myenv\\lib\\site-packages\\sklearn\\model_selection\\_validation.py\", line 686, in _fit_and_score\n",
      "    estimator.fit(X_train, y_train, **fit_params)\n",
      "  File \"C:\\WINDOWS\\system32\\myenv\\lib\\site-packages\\sklearn\\decomposition\\_pca.py\", line 408, in fit\n",
      "    self._fit(X)\n",
      "  File \"C:\\WINDOWS\\system32\\myenv\\lib\\site-packages\\sklearn\\decomposition\\_pca.py\", line 485, in _fit\n",
      "    return self._fit_truncated(X, n_components, self._fit_svd_solver)\n",
      "  File \"C:\\WINDOWS\\system32\\myenv\\lib\\site-packages\\sklearn\\decomposition\\_pca.py\", line 576, in _fit_truncated\n",
      "    raise ValueError(\n",
      "ValueError: n_components=1.0 must be of type int when greater than or equal to 1, was of type=<class 'numpy.float64'>\n",
      "\n",
      "  warnings.warn(some_fits_failed_message, FitFailedWarning)\n",
      "C:\\WINDOWS\\system32\\myenv\\lib\\site-packages\\sklearn\\model_selection\\_search.py:953: UserWarning: One or more of the test scores are non-finite: [nan nan nan nan nan nan nan nan nan nan]\n",
      "  warnings.warn(\n",
      "C:\\WINDOWS\\system32\\myenv\\lib\\site-packages\\sklearn\\model_selection\\_search.py:953: UserWarning: One or more of the train scores are non-finite: [nan nan nan nan nan nan nan nan nan nan]\n",
      "  warnings.warn(\n",
      "C:\\WINDOWS\\system32\\myenv\\lib\\site-packages\\sklearn\\utils\\validation.py:1858: FutureWarning: Feature names only support names that are all strings. Got feature names with dtypes: ['str', 'tuple']. An error will be raised in 1.2.\n",
      "  warnings.warn(\n"
     ]
    },
    {
     "name": "stdout",
     "output_type": "stream",
     "text": [
      " Results from Random Search \n",
      "\n",
      " The best estimator across ALL searched params:\n",
      " PCA(n_components=0.9571428571428572)\n",
      "\n",
      " The best score across ALL searched params:\n",
      " nan\n",
      "\n",
      " The best parameters across ALL searched params:\n",
      " {'n_components': 0.9571428571428572}\n"
     ]
    }
   ],
   "source": [
    "f1sc = make_scorer(f1_score, average = 'micro')\n",
    "randm_src = RandomizedSearchCV(estimator=model_pca, param_distributions = parameters_pca, cv = 3, scoring = f1sc, random_state = 0, return_train_score = True, n_jobs = -1)\n",
    "model_src = randm_src.fit(one_hot_data_pca, kdd_train_y_sample[\"class_binary\"])\n",
    "\n",
    "print(\" Results from Random Search \" )\n",
    "print(\"\\n The best estimator across ALL searched params:\\n\", randm_src.best_estimator_)\n",
    "print(\"\\n The best score across ALL searched params:\\n\", randm_src.best_score_)\n",
    "print(\"\\n The best parameters across ALL searched params:\\n\", randm_src.best_params_)"
   ]
  },
  {
   "cell_type": "code",
   "execution_count": 233,
   "id": "949969a3",
   "metadata": {},
   "outputs": [
    {
     "name": "stderr",
     "output_type": "stream",
     "text": [
      "C:\\WINDOWS\\system32\\myenv\\lib\\site-packages\\sklearn\\utils\\validation.py:1858: FutureWarning: Feature names only support names that are all strings. Got feature names with dtypes: ['str', 'tuple']. An error will be raised in 1.2.\n",
      "  warnings.warn(\n"
     ]
    },
    {
     "name": "stdout",
     "output_type": "stream",
     "text": [
      "(125973, 25)\n"
     ]
    }
   ],
   "source": [
    "#Keep best % of variance\n",
    "model_pca = PCA(n_components=0.9571428571428572,whiten = True)\n",
    "one_hot_data_pca = model_pca.fit_transform(one_hot_data_ss)\n",
    "\n",
    "print(one_hot_data_pca.shape)"
   ]
  },
  {
   "cell_type": "code",
   "execution_count": 234,
   "id": "a87842e4",
   "metadata": {},
   "outputs": [
    {
     "name": "stdout",
     "output_type": "stream",
     "text": [
      "['Variable 0', 'Variable 1', 'Variable 2', 'Variable 3', 'Variable 4', 'Variable 5', 'Variable 6', 'Variable 7', 'Variable 8', 'Variable 9', 'Variable 10', 'Variable 11', 'Variable 12', 'Variable 13', 'Variable 14', 'Variable 15', 'Variable 16', 'Variable 17', 'Variable 18', 'Variable 19', 'Variable 20', 'Variable 21', 'Variable 22', 'Variable 23', 'Variable 24']\n"
     ]
    }
   ],
   "source": [
    "model_pca = PCA(n_components=25,whiten=True)\n",
    "new_header =['Variable '+str(i) for i in range(model_pca.n_components)]\n",
    "\n",
    "    \n",
    "print(new_header)"
   ]
  },
  {
   "cell_type": "code",
   "execution_count": 235,
   "id": "a000f763",
   "metadata": {},
   "outputs": [],
   "source": [
    "one_hot_data_pca = pd.DataFrame(one_hot_data_pca,columns=new_header)"
   ]
  },
  {
   "cell_type": "code",
   "execution_count": 236,
   "id": "61b3674f",
   "metadata": {},
   "outputs": [],
   "source": [
    "data_array_pca = np.array(one_hot_data_pca)"
   ]
  },
  {
   "cell_type": "markdown",
   "id": "e2e4d3d4",
   "metadata": {},
   "source": [
    "# Visualize Data"
   ]
  },
  {
   "cell_type": "code",
   "execution_count": 237,
   "id": "154d938a",
   "metadata": {},
   "outputs": [],
   "source": [
    "X_norm = (one_hot_data - one_hot_data.min())/(one_hot_data.max() - one_hot_data.min())\n",
    "pca_plot = PCA(n_components=2)\n",
    "transformed = pd.DataFrame(pca_plot.fit_transform(X_norm))\n",
    "c_binary = kdd_train_y['class_binary']"
   ]
  },
  {
   "cell_type": "code",
   "execution_count": 238,
   "id": "4d8a1785",
   "metadata": {},
   "outputs": [
    {
     "data": {
      "text/plain": [
       "<matplotlib.collections.PathCollection at 0x2ab23678850>"
      ]
     },
     "execution_count": 238,
     "metadata": {},
     "output_type": "execute_result"
    },
    {
     "data": {
      "text/plain": [
       "<matplotlib.legend.Legend at 0x2ab2364b550>"
      ]
     },
     "execution_count": 238,
     "metadata": {},
     "output_type": "execute_result"
    },
    {
     "data": {
      "image/png": "[encoded data removed]",
      "text/plain": [
       "<Figure size 432x288 with 1 Axes>"
      ]
     },
     "metadata": {
      "needs_background": "light"
     },
     "output_type": "display_data"
    },
    {
     "data": {
      "text/plain": [
       "<matplotlib.collections.PathCollection at 0x2ab09ac2950>"
      ]
     },
     "execution_count": 238,
     "metadata": {},
     "output_type": "execute_result"
    },
    {
     "data": {
      "text/plain": [
       "<matplotlib.legend.Legend at 0x2ab46ca3280>"
      ]
     },
     "execution_count": 238,
     "metadata": {},
     "output_type": "execute_result"
    },
    {
     "data": {
      "image/png": "[encoded data removed]",
      "text/plain": [
       "<Figure size 432x288 with 1 Axes>"
      ]
     },
     "metadata": {
      "needs_background": "light"
     },
     "output_type": "display_data"
    },
    {
     "data": {
      "text/plain": [
       "<matplotlib.collections.PathCollection at 0x2ab4718a6b0>"
      ]
     },
     "execution_count": 238,
     "metadata": {},
     "output_type": "execute_result"
    },
    {
     "data": {
      "text/plain": [
       "<matplotlib.collections.PathCollection at 0x2ab0846b130>"
      ]
     },
     "execution_count": 238,
     "metadata": {},
     "output_type": "execute_result"
    },
    {
     "data": {
      "text/plain": [
       "<matplotlib.legend.Legend at 0x2ab468417b0>"
      ]
     },
     "execution_count": 238,
     "metadata": {},
     "output_type": "execute_result"
    },
    {
     "data": {
      "image/png": "[encoded data removed]",
      "text/plain": [
       "<Figure size 432x288 with 1 Axes>"
      ]
     },
     "metadata": {
      "needs_background": "light"
     },
     "output_type": "display_data"
    }
   ],
   "source": [
    "plt.scatter(transformed[c_binary==0][0], transformed[c_binary==0][1], label='Normal', c='blue')\n",
    "\n",
    "plt.legend()\n",
    "plt.show()\n",
    "\n",
    "plt.scatter(transformed[c_binary==1][0], transformed[c_binary==1][1], label='Anomaly', c='red')\n",
    "\n",
    "plt.legend()\n",
    "plt.show()\n",
    "\n",
    "\n",
    "plt.scatter(transformed[c_binary==0][0], transformed[c_binary==0][1], label='Normal', c='blue')\n",
    "plt.scatter(transformed[c_binary==1][0], transformed[c_binary==1][1], label='Anomaly', c='red')\n",
    "plt.legend()\n",
    "plt.show()\n",
    "\n"
   ]
  },
  {
   "cell_type": "code",
   "execution_count": 239,
   "id": "ce05c3cb",
   "metadata": {},
   "outputs": [],
   "source": [
    "one_hot_data_maha = one_hot_data_pca\n",
    "one_hot_data_if = one_hot_data_pca\n",
    "one_hot_data_svm = one_hot_data_pca\n",
    "\n",
    "one_hot_data_maha_ss = one_hot_data_ss\n",
    "one_hot_data_if_ss = one_hot_data_ss\n",
    "one_hot_data_svm_ss = one_hot_data_ss"
   ]
  },
  {
   "cell_type": "code",
   "execution_count": 240,
   "id": "219be11d",
   "metadata": {},
   "outputs": [
    {
     "name": "stdout",
     "output_type": "stream",
     "text": [
      "<class 'pandas.core.frame.DataFrame'>\n",
      "RangeIndex: 125973 entries, 0 to 125972\n",
      "Columns: 121 entries, ('duration',) to protocol_type_udp\n",
      "dtypes: float64(37), uint8(84)\n",
      "memory usage: 45.7 MB\n"
     ]
    }
   ],
   "source": [
    "one_hot_data_ss.info()"
   ]
  },
  {
   "cell_type": "code",
   "execution_count": 241,
   "id": "9992b568",
   "metadata": {},
   "outputs": [
    {
     "name": "stdout",
     "output_type": "stream",
     "text": [
      "<class 'pandas.core.frame.DataFrame'>\n",
      "RangeIndex: 125973 entries, 0 to 125972\n",
      "Data columns (total 25 columns):\n",
      " #   Column       Non-Null Count   Dtype  \n",
      "---  ------       --------------   -----  \n",
      " 0   Variable 0   125973 non-null  float64\n",
      " 1   Variable 1   125973 non-null  float64\n",
      " 2   Variable 2   125973 non-null  float64\n",
      " 3   Variable 3   125973 non-null  float64\n",
      " 4   Variable 4   125973 non-null  float64\n",
      " 5   Variable 5   125973 non-null  float64\n",
      " 6   Variable 6   125973 non-null  float64\n",
      " 7   Variable 7   125973 non-null  float64\n",
      " 8   Variable 8   125973 non-null  float64\n",
      " 9   Variable 9   125973 non-null  float64\n",
      " 10  Variable 10  125973 non-null  float64\n",
      " 11  Variable 11  125973 non-null  float64\n",
      " 12  Variable 12  125973 non-null  float64\n",
      " 13  Variable 13  125973 non-null  float64\n",
      " 14  Variable 14  125973 non-null  float64\n",
      " 15  Variable 15  125973 non-null  float64\n",
      " 16  Variable 16  125973 non-null  float64\n",
      " 17  Variable 17  125973 non-null  float64\n",
      " 18  Variable 18  125973 non-null  float64\n",
      " 19  Variable 19  125973 non-null  float64\n",
      " 20  Variable 20  125973 non-null  float64\n",
      " 21  Variable 21  125973 non-null  float64\n",
      " 22  Variable 22  125973 non-null  float64\n",
      " 23  Variable 23  125973 non-null  float64\n",
      " 24  Variable 24  125973 non-null  float64\n",
      "dtypes: float64(25)\n",
      "memory usage: 24.0 MB\n"
     ]
    }
   ],
   "source": [
    "one_hot_data_pca.info()"
   ]
  },
  {
   "cell_type": "markdown",
   "id": "459cbb6b",
   "metadata": {},
   "source": [
    "# Mahalanobis"
   ]
  },
  {
   "cell_type": "markdown",
   "id": "4b56a422",
   "metadata": {},
   "source": [
    "## Standard Scaler Data Before PCA "
   ]
  },
  {
   "cell_type": "code",
   "execution_count": 242,
   "id": "0a7dc19d",
   "metadata": {},
   "outputs": [
    {
     "name": "stderr",
     "output_type": "stream",
     "text": [
      "C:\\WINDOWS\\system32\\myenv\\lib\\site-packages\\numpy\\core\\fromnumeric.py:3430: FutureWarning: In a future version, DataFrame.mean(axis=None) will return a scalar mean over the entire DataFrame. To retain the old behavior, use 'frame.mean(axis=0)' or just 'frame.mean()'\n",
      "  return mean(axis=axis, dtype=dtype, out=out, **kwargs)\n"
     ]
    },
    {
     "data": {
      "text/plain": [
       "(duration,)           2.549477e-17\n",
       "(src_bytes,)         -4.512349e-19\n",
       "(dst_bytes,)          7.614590e-19\n",
       "(land,)              -4.794371e-18\n",
       "(wrong_fragment,)     4.230328e-19\n",
       "                          ...     \n",
       "flag_SF               5.949291e-01\n",
       "flag_SH               2.151255e-03\n",
       "protocol_type_icmp    6.581569e-02\n",
       "protocol_type_tcp     8.151667e-01\n",
       "protocol_type_udp     1.190176e-01\n",
       "Length: 121, dtype: float64"
      ]
     },
     "execution_count": 242,
     "metadata": {},
     "output_type": "execute_result"
    },
    {
     "name": "stdout",
     "output_type": "stream",
     "text": [
      "363\n"
     ]
    }
   ],
   "source": [
    "#Use new PCA data for Mahalanobis Distance\n",
    "import scipy as sp\n",
    "mu_vec = np.mean(data_array_ss,axis = 0)\n",
    "inv_cormat = sp.linalg.pinv(np.cov(data_array_ss, rowvar=False))\n",
    "\n",
    "# For loop to get the distance for all the variables\n",
    "mahal_dist = []\n",
    "\n",
    "for i in range(data_array_ss.shape[0]):\n",
    "    x_minus_mu = data_array_ss[i,:] - mu_vec\n",
    "    left_term = np.dot(x_minus_mu, inv_cormat)\n",
    "    mahal = np.dot(left_term, x_minus_mu.T)\n",
    "    mahal = np.sqrt(mahal)\n",
    "    mahal_dist.append(mahal)\n",
    "\n",
    "np.mean(one_hot_data_maha_ss)\n",
    "\n",
    "from scipy.stats import chi2\n",
    "one_hot_data_maha_ss['p-value'] = 1 - chi2.cdf(mahal_dist, df = 25) #pdf(x, degreeOfFreedom = Number of Variables)\n",
    "\n",
    "#Calculate number of p-value less than 0.01\n",
    "print(np.count_nonzero(one_hot_data_maha_ss['p-value'] < 0.01))"
   ]
  },
  {
   "cell_type": "code",
   "execution_count": 22,
   "id": "aa9d46b8",
   "metadata": {},
   "outputs": [
    {
     "data": {
      "text/plain": [
       "121"
      ]
     },
     "execution_count": 22,
     "metadata": {},
     "output_type": "execute_result"
    }
   ],
   "source": [
    "len(left_term)"
   ]
  },
  {
   "cell_type": "code",
   "execution_count": 23,
   "id": "ed5c49c0",
   "metadata": {},
   "outputs": [
    {
     "name": "stdout",
     "output_type": "stream",
     "text": [
      "Training accuracy: 0.5336\n",
      "[[67101   242]\n",
      " [58509   121]]\n"
     ]
    }
   ],
   "source": [
    "pvalue_ss = one_hot_data_maha_ss['p-value']\n",
    "bi_pvalue_ss = pvalue_ss\n",
    "\n",
    "bi_pvalue_ss = np.where(pvalue_ss < 0.01, 1, bi_pvalue_ss)\n",
    "bi_pvalue_ss = np.where(pvalue_ss >= 0.01, 0, bi_pvalue_ss)\n",
    "\n",
    "from sklearn.metrics import accuracy_score\n",
    "\n",
    "train_acc_maha_ss = accuracy_score(kdd_train_y['class_binary'], bi_pvalue_ss)\n",
    "print(\"Training accuracy: {:.4f}\".format(train_acc_maha_ss))\n",
    "cm_maha_ss = confusion_matrix (kdd_train_y[\"class_binary\"], bi_pvalue_ss)\n",
    "print(cm_maha_ss)"
   ]
  },
  {
   "cell_type": "code",
   "execution_count": 24,
   "id": "12a6c49c",
   "metadata": {},
   "outputs": [
    {
     "data": {
      "text/plain": [
       "Text(0.5, 1.0, 'Seaborn Confusion Matrix with labels\\n\\n')"
      ]
     },
     "execution_count": 24,
     "metadata": {},
     "output_type": "execute_result"
    },
    {
     "data": {
      "text/plain": [
       "Text(0.5, 15.0, 'Predicted Values')"
      ]
     },
     "execution_count": 24,
     "metadata": {},
     "output_type": "execute_result"
    },
    {
     "data": {
      "text/plain": [
       "Text(33.0, 0.5, 'Actual Values ')"
      ]
     },
     "execution_count": 24,
     "metadata": {},
     "output_type": "execute_result"
    },
    {
     "data": {
      "text/plain": [
       "[Text(0.5, 0, 'False'), Text(1.5, 0, 'True')]"
      ]
     },
     "execution_count": 24,
     "metadata": {},
     "output_type": "execute_result"
    },
    {
     "data": {
      "text/plain": [
       "[Text(0, 0.5, 'False'), Text(0, 1.5, 'True')]"
      ]
     },
     "execution_count": 24,
     "metadata": {},
     "output_type": "execute_result"
    },
    {
     "data": {
      "image/png": "[encoded data removed]",
      "text/plain": [
       "<Figure size 432x288 with 2 Axes>"
      ]
     },
     "metadata": {
      "needs_background": "light"
     },
     "output_type": "display_data"
    },
    {
     "name": "stdout",
     "output_type": "stream",
     "text": [
      "Precision =  0.3333333333333333\n",
      "Recall =  0.0020637898686679174\n"
     ]
    }
   ],
   "source": [
    "ax = sns.heatmap(cm_maha_ss, annot=True, cmap='Blues')\n",
    "\n",
    "ax.set_title('Seaborn Confusion Matrix with labels\\n\\n');\n",
    "ax.set_xlabel('Predicted Values')\n",
    "ax.set_ylabel('Actual Values ');\n",
    "\n",
    "## Ticket labels - List must be in alphabetical order\n",
    "ax.xaxis.set_ticklabels(['False','True'])\n",
    "ax.yaxis.set_ticklabels(['False','True'])\n",
    "\n",
    "## Display the visualization of the Confusion Matrix.\n",
    "plt.show()\n",
    "\n",
    "\n",
    "## FP,FN,TP,TN\n",
    "TN_maha = cm_maha_ss[0][0]\n",
    "FN_maha = cm_maha_ss[1][0]\n",
    "FP_maha = cm_maha_ss[0][1]\n",
    "TP_maha = cm_maha_ss[1][1]\n",
    "\n",
    "##Precision and Recall\n",
    "Precision_maha_ss = TP_maha/(TP_maha+FP_maha)\n",
    "Recall_maha_ss = TP_maha/(TP_maha+FN_maha)\n",
    "\n",
    "print (\"Precision = \",Precision_maha_ss)\n",
    "print (\"Recall = \",Recall_maha_ss)\n"
   ]
  },
  {
   "cell_type": "markdown",
   "id": "cf5ef0fd",
   "metadata": {},
   "source": [
    "## After PCA"
   ]
  },
  {
   "cell_type": "code",
   "execution_count": 298,
   "id": "54464ede",
   "metadata": {},
   "outputs": [
    {
     "name": "stderr",
     "output_type": "stream",
     "text": [
      "C:\\WINDOWS\\system32\\myenv\\lib\\site-packages\\numpy\\core\\fromnumeric.py:3430: FutureWarning: In a future version, DataFrame.mean(axis=None) will return a scalar mean over the entire DataFrame. To retain the old behavior, use 'frame.mean(axis=0)' or just 'frame.mean()'\n",
      "  return mean(axis=axis, dtype=dtype, out=out, **kwargs)\n"
     ]
    },
    {
     "data": {
      "text/plain": [
       "Variable 0    -2.848421e-16\n",
       "Variable 1    -3.555449e-16\n",
       "Variable 2    -4.825958e-16\n",
       "Variable 3     1.799863e-16\n",
       "Variable 4     3.686025e-17\n",
       "Variable 5    -1.351308e-16\n",
       "Variable 6    -6.382154e-17\n",
       "Variable 7    -2.857727e-16\n",
       "Variable 8    -1.254433e-16\n",
       "Variable 9    -4.577214e-17\n",
       "Variable 10   -3.790373e-17\n",
       "Variable 11   -1.240896e-17\n",
       "Variable 12    7.896611e-19\n",
       "Variable 13    1.889546e-18\n",
       "Variable 14    7.445376e-18\n",
       "Variable 15    4.963584e-18\n",
       "Variable 16   -3.057117e-17\n",
       "Variable 17    1.692131e-18\n",
       "Variable 18    7.941735e-17\n",
       "Variable 19    5.921048e-17\n",
       "Variable 20   -3.721278e-16\n",
       "Variable 21    3.501019e-16\n",
       "Variable 22   -2.716434e-16\n",
       "Variable 23   -2.461487e-16\n",
       "Variable 24   -2.059887e-16\n",
       "dtype: float64"
      ]
     },
     "execution_count": 298,
     "metadata": {},
     "output_type": "execute_result"
    },
    {
     "name": "stdout",
     "output_type": "stream",
     "text": [
      "160\n"
     ]
    }
   ],
   "source": [
    "#Use new PCA data for Mahalanobis Distance\n",
    "import scipy as sp\n",
    "mu_vec_pca = np.mean(data_array_pca,axis = 0)\n",
    "inv_cormat_pca = sp.linalg.pinv(np.cov(data_array_pca, rowvar=False))\n",
    "\n",
    "# For loop to get the distance for all the variables\n",
    "mahal_dist = []\n",
    "\n",
    "for i in range(data_array_pca.shape[0]):\n",
    "    x_minus_mu_pca = data_array_pca[i,:] - mu_vec_pca\n",
    "    left_term_pca = np.dot(x_minus_mu_pca, inv_cormat_pca)\n",
    "    mahal = np.dot(left_term_pca, x_minus_mu_pca.T)\n",
    "    mahal = np.sqrt(mahal)\n",
    "    mahal_dist.append(mahal)\n",
    "\n",
    "np.mean(one_hot_data_maha)\n",
    "\n",
    "from scipy.stats import chi2\n",
    "one_hot_data_maha['p-value'] = 1 - chi2.cdf(mahal_dist, df = 24) #pdf(x, degreeOfFreedom = Number of Variables)\n",
    "\n",
    "#Calculate number of p-value less than 0.01\n",
    "print(np.count_nonzero(one_hot_data_maha['p-value'] < 0.01))"
   ]
  },
  {
   "cell_type": "code",
   "execution_count": 26,
   "id": "34ce3f41",
   "metadata": {},
   "outputs": [
    {
     "name": "stdout",
     "output_type": "stream",
     "text": [
      "Training accuracy: 0.5339\n",
      "[[67223   120]\n",
      " [58590    40]]\n"
     ]
    }
   ],
   "source": [
    "pvalue = one_hot_data_maha['p-value']\n",
    "bi_pvalue = pvalue\n",
    "\n",
    "bi_pvalue = np.where(pvalue < 0.01, 1, bi_pvalue)\n",
    "bi_pvalue = np.where(pvalue >= 0.01, 0, bi_pvalue)\n",
    "\n",
    "from sklearn.metrics import accuracy_score\n",
    "\n",
    "train_acc_maha = accuracy_score(kdd_train_y['class_binary'], bi_pvalue)\n",
    "print(\"Training accuracy: {:.4f}\".format(train_acc_maha))\n",
    "cm_maha = confusion_matrix (kdd_train_y[\"class_binary\"], bi_pvalue)\n",
    "print(cm_maha)"
   ]
  },
  {
   "cell_type": "code",
   "execution_count": 27,
   "id": "d6a4f3b9",
   "metadata": {},
   "outputs": [
    {
     "data": {
      "text/plain": [
       "Text(0.5, 1.0, 'Seaborn Confusion Matrix with labels\\n\\n')"
      ]
     },
     "execution_count": 27,
     "metadata": {},
     "output_type": "execute_result"
    },
    {
     "data": {
      "text/plain": [
       "Text(0.5, 15.0, 'Predicted Values')"
      ]
     },
     "execution_count": 27,
     "metadata": {},
     "output_type": "execute_result"
    },
    {
     "data": {
      "text/plain": [
       "Text(33.0, 0.5, 'Actual Values ')"
      ]
     },
     "execution_count": 27,
     "metadata": {},
     "output_type": "execute_result"
    },
    {
     "data": {
      "text/plain": [
       "[Text(0.5, 0, 'False'), Text(1.5, 0, 'True')]"
      ]
     },
     "execution_count": 27,
     "metadata": {},
     "output_type": "execute_result"
    },
    {
     "data": {
      "text/plain": [
       "[Text(0, 0.5, 'False'), Text(0, 1.5, 'True')]"
      ]
     },
     "execution_count": 27,
     "metadata": {},
     "output_type": "execute_result"
    },
    {
     "data": {
      "image/png": "[encoded data removed]",
      "text/plain": [
       "<Figure size 432x288 with 2 Axes>"
      ]
     },
     "metadata": {
      "needs_background": "light"
     },
     "output_type": "display_data"
    },
    {
     "name": "stdout",
     "output_type": "stream",
     "text": [
      "Precision =  0.25\n",
      "Recall =  0.0006822445846836091\n"
     ]
    }
   ],
   "source": [
    "ax = sns.heatmap(cm_maha, annot=True, cmap='Blues')\n",
    "\n",
    "ax.set_title('Seaborn Confusion Matrix with labels\\n\\n');\n",
    "ax.set_xlabel('Predicted Values')\n",
    "ax.set_ylabel('Actual Values ');\n",
    "\n",
    "## Ticket labels - List must be in alphabetical order\n",
    "ax.xaxis.set_ticklabels(['False','True'])\n",
    "ax.yaxis.set_ticklabels(['False','True'])\n",
    "\n",
    "## Display the visualization of the Confusion Matrix.\n",
    "plt.show()\n",
    "\n",
    "\n",
    "## FP,FN,TP,TN\n",
    "TN_maha = cm_maha[0][0]\n",
    "FN_maha = cm_maha[1][0]\n",
    "FP_maha = cm_maha[0][1]\n",
    "TP_maha = cm_maha[1][1]\n",
    "\n",
    "##Precision and Recall\n",
    "Precision_maha = TP_maha/(TP_maha+FP_maha)\n",
    "Recall_maha = TP_maha/(TP_maha+FN_maha)\n",
    "\n",
    "print (\"Precision = \",Precision_maha)\n",
    "print (\"Recall = \",Recall_maha)"
   ]
  },
  {
   "cell_type": "code",
   "execution_count": 28,
   "id": "420c30b2",
   "metadata": {},
   "outputs": [],
   "source": [
    "one_hot_data_pca = one_hot_data_pca.drop(['p-value'], axis =1)"
   ]
  },
  {
   "cell_type": "markdown",
   "id": "adb01324",
   "metadata": {},
   "source": [
    "# Minimum Covariance Determinant (MCD)"
   ]
  },
  {
   "cell_type": "markdown",
   "id": "d28409a6",
   "metadata": {},
   "source": [
    "## Before PCA"
   ]
  },
  {
   "cell_type": "code",
   "execution_count": 29,
   "id": "54056458",
   "metadata": {},
   "outputs": [],
   "source": [
    "from sklearn.covariance import MinCovDet\n",
    "from sklearn.datasets import make_gaussian_quantiles\n",
    "\n",
    "rng = np.random.RandomState(42)"
   ]
  },
  {
   "cell_type": "code",
   "execution_count": 30,
   "id": "4b37d262",
   "metadata": {},
   "outputs": [],
   "source": [
    "one_hot_data_ss = one_hot_data_ss.drop(['p-value'],axis = 1)"
   ]
  },
  {
   "cell_type": "code",
   "execution_count": 31,
   "id": "7b5601c8",
   "metadata": {},
   "outputs": [
    {
     "name": "stderr",
     "output_type": "stream",
     "text": [
      "C:\\WINDOWS\\system32\\myenv\\lib\\site-packages\\sklearn\\utils\\validation.py:1858: FutureWarning: Feature names only support names that are all strings. Got feature names with dtypes: ['str', 'tuple']. An error will be raised in 1.2.\n",
      "  warnings.warn(\n",
      "C:\\WINDOWS\\system32\\myenv\\lib\\site-packages\\sklearn\\covariance\\_robust_covariance.py:738: UserWarning: The covariance matrix associated to your dataset is not full rank\n",
      "  warnings.warn(\n"
     ]
    }
   ],
   "source": [
    "mcd_model_ss = MinCovDet(random_state=42).fit(one_hot_data_ss)"
   ]
  },
  {
   "cell_type": "code",
   "execution_count": 32,
   "id": "7c498d8d",
   "metadata": {},
   "outputs": [],
   "source": [
    "pickle.dump(mcd_model_ss,open('model_mcd_ss.sav','wb'))"
   ]
  },
  {
   "cell_type": "code",
   "execution_count": 33,
   "id": "89a6ae23",
   "metadata": {},
   "outputs": [
    {
     "data": {
      "text/plain": [
       "(121,)"
      ]
     },
     "execution_count": 33,
     "metadata": {},
     "output_type": "execute_result"
    }
   ],
   "source": [
    "mcd_model_ss.raw_location_.shape"
   ]
  },
  {
   "cell_type": "code",
   "execution_count": 34,
   "id": "a2860fee",
   "metadata": {},
   "outputs": [
    {
     "data": {
      "text/plain": [
       "array([ 2.54947740e-17, -4.51234938e-19,  7.61458958e-19, -4.79437122e-18,\n",
       "        4.23032754e-19,  4.45594501e-18, -2.24489382e-17,  2.98943147e-18,\n",
       "        1.55817065e-17, -6.54995715e-18,  1.75417582e-17, -3.66628387e-19,\n",
       "        3.58167732e-18, -4.65336030e-18,  3.97650789e-18, -5.30201052e-18,\n",
       "       -7.33256774e-19,  8.31964417e-18, -3.94830571e-17,  4.16264230e-17,\n",
       "        4.48414720e-18, -1.23243542e-16,  3.82985654e-17, -1.84724303e-17,\n",
       "       -1.61880534e-16, -1.71469276e-17, -2.72997138e-17, -1.75699604e-17,\n",
       "       -5.81529027e-17, -1.21551411e-16, -2.37462386e-17,  2.89918448e-17,\n",
       "        3.06839758e-17,  1.71187255e-17, -2.63126373e-17,  4.90717995e-17,\n",
       "        7.74996006e-17,  1.48444508e-03,  5.79489256e-04,  6.84273614e-03,\n",
       "        1.58764180e-05,  7.58098958e-03,  5.63612838e-03,  5.82664539e-03,\n",
       "        4.32632389e-03,  4.46921166e-03,  4.13580688e-03,  4.27075643e-03,\n",
       "        4.51684091e-03,  7.17852238e-02,  3.44518270e-03,  3.64046264e-02,\n",
       "        2.44258690e-02,  3.85003136e-03,  3.76271106e-03,  1.40268153e-02,\n",
       "        1.39236186e-02,  5.44561136e-02,  4.11199225e-03,  1.58764180e-05,\n",
       "        3.65157613e-03,  3.20211474e-01,  7.93820898e-06,  4.20725076e-03,\n",
       "        1.58764180e-05,  5.13602121e-03,  5.45354957e-03,  3.43724449e-03,\n",
       "        2.37352449e-03,  3.25466568e-03,  3.77064927e-03,  3.40549165e-03,\n",
       "        3.48487374e-03,  3.58013225e-03,  3.21497464e-03,  2.75455852e-03,\n",
       "        2.87363165e-03,  2.85775523e-03,  5.00107166e-03,  2.34970986e-03,\n",
       "        1.33361911e-03,  3.46026529e-02,  3.96910449e-05,  6.19180301e-04,\n",
       "        2.09568717e-03,  5.47736420e-04,  1.73473681e-01,  6.35056719e-05,\n",
       "        6.19180301e-04,  6.82685972e-04,  5.15983584e-04,  5.80521223e-02,\n",
       "        1.94486120e-03,  2.46878299e-03,  3.02445762e-03,  4.31838569e-03,\n",
       "        3.78652568e-03,  1.86786057e-02,  2.38146269e-05,  6.35056719e-05,\n",
       "        5.19158867e-03,  7.93820898e-05,  4.77880181e-03,  6.19180301e-03,\n",
       "        5.46942599e-03,  4.89787494e-03,  5.50117882e-03,  3.65157613e-04,\n",
       "        8.91699015e-02,  1.23994824e-02,  8.17635525e-04,  1.92184039e-02,\n",
       "        2.76654521e-01,  2.89744628e-03,  1.00815254e-03,  3.88972240e-04,\n",
       "        5.94929072e-01,  2.15125463e-03,  6.58156907e-02,  8.15166742e-01,\n",
       "        1.19017567e-01])"
      ]
     },
     "execution_count": 34,
     "metadata": {},
     "output_type": "execute_result"
    },
    {
     "data": {
      "text/plain": [
       "array([[ 1.56177027e+00, -1.00906473e-01, -2.58064545e-02, ...,\n",
       "         2.13955467e-01, -1.11981909e-01, -1.01973558e-01],\n",
       "       [-1.00906473e-01,  1.04742432e+00,  1.30112677e-03, ...,\n",
       "        -2.74288338e-02,  8.52409880e-02, -5.78121541e-02],\n",
       "       [-2.58064545e-02,  1.30112677e-03,  1.00165155e+00, ...,\n",
       "        -7.63146805e-03, -3.31085977e-02,  4.07400658e-02],\n",
       "       ...,\n",
       "       [ 2.13955467e-01, -2.74288338e-02, -7.63146805e-03, ...,\n",
       "         4.80410835e+02, -2.43712460e+02, -2.36698376e+02],\n",
       "       [-1.11981909e-01,  8.52409880e-02, -3.31085977e-02, ...,\n",
       "        -2.43712460e+02,  1.52508272e+02,  9.12041879e+01],\n",
       "       [-1.01973558e-01, -5.78121541e-02,  4.07400658e-02, ...,\n",
       "        -2.36698376e+02,  9.12041879e+01,  1.45494188e+02]])"
      ]
     },
     "execution_count": 34,
     "metadata": {},
     "output_type": "execute_result"
    },
    {
     "name": "stderr",
     "output_type": "stream",
     "text": [
      "C:\\WINDOWS\\system32\\myenv\\lib\\site-packages\\numpy\\core\\fromnumeric.py:3430: FutureWarning: In a future version, DataFrame.mean(axis=None) will return a scalar mean over the entire DataFrame. To retain the old behavior, use 'frame.mean(axis=0)' or just 'frame.mean()'\n",
      "  return mean(axis=axis, dtype=dtype, out=out, **kwargs)\n"
     ]
    },
    {
     "data": {
      "text/plain": [
       "(duration,)           2.549477e-17\n",
       "(src_bytes,)         -4.512349e-19\n",
       "(dst_bytes,)          7.614590e-19\n",
       "(land,)              -4.794371e-18\n",
       "(wrong_fragment,)     4.230328e-19\n",
       "                          ...     \n",
       "flag_SH               2.151255e-03\n",
       "protocol_type_icmp    6.581569e-02\n",
       "protocol_type_tcp     8.151667e-01\n",
       "protocol_type_udp     1.190176e-01\n",
       "p-value               9.649991e-01\n",
       "Length: 122, dtype: float64"
      ]
     },
     "execution_count": 34,
     "metadata": {},
     "output_type": "execute_result"
    },
    {
     "name": "stdout",
     "output_type": "stream",
     "text": [
      "27801\n"
     ]
    }
   ],
   "source": [
    "np.mean(data_array_ss,axis = 0)\n",
    "sp.linalg.pinv(np.cov(data_array_ss, rowvar=False))\n",
    "inv_cormat_mcd_ss = sp.linalg.pinv(mcd_model_ss.covariance_)\n",
    "mu_vect_mcd_ss = mcd_model_ss.location_\n",
    "mahal_dist = []\n",
    "for i in range(data_array_ss.shape[0]):\n",
    "    x_minus_mu_mcd_ss = data_array_ss[i,:] - mu_vect_mcd_ss\n",
    "    left_term_mcd_ss = np.dot(x_minus_mu_mcd_ss, inv_cormat_mcd_ss)\n",
    "    mahal = np.dot(left_term_mcd_ss, x_minus_mu_mcd_ss.T)\n",
    "    mahal = np.sqrt(mahal)\n",
    "    mahal_dist.append(mahal)\n",
    "    \n",
    "np.mean(one_hot_data_maha_ss)\n",
    "\n",
    "from scipy.stats import chi2\n",
    "one_hot_data_maha_ss['p-value_mcd'] = 1 - chi2.cdf(mahal_dist, df = 121) #pdf(x, degreeOfFreedom = Number of Variables)\n",
    "\n",
    "#Calculate number of p-value less than 0.01\n",
    "print(np.count_nonzero(one_hot_data_maha_ss['p-value_mcd'] < 0.01))"
   ]
  },
  {
   "cell_type": "code",
   "execution_count": 35,
   "id": "34b45a4f",
   "metadata": {},
   "outputs": [],
   "source": [
    "pvalue_mcd_ss = one_hot_data_maha_ss['p-value_mcd']\n",
    "bi_pvalue_mcd_ss = pvalue_mcd_ss\n",
    "\n",
    "bi_pvalue_mcd_ss = np.where(pvalue_mcd_ss < 0.01, 1, bi_pvalue_mcd_ss)\n",
    "bi_pvalue_mcd_ss = np.where(pvalue_mcd_ss >= 0.01, 0, bi_pvalue_mcd_ss)\n"
   ]
  },
  {
   "cell_type": "code",
   "execution_count": 36,
   "id": "5725bc0a",
   "metadata": {},
   "outputs": [
    {
     "name": "stdout",
     "output_type": "stream",
     "text": [
      "Training accuracy: 0.5353\n",
      "[[53490 13853]\n",
      " [44682 13948]]\n"
     ]
    }
   ],
   "source": [
    "from sklearn.metrics import accuracy_score\n",
    "\n",
    "train_acc_maha_mcd_ss = accuracy_score(kdd_train_y['class_binary'], bi_pvalue_mcd_ss)\n",
    "print(\"Training accuracy: {:.4f}\".format(train_acc_maha_mcd_ss))\n",
    "cm_maha_mcd_ss = confusion_matrix (kdd_train_y[\"class_binary\"], bi_pvalue_mcd_ss)\n",
    "print(cm_maha_mcd_ss)"
   ]
  },
  {
   "cell_type": "code",
   "execution_count": 37,
   "id": "10dbb212",
   "metadata": {},
   "outputs": [
    {
     "data": {
      "text/plain": [
       "Text(0.5, 1.0, 'Seaborn Confusion Matrix with labels\\n\\n')"
      ]
     },
     "execution_count": 37,
     "metadata": {},
     "output_type": "execute_result"
    },
    {
     "data": {
      "text/plain": [
       "Text(0.5, 15.0, '\\nPredicted Values')"
      ]
     },
     "execution_count": 37,
     "metadata": {},
     "output_type": "execute_result"
    },
    {
     "data": {
      "text/plain": [
       "Text(33.0, 0.5, 'Actual Values ')"
      ]
     },
     "execution_count": 37,
     "metadata": {},
     "output_type": "execute_result"
    },
    {
     "data": {
      "text/plain": [
       "[Text(0.5, 0, 'False'), Text(1.5, 0, 'True')]"
      ]
     },
     "execution_count": 37,
     "metadata": {},
     "output_type": "execute_result"
    },
    {
     "data": {
      "text/plain": [
       "[Text(0, 0.5, 'False'), Text(0, 1.5, 'True')]"
      ]
     },
     "execution_count": 37,
     "metadata": {},
     "output_type": "execute_result"
    },
    {
     "data": {
      "image/png": "[encoded data removed]",
      "text/plain": [
       "<Figure size 432x288 with 2 Axes>"
      ]
     },
     "metadata": {
      "needs_background": "light"
     },
     "output_type": "display_data"
    },
    {
     "name": "stdout",
     "output_type": "stream",
     "text": [
      "0.5017085716341139\n",
      "0.2378986866791745\n"
     ]
    }
   ],
   "source": [
    "ax = sns.heatmap(cm_maha_mcd_ss, annot=True, cmap='Blues')\n",
    "\n",
    "ax.set_title('Seaborn Confusion Matrix with labels\\n\\n');\n",
    "ax.set_xlabel('\\nPredicted Values')\n",
    "ax.set_ylabel('Actual Values ');\n",
    "\n",
    "## Ticket labels - List must be in alphabetical order\n",
    "ax.xaxis.set_ticklabels(['False','True'])\n",
    "ax.yaxis.set_ticklabels(['False','True'])\n",
    "\n",
    "## Display the visualization of the Confusion Matrix.\n",
    "plt.show()\n",
    "\n",
    "## FP,FN,TP,TN\n",
    "TN_maha_mcd = cm_maha_mcd_ss[0][0]\n",
    "FN_maha_mcd = cm_maha_mcd_ss[1][0]\n",
    "FP_maha_mcd = cm_maha_mcd_ss[0][1]\n",
    "TP_maha_mcd = cm_maha_mcd_ss[1][1]\n",
    "\n",
    "##Precision and Recall\n",
    "Precision_maha_mcd_ss = TP_maha_mcd/(TP_maha_mcd+FP_maha_mcd)\n",
    "Recall_maha_mcd_ss = TP_maha_mcd/(TP_maha_mcd+FN_maha_mcd)\n",
    "\n",
    "print (Precision_maha_mcd_ss)\n",
    "print (Recall_maha_mcd_ss)"
   ]
  },
  {
   "cell_type": "markdown",
   "id": "812f0bc4",
   "metadata": {},
   "source": [
    "## MCD with PCA"
   ]
  },
  {
   "cell_type": "code",
   "execution_count": 38,
   "id": "d3fd663a",
   "metadata": {},
   "outputs": [
    {
     "name": "stderr",
     "output_type": "stream",
     "text": [
      "C:\\WINDOWS\\system32\\myenv\\lib\\site-packages\\sklearn\\covariance\\_robust_covariance.py:183: RuntimeWarning: Determinant has increased; this should not happen: log(det) > log(previous_det) (-321.056761912893933 > -321.181892897730620). You may want to try with a higher value of support_fraction (current value: 0.501).\n",
      "  warnings.warn(\n"
     ]
    }
   ],
   "source": [
    "mcd_model = MinCovDet(random_state=42).fit(one_hot_data_pca)"
   ]
  },
  {
   "cell_type": "code",
   "execution_count": 39,
   "id": "cc31ef20",
   "metadata": {},
   "outputs": [],
   "source": [
    "pickle.dump(mcd_model,open('model_mcd.sav','wb'))"
   ]
  },
  {
   "cell_type": "code",
   "execution_count": 40,
   "id": "cb0ca94f",
   "metadata": {},
   "outputs": [
    {
     "data": {
      "text/plain": [
       "array([-2.84842055e-16, -3.55544929e-16, -4.82595766e-16,  1.79986336e-16,\n",
       "        3.68602540e-17, -1.35130763e-16, -6.38215416e-17, -2.85772727e-16,\n",
       "       -1.25443313e-16, -4.57721440e-17, -3.79037348e-17, -1.24089608e-17,\n",
       "        7.89661142e-19,  1.88954630e-18,  7.44537648e-18,  4.96358432e-18,\n",
       "       -3.05711671e-17,  1.69213102e-18,  7.94173491e-17,  5.92104845e-17,\n",
       "       -3.72127813e-16,  3.50101908e-16, -2.71643433e-16, -2.46148659e-16,\n",
       "       -2.05988749e-16])"
      ]
     },
     "execution_count": 40,
     "metadata": {},
     "output_type": "execute_result"
    },
    {
     "data": {
      "text/plain": [
       "array([[ 1.00000000e+00,  1.47998086e-14, -2.84447312e-15,\n",
       "        -2.47533825e-14, -4.08369393e-15,  2.58741240e-14,\n",
       "         1.41804317e-14, -1.11790232e-14, -2.57952057e-16,\n",
       "         1.77808539e-15, -6.70651673e-15, -1.79928244e-15,\n",
       "         8.70037397e-16, -5.60913854e-16, -4.41744823e-15,\n",
       "         2.21242203e-15,  7.94671593e-16,  1.04049892e-16,\n",
       "         1.54047054e-15,  1.83210565e-15,  1.57209858e-14,\n",
       "         1.69499219e-14, -9.14447138e-15,  1.39543246e-14,\n",
       "        -2.16215934e-14],\n",
       "       [ 1.05163667e-14,  1.00000000e+00, -2.13534084e-14,\n",
       "        -3.72249987e-16,  1.80035805e-14, -3.29275712e-15,\n",
       "         5.66937193e-14, -3.00194938e-14, -8.40962371e-14,\n",
       "         3.29328554e-16, -6.03031249e-15,  5.21730254e-15,\n",
       "        -2.01792802e-15,  3.37017948e-16, -4.60179934e-15,\n",
       "         1.24054736e-14,  4.77526279e-14, -8.04654356e-15,\n",
       "        -2.33805247e-14,  1.16448651e-14,  4.31829355e-14,\n",
       "        -1.53075673e-14,  4.44803512e-15,  2.47310507e-14,\n",
       "        -5.44009282e-15],\n",
       "       [-1.53713702e-15, -2.22305979e-14,  1.00000000e+00,\n",
       "         8.73070558e-16,  2.63587072e-14,  1.27870561e-15,\n",
       "         1.97324148e-13,  1.43623337e-13, -1.79039302e-15,\n",
       "         3.57101462e-14,  6.40894486e-15,  4.46628596e-14,\n",
       "        -2.09892592e-15, -1.85347838e-15,  2.64239226e-15,\n",
       "         4.54499017e-15,  3.29832788e-14, -5.00917578e-15,\n",
       "        -4.97080530e-15,  4.34122338e-14,  1.25628517e-14,\n",
       "        -1.03328728e-14,  3.42754935e-15,  4.98886661e-15,\n",
       "        -1.26287869e-14],\n",
       "       [-2.87261325e-14,  6.59086568e-16,  1.75480521e-16,\n",
       "         1.00000000e+00, -4.28474304e-14,  2.66935367e-14,\n",
       "        -1.52947082e-14,  1.88673457e-15,  1.88334026e-14,\n",
       "        -1.51158284e-17, -1.20468624e-14, -4.24200642e-15,\n",
       "         4.02390057e-16, -7.62477062e-16, -9.68268814e-15,\n",
       "        -1.29930949e-15, -8.90935179e-15,  2.77730865e-15,\n",
       "         3.34775394e-15, -4.04513997e-15, -2.16941753e-14,\n",
       "         2.99922029e-15, -7.03553014e-16, -8.46108530e-15,\n",
       "         6.35602682e-15],\n",
       "       [-1.84817758e-15,  1.71144582e-14,  2.65760642e-14,\n",
       "        -4.32768446e-14,  1.00000000e+00, -2.46382132e-14,\n",
       "        -3.00013059e-14,  3.05612349e-14,  4.67188081e-14,\n",
       "         1.52925340e-15,  9.99083570e-15,  2.62525192e-15,\n",
       "         7.47693555e-16, -9.22364853e-16, -1.08517950e-14,\n",
       "        -8.11364347e-15, -2.22357890e-14,  4.57863520e-15,\n",
       "         1.10395814e-14, -6.33917932e-15, -1.49712277e-14,\n",
       "         1.08513086e-14, -3.27997260e-15, -1.13580858e-14,\n",
       "        -7.91033905e-16],\n",
       "       [ 1.97624276e-14, -3.60737721e-15,  1.85748113e-15,\n",
       "         2.72602931e-14, -2.42634944e-14,  1.00000000e+00,\n",
       "         4.45634648e-14, -2.84981579e-14, -2.74556641e-14,\n",
       "        -6.88017187e-15,  4.09494618e-14, -1.34913715e-16,\n",
       "        -6.11500268e-16, -1.25156268e-15, -7.45561996e-15,\n",
       "         1.88568904e-15,  7.21515559e-15, -2.74283318e-15,\n",
       "        -9.07842071e-15,  5.39981202e-15,  3.61108008e-14,\n",
       "         2.74519839e-15, -2.35438663e-16,  1.57545828e-14,\n",
       "        -1.40581990e-14],\n",
       "       [ 9.50889209e-15,  5.55819951e-14,  1.98359754e-13,\n",
       "        -1.65714114e-14, -2.97091328e-14,  4.53138429e-14,\n",
       "         1.00000000e+00,  4.31485758e-14,  1.17233338e-13,\n",
       "        -9.24250268e-15, -2.16313232e-14,  3.19145724e-14,\n",
       "         6.18701925e-15,  8.19883734e-16,  1.24205231e-14,\n",
       "        -5.27940566e-15, -3.49631409e-14,  1.34755359e-14,\n",
       "         2.16600370e-14, -6.74835338e-14, -4.05088811e-14,\n",
       "         3.26122708e-14, -1.11509474e-14, -1.67652985e-14,\n",
       "         6.13398221e-15],\n",
       "       [-7.71832631e-15, -2.72436186e-14,  1.42959613e-13,\n",
       "         2.30585611e-15,  3.10011672e-14, -2.88548730e-14,\n",
       "         4.49380832e-14,  1.00000000e+00, -6.50709187e-14,\n",
       "        -2.56021979e-14,  4.22866262e-14,  2.55785143e-14,\n",
       "        -5.89438674e-15, -3.55823975e-15, -1.51094323e-14,\n",
       "         1.56022234e-14,  1.94034233e-14,  1.58618535e-15,\n",
       "        -3.46271306e-14, -5.25639908e-14,  3.87507725e-14,\n",
       "        -2.09288911e-14,  8.94208011e-15,  2.09056005e-14,\n",
       "         1.85407245e-14],\n",
       "       [-1.51844021e-15, -8.52566915e-14, -1.92253476e-15,\n",
       "         1.75759106e-14,  4.62524677e-14, -2.71858200e-14,\n",
       "         1.18838153e-13, -6.48676122e-14,  1.00000000e+00,\n",
       "        -5.59018990e-15, -5.63957561e-14,  1.63465494e-14,\n",
       "        -3.88373561e-14,  1.57346628e-14, -8.34509741e-15,\n",
       "         2.29885667e-14,  5.23530388e-14, -8.41075787e-15,\n",
       "        -5.73017212e-14, -1.27045683e-15,  7.97567088e-14,\n",
       "        -4.79843232e-14,  1.45283049e-14,  4.83396380e-14,\n",
       "         1.17406085e-14],\n",
       "       [ 4.19130151e-15, -5.11244625e-16,  3.71568087e-14,\n",
       "         1.22601617e-15,  1.71386142e-15, -8.03351480e-15,\n",
       "        -1.09280823e-14, -2.65935112e-14, -2.87585248e-15,\n",
       "         1.00000000e+00,  2.34970975e-14,  1.16427825e-14,\n",
       "        -3.68905704e-15,  8.89043581e-16, -7.26268219e-15,\n",
       "         6.95070973e-15, -7.43685158e-15, -4.26076652e-14,\n",
       "        -4.73002843e-15, -1.90047877e-14,  9.38964356e-15,\n",
       "        -1.76567103e-15,  2.62259639e-15,  5.34822874e-15,\n",
       "         6.67521594e-15],\n",
       "       [-6.04533765e-15, -5.15559382e-15,  5.62203598e-15,\n",
       "        -1.13357293e-14,  1.04240269e-14,  4.10660267e-14,\n",
       "        -2.13565111e-14,  4.22795170e-14, -5.58202092e-14,\n",
       "         2.11888408e-14,  1.00000000e+00,  5.41081547e-15,\n",
       "        -1.93081927e-14,  5.34005447e-15,  1.00938310e-14,\n",
       "         1.83297651e-14,  4.07101897e-14,  2.05521412e-17,\n",
       "        -5.74144318e-15, -1.24622673e-14, -3.84206264e-14,\n",
       "        -2.95907162e-15, -1.12272329e-14,  5.39975876e-15,\n",
       "         1.36279876e-14],\n",
       "       [-2.49535819e-15,  5.45152969e-15,  4.39128633e-14,\n",
       "        -4.38649508e-15,  3.70383649e-15,  9.52294831e-16,\n",
       "         3.35849209e-14,  2.62609462e-14,  1.62197982e-14,\n",
       "         1.32565291e-14,  2.71962183e-15,  1.00000000e+00,\n",
       "         3.20521991e-14, -1.66534915e-14, -3.18433327e-15,\n",
       "         2.75341558e-14, -1.79443239e-14, -2.48181390e-15,\n",
       "        -2.99540225e-15, -2.66860510e-14,  2.85469472e-16,\n",
       "        -9.47945221e-16,  1.44667354e-15, -1.08755794e-15,\n",
       "         1.53488333e-14],\n",
       "       [ 8.25401209e-16, -2.47393993e-15, -1.65384847e-15,\n",
       "         5.40226222e-16,  9.24233550e-16, -4.77331043e-16,\n",
       "         5.45265251e-15, -6.25940210e-15, -3.92233882e-14,\n",
       "        -1.88937580e-15, -1.78567845e-14,  3.23260543e-14,\n",
       "         1.00000000e+00,  4.02393974e-14,  2.41728418e-15,\n",
       "        -8.54561884e-14, -5.61798551e-14,  6.09423366e-15,\n",
       "         4.36977905e-15, -1.14998850e-15, -5.02583962e-15,\n",
       "         2.01851123e-15, -7.26022207e-16, -3.16951374e-16,\n",
       "         8.32667268e-17],\n",
       "       [-6.97842251e-16,  2.22528802e-16, -2.26337852e-15,\n",
       "        -1.18622913e-15, -1.17410958e-15, -1.13317217e-15,\n",
       "         2.45598453e-16, -2.86285197e-15,  1.57836838e-14,\n",
       "        -6.70588302e-16,  3.95051740e-15, -1.27245114e-14,\n",
       "         3.95837538e-14,  1.00000000e+00,  1.66021229e-14,\n",
       "         2.66495995e-14,  1.57068690e-14, -2.01692811e-15,\n",
       "        -1.14638778e-15,  2.77058670e-15,  2.00191982e-15,\n",
       "        -1.33556520e-15,  1.48984665e-15, -1.96811606e-16,\n",
       "        -1.36089057e-15],\n",
       "       [-2.96261578e-15, -4.01843511e-15,  2.51451761e-15,\n",
       "        -9.23519334e-15, -1.14055625e-14, -8.53049644e-15,\n",
       "         1.23812534e-14, -1.44567029e-14, -8.34977309e-15,\n",
       "        -7.56379287e-15,  1.00229670e-14, -3.17451718e-15,\n",
       "         2.25842833e-15,  1.69385836e-14,  1.00000000e+00,\n",
       "         1.67418336e-14, -2.08514538e-14, -2.09947297e-15,\n",
       "         3.53443577e-16, -2.78026687e-15,  6.76624055e-15,\n",
       "        -4.20469017e-15,  2.24794894e-16, -5.98053619e-16,\n",
       "         1.14144805e-15],\n",
       "       [ 2.27699931e-15,  1.28544299e-14,  4.62921127e-15,\n",
       "        -1.69917896e-15, -8.50637747e-15,  2.09348442e-15,\n",
       "        -5.03639907e-15,  1.52294111e-14,  2.34345329e-14,\n",
       "         7.38634987e-15,  1.74246733e-14,  2.83866500e-14,\n",
       "        -8.63369327e-14,  2.31801885e-14,  1.67077324e-14,\n",
       "         1.00000000e+00, -2.07736396e-14,  5.00760655e-15,\n",
       "         1.02748560e-14, -1.07670047e-15, -1.21894584e-14,\n",
       "         9.83496679e-15, -3.65181907e-15, -8.31603279e-15,\n",
       "        -8.25728375e-16],\n",
       "       [-2.36057828e-17,  4.73862345e-14,  3.11682140e-14,\n",
       "        -8.80070011e-15, -2.25135550e-14,  6.99581748e-15,\n",
       "        -3.27926951e-14,  2.01954462e-14,  5.35854964e-14,\n",
       "        -1.25012518e-14,  4.14190321e-14, -1.71410415e-14,\n",
       "        -5.56092172e-14,  1.57454643e-14, -2.11831184e-14,\n",
       "        -2.11706238e-14,  1.00000000e+00,  1.35698199e-14,\n",
       "         4.06671431e-14, -1.78788154e-14, -4.34038084e-14,\n",
       "         3.15887043e-14, -5.64602159e-15, -3.22956923e-14,\n",
       "        -4.21190860e-15],\n",
       "       [-2.38233191e-15, -7.12823958e-15, -3.85928152e-15,\n",
       "         1.83712602e-15,  4.75831748e-15, -1.76732746e-15,\n",
       "         1.24322200e-14, -3.72005728e-16, -5.92691741e-15,\n",
       "        -4.24545696e-14,  1.86253855e-15, -3.84716059e-15,\n",
       "         4.19050510e-15, -3.06538279e-16, -1.47413928e-15,\n",
       "         4.27276063e-15,  1.89241195e-14,  1.00000000e+00,\n",
       "        -7.99052184e-15, -3.39802956e-15,  1.14582344e-14,\n",
       "        -4.71450029e-15,  1.55287016e-15,  5.42295581e-15,\n",
       "         5.51642065e-16],\n",
       "       [-9.46689833e-17, -2.35574392e-14, -4.70297127e-15,\n",
       "         4.49685748e-15,  1.25538908e-14, -9.01451400e-15,\n",
       "         2.04891317e-14, -3.41191727e-14, -5.60115572e-14,\n",
       "        -4.02209050e-15, -5.58371988e-15, -4.13879844e-15,\n",
       "         3.34526285e-15, -1.39212884e-15,  8.46123515e-16,\n",
       "         1.05107461e-14,  4.14401513e-14, -7.98607745e-15,\n",
       "         1.00000000e+00, -1.63627459e-14,  2.99481955e-14,\n",
       "        -1.87001886e-14,  1.19101594e-16,  1.64820778e-14,\n",
       "        -5.89805982e-16],\n",
       "       [ 3.35598268e-15,  1.04204427e-14,  4.30660310e-14,\n",
       "        -3.51461651e-15, -7.29262798e-15,  4.69004649e-15,\n",
       "        -6.89314282e-14, -5.15176462e-14, -1.15156705e-15,\n",
       "        -1.90775327e-14, -1.15738181e-14, -2.70444103e-14,\n",
       "        -2.15918529e-15,  6.32126595e-16, -1.62165410e-15,\n",
       "        -3.45268398e-15, -1.52161429e-14, -3.79581145e-15,\n",
       "        -1.65274020e-14,  1.00000000e+00,  1.63561892e-15,\n",
       "         3.81142589e-15,  1.57681039e-15, -6.71132676e-15,\n",
       "        -4.27435864e-15],\n",
       "       [ 1.53275750e-14,  4.36265417e-14,  1.25543916e-14,\n",
       "        -2.14761581e-14, -1.59508673e-14,  3.50241814e-14,\n",
       "        -4.10417986e-14,  3.91663305e-14,  8.00917408e-14,\n",
       "         8.89100448e-15, -3.79340075e-14,  2.01256670e-16,\n",
       "        -5.80439162e-15,  3.02032589e-15,  5.95728186e-15,\n",
       "        -1.08768741e-14, -4.30477849e-14,  9.85697815e-15,\n",
       "         2.88546325e-14,  1.90730004e-15,  1.00000000e+00,\n",
       "         2.08769312e-14, -1.29813194e-14, -2.41731861e-14,\n",
       "        -4.86763407e-15],\n",
       "       [ 1.46245509e-14, -1.69610223e-14, -1.03686425e-14,\n",
       "         2.87320924e-17,  6.49922549e-15,  2.50503758e-15,\n",
       "         3.18400429e-14, -1.94818482e-14, -4.81992065e-14,\n",
       "        -6.80900408e-16, -2.56448385e-15, -1.75482889e-15,\n",
       "         9.71797307e-16, -1.13051834e-15, -4.15365778e-15,\n",
       "         1.07341060e-14,  3.28526801e-14, -5.12991060e-15,\n",
       "        -1.73908121e-14,  2.85322993e-15,  2.26379384e-14,\n",
       "         1.00000000e+00, -2.59067835e-16,  1.53739072e-14,\n",
       "        -3.26128013e-15],\n",
       "       [-8.59527403e-15,  2.74272238e-15,  3.55846433e-15,\n",
       "        -1.24042804e-15, -3.91256137e-15,  2.43017815e-16,\n",
       "        -1.19319911e-14,  9.96100724e-15,  1.42536088e-14,\n",
       "         2.41651512e-15, -1.06869264e-14,  1.17182595e-16,\n",
       "        -1.80976996e-15,  1.97931513e-15, -2.10752583e-16,\n",
       "        -2.31179536e-15, -4.15696564e-15,  1.87752272e-15,\n",
       "         6.79271482e-15,  2.74838559e-16, -1.17912704e-14,\n",
       "        -1.48447546e-15,  1.00000000e+00, -5.20033957e-15,\n",
       "         3.56659147e-15],\n",
       "       [ 1.01881385e-14,  2.45421941e-14,  4.36849414e-15,\n",
       "        -1.02729888e-14, -1.34685059e-14,  1.60960073e-14,\n",
       "        -1.70513657e-14,  2.08138306e-14,  4.97226698e-14,\n",
       "         4.86617237e-15,  5.23180359e-15, -3.19601877e-16,\n",
       "        -6.21478679e-16,  6.45194003e-18, -2.44966100e-16,\n",
       "        -8.09575881e-15, -3.24086833e-14,  3.96181455e-15,\n",
       "         1.33055886e-14, -6.59449584e-15, -2.14790572e-14,\n",
       "         1.60081532e-14, -6.61954956e-15,  1.00000000e+00,\n",
       "        -5.59968738e-15],\n",
       "       [-2.22190526e-14, -3.57731018e-15, -1.30974505e-14,\n",
       "         5.49124156e-15,  5.77926337e-16, -1.31800149e-14,\n",
       "         8.04811812e-15,  1.48720690e-14,  1.43115684e-14,\n",
       "         4.70002189e-15,  1.34125388e-14,  1.57633806e-14,\n",
       "        -1.37262275e-17, -3.34123546e-16,  8.19158757e-16,\n",
       "        -1.64085496e-15, -1.92082275e-15,  6.29601819e-16,\n",
       "         1.65861935e-15, -4.79457451e-15, -3.82445832e-15,\n",
       "        -4.04912347e-15,  4.41484701e-15, -5.30760319e-15,\n",
       "         1.00000000e+00]])"
      ]
     },
     "execution_count": 40,
     "metadata": {},
     "output_type": "execute_result"
    },
    {
     "name": "stderr",
     "output_type": "stream",
     "text": [
      "C:\\WINDOWS\\system32\\myenv\\lib\\site-packages\\numpy\\core\\fromnumeric.py:3430: FutureWarning: In a future version, DataFrame.mean(axis=None) will return a scalar mean over the entire DataFrame. To retain the old behavior, use 'frame.mean(axis=0)' or just 'frame.mean()'\n",
      "  return mean(axis=axis, dtype=dtype, out=out, **kwargs)\n"
     ]
    },
    {
     "data": {
      "text/plain": [
       "Variable 0    -2.848421e-16\n",
       "Variable 1    -3.555449e-16\n",
       "Variable 2    -4.825958e-16\n",
       "Variable 3     1.799863e-16\n",
       "Variable 4     3.686025e-17\n",
       "Variable 5    -1.351308e-16\n",
       "Variable 6    -6.382154e-17\n",
       "Variable 7    -2.857727e-16\n",
       "Variable 8    -1.254433e-16\n",
       "Variable 9    -4.577214e-17\n",
       "Variable 10   -3.790373e-17\n",
       "Variable 11   -1.240896e-17\n",
       "Variable 12    7.896611e-19\n",
       "Variable 13    1.889546e-18\n",
       "Variable 14    7.445376e-18\n",
       "Variable 15    4.963584e-18\n",
       "Variable 16   -3.057117e-17\n",
       "Variable 17    1.692131e-18\n",
       "Variable 18    7.941735e-17\n",
       "Variable 19    5.921048e-17\n",
       "Variable 20   -3.721278e-16\n",
       "Variable 21    3.501019e-16\n",
       "Variable 22   -2.716434e-16\n",
       "Variable 23   -2.461487e-16\n",
       "Variable 24   -2.059887e-16\n",
       "p-value        9.966979e-01\n",
       "dtype: float64"
      ]
     },
     "execution_count": 40,
     "metadata": {},
     "output_type": "execute_result"
    },
    {
     "name": "stdout",
     "output_type": "stream",
     "text": [
      "60281\n"
     ]
    }
   ],
   "source": [
    "np.mean(data_array_pca,axis = 0)\n",
    "sp.linalg.pinv(np.cov(data_array_pca, rowvar=False))\n",
    "inv_cormat_mcd_pca = sp.linalg.pinv(mcd_model.covariance_)\n",
    "mu_vect_mcd_pca = mcd_model.location_\n",
    "mahal_dist = []\n",
    "for i in range(data_array_pca.shape[0]):\n",
    "    x_minus_mu_mcd_pca = data_array_pca[i,:] - mu_vect_mcd_pca\n",
    "    left_term_mcd_pca = np.dot(x_minus_mu_mcd_pca, inv_cormat_mcd_pca)\n",
    "    mahal = np.dot(left_term_mcd_pca, x_minus_mu_mcd_pca.T)\n",
    "    mahal = np.sqrt(mahal)\n",
    "    mahal_dist.append(mahal)\n",
    "    \n",
    "np.mean(one_hot_data_maha)\n",
    "\n",
    "from scipy.stats import chi2\n",
    "one_hot_data_maha['p-value_mcd'] = 1 - chi2.cdf(mahal_dist, df = 24) #pdf(x, degreeOfFreedom = Number of Variables)\n",
    "\n",
    "#Calculate number of p-value less than 0.01\n",
    "print(np.count_nonzero(one_hot_data_maha['p-value_mcd'] < 0.01))"
   ]
  },
  {
   "cell_type": "code",
   "execution_count": 41,
   "id": "e5b6e043",
   "metadata": {},
   "outputs": [],
   "source": [
    "pvalue_mcd = one_hot_data_maha['p-value_mcd']\n",
    "bi_pvalue_mcd = pvalue_mcd\n",
    "\n",
    "bi_pvalue_mcd = np.where(pvalue_mcd < 0.01, 1, bi_pvalue_mcd)\n",
    "bi_pvalue_mcd = np.where(pvalue_mcd >= 0.01, 0, bi_pvalue_mcd)"
   ]
  },
  {
   "cell_type": "code",
   "execution_count": 42,
   "id": "78e6aa7c",
   "metadata": {},
   "outputs": [
    {
     "name": "stdout",
     "output_type": "stream",
     "text": [
      "Training accuracy: 0.4860\n",
      "[[34145 33198]\n",
      " [31547 27083]]\n"
     ]
    }
   ],
   "source": [
    "from sklearn.metrics import accuracy_score\n",
    "\n",
    "train_acc_maha_mcd = accuracy_score(kdd_train_y['class_binary'], bi_pvalue_mcd)\n",
    "print(\"Training accuracy: {:.4f}\".format(train_acc_maha_mcd))\n",
    "cm_maha_mcd = confusion_matrix (kdd_train_y[\"class_binary\"], bi_pvalue_mcd)\n",
    "print(cm_maha_mcd)"
   ]
  },
  {
   "cell_type": "code",
   "execution_count": 43,
   "id": "ab17fb20",
   "metadata": {},
   "outputs": [
    {
     "data": {
      "text/plain": [
       "Text(0.5, 1.0, 'Seaborn Confusion Matrix with labels\\n\\n')"
      ]
     },
     "execution_count": 43,
     "metadata": {},
     "output_type": "execute_result"
    },
    {
     "data": {
      "text/plain": [
       "Text(0.5, 15.0, '\\nPredicted Values')"
      ]
     },
     "execution_count": 43,
     "metadata": {},
     "output_type": "execute_result"
    },
    {
     "data": {
      "text/plain": [
       "Text(33.0, 0.5, 'Actual Values ')"
      ]
     },
     "execution_count": 43,
     "metadata": {},
     "output_type": "execute_result"
    },
    {
     "data": {
      "text/plain": [
       "[Text(0.5, 0, 'False'), Text(1.5, 0, 'True')]"
      ]
     },
     "execution_count": 43,
     "metadata": {},
     "output_type": "execute_result"
    },
    {
     "data": {
      "text/plain": [
       "[Text(0, 0.5, 'False'), Text(0, 1.5, 'True')]"
      ]
     },
     "execution_count": 43,
     "metadata": {},
     "output_type": "execute_result"
    },
    {
     "data": {
      "image/png": "[encoded data removed]",
      "text/plain": [
       "<Figure size 432x288 with 2 Axes>"
      ]
     },
     "metadata": {
      "needs_background": "light"
     },
     "output_type": "display_data"
    },
    {
     "name": "stdout",
     "output_type": "stream",
     "text": [
      "0.44927920903767354\n",
      "0.4619307521746546\n"
     ]
    }
   ],
   "source": [
    "ax = sns.heatmap(cm_maha_mcd_ss, annot=True, cmap='Blues')\n",
    "\n",
    "ax.set_title('Seaborn Confusion Matrix with labels\\n\\n');\n",
    "ax.set_xlabel('\\nPredicted Values')\n",
    "ax.set_ylabel('Actual Values ');\n",
    "\n",
    "## Ticket labels - List must be in alphabetical order\n",
    "ax.xaxis.set_ticklabels(['False','True'])\n",
    "ax.yaxis.set_ticklabels(['False','True'])\n",
    "\n",
    "## Display the visualization of the Confusion Matrix.\n",
    "plt.show()\n",
    "\n",
    "## FP,FN,TP,TN\n",
    "TN_maha_mcd = cm_maha_mcd[0][0]\n",
    "FN_maha_mcd = cm_maha_mcd[1][0]\n",
    "FP_maha_mcd = cm_maha_mcd[0][1]\n",
    "TP_maha_mcd = cm_maha_mcd[1][1]\n",
    "\n",
    "##Precision and Recall\n",
    "Precision_maha_mcd = TP_maha_mcd/(TP_maha_mcd+FP_maha_mcd)\n",
    "Recall_maha_mcd = TP_maha_mcd/(TP_maha_mcd+FN_maha_mcd)\n",
    "\n",
    "print (Precision_maha_mcd)\n",
    "print (Recall_maha_mcd)"
   ]
  },
  {
   "cell_type": "markdown",
   "id": "e096f043",
   "metadata": {},
   "source": [
    "# Isolation Forest\n",
    "## Before PCA"
   ]
  },
  {
   "cell_type": "code",
   "execution_count": 44,
   "id": "de640eca",
   "metadata": {},
   "outputs": [
    {
     "data": {
      "text/plain": [
       "array([0.        , 0.03333333, 0.06666667, 0.1       , 0.13333333,\n",
       "       0.16666667, 0.2       , 0.23333333, 0.26666667, 0.3       ])"
      ]
     },
     "execution_count": 44,
     "metadata": {},
     "output_type": "execute_result"
    }
   ],
   "source": [
    "from sklearn.ensemble import IsolationForest\n",
    "from scipy.stats import uniform as sp_randFloat\n",
    "from scipy.stats import randint as sp_randInt\n",
    "model_if_ss = IsolationForest(random_state = 99)\n",
    "parameters = {'n_estimators' : sp_randInt(100, 1000),\n",
    "            'contamination' : sp_randFloat(0, 1)\n",
    "             }\n",
    "parameters = {'n_estimators' : [1000,2000,3000,4000,5000,6000],\n",
    "            'contamination' : np.linspace(0, 0.2, num = 10)\n",
    "             # 'bootstrap': [True, False]\n",
    "             }\n",
    "np.linspace(0, 0.3, num = 10)\n",
    "\n",
    "\n"
   ]
  },
  {
   "cell_type": "code",
   "execution_count": 45,
   "id": "857ee018",
   "metadata": {},
   "outputs": [],
   "source": [
    "one_hot_data_if_ss = one_hot_data_if_ss.drop(['p-value','p-value_mcd'],axis = 1)"
   ]
  },
  {
   "cell_type": "code",
   "execution_count": 46,
   "id": "ed03361a",
   "metadata": {},
   "outputs": [],
   "source": [
    "def scorer_f(estimator, X):   #Scorer function for isolation forest\n",
    "       return np.mean(estimator.score_samples(one_hot_data_if_ss))\n",
    "from sklearn.metrics import make_scorer, f1_score\n",
    "#Set normal to 0 and abnormal to 1 (binary)\n"
   ]
  },
  {
   "cell_type": "code",
   "execution_count": 47,
   "id": "b905a68a",
   "metadata": {},
   "outputs": [],
   "source": [
    "# randomly sample\n",
    "idx_rand = np.random.permutation(len(one_hot_data_if_ss))\n",
    "num_sample = int(0.01*len(one_hot_data_if_ss))\n",
    "one_hot_data_if_sample = one_hot_data_if_ss.iloc[idx_rand[:num_sample]]\n",
    "kdd_train_y_sample = kdd_train_y.iloc[idx_rand[:num_sample]]"
   ]
  },
  {
   "cell_type": "code",
   "execution_count": 48,
   "id": "c733739c",
   "metadata": {},
   "outputs": [],
   "source": [
    "one_hot_data_if_ss = pd.DataFrame(one_hot_data_if_ss)"
   ]
  },
  {
   "cell_type": "code",
   "execution_count": 49,
   "id": "9ab210ea",
   "metadata": {},
   "outputs": [
    {
     "name": "stdout",
     "output_type": "stream",
     "text": [
      "<class 'pandas.core.frame.DataFrame'>\n",
      "RangeIndex: 125973 entries, 0 to 125972\n",
      "Columns: 121 entries, ('duration',) to protocol_type_udp\n",
      "dtypes: float64(37), uint8(84)\n",
      "memory usage: 45.7 MB\n"
     ]
    }
   ],
   "source": [
    "one_hot_data_if_ss.info()"
   ]
  },
  {
   "cell_type": "code",
   "execution_count": 50,
   "id": "818ebcd6",
   "metadata": {},
   "outputs": [
    {
     "name": "stderr",
     "output_type": "stream",
     "text": [
      "C:\\WINDOWS\\system32\\myenv\\lib\\site-packages\\sklearn\\model_selection\\_validation.py:378: FitFailedWarning: \n",
      "3 fits failed out of a total of 30.\n",
      "The score on these train-test partitions for these parameters will be set to nan.\n",
      "If these failures are not expected, you can try to debug them by setting error_score='raise'.\n",
      "\n",
      "Below are more details about the failures:\n",
      "--------------------------------------------------------------------------------\n",
      "3 fits failed with the following error:\n",
      "Traceback (most recent call last):\n",
      "  File \"C:\\WINDOWS\\system32\\myenv\\lib\\site-packages\\sklearn\\model_selection\\_validation.py\", line 686, in _fit_and_score\n",
      "    estimator.fit(X_train, y_train, **fit_params)\n",
      "  File \"C:\\WINDOWS\\system32\\myenv\\lib\\site-packages\\sklearn\\ensemble\\_iforest.py\", line 271, in fit\n",
      "    raise ValueError(\n",
      "ValueError: contamination must be in (0, 0.5], got: 0.000000\n",
      "\n",
      "  warnings.warn(some_fits_failed_message, FitFailedWarning)\n",
      "C:\\WINDOWS\\system32\\myenv\\lib\\site-packages\\sklearn\\model_selection\\_search.py:953: UserWarning: One or more of the test scores are non-finite: [0.40107777 0.3947191  0.33356063 0.40742698 0.45270106        nan\n",
      " 0.39392545 0.33356253 0.37803349 0.42172974]\n",
      "  warnings.warn(\n",
      "C:\\WINDOWS\\system32\\myenv\\lib\\site-packages\\sklearn\\model_selection\\_search.py:953: UserWarning: One or more of the train scores are non-finite: [0.40348487 0.38879098 0.32445608 0.40388265 0.45233318        nan\n",
      " 0.38958558 0.32525068 0.37330391 0.42175256]\n",
      "  warnings.warn(\n",
      "C:\\WINDOWS\\system32\\myenv\\lib\\site-packages\\sklearn\\utils\\validation.py:1858: FutureWarning: Feature names only support names that are all strings. Got feature names with dtypes: ['str', 'tuple']. An error will be raised in 1.2.\n",
      "  warnings.warn(\n"
     ]
    }
   ],
   "source": [
    "f1sc = make_scorer(f1_score, average = 'micro')\n",
    "randm_src = RandomizedSearchCV(estimator=model_if_ss, param_distributions = parameters, cv = 3, scoring = f1sc, random_state = 0, return_train_score = True, n_jobs = -1)\n",
    "model = randm_src.fit(one_hot_data_if_sample, kdd_train_y_sample[\"class_binary\"])\n"
   ]
  },
  {
   "cell_type": "code",
   "execution_count": 51,
   "id": "f6b56625",
   "metadata": {},
   "outputs": [
    {
     "name": "stdout",
     "output_type": "stream",
     "text": [
      " Results from Random Search \n",
      "\n",
      " The best estimator across ALL searched params:\n",
      " IsolationForest(contamination=0.022222222222222223, n_estimators=6000,\n",
      "                random_state=99)\n",
      "\n",
      " The best score across ALL searched params:\n",
      " 0.452701064514907\n",
      "\n",
      " The best parameters across ALL searched params:\n",
      " {'n_estimators': 6000, 'contamination': 0.022222222222222223}\n"
     ]
    }
   ],
   "source": [
    "print(\" Results from Random Search \" )\n",
    "print(\"\\n The best estimator across ALL searched params:\\n\", randm_src.best_estimator_)\n",
    "print(\"\\n The best score across ALL searched params:\\n\", randm_src.best_score_)\n",
    "print(\"\\n The best parameters across ALL searched params:\\n\", randm_src.best_params_)"
   ]
  },
  {
   "cell_type": "code",
   "execution_count": 52,
   "id": "4130e871",
   "metadata": {},
   "outputs": [],
   "source": [
    "#model_if_ss = IsolationForest(n_estimators=6000,contamination = 0.022222222222222223, max_features = 1.0)\n",
    "#model_if_ss = model_if_ss.fit(one_hot_data_if_ss)\n",
    "model_if_ss = joblib.load('model_if_ss.sav')\n",
    "pickle.dump(model_if_ss,open('model_if_ss.sav','wb'))"
   ]
  },
  {
   "cell_type": "code",
   "execution_count": 53,
   "id": "d6d47a31",
   "metadata": {},
   "outputs": [
    {
     "name": "stderr",
     "output_type": "stream",
     "text": [
      "C:\\WINDOWS\\system32\\myenv\\lib\\site-packages\\sklearn\\utils\\validation.py:1858: FutureWarning: Feature names only support names that are all strings. Got feature names with dtypes: ['str', 'tuple']. An error will be raised in 1.2.\n",
      "  warnings.warn(\n"
     ]
    }
   ],
   "source": [
    "y_pred_if_ss = model_if_ss.predict(one_hot_data_if_ss)\n",
    "\n",
    "pickle.dump(y_pred_if_ss,open('y_pred_if_ss.sav','wb'))"
   ]
  },
  {
   "cell_type": "code",
   "execution_count": 54,
   "id": "b246ab96",
   "metadata": {},
   "outputs": [],
   "source": [
    "\n",
    "##y_pred_if_ss = joblib.load('y_pred_if_ss.sav')\n"
   ]
  },
  {
   "cell_type": "code",
   "execution_count": 55,
   "id": "699844f6",
   "metadata": {},
   "outputs": [
    {
     "name": "stdout",
     "output_type": "stream",
     "text": [
      "Training accuracy: 0.4498\n"
     ]
    }
   ],
   "source": [
    "y_pred_if_ss = np.where(y_pred_if_ss == -1, 0, y_pred_if_ss)\n",
    "from sklearn.metrics import accuracy_score\n",
    "train_acc_if_ss = accuracy_score(kdd_train_y['class_binary'], y_pred_if_ss)\n",
    "print(\"Training accuracy: {:.4f}\".format(train_acc_if_ss))"
   ]
  },
  {
   "cell_type": "code",
   "execution_count": 56,
   "id": "1147085b",
   "metadata": {},
   "outputs": [
    {
     "name": "stdout",
     "output_type": "stream",
     "text": [
      "[[  775 66568]\n",
      " [ 2741 55889]]\n"
     ]
    },
    {
     "data": {
      "text/plain": [
       "Text(0.5, 1.0, 'Seaborn Confusion Matrix with labels\\n\\n')"
      ]
     },
     "execution_count": 56,
     "metadata": {},
     "output_type": "execute_result"
    },
    {
     "data": {
      "text/plain": [
       "Text(0.5, 15.0, '\\nPredicted Values')"
      ]
     },
     "execution_count": 56,
     "metadata": {},
     "output_type": "execute_result"
    },
    {
     "data": {
      "text/plain": [
       "Text(33.0, 0.5, 'Actual Values ')"
      ]
     },
     "execution_count": 56,
     "metadata": {},
     "output_type": "execute_result"
    },
    {
     "data": {
      "text/plain": [
       "[Text(0.5, 0, 'False'), Text(1.5, 0, 'True')]"
      ]
     },
     "execution_count": 56,
     "metadata": {},
     "output_type": "execute_result"
    },
    {
     "data": {
      "text/plain": [
       "[Text(0, 0.5, 'False'), Text(0, 1.5, 'True')]"
      ]
     },
     "execution_count": 56,
     "metadata": {},
     "output_type": "execute_result"
    },
    {
     "data": {
      "image/png": "[encoded data removed]",
      "text/plain": [
       "<Figure size 432x288 with 2 Axes>"
      ]
     },
     "metadata": {
      "needs_background": "light"
     },
     "output_type": "display_data"
    },
    {
     "name": "stdout",
     "output_type": "stream",
     "text": [
      "0.456396939333807\n",
      "0.9532491898345556\n"
     ]
    }
   ],
   "source": [
    "cm_if_ss = confusion_matrix (kdd_train_y[\"class_binary\"], y_pred_if_ss)\n",
    "print(cm_if_ss)\n",
    "ax = sns.heatmap(cm_if_ss, annot=True, cmap='Blues')\n",
    "\n",
    "ax.set_title('Seaborn Confusion Matrix with labels\\n\\n');\n",
    "ax.set_xlabel('\\nPredicted Values')\n",
    "ax.set_ylabel('Actual Values ');\n",
    "\n",
    "## Ticket labels - List must be in alphabetical order\n",
    "ax.xaxis.set_ticklabels(['False','True'])\n",
    "ax.yaxis.set_ticklabels(['False','True'])\n",
    "\n",
    "## Display the visualization of the Confusion Matrix.\n",
    "plt.show()\n",
    "\n",
    "## FP,FN,TP,TN\n",
    "TN_if = cm_if_ss[0][0]\n",
    "FN_if = cm_if_ss[1][0]\n",
    "FP_if = cm_if_ss[0][1]\n",
    "TP_if = cm_if_ss[1][1]\n",
    "\n",
    "##Precision and Recall\n",
    "Precision_if_ss = TP_if/(TP_if+FP_if)\n",
    "Recall_if_ss = TP_if/(TP_if+FN_if)\n",
    "\n",
    "print (Precision_if_ss)\n",
    "print (Recall_if_ss)"
   ]
  },
  {
   "cell_type": "markdown",
   "id": "2554125d",
   "metadata": {},
   "source": [
    "# With PCA"
   ]
  },
  {
   "cell_type": "code",
   "execution_count": 57,
   "id": "f82885d2",
   "metadata": {},
   "outputs": [],
   "source": [
    "one_hot_data_if = one_hot_data_if.drop(['p-value','p-value_mcd'],axis = 1)"
   ]
  },
  {
   "cell_type": "code",
   "execution_count": 58,
   "id": "f82e52ab",
   "metadata": {},
   "outputs": [],
   "source": [
    "#model_if = IsolationForest(n_estimators=6000,contamination = 0.022222222222222223, max_features = 1.0)\n",
    "#model_if = model_if.fit(one_hot_data_if)\n",
    "model_if = joblib.load('model_if.sav')\n",
    "pickle.dump(model_if,open('model_if.sav','wb'))"
   ]
  },
  {
   "cell_type": "code",
   "execution_count": 59,
   "id": "9adf40cf",
   "metadata": {},
   "outputs": [],
   "source": [
    "y_pred_if = model_if.predict(one_hot_data_if)\n",
    "##y_pred_if = joblib.load('y_pred_if.sav')"
   ]
  },
  {
   "cell_type": "code",
   "execution_count": null,
   "id": "fe127b49",
   "metadata": {},
   "outputs": [],
   "source": []
  },
  {
   "cell_type": "code",
   "execution_count": 60,
   "id": "43d3889b",
   "metadata": {},
   "outputs": [
    {
     "name": "stdout",
     "output_type": "stream",
     "text": [
      "Training accuracy: 0.4576\n"
     ]
    }
   ],
   "source": [
    "y_pred_if = np.where(y_pred_if == -1, 0, y_pred_if)\n",
    "from sklearn.metrics import accuracy_score\n",
    "train_acc_if = accuracy_score(kdd_train_y['class_binary'], y_pred_if)\n",
    "print(\"Training accuracy: {:.4f}\".format(train_acc_if))"
   ]
  },
  {
   "cell_type": "code",
   "execution_count": 61,
   "id": "897b8c39",
   "metadata": {},
   "outputs": [
    {
     "name": "stdout",
     "output_type": "stream",
     "text": [
      "[[  910 66433]\n",
      " [ 1890 56740]]\n"
     ]
    },
    {
     "data": {
      "text/plain": [
       "Text(0.5, 1.0, 'Seaborn Confusion Matrix with labels\\n\\n')"
      ]
     },
     "execution_count": 61,
     "metadata": {},
     "output_type": "execute_result"
    },
    {
     "data": {
      "text/plain": [
       "Text(0.5, 15.0, '\\nPredicted Values')"
      ]
     },
     "execution_count": 61,
     "metadata": {},
     "output_type": "execute_result"
    },
    {
     "data": {
      "text/plain": [
       "Text(33.0, 0.5, 'Actual Values ')"
      ]
     },
     "execution_count": 61,
     "metadata": {},
     "output_type": "execute_result"
    },
    {
     "data": {
      "text/plain": [
       "[Text(0.5, 0, 'False'), Text(1.5, 0, 'True')]"
      ]
     },
     "execution_count": 61,
     "metadata": {},
     "output_type": "execute_result"
    },
    {
     "data": {
      "text/plain": [
       "[Text(0, 0.5, 'False'), Text(0, 1.5, 'True')]"
      ]
     },
     "execution_count": 61,
     "metadata": {},
     "output_type": "execute_result"
    },
    {
     "data": {
      "image/png": "[encoded data removed]",
      "text/plain": [
       "<Figure size 432x288 with 2 Axes>"
      ]
     },
     "metadata": {
      "needs_background": "light"
     },
     "output_type": "display_data"
    },
    {
     "name": "stdout",
     "output_type": "stream",
     "text": [
      "0.4606529028277301\n",
      "0.9677639433736994\n"
     ]
    }
   ],
   "source": [
    "cm_if = confusion_matrix (kdd_train_y[\"class_binary\"], y_pred_if)\n",
    "print(cm_if)\n",
    "ax = sns.heatmap(cm_if, annot=True, cmap='Blues')\n",
    "\n",
    "ax.set_title('Seaborn Confusion Matrix with labels\\n\\n');\n",
    "ax.set_xlabel('\\nPredicted Values')\n",
    "ax.set_ylabel('Actual Values ');\n",
    "\n",
    "## Ticket labels - List must be in alphabetical order\n",
    "ax.xaxis.set_ticklabels(['False','True'])\n",
    "ax.yaxis.set_ticklabels(['False','True'])\n",
    "\n",
    "## Display the visualization of the Confusion Matrix.\n",
    "plt.show()\n",
    "\n",
    "## FP,FN,TP,TN\n",
    "TN_if = cm_if[0][0]\n",
    "FN_if = cm_if[1][0]\n",
    "FP_if = cm_if[0][1]\n",
    "TP_if = cm_if[1][1]\n",
    "\n",
    "##Precision and Recall\n",
    "Precision_if = TP_if/(TP_if+FP_if)\n",
    "Recall_if = TP_if/(TP_if+FN_if)\n",
    "\n",
    "print (Precision_if)\n",
    "print (Recall_if)"
   ]
  },
  {
   "cell_type": "markdown",
   "id": "407d6e1f",
   "metadata": {},
   "source": [
    "# OCSVM\n",
    "## Without PCA"
   ]
  },
  {
   "cell_type": "code",
   "execution_count": 62,
   "id": "2140aa96",
   "metadata": {},
   "outputs": [],
   "source": [
    "one_hot_data_svm_ss = one_hot_data_svm_ss.drop(['p-value','p-value_mcd'],axis = 1)"
   ]
  },
  {
   "cell_type": "code",
   "execution_count": 63,
   "id": "2e00052c",
   "metadata": {},
   "outputs": [],
   "source": [
    "\n",
    "#10% of data, 12597 out of 125973 is used for training.\n",
    "one_hot_data_svm_ten_percent_ss = one_hot_data_svm_ss[0:12597]\n",
    "kdd_train_y_ten_percent = kdd_train_y[0:12597]\n",
    "\n",
    "from scipy.stats import uniform as sp_randFloat\n",
    "    #Hyperparameter Tuning\n",
    "from sklearn.svm import OneClassSVM\n",
    "parameters_svm = {\n",
    "             \"nu\" : sp_randFloat()\n",
    "             }\n",
    "model_svm_ss = OneClassSVM()\n",
    "\n",
    "one_hot_data_svm_sample_ss = one_hot_data_svm_ss.iloc[idx_rand[:num_sample]]"
   ]
  },
  {
   "cell_type": "code",
   "execution_count": 64,
   "id": "f43b0fc7",
   "metadata": {},
   "outputs": [
    {
     "data": {
      "text/html": [
       "<div>\n",
       "<style scoped>\n",
       "    .dataframe tbody tr th:only-of-type {\n",
       "        vertical-align: middle;\n",
       "    }\n",
       "\n",
       "    .dataframe tbody tr th {\n",
       "        vertical-align: top;\n",
       "    }\n",
       "\n",
       "    .dataframe thead th {\n",
       "        text-align: right;\n",
       "    }\n",
       "</style>\n",
       "<table border=\"1\" class=\"dataframe\">\n",
       "  <thead>\n",
       "    <tr style=\"text-align: right;\">\n",
       "      <th></th>\n",
       "      <th>(duration,)</th>\n",
       "      <th>(src_bytes,)</th>\n",
       "      <th>(dst_bytes,)</th>\n",
       "      <th>(land,)</th>\n",
       "      <th>(wrong_fragment,)</th>\n",
       "      <th>(urgent,)</th>\n",
       "      <th>(hot,)</th>\n",
       "      <th>(num_failed_logins,)</th>\n",
       "      <th>(logged_in,)</th>\n",
       "      <th>(num_compromised,)</th>\n",
       "      <th>...</th>\n",
       "      <th>flag_RSTR</th>\n",
       "      <th>flag_S0</th>\n",
       "      <th>flag_S1</th>\n",
       "      <th>flag_S2</th>\n",
       "      <th>flag_S3</th>\n",
       "      <th>flag_SF</th>\n",
       "      <th>flag_SH</th>\n",
       "      <th>protocol_type_icmp</th>\n",
       "      <th>protocol_type_tcp</th>\n",
       "      <th>protocol_type_udp</th>\n",
       "    </tr>\n",
       "  </thead>\n",
       "  <tbody>\n",
       "    <tr>\n",
       "      <th>9450</th>\n",
       "      <td>-0.110249</td>\n",
       "      <td>-0.007762</td>\n",
       "      <td>-0.004919</td>\n",
       "      <td>-0.014089</td>\n",
       "      <td>-0.089486</td>\n",
       "      <td>-0.007736</td>\n",
       "      <td>-0.095076</td>\n",
       "      <td>-0.027023</td>\n",
       "      <td>-0.809262</td>\n",
       "      <td>-0.011664</td>\n",
       "      <td>...</td>\n",
       "      <td>0</td>\n",
       "      <td>0</td>\n",
       "      <td>0</td>\n",
       "      <td>0</td>\n",
       "      <td>0</td>\n",
       "      <td>0</td>\n",
       "      <td>0</td>\n",
       "      <td>0</td>\n",
       "      <td>1</td>\n",
       "      <td>0</td>\n",
       "    </tr>\n",
       "    <tr>\n",
       "      <th>65765</th>\n",
       "      <td>-0.110249</td>\n",
       "      <td>-0.007735</td>\n",
       "      <td>0.004837</td>\n",
       "      <td>-0.014089</td>\n",
       "      <td>-0.089486</td>\n",
       "      <td>-0.007736</td>\n",
       "      <td>-0.095076</td>\n",
       "      <td>-0.027023</td>\n",
       "      <td>1.235694</td>\n",
       "      <td>-0.011664</td>\n",
       "      <td>...</td>\n",
       "      <td>0</td>\n",
       "      <td>0</td>\n",
       "      <td>0</td>\n",
       "      <td>0</td>\n",
       "      <td>0</td>\n",
       "      <td>1</td>\n",
       "      <td>0</td>\n",
       "      <td>0</td>\n",
       "      <td>1</td>\n",
       "      <td>0</td>\n",
       "    </tr>\n",
       "    <tr>\n",
       "      <th>123883</th>\n",
       "      <td>-0.110249</td>\n",
       "      <td>-0.007725</td>\n",
       "      <td>-0.004247</td>\n",
       "      <td>-0.014089</td>\n",
       "      <td>-0.089486</td>\n",
       "      <td>-0.007736</td>\n",
       "      <td>-0.095076</td>\n",
       "      <td>-0.027023</td>\n",
       "      <td>1.235694</td>\n",
       "      <td>-0.011664</td>\n",
       "      <td>...</td>\n",
       "      <td>0</td>\n",
       "      <td>0</td>\n",
       "      <td>0</td>\n",
       "      <td>0</td>\n",
       "      <td>0</td>\n",
       "      <td>1</td>\n",
       "      <td>0</td>\n",
       "      <td>0</td>\n",
       "      <td>1</td>\n",
       "      <td>0</td>\n",
       "    </tr>\n",
       "    <tr>\n",
       "      <th>36945</th>\n",
       "      <td>-0.110249</td>\n",
       "      <td>-0.007721</td>\n",
       "      <td>-0.004214</td>\n",
       "      <td>-0.014089</td>\n",
       "      <td>-0.089486</td>\n",
       "      <td>-0.007736</td>\n",
       "      <td>-0.095076</td>\n",
       "      <td>-0.027023</td>\n",
       "      <td>1.235694</td>\n",
       "      <td>-0.011664</td>\n",
       "      <td>...</td>\n",
       "      <td>0</td>\n",
       "      <td>0</td>\n",
       "      <td>0</td>\n",
       "      <td>0</td>\n",
       "      <td>0</td>\n",
       "      <td>1</td>\n",
       "      <td>0</td>\n",
       "      <td>0</td>\n",
       "      <td>1</td>\n",
       "      <td>0</td>\n",
       "    </tr>\n",
       "    <tr>\n",
       "      <th>3122</th>\n",
       "      <td>-0.110249</td>\n",
       "      <td>-0.007762</td>\n",
       "      <td>-0.004919</td>\n",
       "      <td>-0.014089</td>\n",
       "      <td>-0.089486</td>\n",
       "      <td>-0.007736</td>\n",
       "      <td>-0.095076</td>\n",
       "      <td>-0.027023</td>\n",
       "      <td>-0.809262</td>\n",
       "      <td>-0.011664</td>\n",
       "      <td>...</td>\n",
       "      <td>0</td>\n",
       "      <td>0</td>\n",
       "      <td>0</td>\n",
       "      <td>0</td>\n",
       "      <td>0</td>\n",
       "      <td>0</td>\n",
       "      <td>0</td>\n",
       "      <td>0</td>\n",
       "      <td>1</td>\n",
       "      <td>0</td>\n",
       "    </tr>\n",
       "    <tr>\n",
       "      <th>...</th>\n",
       "      <td>...</td>\n",
       "      <td>...</td>\n",
       "      <td>...</td>\n",
       "      <td>...</td>\n",
       "      <td>...</td>\n",
       "      <td>...</td>\n",
       "      <td>...</td>\n",
       "      <td>...</td>\n",
       "      <td>...</td>\n",
       "      <td>...</td>\n",
       "      <td>...</td>\n",
       "      <td>...</td>\n",
       "      <td>...</td>\n",
       "      <td>...</td>\n",
       "      <td>...</td>\n",
       "      <td>...</td>\n",
       "      <td>...</td>\n",
       "      <td>...</td>\n",
       "      <td>...</td>\n",
       "      <td>...</td>\n",
       "      <td>...</td>\n",
       "    </tr>\n",
       "    <tr>\n",
       "      <th>105166</th>\n",
       "      <td>-0.110249</td>\n",
       "      <td>-0.007762</td>\n",
       "      <td>-0.004919</td>\n",
       "      <td>-0.014089</td>\n",
       "      <td>-0.089486</td>\n",
       "      <td>-0.007736</td>\n",
       "      <td>-0.095076</td>\n",
       "      <td>-0.027023</td>\n",
       "      <td>-0.809262</td>\n",
       "      <td>-0.011664</td>\n",
       "      <td>...</td>\n",
       "      <td>0</td>\n",
       "      <td>1</td>\n",
       "      <td>0</td>\n",
       "      <td>0</td>\n",
       "      <td>0</td>\n",
       "      <td>0</td>\n",
       "      <td>0</td>\n",
       "      <td>0</td>\n",
       "      <td>1</td>\n",
       "      <td>0</td>\n",
       "    </tr>\n",
       "    <tr>\n",
       "      <th>40357</th>\n",
       "      <td>-0.110249</td>\n",
       "      <td>-0.007710</td>\n",
       "      <td>-0.002227</td>\n",
       "      <td>-0.014089</td>\n",
       "      <td>-0.089486</td>\n",
       "      <td>-0.007736</td>\n",
       "      <td>-0.095076</td>\n",
       "      <td>-0.027023</td>\n",
       "      <td>1.235694</td>\n",
       "      <td>-0.011664</td>\n",
       "      <td>...</td>\n",
       "      <td>0</td>\n",
       "      <td>0</td>\n",
       "      <td>0</td>\n",
       "      <td>0</td>\n",
       "      <td>0</td>\n",
       "      <td>1</td>\n",
       "      <td>0</td>\n",
       "      <td>0</td>\n",
       "      <td>1</td>\n",
       "      <td>0</td>\n",
       "    </tr>\n",
       "    <tr>\n",
       "      <th>113320</th>\n",
       "      <td>-0.110249</td>\n",
       "      <td>-0.007724</td>\n",
       "      <td>-0.004553</td>\n",
       "      <td>-0.014089</td>\n",
       "      <td>-0.089486</td>\n",
       "      <td>-0.007736</td>\n",
       "      <td>-0.095076</td>\n",
       "      <td>-0.027023</td>\n",
       "      <td>1.235694</td>\n",
       "      <td>-0.011664</td>\n",
       "      <td>...</td>\n",
       "      <td>0</td>\n",
       "      <td>0</td>\n",
       "      <td>0</td>\n",
       "      <td>0</td>\n",
       "      <td>0</td>\n",
       "      <td>1</td>\n",
       "      <td>0</td>\n",
       "      <td>0</td>\n",
       "      <td>1</td>\n",
       "      <td>0</td>\n",
       "    </tr>\n",
       "    <tr>\n",
       "      <th>72103</th>\n",
       "      <td>-0.110249</td>\n",
       "      <td>-0.007674</td>\n",
       "      <td>-0.004919</td>\n",
       "      <td>-0.014089</td>\n",
       "      <td>-0.089486</td>\n",
       "      <td>-0.007736</td>\n",
       "      <td>-0.095076</td>\n",
       "      <td>-0.027023</td>\n",
       "      <td>-0.809262</td>\n",
       "      <td>-0.011664</td>\n",
       "      <td>...</td>\n",
       "      <td>0</td>\n",
       "      <td>0</td>\n",
       "      <td>0</td>\n",
       "      <td>0</td>\n",
       "      <td>0</td>\n",
       "      <td>1</td>\n",
       "      <td>0</td>\n",
       "      <td>1</td>\n",
       "      <td>0</td>\n",
       "      <td>0</td>\n",
       "    </tr>\n",
       "    <tr>\n",
       "      <th>549</th>\n",
       "      <td>-0.110249</td>\n",
       "      <td>-0.007762</td>\n",
       "      <td>-0.004919</td>\n",
       "      <td>-0.014089</td>\n",
       "      <td>-0.089486</td>\n",
       "      <td>-0.007736</td>\n",
       "      <td>-0.095076</td>\n",
       "      <td>-0.027023</td>\n",
       "      <td>-0.809262</td>\n",
       "      <td>-0.011664</td>\n",
       "      <td>...</td>\n",
       "      <td>0</td>\n",
       "      <td>1</td>\n",
       "      <td>0</td>\n",
       "      <td>0</td>\n",
       "      <td>0</td>\n",
       "      <td>0</td>\n",
       "      <td>0</td>\n",
       "      <td>0</td>\n",
       "      <td>1</td>\n",
       "      <td>0</td>\n",
       "    </tr>\n",
       "  </tbody>\n",
       "</table>\n",
       "<p>1259 rows × 121 columns</p>\n",
       "</div>"
      ],
      "text/plain": [
       "        (duration,)  (src_bytes,)  (dst_bytes,)   (land,)  (wrong_fragment,)  \\\n",
       "9450      -0.110249     -0.007762     -0.004919 -0.014089          -0.089486   \n",
       "65765     -0.110249     -0.007735      0.004837 -0.014089          -0.089486   \n",
       "123883    -0.110249     -0.007725     -0.004247 -0.014089          -0.089486   \n",
       "36945     -0.110249     -0.007721     -0.004214 -0.014089          -0.089486   \n",
       "3122      -0.110249     -0.007762     -0.004919 -0.014089          -0.089486   \n",
       "...             ...           ...           ...       ...                ...   \n",
       "105166    -0.110249     -0.007762     -0.004919 -0.014089          -0.089486   \n",
       "40357     -0.110249     -0.007710     -0.002227 -0.014089          -0.089486   \n",
       "113320    -0.110249     -0.007724     -0.004553 -0.014089          -0.089486   \n",
       "72103     -0.110249     -0.007674     -0.004919 -0.014089          -0.089486   \n",
       "549       -0.110249     -0.007762     -0.004919 -0.014089          -0.089486   \n",
       "\n",
       "        (urgent,)    (hot,)  (num_failed_logins,)  (logged_in,)  \\\n",
       "9450    -0.007736 -0.095076             -0.027023     -0.809262   \n",
       "65765   -0.007736 -0.095076             -0.027023      1.235694   \n",
       "123883  -0.007736 -0.095076             -0.027023      1.235694   \n",
       "36945   -0.007736 -0.095076             -0.027023      1.235694   \n",
       "3122    -0.007736 -0.095076             -0.027023     -0.809262   \n",
       "...           ...       ...                   ...           ...   \n",
       "105166  -0.007736 -0.095076             -0.027023     -0.809262   \n",
       "40357   -0.007736 -0.095076             -0.027023      1.235694   \n",
       "113320  -0.007736 -0.095076             -0.027023      1.235694   \n",
       "72103   -0.007736 -0.095076             -0.027023     -0.809262   \n",
       "549     -0.007736 -0.095076             -0.027023     -0.809262   \n",
       "\n",
       "        (num_compromised,)  ...  flag_RSTR  flag_S0  flag_S1  flag_S2  \\\n",
       "9450             -0.011664  ...          0        0        0        0   \n",
       "65765            -0.011664  ...          0        0        0        0   \n",
       "123883           -0.011664  ...          0        0        0        0   \n",
       "36945            -0.011664  ...          0        0        0        0   \n",
       "3122             -0.011664  ...          0        0        0        0   \n",
       "...                    ...  ...        ...      ...      ...      ...   \n",
       "105166           -0.011664  ...          0        1        0        0   \n",
       "40357            -0.011664  ...          0        0        0        0   \n",
       "113320           -0.011664  ...          0        0        0        0   \n",
       "72103            -0.011664  ...          0        0        0        0   \n",
       "549              -0.011664  ...          0        1        0        0   \n",
       "\n",
       "        flag_S3  flag_SF  flag_SH  protocol_type_icmp  protocol_type_tcp  \\\n",
       "9450          0        0        0                   0                  1   \n",
       "65765         0        1        0                   0                  1   \n",
       "123883        0        1        0                   0                  1   \n",
       "36945         0        1        0                   0                  1   \n",
       "3122          0        0        0                   0                  1   \n",
       "...         ...      ...      ...                 ...                ...   \n",
       "105166        0        0        0                   0                  1   \n",
       "40357         0        1        0                   0                  1   \n",
       "113320        0        1        0                   0                  1   \n",
       "72103         0        1        0                   1                  0   \n",
       "549           0        0        0                   0                  1   \n",
       "\n",
       "        protocol_type_udp  \n",
       "9450                    0  \n",
       "65765                   0  \n",
       "123883                  0  \n",
       "36945                   0  \n",
       "3122                    0  \n",
       "...                   ...  \n",
       "105166                  0  \n",
       "40357                   0  \n",
       "113320                  0  \n",
       "72103                   0  \n",
       "549                     0  \n",
       "\n",
       "[1259 rows x 121 columns]"
      ]
     },
     "execution_count": 64,
     "metadata": {},
     "output_type": "execute_result"
    }
   ],
   "source": [
    "one_hot_data_svm_sample_ss"
   ]
  },
  {
   "cell_type": "code",
   "execution_count": 65,
   "id": "1d48b919",
   "metadata": {},
   "outputs": [
    {
     "name": "stdout",
     "output_type": "stream",
     "text": [
      " Results from Random Search \n",
      "\n",
      " The best estimator across ALL searched params:\n",
      " OneClassSVM(nu=0.3834415188257777)\n",
      "\n",
      " The best score across ALL searched params:\n",
      " 0.21840360647043225\n",
      "\n",
      " The best parameters across ALL searched params:\n",
      " {'nu': 0.3834415188257777}\n"
     ]
    },
    {
     "name": "stderr",
     "output_type": "stream",
     "text": [
      "C:\\WINDOWS\\system32\\myenv\\lib\\site-packages\\sklearn\\utils\\validation.py:1858: FutureWarning: Feature names only support names that are all strings. Got feature names with dtypes: ['str', 'tuple']. An error will be raised in 1.2.\n",
      "  warnings.warn(\n"
     ]
    }
   ],
   "source": [
    "def scorer_svm(estimator, X):   #Scorer function for OCSVM\n",
    "      return np.mean(estimator.score_samples(one_hot_data_svm_ten_percent_ss))\n",
    "    \n",
    "#Load the saved random_src result\n",
    "#randm_src_svm = joblib.load('OCSVMSearch.sav')\n",
    "randm_src_svm = RandomizedSearchCV(estimator=model_svm_ss, param_distributions = parameters_svm, cv = 3, scoring = f1sc, random_state = 0, return_train_score = True, n_jobs = -1)\n",
    "model = randm_src_svm.fit(one_hot_data_svm_sample_ss, kdd_train_y_sample[\"class_binary\"])\n",
    "\n",
    "print(\" Results from Random Search \" )\n",
    "print(\"\\n The best estimator across ALL searched params:\\n\", randm_src_svm.best_estimator_)\n",
    "print(\"\\n The best score across ALL searched params:\\n\", randm_src_svm.best_score_)\n",
    "print(\"\\n The best parameters across ALL searched params:\\n\", randm_src_svm.best_params_)"
   ]
  },
  {
   "cell_type": "code",
   "execution_count": 66,
   "id": "8ac0f3e1",
   "metadata": {},
   "outputs": [
    {
     "name": "stderr",
     "output_type": "stream",
     "text": [
      "C:\\WINDOWS\\system32\\myenv\\lib\\site-packages\\sklearn\\utils\\validation.py:1858: FutureWarning: Feature names only support names that are all strings. Got feature names with dtypes: ['str', 'tuple']. An error will be raised in 1.2.\n",
      "  warnings.warn(\n"
     ]
    }
   ],
   "source": [
    "model_svm_ss = OneClassSVM(kernel = 'linear', nu=0.3834415188257777)\n",
    "#0.5488135039273248\n",
    "model_svm_ss = model_svm_ss.fit(one_hot_data_svm_ten_percent_ss)\n"
   ]
  },
  {
   "cell_type": "code",
   "execution_count": 67,
   "id": "058c0793",
   "metadata": {},
   "outputs": [],
   "source": [
    "pickle.dump(model_svm_ss,open('model_svm_ss.sav','wb'))"
   ]
  },
  {
   "cell_type": "code",
   "execution_count": 68,
   "id": "ac6ad926",
   "metadata": {},
   "outputs": [
    {
     "name": "stderr",
     "output_type": "stream",
     "text": [
      "C:\\WINDOWS\\system32\\myenv\\lib\\site-packages\\sklearn\\utils\\validation.py:1858: FutureWarning: Feature names only support names that are all strings. Got feature names with dtypes: ['str', 'tuple']. An error will be raised in 1.2.\n",
      "  warnings.warn(\n"
     ]
    }
   ],
   "source": [
    "\n",
    "y_pred_svm_ss =model_svm_ss.predict(one_hot_data_svm_ss)"
   ]
  },
  {
   "cell_type": "code",
   "execution_count": 69,
   "id": "74cd6061",
   "metadata": {},
   "outputs": [
    {
     "data": {
      "text/plain": [
       "array([ 1,  1,  1, ...,  1, -1, -1], dtype=int64)"
      ]
     },
     "execution_count": 69,
     "metadata": {},
     "output_type": "execute_result"
    }
   ],
   "source": [
    "y_pred_svm_ss"
   ]
  },
  {
   "cell_type": "code",
   "execution_count": 70,
   "id": "4098207a",
   "metadata": {},
   "outputs": [
    {
     "name": "stdout",
     "output_type": "stream",
     "text": [
      "Training accuracy: 0.4623\n",
      "[[24426 42917]\n",
      " [24823 33807]]\n"
     ]
    }
   ],
   "source": [
    "y_pred_svm_ss = np.where(y_pred_svm_ss == -1, 0, y_pred_svm_ss)\n",
    "\n",
    "train_acc_ss = accuracy_score(kdd_train_y['class_binary'], y_pred_svm_ss)\n",
    "print(\"Training accuracy: {:.4f}\".format(train_acc_ss))\n",
    "cm_svm_ss = confusion_matrix (kdd_train_y[\"class_binary\"], y_pred_svm_ss)\n",
    "print(cm_svm_ss)"
   ]
  },
  {
   "cell_type": "code",
   "execution_count": 71,
   "id": "8d55f7b2",
   "metadata": {},
   "outputs": [
    {
     "data": {
      "text/plain": [
       "Text(0.5, 1.0, 'Seaborn Confusion Matrix with labels\\n\\n')"
      ]
     },
     "execution_count": 71,
     "metadata": {},
     "output_type": "execute_result"
    },
    {
     "data": {
      "text/plain": [
       "Text(0.5, 15.0, '\\nPredicted Values')"
      ]
     },
     "execution_count": 71,
     "metadata": {},
     "output_type": "execute_result"
    },
    {
     "data": {
      "text/plain": [
       "Text(33.0, 0.5, 'Actual Values ')"
      ]
     },
     "execution_count": 71,
     "metadata": {},
     "output_type": "execute_result"
    },
    {
     "data": {
      "text/plain": [
       "[Text(0.5, 0, 'False'), Text(1.5, 0, 'True')]"
      ]
     },
     "execution_count": 71,
     "metadata": {},
     "output_type": "execute_result"
    },
    {
     "data": {
      "text/plain": [
       "[Text(0, 0.5, 'False'), Text(0, 1.5, 'True')]"
      ]
     },
     "execution_count": 71,
     "metadata": {},
     "output_type": "execute_result"
    },
    {
     "data": {
      "image/png": "[encoded data removed]",
      "text/plain": [
       "<Figure size 432x288 with 2 Axes>"
      ]
     },
     "metadata": {
      "needs_background": "light"
     },
     "output_type": "display_data"
    },
    {
     "name": "stdout",
     "output_type": "stream",
     "text": [
      "Precision:  0.4406313539440071\n",
      "Recall 0.5766160668599692\n"
     ]
    }
   ],
   "source": [
    "ax = sns.heatmap(cm_svm_ss, annot=True, cmap='Blues')\n",
    "\n",
    "ax.set_title('Seaborn Confusion Matrix with labels\\n\\n');\n",
    "ax.set_xlabel('\\nPredicted Values')\n",
    "ax.set_ylabel('Actual Values ');\n",
    "\n",
    "## Ticket labels - List must be in alphabetical order\n",
    "ax.xaxis.set_ticklabels(['False','True'])\n",
    "ax.yaxis.set_ticklabels(['False','True'])\n",
    "\n",
    "## Display the visualization of the Confusion Matrix.\n",
    "plt.show()\n",
    "\n",
    "\n",
    "## FP,FN,TP,TN\n",
    "TN_svm = cm_svm_ss[0][0]\n",
    "FN_svm = cm_svm_ss[1][0]\n",
    "FP_svm = cm_svm_ss[0][1]\n",
    "TP_svm = cm_svm_ss[1][1]\n",
    "\n",
    "\n",
    "##Precision and Recall\n",
    "Precision_svm_ss = TP_svm/(TP_svm+FP_svm)\n",
    "Recall_svm_ss = TP_svm/(TP_svm+FN_svm)\n",
    "\n",
    "print (\"Precision: \",Precision_svm_ss)\n",
    "print (\"Recall\",Recall_svm_ss)"
   ]
  },
  {
   "cell_type": "markdown",
   "id": "ec958df7",
   "metadata": {},
   "source": [
    "## OCSVM (PCA) "
   ]
  },
  {
   "cell_type": "code",
   "execution_count": 72,
   "id": "8a07211f",
   "metadata": {},
   "outputs": [],
   "source": [
    "one_hot_data_svm = one_hot_data_svm.drop(['p-value','p-value_mcd'],axis = 1)"
   ]
  },
  {
   "cell_type": "code",
   "execution_count": 73,
   "id": "dbb417fb",
   "metadata": {},
   "outputs": [],
   "source": [
    "one_hot_data_svm_ten_percent = one_hot_data_svm[0:12597]\n",
    "one_hot_data_svm_sample = one_hot_data_svm.iloc[idx_rand[:num_sample]]"
   ]
  },
  {
   "cell_type": "code",
   "execution_count": 74,
   "id": "1b68d358",
   "metadata": {},
   "outputs": [
    {
     "name": "stdout",
     "output_type": "stream",
     "text": [
      " Results from Random Search \n",
      "\n",
      " The best estimator across ALL searched params:\n",
      " OneClassSVM(nu=0.3834415188257777)\n",
      "\n",
      " The best score across ALL searched params:\n",
      " 0.2843163995908626\n",
      "\n",
      " The best parameters across ALL searched params:\n",
      " {'nu': 0.3834415188257777}\n"
     ]
    }
   ],
   "source": [
    "def scorer_svm(estimator, X):   #Scorer function for OCSVM\n",
    "      return np.mean(estimator.score_samples(one_hot_data_svm_ten_percent))\n",
    "    \n",
    "#Load the saved random_src result\n",
    "#randm_src_svm = joblib.load('OCSVMSearch.sav')\n",
    "model_svm = OneClassSVM()\n",
    "randm_src_svm = RandomizedSearchCV(estimator=model_svm, param_distributions = parameters_svm, cv = 3, scoring = f1sc, random_state = 0, return_train_score = True, n_jobs = -1)\n",
    "model = randm_src_svm.fit(one_hot_data_svm_sample, kdd_train_y_sample[\"class_binary\"])\n",
    "\n",
    "print(\" Results from Random Search \" )\n",
    "print(\"\\n The best estimator across ALL searched params:\\n\", randm_src_svm.best_estimator_)\n",
    "print(\"\\n The best score across ALL searched params:\\n\", randm_src_svm.best_score_)\n",
    "print(\"\\n The best parameters across ALL searched params:\\n\", randm_src_svm.best_params_)"
   ]
  },
  {
   "cell_type": "code",
   "execution_count": 75,
   "id": "b1684af4",
   "metadata": {},
   "outputs": [],
   "source": [
    "model_svm = OneClassSVM(kernel = 'linear', nu=0.3834415188257777)\n",
    "model_svm = model_svm.fit(one_hot_data_svm_ten_percent)\n"
   ]
  },
  {
   "cell_type": "code",
   "execution_count": 76,
   "id": "eedbbfc1",
   "metadata": {},
   "outputs": [],
   "source": [
    "pickle.dump(model_svm,open('model_svm_pca.sav','wb'))"
   ]
  },
  {
   "cell_type": "code",
   "execution_count": 77,
   "id": "c20c0ef6",
   "metadata": {},
   "outputs": [],
   "source": [
    "y_pred_svm = model_svm.predict(one_hot_data_svm)"
   ]
  },
  {
   "cell_type": "code",
   "execution_count": 78,
   "id": "47f30484",
   "metadata": {},
   "outputs": [
    {
     "name": "stdout",
     "output_type": "stream",
     "text": [
      "Training accuracy: 0.5028\n",
      "[[26802 40541]\n",
      " [22093 36537]]\n"
     ]
    }
   ],
   "source": [
    "#Evaluation on training result\n",
    "y_pred_svm = np.where(y_pred_svm == -1, 0, y_pred_svm)\n",
    "\n",
    "train_acc = accuracy_score(kdd_train_y['class_binary'], y_pred_svm)\n",
    "print(\"Training accuracy: {:.4f}\".format(train_acc))\n",
    "cm_svm = confusion_matrix (kdd_train_y[\"class_binary\"], y_pred_svm)\n",
    "print(cm_svm)"
   ]
  },
  {
   "cell_type": "code",
   "execution_count": 79,
   "id": "485bc0c1",
   "metadata": {},
   "outputs": [
    {
     "data": {
      "text/plain": [
       "Text(0.5, 1.0, 'Seaborn Confusion Matrix with labels\\n\\n')"
      ]
     },
     "execution_count": 79,
     "metadata": {},
     "output_type": "execute_result"
    },
    {
     "data": {
      "text/plain": [
       "Text(0.5, 15.0, '\\nPredicted Values')"
      ]
     },
     "execution_count": 79,
     "metadata": {},
     "output_type": "execute_result"
    },
    {
     "data": {
      "text/plain": [
       "Text(33.0, 0.5, 'Actual Values ')"
      ]
     },
     "execution_count": 79,
     "metadata": {},
     "output_type": "execute_result"
    },
    {
     "data": {
      "text/plain": [
       "[Text(0.5, 0, 'False'), Text(1.5, 0, 'True')]"
      ]
     },
     "execution_count": 79,
     "metadata": {},
     "output_type": "execute_result"
    },
    {
     "data": {
      "text/plain": [
       "[Text(0, 0.5, 'False'), Text(0, 1.5, 'True')]"
      ]
     },
     "execution_count": 79,
     "metadata": {},
     "output_type": "execute_result"
    },
    {
     "data": {
      "image/png": "[encoded data removed]",
      "text/plain": [
       "<Figure size 432x288 with 2 Axes>"
      ]
     },
     "metadata": {
      "needs_background": "light"
     },
     "output_type": "display_data"
    },
    {
     "name": "stdout",
     "output_type": "stream",
     "text": [
      "Precision:  0.4740263110096266\n",
      "Recall 0.6231792597646256\n"
     ]
    }
   ],
   "source": [
    "ax = sns.heatmap(cm_svm, annot=True, cmap='Blues')\n",
    "\n",
    "ax.set_title('Seaborn Confusion Matrix with labels\\n\\n');\n",
    "ax.set_xlabel('\\nPredicted Values')\n",
    "ax.set_ylabel('Actual Values ');\n",
    "\n",
    "## Ticket labels - List must be in alphabetical order\n",
    "ax.xaxis.set_ticklabels(['False','True'])\n",
    "ax.yaxis.set_ticklabels(['False','True'])\n",
    "\n",
    "## Display the visualization of the Confusion Matrix.\n",
    "plt.show()\n",
    "\n",
    "\n",
    "## FP,FN,TP,TN\n",
    "TN_svm = cm_svm[0][0]\n",
    "FN_svm = cm_svm[1][0]\n",
    "FP_svm = cm_svm[0][1]\n",
    "TP_svm = cm_svm[1][1]\n",
    "\n",
    "\n",
    "##Precision and Recall\n",
    "Precision_svm = TP_svm/(TP_svm+FP_svm)\n",
    "Recall_svm = TP_svm/(TP_svm+FN_svm)\n",
    "\n",
    "print (\"Precision: \",Precision_svm)\n",
    "print (\"Recall\",Recall_svm)"
   ]
  },
  {
   "cell_type": "markdown",
   "id": "b6b23ca9",
   "metadata": {},
   "source": [
    "# K-Means Clustering"
   ]
  },
  {
   "cell_type": "code",
   "execution_count": 80,
   "id": "40f3862f",
   "metadata": {},
   "outputs": [],
   "source": [
    "one_hot_data_kmean_ss = one_hot_data_ss"
   ]
  },
  {
   "cell_type": "code",
   "execution_count": 81,
   "id": "10b07312",
   "metadata": {},
   "outputs": [],
   "source": [
    "one_hot_data_kmean = one_hot_data_pca"
   ]
  },
  {
   "cell_type": "code",
   "execution_count": 82,
   "id": "9748dcef",
   "metadata": {},
   "outputs": [],
   "source": [
    "from sklearn.cluster import KMeans"
   ]
  },
  {
   "cell_type": "code",
   "execution_count": 83,
   "id": "156c34a3",
   "metadata": {},
   "outputs": [],
   "source": [
    "kmean_ss = KMeans(n_clusters=2)\n",
    "kmean = KMeans(n_clusters=2)\n"
   ]
  },
  {
   "cell_type": "code",
   "execution_count": 84,
   "id": "af83065c",
   "metadata": {},
   "outputs": [
    {
     "name": "stderr",
     "output_type": "stream",
     "text": [
      "C:\\WINDOWS\\system32\\myenv\\lib\\site-packages\\sklearn\\utils\\validation.py:1858: FutureWarning: Feature names only support names that are all strings. Got feature names with dtypes: ['str', 'tuple']. An error will be raised in 1.2.\n",
      "  warnings.warn(\n"
     ]
    }
   ],
   "source": [
    "kmean_ss = kmean_ss.fit(one_hot_data_kmean_ss)\n",
    "kmean_result_ss = kmean_ss.labels_"
   ]
  },
  {
   "cell_type": "code",
   "execution_count": 85,
   "id": "0617321f",
   "metadata": {},
   "outputs": [],
   "source": [
    "pickle.dump(kmean_ss,open('kmean_ss.sav','wb'))"
   ]
  },
  {
   "cell_type": "code",
   "execution_count": 86,
   "id": "ccf50f48",
   "metadata": {},
   "outputs": [],
   "source": [
    "kmean_result_ss_c = kmean_result_ss"
   ]
  },
  {
   "cell_type": "code",
   "execution_count": 87,
   "id": "7b128e13",
   "metadata": {},
   "outputs": [],
   "source": [
    "count_1 = np.count_nonzero(kmean_result_ss==1)"
   ]
  },
  {
   "cell_type": "code",
   "execution_count": 88,
   "id": "1cc36d2b",
   "metadata": {},
   "outputs": [],
   "source": [
    "count_0 = kmean_result_ss.shape[0] - np.count_nonzero(kmean_result_ss==1)"
   ]
  },
  {
   "cell_type": "code",
   "execution_count": 89,
   "id": "04cefc78",
   "metadata": {},
   "outputs": [
    {
     "name": "stdout",
     "output_type": "stream",
     "text": [
      "91038\n",
      "34935\n"
     ]
    }
   ],
   "source": [
    "print(count_0)\n",
    "print(count_1)"
   ]
  },
  {
   "cell_type": "code",
   "execution_count": 90,
   "id": "94be7835",
   "metadata": {},
   "outputs": [],
   "source": [
    "if(count_1 > count_0):\n",
    "    kmean_result_ss = np.where(kmean_result_ss_c ==1, 0, kmean_result_ss)\n",
    "    kmean_result_ss = np.where(kmean_result_ss_c ==0, 1, kmean_result_ss)"
   ]
  },
  {
   "cell_type": "code",
   "execution_count": 91,
   "id": "523f510b",
   "metadata": {},
   "outputs": [
    {
     "data": {
      "text/plain": [
       "array([0, 0, 1, ..., 0, 1, 0])"
      ]
     },
     "execution_count": 91,
     "metadata": {},
     "output_type": "execute_result"
    }
   ],
   "source": [
    "kmean_result_ss"
   ]
  },
  {
   "cell_type": "code",
   "execution_count": 92,
   "id": "8d1a01b8",
   "metadata": {},
   "outputs": [
    {
     "name": "stdout",
     "output_type": "stream",
     "text": [
      "Training accuracy: 0.8104\n",
      "[[67248    95]\n",
      " [23790 34840]]\n"
     ]
    }
   ],
   "source": [
    "train_acc_kmean_ss = accuracy_score(kdd_train_y['class_binary'], kmean_result_ss)\n",
    "print(\"Training accuracy: {:.4f}\".format(train_acc_kmean_ss))\n",
    "cm_kmean_ss = confusion_matrix (kdd_train_y[\"class_binary\"], kmean_result_ss)\n",
    "print(cm_kmean_ss)"
   ]
  },
  {
   "cell_type": "code",
   "execution_count": 93,
   "id": "171046e6",
   "metadata": {},
   "outputs": [
    {
     "data": {
      "text/plain": [
       "Text(0.5, 1.0, 'Seaborn Confusion Matrix with labels\\n\\n')"
      ]
     },
     "execution_count": 93,
     "metadata": {},
     "output_type": "execute_result"
    },
    {
     "data": {
      "text/plain": [
       "Text(0.5, 15.0, '\\nPredicted Values')"
      ]
     },
     "execution_count": 93,
     "metadata": {},
     "output_type": "execute_result"
    },
    {
     "data": {
      "text/plain": [
       "Text(33.0, 0.5, 'Actual Values ')"
      ]
     },
     "execution_count": 93,
     "metadata": {},
     "output_type": "execute_result"
    },
    {
     "data": {
      "text/plain": [
       "[Text(0.5, 0, 'False'), Text(1.5, 0, 'True')]"
      ]
     },
     "execution_count": 93,
     "metadata": {},
     "output_type": "execute_result"
    },
    {
     "data": {
      "text/plain": [
       "[Text(0, 0.5, 'False'), Text(0, 1.5, 'True')]"
      ]
     },
     "execution_count": 93,
     "metadata": {},
     "output_type": "execute_result"
    },
    {
     "data": {
      "image/png": "[encoded data removed]",
      "text/plain": [
       "<Figure size 432x288 with 2 Axes>"
      ]
     },
     "metadata": {
      "needs_background": "light"
     },
     "output_type": "display_data"
    },
    {
     "name": "stdout",
     "output_type": "stream",
     "text": [
      "Precision:  0.9972806640904537\n",
      "Recall 0.5942350332594235\n"
     ]
    }
   ],
   "source": [
    "ax = sns.heatmap(cm_kmean_ss, annot=True, cmap='Blues')\n",
    "\n",
    "ax.set_title('Seaborn Confusion Matrix with labels\\n\\n');\n",
    "ax.set_xlabel('\\nPredicted Values')\n",
    "ax.set_ylabel('Actual Values ');\n",
    "\n",
    "## Ticket labels - List must be in alphabetical order\n",
    "ax.xaxis.set_ticklabels(['False','True'])\n",
    "ax.yaxis.set_ticklabels(['False','True'])\n",
    "\n",
    "## Display the visualization of the Confusion Matrix.\n",
    "plt.show()\n",
    "\n",
    "\n",
    "## FP,FN,TP,TN\n",
    "TN_kmean = cm_kmean_ss[0][0]\n",
    "FN_kmean = cm_kmean_ss[1][0]\n",
    "FP_kmean = cm_kmean_ss[0][1]\n",
    "TP_kmean = cm_kmean_ss[1][1]\n",
    "\n",
    "\n",
    "##Precision and Recall\n",
    "Precision_kmean_ss = TP_kmean/(TP_kmean+FP_kmean)\n",
    "Recall_kmean_ss = TP_kmean/(TP_kmean+FN_kmean)\n",
    "\n",
    "print (\"Precision: \",Precision_kmean_ss)\n",
    "print (\"Recall\",Recall_kmean_ss)"
   ]
  },
  {
   "cell_type": "markdown",
   "id": "a914e3e1",
   "metadata": {},
   "source": [
    "## K-Means (PCA)"
   ]
  },
  {
   "cell_type": "code",
   "execution_count": 94,
   "id": "dceaec70",
   "metadata": {},
   "outputs": [
    {
     "data": {
      "text/html": [
       "<style>#sk-container-id-1 {color: black;background-color: white;}#sk-container-id-1 pre{padding: 0;}#sk-container-id-1 div.sk-toggleable {background-color: white;}#sk-container-id-1 label.sk-toggleable__label {cursor: pointer;display: block;width: 100%;margin-bottom: 0;padding: 0.3em;box-sizing: border-box;text-align: center;}#sk-container-id-1 label.sk-toggleable__label-arrow:before {content: \"▸\";float: left;margin-right: 0.25em;color: #696969;}#sk-container-id-1 label.sk-toggleable__label-arrow:hover:before {color: black;}#sk-container-id-1 div.sk-estimator:hover label.sk-toggleable__label-arrow:before {color: black;}#sk-container-id-1 div.sk-toggleable__content {max-height: 0;max-width: 0;overflow: hidden;text-align: left;background-color: #f0f8ff;}#sk-container-id-1 div.sk-toggleable__content pre {margin: 0.2em;color: black;border-radius: 0.25em;background-color: #f0f8ff;}#sk-container-id-1 input.sk-toggleable__control:checked~div.sk-toggleable__content {max-height: 200px;max-width: 100%;overflow: auto;}#sk-container-id-1 input.sk-toggleable__control:checked~label.sk-toggleable__label-arrow:before {content: \"▾\";}#sk-container-id-1 div.sk-estimator input.sk-toggleable__control:checked~label.sk-toggleable__label {background-color: #d4ebff;}#sk-container-id-1 div.sk-label input.sk-toggleable__control:checked~label.sk-toggleable__label {background-color: #d4ebff;}#sk-container-id-1 input.sk-hidden--visually {border: 0;clip: rect(1px 1px 1px 1px);clip: rect(1px, 1px, 1px, 1px);height: 1px;margin: -1px;overflow: hidden;padding: 0;position: absolute;width: 1px;}#sk-container-id-1 div.sk-estimator {font-family: monospace;background-color: #f0f8ff;border: 1px dotted black;border-radius: 0.25em;box-sizing: border-box;margin-bottom: 0.5em;}#sk-container-id-1 div.sk-estimator:hover {background-color: #d4ebff;}#sk-container-id-1 div.sk-parallel-item::after {content: \"\";width: 100%;border-bottom: 1px solid gray;flex-grow: 1;}#sk-container-id-1 div.sk-label:hover label.sk-toggleable__label {background-color: #d4ebff;}#sk-container-id-1 div.sk-serial::before {content: \"\";position: absolute;border-left: 1px solid gray;box-sizing: border-box;top: 0;bottom: 0;left: 50%;z-index: 0;}#sk-container-id-1 div.sk-serial {display: flex;flex-direction: column;align-items: center;background-color: white;padding-right: 0.2em;padding-left: 0.2em;position: relative;}#sk-container-id-1 div.sk-item {position: relative;z-index: 1;}#sk-container-id-1 div.sk-parallel {display: flex;align-items: stretch;justify-content: center;background-color: white;position: relative;}#sk-container-id-1 div.sk-item::before, #sk-container-id-1 div.sk-parallel-item::before {content: \"\";position: absolute;border-left: 1px solid gray;box-sizing: border-box;top: 0;bottom: 0;left: 50%;z-index: -1;}#sk-container-id-1 div.sk-parallel-item {display: flex;flex-direction: column;z-index: 1;position: relative;background-color: white;}#sk-container-id-1 div.sk-parallel-item:first-child::after {align-self: flex-end;width: 50%;}#sk-container-id-1 div.sk-parallel-item:last-child::after {align-self: flex-start;width: 50%;}#sk-container-id-1 div.sk-parallel-item:only-child::after {width: 0;}#sk-container-id-1 div.sk-dashed-wrapped {border: 1px dashed gray;margin: 0 0.4em 0.5em 0.4em;box-sizing: border-box;padding-bottom: 0.4em;background-color: white;}#sk-container-id-1 div.sk-label label {font-family: monospace;font-weight: bold;display: inline-block;line-height: 1.2em;}#sk-container-id-1 div.sk-label-container {text-align: center;}#sk-container-id-1 div.sk-container {/* jupyter's `normalize.less` sets `[hidden] { display: none; }` but bootstrap.min.css set `[hidden] { display: none !important; }` so we also need the `!important` here to be able to override the default hidden behavior on the sphinx rendered scikit-learn.org. See: https://github.com/scikit-learn/scikit-learn/issues/21755 */display: inline-block !important;position: relative;}#sk-container-id-1 div.sk-text-repr-fallback {display: none;}</style><div id=\"sk-container-id-1\" class=\"sk-top-container\"><div class=\"sk-text-repr-fallback\"><pre>KMeans(n_clusters=2)</pre><b>In a Jupyter environment, please rerun this cell to show the HTML representation or trust the notebook. <br />On GitHub, the HTML representation is unable to render, please try loading this page with nbviewer.org.</b></div><div class=\"sk-container\" hidden><div class=\"sk-item\"><div class=\"sk-estimator sk-toggleable\"><input class=\"sk-toggleable__control sk-hidden--visually\" id=\"sk-estimator-id-1\" type=\"checkbox\" checked><label for=\"sk-estimator-id-1\" class=\"sk-toggleable__label sk-toggleable__label-arrow\">KMeans</label><div class=\"sk-toggleable__content\"><pre>KMeans(n_clusters=2)</pre></div></div></div></div></div>"
      ],
      "text/plain": [
       "KMeans(n_clusters=2)"
      ]
     },
     "execution_count": 94,
     "metadata": {},
     "output_type": "execute_result"
    }
   ],
   "source": [
    "kmean.fit(one_hot_data_kmean)\n",
    "kmean_result = kmean.labels_"
   ]
  },
  {
   "cell_type": "code",
   "execution_count": 95,
   "id": "89f78a6f",
   "metadata": {},
   "outputs": [],
   "source": [
    "pickle.dump(kmean,open('kmean.sav','wb'))"
   ]
  },
  {
   "cell_type": "code",
   "execution_count": 96,
   "id": "e98a3dde",
   "metadata": {},
   "outputs": [],
   "source": [
    "kmean_result_c = kmean_result\n",
    "count_1 = np.count_nonzero(kmean_result==1)\n",
    "count_0 = kmean_result_ss.shape[0] - np.count_nonzero(kmean_result_ss==0)"
   ]
  },
  {
   "cell_type": "code",
   "execution_count": 97,
   "id": "62c1c1e8",
   "metadata": {},
   "outputs": [],
   "source": [
    "if(count_1 > count_0):\n",
    "    kmean_result = np.where(kmean_result_c ==1, 0, kmean_result)\n",
    "    kmean_result = np.where(kmean_result_c ==0, 1, kmean_result)"
   ]
  },
  {
   "cell_type": "code",
   "execution_count": 98,
   "id": "3ceda64f",
   "metadata": {},
   "outputs": [
    {
     "data": {
      "text/plain": [
       "array([1, 1, 1, ..., 0, 1, 0])"
      ]
     },
     "execution_count": 98,
     "metadata": {},
     "output_type": "execute_result"
    }
   ],
   "source": [
    "kmean_result"
   ]
  },
  {
   "cell_type": "code",
   "execution_count": 99,
   "id": "61cc03dd",
   "metadata": {},
   "outputs": [
    {
     "name": "stdout",
     "output_type": "stream",
     "text": [
      "Training accuracy: 0.7929\n",
      "[[46877 20466]\n",
      " [ 5617 53013]]\n"
     ]
    }
   ],
   "source": [
    "train_acc_kmean = accuracy_score(kdd_train_y['class_binary'], kmean_result)\n",
    "print(\"Training accuracy: {:.4f}\".format(train_acc_kmean))\n",
    "cm_kmean = confusion_matrix (kdd_train_y[\"class_binary\"], kmean_result)\n",
    "print(cm_kmean)"
   ]
  },
  {
   "cell_type": "code",
   "execution_count": 100,
   "id": "442e0cd5",
   "metadata": {},
   "outputs": [
    {
     "data": {
      "text/plain": [
       "Text(0.5, 1.0, 'Seaborn Confusion Matrix with labels\\n\\n')"
      ]
     },
     "execution_count": 100,
     "metadata": {},
     "output_type": "execute_result"
    },
    {
     "data": {
      "text/plain": [
       "Text(0.5, 15.0, '\\nPredicted Values')"
      ]
     },
     "execution_count": 100,
     "metadata": {},
     "output_type": "execute_result"
    },
    {
     "data": {
      "text/plain": [
       "Text(33.0, 0.5, 'Actual Values ')"
      ]
     },
     "execution_count": 100,
     "metadata": {},
     "output_type": "execute_result"
    },
    {
     "data": {
      "text/plain": [
       "[Text(0.5, 0, 'False'), Text(1.5, 0, 'True')]"
      ]
     },
     "execution_count": 100,
     "metadata": {},
     "output_type": "execute_result"
    },
    {
     "data": {
      "text/plain": [
       "[Text(0, 0.5, 'False'), Text(0, 1.5, 'True')]"
      ]
     },
     "execution_count": 100,
     "metadata": {},
     "output_type": "execute_result"
    },
    {
     "data": {
      "image/png": "[encoded data removed]",
      "text/plain": [
       "<Figure size 432x288 with 2 Axes>"
      ]
     },
     "metadata": {
      "needs_background": "light"
     },
     "output_type": "display_data"
    },
    {
     "name": "stdout",
     "output_type": "stream",
     "text": [
      "Precision:  0.7214714408198261\n",
      "Recall 0.9041958041958041\n"
     ]
    }
   ],
   "source": [
    "    ax = sns.heatmap(cm_kmean, annot=True, cmap='Blues')\n",
    "\n",
    "    ax.set_title('Seaborn Confusion Matrix with labels\\n\\n');\n",
    "    ax.set_xlabel('\\nPredicted Values')\n",
    "    ax.set_ylabel('Actual Values ');\n",
    "\n",
    "    ## Ticket labels - List must be in alphabetical order\n",
    "    ax.xaxis.set_ticklabels(['False','True'])\n",
    "    ax.yaxis.set_ticklabels(['False','True'])\n",
    "\n",
    "    ## Display the visualization of the Confusion Matrix.\n",
    "    plt.show()\n",
    "\n",
    "\n",
    "    ## FP,FN,TP,TN\n",
    "    TN_kmean = cm_kmean[0][0]\n",
    "    FN_kmean = cm_kmean[1][0]\n",
    "    FP_kmean = cm_kmean[0][1]\n",
    "    TP_kmean = cm_kmean[1][1]\n",
    "\n",
    "\n",
    "    ##Precision and Recall\n",
    "    Precision_kmean = TP_kmean/(TP_kmean+FP_kmean)\n",
    "    Recall_kmean = TP_kmean/(TP_kmean+FN_kmean)\n",
    "\n",
    "    print (\"Precision: \",Precision_kmean)\n",
    "    print (\"Recall\",Recall_kmean)"
   ]
  },
  {
   "cell_type": "markdown",
   "id": "61b55859",
   "metadata": {},
   "source": [
    "# Comparison of Train Result"
   ]
  },
  {
   "cell_type": "markdown",
   "id": "9b1236d6",
   "metadata": {},
   "source": [
    "# Before PCA"
   ]
  },
  {
   "cell_type": "code",
   "execution_count": 101,
   "id": "4dfa4efd",
   "metadata": {},
   "outputs": [
    {
     "data": {
      "text/html": [
       "<div>\n",
       "<style scoped>\n",
       "    .dataframe tbody tr th:only-of-type {\n",
       "        vertical-align: middle;\n",
       "    }\n",
       "\n",
       "    .dataframe tbody tr th {\n",
       "        vertical-align: top;\n",
       "    }\n",
       "\n",
       "    .dataframe thead th {\n",
       "        text-align: right;\n",
       "    }\n",
       "</style>\n",
       "<table border=\"1\" class=\"dataframe\">\n",
       "  <thead>\n",
       "    <tr style=\"text-align: right;\">\n",
       "      <th></th>\n",
       "      <th>Algorithm</th>\n",
       "      <th>accuracy</th>\n",
       "      <th>recall</th>\n",
       "      <th>precision</th>\n",
       "    </tr>\n",
       "  </thead>\n",
       "  <tbody>\n",
       "    <tr>\n",
       "      <th>0</th>\n",
       "      <td>Mahalanobis</td>\n",
       "      <td>0.533622</td>\n",
       "      <td>0.002064</td>\n",
       "      <td>0.333333</td>\n",
       "    </tr>\n",
       "    <tr>\n",
       "      <th>1</th>\n",
       "      <td>Maha + MCD</td>\n",
       "      <td>0.535337</td>\n",
       "      <td>0.237899</td>\n",
       "      <td>0.501709</td>\n",
       "    </tr>\n",
       "    <tr>\n",
       "      <th>2</th>\n",
       "      <td>IF</td>\n",
       "      <td>0.449811</td>\n",
       "      <td>0.953249</td>\n",
       "      <td>0.456397</td>\n",
       "    </tr>\n",
       "    <tr>\n",
       "      <th>3</th>\n",
       "      <td>OCSVM</td>\n",
       "      <td>0.462266</td>\n",
       "      <td>0.576616</td>\n",
       "      <td>0.440631</td>\n",
       "    </tr>\n",
       "    <tr>\n",
       "      <th>4</th>\n",
       "      <td>Kmean</td>\n",
       "      <td>0.810396</td>\n",
       "      <td>0.594235</td>\n",
       "      <td>0.997281</td>\n",
       "    </tr>\n",
       "  </tbody>\n",
       "</table>\n",
       "</div>"
      ],
      "text/plain": [
       "     Algorithm  accuracy    recall  precision\n",
       "0  Mahalanobis  0.533622  0.002064   0.333333\n",
       "1   Maha + MCD  0.535337  0.237899   0.501709\n",
       "2           IF  0.449811  0.953249   0.456397\n",
       "3        OCSVM  0.462266  0.576616   0.440631\n",
       "4        Kmean  0.810396  0.594235   0.997281"
      ]
     },
     "execution_count": 101,
     "metadata": {},
     "output_type": "execute_result"
    }
   ],
   "source": [
    "header_cmp = ['Algorithm','accuracy', 'recall', 'precision']\n",
    "table_cmp = [['Mahalanobis', train_acc_maha_ss, Recall_maha_ss, Precision_maha_ss],\n",
    "             ['Maha + MCD', train_acc_maha_mcd_ss, Recall_maha_mcd_ss, Precision_maha_mcd_ss],\n",
    "             ['IF', train_acc_if_ss, Recall_if_ss, Precision_if_ss],\n",
    "             ['OCSVM', train_acc_ss, Recall_svm_ss, Precision_svm_ss],\n",
    "             ['Kmean', train_acc_kmean_ss, Recall_kmean_ss, Precision_kmean_ss]]\n",
    "comparison_ss = pd.DataFrame(table_cmp,columns=header_cmp)\n",
    "comparison_ss"
   ]
  },
  {
   "cell_type": "markdown",
   "id": "bf2a32c7",
   "metadata": {},
   "source": [
    "# After PCA "
   ]
  },
  {
   "cell_type": "code",
   "execution_count": 102,
   "id": "6d5a07a4",
   "metadata": {},
   "outputs": [
    {
     "data": {
      "text/html": [
       "<div>\n",
       "<style scoped>\n",
       "    .dataframe tbody tr th:only-of-type {\n",
       "        vertical-align: middle;\n",
       "    }\n",
       "\n",
       "    .dataframe tbody tr th {\n",
       "        vertical-align: top;\n",
       "    }\n",
       "\n",
       "    .dataframe thead th {\n",
       "        text-align: right;\n",
       "    }\n",
       "</style>\n",
       "<table border=\"1\" class=\"dataframe\">\n",
       "  <thead>\n",
       "    <tr style=\"text-align: right;\">\n",
       "      <th></th>\n",
       "      <th>Algorithm</th>\n",
       "      <th>accuracy</th>\n",
       "      <th>recall</th>\n",
       "      <th>precision</th>\n",
       "    </tr>\n",
       "  </thead>\n",
       "  <tbody>\n",
       "    <tr>\n",
       "      <th>0</th>\n",
       "      <td>Mahalanobis</td>\n",
       "      <td>0.533948</td>\n",
       "      <td>0.000682</td>\n",
       "      <td>0.250000</td>\n",
       "    </tr>\n",
       "    <tr>\n",
       "      <th>1</th>\n",
       "      <td>Maha + MCD</td>\n",
       "      <td>0.486041</td>\n",
       "      <td>0.461931</td>\n",
       "      <td>0.449279</td>\n",
       "    </tr>\n",
       "    <tr>\n",
       "      <th>2</th>\n",
       "      <td>IF</td>\n",
       "      <td>0.457638</td>\n",
       "      <td>0.967764</td>\n",
       "      <td>0.460653</td>\n",
       "    </tr>\n",
       "    <tr>\n",
       "      <th>3</th>\n",
       "      <td>OCSVM</td>\n",
       "      <td>0.502798</td>\n",
       "      <td>0.623179</td>\n",
       "      <td>0.474026</td>\n",
       "    </tr>\n",
       "    <tr>\n",
       "      <th>4</th>\n",
       "      <td>Kmean</td>\n",
       "      <td>0.792948</td>\n",
       "      <td>0.904196</td>\n",
       "      <td>0.721471</td>\n",
       "    </tr>\n",
       "  </tbody>\n",
       "</table>\n",
       "</div>"
      ],
      "text/plain": [
       "     Algorithm  accuracy    recall  precision\n",
       "0  Mahalanobis  0.533948  0.000682   0.250000\n",
       "1   Maha + MCD  0.486041  0.461931   0.449279\n",
       "2           IF  0.457638  0.967764   0.460653\n",
       "3        OCSVM  0.502798  0.623179   0.474026\n",
       "4        Kmean  0.792948  0.904196   0.721471"
      ]
     },
     "execution_count": 102,
     "metadata": {},
     "output_type": "execute_result"
    }
   ],
   "source": [
    "header_cmp = ['Algorithm','accuracy', 'recall', 'precision']\n",
    "table_cmp = [['Mahalanobis', train_acc_maha, Recall_maha, Precision_maha],\n",
    "             ['Maha + MCD', train_acc_maha_mcd, Recall_maha_mcd, Precision_maha_mcd],\n",
    "             ['IF', train_acc_if, Recall_if, Precision_if],\n",
    "             ['OCSVM', train_acc, Recall_svm, Precision_svm],\n",
    "             ['Kmean', train_acc_kmean, Recall_kmean, Precision_kmean]]\n",
    "comparison = pd.DataFrame(table_cmp,columns=header_cmp)\n",
    "comparison"
   ]
  },
  {
   "cell_type": "markdown",
   "id": "10d48769",
   "metadata": {},
   "source": [
    "# Testing"
   ]
  },
  {
   "cell_type": "code",
   "execution_count": 103,
   "id": "44f86c7f",
   "metadata": {},
   "outputs": [],
   "source": [
    "kdd_test = pd.read_csv('Dataset/KDDTest+.txt', delimiter = ',', header = None)\n",
    "kdd_test.columns = header_names\n",
    "kdd_test_x = kdd_test.drop(['class','Difficulty'],axis = 1)"
   ]
  },
  {
   "cell_type": "code",
   "execution_count": 104,
   "id": "6866aa5d",
   "metadata": {},
   "outputs": [],
   "source": [
    "kdd_test_x = kdd_test_x.drop(['num_outbound_cmds'],axis =1)"
   ]
  },
  {
   "cell_type": "code",
   "execution_count": 105,
   "id": "8347090d",
   "metadata": {},
   "outputs": [],
   "source": [
    "num_cols = kdd_test_x._get_numeric_data().columns\n",
    "cate_cols = list(set(kdd_test_x.columns) - set(num_cols))\n",
    "cate_features = pd.get_dummies(kdd_test_x[cate_cols], prefix = cate_cols)\n",
    "ss_test_x = kdd_test_x.drop(cate_cols, axis = 1)"
   ]
  },
  {
   "cell_type": "code",
   "execution_count": 106,
   "id": "8c52ff84",
   "metadata": {},
   "outputs": [
    {
     "data": {
      "text/plain": [
       "Index(['duration', 'protocol_type', 'service', 'flag', 'src_bytes',\n",
       "       'dst_bytes', 'land', 'wrong_fragment', 'urgent', 'hot',\n",
       "       'num_failed_logins', 'logged_in', 'num_compromised', 'root_shell',\n",
       "       'su_attempted', 'num_root', 'num_file_creations', 'num_shells',\n",
       "       'num_access_files', 'is_host_login', 'is_guest_login', 'count',\n",
       "       'srv_count', 'serror_rate', 'srv_serror_rate', 'rerror_rate',\n",
       "       'srv_rerror_rate', 'same_srv_rate', 'diff_srv_rate',\n",
       "       'srv_diff_host_rate', 'dst_host_count', 'dst_host_srv_count',\n",
       "       'dst_host_same_srv_rate', 'dst_host_diff_srv_rate',\n",
       "       'dst_host_same_src_port_rate', 'dst_host_srv_diff_host_rate',\n",
       "       'dst_host_serror_rate', 'dst_host_srv_serror_rate',\n",
       "       'dst_host_rerror_rate', 'dst_host_srv_rerror_rate'],\n",
       "      dtype='object')"
      ]
     },
     "execution_count": 106,
     "metadata": {},
     "output_type": "execute_result"
    },
    {
     "data": {
      "text/html": [
       "<div>\n",
       "<style scoped>\n",
       "    .dataframe tbody tr th:only-of-type {\n",
       "        vertical-align: middle;\n",
       "    }\n",
       "\n",
       "    .dataframe tbody tr th {\n",
       "        vertical-align: top;\n",
       "    }\n",
       "\n",
       "    .dataframe thead th {\n",
       "        text-align: right;\n",
       "    }\n",
       "</style>\n",
       "<table border=\"1\" class=\"dataframe\">\n",
       "  <thead>\n",
       "    <tr style=\"text-align: right;\">\n",
       "      <th></th>\n",
       "      <th>duration</th>\n",
       "      <th>src_bytes</th>\n",
       "      <th>dst_bytes</th>\n",
       "      <th>land</th>\n",
       "      <th>wrong_fragment</th>\n",
       "      <th>urgent</th>\n",
       "      <th>hot</th>\n",
       "      <th>num_failed_logins</th>\n",
       "      <th>logged_in</th>\n",
       "      <th>num_compromised</th>\n",
       "      <th>...</th>\n",
       "      <th>dst_host_count</th>\n",
       "      <th>dst_host_srv_count</th>\n",
       "      <th>dst_host_same_srv_rate</th>\n",
       "      <th>dst_host_diff_srv_rate</th>\n",
       "      <th>dst_host_same_src_port_rate</th>\n",
       "      <th>dst_host_srv_diff_host_rate</th>\n",
       "      <th>dst_host_serror_rate</th>\n",
       "      <th>dst_host_srv_serror_rate</th>\n",
       "      <th>dst_host_rerror_rate</th>\n",
       "      <th>dst_host_srv_rerror_rate</th>\n",
       "    </tr>\n",
       "  </thead>\n",
       "  <tbody>\n",
       "    <tr>\n",
       "      <th>0</th>\n",
       "      <td>0</td>\n",
       "      <td>0</td>\n",
       "      <td>0</td>\n",
       "      <td>0</td>\n",
       "      <td>0</td>\n",
       "      <td>0</td>\n",
       "      <td>0</td>\n",
       "      <td>0</td>\n",
       "      <td>0</td>\n",
       "      <td>0</td>\n",
       "      <td>...</td>\n",
       "      <td>255</td>\n",
       "      <td>10</td>\n",
       "      <td>0.04</td>\n",
       "      <td>0.06</td>\n",
       "      <td>0.00</td>\n",
       "      <td>0.00</td>\n",
       "      <td>0.00</td>\n",
       "      <td>0.0</td>\n",
       "      <td>1.00</td>\n",
       "      <td>1.00</td>\n",
       "    </tr>\n",
       "    <tr>\n",
       "      <th>1</th>\n",
       "      <td>0</td>\n",
       "      <td>0</td>\n",
       "      <td>0</td>\n",
       "      <td>0</td>\n",
       "      <td>0</td>\n",
       "      <td>0</td>\n",
       "      <td>0</td>\n",
       "      <td>0</td>\n",
       "      <td>0</td>\n",
       "      <td>0</td>\n",
       "      <td>...</td>\n",
       "      <td>255</td>\n",
       "      <td>1</td>\n",
       "      <td>0.00</td>\n",
       "      <td>0.06</td>\n",
       "      <td>0.00</td>\n",
       "      <td>0.00</td>\n",
       "      <td>0.00</td>\n",
       "      <td>0.0</td>\n",
       "      <td>1.00</td>\n",
       "      <td>1.00</td>\n",
       "    </tr>\n",
       "    <tr>\n",
       "      <th>2</th>\n",
       "      <td>2</td>\n",
       "      <td>12983</td>\n",
       "      <td>0</td>\n",
       "      <td>0</td>\n",
       "      <td>0</td>\n",
       "      <td>0</td>\n",
       "      <td>0</td>\n",
       "      <td>0</td>\n",
       "      <td>0</td>\n",
       "      <td>0</td>\n",
       "      <td>...</td>\n",
       "      <td>134</td>\n",
       "      <td>86</td>\n",
       "      <td>0.61</td>\n",
       "      <td>0.04</td>\n",
       "      <td>0.61</td>\n",
       "      <td>0.02</td>\n",
       "      <td>0.00</td>\n",
       "      <td>0.0</td>\n",
       "      <td>0.00</td>\n",
       "      <td>0.00</td>\n",
       "    </tr>\n",
       "    <tr>\n",
       "      <th>3</th>\n",
       "      <td>0</td>\n",
       "      <td>20</td>\n",
       "      <td>0</td>\n",
       "      <td>0</td>\n",
       "      <td>0</td>\n",
       "      <td>0</td>\n",
       "      <td>0</td>\n",
       "      <td>0</td>\n",
       "      <td>0</td>\n",
       "      <td>0</td>\n",
       "      <td>...</td>\n",
       "      <td>3</td>\n",
       "      <td>57</td>\n",
       "      <td>1.00</td>\n",
       "      <td>0.00</td>\n",
       "      <td>1.00</td>\n",
       "      <td>0.28</td>\n",
       "      <td>0.00</td>\n",
       "      <td>0.0</td>\n",
       "      <td>0.00</td>\n",
       "      <td>0.00</td>\n",
       "    </tr>\n",
       "    <tr>\n",
       "      <th>4</th>\n",
       "      <td>1</td>\n",
       "      <td>0</td>\n",
       "      <td>15</td>\n",
       "      <td>0</td>\n",
       "      <td>0</td>\n",
       "      <td>0</td>\n",
       "      <td>0</td>\n",
       "      <td>0</td>\n",
       "      <td>0</td>\n",
       "      <td>0</td>\n",
       "      <td>...</td>\n",
       "      <td>29</td>\n",
       "      <td>86</td>\n",
       "      <td>0.31</td>\n",
       "      <td>0.17</td>\n",
       "      <td>0.03</td>\n",
       "      <td>0.02</td>\n",
       "      <td>0.00</td>\n",
       "      <td>0.0</td>\n",
       "      <td>0.83</td>\n",
       "      <td>0.71</td>\n",
       "    </tr>\n",
       "    <tr>\n",
       "      <th>...</th>\n",
       "      <td>...</td>\n",
       "      <td>...</td>\n",
       "      <td>...</td>\n",
       "      <td>...</td>\n",
       "      <td>...</td>\n",
       "      <td>...</td>\n",
       "      <td>...</td>\n",
       "      <td>...</td>\n",
       "      <td>...</td>\n",
       "      <td>...</td>\n",
       "      <td>...</td>\n",
       "      <td>...</td>\n",
       "      <td>...</td>\n",
       "      <td>...</td>\n",
       "      <td>...</td>\n",
       "      <td>...</td>\n",
       "      <td>...</td>\n",
       "      <td>...</td>\n",
       "      <td>...</td>\n",
       "      <td>...</td>\n",
       "      <td>...</td>\n",
       "    </tr>\n",
       "    <tr>\n",
       "      <th>22539</th>\n",
       "      <td>0</td>\n",
       "      <td>794</td>\n",
       "      <td>333</td>\n",
       "      <td>0</td>\n",
       "      <td>0</td>\n",
       "      <td>0</td>\n",
       "      <td>0</td>\n",
       "      <td>0</td>\n",
       "      <td>1</td>\n",
       "      <td>0</td>\n",
       "      <td>...</td>\n",
       "      <td>100</td>\n",
       "      <td>141</td>\n",
       "      <td>0.72</td>\n",
       "      <td>0.06</td>\n",
       "      <td>0.01</td>\n",
       "      <td>0.01</td>\n",
       "      <td>0.01</td>\n",
       "      <td>0.0</td>\n",
       "      <td>0.00</td>\n",
       "      <td>0.00</td>\n",
       "    </tr>\n",
       "    <tr>\n",
       "      <th>22540</th>\n",
       "      <td>0</td>\n",
       "      <td>317</td>\n",
       "      <td>938</td>\n",
       "      <td>0</td>\n",
       "      <td>0</td>\n",
       "      <td>0</td>\n",
       "      <td>0</td>\n",
       "      <td>0</td>\n",
       "      <td>1</td>\n",
       "      <td>0</td>\n",
       "      <td>...</td>\n",
       "      <td>197</td>\n",
       "      <td>255</td>\n",
       "      <td>1.00</td>\n",
       "      <td>0.00</td>\n",
       "      <td>0.01</td>\n",
       "      <td>0.01</td>\n",
       "      <td>0.01</td>\n",
       "      <td>0.0</td>\n",
       "      <td>0.00</td>\n",
       "      <td>0.00</td>\n",
       "    </tr>\n",
       "    <tr>\n",
       "      <th>22541</th>\n",
       "      <td>0</td>\n",
       "      <td>54540</td>\n",
       "      <td>8314</td>\n",
       "      <td>0</td>\n",
       "      <td>0</td>\n",
       "      <td>0</td>\n",
       "      <td>2</td>\n",
       "      <td>0</td>\n",
       "      <td>1</td>\n",
       "      <td>1</td>\n",
       "      <td>...</td>\n",
       "      <td>255</td>\n",
       "      <td>255</td>\n",
       "      <td>1.00</td>\n",
       "      <td>0.00</td>\n",
       "      <td>0.00</td>\n",
       "      <td>0.00</td>\n",
       "      <td>0.00</td>\n",
       "      <td>0.0</td>\n",
       "      <td>0.07</td>\n",
       "      <td>0.07</td>\n",
       "    </tr>\n",
       "    <tr>\n",
       "      <th>22542</th>\n",
       "      <td>0</td>\n",
       "      <td>42</td>\n",
       "      <td>42</td>\n",
       "      <td>0</td>\n",
       "      <td>0</td>\n",
       "      <td>0</td>\n",
       "      <td>0</td>\n",
       "      <td>0</td>\n",
       "      <td>0</td>\n",
       "      <td>0</td>\n",
       "      <td>...</td>\n",
       "      <td>255</td>\n",
       "      <td>252</td>\n",
       "      <td>0.99</td>\n",
       "      <td>0.01</td>\n",
       "      <td>0.00</td>\n",
       "      <td>0.00</td>\n",
       "      <td>0.00</td>\n",
       "      <td>0.0</td>\n",
       "      <td>0.00</td>\n",
       "      <td>0.00</td>\n",
       "    </tr>\n",
       "    <tr>\n",
       "      <th>22543</th>\n",
       "      <td>0</td>\n",
       "      <td>0</td>\n",
       "      <td>0</td>\n",
       "      <td>0</td>\n",
       "      <td>0</td>\n",
       "      <td>0</td>\n",
       "      <td>0</td>\n",
       "      <td>0</td>\n",
       "      <td>0</td>\n",
       "      <td>0</td>\n",
       "      <td>...</td>\n",
       "      <td>255</td>\n",
       "      <td>21</td>\n",
       "      <td>0.08</td>\n",
       "      <td>0.03</td>\n",
       "      <td>0.00</td>\n",
       "      <td>0.00</td>\n",
       "      <td>0.00</td>\n",
       "      <td>0.0</td>\n",
       "      <td>0.44</td>\n",
       "      <td>1.00</td>\n",
       "    </tr>\n",
       "  </tbody>\n",
       "</table>\n",
       "<p>22544 rows × 37 columns</p>\n",
       "</div>"
      ],
      "text/plain": [
       "       duration  src_bytes  dst_bytes  land  wrong_fragment  urgent  hot  \\\n",
       "0             0          0          0     0               0       0    0   \n",
       "1             0          0          0     0               0       0    0   \n",
       "2             2      12983          0     0               0       0    0   \n",
       "3             0         20          0     0               0       0    0   \n",
       "4             1          0         15     0               0       0    0   \n",
       "...         ...        ...        ...   ...             ...     ...  ...   \n",
       "22539         0        794        333     0               0       0    0   \n",
       "22540         0        317        938     0               0       0    0   \n",
       "22541         0      54540       8314     0               0       0    2   \n",
       "22542         0         42         42     0               0       0    0   \n",
       "22543         0          0          0     0               0       0    0   \n",
       "\n",
       "       num_failed_logins  logged_in  num_compromised  ...  dst_host_count  \\\n",
       "0                      0          0                0  ...             255   \n",
       "1                      0          0                0  ...             255   \n",
       "2                      0          0                0  ...             134   \n",
       "3                      0          0                0  ...               3   \n",
       "4                      0          0                0  ...              29   \n",
       "...                  ...        ...              ...  ...             ...   \n",
       "22539                  0          1                0  ...             100   \n",
       "22540                  0          1                0  ...             197   \n",
       "22541                  0          1                1  ...             255   \n",
       "22542                  0          0                0  ...             255   \n",
       "22543                  0          0                0  ...             255   \n",
       "\n",
       "       dst_host_srv_count  dst_host_same_srv_rate  dst_host_diff_srv_rate  \\\n",
       "0                      10                    0.04                    0.06   \n",
       "1                       1                    0.00                    0.06   \n",
       "2                      86                    0.61                    0.04   \n",
       "3                      57                    1.00                    0.00   \n",
       "4                      86                    0.31                    0.17   \n",
       "...                   ...                     ...                     ...   \n",
       "22539                 141                    0.72                    0.06   \n",
       "22540                 255                    1.00                    0.00   \n",
       "22541                 255                    1.00                    0.00   \n",
       "22542                 252                    0.99                    0.01   \n",
       "22543                  21                    0.08                    0.03   \n",
       "\n",
       "       dst_host_same_src_port_rate  dst_host_srv_diff_host_rate  \\\n",
       "0                             0.00                         0.00   \n",
       "1                             0.00                         0.00   \n",
       "2                             0.61                         0.02   \n",
       "3                             1.00                         0.28   \n",
       "4                             0.03                         0.02   \n",
       "...                            ...                          ...   \n",
       "22539                         0.01                         0.01   \n",
       "22540                         0.01                         0.01   \n",
       "22541                         0.00                         0.00   \n",
       "22542                         0.00                         0.00   \n",
       "22543                         0.00                         0.00   \n",
       "\n",
       "       dst_host_serror_rate  dst_host_srv_serror_rate  dst_host_rerror_rate  \\\n",
       "0                      0.00                       0.0                  1.00   \n",
       "1                      0.00                       0.0                  1.00   \n",
       "2                      0.00                       0.0                  0.00   \n",
       "3                      0.00                       0.0                  0.00   \n",
       "4                      0.00                       0.0                  0.83   \n",
       "...                     ...                       ...                   ...   \n",
       "22539                  0.01                       0.0                  0.00   \n",
       "22540                  0.01                       0.0                  0.00   \n",
       "22541                  0.00                       0.0                  0.07   \n",
       "22542                  0.00                       0.0                  0.00   \n",
       "22543                  0.00                       0.0                  0.44   \n",
       "\n",
       "       dst_host_srv_rerror_rate  \n",
       "0                          1.00  \n",
       "1                          1.00  \n",
       "2                          0.00  \n",
       "3                          0.00  \n",
       "4                          0.71  \n",
       "...                         ...  \n",
       "22539                      0.00  \n",
       "22540                      0.00  \n",
       "22541                      0.07  \n",
       "22542                      0.00  \n",
       "22543                      1.00  \n",
       "\n",
       "[22544 rows x 37 columns]"
      ]
     },
     "execution_count": 106,
     "metadata": {},
     "output_type": "execute_result"
    }
   ],
   "source": [
    "kdd_test_x.columns\n",
    "ss_test_x"
   ]
  },
  {
   "cell_type": "code",
   "execution_count": 107,
   "id": "fd2bf4b3",
   "metadata": {},
   "outputs": [],
   "source": [
    "std_fit_test = std.fit(ss_test_x)\n",
    "test_ss = std_fit.transform(ss_test_x)"
   ]
  },
  {
   "cell_type": "code",
   "execution_count": 108,
   "id": "48f174ff",
   "metadata": {},
   "outputs": [],
   "source": [
    "kdd_test_x = pd.DataFrame(ss_test_x)\n",
    "columns = kdd_test_x.columns"
   ]
  },
  {
   "cell_type": "code",
   "execution_count": 109,
   "id": "0305793c",
   "metadata": {},
   "outputs": [],
   "source": [
    "kdd_test_x_ss = pd.DataFrame(test_ss)"
   ]
  },
  {
   "cell_type": "code",
   "execution_count": 110,
   "id": "1ce0523a",
   "metadata": {},
   "outputs": [],
   "source": [
    "kdd_test_x_ss.columns = columns"
   ]
  },
  {
   "cell_type": "code",
   "execution_count": 111,
   "id": "9df69d3f",
   "metadata": {},
   "outputs": [
    {
     "data": {
      "text/html": [
       "<div>\n",
       "<style scoped>\n",
       "    .dataframe tbody tr th:only-of-type {\n",
       "        vertical-align: middle;\n",
       "    }\n",
       "\n",
       "    .dataframe tbody tr th {\n",
       "        vertical-align: top;\n",
       "    }\n",
       "\n",
       "    .dataframe thead th {\n",
       "        text-align: right;\n",
       "    }\n",
       "</style>\n",
       "<table border=\"1\" class=\"dataframe\">\n",
       "  <thead>\n",
       "    <tr style=\"text-align: right;\">\n",
       "      <th></th>\n",
       "      <th>duration</th>\n",
       "      <th>src_bytes</th>\n",
       "      <th>dst_bytes</th>\n",
       "      <th>land</th>\n",
       "      <th>wrong_fragment</th>\n",
       "      <th>urgent</th>\n",
       "      <th>hot</th>\n",
       "      <th>num_failed_logins</th>\n",
       "      <th>logged_in</th>\n",
       "      <th>num_compromised</th>\n",
       "      <th>...</th>\n",
       "      <th>dst_host_count</th>\n",
       "      <th>dst_host_srv_count</th>\n",
       "      <th>dst_host_same_srv_rate</th>\n",
       "      <th>dst_host_diff_srv_rate</th>\n",
       "      <th>dst_host_same_src_port_rate</th>\n",
       "      <th>dst_host_srv_diff_host_rate</th>\n",
       "      <th>dst_host_serror_rate</th>\n",
       "      <th>dst_host_srv_serror_rate</th>\n",
       "      <th>dst_host_rerror_rate</th>\n",
       "      <th>dst_host_srv_rerror_rate</th>\n",
       "    </tr>\n",
       "  </thead>\n",
       "  <tbody>\n",
       "    <tr>\n",
       "      <th>0</th>\n",
       "      <td>-0.155534</td>\n",
       "      <td>-0.021988</td>\n",
       "      <td>-0.096896</td>\n",
       "      <td>-0.017624</td>\n",
       "      <td>-0.059104</td>\n",
       "      <td>-0.019459</td>\n",
       "      <td>-0.113521</td>\n",
       "      <td>-0.143999</td>\n",
       "      <td>-0.890373</td>\n",
       "      <td>-0.016494</td>\n",
       "      <td>...</td>\n",
       "      <td>0.650093</td>\n",
       "      <td>-1.169697</td>\n",
       "      <td>-1.305370</td>\n",
       "      <td>-0.138370</td>\n",
       "      <td>-0.431856</td>\n",
       "      <td>-0.229980</td>\n",
       "      <td>-0.358118</td>\n",
       "      <td>-0.35275</td>\n",
       "      <td>1.979791</td>\n",
       "      <td>1.929116</td>\n",
       "    </tr>\n",
       "    <tr>\n",
       "      <th>1</th>\n",
       "      <td>-0.155534</td>\n",
       "      <td>-0.021988</td>\n",
       "      <td>-0.096896</td>\n",
       "      <td>-0.017624</td>\n",
       "      <td>-0.059104</td>\n",
       "      <td>-0.019459</td>\n",
       "      <td>-0.113521</td>\n",
       "      <td>-0.143999</td>\n",
       "      <td>-0.890373</td>\n",
       "      <td>-0.016494</td>\n",
       "      <td>...</td>\n",
       "      <td>0.650093</td>\n",
       "      <td>-1.250212</td>\n",
       "      <td>-1.397181</td>\n",
       "      <td>-0.138370</td>\n",
       "      <td>-0.431856</td>\n",
       "      <td>-0.229980</td>\n",
       "      <td>-0.358118</td>\n",
       "      <td>-0.35275</td>\n",
       "      <td>1.979791</td>\n",
       "      <td>1.929116</td>\n",
       "    </tr>\n",
       "    <tr>\n",
       "      <th>2</th>\n",
       "      <td>-0.154113</td>\n",
       "      <td>0.005473</td>\n",
       "      <td>-0.096896</td>\n",
       "      <td>-0.017624</td>\n",
       "      <td>-0.059104</td>\n",
       "      <td>-0.019459</td>\n",
       "      <td>-0.113521</td>\n",
       "      <td>-0.143999</td>\n",
       "      <td>-0.890373</td>\n",
       "      <td>-0.016494</td>\n",
       "      <td>...</td>\n",
       "      <td>-0.636681</td>\n",
       "      <td>-0.489800</td>\n",
       "      <td>0.002934</td>\n",
       "      <td>-0.228985</td>\n",
       "      <td>1.559906</td>\n",
       "      <td>0.004234</td>\n",
       "      <td>-0.358118</td>\n",
       "      <td>-0.35275</td>\n",
       "      <td>-0.602719</td>\n",
       "      <td>-0.565483</td>\n",
       "    </tr>\n",
       "    <tr>\n",
       "      <th>3</th>\n",
       "      <td>-0.155534</td>\n",
       "      <td>-0.021946</td>\n",
       "      <td>-0.096896</td>\n",
       "      <td>-0.017624</td>\n",
       "      <td>-0.059104</td>\n",
       "      <td>-0.019459</td>\n",
       "      <td>-0.113521</td>\n",
       "      <td>-0.143999</td>\n",
       "      <td>-0.890373</td>\n",
       "      <td>-0.016494</td>\n",
       "      <td>...</td>\n",
       "      <td>-2.029801</td>\n",
       "      <td>-0.749234</td>\n",
       "      <td>0.898090</td>\n",
       "      <td>-0.410217</td>\n",
       "      <td>2.833328</td>\n",
       "      <td>3.049016</td>\n",
       "      <td>-0.358118</td>\n",
       "      <td>-0.35275</td>\n",
       "      <td>-0.602719</td>\n",
       "      <td>-0.565483</td>\n",
       "    </tr>\n",
       "    <tr>\n",
       "      <th>4</th>\n",
       "      <td>-0.154823</td>\n",
       "      <td>-0.021988</td>\n",
       "      <td>-0.096189</td>\n",
       "      <td>-0.017624</td>\n",
       "      <td>-0.059104</td>\n",
       "      <td>-0.019459</td>\n",
       "      <td>-0.113521</td>\n",
       "      <td>-0.143999</td>\n",
       "      <td>-0.890373</td>\n",
       "      <td>-0.016494</td>\n",
       "      <td>...</td>\n",
       "      <td>-1.753304</td>\n",
       "      <td>-0.489800</td>\n",
       "      <td>-0.685647</td>\n",
       "      <td>0.360018</td>\n",
       "      <td>-0.333901</td>\n",
       "      <td>0.004234</td>\n",
       "      <td>-0.358118</td>\n",
       "      <td>-0.35275</td>\n",
       "      <td>1.540764</td>\n",
       "      <td>1.205682</td>\n",
       "    </tr>\n",
       "    <tr>\n",
       "      <th>...</th>\n",
       "      <td>...</td>\n",
       "      <td>...</td>\n",
       "      <td>...</td>\n",
       "      <td>...</td>\n",
       "      <td>...</td>\n",
       "      <td>...</td>\n",
       "      <td>...</td>\n",
       "      <td>...</td>\n",
       "      <td>...</td>\n",
       "      <td>...</td>\n",
       "      <td>...</td>\n",
       "      <td>...</td>\n",
       "      <td>...</td>\n",
       "      <td>...</td>\n",
       "      <td>...</td>\n",
       "      <td>...</td>\n",
       "      <td>...</td>\n",
       "      <td>...</td>\n",
       "      <td>...</td>\n",
       "      <td>...</td>\n",
       "      <td>...</td>\n",
       "    </tr>\n",
       "    <tr>\n",
       "      <th>22539</th>\n",
       "      <td>-0.155534</td>\n",
       "      <td>-0.020309</td>\n",
       "      <td>-0.081202</td>\n",
       "      <td>-0.017624</td>\n",
       "      <td>-0.059104</td>\n",
       "      <td>-0.019459</td>\n",
       "      <td>-0.113521</td>\n",
       "      <td>-0.143999</td>\n",
       "      <td>1.123125</td>\n",
       "      <td>-0.016494</td>\n",
       "      <td>...</td>\n",
       "      <td>-0.998254</td>\n",
       "      <td>0.002232</td>\n",
       "      <td>0.255414</td>\n",
       "      <td>-0.138370</td>\n",
       "      <td>-0.399204</td>\n",
       "      <td>-0.112873</td>\n",
       "      <td>-0.321505</td>\n",
       "      <td>-0.35275</td>\n",
       "      <td>-0.602719</td>\n",
       "      <td>-0.565483</td>\n",
       "    </tr>\n",
       "    <tr>\n",
       "      <th>22540</th>\n",
       "      <td>-0.155534</td>\n",
       "      <td>-0.021318</td>\n",
       "      <td>-0.052690</td>\n",
       "      <td>-0.017624</td>\n",
       "      <td>-0.059104</td>\n",
       "      <td>-0.019459</td>\n",
       "      <td>-0.113521</td>\n",
       "      <td>-0.143999</td>\n",
       "      <td>1.123125</td>\n",
       "      <td>-0.016494</td>\n",
       "      <td>...</td>\n",
       "      <td>0.033292</td>\n",
       "      <td>1.022079</td>\n",
       "      <td>0.898090</td>\n",
       "      <td>-0.410217</td>\n",
       "      <td>-0.399204</td>\n",
       "      <td>-0.112873</td>\n",
       "      <td>-0.321505</td>\n",
       "      <td>-0.35275</td>\n",
       "      <td>-0.602719</td>\n",
       "      <td>-0.565483</td>\n",
       "    </tr>\n",
       "    <tr>\n",
       "      <th>22541</th>\n",
       "      <td>-0.155534</td>\n",
       "      <td>0.093373</td>\n",
       "      <td>0.294926</td>\n",
       "      <td>-0.017624</td>\n",
       "      <td>-0.059104</td>\n",
       "      <td>-0.019459</td>\n",
       "      <td>2.040705</td>\n",
       "      <td>-0.143999</td>\n",
       "      <td>1.123125</td>\n",
       "      <td>0.121069</td>\n",
       "      <td>...</td>\n",
       "      <td>0.650093</td>\n",
       "      <td>1.022079</td>\n",
       "      <td>0.898090</td>\n",
       "      <td>-0.410217</td>\n",
       "      <td>-0.431856</td>\n",
       "      <td>-0.229980</td>\n",
       "      <td>-0.358118</td>\n",
       "      <td>-0.35275</td>\n",
       "      <td>-0.421943</td>\n",
       "      <td>-0.390861</td>\n",
       "    </tr>\n",
       "    <tr>\n",
       "      <th>22542</th>\n",
       "      <td>-0.155534</td>\n",
       "      <td>-0.021899</td>\n",
       "      <td>-0.094917</td>\n",
       "      <td>-0.017624</td>\n",
       "      <td>-0.059104</td>\n",
       "      <td>-0.019459</td>\n",
       "      <td>-0.113521</td>\n",
       "      <td>-0.143999</td>\n",
       "      <td>-0.890373</td>\n",
       "      <td>-0.016494</td>\n",
       "      <td>...</td>\n",
       "      <td>0.650093</td>\n",
       "      <td>0.995240</td>\n",
       "      <td>0.875137</td>\n",
       "      <td>-0.364909</td>\n",
       "      <td>-0.431856</td>\n",
       "      <td>-0.229980</td>\n",
       "      <td>-0.358118</td>\n",
       "      <td>-0.35275</td>\n",
       "      <td>-0.602719</td>\n",
       "      <td>-0.565483</td>\n",
       "    </tr>\n",
       "    <tr>\n",
       "      <th>22543</th>\n",
       "      <td>-0.155534</td>\n",
       "      <td>-0.021988</td>\n",
       "      <td>-0.096896</td>\n",
       "      <td>-0.017624</td>\n",
       "      <td>-0.059104</td>\n",
       "      <td>-0.019459</td>\n",
       "      <td>-0.113521</td>\n",
       "      <td>-0.143999</td>\n",
       "      <td>-0.890373</td>\n",
       "      <td>-0.016494</td>\n",
       "      <td>...</td>\n",
       "      <td>0.650093</td>\n",
       "      <td>-1.071291</td>\n",
       "      <td>-1.213559</td>\n",
       "      <td>-0.274293</td>\n",
       "      <td>-0.431856</td>\n",
       "      <td>-0.229980</td>\n",
       "      <td>-0.358118</td>\n",
       "      <td>-0.35275</td>\n",
       "      <td>0.533585</td>\n",
       "      <td>1.929116</td>\n",
       "    </tr>\n",
       "  </tbody>\n",
       "</table>\n",
       "<p>22544 rows × 37 columns</p>\n",
       "</div>"
      ],
      "text/plain": [
       "       duration  src_bytes  dst_bytes      land  wrong_fragment    urgent  \\\n",
       "0     -0.155534  -0.021988  -0.096896 -0.017624       -0.059104 -0.019459   \n",
       "1     -0.155534  -0.021988  -0.096896 -0.017624       -0.059104 -0.019459   \n",
       "2     -0.154113   0.005473  -0.096896 -0.017624       -0.059104 -0.019459   \n",
       "3     -0.155534  -0.021946  -0.096896 -0.017624       -0.059104 -0.019459   \n",
       "4     -0.154823  -0.021988  -0.096189 -0.017624       -0.059104 -0.019459   \n",
       "...         ...        ...        ...       ...             ...       ...   \n",
       "22539 -0.155534  -0.020309  -0.081202 -0.017624       -0.059104 -0.019459   \n",
       "22540 -0.155534  -0.021318  -0.052690 -0.017624       -0.059104 -0.019459   \n",
       "22541 -0.155534   0.093373   0.294926 -0.017624       -0.059104 -0.019459   \n",
       "22542 -0.155534  -0.021899  -0.094917 -0.017624       -0.059104 -0.019459   \n",
       "22543 -0.155534  -0.021988  -0.096896 -0.017624       -0.059104 -0.019459   \n",
       "\n",
       "            hot  num_failed_logins  logged_in  num_compromised  ...  \\\n",
       "0     -0.113521          -0.143999  -0.890373        -0.016494  ...   \n",
       "1     -0.113521          -0.143999  -0.890373        -0.016494  ...   \n",
       "2     -0.113521          -0.143999  -0.890373        -0.016494  ...   \n",
       "3     -0.113521          -0.143999  -0.890373        -0.016494  ...   \n",
       "4     -0.113521          -0.143999  -0.890373        -0.016494  ...   \n",
       "...         ...                ...        ...              ...  ...   \n",
       "22539 -0.113521          -0.143999   1.123125        -0.016494  ...   \n",
       "22540 -0.113521          -0.143999   1.123125        -0.016494  ...   \n",
       "22541  2.040705          -0.143999   1.123125         0.121069  ...   \n",
       "22542 -0.113521          -0.143999  -0.890373        -0.016494  ...   \n",
       "22543 -0.113521          -0.143999  -0.890373        -0.016494  ...   \n",
       "\n",
       "       dst_host_count  dst_host_srv_count  dst_host_same_srv_rate  \\\n",
       "0            0.650093           -1.169697               -1.305370   \n",
       "1            0.650093           -1.250212               -1.397181   \n",
       "2           -0.636681           -0.489800                0.002934   \n",
       "3           -2.029801           -0.749234                0.898090   \n",
       "4           -1.753304           -0.489800               -0.685647   \n",
       "...               ...                 ...                     ...   \n",
       "22539       -0.998254            0.002232                0.255414   \n",
       "22540        0.033292            1.022079                0.898090   \n",
       "22541        0.650093            1.022079                0.898090   \n",
       "22542        0.650093            0.995240                0.875137   \n",
       "22543        0.650093           -1.071291               -1.213559   \n",
       "\n",
       "       dst_host_diff_srv_rate  dst_host_same_src_port_rate  \\\n",
       "0                   -0.138370                    -0.431856   \n",
       "1                   -0.138370                    -0.431856   \n",
       "2                   -0.228985                     1.559906   \n",
       "3                   -0.410217                     2.833328   \n",
       "4                    0.360018                    -0.333901   \n",
       "...                       ...                          ...   \n",
       "22539               -0.138370                    -0.399204   \n",
       "22540               -0.410217                    -0.399204   \n",
       "22541               -0.410217                    -0.431856   \n",
       "22542               -0.364909                    -0.431856   \n",
       "22543               -0.274293                    -0.431856   \n",
       "\n",
       "       dst_host_srv_diff_host_rate  dst_host_serror_rate  \\\n",
       "0                        -0.229980             -0.358118   \n",
       "1                        -0.229980             -0.358118   \n",
       "2                         0.004234             -0.358118   \n",
       "3                         3.049016             -0.358118   \n",
       "4                         0.004234             -0.358118   \n",
       "...                            ...                   ...   \n",
       "22539                    -0.112873             -0.321505   \n",
       "22540                    -0.112873             -0.321505   \n",
       "22541                    -0.229980             -0.358118   \n",
       "22542                    -0.229980             -0.358118   \n",
       "22543                    -0.229980             -0.358118   \n",
       "\n",
       "       dst_host_srv_serror_rate  dst_host_rerror_rate  \\\n",
       "0                      -0.35275              1.979791   \n",
       "1                      -0.35275              1.979791   \n",
       "2                      -0.35275             -0.602719   \n",
       "3                      -0.35275             -0.602719   \n",
       "4                      -0.35275              1.540764   \n",
       "...                         ...                   ...   \n",
       "22539                  -0.35275             -0.602719   \n",
       "22540                  -0.35275             -0.602719   \n",
       "22541                  -0.35275             -0.421943   \n",
       "22542                  -0.35275             -0.602719   \n",
       "22543                  -0.35275              0.533585   \n",
       "\n",
       "       dst_host_srv_rerror_rate  \n",
       "0                      1.929116  \n",
       "1                      1.929116  \n",
       "2                     -0.565483  \n",
       "3                     -0.565483  \n",
       "4                      1.205682  \n",
       "...                         ...  \n",
       "22539                 -0.565483  \n",
       "22540                 -0.565483  \n",
       "22541                 -0.390861  \n",
       "22542                 -0.565483  \n",
       "22543                  1.929116  \n",
       "\n",
       "[22544 rows x 37 columns]"
      ]
     },
     "execution_count": 111,
     "metadata": {},
     "output_type": "execute_result"
    }
   ],
   "source": [
    "kdd_test_x_ss"
   ]
  },
  {
   "cell_type": "code",
   "execution_count": 112,
   "id": "076725ca",
   "metadata": {},
   "outputs": [],
   "source": [
    "pdCat = pd.DataFrame(cate_cols)"
   ]
  },
  {
   "cell_type": "code",
   "execution_count": 113,
   "id": "a175e359",
   "metadata": {},
   "outputs": [],
   "source": [
    "cate_pd = kdd_test[['flag','service','protocol_type']]"
   ]
  },
  {
   "cell_type": "code",
   "execution_count": 114,
   "id": "261ebe69",
   "metadata": {},
   "outputs": [
    {
     "data": {
      "text/plain": [
       "Index(['flag', 'service', 'protocol_type'], dtype='object')"
      ]
     },
     "execution_count": 114,
     "metadata": {},
     "output_type": "execute_result"
    }
   ],
   "source": [
    "cate_pd.columns"
   ]
  },
  {
   "cell_type": "code",
   "execution_count": 115,
   "id": "caa50292",
   "metadata": {},
   "outputs": [],
   "source": [
    "kdd_test_x_t = pd.concat([kdd_test_x_ss,cate_pd],axis = 1)"
   ]
  },
  {
   "cell_type": "code",
   "execution_count": 116,
   "id": "febcd722",
   "metadata": {},
   "outputs": [
    {
     "data": {
      "text/html": [
       "<div>\n",
       "<style scoped>\n",
       "    .dataframe tbody tr th:only-of-type {\n",
       "        vertical-align: middle;\n",
       "    }\n",
       "\n",
       "    .dataframe tbody tr th {\n",
       "        vertical-align: top;\n",
       "    }\n",
       "\n",
       "    .dataframe thead th {\n",
       "        text-align: right;\n",
       "    }\n",
       "</style>\n",
       "<table border=\"1\" class=\"dataframe\">\n",
       "  <thead>\n",
       "    <tr style=\"text-align: right;\">\n",
       "      <th></th>\n",
       "      <th>duration</th>\n",
       "      <th>src_bytes</th>\n",
       "      <th>dst_bytes</th>\n",
       "      <th>land</th>\n",
       "      <th>wrong_fragment</th>\n",
       "      <th>urgent</th>\n",
       "      <th>hot</th>\n",
       "      <th>num_failed_logins</th>\n",
       "      <th>logged_in</th>\n",
       "      <th>num_compromised</th>\n",
       "      <th>...</th>\n",
       "      <th>dst_host_diff_srv_rate</th>\n",
       "      <th>dst_host_same_src_port_rate</th>\n",
       "      <th>dst_host_srv_diff_host_rate</th>\n",
       "      <th>dst_host_serror_rate</th>\n",
       "      <th>dst_host_srv_serror_rate</th>\n",
       "      <th>dst_host_rerror_rate</th>\n",
       "      <th>dst_host_srv_rerror_rate</th>\n",
       "      <th>flag</th>\n",
       "      <th>service</th>\n",
       "      <th>protocol_type</th>\n",
       "    </tr>\n",
       "  </thead>\n",
       "  <tbody>\n",
       "    <tr>\n",
       "      <th>0</th>\n",
       "      <td>-0.155534</td>\n",
       "      <td>-0.021988</td>\n",
       "      <td>-0.096896</td>\n",
       "      <td>-0.017624</td>\n",
       "      <td>-0.059104</td>\n",
       "      <td>-0.019459</td>\n",
       "      <td>-0.113521</td>\n",
       "      <td>-0.143999</td>\n",
       "      <td>-0.890373</td>\n",
       "      <td>-0.016494</td>\n",
       "      <td>...</td>\n",
       "      <td>-0.138370</td>\n",
       "      <td>-0.431856</td>\n",
       "      <td>-0.229980</td>\n",
       "      <td>-0.358118</td>\n",
       "      <td>-0.35275</td>\n",
       "      <td>1.979791</td>\n",
       "      <td>1.929116</td>\n",
       "      <td>REJ</td>\n",
       "      <td>private</td>\n",
       "      <td>tcp</td>\n",
       "    </tr>\n",
       "    <tr>\n",
       "      <th>1</th>\n",
       "      <td>-0.155534</td>\n",
       "      <td>-0.021988</td>\n",
       "      <td>-0.096896</td>\n",
       "      <td>-0.017624</td>\n",
       "      <td>-0.059104</td>\n",
       "      <td>-0.019459</td>\n",
       "      <td>-0.113521</td>\n",
       "      <td>-0.143999</td>\n",
       "      <td>-0.890373</td>\n",
       "      <td>-0.016494</td>\n",
       "      <td>...</td>\n",
       "      <td>-0.138370</td>\n",
       "      <td>-0.431856</td>\n",
       "      <td>-0.229980</td>\n",
       "      <td>-0.358118</td>\n",
       "      <td>-0.35275</td>\n",
       "      <td>1.979791</td>\n",
       "      <td>1.929116</td>\n",
       "      <td>REJ</td>\n",
       "      <td>private</td>\n",
       "      <td>tcp</td>\n",
       "    </tr>\n",
       "    <tr>\n",
       "      <th>2</th>\n",
       "      <td>-0.154113</td>\n",
       "      <td>0.005473</td>\n",
       "      <td>-0.096896</td>\n",
       "      <td>-0.017624</td>\n",
       "      <td>-0.059104</td>\n",
       "      <td>-0.019459</td>\n",
       "      <td>-0.113521</td>\n",
       "      <td>-0.143999</td>\n",
       "      <td>-0.890373</td>\n",
       "      <td>-0.016494</td>\n",
       "      <td>...</td>\n",
       "      <td>-0.228985</td>\n",
       "      <td>1.559906</td>\n",
       "      <td>0.004234</td>\n",
       "      <td>-0.358118</td>\n",
       "      <td>-0.35275</td>\n",
       "      <td>-0.602719</td>\n",
       "      <td>-0.565483</td>\n",
       "      <td>SF</td>\n",
       "      <td>ftp_data</td>\n",
       "      <td>tcp</td>\n",
       "    </tr>\n",
       "    <tr>\n",
       "      <th>3</th>\n",
       "      <td>-0.155534</td>\n",
       "      <td>-0.021946</td>\n",
       "      <td>-0.096896</td>\n",
       "      <td>-0.017624</td>\n",
       "      <td>-0.059104</td>\n",
       "      <td>-0.019459</td>\n",
       "      <td>-0.113521</td>\n",
       "      <td>-0.143999</td>\n",
       "      <td>-0.890373</td>\n",
       "      <td>-0.016494</td>\n",
       "      <td>...</td>\n",
       "      <td>-0.410217</td>\n",
       "      <td>2.833328</td>\n",
       "      <td>3.049016</td>\n",
       "      <td>-0.358118</td>\n",
       "      <td>-0.35275</td>\n",
       "      <td>-0.602719</td>\n",
       "      <td>-0.565483</td>\n",
       "      <td>SF</td>\n",
       "      <td>eco_i</td>\n",
       "      <td>icmp</td>\n",
       "    </tr>\n",
       "    <tr>\n",
       "      <th>4</th>\n",
       "      <td>-0.154823</td>\n",
       "      <td>-0.021988</td>\n",
       "      <td>-0.096189</td>\n",
       "      <td>-0.017624</td>\n",
       "      <td>-0.059104</td>\n",
       "      <td>-0.019459</td>\n",
       "      <td>-0.113521</td>\n",
       "      <td>-0.143999</td>\n",
       "      <td>-0.890373</td>\n",
       "      <td>-0.016494</td>\n",
       "      <td>...</td>\n",
       "      <td>0.360018</td>\n",
       "      <td>-0.333901</td>\n",
       "      <td>0.004234</td>\n",
       "      <td>-0.358118</td>\n",
       "      <td>-0.35275</td>\n",
       "      <td>1.540764</td>\n",
       "      <td>1.205682</td>\n",
       "      <td>RSTO</td>\n",
       "      <td>telnet</td>\n",
       "      <td>tcp</td>\n",
       "    </tr>\n",
       "    <tr>\n",
       "      <th>...</th>\n",
       "      <td>...</td>\n",
       "      <td>...</td>\n",
       "      <td>...</td>\n",
       "      <td>...</td>\n",
       "      <td>...</td>\n",
       "      <td>...</td>\n",
       "      <td>...</td>\n",
       "      <td>...</td>\n",
       "      <td>...</td>\n",
       "      <td>...</td>\n",
       "      <td>...</td>\n",
       "      <td>...</td>\n",
       "      <td>...</td>\n",
       "      <td>...</td>\n",
       "      <td>...</td>\n",
       "      <td>...</td>\n",
       "      <td>...</td>\n",
       "      <td>...</td>\n",
       "      <td>...</td>\n",
       "      <td>...</td>\n",
       "      <td>...</td>\n",
       "    </tr>\n",
       "    <tr>\n",
       "      <th>22539</th>\n",
       "      <td>-0.155534</td>\n",
       "      <td>-0.020309</td>\n",
       "      <td>-0.081202</td>\n",
       "      <td>-0.017624</td>\n",
       "      <td>-0.059104</td>\n",
       "      <td>-0.019459</td>\n",
       "      <td>-0.113521</td>\n",
       "      <td>-0.143999</td>\n",
       "      <td>1.123125</td>\n",
       "      <td>-0.016494</td>\n",
       "      <td>...</td>\n",
       "      <td>-0.138370</td>\n",
       "      <td>-0.399204</td>\n",
       "      <td>-0.112873</td>\n",
       "      <td>-0.321505</td>\n",
       "      <td>-0.35275</td>\n",
       "      <td>-0.602719</td>\n",
       "      <td>-0.565483</td>\n",
       "      <td>SF</td>\n",
       "      <td>smtp</td>\n",
       "      <td>tcp</td>\n",
       "    </tr>\n",
       "    <tr>\n",
       "      <th>22540</th>\n",
       "      <td>-0.155534</td>\n",
       "      <td>-0.021318</td>\n",
       "      <td>-0.052690</td>\n",
       "      <td>-0.017624</td>\n",
       "      <td>-0.059104</td>\n",
       "      <td>-0.019459</td>\n",
       "      <td>-0.113521</td>\n",
       "      <td>-0.143999</td>\n",
       "      <td>1.123125</td>\n",
       "      <td>-0.016494</td>\n",
       "      <td>...</td>\n",
       "      <td>-0.410217</td>\n",
       "      <td>-0.399204</td>\n",
       "      <td>-0.112873</td>\n",
       "      <td>-0.321505</td>\n",
       "      <td>-0.35275</td>\n",
       "      <td>-0.602719</td>\n",
       "      <td>-0.565483</td>\n",
       "      <td>SF</td>\n",
       "      <td>http</td>\n",
       "      <td>tcp</td>\n",
       "    </tr>\n",
       "    <tr>\n",
       "      <th>22541</th>\n",
       "      <td>-0.155534</td>\n",
       "      <td>0.093373</td>\n",
       "      <td>0.294926</td>\n",
       "      <td>-0.017624</td>\n",
       "      <td>-0.059104</td>\n",
       "      <td>-0.019459</td>\n",
       "      <td>2.040705</td>\n",
       "      <td>-0.143999</td>\n",
       "      <td>1.123125</td>\n",
       "      <td>0.121069</td>\n",
       "      <td>...</td>\n",
       "      <td>-0.410217</td>\n",
       "      <td>-0.431856</td>\n",
       "      <td>-0.229980</td>\n",
       "      <td>-0.358118</td>\n",
       "      <td>-0.35275</td>\n",
       "      <td>-0.421943</td>\n",
       "      <td>-0.390861</td>\n",
       "      <td>SF</td>\n",
       "      <td>http</td>\n",
       "      <td>tcp</td>\n",
       "    </tr>\n",
       "    <tr>\n",
       "      <th>22542</th>\n",
       "      <td>-0.155534</td>\n",
       "      <td>-0.021899</td>\n",
       "      <td>-0.094917</td>\n",
       "      <td>-0.017624</td>\n",
       "      <td>-0.059104</td>\n",
       "      <td>-0.019459</td>\n",
       "      <td>-0.113521</td>\n",
       "      <td>-0.143999</td>\n",
       "      <td>-0.890373</td>\n",
       "      <td>-0.016494</td>\n",
       "      <td>...</td>\n",
       "      <td>-0.364909</td>\n",
       "      <td>-0.431856</td>\n",
       "      <td>-0.229980</td>\n",
       "      <td>-0.358118</td>\n",
       "      <td>-0.35275</td>\n",
       "      <td>-0.602719</td>\n",
       "      <td>-0.565483</td>\n",
       "      <td>SF</td>\n",
       "      <td>domain_u</td>\n",
       "      <td>udp</td>\n",
       "    </tr>\n",
       "    <tr>\n",
       "      <th>22543</th>\n",
       "      <td>-0.155534</td>\n",
       "      <td>-0.021988</td>\n",
       "      <td>-0.096896</td>\n",
       "      <td>-0.017624</td>\n",
       "      <td>-0.059104</td>\n",
       "      <td>-0.019459</td>\n",
       "      <td>-0.113521</td>\n",
       "      <td>-0.143999</td>\n",
       "      <td>-0.890373</td>\n",
       "      <td>-0.016494</td>\n",
       "      <td>...</td>\n",
       "      <td>-0.274293</td>\n",
       "      <td>-0.431856</td>\n",
       "      <td>-0.229980</td>\n",
       "      <td>-0.358118</td>\n",
       "      <td>-0.35275</td>\n",
       "      <td>0.533585</td>\n",
       "      <td>1.929116</td>\n",
       "      <td>REJ</td>\n",
       "      <td>sunrpc</td>\n",
       "      <td>tcp</td>\n",
       "    </tr>\n",
       "  </tbody>\n",
       "</table>\n",
       "<p>22544 rows × 40 columns</p>\n",
       "</div>"
      ],
      "text/plain": [
       "       duration  src_bytes  dst_bytes      land  wrong_fragment    urgent  \\\n",
       "0     -0.155534  -0.021988  -0.096896 -0.017624       -0.059104 -0.019459   \n",
       "1     -0.155534  -0.021988  -0.096896 -0.017624       -0.059104 -0.019459   \n",
       "2     -0.154113   0.005473  -0.096896 -0.017624       -0.059104 -0.019459   \n",
       "3     -0.155534  -0.021946  -0.096896 -0.017624       -0.059104 -0.019459   \n",
       "4     -0.154823  -0.021988  -0.096189 -0.017624       -0.059104 -0.019459   \n",
       "...         ...        ...        ...       ...             ...       ...   \n",
       "22539 -0.155534  -0.020309  -0.081202 -0.017624       -0.059104 -0.019459   \n",
       "22540 -0.155534  -0.021318  -0.052690 -0.017624       -0.059104 -0.019459   \n",
       "22541 -0.155534   0.093373   0.294926 -0.017624       -0.059104 -0.019459   \n",
       "22542 -0.155534  -0.021899  -0.094917 -0.017624       -0.059104 -0.019459   \n",
       "22543 -0.155534  -0.021988  -0.096896 -0.017624       -0.059104 -0.019459   \n",
       "\n",
       "            hot  num_failed_logins  logged_in  num_compromised  ...  \\\n",
       "0     -0.113521          -0.143999  -0.890373        -0.016494  ...   \n",
       "1     -0.113521          -0.143999  -0.890373        -0.016494  ...   \n",
       "2     -0.113521          -0.143999  -0.890373        -0.016494  ...   \n",
       "3     -0.113521          -0.143999  -0.890373        -0.016494  ...   \n",
       "4     -0.113521          -0.143999  -0.890373        -0.016494  ...   \n",
       "...         ...                ...        ...              ...  ...   \n",
       "22539 -0.113521          -0.143999   1.123125        -0.016494  ...   \n",
       "22540 -0.113521          -0.143999   1.123125        -0.016494  ...   \n",
       "22541  2.040705          -0.143999   1.123125         0.121069  ...   \n",
       "22542 -0.113521          -0.143999  -0.890373        -0.016494  ...   \n",
       "22543 -0.113521          -0.143999  -0.890373        -0.016494  ...   \n",
       "\n",
       "       dst_host_diff_srv_rate  dst_host_same_src_port_rate  \\\n",
       "0                   -0.138370                    -0.431856   \n",
       "1                   -0.138370                    -0.431856   \n",
       "2                   -0.228985                     1.559906   \n",
       "3                   -0.410217                     2.833328   \n",
       "4                    0.360018                    -0.333901   \n",
       "...                       ...                          ...   \n",
       "22539               -0.138370                    -0.399204   \n",
       "22540               -0.410217                    -0.399204   \n",
       "22541               -0.410217                    -0.431856   \n",
       "22542               -0.364909                    -0.431856   \n",
       "22543               -0.274293                    -0.431856   \n",
       "\n",
       "       dst_host_srv_diff_host_rate  dst_host_serror_rate  \\\n",
       "0                        -0.229980             -0.358118   \n",
       "1                        -0.229980             -0.358118   \n",
       "2                         0.004234             -0.358118   \n",
       "3                         3.049016             -0.358118   \n",
       "4                         0.004234             -0.358118   \n",
       "...                            ...                   ...   \n",
       "22539                    -0.112873             -0.321505   \n",
       "22540                    -0.112873             -0.321505   \n",
       "22541                    -0.229980             -0.358118   \n",
       "22542                    -0.229980             -0.358118   \n",
       "22543                    -0.229980             -0.358118   \n",
       "\n",
       "       dst_host_srv_serror_rate  dst_host_rerror_rate  \\\n",
       "0                      -0.35275              1.979791   \n",
       "1                      -0.35275              1.979791   \n",
       "2                      -0.35275             -0.602719   \n",
       "3                      -0.35275             -0.602719   \n",
       "4                      -0.35275              1.540764   \n",
       "...                         ...                   ...   \n",
       "22539                  -0.35275             -0.602719   \n",
       "22540                  -0.35275             -0.602719   \n",
       "22541                  -0.35275             -0.421943   \n",
       "22542                  -0.35275             -0.602719   \n",
       "22543                  -0.35275              0.533585   \n",
       "\n",
       "       dst_host_srv_rerror_rate  flag   service  protocol_type  \n",
       "0                      1.929116   REJ   private            tcp  \n",
       "1                      1.929116   REJ   private            tcp  \n",
       "2                     -0.565483    SF  ftp_data            tcp  \n",
       "3                     -0.565483    SF     eco_i           icmp  \n",
       "4                      1.205682  RSTO    telnet            tcp  \n",
       "...                         ...   ...       ...            ...  \n",
       "22539                 -0.565483    SF      smtp            tcp  \n",
       "22540                 -0.565483    SF      http            tcp  \n",
       "22541                 -0.390861    SF      http            tcp  \n",
       "22542                 -0.565483    SF  domain_u            udp  \n",
       "22543                  1.929116   REJ    sunrpc            tcp  \n",
       "\n",
       "[22544 rows x 40 columns]"
      ]
     },
     "execution_count": 116,
     "metadata": {},
     "output_type": "execute_result"
    }
   ],
   "source": [
    "kdd_test_x_t"
   ]
  },
  {
   "cell_type": "code",
   "execution_count": 117,
   "id": "63553f18",
   "metadata": {},
   "outputs": [],
   "source": [
    "kdd_test_y = kdd_test['class']"
   ]
  },
  {
   "cell_type": "code",
   "execution_count": 118,
   "id": "55db0f52",
   "metadata": {},
   "outputs": [
    {
     "data": {
      "text/html": [
       "<div>\n",
       "<style scoped>\n",
       "    .dataframe tbody tr th:only-of-type {\n",
       "        vertical-align: middle;\n",
       "    }\n",
       "\n",
       "    .dataframe tbody tr th {\n",
       "        vertical-align: top;\n",
       "    }\n",
       "\n",
       "    .dataframe thead th {\n",
       "        text-align: right;\n",
       "    }\n",
       "</style>\n",
       "<table border=\"1\" class=\"dataframe\">\n",
       "  <thead>\n",
       "    <tr style=\"text-align: right;\">\n",
       "      <th></th>\n",
       "      <th>duration</th>\n",
       "      <th>protocol_type</th>\n",
       "      <th>service</th>\n",
       "      <th>flag</th>\n",
       "      <th>src_bytes</th>\n",
       "      <th>dst_bytes</th>\n",
       "      <th>land</th>\n",
       "      <th>wrong_fragment</th>\n",
       "      <th>urgent</th>\n",
       "      <th>hot</th>\n",
       "      <th>...</th>\n",
       "      <th>dst_host_count</th>\n",
       "      <th>dst_host_srv_count</th>\n",
       "      <th>dst_host_same_srv_rate</th>\n",
       "      <th>dst_host_diff_srv_rate</th>\n",
       "      <th>dst_host_same_src_port_rate</th>\n",
       "      <th>dst_host_srv_diff_host_rate</th>\n",
       "      <th>dst_host_serror_rate</th>\n",
       "      <th>dst_host_srv_serror_rate</th>\n",
       "      <th>dst_host_rerror_rate</th>\n",
       "      <th>dst_host_srv_rerror_rate</th>\n",
       "    </tr>\n",
       "  </thead>\n",
       "  <tbody>\n",
       "    <tr>\n",
       "      <th>0</th>\n",
       "      <td>0.000000</td>\n",
       "      <td>tcp</td>\n",
       "      <td>ftp_data</td>\n",
       "      <td>SF</td>\n",
       "      <td>491.000000</td>\n",
       "      <td>0.000000</td>\n",
       "      <td>0.000000</td>\n",
       "      <td>0.000000</td>\n",
       "      <td>0.000000</td>\n",
       "      <td>0.000000</td>\n",
       "      <td>...</td>\n",
       "      <td>150.000000</td>\n",
       "      <td>25.000000</td>\n",
       "      <td>0.170000</td>\n",
       "      <td>0.030000</td>\n",
       "      <td>0.170000</td>\n",
       "      <td>0.000000</td>\n",
       "      <td>0.000000</td>\n",
       "      <td>0.00000</td>\n",
       "      <td>0.050000</td>\n",
       "      <td>0.000000</td>\n",
       "    </tr>\n",
       "    <tr>\n",
       "      <th>1</th>\n",
       "      <td>0.000000</td>\n",
       "      <td>udp</td>\n",
       "      <td>other</td>\n",
       "      <td>SF</td>\n",
       "      <td>146.000000</td>\n",
       "      <td>0.000000</td>\n",
       "      <td>0.000000</td>\n",
       "      <td>0.000000</td>\n",
       "      <td>0.000000</td>\n",
       "      <td>0.000000</td>\n",
       "      <td>...</td>\n",
       "      <td>255.000000</td>\n",
       "      <td>1.000000</td>\n",
       "      <td>0.000000</td>\n",
       "      <td>0.600000</td>\n",
       "      <td>0.880000</td>\n",
       "      <td>0.000000</td>\n",
       "      <td>0.000000</td>\n",
       "      <td>0.00000</td>\n",
       "      <td>0.000000</td>\n",
       "      <td>0.000000</td>\n",
       "    </tr>\n",
       "    <tr>\n",
       "      <th>2</th>\n",
       "      <td>0.000000</td>\n",
       "      <td>tcp</td>\n",
       "      <td>private</td>\n",
       "      <td>S0</td>\n",
       "      <td>0.000000</td>\n",
       "      <td>0.000000</td>\n",
       "      <td>0.000000</td>\n",
       "      <td>0.000000</td>\n",
       "      <td>0.000000</td>\n",
       "      <td>0.000000</td>\n",
       "      <td>...</td>\n",
       "      <td>255.000000</td>\n",
       "      <td>26.000000</td>\n",
       "      <td>0.100000</td>\n",
       "      <td>0.050000</td>\n",
       "      <td>0.000000</td>\n",
       "      <td>0.000000</td>\n",
       "      <td>1.000000</td>\n",
       "      <td>1.00000</td>\n",
       "      <td>0.000000</td>\n",
       "      <td>0.000000</td>\n",
       "    </tr>\n",
       "    <tr>\n",
       "      <th>3</th>\n",
       "      <td>0.000000</td>\n",
       "      <td>tcp</td>\n",
       "      <td>http</td>\n",
       "      <td>SF</td>\n",
       "      <td>232.000000</td>\n",
       "      <td>8153.000000</td>\n",
       "      <td>0.000000</td>\n",
       "      <td>0.000000</td>\n",
       "      <td>0.000000</td>\n",
       "      <td>0.000000</td>\n",
       "      <td>...</td>\n",
       "      <td>30.000000</td>\n",
       "      <td>255.000000</td>\n",
       "      <td>1.000000</td>\n",
       "      <td>0.000000</td>\n",
       "      <td>0.030000</td>\n",
       "      <td>0.040000</td>\n",
       "      <td>0.030000</td>\n",
       "      <td>0.01000</td>\n",
       "      <td>0.000000</td>\n",
       "      <td>0.010000</td>\n",
       "    </tr>\n",
       "    <tr>\n",
       "      <th>4</th>\n",
       "      <td>0.000000</td>\n",
       "      <td>tcp</td>\n",
       "      <td>http</td>\n",
       "      <td>SF</td>\n",
       "      <td>199.000000</td>\n",
       "      <td>420.000000</td>\n",
       "      <td>0.000000</td>\n",
       "      <td>0.000000</td>\n",
       "      <td>0.000000</td>\n",
       "      <td>0.000000</td>\n",
       "      <td>...</td>\n",
       "      <td>255.000000</td>\n",
       "      <td>255.000000</td>\n",
       "      <td>1.000000</td>\n",
       "      <td>0.000000</td>\n",
       "      <td>0.000000</td>\n",
       "      <td>0.000000</td>\n",
       "      <td>0.000000</td>\n",
       "      <td>0.00000</td>\n",
       "      <td>0.000000</td>\n",
       "      <td>0.000000</td>\n",
       "    </tr>\n",
       "    <tr>\n",
       "      <th>...</th>\n",
       "      <td>...</td>\n",
       "      <td>...</td>\n",
       "      <td>...</td>\n",
       "      <td>...</td>\n",
       "      <td>...</td>\n",
       "      <td>...</td>\n",
       "      <td>...</td>\n",
       "      <td>...</td>\n",
       "      <td>...</td>\n",
       "      <td>...</td>\n",
       "      <td>...</td>\n",
       "      <td>...</td>\n",
       "      <td>...</td>\n",
       "      <td>...</td>\n",
       "      <td>...</td>\n",
       "      <td>...</td>\n",
       "      <td>...</td>\n",
       "      <td>...</td>\n",
       "      <td>...</td>\n",
       "      <td>...</td>\n",
       "      <td>...</td>\n",
       "    </tr>\n",
       "    <tr>\n",
       "      <th>22539</th>\n",
       "      <td>-0.155534</td>\n",
       "      <td>tcp</td>\n",
       "      <td>smtp</td>\n",
       "      <td>SF</td>\n",
       "      <td>-0.020309</td>\n",
       "      <td>-0.081202</td>\n",
       "      <td>-0.017624</td>\n",
       "      <td>-0.059104</td>\n",
       "      <td>-0.019459</td>\n",
       "      <td>-0.113521</td>\n",
       "      <td>...</td>\n",
       "      <td>-0.998254</td>\n",
       "      <td>0.002232</td>\n",
       "      <td>0.255414</td>\n",
       "      <td>-0.138370</td>\n",
       "      <td>-0.399204</td>\n",
       "      <td>-0.112873</td>\n",
       "      <td>-0.321505</td>\n",
       "      <td>-0.35275</td>\n",
       "      <td>-0.602719</td>\n",
       "      <td>-0.565483</td>\n",
       "    </tr>\n",
       "    <tr>\n",
       "      <th>22540</th>\n",
       "      <td>-0.155534</td>\n",
       "      <td>tcp</td>\n",
       "      <td>http</td>\n",
       "      <td>SF</td>\n",
       "      <td>-0.021318</td>\n",
       "      <td>-0.052690</td>\n",
       "      <td>-0.017624</td>\n",
       "      <td>-0.059104</td>\n",
       "      <td>-0.019459</td>\n",
       "      <td>-0.113521</td>\n",
       "      <td>...</td>\n",
       "      <td>0.033292</td>\n",
       "      <td>1.022079</td>\n",
       "      <td>0.898090</td>\n",
       "      <td>-0.410217</td>\n",
       "      <td>-0.399204</td>\n",
       "      <td>-0.112873</td>\n",
       "      <td>-0.321505</td>\n",
       "      <td>-0.35275</td>\n",
       "      <td>-0.602719</td>\n",
       "      <td>-0.565483</td>\n",
       "    </tr>\n",
       "    <tr>\n",
       "      <th>22541</th>\n",
       "      <td>-0.155534</td>\n",
       "      <td>tcp</td>\n",
       "      <td>http</td>\n",
       "      <td>SF</td>\n",
       "      <td>0.093373</td>\n",
       "      <td>0.294926</td>\n",
       "      <td>-0.017624</td>\n",
       "      <td>-0.059104</td>\n",
       "      <td>-0.019459</td>\n",
       "      <td>2.040705</td>\n",
       "      <td>...</td>\n",
       "      <td>0.650093</td>\n",
       "      <td>1.022079</td>\n",
       "      <td>0.898090</td>\n",
       "      <td>-0.410217</td>\n",
       "      <td>-0.431856</td>\n",
       "      <td>-0.229980</td>\n",
       "      <td>-0.358118</td>\n",
       "      <td>-0.35275</td>\n",
       "      <td>-0.421943</td>\n",
       "      <td>-0.390861</td>\n",
       "    </tr>\n",
       "    <tr>\n",
       "      <th>22542</th>\n",
       "      <td>-0.155534</td>\n",
       "      <td>udp</td>\n",
       "      <td>domain_u</td>\n",
       "      <td>SF</td>\n",
       "      <td>-0.021899</td>\n",
       "      <td>-0.094917</td>\n",
       "      <td>-0.017624</td>\n",
       "      <td>-0.059104</td>\n",
       "      <td>-0.019459</td>\n",
       "      <td>-0.113521</td>\n",
       "      <td>...</td>\n",
       "      <td>0.650093</td>\n",
       "      <td>0.995240</td>\n",
       "      <td>0.875137</td>\n",
       "      <td>-0.364909</td>\n",
       "      <td>-0.431856</td>\n",
       "      <td>-0.229980</td>\n",
       "      <td>-0.358118</td>\n",
       "      <td>-0.35275</td>\n",
       "      <td>-0.602719</td>\n",
       "      <td>-0.565483</td>\n",
       "    </tr>\n",
       "    <tr>\n",
       "      <th>22543</th>\n",
       "      <td>-0.155534</td>\n",
       "      <td>tcp</td>\n",
       "      <td>sunrpc</td>\n",
       "      <td>REJ</td>\n",
       "      <td>-0.021988</td>\n",
       "      <td>-0.096896</td>\n",
       "      <td>-0.017624</td>\n",
       "      <td>-0.059104</td>\n",
       "      <td>-0.019459</td>\n",
       "      <td>-0.113521</td>\n",
       "      <td>...</td>\n",
       "      <td>0.650093</td>\n",
       "      <td>-1.071291</td>\n",
       "      <td>-1.213559</td>\n",
       "      <td>-0.274293</td>\n",
       "      <td>-0.431856</td>\n",
       "      <td>-0.229980</td>\n",
       "      <td>-0.358118</td>\n",
       "      <td>-0.35275</td>\n",
       "      <td>0.533585</td>\n",
       "      <td>1.929116</td>\n",
       "    </tr>\n",
       "  </tbody>\n",
       "</table>\n",
       "<p>148517 rows × 40 columns</p>\n",
       "</div>"
      ],
      "text/plain": [
       "       duration protocol_type   service flag   src_bytes    dst_bytes  \\\n",
       "0      0.000000           tcp  ftp_data   SF  491.000000     0.000000   \n",
       "1      0.000000           udp     other   SF  146.000000     0.000000   \n",
       "2      0.000000           tcp   private   S0    0.000000     0.000000   \n",
       "3      0.000000           tcp      http   SF  232.000000  8153.000000   \n",
       "4      0.000000           tcp      http   SF  199.000000   420.000000   \n",
       "...         ...           ...       ...  ...         ...          ...   \n",
       "22539 -0.155534           tcp      smtp   SF   -0.020309    -0.081202   \n",
       "22540 -0.155534           tcp      http   SF   -0.021318    -0.052690   \n",
       "22541 -0.155534           tcp      http   SF    0.093373     0.294926   \n",
       "22542 -0.155534           udp  domain_u   SF   -0.021899    -0.094917   \n",
       "22543 -0.155534           tcp    sunrpc  REJ   -0.021988    -0.096896   \n",
       "\n",
       "           land  wrong_fragment    urgent       hot  ...  dst_host_count  \\\n",
       "0      0.000000        0.000000  0.000000  0.000000  ...      150.000000   \n",
       "1      0.000000        0.000000  0.000000  0.000000  ...      255.000000   \n",
       "2      0.000000        0.000000  0.000000  0.000000  ...      255.000000   \n",
       "3      0.000000        0.000000  0.000000  0.000000  ...       30.000000   \n",
       "4      0.000000        0.000000  0.000000  0.000000  ...      255.000000   \n",
       "...         ...             ...       ...       ...  ...             ...   \n",
       "22539 -0.017624       -0.059104 -0.019459 -0.113521  ...       -0.998254   \n",
       "22540 -0.017624       -0.059104 -0.019459 -0.113521  ...        0.033292   \n",
       "22541 -0.017624       -0.059104 -0.019459  2.040705  ...        0.650093   \n",
       "22542 -0.017624       -0.059104 -0.019459 -0.113521  ...        0.650093   \n",
       "22543 -0.017624       -0.059104 -0.019459 -0.113521  ...        0.650093   \n",
       "\n",
       "       dst_host_srv_count  dst_host_same_srv_rate  dst_host_diff_srv_rate  \\\n",
       "0               25.000000                0.170000                0.030000   \n",
       "1                1.000000                0.000000                0.600000   \n",
       "2               26.000000                0.100000                0.050000   \n",
       "3              255.000000                1.000000                0.000000   \n",
       "4              255.000000                1.000000                0.000000   \n",
       "...                   ...                     ...                     ...   \n",
       "22539            0.002232                0.255414               -0.138370   \n",
       "22540            1.022079                0.898090               -0.410217   \n",
       "22541            1.022079                0.898090               -0.410217   \n",
       "22542            0.995240                0.875137               -0.364909   \n",
       "22543           -1.071291               -1.213559               -0.274293   \n",
       "\n",
       "       dst_host_same_src_port_rate  dst_host_srv_diff_host_rate  \\\n",
       "0                         0.170000                     0.000000   \n",
       "1                         0.880000                     0.000000   \n",
       "2                         0.000000                     0.000000   \n",
       "3                         0.030000                     0.040000   \n",
       "4                         0.000000                     0.000000   \n",
       "...                            ...                          ...   \n",
       "22539                    -0.399204                    -0.112873   \n",
       "22540                    -0.399204                    -0.112873   \n",
       "22541                    -0.431856                    -0.229980   \n",
       "22542                    -0.431856                    -0.229980   \n",
       "22543                    -0.431856                    -0.229980   \n",
       "\n",
       "       dst_host_serror_rate  dst_host_srv_serror_rate  dst_host_rerror_rate  \\\n",
       "0                  0.000000                   0.00000              0.050000   \n",
       "1                  0.000000                   0.00000              0.000000   \n",
       "2                  1.000000                   1.00000              0.000000   \n",
       "3                  0.030000                   0.01000              0.000000   \n",
       "4                  0.000000                   0.00000              0.000000   \n",
       "...                     ...                       ...                   ...   \n",
       "22539             -0.321505                  -0.35275             -0.602719   \n",
       "22540             -0.321505                  -0.35275             -0.602719   \n",
       "22541             -0.358118                  -0.35275             -0.421943   \n",
       "22542             -0.358118                  -0.35275             -0.602719   \n",
       "22543             -0.358118                  -0.35275              0.533585   \n",
       "\n",
       "       dst_host_srv_rerror_rate  \n",
       "0                      0.000000  \n",
       "1                      0.000000  \n",
       "2                      0.000000  \n",
       "3                      0.010000  \n",
       "4                      0.000000  \n",
       "...                         ...  \n",
       "22539                 -0.565483  \n",
       "22540                 -0.565483  \n",
       "22541                 -0.390861  \n",
       "22542                 -0.565483  \n",
       "22543                  1.929116  \n",
       "\n",
       "[148517 rows x 40 columns]"
      ]
     },
     "execution_count": 118,
     "metadata": {},
     "output_type": "execute_result"
    }
   ],
   "source": [
    "combine_data = pd.concat([kdd_train_x, kdd_test_x_t])\n",
    "combine_data"
   ]
  },
  {
   "cell_type": "code",
   "execution_count": 119,
   "id": "22369d4d",
   "metadata": {},
   "outputs": [
    {
     "data": {
      "text/html": [
       "<div>\n",
       "<style scoped>\n",
       "    .dataframe tbody tr th:only-of-type {\n",
       "        vertical-align: middle;\n",
       "    }\n",
       "\n",
       "    .dataframe tbody tr th {\n",
       "        vertical-align: top;\n",
       "    }\n",
       "\n",
       "    .dataframe thead th {\n",
       "        text-align: right;\n",
       "    }\n",
       "</style>\n",
       "<table border=\"1\" class=\"dataframe\">\n",
       "  <thead>\n",
       "    <tr style=\"text-align: right;\">\n",
       "      <th></th>\n",
       "      <th>duration</th>\n",
       "      <th>protocol_type</th>\n",
       "      <th>service</th>\n",
       "      <th>flag</th>\n",
       "      <th>src_bytes</th>\n",
       "      <th>dst_bytes</th>\n",
       "      <th>land</th>\n",
       "      <th>wrong_fragment</th>\n",
       "      <th>urgent</th>\n",
       "      <th>hot</th>\n",
       "      <th>...</th>\n",
       "      <th>dst_host_count</th>\n",
       "      <th>dst_host_srv_count</th>\n",
       "      <th>dst_host_same_srv_rate</th>\n",
       "      <th>dst_host_diff_srv_rate</th>\n",
       "      <th>dst_host_same_src_port_rate</th>\n",
       "      <th>dst_host_srv_diff_host_rate</th>\n",
       "      <th>dst_host_serror_rate</th>\n",
       "      <th>dst_host_srv_serror_rate</th>\n",
       "      <th>dst_host_rerror_rate</th>\n",
       "      <th>dst_host_srv_rerror_rate</th>\n",
       "    </tr>\n",
       "  </thead>\n",
       "  <tbody>\n",
       "    <tr>\n",
       "      <th>0</th>\n",
       "      <td>0</td>\n",
       "      <td>tcp</td>\n",
       "      <td>ftp_data</td>\n",
       "      <td>SF</td>\n",
       "      <td>491</td>\n",
       "      <td>0</td>\n",
       "      <td>0</td>\n",
       "      <td>0</td>\n",
       "      <td>0</td>\n",
       "      <td>0</td>\n",
       "      <td>...</td>\n",
       "      <td>150</td>\n",
       "      <td>25</td>\n",
       "      <td>0.17</td>\n",
       "      <td>0.03</td>\n",
       "      <td>0.17</td>\n",
       "      <td>0.00</td>\n",
       "      <td>0.00</td>\n",
       "      <td>0.00</td>\n",
       "      <td>0.05</td>\n",
       "      <td>0.00</td>\n",
       "    </tr>\n",
       "    <tr>\n",
       "      <th>1</th>\n",
       "      <td>0</td>\n",
       "      <td>udp</td>\n",
       "      <td>other</td>\n",
       "      <td>SF</td>\n",
       "      <td>146</td>\n",
       "      <td>0</td>\n",
       "      <td>0</td>\n",
       "      <td>0</td>\n",
       "      <td>0</td>\n",
       "      <td>0</td>\n",
       "      <td>...</td>\n",
       "      <td>255</td>\n",
       "      <td>1</td>\n",
       "      <td>0.00</td>\n",
       "      <td>0.60</td>\n",
       "      <td>0.88</td>\n",
       "      <td>0.00</td>\n",
       "      <td>0.00</td>\n",
       "      <td>0.00</td>\n",
       "      <td>0.00</td>\n",
       "      <td>0.00</td>\n",
       "    </tr>\n",
       "    <tr>\n",
       "      <th>2</th>\n",
       "      <td>0</td>\n",
       "      <td>tcp</td>\n",
       "      <td>private</td>\n",
       "      <td>S0</td>\n",
       "      <td>0</td>\n",
       "      <td>0</td>\n",
       "      <td>0</td>\n",
       "      <td>0</td>\n",
       "      <td>0</td>\n",
       "      <td>0</td>\n",
       "      <td>...</td>\n",
       "      <td>255</td>\n",
       "      <td>26</td>\n",
       "      <td>0.10</td>\n",
       "      <td>0.05</td>\n",
       "      <td>0.00</td>\n",
       "      <td>0.00</td>\n",
       "      <td>1.00</td>\n",
       "      <td>1.00</td>\n",
       "      <td>0.00</td>\n",
       "      <td>0.00</td>\n",
       "    </tr>\n",
       "    <tr>\n",
       "      <th>3</th>\n",
       "      <td>0</td>\n",
       "      <td>tcp</td>\n",
       "      <td>http</td>\n",
       "      <td>SF</td>\n",
       "      <td>232</td>\n",
       "      <td>8153</td>\n",
       "      <td>0</td>\n",
       "      <td>0</td>\n",
       "      <td>0</td>\n",
       "      <td>0</td>\n",
       "      <td>...</td>\n",
       "      <td>30</td>\n",
       "      <td>255</td>\n",
       "      <td>1.00</td>\n",
       "      <td>0.00</td>\n",
       "      <td>0.03</td>\n",
       "      <td>0.04</td>\n",
       "      <td>0.03</td>\n",
       "      <td>0.01</td>\n",
       "      <td>0.00</td>\n",
       "      <td>0.01</td>\n",
       "    </tr>\n",
       "    <tr>\n",
       "      <th>4</th>\n",
       "      <td>0</td>\n",
       "      <td>tcp</td>\n",
       "      <td>http</td>\n",
       "      <td>SF</td>\n",
       "      <td>199</td>\n",
       "      <td>420</td>\n",
       "      <td>0</td>\n",
       "      <td>0</td>\n",
       "      <td>0</td>\n",
       "      <td>0</td>\n",
       "      <td>...</td>\n",
       "      <td>255</td>\n",
       "      <td>255</td>\n",
       "      <td>1.00</td>\n",
       "      <td>0.00</td>\n",
       "      <td>0.00</td>\n",
       "      <td>0.00</td>\n",
       "      <td>0.00</td>\n",
       "      <td>0.00</td>\n",
       "      <td>0.00</td>\n",
       "      <td>0.00</td>\n",
       "    </tr>\n",
       "    <tr>\n",
       "      <th>...</th>\n",
       "      <td>...</td>\n",
       "      <td>...</td>\n",
       "      <td>...</td>\n",
       "      <td>...</td>\n",
       "      <td>...</td>\n",
       "      <td>...</td>\n",
       "      <td>...</td>\n",
       "      <td>...</td>\n",
       "      <td>...</td>\n",
       "      <td>...</td>\n",
       "      <td>...</td>\n",
       "      <td>...</td>\n",
       "      <td>...</td>\n",
       "      <td>...</td>\n",
       "      <td>...</td>\n",
       "      <td>...</td>\n",
       "      <td>...</td>\n",
       "      <td>...</td>\n",
       "      <td>...</td>\n",
       "      <td>...</td>\n",
       "      <td>...</td>\n",
       "    </tr>\n",
       "    <tr>\n",
       "      <th>125968</th>\n",
       "      <td>0</td>\n",
       "      <td>tcp</td>\n",
       "      <td>private</td>\n",
       "      <td>S0</td>\n",
       "      <td>0</td>\n",
       "      <td>0</td>\n",
       "      <td>0</td>\n",
       "      <td>0</td>\n",
       "      <td>0</td>\n",
       "      <td>0</td>\n",
       "      <td>...</td>\n",
       "      <td>255</td>\n",
       "      <td>25</td>\n",
       "      <td>0.10</td>\n",
       "      <td>0.06</td>\n",
       "      <td>0.00</td>\n",
       "      <td>0.00</td>\n",
       "      <td>1.00</td>\n",
       "      <td>1.00</td>\n",
       "      <td>0.00</td>\n",
       "      <td>0.00</td>\n",
       "    </tr>\n",
       "    <tr>\n",
       "      <th>125969</th>\n",
       "      <td>8</td>\n",
       "      <td>udp</td>\n",
       "      <td>private</td>\n",
       "      <td>SF</td>\n",
       "      <td>105</td>\n",
       "      <td>145</td>\n",
       "      <td>0</td>\n",
       "      <td>0</td>\n",
       "      <td>0</td>\n",
       "      <td>0</td>\n",
       "      <td>...</td>\n",
       "      <td>255</td>\n",
       "      <td>244</td>\n",
       "      <td>0.96</td>\n",
       "      <td>0.01</td>\n",
       "      <td>0.01</td>\n",
       "      <td>0.00</td>\n",
       "      <td>0.00</td>\n",
       "      <td>0.00</td>\n",
       "      <td>0.00</td>\n",
       "      <td>0.00</td>\n",
       "    </tr>\n",
       "    <tr>\n",
       "      <th>125970</th>\n",
       "      <td>0</td>\n",
       "      <td>tcp</td>\n",
       "      <td>smtp</td>\n",
       "      <td>SF</td>\n",
       "      <td>2231</td>\n",
       "      <td>384</td>\n",
       "      <td>0</td>\n",
       "      <td>0</td>\n",
       "      <td>0</td>\n",
       "      <td>0</td>\n",
       "      <td>...</td>\n",
       "      <td>255</td>\n",
       "      <td>30</td>\n",
       "      <td>0.12</td>\n",
       "      <td>0.06</td>\n",
       "      <td>0.00</td>\n",
       "      <td>0.00</td>\n",
       "      <td>0.72</td>\n",
       "      <td>0.00</td>\n",
       "      <td>0.01</td>\n",
       "      <td>0.00</td>\n",
       "    </tr>\n",
       "    <tr>\n",
       "      <th>125971</th>\n",
       "      <td>0</td>\n",
       "      <td>tcp</td>\n",
       "      <td>klogin</td>\n",
       "      <td>S0</td>\n",
       "      <td>0</td>\n",
       "      <td>0</td>\n",
       "      <td>0</td>\n",
       "      <td>0</td>\n",
       "      <td>0</td>\n",
       "      <td>0</td>\n",
       "      <td>...</td>\n",
       "      <td>255</td>\n",
       "      <td>8</td>\n",
       "      <td>0.03</td>\n",
       "      <td>0.05</td>\n",
       "      <td>0.00</td>\n",
       "      <td>0.00</td>\n",
       "      <td>1.00</td>\n",
       "      <td>1.00</td>\n",
       "      <td>0.00</td>\n",
       "      <td>0.00</td>\n",
       "    </tr>\n",
       "    <tr>\n",
       "      <th>125972</th>\n",
       "      <td>0</td>\n",
       "      <td>tcp</td>\n",
       "      <td>ftp_data</td>\n",
       "      <td>SF</td>\n",
       "      <td>151</td>\n",
       "      <td>0</td>\n",
       "      <td>0</td>\n",
       "      <td>0</td>\n",
       "      <td>0</td>\n",
       "      <td>0</td>\n",
       "      <td>...</td>\n",
       "      <td>255</td>\n",
       "      <td>77</td>\n",
       "      <td>0.30</td>\n",
       "      <td>0.03</td>\n",
       "      <td>0.30</td>\n",
       "      <td>0.00</td>\n",
       "      <td>0.00</td>\n",
       "      <td>0.00</td>\n",
       "      <td>0.00</td>\n",
       "      <td>0.00</td>\n",
       "    </tr>\n",
       "  </tbody>\n",
       "</table>\n",
       "<p>125973 rows × 40 columns</p>\n",
       "</div>"
      ],
      "text/plain": [
       "        duration protocol_type   service flag  src_bytes  dst_bytes  land  \\\n",
       "0              0           tcp  ftp_data   SF        491          0     0   \n",
       "1              0           udp     other   SF        146          0     0   \n",
       "2              0           tcp   private   S0          0          0     0   \n",
       "3              0           tcp      http   SF        232       8153     0   \n",
       "4              0           tcp      http   SF        199        420     0   \n",
       "...          ...           ...       ...  ...        ...        ...   ...   \n",
       "125968         0           tcp   private   S0          0          0     0   \n",
       "125969         8           udp   private   SF        105        145     0   \n",
       "125970         0           tcp      smtp   SF       2231        384     0   \n",
       "125971         0           tcp    klogin   S0          0          0     0   \n",
       "125972         0           tcp  ftp_data   SF        151          0     0   \n",
       "\n",
       "        wrong_fragment  urgent  hot  ...  dst_host_count  dst_host_srv_count  \\\n",
       "0                    0       0    0  ...             150                  25   \n",
       "1                    0       0    0  ...             255                   1   \n",
       "2                    0       0    0  ...             255                  26   \n",
       "3                    0       0    0  ...              30                 255   \n",
       "4                    0       0    0  ...             255                 255   \n",
       "...                ...     ...  ...  ...             ...                 ...   \n",
       "125968               0       0    0  ...             255                  25   \n",
       "125969               0       0    0  ...             255                 244   \n",
       "125970               0       0    0  ...             255                  30   \n",
       "125971               0       0    0  ...             255                   8   \n",
       "125972               0       0    0  ...             255                  77   \n",
       "\n",
       "        dst_host_same_srv_rate  dst_host_diff_srv_rate  \\\n",
       "0                         0.17                    0.03   \n",
       "1                         0.00                    0.60   \n",
       "2                         0.10                    0.05   \n",
       "3                         1.00                    0.00   \n",
       "4                         1.00                    0.00   \n",
       "...                        ...                     ...   \n",
       "125968                    0.10                    0.06   \n",
       "125969                    0.96                    0.01   \n",
       "125970                    0.12                    0.06   \n",
       "125971                    0.03                    0.05   \n",
       "125972                    0.30                    0.03   \n",
       "\n",
       "        dst_host_same_src_port_rate  dst_host_srv_diff_host_rate  \\\n",
       "0                              0.17                         0.00   \n",
       "1                              0.88                         0.00   \n",
       "2                              0.00                         0.00   \n",
       "3                              0.03                         0.04   \n",
       "4                              0.00                         0.00   \n",
       "...                             ...                          ...   \n",
       "125968                         0.00                         0.00   \n",
       "125969                         0.01                         0.00   \n",
       "125970                         0.00                         0.00   \n",
       "125971                         0.00                         0.00   \n",
       "125972                         0.30                         0.00   \n",
       "\n",
       "        dst_host_serror_rate  dst_host_srv_serror_rate  dst_host_rerror_rate  \\\n",
       "0                       0.00                      0.00                  0.05   \n",
       "1                       0.00                      0.00                  0.00   \n",
       "2                       1.00                      1.00                  0.00   \n",
       "3                       0.03                      0.01                  0.00   \n",
       "4                       0.00                      0.00                  0.00   \n",
       "...                      ...                       ...                   ...   \n",
       "125968                  1.00                      1.00                  0.00   \n",
       "125969                  0.00                      0.00                  0.00   \n",
       "125970                  0.72                      0.00                  0.01   \n",
       "125971                  1.00                      1.00                  0.00   \n",
       "125972                  0.00                      0.00                  0.00   \n",
       "\n",
       "        dst_host_srv_rerror_rate  \n",
       "0                           0.00  \n",
       "1                           0.00  \n",
       "2                           0.00  \n",
       "3                           0.01  \n",
       "4                           0.00  \n",
       "...                          ...  \n",
       "125968                      0.00  \n",
       "125969                      0.00  \n",
       "125970                      0.00  \n",
       "125971                      0.00  \n",
       "125972                      0.00  \n",
       "\n",
       "[125973 rows x 40 columns]"
      ]
     },
     "execution_count": 119,
     "metadata": {},
     "output_type": "execute_result"
    }
   ],
   "source": [
    "kdd_train_x"
   ]
  },
  {
   "cell_type": "code",
   "execution_count": 120,
   "id": "13209590",
   "metadata": {},
   "outputs": [],
   "source": [
    "\n",
    "num_cols_test = combine_data._get_numeric_data().columns\n",
    "cate_cols_test = list(set(combine_data.columns) - set(num_cols))\n",
    "cate_features_test = pd.get_dummies(combine_data[cate_cols],prefix = cate_cols_test)\n",
    "combine_one_hot_data = combine_data.drop(cate_cols_test, axis = 1)"
   ]
  },
  {
   "cell_type": "code",
   "execution_count": 121,
   "id": "895129e8",
   "metadata": {},
   "outputs": [],
   "source": [
    "pickle.dump(model_pca,open('model_pca.sav','wb'))\n",
    "model_pca_test = joblib.load('model_pca.sav')\n"
   ]
  },
  {
   "cell_type": "code",
   "execution_count": 122,
   "id": "3651e679",
   "metadata": {},
   "outputs": [
    {
     "data": {
      "text/plain": [
       "(148517, 121)"
      ]
     },
     "execution_count": 122,
     "metadata": {},
     "output_type": "execute_result"
    }
   ],
   "source": [
    "combine_one_hot_data = pd.concat([combine_one_hot_data, cate_features_test], axis = 1)\n",
    "\n",
    "data_array_test = np.array(combine_one_hot_data)\n",
    "data_array_test.shape"
   ]
  },
  {
   "cell_type": "code",
   "execution_count": 123,
   "id": "63183466",
   "metadata": {},
   "outputs": [],
   "source": [
    "#Drop the training data\n",
    "test_one_hot_data = combine_one_hot_data.iloc[125973:,:]\n",
    "test_one_hot_data_x = test_one_hot_data\n",
    "test_one_hot_data_ss = test_one_hot_data"
   ]
  },
  {
   "cell_type": "code",
   "execution_count": 124,
   "id": "c8468bfe",
   "metadata": {},
   "outputs": [
    {
     "data": {
      "text/html": [
       "<div>\n",
       "<style scoped>\n",
       "    .dataframe tbody tr th:only-of-type {\n",
       "        vertical-align: middle;\n",
       "    }\n",
       "\n",
       "    .dataframe tbody tr th {\n",
       "        vertical-align: top;\n",
       "    }\n",
       "\n",
       "    .dataframe thead th {\n",
       "        text-align: right;\n",
       "    }\n",
       "</style>\n",
       "<table border=\"1\" class=\"dataframe\">\n",
       "  <thead>\n",
       "    <tr style=\"text-align: right;\">\n",
       "      <th></th>\n",
       "      <th>duration</th>\n",
       "      <th>src_bytes</th>\n",
       "      <th>dst_bytes</th>\n",
       "      <th>land</th>\n",
       "      <th>wrong_fragment</th>\n",
       "      <th>urgent</th>\n",
       "      <th>hot</th>\n",
       "      <th>num_failed_logins</th>\n",
       "      <th>logged_in</th>\n",
       "      <th>num_compromised</th>\n",
       "      <th>...</th>\n",
       "      <th>flag_RSTR</th>\n",
       "      <th>flag_S0</th>\n",
       "      <th>flag_S1</th>\n",
       "      <th>flag_S2</th>\n",
       "      <th>flag_S3</th>\n",
       "      <th>flag_SF</th>\n",
       "      <th>flag_SH</th>\n",
       "      <th>protocol_type_icmp</th>\n",
       "      <th>protocol_type_tcp</th>\n",
       "      <th>protocol_type_udp</th>\n",
       "    </tr>\n",
       "  </thead>\n",
       "  <tbody>\n",
       "    <tr>\n",
       "      <th>0</th>\n",
       "      <td>-0.155534</td>\n",
       "      <td>-0.021988</td>\n",
       "      <td>-0.096896</td>\n",
       "      <td>-0.017624</td>\n",
       "      <td>-0.059104</td>\n",
       "      <td>-0.019459</td>\n",
       "      <td>-0.113521</td>\n",
       "      <td>-0.143999</td>\n",
       "      <td>-0.890373</td>\n",
       "      <td>-0.016494</td>\n",
       "      <td>...</td>\n",
       "      <td>0</td>\n",
       "      <td>0</td>\n",
       "      <td>0</td>\n",
       "      <td>0</td>\n",
       "      <td>0</td>\n",
       "      <td>0</td>\n",
       "      <td>0</td>\n",
       "      <td>0</td>\n",
       "      <td>1</td>\n",
       "      <td>0</td>\n",
       "    </tr>\n",
       "    <tr>\n",
       "      <th>1</th>\n",
       "      <td>-0.155534</td>\n",
       "      <td>-0.021988</td>\n",
       "      <td>-0.096896</td>\n",
       "      <td>-0.017624</td>\n",
       "      <td>-0.059104</td>\n",
       "      <td>-0.019459</td>\n",
       "      <td>-0.113521</td>\n",
       "      <td>-0.143999</td>\n",
       "      <td>-0.890373</td>\n",
       "      <td>-0.016494</td>\n",
       "      <td>...</td>\n",
       "      <td>0</td>\n",
       "      <td>0</td>\n",
       "      <td>0</td>\n",
       "      <td>0</td>\n",
       "      <td>0</td>\n",
       "      <td>0</td>\n",
       "      <td>0</td>\n",
       "      <td>0</td>\n",
       "      <td>1</td>\n",
       "      <td>0</td>\n",
       "    </tr>\n",
       "    <tr>\n",
       "      <th>2</th>\n",
       "      <td>-0.154113</td>\n",
       "      <td>0.005473</td>\n",
       "      <td>-0.096896</td>\n",
       "      <td>-0.017624</td>\n",
       "      <td>-0.059104</td>\n",
       "      <td>-0.019459</td>\n",
       "      <td>-0.113521</td>\n",
       "      <td>-0.143999</td>\n",
       "      <td>-0.890373</td>\n",
       "      <td>-0.016494</td>\n",
       "      <td>...</td>\n",
       "      <td>0</td>\n",
       "      <td>0</td>\n",
       "      <td>0</td>\n",
       "      <td>0</td>\n",
       "      <td>0</td>\n",
       "      <td>1</td>\n",
       "      <td>0</td>\n",
       "      <td>0</td>\n",
       "      <td>1</td>\n",
       "      <td>0</td>\n",
       "    </tr>\n",
       "    <tr>\n",
       "      <th>3</th>\n",
       "      <td>-0.155534</td>\n",
       "      <td>-0.021946</td>\n",
       "      <td>-0.096896</td>\n",
       "      <td>-0.017624</td>\n",
       "      <td>-0.059104</td>\n",
       "      <td>-0.019459</td>\n",
       "      <td>-0.113521</td>\n",
       "      <td>-0.143999</td>\n",
       "      <td>-0.890373</td>\n",
       "      <td>-0.016494</td>\n",
       "      <td>...</td>\n",
       "      <td>0</td>\n",
       "      <td>0</td>\n",
       "      <td>0</td>\n",
       "      <td>0</td>\n",
       "      <td>0</td>\n",
       "      <td>1</td>\n",
       "      <td>0</td>\n",
       "      <td>1</td>\n",
       "      <td>0</td>\n",
       "      <td>0</td>\n",
       "    </tr>\n",
       "    <tr>\n",
       "      <th>4</th>\n",
       "      <td>-0.154823</td>\n",
       "      <td>-0.021988</td>\n",
       "      <td>-0.096189</td>\n",
       "      <td>-0.017624</td>\n",
       "      <td>-0.059104</td>\n",
       "      <td>-0.019459</td>\n",
       "      <td>-0.113521</td>\n",
       "      <td>-0.143999</td>\n",
       "      <td>-0.890373</td>\n",
       "      <td>-0.016494</td>\n",
       "      <td>...</td>\n",
       "      <td>0</td>\n",
       "      <td>0</td>\n",
       "      <td>0</td>\n",
       "      <td>0</td>\n",
       "      <td>0</td>\n",
       "      <td>0</td>\n",
       "      <td>0</td>\n",
       "      <td>0</td>\n",
       "      <td>1</td>\n",
       "      <td>0</td>\n",
       "    </tr>\n",
       "    <tr>\n",
       "      <th>...</th>\n",
       "      <td>...</td>\n",
       "      <td>...</td>\n",
       "      <td>...</td>\n",
       "      <td>...</td>\n",
       "      <td>...</td>\n",
       "      <td>...</td>\n",
       "      <td>...</td>\n",
       "      <td>...</td>\n",
       "      <td>...</td>\n",
       "      <td>...</td>\n",
       "      <td>...</td>\n",
       "      <td>...</td>\n",
       "      <td>...</td>\n",
       "      <td>...</td>\n",
       "      <td>...</td>\n",
       "      <td>...</td>\n",
       "      <td>...</td>\n",
       "      <td>...</td>\n",
       "      <td>...</td>\n",
       "      <td>...</td>\n",
       "      <td>...</td>\n",
       "    </tr>\n",
       "    <tr>\n",
       "      <th>22539</th>\n",
       "      <td>-0.155534</td>\n",
       "      <td>-0.020309</td>\n",
       "      <td>-0.081202</td>\n",
       "      <td>-0.017624</td>\n",
       "      <td>-0.059104</td>\n",
       "      <td>-0.019459</td>\n",
       "      <td>-0.113521</td>\n",
       "      <td>-0.143999</td>\n",
       "      <td>1.123125</td>\n",
       "      <td>-0.016494</td>\n",
       "      <td>...</td>\n",
       "      <td>0</td>\n",
       "      <td>0</td>\n",
       "      <td>0</td>\n",
       "      <td>0</td>\n",
       "      <td>0</td>\n",
       "      <td>1</td>\n",
       "      <td>0</td>\n",
       "      <td>0</td>\n",
       "      <td>1</td>\n",
       "      <td>0</td>\n",
       "    </tr>\n",
       "    <tr>\n",
       "      <th>22540</th>\n",
       "      <td>-0.155534</td>\n",
       "      <td>-0.021318</td>\n",
       "      <td>-0.052690</td>\n",
       "      <td>-0.017624</td>\n",
       "      <td>-0.059104</td>\n",
       "      <td>-0.019459</td>\n",
       "      <td>-0.113521</td>\n",
       "      <td>-0.143999</td>\n",
       "      <td>1.123125</td>\n",
       "      <td>-0.016494</td>\n",
       "      <td>...</td>\n",
       "      <td>0</td>\n",
       "      <td>0</td>\n",
       "      <td>0</td>\n",
       "      <td>0</td>\n",
       "      <td>0</td>\n",
       "      <td>1</td>\n",
       "      <td>0</td>\n",
       "      <td>0</td>\n",
       "      <td>1</td>\n",
       "      <td>0</td>\n",
       "    </tr>\n",
       "    <tr>\n",
       "      <th>22541</th>\n",
       "      <td>-0.155534</td>\n",
       "      <td>0.093373</td>\n",
       "      <td>0.294926</td>\n",
       "      <td>-0.017624</td>\n",
       "      <td>-0.059104</td>\n",
       "      <td>-0.019459</td>\n",
       "      <td>2.040705</td>\n",
       "      <td>-0.143999</td>\n",
       "      <td>1.123125</td>\n",
       "      <td>0.121069</td>\n",
       "      <td>...</td>\n",
       "      <td>0</td>\n",
       "      <td>0</td>\n",
       "      <td>0</td>\n",
       "      <td>0</td>\n",
       "      <td>0</td>\n",
       "      <td>1</td>\n",
       "      <td>0</td>\n",
       "      <td>0</td>\n",
       "      <td>1</td>\n",
       "      <td>0</td>\n",
       "    </tr>\n",
       "    <tr>\n",
       "      <th>22542</th>\n",
       "      <td>-0.155534</td>\n",
       "      <td>-0.021899</td>\n",
       "      <td>-0.094917</td>\n",
       "      <td>-0.017624</td>\n",
       "      <td>-0.059104</td>\n",
       "      <td>-0.019459</td>\n",
       "      <td>-0.113521</td>\n",
       "      <td>-0.143999</td>\n",
       "      <td>-0.890373</td>\n",
       "      <td>-0.016494</td>\n",
       "      <td>...</td>\n",
       "      <td>0</td>\n",
       "      <td>0</td>\n",
       "      <td>0</td>\n",
       "      <td>0</td>\n",
       "      <td>0</td>\n",
       "      <td>1</td>\n",
       "      <td>0</td>\n",
       "      <td>0</td>\n",
       "      <td>0</td>\n",
       "      <td>1</td>\n",
       "    </tr>\n",
       "    <tr>\n",
       "      <th>22543</th>\n",
       "      <td>-0.155534</td>\n",
       "      <td>-0.021988</td>\n",
       "      <td>-0.096896</td>\n",
       "      <td>-0.017624</td>\n",
       "      <td>-0.059104</td>\n",
       "      <td>-0.019459</td>\n",
       "      <td>-0.113521</td>\n",
       "      <td>-0.143999</td>\n",
       "      <td>-0.890373</td>\n",
       "      <td>-0.016494</td>\n",
       "      <td>...</td>\n",
       "      <td>0</td>\n",
       "      <td>0</td>\n",
       "      <td>0</td>\n",
       "      <td>0</td>\n",
       "      <td>0</td>\n",
       "      <td>0</td>\n",
       "      <td>0</td>\n",
       "      <td>0</td>\n",
       "      <td>1</td>\n",
       "      <td>0</td>\n",
       "    </tr>\n",
       "  </tbody>\n",
       "</table>\n",
       "<p>22544 rows × 121 columns</p>\n",
       "</div>"
      ],
      "text/plain": [
       "       duration  src_bytes  dst_bytes      land  wrong_fragment    urgent  \\\n",
       "0     -0.155534  -0.021988  -0.096896 -0.017624       -0.059104 -0.019459   \n",
       "1     -0.155534  -0.021988  -0.096896 -0.017624       -0.059104 -0.019459   \n",
       "2     -0.154113   0.005473  -0.096896 -0.017624       -0.059104 -0.019459   \n",
       "3     -0.155534  -0.021946  -0.096896 -0.017624       -0.059104 -0.019459   \n",
       "4     -0.154823  -0.021988  -0.096189 -0.017624       -0.059104 -0.019459   \n",
       "...         ...        ...        ...       ...             ...       ...   \n",
       "22539 -0.155534  -0.020309  -0.081202 -0.017624       -0.059104 -0.019459   \n",
       "22540 -0.155534  -0.021318  -0.052690 -0.017624       -0.059104 -0.019459   \n",
       "22541 -0.155534   0.093373   0.294926 -0.017624       -0.059104 -0.019459   \n",
       "22542 -0.155534  -0.021899  -0.094917 -0.017624       -0.059104 -0.019459   \n",
       "22543 -0.155534  -0.021988  -0.096896 -0.017624       -0.059104 -0.019459   \n",
       "\n",
       "            hot  num_failed_logins  logged_in  num_compromised  ...  \\\n",
       "0     -0.113521          -0.143999  -0.890373        -0.016494  ...   \n",
       "1     -0.113521          -0.143999  -0.890373        -0.016494  ...   \n",
       "2     -0.113521          -0.143999  -0.890373        -0.016494  ...   \n",
       "3     -0.113521          -0.143999  -0.890373        -0.016494  ...   \n",
       "4     -0.113521          -0.143999  -0.890373        -0.016494  ...   \n",
       "...         ...                ...        ...              ...  ...   \n",
       "22539 -0.113521          -0.143999   1.123125        -0.016494  ...   \n",
       "22540 -0.113521          -0.143999   1.123125        -0.016494  ...   \n",
       "22541  2.040705          -0.143999   1.123125         0.121069  ...   \n",
       "22542 -0.113521          -0.143999  -0.890373        -0.016494  ...   \n",
       "22543 -0.113521          -0.143999  -0.890373        -0.016494  ...   \n",
       "\n",
       "       flag_RSTR  flag_S0  flag_S1  flag_S2  flag_S3  flag_SF  flag_SH  \\\n",
       "0              0        0        0        0        0        0        0   \n",
       "1              0        0        0        0        0        0        0   \n",
       "2              0        0        0        0        0        1        0   \n",
       "3              0        0        0        0        0        1        0   \n",
       "4              0        0        0        0        0        0        0   \n",
       "...          ...      ...      ...      ...      ...      ...      ...   \n",
       "22539          0        0        0        0        0        1        0   \n",
       "22540          0        0        0        0        0        1        0   \n",
       "22541          0        0        0        0        0        1        0   \n",
       "22542          0        0        0        0        0        1        0   \n",
       "22543          0        0        0        0        0        0        0   \n",
       "\n",
       "       protocol_type_icmp  protocol_type_tcp  protocol_type_udp  \n",
       "0                       0                  1                  0  \n",
       "1                       0                  1                  0  \n",
       "2                       0                  1                  0  \n",
       "3                       1                  0                  0  \n",
       "4                       0                  1                  0  \n",
       "...                   ...                ...                ...  \n",
       "22539                   0                  1                  0  \n",
       "22540                   0                  1                  0  \n",
       "22541                   0                  1                  0  \n",
       "22542                   0                  0                  1  \n",
       "22543                   0                  1                  0  \n",
       "\n",
       "[22544 rows x 121 columns]"
      ]
     },
     "execution_count": 124,
     "metadata": {},
     "output_type": "execute_result"
    }
   ],
   "source": [
    "test_one_hot_data_x"
   ]
  },
  {
   "cell_type": "code",
   "execution_count": 125,
   "id": "2f23ac38",
   "metadata": {},
   "outputs": [
    {
     "data": {
      "text/html": [
       "<div>\n",
       "<style scoped>\n",
       "    .dataframe tbody tr th:only-of-type {\n",
       "        vertical-align: middle;\n",
       "    }\n",
       "\n",
       "    .dataframe tbody tr th {\n",
       "        vertical-align: top;\n",
       "    }\n",
       "\n",
       "    .dataframe thead th {\n",
       "        text-align: right;\n",
       "    }\n",
       "</style>\n",
       "<table border=\"1\" class=\"dataframe\">\n",
       "  <thead>\n",
       "    <tr style=\"text-align: right;\">\n",
       "      <th></th>\n",
       "      <th>Variable 0</th>\n",
       "      <th>Variable 1</th>\n",
       "      <th>Variable 2</th>\n",
       "      <th>Variable 3</th>\n",
       "      <th>Variable 4</th>\n",
       "      <th>Variable 5</th>\n",
       "      <th>Variable 6</th>\n",
       "      <th>Variable 7</th>\n",
       "      <th>Variable 8</th>\n",
       "      <th>Variable 9</th>\n",
       "      <th>...</th>\n",
       "      <th>Variable 15</th>\n",
       "      <th>Variable 16</th>\n",
       "      <th>Variable 17</th>\n",
       "      <th>Variable 18</th>\n",
       "      <th>Variable 19</th>\n",
       "      <th>Variable 20</th>\n",
       "      <th>Variable 21</th>\n",
       "      <th>Variable 22</th>\n",
       "      <th>Variable 23</th>\n",
       "      <th>Variable 24</th>\n",
       "    </tr>\n",
       "  </thead>\n",
       "  <tbody>\n",
       "    <tr>\n",
       "      <th>0</th>\n",
       "      <td>1.678471</td>\n",
       "      <td>-0.872735</td>\n",
       "      <td>0.004462</td>\n",
       "      <td>0.120732</td>\n",
       "      <td>-0.347212</td>\n",
       "      <td>0.492001</td>\n",
       "      <td>0.395315</td>\n",
       "      <td>0.513245</td>\n",
       "      <td>-0.766786</td>\n",
       "      <td>-0.062395</td>\n",
       "      <td>...</td>\n",
       "      <td>0.087562</td>\n",
       "      <td>-0.038879</td>\n",
       "      <td>0.089034</td>\n",
       "      <td>0.014808</td>\n",
       "      <td>-0.188971</td>\n",
       "      <td>-0.241507</td>\n",
       "      <td>0.056346</td>\n",
       "      <td>0.496640</td>\n",
       "      <td>0.262575</td>\n",
       "      <td>0.138653</td>\n",
       "    </tr>\n",
       "    <tr>\n",
       "      <th>1</th>\n",
       "      <td>1.650825</td>\n",
       "      <td>-0.871036</td>\n",
       "      <td>0.022690</td>\n",
       "      <td>0.353080</td>\n",
       "      <td>-0.343112</td>\n",
       "      <td>0.335960</td>\n",
       "      <td>0.348479</td>\n",
       "      <td>0.469323</td>\n",
       "      <td>-0.854538</td>\n",
       "      <td>-0.026490</td>\n",
       "      <td>...</td>\n",
       "      <td>0.114285</td>\n",
       "      <td>-0.010820</td>\n",
       "      <td>0.145410</td>\n",
       "      <td>-0.009777</td>\n",
       "      <td>-0.598956</td>\n",
       "      <td>-0.375655</td>\n",
       "      <td>0.079058</td>\n",
       "      <td>0.296593</td>\n",
       "      <td>-0.032018</td>\n",
       "      <td>0.187080</td>\n",
       "    </tr>\n",
       "    <tr>\n",
       "      <th>2</th>\n",
       "      <td>-0.427776</td>\n",
       "      <td>-0.027269</td>\n",
       "      <td>-0.060373</td>\n",
       "      <td>-0.582328</td>\n",
       "      <td>0.404469</td>\n",
       "      <td>-0.682267</td>\n",
       "      <td>-0.200591</td>\n",
       "      <td>-0.123556</td>\n",
       "      <td>-0.589348</td>\n",
       "      <td>0.143092</td>\n",
       "      <td>...</td>\n",
       "      <td>0.237448</td>\n",
       "      <td>0.104159</td>\n",
       "      <td>0.405101</td>\n",
       "      <td>-0.178828</td>\n",
       "      <td>-1.405570</td>\n",
       "      <td>-1.652640</td>\n",
       "      <td>0.167053</td>\n",
       "      <td>-0.244760</td>\n",
       "      <td>-0.560929</td>\n",
       "      <td>0.151231</td>\n",
       "    </tr>\n",
       "    <tr>\n",
       "      <th>3</th>\n",
       "      <td>-0.761174</td>\n",
       "      <td>-0.208430</td>\n",
       "      <td>-0.118920</td>\n",
       "      <td>-1.318459</td>\n",
       "      <td>0.976188</td>\n",
       "      <td>-3.314352</td>\n",
       "      <td>0.566545</td>\n",
       "      <td>1.467813</td>\n",
       "      <td>-0.909148</td>\n",
       "      <td>-0.158969</td>\n",
       "      <td>...</td>\n",
       "      <td>-0.645070</td>\n",
       "      <td>0.286520</td>\n",
       "      <td>-1.667151</td>\n",
       "      <td>0.537777</td>\n",
       "      <td>-0.640798</td>\n",
       "      <td>0.353681</td>\n",
       "      <td>-0.069413</td>\n",
       "      <td>-0.619800</td>\n",
       "      <td>0.387078</td>\n",
       "      <td>0.831191</td>\n",
       "    </tr>\n",
       "    <tr>\n",
       "      <th>4</th>\n",
       "      <td>0.598909</td>\n",
       "      <td>-0.747321</td>\n",
       "      <td>0.025752</td>\n",
       "      <td>0.710066</td>\n",
       "      <td>-0.131553</td>\n",
       "      <td>-1.442168</td>\n",
       "      <td>0.498370</td>\n",
       "      <td>0.965455</td>\n",
       "      <td>-0.426954</td>\n",
       "      <td>-0.115367</td>\n",
       "      <td>...</td>\n",
       "      <td>-0.743812</td>\n",
       "      <td>0.298522</td>\n",
       "      <td>-1.560846</td>\n",
       "      <td>0.244325</td>\n",
       "      <td>0.749019</td>\n",
       "      <td>-1.549602</td>\n",
       "      <td>-0.039398</td>\n",
       "      <td>-1.909888</td>\n",
       "      <td>1.245669</td>\n",
       "      <td>-1.707417</td>\n",
       "    </tr>\n",
       "    <tr>\n",
       "      <th>...</th>\n",
       "      <td>...</td>\n",
       "      <td>...</td>\n",
       "      <td>...</td>\n",
       "      <td>...</td>\n",
       "      <td>...</td>\n",
       "      <td>...</td>\n",
       "      <td>...</td>\n",
       "      <td>...</td>\n",
       "      <td>...</td>\n",
       "      <td>...</td>\n",
       "      <td>...</td>\n",
       "      <td>...</td>\n",
       "      <td>...</td>\n",
       "      <td>...</td>\n",
       "      <td>...</td>\n",
       "      <td>...</td>\n",
       "      <td>...</td>\n",
       "      <td>...</td>\n",
       "      <td>...</td>\n",
       "      <td>...</td>\n",
       "      <td>...</td>\n",
       "    </tr>\n",
       "    <tr>\n",
       "      <th>22539</th>\n",
       "      <td>-0.677682</td>\n",
       "      <td>-0.135917</td>\n",
       "      <td>-0.011245</td>\n",
       "      <td>0.455168</td>\n",
       "      <td>-0.042928</td>\n",
       "      <td>-0.256884</td>\n",
       "      <td>-0.100000</td>\n",
       "      <td>-0.189836</td>\n",
       "      <td>0.184557</td>\n",
       "      <td>-0.148044</td>\n",
       "      <td>...</td>\n",
       "      <td>0.292900</td>\n",
       "      <td>0.011649</td>\n",
       "      <td>0.372113</td>\n",
       "      <td>-0.168499</td>\n",
       "      <td>0.037984</td>\n",
       "      <td>-0.879563</td>\n",
       "      <td>0.102332</td>\n",
       "      <td>0.689722</td>\n",
       "      <td>0.934579</td>\n",
       "      <td>0.089700</td>\n",
       "    </tr>\n",
       "    <tr>\n",
       "      <th>22540</th>\n",
       "      <td>-0.872991</td>\n",
       "      <td>-0.194655</td>\n",
       "      <td>-0.066623</td>\n",
       "      <td>0.452831</td>\n",
       "      <td>-0.413141</td>\n",
       "      <td>0.185445</td>\n",
       "      <td>0.112065</td>\n",
       "      <td>0.035403</td>\n",
       "      <td>0.523127</td>\n",
       "      <td>-0.197381</td>\n",
       "      <td>...</td>\n",
       "      <td>0.052443</td>\n",
       "      <td>0.030961</td>\n",
       "      <td>0.042609</td>\n",
       "      <td>-0.075227</td>\n",
       "      <td>0.008422</td>\n",
       "      <td>0.335104</td>\n",
       "      <td>-0.003836</td>\n",
       "      <td>-0.023295</td>\n",
       "      <td>0.180490</td>\n",
       "      <td>0.502420</td>\n",
       "    </tr>\n",
       "    <tr>\n",
       "      <th>22541</th>\n",
       "      <td>-0.814737</td>\n",
       "      <td>-0.235138</td>\n",
       "      <td>0.074933</td>\n",
       "      <td>0.712311</td>\n",
       "      <td>0.369909</td>\n",
       "      <td>0.794684</td>\n",
       "      <td>-0.066708</td>\n",
       "      <td>0.487747</td>\n",
       "      <td>0.673540</td>\n",
       "      <td>0.041892</td>\n",
       "      <td>...</td>\n",
       "      <td>-0.258330</td>\n",
       "      <td>-0.006817</td>\n",
       "      <td>-0.122758</td>\n",
       "      <td>-0.063016</td>\n",
       "      <td>-0.370471</td>\n",
       "      <td>0.833987</td>\n",
       "      <td>-0.274281</td>\n",
       "      <td>-0.387836</td>\n",
       "      <td>-0.042764</td>\n",
       "      <td>0.810355</td>\n",
       "    </tr>\n",
       "    <tr>\n",
       "      <th>22542</th>\n",
       "      <td>-0.618400</td>\n",
       "      <td>-0.099512</td>\n",
       "      <td>-0.112588</td>\n",
       "      <td>-0.139796</td>\n",
       "      <td>-0.299245</td>\n",
       "      <td>0.215217</td>\n",
       "      <td>-0.019459</td>\n",
       "      <td>-0.011097</td>\n",
       "      <td>0.042121</td>\n",
       "      <td>-0.007055</td>\n",
       "      <td>...</td>\n",
       "      <td>-0.290913</td>\n",
       "      <td>0.188055</td>\n",
       "      <td>-0.449199</td>\n",
       "      <td>0.018744</td>\n",
       "      <td>-1.882945</td>\n",
       "      <td>0.507437</td>\n",
       "      <td>0.082619</td>\n",
       "      <td>-0.368431</td>\n",
       "      <td>0.264819</td>\n",
       "      <td>-2.208291</td>\n",
       "    </tr>\n",
       "    <tr>\n",
       "      <th>22543</th>\n",
       "      <td>1.463070</td>\n",
       "      <td>-0.999785</td>\n",
       "      <td>0.020018</td>\n",
       "      <td>0.694845</td>\n",
       "      <td>-0.080750</td>\n",
       "      <td>-1.468044</td>\n",
       "      <td>0.126210</td>\n",
       "      <td>0.357275</td>\n",
       "      <td>1.220112</td>\n",
       "      <td>-0.285096</td>\n",
       "      <td>...</td>\n",
       "      <td>-1.250809</td>\n",
       "      <td>0.134693</td>\n",
       "      <td>-2.210278</td>\n",
       "      <td>0.421481</td>\n",
       "      <td>-0.685136</td>\n",
       "      <td>0.938789</td>\n",
       "      <td>-0.024303</td>\n",
       "      <td>1.005543</td>\n",
       "      <td>-2.329555</td>\n",
       "      <td>0.181016</td>\n",
       "    </tr>\n",
       "  </tbody>\n",
       "</table>\n",
       "<p>22544 rows × 25 columns</p>\n",
       "</div>"
      ],
      "text/plain": [
       "       Variable 0  Variable 1  Variable 2  Variable 3  Variable 4  Variable 5  \\\n",
       "0        1.678471   -0.872735    0.004462    0.120732   -0.347212    0.492001   \n",
       "1        1.650825   -0.871036    0.022690    0.353080   -0.343112    0.335960   \n",
       "2       -0.427776   -0.027269   -0.060373   -0.582328    0.404469   -0.682267   \n",
       "3       -0.761174   -0.208430   -0.118920   -1.318459    0.976188   -3.314352   \n",
       "4        0.598909   -0.747321    0.025752    0.710066   -0.131553   -1.442168   \n",
       "...           ...         ...         ...         ...         ...         ...   \n",
       "22539   -0.677682   -0.135917   -0.011245    0.455168   -0.042928   -0.256884   \n",
       "22540   -0.872991   -0.194655   -0.066623    0.452831   -0.413141    0.185445   \n",
       "22541   -0.814737   -0.235138    0.074933    0.712311    0.369909    0.794684   \n",
       "22542   -0.618400   -0.099512   -0.112588   -0.139796   -0.299245    0.215217   \n",
       "22543    1.463070   -0.999785    0.020018    0.694845   -0.080750   -1.468044   \n",
       "\n",
       "       Variable 6  Variable 7  Variable 8  Variable 9  ...  Variable 15  \\\n",
       "0        0.395315    0.513245   -0.766786   -0.062395  ...     0.087562   \n",
       "1        0.348479    0.469323   -0.854538   -0.026490  ...     0.114285   \n",
       "2       -0.200591   -0.123556   -0.589348    0.143092  ...     0.237448   \n",
       "3        0.566545    1.467813   -0.909148   -0.158969  ...    -0.645070   \n",
       "4        0.498370    0.965455   -0.426954   -0.115367  ...    -0.743812   \n",
       "...           ...         ...         ...         ...  ...          ...   \n",
       "22539   -0.100000   -0.189836    0.184557   -0.148044  ...     0.292900   \n",
       "22540    0.112065    0.035403    0.523127   -0.197381  ...     0.052443   \n",
       "22541   -0.066708    0.487747    0.673540    0.041892  ...    -0.258330   \n",
       "22542   -0.019459   -0.011097    0.042121   -0.007055  ...    -0.290913   \n",
       "22543    0.126210    0.357275    1.220112   -0.285096  ...    -1.250809   \n",
       "\n",
       "       Variable 16  Variable 17  Variable 18  Variable 19  Variable 20  \\\n",
       "0        -0.038879     0.089034     0.014808    -0.188971    -0.241507   \n",
       "1        -0.010820     0.145410    -0.009777    -0.598956    -0.375655   \n",
       "2         0.104159     0.405101    -0.178828    -1.405570    -1.652640   \n",
       "3         0.286520    -1.667151     0.537777    -0.640798     0.353681   \n",
       "4         0.298522    -1.560846     0.244325     0.749019    -1.549602   \n",
       "...            ...          ...          ...          ...          ...   \n",
       "22539     0.011649     0.372113    -0.168499     0.037984    -0.879563   \n",
       "22540     0.030961     0.042609    -0.075227     0.008422     0.335104   \n",
       "22541    -0.006817    -0.122758    -0.063016    -0.370471     0.833987   \n",
       "22542     0.188055    -0.449199     0.018744    -1.882945     0.507437   \n",
       "22543     0.134693    -2.210278     0.421481    -0.685136     0.938789   \n",
       "\n",
       "       Variable 21  Variable 22  Variable 23  Variable 24  \n",
       "0         0.056346     0.496640     0.262575     0.138653  \n",
       "1         0.079058     0.296593    -0.032018     0.187080  \n",
       "2         0.167053    -0.244760    -0.560929     0.151231  \n",
       "3        -0.069413    -0.619800     0.387078     0.831191  \n",
       "4        -0.039398    -1.909888     1.245669    -1.707417  \n",
       "...            ...          ...          ...          ...  \n",
       "22539     0.102332     0.689722     0.934579     0.089700  \n",
       "22540    -0.003836    -0.023295     0.180490     0.502420  \n",
       "22541    -0.274281    -0.387836    -0.042764     0.810355  \n",
       "22542     0.082619    -0.368431     0.264819    -2.208291  \n",
       "22543    -0.024303     1.005543    -2.329555     0.181016  \n",
       "\n",
       "[22544 rows x 25 columns]"
      ]
     },
     "execution_count": 125,
     "metadata": {},
     "output_type": "execute_result"
    }
   ],
   "source": [
    "test_one_hot_data_pca = model_pca_test.fit_transform(test_one_hot_data_x)\n",
    "new_header =['Variable '+str(i) for i in range(model_pca.n_components)]\n",
    "test_one_hot_data_pca = pd.DataFrame(test_one_hot_data_pca,columns=new_header)\n",
    "test_one_hot_data_pca"
   ]
  },
  {
   "cell_type": "code",
   "execution_count": 126,
   "id": "bc5e8e7b",
   "metadata": {},
   "outputs": [
    {
     "data": {
      "text/plain": [
       "array([[-0.15553409, -0.02198811, -0.09689597, ..., -0.3527496 ,\n",
       "         1.97979091,  1.9291162 ],\n",
       "       [-0.15553409, -0.02198811, -0.09689597, ..., -0.3527496 ,\n",
       "         1.97979091,  1.9291162 ],\n",
       "       [-0.15411277,  0.0054731 , -0.09689597, ..., -0.3527496 ,\n",
       "        -0.60271888, -0.56548308],\n",
       "       ...,\n",
       "       [-0.15553409,  0.09337309,  0.29492588, ..., -0.3527496 ,\n",
       "        -0.4219432 , -0.39086113],\n",
       "       [-0.15553409, -0.02189927, -0.0949166 , ..., -0.3527496 ,\n",
       "        -0.60271888, -0.56548308],\n",
       "       [-0.15553409, -0.02198811, -0.09689597, ..., -0.3527496 ,\n",
       "         0.53358543,  1.9291162 ]])"
      ]
     },
     "execution_count": 126,
     "metadata": {},
     "output_type": "execute_result"
    }
   ],
   "source": [
    "test_ss"
   ]
  },
  {
   "cell_type": "code",
   "execution_count": 127,
   "id": "00558785",
   "metadata": {},
   "outputs": [],
   "source": [
    "data_array_test = np.array(test_one_hot_data_pca)\n",
    "data_array_test_ss = np.array(test_one_hot_data_ss)\n"
   ]
  },
  {
   "cell_type": "code",
   "execution_count": 128,
   "id": "4c14e915",
   "metadata": {},
   "outputs": [],
   "source": [
    "test_one_hot_data_maha_ss = test_one_hot_data_ss"
   ]
  },
  {
   "cell_type": "code",
   "execution_count": 129,
   "id": "192d6a39",
   "metadata": {},
   "outputs": [],
   "source": [
    "test_one_hot_data_maha = test_one_hot_data_pca"
   ]
  },
  {
   "cell_type": "code",
   "execution_count": 243,
   "id": "33655fa4",
   "metadata": {},
   "outputs": [
    {
     "data": {
      "text/plain": [
       "array(['neptune', 'normal', 'saint', 'mscan', 'guess_passwd', 'smurf',\n",
       "       'apache2', 'satan', 'buffer_overflow', 'back', 'warezmaster',\n",
       "       'snmpgetattack', 'processtable', 'pod', 'httptunnel', 'nmap', 'ps',\n",
       "       'snmpguess', 'ipsweep', 'mailbomb', 'portsweep', 'multihop',\n",
       "       'named', 'sendmail', 'loadmodule', 'xterm', 'worm', 'teardrop',\n",
       "       'rootkit', 'xlock', 'perl', 'land', 'xsnoop', 'sqlattack',\n",
       "       'ftp_write', 'imap', 'udpstorm', 'phf'], dtype=object)"
      ]
     },
     "execution_count": 243,
     "metadata": {},
     "output_type": "execute_result"
    }
   ],
   "source": [
    "kdd_test['class'].unique()"
   ]
  },
  {
   "cell_type": "code",
   "execution_count": 244,
   "id": "32f758a0",
   "metadata": {},
   "outputs": [],
   "source": [
    "label_map_test = {\"normal\": 0,\n",
    "                    \"neptune\": 1,\n",
    "                    \"saint\": 1,\n",
    "                    \"mscan\": 1,\n",
    "                    \"guess_passwd\": 1,\n",
    "                    \"smurf\": 1,\n",
    "                    \"apache2\": 1,\n",
    "                  \"satan\": 1,\n",
    "                  \"buffer_overflow\":1,\n",
    "                  \"back\":1,\n",
    "                  \"warezmaster\":1,\n",
    "                  \"snmpgetattack\":1,\n",
    "                  \"processtable\":1,\n",
    "                  \"pod\":1,\n",
    "                  \"httptunnel\":1,\n",
    "                  \"nmap\":1,\n",
    "                  \"ps\":1,\n",
    "                  \"snmpguess\":1,\n",
    "                  \"ipsweep\":1,\n",
    "                  \"mailbomb\":1,\n",
    "                  \"portsweep\":1,\n",
    "                  \"multihop\":1,\n",
    "                  \"named\":1,\n",
    "                  \"sendmail\":1,\n",
    "                  \"loadmodule\":1,\n",
    "                  \"xterm\":1,\n",
    "                  \"worm\":1,\n",
    "                  \"teardrop\":1,\n",
    "                  \"rootkit\":1,\n",
    "                  \"xlock\":1,\n",
    "                  \"perl\":1,\n",
    "                  \"land\":1,\n",
    "                  \"xsnoop\":1,\n",
    "                  \"sqlattack\":1,\n",
    "                  \"ftp_write\":1,\n",
    "                  \"imap\":1,\n",
    "                  \"udpstorm\":1,\n",
    "                  \"phf\":1\n",
    "                 }\n",
    "kdd_test_y[\"class_binary\"] = kdd_test[\"class\"].map(label_map_test)"
   ]
  },
  {
   "cell_type": "code",
   "execution_count": 245,
   "id": "80c95528",
   "metadata": {},
   "outputs": [],
   "source": [
    "kdd_test_y[\"class_binary\"] = kdd_test[\"class\"].map(label_map_test)"
   ]
  },
  {
   "cell_type": "code",
   "execution_count": 246,
   "id": "ce0853b7",
   "metadata": {},
   "outputs": [
    {
     "data": {
      "text/plain": [
       "0        1\n",
       "1        1\n",
       "2        0\n",
       "3        1\n",
       "4        1\n",
       "        ..\n",
       "22539    0\n",
       "22540    0\n",
       "22541    1\n",
       "22542    0\n",
       "22543    1\n",
       "Name: class, Length: 22544, dtype: int64"
      ]
     },
     "execution_count": 246,
     "metadata": {},
     "output_type": "execute_result"
    },
    {
     "data": {
      "text/plain": [
       "12833"
      ]
     },
     "execution_count": 246,
     "metadata": {},
     "output_type": "execute_result"
    }
   ],
   "source": [
    "kdd_test_y['class_binary']\n",
    "np.count_nonzero(kdd_test_y['class_binary'])"
   ]
  },
  {
   "cell_type": "markdown",
   "id": "b4ccdff9",
   "metadata": {},
   "source": [
    "# Mahalanobis Testing (Without PCA)"
   ]
  },
  {
   "cell_type": "code",
   "execution_count": 247,
   "id": "c686fc3a",
   "metadata": {},
   "outputs": [
    {
     "data": {
      "text/plain": [
       "121"
      ]
     },
     "execution_count": 247,
     "metadata": {},
     "output_type": "execute_result"
    }
   ],
   "source": [
    "len(x_minus_mu)"
   ]
  },
  {
   "cell_type": "code",
   "execution_count": 248,
   "id": "d63d44d2",
   "metadata": {},
   "outputs": [],
   "source": [
    "mu_vec_test = np.mean(data_array_test_ss,axis = 0)\n",
    "inv_cormat_test = sp.linalg.pinv(np.cov(data_array_test_ss, rowvar=False))\n",
    "\n",
    "\n"
   ]
  },
  {
   "cell_type": "code",
   "execution_count": 249,
   "id": "4cdfbfa0",
   "metadata": {},
   "outputs": [
    {
     "name": "stderr",
     "output_type": "stream",
     "text": [
      "C:\\WINDOWS\\system32\\myenv\\lib\\site-packages\\numpy\\core\\fromnumeric.py:3430: FutureWarning: In a future version, DataFrame.mean(axis=None) will return a scalar mean over the entire DataFrame. To retain the old behavior, use 'frame.mean(axis=0)' or just 'frame.mean()'\n",
      "  return mean(axis=axis, dtype=dtype, out=out, **kwargs)\n"
     ]
    },
    {
     "data": {
      "text/plain": [
       "duration              2.710552e-17\n",
       "src_bytes             3.782165e-18\n",
       "dst_bytes             1.891083e-18\n",
       "land                  2.521443e-18\n",
       "wrong_fragment        6.303608e-19\n",
       "                          ...     \n",
       "flag_SH               3.238112e-03\n",
       "protocol_type_icmp    4.626508e-02\n",
       "protocol_type_tcp     8.374734e-01\n",
       "protocol_type_udp     1.162615e-01\n",
       "p-value               1.440413e-02\n",
       "Length: 122, dtype: float64"
      ]
     },
     "execution_count": 249,
     "metadata": {},
     "output_type": "execute_result"
    }
   ],
   "source": [
    "\n",
    "\n",
    "# For loop to get the distance for all the variables\n",
    "mahal_dist = []\n",
    "\n",
    "for i in range(data_array_test_ss.shape[0]):\n",
    "    x_minus_mu_test = data_array_test_ss[i,:] - mu_vec_test\n",
    "    left_term_test = np.dot(x_minus_mu_test, inv_cormat)\n",
    "    mahal = np.dot(left_term_test, x_minus_mu_test.T)\n",
    "    mahal = np.sqrt(mahal)\n",
    "    mahal_dist.append(mahal)\n",
    "\n",
    "np.mean(test_one_hot_data_maha_ss)"
   ]
  },
  {
   "cell_type": "code",
   "execution_count": 250,
   "id": "7e89b77e",
   "metadata": {},
   "outputs": [
    {
     "name": "stdout",
     "output_type": "stream",
     "text": [
      "14590\n"
     ]
    },
    {
     "name": "stderr",
     "output_type": "stream",
     "text": [
      "C:\\Users\\khxia\\AppData\\Local\\Temp\\ipykernel_25856\\3140115265.py:2: SettingWithCopyWarning: \n",
      "A value is trying to be set on a copy of a slice from a DataFrame.\n",
      "Try using .loc[row_indexer,col_indexer] = value instead\n",
      "\n",
      "See the caveats in the documentation: https://pandas.pydata.org/pandas-docs/stable/user_guide/indexing.html#returning-a-view-versus-a-copy\n",
      "  test_one_hot_data_maha_ss['p-value'] = 1 - chi2.cdf(mahal_dist, df = 1) #pdf(x, degreeOfFreedom = Number of Variables)\n"
     ]
    }
   ],
   "source": [
    "\n",
    "from scipy.stats import chi2\n",
    "test_one_hot_data_maha_ss['p-value'] = 1 - chi2.cdf(mahal_dist, df = 1) #pdf(x, degreeOfFreedom = Number of Variables)\n",
    "\n",
    "#Calculate number of p-value less than 0.01\n",
    "print(np.count_nonzero(test_one_hot_data_maha_ss['p-value'] < 0.01))"
   ]
  },
  {
   "cell_type": "code",
   "execution_count": null,
   "id": "5d50c51a",
   "metadata": {},
   "outputs": [],
   "source": []
  },
  {
   "cell_type": "code",
   "execution_count": null,
   "id": "4d212182",
   "metadata": {},
   "outputs": [],
   "source": []
  },
  {
   "cell_type": "code",
   "execution_count": null,
   "id": "25eab4b3",
   "metadata": {},
   "outputs": [],
   "source": []
  },
  {
   "cell_type": "code",
   "execution_count": 253,
   "id": "fe410bb2",
   "metadata": {},
   "outputs": [],
   "source": [
    "# def unique(list1):\n",
    " \n",
    "#     # initialize a null list\n",
    "#     unique_list = []\n",
    " \n",
    "#     # traverse for all elements\n",
    "#     for x in list1:\n",
    "#         # check if exists in unique_list or not\n",
    "#         if x not in unique_list:\n",
    "#             unique_list.append(x)\n",
    "#     # print list\n",
    "#     for x in unique_list:\n",
    "#         print (x)"
   ]
  },
  {
   "cell_type": "code",
   "execution_count": null,
   "id": "f51f159a",
   "metadata": {},
   "outputs": [],
   "source": []
  },
  {
   "cell_type": "code",
   "execution_count": 254,
   "id": "1699c876",
   "metadata": {},
   "outputs": [
    {
     "name": "stdout",
     "output_type": "stream",
     "text": [
      "Training accuracy: 0.8891\n",
      "[[ 7582  2129]\n",
      " [  372 12461]]\n"
     ]
    }
   ],
   "source": [
    "pvalue_test_ss = test_one_hot_data_maha_ss['p-value']\n",
    "bi_pvalue_test_ss = pvalue_test_ss\n",
    "\n",
    "bi_pvalue_test_ss = np.where(pvalue_test_ss < 0.01, 1, bi_pvalue_test_ss)\n",
    "bi_pvalue_test_ss = np.where(pvalue_test_ss >= 0.01, 0, bi_pvalue_test_ss)\n",
    "\n",
    "from sklearn.metrics import accuracy_score\n",
    "\n",
    "test_acc_maha_ss = accuracy_score(kdd_test_y['class_binary'], bi_pvalue_test_ss)\n",
    "print(\"Training accuracy: {:.4f}\".format(test_acc_maha_ss))\n",
    "cm_maha_test_ss = confusion_matrix (kdd_test_y[\"class_binary\"], bi_pvalue_test_ss)\n",
    "print(cm_maha_test_ss)"
   ]
  },
  {
   "cell_type": "code",
   "execution_count": 255,
   "id": "0bfbf310",
   "metadata": {},
   "outputs": [
    {
     "data": {
      "text/plain": [
       "Text(0.5, 1.0, 'Seaborn Confusion Matrix with labels\\n\\n')"
      ]
     },
     "execution_count": 255,
     "metadata": {},
     "output_type": "execute_result"
    },
    {
     "data": {
      "text/plain": [
       "Text(0.5, 15.0, '\\nPredicted Values')"
      ]
     },
     "execution_count": 255,
     "metadata": {},
     "output_type": "execute_result"
    },
    {
     "data": {
      "text/plain": [
       "Text(33.0, 0.5, 'Actual Values ')"
      ]
     },
     "execution_count": 255,
     "metadata": {},
     "output_type": "execute_result"
    },
    {
     "data": {
      "text/plain": [
       "[Text(0.5, 0, 'True'), Text(1.5, 0, 'False')]"
      ]
     },
     "execution_count": 255,
     "metadata": {},
     "output_type": "execute_result"
    },
    {
     "data": {
      "text/plain": [
       "[Text(0, 0.5, 'True'), Text(0, 1.5, 'False')]"
      ]
     },
     "execution_count": 255,
     "metadata": {},
     "output_type": "execute_result"
    },
    {
     "data": {
      "image/png": "[encoded data removed]",
      "text/plain": [
       "<Figure size 432x288 with 2 Axes>"
      ]
     },
     "metadata": {
      "needs_background": "light"
     },
     "output_type": "display_data"
    },
    {
     "name": "stdout",
     "output_type": "stream",
     "text": [
      "Precision =  0.85407813570939\n",
      "Recall =  0.9710122340840022\n"
     ]
    }
   ],
   "source": [
    "ax = sns.heatmap(cm_maha_test_ss, annot=True, cmap='Blues')\n",
    "\n",
    "ax.set_title('Seaborn Confusion Matrix with labels\\n\\n');\n",
    "ax.set_xlabel('\\nPredicted Values')\n",
    "ax.set_ylabel('Actual Values ');\n",
    "\n",
    "## Ticket labels - List must be in alphabetical order\n",
    "ax.xaxis.set_ticklabels(['True','False'])\n",
    "ax.yaxis.set_ticklabels(['True','False'])\n",
    "\n",
    "## Display the visualization of the Confusion Matrix.\n",
    "plt.show()\n",
    "\n",
    "\n",
    "## FP,FN,TP,TN\n",
    "TN_maha_test = cm_maha_test_ss[0][0]\n",
    "FN_maha_test = cm_maha_test_ss[1][0]\n",
    "FP_maha_test = cm_maha_test_ss[0][1]\n",
    "TP_maha_test = cm_maha_test_ss[1][1]\n",
    "\n",
    "##Precision and Recall\n",
    "Precision_maha_test_ss = TP_maha_test/(TP_maha_test+FP_maha_test)\n",
    "Recall_maha_test_ss = TP_maha_test/(TP_maha_test+FN_maha_test)\n",
    "\n",
    "print (\"Precision = \",Precision_maha_test_ss)\n",
    "print (\"Recall = \",Recall_maha_test_ss)"
   ]
  },
  {
   "cell_type": "markdown",
   "id": "7a8d8d0c",
   "metadata": {},
   "source": [
    "# Mahalanobis Testing (PCA)"
   ]
  },
  {
   "cell_type": "code",
   "execution_count": 299,
   "id": "829b7282",
   "metadata": {},
   "outputs": [
    {
     "name": "stderr",
     "output_type": "stream",
     "text": [
      "C:\\WINDOWS\\system32\\myenv\\lib\\site-packages\\numpy\\core\\fromnumeric.py:3430: FutureWarning: In a future version, DataFrame.mean(axis=None) will return a scalar mean over the entire DataFrame. To retain the old behavior, use 'frame.mean(axis=0)' or just 'frame.mean()'\n",
      "  return mean(axis=axis, dtype=dtype, out=out, **kwargs)\n"
     ]
    },
    {
     "data": {
      "text/plain": [
       "Variable 0    -1.208717e-16\n",
       "Variable 1    -1.424615e-16\n",
       "Variable 2     5.673248e-17\n",
       "Variable 3    -1.197686e-16\n",
       "Variable 4     1.002274e-16\n",
       "Variable 5    -5.484139e-17\n",
       "Variable 6     6.555753e-17\n",
       "Variable 7     2.836624e-17\n",
       "Variable 8    -2.962696e-16\n",
       "Variable 9     1.569598e-16\n",
       "Variable 10    3.433891e-16\n",
       "Variable 11    1.531777e-16\n",
       "Variable 12    4.135167e-16\n",
       "Variable 13   -1.027488e-16\n",
       "Variable 14   -4.790742e-16\n",
       "Variable 15   -2.729462e-16\n",
       "Variable 16    8.320763e-17\n",
       "Variable 17   -5.236723e-16\n",
       "Variable 18    4.294333e-16\n",
       "Variable 19   -4.923118e-16\n",
       "Variable 20   -4.883721e-16\n",
       "Variable 21    8.210450e-16\n",
       "Variable 22   -2.174745e-16\n",
       "Variable 23    1.926068e-15\n",
       "Variable 24    4.248632e-16\n",
       "p-value        9.623396e-02\n",
       "dtype: float64"
      ]
     },
     "execution_count": 299,
     "metadata": {},
     "output_type": "execute_result"
    },
    {
     "name": "stdout",
     "output_type": "stream",
     "text": [
      "1159\n"
     ]
    }
   ],
   "source": [
    "mu_vec_pca_test = np.mean(data_array_test,axis = 0)\n",
    "inv_cormat_pca_test = sp.linalg.pinv(np.cov(data_array_test, rowvar=False))\n",
    "\n",
    "# For loop to get the distance for all the variables\n",
    "mahal_dist = []\n",
    "\n",
    "for i in range(data_array_test_ss.shape[0]):\n",
    "    x_minus_mu_pca_test = data_array_test[i,:] - mu_vec_pca_test\n",
    "    left_term_pca_test = np.dot(x_minus_mu_pca_test, inv_cormat_pca)\n",
    "    mahal = np.dot(left_term_pca_test, x_minus_mu_pca_test.T)\n",
    "    mahal = np.sqrt(mahal)\n",
    "    mahal_dist.append(mahal)\n",
    "\n",
    "np.mean(test_one_hot_data_maha)\n",
    "\n",
    "from scipy.stats import chi2\n",
    "test_one_hot_data_maha['p-value'] = 1 - chi2.cdf(mahal_dist, df = 1) #pdf(x, degreeOfFreedom = Number of Variables)\n",
    "\n",
    "#Calculate number of p-value less than 0.01\n",
    "print(np.count_nonzero(test_one_hot_data_maha['p-value'] < 0.01))"
   ]
  },
  {
   "cell_type": "code",
   "execution_count": 300,
   "id": "2a380671",
   "metadata": {},
   "outputs": [
    {
     "name": "stdout",
     "output_type": "stream",
     "text": [
      "Training accuracy: 0.4628\n",
      "[[ 9493   218]\n",
      " [11892   941]]\n"
     ]
    }
   ],
   "source": [
    "pvalue_test = test_one_hot_data_maha['p-value']\n",
    "bi_pvalue_test = pvalue_test\n",
    "\n",
    "bi_pvalue_test = np.where(pvalue_test < 0.01, 1, bi_pvalue_test)\n",
    "bi_pvalue_test = np.where(pvalue_test >= 0.01, 0, bi_pvalue_test)\n",
    "\n",
    "from sklearn.metrics import accuracy_score\n",
    "\n",
    "test_acc_maha = accuracy_score(kdd_test_y['class_binary'], bi_pvalue_test)\n",
    "print(\"Training accuracy: {:.4f}\".format(test_acc_maha))\n",
    "cm_maha_test = confusion_matrix (kdd_test_y[\"class_binary\"], bi_pvalue_test)\n",
    "print(cm_maha_test)"
   ]
  },
  {
   "cell_type": "code",
   "execution_count": 258,
   "id": "8fda6cf8",
   "metadata": {},
   "outputs": [
    {
     "data": {
      "text/plain": [
       "Text(0.5, 1.0, 'Seaborn Confusion Matrix with labels\\n\\n')"
      ]
     },
     "execution_count": 258,
     "metadata": {},
     "output_type": "execute_result"
    },
    {
     "data": {
      "text/plain": [
       "Text(0.5, 15.0, '\\nPredicted Values')"
      ]
     },
     "execution_count": 258,
     "metadata": {},
     "output_type": "execute_result"
    },
    {
     "data": {
      "text/plain": [
       "Text(33.0, 0.5, 'Actual Values ')"
      ]
     },
     "execution_count": 258,
     "metadata": {},
     "output_type": "execute_result"
    },
    {
     "data": {
      "text/plain": [
       "[Text(0.5, 0, 'True'), Text(1.5, 0, 'False')]"
      ]
     },
     "execution_count": 258,
     "metadata": {},
     "output_type": "execute_result"
    },
    {
     "data": {
      "text/plain": [
       "[Text(0, 0.5, 'True'), Text(0, 1.5, 'False')]"
      ]
     },
     "execution_count": 258,
     "metadata": {},
     "output_type": "execute_result"
    },
    {
     "data": {
      "image/png": "[encoded data removed]",
      "text/plain": [
       "<Figure size 432x288 with 2 Axes>"
      ]
     },
     "metadata": {
      "needs_background": "light"
     },
     "output_type": "display_data"
    },
    {
     "name": "stdout",
     "output_type": "stream",
     "text": [
      "Precision =  0.8119068162208801\n",
      "Recall =  0.07332657991116652\n"
     ]
    }
   ],
   "source": [
    "ax = sns.heatmap(cm_maha_test, annot=True, cmap='Blues')\n",
    "\n",
    "ax.set_title('Seaborn Confusion Matrix with labels\\n\\n');\n",
    "ax.set_xlabel('\\nPredicted Values')\n",
    "ax.set_ylabel('Actual Values ');\n",
    "\n",
    "## Ticket labels - List must be in alphabetical order\n",
    "ax.xaxis.set_ticklabels(['True','False'])\n",
    "ax.yaxis.set_ticklabels(['True','False'])\n",
    "\n",
    "## Display the visualization of the Confusion Matrix.\n",
    "plt.show()\n",
    "\n",
    "\n",
    "## FP,FN,TP,TN\n",
    "TN_maha_test = cm_maha_test[0][0]\n",
    "FN_maha_test = cm_maha_test[1][0]\n",
    "FP_maha_test = cm_maha_test[0][1]\n",
    "TP_maha_test = cm_maha_test[1][1]\n",
    "\n",
    "##Precision and Recall\n",
    "Precision_maha_test = TP_maha_test/(TP_maha_test+FP_maha_test)\n",
    "Recall_maha_test = TP_maha_test/(TP_maha_test+FN_maha_test)\n",
    "\n",
    "print (\"Precision = \",Precision_maha_test)\n",
    "print (\"Recall = \",Recall_maha_test)"
   ]
  },
  {
   "cell_type": "code",
   "execution_count": 259,
   "id": "f1b1c37c",
   "metadata": {},
   "outputs": [
    {
     "data": {
      "text/plain": [
       "218"
      ]
     },
     "execution_count": 259,
     "metadata": {},
     "output_type": "execute_result"
    }
   ],
   "source": [
    "FP_maha_test"
   ]
  },
  {
   "cell_type": "markdown",
   "id": "0fb9e199",
   "metadata": {},
   "source": [
    "# Isolation Forest Testing (Without PCA)"
   ]
  },
  {
   "cell_type": "code",
   "execution_count": 147,
   "id": "34307cd3",
   "metadata": {},
   "outputs": [],
   "source": [
    "model_if_ss = joblib.load('model_if_ss.sav')"
   ]
  },
  {
   "cell_type": "code",
   "execution_count": 148,
   "id": "9593a97e",
   "metadata": {},
   "outputs": [],
   "source": [
    "test_one_hot_data_if_ss = test_one_hot_data_ss.drop(['p-value'],axis=1)"
   ]
  },
  {
   "cell_type": "code",
   "execution_count": 149,
   "id": "8326348f",
   "metadata": {},
   "outputs": [
    {
     "data": {
      "text/html": [
       "<div>\n",
       "<style scoped>\n",
       "    .dataframe tbody tr th:only-of-type {\n",
       "        vertical-align: middle;\n",
       "    }\n",
       "\n",
       "    .dataframe tbody tr th {\n",
       "        vertical-align: top;\n",
       "    }\n",
       "\n",
       "    .dataframe thead th {\n",
       "        text-align: right;\n",
       "    }\n",
       "</style>\n",
       "<table border=\"1\" class=\"dataframe\">\n",
       "  <thead>\n",
       "    <tr style=\"text-align: right;\">\n",
       "      <th></th>\n",
       "      <th>duration</th>\n",
       "      <th>src_bytes</th>\n",
       "      <th>dst_bytes</th>\n",
       "      <th>land</th>\n",
       "      <th>wrong_fragment</th>\n",
       "      <th>urgent</th>\n",
       "      <th>hot</th>\n",
       "      <th>num_failed_logins</th>\n",
       "      <th>logged_in</th>\n",
       "      <th>num_compromised</th>\n",
       "      <th>...</th>\n",
       "      <th>flag_RSTR</th>\n",
       "      <th>flag_S0</th>\n",
       "      <th>flag_S1</th>\n",
       "      <th>flag_S2</th>\n",
       "      <th>flag_S3</th>\n",
       "      <th>flag_SF</th>\n",
       "      <th>flag_SH</th>\n",
       "      <th>protocol_type_icmp</th>\n",
       "      <th>protocol_type_tcp</th>\n",
       "      <th>protocol_type_udp</th>\n",
       "    </tr>\n",
       "  </thead>\n",
       "  <tbody>\n",
       "    <tr>\n",
       "      <th>0</th>\n",
       "      <td>-0.155534</td>\n",
       "      <td>-0.021988</td>\n",
       "      <td>-0.096896</td>\n",
       "      <td>-0.017624</td>\n",
       "      <td>-0.059104</td>\n",
       "      <td>-0.019459</td>\n",
       "      <td>-0.113521</td>\n",
       "      <td>-0.143999</td>\n",
       "      <td>-0.890373</td>\n",
       "      <td>-0.016494</td>\n",
       "      <td>...</td>\n",
       "      <td>0</td>\n",
       "      <td>0</td>\n",
       "      <td>0</td>\n",
       "      <td>0</td>\n",
       "      <td>0</td>\n",
       "      <td>0</td>\n",
       "      <td>0</td>\n",
       "      <td>0</td>\n",
       "      <td>1</td>\n",
       "      <td>0</td>\n",
       "    </tr>\n",
       "    <tr>\n",
       "      <th>1</th>\n",
       "      <td>-0.155534</td>\n",
       "      <td>-0.021988</td>\n",
       "      <td>-0.096896</td>\n",
       "      <td>-0.017624</td>\n",
       "      <td>-0.059104</td>\n",
       "      <td>-0.019459</td>\n",
       "      <td>-0.113521</td>\n",
       "      <td>-0.143999</td>\n",
       "      <td>-0.890373</td>\n",
       "      <td>-0.016494</td>\n",
       "      <td>...</td>\n",
       "      <td>0</td>\n",
       "      <td>0</td>\n",
       "      <td>0</td>\n",
       "      <td>0</td>\n",
       "      <td>0</td>\n",
       "      <td>0</td>\n",
       "      <td>0</td>\n",
       "      <td>0</td>\n",
       "      <td>1</td>\n",
       "      <td>0</td>\n",
       "    </tr>\n",
       "    <tr>\n",
       "      <th>2</th>\n",
       "      <td>-0.154113</td>\n",
       "      <td>0.005473</td>\n",
       "      <td>-0.096896</td>\n",
       "      <td>-0.017624</td>\n",
       "      <td>-0.059104</td>\n",
       "      <td>-0.019459</td>\n",
       "      <td>-0.113521</td>\n",
       "      <td>-0.143999</td>\n",
       "      <td>-0.890373</td>\n",
       "      <td>-0.016494</td>\n",
       "      <td>...</td>\n",
       "      <td>0</td>\n",
       "      <td>0</td>\n",
       "      <td>0</td>\n",
       "      <td>0</td>\n",
       "      <td>0</td>\n",
       "      <td>1</td>\n",
       "      <td>0</td>\n",
       "      <td>0</td>\n",
       "      <td>1</td>\n",
       "      <td>0</td>\n",
       "    </tr>\n",
       "    <tr>\n",
       "      <th>3</th>\n",
       "      <td>-0.155534</td>\n",
       "      <td>-0.021946</td>\n",
       "      <td>-0.096896</td>\n",
       "      <td>-0.017624</td>\n",
       "      <td>-0.059104</td>\n",
       "      <td>-0.019459</td>\n",
       "      <td>-0.113521</td>\n",
       "      <td>-0.143999</td>\n",
       "      <td>-0.890373</td>\n",
       "      <td>-0.016494</td>\n",
       "      <td>...</td>\n",
       "      <td>0</td>\n",
       "      <td>0</td>\n",
       "      <td>0</td>\n",
       "      <td>0</td>\n",
       "      <td>0</td>\n",
       "      <td>1</td>\n",
       "      <td>0</td>\n",
       "      <td>1</td>\n",
       "      <td>0</td>\n",
       "      <td>0</td>\n",
       "    </tr>\n",
       "    <tr>\n",
       "      <th>4</th>\n",
       "      <td>-0.154823</td>\n",
       "      <td>-0.021988</td>\n",
       "      <td>-0.096189</td>\n",
       "      <td>-0.017624</td>\n",
       "      <td>-0.059104</td>\n",
       "      <td>-0.019459</td>\n",
       "      <td>-0.113521</td>\n",
       "      <td>-0.143999</td>\n",
       "      <td>-0.890373</td>\n",
       "      <td>-0.016494</td>\n",
       "      <td>...</td>\n",
       "      <td>0</td>\n",
       "      <td>0</td>\n",
       "      <td>0</td>\n",
       "      <td>0</td>\n",
       "      <td>0</td>\n",
       "      <td>0</td>\n",
       "      <td>0</td>\n",
       "      <td>0</td>\n",
       "      <td>1</td>\n",
       "      <td>0</td>\n",
       "    </tr>\n",
       "    <tr>\n",
       "      <th>...</th>\n",
       "      <td>...</td>\n",
       "      <td>...</td>\n",
       "      <td>...</td>\n",
       "      <td>...</td>\n",
       "      <td>...</td>\n",
       "      <td>...</td>\n",
       "      <td>...</td>\n",
       "      <td>...</td>\n",
       "      <td>...</td>\n",
       "      <td>...</td>\n",
       "      <td>...</td>\n",
       "      <td>...</td>\n",
       "      <td>...</td>\n",
       "      <td>...</td>\n",
       "      <td>...</td>\n",
       "      <td>...</td>\n",
       "      <td>...</td>\n",
       "      <td>...</td>\n",
       "      <td>...</td>\n",
       "      <td>...</td>\n",
       "      <td>...</td>\n",
       "    </tr>\n",
       "    <tr>\n",
       "      <th>22539</th>\n",
       "      <td>-0.155534</td>\n",
       "      <td>-0.020309</td>\n",
       "      <td>-0.081202</td>\n",
       "      <td>-0.017624</td>\n",
       "      <td>-0.059104</td>\n",
       "      <td>-0.019459</td>\n",
       "      <td>-0.113521</td>\n",
       "      <td>-0.143999</td>\n",
       "      <td>1.123125</td>\n",
       "      <td>-0.016494</td>\n",
       "      <td>...</td>\n",
       "      <td>0</td>\n",
       "      <td>0</td>\n",
       "      <td>0</td>\n",
       "      <td>0</td>\n",
       "      <td>0</td>\n",
       "      <td>1</td>\n",
       "      <td>0</td>\n",
       "      <td>0</td>\n",
       "      <td>1</td>\n",
       "      <td>0</td>\n",
       "    </tr>\n",
       "    <tr>\n",
       "      <th>22540</th>\n",
       "      <td>-0.155534</td>\n",
       "      <td>-0.021318</td>\n",
       "      <td>-0.052690</td>\n",
       "      <td>-0.017624</td>\n",
       "      <td>-0.059104</td>\n",
       "      <td>-0.019459</td>\n",
       "      <td>-0.113521</td>\n",
       "      <td>-0.143999</td>\n",
       "      <td>1.123125</td>\n",
       "      <td>-0.016494</td>\n",
       "      <td>...</td>\n",
       "      <td>0</td>\n",
       "      <td>0</td>\n",
       "      <td>0</td>\n",
       "      <td>0</td>\n",
       "      <td>0</td>\n",
       "      <td>1</td>\n",
       "      <td>0</td>\n",
       "      <td>0</td>\n",
       "      <td>1</td>\n",
       "      <td>0</td>\n",
       "    </tr>\n",
       "    <tr>\n",
       "      <th>22541</th>\n",
       "      <td>-0.155534</td>\n",
       "      <td>0.093373</td>\n",
       "      <td>0.294926</td>\n",
       "      <td>-0.017624</td>\n",
       "      <td>-0.059104</td>\n",
       "      <td>-0.019459</td>\n",
       "      <td>2.040705</td>\n",
       "      <td>-0.143999</td>\n",
       "      <td>1.123125</td>\n",
       "      <td>0.121069</td>\n",
       "      <td>...</td>\n",
       "      <td>0</td>\n",
       "      <td>0</td>\n",
       "      <td>0</td>\n",
       "      <td>0</td>\n",
       "      <td>0</td>\n",
       "      <td>1</td>\n",
       "      <td>0</td>\n",
       "      <td>0</td>\n",
       "      <td>1</td>\n",
       "      <td>0</td>\n",
       "    </tr>\n",
       "    <tr>\n",
       "      <th>22542</th>\n",
       "      <td>-0.155534</td>\n",
       "      <td>-0.021899</td>\n",
       "      <td>-0.094917</td>\n",
       "      <td>-0.017624</td>\n",
       "      <td>-0.059104</td>\n",
       "      <td>-0.019459</td>\n",
       "      <td>-0.113521</td>\n",
       "      <td>-0.143999</td>\n",
       "      <td>-0.890373</td>\n",
       "      <td>-0.016494</td>\n",
       "      <td>...</td>\n",
       "      <td>0</td>\n",
       "      <td>0</td>\n",
       "      <td>0</td>\n",
       "      <td>0</td>\n",
       "      <td>0</td>\n",
       "      <td>1</td>\n",
       "      <td>0</td>\n",
       "      <td>0</td>\n",
       "      <td>0</td>\n",
       "      <td>1</td>\n",
       "    </tr>\n",
       "    <tr>\n",
       "      <th>22543</th>\n",
       "      <td>-0.155534</td>\n",
       "      <td>-0.021988</td>\n",
       "      <td>-0.096896</td>\n",
       "      <td>-0.017624</td>\n",
       "      <td>-0.059104</td>\n",
       "      <td>-0.019459</td>\n",
       "      <td>-0.113521</td>\n",
       "      <td>-0.143999</td>\n",
       "      <td>-0.890373</td>\n",
       "      <td>-0.016494</td>\n",
       "      <td>...</td>\n",
       "      <td>0</td>\n",
       "      <td>0</td>\n",
       "      <td>0</td>\n",
       "      <td>0</td>\n",
       "      <td>0</td>\n",
       "      <td>0</td>\n",
       "      <td>0</td>\n",
       "      <td>0</td>\n",
       "      <td>1</td>\n",
       "      <td>0</td>\n",
       "    </tr>\n",
       "  </tbody>\n",
       "</table>\n",
       "<p>22544 rows × 121 columns</p>\n",
       "</div>"
      ],
      "text/plain": [
       "       duration  src_bytes  dst_bytes      land  wrong_fragment    urgent  \\\n",
       "0     -0.155534  -0.021988  -0.096896 -0.017624       -0.059104 -0.019459   \n",
       "1     -0.155534  -0.021988  -0.096896 -0.017624       -0.059104 -0.019459   \n",
       "2     -0.154113   0.005473  -0.096896 -0.017624       -0.059104 -0.019459   \n",
       "3     -0.155534  -0.021946  -0.096896 -0.017624       -0.059104 -0.019459   \n",
       "4     -0.154823  -0.021988  -0.096189 -0.017624       -0.059104 -0.019459   \n",
       "...         ...        ...        ...       ...             ...       ...   \n",
       "22539 -0.155534  -0.020309  -0.081202 -0.017624       -0.059104 -0.019459   \n",
       "22540 -0.155534  -0.021318  -0.052690 -0.017624       -0.059104 -0.019459   \n",
       "22541 -0.155534   0.093373   0.294926 -0.017624       -0.059104 -0.019459   \n",
       "22542 -0.155534  -0.021899  -0.094917 -0.017624       -0.059104 -0.019459   \n",
       "22543 -0.155534  -0.021988  -0.096896 -0.017624       -0.059104 -0.019459   \n",
       "\n",
       "            hot  num_failed_logins  logged_in  num_compromised  ...  \\\n",
       "0     -0.113521          -0.143999  -0.890373        -0.016494  ...   \n",
       "1     -0.113521          -0.143999  -0.890373        -0.016494  ...   \n",
       "2     -0.113521          -0.143999  -0.890373        -0.016494  ...   \n",
       "3     -0.113521          -0.143999  -0.890373        -0.016494  ...   \n",
       "4     -0.113521          -0.143999  -0.890373        -0.016494  ...   \n",
       "...         ...                ...        ...              ...  ...   \n",
       "22539 -0.113521          -0.143999   1.123125        -0.016494  ...   \n",
       "22540 -0.113521          -0.143999   1.123125        -0.016494  ...   \n",
       "22541  2.040705          -0.143999   1.123125         0.121069  ...   \n",
       "22542 -0.113521          -0.143999  -0.890373        -0.016494  ...   \n",
       "22543 -0.113521          -0.143999  -0.890373        -0.016494  ...   \n",
       "\n",
       "       flag_RSTR  flag_S0  flag_S1  flag_S2  flag_S3  flag_SF  flag_SH  \\\n",
       "0              0        0        0        0        0        0        0   \n",
       "1              0        0        0        0        0        0        0   \n",
       "2              0        0        0        0        0        1        0   \n",
       "3              0        0        0        0        0        1        0   \n",
       "4              0        0        0        0        0        0        0   \n",
       "...          ...      ...      ...      ...      ...      ...      ...   \n",
       "22539          0        0        0        0        0        1        0   \n",
       "22540          0        0        0        0        0        1        0   \n",
       "22541          0        0        0        0        0        1        0   \n",
       "22542          0        0        0        0        0        1        0   \n",
       "22543          0        0        0        0        0        0        0   \n",
       "\n",
       "       protocol_type_icmp  protocol_type_tcp  protocol_type_udp  \n",
       "0                       0                  1                  0  \n",
       "1                       0                  1                  0  \n",
       "2                       0                  1                  0  \n",
       "3                       1                  0                  0  \n",
       "4                       0                  1                  0  \n",
       "...                   ...                ...                ...  \n",
       "22539                   0                  1                  0  \n",
       "22540                   0                  1                  0  \n",
       "22541                   0                  1                  0  \n",
       "22542                   0                  0                  1  \n",
       "22543                   0                  1                  0  \n",
       "\n",
       "[22544 rows x 121 columns]"
      ]
     },
     "execution_count": 149,
     "metadata": {},
     "output_type": "execute_result"
    }
   ],
   "source": [
    "test_one_hot_data_if_ss"
   ]
  },
  {
   "cell_type": "code",
   "execution_count": 150,
   "id": "aa39aa73",
   "metadata": {},
   "outputs": [
    {
     "name": "stderr",
     "output_type": "stream",
     "text": [
      "C:\\WINDOWS\\system32\\myenv\\lib\\site-packages\\sklearn\\base.py:443: UserWarning: X has feature names, but IsolationForest was fitted without feature names\n",
      "  warnings.warn(\n"
     ]
    }
   ],
   "source": [
    "y_pred_if_test_ss = model_if_ss.predict(test_one_hot_data_if_ss)"
   ]
  },
  {
   "cell_type": "code",
   "execution_count": 151,
   "id": "306db864",
   "metadata": {},
   "outputs": [
    {
     "name": "stdout",
     "output_type": "stream",
     "text": [
      "Training accuracy: 0.4917\n"
     ]
    }
   ],
   "source": [
    "#Evaluation on training result\n",
    "y_pred_if_test_ss = np.where(y_pred_if_test_ss == -1, 0, y_pred_if_test_ss)\n",
    "\n",
    "from sklearn.metrics import accuracy_score\n",
    "test_acc_if_ss = accuracy_score(kdd_test_y['class_binary'], y_pred_if_test_ss)\n",
    "print(\"Training accuracy: {:.4f}\".format(test_acc_if_ss))"
   ]
  },
  {
   "cell_type": "code",
   "execution_count": 152,
   "id": "8a881cc5",
   "metadata": {},
   "outputs": [
    {
     "name": "stdout",
     "output_type": "stream",
     "text": [
      "[[   78  9633]\n",
      " [ 1827 11006]]\n"
     ]
    },
    {
     "data": {
      "text/plain": [
       "Text(0.5, 1.0, 'Seaborn Confusion Matrix with labels\\n\\n')"
      ]
     },
     "execution_count": 152,
     "metadata": {},
     "output_type": "execute_result"
    },
    {
     "data": {
      "text/plain": [
       "Text(0.5, 15.0, '\\nPredicted Values')"
      ]
     },
     "execution_count": 152,
     "metadata": {},
     "output_type": "execute_result"
    },
    {
     "data": {
      "text/plain": [
       "Text(33.0, 0.5, 'Actual Values ')"
      ]
     },
     "execution_count": 152,
     "metadata": {},
     "output_type": "execute_result"
    },
    {
     "data": {
      "text/plain": [
       "[Text(0.5, 0, 'False'), Text(1.5, 0, 'True')]"
      ]
     },
     "execution_count": 152,
     "metadata": {},
     "output_type": "execute_result"
    },
    {
     "data": {
      "text/plain": [
       "[Text(0, 0.5, 'False'), Text(0, 1.5, 'True')]"
      ]
     },
     "execution_count": 152,
     "metadata": {},
     "output_type": "execute_result"
    },
    {
     "data": {
      "image/png": "[encoded data removed]",
      "text/plain": [
       "<Figure size 432x288 with 2 Axes>"
      ]
     },
     "metadata": {
      "needs_background": "light"
     },
     "output_type": "display_data"
    },
    {
     "name": "stdout",
     "output_type": "stream",
     "text": [
      "0.5332622704588401\n",
      "0.8576326657835268\n"
     ]
    }
   ],
   "source": [
    "cm_if_test_ss = confusion_matrix (kdd_test_y[\"class_binary\"], y_pred_if_test_ss)\n",
    "print(cm_if_test_ss)\n",
    "ax = sns.heatmap(cm_if_test_ss, annot=True, cmap='Blues')\n",
    "\n",
    "ax.set_title('Seaborn Confusion Matrix with labels\\n\\n');\n",
    "ax.set_xlabel('\\nPredicted Values')\n",
    "ax.set_ylabel('Actual Values ');\n",
    "\n",
    "## Ticket labels - List must be in alphabetical order\n",
    "ax.xaxis.set_ticklabels(['False','True'])\n",
    "ax.yaxis.set_ticklabels(['False','True'])\n",
    "\n",
    "## Display the visualization of the Confusion Matrix.\n",
    "plt.show()\n",
    "\n",
    "## FP,FN,TP,TN\n",
    "TN_if = cm_if_test_ss[0][0]\n",
    "FN_if = cm_if_test_ss[1][0]\n",
    "FP_if = cm_if_test_ss[0][1]\n",
    "TP_if = cm_if_test_ss[1][1]\n",
    "\n",
    "##Precision and Recall\n",
    "Precision_if_test_ss = TP_if/(TP_if+FP_if)\n",
    "Recall_if_test_ss = TP_if/(TP_if+FN_if)\n",
    "\n",
    "print (Precision_if_test_ss)\n",
    "print (Recall_if_test_ss)"
   ]
  },
  {
   "cell_type": "markdown",
   "id": "b6f7d309",
   "metadata": {},
   "source": [
    "# Isolation Forest Test With PCA"
   ]
  },
  {
   "cell_type": "code",
   "execution_count": 153,
   "id": "45bfc006",
   "metadata": {},
   "outputs": [],
   "source": [
    "model_if = joblib.load('model_if_pca.sav')"
   ]
  },
  {
   "cell_type": "code",
   "execution_count": 154,
   "id": "33de098b",
   "metadata": {},
   "outputs": [],
   "source": [
    "test_one_hot_data_if = test_one_hot_data_pca.drop(['p-value'],axis=1)"
   ]
  },
  {
   "cell_type": "code",
   "execution_count": 155,
   "id": "161edc76",
   "metadata": {},
   "outputs": [
    {
     "data": {
      "text/html": [
       "<div>\n",
       "<style scoped>\n",
       "    .dataframe tbody tr th:only-of-type {\n",
       "        vertical-align: middle;\n",
       "    }\n",
       "\n",
       "    .dataframe tbody tr th {\n",
       "        vertical-align: top;\n",
       "    }\n",
       "\n",
       "    .dataframe thead th {\n",
       "        text-align: right;\n",
       "    }\n",
       "</style>\n",
       "<table border=\"1\" class=\"dataframe\">\n",
       "  <thead>\n",
       "    <tr style=\"text-align: right;\">\n",
       "      <th></th>\n",
       "      <th>Variable 0</th>\n",
       "      <th>Variable 1</th>\n",
       "      <th>Variable 2</th>\n",
       "      <th>Variable 3</th>\n",
       "      <th>Variable 4</th>\n",
       "      <th>Variable 5</th>\n",
       "      <th>Variable 6</th>\n",
       "      <th>Variable 7</th>\n",
       "      <th>Variable 8</th>\n",
       "      <th>Variable 9</th>\n",
       "      <th>...</th>\n",
       "      <th>Variable 15</th>\n",
       "      <th>Variable 16</th>\n",
       "      <th>Variable 17</th>\n",
       "      <th>Variable 18</th>\n",
       "      <th>Variable 19</th>\n",
       "      <th>Variable 20</th>\n",
       "      <th>Variable 21</th>\n",
       "      <th>Variable 22</th>\n",
       "      <th>Variable 23</th>\n",
       "      <th>Variable 24</th>\n",
       "    </tr>\n",
       "  </thead>\n",
       "  <tbody>\n",
       "    <tr>\n",
       "      <th>0</th>\n",
       "      <td>1.678471</td>\n",
       "      <td>-0.872735</td>\n",
       "      <td>0.004462</td>\n",
       "      <td>0.120732</td>\n",
       "      <td>-0.347212</td>\n",
       "      <td>0.492001</td>\n",
       "      <td>0.395315</td>\n",
       "      <td>0.513245</td>\n",
       "      <td>-0.766786</td>\n",
       "      <td>-0.062395</td>\n",
       "      <td>...</td>\n",
       "      <td>0.087562</td>\n",
       "      <td>-0.038879</td>\n",
       "      <td>0.089034</td>\n",
       "      <td>0.014808</td>\n",
       "      <td>-0.188971</td>\n",
       "      <td>-0.241507</td>\n",
       "      <td>0.056346</td>\n",
       "      <td>0.496640</td>\n",
       "      <td>0.262575</td>\n",
       "      <td>0.138653</td>\n",
       "    </tr>\n",
       "    <tr>\n",
       "      <th>1</th>\n",
       "      <td>1.650825</td>\n",
       "      <td>-0.871036</td>\n",
       "      <td>0.022690</td>\n",
       "      <td>0.353080</td>\n",
       "      <td>-0.343112</td>\n",
       "      <td>0.335960</td>\n",
       "      <td>0.348479</td>\n",
       "      <td>0.469323</td>\n",
       "      <td>-0.854538</td>\n",
       "      <td>-0.026490</td>\n",
       "      <td>...</td>\n",
       "      <td>0.114285</td>\n",
       "      <td>-0.010820</td>\n",
       "      <td>0.145410</td>\n",
       "      <td>-0.009777</td>\n",
       "      <td>-0.598956</td>\n",
       "      <td>-0.375655</td>\n",
       "      <td>0.079058</td>\n",
       "      <td>0.296593</td>\n",
       "      <td>-0.032018</td>\n",
       "      <td>0.187080</td>\n",
       "    </tr>\n",
       "    <tr>\n",
       "      <th>2</th>\n",
       "      <td>-0.427776</td>\n",
       "      <td>-0.027269</td>\n",
       "      <td>-0.060373</td>\n",
       "      <td>-0.582328</td>\n",
       "      <td>0.404469</td>\n",
       "      <td>-0.682267</td>\n",
       "      <td>-0.200591</td>\n",
       "      <td>-0.123556</td>\n",
       "      <td>-0.589348</td>\n",
       "      <td>0.143092</td>\n",
       "      <td>...</td>\n",
       "      <td>0.237448</td>\n",
       "      <td>0.104159</td>\n",
       "      <td>0.405101</td>\n",
       "      <td>-0.178828</td>\n",
       "      <td>-1.405570</td>\n",
       "      <td>-1.652640</td>\n",
       "      <td>0.167053</td>\n",
       "      <td>-0.244760</td>\n",
       "      <td>-0.560929</td>\n",
       "      <td>0.151231</td>\n",
       "    </tr>\n",
       "    <tr>\n",
       "      <th>3</th>\n",
       "      <td>-0.761174</td>\n",
       "      <td>-0.208430</td>\n",
       "      <td>-0.118920</td>\n",
       "      <td>-1.318459</td>\n",
       "      <td>0.976188</td>\n",
       "      <td>-3.314352</td>\n",
       "      <td>0.566545</td>\n",
       "      <td>1.467813</td>\n",
       "      <td>-0.909148</td>\n",
       "      <td>-0.158969</td>\n",
       "      <td>...</td>\n",
       "      <td>-0.645070</td>\n",
       "      <td>0.286520</td>\n",
       "      <td>-1.667151</td>\n",
       "      <td>0.537777</td>\n",
       "      <td>-0.640798</td>\n",
       "      <td>0.353681</td>\n",
       "      <td>-0.069413</td>\n",
       "      <td>-0.619800</td>\n",
       "      <td>0.387078</td>\n",
       "      <td>0.831191</td>\n",
       "    </tr>\n",
       "    <tr>\n",
       "      <th>4</th>\n",
       "      <td>0.598909</td>\n",
       "      <td>-0.747321</td>\n",
       "      <td>0.025752</td>\n",
       "      <td>0.710066</td>\n",
       "      <td>-0.131553</td>\n",
       "      <td>-1.442168</td>\n",
       "      <td>0.498370</td>\n",
       "      <td>0.965455</td>\n",
       "      <td>-0.426954</td>\n",
       "      <td>-0.115367</td>\n",
       "      <td>...</td>\n",
       "      <td>-0.743812</td>\n",
       "      <td>0.298522</td>\n",
       "      <td>-1.560846</td>\n",
       "      <td>0.244325</td>\n",
       "      <td>0.749019</td>\n",
       "      <td>-1.549602</td>\n",
       "      <td>-0.039398</td>\n",
       "      <td>-1.909888</td>\n",
       "      <td>1.245669</td>\n",
       "      <td>-1.707417</td>\n",
       "    </tr>\n",
       "    <tr>\n",
       "      <th>...</th>\n",
       "      <td>...</td>\n",
       "      <td>...</td>\n",
       "      <td>...</td>\n",
       "      <td>...</td>\n",
       "      <td>...</td>\n",
       "      <td>...</td>\n",
       "      <td>...</td>\n",
       "      <td>...</td>\n",
       "      <td>...</td>\n",
       "      <td>...</td>\n",
       "      <td>...</td>\n",
       "      <td>...</td>\n",
       "      <td>...</td>\n",
       "      <td>...</td>\n",
       "      <td>...</td>\n",
       "      <td>...</td>\n",
       "      <td>...</td>\n",
       "      <td>...</td>\n",
       "      <td>...</td>\n",
       "      <td>...</td>\n",
       "      <td>...</td>\n",
       "    </tr>\n",
       "    <tr>\n",
       "      <th>22539</th>\n",
       "      <td>-0.677682</td>\n",
       "      <td>-0.135917</td>\n",
       "      <td>-0.011245</td>\n",
       "      <td>0.455168</td>\n",
       "      <td>-0.042928</td>\n",
       "      <td>-0.256884</td>\n",
       "      <td>-0.100000</td>\n",
       "      <td>-0.189836</td>\n",
       "      <td>0.184557</td>\n",
       "      <td>-0.148044</td>\n",
       "      <td>...</td>\n",
       "      <td>0.292900</td>\n",
       "      <td>0.011649</td>\n",
       "      <td>0.372113</td>\n",
       "      <td>-0.168499</td>\n",
       "      <td>0.037984</td>\n",
       "      <td>-0.879563</td>\n",
       "      <td>0.102332</td>\n",
       "      <td>0.689722</td>\n",
       "      <td>0.934579</td>\n",
       "      <td>0.089700</td>\n",
       "    </tr>\n",
       "    <tr>\n",
       "      <th>22540</th>\n",
       "      <td>-0.872991</td>\n",
       "      <td>-0.194655</td>\n",
       "      <td>-0.066623</td>\n",
       "      <td>0.452831</td>\n",
       "      <td>-0.413141</td>\n",
       "      <td>0.185445</td>\n",
       "      <td>0.112065</td>\n",
       "      <td>0.035403</td>\n",
       "      <td>0.523127</td>\n",
       "      <td>-0.197381</td>\n",
       "      <td>...</td>\n",
       "      <td>0.052443</td>\n",
       "      <td>0.030961</td>\n",
       "      <td>0.042609</td>\n",
       "      <td>-0.075227</td>\n",
       "      <td>0.008422</td>\n",
       "      <td>0.335104</td>\n",
       "      <td>-0.003836</td>\n",
       "      <td>-0.023295</td>\n",
       "      <td>0.180490</td>\n",
       "      <td>0.502420</td>\n",
       "    </tr>\n",
       "    <tr>\n",
       "      <th>22541</th>\n",
       "      <td>-0.814737</td>\n",
       "      <td>-0.235138</td>\n",
       "      <td>0.074933</td>\n",
       "      <td>0.712311</td>\n",
       "      <td>0.369909</td>\n",
       "      <td>0.794684</td>\n",
       "      <td>-0.066708</td>\n",
       "      <td>0.487747</td>\n",
       "      <td>0.673540</td>\n",
       "      <td>0.041892</td>\n",
       "      <td>...</td>\n",
       "      <td>-0.258330</td>\n",
       "      <td>-0.006817</td>\n",
       "      <td>-0.122758</td>\n",
       "      <td>-0.063016</td>\n",
       "      <td>-0.370471</td>\n",
       "      <td>0.833987</td>\n",
       "      <td>-0.274281</td>\n",
       "      <td>-0.387836</td>\n",
       "      <td>-0.042764</td>\n",
       "      <td>0.810355</td>\n",
       "    </tr>\n",
       "    <tr>\n",
       "      <th>22542</th>\n",
       "      <td>-0.618400</td>\n",
       "      <td>-0.099512</td>\n",
       "      <td>-0.112588</td>\n",
       "      <td>-0.139796</td>\n",
       "      <td>-0.299245</td>\n",
       "      <td>0.215217</td>\n",
       "      <td>-0.019459</td>\n",
       "      <td>-0.011097</td>\n",
       "      <td>0.042121</td>\n",
       "      <td>-0.007055</td>\n",
       "      <td>...</td>\n",
       "      <td>-0.290913</td>\n",
       "      <td>0.188055</td>\n",
       "      <td>-0.449199</td>\n",
       "      <td>0.018744</td>\n",
       "      <td>-1.882945</td>\n",
       "      <td>0.507437</td>\n",
       "      <td>0.082619</td>\n",
       "      <td>-0.368431</td>\n",
       "      <td>0.264819</td>\n",
       "      <td>-2.208291</td>\n",
       "    </tr>\n",
       "    <tr>\n",
       "      <th>22543</th>\n",
       "      <td>1.463070</td>\n",
       "      <td>-0.999785</td>\n",
       "      <td>0.020018</td>\n",
       "      <td>0.694845</td>\n",
       "      <td>-0.080750</td>\n",
       "      <td>-1.468044</td>\n",
       "      <td>0.126210</td>\n",
       "      <td>0.357275</td>\n",
       "      <td>1.220112</td>\n",
       "      <td>-0.285096</td>\n",
       "      <td>...</td>\n",
       "      <td>-1.250809</td>\n",
       "      <td>0.134693</td>\n",
       "      <td>-2.210278</td>\n",
       "      <td>0.421481</td>\n",
       "      <td>-0.685136</td>\n",
       "      <td>0.938789</td>\n",
       "      <td>-0.024303</td>\n",
       "      <td>1.005543</td>\n",
       "      <td>-2.329555</td>\n",
       "      <td>0.181016</td>\n",
       "    </tr>\n",
       "  </tbody>\n",
       "</table>\n",
       "<p>22544 rows × 25 columns</p>\n",
       "</div>"
      ],
      "text/plain": [
       "       Variable 0  Variable 1  Variable 2  Variable 3  Variable 4  Variable 5  \\\n",
       "0        1.678471   -0.872735    0.004462    0.120732   -0.347212    0.492001   \n",
       "1        1.650825   -0.871036    0.022690    0.353080   -0.343112    0.335960   \n",
       "2       -0.427776   -0.027269   -0.060373   -0.582328    0.404469   -0.682267   \n",
       "3       -0.761174   -0.208430   -0.118920   -1.318459    0.976188   -3.314352   \n",
       "4        0.598909   -0.747321    0.025752    0.710066   -0.131553   -1.442168   \n",
       "...           ...         ...         ...         ...         ...         ...   \n",
       "22539   -0.677682   -0.135917   -0.011245    0.455168   -0.042928   -0.256884   \n",
       "22540   -0.872991   -0.194655   -0.066623    0.452831   -0.413141    0.185445   \n",
       "22541   -0.814737   -0.235138    0.074933    0.712311    0.369909    0.794684   \n",
       "22542   -0.618400   -0.099512   -0.112588   -0.139796   -0.299245    0.215217   \n",
       "22543    1.463070   -0.999785    0.020018    0.694845   -0.080750   -1.468044   \n",
       "\n",
       "       Variable 6  Variable 7  Variable 8  Variable 9  ...  Variable 15  \\\n",
       "0        0.395315    0.513245   -0.766786   -0.062395  ...     0.087562   \n",
       "1        0.348479    0.469323   -0.854538   -0.026490  ...     0.114285   \n",
       "2       -0.200591   -0.123556   -0.589348    0.143092  ...     0.237448   \n",
       "3        0.566545    1.467813   -0.909148   -0.158969  ...    -0.645070   \n",
       "4        0.498370    0.965455   -0.426954   -0.115367  ...    -0.743812   \n",
       "...           ...         ...         ...         ...  ...          ...   \n",
       "22539   -0.100000   -0.189836    0.184557   -0.148044  ...     0.292900   \n",
       "22540    0.112065    0.035403    0.523127   -0.197381  ...     0.052443   \n",
       "22541   -0.066708    0.487747    0.673540    0.041892  ...    -0.258330   \n",
       "22542   -0.019459   -0.011097    0.042121   -0.007055  ...    -0.290913   \n",
       "22543    0.126210    0.357275    1.220112   -0.285096  ...    -1.250809   \n",
       "\n",
       "       Variable 16  Variable 17  Variable 18  Variable 19  Variable 20  \\\n",
       "0        -0.038879     0.089034     0.014808    -0.188971    -0.241507   \n",
       "1        -0.010820     0.145410    -0.009777    -0.598956    -0.375655   \n",
       "2         0.104159     0.405101    -0.178828    -1.405570    -1.652640   \n",
       "3         0.286520    -1.667151     0.537777    -0.640798     0.353681   \n",
       "4         0.298522    -1.560846     0.244325     0.749019    -1.549602   \n",
       "...            ...          ...          ...          ...          ...   \n",
       "22539     0.011649     0.372113    -0.168499     0.037984    -0.879563   \n",
       "22540     0.030961     0.042609    -0.075227     0.008422     0.335104   \n",
       "22541    -0.006817    -0.122758    -0.063016    -0.370471     0.833987   \n",
       "22542     0.188055    -0.449199     0.018744    -1.882945     0.507437   \n",
       "22543     0.134693    -2.210278     0.421481    -0.685136     0.938789   \n",
       "\n",
       "       Variable 21  Variable 22  Variable 23  Variable 24  \n",
       "0         0.056346     0.496640     0.262575     0.138653  \n",
       "1         0.079058     0.296593    -0.032018     0.187080  \n",
       "2         0.167053    -0.244760    -0.560929     0.151231  \n",
       "3        -0.069413    -0.619800     0.387078     0.831191  \n",
       "4        -0.039398    -1.909888     1.245669    -1.707417  \n",
       "...            ...          ...          ...          ...  \n",
       "22539     0.102332     0.689722     0.934579     0.089700  \n",
       "22540    -0.003836    -0.023295     0.180490     0.502420  \n",
       "22541    -0.274281    -0.387836    -0.042764     0.810355  \n",
       "22542     0.082619    -0.368431     0.264819    -2.208291  \n",
       "22543    -0.024303     1.005543    -2.329555     0.181016  \n",
       "\n",
       "[22544 rows x 25 columns]"
      ]
     },
     "execution_count": 155,
     "metadata": {},
     "output_type": "execute_result"
    }
   ],
   "source": [
    "test_one_hot_data_if"
   ]
  },
  {
   "cell_type": "code",
   "execution_count": 156,
   "id": "703c9b49",
   "metadata": {},
   "outputs": [],
   "source": [
    "#one_hot_data_if = one_hot_data_if.drop(['p-value','p-value_mcd'],axis=1)"
   ]
  },
  {
   "cell_type": "code",
   "execution_count": 157,
   "id": "c26c595f",
   "metadata": {},
   "outputs": [
    {
     "data": {
      "text/html": [
       "<div>\n",
       "<style scoped>\n",
       "    .dataframe tbody tr th:only-of-type {\n",
       "        vertical-align: middle;\n",
       "    }\n",
       "\n",
       "    .dataframe tbody tr th {\n",
       "        vertical-align: top;\n",
       "    }\n",
       "\n",
       "    .dataframe thead th {\n",
       "        text-align: right;\n",
       "    }\n",
       "</style>\n",
       "<table border=\"1\" class=\"dataframe\">\n",
       "  <thead>\n",
       "    <tr style=\"text-align: right;\">\n",
       "      <th></th>\n",
       "      <th>Variable 0</th>\n",
       "      <th>Variable 1</th>\n",
       "      <th>Variable 2</th>\n",
       "      <th>Variable 3</th>\n",
       "      <th>Variable 4</th>\n",
       "      <th>Variable 5</th>\n",
       "      <th>Variable 6</th>\n",
       "      <th>Variable 7</th>\n",
       "      <th>Variable 8</th>\n",
       "      <th>Variable 9</th>\n",
       "      <th>...</th>\n",
       "      <th>Variable 15</th>\n",
       "      <th>Variable 16</th>\n",
       "      <th>Variable 17</th>\n",
       "      <th>Variable 18</th>\n",
       "      <th>Variable 19</th>\n",
       "      <th>Variable 20</th>\n",
       "      <th>Variable 21</th>\n",
       "      <th>Variable 22</th>\n",
       "      <th>Variable 23</th>\n",
       "      <th>Variable 24</th>\n",
       "    </tr>\n",
       "  </thead>\n",
       "  <tbody>\n",
       "    <tr>\n",
       "      <th>0</th>\n",
       "      <td>-0.271817</td>\n",
       "      <td>-0.031828</td>\n",
       "      <td>-0.007913</td>\n",
       "      <td>-0.057511</td>\n",
       "      <td>-0.242415</td>\n",
       "      <td>0.177059</td>\n",
       "      <td>-0.356125</td>\n",
       "      <td>0.408246</td>\n",
       "      <td>0.040125</td>\n",
       "      <td>0.127202</td>\n",
       "      <td>...</td>\n",
       "      <td>0.017675</td>\n",
       "      <td>-0.207697</td>\n",
       "      <td>-0.037673</td>\n",
       "      <td>-0.320513</td>\n",
       "      <td>0.282792</td>\n",
       "      <td>2.121919</td>\n",
       "      <td>-0.554442</td>\n",
       "      <td>-0.128795</td>\n",
       "      <td>-1.473003</td>\n",
       "      <td>-1.178695</td>\n",
       "    </tr>\n",
       "    <tr>\n",
       "      <th>1</th>\n",
       "      <td>0.172646</td>\n",
       "      <td>0.493701</td>\n",
       "      <td>0.004511</td>\n",
       "      <td>-0.797854</td>\n",
       "      <td>-0.794043</td>\n",
       "      <td>1.396155</td>\n",
       "      <td>-1.419618</td>\n",
       "      <td>1.811961</td>\n",
       "      <td>-0.912519</td>\n",
       "      <td>0.028642</td>\n",
       "      <td>...</td>\n",
       "      <td>0.001159</td>\n",
       "      <td>-0.341808</td>\n",
       "      <td>-0.086006</td>\n",
       "      <td>-0.390951</td>\n",
       "      <td>0.353703</td>\n",
       "      <td>2.470519</td>\n",
       "      <td>-0.970944</td>\n",
       "      <td>0.370660</td>\n",
       "      <td>1.229125</td>\n",
       "      <td>0.620290</td>\n",
       "    </tr>\n",
       "    <tr>\n",
       "      <th>2</th>\n",
       "      <td>1.415630</td>\n",
       "      <td>-0.666276</td>\n",
       "      <td>0.012028</td>\n",
       "      <td>-0.028398</td>\n",
       "      <td>-0.176458</td>\n",
       "      <td>-0.336946</td>\n",
       "      <td>0.050874</td>\n",
       "      <td>-0.047367</td>\n",
       "      <td>0.161117</td>\n",
       "      <td>0.009214</td>\n",
       "      <td>...</td>\n",
       "      <td>-0.013284</td>\n",
       "      <td>-0.080540</td>\n",
       "      <td>0.029774</td>\n",
       "      <td>0.017559</td>\n",
       "      <td>-0.007434</td>\n",
       "      <td>0.089606</td>\n",
       "      <td>0.323906</td>\n",
       "      <td>-0.208934</td>\n",
       "      <td>0.327626</td>\n",
       "      <td>-0.075651</td>\n",
       "    </tr>\n",
       "    <tr>\n",
       "      <th>3</th>\n",
       "      <td>-0.904705</td>\n",
       "      <td>-0.465462</td>\n",
       "      <td>-0.041510</td>\n",
       "      <td>0.310599</td>\n",
       "      <td>0.131188</td>\n",
       "      <td>-0.845985</td>\n",
       "      <td>0.027311</td>\n",
       "      <td>0.064317</td>\n",
       "      <td>0.051110</td>\n",
       "      <td>0.009947</td>\n",
       "      <td>...</td>\n",
       "      <td>0.013662</td>\n",
       "      <td>-0.103791</td>\n",
       "      <td>0.018487</td>\n",
       "      <td>-1.077262</td>\n",
       "      <td>0.095570</td>\n",
       "      <td>-1.068195</td>\n",
       "      <td>-0.187457</td>\n",
       "      <td>-0.311417</td>\n",
       "      <td>0.040910</td>\n",
       "      <td>-0.580711</td>\n",
       "    </tr>\n",
       "    <tr>\n",
       "      <th>4</th>\n",
       "      <td>-0.829569</td>\n",
       "      <td>-0.395406</td>\n",
       "      <td>-0.070325</td>\n",
       "      <td>0.588581</td>\n",
       "      <td>0.832244</td>\n",
       "      <td>-0.290600</td>\n",
       "      <td>-0.145860</td>\n",
       "      <td>0.193486</td>\n",
       "      <td>0.064853</td>\n",
       "      <td>-0.023983</td>\n",
       "      <td>...</td>\n",
       "      <td>-0.028782</td>\n",
       "      <td>-0.083732</td>\n",
       "      <td>0.048325</td>\n",
       "      <td>0.359112</td>\n",
       "      <td>-0.102098</td>\n",
       "      <td>-0.014895</td>\n",
       "      <td>0.542320</td>\n",
       "      <td>0.586909</td>\n",
       "      <td>0.417905</td>\n",
       "      <td>1.189597</td>\n",
       "    </tr>\n",
       "    <tr>\n",
       "      <th>...</th>\n",
       "      <td>...</td>\n",
       "      <td>...</td>\n",
       "      <td>...</td>\n",
       "      <td>...</td>\n",
       "      <td>...</td>\n",
       "      <td>...</td>\n",
       "      <td>...</td>\n",
       "      <td>...</td>\n",
       "      <td>...</td>\n",
       "      <td>...</td>\n",
       "      <td>...</td>\n",
       "      <td>...</td>\n",
       "      <td>...</td>\n",
       "      <td>...</td>\n",
       "      <td>...</td>\n",
       "      <td>...</td>\n",
       "      <td>...</td>\n",
       "      <td>...</td>\n",
       "      <td>...</td>\n",
       "      <td>...</td>\n",
       "      <td>...</td>\n",
       "    </tr>\n",
       "    <tr>\n",
       "      <th>125968</th>\n",
       "      <td>1.432927</td>\n",
       "      <td>-0.660116</td>\n",
       "      <td>0.000861</td>\n",
       "      <td>-0.084749</td>\n",
       "      <td>-0.018009</td>\n",
       "      <td>-0.098309</td>\n",
       "      <td>0.132684</td>\n",
       "      <td>-0.176189</td>\n",
       "      <td>0.182252</td>\n",
       "      <td>-0.003731</td>\n",
       "      <td>...</td>\n",
       "      <td>-0.018946</td>\n",
       "      <td>-0.062724</td>\n",
       "      <td>0.028226</td>\n",
       "      <td>-0.014552</td>\n",
       "      <td>-0.014394</td>\n",
       "      <td>-0.228305</td>\n",
       "      <td>0.052992</td>\n",
       "      <td>0.020973</td>\n",
       "      <td>0.233702</td>\n",
       "      <td>-0.010744</td>\n",
       "    </tr>\n",
       "    <tr>\n",
       "      <th>125969</th>\n",
       "      <td>-0.579312</td>\n",
       "      <td>-0.249285</td>\n",
       "      <td>-0.087692</td>\n",
       "      <td>0.143871</td>\n",
       "      <td>0.675707</td>\n",
       "      <td>0.262858</td>\n",
       "      <td>-0.190329</td>\n",
       "      <td>0.254527</td>\n",
       "      <td>0.112493</td>\n",
       "      <td>0.077054</td>\n",
       "      <td>...</td>\n",
       "      <td>-0.009618</td>\n",
       "      <td>-0.129347</td>\n",
       "      <td>0.007511</td>\n",
       "      <td>0.295710</td>\n",
       "      <td>0.013124</td>\n",
       "      <td>1.560205</td>\n",
       "      <td>1.871801</td>\n",
       "      <td>-0.068697</td>\n",
       "      <td>1.161909</td>\n",
       "      <td>-1.218126</td>\n",
       "    </tr>\n",
       "    <tr>\n",
       "      <th>125970</th>\n",
       "      <td>-0.158302</td>\n",
       "      <td>-0.281355</td>\n",
       "      <td>0.027748</td>\n",
       "      <td>0.556132</td>\n",
       "      <td>0.016131</td>\n",
       "      <td>-0.276331</td>\n",
       "      <td>-0.602392</td>\n",
       "      <td>0.657011</td>\n",
       "      <td>0.010436</td>\n",
       "      <td>0.078126</td>\n",
       "      <td>...</td>\n",
       "      <td>-0.026978</td>\n",
       "      <td>-0.180230</td>\n",
       "      <td>0.006480</td>\n",
       "      <td>0.230496</td>\n",
       "      <td>0.154851</td>\n",
       "      <td>1.554297</td>\n",
       "      <td>-0.749160</td>\n",
       "      <td>1.389888</td>\n",
       "      <td>-1.716392</td>\n",
       "      <td>0.591811</td>\n",
       "    </tr>\n",
       "    <tr>\n",
       "      <th>125971</th>\n",
       "      <td>1.437126</td>\n",
       "      <td>-0.668559</td>\n",
       "      <td>0.014501</td>\n",
       "      <td>-0.037322</td>\n",
       "      <td>-0.168116</td>\n",
       "      <td>-0.276399</td>\n",
       "      <td>0.092500</td>\n",
       "      <td>-0.121089</td>\n",
       "      <td>0.193096</td>\n",
       "      <td>0.007072</td>\n",
       "      <td>...</td>\n",
       "      <td>-0.019991</td>\n",
       "      <td>-0.087068</td>\n",
       "      <td>0.026620</td>\n",
       "      <td>0.024639</td>\n",
       "      <td>0.010870</td>\n",
       "      <td>0.134870</td>\n",
       "      <td>0.074783</td>\n",
       "      <td>-0.037025</td>\n",
       "      <td>0.033698</td>\n",
       "      <td>0.038042</td>\n",
       "    </tr>\n",
       "    <tr>\n",
       "      <th>125972</th>\n",
       "      <td>-0.476780</td>\n",
       "      <td>-0.179868</td>\n",
       "      <td>0.002340</td>\n",
       "      <td>0.331980</td>\n",
       "      <td>0.022217</td>\n",
       "      <td>0.004447</td>\n",
       "      <td>-0.614954</td>\n",
       "      <td>0.670347</td>\n",
       "      <td>0.043615</td>\n",
       "      <td>0.062161</td>\n",
       "      <td>...</td>\n",
       "      <td>-0.021178</td>\n",
       "      <td>-0.323144</td>\n",
       "      <td>0.020325</td>\n",
       "      <td>-0.056475</td>\n",
       "      <td>0.220091</td>\n",
       "      <td>1.837301</td>\n",
       "      <td>-0.714715</td>\n",
       "      <td>0.464149</td>\n",
       "      <td>-1.223477</td>\n",
       "      <td>1.542753</td>\n",
       "    </tr>\n",
       "  </tbody>\n",
       "</table>\n",
       "<p>125973 rows × 25 columns</p>\n",
       "</div>"
      ],
      "text/plain": [
       "        Variable 0  Variable 1  Variable 2  Variable 3  Variable 4  \\\n",
       "0        -0.271817   -0.031828   -0.007913   -0.057511   -0.242415   \n",
       "1         0.172646    0.493701    0.004511   -0.797854   -0.794043   \n",
       "2         1.415630   -0.666276    0.012028   -0.028398   -0.176458   \n",
       "3        -0.904705   -0.465462   -0.041510    0.310599    0.131188   \n",
       "4        -0.829569   -0.395406   -0.070325    0.588581    0.832244   \n",
       "...            ...         ...         ...         ...         ...   \n",
       "125968    1.432927   -0.660116    0.000861   -0.084749   -0.018009   \n",
       "125969   -0.579312   -0.249285   -0.087692    0.143871    0.675707   \n",
       "125970   -0.158302   -0.281355    0.027748    0.556132    0.016131   \n",
       "125971    1.437126   -0.668559    0.014501   -0.037322   -0.168116   \n",
       "125972   -0.476780   -0.179868    0.002340    0.331980    0.022217   \n",
       "\n",
       "        Variable 5  Variable 6  Variable 7  Variable 8  Variable 9  ...  \\\n",
       "0         0.177059   -0.356125    0.408246    0.040125    0.127202  ...   \n",
       "1         1.396155   -1.419618    1.811961   -0.912519    0.028642  ...   \n",
       "2        -0.336946    0.050874   -0.047367    0.161117    0.009214  ...   \n",
       "3        -0.845985    0.027311    0.064317    0.051110    0.009947  ...   \n",
       "4        -0.290600   -0.145860    0.193486    0.064853   -0.023983  ...   \n",
       "...            ...         ...         ...         ...         ...  ...   \n",
       "125968   -0.098309    0.132684   -0.176189    0.182252   -0.003731  ...   \n",
       "125969    0.262858   -0.190329    0.254527    0.112493    0.077054  ...   \n",
       "125970   -0.276331   -0.602392    0.657011    0.010436    0.078126  ...   \n",
       "125971   -0.276399    0.092500   -0.121089    0.193096    0.007072  ...   \n",
       "125972    0.004447   -0.614954    0.670347    0.043615    0.062161  ...   \n",
       "\n",
       "        Variable 15  Variable 16  Variable 17  Variable 18  Variable 19  \\\n",
       "0          0.017675    -0.207697    -0.037673    -0.320513     0.282792   \n",
       "1          0.001159    -0.341808    -0.086006    -0.390951     0.353703   \n",
       "2         -0.013284    -0.080540     0.029774     0.017559    -0.007434   \n",
       "3          0.013662    -0.103791     0.018487    -1.077262     0.095570   \n",
       "4         -0.028782    -0.083732     0.048325     0.359112    -0.102098   \n",
       "...             ...          ...          ...          ...          ...   \n",
       "125968    -0.018946    -0.062724     0.028226    -0.014552    -0.014394   \n",
       "125969    -0.009618    -0.129347     0.007511     0.295710     0.013124   \n",
       "125970    -0.026978    -0.180230     0.006480     0.230496     0.154851   \n",
       "125971    -0.019991    -0.087068     0.026620     0.024639     0.010870   \n",
       "125972    -0.021178    -0.323144     0.020325    -0.056475     0.220091   \n",
       "\n",
       "        Variable 20  Variable 21  Variable 22  Variable 23  Variable 24  \n",
       "0          2.121919    -0.554442    -0.128795    -1.473003    -1.178695  \n",
       "1          2.470519    -0.970944     0.370660     1.229125     0.620290  \n",
       "2          0.089606     0.323906    -0.208934     0.327626    -0.075651  \n",
       "3         -1.068195    -0.187457    -0.311417     0.040910    -0.580711  \n",
       "4         -0.014895     0.542320     0.586909     0.417905     1.189597  \n",
       "...             ...          ...          ...          ...          ...  \n",
       "125968    -0.228305     0.052992     0.020973     0.233702    -0.010744  \n",
       "125969     1.560205     1.871801    -0.068697     1.161909    -1.218126  \n",
       "125970     1.554297    -0.749160     1.389888    -1.716392     0.591811  \n",
       "125971     0.134870     0.074783    -0.037025     0.033698     0.038042  \n",
       "125972     1.837301    -0.714715     0.464149    -1.223477     1.542753  \n",
       "\n",
       "[125973 rows x 25 columns]"
      ]
     },
     "execution_count": 157,
     "metadata": {},
     "output_type": "execute_result"
    }
   ],
   "source": [
    "one_hot_data_if"
   ]
  },
  {
   "cell_type": "code",
   "execution_count": 158,
   "id": "521a4ac2",
   "metadata": {},
   "outputs": [],
   "source": [
    "#model_if.fit(one_hot_data_if)"
   ]
  },
  {
   "cell_type": "code",
   "execution_count": 159,
   "id": "e4e0b51a",
   "metadata": {},
   "outputs": [],
   "source": [
    "y_pred_if_test = model_if.predict(test_one_hot_data_if)"
   ]
  },
  {
   "cell_type": "code",
   "execution_count": 160,
   "id": "990e8b34",
   "metadata": {},
   "outputs": [
    {
     "name": "stdout",
     "output_type": "stream",
     "text": [
      "Training accuracy: 0.5299\n"
     ]
    }
   ],
   "source": [
    "#Evaluation on training result\n",
    "y_pred_if_test = np.where(y_pred_if_test == -1, 0, y_pred_if_test)\n",
    "\n",
    "from sklearn.metrics import accuracy_score\n",
    "test_acc_if = accuracy_score(kdd_test_y['class_binary'], y_pred_if_test)\n",
    "print(\"Training accuracy: {:.4f}\".format(test_acc_if))"
   ]
  },
  {
   "cell_type": "code",
   "execution_count": 161,
   "id": "6a7447d8",
   "metadata": {},
   "outputs": [
    {
     "name": "stdout",
     "output_type": "stream",
     "text": [
      "[[  201  9510]\n",
      " [ 1087 11746]]\n"
     ]
    },
    {
     "data": {
      "text/plain": [
       "Text(0.5, 1.0, 'Seaborn Confusion Matrix with labels\\n\\n')"
      ]
     },
     "execution_count": 161,
     "metadata": {},
     "output_type": "execute_result"
    },
    {
     "data": {
      "text/plain": [
       "Text(0.5, 15.0, '\\nPredicted Values')"
      ]
     },
     "execution_count": 161,
     "metadata": {},
     "output_type": "execute_result"
    },
    {
     "data": {
      "text/plain": [
       "Text(33.0, 0.5, 'Actual Values ')"
      ]
     },
     "execution_count": 161,
     "metadata": {},
     "output_type": "execute_result"
    },
    {
     "data": {
      "text/plain": [
       "[Text(0.5, 0, 'False'), Text(1.5, 0, 'True')]"
      ]
     },
     "execution_count": 161,
     "metadata": {},
     "output_type": "execute_result"
    },
    {
     "data": {
      "text/plain": [
       "[Text(0, 0.5, 'False'), Text(0, 1.5, 'True')]"
      ]
     },
     "execution_count": 161,
     "metadata": {},
     "output_type": "execute_result"
    },
    {
     "data": {
      "image/png": "[encoded data removed]",
      "text/plain": [
       "<Figure size 432x288 with 2 Axes>"
      ]
     },
     "metadata": {
      "needs_background": "light"
     },
     "output_type": "display_data"
    },
    {
     "name": "stdout",
     "output_type": "stream",
     "text": [
      "0.5525969138125706\n",
      "0.9152965012078236\n"
     ]
    }
   ],
   "source": [
    "cm_if_test = confusion_matrix (kdd_test_y[\"class_binary\"], y_pred_if_test)\n",
    "print(cm_if_test)\n",
    "ax = sns.heatmap(cm_if_test, annot=True, cmap='Blues')\n",
    "\n",
    "ax.set_title('Seaborn Confusion Matrix with labels\\n\\n');\n",
    "ax.set_xlabel('\\nPredicted Values')\n",
    "ax.set_ylabel('Actual Values ');\n",
    "\n",
    "## Ticket labels - List must be in alphabetical order\n",
    "ax.xaxis.set_ticklabels(['False','True'])\n",
    "ax.yaxis.set_ticklabels(['False','True'])\n",
    "\n",
    "## Display the visualization of the Confusion Matrix.\n",
    "plt.show()\n",
    "\n",
    "## FP,FN,TP,TN\n",
    "TN_if = cm_if_test[0][0]\n",
    "FN_if = cm_if_test[1][0]\n",
    "FP_if = cm_if_test[0][1]\n",
    "TP_if = cm_if_test[1][1]\n",
    "\n",
    "##Precision and Recall\n",
    "Precision_if_test = TP_if/(TP_if+FP_if)\n",
    "Recall_if_test = TP_if/(TP_if+FN_if)\n",
    "\n",
    "print (Precision_if_test)\n",
    "print (Recall_if_test)"
   ]
  },
  {
   "cell_type": "markdown",
   "id": "1f589f36",
   "metadata": {},
   "source": [
    "# OCSVM without PCA"
   ]
  },
  {
   "cell_type": "code",
   "execution_count": 162,
   "id": "11f7d47d",
   "metadata": {},
   "outputs": [],
   "source": [
    "test_one_hot_data_svm_ss = test_one_hot_data_ss.drop(['p-value'],axis=1)\n",
    "test_one_hot_data_svm = test_one_hot_data_pca.drop(['p-value'],axis=1)"
   ]
  },
  {
   "cell_type": "code",
   "execution_count": 163,
   "id": "4343fbc1",
   "metadata": {
    "scrolled": true
   },
   "outputs": [
    {
     "data": {
      "text/html": [
       "<div>\n",
       "<style scoped>\n",
       "    .dataframe tbody tr th:only-of-type {\n",
       "        vertical-align: middle;\n",
       "    }\n",
       "\n",
       "    .dataframe tbody tr th {\n",
       "        vertical-align: top;\n",
       "    }\n",
       "\n",
       "    .dataframe thead th {\n",
       "        text-align: right;\n",
       "    }\n",
       "</style>\n",
       "<table border=\"1\" class=\"dataframe\">\n",
       "  <thead>\n",
       "    <tr style=\"text-align: right;\">\n",
       "      <th></th>\n",
       "      <th>duration</th>\n",
       "      <th>src_bytes</th>\n",
       "      <th>dst_bytes</th>\n",
       "      <th>land</th>\n",
       "      <th>wrong_fragment</th>\n",
       "      <th>urgent</th>\n",
       "      <th>hot</th>\n",
       "      <th>num_failed_logins</th>\n",
       "      <th>logged_in</th>\n",
       "      <th>num_compromised</th>\n",
       "      <th>...</th>\n",
       "      <th>flag_RSTR</th>\n",
       "      <th>flag_S0</th>\n",
       "      <th>flag_S1</th>\n",
       "      <th>flag_S2</th>\n",
       "      <th>flag_S3</th>\n",
       "      <th>flag_SF</th>\n",
       "      <th>flag_SH</th>\n",
       "      <th>protocol_type_icmp</th>\n",
       "      <th>protocol_type_tcp</th>\n",
       "      <th>protocol_type_udp</th>\n",
       "    </tr>\n",
       "  </thead>\n",
       "  <tbody>\n",
       "    <tr>\n",
       "      <th>0</th>\n",
       "      <td>-0.155534</td>\n",
       "      <td>-0.021988</td>\n",
       "      <td>-0.096896</td>\n",
       "      <td>-0.017624</td>\n",
       "      <td>-0.059104</td>\n",
       "      <td>-0.019459</td>\n",
       "      <td>-0.113521</td>\n",
       "      <td>-0.143999</td>\n",
       "      <td>-0.890373</td>\n",
       "      <td>-0.016494</td>\n",
       "      <td>...</td>\n",
       "      <td>0</td>\n",
       "      <td>0</td>\n",
       "      <td>0</td>\n",
       "      <td>0</td>\n",
       "      <td>0</td>\n",
       "      <td>0</td>\n",
       "      <td>0</td>\n",
       "      <td>0</td>\n",
       "      <td>1</td>\n",
       "      <td>0</td>\n",
       "    </tr>\n",
       "    <tr>\n",
       "      <th>1</th>\n",
       "      <td>-0.155534</td>\n",
       "      <td>-0.021988</td>\n",
       "      <td>-0.096896</td>\n",
       "      <td>-0.017624</td>\n",
       "      <td>-0.059104</td>\n",
       "      <td>-0.019459</td>\n",
       "      <td>-0.113521</td>\n",
       "      <td>-0.143999</td>\n",
       "      <td>-0.890373</td>\n",
       "      <td>-0.016494</td>\n",
       "      <td>...</td>\n",
       "      <td>0</td>\n",
       "      <td>0</td>\n",
       "      <td>0</td>\n",
       "      <td>0</td>\n",
       "      <td>0</td>\n",
       "      <td>0</td>\n",
       "      <td>0</td>\n",
       "      <td>0</td>\n",
       "      <td>1</td>\n",
       "      <td>0</td>\n",
       "    </tr>\n",
       "    <tr>\n",
       "      <th>2</th>\n",
       "      <td>-0.154113</td>\n",
       "      <td>0.005473</td>\n",
       "      <td>-0.096896</td>\n",
       "      <td>-0.017624</td>\n",
       "      <td>-0.059104</td>\n",
       "      <td>-0.019459</td>\n",
       "      <td>-0.113521</td>\n",
       "      <td>-0.143999</td>\n",
       "      <td>-0.890373</td>\n",
       "      <td>-0.016494</td>\n",
       "      <td>...</td>\n",
       "      <td>0</td>\n",
       "      <td>0</td>\n",
       "      <td>0</td>\n",
       "      <td>0</td>\n",
       "      <td>0</td>\n",
       "      <td>1</td>\n",
       "      <td>0</td>\n",
       "      <td>0</td>\n",
       "      <td>1</td>\n",
       "      <td>0</td>\n",
       "    </tr>\n",
       "    <tr>\n",
       "      <th>3</th>\n",
       "      <td>-0.155534</td>\n",
       "      <td>-0.021946</td>\n",
       "      <td>-0.096896</td>\n",
       "      <td>-0.017624</td>\n",
       "      <td>-0.059104</td>\n",
       "      <td>-0.019459</td>\n",
       "      <td>-0.113521</td>\n",
       "      <td>-0.143999</td>\n",
       "      <td>-0.890373</td>\n",
       "      <td>-0.016494</td>\n",
       "      <td>...</td>\n",
       "      <td>0</td>\n",
       "      <td>0</td>\n",
       "      <td>0</td>\n",
       "      <td>0</td>\n",
       "      <td>0</td>\n",
       "      <td>1</td>\n",
       "      <td>0</td>\n",
       "      <td>1</td>\n",
       "      <td>0</td>\n",
       "      <td>0</td>\n",
       "    </tr>\n",
       "    <tr>\n",
       "      <th>4</th>\n",
       "      <td>-0.154823</td>\n",
       "      <td>-0.021988</td>\n",
       "      <td>-0.096189</td>\n",
       "      <td>-0.017624</td>\n",
       "      <td>-0.059104</td>\n",
       "      <td>-0.019459</td>\n",
       "      <td>-0.113521</td>\n",
       "      <td>-0.143999</td>\n",
       "      <td>-0.890373</td>\n",
       "      <td>-0.016494</td>\n",
       "      <td>...</td>\n",
       "      <td>0</td>\n",
       "      <td>0</td>\n",
       "      <td>0</td>\n",
       "      <td>0</td>\n",
       "      <td>0</td>\n",
       "      <td>0</td>\n",
       "      <td>0</td>\n",
       "      <td>0</td>\n",
       "      <td>1</td>\n",
       "      <td>0</td>\n",
       "    </tr>\n",
       "    <tr>\n",
       "      <th>...</th>\n",
       "      <td>...</td>\n",
       "      <td>...</td>\n",
       "      <td>...</td>\n",
       "      <td>...</td>\n",
       "      <td>...</td>\n",
       "      <td>...</td>\n",
       "      <td>...</td>\n",
       "      <td>...</td>\n",
       "      <td>...</td>\n",
       "      <td>...</td>\n",
       "      <td>...</td>\n",
       "      <td>...</td>\n",
       "      <td>...</td>\n",
       "      <td>...</td>\n",
       "      <td>...</td>\n",
       "      <td>...</td>\n",
       "      <td>...</td>\n",
       "      <td>...</td>\n",
       "      <td>...</td>\n",
       "      <td>...</td>\n",
       "      <td>...</td>\n",
       "    </tr>\n",
       "    <tr>\n",
       "      <th>22539</th>\n",
       "      <td>-0.155534</td>\n",
       "      <td>-0.020309</td>\n",
       "      <td>-0.081202</td>\n",
       "      <td>-0.017624</td>\n",
       "      <td>-0.059104</td>\n",
       "      <td>-0.019459</td>\n",
       "      <td>-0.113521</td>\n",
       "      <td>-0.143999</td>\n",
       "      <td>1.123125</td>\n",
       "      <td>-0.016494</td>\n",
       "      <td>...</td>\n",
       "      <td>0</td>\n",
       "      <td>0</td>\n",
       "      <td>0</td>\n",
       "      <td>0</td>\n",
       "      <td>0</td>\n",
       "      <td>1</td>\n",
       "      <td>0</td>\n",
       "      <td>0</td>\n",
       "      <td>1</td>\n",
       "      <td>0</td>\n",
       "    </tr>\n",
       "    <tr>\n",
       "      <th>22540</th>\n",
       "      <td>-0.155534</td>\n",
       "      <td>-0.021318</td>\n",
       "      <td>-0.052690</td>\n",
       "      <td>-0.017624</td>\n",
       "      <td>-0.059104</td>\n",
       "      <td>-0.019459</td>\n",
       "      <td>-0.113521</td>\n",
       "      <td>-0.143999</td>\n",
       "      <td>1.123125</td>\n",
       "      <td>-0.016494</td>\n",
       "      <td>...</td>\n",
       "      <td>0</td>\n",
       "      <td>0</td>\n",
       "      <td>0</td>\n",
       "      <td>0</td>\n",
       "      <td>0</td>\n",
       "      <td>1</td>\n",
       "      <td>0</td>\n",
       "      <td>0</td>\n",
       "      <td>1</td>\n",
       "      <td>0</td>\n",
       "    </tr>\n",
       "    <tr>\n",
       "      <th>22541</th>\n",
       "      <td>-0.155534</td>\n",
       "      <td>0.093373</td>\n",
       "      <td>0.294926</td>\n",
       "      <td>-0.017624</td>\n",
       "      <td>-0.059104</td>\n",
       "      <td>-0.019459</td>\n",
       "      <td>2.040705</td>\n",
       "      <td>-0.143999</td>\n",
       "      <td>1.123125</td>\n",
       "      <td>0.121069</td>\n",
       "      <td>...</td>\n",
       "      <td>0</td>\n",
       "      <td>0</td>\n",
       "      <td>0</td>\n",
       "      <td>0</td>\n",
       "      <td>0</td>\n",
       "      <td>1</td>\n",
       "      <td>0</td>\n",
       "      <td>0</td>\n",
       "      <td>1</td>\n",
       "      <td>0</td>\n",
       "    </tr>\n",
       "    <tr>\n",
       "      <th>22542</th>\n",
       "      <td>-0.155534</td>\n",
       "      <td>-0.021899</td>\n",
       "      <td>-0.094917</td>\n",
       "      <td>-0.017624</td>\n",
       "      <td>-0.059104</td>\n",
       "      <td>-0.019459</td>\n",
       "      <td>-0.113521</td>\n",
       "      <td>-0.143999</td>\n",
       "      <td>-0.890373</td>\n",
       "      <td>-0.016494</td>\n",
       "      <td>...</td>\n",
       "      <td>0</td>\n",
       "      <td>0</td>\n",
       "      <td>0</td>\n",
       "      <td>0</td>\n",
       "      <td>0</td>\n",
       "      <td>1</td>\n",
       "      <td>0</td>\n",
       "      <td>0</td>\n",
       "      <td>0</td>\n",
       "      <td>1</td>\n",
       "    </tr>\n",
       "    <tr>\n",
       "      <th>22543</th>\n",
       "      <td>-0.155534</td>\n",
       "      <td>-0.021988</td>\n",
       "      <td>-0.096896</td>\n",
       "      <td>-0.017624</td>\n",
       "      <td>-0.059104</td>\n",
       "      <td>-0.019459</td>\n",
       "      <td>-0.113521</td>\n",
       "      <td>-0.143999</td>\n",
       "      <td>-0.890373</td>\n",
       "      <td>-0.016494</td>\n",
       "      <td>...</td>\n",
       "      <td>0</td>\n",
       "      <td>0</td>\n",
       "      <td>0</td>\n",
       "      <td>0</td>\n",
       "      <td>0</td>\n",
       "      <td>0</td>\n",
       "      <td>0</td>\n",
       "      <td>0</td>\n",
       "      <td>1</td>\n",
       "      <td>0</td>\n",
       "    </tr>\n",
       "  </tbody>\n",
       "</table>\n",
       "<p>22544 rows × 121 columns</p>\n",
       "</div>"
      ],
      "text/plain": [
       "       duration  src_bytes  dst_bytes      land  wrong_fragment    urgent  \\\n",
       "0     -0.155534  -0.021988  -0.096896 -0.017624       -0.059104 -0.019459   \n",
       "1     -0.155534  -0.021988  -0.096896 -0.017624       -0.059104 -0.019459   \n",
       "2     -0.154113   0.005473  -0.096896 -0.017624       -0.059104 -0.019459   \n",
       "3     -0.155534  -0.021946  -0.096896 -0.017624       -0.059104 -0.019459   \n",
       "4     -0.154823  -0.021988  -0.096189 -0.017624       -0.059104 -0.019459   \n",
       "...         ...        ...        ...       ...             ...       ...   \n",
       "22539 -0.155534  -0.020309  -0.081202 -0.017624       -0.059104 -0.019459   \n",
       "22540 -0.155534  -0.021318  -0.052690 -0.017624       -0.059104 -0.019459   \n",
       "22541 -0.155534   0.093373   0.294926 -0.017624       -0.059104 -0.019459   \n",
       "22542 -0.155534  -0.021899  -0.094917 -0.017624       -0.059104 -0.019459   \n",
       "22543 -0.155534  -0.021988  -0.096896 -0.017624       -0.059104 -0.019459   \n",
       "\n",
       "            hot  num_failed_logins  logged_in  num_compromised  ...  \\\n",
       "0     -0.113521          -0.143999  -0.890373        -0.016494  ...   \n",
       "1     -0.113521          -0.143999  -0.890373        -0.016494  ...   \n",
       "2     -0.113521          -0.143999  -0.890373        -0.016494  ...   \n",
       "3     -0.113521          -0.143999  -0.890373        -0.016494  ...   \n",
       "4     -0.113521          -0.143999  -0.890373        -0.016494  ...   \n",
       "...         ...                ...        ...              ...  ...   \n",
       "22539 -0.113521          -0.143999   1.123125        -0.016494  ...   \n",
       "22540 -0.113521          -0.143999   1.123125        -0.016494  ...   \n",
       "22541  2.040705          -0.143999   1.123125         0.121069  ...   \n",
       "22542 -0.113521          -0.143999  -0.890373        -0.016494  ...   \n",
       "22543 -0.113521          -0.143999  -0.890373        -0.016494  ...   \n",
       "\n",
       "       flag_RSTR  flag_S0  flag_S1  flag_S2  flag_S3  flag_SF  flag_SH  \\\n",
       "0              0        0        0        0        0        0        0   \n",
       "1              0        0        0        0        0        0        0   \n",
       "2              0        0        0        0        0        1        0   \n",
       "3              0        0        0        0        0        1        0   \n",
       "4              0        0        0        0        0        0        0   \n",
       "...          ...      ...      ...      ...      ...      ...      ...   \n",
       "22539          0        0        0        0        0        1        0   \n",
       "22540          0        0        0        0        0        1        0   \n",
       "22541          0        0        0        0        0        1        0   \n",
       "22542          0        0        0        0        0        1        0   \n",
       "22543          0        0        0        0        0        0        0   \n",
       "\n",
       "       protocol_type_icmp  protocol_type_tcp  protocol_type_udp  \n",
       "0                       0                  1                  0  \n",
       "1                       0                  1                  0  \n",
       "2                       0                  1                  0  \n",
       "3                       1                  0                  0  \n",
       "4                       0                  1                  0  \n",
       "...                   ...                ...                ...  \n",
       "22539                   0                  1                  0  \n",
       "22540                   0                  1                  0  \n",
       "22541                   0                  1                  0  \n",
       "22542                   0                  0                  1  \n",
       "22543                   0                  1                  0  \n",
       "\n",
       "[22544 rows x 121 columns]"
      ]
     },
     "execution_count": 163,
     "metadata": {},
     "output_type": "execute_result"
    }
   ],
   "source": [
    "test_one_hot_data_svm_ss"
   ]
  },
  {
   "cell_type": "code",
   "execution_count": 164,
   "id": "03dedce4",
   "metadata": {},
   "outputs": [
    {
     "name": "stderr",
     "output_type": "stream",
     "text": [
      "C:\\WINDOWS\\system32\\myenv\\lib\\site-packages\\sklearn\\base.py:443: UserWarning: X has feature names, but OneClassSVM was fitted without feature names\n",
      "  warnings.warn(\n"
     ]
    }
   ],
   "source": [
    "model_svm_ss_test = joblib.load('model_svm_ss.sav')\n",
    "y_pred_svm_test_ss = model_svm_ss_test.predict(test_one_hot_data_svm_ss)"
   ]
  },
  {
   "cell_type": "code",
   "execution_count": 165,
   "id": "888040da",
   "metadata": {},
   "outputs": [
    {
     "name": "stdout",
     "output_type": "stream",
     "text": [
      "Training accuracy: 0.3598\n",
      "[[1427 8284]\n",
      " [6149 6684]]\n"
     ]
    }
   ],
   "source": [
    "y_pred_svm_test_ss = np.where(y_pred_svm_test_ss == -1, 0, y_pred_svm_test_ss)\n",
    "test_acc_svm_ss = accuracy_score(kdd_test_y['class_binary'], y_pred_svm_test_ss)\n",
    "print(\"Training accuracy: {:.4f}\".format(test_acc_svm_ss))\n",
    "cm_svm_test_ss = confusion_matrix (kdd_test_y[\"class_binary\"], y_pred_svm_test_ss)\n",
    "print(cm_svm_test_ss)"
   ]
  },
  {
   "cell_type": "code",
   "execution_count": 166,
   "id": "cf165be9",
   "metadata": {},
   "outputs": [
    {
     "data": {
      "text/plain": [
       "Text(0.5, 1.0, 'Seaborn Confusion Matrix with labels\\n\\n')"
      ]
     },
     "execution_count": 166,
     "metadata": {},
     "output_type": "execute_result"
    },
    {
     "data": {
      "text/plain": [
       "Text(0.5, 15.0, '\\nPredicted Values')"
      ]
     },
     "execution_count": 166,
     "metadata": {},
     "output_type": "execute_result"
    },
    {
     "data": {
      "text/plain": [
       "Text(33.0, 0.5, 'Actual Values ')"
      ]
     },
     "execution_count": 166,
     "metadata": {},
     "output_type": "execute_result"
    },
    {
     "data": {
      "text/plain": [
       "[Text(0.5, 0, 'False'), Text(1.5, 0, 'True')]"
      ]
     },
     "execution_count": 166,
     "metadata": {},
     "output_type": "execute_result"
    },
    {
     "data": {
      "text/plain": [
       "[Text(0, 0.5, 'False'), Text(0, 1.5, 'True')]"
      ]
     },
     "execution_count": 166,
     "metadata": {},
     "output_type": "execute_result"
    },
    {
     "data": {
      "image/png": "[encoded data removed]",
      "text/plain": [
       "<Figure size 432x288 with 2 Axes>"
      ]
     },
     "metadata": {
      "needs_background": "light"
     },
     "output_type": "display_data"
    },
    {
     "name": "stdout",
     "output_type": "stream",
     "text": [
      "Precision:  0.4465526456440406\n",
      "Recall 0.520844697264864\n"
     ]
    }
   ],
   "source": [
    "ax = sns.heatmap(cm_svm_test_ss, annot=True, cmap='Blues')\n",
    "\n",
    "ax.set_title('Seaborn Confusion Matrix with labels\\n\\n');\n",
    "ax.set_xlabel('\\nPredicted Values')\n",
    "ax.set_ylabel('Actual Values ');\n",
    "\n",
    "## Ticket labels - List must be in alphabetical order\n",
    "ax.xaxis.set_ticklabels(['False','True'])\n",
    "ax.yaxis.set_ticklabels(['False','True'])\n",
    "\n",
    "## Display the visualization of the Confusion Matrix.\n",
    "plt.show()\n",
    "\n",
    "\n",
    "## FP,FN,TP,TN\n",
    "TN_svm = cm_svm_test_ss[0][0]\n",
    "FN_svm = cm_svm_test_ss[1][0]\n",
    "FP_svm = cm_svm_test_ss[0][1]\n",
    "TP_svm = cm_svm_test_ss[1][1]\n",
    "\n",
    "\n",
    "##Precision and Recall\n",
    "Precision_svm_test_ss = TP_svm/(TP_svm+FP_svm)\n",
    "Recall_svm_test_ss = TP_svm/(TP_svm+FN_svm)\n",
    "\n",
    "print (\"Precision: \",Precision_svm_test_ss)\n",
    "print (\"Recall\",Recall_svm_test_ss)"
   ]
  },
  {
   "cell_type": "markdown",
   "id": "d88e8de2",
   "metadata": {},
   "source": [
    "# OCSVM Testing with PCA"
   ]
  },
  {
   "cell_type": "code",
   "execution_count": 167,
   "id": "c85a6f45",
   "metadata": {},
   "outputs": [
    {
     "name": "stdout",
     "output_type": "stream",
     "text": [
      "Training accuracy: 0.5952\n",
      "[[5660 4051]\n",
      " [5074 7759]]\n"
     ]
    }
   ],
   "source": [
    "model_svm = joblib.load('model_svm_pca.sav')\n",
    "y_pred_svm_test = model_svm.predict(test_one_hot_data_svm)\n",
    "\n",
    "y_pred_svm_test = np.where(y_pred_svm_test == -1, 0, y_pred_svm_test)\n",
    "test_acc_svm = accuracy_score(kdd_test_y['class_binary'], y_pred_svm_test)\n",
    "print(\"Training accuracy: {:.4f}\".format(test_acc_svm))\n",
    "cm_svm_test = confusion_matrix (kdd_test_y[\"class_binary\"], y_pred_svm_test)\n",
    "print(cm_svm_test)"
   ]
  },
  {
   "cell_type": "code",
   "execution_count": 168,
   "id": "8c66e8fa",
   "metadata": {},
   "outputs": [
    {
     "data": {
      "text/plain": [
       "Text(0.5, 1.0, 'Seaborn Confusion Matrix with labels\\n\\n')"
      ]
     },
     "execution_count": 168,
     "metadata": {},
     "output_type": "execute_result"
    },
    {
     "data": {
      "text/plain": [
       "Text(0.5, 15.0, '\\nPredicted Values')"
      ]
     },
     "execution_count": 168,
     "metadata": {},
     "output_type": "execute_result"
    },
    {
     "data": {
      "text/plain": [
       "Text(33.0, 0.5, 'Actual Values ')"
      ]
     },
     "execution_count": 168,
     "metadata": {},
     "output_type": "execute_result"
    },
    {
     "data": {
      "text/plain": [
       "[Text(0.5, 0, 'False'), Text(1.5, 0, 'True')]"
      ]
     },
     "execution_count": 168,
     "metadata": {},
     "output_type": "execute_result"
    },
    {
     "data": {
      "text/plain": [
       "[Text(0, 0.5, 'False'), Text(0, 1.5, 'True')]"
      ]
     },
     "execution_count": 168,
     "metadata": {},
     "output_type": "execute_result"
    },
    {
     "data": {
      "image/png": "[encoded data removed]",
      "text/plain": [
       "<Figure size 432x288 with 2 Axes>"
      ]
     },
     "metadata": {
      "needs_background": "light"
     },
     "output_type": "display_data"
    },
    {
     "name": "stdout",
     "output_type": "stream",
     "text": [
      "Precision:  0.6569856054191363\n",
      "Recall 0.6046131068339438\n"
     ]
    }
   ],
   "source": [
    "ax = sns.heatmap(cm_svm_test, annot=True, cmap='Blues')\n",
    "\n",
    "ax.set_title('Seaborn Confusion Matrix with labels\\n\\n');\n",
    "ax.set_xlabel('\\nPredicted Values')\n",
    "ax.set_ylabel('Actual Values ');\n",
    "\n",
    "## Ticket labels - List must be in alphabetical order\n",
    "ax.xaxis.set_ticklabels(['False','True'])\n",
    "ax.yaxis.set_ticklabels(['False','True'])\n",
    "\n",
    "## Display the visualization of the Confusion Matrix.\n",
    "plt.show()\n",
    "\n",
    "\n",
    "## FP,FN,TP,TN\n",
    "TN_svm = cm_svm_test[0][0]\n",
    "FN_svm = cm_svm_test[1][0]\n",
    "FP_svm = cm_svm_test[0][1]\n",
    "TP_svm = cm_svm_test[1][1]\n",
    "\n",
    "\n",
    "##Precision and Recall\n",
    "Precision_svm_test = TP_svm/(TP_svm+FP_svm)\n",
    "Recall_svm_test = TP_svm/(TP_svm+FN_svm)\n",
    "\n",
    "print (\"Precision: \",Precision_svm_test)\n",
    "print (\"Recall\",Recall_svm_test)"
   ]
  },
  {
   "cell_type": "markdown",
   "id": "4db845d9",
   "metadata": {},
   "source": [
    "# Kmean Cluster Testing (Without PCA)"
   ]
  },
  {
   "cell_type": "code",
   "execution_count": 169,
   "id": "b4b85e62",
   "metadata": {},
   "outputs": [],
   "source": [
    "test_one_hot_data_kmean_ss = test_one_hot_data_ss.drop(['p-value'],axis=1)"
   ]
  },
  {
   "cell_type": "code",
   "execution_count": 170,
   "id": "92559cb6",
   "metadata": {},
   "outputs": [],
   "source": [
    "kmean_ss = joblib.load('kmean_ss.sav')"
   ]
  },
  {
   "cell_type": "code",
   "execution_count": 171,
   "id": "41470c45",
   "metadata": {},
   "outputs": [
    {
     "name": "stderr",
     "output_type": "stream",
     "text": [
      "C:\\WINDOWS\\system32\\myenv\\lib\\site-packages\\sklearn\\base.py:443: UserWarning: X has feature names, but KMeans was fitted without feature names\n",
      "  warnings.warn(\n"
     ]
    }
   ],
   "source": [
    "kmean_test_result_ss = kmean_ss.predict(test_one_hot_data_kmean_ss)"
   ]
  },
  {
   "cell_type": "code",
   "execution_count": 172,
   "id": "03adb5ad",
   "metadata": {},
   "outputs": [],
   "source": [
    "kmean_test_result_ss_c = kmean_test_result_ss"
   ]
  },
  {
   "cell_type": "code",
   "execution_count": 173,
   "id": "60e74a0b",
   "metadata": {},
   "outputs": [],
   "source": [
    "count_1 = np.count_nonzero(kmean_test_result_ss==1)\n",
    "count_0 = kmean_test_result_ss.shape[0] - np.count_nonzero(kmean_test_result_ss==1)"
   ]
  },
  {
   "cell_type": "code",
   "execution_count": 174,
   "id": "0bbb917e",
   "metadata": {},
   "outputs": [
    {
     "data": {
      "text/plain": [
       "array([0, 0, 0, ..., 0, 0, 0])"
      ]
     },
     "execution_count": 174,
     "metadata": {},
     "output_type": "execute_result"
    }
   ],
   "source": [
    "kmean_test_result_ss_c"
   ]
  },
  {
   "cell_type": "code",
   "execution_count": 175,
   "id": "7f2ca3f0",
   "metadata": {},
   "outputs": [],
   "source": [
    "#if 1 > 0, then change 1 to 0 and 0 to 1\n",
    "if(count_1 > count_0):\n",
    "    kmean_test_result_ss = np.where(kmean_test_result_ss_c ==1, 0, kmean_test_result_ss)\n",
    "    kmean_test_result_ss = np.where(kmean_test_result_ss_c ==0, 1, kmean_test_result_ss)"
   ]
  },
  {
   "cell_type": "code",
   "execution_count": 176,
   "id": "9361d926",
   "metadata": {},
   "outputs": [
    {
     "name": "stdout",
     "output_type": "stream",
     "text": [
      "Training accuracy: 0.5431\n",
      "[[ 9690    21]\n",
      " [10280  2553]]\n"
     ]
    }
   ],
   "source": [
    "test_acc_kmean_ss = accuracy_score(kdd_test_y['class_binary'], kmean_test_result_ss)\n",
    "print(\"Training accuracy: {:.4f}\".format(test_acc_kmean_ss))\n",
    "cm_kmean_test_ss = confusion_matrix (kdd_test_y[\"class_binary\"], kmean_test_result_ss)\n",
    "print(cm_kmean_test_ss)"
   ]
  },
  {
   "cell_type": "code",
   "execution_count": 177,
   "id": "72509b41",
   "metadata": {},
   "outputs": [
    {
     "data": {
      "text/plain": [
       "Text(0.5, 1.0, 'Seaborn Confusion Matrix with labels\\n\\n')"
      ]
     },
     "execution_count": 177,
     "metadata": {},
     "output_type": "execute_result"
    },
    {
     "data": {
      "text/plain": [
       "Text(0.5, 15.0, '\\nPredicted Values')"
      ]
     },
     "execution_count": 177,
     "metadata": {},
     "output_type": "execute_result"
    },
    {
     "data": {
      "text/plain": [
       "Text(33.0, 0.5, 'Actual Values ')"
      ]
     },
     "execution_count": 177,
     "metadata": {},
     "output_type": "execute_result"
    },
    {
     "data": {
      "text/plain": [
       "[Text(0.5, 0, 'False'), Text(1.5, 0, 'True')]"
      ]
     },
     "execution_count": 177,
     "metadata": {},
     "output_type": "execute_result"
    },
    {
     "data": {
      "text/plain": [
       "[Text(0, 0.5, 'False'), Text(0, 1.5, 'True')]"
      ]
     },
     "execution_count": 177,
     "metadata": {},
     "output_type": "execute_result"
    },
    {
     "data": {
      "image/png": "[encoded data removed]",
      "text/plain": [
       "<Figure size 432x288 with 2 Axes>"
      ]
     },
     "metadata": {
      "needs_background": "light"
     },
     "output_type": "display_data"
    },
    {
     "name": "stdout",
     "output_type": "stream",
     "text": [
      "Precision:  0.9918414918414918\n",
      "Recall 0.19894023221382373\n"
     ]
    }
   ],
   "source": [
    "    ax = sns.heatmap(cm_kmean_test_ss, annot=True, cmap='Blues')\n",
    "\n",
    "    ax.set_title('Seaborn Confusion Matrix with labels\\n\\n');\n",
    "    ax.set_xlabel('\\nPredicted Values')\n",
    "    ax.set_ylabel('Actual Values ');\n",
    "\n",
    "    ## Ticket labels - List must be in alphabetical order\n",
    "    ax.xaxis.set_ticklabels(['False','True'])\n",
    "    ax.yaxis.set_ticklabels(['False','True'])\n",
    "\n",
    "    ## Display the visualization of the Confusion Matrix.\n",
    "    plt.show()\n",
    "\n",
    "\n",
    "    ## FP,FN,TP,TN\n",
    "    TN_kmean = cm_kmean_test_ss[0][0]\n",
    "    FN_kmean = cm_kmean_test_ss[1][0]\n",
    "    FP_kmean = cm_kmean_test_ss[0][1]\n",
    "    TP_kmean = cm_kmean_test_ss[1][1]\n",
    "\n",
    "\n",
    "    ##Precision and Recall\n",
    "    Precision_kmean_test_ss = TP_kmean/(TP_kmean+FP_kmean)\n",
    "    Recall_kmean_test_ss = TP_kmean/(TP_kmean+FN_kmean)\n",
    "\n",
    "    print (\"Precision: \",Precision_kmean_test_ss)\n",
    "    print (\"Recall\",Recall_kmean_test_ss)"
   ]
  },
  {
   "cell_type": "markdown",
   "id": "8bcdfc41",
   "metadata": {},
   "source": [
    "# Kmean Clustering Testing (With PCA)"
   ]
  },
  {
   "cell_type": "code",
   "execution_count": 178,
   "id": "51e003f1",
   "metadata": {},
   "outputs": [],
   "source": [
    "kmean_pca = KMeans(n_clusters = 2)"
   ]
  },
  {
   "cell_type": "code",
   "execution_count": 179,
   "id": "1f7284a3",
   "metadata": {},
   "outputs": [],
   "source": [
    "test_one_hot_data_kmean = test_one_hot_data_pca.drop(['p-value'],axis=1)"
   ]
  },
  {
   "cell_type": "code",
   "execution_count": 180,
   "id": "5f99d034",
   "metadata": {},
   "outputs": [],
   "source": [
    "kmean_pca = joblib.load('kmean.sav')"
   ]
  },
  {
   "cell_type": "code",
   "execution_count": 181,
   "id": "647b49ef",
   "metadata": {},
   "outputs": [],
   "source": [
    "#kmean_pca.fit(test_one_hot_data_kmean)\n",
    "\n",
    "kmean_test_result = kmean_pca.predict(test_one_hot_data_kmean)\n",
    "kmean_test_result_c = kmean_test_result"
   ]
  },
  {
   "cell_type": "code",
   "execution_count": 182,
   "id": "ab88c89e",
   "metadata": {},
   "outputs": [],
   "source": [
    "count_1 = np.count_nonzero(kmean_test_result==1)\n",
    "count_0 = kmean_test_result.shape[0] - np.count_nonzero(kmean_test_result==1)"
   ]
  },
  {
   "cell_type": "code",
   "execution_count": 183,
   "id": "a7fb6ae8",
   "metadata": {},
   "outputs": [
    {
     "data": {
      "text/plain": [
       "array([0, 0, 1, ..., 1, 0, 0])"
      ]
     },
     "execution_count": 183,
     "metadata": {},
     "output_type": "execute_result"
    }
   ],
   "source": [
    "kmean_test_result"
   ]
  },
  {
   "cell_type": "code",
   "execution_count": 184,
   "id": "616890f1",
   "metadata": {},
   "outputs": [],
   "source": [
    "\n",
    "    kmean_test_result = np.where(kmean_test_result_c ==1, 0, kmean_test_result)\n",
    "    kmean_test_result = np.where(kmean_test_result_c ==0, 1, kmean_test_result)"
   ]
  },
  {
   "cell_type": "code",
   "execution_count": 185,
   "id": "752abea6",
   "metadata": {},
   "outputs": [
    {
     "data": {
      "text/plain": [
       "array([1, 1, 0, ..., 0, 1, 1])"
      ]
     },
     "execution_count": 185,
     "metadata": {},
     "output_type": "execute_result"
    }
   ],
   "source": [
    "kmean_test_result"
   ]
  },
  {
   "cell_type": "code",
   "execution_count": 186,
   "id": "d5cfce89",
   "metadata": {},
   "outputs": [
    {
     "name": "stdout",
     "output_type": "stream",
     "text": [
      "Training accuracy: 0.7488\n",
      "[[7889 1822]\n",
      " [3840 8993]]\n"
     ]
    }
   ],
   "source": [
    "test_acc_kmean = accuracy_score(kdd_test_y['class_binary'], kmean_test_result)\n",
    "print(\"Training accuracy: {:.4f}\".format(test_acc_kmean))\n",
    "cm_kmean_test = confusion_matrix (kdd_test_y[\"class_binary\"], kmean_test_result)\n",
    "print(cm_kmean_test)"
   ]
  },
  {
   "cell_type": "code",
   "execution_count": 187,
   "id": "973d5c53",
   "metadata": {},
   "outputs": [
    {
     "data": {
      "text/plain": [
       "Text(0.5, 1.0, 'Seaborn Confusion Matrix with labels\\n\\n')"
      ]
     },
     "execution_count": 187,
     "metadata": {},
     "output_type": "execute_result"
    },
    {
     "data": {
      "text/plain": [
       "Text(0.5, 15.0, '\\nPredicted Values')"
      ]
     },
     "execution_count": 187,
     "metadata": {},
     "output_type": "execute_result"
    },
    {
     "data": {
      "text/plain": [
       "Text(33.0, 0.5, 'Actual Values ')"
      ]
     },
     "execution_count": 187,
     "metadata": {},
     "output_type": "execute_result"
    },
    {
     "data": {
      "text/plain": [
       "[Text(0.5, 0, 'False'), Text(1.5, 0, 'True')]"
      ]
     },
     "execution_count": 187,
     "metadata": {},
     "output_type": "execute_result"
    },
    {
     "data": {
      "text/plain": [
       "[Text(0, 0.5, 'False'), Text(0, 1.5, 'True')]"
      ]
     },
     "execution_count": 187,
     "metadata": {},
     "output_type": "execute_result"
    },
    {
     "data": {
      "image/png": "[encoded data removed]",
      "text/plain": [
       "<Figure size 432x288 with 2 Axes>"
      ]
     },
     "metadata": {
      "needs_background": "light"
     },
     "output_type": "display_data"
    },
    {
     "name": "stdout",
     "output_type": "stream",
     "text": [
      "Precision:  0.8315302820157189\n",
      "Recall 0.7007714486090548\n"
     ]
    }
   ],
   "source": [
    "    ax = sns.heatmap(cm_kmean_test, annot=True, cmap='Blues')\n",
    "\n",
    "    ax.set_title('Seaborn Confusion Matrix with labels\\n\\n');\n",
    "    ax.set_xlabel('\\nPredicted Values')\n",
    "    ax.set_ylabel('Actual Values ');\n",
    "\n",
    "    ## Ticket labels - List must be in alphabetical order\n",
    "    ax.xaxis.set_ticklabels(['False','True'])\n",
    "    ax.yaxis.set_ticklabels(['False','True'])\n",
    "\n",
    "    ## Display the visualization of the Confusion Matrix.\n",
    "    plt.show()\n",
    "\n",
    "\n",
    "    ## FP,FN,TP,TN\n",
    "    TN_kmean = cm_kmean_test[0][0]\n",
    "    FN_kmean = cm_kmean_test[1][0]\n",
    "    FP_kmean = cm_kmean_test[0][1]\n",
    "    TP_kmean = cm_kmean_test[1][1]\n",
    "\n",
    "\n",
    "    ##Precision and Recall\n",
    "    Precision_kmean_test = TP_kmean/(TP_kmean+FP_kmean)\n",
    "    Recall_kmean_test = TP_kmean/(TP_kmean+FN_kmean)\n",
    "\n",
    "    print (\"Precision: \",Precision_kmean_test)\n",
    "    print (\"Recall\",Recall_kmean_test)"
   ]
  },
  {
   "cell_type": "markdown",
   "id": "b408a4b9",
   "metadata": {},
   "source": [
    "# MCD Testing Without PCA"
   ]
  },
  {
   "cell_type": "code",
   "execution_count": 188,
   "id": "3ccee90a",
   "metadata": {},
   "outputs": [],
   "source": [
    "test_one_hot_data_mcd_ss = test_one_hot_data_ss.drop(['p-value'],axis=1)\n",
    "model_mcd_ss = joblib.load('model_mcd_ss.sav')"
   ]
  },
  {
   "cell_type": "code",
   "execution_count": 189,
   "id": "b446bca2",
   "metadata": {},
   "outputs": [
    {
     "name": "stderr",
     "output_type": "stream",
     "text": [
      "C:\\WINDOWS\\system32\\myenv\\lib\\site-packages\\sklearn\\covariance\\_robust_covariance.py:738: UserWarning: The covariance matrix associated to your dataset is not full rank\n",
      "  warnings.warn(\n"
     ]
    }
   ],
   "source": [
    "# correct_cov = model_mcd_ss.correct_covariance(test_one_hot_data_mcd_ss)\n",
    "# correct_cov\n",
    "model_mcd_ss = MinCovDet(random_state=42).fit(test_one_hot_data_mcd_ss)\n",
    "\n",
    "\n",
    "#model_mcd_ss.covariance_"
   ]
  },
  {
   "cell_type": "code",
   "execution_count": 190,
   "id": "6888c3cb",
   "metadata": {},
   "outputs": [
    {
     "data": {
      "text/plain": [
       "array([ 2.71055160e-17,  3.78216502e-18,  1.89108251e-18,  2.52144335e-18,\n",
       "        6.30360837e-19,  3.15180419e-19,  1.48134797e-17,  5.98842795e-18,\n",
       "        1.38679384e-17,  3.78216502e-18,  1.68621524e-17, -3.78216502e-18,\n",
       "        2.52144335e-18, -6.30360837e-19, -3.78216502e-18, -3.78216502e-18,\n",
       "        1.89108251e-18,  3.07300908e-17, -3.53002069e-17,  1.70197426e-17,\n",
       "        5.54717537e-17,  2.26929901e-17, -1.76501034e-17,  2.20626293e-17,\n",
       "       -3.43546656e-16, -1.63893818e-17,  6.96548725e-17, -1.67045622e-17,\n",
       "        7.76919732e-17, -1.31430235e-16, -8.19469088e-18,  3.27787635e-17,\n",
       "        1.92260055e-17, -2.52144335e-17, -4.83801943e-17,  1.76501034e-17,\n",
       "       -1.57590209e-17,  5.76650106e-04,  6.65365507e-04,  1.99609652e-03,\n",
       "        0.00000000e+00,  2.97196593e-03,  2.04045422e-03,  1.77430802e-03,\n",
       "        1.50816182e-03,  1.81866572e-03,  1.24201561e-03,  1.15330021e-03,\n",
       "        2.26224273e-03,  3.96557842e-02,  1.64123492e-03,  1.16217175e-02,\n",
       "        3.33569908e-02,  1.46380412e-03,  1.19765791e-03,  6.03264727e-03,\n",
       "        3.06955287e-02,  3.77484031e-02,  1.50816182e-03,  0.00000000e+00,\n",
       "        1.02022711e-03,  3.48341022e-01,  0.00000000e+00,  1.59687722e-03,\n",
       "        0.00000000e+00,  1.35734564e-02,  2.12916962e-03,  9.31511710e-04,\n",
       "        1.06458481e-03,  8.42796309e-04,  1.81866572e-03,  1.28637331e-03,\n",
       "        1.41944642e-03,  1.64123492e-03,  1.10894251e-03,  1.59687722e-03,\n",
       "        6.65365507e-04,  1.15330021e-03,  1.86302342e-03,  9.31511710e-04,\n",
       "        4.43577005e-04,  3.71717530e-02,  7.09723208e-04,  5.76650106e-04,\n",
       "        4.52004968e-02,  4.87934705e-04,  2.11763662e-01,  0.00000000e+00,\n",
       "        6.21007807e-04,  3.54861604e-04,  7.09723208e-04,  4.14300923e-02,\n",
       "        7.98438609e-04,  1.15330021e-03,  7.05287438e-03,  1.19765791e-03,\n",
       "        1.41944642e-03,  7.21256210e-02,  4.43577005e-05,  2.66146203e-04,\n",
       "        1.59687722e-03,  0.00000000e+00,  1.02022711e-03,  2.21788502e-03,\n",
       "        2.04045422e-03,  1.90738112e-03,  1.77430802e-03,  1.77430802e-04,\n",
       "        1.70777147e-01,  3.42885025e-02,  8.87154010e-05,  2.96753016e-02,\n",
       "        8.92920511e-02,  9.31511710e-04,  6.65365507e-04,  1.10450674e-02,\n",
       "        6.59820795e-01,  3.23811214e-03,  4.62650816e-02,  8.37473385e-01,\n",
       "        1.16261533e-01])"
      ]
     },
     "execution_count": 190,
     "metadata": {},
     "output_type": "execute_result"
    },
    {
     "data": {
      "text/plain": [
       "array([[ 1.80137153e+00,  7.88031525e-02, -8.65253143e-02, ...,\n",
       "         5.41261256e-01, -1.11622464e+00,  5.74963386e-01],\n",
       "       [ 7.88031525e-02,  1.15244861e+00,  1.19750037e-02, ...,\n",
       "         2.11561824e-01, -2.02934412e-01, -8.62741200e-03],\n",
       "       [-8.65253143e-02,  1.19750037e-02,  1.10007136e+00, ...,\n",
       "         7.43466023e-02,  1.18577283e-01, -1.92923885e-01],\n",
       "       ...,\n",
       "       [ 5.41261256e-01,  2.11561824e-01,  7.43466023e-02, ...,\n",
       "         1.12134323e+02, -6.12428185e+01, -5.08915049e+01],\n",
       "       [-1.11622464e+00, -2.02934412e-01,  1.18577283e-01, ...,\n",
       "        -6.12428185e+01,  5.81092728e+01,  3.13354566e+00],\n",
       "       [ 5.74963386e-01, -8.62741200e-03, -1.92923885e-01, ...,\n",
       "        -5.08915049e+01,  3.13354566e+00,  4.77579593e+01]])"
      ]
     },
     "execution_count": 190,
     "metadata": {},
     "output_type": "execute_result"
    }
   ],
   "source": [
    "np.mean(data_array_test_ss,axis = 0)\n",
    "sp.linalg.pinv(np.cov(data_array_test_ss, rowvar=False))\n",
    "inv_cormat_mcd_ss_test = sp.linalg.pinv(model_mcd_ss.covariance_)\n",
    "mu_vect_mcd_ss_test = model_mcd_ss.location_"
   ]
  },
  {
   "cell_type": "code",
   "execution_count": 260,
   "id": "b79f01b5",
   "metadata": {},
   "outputs": [],
   "source": [
    "mahal_dist_test_ss = []\n",
    "for i in range(data_array_test_ss.shape[0]):\n",
    "    x_minus_mu_mcd_ss_test = data_array_test_ss[i,:] - mu_vect_mcd_ss_test\n",
    "    left_term_mcd_ss_test = np.dot(x_minus_mu_mcd_ss_test, inv_cormat_mcd_ss)\n",
    "    mahal = np.dot(left_term_mcd_ss_test, x_minus_mu_mcd_ss_test.T)\n",
    "    mahal = np.sqrt(mahal)\n",
    "    mahal_dist_test_ss.append(mahal)"
   ]
  },
  {
   "cell_type": "code",
   "execution_count": 261,
   "id": "c0c64731",
   "metadata": {},
   "outputs": [
    {
     "name": "stderr",
     "output_type": "stream",
     "text": [
      "C:\\WINDOWS\\system32\\myenv\\lib\\site-packages\\numpy\\core\\fromnumeric.py:3430: FutureWarning: In a future version, DataFrame.mean(axis=None) will return a scalar mean over the entire DataFrame. To retain the old behavior, use 'frame.mean(axis=0)' or just 'frame.mean()'\n",
      "  return mean(axis=axis, dtype=dtype, out=out, **kwargs)\n"
     ]
    },
    {
     "data": {
      "text/plain": [
       "duration              2.710552e-17\n",
       "src_bytes             3.782165e-18\n",
       "dst_bytes             1.891083e-18\n",
       "land                  2.521443e-18\n",
       "wrong_fragment        6.303608e-19\n",
       "                          ...     \n",
       "flag_SH               3.238112e-03\n",
       "protocol_type_icmp    4.626508e-02\n",
       "protocol_type_tcp     8.374734e-01\n",
       "protocol_type_udp     1.162615e-01\n",
       "p-value_mcd           6.398984e-01\n",
       "Length: 122, dtype: float64"
      ]
     },
     "execution_count": 261,
     "metadata": {},
     "output_type": "execute_result"
    },
    {
     "name": "stdout",
     "output_type": "stream",
     "text": [
      "15865\n"
     ]
    }
   ],
   "source": [
    "np.mean(test_one_hot_data_mcd_ss)\n",
    "\n",
    "from scipy.stats import chi2\n",
    "test_one_hot_data_mcd_ss['p-value_mcd'] = 1 - chi2.cdf(mahal_dist_test_ss, df = 120) #pdf(x, degreeOfFreedom = Number of Variables)\n",
    "\n",
    "#Calculate number of p-value less than 0.01\n",
    "print(np.count_nonzero(test_one_hot_data_mcd_ss['p-value_mcd'] < 0.01))"
   ]
  },
  {
   "cell_type": "code",
   "execution_count": 262,
   "id": "2308c0a5",
   "metadata": {},
   "outputs": [
    {
     "data": {
      "text/plain": [
       "0        0.000000\n",
       "1        0.000000\n",
       "2        0.000000\n",
       "3        0.072069\n",
       "4        0.000000\n",
       "           ...   \n",
       "22539    0.545281\n",
       "22540    0.877967\n",
       "22541    0.000000\n",
       "22542    0.078959\n",
       "22543    0.000000\n",
       "Name: p-value_mcd, Length: 22544, dtype: float64"
      ]
     },
     "execution_count": 262,
     "metadata": {},
     "output_type": "execute_result"
    }
   ],
   "source": [
    "test_one_hot_data_mcd_ss['p-value_mcd'] "
   ]
  },
  {
   "cell_type": "code",
   "execution_count": 263,
   "id": "3396c378",
   "metadata": {},
   "outputs": [],
   "source": [
    "pvalue_mcd = test_one_hot_data_mcd_ss['p-value_mcd']\n",
    "bi_pvalue_mcd = pvalue_mcd\n",
    "\n",
    "bi_pvalue_mcd = np.where(pvalue_mcd < 0.01, 1, bi_pvalue_mcd)\n",
    "bi_pvalue_mcd = np.where(pvalue_mcd >= 0.01, 0, bi_pvalue_mcd)"
   ]
  },
  {
   "cell_type": "code",
   "execution_count": 264,
   "id": "369c6823",
   "metadata": {},
   "outputs": [
    {
     "name": "stdout",
     "output_type": "stream",
     "text": [
      "Training accuracy: 0.8347\n",
      "[[ 6332  3379]\n",
      " [  347 12486]]\n"
     ]
    }
   ],
   "source": [
    "from sklearn.metrics import accuracy_score\n",
    "\n",
    "test_acc_maha_mcd_ss = accuracy_score(kdd_test_y['class_binary'], bi_pvalue_mcd)\n",
    "print(\"Training accuracy: {:.4f}\".format(test_acc_maha_mcd_ss))\n",
    "cm_maha_mcd_test_ss = confusion_matrix (kdd_test_y[\"class_binary\"], bi_pvalue_mcd)\n",
    "print(cm_maha_mcd_test_ss)"
   ]
  },
  {
   "cell_type": "code",
   "execution_count": 196,
   "id": "c242b32b",
   "metadata": {},
   "outputs": [
    {
     "data": {
      "text/plain": [
       "Text(0.5, 1.0, 'Seaborn Confusion Matrix with labels\\n\\n')"
      ]
     },
     "execution_count": 196,
     "metadata": {},
     "output_type": "execute_result"
    },
    {
     "data": {
      "text/plain": [
       "Text(0.5, 15.0, '\\nPredicted Values')"
      ]
     },
     "execution_count": 196,
     "metadata": {},
     "output_type": "execute_result"
    },
    {
     "data": {
      "text/plain": [
       "Text(33.0, 0.5, 'Actual Values ')"
      ]
     },
     "execution_count": 196,
     "metadata": {},
     "output_type": "execute_result"
    },
    {
     "data": {
      "text/plain": [
       "[Text(0.5, 0, 'False'), Text(1.5, 0, 'True')]"
      ]
     },
     "execution_count": 196,
     "metadata": {},
     "output_type": "execute_result"
    },
    {
     "data": {
      "text/plain": [
       "[Text(0, 0.5, 'False'), Text(0, 1.5, 'True')]"
      ]
     },
     "execution_count": 196,
     "metadata": {},
     "output_type": "execute_result"
    },
    {
     "data": {
      "image/png": "[encoded data removed]",
      "text/plain": [
       "<Figure size 432x288 with 2 Axes>"
      ]
     },
     "metadata": {
      "needs_background": "light"
     },
     "output_type": "display_data"
    },
    {
     "name": "stdout",
     "output_type": "stream",
     "text": [
      "0.8082868727825646\n",
      "0.4970778461778228\n"
     ]
    }
   ],
   "source": [
    "ax = sns.heatmap(cm_maha_mcd_test_ss, annot=True, cmap='Blues')\n",
    "\n",
    "ax.set_title('Seaborn Confusion Matrix with labels\\n\\n');\n",
    "ax.set_xlabel('\\nPredicted Values')\n",
    "ax.set_ylabel('Actual Values ');\n",
    "\n",
    "## Ticket labels - List must be in alphabetical order\n",
    "ax.xaxis.set_ticklabels(['False','True'])\n",
    "ax.yaxis.set_ticklabels(['False','True'])\n",
    "\n",
    "## Display the visualization of the Confusion Matrix.\n",
    "plt.show()\n",
    "\n",
    "## FP,FN,TP,TN\n",
    "TN_maha_mcd = cm_maha_mcd_test_ss[0][0]\n",
    "FN_maha_mcd = cm_maha_mcd_test_ss[1][0]\n",
    "FP_maha_mcd = cm_maha_mcd_test_ss[0][1]\n",
    "TP_maha_mcd = cm_maha_mcd_test_ss[1][1]\n",
    "\n",
    "##Precision and Recall\n",
    "Precision_maha_mcd_test_ss = TP_maha_mcd/(TP_maha_mcd+FP_maha_mcd)\n",
    "Recall_maha_mcd_test_ss = TP_maha_mcd/(TP_maha_mcd+FN_maha_mcd)\n",
    "\n",
    "print (Precision_maha_mcd_test_ss)\n",
    "print (Recall_maha_mcd_test_ss)"
   ]
  },
  {
   "cell_type": "markdown",
   "id": "43e2c825",
   "metadata": {},
   "source": [
    "## MCD after PCA "
   ]
  },
  {
   "cell_type": "code",
   "execution_count": 197,
   "id": "88dd7425",
   "metadata": {},
   "outputs": [
    {
     "data": {
      "text/html": [
       "<div>\n",
       "<style scoped>\n",
       "    .dataframe tbody tr th:only-of-type {\n",
       "        vertical-align: middle;\n",
       "    }\n",
       "\n",
       "    .dataframe tbody tr th {\n",
       "        vertical-align: top;\n",
       "    }\n",
       "\n",
       "    .dataframe thead th {\n",
       "        text-align: right;\n",
       "    }\n",
       "</style>\n",
       "<table border=\"1\" class=\"dataframe\">\n",
       "  <thead>\n",
       "    <tr style=\"text-align: right;\">\n",
       "      <th></th>\n",
       "      <th>Variable 0</th>\n",
       "      <th>Variable 1</th>\n",
       "      <th>Variable 2</th>\n",
       "      <th>Variable 3</th>\n",
       "      <th>Variable 4</th>\n",
       "      <th>Variable 5</th>\n",
       "      <th>Variable 6</th>\n",
       "      <th>Variable 7</th>\n",
       "      <th>Variable 8</th>\n",
       "      <th>Variable 9</th>\n",
       "      <th>...</th>\n",
       "      <th>Variable 16</th>\n",
       "      <th>Variable 17</th>\n",
       "      <th>Variable 18</th>\n",
       "      <th>Variable 19</th>\n",
       "      <th>Variable 20</th>\n",
       "      <th>Variable 21</th>\n",
       "      <th>Variable 22</th>\n",
       "      <th>Variable 23</th>\n",
       "      <th>Variable 24</th>\n",
       "      <th>p-value</th>\n",
       "    </tr>\n",
       "  </thead>\n",
       "  <tbody>\n",
       "    <tr>\n",
       "      <th>0</th>\n",
       "      <td>1.678471</td>\n",
       "      <td>-0.872735</td>\n",
       "      <td>0.004462</td>\n",
       "      <td>0.120732</td>\n",
       "      <td>-0.347212</td>\n",
       "      <td>0.492001</td>\n",
       "      <td>0.395315</td>\n",
       "      <td>0.513245</td>\n",
       "      <td>-0.766786</td>\n",
       "      <td>-0.062395</td>\n",
       "      <td>...</td>\n",
       "      <td>-0.038879</td>\n",
       "      <td>0.089034</td>\n",
       "      <td>0.014808</td>\n",
       "      <td>-0.188971</td>\n",
       "      <td>-0.241507</td>\n",
       "      <td>0.056346</td>\n",
       "      <td>0.496640</td>\n",
       "      <td>0.262575</td>\n",
       "      <td>0.138653</td>\n",
       "      <td>0.121939</td>\n",
       "    </tr>\n",
       "    <tr>\n",
       "      <th>1</th>\n",
       "      <td>1.650825</td>\n",
       "      <td>-0.871036</td>\n",
       "      <td>0.022690</td>\n",
       "      <td>0.353080</td>\n",
       "      <td>-0.343112</td>\n",
       "      <td>0.335960</td>\n",
       "      <td>0.348479</td>\n",
       "      <td>0.469323</td>\n",
       "      <td>-0.854538</td>\n",
       "      <td>-0.026490</td>\n",
       "      <td>...</td>\n",
       "      <td>-0.010820</td>\n",
       "      <td>0.145410</td>\n",
       "      <td>-0.009777</td>\n",
       "      <td>-0.598956</td>\n",
       "      <td>-0.375655</td>\n",
       "      <td>0.079058</td>\n",
       "      <td>0.296593</td>\n",
       "      <td>-0.032018</td>\n",
       "      <td>0.187080</td>\n",
       "      <td>0.120078</td>\n",
       "    </tr>\n",
       "    <tr>\n",
       "      <th>2</th>\n",
       "      <td>-0.427776</td>\n",
       "      <td>-0.027269</td>\n",
       "      <td>-0.060373</td>\n",
       "      <td>-0.582328</td>\n",
       "      <td>0.404469</td>\n",
       "      <td>-0.682267</td>\n",
       "      <td>-0.200591</td>\n",
       "      <td>-0.123556</td>\n",
       "      <td>-0.589348</td>\n",
       "      <td>0.143092</td>\n",
       "      <td>...</td>\n",
       "      <td>0.104159</td>\n",
       "      <td>0.405101</td>\n",
       "      <td>-0.178828</td>\n",
       "      <td>-1.405570</td>\n",
       "      <td>-1.652640</td>\n",
       "      <td>0.167053</td>\n",
       "      <td>-0.244760</td>\n",
       "      <td>-0.560929</td>\n",
       "      <td>0.151231</td>\n",
       "      <td>0.101562</td>\n",
       "    </tr>\n",
       "    <tr>\n",
       "      <th>3</th>\n",
       "      <td>-0.761174</td>\n",
       "      <td>-0.208430</td>\n",
       "      <td>-0.118920</td>\n",
       "      <td>-1.318459</td>\n",
       "      <td>0.976188</td>\n",
       "      <td>-3.314352</td>\n",
       "      <td>0.566545</td>\n",
       "      <td>1.467813</td>\n",
       "      <td>-0.909148</td>\n",
       "      <td>-0.158969</td>\n",
       "      <td>...</td>\n",
       "      <td>0.286520</td>\n",
       "      <td>-1.667151</td>\n",
       "      <td>0.537777</td>\n",
       "      <td>-0.640798</td>\n",
       "      <td>0.353681</td>\n",
       "      <td>-0.069413</td>\n",
       "      <td>-0.619800</td>\n",
       "      <td>0.387078</td>\n",
       "      <td>0.831191</td>\n",
       "      <td>0.024578</td>\n",
       "    </tr>\n",
       "    <tr>\n",
       "      <th>4</th>\n",
       "      <td>0.598909</td>\n",
       "      <td>-0.747321</td>\n",
       "      <td>0.025752</td>\n",
       "      <td>0.710066</td>\n",
       "      <td>-0.131553</td>\n",
       "      <td>-1.442168</td>\n",
       "      <td>0.498370</td>\n",
       "      <td>0.965455</td>\n",
       "      <td>-0.426954</td>\n",
       "      <td>-0.115367</td>\n",
       "      <td>...</td>\n",
       "      <td>0.298522</td>\n",
       "      <td>-1.560846</td>\n",
       "      <td>0.244325</td>\n",
       "      <td>0.749019</td>\n",
       "      <td>-1.549602</td>\n",
       "      <td>-0.039398</td>\n",
       "      <td>-1.909888</td>\n",
       "      <td>1.245669</td>\n",
       "      <td>-1.707417</td>\n",
       "      <td>0.033676</td>\n",
       "    </tr>\n",
       "    <tr>\n",
       "      <th>...</th>\n",
       "      <td>...</td>\n",
       "      <td>...</td>\n",
       "      <td>...</td>\n",
       "      <td>...</td>\n",
       "      <td>...</td>\n",
       "      <td>...</td>\n",
       "      <td>...</td>\n",
       "      <td>...</td>\n",
       "      <td>...</td>\n",
       "      <td>...</td>\n",
       "      <td>...</td>\n",
       "      <td>...</td>\n",
       "      <td>...</td>\n",
       "      <td>...</td>\n",
       "      <td>...</td>\n",
       "      <td>...</td>\n",
       "      <td>...</td>\n",
       "      <td>...</td>\n",
       "      <td>...</td>\n",
       "      <td>...</td>\n",
       "      <td>...</td>\n",
       "    </tr>\n",
       "    <tr>\n",
       "      <th>22539</th>\n",
       "      <td>-0.677682</td>\n",
       "      <td>-0.135917</td>\n",
       "      <td>-0.011245</td>\n",
       "      <td>0.455168</td>\n",
       "      <td>-0.042928</td>\n",
       "      <td>-0.256884</td>\n",
       "      <td>-0.100000</td>\n",
       "      <td>-0.189836</td>\n",
       "      <td>0.184557</td>\n",
       "      <td>-0.148044</td>\n",
       "      <td>...</td>\n",
       "      <td>0.011649</td>\n",
       "      <td>0.372113</td>\n",
       "      <td>-0.168499</td>\n",
       "      <td>0.037984</td>\n",
       "      <td>-0.879563</td>\n",
       "      <td>0.102332</td>\n",
       "      <td>0.689722</td>\n",
       "      <td>0.934579</td>\n",
       "      <td>0.089700</td>\n",
       "      <td>0.171572</td>\n",
       "    </tr>\n",
       "    <tr>\n",
       "      <th>22540</th>\n",
       "      <td>-0.872991</td>\n",
       "      <td>-0.194655</td>\n",
       "      <td>-0.066623</td>\n",
       "      <td>0.452831</td>\n",
       "      <td>-0.413141</td>\n",
       "      <td>0.185445</td>\n",
       "      <td>0.112065</td>\n",
       "      <td>0.035403</td>\n",
       "      <td>0.523127</td>\n",
       "      <td>-0.197381</td>\n",
       "      <td>...</td>\n",
       "      <td>0.030961</td>\n",
       "      <td>0.042609</td>\n",
       "      <td>-0.075227</td>\n",
       "      <td>0.008422</td>\n",
       "      <td>0.335104</td>\n",
       "      <td>-0.003836</td>\n",
       "      <td>-0.023295</td>\n",
       "      <td>0.180490</td>\n",
       "      <td>0.502420</td>\n",
       "      <td>0.234581</td>\n",
       "    </tr>\n",
       "    <tr>\n",
       "      <th>22541</th>\n",
       "      <td>-0.814737</td>\n",
       "      <td>-0.235138</td>\n",
       "      <td>0.074933</td>\n",
       "      <td>0.712311</td>\n",
       "      <td>0.369909</td>\n",
       "      <td>0.794684</td>\n",
       "      <td>-0.066708</td>\n",
       "      <td>0.487747</td>\n",
       "      <td>0.673540</td>\n",
       "      <td>0.041892</td>\n",
       "      <td>...</td>\n",
       "      <td>-0.006817</td>\n",
       "      <td>-0.122758</td>\n",
       "      <td>-0.063016</td>\n",
       "      <td>-0.370471</td>\n",
       "      <td>0.833987</td>\n",
       "      <td>-0.274281</td>\n",
       "      <td>-0.387836</td>\n",
       "      <td>-0.042764</td>\n",
       "      <td>0.810355</td>\n",
       "      <td>0.141847</td>\n",
       "    </tr>\n",
       "    <tr>\n",
       "      <th>22542</th>\n",
       "      <td>-0.618400</td>\n",
       "      <td>-0.099512</td>\n",
       "      <td>-0.112588</td>\n",
       "      <td>-0.139796</td>\n",
       "      <td>-0.299245</td>\n",
       "      <td>0.215217</td>\n",
       "      <td>-0.019459</td>\n",
       "      <td>-0.011097</td>\n",
       "      <td>0.042121</td>\n",
       "      <td>-0.007055</td>\n",
       "      <td>...</td>\n",
       "      <td>0.188055</td>\n",
       "      <td>-0.449199</td>\n",
       "      <td>0.018744</td>\n",
       "      <td>-1.882945</td>\n",
       "      <td>0.507437</td>\n",
       "      <td>0.082619</td>\n",
       "      <td>-0.368431</td>\n",
       "      <td>0.264819</td>\n",
       "      <td>-2.208291</td>\n",
       "      <td>0.066965</td>\n",
       "    </tr>\n",
       "    <tr>\n",
       "      <th>22543</th>\n",
       "      <td>1.463070</td>\n",
       "      <td>-0.999785</td>\n",
       "      <td>0.020018</td>\n",
       "      <td>0.694845</td>\n",
       "      <td>-0.080750</td>\n",
       "      <td>-1.468044</td>\n",
       "      <td>0.126210</td>\n",
       "      <td>0.357275</td>\n",
       "      <td>1.220112</td>\n",
       "      <td>-0.285096</td>\n",
       "      <td>...</td>\n",
       "      <td>0.134693</td>\n",
       "      <td>-2.210278</td>\n",
       "      <td>0.421481</td>\n",
       "      <td>-0.685136</td>\n",
       "      <td>0.938789</td>\n",
       "      <td>-0.024303</td>\n",
       "      <td>1.005543</td>\n",
       "      <td>-2.329555</td>\n",
       "      <td>0.181016</td>\n",
       "      <td>0.020460</td>\n",
       "    </tr>\n",
       "  </tbody>\n",
       "</table>\n",
       "<p>22544 rows × 26 columns</p>\n",
       "</div>"
      ],
      "text/plain": [
       "       Variable 0  Variable 1  Variable 2  Variable 3  Variable 4  Variable 5  \\\n",
       "0        1.678471   -0.872735    0.004462    0.120732   -0.347212    0.492001   \n",
       "1        1.650825   -0.871036    0.022690    0.353080   -0.343112    0.335960   \n",
       "2       -0.427776   -0.027269   -0.060373   -0.582328    0.404469   -0.682267   \n",
       "3       -0.761174   -0.208430   -0.118920   -1.318459    0.976188   -3.314352   \n",
       "4        0.598909   -0.747321    0.025752    0.710066   -0.131553   -1.442168   \n",
       "...           ...         ...         ...         ...         ...         ...   \n",
       "22539   -0.677682   -0.135917   -0.011245    0.455168   -0.042928   -0.256884   \n",
       "22540   -0.872991   -0.194655   -0.066623    0.452831   -0.413141    0.185445   \n",
       "22541   -0.814737   -0.235138    0.074933    0.712311    0.369909    0.794684   \n",
       "22542   -0.618400   -0.099512   -0.112588   -0.139796   -0.299245    0.215217   \n",
       "22543    1.463070   -0.999785    0.020018    0.694845   -0.080750   -1.468044   \n",
       "\n",
       "       Variable 6  Variable 7  Variable 8  Variable 9  ...  Variable 16  \\\n",
       "0        0.395315    0.513245   -0.766786   -0.062395  ...    -0.038879   \n",
       "1        0.348479    0.469323   -0.854538   -0.026490  ...    -0.010820   \n",
       "2       -0.200591   -0.123556   -0.589348    0.143092  ...     0.104159   \n",
       "3        0.566545    1.467813   -0.909148   -0.158969  ...     0.286520   \n",
       "4        0.498370    0.965455   -0.426954   -0.115367  ...     0.298522   \n",
       "...           ...         ...         ...         ...  ...          ...   \n",
       "22539   -0.100000   -0.189836    0.184557   -0.148044  ...     0.011649   \n",
       "22540    0.112065    0.035403    0.523127   -0.197381  ...     0.030961   \n",
       "22541   -0.066708    0.487747    0.673540    0.041892  ...    -0.006817   \n",
       "22542   -0.019459   -0.011097    0.042121   -0.007055  ...     0.188055   \n",
       "22543    0.126210    0.357275    1.220112   -0.285096  ...     0.134693   \n",
       "\n",
       "       Variable 17  Variable 18  Variable 19  Variable 20  Variable 21  \\\n",
       "0         0.089034     0.014808    -0.188971    -0.241507     0.056346   \n",
       "1         0.145410    -0.009777    -0.598956    -0.375655     0.079058   \n",
       "2         0.405101    -0.178828    -1.405570    -1.652640     0.167053   \n",
       "3        -1.667151     0.537777    -0.640798     0.353681    -0.069413   \n",
       "4        -1.560846     0.244325     0.749019    -1.549602    -0.039398   \n",
       "...            ...          ...          ...          ...          ...   \n",
       "22539     0.372113    -0.168499     0.037984    -0.879563     0.102332   \n",
       "22540     0.042609    -0.075227     0.008422     0.335104    -0.003836   \n",
       "22541    -0.122758    -0.063016    -0.370471     0.833987    -0.274281   \n",
       "22542    -0.449199     0.018744    -1.882945     0.507437     0.082619   \n",
       "22543    -2.210278     0.421481    -0.685136     0.938789    -0.024303   \n",
       "\n",
       "       Variable 22  Variable 23  Variable 24   p-value  \n",
       "0         0.496640     0.262575     0.138653  0.121939  \n",
       "1         0.296593    -0.032018     0.187080  0.120078  \n",
       "2        -0.244760    -0.560929     0.151231  0.101562  \n",
       "3        -0.619800     0.387078     0.831191  0.024578  \n",
       "4        -1.909888     1.245669    -1.707417  0.033676  \n",
       "...            ...          ...          ...       ...  \n",
       "22539     0.689722     0.934579     0.089700  0.171572  \n",
       "22540    -0.023295     0.180490     0.502420  0.234581  \n",
       "22541    -0.387836    -0.042764     0.810355  0.141847  \n",
       "22542    -0.368431     0.264819    -2.208291  0.066965  \n",
       "22543     1.005543    -2.329555     0.181016  0.020460  \n",
       "\n",
       "[22544 rows x 26 columns]"
      ]
     },
     "execution_count": 197,
     "metadata": {},
     "output_type": "execute_result"
    }
   ],
   "source": [
    "test_one_hot_data_pca"
   ]
  },
  {
   "cell_type": "code",
   "execution_count": 285,
   "id": "5e467f56",
   "metadata": {},
   "outputs": [],
   "source": [
    "test_one_hot_data_mcd = test_one_hot_data_pca.drop(['p-value'],axis=1)\n"
   ]
  },
  {
   "cell_type": "code",
   "execution_count": 286,
   "id": "e341c68f",
   "metadata": {},
   "outputs": [
    {
     "data": {
      "text/html": [
       "<div>\n",
       "<style scoped>\n",
       "    .dataframe tbody tr th:only-of-type {\n",
       "        vertical-align: middle;\n",
       "    }\n",
       "\n",
       "    .dataframe tbody tr th {\n",
       "        vertical-align: top;\n",
       "    }\n",
       "\n",
       "    .dataframe thead th {\n",
       "        text-align: right;\n",
       "    }\n",
       "</style>\n",
       "<table border=\"1\" class=\"dataframe\">\n",
       "  <thead>\n",
       "    <tr style=\"text-align: right;\">\n",
       "      <th></th>\n",
       "      <th>Variable 0</th>\n",
       "      <th>Variable 1</th>\n",
       "      <th>Variable 2</th>\n",
       "      <th>Variable 3</th>\n",
       "      <th>Variable 4</th>\n",
       "      <th>Variable 5</th>\n",
       "      <th>Variable 6</th>\n",
       "      <th>Variable 7</th>\n",
       "      <th>Variable 8</th>\n",
       "      <th>Variable 9</th>\n",
       "      <th>...</th>\n",
       "      <th>Variable 15</th>\n",
       "      <th>Variable 16</th>\n",
       "      <th>Variable 17</th>\n",
       "      <th>Variable 18</th>\n",
       "      <th>Variable 19</th>\n",
       "      <th>Variable 20</th>\n",
       "      <th>Variable 21</th>\n",
       "      <th>Variable 22</th>\n",
       "      <th>Variable 23</th>\n",
       "      <th>Variable 24</th>\n",
       "    </tr>\n",
       "  </thead>\n",
       "  <tbody>\n",
       "    <tr>\n",
       "      <th>0</th>\n",
       "      <td>1.678471</td>\n",
       "      <td>-0.872735</td>\n",
       "      <td>0.004462</td>\n",
       "      <td>0.120732</td>\n",
       "      <td>-0.347212</td>\n",
       "      <td>0.492001</td>\n",
       "      <td>0.395315</td>\n",
       "      <td>0.513245</td>\n",
       "      <td>-0.766786</td>\n",
       "      <td>-0.062395</td>\n",
       "      <td>...</td>\n",
       "      <td>0.087562</td>\n",
       "      <td>-0.038879</td>\n",
       "      <td>0.089034</td>\n",
       "      <td>0.014808</td>\n",
       "      <td>-0.188971</td>\n",
       "      <td>-0.241507</td>\n",
       "      <td>0.056346</td>\n",
       "      <td>0.496640</td>\n",
       "      <td>0.262575</td>\n",
       "      <td>0.138653</td>\n",
       "    </tr>\n",
       "    <tr>\n",
       "      <th>1</th>\n",
       "      <td>1.650825</td>\n",
       "      <td>-0.871036</td>\n",
       "      <td>0.022690</td>\n",
       "      <td>0.353080</td>\n",
       "      <td>-0.343112</td>\n",
       "      <td>0.335960</td>\n",
       "      <td>0.348479</td>\n",
       "      <td>0.469323</td>\n",
       "      <td>-0.854538</td>\n",
       "      <td>-0.026490</td>\n",
       "      <td>...</td>\n",
       "      <td>0.114285</td>\n",
       "      <td>-0.010820</td>\n",
       "      <td>0.145410</td>\n",
       "      <td>-0.009777</td>\n",
       "      <td>-0.598956</td>\n",
       "      <td>-0.375655</td>\n",
       "      <td>0.079058</td>\n",
       "      <td>0.296593</td>\n",
       "      <td>-0.032018</td>\n",
       "      <td>0.187080</td>\n",
       "    </tr>\n",
       "    <tr>\n",
       "      <th>2</th>\n",
       "      <td>-0.427776</td>\n",
       "      <td>-0.027269</td>\n",
       "      <td>-0.060373</td>\n",
       "      <td>-0.582328</td>\n",
       "      <td>0.404469</td>\n",
       "      <td>-0.682267</td>\n",
       "      <td>-0.200591</td>\n",
       "      <td>-0.123556</td>\n",
       "      <td>-0.589348</td>\n",
       "      <td>0.143092</td>\n",
       "      <td>...</td>\n",
       "      <td>0.237448</td>\n",
       "      <td>0.104159</td>\n",
       "      <td>0.405101</td>\n",
       "      <td>-0.178828</td>\n",
       "      <td>-1.405570</td>\n",
       "      <td>-1.652640</td>\n",
       "      <td>0.167053</td>\n",
       "      <td>-0.244760</td>\n",
       "      <td>-0.560929</td>\n",
       "      <td>0.151231</td>\n",
       "    </tr>\n",
       "    <tr>\n",
       "      <th>3</th>\n",
       "      <td>-0.761174</td>\n",
       "      <td>-0.208430</td>\n",
       "      <td>-0.118920</td>\n",
       "      <td>-1.318459</td>\n",
       "      <td>0.976188</td>\n",
       "      <td>-3.314352</td>\n",
       "      <td>0.566545</td>\n",
       "      <td>1.467813</td>\n",
       "      <td>-0.909148</td>\n",
       "      <td>-0.158969</td>\n",
       "      <td>...</td>\n",
       "      <td>-0.645070</td>\n",
       "      <td>0.286520</td>\n",
       "      <td>-1.667151</td>\n",
       "      <td>0.537777</td>\n",
       "      <td>-0.640798</td>\n",
       "      <td>0.353681</td>\n",
       "      <td>-0.069413</td>\n",
       "      <td>-0.619800</td>\n",
       "      <td>0.387078</td>\n",
       "      <td>0.831191</td>\n",
       "    </tr>\n",
       "    <tr>\n",
       "      <th>4</th>\n",
       "      <td>0.598909</td>\n",
       "      <td>-0.747321</td>\n",
       "      <td>0.025752</td>\n",
       "      <td>0.710066</td>\n",
       "      <td>-0.131553</td>\n",
       "      <td>-1.442168</td>\n",
       "      <td>0.498370</td>\n",
       "      <td>0.965455</td>\n",
       "      <td>-0.426954</td>\n",
       "      <td>-0.115367</td>\n",
       "      <td>...</td>\n",
       "      <td>-0.743812</td>\n",
       "      <td>0.298522</td>\n",
       "      <td>-1.560846</td>\n",
       "      <td>0.244325</td>\n",
       "      <td>0.749019</td>\n",
       "      <td>-1.549602</td>\n",
       "      <td>-0.039398</td>\n",
       "      <td>-1.909888</td>\n",
       "      <td>1.245669</td>\n",
       "      <td>-1.707417</td>\n",
       "    </tr>\n",
       "    <tr>\n",
       "      <th>...</th>\n",
       "      <td>...</td>\n",
       "      <td>...</td>\n",
       "      <td>...</td>\n",
       "      <td>...</td>\n",
       "      <td>...</td>\n",
       "      <td>...</td>\n",
       "      <td>...</td>\n",
       "      <td>...</td>\n",
       "      <td>...</td>\n",
       "      <td>...</td>\n",
       "      <td>...</td>\n",
       "      <td>...</td>\n",
       "      <td>...</td>\n",
       "      <td>...</td>\n",
       "      <td>...</td>\n",
       "      <td>...</td>\n",
       "      <td>...</td>\n",
       "      <td>...</td>\n",
       "      <td>...</td>\n",
       "      <td>...</td>\n",
       "      <td>...</td>\n",
       "    </tr>\n",
       "    <tr>\n",
       "      <th>22539</th>\n",
       "      <td>-0.677682</td>\n",
       "      <td>-0.135917</td>\n",
       "      <td>-0.011245</td>\n",
       "      <td>0.455168</td>\n",
       "      <td>-0.042928</td>\n",
       "      <td>-0.256884</td>\n",
       "      <td>-0.100000</td>\n",
       "      <td>-0.189836</td>\n",
       "      <td>0.184557</td>\n",
       "      <td>-0.148044</td>\n",
       "      <td>...</td>\n",
       "      <td>0.292900</td>\n",
       "      <td>0.011649</td>\n",
       "      <td>0.372113</td>\n",
       "      <td>-0.168499</td>\n",
       "      <td>0.037984</td>\n",
       "      <td>-0.879563</td>\n",
       "      <td>0.102332</td>\n",
       "      <td>0.689722</td>\n",
       "      <td>0.934579</td>\n",
       "      <td>0.089700</td>\n",
       "    </tr>\n",
       "    <tr>\n",
       "      <th>22540</th>\n",
       "      <td>-0.872991</td>\n",
       "      <td>-0.194655</td>\n",
       "      <td>-0.066623</td>\n",
       "      <td>0.452831</td>\n",
       "      <td>-0.413141</td>\n",
       "      <td>0.185445</td>\n",
       "      <td>0.112065</td>\n",
       "      <td>0.035403</td>\n",
       "      <td>0.523127</td>\n",
       "      <td>-0.197381</td>\n",
       "      <td>...</td>\n",
       "      <td>0.052443</td>\n",
       "      <td>0.030961</td>\n",
       "      <td>0.042609</td>\n",
       "      <td>-0.075227</td>\n",
       "      <td>0.008422</td>\n",
       "      <td>0.335104</td>\n",
       "      <td>-0.003836</td>\n",
       "      <td>-0.023295</td>\n",
       "      <td>0.180490</td>\n",
       "      <td>0.502420</td>\n",
       "    </tr>\n",
       "    <tr>\n",
       "      <th>22541</th>\n",
       "      <td>-0.814737</td>\n",
       "      <td>-0.235138</td>\n",
       "      <td>0.074933</td>\n",
       "      <td>0.712311</td>\n",
       "      <td>0.369909</td>\n",
       "      <td>0.794684</td>\n",
       "      <td>-0.066708</td>\n",
       "      <td>0.487747</td>\n",
       "      <td>0.673540</td>\n",
       "      <td>0.041892</td>\n",
       "      <td>...</td>\n",
       "      <td>-0.258330</td>\n",
       "      <td>-0.006817</td>\n",
       "      <td>-0.122758</td>\n",
       "      <td>-0.063016</td>\n",
       "      <td>-0.370471</td>\n",
       "      <td>0.833987</td>\n",
       "      <td>-0.274281</td>\n",
       "      <td>-0.387836</td>\n",
       "      <td>-0.042764</td>\n",
       "      <td>0.810355</td>\n",
       "    </tr>\n",
       "    <tr>\n",
       "      <th>22542</th>\n",
       "      <td>-0.618400</td>\n",
       "      <td>-0.099512</td>\n",
       "      <td>-0.112588</td>\n",
       "      <td>-0.139796</td>\n",
       "      <td>-0.299245</td>\n",
       "      <td>0.215217</td>\n",
       "      <td>-0.019459</td>\n",
       "      <td>-0.011097</td>\n",
       "      <td>0.042121</td>\n",
       "      <td>-0.007055</td>\n",
       "      <td>...</td>\n",
       "      <td>-0.290913</td>\n",
       "      <td>0.188055</td>\n",
       "      <td>-0.449199</td>\n",
       "      <td>0.018744</td>\n",
       "      <td>-1.882945</td>\n",
       "      <td>0.507437</td>\n",
       "      <td>0.082619</td>\n",
       "      <td>-0.368431</td>\n",
       "      <td>0.264819</td>\n",
       "      <td>-2.208291</td>\n",
       "    </tr>\n",
       "    <tr>\n",
       "      <th>22543</th>\n",
       "      <td>1.463070</td>\n",
       "      <td>-0.999785</td>\n",
       "      <td>0.020018</td>\n",
       "      <td>0.694845</td>\n",
       "      <td>-0.080750</td>\n",
       "      <td>-1.468044</td>\n",
       "      <td>0.126210</td>\n",
       "      <td>0.357275</td>\n",
       "      <td>1.220112</td>\n",
       "      <td>-0.285096</td>\n",
       "      <td>...</td>\n",
       "      <td>-1.250809</td>\n",
       "      <td>0.134693</td>\n",
       "      <td>-2.210278</td>\n",
       "      <td>0.421481</td>\n",
       "      <td>-0.685136</td>\n",
       "      <td>0.938789</td>\n",
       "      <td>-0.024303</td>\n",
       "      <td>1.005543</td>\n",
       "      <td>-2.329555</td>\n",
       "      <td>0.181016</td>\n",
       "    </tr>\n",
       "  </tbody>\n",
       "</table>\n",
       "<p>22544 rows × 25 columns</p>\n",
       "</div>"
      ],
      "text/plain": [
       "       Variable 0  Variable 1  Variable 2  Variable 3  Variable 4  Variable 5  \\\n",
       "0        1.678471   -0.872735    0.004462    0.120732   -0.347212    0.492001   \n",
       "1        1.650825   -0.871036    0.022690    0.353080   -0.343112    0.335960   \n",
       "2       -0.427776   -0.027269   -0.060373   -0.582328    0.404469   -0.682267   \n",
       "3       -0.761174   -0.208430   -0.118920   -1.318459    0.976188   -3.314352   \n",
       "4        0.598909   -0.747321    0.025752    0.710066   -0.131553   -1.442168   \n",
       "...           ...         ...         ...         ...         ...         ...   \n",
       "22539   -0.677682   -0.135917   -0.011245    0.455168   -0.042928   -0.256884   \n",
       "22540   -0.872991   -0.194655   -0.066623    0.452831   -0.413141    0.185445   \n",
       "22541   -0.814737   -0.235138    0.074933    0.712311    0.369909    0.794684   \n",
       "22542   -0.618400   -0.099512   -0.112588   -0.139796   -0.299245    0.215217   \n",
       "22543    1.463070   -0.999785    0.020018    0.694845   -0.080750   -1.468044   \n",
       "\n",
       "       Variable 6  Variable 7  Variable 8  Variable 9  ...  Variable 15  \\\n",
       "0        0.395315    0.513245   -0.766786   -0.062395  ...     0.087562   \n",
       "1        0.348479    0.469323   -0.854538   -0.026490  ...     0.114285   \n",
       "2       -0.200591   -0.123556   -0.589348    0.143092  ...     0.237448   \n",
       "3        0.566545    1.467813   -0.909148   -0.158969  ...    -0.645070   \n",
       "4        0.498370    0.965455   -0.426954   -0.115367  ...    -0.743812   \n",
       "...           ...         ...         ...         ...  ...          ...   \n",
       "22539   -0.100000   -0.189836    0.184557   -0.148044  ...     0.292900   \n",
       "22540    0.112065    0.035403    0.523127   -0.197381  ...     0.052443   \n",
       "22541   -0.066708    0.487747    0.673540    0.041892  ...    -0.258330   \n",
       "22542   -0.019459   -0.011097    0.042121   -0.007055  ...    -0.290913   \n",
       "22543    0.126210    0.357275    1.220112   -0.285096  ...    -1.250809   \n",
       "\n",
       "       Variable 16  Variable 17  Variable 18  Variable 19  Variable 20  \\\n",
       "0        -0.038879     0.089034     0.014808    -0.188971    -0.241507   \n",
       "1        -0.010820     0.145410    -0.009777    -0.598956    -0.375655   \n",
       "2         0.104159     0.405101    -0.178828    -1.405570    -1.652640   \n",
       "3         0.286520    -1.667151     0.537777    -0.640798     0.353681   \n",
       "4         0.298522    -1.560846     0.244325     0.749019    -1.549602   \n",
       "...            ...          ...          ...          ...          ...   \n",
       "22539     0.011649     0.372113    -0.168499     0.037984    -0.879563   \n",
       "22540     0.030961     0.042609    -0.075227     0.008422     0.335104   \n",
       "22541    -0.006817    -0.122758    -0.063016    -0.370471     0.833987   \n",
       "22542     0.188055    -0.449199     0.018744    -1.882945     0.507437   \n",
       "22543     0.134693    -2.210278     0.421481    -0.685136     0.938789   \n",
       "\n",
       "       Variable 21  Variable 22  Variable 23  Variable 24  \n",
       "0         0.056346     0.496640     0.262575     0.138653  \n",
       "1         0.079058     0.296593    -0.032018     0.187080  \n",
       "2         0.167053    -0.244760    -0.560929     0.151231  \n",
       "3        -0.069413    -0.619800     0.387078     0.831191  \n",
       "4        -0.039398    -1.909888     1.245669    -1.707417  \n",
       "...            ...          ...          ...          ...  \n",
       "22539     0.102332     0.689722     0.934579     0.089700  \n",
       "22540    -0.003836    -0.023295     0.180490     0.502420  \n",
       "22541    -0.274281    -0.387836    -0.042764     0.810355  \n",
       "22542     0.082619    -0.368431     0.264819    -2.208291  \n",
       "22543    -0.024303     1.005543    -2.329555     0.181016  \n",
       "\n",
       "[22544 rows x 25 columns]"
      ]
     },
     "execution_count": 286,
     "metadata": {},
     "output_type": "execute_result"
    }
   ],
   "source": [
    "test_one_hot_data_mcd"
   ]
  },
  {
   "cell_type": "code",
   "execution_count": 287,
   "id": "fc6cd42f",
   "metadata": {},
   "outputs": [
    {
     "name": "stderr",
     "output_type": "stream",
     "text": [
      "C:\\WINDOWS\\system32\\myenv\\lib\\site-packages\\sklearn\\covariance\\_robust_covariance.py:183: RuntimeWarning: Determinant has increased; this should not happen: log(det) > log(previous_det) (-297.897409023219950 > -298.268233266536356). You may want to try with a higher value of support_fraction (current value: 0.501).\n",
      "  warnings.warn(\n",
      "C:\\WINDOWS\\system32\\myenv\\lib\\site-packages\\sklearn\\covariance\\_robust_covariance.py:183: RuntimeWarning: Determinant has increased; this should not happen: log(det) > log(previous_det) (-255.480271165112100 > -256.976002686080562). You may want to try with a higher value of support_fraction (current value: 0.501).\n",
      "  warnings.warn(\n",
      "C:\\WINDOWS\\system32\\myenv\\lib\\site-packages\\sklearn\\covariance\\_robust_covariance.py:183: RuntimeWarning: Determinant has increased; this should not happen: log(det) > log(previous_det) (-259.076892454519623 > -260.999713356514462). You may want to try with a higher value of support_fraction (current value: 0.501).\n",
      "  warnings.warn(\n",
      "C:\\WINDOWS\\system32\\myenv\\lib\\site-packages\\sklearn\\covariance\\_robust_covariance.py:183: RuntimeWarning: Determinant has increased; this should not happen: log(det) > log(previous_det) (-255.329826757620054 > -256.806455637551949). You may want to try with a higher value of support_fraction (current value: 0.501).\n",
      "  warnings.warn(\n",
      "C:\\WINDOWS\\system32\\myenv\\lib\\site-packages\\sklearn\\covariance\\_robust_covariance.py:183: RuntimeWarning: Determinant has increased; this should not happen: log(det) > log(previous_det) (-259.566146968734813 > -261.285134545237497). You may want to try with a higher value of support_fraction (current value: 0.501).\n",
      "  warnings.warn(\n",
      "C:\\WINDOWS\\system32\\myenv\\lib\\site-packages\\sklearn\\covariance\\_robust_covariance.py:183: RuntimeWarning: Determinant has increased; this should not happen: log(det) > log(previous_det) (-300.077995676426781 > -301.304690355240950). You may want to try with a higher value of support_fraction (current value: 0.501).\n",
      "  warnings.warn(\n",
      "C:\\WINDOWS\\system32\\myenv\\lib\\site-packages\\sklearn\\covariance\\_robust_covariance.py:183: RuntimeWarning: Determinant has increased; this should not happen: log(det) > log(previous_det) (-255.671937669979627 > -256.965089666740596). You may want to try with a higher value of support_fraction (current value: 0.501).\n",
      "  warnings.warn(\n",
      "C:\\WINDOWS\\system32\\myenv\\lib\\site-packages\\sklearn\\covariance\\_robust_covariance.py:183: RuntimeWarning: Determinant has increased; this should not happen: log(det) > log(previous_det) (-267.305659156985200 > -268.493745159535592). You may want to try with a higher value of support_fraction (current value: 0.501).\n",
      "  warnings.warn(\n",
      "C:\\WINDOWS\\system32\\myenv\\lib\\site-packages\\sklearn\\covariance\\_robust_covariance.py:183: RuntimeWarning: Determinant has increased; this should not happen: log(det) > log(previous_det) (-257.173866398615871 > -257.632117351685224). You may want to try with a higher value of support_fraction (current value: 0.501).\n",
      "  warnings.warn(\n",
      "C:\\WINDOWS\\system32\\myenv\\lib\\site-packages\\sklearn\\covariance\\_robust_covariance.py:183: RuntimeWarning: Determinant has increased; this should not happen: log(det) > log(previous_det) (-255.177457086174542 > -256.474220517365268). You may want to try with a higher value of support_fraction (current value: 0.501).\n",
      "  warnings.warn(\n",
      "C:\\WINDOWS\\system32\\myenv\\lib\\site-packages\\sklearn\\covariance\\_robust_covariance.py:183: RuntimeWarning: Determinant has increased; this should not happen: log(det) > log(previous_det) (-255.671937669979627 > -257.016628086714888). You may want to try with a higher value of support_fraction (current value: 0.501).\n",
      "  warnings.warn(\n",
      "C:\\WINDOWS\\system32\\myenv\\lib\\site-packages\\sklearn\\covariance\\_robust_covariance.py:183: RuntimeWarning: Determinant has increased; this should not happen: log(det) > log(previous_det) (-255.206586652221944 > -256.542241483935584). You may want to try with a higher value of support_fraction (current value: 0.501).\n",
      "  warnings.warn(\n",
      "C:\\WINDOWS\\system32\\myenv\\lib\\site-packages\\sklearn\\covariance\\_robust_covariance.py:183: RuntimeWarning: Determinant has increased; this should not happen: log(det) > log(previous_det) (-253.484018604304111 > -254.758779179097615). You may want to try with a higher value of support_fraction (current value: 0.501).\n",
      "  warnings.warn(\n",
      "C:\\WINDOWS\\system32\\myenv\\lib\\site-packages\\sklearn\\covariance\\_robust_covariance.py:183: RuntimeWarning: Determinant has increased; this should not happen: log(det) > log(previous_det) (-272.094531157711401 > -275.264117114916644). You may want to try with a higher value of support_fraction (current value: 0.501).\n",
      "  warnings.warn(\n",
      "C:\\WINDOWS\\system32\\myenv\\lib\\site-packages\\sklearn\\covariance\\_robust_covariance.py:183: RuntimeWarning: Determinant has increased; this should not happen: log(det) > log(previous_det) (-300.077995676426781 > -300.705906177905604). You may want to try with a higher value of support_fraction (current value: 0.501).\n",
      "  warnings.warn(\n",
      "C:\\WINDOWS\\system32\\myenv\\lib\\site-packages\\sklearn\\covariance\\_robust_covariance.py:183: RuntimeWarning: Determinant has increased; this should not happen: log(det) > log(previous_det) (-299.869927606759177 > -301.023196019808381). You may want to try with a higher value of support_fraction (current value: 0.501).\n",
      "  warnings.warn(\n",
      "C:\\WINDOWS\\system32\\myenv\\lib\\site-packages\\sklearn\\covariance\\_robust_covariance.py:183: RuntimeWarning: Determinant has increased; this should not happen: log(det) > log(previous_det) (-223.310999434304819 > -229.838802817935999). You may want to try with a higher value of support_fraction (current value: 0.501).\n",
      "  warnings.warn(\n",
      "C:\\WINDOWS\\system32\\myenv\\lib\\site-packages\\sklearn\\covariance\\_robust_covariance.py:183: RuntimeWarning: Determinant has increased; this should not happen: log(det) > log(previous_det) (-255.652317422754066 > -256.869035378304261). You may want to try with a higher value of support_fraction (current value: 0.501).\n",
      "  warnings.warn(\n",
      "C:\\WINDOWS\\system32\\myenv\\lib\\site-packages\\sklearn\\covariance\\_robust_covariance.py:183: RuntimeWarning: Determinant has increased; this should not happen: log(det) > log(previous_det) (-254.148382676604314 > -255.550240668267037). You may want to try with a higher value of support_fraction (current value: 0.501).\n",
      "  warnings.warn(\n",
      "C:\\WINDOWS\\system32\\myenv\\lib\\site-packages\\sklearn\\covariance\\_robust_covariance.py:183: RuntimeWarning: Determinant has increased; this should not happen: log(det) > log(previous_det) (-256.361754422787271 > -257.739991534062369). You may want to try with a higher value of support_fraction (current value: 0.501).\n",
      "  warnings.warn(\n",
      "C:\\WINDOWS\\system32\\myenv\\lib\\site-packages\\sklearn\\covariance\\_robust_covariance.py:183: RuntimeWarning: Determinant has increased; this should not happen: log(det) > log(previous_det) (-261.000052079964121 > -261.567922117306978). You may want to try with a higher value of support_fraction (current value: 0.501).\n",
      "  warnings.warn(\n",
      "C:\\WINDOWS\\system32\\myenv\\lib\\site-packages\\sklearn\\covariance\\_robust_covariance.py:183: RuntimeWarning: Determinant has increased; this should not happen: log(det) > log(previous_det) (-297.929705022727035 > -298.055075905333979). You may want to try with a higher value of support_fraction (current value: 0.501).\n",
      "  warnings.warn(\n",
      "C:\\WINDOWS\\system32\\myenv\\lib\\site-packages\\sklearn\\covariance\\_robust_covariance.py:183: RuntimeWarning: Determinant has increased; this should not happen: log(det) > log(previous_det) (-283.010310236470730 > -283.624719502560083). You may want to try with a higher value of support_fraction (current value: 0.501).\n",
      "  warnings.warn(\n",
      "C:\\WINDOWS\\system32\\myenv\\lib\\site-packages\\sklearn\\covariance\\_robust_covariance.py:183: RuntimeWarning: Determinant has increased; this should not happen: log(det) > log(previous_det) (-272.078535869835491 > -275.263546848608428). You may want to try with a higher value of support_fraction (current value: 0.501).\n",
      "  warnings.warn(\n",
      "C:\\WINDOWS\\system32\\myenv\\lib\\site-packages\\sklearn\\covariance\\_robust_covariance.py:183: RuntimeWarning: Determinant has increased; this should not happen: log(det) > log(previous_det) (-300.805228952828600 > -301.451179253981195). You may want to try with a higher value of support_fraction (current value: 0.501).\n",
      "  warnings.warn(\n"
     ]
    },
    {
     "name": "stderr",
     "output_type": "stream",
     "text": [
      "C:\\WINDOWS\\system32\\myenv\\lib\\site-packages\\sklearn\\covariance\\_robust_covariance.py:183: RuntimeWarning: Determinant has increased; this should not happen: log(det) > log(previous_det) (-276.459401066833664 > -278.613951778463047). You may want to try with a higher value of support_fraction (current value: 0.501).\n",
      "  warnings.warn(\n",
      "C:\\WINDOWS\\system32\\myenv\\lib\\site-packages\\sklearn\\covariance\\_robust_covariance.py:183: RuntimeWarning: Determinant has increased; this should not happen: log(det) > log(previous_det) (-300.031130860191809 > -300.632753921350172). You may want to try with a higher value of support_fraction (current value: 0.501).\n",
      "  warnings.warn(\n",
      "C:\\WINDOWS\\system32\\myenv\\lib\\site-packages\\sklearn\\covariance\\_robust_covariance.py:183: RuntimeWarning: Determinant has increased; this should not happen: log(det) > log(previous_det) (-266.940204114392088 > -267.987152683237184). You may want to try with a higher value of support_fraction (current value: 0.501).\n",
      "  warnings.warn(\n",
      "C:\\WINDOWS\\system32\\myenv\\lib\\site-packages\\sklearn\\covariance\\_robust_covariance.py:183: RuntimeWarning: Determinant has increased; this should not happen: log(det) > log(previous_det) (-267.403514759788493 > -268.663234601316333). You may want to try with a higher value of support_fraction (current value: 0.501).\n",
      "  warnings.warn(\n",
      "C:\\WINDOWS\\system32\\myenv\\lib\\site-packages\\sklearn\\covariance\\_robust_covariance.py:183: RuntimeWarning: Determinant has increased; this should not happen: log(det) > log(previous_det) (-256.149761393954634 > -256.981112760773158). You may want to try with a higher value of support_fraction (current value: 0.501).\n",
      "  warnings.warn(\n",
      "C:\\WINDOWS\\system32\\myenv\\lib\\site-packages\\sklearn\\covariance\\_robust_covariance.py:183: RuntimeWarning: Determinant has increased; this should not happen: log(det) > log(previous_det) (-254.767582611341396 > -256.135660733172756). You may want to try with a higher value of support_fraction (current value: 0.501).\n",
      "  warnings.warn(\n",
      "C:\\WINDOWS\\system32\\myenv\\lib\\site-packages\\sklearn\\covariance\\_robust_covariance.py:183: RuntimeWarning: Determinant has increased; this should not happen: log(det) > log(previous_det) (-279.321746105743955 > -281.515264993247911). You may want to try with a higher value of support_fraction (current value: 0.501).\n",
      "  warnings.warn(\n",
      "C:\\WINDOWS\\system32\\myenv\\lib\\site-packages\\sklearn\\covariance\\_robust_covariance.py:183: RuntimeWarning: Determinant has increased; this should not happen: log(det) > log(previous_det) (-254.807859697777502 > -256.180547698479984). You may want to try with a higher value of support_fraction (current value: 0.501).\n",
      "  warnings.warn(\n",
      "C:\\WINDOWS\\system32\\myenv\\lib\\site-packages\\sklearn\\covariance\\_robust_covariance.py:183: RuntimeWarning: Determinant has increased; this should not happen: log(det) > log(previous_det) (-261.762511053240928 > -262.117051646862251). You may want to try with a higher value of support_fraction (current value: 0.501).\n",
      "  warnings.warn(\n",
      "C:\\WINDOWS\\system32\\myenv\\lib\\site-packages\\sklearn\\covariance\\_robust_covariance.py:183: RuntimeWarning: Determinant has increased; this should not happen: log(det) > log(previous_det) (-297.784218282182053 > -297.918990753679054). You may want to try with a higher value of support_fraction (current value: 0.501).\n",
      "  warnings.warn(\n",
      "C:\\WINDOWS\\system32\\myenv\\lib\\site-packages\\sklearn\\covariance\\_robust_covariance.py:183: RuntimeWarning: Determinant has increased; this should not happen: log(det) > log(previous_det) (-301.632536030017718 > -302.095660361721173). You may want to try with a higher value of support_fraction (current value: 0.501).\n",
      "  warnings.warn(\n",
      "C:\\WINDOWS\\system32\\myenv\\lib\\site-packages\\sklearn\\covariance\\_robust_covariance.py:183: RuntimeWarning: Determinant has increased; this should not happen: log(det) > log(previous_det) (-256.287694990117416 > -257.700423367187398). You may want to try with a higher value of support_fraction (current value: 0.501).\n",
      "  warnings.warn(\n",
      "C:\\WINDOWS\\system32\\myenv\\lib\\site-packages\\sklearn\\covariance\\_robust_covariance.py:183: RuntimeWarning: Determinant has increased; this should not happen: log(det) > log(previous_det) (-264.269079868083168 > -265.127279880493404). You may want to try with a higher value of support_fraction (current value: 0.501).\n",
      "  warnings.warn(\n",
      "C:\\WINDOWS\\system32\\myenv\\lib\\site-packages\\sklearn\\covariance\\_robust_covariance.py:183: RuntimeWarning: Determinant has increased; this should not happen: log(det) > log(previous_det) (-283.557084338940911 > -286.023361145747856). You may want to try with a higher value of support_fraction (current value: 0.501).\n",
      "  warnings.warn(\n",
      "C:\\WINDOWS\\system32\\myenv\\lib\\site-packages\\sklearn\\covariance\\_robust_covariance.py:183: RuntimeWarning: Determinant has increased; this should not happen: log(det) > log(previous_det) (-294.065287463419168 > -294.999922869761861). You may want to try with a higher value of support_fraction (current value: 0.501).\n",
      "  warnings.warn(\n",
      "C:\\WINDOWS\\system32\\myenv\\lib\\site-packages\\sklearn\\covariance\\_robust_covariance.py:183: RuntimeWarning: Determinant has increased; this should not happen: log(det) > log(previous_det) (-299.724264766852457 > -300.320146174748345). You may want to try with a higher value of support_fraction (current value: 0.501).\n",
      "  warnings.warn(\n",
      "C:\\WINDOWS\\system32\\myenv\\lib\\site-packages\\sklearn\\covariance\\_robust_covariance.py:183: RuntimeWarning: Determinant has increased; this should not happen: log(det) > log(previous_det) (-282.935625149765087 > -283.671788669070793). You may want to try with a higher value of support_fraction (current value: 0.501).\n",
      "  warnings.warn(\n",
      "C:\\WINDOWS\\system32\\myenv\\lib\\site-packages\\sklearn\\covariance\\_robust_covariance.py:183: RuntimeWarning: Determinant has increased; this should not happen: log(det) > log(previous_det) (-267.073770797112786 > -267.951319711809106). You may want to try with a higher value of support_fraction (current value: 0.501).\n",
      "  warnings.warn(\n",
      "C:\\WINDOWS\\system32\\myenv\\lib\\site-packages\\sklearn\\covariance\\_robust_covariance.py:183: RuntimeWarning: Determinant has increased; this should not happen: log(det) > log(previous_det) (-294.525071803749483 > -294.654675499959012). You may want to try with a higher value of support_fraction (current value: 0.501).\n",
      "  warnings.warn(\n",
      "C:\\WINDOWS\\system32\\myenv\\lib\\site-packages\\sklearn\\covariance\\_robust_covariance.py:183: RuntimeWarning: Determinant has increased; this should not happen: log(det) > log(previous_det) (-253.872798046709420 > -255.114906927716902). You may want to try with a higher value of support_fraction (current value: 0.501).\n",
      "  warnings.warn(\n",
      "C:\\WINDOWS\\system32\\myenv\\lib\\site-packages\\sklearn\\covariance\\_robust_covariance.py:183: RuntimeWarning: Determinant has increased; this should not happen: log(det) > log(previous_det) (-254.046392252742976 > -255.135839264562378). You may want to try with a higher value of support_fraction (current value: 0.501).\n",
      "  warnings.warn(\n",
      "C:\\WINDOWS\\system32\\myenv\\lib\\site-packages\\sklearn\\covariance\\_robust_covariance.py:183: RuntimeWarning: Determinant has increased; this should not happen: log(det) > log(previous_det) (-255.982416687578620 > -257.525511761024745). You may want to try with a higher value of support_fraction (current value: 0.501).\n",
      "  warnings.warn(\n",
      "C:\\WINDOWS\\system32\\myenv\\lib\\site-packages\\sklearn\\covariance\\_robust_covariance.py:183: RuntimeWarning: Determinant has increased; this should not happen: log(det) > log(previous_det) (-266.879188621202843 > -267.973566609984857). You may want to try with a higher value of support_fraction (current value: 0.501).\n",
      "  warnings.warn(\n",
      "C:\\WINDOWS\\system32\\myenv\\lib\\site-packages\\sklearn\\covariance\\_robust_covariance.py:183: RuntimeWarning: Determinant has increased; this should not happen: log(det) > log(previous_det) (-266.969902869353973 > -268.182772564526772). You may want to try with a higher value of support_fraction (current value: 0.501).\n",
      "  warnings.warn(\n",
      "C:\\WINDOWS\\system32\\myenv\\lib\\site-packages\\sklearn\\covariance\\_robust_covariance.py:183: RuntimeWarning: Determinant has increased; this should not happen: log(det) > log(previous_det) (-271.184682194996697 > -272.483435047473904). You may want to try with a higher value of support_fraction (current value: 0.501).\n",
      "  warnings.warn(\n"
     ]
    },
    {
     "name": "stderr",
     "output_type": "stream",
     "text": [
      "C:\\WINDOWS\\system32\\myenv\\lib\\site-packages\\sklearn\\covariance\\_robust_covariance.py:183: RuntimeWarning: Determinant has increased; this should not happen: log(det) > log(previous_det) (-256.149761393954634 > -256.936311370489477). You may want to try with a higher value of support_fraction (current value: 0.501).\n",
      "  warnings.warn(\n",
      "C:\\WINDOWS\\system32\\myenv\\lib\\site-packages\\sklearn\\covariance\\_robust_covariance.py:183: RuntimeWarning: Determinant has increased; this should not happen: log(det) > log(previous_det) (-255.131166794981112 > -256.449851151466646). You may want to try with a higher value of support_fraction (current value: 0.501).\n",
      "  warnings.warn(\n",
      "C:\\WINDOWS\\system32\\myenv\\lib\\site-packages\\sklearn\\covariance\\_robust_covariance.py:183: RuntimeWarning: Determinant has increased; this should not happen: log(det) > log(previous_det) (-300.077995676426781 > -301.347581675102674). You may want to try with a higher value of support_fraction (current value: 0.501).\n",
      "  warnings.warn(\n",
      "C:\\WINDOWS\\system32\\myenv\\lib\\site-packages\\sklearn\\covariance\\_robust_covariance.py:183: RuntimeWarning: Determinant has increased; this should not happen: log(det) > log(previous_det) (-258.451420220473210 > -260.117635482113258). You may want to try with a higher value of support_fraction (current value: 0.501).\n",
      "  warnings.warn(\n",
      "C:\\WINDOWS\\system32\\myenv\\lib\\site-packages\\sklearn\\covariance\\_robust_covariance.py:183: RuntimeWarning: Determinant has increased; this should not happen: log(det) > log(previous_det) (-279.381736929063834 > -281.338018621059462). You may want to try with a higher value of support_fraction (current value: 0.501).\n",
      "  warnings.warn(\n",
      "C:\\WINDOWS\\system32\\myenv\\lib\\site-packages\\sklearn\\covariance\\_robust_covariance.py:183: RuntimeWarning: Determinant has increased; this should not happen: log(det) > log(previous_det) (-263.983504908208999 > -265.132107470680012). You may want to try with a higher value of support_fraction (current value: 0.501).\n",
      "  warnings.warn(\n",
      "C:\\WINDOWS\\system32\\myenv\\lib\\site-packages\\sklearn\\covariance\\_robust_covariance.py:183: RuntimeWarning: Determinant has increased; this should not happen: log(det) > log(previous_det) (-255.419681106413293 > -256.842797751089392). You may want to try with a higher value of support_fraction (current value: 0.501).\n",
      "  warnings.warn(\n",
      "C:\\WINDOWS\\system32\\myenv\\lib\\site-packages\\sklearn\\covariance\\_robust_covariance.py:183: RuntimeWarning: Determinant has increased; this should not happen: log(det) > log(previous_det) (-272.078535869835491 > -275.195709072557861). You may want to try with a higher value of support_fraction (current value: 0.501).\n",
      "  warnings.warn(\n",
      "C:\\WINDOWS\\system32\\myenv\\lib\\site-packages\\sklearn\\covariance\\_robust_covariance.py:183: RuntimeWarning: Determinant has increased; this should not happen: log(det) > log(previous_det) (-263.717701202477770 > -265.496250374698889). You may want to try with a higher value of support_fraction (current value: 0.501).\n",
      "  warnings.warn(\n",
      "C:\\WINDOWS\\system32\\myenv\\lib\\site-packages\\sklearn\\covariance\\_robust_covariance.py:183: RuntimeWarning: Determinant has increased; this should not happen: log(det) > log(previous_det) (-294.437999736203949 > -294.481642628776569). You may want to try with a higher value of support_fraction (current value: 0.501).\n",
      "  warnings.warn(\n",
      "C:\\WINDOWS\\system32\\myenv\\lib\\site-packages\\sklearn\\covariance\\_robust_covariance.py:183: RuntimeWarning: Determinant has increased; this should not happen: log(det) > log(previous_det) (-254.042083854177690 > -254.902767248485475). You may want to try with a higher value of support_fraction (current value: 0.501).\n",
      "  warnings.warn(\n",
      "C:\\WINDOWS\\system32\\myenv\\lib\\site-packages\\sklearn\\covariance\\_robust_covariance.py:183: RuntimeWarning: Determinant has increased; this should not happen: log(det) > log(previous_det) (-259.076892454519623 > -260.978419013269161). You may want to try with a higher value of support_fraction (current value: 0.501).\n",
      "  warnings.warn(\n",
      "C:\\WINDOWS\\system32\\myenv\\lib\\site-packages\\sklearn\\covariance\\_robust_covariance.py:183: RuntimeWarning: Determinant has increased; this should not happen: log(det) > log(previous_det) (-266.956750528518739 > -268.169084731174621). You may want to try with a higher value of support_fraction (current value: 0.501).\n",
      "  warnings.warn(\n",
      "C:\\WINDOWS\\system32\\myenv\\lib\\site-packages\\sklearn\\covariance\\_robust_covariance.py:183: RuntimeWarning: Determinant has increased; this should not happen: log(det) > log(previous_det) (-266.984951653731628 > -268.183785827311908). You may want to try with a higher value of support_fraction (current value: 0.501).\n",
      "  warnings.warn(\n",
      "C:\\WINDOWS\\system32\\myenv\\lib\\site-packages\\sklearn\\covariance\\_robust_covariance.py:183: RuntimeWarning: Determinant has increased; this should not happen: log(det) > log(previous_det) (-256.287694990117416 > -257.807771409202132). You may want to try with a higher value of support_fraction (current value: 0.501).\n",
      "  warnings.warn(\n",
      "C:\\WINDOWS\\system32\\myenv\\lib\\site-packages\\sklearn\\covariance\\_robust_covariance.py:183: RuntimeWarning: Determinant has increased; this should not happen: log(det) > log(previous_det) (-267.368322752877759 > -268.415712405967952). You may want to try with a higher value of support_fraction (current value: 0.501).\n",
      "  warnings.warn(\n",
      "C:\\WINDOWS\\system32\\myenv\\lib\\site-packages\\sklearn\\covariance\\_robust_covariance.py:183: RuntimeWarning: Determinant has increased; this should not happen: log(det) > log(previous_det) (-255.135808318455332 > -256.278887327101302). You may want to try with a higher value of support_fraction (current value: 0.501).\n",
      "  warnings.warn(\n",
      "C:\\WINDOWS\\system32\\myenv\\lib\\site-packages\\sklearn\\covariance\\_robust_covariance.py:183: RuntimeWarning: Determinant has increased; this should not happen: log(det) > log(previous_det) (-259.059131542724003 > -260.935789806984019). You may want to try with a higher value of support_fraction (current value: 0.501).\n",
      "  warnings.warn(\n",
      "C:\\WINDOWS\\system32\\myenv\\lib\\site-packages\\sklearn\\covariance\\_robust_covariance.py:183: RuntimeWarning: Determinant has increased; this should not happen: log(det) > log(previous_det) (-263.943028815119419 > -265.377540936195487). You may want to try with a higher value of support_fraction (current value: 0.501).\n",
      "  warnings.warn(\n",
      "C:\\WINDOWS\\system32\\myenv\\lib\\site-packages\\sklearn\\covariance\\_robust_covariance.py:183: RuntimeWarning: Determinant has increased; this should not happen: log(det) > log(previous_det) (-294.437999736203949 > -294.575442373239014). You may want to try with a higher value of support_fraction (current value: 0.501).\n",
      "  warnings.warn(\n",
      "C:\\WINDOWS\\system32\\myenv\\lib\\site-packages\\sklearn\\covariance\\_robust_covariance.py:183: RuntimeWarning: Determinant has increased; this should not happen: log(det) > log(previous_det) (-296.840388660104225 > -297.383797900924662). You may want to try with a higher value of support_fraction (current value: 0.501).\n",
      "  warnings.warn(\n",
      "C:\\WINDOWS\\system32\\myenv\\lib\\site-packages\\sklearn\\covariance\\_robust_covariance.py:183: RuntimeWarning: Determinant has increased; this should not happen: log(det) > log(previous_det) (-272.827990700638509 > -272.926363957058925). You may want to try with a higher value of support_fraction (current value: 0.501).\n",
      "  warnings.warn(\n",
      "C:\\WINDOWS\\system32\\myenv\\lib\\site-packages\\sklearn\\covariance\\_robust_covariance.py:183: RuntimeWarning: Determinant has increased; this should not happen: log(det) > log(previous_det) (-267.280837079782657 > -268.382319348387057). You may want to try with a higher value of support_fraction (current value: 0.501).\n",
      "  warnings.warn(\n",
      "C:\\WINDOWS\\system32\\myenv\\lib\\site-packages\\sklearn\\covariance\\_robust_covariance.py:183: RuntimeWarning: Determinant has increased; this should not happen: log(det) > log(previous_det) (-277.116966401316120 > -278.694491108881323). You may want to try with a higher value of support_fraction (current value: 0.501).\n",
      "  warnings.warn(\n",
      "C:\\WINDOWS\\system32\\myenv\\lib\\site-packages\\sklearn\\covariance\\_robust_covariance.py:183: RuntimeWarning: Determinant has increased; this should not happen: log(det) > log(previous_det) (-300.037099308506811 > -300.630518161548196). You may want to try with a higher value of support_fraction (current value: 0.501).\n",
      "  warnings.warn(\n",
      "C:\\WINDOWS\\system32\\myenv\\lib\\site-packages\\sklearn\\covariance\\_robust_covariance.py:183: RuntimeWarning: Determinant has increased; this should not happen: log(det) > log(previous_det) (-300.031130860191809 > -301.315266117710053). You may want to try with a higher value of support_fraction (current value: 0.501).\n",
      "  warnings.warn(\n",
      "C:\\WINDOWS\\system32\\myenv\\lib\\site-packages\\sklearn\\covariance\\_robust_covariance.py:183: RuntimeWarning: Determinant has increased; this should not happen: log(det) > log(previous_det) (-300.924413992653626 > -301.423050703630224). You may want to try with a higher value of support_fraction (current value: 0.501).\n",
      "  warnings.warn(\n",
      "C:\\WINDOWS\\system32\\myenv\\lib\\site-packages\\sklearn\\covariance\\_robust_covariance.py:183: RuntimeWarning: Determinant has increased; this should not happen: log(det) > log(previous_det) (-270.173167888206137 > -270.235683865803821). You may want to try with a higher value of support_fraction (current value: 0.501).\n",
      "  warnings.warn(\n",
      "C:\\WINDOWS\\system32\\myenv\\lib\\site-packages\\sklearn\\covariance\\_robust_covariance.py:183: RuntimeWarning: Determinant has increased; this should not happen: log(det) > log(previous_det) (-259.486262161867273 > -261.206036664868520). You may want to try with a higher value of support_fraction (current value: 0.501).\n",
      "  warnings.warn(\n"
     ]
    },
    {
     "name": "stderr",
     "output_type": "stream",
     "text": [
      "C:\\WINDOWS\\system32\\myenv\\lib\\site-packages\\sklearn\\covariance\\_robust_covariance.py:183: RuntimeWarning: Determinant has increased; this should not happen: log(det) > log(previous_det) (-254.694011999550497 > -256.288519413762856). You may want to try with a higher value of support_fraction (current value: 0.501).\n",
      "  warnings.warn(\n",
      "C:\\WINDOWS\\system32\\myenv\\lib\\site-packages\\sklearn\\covariance\\_robust_covariance.py:183: RuntimeWarning: Determinant has increased; this should not happen: log(det) > log(previous_det) (-259.541861741746516 > -261.247749222077346). You may want to try with a higher value of support_fraction (current value: 0.501).\n",
      "  warnings.warn(\n",
      "C:\\WINDOWS\\system32\\myenv\\lib\\site-packages\\sklearn\\covariance\\_robust_covariance.py:183: RuntimeWarning: Determinant has increased; this should not happen: log(det) > log(previous_det) (-254.905745090442423 > -256.278192147932430). You may want to try with a higher value of support_fraction (current value: 0.501).\n",
      "  warnings.warn(\n",
      "C:\\WINDOWS\\system32\\myenv\\lib\\site-packages\\sklearn\\covariance\\_robust_covariance.py:183: RuntimeWarning: Determinant has increased; this should not happen: log(det) > log(previous_det) (-254.824148753853706 > -256.220191200317117). You may want to try with a higher value of support_fraction (current value: 0.501).\n",
      "  warnings.warn(\n",
      "C:\\WINDOWS\\system32\\myenv\\lib\\site-packages\\sklearn\\covariance\\_robust_covariance.py:183: RuntimeWarning: Determinant has increased; this should not happen: log(det) > log(previous_det) (-256.256263185274804 > -257.681138823921003). You may want to try with a higher value of support_fraction (current value: 0.501).\n",
      "  warnings.warn(\n",
      "C:\\WINDOWS\\system32\\myenv\\lib\\site-packages\\sklearn\\covariance\\_robust_covariance.py:183: RuntimeWarning: Determinant has increased; this should not happen: log(det) > log(previous_det) (-258.970500686860305 > -260.622966127124016). You may want to try with a higher value of support_fraction (current value: 0.501).\n",
      "  warnings.warn(\n",
      "C:\\WINDOWS\\system32\\myenv\\lib\\site-packages\\sklearn\\covariance\\_robust_covariance.py:183: RuntimeWarning: Determinant has increased; this should not happen: log(det) > log(previous_det) (-293.578979770764931 > -295.368990324398908). You may want to try with a higher value of support_fraction (current value: 0.501).\n",
      "  warnings.warn(\n",
      "C:\\WINDOWS\\system32\\myenv\\lib\\site-packages\\sklearn\\covariance\\_robust_covariance.py:183: RuntimeWarning: Determinant has increased; this should not happen: log(det) > log(previous_det) (-297.904396554459140 > -298.529931256121529). You may want to try with a higher value of support_fraction (current value: 0.501).\n",
      "  warnings.warn(\n",
      "C:\\WINDOWS\\system32\\myenv\\lib\\site-packages\\sklearn\\covariance\\_robust_covariance.py:183: RuntimeWarning: Determinant has increased; this should not happen: log(det) > log(previous_det) (-281.510441904652907 > -281.934911517047851). You may want to try with a higher value of support_fraction (current value: 0.501).\n",
      "  warnings.warn(\n",
      "C:\\WINDOWS\\system32\\myenv\\lib\\site-packages\\sklearn\\covariance\\_robust_covariance.py:183: RuntimeWarning: Determinant has increased; this should not happen: log(det) > log(previous_det) (-259.072224550448595 > -261.187385848296628). You may want to try with a higher value of support_fraction (current value: 0.501).\n",
      "  warnings.warn(\n",
      "C:\\WINDOWS\\system32\\myenv\\lib\\site-packages\\sklearn\\covariance\\_robust_covariance.py:183: RuntimeWarning: Determinant has increased; this should not happen: log(det) > log(previous_det) (-255.178285363700638 > -256.110503568832826). You may want to try with a higher value of support_fraction (current value: 0.501).\n",
      "  warnings.warn(\n",
      "C:\\WINDOWS\\system32\\myenv\\lib\\site-packages\\sklearn\\covariance\\_robust_covariance.py:183: RuntimeWarning: Determinant has increased; this should not happen: log(det) > log(previous_det) (-254.085885063429487 > -255.178613994412416). You may want to try with a higher value of support_fraction (current value: 0.501).\n",
      "  warnings.warn(\n",
      "C:\\WINDOWS\\system32\\myenv\\lib\\site-packages\\sklearn\\covariance\\_robust_covariance.py:183: RuntimeWarning: Determinant has increased; this should not happen: log(det) > log(previous_det) (-259.083599101437869 > -260.879604799935976). You may want to try with a higher value of support_fraction (current value: 0.501).\n",
      "  warnings.warn(\n",
      "C:\\WINDOWS\\system32\\myenv\\lib\\site-packages\\sklearn\\covariance\\_robust_covariance.py:183: RuntimeWarning: Determinant has increased; this should not happen: log(det) > log(previous_det) (-277.196799952077924 > -278.595218881114874). You may want to try with a higher value of support_fraction (current value: 0.501).\n",
      "  warnings.warn(\n",
      "C:\\WINDOWS\\system32\\myenv\\lib\\site-packages\\sklearn\\covariance\\_robust_covariance.py:183: RuntimeWarning: Determinant has increased; this should not happen: log(det) > log(previous_det) (-255.639221920666898 > -257.139818141068304). You may want to try with a higher value of support_fraction (current value: 0.501).\n",
      "  warnings.warn(\n",
      "C:\\WINDOWS\\system32\\myenv\\lib\\site-packages\\sklearn\\covariance\\_robust_covariance.py:183: RuntimeWarning: Determinant has increased; this should not happen: log(det) > log(previous_det) (-301.494401888221262 > -302.088572823394145). You may want to try with a higher value of support_fraction (current value: 0.501).\n",
      "  warnings.warn(\n",
      "C:\\WINDOWS\\system32\\myenv\\lib\\site-packages\\sklearn\\covariance\\_robust_covariance.py:183: RuntimeWarning: Determinant has increased; this should not happen: log(det) > log(previous_det) (-264.091366286018513 > -265.462417826646060). You may want to try with a higher value of support_fraction (current value: 0.501).\n",
      "  warnings.warn(\n",
      "C:\\WINDOWS\\system32\\myenv\\lib\\site-packages\\sklearn\\covariance\\_robust_covariance.py:183: RuntimeWarning: Determinant has increased; this should not happen: log(det) > log(previous_det) (-263.699675374423748 > -265.474755862766415). You may want to try with a higher value of support_fraction (current value: 0.501).\n",
      "  warnings.warn(\n",
      "C:\\WINDOWS\\system32\\myenv\\lib\\site-packages\\sklearn\\covariance\\_robust_covariance.py:183: RuntimeWarning: Determinant has increased; this should not happen: log(det) > log(previous_det) (-263.747771350000505 > -265.581819891389557). You may want to try with a higher value of support_fraction (current value: 0.501).\n",
      "  warnings.warn(\n",
      "C:\\WINDOWS\\system32\\myenv\\lib\\site-packages\\sklearn\\covariance\\_robust_covariance.py:183: RuntimeWarning: Determinant has increased; this should not happen: log(det) > log(previous_det) (-263.615413668655776 > -265.452558564791673). You may want to try with a higher value of support_fraction (current value: 0.501).\n",
      "  warnings.warn(\n",
      "C:\\WINDOWS\\system32\\myenv\\lib\\site-packages\\sklearn\\covariance\\_robust_covariance.py:183: RuntimeWarning: Determinant has increased; this should not happen: log(det) > log(previous_det) (-263.717701202477770 > -265.570330861209925). You may want to try with a higher value of support_fraction (current value: 0.501).\n",
      "  warnings.warn(\n",
      "C:\\WINDOWS\\system32\\myenv\\lib\\site-packages\\sklearn\\covariance\\_robust_covariance.py:183: RuntimeWarning: Determinant has increased; this should not happen: log(det) > log(previous_det) (-280.843560306367579 > -280.907021917075099). You may want to try with a higher value of support_fraction (current value: 0.501).\n",
      "  warnings.warn(\n",
      "C:\\WINDOWS\\system32\\myenv\\lib\\site-packages\\sklearn\\covariance\\_robust_covariance.py:183: RuntimeWarning: Determinant has increased; this should not happen: log(det) > log(previous_det) (-307.983345514077655 > -308.511553115552942). You may want to try with a higher value of support_fraction (current value: 0.501).\n",
      "  warnings.warn(\n",
      "C:\\WINDOWS\\system32\\myenv\\lib\\site-packages\\sklearn\\covariance\\_robust_covariance.py:183: RuntimeWarning: Determinant has increased; this should not happen: log(det) > log(previous_det) (-299.209551854190693 > -299.911425323852768). You may want to try with a higher value of support_fraction (current value: 0.501).\n",
      "  warnings.warn(\n",
      "C:\\WINDOWS\\system32\\myenv\\lib\\site-packages\\sklearn\\covariance\\_robust_covariance.py:183: RuntimeWarning: Determinant has increased; this should not happen: log(det) > log(previous_det) (-297.513739004071738 > -298.322316049644542). You may want to try with a higher value of support_fraction (current value: 0.501).\n",
      "  warnings.warn(\n",
      "C:\\WINDOWS\\system32\\myenv\\lib\\site-packages\\sklearn\\covariance\\_robust_covariance.py:183: RuntimeWarning: Determinant has increased; this should not happen: log(det) > log(previous_det) (-297.668924311984767 > -299.367620020473964). You may want to try with a higher value of support_fraction (current value: 0.501).\n",
      "  warnings.warn(\n"
     ]
    },
    {
     "data": {
      "text/html": [
       "<style>#sk-container-id-4 {color: black;background-color: white;}#sk-container-id-4 pre{padding: 0;}#sk-container-id-4 div.sk-toggleable {background-color: white;}#sk-container-id-4 label.sk-toggleable__label {cursor: pointer;display: block;width: 100%;margin-bottom: 0;padding: 0.3em;box-sizing: border-box;text-align: center;}#sk-container-id-4 label.sk-toggleable__label-arrow:before {content: \"▸\";float: left;margin-right: 0.25em;color: #696969;}#sk-container-id-4 label.sk-toggleable__label-arrow:hover:before {color: black;}#sk-container-id-4 div.sk-estimator:hover label.sk-toggleable__label-arrow:before {color: black;}#sk-container-id-4 div.sk-toggleable__content {max-height: 0;max-width: 0;overflow: hidden;text-align: left;background-color: #f0f8ff;}#sk-container-id-4 div.sk-toggleable__content pre {margin: 0.2em;color: black;border-radius: 0.25em;background-color: #f0f8ff;}#sk-container-id-4 input.sk-toggleable__control:checked~div.sk-toggleable__content {max-height: 200px;max-width: 100%;overflow: auto;}#sk-container-id-4 input.sk-toggleable__control:checked~label.sk-toggleable__label-arrow:before {content: \"▾\";}#sk-container-id-4 div.sk-estimator input.sk-toggleable__control:checked~label.sk-toggleable__label {background-color: #d4ebff;}#sk-container-id-4 div.sk-label input.sk-toggleable__control:checked~label.sk-toggleable__label {background-color: #d4ebff;}#sk-container-id-4 input.sk-hidden--visually {border: 0;clip: rect(1px 1px 1px 1px);clip: rect(1px, 1px, 1px, 1px);height: 1px;margin: -1px;overflow: hidden;padding: 0;position: absolute;width: 1px;}#sk-container-id-4 div.sk-estimator {font-family: monospace;background-color: #f0f8ff;border: 1px dotted black;border-radius: 0.25em;box-sizing: border-box;margin-bottom: 0.5em;}#sk-container-id-4 div.sk-estimator:hover {background-color: #d4ebff;}#sk-container-id-4 div.sk-parallel-item::after {content: \"\";width: 100%;border-bottom: 1px solid gray;flex-grow: 1;}#sk-container-id-4 div.sk-label:hover label.sk-toggleable__label {background-color: #d4ebff;}#sk-container-id-4 div.sk-serial::before {content: \"\";position: absolute;border-left: 1px solid gray;box-sizing: border-box;top: 0;bottom: 0;left: 50%;z-index: 0;}#sk-container-id-4 div.sk-serial {display: flex;flex-direction: column;align-items: center;background-color: white;padding-right: 0.2em;padding-left: 0.2em;position: relative;}#sk-container-id-4 div.sk-item {position: relative;z-index: 1;}#sk-container-id-4 div.sk-parallel {display: flex;align-items: stretch;justify-content: center;background-color: white;position: relative;}#sk-container-id-4 div.sk-item::before, #sk-container-id-4 div.sk-parallel-item::before {content: \"\";position: absolute;border-left: 1px solid gray;box-sizing: border-box;top: 0;bottom: 0;left: 50%;z-index: -1;}#sk-container-id-4 div.sk-parallel-item {display: flex;flex-direction: column;z-index: 1;position: relative;background-color: white;}#sk-container-id-4 div.sk-parallel-item:first-child::after {align-self: flex-end;width: 50%;}#sk-container-id-4 div.sk-parallel-item:last-child::after {align-self: flex-start;width: 50%;}#sk-container-id-4 div.sk-parallel-item:only-child::after {width: 0;}#sk-container-id-4 div.sk-dashed-wrapped {border: 1px dashed gray;margin: 0 0.4em 0.5em 0.4em;box-sizing: border-box;padding-bottom: 0.4em;background-color: white;}#sk-container-id-4 div.sk-label label {font-family: monospace;font-weight: bold;display: inline-block;line-height: 1.2em;}#sk-container-id-4 div.sk-label-container {text-align: center;}#sk-container-id-4 div.sk-container {/* jupyter's `normalize.less` sets `[hidden] { display: none; }` but bootstrap.min.css set `[hidden] { display: none !important; }` so we also need the `!important` here to be able to override the default hidden behavior on the sphinx rendered scikit-learn.org. See: https://github.com/scikit-learn/scikit-learn/issues/21755 */display: inline-block !important;position: relative;}#sk-container-id-4 div.sk-text-repr-fallback {display: none;}</style><div id=\"sk-container-id-4\" class=\"sk-top-container\"><div class=\"sk-text-repr-fallback\"><pre>MinCovDet(random_state=42)</pre><b>In a Jupyter environment, please rerun this cell to show the HTML representation or trust the notebook. <br />On GitHub, the HTML representation is unable to render, please try loading this page with nbviewer.org.</b></div><div class=\"sk-container\" hidden><div class=\"sk-item\"><div class=\"sk-estimator sk-toggleable\"><input class=\"sk-toggleable__control sk-hidden--visually\" id=\"sk-estimator-id-4\" type=\"checkbox\" checked><label for=\"sk-estimator-id-4\" class=\"sk-toggleable__label sk-toggleable__label-arrow\">MinCovDet</label><div class=\"sk-toggleable__content\"><pre>MinCovDet(random_state=42)</pre></div></div></div></div></div>"
      ],
      "text/plain": [
       "MinCovDet(random_state=42)"
      ]
     },
     "execution_count": 287,
     "metadata": {},
     "output_type": "execute_result"
    }
   ],
   "source": [
    "model_mcd = joblib.load('model_mcd.sav')\n",
    "model_mcd.fit(test_one_hot_data_mcd)"
   ]
  },
  {
   "cell_type": "code",
   "execution_count": 288,
   "id": "aa9942e5",
   "metadata": {},
   "outputs": [],
   "source": [
    "#correct_cov_pca = model_mcd.correct_covariance(test_one_hot_data_mcd)"
   ]
  },
  {
   "cell_type": "code",
   "execution_count": 289,
   "id": "6841effe",
   "metadata": {},
   "outputs": [
    {
     "data": {
      "text/plain": [
       "array([-1.29824784e-16, -1.46795280e-16,  4.45704817e-17, -9.56523324e-17,\n",
       "        7.94420863e-17, -5.29601597e-17,  5.67374000e-17,  1.45820191e-17,\n",
       "       -2.79377893e-16,  1.72514495e-16,  3.57769173e-16,  1.66464508e-16,\n",
       "        3.80224546e-16, -1.03467822e-16, -5.28276854e-16, -3.07685034e-16,\n",
       "        7.65026596e-17, -5.33856533e-16,  4.13753095e-16, -4.86185495e-16,\n",
       "       -4.69126354e-16,  8.29068548e-16, -2.00178963e-16,  1.92961332e-15,\n",
       "        4.26826926e-16])"
      ]
     },
     "execution_count": 289,
     "metadata": {},
     "output_type": "execute_result"
    },
    {
     "data": {
      "text/plain": [
       "array([[ 1.00000000e+00, -3.51816049e-16, -1.93765757e-16,\n",
       "        -1.14218571e-16, -4.37332230e-17,  2.47033611e-17,\n",
       "         9.59372955e-18,  5.63409990e-18, -2.03891377e-17,\n",
       "        -1.27998476e-17, -7.39721857e-18,  6.12659115e-18,\n",
       "        -8.49054915e-18,  7.87986000e-19,  9.55433025e-18,\n",
       "        -2.30091912e-17, -1.15045956e-17, -2.07117195e-17,\n",
       "         2.24083519e-17, -4.25512440e-18,  6.46148520e-18,\n",
       "        -3.11746961e-18, -1.41837480e-18, -6.57968310e-18,\n",
       "         2.71855170e-18],\n",
       "       [ 3.51816049e-16,  1.00000000e+00, -4.44569841e-16,\n",
       "        -3.12697410e-16, -1.75358737e-16,  5.35809588e-16,\n",
       "        -4.56192999e-16,  3.80476167e-17, -1.38610089e-16,\n",
       "         3.74826955e-16,  1.84982654e-16, -1.45007515e-16,\n",
       "         6.52760259e-17,  6.32577884e-17, -9.97354711e-17,\n",
       "         1.91176035e-16,  3.71902112e-16,  4.41211577e-16,\n",
       "        -2.48439234e-16, -2.20476163e-16, -5.75117148e-16,\n",
       "        -7.68887975e-17,  3.23795213e-17,  1.48919711e-16,\n",
       "         8.32667268e-17],\n",
       "       [ 1.93765757e-16, -2.68323125e-17,  1.00000000e+00,\n",
       "        -2.86288954e-16, -2.04987723e-16,  5.34911830e-16,\n",
       "         2.32446163e-16, -2.38292457e-17, -6.56851292e-17,\n",
       "        -1.67852389e-16, -1.03765681e-16,  3.06943766e-16,\n",
       "        -3.03806219e-17, -5.08545979e-16,  4.40448279e-16,\n",
       "        -4.61758516e-17, -1.67085329e-16, -6.67451307e-16,\n",
       "         1.21304975e-16,  1.74776347e-16,  4.79377047e-16,\n",
       "        -1.47970476e-16, -4.17498118e-17, -3.26065577e-16,\n",
       "         1.31838984e-16],\n",
       "       [ 1.14218571e-16,  8.06431070e-17,  1.43869267e-16,\n",
       "         1.00000000e+00,  4.79082079e-16, -9.03326146e-16,\n",
       "         4.07983111e-16, -5.74987437e-17,  4.57545911e-17,\n",
       "        -7.32321463e-17, -1.85142932e-17,  1.27591523e-16,\n",
       "        -1.13956482e-16,  1.55762236e-16, -2.07126531e-16,\n",
       "        -1.09806203e-16,  7.44816346e-18, -2.86856924e-16,\n",
       "        -3.77422092e-18,  2.35591597e-16,  2.42440407e-17,\n",
       "         1.25794098e-16, -1.19757017e-16,  2.86411847e-16,\n",
       "        -3.19189120e-16],\n",
       "       [ 4.37332230e-17, -2.79208130e-16,  7.22126147e-16,\n",
       "        -6.26776172e-17,  1.00000000e+00, -8.29709300e-16,\n",
       "         2.82889134e-16, -1.16933090e-16, -2.39410617e-17,\n",
       "        -5.48315423e-17,  3.09219859e-16, -5.76559163e-16,\n",
       "         1.48218967e-16, -1.04633219e-17, -5.26615333e-16,\n",
       "         2.24806033e-16, -4.05334164e-16,  2.21213699e-16,\n",
       "         5.55941456e-16,  1.99992156e-16,  1.07362438e-15,\n",
       "        -3.34105606e-16, -2.62100954e-16, -5.63967099e-16,\n",
       "         1.94289029e-16],\n",
       "       [-2.47033611e-17, -4.15602707e-16, -4.87521090e-16,\n",
       "         3.32638662e-16,  1.15664488e-15,  1.00000000e+00,\n",
       "        -1.00514431e-15, -6.76435437e-16,  1.56626268e-16,\n",
       "         3.71098101e-16,  7.67029381e-16,  3.33566935e-16,\n",
       "        -1.57385520e-16, -5.98320511e-16, -3.42268496e-17,\n",
       "         2.54532966e-16,  1.25486753e-15,  2.72505298e-16,\n",
       "         4.94648950e-16, -1.10691511e-16, -3.27715606e-16,\n",
       "        -5.30435595e-16,  9.86152728e-17,  3.34165373e-18,\n",
       "         1.24900090e-16],\n",
       "       [-9.59372955e-18,  3.20572689e-16, -8.75994631e-17,\n",
       "        -3.69474868e-16,  2.74114957e-16,  1.10461633e-15,\n",
       "         1.00000000e+00,  2.79317418e-16, -6.51225394e-16,\n",
       "        -5.37253219e-16, -1.20008145e-16, -3.13541115e-16,\n",
       "        -8.03303169e-17,  4.92515123e-16, -4.76800186e-16,\n",
       "         1.40607550e-16, -6.59202060e-16, -4.85159380e-16,\n",
       "        -2.93094731e-16,  1.84059350e-16,  2.97806445e-16,\n",
       "        -8.96721664e-17, -3.21456882e-16, -1.71572000e-17,\n",
       "        -7.63278329e-17],\n",
       "       [-5.63409990e-18, -2.19569223e-16,  1.62365132e-16,\n",
       "         3.71758671e-17,  6.70948284e-16,  5.59132931e-16,\n",
       "        -7.98223682e-16,  1.00000000e+00,  8.25490075e-17,\n",
       "         5.19074782e-16,  3.94479979e-16, -5.65660739e-16,\n",
       "         2.39252545e-16,  3.29018303e-16,  4.11972229e-17,\n",
       "         3.04890047e-16, -5.58920239e-16, -2.77457713e-16,\n",
       "        -1.71522758e-16,  3.29283861e-17, -1.97563517e-16,\n",
       "         8.44165058e-17, -7.20529590e-16,  1.04100663e-16,\n",
       "         2.77555756e-17],\n",
       "       [ 2.03891377e-17, -1.67391236e-16,  4.10487518e-16,\n",
       "         2.75690594e-16,  1.23928932e-17, -1.63462372e-16,\n",
       "         5.33388290e-16, -3.05456865e-16,  1.00000000e+00,\n",
       "        -1.12310848e-16, -1.18761188e-16,  4.45443082e-16,\n",
       "         1.52215315e-16, -2.12004460e-16,  1.82013752e-16,\n",
       "        -3.20430367e-16, -1.97965732e-16, -7.50346136e-16,\n",
       "        -1.13337176e-16, -2.97814983e-16,  5.09949845e-16,\n",
       "         4.92962389e-16,  1.30671429e-16,  9.02113759e-17,\n",
       "        -3.60822483e-16],\n",
       "       [ 1.27998476e-17,  4.07331020e-17, -1.32290383e-16,\n",
       "        -1.71020697e-16, -3.31624229e-16,  5.14230871e-16,\n",
       "         8.92140689e-16, -1.00992825e-16,  7.03724814e-16,\n",
       "         1.00000000e+00,  1.33850784e-16,  3.54052969e-18,\n",
       "        -1.72329751e-16, -1.19913462e-16,  6.54193386e-16,\n",
       "         4.30230848e-16, -8.59172398e-17,  1.71394975e-17,\n",
       "         3.27374162e-16, -2.27663001e-16,  2.29285683e-16,\n",
       "         2.08729165e-16, -8.05968348e-17, -1.35381637e-16,\n",
       "         1.38777878e-16],\n",
       "       [ 7.39721857e-18, -2.11836879e-17,  1.74574351e-17,\n",
       "        -2.89185386e-16, -2.23471563e-16, -3.11636270e-16,\n",
       "         3.29415213e-16,  9.32070350e-17,  3.40256062e-16,\n",
       "        -3.27052722e-16,  1.00000000e+00, -4.80123641e-16,\n",
       "         2.91834634e-16, -2.52122028e-16, -8.14520831e-17,\n",
       "        -2.68066494e-16,  2.70150945e-16, -2.16198741e-18,\n",
       "         1.31815390e-16,  3.72877994e-16,  5.59378069e-16,\n",
       "         1.64539751e-16,  3.35720118e-16, -2.22121151e-16,\n",
       "        -4.85722573e-16],\n",
       "       [-6.12659115e-18,  3.00715602e-16, -5.29242251e-16,\n",
       "         2.96808123e-17,  5.54284870e-16, -1.10566025e-16,\n",
       "         6.79419727e-16,  6.02936270e-16, -5.06302719e-16,\n",
       "         2.05927596e-16, -2.22087701e-16,  1.00000000e+00,\n",
       "         1.67960514e-16, -3.73269578e-16, -4.12898631e-17,\n",
       "        -1.68712725e-16, -1.36228316e-16, -4.90655976e-17,\n",
       "         5.20132065e-17, -1.66775392e-16,  1.51421487e-16,\n",
       "        -3.30481287e-16, -6.72857655e-16, -5.29269493e-16,\n",
       "        -2.08166817e-16],\n",
       "       [ 8.49054915e-18,  1.29869522e-17, -3.08182083e-16,\n",
       "         3.79323878e-16, -4.84160873e-16,  5.93077242e-16,\n",
       "         3.20493734e-16,  9.12409483e-18, -3.54518357e-17,\n",
       "         3.41667074e-16, -4.64579803e-16, -3.20131367e-16,\n",
       "         1.00000000e+00, -2.74318901e-16, -4.44635976e-17,\n",
       "         4.02428709e-16,  1.45912445e-16, -3.24548450e-16,\n",
       "         3.09832943e-17,  3.63691176e-17,  5.03284003e-16,\n",
       "        -1.84211899e-16,  2.40065081e-16,  4.50398179e-16,\n",
       "        -2.01227923e-16],\n",
       "       [-7.87986000e-19, -1.33626130e-17,  2.38378641e-16,\n",
       "         1.48350249e-16,  1.15679450e-16,  1.68030154e-16,\n",
       "        -2.38100052e-16, -2.74308866e-17,  4.83786991e-17,\n",
       "        -6.97896526e-16, -4.24408002e-16,  2.09695210e-17,\n",
       "         5.59675173e-18,  1.00000000e+00,  5.10114246e-16,\n",
       "         8.04508531e-17,  3.29546580e-16, -6.23802057e-17,\n",
       "         2.05327725e-16, -6.35920421e-16, -2.58176210e-16,\n",
       "        -1.08731883e-16,  1.02355313e-16, -1.50002217e-16,\n",
       "        -3.33066907e-16],\n",
       "       [-9.55433025e-18,  1.40832099e-16, -2.72747400e-16,\n",
       "        -6.17889249e-17,  3.88293433e-16,  1.35956158e-16,\n",
       "         4.51751472e-16,  1.52684800e-16, -3.19009745e-16,\n",
       "        -1.16670676e-16,  6.80755702e-17,  3.08656520e-17,\n",
       "        -7.63186084e-17, -8.35229310e-17,  1.00000000e+00,\n",
       "        -2.67694614e-16,  5.44754872e-16,  9.44114853e-17,\n",
       "         1.69864285e-17, -5.53290673e-16, -2.64290357e-16,\n",
       "         4.18278076e-16,  4.93884531e-17, -4.76768184e-16,\n",
       "        -3.88578059e-16],\n",
       "       [ 2.30091912e-17, -7.88760653e-17, -1.33374353e-16,\n",
       "         7.70608276e-17, -6.63673464e-16,  2.72403797e-17,\n",
       "        -2.21489621e-16, -5.27173571e-16,  3.17330443e-16,\n",
       "        -2.75516243e-16,  1.60180535e-16,  4.75324862e-17,\n",
       "         1.25065894e-16, -1.66087885e-16, -3.48656033e-16,\n",
       "         1.00000000e+00, -2.18835422e-16,  3.36637752e-16,\n",
       "         1.96408821e-16, -2.56885398e-16, -2.50136840e-16,\n",
       "         3.19796598e-16,  2.03953964e-16, -1.41434070e-16,\n",
       "        -2.32452946e-16],\n",
       "       [ 1.15045956e-17, -2.36651568e-16,  2.78725738e-17,\n",
       "         5.22516836e-17, -6.02859769e-17, -1.01948166e-15,\n",
       "         5.64754654e-16,  5.75941622e-16, -4.94297129e-16,\n",
       "         1.34799055e-16, -2.24200400e-16,  3.71257142e-16,\n",
       "        -6.16074056e-17,  8.16182820e-17, -5.46340095e-16,\n",
       "         1.93523054e-16,  1.00000000e+00,  2.85748547e-16,\n",
       "        -4.53896759e-16,  5.52077114e-16, -1.25360191e-16,\n",
       "         9.35332731e-17, -8.41389525e-16,  3.72783002e-17,\n",
       "         2.63677968e-16],\n",
       "       [ 2.07117195e-17, -2.70585931e-16,  3.26194806e-16,\n",
       "        -1.19630717e-16,  4.36290319e-17, -4.82316211e-16,\n",
       "        -1.56516517e-17, -1.24830131e-16,  6.35445174e-16,\n",
       "         1.68468205e-16, -8.08740630e-18, -3.26480075e-16,\n",
       "         6.02049930e-16,  1.45544930e-16,  2.53475265e-16,\n",
       "        -7.97799836e-17, -4.16902012e-16,  1.00000000e+00,\n",
       "         2.12402126e-16, -3.33104759e-16,  4.07917913e-16,\n",
       "        -1.88042126e-16,  2.44972827e-16,  1.07277866e-16,\n",
       "         1.38777878e-16],\n",
       "       [-2.24083519e-17,  3.57804570e-17,  1.72472618e-16,\n",
       "         1.01461376e-16, -2.94467230e-16, -8.16119377e-16,\n",
       "         3.46676972e-16, -4.51618506e-17,  6.77128059e-17,\n",
       "        -6.08387092e-16, -8.19543315e-17,  5.94355732e-17,\n",
       "         5.92113531e-17,  1.48790780e-16,  3.42396225e-17,\n",
       "         1.12057099e-16,  2.98062059e-16, -2.58360472e-16,\n",
       "         1.00000000e+00, -4.67910870e-16, -1.15998200e-16,\n",
       "        -1.31710432e-16,  7.43931166e-17, -1.85424686e-16,\n",
       "         3.53883589e-16],\n",
       "       [ 4.25512440e-18,  1.07635741e-16, -2.46356707e-16,\n",
       "         4.30353532e-17, -5.45374838e-16,  1.16461622e-17,\n",
       "        -2.75346055e-16, -1.69641055e-16,  5.82932089e-16,\n",
       "         7.73957167e-16, -6.12416682e-16,  1.21572213e-16,\n",
       "        -2.29770849e-16,  3.48311547e-16,  1.87293133e-16,\n",
       "         2.44129087e-16, -6.06321568e-16,  5.60465039e-16,\n",
       "         4.16633903e-16,  1.00000000e+00, -3.70355083e-16,\n",
       "         7.54407042e-16,  6.38129280e-17,  6.54966055e-17,\n",
       "         0.00000000e+00],\n",
       "       [-6.46148520e-18,  1.79036023e-16, -3.63924429e-16,\n",
       "         6.31432829e-16, -9.29148488e-16,  4.94642867e-16,\n",
       "         4.41209797e-18,  1.66322290e-16, -5.36374600e-16,\n",
       "         5.02272478e-16, -9.22076927e-17, -1.64515278e-16,\n",
       "        -2.09514460e-16,  5.99039614e-16,  1.67719940e-16,\n",
       "         1.79617759e-16, -5.44064323e-17, -5.25930244e-17,\n",
       "        -6.72264475e-17,  5.31603007e-16,  1.00000000e+00,\n",
       "        -5.05688954e-16,  1.47956949e-16, -1.52515127e-16,\n",
       "        -4.44089210e-16],\n",
       "       [ 3.11746961e-18, -4.14177303e-16,  6.83217072e-16,\n",
       "         2.32554013e-16,  5.64717650e-16,  5.60703589e-16,\n",
       "         5.67432056e-16, -6.54222558e-17, -5.97537501e-16,\n",
       "         2.09026974e-16, -1.92971259e-16, -2.30099074e-17,\n",
       "        -3.83210558e-16, -3.95064809e-16,  4.37543244e-16,\n",
       "        -2.56502919e-16,  1.76105495e-17, -1.89336336e-17,\n",
       "        -1.22566308e-16, -4.50089813e-16,  2.86481691e-16,\n",
       "         1.00000000e+00, -2.24799961e-16,  1.80294452e-16,\n",
       "         0.00000000e+00],\n",
       "       [ 1.41837480e-18,  2.78236339e-16, -3.40080258e-16,\n",
       "        -1.56061683e-16,  3.29062305e-16, -3.26383031e-16,\n",
       "         2.37076224e-16,  7.80431384e-16, -1.65001138e-16,\n",
       "        -1.28129906e-17, -4.65133040e-16,  6.15292617e-16,\n",
       "        -2.57492501e-16,  1.62867346e-17,  1.63101134e-16,\n",
       "        -4.27736728e-16,  9.96954497e-16, -4.79367920e-16,\n",
       "        -1.18984968e-17, -7.17559688e-17, -2.99717134e-16,\n",
       "         1.54396867e-16,  1.00000000e+00, -9.33858264e-17,\n",
       "         3.67761377e-16],\n",
       "       [ 6.57968310e-18,  2.30042858e-17,  1.74728803e-16,\n",
       "        -3.17411597e-16,  6.57683772e-17,  2.58269931e-16,\n",
       "         3.57306888e-16,  5.28333196e-16,  1.19886407e-16,\n",
       "        -4.04811645e-16,  7.86841461e-16,  4.89740093e-16,\n",
       "        -2.25189153e-16,  4.06226303e-16, -1.23149487e-16,\n",
       "        -1.78199593e-16,  1.05134307e-16,  1.90501956e-16,\n",
       "         1.58751797e-16, -9.01606652e-17,  4.57603895e-17,\n",
       "         5.33366885e-16, -6.87317004e-18,  1.00000000e+00,\n",
       "        -3.88578059e-16],\n",
       "       [-2.71855170e-18,  6.26585608e-18, -1.88525659e-16,\n",
       "         2.99031683e-17,  8.30909482e-17, -4.74968425e-16,\n",
       "        -6.89714643e-16, -1.74469058e-16,  2.11101498e-16,\n",
       "         1.17688082e-16, -9.01440057e-18, -3.16627939e-17,\n",
       "         5.11875305e-16, -4.18632719e-16,  6.55105328e-16,\n",
       "         2.77376871e-16, -3.24825251e-16, -3.58409779e-16,\n",
       "        -4.03763042e-18,  1.89991047e-16, -1.76021395e-17,\n",
       "         2.11319752e-16, -5.60821704e-16, -1.62553119e-16,\n",
       "         1.00000000e+00]])"
      ]
     },
     "execution_count": 289,
     "metadata": {},
     "output_type": "execute_result"
    }
   ],
   "source": [
    "np.mean(data_array_test,axis = 0)\n",
    "sp.linalg.pinv(np.cov(data_array_test, rowvar=False))\n",
    "inv_cormat_pca_test = sp.linalg.pinv(model_mcd.covariance_)\n",
    "mu_vect_pca_test = model_mcd.location_"
   ]
  },
  {
   "cell_type": "code",
   "execution_count": 290,
   "id": "7ebdf292",
   "metadata": {},
   "outputs": [],
   "source": [
    "mahal_dist_test = []\n",
    "for i in range(data_array_test.shape[0]):\n",
    "    x_minus_mu_pca_test = data_array_test[i,:] - mu_vect_pca_test\n",
    "    left_term_pca_test = np.dot(x_minus_mu_pca_test, inv_cormat_mcd_pca)\n",
    "    mahal = np.dot(left_term_pca_test, x_minus_mu_pca_test.T)\n",
    "    mahal = np.sqrt(mahal)\n",
    "    mahal_dist_test.append(mahal)"
   ]
  },
  {
   "cell_type": "code",
   "execution_count": 293,
   "id": "ac0915ab",
   "metadata": {},
   "outputs": [
    {
     "data": {
      "text/plain": [
       "Variable 0    -1.208717e-16\n",
       "Variable 1    -1.424615e-16\n",
       "Variable 2     5.673248e-17\n",
       "Variable 3    -1.197686e-16\n",
       "Variable 4     1.002274e-16\n",
       "Variable 5    -5.484139e-17\n",
       "Variable 6     6.555753e-17\n",
       "Variable 7     2.836624e-17\n",
       "Variable 8    -2.962696e-16\n",
       "Variable 9     1.569598e-16\n",
       "Variable 10    3.433891e-16\n",
       "Variable 11    1.531777e-16\n",
       "Variable 12    4.135167e-16\n",
       "Variable 13   -1.027488e-16\n",
       "Variable 14   -4.790742e-16\n",
       "Variable 15   -2.729462e-16\n",
       "Variable 16    8.320763e-17\n",
       "Variable 17   -5.236723e-16\n",
       "Variable 18    4.294333e-16\n",
       "Variable 19   -4.923118e-16\n",
       "Variable 20   -4.883721e-16\n",
       "Variable 21    8.210450e-16\n",
       "Variable 22   -2.174745e-16\n",
       "Variable 23    1.926068e-15\n",
       "Variable 24    4.248632e-16\n",
       "p-value_mcd    0.000000e+00\n",
       "dtype: float64"
      ]
     },
     "execution_count": 293,
     "metadata": {},
     "output_type": "execute_result"
    },
    {
     "name": "stdout",
     "output_type": "stream",
     "text": [
      "22544\n"
     ]
    }
   ],
   "source": [
    "np.mean(test_one_hot_data_mcd)\n",
    "\n",
    "from scipy.stats import chi2\n",
    "test_one_hot_data_mcd['p-value_mcd'] = 1 - chi2.cdf(mahal_dist_test, df = 24) #pdf(x, degreeOfFreedom = Number of Variables)\n",
    "\n",
    "#Calculate number of p-value less than 0.01\n",
    "print(np.count_nonzero(test_one_hot_data_mcd['p-value_mcd'] < 0.01))"
   ]
  },
  {
   "cell_type": "code",
   "execution_count": 295,
   "id": "8ac943a6",
   "metadata": {},
   "outputs": [],
   "source": [
    "pvalue_mcd = test_one_hot_data_mcd['p-value_mcd']\n",
    "bi_pvalue_mcd = pvalue_mcd\n",
    "\n",
    "bi_pvalue_mcd = np.where(pvalue_mcd < 0.01, 1, bi_pvalue_mcd)\n",
    "bi_pvalue_mcd = np.where(pvalue_mcd >= 0.01, 0, bi_pvalue_mcd)"
   ]
  },
  {
   "cell_type": "code",
   "execution_count": 296,
   "id": "cede2c4a",
   "metadata": {},
   "outputs": [
    {
     "name": "stdout",
     "output_type": "stream",
     "text": [
      "Training accuracy: 0.5692\n",
      "[[    0  9711]\n",
      " [    0 12833]]\n"
     ]
    }
   ],
   "source": [
    "from sklearn.metrics import accuracy_score\n",
    "\n",
    "test_acc_maha_mcd = accuracy_score(kdd_test_y['class_binary'], bi_pvalue_mcd)\n",
    "print(\"Training accuracy: {:.4f}\".format(test_acc_maha_mcd))\n",
    "cm_maha_mcd_test = confusion_matrix (kdd_test_y[\"class_binary\"], bi_pvalue_mcd)\n",
    "print(cm_maha_mcd_test)"
   ]
  },
  {
   "cell_type": "code",
   "execution_count": 297,
   "id": "61ab813a",
   "metadata": {},
   "outputs": [
    {
     "data": {
      "text/plain": [
       "Text(0.5, 1.0, 'Seaborn Confusion Matrix with labels\\n\\n')"
      ]
     },
     "execution_count": 297,
     "metadata": {},
     "output_type": "execute_result"
    },
    {
     "data": {
      "text/plain": [
       "Text(0.5, 15.0, '\\nPredicted Values')"
      ]
     },
     "execution_count": 297,
     "metadata": {},
     "output_type": "execute_result"
    },
    {
     "data": {
      "text/plain": [
       "Text(33.0, 0.5, 'Actual Values ')"
      ]
     },
     "execution_count": 297,
     "metadata": {},
     "output_type": "execute_result"
    },
    {
     "data": {
      "text/plain": [
       "[Text(0.5, 0, 'False'), Text(1.5, 0, 'True')]"
      ]
     },
     "execution_count": 297,
     "metadata": {},
     "output_type": "execute_result"
    },
    {
     "data": {
      "text/plain": [
       "[Text(0, 0.5, 'False'), Text(0, 1.5, 'True')]"
      ]
     },
     "execution_count": 297,
     "metadata": {},
     "output_type": "execute_result"
    },
    {
     "data": {
      "image/png": "[encoded data removed]",
      "text/plain": [
       "<Figure size 432x288 with 2 Axes>"
      ]
     },
     "metadata": {
      "needs_background": "light"
     },
     "output_type": "display_data"
    },
    {
     "name": "stdout",
     "output_type": "stream",
     "text": [
      "0.5692423704755145\n",
      "1.0\n"
     ]
    }
   ],
   "source": [
    "ax = sns.heatmap(cm_maha_mcd_test, annot=True, cmap='Blues')\n",
    "\n",
    "ax.set_title('Seaborn Confusion Matrix with labels\\n\\n');\n",
    "ax.set_xlabel('\\nPredicted Values')\n",
    "ax.set_ylabel('Actual Values ');\n",
    "\n",
    "## Ticket labels - List must be in alphabetical order\n",
    "ax.xaxis.set_ticklabels(['False','True'])\n",
    "ax.yaxis.set_ticklabels(['False','True'])\n",
    "\n",
    "## Display the visualization of the Confusion Matrix.\n",
    "plt.show()\n",
    "\n",
    "## FP,FN,TP,TN\n",
    "TN_maha_mcd = cm_maha_mcd_test[0][0]\n",
    "FN_maha_mcd = cm_maha_mcd_test[1][0]\n",
    "FP_maha_mcd = cm_maha_mcd_test[0][1]\n",
    "TP_maha_mcd = cm_maha_mcd_test[1][1]\n",
    "\n",
    "##Precision and Recall\n",
    "Precision_maha_mcd_test = TP_maha_mcd/(TP_maha_mcd+FP_maha_mcd)\n",
    "Recall_maha_mcd_test = TP_maha_mcd/(TP_maha_mcd+FN_maha_mcd)\n",
    "\n",
    "print (Precision_maha_mcd_test)\n",
    "print (Recall_maha_mcd_test)"
   ]
  },
  {
   "cell_type": "markdown",
   "id": "08f97fed",
   "metadata": {},
   "source": [
    "# Testing Result Comparison\n",
    "## Without PCA"
   ]
  },
  {
   "cell_type": "code",
   "execution_count": 302,
   "id": "020cb586",
   "metadata": {},
   "outputs": [
    {
     "data": {
      "text/html": [
       "<div>\n",
       "<style scoped>\n",
       "    .dataframe tbody tr th:only-of-type {\n",
       "        vertical-align: middle;\n",
       "    }\n",
       "\n",
       "    .dataframe tbody tr th {\n",
       "        vertical-align: top;\n",
       "    }\n",
       "\n",
       "    .dataframe thead th {\n",
       "        text-align: right;\n",
       "    }\n",
       "</style>\n",
       "<table border=\"1\" class=\"dataframe\">\n",
       "  <thead>\n",
       "    <tr style=\"text-align: right;\">\n",
       "      <th></th>\n",
       "      <th>Algorithm</th>\n",
       "      <th>accuracy</th>\n",
       "      <th>recall</th>\n",
       "      <th>precision</th>\n",
       "    </tr>\n",
       "  </thead>\n",
       "  <tbody>\n",
       "    <tr>\n",
       "      <th>0</th>\n",
       "      <td>Mahalanobis</td>\n",
       "      <td>0.889061</td>\n",
       "      <td>0.971012</td>\n",
       "      <td>0.854078</td>\n",
       "    </tr>\n",
       "    <tr>\n",
       "      <th>1</th>\n",
       "      <td>Maha + MCD</td>\n",
       "      <td>0.834723</td>\n",
       "      <td>0.497078</td>\n",
       "      <td>0.808287</td>\n",
       "    </tr>\n",
       "    <tr>\n",
       "      <th>2</th>\n",
       "      <td>IF</td>\n",
       "      <td>0.491661</td>\n",
       "      <td>0.857633</td>\n",
       "      <td>0.533262</td>\n",
       "    </tr>\n",
       "    <tr>\n",
       "      <th>3</th>\n",
       "      <td>OCSVM</td>\n",
       "      <td>0.359785</td>\n",
       "      <td>0.520845</td>\n",
       "      <td>0.446553</td>\n",
       "    </tr>\n",
       "    <tr>\n",
       "      <th>4</th>\n",
       "      <td>Kmean</td>\n",
       "      <td>0.543071</td>\n",
       "      <td>0.198940</td>\n",
       "      <td>0.991841</td>\n",
       "    </tr>\n",
       "  </tbody>\n",
       "</table>\n",
       "</div>"
      ],
      "text/plain": [
       "     Algorithm  accuracy    recall  precision\n",
       "0  Mahalanobis  0.889061  0.971012   0.854078\n",
       "1   Maha + MCD  0.834723  0.497078   0.808287\n",
       "2           IF  0.491661  0.857633   0.533262\n",
       "3        OCSVM  0.359785  0.520845   0.446553\n",
       "4        Kmean  0.543071  0.198940   0.991841"
      ]
     },
     "execution_count": 302,
     "metadata": {},
     "output_type": "execute_result"
    }
   ],
   "source": [
    "header_cmp = ['Algorithm','accuracy', 'recall', 'precision']\n",
    "table_cmp = [['Mahalanobis', test_acc_maha_ss, Recall_maha_test_ss, Precision_maha_test_ss],\n",
    "             ['Maha + MCD', test_acc_maha_mcd_ss, Recall_maha_mcd_test_ss, Precision_maha_mcd_test_ss],\n",
    "             ['IF', test_acc_if_ss, Recall_if_test_ss, Precision_if_test_ss],\n",
    "             ['OCSVM', test_acc_svm_ss, Recall_svm_test_ss, Precision_svm_test_ss],\n",
    "             ['Kmean', test_acc_kmean_ss, Recall_kmean_test_ss, Precision_kmean_test_ss]]\n",
    "comparison_ss_test = pd.DataFrame(table_cmp,columns=header_cmp)\n",
    "comparison_ss_test"
   ]
  },
  {
   "cell_type": "markdown",
   "id": "3b59ff16",
   "metadata": {},
   "source": [
    "## After PCA"
   ]
  },
  {
   "cell_type": "code",
   "execution_count": 303,
   "id": "f324039b",
   "metadata": {},
   "outputs": [
    {
     "data": {
      "text/html": [
       "<div>\n",
       "<style scoped>\n",
       "    .dataframe tbody tr th:only-of-type {\n",
       "        vertical-align: middle;\n",
       "    }\n",
       "\n",
       "    .dataframe tbody tr th {\n",
       "        vertical-align: top;\n",
       "    }\n",
       "\n",
       "    .dataframe thead th {\n",
       "        text-align: right;\n",
       "    }\n",
       "</style>\n",
       "<table border=\"1\" class=\"dataframe\">\n",
       "  <thead>\n",
       "    <tr style=\"text-align: right;\">\n",
       "      <th></th>\n",
       "      <th>Algorithm</th>\n",
       "      <th>accuracy</th>\n",
       "      <th>recall</th>\n",
       "      <th>precision</th>\n",
       "    </tr>\n",
       "  </thead>\n",
       "  <tbody>\n",
       "    <tr>\n",
       "      <th>0</th>\n",
       "      <td>Mahalanobis</td>\n",
       "      <td>0.462828</td>\n",
       "      <td>0.073327</td>\n",
       "      <td>0.811907</td>\n",
       "    </tr>\n",
       "    <tr>\n",
       "      <th>1</th>\n",
       "      <td>Maha + MCD</td>\n",
       "      <td>0.569242</td>\n",
       "      <td>1.000000</td>\n",
       "      <td>0.569242</td>\n",
       "    </tr>\n",
       "    <tr>\n",
       "      <th>2</th>\n",
       "      <td>IF</td>\n",
       "      <td>0.529941</td>\n",
       "      <td>0.915297</td>\n",
       "      <td>0.552597</td>\n",
       "    </tr>\n",
       "    <tr>\n",
       "      <th>3</th>\n",
       "      <td>OCSVM</td>\n",
       "      <td>0.595236</td>\n",
       "      <td>0.604613</td>\n",
       "      <td>0.656986</td>\n",
       "    </tr>\n",
       "    <tr>\n",
       "      <th>4</th>\n",
       "      <td>Kmean</td>\n",
       "      <td>0.748847</td>\n",
       "      <td>0.700771</td>\n",
       "      <td>0.831530</td>\n",
       "    </tr>\n",
       "  </tbody>\n",
       "</table>\n",
       "</div>"
      ],
      "text/plain": [
       "     Algorithm  accuracy    recall  precision\n",
       "0  Mahalanobis  0.462828  0.073327   0.811907\n",
       "1   Maha + MCD  0.569242  1.000000   0.569242\n",
       "2           IF  0.529941  0.915297   0.552597\n",
       "3        OCSVM  0.595236  0.604613   0.656986\n",
       "4        Kmean  0.748847  0.700771   0.831530"
      ]
     },
     "execution_count": 303,
     "metadata": {},
     "output_type": "execute_result"
    }
   ],
   "source": [
    "header_cmp = ['Algorithm','accuracy', 'recall', 'precision']\n",
    "table_cmp = [['Mahalanobis', test_acc_maha, Recall_maha_test, Precision_maha_test],\n",
    "             ['Maha + MCD', test_acc_maha_mcd, Recall_maha_mcd_test, Precision_maha_mcd_test],\n",
    "             ['IF', test_acc_if, Recall_if_test, Precision_if_test],\n",
    "             ['OCSVM', test_acc_svm, Recall_svm_test, Precision_svm_test],\n",
    "             ['Kmean', test_acc_kmean, Recall_kmean_test, Precision_kmean_test]]\n",
    "comparison_test = pd.DataFrame(table_cmp,columns=header_cmp)\n",
    "comparison_test"
   ]
  },
  {
   "cell_type": "code",
   "execution_count": null,
   "id": "5ba121cf",
   "metadata": {},
   "outputs": [],
   "source": []
  },
  {
   "cell_type": "code",
   "execution_count": null,
   "id": "ecbcd1c7",
   "metadata": {},
   "outputs": [],
   "source": []
  },
  {
   "cell_type": "code",
   "execution_count": null,
   "id": "27e834a8",
   "metadata": {},
   "outputs": [],
   "source": []
  }
 ],
 "metadata": {
  "kernelspec": {
   "display_name": "Python 3 (ipykernel)",
   "language": "python",
   "name": "python3"
  },
  "language_info": {
   "codemirror_mode": {
    "name": "ipython",
    "version": 3
   },
   "file_extension": ".py",
   "mimetype": "text/x-python",
   "name": "python",
   "nbconvert_exporter": "python",
   "pygments_lexer": "ipython3",
   "version": "3.10.11"
  }
 },
 "nbformat": 4,
 "nbformat_minor": 5
}
